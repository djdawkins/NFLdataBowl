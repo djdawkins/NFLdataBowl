{
 "cells": [
  {
   "cell_type": "markdown",
   "metadata": {},
   "source": [
    "# Imports:"
   ]
  },
  {
   "cell_type": "markdown",
   "metadata": {},
   "source": [
    "# Animation stuff"
   ]
  },
  {
   "cell_type": "code",
   "execution_count": 56,
   "metadata": {},
   "outputs": [],
   "source": [
    "colors = {\n",
    "    'ARI':\"#97233F\", \n",
    "    'ATL':\"#A71930\", \n",
    "    'BAL':'#241773', \n",
    "    'BUF':\"#00338D\", \n",
    "    'CAR':\"#0085CA\", \n",
    "    'CHI':\"#C83803\", \n",
    "    'CIN':\"#FB4F14\", \n",
    "    'CLE':\"#311D00\", \n",
    "    'DAL':'#003594',\n",
    "    'DEN':\"#FB4F14\", \n",
    "    'DET':\"#0076B6\", \n",
    "    'GB':\"#203731\", \n",
    "    'HOU':\"#03202F\", \n",
    "    'IND':\"#002C5F\", \n",
    "    'JAX':\"#9F792C\", \n",
    "    'KC':\"#E31837\", \n",
    "    'LA':\"#003594\", \n",
    "    'LAC':\"#0080C6\", \n",
    "    'LV':\"#000000\",\n",
    "    'MIA':\"#008E97\", \n",
    "    'MIN':\"#4F2683\", \n",
    "    'NE':\"#002244\", \n",
    "    'NO':\"#D3BC8D\", \n",
    "    'NYG':\"#0B2265\", \n",
    "    'NYJ':\"#125740\", \n",
    "    'PHI':\"#004C54\", \n",
    "    'PIT':\"#FFB612\", \n",
    "    'SEA':\"#69BE28\", \n",
    "    'SF':\"#AA0000\",\n",
    "    'TB':'#D50A0A', \n",
    "    'TEN':\"#4B92DB\", \n",
    "    'WAS':\"#5A1414\", \n",
    "    'football':'#CBB67C'\n",
    "}"
   ]
  },
  {
   "cell_type": "code",
   "execution_count": 57,
   "metadata": {},
   "outputs": [],
   "source": [
    "#TODO:\n",
    "# Add Useful Player Labels\n",
    "# Add ability to keep or remove the extra stuff (line markers etc)\n",
    "# Add Team Colors to dict\n",
    "# Turn into Function \n",
    "\n",
    "def animate_play(tracking_df, play_df,players,pffScoutingData, gameId,playId):\n",
    "    selected_play_df = play_df[(play_df.playId==playId)&(play_df.gameId==gameId)].copy()\n",
    "    # selected_play_df = tracking_df\n",
    "    \n",
    "    # tracking_players_df = tracking_df\n",
    "    tracking_players_df = pd.merge(tracking_df,players,how=\"left\",on = \"nflId\")\n",
    "    tracking_players_df = pd.merge(tracking_players_df,pffScoutingData,how=\"left\",on = [\"nflId\",\"playId\",\"gameId\"])\n",
    "    selected_tracking_df = tracking_players_df[(tracking_players_df.playId==playId)&(tracking_players_df.gameId==gameId)].copy()\n",
    "\n",
    "    # selected_tracking_df = tracking_df\n",
    "    sorted_frame_list = selected_tracking_df.frameId.unique()\n",
    "    sorted_frame_list.sort()\n",
    "\n",
    "    # get play General information \n",
    "    line_of_scrimmage = selected_play_df.absoluteYardlineNumber.values[0]\n",
    "    first_down_marker = line_of_scrimmage + selected_play_df.yardsToGo.values[0]\n",
    "    down = selected_play_df.down.values[0]\n",
    "    quarter = selected_play_df.quarter.values[0]\n",
    "    gameClock = selected_play_df.gameClock.values[0]\n",
    "    playDescription = selected_play_df.playDescription.values[0]\n",
    "    # Handle case where we have a really long Play Description and want to split it into two lines\n",
    "    if len(playDescription.split(\" \"))>15 and len(playDescription)>115:\n",
    "        playDescription = \" \".join(playDescription.split(\" \")[0:16]) + \"<br>\" + \" \".join(playDescription.split(\" \")[16:])\n",
    "\n",
    "    # initialize plotly start and stop buttons for animation\n",
    "    updatemenus_dict = [\n",
    "        {\n",
    "            \"buttons\": [\n",
    "                {\n",
    "                    \"args\": [None, {\"frame\": {\"duration\": 100, \"redraw\": False},\n",
    "                                \"fromcurrent\": True, \"transition\": {\"duration\": 0}}],\n",
    "                    \"label\": \"Play\",\n",
    "                    \"method\": \"animate\"\n",
    "                },\n",
    "                {\n",
    "                    \"args\": [[None], {\"frame\": {\"duration\": 0, \"redraw\": False},\n",
    "                                      \"mode\": \"immediate\",\n",
    "                                      \"transition\": {\"duration\": 0}}],\n",
    "                    \"label\": \"Pause\",\n",
    "                    \"method\": \"animate\"\n",
    "                }\n",
    "            ],\n",
    "            \"direction\": \"left\",\n",
    "            \"pad\": {\"r\": 10, \"t\": 87},\n",
    "            \"showactive\": False,\n",
    "            \"type\": \"buttons\",\n",
    "            \"x\": 0.1,\n",
    "            \"xanchor\": \"right\",\n",
    "            \"y\": 0,\n",
    "            \"yanchor\": \"top\"\n",
    "        }\n",
    "    ]\n",
    "    # initialize plotly slider to show frame position in animation\n",
    "    sliders_dict = {\n",
    "        \"active\": 0,\n",
    "        \"yanchor\": \"top\",\n",
    "        \"xanchor\": \"left\",\n",
    "        \"currentvalue\": {\n",
    "            \"font\": {\"size\": 20},\n",
    "            \"prefix\": \"Frame:\",\n",
    "            \"visible\": True,\n",
    "            \"xanchor\": \"right\"\n",
    "        },\n",
    "        \"transition\": {\"duration\": 300, \"easing\": \"cubic-in-out\"},\n",
    "        \"pad\": {\"b\": 10, \"t\": 50},\n",
    "        \"len\": 0.9,\n",
    "        \"x\": 0.1,\n",
    "        \"y\": 0,\n",
    "        \"steps\": []\n",
    "    }\n",
    "\n",
    "\n",
    "    frames = []\n",
    "    for frameId in sorted_frame_list:\n",
    "        data = []\n",
    "        # Add Numbers to Field \n",
    "        data.append(\n",
    "            go.Scatter(\n",
    "                x=np.arange(20,110,10), \n",
    "                y=[5]*len(np.arange(20,110,10)),\n",
    "                mode='text',\n",
    "                text=list(map(str,list(np.arange(20, 61, 10)-10)+list(np.arange(40, 9, -10)))),\n",
    "                textfont_size = 30,\n",
    "                textfont_family = \"Courier New, monospace\",\n",
    "                textfont_color = \"#ffffff\",\n",
    "                showlegend=False,\n",
    "                hoverinfo='none'\n",
    "            )\n",
    "        )\n",
    "        data.append(\n",
    "            go.Scatter(\n",
    "                x=np.arange(20,110,10), \n",
    "                y=[53.5-5]*len(np.arange(20,110,10)),\n",
    "                mode='text',\n",
    "                text=list(map(str,list(np.arange(20, 61, 10)-10)+list(np.arange(40, 9, -10)))),\n",
    "                textfont_size = 30,\n",
    "                textfont_family = \"Courier New, monospace\",\n",
    "                textfont_color = \"#ffffff\",\n",
    "                showlegend=False,\n",
    "                hoverinfo='none'\n",
    "            )\n",
    "        )\n",
    "        # Add line of scrimage \n",
    "        data.append(\n",
    "            go.Scatter(\n",
    "                x=[line_of_scrimmage,line_of_scrimmage], \n",
    "                y=[0,53.5],\n",
    "                line_dash='dash',\n",
    "                line_color='blue',\n",
    "                showlegend=False,\n",
    "                hoverinfo='none'\n",
    "            )\n",
    "        )\n",
    "        # Add First down line \n",
    "        data.append(\n",
    "            go.Scatter(\n",
    "                x=[first_down_marker,first_down_marker], \n",
    "                y=[0,53.5],\n",
    "                line_dash='dash',\n",
    "                line_color='yellow',\n",
    "                showlegend=False,\n",
    "                hoverinfo='none'\n",
    "            )\n",
    "        )\n",
    "        # Plot Players\n",
    "        for team in selected_tracking_df.team.unique():\n",
    "            plot_df = selected_tracking_df[(selected_tracking_df.team==team)&(selected_tracking_df.frameId==frameId)].copy()\n",
    "            if team != \"football\":\n",
    "                hover_text_array=[]\n",
    "                for nflId in plot_df.nflId:\n",
    "                    selected_player_df = plot_df[plot_df.nflId==nflId]\n",
    "                    hover_text_array.append(\"nflId:{}<br>displayName:{}<br>Position:{}<br>Role:{}\".format(selected_player_df[\"nflId\"].values[0],\n",
    "                                                                                      selected_player_df[\"displayName\"].values[0],\n",
    "                                                                                      selected_player_df[\"pff_positionLinedUp\"].values[0],\n",
    "                                                                                      selected_player_df[\"pff_role\"].values[0],\n",
    "                                                                                      selected_player_df[\"pff_blockType\"].values[0]))\n",
    "                data.append(go.Scatter(x=plot_df[\"x\"], y=plot_df[\"y\"],mode = 'markers',marker_color=colors[team],name=team,hovertext=hover_text_array,hoverinfo=\"text\"))\n",
    "            else:\n",
    "                data.append(go.Scatter(x=plot_df[\"x\"], y=plot_df[\"y\"],mode = 'markers',marker_color=colors[team],name=team,hoverinfo='none'))\n",
    "        # add frame to slider\n",
    "        slider_step = {\"args\": [\n",
    "            [frameId],\n",
    "            {\"frame\": {\"duration\": 100, \"redraw\": False},\n",
    "             \"mode\": \"immediate\",\n",
    "             \"transition\": {\"duration\": 0}}\n",
    "        ],\n",
    "            \"label\": str(frameId),\n",
    "            \"method\": \"animate\"}\n",
    "        sliders_dict[\"steps\"].append(slider_step)\n",
    "        frames.append(go.Frame(data=data, name=str(frameId)))\n",
    "\n",
    "    scale=10\n",
    "    layout = go.Layout(\n",
    "        autosize=False,\n",
    "        width=120*scale,\n",
    "        height=60*scale,\n",
    "        xaxis=dict(range=[0, 120], autorange=False, tickmode='array',tickvals=np.arange(10, 111, 5).tolist(),showticklabels=False),\n",
    "        yaxis=dict(range=[0, 53.3], autorange=False,showgrid=False,showticklabels=False),\n",
    "\n",
    "        plot_bgcolor='#00B140',\n",
    "        # Create title and add play description at the bottom of the chart for better visual appeal\n",
    "        title=f\"GameId: {gameId}, PlayId: {playId}<br>{gameClock} {quarter}Q\"+\"<br>\"*19+f\"{playDescription}\",\n",
    "        updatemenus=updatemenus_dict,\n",
    "        sliders = [sliders_dict]\n",
    "    )\n",
    "\n",
    "    fig = go.Figure(\n",
    "        data=frames[0][\"data\"],\n",
    "        layout= layout,\n",
    "        frames=frames[1:]\n",
    "    )\n",
    "    # Create First Down Markers \n",
    "    for y_val in [0,53]:\n",
    "        fig.add_annotation(\n",
    "                x=first_down_marker,\n",
    "                y=y_val,\n",
    "                text=str(down),\n",
    "                showarrow=False,\n",
    "                font=dict(\n",
    "                    family=\"Courier New, monospace\",\n",
    "                    size=16,\n",
    "                    color=\"black\"\n",
    "                    ),\n",
    "                align=\"center\",\n",
    "                bordercolor=\"black\",\n",
    "                borderwidth=2,\n",
    "                borderpad=4,\n",
    "                bgcolor=\"#ff7f0e\",\n",
    "                opacity=1\n",
    "                )\n",
    "\n",
    "    return fig"
   ]
  },
  {
   "cell_type": "markdown",
   "metadata": {},
   "source": [
    "# All data"
   ]
  },
  {
   "cell_type": "markdown",
   "metadata": {},
   "source": [
    "### Imports"
   ]
  },
  {
   "cell_type": "code",
   "execution_count": 58,
   "metadata": {},
   "outputs": [],
   "source": [
    "import pandas as pd\n",
    "import matplotlib as mpl\n",
    "import matplotlib.pyplot as plt\n",
    "import numpy as np\n",
    "import datetime\n",
    "import missingno as msno\n",
    "import seaborn as sns\n",
    "import plotly.graph_objects as go"
   ]
  },
  {
   "cell_type": "code",
   "execution_count": 59,
   "metadata": {},
   "outputs": [
    {
     "data": {
      "text/plain": [
       "'c:\\\\Users\\\\OaklandHillsMansion\\\\Desktop\\\\codeCAMP\\\\kaggle\\\\nfl_big_data_2023'"
      ]
     },
     "execution_count": 59,
     "metadata": {},
     "output_type": "execute_result"
    }
   ],
   "source": [
    "os.getcwd()"
   ]
  },
  {
   "cell_type": "markdown",
   "metadata": {},
   "source": [
    "### Read In csv's"
   ]
  },
  {
   "cell_type": "code",
   "execution_count": 60,
   "metadata": {},
   "outputs": [],
   "source": [
    "# Read In csvs\n",
    "games = pd.read_csv(\"./data/games.csv\")\n",
    "plays = pd.read_csv(\"./data/plays.csv\")\n",
    "players = pd.read_csv(\"./data/players.csv\")\n",
    "week1 = pd.read_csv(\"./data/week1.csv\")\n",
    "# week1_copy = pd.read_csv(\"./data/week1 copy.csv\")\n",
    "pffScoutingData = pd.read_csv(\"./data/pffScoutingData.csv\")\n",
    "# pffScoutingData = pd.read_csv(\"./data/pffScoutingData copy.csv\")"
   ]
  },
  {
   "cell_type": "code",
   "execution_count": 61,
   "metadata": {},
   "outputs": [],
   "source": [
    "# pffScoutingData['unit'] = np.where(pffScoutingData.pff_role.isin(['Coverage', 'Pass Rush']), \"def\", np.where(pffScoutingData.pff_role.isin(['Pass']), \"qb\", \"off\"))\n",
    "# pffScoutingData.to_csv('./data/pffScoutingData.csv', index=False)\n",
    "# pffScoutingData.head(9)"
   ]
  },
  {
   "cell_type": "code",
   "execution_count": 62,
   "metadata": {},
   "outputs": [],
   "source": [
    "# def create_adj_fac(week_df):\n",
    "#     test_df = week_df.copy()\n",
    "\n",
    "#     test_df = test_df[(test_df.team == 'football') & (test_df.frameId == 1)]\n",
    "\n",
    "#     test_df['x_fac'] = 100 - test_df.x \n",
    "#     test_df['y_fac'] = 25 - test_df.y\n",
    "\n",
    "#     # test_df = test_df[['gameId', 'playId','x_fac', 'y_fac', 'x_adj', 'y_adj']]\n",
    "#     test_df = test_df[['gameId', 'playId','x_fac', 'y_fac']]\n",
    "\n",
    "#     return test_df\n",
    "\n",
    "\n",
    "# def modify_week_file(week_df):\n",
    "\n",
    "#     test_df = create_adj_fac(week_df)\n",
    "#     test_out_df = week_df.copy()\n",
    "\n",
    "#     test_out_df = test_out_df.merge(test_df, how='inner', on=['gameId', 'playId'])\n",
    "\n",
    "#     test_out_df['x_adj'] = test_out_df.x + test_out_df['x_fac']\n",
    "#     test_out_df['y_adj'] = test_out_df.y + test_out_df['y_fac']\n",
    "\n",
    "#     test_out_df['nflId'] = test_out_df.nflId.astype('Int64')\n",
    "#     return test_out_df"
   ]
  },
  {
   "cell_type": "code",
   "execution_count": 63,
   "metadata": {},
   "outputs": [],
   "source": [
    "# print(week1_copy.shape)\n",
    "# week1 = modify_week_file(week1_copy)\n",
    "# week1.to_csv('./data/week1.csv', index=False)\n",
    "\n",
    "# print(week1.shape)\n",
    "# print(week1.nflId.unique())\n",
    "# len(week1.nflId.unique())\n",
    "# print(week1.gameId.unique())"
   ]
  },
  {
   "cell_type": "markdown",
   "metadata": {},
   "source": [
    "### Join all data"
   ]
  },
  {
   "cell_type": "code",
   "execution_count": 64,
   "metadata": {},
   "outputs": [],
   "source": [
    "joined_all = pd.merge(games,plays,how=\"inner\",on = \"gameId\")\n",
    "joined_all = pd.merge(joined_all,week1,how=\"inner\",on=[\"gameId\",\"playId\"])\n",
    "# left join on players to keep football records\n",
    "joined_all = pd.merge(joined_all,players,how=\"left\",on = \"nflId\")\n",
    "joined_all = pd.merge(joined_all, pffScoutingData, how=\"left\",on = [\"nflId\",\"playId\",\"gameId\"])"
   ]
  },
  {
   "cell_type": "markdown",
   "metadata": {},
   "source": [
    "### Focused df"
   ]
  },
  {
   "cell_type": "code",
   "execution_count": 65,
   "metadata": {},
   "outputs": [
    {
     "data": {
      "text/html": [
       "<div>\n",
       "<style scoped>\n",
       "    .dataframe tbody tr th:only-of-type {\n",
       "        vertical-align: middle;\n",
       "    }\n",
       "\n",
       "    .dataframe tbody tr th {\n",
       "        vertical-align: top;\n",
       "    }\n",
       "\n",
       "    .dataframe thead th {\n",
       "        text-align: right;\n",
       "    }\n",
       "</style>\n",
       "<table border=\"1\" class=\"dataframe\">\n",
       "  <thead>\n",
       "    <tr style=\"text-align: right;\">\n",
       "      <th></th>\n",
       "      <th>gameId</th>\n",
       "      <th>season</th>\n",
       "      <th>week</th>\n",
       "      <th>gameDate</th>\n",
       "      <th>gameTimeEastern</th>\n",
       "      <th>homeTeamAbbr</th>\n",
       "      <th>visitorTeamAbbr</th>\n",
       "      <th>playId</th>\n",
       "      <th>playDescription</th>\n",
       "      <th>quarter</th>\n",
       "      <th>...</th>\n",
       "      <th>pff_hurry</th>\n",
       "      <th>pff_sack</th>\n",
       "      <th>pff_beatenByDefender</th>\n",
       "      <th>pff_hitAllowed</th>\n",
       "      <th>pff_hurryAllowed</th>\n",
       "      <th>pff_sackAllowed</th>\n",
       "      <th>pff_nflIdBlockedPlayer</th>\n",
       "      <th>pff_blockType</th>\n",
       "      <th>pff_backFieldBlock</th>\n",
       "      <th>unit</th>\n",
       "    </tr>\n",
       "  </thead>\n",
       "  <tbody>\n",
       "    <tr>\n",
       "      <th>0</th>\n",
       "      <td>2021090900</td>\n",
       "      <td>2021</td>\n",
       "      <td>1</td>\n",
       "      <td>09/09/2021</td>\n",
       "      <td>20:20:00</td>\n",
       "      <td>TB</td>\n",
       "      <td>DAL</td>\n",
       "      <td>97</td>\n",
       "      <td>(13:33) (Shotgun) T.Brady pass incomplete deep...</td>\n",
       "      <td>1</td>\n",
       "      <td>...</td>\n",
       "      <td>NaN</td>\n",
       "      <td>NaN</td>\n",
       "      <td>NaN</td>\n",
       "      <td>NaN</td>\n",
       "      <td>NaN</td>\n",
       "      <td>NaN</td>\n",
       "      <td>NaN</td>\n",
       "      <td>NaN</td>\n",
       "      <td>NaN</td>\n",
       "      <td>qb</td>\n",
       "    </tr>\n",
       "    <tr>\n",
       "      <th>1</th>\n",
       "      <td>2021090900</td>\n",
       "      <td>2021</td>\n",
       "      <td>1</td>\n",
       "      <td>09/09/2021</td>\n",
       "      <td>20:20:00</td>\n",
       "      <td>TB</td>\n",
       "      <td>DAL</td>\n",
       "      <td>97</td>\n",
       "      <td>(13:33) (Shotgun) T.Brady pass incomplete deep...</td>\n",
       "      <td>1</td>\n",
       "      <td>...</td>\n",
       "      <td>NaN</td>\n",
       "      <td>NaN</td>\n",
       "      <td>NaN</td>\n",
       "      <td>NaN</td>\n",
       "      <td>NaN</td>\n",
       "      <td>NaN</td>\n",
       "      <td>NaN</td>\n",
       "      <td>NaN</td>\n",
       "      <td>NaN</td>\n",
       "      <td>qb</td>\n",
       "    </tr>\n",
       "    <tr>\n",
       "      <th>2</th>\n",
       "      <td>2021090900</td>\n",
       "      <td>2021</td>\n",
       "      <td>1</td>\n",
       "      <td>09/09/2021</td>\n",
       "      <td>20:20:00</td>\n",
       "      <td>TB</td>\n",
       "      <td>DAL</td>\n",
       "      <td>97</td>\n",
       "      <td>(13:33) (Shotgun) T.Brady pass incomplete deep...</td>\n",
       "      <td>1</td>\n",
       "      <td>...</td>\n",
       "      <td>NaN</td>\n",
       "      <td>NaN</td>\n",
       "      <td>NaN</td>\n",
       "      <td>NaN</td>\n",
       "      <td>NaN</td>\n",
       "      <td>NaN</td>\n",
       "      <td>NaN</td>\n",
       "      <td>NaN</td>\n",
       "      <td>NaN</td>\n",
       "      <td>qb</td>\n",
       "    </tr>\n",
       "    <tr>\n",
       "      <th>3</th>\n",
       "      <td>2021090900</td>\n",
       "      <td>2021</td>\n",
       "      <td>1</td>\n",
       "      <td>09/09/2021</td>\n",
       "      <td>20:20:00</td>\n",
       "      <td>TB</td>\n",
       "      <td>DAL</td>\n",
       "      <td>97</td>\n",
       "      <td>(13:33) (Shotgun) T.Brady pass incomplete deep...</td>\n",
       "      <td>1</td>\n",
       "      <td>...</td>\n",
       "      <td>NaN</td>\n",
       "      <td>NaN</td>\n",
       "      <td>NaN</td>\n",
       "      <td>NaN</td>\n",
       "      <td>NaN</td>\n",
       "      <td>NaN</td>\n",
       "      <td>NaN</td>\n",
       "      <td>NaN</td>\n",
       "      <td>NaN</td>\n",
       "      <td>qb</td>\n",
       "    </tr>\n",
       "    <tr>\n",
       "      <th>4</th>\n",
       "      <td>2021090900</td>\n",
       "      <td>2021</td>\n",
       "      <td>1</td>\n",
       "      <td>09/09/2021</td>\n",
       "      <td>20:20:00</td>\n",
       "      <td>TB</td>\n",
       "      <td>DAL</td>\n",
       "      <td>97</td>\n",
       "      <td>(13:33) (Shotgun) T.Brady pass incomplete deep...</td>\n",
       "      <td>1</td>\n",
       "      <td>...</td>\n",
       "      <td>NaN</td>\n",
       "      <td>NaN</td>\n",
       "      <td>NaN</td>\n",
       "      <td>NaN</td>\n",
       "      <td>NaN</td>\n",
       "      <td>NaN</td>\n",
       "      <td>NaN</td>\n",
       "      <td>NaN</td>\n",
       "      <td>NaN</td>\n",
       "      <td>qb</td>\n",
       "    </tr>\n",
       "  </tbody>\n",
       "</table>\n",
       "<p>5 rows × 75 columns</p>\n",
       "</div>"
      ],
      "text/plain": [
       "       gameId  season  week    gameDate gameTimeEastern homeTeamAbbr  \\\n",
       "0  2021090900    2021     1  09/09/2021        20:20:00           TB   \n",
       "1  2021090900    2021     1  09/09/2021        20:20:00           TB   \n",
       "2  2021090900    2021     1  09/09/2021        20:20:00           TB   \n",
       "3  2021090900    2021     1  09/09/2021        20:20:00           TB   \n",
       "4  2021090900    2021     1  09/09/2021        20:20:00           TB   \n",
       "\n",
       "  visitorTeamAbbr  playId                                    playDescription  \\\n",
       "0             DAL      97  (13:33) (Shotgun) T.Brady pass incomplete deep...   \n",
       "1             DAL      97  (13:33) (Shotgun) T.Brady pass incomplete deep...   \n",
       "2             DAL      97  (13:33) (Shotgun) T.Brady pass incomplete deep...   \n",
       "3             DAL      97  (13:33) (Shotgun) T.Brady pass incomplete deep...   \n",
       "4             DAL      97  (13:33) (Shotgun) T.Brady pass incomplete deep...   \n",
       "\n",
       "   quarter  ...  pff_hurry  pff_sack pff_beatenByDefender pff_hitAllowed  \\\n",
       "0        1  ...        NaN       NaN                  NaN            NaN   \n",
       "1        1  ...        NaN       NaN                  NaN            NaN   \n",
       "2        1  ...        NaN       NaN                  NaN            NaN   \n",
       "3        1  ...        NaN       NaN                  NaN            NaN   \n",
       "4        1  ...        NaN       NaN                  NaN            NaN   \n",
       "\n",
       "  pff_hurryAllowed  pff_sackAllowed pff_nflIdBlockedPlayer  pff_blockType  \\\n",
       "0              NaN              NaN                    NaN            NaN   \n",
       "1              NaN              NaN                    NaN            NaN   \n",
       "2              NaN              NaN                    NaN            NaN   \n",
       "3              NaN              NaN                    NaN            NaN   \n",
       "4              NaN              NaN                    NaN            NaN   \n",
       "\n",
       "   pff_backFieldBlock unit  \n",
       "0                 NaN   qb  \n",
       "1                 NaN   qb  \n",
       "2                 NaN   qb  \n",
       "3                 NaN   qb  \n",
       "4                 NaN   qb  \n",
       "\n",
       "[5 rows x 75 columns]"
      ]
     },
     "execution_count": 65,
     "metadata": {},
     "output_type": "execute_result"
    }
   ],
   "source": [
    "id = 2021090900\n",
    "eda_df = joined_all[(joined_all.gameId==id)]\n",
    "\n",
    "eda_df.head()"
   ]
  },
  {
   "cell_type": "code",
   "execution_count": 66,
   "metadata": {},
   "outputs": [
    {
     "data": {
      "text/plain": [
       "PP    0.542224\n",
       "SW    0.110139\n",
       "PA    0.102903\n",
       "CL    0.077258\n",
       "PT    0.073182\n",
       "PU    0.025005\n",
       "NB    0.022806\n",
       "CH    0.016853\n",
       "SR    0.013464\n",
       "BH    0.008884\n",
       "UP    0.007282\n",
       "Name: pff_blockType, dtype: float64"
      ]
     },
     "execution_count": 66,
     "metadata": {},
     "output_type": "execute_result"
    }
   ],
   "source": [
    "eda_df.pff_blockType.value_counts()/eda_df.pff_blockType.value_counts().sum()"
   ]
  },
  {
   "cell_type": "code",
   "execution_count": 67,
   "metadata": {},
   "outputs": [
    {
     "name": "stderr",
     "output_type": "stream",
     "text": [
      "c:\\Python310\\lib\\site-packages\\seaborn\\_decorators.py:36: FutureWarning:\n",
      "\n",
      "Pass the following variables as keyword args: x, y. From version 0.12, the only valid positional argument will be `data`, and passing other arguments without an explicit keyword will result in an error or misinterpretation.\n",
      "\n"
     ]
    },
    {
     "data": {
      "text/plain": [
       "<AxesSubplot:ylabel='pff_blockType'>"
      ]
     },
     "execution_count": 67,
     "metadata": {},
     "output_type": "execute_result"
    },
    {
     "data": {
      "image/png": "[encoded data removed]",
      "text/plain": [
       "<Figure size 432x288 with 1 Axes>"
      ]
     },
     "metadata": {
      "needs_background": "light"
     },
     "output_type": "display_data"
    }
   ],
   "source": [
    "sns.barplot(eda_df.pff_blockType.value_counts().index, eda_df.pff_blockType.value_counts())"
   ]
  },
  {
   "cell_type": "markdown",
   "metadata": {},
   "source": [
    "## Beginning"
   ]
  },
  {
   "cell_type": "markdown",
   "metadata": {},
   "source": [
    "### Configs"
   ]
  },
  {
   "cell_type": "code",
   "execution_count": 68,
   "metadata": {},
   "outputs": [],
   "source": [
    "gameId_num = 2021090900\n",
    "playId_num = 187\n",
    "matchup_framId_num = 20\n",
    "indc_framId_num = 30"
   ]
  },
  {
   "cell_type": "markdown",
   "metadata": {},
   "source": [
    "### Focused df"
   ]
  },
  {
   "cell_type": "code",
   "execution_count": 69,
   "metadata": {},
   "outputs": [],
   "source": [
    "def get_focused_df(joined_all, gameId_num):\n",
    "    focused_df = joined_all[(joined_all.gameId==gameId_num)].copy()\n",
    "    # focused_df = joined_all.copy()\n",
    "    # focused_df.head()\n",
    "    return focused_df"
   ]
  },
  {
   "cell_type": "markdown",
   "metadata": {},
   "source": [
    "### Get o & d line frames"
   ]
  },
  {
   "cell_type": "code",
   "execution_count": 98,
   "metadata": {},
   "outputs": [],
   "source": [
    "def get_od_line_df(focused_df):\n",
    "    o_line_df = focused_df[~(focused_df.pff_blockType.isna())][['nflId', 'playId', 'pff_blockType', 'pff_nflIdBlockedPlayer', 'x', 'y', 'frameId', 'displayName']]\n",
    "    o_line_df = o_line_df[o_line_df.pff_blockType != 'CH'][['nflId', 'playId', 'pff_blockType', 'pff_nflIdBlockedPlayer', 'x', 'y', 'frameId', 'displayName']]\n",
    "    # o_line_df = focused_df[~(focused_df.pff_blockType.isna())][['nflId', 'playId', 'pff_blockType', 'pff_nflIdBlockedPlayer', 'x', 'y', 'frameId', 'displayName']]\n",
    "    d_line_df = focused_df[focused_df.pff_role == 'Pass Rush'][['nflId', 'playId', 'x', 'y', 'frameId', 'displayName']]\n",
    "    return o_line_df, d_line_df"
   ]
  },
  {
   "cell_type": "markdown",
   "metadata": {},
   "source": [
    "### Delta % - Blockers vs Rushers"
   ]
  },
  {
   "cell_type": "code",
   "execution_count": 71,
   "metadata": {},
   "outputs": [],
   "source": [
    "# o_num_blockers =  o_line_df.groupby(['playId'])['nflId'].nunique()\n",
    "# d_num_rushers = d_line_df.groupby(['playId'])['nflId'].nunique()\n",
    "\n",
    "# blockers_vs_rushers = pd.concat([o_num_blockers, d_num_rushers], axis=1)\n",
    "\n",
    "# blockers_vs_rushers.columns = ['nflId_off', 'nflId_def']\n",
    "# blockers_vs_rushers['delta_off_def'] = blockers_vs_rushers['nflId_off'] - blockers_vs_rushers['nflId_def']\n",
    "\n",
    "# blockers_vs_rushers.sort_values(by='delta_off_def',inplace=True)\n",
    "# blockers_vs_rushers.reset_index(inplace=True)\n",
    "# blockers_vs_rushers\n",
    "\n",
    "# bvr_stats = blockers_vs_rushers.delta_off_def.value_counts()\n",
    "# bvr_stats['delta%'] = blockers_vs_rushers.delta_off_def.value_counts()/blockers_vs_rushers.delta_off_def.sum()\n",
    "\n",
    "# blockers_vs_rushers.delta_off_def.value_counts()/blockers_vs_rushers.delta_off_def.sum()"
   ]
  },
  {
   "cell_type": "markdown",
   "metadata": {},
   "source": [
    "### Blockers vs Rushers"
   ]
  },
  {
   "cell_type": "code",
   "execution_count": 72,
   "metadata": {},
   "outputs": [],
   "source": [
    "def get_blockers_vs_rushers(o_line_df, d_line_df):\n",
    "    \n",
    "    o_num_blockers =  o_line_df.groupby(['playId'])['nflId'].nunique()\n",
    "    d_num_rushers = d_line_df.groupby(['playId'])['nflId'].nunique()\n",
    "\n",
    "    blockers_vs_rushers = pd.concat([o_num_blockers, d_num_rushers], axis=1)\n",
    "\n",
    "    blockers_vs_rushers.columns = ['nflId_off', 'nflId_def']\n",
    "    blockers_vs_rushers['delta_off_def'] = blockers_vs_rushers['nflId_off'] - blockers_vs_rushers['nflId_def']\n",
    "\n",
    "    blockers_vs_rushers.sort_values(by='delta_off_def',inplace=True)\n",
    "    blockers_vs_rushers.reset_index(inplace=True)\n",
    "\n",
    "    # print('\\nblockers_vs_rushers: \\n',blockers_vs_rushers.head())\n",
    "\n",
    "    return blockers_vs_rushers"
   ]
  },
  {
   "cell_type": "markdown",
   "metadata": {},
   "source": [
    "### Num blockers and rushers"
   ]
  },
  {
   "cell_type": "code",
   "execution_count": 73,
   "metadata": {},
   "outputs": [],
   "source": [
    "def get_num_blockers_rushers(o_line_df, d_line_df, playId_num):\n",
    "\n",
    "    blockers_vs_rushers = get_blockers_vs_rushers(o_line_df, d_line_df)\n",
    "    num_blockers = blockers_vs_rushers[blockers_vs_rushers.playId == playId_num].nflId_off.values[0]\n",
    "    num_rushers = blockers_vs_rushers[blockers_vs_rushers.playId == playId_num].nflId_def.values[0]\n",
    "\n",
    "    return (num_blockers, num_rushers)"
   ]
  },
  {
   "cell_type": "markdown",
   "metadata": {},
   "source": [
    "### Animation"
   ]
  },
  {
   "cell_type": "code",
   "execution_count": 74,
   "metadata": {},
   "outputs": [
    {
     "data": {
      "application/vnd.plotly.v1+json": {
       "config": {
        "plotlyServerURL": "https://plot.ly"
       },
       "data": [
        {
         "hoverinfo": "none",
         "mode": "text",
         "showlegend": false,
         "text": [
          "10",
          "20",
          "30",
          "40",
          "50",
          "40",
          "30",
          "20",
          "10"
         ],
         "textfont": {
          "color": "#ffffff",
          "family": "Courier New, monospace",
          "size": 30
         },
         "type": "scatter",
         "x": [
          20,
          30,
          40,
          50,
          60,
          70,
          80,
          90,
          100
         ],
         "y": [
          5,
          5,
          5,
          5,
          5,
          5,
          5,
          5,
          5
         ]
        },
        {
         "hoverinfo": "none",
         "mode": "text",
         "showlegend": false,
         "text": [
          "10",
          "20",
          "30",
          "40",
          "50",
          "40",
          "30",
          "20",
          "10"
         ],
         "textfont": {
          "color": "#ffffff",
          "family": "Courier New, monospace",
          "size": 30
         },
         "type": "scatter",
         "x": [
          20,
          30,
          40,
          50,
          60,
          70,
          80,
          90,
          100
         ],
         "y": [
          48.5,
          48.5,
          48.5,
          48.5,
          48.5,
          48.5,
          48.5,
          48.5,
          48.5
         ]
        },
        {
         "hoverinfo": "none",
         "line": {
          "color": "blue",
          "dash": "dash"
         },
         "showlegend": false,
         "type": "scatter",
         "x": [
          76,
          76
         ],
         "y": [
          0,
          53.5
         ]
        },
        {
         "hoverinfo": "none",
         "line": {
          "color": "yellow",
          "dash": "dash"
         },
         "showlegend": false,
         "type": "scatter",
         "x": [
          82,
          82
         ],
         "y": [
          0,
          53.5
         ]
        },
        {
         "hoverinfo": "text",
         "hovertext": [
          "nflId:35441.0<br>displayName:Ndamukong Suh<br>Position:LILB<br>Role:Pass Rush",
          "nflId:35454.0<br>displayName:Jason Pierre-Paul<br>Position:REO<br>Role:Pass Rush",
          "nflId:38588.0<br>displayName:Lavonte David<br>Position:RILB<br>Role:Pass Rush",
          "nflId:41915.0<br>displayName:Shaquil Barrett<br>Position:SCBiL<br>Role:Coverage",
          "nflId:46081.0<br>displayName:Vita Vea<br>Position:DRT<br>Role:Pass Rush",
          "nflId:46132.0<br>displayName:Carlton Davis<br>Position:LCB<br>Role:Coverage",
          "nflId:47788.0<br>displayName:Devin White<br>Position:LILB<br>Role:Coverage",
          "nflId:47822.0<br>displayName:Sean Murphy-Bunting<br>Position:SCBiL<br>Role:Coverage",
          "nflId:47877.0<br>displayName:Jamel Dean<br>Position:RCB<br>Role:Coverage",
          "nflId:47882.0<br>displayName:Mike Edwards<br>Position:SSR<br>Role:Coverage",
          "nflId:52453.0<br>displayName:Antoine Winfield<br>Position:FS<br>Role:Coverage"
         ],
         "marker": {
          "color": "#D50A0A"
         },
         "mode": "markers",
         "name": "TB",
         "type": "scatter",
         "x": [
          75.23,
          76.12,
          72.73,
          75.15,
          75.27,
          69.96,
          72.2,
          71.51,
          70.63,
          68.28,
          66.92
         ],
         "y": [
          28.6,
          21.19,
          25.14,
          31.82,
          25.61,
          36.95,
          27.64,
          31.42,
          14.12,
          22.09,
          26.46
         ]
        },
        {
         "hoverinfo": "text",
         "hovertext": [
          "nflId:37082.0<br>displayName:Tyron Smith<br>Position:LT<br>Role:Pass Block",
          "nflId:42347.0<br>displayName:Amari Cooper<br>Position:RWR<br>Role:Pass Route",
          "nflId:42654.0<br>displayName:La'el Collins<br>Position:RT<br>Role:Pass Block",
          "nflId:43424.0<br>displayName:Dak Prescott<br>Position:QB<br>Role:Pass",
          "nflId:45532.0<br>displayName:Blake Jarwin<br>Position:SRoWR<br>Role:Pass Route",
          "nflId:46119.0<br>displayName:Connor Williams<br>Position:LG<br>Role:Pass Block",
          "nflId:46150.0<br>displayName:Michael Gallup<br>Position:LWR<br>Role:Pass Route",
          "nflId:46206.0<br>displayName:Dalton Schultz<br>Position:SRiWR<br>Role:Pass Route",
          "nflId:47873.0<br>displayName:Connor McGovern<br>Position:RG<br>Role:Pass Block",
          "nflId:52425.0<br>displayName:CeeDee Lamb<br>Position:HB-R<br>Role:Pass Route",
          "nflId:52554.0<br>displayName:Tyler Biadasz<br>Position:C<br>Role:Pass Block"
         ],
         "marker": {
          "color": "#003594"
         },
         "mode": "markers",
         "name": "DAL",
         "type": "scatter",
         "x": [
          78.14,
          78.8,
          78.14,
          81.15,
          78.21,
          77.93,
          77.32,
          77.59,
          77.72,
          81.12,
          77.55
         ],
         "y": [
          23.29,
          37.55,
          29.2,
          26.45,
          34.21,
          24.79,
          9.81,
          31.25,
          27.9,
          29.21,
          26.54
         ]
        },
        {
         "hoverinfo": "none",
         "marker": {
          "color": "#CBB67C"
         },
         "mode": "markers",
         "name": "football",
         "type": "scatter",
         "x": [
          76.47
         ],
         "y": [
          26.46
         ]
        }
       ],
       "frames": [
        {
         "data": [
          {
           "hoverinfo": "none",
           "mode": "text",
           "showlegend": false,
           "text": [
            "10",
            "20",
            "30",
            "40",
            "50",
            "40",
            "30",
            "20",
            "10"
           ],
           "textfont": {
            "color": "#ffffff",
            "family": "Courier New, monospace",
            "size": 30
           },
           "type": "scatter",
           "x": [
            20,
            30,
            40,
            50,
            60,
            70,
            80,
            90,
            100
           ],
           "y": [
            5,
            5,
            5,
            5,
            5,
            5,
            5,
            5,
            5
           ]
          },
          {
           "hoverinfo": "none",
           "mode": "text",
           "showlegend": false,
           "text": [
            "10",
            "20",
            "30",
            "40",
            "50",
            "40",
            "30",
            "20",
            "10"
           ],
           "textfont": {
            "color": "#ffffff",
            "family": "Courier New, monospace",
            "size": 30
           },
           "type": "scatter",
           "x": [
            20,
            30,
            40,
            50,
            60,
            70,
            80,
            90,
            100
           ],
           "y": [
            48.5,
            48.5,
            48.5,
            48.5,
            48.5,
            48.5,
            48.5,
            48.5,
            48.5
           ]
          },
          {
           "hoverinfo": "none",
           "line": {
            "color": "blue",
            "dash": "dash"
           },
           "showlegend": false,
           "type": "scatter",
           "x": [
            76,
            76
           ],
           "y": [
            0,
            53.5
           ]
          },
          {
           "hoverinfo": "none",
           "line": {
            "color": "yellow",
            "dash": "dash"
           },
           "showlegend": false,
           "type": "scatter",
           "x": [
            82,
            82
           ],
           "y": [
            0,
            53.5
           ]
          },
          {
           "hoverinfo": "text",
           "hovertext": [
            "nflId:35441.0<br>displayName:Ndamukong Suh<br>Position:LILB<br>Role:Pass Rush",
            "nflId:35454.0<br>displayName:Jason Pierre-Paul<br>Position:REO<br>Role:Pass Rush",
            "nflId:38588.0<br>displayName:Lavonte David<br>Position:RILB<br>Role:Pass Rush",
            "nflId:41915.0<br>displayName:Shaquil Barrett<br>Position:SCBiL<br>Role:Coverage",
            "nflId:46081.0<br>displayName:Vita Vea<br>Position:DRT<br>Role:Pass Rush",
            "nflId:46132.0<br>displayName:Carlton Davis<br>Position:LCB<br>Role:Coverage",
            "nflId:47788.0<br>displayName:Devin White<br>Position:LILB<br>Role:Coverage",
            "nflId:47822.0<br>displayName:Sean Murphy-Bunting<br>Position:SCBiL<br>Role:Coverage",
            "nflId:47877.0<br>displayName:Jamel Dean<br>Position:RCB<br>Role:Coverage",
            "nflId:47882.0<br>displayName:Mike Edwards<br>Position:SSR<br>Role:Coverage",
            "nflId:52453.0<br>displayName:Antoine Winfield<br>Position:FS<br>Role:Coverage"
           ],
           "marker": {
            "color": "#D50A0A"
           },
           "mode": "markers",
           "name": "TB",
           "type": "scatter",
           "x": [
            75.24,
            76.09,
            72.7,
            75.22,
            75.28,
            69.88,
            72.23,
            71.37,
            70.58,
            68.25,
            66.81
           ],
           "y": [
            28.61,
            21.26,
            25.15,
            31.87,
            25.6,
            37.24,
            27.7,
            31.65,
            13.87,
            21.92,
            26.48
           ]
          },
          {
           "hoverinfo": "text",
           "hovertext": [
            "nflId:37082.0<br>displayName:Tyron Smith<br>Position:LT<br>Role:Pass Block",
            "nflId:42347.0<br>displayName:Amari Cooper<br>Position:RWR<br>Role:Pass Route",
            "nflId:42654.0<br>displayName:La'el Collins<br>Position:RT<br>Role:Pass Block",
            "nflId:43424.0<br>displayName:Dak Prescott<br>Position:QB<br>Role:Pass",
            "nflId:45532.0<br>displayName:Blake Jarwin<br>Position:SRoWR<br>Role:Pass Route",
            "nflId:46119.0<br>displayName:Connor Williams<br>Position:LG<br>Role:Pass Block",
            "nflId:46150.0<br>displayName:Michael Gallup<br>Position:LWR<br>Role:Pass Route",
            "nflId:46206.0<br>displayName:Dalton Schultz<br>Position:SRiWR<br>Role:Pass Route",
            "nflId:47873.0<br>displayName:Connor McGovern<br>Position:RG<br>Role:Pass Block",
            "nflId:52425.0<br>displayName:CeeDee Lamb<br>Position:HB-R<br>Role:Pass Route",
            "nflId:52554.0<br>displayName:Tyler Biadasz<br>Position:C<br>Role:Pass Block"
           ],
           "marker": {
            "color": "#003594"
           },
           "mode": "markers",
           "name": "DAL",
           "type": "scatter",
           "x": [
            78.15,
            78.8,
            78.15,
            81.15,
            78.2,
            77.94,
            77.33,
            77.58,
            77.73,
            81.11,
            77.56
           ],
           "y": [
            23.27,
            37.51,
            29.2,
            26.46,
            34.17,
            24.8,
            9.82,
            31.25,
            27.88,
            29.2,
            26.52
           ]
          },
          {
           "hoverinfo": "none",
           "marker": {
            "color": "#CBB67C"
           },
           "mode": "markers",
           "name": "football",
           "type": "scatter",
           "x": [
            76.54
           ],
           "y": [
            26.39
           ]
          }
         ],
         "name": "2"
        },
        {
         "data": [
          {
           "hoverinfo": "none",
           "mode": "text",
           "showlegend": false,
           "text": [
            "10",
            "20",
            "30",
            "40",
            "50",
            "40",
            "30",
            "20",
            "10"
           ],
           "textfont": {
            "color": "#ffffff",
            "family": "Courier New, monospace",
            "size": 30
           },
           "type": "scatter",
           "x": [
            20,
            30,
            40,
            50,
            60,
            70,
            80,
            90,
            100
           ],
           "y": [
            5,
            5,
            5,
            5,
            5,
            5,
            5,
            5,
            5
           ]
          },
          {
           "hoverinfo": "none",
           "mode": "text",
           "showlegend": false,
           "text": [
            "10",
            "20",
            "30",
            "40",
            "50",
            "40",
            "30",
            "20",
            "10"
           ],
           "textfont": {
            "color": "#ffffff",
            "family": "Courier New, monospace",
            "size": 30
           },
           "type": "scatter",
           "x": [
            20,
            30,
            40,
            50,
            60,
            70,
            80,
            90,
            100
           ],
           "y": [
            48.5,
            48.5,
            48.5,
            48.5,
            48.5,
            48.5,
            48.5,
            48.5,
            48.5
           ]
          },
          {
           "hoverinfo": "none",
           "line": {
            "color": "blue",
            "dash": "dash"
           },
           "showlegend": false,
           "type": "scatter",
           "x": [
            76,
            76
           ],
           "y": [
            0,
            53.5
           ]
          },
          {
           "hoverinfo": "none",
           "line": {
            "color": "yellow",
            "dash": "dash"
           },
           "showlegend": false,
           "type": "scatter",
           "x": [
            82,
            82
           ],
           "y": [
            0,
            53.5
           ]
          },
          {
           "hoverinfo": "text",
           "hovertext": [
            "nflId:35441.0<br>displayName:Ndamukong Suh<br>Position:LILB<br>Role:Pass Rush",
            "nflId:35454.0<br>displayName:Jason Pierre-Paul<br>Position:REO<br>Role:Pass Rush",
            "nflId:38588.0<br>displayName:Lavonte David<br>Position:RILB<br>Role:Pass Rush",
            "nflId:41915.0<br>displayName:Shaquil Barrett<br>Position:SCBiL<br>Role:Coverage",
            "nflId:46081.0<br>displayName:Vita Vea<br>Position:DRT<br>Role:Pass Rush",
            "nflId:46132.0<br>displayName:Carlton Davis<br>Position:LCB<br>Role:Coverage",
            "nflId:47788.0<br>displayName:Devin White<br>Position:LILB<br>Role:Coverage",
            "nflId:47822.0<br>displayName:Sean Murphy-Bunting<br>Position:SCBiL<br>Role:Coverage",
            "nflId:47877.0<br>displayName:Jamel Dean<br>Position:RCB<br>Role:Coverage",
            "nflId:47882.0<br>displayName:Mike Edwards<br>Position:SSR<br>Role:Coverage",
            "nflId:52453.0<br>displayName:Antoine Winfield<br>Position:FS<br>Role:Coverage"
           ],
           "marker": {
            "color": "#D50A0A"
           },
           "mode": "markers",
           "name": "TB",
           "type": "scatter",
           "x": [
            75.24,
            76.09,
            72.68,
            75.29,
            75.29,
            69.8,
            72.27,
            71.22,
            70.54,
            68.25,
            66.71
           ],
           "y": [
            28.62,
            21.3,
            25.16,
            31.91,
            25.6,
            37.51,
            27.75,
            31.87,
            13.62,
            21.75,
            26.5
           ]
          },
          {
           "hoverinfo": "text",
           "hovertext": [
            "nflId:37082.0<br>displayName:Tyron Smith<br>Position:LT<br>Role:Pass Block",
            "nflId:42347.0<br>displayName:Amari Cooper<br>Position:RWR<br>Role:Pass Route",
            "nflId:42654.0<br>displayName:La'el Collins<br>Position:RT<br>Role:Pass Block",
            "nflId:43424.0<br>displayName:Dak Prescott<br>Position:QB<br>Role:Pass",
            "nflId:45532.0<br>displayName:Blake Jarwin<br>Position:SRoWR<br>Role:Pass Route",
            "nflId:46119.0<br>displayName:Connor Williams<br>Position:LG<br>Role:Pass Block",
            "nflId:46150.0<br>displayName:Michael Gallup<br>Position:LWR<br>Role:Pass Route",
            "nflId:46206.0<br>displayName:Dalton Schultz<br>Position:SRiWR<br>Role:Pass Route",
            "nflId:47873.0<br>displayName:Connor McGovern<br>Position:RG<br>Role:Pass Block",
            "nflId:52425.0<br>displayName:CeeDee Lamb<br>Position:HB-R<br>Role:Pass Route",
            "nflId:52554.0<br>displayName:Tyler Biadasz<br>Position:C<br>Role:Pass Block"
           ],
           "marker": {
            "color": "#003594"
           },
           "mode": "markers",
           "name": "DAL",
           "type": "scatter",
           "x": [
            78.18,
            78.79,
            78.17,
            81.16,
            78.2,
            77.95,
            77.34,
            77.57,
            77.76,
            81.09,
            77.57
           ],
           "y": [
            23.25,
            37.47,
            29.2,
            26.46,
            34.15,
            24.82,
            9.83,
            31.25,
            27.91,
            29.2,
            26.53
           ]
          },
          {
           "hoverinfo": "none",
           "marker": {
            "color": "#CBB67C"
           },
           "mode": "markers",
           "name": "football",
           "type": "scatter",
           "x": [
            77.03
           ],
           "y": [
            26.39
           ]
          }
         ],
         "name": "3"
        },
        {
         "data": [
          {
           "hoverinfo": "none",
           "mode": "text",
           "showlegend": false,
           "text": [
            "10",
            "20",
            "30",
            "40",
            "50",
            "40",
            "30",
            "20",
            "10"
           ],
           "textfont": {
            "color": "#ffffff",
            "family": "Courier New, monospace",
            "size": 30
           },
           "type": "scatter",
           "x": [
            20,
            30,
            40,
            50,
            60,
            70,
            80,
            90,
            100
           ],
           "y": [
            5,
            5,
            5,
            5,
            5,
            5,
            5,
            5,
            5
           ]
          },
          {
           "hoverinfo": "none",
           "mode": "text",
           "showlegend": false,
           "text": [
            "10",
            "20",
            "30",
            "40",
            "50",
            "40",
            "30",
            "20",
            "10"
           ],
           "textfont": {
            "color": "#ffffff",
            "family": "Courier New, monospace",
            "size": 30
           },
           "type": "scatter",
           "x": [
            20,
            30,
            40,
            50,
            60,
            70,
            80,
            90,
            100
           ],
           "y": [
            48.5,
            48.5,
            48.5,
            48.5,
            48.5,
            48.5,
            48.5,
            48.5,
            48.5
           ]
          },
          {
           "hoverinfo": "none",
           "line": {
            "color": "blue",
            "dash": "dash"
           },
           "showlegend": false,
           "type": "scatter",
           "x": [
            76,
            76
           ],
           "y": [
            0,
            53.5
           ]
          },
          {
           "hoverinfo": "none",
           "line": {
            "color": "yellow",
            "dash": "dash"
           },
           "showlegend": false,
           "type": "scatter",
           "x": [
            82,
            82
           ],
           "y": [
            0,
            53.5
           ]
          },
          {
           "hoverinfo": "text",
           "hovertext": [
            "nflId:35441.0<br>displayName:Ndamukong Suh<br>Position:LILB<br>Role:Pass Rush",
            "nflId:35454.0<br>displayName:Jason Pierre-Paul<br>Position:REO<br>Role:Pass Rush",
            "nflId:38588.0<br>displayName:Lavonte David<br>Position:RILB<br>Role:Pass Rush",
            "nflId:41915.0<br>displayName:Shaquil Barrett<br>Position:SCBiL<br>Role:Coverage",
            "nflId:46081.0<br>displayName:Vita Vea<br>Position:DRT<br>Role:Pass Rush",
            "nflId:46132.0<br>displayName:Carlton Davis<br>Position:LCB<br>Role:Coverage",
            "nflId:47788.0<br>displayName:Devin White<br>Position:LILB<br>Role:Coverage",
            "nflId:47822.0<br>displayName:Sean Murphy-Bunting<br>Position:SCBiL<br>Role:Coverage",
            "nflId:47877.0<br>displayName:Jamel Dean<br>Position:RCB<br>Role:Coverage",
            "nflId:47882.0<br>displayName:Mike Edwards<br>Position:SSR<br>Role:Coverage",
            "nflId:52453.0<br>displayName:Antoine Winfield<br>Position:FS<br>Role:Coverage"
           ],
           "marker": {
            "color": "#D50A0A"
           },
           "mode": "markers",
           "name": "TB",
           "type": "scatter",
           "x": [
            75.25,
            76.13,
            72.68,
            75.34,
            75.31,
            69.72,
            72.29,
            71.08,
            70.5,
            68.28,
            66.6
           ],
           "y": [
            28.63,
            21.34,
            25.16,
            31.94,
            25.6,
            37.78,
            27.78,
            32.08,
            13.39,
            21.59,
            26.52
           ]
          },
          {
           "hoverinfo": "text",
           "hovertext": [
            "nflId:37082.0<br>displayName:Tyron Smith<br>Position:LT<br>Role:Pass Block",
            "nflId:42347.0<br>displayName:Amari Cooper<br>Position:RWR<br>Role:Pass Route",
            "nflId:42654.0<br>displayName:La'el Collins<br>Position:RT<br>Role:Pass Block",
            "nflId:43424.0<br>displayName:Dak Prescott<br>Position:QB<br>Role:Pass",
            "nflId:45532.0<br>displayName:Blake Jarwin<br>Position:SRoWR<br>Role:Pass Route",
            "nflId:46119.0<br>displayName:Connor Williams<br>Position:LG<br>Role:Pass Block",
            "nflId:46150.0<br>displayName:Michael Gallup<br>Position:LWR<br>Role:Pass Route",
            "nflId:46206.0<br>displayName:Dalton Schultz<br>Position:SRiWR<br>Role:Pass Route",
            "nflId:47873.0<br>displayName:Connor McGovern<br>Position:RG<br>Role:Pass Block",
            "nflId:52425.0<br>displayName:CeeDee Lamb<br>Position:HB-R<br>Role:Pass Route",
            "nflId:52554.0<br>displayName:Tyler Biadasz<br>Position:C<br>Role:Pass Block"
           ],
           "marker": {
            "color": "#003594"
           },
           "mode": "markers",
           "name": "DAL",
           "type": "scatter",
           "x": [
            78.2,
            78.79,
            78.2,
            81.17,
            78.2,
            77.97,
            77.35,
            77.55,
            77.79,
            81.07,
            77.58
           ],
           "y": [
            23.23,
            37.44,
            29.21,
            26.46,
            34.12,
            24.85,
            9.83,
            31.25,
            27.91,
            29.24,
            26.51
           ]
          },
          {
           "hoverinfo": "none",
           "marker": {
            "color": "#CBB67C"
           },
           "mode": "markers",
           "name": "football",
           "type": "scatter",
           "x": [
            77.35
           ],
           "y": [
            26.4
           ]
          }
         ],
         "name": "4"
        },
        {
         "data": [
          {
           "hoverinfo": "none",
           "mode": "text",
           "showlegend": false,
           "text": [
            "10",
            "20",
            "30",
            "40",
            "50",
            "40",
            "30",
            "20",
            "10"
           ],
           "textfont": {
            "color": "#ffffff",
            "family": "Courier New, monospace",
            "size": 30
           },
           "type": "scatter",
           "x": [
            20,
            30,
            40,
            50,
            60,
            70,
            80,
            90,
            100
           ],
           "y": [
            5,
            5,
            5,
            5,
            5,
            5,
            5,
            5,
            5
           ]
          },
          {
           "hoverinfo": "none",
           "mode": "text",
           "showlegend": false,
           "text": [
            "10",
            "20",
            "30",
            "40",
            "50",
            "40",
            "30",
            "20",
            "10"
           ],
           "textfont": {
            "color": "#ffffff",
            "family": "Courier New, monospace",
            "size": 30
           },
           "type": "scatter",
           "x": [
            20,
            30,
            40,
            50,
            60,
            70,
            80,
            90,
            100
           ],
           "y": [
            48.5,
            48.5,
            48.5,
            48.5,
            48.5,
            48.5,
            48.5,
            48.5,
            48.5
           ]
          },
          {
           "hoverinfo": "none",
           "line": {
            "color": "blue",
            "dash": "dash"
           },
           "showlegend": false,
           "type": "scatter",
           "x": [
            76,
            76
           ],
           "y": [
            0,
            53.5
           ]
          },
          {
           "hoverinfo": "none",
           "line": {
            "color": "yellow",
            "dash": "dash"
           },
           "showlegend": false,
           "type": "scatter",
           "x": [
            82,
            82
           ],
           "y": [
            0,
            53.5
           ]
          },
          {
           "hoverinfo": "text",
           "hovertext": [
            "nflId:35441.0<br>displayName:Ndamukong Suh<br>Position:LILB<br>Role:Pass Rush",
            "nflId:35454.0<br>displayName:Jason Pierre-Paul<br>Position:REO<br>Role:Pass Rush",
            "nflId:38588.0<br>displayName:Lavonte David<br>Position:RILB<br>Role:Pass Rush",
            "nflId:41915.0<br>displayName:Shaquil Barrett<br>Position:SCBiL<br>Role:Coverage",
            "nflId:46081.0<br>displayName:Vita Vea<br>Position:DRT<br>Role:Pass Rush",
            "nflId:46132.0<br>displayName:Carlton Davis<br>Position:LCB<br>Role:Coverage",
            "nflId:47788.0<br>displayName:Devin White<br>Position:LILB<br>Role:Coverage",
            "nflId:47822.0<br>displayName:Sean Murphy-Bunting<br>Position:SCBiL<br>Role:Coverage",
            "nflId:47877.0<br>displayName:Jamel Dean<br>Position:RCB<br>Role:Coverage",
            "nflId:47882.0<br>displayName:Mike Edwards<br>Position:SSR<br>Role:Coverage",
            "nflId:52453.0<br>displayName:Antoine Winfield<br>Position:FS<br>Role:Coverage"
           ],
           "marker": {
            "color": "#D50A0A"
           },
           "mode": "markers",
           "name": "TB",
           "type": "scatter",
           "x": [
            75.27,
            76.2,
            72.68,
            75.38,
            75.34,
            69.62,
            72.32,
            70.94,
            70.46,
            68.33,
            66.49
           ],
           "y": [
            28.65,
            21.35,
            25.14,
            31.98,
            25.6,
            38.03,
            27.78,
            32.28,
            13.16,
            21.44,
            26.53
           ]
          },
          {
           "hoverinfo": "text",
           "hovertext": [
            "nflId:37082.0<br>displayName:Tyron Smith<br>Position:LT<br>Role:Pass Block",
            "nflId:42347.0<br>displayName:Amari Cooper<br>Position:RWR<br>Role:Pass Route",
            "nflId:42654.0<br>displayName:La'el Collins<br>Position:RT<br>Role:Pass Block",
            "nflId:43424.0<br>displayName:Dak Prescott<br>Position:QB<br>Role:Pass",
            "nflId:45532.0<br>displayName:Blake Jarwin<br>Position:SRoWR<br>Role:Pass Route",
            "nflId:46119.0<br>displayName:Connor Williams<br>Position:LG<br>Role:Pass Block",
            "nflId:46150.0<br>displayName:Michael Gallup<br>Position:LWR<br>Role:Pass Route",
            "nflId:46206.0<br>displayName:Dalton Schultz<br>Position:SRiWR<br>Role:Pass Route",
            "nflId:47873.0<br>displayName:Connor McGovern<br>Position:RG<br>Role:Pass Block",
            "nflId:52425.0<br>displayName:CeeDee Lamb<br>Position:HB-R<br>Role:Pass Route",
            "nflId:52554.0<br>displayName:Tyler Biadasz<br>Position:C<br>Role:Pass Block"
           ],
           "marker": {
            "color": "#003594"
           },
           "mode": "markers",
           "name": "DAL",
           "type": "scatter",
           "x": [
            78.23,
            78.77,
            78.24,
            81.2,
            78.2,
            78,
            77.36,
            77.51,
            77.83,
            81.04,
            77.62
           ],
           "y": [
            23.21,
            37.42,
            29.2,
            26.47,
            34.09,
            24.89,
            9.82,
            31.24,
            27.92,
            29.29,
            26.49
           ]
          },
          {
           "hoverinfo": "none",
           "marker": {
            "color": "#CBB67C"
           },
           "mode": "markers",
           "name": "football",
           "type": "scatter",
           "x": [
            77.74
           ],
           "y": [
            26.4
           ]
          }
         ],
         "name": "5"
        },
        {
         "data": [
          {
           "hoverinfo": "none",
           "mode": "text",
           "showlegend": false,
           "text": [
            "10",
            "20",
            "30",
            "40",
            "50",
            "40",
            "30",
            "20",
            "10"
           ],
           "textfont": {
            "color": "#ffffff",
            "family": "Courier New, monospace",
            "size": 30
           },
           "type": "scatter",
           "x": [
            20,
            30,
            40,
            50,
            60,
            70,
            80,
            90,
            100
           ],
           "y": [
            5,
            5,
            5,
            5,
            5,
            5,
            5,
            5,
            5
           ]
          },
          {
           "hoverinfo": "none",
           "mode": "text",
           "showlegend": false,
           "text": [
            "10",
            "20",
            "30",
            "40",
            "50",
            "40",
            "30",
            "20",
            "10"
           ],
           "textfont": {
            "color": "#ffffff",
            "family": "Courier New, monospace",
            "size": 30
           },
           "type": "scatter",
           "x": [
            20,
            30,
            40,
            50,
            60,
            70,
            80,
            90,
            100
           ],
           "y": [
            48.5,
            48.5,
            48.5,
            48.5,
            48.5,
            48.5,
            48.5,
            48.5,
            48.5
           ]
          },
          {
           "hoverinfo": "none",
           "line": {
            "color": "blue",
            "dash": "dash"
           },
           "showlegend": false,
           "type": "scatter",
           "x": [
            76,
            76
           ],
           "y": [
            0,
            53.5
           ]
          },
          {
           "hoverinfo": "none",
           "line": {
            "color": "yellow",
            "dash": "dash"
           },
           "showlegend": false,
           "type": "scatter",
           "x": [
            82,
            82
           ],
           "y": [
            0,
            53.5
           ]
          },
          {
           "hoverinfo": "text",
           "hovertext": [
            "nflId:35441.0<br>displayName:Ndamukong Suh<br>Position:LILB<br>Role:Pass Rush",
            "nflId:35454.0<br>displayName:Jason Pierre-Paul<br>Position:REO<br>Role:Pass Rush",
            "nflId:38588.0<br>displayName:Lavonte David<br>Position:RILB<br>Role:Pass Rush",
            "nflId:41915.0<br>displayName:Shaquil Barrett<br>Position:SCBiL<br>Role:Coverage",
            "nflId:46081.0<br>displayName:Vita Vea<br>Position:DRT<br>Role:Pass Rush",
            "nflId:46132.0<br>displayName:Carlton Davis<br>Position:LCB<br>Role:Coverage",
            "nflId:47788.0<br>displayName:Devin White<br>Position:LILB<br>Role:Coverage",
            "nflId:47822.0<br>displayName:Sean Murphy-Bunting<br>Position:SCBiL<br>Role:Coverage",
            "nflId:47877.0<br>displayName:Jamel Dean<br>Position:RCB<br>Role:Coverage",
            "nflId:47882.0<br>displayName:Mike Edwards<br>Position:SSR<br>Role:Coverage",
            "nflId:52453.0<br>displayName:Antoine Winfield<br>Position:FS<br>Role:Coverage"
           ],
           "marker": {
            "color": "#D50A0A"
           },
           "mode": "markers",
           "name": "TB",
           "type": "scatter",
           "x": [
            75.32,
            76.29,
            72.69,
            75.4,
            75.37,
            69.51,
            72.33,
            70.8,
            70.42,
            68.41,
            66.37
           ],
           "y": [
            28.68,
            21.36,
            25.11,
            32,
            25.6,
            38.27,
            27.75,
            32.48,
            12.94,
            21.32,
            26.54
           ]
          },
          {
           "hoverinfo": "text",
           "hovertext": [
            "nflId:37082.0<br>displayName:Tyron Smith<br>Position:LT<br>Role:Pass Block",
            "nflId:42347.0<br>displayName:Amari Cooper<br>Position:RWR<br>Role:Pass Route",
            "nflId:42654.0<br>displayName:La'el Collins<br>Position:RT<br>Role:Pass Block",
            "nflId:43424.0<br>displayName:Dak Prescott<br>Position:QB<br>Role:Pass",
            "nflId:45532.0<br>displayName:Blake Jarwin<br>Position:SRoWR<br>Role:Pass Route",
            "nflId:46119.0<br>displayName:Connor Williams<br>Position:LG<br>Role:Pass Block",
            "nflId:46150.0<br>displayName:Michael Gallup<br>Position:LWR<br>Role:Pass Route",
            "nflId:46206.0<br>displayName:Dalton Schultz<br>Position:SRiWR<br>Role:Pass Route",
            "nflId:47873.0<br>displayName:Connor McGovern<br>Position:RG<br>Role:Pass Block",
            "nflId:52425.0<br>displayName:CeeDee Lamb<br>Position:HB-R<br>Role:Pass Route",
            "nflId:52554.0<br>displayName:Tyler Biadasz<br>Position:C<br>Role:Pass Block"
           ],
           "marker": {
            "color": "#003594"
           },
           "mode": "markers",
           "name": "DAL",
           "type": "scatter",
           "x": [
            78.27,
            78.72,
            78.27,
            81.26,
            78.18,
            78.04,
            77.36,
            77.43,
            77.89,
            81,
            77.67
           ],
           "y": [
            23.17,
            37.43,
            29.21,
            26.46,
            34.07,
            24.93,
            9.82,
            31.24,
            27.93,
            29.38,
            26.46
           ]
          },
          {
           "hoverinfo": "none",
           "marker": {
            "color": "#CBB67C"
           },
           "mode": "markers",
           "name": "football",
           "type": "scatter",
           "x": [
            78.21
           ],
           "y": [
            26.39
           ]
          }
         ],
         "name": "6"
        },
        {
         "data": [
          {
           "hoverinfo": "none",
           "mode": "text",
           "showlegend": false,
           "text": [
            "10",
            "20",
            "30",
            "40",
            "50",
            "40",
            "30",
            "20",
            "10"
           ],
           "textfont": {
            "color": "#ffffff",
            "family": "Courier New, monospace",
            "size": 30
           },
           "type": "scatter",
           "x": [
            20,
            30,
            40,
            50,
            60,
            70,
            80,
            90,
            100
           ],
           "y": [
            5,
            5,
            5,
            5,
            5,
            5,
            5,
            5,
            5
           ]
          },
          {
           "hoverinfo": "none",
           "mode": "text",
           "showlegend": false,
           "text": [
            "10",
            "20",
            "30",
            "40",
            "50",
            "40",
            "30",
            "20",
            "10"
           ],
           "textfont": {
            "color": "#ffffff",
            "family": "Courier New, monospace",
            "size": 30
           },
           "type": "scatter",
           "x": [
            20,
            30,
            40,
            50,
            60,
            70,
            80,
            90,
            100
           ],
           "y": [
            48.5,
            48.5,
            48.5,
            48.5,
            48.5,
            48.5,
            48.5,
            48.5,
            48.5
           ]
          },
          {
           "hoverinfo": "none",
           "line": {
            "color": "blue",
            "dash": "dash"
           },
           "showlegend": false,
           "type": "scatter",
           "x": [
            76,
            76
           ],
           "y": [
            0,
            53.5
           ]
          },
          {
           "hoverinfo": "none",
           "line": {
            "color": "yellow",
            "dash": "dash"
           },
           "showlegend": false,
           "type": "scatter",
           "x": [
            82,
            82
           ],
           "y": [
            0,
            53.5
           ]
          },
          {
           "hoverinfo": "text",
           "hovertext": [
            "nflId:35441.0<br>displayName:Ndamukong Suh<br>Position:LILB<br>Role:Pass Rush",
            "nflId:35454.0<br>displayName:Jason Pierre-Paul<br>Position:REO<br>Role:Pass Rush",
            "nflId:38588.0<br>displayName:Lavonte David<br>Position:RILB<br>Role:Pass Rush",
            "nflId:41915.0<br>displayName:Shaquil Barrett<br>Position:SCBiL<br>Role:Coverage",
            "nflId:46081.0<br>displayName:Vita Vea<br>Position:DRT<br>Role:Pass Rush",
            "nflId:46132.0<br>displayName:Carlton Davis<br>Position:LCB<br>Role:Coverage",
            "nflId:47788.0<br>displayName:Devin White<br>Position:LILB<br>Role:Coverage",
            "nflId:47822.0<br>displayName:Sean Murphy-Bunting<br>Position:SCBiL<br>Role:Coverage",
            "nflId:47877.0<br>displayName:Jamel Dean<br>Position:RCB<br>Role:Coverage",
            "nflId:47882.0<br>displayName:Mike Edwards<br>Position:SSR<br>Role:Coverage",
            "nflId:52453.0<br>displayName:Antoine Winfield<br>Position:FS<br>Role:Coverage"
           ],
           "marker": {
            "color": "#D50A0A"
           },
           "mode": "markers",
           "name": "TB",
           "type": "scatter",
           "x": [
            75.38,
            76.39,
            72.7,
            75.41,
            75.42,
            69.38,
            72.33,
            70.66,
            70.39,
            68.51,
            66.25
           ],
           "y": [
            28.69,
            21.37,
            25.09,
            32.03,
            25.59,
            38.48,
            27.71,
            32.68,
            12.72,
            21.21,
            26.54
           ]
          },
          {
           "hoverinfo": "text",
           "hovertext": [
            "nflId:37082.0<br>displayName:Tyron Smith<br>Position:LT<br>Role:Pass Block",
            "nflId:42347.0<br>displayName:Amari Cooper<br>Position:RWR<br>Role:Pass Route",
            "nflId:42654.0<br>displayName:La'el Collins<br>Position:RT<br>Role:Pass Block",
            "nflId:43424.0<br>displayName:Dak Prescott<br>Position:QB<br>Role:Pass",
            "nflId:45532.0<br>displayName:Blake Jarwin<br>Position:SRoWR<br>Role:Pass Route",
            "nflId:46119.0<br>displayName:Connor Williams<br>Position:LG<br>Role:Pass Block",
            "nflId:46150.0<br>displayName:Michael Gallup<br>Position:LWR<br>Role:Pass Route",
            "nflId:46206.0<br>displayName:Dalton Schultz<br>Position:SRiWR<br>Role:Pass Route",
            "nflId:47873.0<br>displayName:Connor McGovern<br>Position:RG<br>Role:Pass Block",
            "nflId:52425.0<br>displayName:CeeDee Lamb<br>Position:HB-R<br>Role:Pass Route",
            "nflId:52554.0<br>displayName:Tyler Biadasz<br>Position:C<br>Role:Pass Block"
           ],
           "marker": {
            "color": "#003594"
           },
           "mode": "markers",
           "name": "DAL",
           "type": "scatter",
           "x": [
            78.3,
            78.65,
            78.32,
            81.35,
            78.13,
            78.1,
            77.34,
            77.31,
            77.96,
            80.96,
            77.74
           ],
           "y": [
            23.15,
            37.45,
            29.25,
            26.47,
            34.04,
            24.98,
            9.82,
            31.21,
            27.96,
            29.5,
            26.44
           ]
          },
          {
           "hoverinfo": "none",
           "marker": {
            "color": "#CBB67C"
           },
           "mode": "markers",
           "name": "football",
           "type": "scatter",
           "x": [
            78.73
           ],
           "y": [
            26.4
           ]
          }
         ],
         "name": "7"
        },
        {
         "data": [
          {
           "hoverinfo": "none",
           "mode": "text",
           "showlegend": false,
           "text": [
            "10",
            "20",
            "30",
            "40",
            "50",
            "40",
            "30",
            "20",
            "10"
           ],
           "textfont": {
            "color": "#ffffff",
            "family": "Courier New, monospace",
            "size": 30
           },
           "type": "scatter",
           "x": [
            20,
            30,
            40,
            50,
            60,
            70,
            80,
            90,
            100
           ],
           "y": [
            5,
            5,
            5,
            5,
            5,
            5,
            5,
            5,
            5
           ]
          },
          {
           "hoverinfo": "none",
           "mode": "text",
           "showlegend": false,
           "text": [
            "10",
            "20",
            "30",
            "40",
            "50",
            "40",
            "30",
            "20",
            "10"
           ],
           "textfont": {
            "color": "#ffffff",
            "family": "Courier New, monospace",
            "size": 30
           },
           "type": "scatter",
           "x": [
            20,
            30,
            40,
            50,
            60,
            70,
            80,
            90,
            100
           ],
           "y": [
            48.5,
            48.5,
            48.5,
            48.5,
            48.5,
            48.5,
            48.5,
            48.5,
            48.5
           ]
          },
          {
           "hoverinfo": "none",
           "line": {
            "color": "blue",
            "dash": "dash"
           },
           "showlegend": false,
           "type": "scatter",
           "x": [
            76,
            76
           ],
           "y": [
            0,
            53.5
           ]
          },
          {
           "hoverinfo": "none",
           "line": {
            "color": "yellow",
            "dash": "dash"
           },
           "showlegend": false,
           "type": "scatter",
           "x": [
            82,
            82
           ],
           "y": [
            0,
            53.5
           ]
          },
          {
           "hoverinfo": "text",
           "hovertext": [
            "nflId:35441.0<br>displayName:Ndamukong Suh<br>Position:LILB<br>Role:Pass Rush",
            "nflId:35454.0<br>displayName:Jason Pierre-Paul<br>Position:REO<br>Role:Pass Rush",
            "nflId:38588.0<br>displayName:Lavonte David<br>Position:RILB<br>Role:Pass Rush",
            "nflId:41915.0<br>displayName:Shaquil Barrett<br>Position:SCBiL<br>Role:Coverage",
            "nflId:46081.0<br>displayName:Vita Vea<br>Position:DRT<br>Role:Pass Rush",
            "nflId:46132.0<br>displayName:Carlton Davis<br>Position:LCB<br>Role:Coverage",
            "nflId:47788.0<br>displayName:Devin White<br>Position:LILB<br>Role:Coverage",
            "nflId:47822.0<br>displayName:Sean Murphy-Bunting<br>Position:SCBiL<br>Role:Coverage",
            "nflId:47877.0<br>displayName:Jamel Dean<br>Position:RCB<br>Role:Coverage",
            "nflId:47882.0<br>displayName:Mike Edwards<br>Position:SSR<br>Role:Coverage",
            "nflId:52453.0<br>displayName:Antoine Winfield<br>Position:FS<br>Role:Coverage"
           ],
           "marker": {
            "color": "#D50A0A"
           },
           "mode": "markers",
           "name": "TB",
           "type": "scatter",
           "x": [
            75.5,
            76.53,
            72.74,
            75.4,
            75.48,
            69.26,
            72.33,
            70.52,
            70.36,
            68.62,
            66.13
           ],
           "y": [
            28.71,
            21.36,
            25.08,
            32.07,
            25.59,
            38.69,
            27.66,
            32.89,
            12.51,
            21.11,
            26.53
           ]
          },
          {
           "hoverinfo": "text",
           "hovertext": [
            "nflId:37082.0<br>displayName:Tyron Smith<br>Position:LT<br>Role:Pass Block",
            "nflId:42347.0<br>displayName:Amari Cooper<br>Position:RWR<br>Role:Pass Route",
            "nflId:42654.0<br>displayName:La'el Collins<br>Position:RT<br>Role:Pass Block",
            "nflId:43424.0<br>displayName:Dak Prescott<br>Position:QB<br>Role:Pass",
            "nflId:45532.0<br>displayName:Blake Jarwin<br>Position:SRoWR<br>Role:Pass Route",
            "nflId:46119.0<br>displayName:Connor Williams<br>Position:LG<br>Role:Pass Block",
            "nflId:46150.0<br>displayName:Michael Gallup<br>Position:LWR<br>Role:Pass Route",
            "nflId:46206.0<br>displayName:Dalton Schultz<br>Position:SRiWR<br>Role:Pass Route",
            "nflId:47873.0<br>displayName:Connor McGovern<br>Position:RG<br>Role:Pass Block",
            "nflId:52425.0<br>displayName:CeeDee Lamb<br>Position:HB-R<br>Role:Pass Route",
            "nflId:52554.0<br>displayName:Tyler Biadasz<br>Position:C<br>Role:Pass Block"
           ],
           "marker": {
            "color": "#003594"
           },
           "mode": "markers",
           "name": "DAL",
           "type": "scatter",
           "x": [
            78.33,
            78.54,
            78.35,
            81.44,
            78.03,
            78.17,
            77.25,
            77.16,
            78.05,
            80.89,
            77.82
           ],
           "y": [
            23.12,
            37.48,
            29.27,
            26.49,
            34.05,
            25.04,
            9.8,
            31.19,
            27.98,
            29.68,
            26.42
           ]
          },
          {
           "hoverinfo": "none",
           "marker": {
            "color": "#CBB67C"
           },
           "mode": "markers",
           "name": "football",
           "type": "scatter",
           "x": [
            79.29
           ],
           "y": [
            26.41
           ]
          }
         ],
         "name": "8"
        },
        {
         "data": [
          {
           "hoverinfo": "none",
           "mode": "text",
           "showlegend": false,
           "text": [
            "10",
            "20",
            "30",
            "40",
            "50",
            "40",
            "30",
            "20",
            "10"
           ],
           "textfont": {
            "color": "#ffffff",
            "family": "Courier New, monospace",
            "size": 30
           },
           "type": "scatter",
           "x": [
            20,
            30,
            40,
            50,
            60,
            70,
            80,
            90,
            100
           ],
           "y": [
            5,
            5,
            5,
            5,
            5,
            5,
            5,
            5,
            5
           ]
          },
          {
           "hoverinfo": "none",
           "mode": "text",
           "showlegend": false,
           "text": [
            "10",
            "20",
            "30",
            "40",
            "50",
            "40",
            "30",
            "20",
            "10"
           ],
           "textfont": {
            "color": "#ffffff",
            "family": "Courier New, monospace",
            "size": 30
           },
           "type": "scatter",
           "x": [
            20,
            30,
            40,
            50,
            60,
            70,
            80,
            90,
            100
           ],
           "y": [
            48.5,
            48.5,
            48.5,
            48.5,
            48.5,
            48.5,
            48.5,
            48.5,
            48.5
           ]
          },
          {
           "hoverinfo": "none",
           "line": {
            "color": "blue",
            "dash": "dash"
           },
           "showlegend": false,
           "type": "scatter",
           "x": [
            76,
            76
           ],
           "y": [
            0,
            53.5
           ]
          },
          {
           "hoverinfo": "none",
           "line": {
            "color": "yellow",
            "dash": "dash"
           },
           "showlegend": false,
           "type": "scatter",
           "x": [
            82,
            82
           ],
           "y": [
            0,
            53.5
           ]
          },
          {
           "hoverinfo": "text",
           "hovertext": [
            "nflId:35441.0<br>displayName:Ndamukong Suh<br>Position:LILB<br>Role:Pass Rush",
            "nflId:35454.0<br>displayName:Jason Pierre-Paul<br>Position:REO<br>Role:Pass Rush",
            "nflId:38588.0<br>displayName:Lavonte David<br>Position:RILB<br>Role:Pass Rush",
            "nflId:41915.0<br>displayName:Shaquil Barrett<br>Position:SCBiL<br>Role:Coverage",
            "nflId:46081.0<br>displayName:Vita Vea<br>Position:DRT<br>Role:Pass Rush",
            "nflId:46132.0<br>displayName:Carlton Davis<br>Position:LCB<br>Role:Coverage",
            "nflId:47788.0<br>displayName:Devin White<br>Position:LILB<br>Role:Coverage",
            "nflId:47822.0<br>displayName:Sean Murphy-Bunting<br>Position:SCBiL<br>Role:Coverage",
            "nflId:47877.0<br>displayName:Jamel Dean<br>Position:RCB<br>Role:Coverage",
            "nflId:47882.0<br>displayName:Mike Edwards<br>Position:SSR<br>Role:Coverage",
            "nflId:52453.0<br>displayName:Antoine Winfield<br>Position:FS<br>Role:Coverage"
           ],
           "marker": {
            "color": "#D50A0A"
           },
           "mode": "markers",
           "name": "TB",
           "type": "scatter",
           "x": [
            75.64,
            76.69,
            72.81,
            75.38,
            75.58,
            69.11,
            72.3,
            70.38,
            70.32,
            68.75,
            66
           ],
           "y": [
            28.75,
            21.34,
            25.08,
            32.11,
            25.59,
            38.88,
            27.64,
            33.1,
            12.31,
            21,
            26.52
           ]
          },
          {
           "hoverinfo": "text",
           "hovertext": [
            "nflId:37082.0<br>displayName:Tyron Smith<br>Position:LT<br>Role:Pass Block",
            "nflId:42347.0<br>displayName:Amari Cooper<br>Position:RWR<br>Role:Pass Route",
            "nflId:42654.0<br>displayName:La'el Collins<br>Position:RT<br>Role:Pass Block",
            "nflId:43424.0<br>displayName:Dak Prescott<br>Position:QB<br>Role:Pass",
            "nflId:45532.0<br>displayName:Blake Jarwin<br>Position:SRoWR<br>Role:Pass Route",
            "nflId:46119.0<br>displayName:Connor Williams<br>Position:LG<br>Role:Pass Block",
            "nflId:46150.0<br>displayName:Michael Gallup<br>Position:LWR<br>Role:Pass Route",
            "nflId:46206.0<br>displayName:Dalton Schultz<br>Position:SRiWR<br>Role:Pass Route",
            "nflId:47873.0<br>displayName:Connor McGovern<br>Position:RG<br>Role:Pass Block",
            "nflId:52425.0<br>displayName:CeeDee Lamb<br>Position:HB-R<br>Role:Pass Route",
            "nflId:52554.0<br>displayName:Tyler Biadasz<br>Position:C<br>Role:Pass Block"
           ],
           "marker": {
            "color": "#003594"
           },
           "mode": "markers",
           "name": "DAL",
           "type": "scatter",
           "x": [
            78.4,
            78.4,
            78.39,
            81.55,
            77.9,
            78.25,
            77.13,
            76.97,
            78.16,
            80.8,
            77.95
           ],
           "y": [
            23.07,
            37.52,
            29.29,
            26.49,
            34.05,
            25.11,
            9.79,
            31.15,
            28.03,
            29.92,
            26.43
           ]
          },
          {
           "hoverinfo": "none",
           "marker": {
            "color": "#CBB67C"
           },
           "mode": "markers",
           "name": "football",
           "type": "scatter",
           "x": [
            79.87
           ],
           "y": [
            26.42
           ]
          }
         ],
         "name": "9"
        },
        {
         "data": [
          {
           "hoverinfo": "none",
           "mode": "text",
           "showlegend": false,
           "text": [
            "10",
            "20",
            "30",
            "40",
            "50",
            "40",
            "30",
            "20",
            "10"
           ],
           "textfont": {
            "color": "#ffffff",
            "family": "Courier New, monospace",
            "size": 30
           },
           "type": "scatter",
           "x": [
            20,
            30,
            40,
            50,
            60,
            70,
            80,
            90,
            100
           ],
           "y": [
            5,
            5,
            5,
            5,
            5,
            5,
            5,
            5,
            5
           ]
          },
          {
           "hoverinfo": "none",
           "mode": "text",
           "showlegend": false,
           "text": [
            "10",
            "20",
            "30",
            "40",
            "50",
            "40",
            "30",
            "20",
            "10"
           ],
           "textfont": {
            "color": "#ffffff",
            "family": "Courier New, monospace",
            "size": 30
           },
           "type": "scatter",
           "x": [
            20,
            30,
            40,
            50,
            60,
            70,
            80,
            90,
            100
           ],
           "y": [
            48.5,
            48.5,
            48.5,
            48.5,
            48.5,
            48.5,
            48.5,
            48.5,
            48.5
           ]
          },
          {
           "hoverinfo": "none",
           "line": {
            "color": "blue",
            "dash": "dash"
           },
           "showlegend": false,
           "type": "scatter",
           "x": [
            76,
            76
           ],
           "y": [
            0,
            53.5
           ]
          },
          {
           "hoverinfo": "none",
           "line": {
            "color": "yellow",
            "dash": "dash"
           },
           "showlegend": false,
           "type": "scatter",
           "x": [
            82,
            82
           ],
           "y": [
            0,
            53.5
           ]
          },
          {
           "hoverinfo": "text",
           "hovertext": [
            "nflId:35441.0<br>displayName:Ndamukong Suh<br>Position:LILB<br>Role:Pass Rush",
            "nflId:35454.0<br>displayName:Jason Pierre-Paul<br>Position:REO<br>Role:Pass Rush",
            "nflId:38588.0<br>displayName:Lavonte David<br>Position:RILB<br>Role:Pass Rush",
            "nflId:41915.0<br>displayName:Shaquil Barrett<br>Position:SCBiL<br>Role:Coverage",
            "nflId:46081.0<br>displayName:Vita Vea<br>Position:DRT<br>Role:Pass Rush",
            "nflId:46132.0<br>displayName:Carlton Davis<br>Position:LCB<br>Role:Coverage",
            "nflId:47788.0<br>displayName:Devin White<br>Position:LILB<br>Role:Coverage",
            "nflId:47822.0<br>displayName:Sean Murphy-Bunting<br>Position:SCBiL<br>Role:Coverage",
            "nflId:47877.0<br>displayName:Jamel Dean<br>Position:RCB<br>Role:Coverage",
            "nflId:47882.0<br>displayName:Mike Edwards<br>Position:SSR<br>Role:Coverage",
            "nflId:52453.0<br>displayName:Antoine Winfield<br>Position:FS<br>Role:Coverage"
           ],
           "marker": {
            "color": "#D50A0A"
           },
           "mode": "markers",
           "name": "TB",
           "type": "scatter",
           "x": [
            75.83,
            76.89,
            72.9,
            75.35,
            75.71,
            68.95,
            72.27,
            70.23,
            70.27,
            68.89,
            65.86
           ],
           "y": [
            28.8,
            21.33,
            25.09,
            32.16,
            25.59,
            39.07,
            27.63,
            33.33,
            12.13,
            20.91,
            26.5
           ]
          },
          {
           "hoverinfo": "text",
           "hovertext": [
            "nflId:37082.0<br>displayName:Tyron Smith<br>Position:LT<br>Role:Pass Block",
            "nflId:42347.0<br>displayName:Amari Cooper<br>Position:RWR<br>Role:Pass Route",
            "nflId:42654.0<br>displayName:La'el Collins<br>Position:RT<br>Role:Pass Block",
            "nflId:43424.0<br>displayName:Dak Prescott<br>Position:QB<br>Role:Pass",
            "nflId:45532.0<br>displayName:Blake Jarwin<br>Position:SRoWR<br>Role:Pass Route",
            "nflId:46119.0<br>displayName:Connor Williams<br>Position:LG<br>Role:Pass Block",
            "nflId:46150.0<br>displayName:Michael Gallup<br>Position:LWR<br>Role:Pass Route",
            "nflId:46206.0<br>displayName:Dalton Schultz<br>Position:SRiWR<br>Role:Pass Route",
            "nflId:47873.0<br>displayName:Connor McGovern<br>Position:RG<br>Role:Pass Block",
            "nflId:52425.0<br>displayName:CeeDee Lamb<br>Position:HB-R<br>Role:Pass Route",
            "nflId:52554.0<br>displayName:Tyler Biadasz<br>Position:C<br>Role:Pass Block"
           ],
           "marker": {
            "color": "#003594"
           },
           "mode": "markers",
           "name": "DAL",
           "type": "scatter",
           "x": [
            78.48,
            78.21,
            78.45,
            81.68,
            77.73,
            78.34,
            76.97,
            76.74,
            78.28,
            80.67,
            78.1
           ],
           "y": [
            23.01,
            37.57,
            29.32,
            26.48,
            34.07,
            25.18,
            9.78,
            31.1,
            28.08,
            30.22,
            26.44
           ]
          },
          {
           "hoverinfo": "none",
           "marker": {
            "color": "#CBB67C"
           },
           "mode": "markers",
           "name": "football",
           "type": "scatter",
           "x": [
            80.41
           ],
           "y": [
            26.43
           ]
          }
         ],
         "name": "10"
        },
        {
         "data": [
          {
           "hoverinfo": "none",
           "mode": "text",
           "showlegend": false,
           "text": [
            "10",
            "20",
            "30",
            "40",
            "50",
            "40",
            "30",
            "20",
            "10"
           ],
           "textfont": {
            "color": "#ffffff",
            "family": "Courier New, monospace",
            "size": 30
           },
           "type": "scatter",
           "x": [
            20,
            30,
            40,
            50,
            60,
            70,
            80,
            90,
            100
           ],
           "y": [
            5,
            5,
            5,
            5,
            5,
            5,
            5,
            5,
            5
           ]
          },
          {
           "hoverinfo": "none",
           "mode": "text",
           "showlegend": false,
           "text": [
            "10",
            "20",
            "30",
            "40",
            "50",
            "40",
            "30",
            "20",
            "10"
           ],
           "textfont": {
            "color": "#ffffff",
            "family": "Courier New, monospace",
            "size": 30
           },
           "type": "scatter",
           "x": [
            20,
            30,
            40,
            50,
            60,
            70,
            80,
            90,
            100
           ],
           "y": [
            48.5,
            48.5,
            48.5,
            48.5,
            48.5,
            48.5,
            48.5,
            48.5,
            48.5
           ]
          },
          {
           "hoverinfo": "none",
           "line": {
            "color": "blue",
            "dash": "dash"
           },
           "showlegend": false,
           "type": "scatter",
           "x": [
            76,
            76
           ],
           "y": [
            0,
            53.5
           ]
          },
          {
           "hoverinfo": "none",
           "line": {
            "color": "yellow",
            "dash": "dash"
           },
           "showlegend": false,
           "type": "scatter",
           "x": [
            82,
            82
           ],
           "y": [
            0,
            53.5
           ]
          },
          {
           "hoverinfo": "text",
           "hovertext": [
            "nflId:35441.0<br>displayName:Ndamukong Suh<br>Position:LILB<br>Role:Pass Rush",
            "nflId:35454.0<br>displayName:Jason Pierre-Paul<br>Position:REO<br>Role:Pass Rush",
            "nflId:38588.0<br>displayName:Lavonte David<br>Position:RILB<br>Role:Pass Rush",
            "nflId:41915.0<br>displayName:Shaquil Barrett<br>Position:SCBiL<br>Role:Coverage",
            "nflId:46081.0<br>displayName:Vita Vea<br>Position:DRT<br>Role:Pass Rush",
            "nflId:46132.0<br>displayName:Carlton Davis<br>Position:LCB<br>Role:Coverage",
            "nflId:47788.0<br>displayName:Devin White<br>Position:LILB<br>Role:Coverage",
            "nflId:47822.0<br>displayName:Sean Murphy-Bunting<br>Position:SCBiL<br>Role:Coverage",
            "nflId:47877.0<br>displayName:Jamel Dean<br>Position:RCB<br>Role:Coverage",
            "nflId:47882.0<br>displayName:Mike Edwards<br>Position:SSR<br>Role:Coverage",
            "nflId:52453.0<br>displayName:Antoine Winfield<br>Position:FS<br>Role:Coverage"
           ],
           "marker": {
            "color": "#D50A0A"
           },
           "mode": "markers",
           "name": "TB",
           "type": "scatter",
           "x": [
            76.08,
            77.11,
            73.03,
            75.3,
            75.88,
            68.77,
            72.24,
            70.06,
            70.19,
            69.04,
            65.72
           ],
           "y": [
            28.85,
            21.33,
            25.11,
            32.24,
            25.61,
            39.26,
            27.65,
            33.57,
            11.96,
            20.81,
            26.48
           ]
          },
          {
           "hoverinfo": "text",
           "hovertext": [
            "nflId:37082.0<br>displayName:Tyron Smith<br>Position:LT<br>Role:Pass Block",
            "nflId:42347.0<br>displayName:Amari Cooper<br>Position:RWR<br>Role:Pass Route",
            "nflId:42654.0<br>displayName:La'el Collins<br>Position:RT<br>Role:Pass Block",
            "nflId:43424.0<br>displayName:Dak Prescott<br>Position:QB<br>Role:Pass",
            "nflId:45532.0<br>displayName:Blake Jarwin<br>Position:SRoWR<br>Role:Pass Route",
            "nflId:46119.0<br>displayName:Connor Williams<br>Position:LG<br>Role:Pass Block",
            "nflId:46150.0<br>displayName:Michael Gallup<br>Position:LWR<br>Role:Pass Route",
            "nflId:46206.0<br>displayName:Dalton Schultz<br>Position:SRiWR<br>Role:Pass Route",
            "nflId:47873.0<br>displayName:Connor McGovern<br>Position:RG<br>Role:Pass Block",
            "nflId:52425.0<br>displayName:CeeDee Lamb<br>Position:HB-R<br>Role:Pass Route",
            "nflId:52554.0<br>displayName:Tyler Biadasz<br>Position:C<br>Role:Pass Block"
           ],
           "marker": {
            "color": "#003594"
           },
           "mode": "markers",
           "name": "DAL",
           "type": "scatter",
           "x": [
            78.56,
            77.99,
            78.51,
            81.79,
            77.53,
            78.43,
            76.77,
            76.47,
            78.41,
            80.51,
            78.27
           ],
           "y": [
            22.95,
            37.62,
            29.34,
            26.48,
            34.12,
            25.25,
            9.76,
            31.03,
            28.14,
            30.56,
            26.46
           ]
          },
          {
           "hoverinfo": "none",
           "marker": {
            "color": "#CBB67C"
           },
           "mode": "markers",
           "name": "football",
           "type": "scatter",
           "x": [
            80.92
           ],
           "y": [
            26.44
           ]
          }
         ],
         "name": "11"
        },
        {
         "data": [
          {
           "hoverinfo": "none",
           "mode": "text",
           "showlegend": false,
           "text": [
            "10",
            "20",
            "30",
            "40",
            "50",
            "40",
            "30",
            "20",
            "10"
           ],
           "textfont": {
            "color": "#ffffff",
            "family": "Courier New, monospace",
            "size": 30
           },
           "type": "scatter",
           "x": [
            20,
            30,
            40,
            50,
            60,
            70,
            80,
            90,
            100
           ],
           "y": [
            5,
            5,
            5,
            5,
            5,
            5,
            5,
            5,
            5
           ]
          },
          {
           "hoverinfo": "none",
           "mode": "text",
           "showlegend": false,
           "text": [
            "10",
            "20",
            "30",
            "40",
            "50",
            "40",
            "30",
            "20",
            "10"
           ],
           "textfont": {
            "color": "#ffffff",
            "family": "Courier New, monospace",
            "size": 30
           },
           "type": "scatter",
           "x": [
            20,
            30,
            40,
            50,
            60,
            70,
            80,
            90,
            100
           ],
           "y": [
            48.5,
            48.5,
            48.5,
            48.5,
            48.5,
            48.5,
            48.5,
            48.5,
            48.5
           ]
          },
          {
           "hoverinfo": "none",
           "line": {
            "color": "blue",
            "dash": "dash"
           },
           "showlegend": false,
           "type": "scatter",
           "x": [
            76,
            76
           ],
           "y": [
            0,
            53.5
           ]
          },
          {
           "hoverinfo": "none",
           "line": {
            "color": "yellow",
            "dash": "dash"
           },
           "showlegend": false,
           "type": "scatter",
           "x": [
            82,
            82
           ],
           "y": [
            0,
            53.5
           ]
          },
          {
           "hoverinfo": "text",
           "hovertext": [
            "nflId:35441.0<br>displayName:Ndamukong Suh<br>Position:LILB<br>Role:Pass Rush",
            "nflId:35454.0<br>displayName:Jason Pierre-Paul<br>Position:REO<br>Role:Pass Rush",
            "nflId:38588.0<br>displayName:Lavonte David<br>Position:RILB<br>Role:Pass Rush",
            "nflId:41915.0<br>displayName:Shaquil Barrett<br>Position:SCBiL<br>Role:Coverage",
            "nflId:46081.0<br>displayName:Vita Vea<br>Position:DRT<br>Role:Pass Rush",
            "nflId:46132.0<br>displayName:Carlton Davis<br>Position:LCB<br>Role:Coverage",
            "nflId:47788.0<br>displayName:Devin White<br>Position:LILB<br>Role:Coverage",
            "nflId:47822.0<br>displayName:Sean Murphy-Bunting<br>Position:SCBiL<br>Role:Coverage",
            "nflId:47877.0<br>displayName:Jamel Dean<br>Position:RCB<br>Role:Coverage",
            "nflId:47882.0<br>displayName:Mike Edwards<br>Position:SSR<br>Role:Coverage",
            "nflId:52453.0<br>displayName:Antoine Winfield<br>Position:FS<br>Role:Coverage"
           ],
           "marker": {
            "color": "#D50A0A"
           },
           "mode": "markers",
           "name": "TB",
           "type": "scatter",
           "x": [
            76.35,
            77.36,
            73.2,
            75.25,
            76.1,
            68.57,
            72.21,
            69.89,
            70.09,
            69.2,
            65.56
           ],
           "y": [
            28.9,
            21.36,
            25.13,
            32.32,
            25.62,
            39.44,
            27.68,
            33.82,
            11.8,
            20.71,
            26.47
           ]
          },
          {
           "hoverinfo": "text",
           "hovertext": [
            "nflId:37082.0<br>displayName:Tyron Smith<br>Position:LT<br>Role:Pass Block",
            "nflId:42347.0<br>displayName:Amari Cooper<br>Position:RWR<br>Role:Pass Route",
            "nflId:42654.0<br>displayName:La'el Collins<br>Position:RT<br>Role:Pass Block",
            "nflId:43424.0<br>displayName:Dak Prescott<br>Position:QB<br>Role:Pass",
            "nflId:45532.0<br>displayName:Blake Jarwin<br>Position:SRoWR<br>Role:Pass Route",
            "nflId:46119.0<br>displayName:Connor Williams<br>Position:LG<br>Role:Pass Block",
            "nflId:46150.0<br>displayName:Michael Gallup<br>Position:LWR<br>Role:Pass Route",
            "nflId:46206.0<br>displayName:Dalton Schultz<br>Position:SRiWR<br>Role:Pass Route",
            "nflId:47873.0<br>displayName:Connor McGovern<br>Position:RG<br>Role:Pass Block",
            "nflId:52425.0<br>displayName:CeeDee Lamb<br>Position:HB-R<br>Role:Pass Route",
            "nflId:52554.0<br>displayName:Tyler Biadasz<br>Position:C<br>Role:Pass Block"
           ],
           "marker": {
            "color": "#003594"
           },
           "mode": "markers",
           "name": "DAL",
           "type": "scatter",
           "x": [
            78.67,
            77.71,
            78.61,
            81.92,
            77.28,
            78.54,
            76.5,
            76.15,
            78.54,
            80.32,
            78.46
           ],
           "y": [
            22.87,
            37.66,
            29.39,
            26.49,
            34.22,
            25.31,
            9.74,
            30.95,
            28.2,
            30.93,
            26.53
           ]
          },
          {
           "hoverinfo": "none",
           "marker": {
            "color": "#CBB67C"
           },
           "mode": "markers",
           "name": "football",
           "type": "scatter",
           "x": [
            81.4
           ],
           "y": [
            26.45
           ]
          }
         ],
         "name": "12"
        },
        {
         "data": [
          {
           "hoverinfo": "none",
           "mode": "text",
           "showlegend": false,
           "text": [
            "10",
            "20",
            "30",
            "40",
            "50",
            "40",
            "30",
            "20",
            "10"
           ],
           "textfont": {
            "color": "#ffffff",
            "family": "Courier New, monospace",
            "size": 30
           },
           "type": "scatter",
           "x": [
            20,
            30,
            40,
            50,
            60,
            70,
            80,
            90,
            100
           ],
           "y": [
            5,
            5,
            5,
            5,
            5,
            5,
            5,
            5,
            5
           ]
          },
          {
           "hoverinfo": "none",
           "mode": "text",
           "showlegend": false,
           "text": [
            "10",
            "20",
            "30",
            "40",
            "50",
            "40",
            "30",
            "20",
            "10"
           ],
           "textfont": {
            "color": "#ffffff",
            "family": "Courier New, monospace",
            "size": 30
           },
           "type": "scatter",
           "x": [
            20,
            30,
            40,
            50,
            60,
            70,
            80,
            90,
            100
           ],
           "y": [
            48.5,
            48.5,
            48.5,
            48.5,
            48.5,
            48.5,
            48.5,
            48.5,
            48.5
           ]
          },
          {
           "hoverinfo": "none",
           "line": {
            "color": "blue",
            "dash": "dash"
           },
           "showlegend": false,
           "type": "scatter",
           "x": [
            76,
            76
           ],
           "y": [
            0,
            53.5
           ]
          },
          {
           "hoverinfo": "none",
           "line": {
            "color": "yellow",
            "dash": "dash"
           },
           "showlegend": false,
           "type": "scatter",
           "x": [
            82,
            82
           ],
           "y": [
            0,
            53.5
           ]
          },
          {
           "hoverinfo": "text",
           "hovertext": [
            "nflId:35441.0<br>displayName:Ndamukong Suh<br>Position:LILB<br>Role:Pass Rush",
            "nflId:35454.0<br>displayName:Jason Pierre-Paul<br>Position:REO<br>Role:Pass Rush",
            "nflId:38588.0<br>displayName:Lavonte David<br>Position:RILB<br>Role:Pass Rush",
            "nflId:41915.0<br>displayName:Shaquil Barrett<br>Position:SCBiL<br>Role:Coverage",
            "nflId:46081.0<br>displayName:Vita Vea<br>Position:DRT<br>Role:Pass Rush",
            "nflId:46132.0<br>displayName:Carlton Davis<br>Position:LCB<br>Role:Coverage",
            "nflId:47788.0<br>displayName:Devin White<br>Position:LILB<br>Role:Coverage",
            "nflId:47822.0<br>displayName:Sean Murphy-Bunting<br>Position:SCBiL<br>Role:Coverage",
            "nflId:47877.0<br>displayName:Jamel Dean<br>Position:RCB<br>Role:Coverage",
            "nflId:47882.0<br>displayName:Mike Edwards<br>Position:SSR<br>Role:Coverage",
            "nflId:52453.0<br>displayName:Antoine Winfield<br>Position:FS<br>Role:Coverage"
           ],
           "marker": {
            "color": "#D50A0A"
           },
           "mode": "markers",
           "name": "TB",
           "type": "scatter",
           "x": [
            76.65,
            77.61,
            73.42,
            75.2,
            76.36,
            68.35,
            72.18,
            69.67,
            69.97,
            69.36,
            65.39
           ],
           "y": [
            28.96,
            21.43,
            25.18,
            32.44,
            25.64,
            39.62,
            27.74,
            34.08,
            11.65,
            20.6,
            26.47
           ]
          },
          {
           "hoverinfo": "text",
           "hovertext": [
            "nflId:37082.0<br>displayName:Tyron Smith<br>Position:LT<br>Role:Pass Block",
            "nflId:42347.0<br>displayName:Amari Cooper<br>Position:RWR<br>Role:Pass Route",
            "nflId:42654.0<br>displayName:La'el Collins<br>Position:RT<br>Role:Pass Block",
            "nflId:43424.0<br>displayName:Dak Prescott<br>Position:QB<br>Role:Pass",
            "nflId:45532.0<br>displayName:Blake Jarwin<br>Position:SRoWR<br>Role:Pass Route",
            "nflId:46119.0<br>displayName:Connor Williams<br>Position:LG<br>Role:Pass Block",
            "nflId:46150.0<br>displayName:Michael Gallup<br>Position:LWR<br>Role:Pass Route",
            "nflId:46206.0<br>displayName:Dalton Schultz<br>Position:SRiWR<br>Role:Pass Route",
            "nflId:47873.0<br>displayName:Connor McGovern<br>Position:RG<br>Role:Pass Block",
            "nflId:52425.0<br>displayName:CeeDee Lamb<br>Position:HB-R<br>Role:Pass Route",
            "nflId:52554.0<br>displayName:Tyler Biadasz<br>Position:C<br>Role:Pass Block"
           ],
           "marker": {
            "color": "#003594"
           },
           "mode": "markers",
           "name": "DAL",
           "type": "scatter",
           "x": [
            78.8,
            77.36,
            78.73,
            82.05,
            77.01,
            78.66,
            76.2,
            75.79,
            78.7,
            80.1,
            78.66
           ],
           "y": [
            22.79,
            37.7,
            29.44,
            26.48,
            34.33,
            25.37,
            9.72,
            30.86,
            28.26,
            31.35,
            26.59
           ]
          },
          {
           "hoverinfo": "none",
           "marker": {
            "color": "#CBB67C"
           },
           "mode": "markers",
           "name": "football",
           "type": "scatter",
           "x": [
            81.83
           ],
           "y": [
            26.45
           ]
          }
         ],
         "name": "13"
        },
        {
         "data": [
          {
           "hoverinfo": "none",
           "mode": "text",
           "showlegend": false,
           "text": [
            "10",
            "20",
            "30",
            "40",
            "50",
            "40",
            "30",
            "20",
            "10"
           ],
           "textfont": {
            "color": "#ffffff",
            "family": "Courier New, monospace",
            "size": 30
           },
           "type": "scatter",
           "x": [
            20,
            30,
            40,
            50,
            60,
            70,
            80,
            90,
            100
           ],
           "y": [
            5,
            5,
            5,
            5,
            5,
            5,
            5,
            5,
            5
           ]
          },
          {
           "hoverinfo": "none",
           "mode": "text",
           "showlegend": false,
           "text": [
            "10",
            "20",
            "30",
            "40",
            "50",
            "40",
            "30",
            "20",
            "10"
           ],
           "textfont": {
            "color": "#ffffff",
            "family": "Courier New, monospace",
            "size": 30
           },
           "type": "scatter",
           "x": [
            20,
            30,
            40,
            50,
            60,
            70,
            80,
            90,
            100
           ],
           "y": [
            48.5,
            48.5,
            48.5,
            48.5,
            48.5,
            48.5,
            48.5,
            48.5,
            48.5
           ]
          },
          {
           "hoverinfo": "none",
           "line": {
            "color": "blue",
            "dash": "dash"
           },
           "showlegend": false,
           "type": "scatter",
           "x": [
            76,
            76
           ],
           "y": [
            0,
            53.5
           ]
          },
          {
           "hoverinfo": "none",
           "line": {
            "color": "yellow",
            "dash": "dash"
           },
           "showlegend": false,
           "type": "scatter",
           "x": [
            82,
            82
           ],
           "y": [
            0,
            53.5
           ]
          },
          {
           "hoverinfo": "text",
           "hovertext": [
            "nflId:35441.0<br>displayName:Ndamukong Suh<br>Position:LILB<br>Role:Pass Rush",
            "nflId:35454.0<br>displayName:Jason Pierre-Paul<br>Position:REO<br>Role:Pass Rush",
            "nflId:38588.0<br>displayName:Lavonte David<br>Position:RILB<br>Role:Pass Rush",
            "nflId:41915.0<br>displayName:Shaquil Barrett<br>Position:SCBiL<br>Role:Coverage",
            "nflId:46081.0<br>displayName:Vita Vea<br>Position:DRT<br>Role:Pass Rush",
            "nflId:46132.0<br>displayName:Carlton Davis<br>Position:LCB<br>Role:Coverage",
            "nflId:47788.0<br>displayName:Devin White<br>Position:LILB<br>Role:Coverage",
            "nflId:47822.0<br>displayName:Sean Murphy-Bunting<br>Position:SCBiL<br>Role:Coverage",
            "nflId:47877.0<br>displayName:Jamel Dean<br>Position:RCB<br>Role:Coverage",
            "nflId:47882.0<br>displayName:Mike Edwards<br>Position:SSR<br>Role:Coverage",
            "nflId:52453.0<br>displayName:Antoine Winfield<br>Position:FS<br>Role:Coverage"
           ],
           "marker": {
            "color": "#D50A0A"
           },
           "mode": "markers",
           "name": "TB",
           "type": "scatter",
           "x": [
            77,
            77.86,
            73.69,
            75.15,
            76.66,
            68.11,
            72.15,
            69.43,
            69.83,
            69.51,
            65.2
           ],
           "y": [
            29.03,
            21.51,
            25.23,
            32.59,
            25.68,
            39.79,
            27.81,
            34.34,
            11.52,
            20.44,
            26.48
           ]
          },
          {
           "hoverinfo": "text",
           "hovertext": [
            "nflId:37082.0<br>displayName:Tyron Smith<br>Position:LT<br>Role:Pass Block",
            "nflId:42347.0<br>displayName:Amari Cooper<br>Position:RWR<br>Role:Pass Route",
            "nflId:42654.0<br>displayName:La'el Collins<br>Position:RT<br>Role:Pass Block",
            "nflId:43424.0<br>displayName:Dak Prescott<br>Position:QB<br>Role:Pass",
            "nflId:45532.0<br>displayName:Blake Jarwin<br>Position:SRoWR<br>Role:Pass Route",
            "nflId:46119.0<br>displayName:Connor Williams<br>Position:LG<br>Role:Pass Block",
            "nflId:46150.0<br>displayName:Michael Gallup<br>Position:LWR<br>Role:Pass Route",
            "nflId:46206.0<br>displayName:Dalton Schultz<br>Position:SRiWR<br>Role:Pass Route",
            "nflId:47873.0<br>displayName:Connor McGovern<br>Position:RG<br>Role:Pass Block",
            "nflId:52425.0<br>displayName:CeeDee Lamb<br>Position:HB-R<br>Role:Pass Route",
            "nflId:52554.0<br>displayName:Tyler Biadasz<br>Position:C<br>Role:Pass Block"
           ],
           "marker": {
            "color": "#003594"
           },
           "mode": "markers",
           "name": "DAL",
           "type": "scatter",
           "x": [
            78.95,
            76.97,
            78.87,
            82.22,
            76.68,
            78.76,
            75.83,
            75.39,
            78.86,
            79.87,
            78.88
           ],
           "y": [
            22.72,
            37.73,
            29.51,
            26.48,
            34.48,
            25.44,
            9.7,
            30.75,
            28.33,
            31.82,
            26.67
           ]
          },
          {
           "hoverinfo": "none",
           "marker": {
            "color": "#CBB67C"
           },
           "mode": "markers",
           "name": "football",
           "type": "scatter",
           "x": [
            82.21
           ],
           "y": [
            26.45
           ]
          }
         ],
         "name": "14"
        },
        {
         "data": [
          {
           "hoverinfo": "none",
           "mode": "text",
           "showlegend": false,
           "text": [
            "10",
            "20",
            "30",
            "40",
            "50",
            "40",
            "30",
            "20",
            "10"
           ],
           "textfont": {
            "color": "#ffffff",
            "family": "Courier New, monospace",
            "size": 30
           },
           "type": "scatter",
           "x": [
            20,
            30,
            40,
            50,
            60,
            70,
            80,
            90,
            100
           ],
           "y": [
            5,
            5,
            5,
            5,
            5,
            5,
            5,
            5,
            5
           ]
          },
          {
           "hoverinfo": "none",
           "mode": "text",
           "showlegend": false,
           "text": [
            "10",
            "20",
            "30",
            "40",
            "50",
            "40",
            "30",
            "20",
            "10"
           ],
           "textfont": {
            "color": "#ffffff",
            "family": "Courier New, monospace",
            "size": 30
           },
           "type": "scatter",
           "x": [
            20,
            30,
            40,
            50,
            60,
            70,
            80,
            90,
            100
           ],
           "y": [
            48.5,
            48.5,
            48.5,
            48.5,
            48.5,
            48.5,
            48.5,
            48.5,
            48.5
           ]
          },
          {
           "hoverinfo": "none",
           "line": {
            "color": "blue",
            "dash": "dash"
           },
           "showlegend": false,
           "type": "scatter",
           "x": [
            76,
            76
           ],
           "y": [
            0,
            53.5
           ]
          },
          {
           "hoverinfo": "none",
           "line": {
            "color": "yellow",
            "dash": "dash"
           },
           "showlegend": false,
           "type": "scatter",
           "x": [
            82,
            82
           ],
           "y": [
            0,
            53.5
           ]
          },
          {
           "hoverinfo": "text",
           "hovertext": [
            "nflId:35441.0<br>displayName:Ndamukong Suh<br>Position:LILB<br>Role:Pass Rush",
            "nflId:35454.0<br>displayName:Jason Pierre-Paul<br>Position:REO<br>Role:Pass Rush",
            "nflId:38588.0<br>displayName:Lavonte David<br>Position:RILB<br>Role:Pass Rush",
            "nflId:41915.0<br>displayName:Shaquil Barrett<br>Position:SCBiL<br>Role:Coverage",
            "nflId:46081.0<br>displayName:Vita Vea<br>Position:DRT<br>Role:Pass Rush",
            "nflId:46132.0<br>displayName:Carlton Davis<br>Position:LCB<br>Role:Coverage",
            "nflId:47788.0<br>displayName:Devin White<br>Position:LILB<br>Role:Coverage",
            "nflId:47822.0<br>displayName:Sean Murphy-Bunting<br>Position:SCBiL<br>Role:Coverage",
            "nflId:47877.0<br>displayName:Jamel Dean<br>Position:RCB<br>Role:Coverage",
            "nflId:47882.0<br>displayName:Mike Edwards<br>Position:SSR<br>Role:Coverage",
            "nflId:52453.0<br>displayName:Antoine Winfield<br>Position:FS<br>Role:Coverage"
           ],
           "marker": {
            "color": "#D50A0A"
           },
           "mode": "markers",
           "name": "TB",
           "type": "scatter",
           "x": [
            77.36,
            78.1,
            74.02,
            75.11,
            76.98,
            67.85,
            72.11,
            69.18,
            69.64,
            69.66,
            65.01
           ],
           "y": [
            29.09,
            21.64,
            25.3,
            32.77,
            25.72,
            39.96,
            27.87,
            34.61,
            11.39,
            20.27,
            26.51
           ]
          },
          {
           "hoverinfo": "text",
           "hovertext": [
            "nflId:37082.0<br>displayName:Tyron Smith<br>Position:LT<br>Role:Pass Block",
            "nflId:42347.0<br>displayName:Amari Cooper<br>Position:RWR<br>Role:Pass Route",
            "nflId:42654.0<br>displayName:La'el Collins<br>Position:RT<br>Role:Pass Block",
            "nflId:43424.0<br>displayName:Dak Prescott<br>Position:QB<br>Role:Pass",
            "nflId:45532.0<br>displayName:Blake Jarwin<br>Position:SRoWR<br>Role:Pass Route",
            "nflId:46119.0<br>displayName:Connor Williams<br>Position:LG<br>Role:Pass Block",
            "nflId:46150.0<br>displayName:Michael Gallup<br>Position:LWR<br>Role:Pass Route",
            "nflId:46206.0<br>displayName:Dalton Schultz<br>Position:SRiWR<br>Role:Pass Route",
            "nflId:47873.0<br>displayName:Connor McGovern<br>Position:RG<br>Role:Pass Block",
            "nflId:52425.0<br>displayName:CeeDee Lamb<br>Position:HB-R<br>Role:Pass Route",
            "nflId:52554.0<br>displayName:Tyler Biadasz<br>Position:C<br>Role:Pass Block"
           ],
           "marker": {
            "color": "#003594"
           },
           "mode": "markers",
           "name": "DAL",
           "type": "scatter",
           "x": [
            79.1,
            76.53,
            79.02,
            82.4,
            76.31,
            78.88,
            75.42,
            74.96,
            79.06,
            79.62,
            79.09
           ],
           "y": [
            22.67,
            37.76,
            29.57,
            26.48,
            34.65,
            25.52,
            9.69,
            30.6,
            28.43,
            32.32,
            26.76
           ]
          },
          {
           "hoverinfo": "none",
           "marker": {
            "color": "#CBB67C"
           },
           "mode": "markers",
           "name": "football",
           "type": "scatter",
           "x": [
            82.55
           ],
           "y": [
            26.45
           ]
          }
         ],
         "name": "15"
        },
        {
         "data": [
          {
           "hoverinfo": "none",
           "mode": "text",
           "showlegend": false,
           "text": [
            "10",
            "20",
            "30",
            "40",
            "50",
            "40",
            "30",
            "20",
            "10"
           ],
           "textfont": {
            "color": "#ffffff",
            "family": "Courier New, monospace",
            "size": 30
           },
           "type": "scatter",
           "x": [
            20,
            30,
            40,
            50,
            60,
            70,
            80,
            90,
            100
           ],
           "y": [
            5,
            5,
            5,
            5,
            5,
            5,
            5,
            5,
            5
           ]
          },
          {
           "hoverinfo": "none",
           "mode": "text",
           "showlegend": false,
           "text": [
            "10",
            "20",
            "30",
            "40",
            "50",
            "40",
            "30",
            "20",
            "10"
           ],
           "textfont": {
            "color": "#ffffff",
            "family": "Courier New, monospace",
            "size": 30
           },
           "type": "scatter",
           "x": [
            20,
            30,
            40,
            50,
            60,
            70,
            80,
            90,
            100
           ],
           "y": [
            48.5,
            48.5,
            48.5,
            48.5,
            48.5,
            48.5,
            48.5,
            48.5,
            48.5
           ]
          },
          {
           "hoverinfo": "none",
           "line": {
            "color": "blue",
            "dash": "dash"
           },
           "showlegend": false,
           "type": "scatter",
           "x": [
            76,
            76
           ],
           "y": [
            0,
            53.5
           ]
          },
          {
           "hoverinfo": "none",
           "line": {
            "color": "yellow",
            "dash": "dash"
           },
           "showlegend": false,
           "type": "scatter",
           "x": [
            82,
            82
           ],
           "y": [
            0,
            53.5
           ]
          },
          {
           "hoverinfo": "text",
           "hovertext": [
            "nflId:35441.0<br>displayName:Ndamukong Suh<br>Position:LILB<br>Role:Pass Rush",
            "nflId:35454.0<br>displayName:Jason Pierre-Paul<br>Position:REO<br>Role:Pass Rush",
            "nflId:38588.0<br>displayName:Lavonte David<br>Position:RILB<br>Role:Pass Rush",
            "nflId:41915.0<br>displayName:Shaquil Barrett<br>Position:SCBiL<br>Role:Coverage",
            "nflId:46081.0<br>displayName:Vita Vea<br>Position:DRT<br>Role:Pass Rush",
            "nflId:46132.0<br>displayName:Carlton Davis<br>Position:LCB<br>Role:Coverage",
            "nflId:47788.0<br>displayName:Devin White<br>Position:LILB<br>Role:Coverage",
            "nflId:47822.0<br>displayName:Sean Murphy-Bunting<br>Position:SCBiL<br>Role:Coverage",
            "nflId:47877.0<br>displayName:Jamel Dean<br>Position:RCB<br>Role:Coverage",
            "nflId:47882.0<br>displayName:Mike Edwards<br>Position:SSR<br>Role:Coverage",
            "nflId:52453.0<br>displayName:Antoine Winfield<br>Position:FS<br>Role:Coverage"
           ],
           "marker": {
            "color": "#D50A0A"
           },
           "mode": "markers",
           "name": "TB",
           "type": "scatter",
           "x": [
            77.73,
            78.32,
            74.39,
            75.08,
            77.3,
            67.55,
            72.07,
            68.86,
            69.43,
            69.79,
            64.8
           ],
           "y": [
            29.13,
            21.82,
            25.37,
            32.99,
            25.77,
            40.13,
            27.92,
            34.86,
            11.27,
            20.07,
            26.55
           ]
          },
          {
           "hoverinfo": "text",
           "hovertext": [
            "nflId:37082.0<br>displayName:Tyron Smith<br>Position:LT<br>Role:Pass Block",
            "nflId:42347.0<br>displayName:Amari Cooper<br>Position:RWR<br>Role:Pass Route",
            "nflId:42654.0<br>displayName:La'el Collins<br>Position:RT<br>Role:Pass Block",
            "nflId:43424.0<br>displayName:Dak Prescott<br>Position:QB<br>Role:Pass",
            "nflId:45532.0<br>displayName:Blake Jarwin<br>Position:SRoWR<br>Role:Pass Route",
            "nflId:46119.0<br>displayName:Connor Williams<br>Position:LG<br>Role:Pass Block",
            "nflId:46150.0<br>displayName:Michael Gallup<br>Position:LWR<br>Role:Pass Route",
            "nflId:46206.0<br>displayName:Dalton Schultz<br>Position:SRiWR<br>Role:Pass Route",
            "nflId:47873.0<br>displayName:Connor McGovern<br>Position:RG<br>Role:Pass Block",
            "nflId:52425.0<br>displayName:CeeDee Lamb<br>Position:HB-R<br>Role:Pass Route",
            "nflId:52554.0<br>displayName:Tyler Biadasz<br>Position:C<br>Role:Pass Block"
           ],
           "marker": {
            "color": "#003594"
           },
           "mode": "markers",
           "name": "DAL",
           "type": "scatter",
           "x": [
            79.26,
            76.06,
            79.18,
            82.59,
            75.92,
            78.99,
            74.94,
            74.52,
            79.27,
            79.36,
            79.3
           ],
           "y": [
            22.63,
            37.78,
            29.61,
            26.48,
            34.84,
            25.59,
            9.7,
            30.45,
            28.5,
            32.86,
            26.83
           ]
          },
          {
           "hoverinfo": "none",
           "marker": {
            "color": "#CBB67C"
           },
           "mode": "markers",
           "name": "football",
           "type": "scatter",
           "x": [
            82.82
           ],
           "y": [
            26.47
           ]
          }
         ],
         "name": "16"
        },
        {
         "data": [
          {
           "hoverinfo": "none",
           "mode": "text",
           "showlegend": false,
           "text": [
            "10",
            "20",
            "30",
            "40",
            "50",
            "40",
            "30",
            "20",
            "10"
           ],
           "textfont": {
            "color": "#ffffff",
            "family": "Courier New, monospace",
            "size": 30
           },
           "type": "scatter",
           "x": [
            20,
            30,
            40,
            50,
            60,
            70,
            80,
            90,
            100
           ],
           "y": [
            5,
            5,
            5,
            5,
            5,
            5,
            5,
            5,
            5
           ]
          },
          {
           "hoverinfo": "none",
           "mode": "text",
           "showlegend": false,
           "text": [
            "10",
            "20",
            "30",
            "40",
            "50",
            "40",
            "30",
            "20",
            "10"
           ],
           "textfont": {
            "color": "#ffffff",
            "family": "Courier New, monospace",
            "size": 30
           },
           "type": "scatter",
           "x": [
            20,
            30,
            40,
            50,
            60,
            70,
            80,
            90,
            100
           ],
           "y": [
            48.5,
            48.5,
            48.5,
            48.5,
            48.5,
            48.5,
            48.5,
            48.5,
            48.5
           ]
          },
          {
           "hoverinfo": "none",
           "line": {
            "color": "blue",
            "dash": "dash"
           },
           "showlegend": false,
           "type": "scatter",
           "x": [
            76,
            76
           ],
           "y": [
            0,
            53.5
           ]
          },
          {
           "hoverinfo": "none",
           "line": {
            "color": "yellow",
            "dash": "dash"
           },
           "showlegend": false,
           "type": "scatter",
           "x": [
            82,
            82
           ],
           "y": [
            0,
            53.5
           ]
          },
          {
           "hoverinfo": "text",
           "hovertext": [
            "nflId:35441.0<br>displayName:Ndamukong Suh<br>Position:LILB<br>Role:Pass Rush",
            "nflId:35454.0<br>displayName:Jason Pierre-Paul<br>Position:REO<br>Role:Pass Rush",
            "nflId:38588.0<br>displayName:Lavonte David<br>Position:RILB<br>Role:Pass Rush",
            "nflId:41915.0<br>displayName:Shaquil Barrett<br>Position:SCBiL<br>Role:Coverage",
            "nflId:46081.0<br>displayName:Vita Vea<br>Position:DRT<br>Role:Pass Rush",
            "nflId:46132.0<br>displayName:Carlton Davis<br>Position:LCB<br>Role:Coverage",
            "nflId:47788.0<br>displayName:Devin White<br>Position:LILB<br>Role:Coverage",
            "nflId:47822.0<br>displayName:Sean Murphy-Bunting<br>Position:SCBiL<br>Role:Coverage",
            "nflId:47877.0<br>displayName:Jamel Dean<br>Position:RCB<br>Role:Coverage",
            "nflId:47882.0<br>displayName:Mike Edwards<br>Position:SSR<br>Role:Coverage",
            "nflId:52453.0<br>displayName:Antoine Winfield<br>Position:FS<br>Role:Coverage"
           ],
           "marker": {
            "color": "#D50A0A"
           },
           "mode": "markers",
           "name": "TB",
           "type": "scatter",
           "x": [
            78.07,
            78.51,
            74.82,
            75.06,
            77.62,
            67.24,
            72.02,
            68.49,
            69.19,
            69.91,
            64.58
           ],
           "y": [
            29.15,
            22.06,
            25.45,
            33.24,
            25.84,
            40.29,
            27.92,
            35.11,
            11.15,
            19.84,
            26.6
           ]
          },
          {
           "hoverinfo": "text",
           "hovertext": [
            "nflId:37082.0<br>displayName:Tyron Smith<br>Position:LT<br>Role:Pass Block",
            "nflId:42347.0<br>displayName:Amari Cooper<br>Position:RWR<br>Role:Pass Route",
            "nflId:42654.0<br>displayName:La'el Collins<br>Position:RT<br>Role:Pass Block",
            "nflId:43424.0<br>displayName:Dak Prescott<br>Position:QB<br>Role:Pass",
            "nflId:45532.0<br>displayName:Blake Jarwin<br>Position:SRoWR<br>Role:Pass Route",
            "nflId:46119.0<br>displayName:Connor Williams<br>Position:LG<br>Role:Pass Block",
            "nflId:46150.0<br>displayName:Michael Gallup<br>Position:LWR<br>Role:Pass Route",
            "nflId:46206.0<br>displayName:Dalton Schultz<br>Position:SRiWR<br>Role:Pass Route",
            "nflId:47873.0<br>displayName:Connor McGovern<br>Position:RG<br>Role:Pass Block",
            "nflId:52425.0<br>displayName:CeeDee Lamb<br>Position:HB-R<br>Role:Pass Route",
            "nflId:52554.0<br>displayName:Tyler Biadasz<br>Position:C<br>Role:Pass Block"
           ],
           "marker": {
            "color": "#003594"
           },
           "mode": "markers",
           "name": "DAL",
           "type": "scatter",
           "x": [
            79.41,
            75.55,
            79.33,
            82.79,
            75.48,
            79.11,
            74.43,
            74.07,
            79.47,
            79.1,
            79.52
           ],
           "y": [
            22.63,
            37.8,
            29.66,
            26.48,
            35.05,
            25.67,
            9.74,
            30.28,
            28.55,
            33.43,
            26.92
           ]
          },
          {
           "hoverinfo": "none",
           "marker": {
            "color": "#CBB67C"
           },
           "mode": "markers",
           "name": "football",
           "type": "scatter",
           "x": [
            83.05
           ],
           "y": [
            26.47
           ]
          }
         ],
         "name": "17"
        },
        {
         "data": [
          {
           "hoverinfo": "none",
           "mode": "text",
           "showlegend": false,
           "text": [
            "10",
            "20",
            "30",
            "40",
            "50",
            "40",
            "30",
            "20",
            "10"
           ],
           "textfont": {
            "color": "#ffffff",
            "family": "Courier New, monospace",
            "size": 30
           },
           "type": "scatter",
           "x": [
            20,
            30,
            40,
            50,
            60,
            70,
            80,
            90,
            100
           ],
           "y": [
            5,
            5,
            5,
            5,
            5,
            5,
            5,
            5,
            5
           ]
          },
          {
           "hoverinfo": "none",
           "mode": "text",
           "showlegend": false,
           "text": [
            "10",
            "20",
            "30",
            "40",
            "50",
            "40",
            "30",
            "20",
            "10"
           ],
           "textfont": {
            "color": "#ffffff",
            "family": "Courier New, monospace",
            "size": 30
           },
           "type": "scatter",
           "x": [
            20,
            30,
            40,
            50,
            60,
            70,
            80,
            90,
            100
           ],
           "y": [
            48.5,
            48.5,
            48.5,
            48.5,
            48.5,
            48.5,
            48.5,
            48.5,
            48.5
           ]
          },
          {
           "hoverinfo": "none",
           "line": {
            "color": "blue",
            "dash": "dash"
           },
           "showlegend": false,
           "type": "scatter",
           "x": [
            76,
            76
           ],
           "y": [
            0,
            53.5
           ]
          },
          {
           "hoverinfo": "none",
           "line": {
            "color": "yellow",
            "dash": "dash"
           },
           "showlegend": false,
           "type": "scatter",
           "x": [
            82,
            82
           ],
           "y": [
            0,
            53.5
           ]
          },
          {
           "hoverinfo": "text",
           "hovertext": [
            "nflId:35441.0<br>displayName:Ndamukong Suh<br>Position:LILB<br>Role:Pass Rush",
            "nflId:35454.0<br>displayName:Jason Pierre-Paul<br>Position:REO<br>Role:Pass Rush",
            "nflId:38588.0<br>displayName:Lavonte David<br>Position:RILB<br>Role:Pass Rush",
            "nflId:41915.0<br>displayName:Shaquil Barrett<br>Position:SCBiL<br>Role:Coverage",
            "nflId:46081.0<br>displayName:Vita Vea<br>Position:DRT<br>Role:Pass Rush",
            "nflId:46132.0<br>displayName:Carlton Davis<br>Position:LCB<br>Role:Coverage",
            "nflId:47788.0<br>displayName:Devin White<br>Position:LILB<br>Role:Coverage",
            "nflId:47822.0<br>displayName:Sean Murphy-Bunting<br>Position:SCBiL<br>Role:Coverage",
            "nflId:47877.0<br>displayName:Jamel Dean<br>Position:RCB<br>Role:Coverage",
            "nflId:47882.0<br>displayName:Mike Edwards<br>Position:SSR<br>Role:Coverage",
            "nflId:52453.0<br>displayName:Antoine Winfield<br>Position:FS<br>Role:Coverage"
           ],
           "marker": {
            "color": "#D50A0A"
           },
           "mode": "markers",
           "name": "TB",
           "type": "scatter",
           "x": [
            78.41,
            78.69,
            75.29,
            75.06,
            77.89,
            66.92,
            71.97,
            68.11,
            68.94,
            69.99,
            64.34
           ],
           "y": [
            29.17,
            22.29,
            25.51,
            33.54,
            25.89,
            40.43,
            27.89,
            35.36,
            11.03,
            19.57,
            26.65
           ]
          },
          {
           "hoverinfo": "text",
           "hovertext": [
            "nflId:37082.0<br>displayName:Tyron Smith<br>Position:LT<br>Role:Pass Block",
            "nflId:42347.0<br>displayName:Amari Cooper<br>Position:RWR<br>Role:Pass Route",
            "nflId:42654.0<br>displayName:La'el Collins<br>Position:RT<br>Role:Pass Block",
            "nflId:43424.0<br>displayName:Dak Prescott<br>Position:QB<br>Role:Pass",
            "nflId:45532.0<br>displayName:Blake Jarwin<br>Position:SRoWR<br>Role:Pass Route",
            "nflId:46119.0<br>displayName:Connor Williams<br>Position:LG<br>Role:Pass Block",
            "nflId:46150.0<br>displayName:Michael Gallup<br>Position:LWR<br>Role:Pass Route",
            "nflId:46206.0<br>displayName:Dalton Schultz<br>Position:SRiWR<br>Role:Pass Route",
            "nflId:47873.0<br>displayName:Connor McGovern<br>Position:RG<br>Role:Pass Block",
            "nflId:52425.0<br>displayName:CeeDee Lamb<br>Position:HB-R<br>Role:Pass Route",
            "nflId:52554.0<br>displayName:Tyler Biadasz<br>Position:C<br>Role:Pass Block"
           ],
           "marker": {
            "color": "#003594"
           },
           "mode": "markers",
           "name": "DAL",
           "type": "scatter",
           "x": [
            79.54,
            75,
            79.46,
            83,
            75,
            79.23,
            73.88,
            73.63,
            79.67,
            78.84,
            79.72
           ],
           "y": [
            22.66,
            37.81,
            29.66,
            26.48,
            35.28,
            25.74,
            9.8,
            30.09,
            28.61,
            34.04,
            27.01
           ]
          },
          {
           "hoverinfo": "none",
           "marker": {
            "color": "#CBB67C"
           },
           "mode": "markers",
           "name": "football",
           "type": "scatter",
           "x": [
            83.22
           ],
           "y": [
            26.53
           ]
          }
         ],
         "name": "18"
        },
        {
         "data": [
          {
           "hoverinfo": "none",
           "mode": "text",
           "showlegend": false,
           "text": [
            "10",
            "20",
            "30",
            "40",
            "50",
            "40",
            "30",
            "20",
            "10"
           ],
           "textfont": {
            "color": "#ffffff",
            "family": "Courier New, monospace",
            "size": 30
           },
           "type": "scatter",
           "x": [
            20,
            30,
            40,
            50,
            60,
            70,
            80,
            90,
            100
           ],
           "y": [
            5,
            5,
            5,
            5,
            5,
            5,
            5,
            5,
            5
           ]
          },
          {
           "hoverinfo": "none",
           "mode": "text",
           "showlegend": false,
           "text": [
            "10",
            "20",
            "30",
            "40",
            "50",
            "40",
            "30",
            "20",
            "10"
           ],
           "textfont": {
            "color": "#ffffff",
            "family": "Courier New, monospace",
            "size": 30
           },
           "type": "scatter",
           "x": [
            20,
            30,
            40,
            50,
            60,
            70,
            80,
            90,
            100
           ],
           "y": [
            48.5,
            48.5,
            48.5,
            48.5,
            48.5,
            48.5,
            48.5,
            48.5,
            48.5
           ]
          },
          {
           "hoverinfo": "none",
           "line": {
            "color": "blue",
            "dash": "dash"
           },
           "showlegend": false,
           "type": "scatter",
           "x": [
            76,
            76
           ],
           "y": [
            0,
            53.5
           ]
          },
          {
           "hoverinfo": "none",
           "line": {
            "color": "yellow",
            "dash": "dash"
           },
           "showlegend": false,
           "type": "scatter",
           "x": [
            82,
            82
           ],
           "y": [
            0,
            53.5
           ]
          },
          {
           "hoverinfo": "text",
           "hovertext": [
            "nflId:35441.0<br>displayName:Ndamukong Suh<br>Position:LILB<br>Role:Pass Rush",
            "nflId:35454.0<br>displayName:Jason Pierre-Paul<br>Position:REO<br>Role:Pass Rush",
            "nflId:38588.0<br>displayName:Lavonte David<br>Position:RILB<br>Role:Pass Rush",
            "nflId:41915.0<br>displayName:Shaquil Barrett<br>Position:SCBiL<br>Role:Coverage",
            "nflId:46081.0<br>displayName:Vita Vea<br>Position:DRT<br>Role:Pass Rush",
            "nflId:46132.0<br>displayName:Carlton Davis<br>Position:LCB<br>Role:Coverage",
            "nflId:47788.0<br>displayName:Devin White<br>Position:LILB<br>Role:Coverage",
            "nflId:47822.0<br>displayName:Sean Murphy-Bunting<br>Position:SCBiL<br>Role:Coverage",
            "nflId:47877.0<br>displayName:Jamel Dean<br>Position:RCB<br>Role:Coverage",
            "nflId:47882.0<br>displayName:Mike Edwards<br>Position:SSR<br>Role:Coverage",
            "nflId:52453.0<br>displayName:Antoine Winfield<br>Position:FS<br>Role:Coverage"
           ],
           "marker": {
            "color": "#D50A0A"
           },
           "mode": "markers",
           "name": "TB",
           "type": "scatter",
           "x": [
            78.7,
            78.84,
            75.78,
            75.06,
            78.16,
            66.56,
            71.9,
            67.67,
            68.67,
            70.06,
            64.09
           ],
           "y": [
            29.16,
            22.56,
            25.57,
            33.88,
            25.93,
            40.56,
            27.84,
            35.59,
            10.92,
            19.28,
            26.71
           ]
          },
          {
           "hoverinfo": "text",
           "hovertext": [
            "nflId:37082.0<br>displayName:Tyron Smith<br>Position:LT<br>Role:Pass Block",
            "nflId:42347.0<br>displayName:Amari Cooper<br>Position:RWR<br>Role:Pass Route",
            "nflId:42654.0<br>displayName:La'el Collins<br>Position:RT<br>Role:Pass Block",
            "nflId:43424.0<br>displayName:Dak Prescott<br>Position:QB<br>Role:Pass",
            "nflId:45532.0<br>displayName:Blake Jarwin<br>Position:SRoWR<br>Role:Pass Route",
            "nflId:46119.0<br>displayName:Connor Williams<br>Position:LG<br>Role:Pass Block",
            "nflId:46150.0<br>displayName:Michael Gallup<br>Position:LWR<br>Role:Pass Route",
            "nflId:46206.0<br>displayName:Dalton Schultz<br>Position:SRiWR<br>Role:Pass Route",
            "nflId:47873.0<br>displayName:Connor McGovern<br>Position:RG<br>Role:Pass Block",
            "nflId:52425.0<br>displayName:CeeDee Lamb<br>Position:HB-R<br>Role:Pass Route",
            "nflId:52554.0<br>displayName:Tyler Biadasz<br>Position:C<br>Role:Pass Block"
           ],
           "marker": {
            "color": "#003594"
           },
           "mode": "markers",
           "name": "DAL",
           "type": "scatter",
           "x": [
            79.67,
            74.41,
            79.6,
            83.22,
            74.51,
            79.36,
            73.31,
            73.19,
            79.86,
            78.58,
            79.92
           ],
           "y": [
            22.74,
            37.82,
            29.67,
            26.47,
            35.5,
            25.81,
            9.94,
            29.88,
            28.67,
            34.67,
            27.08
           ]
          },
          {
           "hoverinfo": "none",
           "marker": {
            "color": "#CBB67C"
           },
           "mode": "markers",
           "name": "football",
           "type": "scatter",
           "x": [
            83.36
           ],
           "y": [
            26.56
           ]
          }
         ],
         "name": "19"
        },
        {
         "data": [
          {
           "hoverinfo": "none",
           "mode": "text",
           "showlegend": false,
           "text": [
            "10",
            "20",
            "30",
            "40",
            "50",
            "40",
            "30",
            "20",
            "10"
           ],
           "textfont": {
            "color": "#ffffff",
            "family": "Courier New, monospace",
            "size": 30
           },
           "type": "scatter",
           "x": [
            20,
            30,
            40,
            50,
            60,
            70,
            80,
            90,
            100
           ],
           "y": [
            5,
            5,
            5,
            5,
            5,
            5,
            5,
            5,
            5
           ]
          },
          {
           "hoverinfo": "none",
           "mode": "text",
           "showlegend": false,
           "text": [
            "10",
            "20",
            "30",
            "40",
            "50",
            "40",
            "30",
            "20",
            "10"
           ],
           "textfont": {
            "color": "#ffffff",
            "family": "Courier New, monospace",
            "size": 30
           },
           "type": "scatter",
           "x": [
            20,
            30,
            40,
            50,
            60,
            70,
            80,
            90,
            100
           ],
           "y": [
            48.5,
            48.5,
            48.5,
            48.5,
            48.5,
            48.5,
            48.5,
            48.5,
            48.5
           ]
          },
          {
           "hoverinfo": "none",
           "line": {
            "color": "blue",
            "dash": "dash"
           },
           "showlegend": false,
           "type": "scatter",
           "x": [
            76,
            76
           ],
           "y": [
            0,
            53.5
           ]
          },
          {
           "hoverinfo": "none",
           "line": {
            "color": "yellow",
            "dash": "dash"
           },
           "showlegend": false,
           "type": "scatter",
           "x": [
            82,
            82
           ],
           "y": [
            0,
            53.5
           ]
          },
          {
           "hoverinfo": "text",
           "hovertext": [
            "nflId:35441.0<br>displayName:Ndamukong Suh<br>Position:LILB<br>Role:Pass Rush",
            "nflId:35454.0<br>displayName:Jason Pierre-Paul<br>Position:REO<br>Role:Pass Rush",
            "nflId:38588.0<br>displayName:Lavonte David<br>Position:RILB<br>Role:Pass Rush",
            "nflId:41915.0<br>displayName:Shaquil Barrett<br>Position:SCBiL<br>Role:Coverage",
            "nflId:46081.0<br>displayName:Vita Vea<br>Position:DRT<br>Role:Pass Rush",
            "nflId:46132.0<br>displayName:Carlton Davis<br>Position:LCB<br>Role:Coverage",
            "nflId:47788.0<br>displayName:Devin White<br>Position:LILB<br>Role:Coverage",
            "nflId:47822.0<br>displayName:Sean Murphy-Bunting<br>Position:SCBiL<br>Role:Coverage",
            "nflId:47877.0<br>displayName:Jamel Dean<br>Position:RCB<br>Role:Coverage",
            "nflId:47882.0<br>displayName:Mike Edwards<br>Position:SSR<br>Role:Coverage",
            "nflId:52453.0<br>displayName:Antoine Winfield<br>Position:FS<br>Role:Coverage"
           ],
           "marker": {
            "color": "#D50A0A"
           },
           "mode": "markers",
           "name": "TB",
           "type": "scatter",
           "x": [
            78.94,
            78.98,
            76.3,
            75.07,
            78.39,
            66.18,
            71.82,
            67.2,
            68.38,
            70.1,
            63.82
           ],
           "y": [
            29.12,
            22.84,
            25.62,
            34.26,
            25.97,
            40.69,
            27.74,
            35.81,
            10.84,
            18.98,
            26.77
           ]
          },
          {
           "hoverinfo": "text",
           "hovertext": [
            "nflId:37082.0<br>displayName:Tyron Smith<br>Position:LT<br>Role:Pass Block",
            "nflId:42347.0<br>displayName:Amari Cooper<br>Position:RWR<br>Role:Pass Route",
            "nflId:42654.0<br>displayName:La'el Collins<br>Position:RT<br>Role:Pass Block",
            "nflId:43424.0<br>displayName:Dak Prescott<br>Position:QB<br>Role:Pass",
            "nflId:45532.0<br>displayName:Blake Jarwin<br>Position:SRoWR<br>Role:Pass Route",
            "nflId:46119.0<br>displayName:Connor Williams<br>Position:LG<br>Role:Pass Block",
            "nflId:46150.0<br>displayName:Michael Gallup<br>Position:LWR<br>Role:Pass Route",
            "nflId:46206.0<br>displayName:Dalton Schultz<br>Position:SRiWR<br>Role:Pass Route",
            "nflId:47873.0<br>displayName:Connor McGovern<br>Position:RG<br>Role:Pass Block",
            "nflId:52425.0<br>displayName:CeeDee Lamb<br>Position:HB-R<br>Role:Pass Route",
            "nflId:52554.0<br>displayName:Tyler Biadasz<br>Position:C<br>Role:Pass Block"
           ],
           "marker": {
            "color": "#003594"
           },
           "mode": "markers",
           "name": "DAL",
           "type": "scatter",
           "x": [
            79.79,
            73.78,
            79.71,
            83.42,
            73.99,
            79.5,
            72.75,
            72.78,
            80.02,
            78.32,
            80.11
           ],
           "y": [
            22.84,
            37.82,
            29.67,
            26.46,
            35.71,
            25.87,
            10.1,
            29.66,
            28.7,
            35.33,
            27.16
           ]
          },
          {
           "hoverinfo": "none",
           "marker": {
            "color": "#CBB67C"
           },
           "mode": "markers",
           "name": "football",
           "type": "scatter",
           "x": [
            83.57
           ],
           "y": [
            26.61
           ]
          }
         ],
         "name": "20"
        },
        {
         "data": [
          {
           "hoverinfo": "none",
           "mode": "text",
           "showlegend": false,
           "text": [
            "10",
            "20",
            "30",
            "40",
            "50",
            "40",
            "30",
            "20",
            "10"
           ],
           "textfont": {
            "color": "#ffffff",
            "family": "Courier New, monospace",
            "size": 30
           },
           "type": "scatter",
           "x": [
            20,
            30,
            40,
            50,
            60,
            70,
            80,
            90,
            100
           ],
           "y": [
            5,
            5,
            5,
            5,
            5,
            5,
            5,
            5,
            5
           ]
          },
          {
           "hoverinfo": "none",
           "mode": "text",
           "showlegend": false,
           "text": [
            "10",
            "20",
            "30",
            "40",
            "50",
            "40",
            "30",
            "20",
            "10"
           ],
           "textfont": {
            "color": "#ffffff",
            "family": "Courier New, monospace",
            "size": 30
           },
           "type": "scatter",
           "x": [
            20,
            30,
            40,
            50,
            60,
            70,
            80,
            90,
            100
           ],
           "y": [
            48.5,
            48.5,
            48.5,
            48.5,
            48.5,
            48.5,
            48.5,
            48.5,
            48.5
           ]
          },
          {
           "hoverinfo": "none",
           "line": {
            "color": "blue",
            "dash": "dash"
           },
           "showlegend": false,
           "type": "scatter",
           "x": [
            76,
            76
           ],
           "y": [
            0,
            53.5
           ]
          },
          {
           "hoverinfo": "none",
           "line": {
            "color": "yellow",
            "dash": "dash"
           },
           "showlegend": false,
           "type": "scatter",
           "x": [
            82,
            82
           ],
           "y": [
            0,
            53.5
           ]
          },
          {
           "hoverinfo": "text",
           "hovertext": [
            "nflId:35441.0<br>displayName:Ndamukong Suh<br>Position:LILB<br>Role:Pass Rush",
            "nflId:35454.0<br>displayName:Jason Pierre-Paul<br>Position:REO<br>Role:Pass Rush",
            "nflId:38588.0<br>displayName:Lavonte David<br>Position:RILB<br>Role:Pass Rush",
            "nflId:41915.0<br>displayName:Shaquil Barrett<br>Position:SCBiL<br>Role:Coverage",
            "nflId:46081.0<br>displayName:Vita Vea<br>Position:DRT<br>Role:Pass Rush",
            "nflId:46132.0<br>displayName:Carlton Davis<br>Position:LCB<br>Role:Coverage",
            "nflId:47788.0<br>displayName:Devin White<br>Position:LILB<br>Role:Coverage",
            "nflId:47822.0<br>displayName:Sean Murphy-Bunting<br>Position:SCBiL<br>Role:Coverage",
            "nflId:47877.0<br>displayName:Jamel Dean<br>Position:RCB<br>Role:Coverage",
            "nflId:47882.0<br>displayName:Mike Edwards<br>Position:SSR<br>Role:Coverage",
            "nflId:52453.0<br>displayName:Antoine Winfield<br>Position:FS<br>Role:Coverage"
           ],
           "marker": {
            "color": "#D50A0A"
           },
           "mode": "markers",
           "name": "TB",
           "type": "scatter",
           "x": [
            79.1,
            79.1,
            76.83,
            75.09,
            78.6,
            65.76,
            71.72,
            66.7,
            68.1,
            70.11,
            63.54
           ],
           "y": [
            29.04,
            23.14,
            25.63,
            34.68,
            25.99,
            40.8,
            27.61,
            36,
            10.8,
            18.67,
            26.82
           ]
          },
          {
           "hoverinfo": "text",
           "hovertext": [
            "nflId:37082.0<br>displayName:Tyron Smith<br>Position:LT<br>Role:Pass Block",
            "nflId:42347.0<br>displayName:Amari Cooper<br>Position:RWR<br>Role:Pass Route",
            "nflId:42654.0<br>displayName:La'el Collins<br>Position:RT<br>Role:Pass Block",
            "nflId:43424.0<br>displayName:Dak Prescott<br>Position:QB<br>Role:Pass",
            "nflId:45532.0<br>displayName:Blake Jarwin<br>Position:SRoWR<br>Role:Pass Route",
            "nflId:46119.0<br>displayName:Connor Williams<br>Position:LG<br>Role:Pass Block",
            "nflId:46150.0<br>displayName:Michael Gallup<br>Position:LWR<br>Role:Pass Route",
            "nflId:46206.0<br>displayName:Dalton Schultz<br>Position:SRiWR<br>Role:Pass Route",
            "nflId:47873.0<br>displayName:Connor McGovern<br>Position:RG<br>Role:Pass Block",
            "nflId:52425.0<br>displayName:CeeDee Lamb<br>Position:HB-R<br>Role:Pass Route",
            "nflId:52554.0<br>displayName:Tyler Biadasz<br>Position:C<br>Role:Pass Block"
           ],
           "marker": {
            "color": "#003594"
           },
           "mode": "markers",
           "name": "DAL",
           "type": "scatter",
           "x": [
            79.89,
            73.14,
            79.82,
            83.61,
            73.5,
            79.64,
            72.17,
            72.39,
            80.15,
            78.08,
            80.3
           ],
           "y": [
            22.97,
            37.83,
            29.64,
            26.45,
            35.89,
            25.92,
            10.29,
            29.46,
            28.68,
            36.01,
            27.23
           ]
          },
          {
           "hoverinfo": "none",
           "marker": {
            "color": "#CBB67C"
           },
           "mode": "markers",
           "name": "football",
           "type": "scatter",
           "x": [
            83.71
           ],
           "y": [
            26.64
           ]
          }
         ],
         "name": "21"
        },
        {
         "data": [
          {
           "hoverinfo": "none",
           "mode": "text",
           "showlegend": false,
           "text": [
            "10",
            "20",
            "30",
            "40",
            "50",
            "40",
            "30",
            "20",
            "10"
           ],
           "textfont": {
            "color": "#ffffff",
            "family": "Courier New, monospace",
            "size": 30
           },
           "type": "scatter",
           "x": [
            20,
            30,
            40,
            50,
            60,
            70,
            80,
            90,
            100
           ],
           "y": [
            5,
            5,
            5,
            5,
            5,
            5,
            5,
            5,
            5
           ]
          },
          {
           "hoverinfo": "none",
           "mode": "text",
           "showlegend": false,
           "text": [
            "10",
            "20",
            "30",
            "40",
            "50",
            "40",
            "30",
            "20",
            "10"
           ],
           "textfont": {
            "color": "#ffffff",
            "family": "Courier New, monospace",
            "size": 30
           },
           "type": "scatter",
           "x": [
            20,
            30,
            40,
            50,
            60,
            70,
            80,
            90,
            100
           ],
           "y": [
            48.5,
            48.5,
            48.5,
            48.5,
            48.5,
            48.5,
            48.5,
            48.5,
            48.5
           ]
          },
          {
           "hoverinfo": "none",
           "line": {
            "color": "blue",
            "dash": "dash"
           },
           "showlegend": false,
           "type": "scatter",
           "x": [
            76,
            76
           ],
           "y": [
            0,
            53.5
           ]
          },
          {
           "hoverinfo": "none",
           "line": {
            "color": "yellow",
            "dash": "dash"
           },
           "showlegend": false,
           "type": "scatter",
           "x": [
            82,
            82
           ],
           "y": [
            0,
            53.5
           ]
          },
          {
           "hoverinfo": "text",
           "hovertext": [
            "nflId:35441.0<br>displayName:Ndamukong Suh<br>Position:LILB<br>Role:Pass Rush",
            "nflId:35454.0<br>displayName:Jason Pierre-Paul<br>Position:REO<br>Role:Pass Rush",
            "nflId:38588.0<br>displayName:Lavonte David<br>Position:RILB<br>Role:Pass Rush",
            "nflId:41915.0<br>displayName:Shaquil Barrett<br>Position:SCBiL<br>Role:Coverage",
            "nflId:46081.0<br>displayName:Vita Vea<br>Position:DRT<br>Role:Pass Rush",
            "nflId:46132.0<br>displayName:Carlton Davis<br>Position:LCB<br>Role:Coverage",
            "nflId:47788.0<br>displayName:Devin White<br>Position:LILB<br>Role:Coverage",
            "nflId:47822.0<br>displayName:Sean Murphy-Bunting<br>Position:SCBiL<br>Role:Coverage",
            "nflId:47877.0<br>displayName:Jamel Dean<br>Position:RCB<br>Role:Coverage",
            "nflId:47882.0<br>displayName:Mike Edwards<br>Position:SSR<br>Role:Coverage",
            "nflId:52453.0<br>displayName:Antoine Winfield<br>Position:FS<br>Role:Coverage"
           ],
           "marker": {
            "color": "#D50A0A"
           },
           "mode": "markers",
           "name": "TB",
           "type": "scatter",
           "x": [
            79.27,
            79.22,
            77.36,
            75.11,
            78.8,
            65.34,
            71.61,
            66.17,
            67.81,
            70.08,
            63.24
           ],
           "y": [
            28.97,
            23.44,
            25.61,
            35.14,
            26,
            40.9,
            27.46,
            36.18,
            10.78,
            18.36,
            26.88
           ]
          },
          {
           "hoverinfo": "text",
           "hovertext": [
            "nflId:37082.0<br>displayName:Tyron Smith<br>Position:LT<br>Role:Pass Block",
            "nflId:42347.0<br>displayName:Amari Cooper<br>Position:RWR<br>Role:Pass Route",
            "nflId:42654.0<br>displayName:La'el Collins<br>Position:RT<br>Role:Pass Block",
            "nflId:43424.0<br>displayName:Dak Prescott<br>Position:QB<br>Role:Pass",
            "nflId:45532.0<br>displayName:Blake Jarwin<br>Position:SRoWR<br>Role:Pass Route",
            "nflId:46119.0<br>displayName:Connor Williams<br>Position:LG<br>Role:Pass Block",
            "nflId:46150.0<br>displayName:Michael Gallup<br>Position:LWR<br>Role:Pass Route",
            "nflId:46206.0<br>displayName:Dalton Schultz<br>Position:SRiWR<br>Role:Pass Route",
            "nflId:47873.0<br>displayName:Connor McGovern<br>Position:RG<br>Role:Pass Block",
            "nflId:52425.0<br>displayName:CeeDee Lamb<br>Position:HB-R<br>Role:Pass Route",
            "nflId:52554.0<br>displayName:Tyler Biadasz<br>Position:C<br>Role:Pass Block"
           ],
           "marker": {
            "color": "#003594"
           },
           "mode": "markers",
           "name": "DAL",
           "type": "scatter",
           "x": [
            79.99,
            72.47,
            79.93,
            83.76,
            73.03,
            79.8,
            71.59,
            72.04,
            80.27,
            77.85,
            80.47
           ],
           "y": [
            23.12,
            37.82,
            29.62,
            26.44,
            36.02,
            25.95,
            10.54,
            29.27,
            28.65,
            36.7,
            27.3
           ]
          },
          {
           "hoverinfo": "none",
           "marker": {
            "color": "#CBB67C"
           },
           "mode": "markers",
           "name": "football",
           "type": "scatter",
           "x": [
            83.81
           ],
           "y": [
            26.68
           ]
          }
         ],
         "name": "22"
        },
        {
         "data": [
          {
           "hoverinfo": "none",
           "mode": "text",
           "showlegend": false,
           "text": [
            "10",
            "20",
            "30",
            "40",
            "50",
            "40",
            "30",
            "20",
            "10"
           ],
           "textfont": {
            "color": "#ffffff",
            "family": "Courier New, monospace",
            "size": 30
           },
           "type": "scatter",
           "x": [
            20,
            30,
            40,
            50,
            60,
            70,
            80,
            90,
            100
           ],
           "y": [
            5,
            5,
            5,
            5,
            5,
            5,
            5,
            5,
            5
           ]
          },
          {
           "hoverinfo": "none",
           "mode": "text",
           "showlegend": false,
           "text": [
            "10",
            "20",
            "30",
            "40",
            "50",
            "40",
            "30",
            "20",
            "10"
           ],
           "textfont": {
            "color": "#ffffff",
            "family": "Courier New, monospace",
            "size": 30
           },
           "type": "scatter",
           "x": [
            20,
            30,
            40,
            50,
            60,
            70,
            80,
            90,
            100
           ],
           "y": [
            48.5,
            48.5,
            48.5,
            48.5,
            48.5,
            48.5,
            48.5,
            48.5,
            48.5
           ]
          },
          {
           "hoverinfo": "none",
           "line": {
            "color": "blue",
            "dash": "dash"
           },
           "showlegend": false,
           "type": "scatter",
           "x": [
            76,
            76
           ],
           "y": [
            0,
            53.5
           ]
          },
          {
           "hoverinfo": "none",
           "line": {
            "color": "yellow",
            "dash": "dash"
           },
           "showlegend": false,
           "type": "scatter",
           "x": [
            82,
            82
           ],
           "y": [
            0,
            53.5
           ]
          },
          {
           "hoverinfo": "text",
           "hovertext": [
            "nflId:35441.0<br>displayName:Ndamukong Suh<br>Position:LILB<br>Role:Pass Rush",
            "nflId:35454.0<br>displayName:Jason Pierre-Paul<br>Position:REO<br>Role:Pass Rush",
            "nflId:38588.0<br>displayName:Lavonte David<br>Position:RILB<br>Role:Pass Rush",
            "nflId:41915.0<br>displayName:Shaquil Barrett<br>Position:SCBiL<br>Role:Coverage",
            "nflId:46081.0<br>displayName:Vita Vea<br>Position:DRT<br>Role:Pass Rush",
            "nflId:46132.0<br>displayName:Carlton Davis<br>Position:LCB<br>Role:Coverage",
            "nflId:47788.0<br>displayName:Devin White<br>Position:LILB<br>Role:Coverage",
            "nflId:47822.0<br>displayName:Sean Murphy-Bunting<br>Position:SCBiL<br>Role:Coverage",
            "nflId:47877.0<br>displayName:Jamel Dean<br>Position:RCB<br>Role:Coverage",
            "nflId:47882.0<br>displayName:Mike Edwards<br>Position:SSR<br>Role:Coverage",
            "nflId:52453.0<br>displayName:Antoine Winfield<br>Position:FS<br>Role:Coverage"
           ],
           "marker": {
            "color": "#D50A0A"
           },
           "mode": "markers",
           "name": "TB",
           "type": "scatter",
           "x": [
            79.37,
            79.33,
            77.86,
            75.13,
            78.97,
            64.92,
            71.5,
            65.6,
            67.52,
            70.01,
            62.93
           ],
           "y": [
            28.87,
            23.75,
            25.58,
            35.63,
            26.01,
            41.01,
            27.33,
            36.32,
            10.81,
            18.06,
            26.92
           ]
          },
          {
           "hoverinfo": "text",
           "hovertext": [
            "nflId:37082.0<br>displayName:Tyron Smith<br>Position:LT<br>Role:Pass Block",
            "nflId:42347.0<br>displayName:Amari Cooper<br>Position:RWR<br>Role:Pass Route",
            "nflId:42654.0<br>displayName:La'el Collins<br>Position:RT<br>Role:Pass Block",
            "nflId:43424.0<br>displayName:Dak Prescott<br>Position:QB<br>Role:Pass",
            "nflId:45532.0<br>displayName:Blake Jarwin<br>Position:SRoWR<br>Role:Pass Route",
            "nflId:46119.0<br>displayName:Connor Williams<br>Position:LG<br>Role:Pass Block",
            "nflId:46150.0<br>displayName:Michael Gallup<br>Position:LWR<br>Role:Pass Route",
            "nflId:46206.0<br>displayName:Dalton Schultz<br>Position:SRiWR<br>Role:Pass Route",
            "nflId:47873.0<br>displayName:Connor McGovern<br>Position:RG<br>Role:Pass Block",
            "nflId:52425.0<br>displayName:CeeDee Lamb<br>Position:HB-R<br>Role:Pass Route",
            "nflId:52554.0<br>displayName:Tyler Biadasz<br>Position:C<br>Role:Pass Block"
           ],
           "marker": {
            "color": "#003594"
           },
           "mode": "markers",
           "name": "DAL",
           "type": "scatter",
           "x": [
            80.07,
            71.79,
            80.03,
            83.87,
            72.56,
            79.96,
            71.03,
            71.74,
            80.37,
            77.63,
            80.6
           ],
           "y": [
            23.3,
            37.79,
            29.59,
            26.42,
            36.14,
            25.96,
            10.81,
            29.12,
            28.59,
            37.39,
            27.35
           ]
          },
          {
           "hoverinfo": "none",
           "marker": {
            "color": "#CBB67C"
           },
           "mode": "markers",
           "name": "football",
           "type": "scatter",
           "x": [
            83.9
           ],
           "y": [
            26.72
           ]
          }
         ],
         "name": "23"
        },
        {
         "data": [
          {
           "hoverinfo": "none",
           "mode": "text",
           "showlegend": false,
           "text": [
            "10",
            "20",
            "30",
            "40",
            "50",
            "40",
            "30",
            "20",
            "10"
           ],
           "textfont": {
            "color": "#ffffff",
            "family": "Courier New, monospace",
            "size": 30
           },
           "type": "scatter",
           "x": [
            20,
            30,
            40,
            50,
            60,
            70,
            80,
            90,
            100
           ],
           "y": [
            5,
            5,
            5,
            5,
            5,
            5,
            5,
            5,
            5
           ]
          },
          {
           "hoverinfo": "none",
           "mode": "text",
           "showlegend": false,
           "text": [
            "10",
            "20",
            "30",
            "40",
            "50",
            "40",
            "30",
            "20",
            "10"
           ],
           "textfont": {
            "color": "#ffffff",
            "family": "Courier New, monospace",
            "size": 30
           },
           "type": "scatter",
           "x": [
            20,
            30,
            40,
            50,
            60,
            70,
            80,
            90,
            100
           ],
           "y": [
            48.5,
            48.5,
            48.5,
            48.5,
            48.5,
            48.5,
            48.5,
            48.5,
            48.5
           ]
          },
          {
           "hoverinfo": "none",
           "line": {
            "color": "blue",
            "dash": "dash"
           },
           "showlegend": false,
           "type": "scatter",
           "x": [
            76,
            76
           ],
           "y": [
            0,
            53.5
           ]
          },
          {
           "hoverinfo": "none",
           "line": {
            "color": "yellow",
            "dash": "dash"
           },
           "showlegend": false,
           "type": "scatter",
           "x": [
            82,
            82
           ],
           "y": [
            0,
            53.5
           ]
          },
          {
           "hoverinfo": "text",
           "hovertext": [
            "nflId:35441.0<br>displayName:Ndamukong Suh<br>Position:LILB<br>Role:Pass Rush",
            "nflId:35454.0<br>displayName:Jason Pierre-Paul<br>Position:REO<br>Role:Pass Rush",
            "nflId:38588.0<br>displayName:Lavonte David<br>Position:RILB<br>Role:Pass Rush",
            "nflId:41915.0<br>displayName:Shaquil Barrett<br>Position:SCBiL<br>Role:Coverage",
            "nflId:46081.0<br>displayName:Vita Vea<br>Position:DRT<br>Role:Pass Rush",
            "nflId:46132.0<br>displayName:Carlton Davis<br>Position:LCB<br>Role:Coverage",
            "nflId:47788.0<br>displayName:Devin White<br>Position:LILB<br>Role:Coverage",
            "nflId:47822.0<br>displayName:Sean Murphy-Bunting<br>Position:SCBiL<br>Role:Coverage",
            "nflId:47877.0<br>displayName:Jamel Dean<br>Position:RCB<br>Role:Coverage",
            "nflId:47882.0<br>displayName:Mike Edwards<br>Position:SSR<br>Role:Coverage",
            "nflId:52453.0<br>displayName:Antoine Winfield<br>Position:FS<br>Role:Coverage"
           ],
           "marker": {
            "color": "#D50A0A"
           },
           "mode": "markers",
           "name": "TB",
           "type": "scatter",
           "x": [
            79.45,
            79.45,
            78.31,
            75.14,
            79.12,
            64.48,
            71.38,
            65,
            67.24,
            69.9,
            62.62
           ],
           "y": [
            28.76,
            24.04,
            25.55,
            36.16,
            26.01,
            41.11,
            27.2,
            36.43,
            10.88,
            17.77,
            26.98
           ]
          },
          {
           "hoverinfo": "text",
           "hovertext": [
            "nflId:37082.0<br>displayName:Tyron Smith<br>Position:LT<br>Role:Pass Block",
            "nflId:42347.0<br>displayName:Amari Cooper<br>Position:RWR<br>Role:Pass Route",
            "nflId:42654.0<br>displayName:La'el Collins<br>Position:RT<br>Role:Pass Block",
            "nflId:43424.0<br>displayName:Dak Prescott<br>Position:QB<br>Role:Pass",
            "nflId:45532.0<br>displayName:Blake Jarwin<br>Position:SRoWR<br>Role:Pass Route",
            "nflId:46119.0<br>displayName:Connor Williams<br>Position:LG<br>Role:Pass Block",
            "nflId:46150.0<br>displayName:Michael Gallup<br>Position:LWR<br>Role:Pass Route",
            "nflId:46206.0<br>displayName:Dalton Schultz<br>Position:SRiWR<br>Role:Pass Route",
            "nflId:47873.0<br>displayName:Connor McGovern<br>Position:RG<br>Role:Pass Block",
            "nflId:52425.0<br>displayName:CeeDee Lamb<br>Position:HB-R<br>Role:Pass Route",
            "nflId:52554.0<br>displayName:Tyler Biadasz<br>Position:C<br>Role:Pass Block"
           ],
           "marker": {
            "color": "#003594"
           },
           "mode": "markers",
           "name": "DAL",
           "type": "scatter",
           "x": [
            80.15,
            71.1,
            80.13,
            83.96,
            72.13,
            80.12,
            70.49,
            71.48,
            80.44,
            77.43,
            80.73
           ],
           "y": [
            23.48,
            37.76,
            29.57,
            26.41,
            36.23,
            25.96,
            11.13,
            28.98,
            28.52,
            38.09,
            27.4
           ]
          },
          {
           "hoverinfo": "none",
           "marker": {
            "color": "#CBB67C"
           },
           "mode": "markers",
           "name": "football",
           "type": "scatter",
           "x": [
            83.99
           ],
           "y": [
            26.76
           ]
          }
         ],
         "name": "24"
        },
        {
         "data": [
          {
           "hoverinfo": "none",
           "mode": "text",
           "showlegend": false,
           "text": [
            "10",
            "20",
            "30",
            "40",
            "50",
            "40",
            "30",
            "20",
            "10"
           ],
           "textfont": {
            "color": "#ffffff",
            "family": "Courier New, monospace",
            "size": 30
           },
           "type": "scatter",
           "x": [
            20,
            30,
            40,
            50,
            60,
            70,
            80,
            90,
            100
           ],
           "y": [
            5,
            5,
            5,
            5,
            5,
            5,
            5,
            5,
            5
           ]
          },
          {
           "hoverinfo": "none",
           "mode": "text",
           "showlegend": false,
           "text": [
            "10",
            "20",
            "30",
            "40",
            "50",
            "40",
            "30",
            "20",
            "10"
           ],
           "textfont": {
            "color": "#ffffff",
            "family": "Courier New, monospace",
            "size": 30
           },
           "type": "scatter",
           "x": [
            20,
            30,
            40,
            50,
            60,
            70,
            80,
            90,
            100
           ],
           "y": [
            48.5,
            48.5,
            48.5,
            48.5,
            48.5,
            48.5,
            48.5,
            48.5,
            48.5
           ]
          },
          {
           "hoverinfo": "none",
           "line": {
            "color": "blue",
            "dash": "dash"
           },
           "showlegend": false,
           "type": "scatter",
           "x": [
            76,
            76
           ],
           "y": [
            0,
            53.5
           ]
          },
          {
           "hoverinfo": "none",
           "line": {
            "color": "yellow",
            "dash": "dash"
           },
           "showlegend": false,
           "type": "scatter",
           "x": [
            82,
            82
           ],
           "y": [
            0,
            53.5
           ]
          },
          {
           "hoverinfo": "text",
           "hovertext": [
            "nflId:35441.0<br>displayName:Ndamukong Suh<br>Position:LILB<br>Role:Pass Rush",
            "nflId:35454.0<br>displayName:Jason Pierre-Paul<br>Position:REO<br>Role:Pass Rush",
            "nflId:38588.0<br>displayName:Lavonte David<br>Position:RILB<br>Role:Pass Rush",
            "nflId:41915.0<br>displayName:Shaquil Barrett<br>Position:SCBiL<br>Role:Coverage",
            "nflId:46081.0<br>displayName:Vita Vea<br>Position:DRT<br>Role:Pass Rush",
            "nflId:46132.0<br>displayName:Carlton Davis<br>Position:LCB<br>Role:Coverage",
            "nflId:47788.0<br>displayName:Devin White<br>Position:LILB<br>Role:Coverage",
            "nflId:47822.0<br>displayName:Sean Murphy-Bunting<br>Position:SCBiL<br>Role:Coverage",
            "nflId:47877.0<br>displayName:Jamel Dean<br>Position:RCB<br>Role:Coverage",
            "nflId:47882.0<br>displayName:Mike Edwards<br>Position:SSR<br>Role:Coverage",
            "nflId:52453.0<br>displayName:Antoine Winfield<br>Position:FS<br>Role:Coverage"
           ],
           "marker": {
            "color": "#D50A0A"
           },
           "mode": "markers",
           "name": "TB",
           "type": "scatter",
           "x": [
            79.48,
            79.57,
            78.73,
            75.14,
            79.29,
            64.04,
            71.25,
            64.38,
            66.93,
            69.75,
            62.3
           ],
           "y": [
            28.65,
            24.32,
            25.5,
            36.71,
            25.99,
            41.22,
            27.09,
            36.51,
            11.07,
            17.5,
            27.05
           ]
          },
          {
           "hoverinfo": "text",
           "hovertext": [
            "nflId:37082.0<br>displayName:Tyron Smith<br>Position:LT<br>Role:Pass Block",
            "nflId:42347.0<br>displayName:Amari Cooper<br>Position:RWR<br>Role:Pass Route",
            "nflId:42654.0<br>displayName:La'el Collins<br>Position:RT<br>Role:Pass Block",
            "nflId:43424.0<br>displayName:Dak Prescott<br>Position:QB<br>Role:Pass",
            "nflId:45532.0<br>displayName:Blake Jarwin<br>Position:SRoWR<br>Role:Pass Route",
            "nflId:46119.0<br>displayName:Connor Williams<br>Position:LG<br>Role:Pass Block",
            "nflId:46150.0<br>displayName:Michael Gallup<br>Position:LWR<br>Role:Pass Route",
            "nflId:46206.0<br>displayName:Dalton Schultz<br>Position:SRiWR<br>Role:Pass Route",
            "nflId:47873.0<br>displayName:Connor McGovern<br>Position:RG<br>Role:Pass Block",
            "nflId:52425.0<br>displayName:CeeDee Lamb<br>Position:HB-R<br>Role:Pass Route",
            "nflId:52554.0<br>displayName:Tyler Biadasz<br>Position:C<br>Role:Pass Block"
           ],
           "marker": {
            "color": "#003594"
           },
           "mode": "markers",
           "name": "DAL",
           "type": "scatter",
           "x": [
            80.24,
            70.42,
            80.24,
            84,
            71.72,
            80.29,
            69.98,
            71.26,
            80.5,
            77.25,
            80.83
           ],
           "y": [
            23.68,
            37.72,
            29.55,
            26.42,
            36.28,
            25.95,
            11.5,
            28.9,
            28.42,
            38.79,
            27.4
           ]
          },
          {
           "hoverinfo": "none",
           "marker": {
            "color": "#CBB67C"
           },
           "mode": "markers",
           "name": "football",
           "type": "scatter",
           "x": [
            84.06
           ],
           "y": [
            26.8
           ]
          }
         ],
         "name": "25"
        },
        {
         "data": [
          {
           "hoverinfo": "none",
           "mode": "text",
           "showlegend": false,
           "text": [
            "10",
            "20",
            "30",
            "40",
            "50",
            "40",
            "30",
            "20",
            "10"
           ],
           "textfont": {
            "color": "#ffffff",
            "family": "Courier New, monospace",
            "size": 30
           },
           "type": "scatter",
           "x": [
            20,
            30,
            40,
            50,
            60,
            70,
            80,
            90,
            100
           ],
           "y": [
            5,
            5,
            5,
            5,
            5,
            5,
            5,
            5,
            5
           ]
          },
          {
           "hoverinfo": "none",
           "mode": "text",
           "showlegend": false,
           "text": [
            "10",
            "20",
            "30",
            "40",
            "50",
            "40",
            "30",
            "20",
            "10"
           ],
           "textfont": {
            "color": "#ffffff",
            "family": "Courier New, monospace",
            "size": 30
           },
           "type": "scatter",
           "x": [
            20,
            30,
            40,
            50,
            60,
            70,
            80,
            90,
            100
           ],
           "y": [
            48.5,
            48.5,
            48.5,
            48.5,
            48.5,
            48.5,
            48.5,
            48.5,
            48.5
           ]
          },
          {
           "hoverinfo": "none",
           "line": {
            "color": "blue",
            "dash": "dash"
           },
           "showlegend": false,
           "type": "scatter",
           "x": [
            76,
            76
           ],
           "y": [
            0,
            53.5
           ]
          },
          {
           "hoverinfo": "none",
           "line": {
            "color": "yellow",
            "dash": "dash"
           },
           "showlegend": false,
           "type": "scatter",
           "x": [
            82,
            82
           ],
           "y": [
            0,
            53.5
           ]
          },
          {
           "hoverinfo": "text",
           "hovertext": [
            "nflId:35441.0<br>displayName:Ndamukong Suh<br>Position:LILB<br>Role:Pass Rush",
            "nflId:35454.0<br>displayName:Jason Pierre-Paul<br>Position:REO<br>Role:Pass Rush",
            "nflId:38588.0<br>displayName:Lavonte David<br>Position:RILB<br>Role:Pass Rush",
            "nflId:41915.0<br>displayName:Shaquil Barrett<br>Position:SCBiL<br>Role:Coverage",
            "nflId:46081.0<br>displayName:Vita Vea<br>Position:DRT<br>Role:Pass Rush",
            "nflId:46132.0<br>displayName:Carlton Davis<br>Position:LCB<br>Role:Coverage",
            "nflId:47788.0<br>displayName:Devin White<br>Position:LILB<br>Role:Coverage",
            "nflId:47822.0<br>displayName:Sean Murphy-Bunting<br>Position:SCBiL<br>Role:Coverage",
            "nflId:47877.0<br>displayName:Jamel Dean<br>Position:RCB<br>Role:Coverage",
            "nflId:47882.0<br>displayName:Mike Edwards<br>Position:SSR<br>Role:Coverage",
            "nflId:52453.0<br>displayName:Antoine Winfield<br>Position:FS<br>Role:Coverage"
           ],
           "marker": {
            "color": "#D50A0A"
           },
           "mode": "markers",
           "name": "TB",
           "type": "scatter",
           "x": [
            79.48,
            79.71,
            79.08,
            75.12,
            79.44,
            63.6,
            71.14,
            63.75,
            66.62,
            69.56,
            62
           ],
           "y": [
            28.54,
            24.54,
            25.46,
            37.28,
            26.01,
            41.31,
            27.07,
            36.57,
            11.29,
            17.27,
            27.11
           ]
          },
          {
           "hoverinfo": "text",
           "hovertext": [
            "nflId:37082.0<br>displayName:Tyron Smith<br>Position:LT<br>Role:Pass Block",
            "nflId:42347.0<br>displayName:Amari Cooper<br>Position:RWR<br>Role:Pass Route",
            "nflId:42654.0<br>displayName:La'el Collins<br>Position:RT<br>Role:Pass Block",
            "nflId:43424.0<br>displayName:Dak Prescott<br>Position:QB<br>Role:Pass",
            "nflId:45532.0<br>displayName:Blake Jarwin<br>Position:SRoWR<br>Role:Pass Route",
            "nflId:46119.0<br>displayName:Connor Williams<br>Position:LG<br>Role:Pass Block",
            "nflId:46150.0<br>displayName:Michael Gallup<br>Position:LWR<br>Role:Pass Route",
            "nflId:46206.0<br>displayName:Dalton Schultz<br>Position:SRiWR<br>Role:Pass Route",
            "nflId:47873.0<br>displayName:Connor McGovern<br>Position:RG<br>Role:Pass Block",
            "nflId:52425.0<br>displayName:CeeDee Lamb<br>Position:HB-R<br>Role:Pass Route",
            "nflId:52554.0<br>displayName:Tyler Biadasz<br>Position:C<br>Role:Pass Block"
           ],
           "marker": {
            "color": "#003594"
           },
           "mode": "markers",
           "name": "DAL",
           "type": "scatter",
           "x": [
            80.33,
            69.76,
            80.36,
            84.02,
            71.36,
            80.45,
            69.47,
            71.1,
            80.53,
            77.07,
            80.89
           ],
           "y": [
            23.87,
            37.64,
            29.54,
            26.42,
            36.28,
            25.91,
            11.91,
            28.87,
            28.33,
            39.5,
            27.41
           ]
          },
          {
           "hoverinfo": "none",
           "marker": {
            "color": "#CBB67C"
           },
           "mode": "markers",
           "name": "football",
           "type": "scatter",
           "x": [
            84.12
           ],
           "y": [
            26.83
           ]
          }
         ],
         "name": "26"
        },
        {
         "data": [
          {
           "hoverinfo": "none",
           "mode": "text",
           "showlegend": false,
           "text": [
            "10",
            "20",
            "30",
            "40",
            "50",
            "40",
            "30",
            "20",
            "10"
           ],
           "textfont": {
            "color": "#ffffff",
            "family": "Courier New, monospace",
            "size": 30
           },
           "type": "scatter",
           "x": [
            20,
            30,
            40,
            50,
            60,
            70,
            80,
            90,
            100
           ],
           "y": [
            5,
            5,
            5,
            5,
            5,
            5,
            5,
            5,
            5
           ]
          },
          {
           "hoverinfo": "none",
           "mode": "text",
           "showlegend": false,
           "text": [
            "10",
            "20",
            "30",
            "40",
            "50",
            "40",
            "30",
            "20",
            "10"
           ],
           "textfont": {
            "color": "#ffffff",
            "family": "Courier New, monospace",
            "size": 30
           },
           "type": "scatter",
           "x": [
            20,
            30,
            40,
            50,
            60,
            70,
            80,
            90,
            100
           ],
           "y": [
            48.5,
            48.5,
            48.5,
            48.5,
            48.5,
            48.5,
            48.5,
            48.5,
            48.5
           ]
          },
          {
           "hoverinfo": "none",
           "line": {
            "color": "blue",
            "dash": "dash"
           },
           "showlegend": false,
           "type": "scatter",
           "x": [
            76,
            76
           ],
           "y": [
            0,
            53.5
           ]
          },
          {
           "hoverinfo": "none",
           "line": {
            "color": "yellow",
            "dash": "dash"
           },
           "showlegend": false,
           "type": "scatter",
           "x": [
            82,
            82
           ],
           "y": [
            0,
            53.5
           ]
          },
          {
           "hoverinfo": "text",
           "hovertext": [
            "nflId:35441.0<br>displayName:Ndamukong Suh<br>Position:LILB<br>Role:Pass Rush",
            "nflId:35454.0<br>displayName:Jason Pierre-Paul<br>Position:REO<br>Role:Pass Rush",
            "nflId:38588.0<br>displayName:Lavonte David<br>Position:RILB<br>Role:Pass Rush",
            "nflId:41915.0<br>displayName:Shaquil Barrett<br>Position:SCBiL<br>Role:Coverage",
            "nflId:46081.0<br>displayName:Vita Vea<br>Position:DRT<br>Role:Pass Rush",
            "nflId:46132.0<br>displayName:Carlton Davis<br>Position:LCB<br>Role:Coverage",
            "nflId:47788.0<br>displayName:Devin White<br>Position:LILB<br>Role:Coverage",
            "nflId:47822.0<br>displayName:Sean Murphy-Bunting<br>Position:SCBiL<br>Role:Coverage",
            "nflId:47877.0<br>displayName:Jamel Dean<br>Position:RCB<br>Role:Coverage",
            "nflId:47882.0<br>displayName:Mike Edwards<br>Position:SSR<br>Role:Coverage",
            "nflId:52453.0<br>displayName:Antoine Winfield<br>Position:FS<br>Role:Coverage"
           ],
           "marker": {
            "color": "#D50A0A"
           },
           "mode": "markers",
           "name": "TB",
           "type": "scatter",
           "x": [
            79.44,
            79.83,
            79.38,
            75.08,
            79.56,
            63.16,
            71.04,
            63.11,
            66.3,
            69.34,
            61.7
           ],
           "y": [
            28.42,
            24.76,
            25.41,
            37.84,
            26.04,
            41.4,
            27.09,
            36.6,
            11.56,
            17.11,
            27.17
           ]
          },
          {
           "hoverinfo": "text",
           "hovertext": [
            "nflId:37082.0<br>displayName:Tyron Smith<br>Position:LT<br>Role:Pass Block",
            "nflId:42347.0<br>displayName:Amari Cooper<br>Position:RWR<br>Role:Pass Route",
            "nflId:42654.0<br>displayName:La'el Collins<br>Position:RT<br>Role:Pass Block",
            "nflId:43424.0<br>displayName:Dak Prescott<br>Position:QB<br>Role:Pass",
            "nflId:45532.0<br>displayName:Blake Jarwin<br>Position:SRoWR<br>Role:Pass Route",
            "nflId:46119.0<br>displayName:Connor Williams<br>Position:LG<br>Role:Pass Block",
            "nflId:46150.0<br>displayName:Michael Gallup<br>Position:LWR<br>Role:Pass Route",
            "nflId:46206.0<br>displayName:Dalton Schultz<br>Position:SRiWR<br>Role:Pass Route",
            "nflId:47873.0<br>displayName:Connor McGovern<br>Position:RG<br>Role:Pass Block",
            "nflId:52425.0<br>displayName:CeeDee Lamb<br>Position:HB-R<br>Role:Pass Route",
            "nflId:52554.0<br>displayName:Tyler Biadasz<br>Position:C<br>Role:Pass Block"
           ],
           "marker": {
            "color": "#003594"
           },
           "mode": "markers",
           "name": "DAL",
           "type": "scatter",
           "x": [
            80.43,
            69.1,
            80.49,
            84.02,
            71.05,
            80.59,
            68.99,
            71,
            80.55,
            76.91,
            80.96
           ],
           "y": [
            24.04,
            37.54,
            29.52,
            26.43,
            36.27,
            25.9,
            12.35,
            28.88,
            28.23,
            40.2,
            27.39
           ]
          },
          {
           "hoverinfo": "none",
           "marker": {
            "color": "#CBB67C"
           },
           "mode": "markers",
           "name": "football",
           "type": "scatter",
           "x": [
            84.17
           ],
           "y": [
            26.86
           ]
          }
         ],
         "name": "27"
        },
        {
         "data": [
          {
           "hoverinfo": "none",
           "mode": "text",
           "showlegend": false,
           "text": [
            "10",
            "20",
            "30",
            "40",
            "50",
            "40",
            "30",
            "20",
            "10"
           ],
           "textfont": {
            "color": "#ffffff",
            "family": "Courier New, monospace",
            "size": 30
           },
           "type": "scatter",
           "x": [
            20,
            30,
            40,
            50,
            60,
            70,
            80,
            90,
            100
           ],
           "y": [
            5,
            5,
            5,
            5,
            5,
            5,
            5,
            5,
            5
           ]
          },
          {
           "hoverinfo": "none",
           "mode": "text",
           "showlegend": false,
           "text": [
            "10",
            "20",
            "30",
            "40",
            "50",
            "40",
            "30",
            "20",
            "10"
           ],
           "textfont": {
            "color": "#ffffff",
            "family": "Courier New, monospace",
            "size": 30
           },
           "type": "scatter",
           "x": [
            20,
            30,
            40,
            50,
            60,
            70,
            80,
            90,
            100
           ],
           "y": [
            48.5,
            48.5,
            48.5,
            48.5,
            48.5,
            48.5,
            48.5,
            48.5,
            48.5
           ]
          },
          {
           "hoverinfo": "none",
           "line": {
            "color": "blue",
            "dash": "dash"
           },
           "showlegend": false,
           "type": "scatter",
           "x": [
            76,
            76
           ],
           "y": [
            0,
            53.5
           ]
          },
          {
           "hoverinfo": "none",
           "line": {
            "color": "yellow",
            "dash": "dash"
           },
           "showlegend": false,
           "type": "scatter",
           "x": [
            82,
            82
           ],
           "y": [
            0,
            53.5
           ]
          },
          {
           "hoverinfo": "text",
           "hovertext": [
            "nflId:35441.0<br>displayName:Ndamukong Suh<br>Position:LILB<br>Role:Pass Rush",
            "nflId:35454.0<br>displayName:Jason Pierre-Paul<br>Position:REO<br>Role:Pass Rush",
            "nflId:38588.0<br>displayName:Lavonte David<br>Position:RILB<br>Role:Pass Rush",
            "nflId:41915.0<br>displayName:Shaquil Barrett<br>Position:SCBiL<br>Role:Coverage",
            "nflId:46081.0<br>displayName:Vita Vea<br>Position:DRT<br>Role:Pass Rush",
            "nflId:46132.0<br>displayName:Carlton Davis<br>Position:LCB<br>Role:Coverage",
            "nflId:47788.0<br>displayName:Devin White<br>Position:LILB<br>Role:Coverage",
            "nflId:47822.0<br>displayName:Sean Murphy-Bunting<br>Position:SCBiL<br>Role:Coverage",
            "nflId:47877.0<br>displayName:Jamel Dean<br>Position:RCB<br>Role:Coverage",
            "nflId:47882.0<br>displayName:Mike Edwards<br>Position:SSR<br>Role:Coverage",
            "nflId:52453.0<br>displayName:Antoine Winfield<br>Position:FS<br>Role:Coverage"
           ],
           "marker": {
            "color": "#D50A0A"
           },
           "mode": "markers",
           "name": "TB",
           "type": "scatter",
           "x": [
            79.35,
            79.98,
            79.62,
            75.02,
            79.7,
            62.76,
            70.95,
            62.49,
            65.99,
            69.1,
            61.42
           ],
           "y": [
            28.33,
            24.94,
            25.38,
            38.41,
            26.09,
            41.48,
            27.16,
            36.61,
            11.86,
            17,
            27.21
           ]
          },
          {
           "hoverinfo": "text",
           "hovertext": [
            "nflId:37082.0<br>displayName:Tyron Smith<br>Position:LT<br>Role:Pass Block",
            "nflId:42347.0<br>displayName:Amari Cooper<br>Position:RWR<br>Role:Pass Route",
            "nflId:42654.0<br>displayName:La'el Collins<br>Position:RT<br>Role:Pass Block",
            "nflId:43424.0<br>displayName:Dak Prescott<br>Position:QB<br>Role:Pass",
            "nflId:45532.0<br>displayName:Blake Jarwin<br>Position:SRoWR<br>Role:Pass Route",
            "nflId:46119.0<br>displayName:Connor Williams<br>Position:LG<br>Role:Pass Block",
            "nflId:46150.0<br>displayName:Michael Gallup<br>Position:LWR<br>Role:Pass Route",
            "nflId:46206.0<br>displayName:Dalton Schultz<br>Position:SRiWR<br>Role:Pass Route",
            "nflId:47873.0<br>displayName:Connor McGovern<br>Position:RG<br>Role:Pass Block",
            "nflId:52425.0<br>displayName:CeeDee Lamb<br>Position:HB-R<br>Role:Pass Route",
            "nflId:52554.0<br>displayName:Tyler Biadasz<br>Position:C<br>Role:Pass Block"
           ],
           "marker": {
            "color": "#003594"
           },
           "mode": "markers",
           "name": "DAL",
           "type": "scatter",
           "x": [
            80.55,
            68.48,
            80.61,
            84,
            70.77,
            80.72,
            68.53,
            70.94,
            80.55,
            76.77,
            80.99
           ],
           "y": [
            24.2,
            37.4,
            29.52,
            26.44,
            36.23,
            25.9,
            12.81,
            28.94,
            28.15,
            40.9,
            27.36
           ]
          },
          {
           "hoverinfo": "none",
           "marker": {
            "color": "#CBB67C"
           },
           "mode": "markers",
           "name": "football",
           "type": "scatter",
           "x": [
            82.06
           ],
           "y": [
            27.28
           ]
          }
         ],
         "name": "28"
        },
        {
         "data": [
          {
           "hoverinfo": "none",
           "mode": "text",
           "showlegend": false,
           "text": [
            "10",
            "20",
            "30",
            "40",
            "50",
            "40",
            "30",
            "20",
            "10"
           ],
           "textfont": {
            "color": "#ffffff",
            "family": "Courier New, monospace",
            "size": 30
           },
           "type": "scatter",
           "x": [
            20,
            30,
            40,
            50,
            60,
            70,
            80,
            90,
            100
           ],
           "y": [
            5,
            5,
            5,
            5,
            5,
            5,
            5,
            5,
            5
           ]
          },
          {
           "hoverinfo": "none",
           "mode": "text",
           "showlegend": false,
           "text": [
            "10",
            "20",
            "30",
            "40",
            "50",
            "40",
            "30",
            "20",
            "10"
           ],
           "textfont": {
            "color": "#ffffff",
            "family": "Courier New, monospace",
            "size": 30
           },
           "type": "scatter",
           "x": [
            20,
            30,
            40,
            50,
            60,
            70,
            80,
            90,
            100
           ],
           "y": [
            48.5,
            48.5,
            48.5,
            48.5,
            48.5,
            48.5,
            48.5,
            48.5,
            48.5
           ]
          },
          {
           "hoverinfo": "none",
           "line": {
            "color": "blue",
            "dash": "dash"
           },
           "showlegend": false,
           "type": "scatter",
           "x": [
            76,
            76
           ],
           "y": [
            0,
            53.5
           ]
          },
          {
           "hoverinfo": "none",
           "line": {
            "color": "yellow",
            "dash": "dash"
           },
           "showlegend": false,
           "type": "scatter",
           "x": [
            82,
            82
           ],
           "y": [
            0,
            53.5
           ]
          },
          {
           "hoverinfo": "text",
           "hovertext": [
            "nflId:35441.0<br>displayName:Ndamukong Suh<br>Position:LILB<br>Role:Pass Rush",
            "nflId:35454.0<br>displayName:Jason Pierre-Paul<br>Position:REO<br>Role:Pass Rush",
            "nflId:38588.0<br>displayName:Lavonte David<br>Position:RILB<br>Role:Pass Rush",
            "nflId:41915.0<br>displayName:Shaquil Barrett<br>Position:SCBiL<br>Role:Coverage",
            "nflId:46081.0<br>displayName:Vita Vea<br>Position:DRT<br>Role:Pass Rush",
            "nflId:46132.0<br>displayName:Carlton Davis<br>Position:LCB<br>Role:Coverage",
            "nflId:47788.0<br>displayName:Devin White<br>Position:LILB<br>Role:Coverage",
            "nflId:47822.0<br>displayName:Sean Murphy-Bunting<br>Position:SCBiL<br>Role:Coverage",
            "nflId:47877.0<br>displayName:Jamel Dean<br>Position:RCB<br>Role:Coverage",
            "nflId:47882.0<br>displayName:Mike Edwards<br>Position:SSR<br>Role:Coverage",
            "nflId:52453.0<br>displayName:Antoine Winfield<br>Position:FS<br>Role:Coverage"
           ],
           "marker": {
            "color": "#D50A0A"
           },
           "mode": "markers",
           "name": "TB",
           "type": "scatter",
           "x": [
            79.25,
            80.13,
            79.81,
            74.92,
            79.84,
            62.37,
            70.86,
            61.89,
            65.68,
            68.84,
            61.17
           ],
           "y": [
            28.23,
            25.07,
            25.35,
            38.97,
            26.13,
            41.55,
            27.27,
            36.61,
            12.2,
            16.95,
            27.26
           ]
          },
          {
           "hoverinfo": "text",
           "hovertext": [
            "nflId:37082.0<br>displayName:Tyron Smith<br>Position:LT<br>Role:Pass Block",
            "nflId:42347.0<br>displayName:Amari Cooper<br>Position:RWR<br>Role:Pass Route",
            "nflId:42654.0<br>displayName:La'el Collins<br>Position:RT<br>Role:Pass Block",
            "nflId:43424.0<br>displayName:Dak Prescott<br>Position:QB<br>Role:Pass",
            "nflId:45532.0<br>displayName:Blake Jarwin<br>Position:SRoWR<br>Role:Pass Route",
            "nflId:46119.0<br>displayName:Connor Williams<br>Position:LG<br>Role:Pass Block",
            "nflId:46150.0<br>displayName:Michael Gallup<br>Position:LWR<br>Role:Pass Route",
            "nflId:46206.0<br>displayName:Dalton Schultz<br>Position:SRiWR<br>Role:Pass Route",
            "nflId:47873.0<br>displayName:Connor McGovern<br>Position:RG<br>Role:Pass Block",
            "nflId:52425.0<br>displayName:CeeDee Lamb<br>Position:HB-R<br>Role:Pass Route",
            "nflId:52554.0<br>displayName:Tyler Biadasz<br>Position:C<br>Role:Pass Block"
           ],
           "marker": {
            "color": "#003594"
           },
           "mode": "markers",
           "name": "DAL",
           "type": "scatter",
           "x": [
            80.67,
            67.88,
            80.75,
            83.98,
            70.58,
            80.84,
            68.09,
            70.93,
            80.52,
            76.62,
            81.02
           ],
           "y": [
            24.35,
            37.23,
            29.55,
            26.45,
            36.16,
            25.91,
            13.3,
            29.05,
            28.07,
            41.57,
            27.33
           ]
          },
          {
           "hoverinfo": "none",
           "marker": {
            "color": "#CBB67C"
           },
           "mode": "markers",
           "name": "football",
           "type": "scatter",
           "x": [
            79.72
           ],
           "y": [
            27.92
           ]
          }
         ],
         "name": "29"
        },
        {
         "data": [
          {
           "hoverinfo": "none",
           "mode": "text",
           "showlegend": false,
           "text": [
            "10",
            "20",
            "30",
            "40",
            "50",
            "40",
            "30",
            "20",
            "10"
           ],
           "textfont": {
            "color": "#ffffff",
            "family": "Courier New, monospace",
            "size": 30
           },
           "type": "scatter",
           "x": [
            20,
            30,
            40,
            50,
            60,
            70,
            80,
            90,
            100
           ],
           "y": [
            5,
            5,
            5,
            5,
            5,
            5,
            5,
            5,
            5
           ]
          },
          {
           "hoverinfo": "none",
           "mode": "text",
           "showlegend": false,
           "text": [
            "10",
            "20",
            "30",
            "40",
            "50",
            "40",
            "30",
            "20",
            "10"
           ],
           "textfont": {
            "color": "#ffffff",
            "family": "Courier New, monospace",
            "size": 30
           },
           "type": "scatter",
           "x": [
            20,
            30,
            40,
            50,
            60,
            70,
            80,
            90,
            100
           ],
           "y": [
            48.5,
            48.5,
            48.5,
            48.5,
            48.5,
            48.5,
            48.5,
            48.5,
            48.5
           ]
          },
          {
           "hoverinfo": "none",
           "line": {
            "color": "blue",
            "dash": "dash"
           },
           "showlegend": false,
           "type": "scatter",
           "x": [
            76,
            76
           ],
           "y": [
            0,
            53.5
           ]
          },
          {
           "hoverinfo": "none",
           "line": {
            "color": "yellow",
            "dash": "dash"
           },
           "showlegend": false,
           "type": "scatter",
           "x": [
            82,
            82
           ],
           "y": [
            0,
            53.5
           ]
          },
          {
           "hoverinfo": "text",
           "hovertext": [
            "nflId:35441.0<br>displayName:Ndamukong Suh<br>Position:LILB<br>Role:Pass Rush",
            "nflId:35454.0<br>displayName:Jason Pierre-Paul<br>Position:REO<br>Role:Pass Rush",
            "nflId:38588.0<br>displayName:Lavonte David<br>Position:RILB<br>Role:Pass Rush",
            "nflId:41915.0<br>displayName:Shaquil Barrett<br>Position:SCBiL<br>Role:Coverage",
            "nflId:46081.0<br>displayName:Vita Vea<br>Position:DRT<br>Role:Pass Rush",
            "nflId:46132.0<br>displayName:Carlton Davis<br>Position:LCB<br>Role:Coverage",
            "nflId:47788.0<br>displayName:Devin White<br>Position:LILB<br>Role:Coverage",
            "nflId:47822.0<br>displayName:Sean Murphy-Bunting<br>Position:SCBiL<br>Role:Coverage",
            "nflId:47877.0<br>displayName:Jamel Dean<br>Position:RCB<br>Role:Coverage",
            "nflId:47882.0<br>displayName:Mike Edwards<br>Position:SSR<br>Role:Coverage",
            "nflId:52453.0<br>displayName:Antoine Winfield<br>Position:FS<br>Role:Coverage"
           ],
           "marker": {
            "color": "#D50A0A"
           },
           "mode": "markers",
           "name": "TB",
           "type": "scatter",
           "x": [
            79.12,
            80.23,
            79.95,
            74.81,
            79.96,
            62,
            70.8,
            61.31,
            65.37,
            68.56,
            60.95
           ],
           "y": [
            28.14,
            25.12,
            25.33,
            39.51,
            26.19,
            41.6,
            27.43,
            36.59,
            12.57,
            16.97,
            27.3
           ]
          },
          {
           "hoverinfo": "text",
           "hovertext": [
            "nflId:37082.0<br>displayName:Tyron Smith<br>Position:LT<br>Role:Pass Block",
            "nflId:42347.0<br>displayName:Amari Cooper<br>Position:RWR<br>Role:Pass Route",
            "nflId:42654.0<br>displayName:La'el Collins<br>Position:RT<br>Role:Pass Block",
            "nflId:43424.0<br>displayName:Dak Prescott<br>Position:QB<br>Role:Pass",
            "nflId:45532.0<br>displayName:Blake Jarwin<br>Position:SRoWR<br>Role:Pass Route",
            "nflId:46119.0<br>displayName:Connor Williams<br>Position:LG<br>Role:Pass Block",
            "nflId:46150.0<br>displayName:Michael Gallup<br>Position:LWR<br>Role:Pass Route",
            "nflId:46206.0<br>displayName:Dalton Schultz<br>Position:SRiWR<br>Role:Pass Route",
            "nflId:47873.0<br>displayName:Connor McGovern<br>Position:RG<br>Role:Pass Block",
            "nflId:52425.0<br>displayName:CeeDee Lamb<br>Position:HB-R<br>Role:Pass Route",
            "nflId:52554.0<br>displayName:Tyler Biadasz<br>Position:C<br>Role:Pass Block"
           ],
           "marker": {
            "color": "#003594"
           },
           "mode": "markers",
           "name": "DAL",
           "type": "scatter",
           "x": [
            80.8,
            67.31,
            80.88,
            83.95,
            70.42,
            80.95,
            67.68,
            70.96,
            80.46,
            76.49,
            81.05
           ],
           "y": [
            24.51,
            37.01,
            29.6,
            26.48,
            36.07,
            25.92,
            13.79,
            29.2,
            28.01,
            42.22,
            27.29
           ]
          },
          {
           "hoverinfo": "none",
           "marker": {
            "color": "#CBB67C"
           },
           "mode": "markers",
           "name": "football",
           "type": "scatter",
           "x": [
            77.4
           ],
           "y": [
            28.56
           ]
          }
         ],
         "name": "30"
        },
        {
         "data": [
          {
           "hoverinfo": "none",
           "mode": "text",
           "showlegend": false,
           "text": [
            "10",
            "20",
            "30",
            "40",
            "50",
            "40",
            "30",
            "20",
            "10"
           ],
           "textfont": {
            "color": "#ffffff",
            "family": "Courier New, monospace",
            "size": 30
           },
           "type": "scatter",
           "x": [
            20,
            30,
            40,
            50,
            60,
            70,
            80,
            90,
            100
           ],
           "y": [
            5,
            5,
            5,
            5,
            5,
            5,
            5,
            5,
            5
           ]
          },
          {
           "hoverinfo": "none",
           "mode": "text",
           "showlegend": false,
           "text": [
            "10",
            "20",
            "30",
            "40",
            "50",
            "40",
            "30",
            "20",
            "10"
           ],
           "textfont": {
            "color": "#ffffff",
            "family": "Courier New, monospace",
            "size": 30
           },
           "type": "scatter",
           "x": [
            20,
            30,
            40,
            50,
            60,
            70,
            80,
            90,
            100
           ],
           "y": [
            48.5,
            48.5,
            48.5,
            48.5,
            48.5,
            48.5,
            48.5,
            48.5,
            48.5
           ]
          },
          {
           "hoverinfo": "none",
           "line": {
            "color": "blue",
            "dash": "dash"
           },
           "showlegend": false,
           "type": "scatter",
           "x": [
            76,
            76
           ],
           "y": [
            0,
            53.5
           ]
          },
          {
           "hoverinfo": "none",
           "line": {
            "color": "yellow",
            "dash": "dash"
           },
           "showlegend": false,
           "type": "scatter",
           "x": [
            82,
            82
           ],
           "y": [
            0,
            53.5
           ]
          },
          {
           "hoverinfo": "text",
           "hovertext": [
            "nflId:35441.0<br>displayName:Ndamukong Suh<br>Position:LILB<br>Role:Pass Rush",
            "nflId:35454.0<br>displayName:Jason Pierre-Paul<br>Position:REO<br>Role:Pass Rush",
            "nflId:38588.0<br>displayName:Lavonte David<br>Position:RILB<br>Role:Pass Rush",
            "nflId:41915.0<br>displayName:Shaquil Barrett<br>Position:SCBiL<br>Role:Coverage",
            "nflId:46081.0<br>displayName:Vita Vea<br>Position:DRT<br>Role:Pass Rush",
            "nflId:46132.0<br>displayName:Carlton Davis<br>Position:LCB<br>Role:Coverage",
            "nflId:47788.0<br>displayName:Devin White<br>Position:LILB<br>Role:Coverage",
            "nflId:47822.0<br>displayName:Sean Murphy-Bunting<br>Position:SCBiL<br>Role:Coverage",
            "nflId:47877.0<br>displayName:Jamel Dean<br>Position:RCB<br>Role:Coverage",
            "nflId:47882.0<br>displayName:Mike Edwards<br>Position:SSR<br>Role:Coverage",
            "nflId:52453.0<br>displayName:Antoine Winfield<br>Position:FS<br>Role:Coverage"
           ],
           "marker": {
            "color": "#D50A0A"
           },
           "mode": "markers",
           "name": "TB",
           "type": "scatter",
           "x": [
            78.98,
            80.34,
            80.05,
            74.68,
            80.1,
            61.65,
            70.74,
            60.77,
            65.07,
            68.28,
            60.76
           ],
           "y": [
            28.07,
            25.14,
            25.3,
            40.03,
            26.25,
            41.65,
            27.66,
            36.55,
            12.97,
            17.06,
            27.34
           ]
          },
          {
           "hoverinfo": "text",
           "hovertext": [
            "nflId:37082.0<br>displayName:Tyron Smith<br>Position:LT<br>Role:Pass Block",
            "nflId:42347.0<br>displayName:Amari Cooper<br>Position:RWR<br>Role:Pass Route",
            "nflId:42654.0<br>displayName:La'el Collins<br>Position:RT<br>Role:Pass Block",
            "nflId:43424.0<br>displayName:Dak Prescott<br>Position:QB<br>Role:Pass",
            "nflId:45532.0<br>displayName:Blake Jarwin<br>Position:SRoWR<br>Role:Pass Route",
            "nflId:46119.0<br>displayName:Connor Williams<br>Position:LG<br>Role:Pass Block",
            "nflId:46150.0<br>displayName:Michael Gallup<br>Position:LWR<br>Role:Pass Route",
            "nflId:46206.0<br>displayName:Dalton Schultz<br>Position:SRiWR<br>Role:Pass Route",
            "nflId:47873.0<br>displayName:Connor McGovern<br>Position:RG<br>Role:Pass Block",
            "nflId:52425.0<br>displayName:CeeDee Lamb<br>Position:HB-R<br>Role:Pass Route",
            "nflId:52554.0<br>displayName:Tyler Biadasz<br>Position:C<br>Role:Pass Block"
           ],
           "marker": {
            "color": "#003594"
           },
           "mode": "markers",
           "name": "DAL",
           "type": "scatter",
           "x": [
            80.92,
            66.8,
            81.01,
            83.93,
            70.28,
            81.05,
            67.28,
            71.02,
            80.4,
            76.35,
            81.07
           ],
           "y": [
            24.63,
            36.75,
            29.66,
            26.51,
            35.96,
            25.94,
            14.3,
            29.41,
            27.97,
            42.85,
            27.26
           ]
          },
          {
           "hoverinfo": "none",
           "marker": {
            "color": "#CBB67C"
           },
           "mode": "markers",
           "name": "football",
           "type": "scatter",
           "x": [
            75.11
           ],
           "y": [
            29.19
           ]
          }
         ],
         "name": "31"
        }
       ],
       "layout": {
        "annotations": [
         {
          "align": "center",
          "bgcolor": "#ff7f0e",
          "bordercolor": "black",
          "borderpad": 4,
          "borderwidth": 2,
          "font": {
           "color": "black",
           "family": "Courier New, monospace",
           "size": 16
          },
          "opacity": 1,
          "showarrow": false,
          "text": "2",
          "x": 82,
          "y": 0
         },
         {
          "align": "center",
          "bgcolor": "#ff7f0e",
          "bordercolor": "black",
          "borderpad": 4,
          "borderwidth": 2,
          "font": {
           "color": "black",
           "family": "Courier New, monospace",
           "size": 16
          },
          "opacity": 1,
          "showarrow": false,
          "text": "2",
          "x": 82,
          "y": 53
         }
        ],
        "autosize": false,
        "height": 600,
        "plot_bgcolor": "#00B140",
        "sliders": [
         {
          "active": 0,
          "currentvalue": {
           "font": {
            "size": 20
           },
           "prefix": "Frame:",
           "visible": true,
           "xanchor": "right"
          },
          "len": 0.9,
          "pad": {
           "b": 10,
           "t": 50
          },
          "steps": [
           {
            "args": [
             [
              1
             ],
             {
              "frame": {
               "duration": 100,
               "redraw": false
              },
              "mode": "immediate",
              "transition": {
               "duration": 0
              }
             }
            ],
            "label": "1",
            "method": "animate"
           },
           {
            "args": [
             [
              2
             ],
             {
              "frame": {
               "duration": 100,
               "redraw": false
              },
              "mode": "immediate",
              "transition": {
               "duration": 0
              }
             }
            ],
            "label": "2",
            "method": "animate"
           },
           {
            "args": [
             [
              3
             ],
             {
              "frame": {
               "duration": 100,
               "redraw": false
              },
              "mode": "immediate",
              "transition": {
               "duration": 0
              }
             }
            ],
            "label": "3",
            "method": "animate"
           },
           {
            "args": [
             [
              4
             ],
             {
              "frame": {
               "duration": 100,
               "redraw": false
              },
              "mode": "immediate",
              "transition": {
               "duration": 0
              }
             }
            ],
            "label": "4",
            "method": "animate"
           },
           {
            "args": [
             [
              5
             ],
             {
              "frame": {
               "duration": 100,
               "redraw": false
              },
              "mode": "immediate",
              "transition": {
               "duration": 0
              }
             }
            ],
            "label": "5",
            "method": "animate"
           },
           {
            "args": [
             [
              6
             ],
             {
              "frame": {
               "duration": 100,
               "redraw": false
              },
              "mode": "immediate",
              "transition": {
               "duration": 0
              }
             }
            ],
            "label": "6",
            "method": "animate"
           },
           {
            "args": [
             [
              7
             ],
             {
              "frame": {
               "duration": 100,
               "redraw": false
              },
              "mode": "immediate",
              "transition": {
               "duration": 0
              }
             }
            ],
            "label": "7",
            "method": "animate"
           },
           {
            "args": [
             [
              8
             ],
             {
              "frame": {
               "duration": 100,
               "redraw": false
              },
              "mode": "immediate",
              "transition": {
               "duration": 0
              }
             }
            ],
            "label": "8",
            "method": "animate"
           },
           {
            "args": [
             [
              9
             ],
             {
              "frame": {
               "duration": 100,
               "redraw": false
              },
              "mode": "immediate",
              "transition": {
               "duration": 0
              }
             }
            ],
            "label": "9",
            "method": "animate"
           },
           {
            "args": [
             [
              10
             ],
             {
              "frame": {
               "duration": 100,
               "redraw": false
              },
              "mode": "immediate",
              "transition": {
               "duration": 0
              }
             }
            ],
            "label": "10",
            "method": "animate"
           },
           {
            "args": [
             [
              11
             ],
             {
              "frame": {
               "duration": 100,
               "redraw": false
              },
              "mode": "immediate",
              "transition": {
               "duration": 0
              }
             }
            ],
            "label": "11",
            "method": "animate"
           },
           {
            "args": [
             [
              12
             ],
             {
              "frame": {
               "duration": 100,
               "redraw": false
              },
              "mode": "immediate",
              "transition": {
               "duration": 0
              }
             }
            ],
            "label": "12",
            "method": "animate"
           },
           {
            "args": [
             [
              13
             ],
             {
              "frame": {
               "duration": 100,
               "redraw": false
              },
              "mode": "immediate",
              "transition": {
               "duration": 0
              }
             }
            ],
            "label": "13",
            "method": "animate"
           },
           {
            "args": [
             [
              14
             ],
             {
              "frame": {
               "duration": 100,
               "redraw": false
              },
              "mode": "immediate",
              "transition": {
               "duration": 0
              }
             }
            ],
            "label": "14",
            "method": "animate"
           },
           {
            "args": [
             [
              15
             ],
             {
              "frame": {
               "duration": 100,
               "redraw": false
              },
              "mode": "immediate",
              "transition": {
               "duration": 0
              }
             }
            ],
            "label": "15",
            "method": "animate"
           },
           {
            "args": [
             [
              16
             ],
             {
              "frame": {
               "duration": 100,
               "redraw": false
              },
              "mode": "immediate",
              "transition": {
               "duration": 0
              }
             }
            ],
            "label": "16",
            "method": "animate"
           },
           {
            "args": [
             [
              17
             ],
             {
              "frame": {
               "duration": 100,
               "redraw": false
              },
              "mode": "immediate",
              "transition": {
               "duration": 0
              }
             }
            ],
            "label": "17",
            "method": "animate"
           },
           {
            "args": [
             [
              18
             ],
             {
              "frame": {
               "duration": 100,
               "redraw": false
              },
              "mode": "immediate",
              "transition": {
               "duration": 0
              }
             }
            ],
            "label": "18",
            "method": "animate"
           },
           {
            "args": [
             [
              19
             ],
             {
              "frame": {
               "duration": 100,
               "redraw": false
              },
              "mode": "immediate",
              "transition": {
               "duration": 0
              }
             }
            ],
            "label": "19",
            "method": "animate"
           },
           {
            "args": [
             [
              20
             ],
             {
              "frame": {
               "duration": 100,
               "redraw": false
              },
              "mode": "immediate",
              "transition": {
               "duration": 0
              }
             }
            ],
            "label": "20",
            "method": "animate"
           },
           {
            "args": [
             [
              21
             ],
             {
              "frame": {
               "duration": 100,
               "redraw": false
              },
              "mode": "immediate",
              "transition": {
               "duration": 0
              }
             }
            ],
            "label": "21",
            "method": "animate"
           },
           {
            "args": [
             [
              22
             ],
             {
              "frame": {
               "duration": 100,
               "redraw": false
              },
              "mode": "immediate",
              "transition": {
               "duration": 0
              }
             }
            ],
            "label": "22",
            "method": "animate"
           },
           {
            "args": [
             [
              23
             ],
             {
              "frame": {
               "duration": 100,
               "redraw": false
              },
              "mode": "immediate",
              "transition": {
               "duration": 0
              }
             }
            ],
            "label": "23",
            "method": "animate"
           },
           {
            "args": [
             [
              24
             ],
             {
              "frame": {
               "duration": 100,
               "redraw": false
              },
              "mode": "immediate",
              "transition": {
               "duration": 0
              }
             }
            ],
            "label": "24",
            "method": "animate"
           },
           {
            "args": [
             [
              25
             ],
             {
              "frame": {
               "duration": 100,
               "redraw": false
              },
              "mode": "immediate",
              "transition": {
               "duration": 0
              }
             }
            ],
            "label": "25",
            "method": "animate"
           },
           {
            "args": [
             [
              26
             ],
             {
              "frame": {
               "duration": 100,
               "redraw": false
              },
              "mode": "immediate",
              "transition": {
               "duration": 0
              }
             }
            ],
            "label": "26",
            "method": "animate"
           },
           {
            "args": [
             [
              27
             ],
             {
              "frame": {
               "duration": 100,
               "redraw": false
              },
              "mode": "immediate",
              "transition": {
               "duration": 0
              }
             }
            ],
            "label": "27",
            "method": "animate"
           },
           {
            "args": [
             [
              28
             ],
             {
              "frame": {
               "duration": 100,
               "redraw": false
              },
              "mode": "immediate",
              "transition": {
               "duration": 0
              }
             }
            ],
            "label": "28",
            "method": "animate"
           },
           {
            "args": [
             [
              29
             ],
             {
              "frame": {
               "duration": 100,
               "redraw": false
              },
              "mode": "immediate",
              "transition": {
               "duration": 0
              }
             }
            ],
            "label": "29",
            "method": "animate"
           },
           {
            "args": [
             [
              30
             ],
             {
              "frame": {
               "duration": 100,
               "redraw": false
              },
              "mode": "immediate",
              "transition": {
               "duration": 0
              }
             }
            ],
            "label": "30",
            "method": "animate"
           },
           {
            "args": [
             [
              31
             ],
             {
              "frame": {
               "duration": 100,
               "redraw": false
              },
              "mode": "immediate",
              "transition": {
               "duration": 0
              }
             }
            ],
            "label": "31",
            "method": "animate"
           }
          ],
          "transition": {
           "duration": 300,
           "easing": "cubic-in-out"
          },
          "x": 0.1,
          "xanchor": "left",
          "y": 0,
          "yanchor": "top"
         }
        ],
        "template": {
         "data": {
          "bar": [
           {
            "error_x": {
             "color": "#2a3f5f"
            },
            "error_y": {
             "color": "#2a3f5f"
            },
            "marker": {
             "line": {
              "color": "#E5ECF6",
              "width": 0.5
             },
             "pattern": {
              "fillmode": "overlay",
              "size": 10,
              "solidity": 0.2
             }
            },
            "type": "bar"
           }
          ],
          "barpolar": [
           {
            "marker": {
             "line": {
              "color": "#E5ECF6",
              "width": 0.5
             },
             "pattern": {
              "fillmode": "overlay",
              "size": 10,
              "solidity": 0.2
             }
            },
            "type": "barpolar"
           }
          ],
          "carpet": [
           {
            "aaxis": {
             "endlinecolor": "#2a3f5f",
             "gridcolor": "white",
             "linecolor": "white",
             "minorgridcolor": "white",
             "startlinecolor": "#2a3f5f"
            },
            "baxis": {
             "endlinecolor": "#2a3f5f",
             "gridcolor": "white",
             "linecolor": "white",
             "minorgridcolor": "white",
             "startlinecolor": "#2a3f5f"
            },
            "type": "carpet"
           }
          ],
          "choropleth": [
           {
            "colorbar": {
             "outlinewidth": 0,
             "ticks": ""
            },
            "type": "choropleth"
           }
          ],
          "contour": [
           {
            "colorbar": {
             "outlinewidth": 0,
             "ticks": ""
            },
            "colorscale": [
             [
              0,
              "#0d0887"
             ],
             [
              0.1111111111111111,
              "#46039f"
             ],
             [
              0.2222222222222222,
              "#7201a8"
             ],
             [
              0.3333333333333333,
              "#9c179e"
             ],
             [
              0.4444444444444444,
              "#bd3786"
             ],
             [
              0.5555555555555556,
              "#d8576b"
             ],
             [
              0.6666666666666666,
              "#ed7953"
             ],
             [
              0.7777777777777778,
              "#fb9f3a"
             ],
             [
              0.8888888888888888,
              "#fdca26"
             ],
             [
              1,
              "#f0f921"
             ]
            ],
            "type": "contour"
           }
          ],
          "contourcarpet": [
           {
            "colorbar": {
             "outlinewidth": 0,
             "ticks": ""
            },
            "type": "contourcarpet"
           }
          ],
          "heatmap": [
           {
            "colorbar": {
             "outlinewidth": 0,
             "ticks": ""
            },
            "colorscale": [
             [
              0,
              "#0d0887"
             ],
             [
              0.1111111111111111,
              "#46039f"
             ],
             [
              0.2222222222222222,
              "#7201a8"
             ],
             [
              0.3333333333333333,
              "#9c179e"
             ],
             [
              0.4444444444444444,
              "#bd3786"
             ],
             [
              0.5555555555555556,
              "#d8576b"
             ],
             [
              0.6666666666666666,
              "#ed7953"
             ],
             [
              0.7777777777777778,
              "#fb9f3a"
             ],
             [
              0.8888888888888888,
              "#fdca26"
             ],
             [
              1,
              "#f0f921"
             ]
            ],
            "type": "heatmap"
           }
          ],
          "heatmapgl": [
           {
            "colorbar": {
             "outlinewidth": 0,
             "ticks": ""
            },
            "colorscale": [
             [
              0,
              "#0d0887"
             ],
             [
              0.1111111111111111,
              "#46039f"
             ],
             [
              0.2222222222222222,
              "#7201a8"
             ],
             [
              0.3333333333333333,
              "#9c179e"
             ],
             [
              0.4444444444444444,
              "#bd3786"
             ],
             [
              0.5555555555555556,
              "#d8576b"
             ],
             [
              0.6666666666666666,
              "#ed7953"
             ],
             [
              0.7777777777777778,
              "#fb9f3a"
             ],
             [
              0.8888888888888888,
              "#fdca26"
             ],
             [
              1,
              "#f0f921"
             ]
            ],
            "type": "heatmapgl"
           }
          ],
          "histogram": [
           {
            "marker": {
             "pattern": {
              "fillmode": "overlay",
              "size": 10,
              "solidity": 0.2
             }
            },
            "type": "histogram"
           }
          ],
          "histogram2d": [
           {
            "colorbar": {
             "outlinewidth": 0,
             "ticks": ""
            },
            "colorscale": [
             [
              0,
              "#0d0887"
             ],
             [
              0.1111111111111111,
              "#46039f"
             ],
             [
              0.2222222222222222,
              "#7201a8"
             ],
             [
              0.3333333333333333,
              "#9c179e"
             ],
             [
              0.4444444444444444,
              "#bd3786"
             ],
             [
              0.5555555555555556,
              "#d8576b"
             ],
             [
              0.6666666666666666,
              "#ed7953"
             ],
             [
              0.7777777777777778,
              "#fb9f3a"
             ],
             [
              0.8888888888888888,
              "#fdca26"
             ],
             [
              1,
              "#f0f921"
             ]
            ],
            "type": "histogram2d"
           }
          ],
          "histogram2dcontour": [
           {
            "colorbar": {
             "outlinewidth": 0,
             "ticks": ""
            },
            "colorscale": [
             [
              0,
              "#0d0887"
             ],
             [
              0.1111111111111111,
              "#46039f"
             ],
             [
              0.2222222222222222,
              "#7201a8"
             ],
             [
              0.3333333333333333,
              "#9c179e"
             ],
             [
              0.4444444444444444,
              "#bd3786"
             ],
             [
              0.5555555555555556,
              "#d8576b"
             ],
             [
              0.6666666666666666,
              "#ed7953"
             ],
             [
              0.7777777777777778,
              "#fb9f3a"
             ],
             [
              0.8888888888888888,
              "#fdca26"
             ],
             [
              1,
              "#f0f921"
             ]
            ],
            "type": "histogram2dcontour"
           }
          ],
          "mesh3d": [
           {
            "colorbar": {
             "outlinewidth": 0,
             "ticks": ""
            },
            "type": "mesh3d"
           }
          ],
          "parcoords": [
           {
            "line": {
             "colorbar": {
              "outlinewidth": 0,
              "ticks": ""
             }
            },
            "type": "parcoords"
           }
          ],
          "pie": [
           {
            "automargin": true,
            "type": "pie"
           }
          ],
          "scatter": [
           {
            "fillpattern": {
             "fillmode": "overlay",
             "size": 10,
             "solidity": 0.2
            },
            "type": "scatter"
           }
          ],
          "scatter3d": [
           {
            "line": {
             "colorbar": {
              "outlinewidth": 0,
              "ticks": ""
             }
            },
            "marker": {
             "colorbar": {
              "outlinewidth": 0,
              "ticks": ""
             }
            },
            "type": "scatter3d"
           }
          ],
          "scattercarpet": [
           {
            "marker": {
             "colorbar": {
              "outlinewidth": 0,
              "ticks": ""
             }
            },
            "type": "scattercarpet"
           }
          ],
          "scattergeo": [
           {
            "marker": {
             "colorbar": {
              "outlinewidth": 0,
              "ticks": ""
             }
            },
            "type": "scattergeo"
           }
          ],
          "scattergl": [
           {
            "marker": {
             "colorbar": {
              "outlinewidth": 0,
              "ticks": ""
             }
            },
            "type": "scattergl"
           }
          ],
          "scattermapbox": [
           {
            "marker": {
             "colorbar": {
              "outlinewidth": 0,
              "ticks": ""
             }
            },
            "type": "scattermapbox"
           }
          ],
          "scatterpolar": [
           {
            "marker": {
             "colorbar": {
              "outlinewidth": 0,
              "ticks": ""
             }
            },
            "type": "scatterpolar"
           }
          ],
          "scatterpolargl": [
           {
            "marker": {
             "colorbar": {
              "outlinewidth": 0,
              "ticks": ""
             }
            },
            "type": "scatterpolargl"
           }
          ],
          "scatterternary": [
           {
            "marker": {
             "colorbar": {
              "outlinewidth": 0,
              "ticks": ""
             }
            },
            "type": "scatterternary"
           }
          ],
          "surface": [
           {
            "colorbar": {
             "outlinewidth": 0,
             "ticks": ""
            },
            "colorscale": [
             [
              0,
              "#0d0887"
             ],
             [
              0.1111111111111111,
              "#46039f"
             ],
             [
              0.2222222222222222,
              "#7201a8"
             ],
             [
              0.3333333333333333,
              "#9c179e"
             ],
             [
              0.4444444444444444,
              "#bd3786"
             ],
             [
              0.5555555555555556,
              "#d8576b"
             ],
             [
              0.6666666666666666,
              "#ed7953"
             ],
             [
              0.7777777777777778,
              "#fb9f3a"
             ],
             [
              0.8888888888888888,
              "#fdca26"
             ],
             [
              1,
              "#f0f921"
             ]
            ],
            "type": "surface"
           }
          ],
          "table": [
           {
            "cells": {
             "fill": {
              "color": "#EBF0F8"
             },
             "line": {
              "color": "white"
             }
            },
            "header": {
             "fill": {
              "color": "#C8D4E3"
             },
             "line": {
              "color": "white"
             }
            },
            "type": "table"
           }
          ]
         },
         "layout": {
          "annotationdefaults": {
           "arrowcolor": "#2a3f5f",
           "arrowhead": 0,
           "arrowwidth": 1
          },
          "autotypenumbers": "strict",
          "coloraxis": {
           "colorbar": {
            "outlinewidth": 0,
            "ticks": ""
           }
          },
          "colorscale": {
           "diverging": [
            [
             0,
             "#8e0152"
            ],
            [
             0.1,
             "#c51b7d"
            ],
            [
             0.2,
             "#de77ae"
            ],
            [
             0.3,
             "#f1b6da"
            ],
            [
             0.4,
             "#fde0ef"
            ],
            [
             0.5,
             "#f7f7f7"
            ],
            [
             0.6,
             "#e6f5d0"
            ],
            [
             0.7,
             "#b8e186"
            ],
            [
             0.8,
             "#7fbc41"
            ],
            [
             0.9,
             "#4d9221"
            ],
            [
             1,
             "#276419"
            ]
           ],
           "sequential": [
            [
             0,
             "#0d0887"
            ],
            [
             0.1111111111111111,
             "#46039f"
            ],
            [
             0.2222222222222222,
             "#7201a8"
            ],
            [
             0.3333333333333333,
             "#9c179e"
            ],
            [
             0.4444444444444444,
             "#bd3786"
            ],
            [
             0.5555555555555556,
             "#d8576b"
            ],
            [
             0.6666666666666666,
             "#ed7953"
            ],
            [
             0.7777777777777778,
             "#fb9f3a"
            ],
            [
             0.8888888888888888,
             "#fdca26"
            ],
            [
             1,
             "#f0f921"
            ]
           ],
           "sequentialminus": [
            [
             0,
             "#0d0887"
            ],
            [
             0.1111111111111111,
             "#46039f"
            ],
            [
             0.2222222222222222,
             "#7201a8"
            ],
            [
             0.3333333333333333,
             "#9c179e"
            ],
            [
             0.4444444444444444,
             "#bd3786"
            ],
            [
             0.5555555555555556,
             "#d8576b"
            ],
            [
             0.6666666666666666,
             "#ed7953"
            ],
            [
             0.7777777777777778,
             "#fb9f3a"
            ],
            [
             0.8888888888888888,
             "#fdca26"
            ],
            [
             1,
             "#f0f921"
            ]
           ]
          },
          "colorway": [
           "#636efa",
           "#EF553B",
           "#00cc96",
           "#ab63fa",
           "#FFA15A",
           "#19d3f3",
           "#FF6692",
           "#B6E880",
           "#FF97FF",
           "#FECB52"
          ],
          "font": {
           "color": "#2a3f5f"
          },
          "geo": {
           "bgcolor": "white",
           "lakecolor": "white",
           "landcolor": "#E5ECF6",
           "showlakes": true,
           "showland": true,
           "subunitcolor": "white"
          },
          "hoverlabel": {
           "align": "left"
          },
          "hovermode": "closest",
          "mapbox": {
           "style": "light"
          },
          "paper_bgcolor": "white",
          "plot_bgcolor": "#E5ECF6",
          "polar": {
           "angularaxis": {
            "gridcolor": "white",
            "linecolor": "white",
            "ticks": ""
           },
           "bgcolor": "#E5ECF6",
           "radialaxis": {
            "gridcolor": "white",
            "linecolor": "white",
            "ticks": ""
           }
          },
          "scene": {
           "xaxis": {
            "backgroundcolor": "#E5ECF6",
            "gridcolor": "white",
            "gridwidth": 2,
            "linecolor": "white",
            "showbackground": true,
            "ticks": "",
            "zerolinecolor": "white"
           },
           "yaxis": {
            "backgroundcolor": "#E5ECF6",
            "gridcolor": "white",
            "gridwidth": 2,
            "linecolor": "white",
            "showbackground": true,
            "ticks": "",
            "zerolinecolor": "white"
           },
           "zaxis": {
            "backgroundcolor": "#E5ECF6",
            "gridcolor": "white",
            "gridwidth": 2,
            "linecolor": "white",
            "showbackground": true,
            "ticks": "",
            "zerolinecolor": "white"
           }
          },
          "shapedefaults": {
           "line": {
            "color": "#2a3f5f"
           }
          },
          "ternary": {
           "aaxis": {
            "gridcolor": "white",
            "linecolor": "white",
            "ticks": ""
           },
           "baxis": {
            "gridcolor": "white",
            "linecolor": "white",
            "ticks": ""
           },
           "bgcolor": "#E5ECF6",
           "caxis": {
            "gridcolor": "white",
            "linecolor": "white",
            "ticks": ""
           }
          },
          "title": {
           "x": 0.05
          },
          "xaxis": {
           "automargin": true,
           "gridcolor": "white",
           "linecolor": "white",
           "ticks": "",
           "title": {
            "standoff": 15
           },
           "zerolinecolor": "white",
           "zerolinewidth": 2
          },
          "yaxis": {
           "automargin": true,
           "gridcolor": "white",
           "linecolor": "white",
           "ticks": "",
           "title": {
            "standoff": 15
           },
           "zerolinecolor": "white",
           "zerolinewidth": 2
          }
         }
        },
        "title": {
         "text": "GameId: 2021090900, PlayId: 187<br>12:23 1Q<br><br><br><br><br><br><br><br><br><br><br><br><br><br><br><br><br><br><br>(12:23) (Shotgun) D.Prescott pass short middle to D.Schultz to DAL 39 for 5 yards (D.White)."
        },
        "updatemenus": [
         {
          "buttons": [
           {
            "args": [
             null,
             {
              "frame": {
               "duration": 100,
               "redraw": false
              },
              "fromcurrent": true,
              "transition": {
               "duration": 0
              }
             }
            ],
            "label": "Play",
            "method": "animate"
           },
           {
            "args": [
             [
              null
             ],
             {
              "frame": {
               "duration": 0,
               "redraw": false
              },
              "mode": "immediate",
              "transition": {
               "duration": 0
              }
             }
            ],
            "label": "Pause",
            "method": "animate"
           }
          ],
          "direction": "left",
          "pad": {
           "r": 10,
           "t": 87
          },
          "showactive": false,
          "type": "buttons",
          "x": 0.1,
          "xanchor": "right",
          "y": 0,
          "yanchor": "top"
         }
        ],
        "width": 1200,
        "xaxis": {
         "autorange": false,
         "range": [
          0,
          120
         ],
         "showticklabels": false,
         "tickmode": "array",
         "tickvals": [
          10,
          15,
          20,
          25,
          30,
          35,
          40,
          45,
          50,
          55,
          60,
          65,
          70,
          75,
          80,
          85,
          90,
          95,
          100,
          105,
          110
         ]
        },
        "yaxis": {
         "autorange": false,
         "range": [
          0,
          53.3
         ],
         "showgrid": false,
         "showticklabels": false
        }
       }
      }
     },
     "metadata": {},
     "output_type": "display_data"
    }
   ],
   "source": [
    "animate_play(week1, plays, players, pffScoutingData, 2021090900,playId_num).show()"
   ]
  },
  {
   "cell_type": "markdown",
   "metadata": {},
   "source": [
    "### Matchup Adjustments"
   ]
  },
  {
   "cell_type": "markdown",
   "metadata": {},
   "source": [
    "#### Function - when blockers and passers are equal"
   ]
  },
  {
   "cell_type": "code",
   "execution_count": 75,
   "metadata": {},
   "outputs": [],
   "source": [
    "def equal_blockers_passers(o_line_df, d_line_df, matchup_framId_num, playId_num):\n",
    "    \n",
    "    o_line_frame_20_df = o_line_df[(o_line_df['frameId'] == matchup_framId_num)&(o_line_df['playId'] == playId_num)]\n",
    "    d_line_frame_20_df = d_line_df[(d_line_df['frameId'] == matchup_framId_num)&(d_line_df['playId'] == playId_num)]\n",
    "\n",
    "    o_line_frame_20_df = o_line_frame_20_df.sort_values(by=['playId', 'y']).reset_index(drop=True)\n",
    "    d_line_frame_20_df = d_line_frame_20_df.sort_values(by=['playId', 'y']).reset_index(drop=True)\n",
    "\n",
    "    matchup_adj = pd.concat([o_line_frame_20_df, d_line_frame_20_df], axis=1)\n",
    "    matchup_adj['adj_BlockedPlayer'] = matchup_adj.iloc[:,8]\n",
    "\n",
    "    return matchup_adj"
   ]
  },
  {
   "cell_type": "markdown",
   "metadata": {},
   "source": [
    "#### Function - when more blockers than rushers are equal"
   ]
  },
  {
   "cell_type": "code",
   "execution_count": 76,
   "metadata": {},
   "outputs": [],
   "source": [
    "def more_blockers_passers(o_line_df, d_line_df, matchup_framId_num, playId_num):\n",
    "    \n",
    "    o_line_frame_20_df = o_line_df[(o_line_df['frameId'] == matchup_framId_num)&(o_line_df['playId'] == playId_num)]\n",
    "    d_line_frame_20_df = d_line_df[(d_line_df['frameId'] == matchup_framId_num)&(d_line_df['playId'] == playId_num)]\n",
    "\n",
    "    o_line_frame_20_df = o_line_frame_20_df.sort_values(by=['playId', 'y']).reset_index(drop=True)\n",
    "    d_line_frame_20_df = d_line_frame_20_df.sort_values(by=['playId', 'y']).reset_index(drop=True)\n",
    "\n",
    "    matchup_adj = pd.concat([o_line_frame_20_df, d_line_frame_20_df], axis=1)\n",
    "    matchup_adj = o_line_frame_20_df.merge(d_line_frame_20_df, how='cross', suffixes=['_off', '_def'])\n",
    "    matchup_adj['delta'] = abs(matchup_adj['y_off'] - matchup_adj['y_def'])\n",
    "\n",
    "    matchup_adj = matchup_adj.sort_values(by=['displayName_off', 'delta'], inplace=False)\n",
    "    matchup_adj.sort_values(by=['delta'], inplace=True)\n",
    "    matchup_adj['adj_BlockedPlayer'] = matchup_adj.iloc[:,8]\n",
    "\n",
    "    matchup_adj.reset_index(drop=True, inplace=True)\n",
    "    matchup_adj = match_rushers_blockers(matchup_adj, num_blockers, num_rushers)\n",
    "    \n",
    "    return matchup_adj"
   ]
  },
  {
   "cell_type": "markdown",
   "metadata": {},
   "source": [
    "##### Function - uses df returned from the function above to match rushers to blockers"
   ]
  },
  {
   "cell_type": "code",
   "execution_count": 77,
   "metadata": {},
   "outputs": [],
   "source": [
    "def match_rushers_blockers(matchup_adj, num_blockers, num_rushers):\n",
    "\n",
    "    idx_list = []\n",
    "    o_list = []\n",
    "    d_list = []\n",
    "\n",
    "    if num_blockers > num_rushers:\n",
    "        num = num_rushers\n",
    "    else:\n",
    "        num = num_blockers\n",
    "\n",
    "    for i, row in matchup_adj.iterrows():\n",
    "\n",
    "        if i == 0:\n",
    "            idx_list.append(i)\n",
    "            o_list.append(row.displayName_off)\n",
    "            d_list.append(row.displayName_def)\n",
    "\n",
    "        elif not (row.displayName_off in (o_list) or row.displayName_def in (d_list)):\n",
    "            idx_list.append(i)\n",
    "            o_list.append(row.displayName_off)\n",
    "            d_list.append(row.displayName_def)\n",
    "\n",
    "        if len(o_list) == num:\n",
    "            # print(o_list)\n",
    "            # print(d_list)\n",
    "            # print(idx_list)\n",
    "            break\n",
    "    \n",
    "    # Use idx_list from above to select appropraite match up rows\n",
    "    matchup_adj = matchup_adj.iloc[idx_list]\n",
    "\n",
    "    # Map blockers to rushers\n",
    "    matchup_adj = matchup_adj.iloc[:,[0,-1]]\n",
    "\n",
    "\n",
    "    return matchup_adj"
   ]
  },
  {
   "cell_type": "markdown",
   "metadata": {},
   "source": [
    "### Merge matchup_adj with o-line, d-line & qb data"
   ]
  },
  {
   "cell_type": "markdown",
   "metadata": {},
   "source": [
    "#### Get o_frame_indc"
   ]
  },
  {
   "cell_type": "markdown",
   "metadata": {},
   "source": [
    "##### Function - when blockers equal rushers"
   ]
  },
  {
   "cell_type": "code",
   "execution_count": 78,
   "metadata": {},
   "outputs": [],
   "source": [
    "def check_frameId_max(o_line_df, playId_num, indc_framId_num):\n",
    "    frameId_max = o_line_df[o_line_df['playId'] == playId_num]['frameId'].max()\n",
    "\n",
    "    if frameId_max < indc_framId_num:\n",
    "        indc_framId_num = frameId_max\n",
    "        \n",
    "    return indc_framId_num"
   ]
  },
  {
   "cell_type": "code",
   "execution_count": 79,
   "metadata": {},
   "outputs": [],
   "source": [
    "def o_frame_30_equal(o_line_df, indc_framId_num, playId_num, matchup_adj):\n",
    "\n",
    "    o_frame_30_df = o_line_df[(o_line_df['frameId'] == indc_framId_num)&(o_line_df['playId'] == playId_num)]\n",
    "    # print(o_frame_30_df.columns)\n",
    "    # print('\\n\\n\\n')\n",
    "    \n",
    "    matchup_adj = matchup_adj.iloc[:,[0,-1]]\n",
    "    # print(matchup_adj.head)\n",
    "    o_frame_30_df = o_frame_30_df.merge(matchup_adj, on='nflId', how='left')\n",
    "    return o_frame_30_df"
   ]
  },
  {
   "cell_type": "markdown",
   "metadata": {},
   "source": [
    "##### Function - when blockers > rushers"
   ]
  },
  {
   "cell_type": "code",
   "execution_count": 80,
   "metadata": {},
   "outputs": [],
   "source": [
    "def o_frame_30_more(o_line_df, indc_framId_num, playId_num, matchup_adj):\n",
    "    o_frame_30_df = o_line_df[(o_line_df['frameId'] == indc_framId_num)&(o_line_df['playId'] == playId_num)]\n",
    "    o_frame_30_df = o_frame_30_df.merge(matchup_adj, left_on='nflId', right_on='nflId_off', how='left')\n",
    "    # print(matchup_adj.head)\n",
    "    return o_frame_30_df"
   ]
  },
  {
   "cell_type": "markdown",
   "metadata": {},
   "source": [
    "### Check num blockers vs num rushers"
   ]
  },
  {
   "cell_type": "code",
   "execution_count": 81,
   "metadata": {},
   "outputs": [],
   "source": [
    "def get_o_frame_30(num_blockers, num_rushers, o_line_df, d_line_df, playId_num, matchup_framId_num, indc_framId_num):\n",
    "\n",
    "    if num_blockers == num_rushers:\n",
    "        matchup_adj = equal_blockers_passers(o_line_df, d_line_df, matchup_framId_num, playId_num)\n",
    "        o_frame_30_df = o_frame_30_equal(o_line_df, indc_framId_num, playId_num, matchup_adj)\n",
    "\n",
    "    else:\n",
    "        matchup_adj = more_blockers_passers(o_line_df, d_line_df, matchup_framId_num, playId_num)\n",
    "        o_frame_30_df = o_frame_30_more(o_line_df, indc_framId_num, playId_num, matchup_adj)\n",
    "\n",
    "    return o_frame_30_df"
   ]
  },
  {
   "cell_type": "markdown",
   "metadata": {},
   "source": [
    "#### Get d_frame_indc"
   ]
  },
  {
   "cell_type": "code",
   "execution_count": 82,
   "metadata": {},
   "outputs": [],
   "source": [
    "def get_d_frame_30(d_line_df, playId_num, indc_framId_num):\n",
    "    d_frame_30_df = d_line_df[(d_line_df['frameId'] == indc_framId_num)&(d_line_df['playId'] == playId_num)]\n",
    "    return d_frame_30_df"
   ]
  },
  {
   "cell_type": "markdown",
   "metadata": {},
   "source": [
    "#### Merge o & d line"
   ]
  },
  {
   "cell_type": "code",
   "execution_count": 83,
   "metadata": {},
   "outputs": [],
   "source": [
    "def get_o_d_line_df(o_frame_30_df, d_frame_30_df):\n",
    "    o_d_line_df = o_frame_30_df.merge(d_frame_30_df, how='outer', left_on=['adj_BlockedPlayer', 'playId', 'frameId'], right_on=['nflId', 'playId', 'frameId'], suffixes=['_off', '_def'])\n",
    "    return o_d_line_df"
   ]
  },
  {
   "cell_type": "markdown",
   "metadata": {},
   "source": [
    "#### Get QB data"
   ]
  },
  {
   "cell_type": "code",
   "execution_count": 84,
   "metadata": {},
   "outputs": [],
   "source": [
    "def get_qb_coords(focused_df):\n",
    "    qb_coords = focused_df[focused_df.officialPosition == \"QB\"][['nflId', 'playId', 'x', 'y', 'frameId', 'displayName']]\n",
    "    return qb_coords"
   ]
  },
  {
   "cell_type": "markdown",
   "metadata": {},
   "source": [
    "#### Merge qb data with o & d line"
   ]
  },
  {
   "cell_type": "code",
   "execution_count": 85,
   "metadata": {},
   "outputs": [],
   "source": [
    "def merge_qb_od_data(qb_coords, o_d_line_df):\n",
    "    all_df = qb_coords.merge(o_d_line_df, on=['playId', 'frameId'], how='inner', suffixes=['_qb',''])\n",
    "    return all_df"
   ]
  },
  {
   "cell_type": "markdown",
   "metadata": {},
   "source": [
    "### Get Euclidean Dist."
   ]
  },
  {
   "cell_type": "code",
   "execution_count": 86,
   "metadata": {},
   "outputs": [],
   "source": [
    "def Euclidean_Dist(df, cols=['x', 'y']):\n",
    "\n",
    "    off_array = np.linalg.norm(df[['x', 'y']].values - df[['x_off', 'y_off']].values, axis=1)\n",
    "    def_array = np.linalg.norm(df[['x', 'y']].values - df[['x_def', 'y_def']].values, axis=1)\n",
    "    df[\"off_qb_dist\"] = off_array\n",
    "    df[\"def_qb_dist\"] = def_array\n",
    "\n",
    "    return df"
   ]
  },
  {
   "cell_type": "markdown",
   "metadata": {},
   "source": [
    "### Get blocker - rusher deltas"
   ]
  },
  {
   "cell_type": "code",
   "execution_count": 87,
   "metadata": {},
   "outputs": [],
   "source": [
    "def get_blocker_rusher_deltas(all_df):\n",
    "    all_df['line_diff'] = all_df.off_qb_dist - all_df.def_qb_dist\n",
    "    return all_df"
   ]
  },
  {
   "cell_type": "markdown",
   "metadata": {},
   "source": [
    "### Beat %"
   ]
  },
  {
   "cell_type": "code",
   "execution_count": 88,
   "metadata": {},
   "outputs": [],
   "source": [
    "def get_beat_perc(full_df, full_beat_df):\n",
    "    full_df_gb = full_df.groupby(['gameId', 'displayName_off', 'nflId_off']).size().reset_index(name='counts').sort_values(by='counts', ascending=False)\n",
    "    full_df_beat_gb = full_beat_df.groupby(['displayName_off', 'nflId_off']).size().reset_index(name='counts')\n",
    "\n",
    "    beat_perc_df = full_df_beat_gb.merge(full_df_gb, how='inner', on=['displayName_off', 'nflId_off'])\n",
    "    beat_perc_df['%'] = beat_perc_df.counts_x / beat_perc_df.counts_y *100\n",
    "\n",
    "    return beat_perc_df\n",
    "\n",
    "# print(beat_perc_df)"
   ]
  },
  {
   "cell_type": "markdown",
   "metadata": {},
   "source": [
    "### Score O players"
   ]
  },
  {
   "cell_type": "code",
   "execution_count": 111,
   "metadata": {},
   "outputs": [],
   "source": [
    "def score_o_player(full_df_merge, full_df_beat):    \n",
    "    score_df_list = []\n",
    "    player_df_list = []\n",
    "    o_player_list = list(full_df_merge.displayName_off.values)\n",
    "\n",
    "    for player in o_player_list:\n",
    "        player_df = full_df_beat[full_df_beat.displayName_off == player].copy()\n",
    "        player_df['x_delta'] = abs(player_df.x - player_df.x_off) - abs(player_df.x - player_df.x_def)\n",
    "        player_df['y_delta'] = abs(player_df.y - player_df.y_off) - abs(player_df.y - player_df.y_def)\n",
    "\n",
    "        player_df['dir'] = \"outside\"\n",
    "        player_df['dir'] = np.where(player_df['x_delta'] < 0, \"inside\", player_df['dir'])\n",
    "\n",
    "        player_df['blockers_delta'] = player_df['num_blockers'] - player_df['num_rushers']\n",
    "        player_df['score'] = player_df['blockers_delta']\n",
    "        player_df['score'] = np.where(player_df['dir'] == 'inside', player_df['score'] + 1, player_df['score'])\n",
    "\n",
    "        player_grade_df = player_df.groupby(['displayName_off'])['score'].sum().reset_index()\n",
    "\n",
    "        # player_df\n",
    "        score_df_list.append(player_grade_df)\n",
    "        player_df_list.append(player_df)\n",
    "\n",
    "        score_df = pd.concat(score_df_list, axis=0, ignore_index=True)\n",
    "        all_player_df = pd.concat(player_df_list, axis=0, ignore_index=True)\n",
    "\n",
    "    return score_df, all_player_df\n",
    "\n",
    "# player_df.head()"
   ]
  },
  {
   "cell_type": "markdown",
   "metadata": {},
   "source": [
    "### Grade O players for the game"
   ]
  },
  {
   "cell_type": "code",
   "execution_count": 90,
   "metadata": {},
   "outputs": [],
   "source": [
    "def grade_o_game(full_df_merge, score_df):\n",
    "    o_grade_book = full_df_merge.merge(score_df, how='inner', on='displayName_off')\n",
    "    o_grade_book[\"grade\"] = 100 - o_grade_book[\"%\"] - (o_grade_book[\"%\"] * (o_grade_book[\"score\"] * 2 / 100))\n",
    "    return o_grade_book"
   ]
  },
  {
   "cell_type": "markdown",
   "metadata": {},
   "source": [
    "### Concat all_df's"
   ]
  },
  {
   "cell_type": "code",
   "execution_count": 108,
   "metadata": {},
   "outputs": [
    {
     "name": "stdout",
     "output_type": "stream",
     "text": [
      "2021090900\n",
      "full_df_merge     displayName_off  nflId_off  counts_x      gameId  counts_y          %\n",
      "0        Alex Cappa    46163.0         4  2021090900        44   9.090909\n",
      "1        Ali Marpet    42404.0         3  2021090900        44   6.818182\n",
      "2      Blake Jarwin    45532.0         1  2021090900         4  25.000000\n",
      "3   Connor McGovern    47873.0         3  2021090900        53   5.660377\n",
      "4    Dalton Schultz    46206.0         1  2021090900         4  25.000000\n",
      "5     Donovan Smith    42377.0         1  2021090900        44   2.272727\n",
      "6   Ezekiel Elliott    43293.0         2  2021090900         8  25.000000\n",
      "7     La'el Collins    42654.0         7  2021090900        53  13.207547\n",
      "8    Rob Gronkowski    35481.0         2  2021090900         6  33.333333\n",
      "9       Ryan Jensen    40151.0         1  2021090900        44   2.272727\n",
      "10    Tristan Wirfs    52421.0         3  2021090900        44   6.818182\n",
      "11    Tyler Biadasz    52554.0         2  2021090900        53   3.773585\n",
      "12      Tyron Smith    37082.0         5  2021090900        53   9.433962\n",
      "2021091200\n",
      "full_df_merge    displayName_off  nflId_off  counts_x      gameId  counts_y          %\n",
      "0  Chris Lindstrom    47797.0         3  2021091200        44   6.818182\n",
      "1     Hayden Hurst    46094.0         1  2021091200         4  25.000000\n",
      "2    Isaac Seumalo    43368.0         1  2021091200        29   3.448276\n",
      "3    Jake Matthews    41232.0         3  2021091200        44   6.818182\n",
      "4   Jalen Mayfield    53497.0         4  2021091200        41   9.756098\n",
      "5      Jason Kelce    37266.0         3  2021091200        29  10.344828\n",
      "6   Jordan Mailata    46302.0         1  2021091200        29   3.448276\n",
      "7     Kaleb McGary    47814.0         6  2021091200        44  13.636364\n",
      "8        Lee Smith    37234.0         1  2021091200         4  25.000000\n",
      "9    Matt Hennessy    52486.0         2  2021091200        44   4.545455\n",
      "2021091201\n",
      "full_df_merge       displayName_off  nflId_off  counts_x      gameId  counts_y           %\n",
      "0   Chukwuma Okorafor    46161.0         3  2021091201        26   11.538462\n",
      "1           Cody Ford    47821.0         5  2021091201        50   10.000000\n",
      "2           Dan Moore    53557.0         4  2021091201        26   15.384615\n",
      "3      Daryl Williams    42445.0         6  2021091201        55   10.909091\n",
      "4    Devin Singletary    47857.0         1  2021091201         4   25.000000\n",
      "5        Dion Dawkins    44875.0         2  2021091201        54    3.703704\n",
      "6       Jon Feliciano    42471.0         4  2021091201        55    7.272727\n",
      "7      Kendrick Green    53516.0         4  2021091201        25   16.000000\n",
      "8        Kevin Dotson    52543.0         2  2021091201        26    7.692308\n",
      "9       Spencer Brown    53522.0         1  2021091201         1  100.000000\n",
      "10        Trai Turner    41321.0         2  2021091201        26    7.692308\n",
      "11        Zach Gentry    47924.0         1  2021091201         4   25.000000\n",
      "2021091202\n",
      "full_df_merge        displayName_off  nflId_off  counts_x      gameId  counts_y          %\n",
      "0   Alijah Vera-Tucker    53443.0         1  2021091202        42   2.380952\n",
      "1       Cameron Erving    42362.0         4  2021091202        30  13.333333\n",
      "2      Connor McGovern    43433.0         2  2021091202        42   4.761905\n",
      "3         Dennis Daley    47995.0         1  2021091202        26   3.846154\n",
      "4          George Fant    43586.0         3  2021091202        42   7.142857\n",
      "5       Greg Van Roten    39684.0         4  2021091202        42   9.523810\n",
      "6         Matt Paradis    41436.0         1  2021091202        30   3.333333\n",
      "7         Mekhi Becton    52419.0         3  2021091202        27  11.111111\n",
      "8         Morgan Moses    41295.0         1  2021091202        15   6.666667\n",
      "9         Ryan Griffin    40149.0         2  2021091202         5  40.000000\n",
      "10       Trenton Scott    46755.0         1  2021091202         5  20.000000\n",
      "11          Ty Johnson    47969.0         1  2021091202        10  10.000000\n",
      "12         Tyler Kroft    42428.0         1  2021091202         5  20.000000\n",
      "2021091203\n",
      "full_df_merge    displayName_off  nflId_off  counts_x      gameId  counts_y          %\n",
      "0    Brian O'Neill    46131.0         1  2021091203        49   2.040816\n",
      "1      C.J. Uzomah    42500.0         1  2021091203         5  20.000000\n",
      "2   Ezra Cleveland    52466.0         3  2021091203        49   6.122449\n",
      "3   Jonah Williams    47794.0         3  2021091203        27  11.111111\n",
      "4  Olisaemeka Udoh    47976.0         1  2021091203        49   2.040816\n",
      "5    Quinton Spain    43045.0         1  2021091203        27   3.703704\n",
      "6     Trey Hopkins    41619.0         2  2021091203        27   7.407407\n",
      "2021091204\n",
      "full_df_merge           displayName_off  nflId_off  counts_x      gameId  counts_y  \\\n",
      "0               Alex Mack    34472.0         1  2021091204        22   \n",
      "1       Amon-Ra St. Brown    53541.0         1  2021091204         1   \n",
      "2        Daniel Brunskill    45069.0         1  2021091204        22   \n",
      "3            Frank Ragnow    46089.0         2  2021091204        67   \n",
      "4           George Kittle    44959.0         1  2021091204         9   \n",
      "5   Halapoulivaati Vaitai    43453.0         1  2021091204        67   \n",
      "6           Jamycal Hasty    52708.0         1  2021091204         2   \n",
      "7           Jonah Jackson    52483.0         2  2021091204        67   \n",
      "8         Laken Tomlinson    42371.0         1  2021091204        22   \n",
      "9             Matt Nelson    48455.0         3  2021091204        67   \n",
      "10        Mike McGlinchey    46078.0         2  2021091204        22   \n",
      "11           Penei Sewell    53436.0         3  2021091204        67   \n",
      "12           Ross Dwelley    46331.0         1  2021091204         2   \n",
      "\n",
      "             %  \n",
      "0     4.545455  \n",
      "1   100.000000  \n",
      "2     4.545455  \n",
      "3     2.985075  \n",
      "4    11.111111  \n",
      "5     1.492537  \n",
      "6    50.000000  \n",
      "7     2.985075  \n",
      "8     4.545455  \n",
      "9     4.477612  \n",
      "10    9.090909  \n",
      "11    4.477612  \n",
      "12   50.000000  \n",
      "2021091205\n",
      "full_df_merge   displayName_off  nflId_off  counts_x      gameId  counts_y          %\n",
      "0       A.J. Cann    42410.0         2  2021091205        47   4.255319\n",
      "1    Cam Robinson    44846.0         1  2021091205        47   2.127660\n",
      "2   Jawaan Taylor    47818.0         3  2021091205        47   6.382979\n",
      "3    Justin Britt    41293.0         2  2021091205        32   6.250000\n",
      "4   Laremy Tunsil    43302.0         2  2021091205        32   6.250000\n",
      "5   Marcus Cannon    37213.0         1  2021091205        23   4.347826\n",
      "6   Pharaoh Brown    45339.0         2  2021091205         6  33.333333\n",
      "2021091206\n",
      "full_df_merge     displayName_off  nflId_off  counts_x      gameId  counts_y          %\n",
      "0      Braden Smith    46106.0         1  2021091206        39   2.564103\n",
      "1     Brandon Shell    43447.0         1  2021091206        25   4.000000\n",
      "2       Duane Brown    33107.0         1  2021091206        25   4.000000\n",
      "3       Ethan Pocic    44870.0         1  2021091206         8  12.500000\n",
      "4  Julien Davenport    44943.0         3  2021091206        39   7.692308\n",
      "5       Kyle Fuller    45056.0         1  2021091206        17   5.882353\n",
      "6    Quenton Nelson    46075.0         3  2021091206        39   7.692308\n",
      "7        Ryan Kelly    43307.0         2  2021091206        39   5.128205\n",
      "8       Will Dissly    46189.0         2  2021091206         7  28.571429\n",
      "2021091207\n",
      "full_df_merge          displayName_off  nflId_off  counts_x      gameId  counts_y  \\\n",
      "0        Anthony Firkser    45355.0         7  2021091207        11   \n",
      "1     David Quessenberry    40124.0         3  2021091207        39   \n",
      "2             Josh Jones    52480.0         1  2021091207        21   \n",
      "3          Justin Murray    43648.0         2  2021091207         9   \n",
      "4             Nate Davis    47865.0         3  2021091207        39   \n",
      "5  Nick Westbrook-Ikhine    53074.0         1  2021091207         1   \n",
      "6          Rodney Hudson    37130.0         1  2021091207        28   \n",
      "\n",
      "            %  \n",
      "0   63.636364  \n",
      "1    7.692308  \n",
      "2    4.761905  \n",
      "3   22.222222  \n",
      "4    7.692308  \n",
      "5  100.000000  \n",
      "6    3.571429  \n",
      "2021091208\n",
      "full_df_merge   displayName_off  nflId_off  counts_x      gameId  counts_y         %\n",
      "0    Bryan Bulaga    35462.0         2  2021091208        27  7.407407\n",
      "1    Charles Leno    41475.0         1  2021091208        24  4.166667\n",
      "2   Corey Linsley    41390.0         1  2021091208        47  2.127660\n",
      "3     Matt Feiler    41959.0         1  2021091208        47  2.127660\n",
      "4    Oday Aboushi    40089.0         2  2021091208        47  4.255319\n",
      "5  Rashawn Slater    53442.0         1  2021091208        47  2.127660\n",
      "2021091209\n",
      "full_df_merge        displayName_off  nflId_off  counts_x      gameId  counts_y          %\n",
      "0        Austin Hooper    43370.0         1  2021091209         4  25.000000\n",
      "1  Christopher Hubbard    40416.0         1  2021091209        18   5.555556\n",
      "2         Jack Conklin    43297.0         1  2021091209        29   3.448276\n",
      "3           Joe Thuney    43367.0         1  2021091209        37   2.702703\n",
      "4         Joel Bitonio    41264.0         1  2021091209        29   3.448276\n",
      "5          Lucas Niang    52504.0         1  2021091209        37   2.702703\n",
      "6           Trey Smith    53655.0         1  2021091209        37   2.702703\n",
      "2021091210\n",
      "full_df_merge    displayName_off  nflId_off  counts_x      gameId  counts_y         %\n",
      "0    David Andrews    42883.0         3  2021091210        41  7.317073\n",
      "1      Isaiah Wynn    46092.0         4  2021091210        41  9.756098\n",
      "2    Justin Herron    52603.0         1  2021091210        27  3.703704\n",
      "3   Michael Onwenu    52590.0         1  2021091210        41  2.439024\n",
      "4      Robert Hunt    52447.0         1  2021091210        19  5.263158\n",
      "5  Shaquille Mason    42474.0         3  2021091210        41  7.317073\n",
      "2021091211\n",
      "full_df_merge         displayName_off  nflId_off  counts_x      gameId  counts_y           %\n",
      "0           Andrus Peat    42356.0         2  2021091211        26    7.692308\n",
      "1   Calvin Throckmorton    52666.0         2  2021091211        22    9.090909\n",
      "2            Cesar Ruiz    52432.0         4  2021091211        26   15.384615\n",
      "3      Dominique Dafney    53172.0         1  2021091211         2   50.000000\n",
      "4       Garrett Griffin    44075.0         1  2021091211         2   50.000000\n",
      "5            Josh Myers    53491.0         1  2021091211        28    3.571429\n",
      "6         Lucas Patrick    44068.0         1  2021091211        28    3.571429\n",
      "7         Robert Tonyan    45635.0         1  2021091211         1  100.000000\n",
      "8          Royce Newman    53571.0         1  2021091211        28    3.571429\n",
      "9          Ryan Ramczyk    44844.0         4  2021091211        26   15.384615\n",
      "10      Terron Armstead    40023.0         2  2021091211        26    7.692308\n",
      "2021091212\n",
      "full_df_merge       displayName_off  nflId_off  counts_x      gameId  counts_y           %\n",
      "0  Albert Okwuegbunam    52526.0         1  2021091212         3   33.333333\n",
      "1       Andrew Thomas    52412.0         2  2021091212        40    5.000000\n",
      "2        Ben Bredeson    52551.0         1  2021091212        31    3.225806\n",
      "3        Bobby Massie    38642.0         1  2021091212        36    2.777778\n",
      "4        Eric Saubert    44987.0         1  2021091212         5   20.000000\n",
      "5       Garett Bolles    44832.0         1  2021091212        36    2.777778\n",
      "6         Kaden Smith    47959.0         1  2021091212         4   25.000000\n",
      "7          Matt Peart    52507.0         2  2021091212        15   13.333333\n",
      "8    Sterling Shepard    43329.0         1  2021091212         1  100.000000\n",
      "2021091213\n",
      "full_df_merge     displayName_off  nflId_off  counts_x      gameId  counts_y           %\n",
      "0  Andrew Whitworth    30869.0         1  2021091213        22    4.545455\n",
      "1    Cody Whitehair    43345.0         2  2021091213        39    5.128205\n",
      "2         Cole Kmet    52451.0         2  2021091213         5   40.000000\n",
      "3       Jesse James    42503.0         1  2021091213         2   50.000000\n",
      "4    Rob Havenstein    42400.0         1  2021091213        22    4.545455\n",
      "5      Tyler Higbee    43399.0         1  2021091213         1  100.000000\n",
      "2021091300\n",
      "full_df_merge         displayName_off  nflId_off  counts_x      gameId  counts_y          %\n",
      "0  Alejandro Villanueva    41222.0         3  2021091300        36   8.333333\n",
      "1           Andre James    48235.0         3  2021091300        59   5.084746\n",
      "2       Bradley Bozeman    46284.0         2  2021091300        36   5.555556\n",
      "3         Foster Moreau    47920.0         1  2021091300         7  14.285714\n",
      "4    Jermaine Eluemunor    44972.0         2  2021091300        49   4.081633\n",
      "5          John Simpson    52517.0         1  2021091300        59   1.694915\n",
      "6         Kevin Zeitler    38557.0         1  2021091300        36   2.777778\n",
      "7        Ronnie Stanley    43295.0         1  2021091300        36   2.777778\n",
      "8         Tyre Phillips    52514.0         1  2021091300        16   6.250000\n"
     ]
    }
   ],
   "source": [
    "# gameId_num = 2021090900\n",
    "# playId_num = 187\n",
    "\n",
    "matchup_framId_num = 20\n",
    "indc_framId_num = 30\n",
    "\n",
    "game_df_list = []\n",
    "game_df_beat_list = []\n",
    "o_grade_book_list = []\n",
    "full_all_player_df_list = []\n",
    "\n",
    "# List of gameIds\n",
    "gameId_list = list(joined_all.gameId.unique())\n",
    "\n",
    "# Iterate through each game, then each play\n",
    "for gameId_num in gameId_list:\n",
    "    print(gameId_num)\n",
    "    \n",
    "    # Filters the joined_all df by the gameId_num\n",
    "    focused_df = get_focused_df(joined_all, gameId_num)\n",
    "    # print(focused_df.head())\n",
    "\n",
    "    o_line_df, d_line_df = get_od_line_df(focused_df)\n",
    "    # print(d_line_df)\n",
    "\n",
    "    # List of playId\n",
    "    palyId_list = list(o_line_df.playId.unique())\n",
    "\n",
    "    all_df_list = []\n",
    "    for playId_num in palyId_list:\n",
    "        num_blockers, num_rushers = get_num_blockers_rushers(o_line_df, d_line_df, playId_num)\n",
    "\n",
    "        indc_framId_num = check_frameId_max(o_line_df, playId_num, indc_framId_num)\n",
    "\n",
    "        o_frame_30_df = get_o_frame_30(num_blockers, num_rushers, o_line_df, d_line_df, playId_num, matchup_framId_num, indc_framId_num)      \n",
    "        #remove nflId_off\n",
    "        o_frame_30_df.drop(['nflId_off'], axis=1, errors='ignore', inplace=True)\n",
    "\n",
    "        d_frame_30_df = get_d_frame_30(d_line_df, playId_num, indc_framId_num)\n",
    "        o_d_line_df = get_o_d_line_df(o_frame_30_df, d_frame_30_df)\n",
    "\n",
    "        qb_coords = get_qb_coords(focused_df)\n",
    "        all_df = merge_qb_od_data(qb_coords, o_d_line_df)\n",
    "\n",
    "        all_df = Euclidean_Dist(all_df)\n",
    "        all_df = get_blocker_rusher_deltas(all_df)\n",
    "\n",
    "        # add num blockers and rushers\n",
    "        all_df['num_blockers'] = num_blockers\n",
    "        all_df['num_rushers'] = num_rushers\n",
    "\n",
    "        all_df.reset_index(drop=True, inplace=True)\n",
    "        all_df_list.append(all_df)\n",
    "    \n",
    "    game_df = pd.concat(all_df_list, axis=0, ignore_index=True)\n",
    "    game_df[\"gameId\"] = gameId_num\n",
    "    # print(game_df.head())\n",
    "\n",
    "\n",
    "    game_df_beat = game_df[game_df.line_diff > .1].reset_index(drop=True)\n",
    "\n",
    "    beat_perc_df = get_beat_perc(game_df, game_df_beat)\n",
    "    # print(beat_perc_df.head(10))\n",
    "\n",
    "    score_df, all_player_df = score_o_player(beat_perc_df, game_df_beat)\n",
    "    # print(score_df.head(10))\n",
    "\n",
    "    o_grade_book = grade_o_game(beat_perc_df, score_df)\n",
    "\n",
    "    # game_df_list.append(game_df)\n",
    "    # game_df_beat_list.append(game_df_beat)\n",
    "    \n",
    "    o_grade_book_list.append(o_grade_book)\n",
    "    full_all_player_df_list.append(all_player_df)\n",
    "\n",
    "    "
   ]
  },
  {
   "cell_type": "code",
   "execution_count": 109,
   "metadata": {},
   "outputs": [
    {
     "data": {
      "text/html": [
       "<div>\n",
       "<style scoped>\n",
       "    .dataframe tbody tr th:only-of-type {\n",
       "        vertical-align: middle;\n",
       "    }\n",
       "\n",
       "    .dataframe tbody tr th {\n",
       "        vertical-align: top;\n",
       "    }\n",
       "\n",
       "    .dataframe thead th {\n",
       "        text-align: right;\n",
       "    }\n",
       "</style>\n",
       "<table border=\"1\" class=\"dataframe\">\n",
       "  <thead>\n",
       "    <tr style=\"text-align: right;\">\n",
       "      <th></th>\n",
       "      <th>nflId</th>\n",
       "      <th>playId</th>\n",
       "      <th>x</th>\n",
       "      <th>y</th>\n",
       "      <th>frameId</th>\n",
       "      <th>displayName</th>\n",
       "      <th>nflId_off</th>\n",
       "      <th>pff_blockType</th>\n",
       "      <th>pff_nflIdBlockedPlayer</th>\n",
       "      <th>x_off</th>\n",
       "      <th>...</th>\n",
       "      <th>num_blockers</th>\n",
       "      <th>num_rushers</th>\n",
       "      <th>gameId</th>\n",
       "      <th>x_delta</th>\n",
       "      <th>y_delta</th>\n",
       "      <th>dir</th>\n",
       "      <th>blockers_delta</th>\n",
       "      <th>score</th>\n",
       "      <th>team</th>\n",
       "      <th>week</th>\n",
       "    </tr>\n",
       "  </thead>\n",
       "  <tbody>\n",
       "    <tr>\n",
       "      <th>0</th>\n",
       "      <td>25511.0</td>\n",
       "      <td>97</td>\n",
       "      <td>33.77</td>\n",
       "      <td>23.43</td>\n",
       "      <td>30</td>\n",
       "      <td>Tom Brady</td>\n",
       "      <td>46163.0</td>\n",
       "      <td>SW</td>\n",
       "      <td>53441.0</td>\n",
       "      <td>37.38</td>\n",
       "      <td>...</td>\n",
       "      <td>5</td>\n",
       "      <td>5</td>\n",
       "      <td>2021090900</td>\n",
       "      <td>0.29</td>\n",
       "      <td>-0.18</td>\n",
       "      <td>outside</td>\n",
       "      <td>0</td>\n",
       "      <td>0</td>\n",
       "      <td>TB</td>\n",
       "      <td>week1</td>\n",
       "    </tr>\n",
       "    <tr>\n",
       "      <th>1</th>\n",
       "      <td>25511.0</td>\n",
       "      <td>434</td>\n",
       "      <td>23.62</td>\n",
       "      <td>27.81</td>\n",
       "      <td>27</td>\n",
       "      <td>Tom Brady</td>\n",
       "      <td>46163.0</td>\n",
       "      <td>PP</td>\n",
       "      <td>44955.0</td>\n",
       "      <td>26.27</td>\n",
       "      <td>...</td>\n",
       "      <td>6</td>\n",
       "      <td>5</td>\n",
       "      <td>2021090900</td>\n",
       "      <td>2.40</td>\n",
       "      <td>-0.29</td>\n",
       "      <td>outside</td>\n",
       "      <td>1</td>\n",
       "      <td>1</td>\n",
       "      <td>TB</td>\n",
       "      <td>week1</td>\n",
       "    </tr>\n",
       "    <tr>\n",
       "      <th>2</th>\n",
       "      <td>25511.0</td>\n",
       "      <td>2032</td>\n",
       "      <td>64.53</td>\n",
       "      <td>24.06</td>\n",
       "      <td>24</td>\n",
       "      <td>Tom Brady</td>\n",
       "      <td>46163.0</td>\n",
       "      <td>PP</td>\n",
       "      <td>41363.0</td>\n",
       "      <td>61.70</td>\n",
       "      <td>...</td>\n",
       "      <td>5</td>\n",
       "      <td>4</td>\n",
       "      <td>2021090900</td>\n",
       "      <td>2.15</td>\n",
       "      <td>-0.68</td>\n",
       "      <td>outside</td>\n",
       "      <td>1</td>\n",
       "      <td>1</td>\n",
       "      <td>TB</td>\n",
       "      <td>week1</td>\n",
       "    </tr>\n",
       "    <tr>\n",
       "      <th>3</th>\n",
       "      <td>25511.0</td>\n",
       "      <td>3062</td>\n",
       "      <td>53.45</td>\n",
       "      <td>30.00</td>\n",
       "      <td>24</td>\n",
       "      <td>Tom Brady</td>\n",
       "      <td>46163.0</td>\n",
       "      <td>PP</td>\n",
       "      <td>44955.0</td>\n",
       "      <td>49.45</td>\n",
       "      <td>...</td>\n",
       "      <td>5</td>\n",
       "      <td>4</td>\n",
       "      <td>2021090900</td>\n",
       "      <td>1.85</td>\n",
       "      <td>-0.93</td>\n",
       "      <td>outside</td>\n",
       "      <td>1</td>\n",
       "      <td>1</td>\n",
       "      <td>TB</td>\n",
       "      <td>week1</td>\n",
       "    </tr>\n",
       "    <tr>\n",
       "      <th>4</th>\n",
       "      <td>25511.0</td>\n",
       "      <td>559</td>\n",
       "      <td>88.94</td>\n",
       "      <td>28.88</td>\n",
       "      <td>27</td>\n",
       "      <td>Tom Brady</td>\n",
       "      <td>42404.0</td>\n",
       "      <td>PP</td>\n",
       "      <td>53504.0</td>\n",
       "      <td>94.14</td>\n",
       "      <td>...</td>\n",
       "      <td>5</td>\n",
       "      <td>4</td>\n",
       "      <td>2021090900</td>\n",
       "      <td>0.61</td>\n",
       "      <td>-0.39</td>\n",
       "      <td>outside</td>\n",
       "      <td>1</td>\n",
       "      <td>1</td>\n",
       "      <td>TB</td>\n",
       "      <td>week1</td>\n",
       "    </tr>\n",
       "  </tbody>\n",
       "</table>\n",
       "<p>5 rows × 30 columns</p>\n",
       "</div>"
      ],
      "text/plain": [
       "     nflId  playId      x      y  frameId displayName  nflId_off  \\\n",
       "0  25511.0      97  33.77  23.43       30   Tom Brady    46163.0   \n",
       "1  25511.0     434  23.62  27.81       27   Tom Brady    46163.0   \n",
       "2  25511.0    2032  64.53  24.06       24   Tom Brady    46163.0   \n",
       "3  25511.0    3062  53.45  30.00       24   Tom Brady    46163.0   \n",
       "4  25511.0     559  88.94  28.88       27   Tom Brady    42404.0   \n",
       "\n",
       "  pff_blockType  pff_nflIdBlockedPlayer  x_off  ...  num_blockers num_rushers  \\\n",
       "0            SW                 53441.0  37.38  ...             5           5   \n",
       "1            PP                 44955.0  26.27  ...             6           5   \n",
       "2            PP                 41363.0  61.70  ...             5           4   \n",
       "3            PP                 44955.0  49.45  ...             5           4   \n",
       "4            PP                 53504.0  94.14  ...             5           4   \n",
       "\n",
       "       gameId  x_delta  y_delta      dir blockers_delta  score  team   week  \n",
       "0  2021090900     0.29    -0.18  outside              0      0    TB  week1  \n",
       "1  2021090900     2.40    -0.29  outside              1      1    TB  week1  \n",
       "2  2021090900     2.15    -0.68  outside              1      1    TB  week1  \n",
       "3  2021090900     1.85    -0.93  outside              1      1    TB  week1  \n",
       "4  2021090900     0.61    -0.39  outside              1      1    TB  week1  \n",
       "\n",
       "[5 rows x 30 columns]"
      ]
     },
     "execution_count": 109,
     "metadata": {},
     "output_type": "execute_result"
    }
   ],
   "source": [
    "full_all_player_df = pd.concat(full_all_player_df_list, axis=0, ignore_index=True)\n",
    "\n",
    "# Adding team and week column to the df\n",
    "full_all_player_df['team'] = full_all_player_df['nflId_off'].map(week1.drop_duplicates('nflId').set_index('nflId')['team'])\n",
    "full_all_player_df['week'] = 'week1'\n",
    "# full_all_player_df.sort_values(by='grade', inplace=True)\n",
    "\n",
    "# Removing PA playIds\n",
    "pa_palyId_list = list(full_all_player_df[full_all_player_df.pff_blockType == \"PA\"].playId.unique())\n",
    "full_all_player_df = full_all_player_df[~(full_all_player_df.playId.isin(pa_palyId_list))]\n",
    "\n",
    "full_all_player_df.head()"
   ]
  },
  {
   "cell_type": "code",
   "execution_count": 110,
   "metadata": {},
   "outputs": [
    {
     "data": {
      "text/html": [
       "<div>\n",
       "<style scoped>\n",
       "    .dataframe tbody tr th:only-of-type {\n",
       "        vertical-align: middle;\n",
       "    }\n",
       "\n",
       "    .dataframe tbody tr th {\n",
       "        vertical-align: top;\n",
       "    }\n",
       "\n",
       "    .dataframe thead th {\n",
       "        text-align: right;\n",
       "    }\n",
       "</style>\n",
       "<table border=\"1\" class=\"dataframe\">\n",
       "  <thead>\n",
       "    <tr style=\"text-align: right;\">\n",
       "      <th></th>\n",
       "      <th>displayName_off</th>\n",
       "      <th>nflId_off</th>\n",
       "      <th>counts_x</th>\n",
       "      <th>gameId</th>\n",
       "      <th>counts_y</th>\n",
       "      <th>%</th>\n",
       "      <th>score</th>\n",
       "      <th>grade</th>\n",
       "      <th>team</th>\n",
       "      <th>week</th>\n",
       "    </tr>\n",
       "  </thead>\n",
       "  <tbody>\n",
       "    <tr>\n",
       "      <th>0</th>\n",
       "      <td>Tyler Higbee</td>\n",
       "      <td>43399.0</td>\n",
       "      <td>1</td>\n",
       "      <td>2021091213</td>\n",
       "      <td>1</td>\n",
       "      <td>100.0</td>\n",
       "      <td>5</td>\n",
       "      <td>-10.0</td>\n",
       "      <td>LA</td>\n",
       "      <td>week1</td>\n",
       "    </tr>\n",
       "    <tr>\n",
       "      <th>1</th>\n",
       "      <td>Amon-Ra St. Brown</td>\n",
       "      <td>53541.0</td>\n",
       "      <td>1</td>\n",
       "      <td>2021091204</td>\n",
       "      <td>1</td>\n",
       "      <td>100.0</td>\n",
       "      <td>3</td>\n",
       "      <td>-6.0</td>\n",
       "      <td>DET</td>\n",
       "      <td>week1</td>\n",
       "    </tr>\n",
       "    <tr>\n",
       "      <th>2</th>\n",
       "      <td>Nick Westbrook-Ikhine</td>\n",
       "      <td>53074.0</td>\n",
       "      <td>1</td>\n",
       "      <td>2021091207</td>\n",
       "      <td>1</td>\n",
       "      <td>100.0</td>\n",
       "      <td>3</td>\n",
       "      <td>-6.0</td>\n",
       "      <td>TEN</td>\n",
       "      <td>week1</td>\n",
       "    </tr>\n",
       "    <tr>\n",
       "      <th>3</th>\n",
       "      <td>Robert Tonyan</td>\n",
       "      <td>45635.0</td>\n",
       "      <td>1</td>\n",
       "      <td>2021091211</td>\n",
       "      <td>1</td>\n",
       "      <td>100.0</td>\n",
       "      <td>3</td>\n",
       "      <td>-6.0</td>\n",
       "      <td>GB</td>\n",
       "      <td>week1</td>\n",
       "    </tr>\n",
       "    <tr>\n",
       "      <th>4</th>\n",
       "      <td>Sterling Shepard</td>\n",
       "      <td>43329.0</td>\n",
       "      <td>1</td>\n",
       "      <td>2021091212</td>\n",
       "      <td>1</td>\n",
       "      <td>100.0</td>\n",
       "      <td>2</td>\n",
       "      <td>-4.0</td>\n",
       "      <td>NYG</td>\n",
       "      <td>week1</td>\n",
       "    </tr>\n",
       "  </tbody>\n",
       "</table>\n",
       "</div>"
      ],
      "text/plain": [
       "         displayName_off  nflId_off  counts_x      gameId  counts_y      %  \\\n",
       "0           Tyler Higbee    43399.0         1  2021091213         1  100.0   \n",
       "1      Amon-Ra St. Brown    53541.0         1  2021091204         1  100.0   \n",
       "2  Nick Westbrook-Ikhine    53074.0         1  2021091207         1  100.0   \n",
       "3          Robert Tonyan    45635.0         1  2021091211         1  100.0   \n",
       "4       Sterling Shepard    43329.0         1  2021091212         1  100.0   \n",
       "\n",
       "   score  grade team   week  \n",
       "0      5  -10.0   LA  week1  \n",
       "1      3   -6.0  DET  week1  \n",
       "2      3   -6.0  TEN  week1  \n",
       "3      3   -6.0   GB  week1  \n",
       "4      2   -4.0  NYG  week1  "
      ]
     },
     "execution_count": 110,
     "metadata": {},
     "output_type": "execute_result"
    }
   ],
   "source": [
    "full_df = pd.concat(o_grade_book_list, axis=0, ignore_index=True)\n",
    "\n",
    "# Adding team and week column to the df\n",
    "full_df['team'] = full_df['nflId_off'].map(week1.drop_duplicates('nflId').set_index('nflId')['team'])\n",
    "full_df['week'] = 'week1'\n",
    "full_df.sort_values(by='grade', inplace=True)\n",
    "full_df.reset_index(drop=True, inplace=True)\n",
    "\n",
    "full_df.head()"
   ]
  },
  {
   "cell_type": "code",
   "execution_count": 114,
   "metadata": {},
   "outputs": [
    {
     "data": {
      "application/vnd.plotly.v1+json": {
       "config": {
        "plotlyServerURL": "https://plot.ly"
       },
       "data": [
        {
         "hoverinfo": "none",
         "mode": "text",
         "showlegend": false,
         "text": [
          "10",
          "20",
          "30",
          "40",
          "50",
          "40",
          "30",
          "20",
          "10"
         ],
         "textfont": {
          "color": "#ffffff",
          "family": "Courier New, monospace",
          "size": 30
         },
         "type": "scatter",
         "x": [
          20,
          30,
          40,
          50,
          60,
          70,
          80,
          90,
          100
         ],
         "y": [
          5,
          5,
          5,
          5,
          5,
          5,
          5,
          5,
          5
         ]
        },
        {
         "hoverinfo": "none",
         "mode": "text",
         "showlegend": false,
         "text": [
          "10",
          "20",
          "30",
          "40",
          "50",
          "40",
          "30",
          "20",
          "10"
         ],
         "textfont": {
          "color": "#ffffff",
          "family": "Courier New, monospace",
          "size": 30
         },
         "type": "scatter",
         "x": [
          20,
          30,
          40,
          50,
          60,
          70,
          80,
          90,
          100
         ],
         "y": [
          48.5,
          48.5,
          48.5,
          48.5,
          48.5,
          48.5,
          48.5,
          48.5,
          48.5
         ]
        },
        {
         "hoverinfo": "none",
         "line": {
          "color": "blue",
          "dash": "dash"
         },
         "showlegend": false,
         "type": "scatter",
         "x": [
          68,
          68
         ],
         "y": [
          0,
          53.5
         ]
        },
        {
         "hoverinfo": "none",
         "line": {
          "color": "yellow",
          "dash": "dash"
         },
         "showlegend": false,
         "type": "scatter",
         "x": [
          78,
          78
         ],
         "y": [
          0,
          53.5
         ]
        },
        {
         "hoverinfo": "text",
         "hovertext": [
          "nflId:35441.0<br>displayName:Ndamukong Suh<br>Position:DRT<br>Role:Pass Rush",
          "nflId:35454.0<br>displayName:Jason Pierre-Paul<br>Position:RE<br>Role:Pass Rush",
          "nflId:38588.0<br>displayName:Lavonte David<br>Position:LLB<br>Role:Coverage",
          "nflId:41338.0<br>displayName:Ross Cockrell<br>Position:SCBoL<br>Role:Coverage",
          "nflId:41915.0<br>displayName:Shaquil Barrett<br>Position:LOLB<br>Role:Pass Rush",
          "nflId:46132.0<br>displayName:Carlton Davis<br>Position:RCB<br>Role:Coverage",
          "nflId:47788.0<br>displayName:Devin White<br>Position:RLB<br>Role:Coverage",
          "nflId:47877.0<br>displayName:Jamel Dean<br>Position:LCB<br>Role:Coverage",
          "nflId:47882.0<br>displayName:Mike Edwards<br>Position:FSL<br>Role:Coverage",
          "nflId:52453.0<br>displayName:Antoine Winfield<br>Position:FSR<br>Role:Coverage",
          "nflId:53461.0<br>displayName:Joe Tryon<br>Position:ROLB<br>Role:Pass Rush"
         ],
         "marker": {
          "color": "#D50A0A"
         },
         "mode": "markers",
         "name": "TB",
         "type": "scatter",
         "x": [
          68.57,
          68.49,
          71.87,
          70.45,
          68.83,
          69.05,
          72.16,
          69.63,
          79.83,
          82.73,
          68.99
         ],
         "y": [
          30.37,
          32.05,
          25.51,
          17.18,
          24.13,
          44.19,
          32.44,
          9.04,
          22.29,
          35.06,
          34.46
         ]
        },
        {
         "hoverinfo": "text",
         "hovertext": [
          "nflId:37082.0<br>displayName:Tyron Smith<br>Position:LT<br>Role:Pass Block",
          "nflId:42347.0<br>displayName:Amari Cooper<br>Position:RWR<br>Role:Pass Route",
          "nflId:42654.0<br>displayName:La'el Collins<br>Position:RT<br>Role:Pass Block",
          "nflId:43293.0<br>displayName:Ezekiel Elliott<br>Position:HB-L<br>Role:Pass Route",
          "nflId:43424.0<br>displayName:Dak Prescott<br>Position:QB<br>Role:Pass",
          "nflId:46119.0<br>displayName:Connor Williams<br>Position:LG<br>Role:Pass Block",
          "nflId:46150.0<br>displayName:Michael Gallup<br>Position:LWR<br>Role:Pass Route",
          "nflId:46206.0<br>displayName:Dalton Schultz<br>Position:SRiWR<br>Role:Pass Route",
          "nflId:47873.0<br>displayName:Connor McGovern<br>Position:RG<br>Role:Pass Block",
          "nflId:52425.0<br>displayName:CeeDee Lamb<br>Position:SRoWR<br>Role:Pass Route",
          "nflId:52554.0<br>displayName:Tyler Biadasz<br>Position:C<br>Role:Pass Block"
         ],
         "marker": {
          "color": "#003594"
         },
         "mode": "markers",
         "name": "DAL",
         "type": "scatter",
         "x": [
          66.37,
          65.35,
          66.46,
          63.34,
          63.59,
          66.9,
          66.65,
          66.68,
          66.62,
          66.23,
          67.22
         ],
         "y": [
          32.3,
          9.91,
          26.27,
          31.39,
          29.13,
          30.73,
          44.18,
          22.19,
          27.86,
          17.17,
          29.44
         ]
        },
        {
         "hoverinfo": "none",
         "marker": {
          "color": "#CBB67C"
         },
         "mode": "markers",
         "name": "football",
         "type": "scatter",
         "x": [
          68.14
         ],
         "y": [
          29.32
         ]
        }
       ],
       "frames": [
        {
         "data": [
          {
           "hoverinfo": "none",
           "mode": "text",
           "showlegend": false,
           "text": [
            "10",
            "20",
            "30",
            "40",
            "50",
            "40",
            "30",
            "20",
            "10"
           ],
           "textfont": {
            "color": "#ffffff",
            "family": "Courier New, monospace",
            "size": 30
           },
           "type": "scatter",
           "x": [
            20,
            30,
            40,
            50,
            60,
            70,
            80,
            90,
            100
           ],
           "y": [
            5,
            5,
            5,
            5,
            5,
            5,
            5,
            5,
            5
           ]
          },
          {
           "hoverinfo": "none",
           "mode": "text",
           "showlegend": false,
           "text": [
            "10",
            "20",
            "30",
            "40",
            "50",
            "40",
            "30",
            "20",
            "10"
           ],
           "textfont": {
            "color": "#ffffff",
            "family": "Courier New, monospace",
            "size": 30
           },
           "type": "scatter",
           "x": [
            20,
            30,
            40,
            50,
            60,
            70,
            80,
            90,
            100
           ],
           "y": [
            48.5,
            48.5,
            48.5,
            48.5,
            48.5,
            48.5,
            48.5,
            48.5,
            48.5
           ]
          },
          {
           "hoverinfo": "none",
           "line": {
            "color": "blue",
            "dash": "dash"
           },
           "showlegend": false,
           "type": "scatter",
           "x": [
            68,
            68
           ],
           "y": [
            0,
            53.5
           ]
          },
          {
           "hoverinfo": "none",
           "line": {
            "color": "yellow",
            "dash": "dash"
           },
           "showlegend": false,
           "type": "scatter",
           "x": [
            78,
            78
           ],
           "y": [
            0,
            53.5
           ]
          },
          {
           "hoverinfo": "text",
           "hovertext": [
            "nflId:35441.0<br>displayName:Ndamukong Suh<br>Position:DRT<br>Role:Pass Rush",
            "nflId:35454.0<br>displayName:Jason Pierre-Paul<br>Position:RE<br>Role:Pass Rush",
            "nflId:38588.0<br>displayName:Lavonte David<br>Position:LLB<br>Role:Coverage",
            "nflId:41338.0<br>displayName:Ross Cockrell<br>Position:SCBoL<br>Role:Coverage",
            "nflId:41915.0<br>displayName:Shaquil Barrett<br>Position:LOLB<br>Role:Pass Rush",
            "nflId:46132.0<br>displayName:Carlton Davis<br>Position:RCB<br>Role:Coverage",
            "nflId:47788.0<br>displayName:Devin White<br>Position:RLB<br>Role:Coverage",
            "nflId:47877.0<br>displayName:Jamel Dean<br>Position:LCB<br>Role:Coverage",
            "nflId:47882.0<br>displayName:Mike Edwards<br>Position:FSL<br>Role:Coverage",
            "nflId:52453.0<br>displayName:Antoine Winfield<br>Position:FSR<br>Role:Coverage",
            "nflId:53461.0<br>displayName:Joe Tryon<br>Position:ROLB<br>Role:Pass Rush"
           ],
           "marker": {
            "color": "#D50A0A"
           },
           "mode": "markers",
           "name": "TB",
           "type": "scatter",
           "x": [
            68.56,
            68.48,
            71.87,
            70.48,
            68.83,
            69.06,
            72.16,
            69.67,
            79.91,
            82.81,
            68.98
           ],
           "y": [
            30.37,
            32.05,
            25.51,
            17.17,
            24.13,
            44.21,
            32.46,
            9.01,
            22.29,
            35.06,
            34.51
           ]
          },
          {
           "hoverinfo": "text",
           "hovertext": [
            "nflId:37082.0<br>displayName:Tyron Smith<br>Position:LT<br>Role:Pass Block",
            "nflId:42347.0<br>displayName:Amari Cooper<br>Position:RWR<br>Role:Pass Route",
            "nflId:42654.0<br>displayName:La'el Collins<br>Position:RT<br>Role:Pass Block",
            "nflId:43293.0<br>displayName:Ezekiel Elliott<br>Position:HB-L<br>Role:Pass Route",
            "nflId:43424.0<br>displayName:Dak Prescott<br>Position:QB<br>Role:Pass",
            "nflId:46119.0<br>displayName:Connor Williams<br>Position:LG<br>Role:Pass Block",
            "nflId:46150.0<br>displayName:Michael Gallup<br>Position:LWR<br>Role:Pass Route",
            "nflId:46206.0<br>displayName:Dalton Schultz<br>Position:SRiWR<br>Role:Pass Route",
            "nflId:47873.0<br>displayName:Connor McGovern<br>Position:RG<br>Role:Pass Block",
            "nflId:52425.0<br>displayName:CeeDee Lamb<br>Position:SRoWR<br>Role:Pass Route",
            "nflId:52554.0<br>displayName:Tyler Biadasz<br>Position:C<br>Role:Pass Block"
           ],
           "marker": {
            "color": "#003594"
           },
           "mode": "markers",
           "name": "DAL",
           "type": "scatter",
           "x": [
            66.37,
            65.35,
            66.46,
            63.35,
            63.61,
            66.9,
            66.65,
            66.68,
            66.62,
            66.23,
            67.22
           ],
           "y": [
            32.3,
            9.91,
            26.27,
            31.38,
            29.13,
            30.73,
            44.19,
            22.19,
            27.86,
            17.16,
            29.44
           ]
          },
          {
           "hoverinfo": "none",
           "marker": {
            "color": "#CBB67C"
           },
           "mode": "markers",
           "name": "football",
           "type": "scatter",
           "x": [
            68.14
           ],
           "y": [
            29.32
           ]
          }
         ],
         "name": "2"
        },
        {
         "data": [
          {
           "hoverinfo": "none",
           "mode": "text",
           "showlegend": false,
           "text": [
            "10",
            "20",
            "30",
            "40",
            "50",
            "40",
            "30",
            "20",
            "10"
           ],
           "textfont": {
            "color": "#ffffff",
            "family": "Courier New, monospace",
            "size": 30
           },
           "type": "scatter",
           "x": [
            20,
            30,
            40,
            50,
            60,
            70,
            80,
            90,
            100
           ],
           "y": [
            5,
            5,
            5,
            5,
            5,
            5,
            5,
            5,
            5
           ]
          },
          {
           "hoverinfo": "none",
           "mode": "text",
           "showlegend": false,
           "text": [
            "10",
            "20",
            "30",
            "40",
            "50",
            "40",
            "30",
            "20",
            "10"
           ],
           "textfont": {
            "color": "#ffffff",
            "family": "Courier New, monospace",
            "size": 30
           },
           "type": "scatter",
           "x": [
            20,
            30,
            40,
            50,
            60,
            70,
            80,
            90,
            100
           ],
           "y": [
            48.5,
            48.5,
            48.5,
            48.5,
            48.5,
            48.5,
            48.5,
            48.5,
            48.5
           ]
          },
          {
           "hoverinfo": "none",
           "line": {
            "color": "blue",
            "dash": "dash"
           },
           "showlegend": false,
           "type": "scatter",
           "x": [
            68,
            68
           ],
           "y": [
            0,
            53.5
           ]
          },
          {
           "hoverinfo": "none",
           "line": {
            "color": "yellow",
            "dash": "dash"
           },
           "showlegend": false,
           "type": "scatter",
           "x": [
            78,
            78
           ],
           "y": [
            0,
            53.5
           ]
          },
          {
           "hoverinfo": "text",
           "hovertext": [
            "nflId:35441.0<br>displayName:Ndamukong Suh<br>Position:DRT<br>Role:Pass Rush",
            "nflId:35454.0<br>displayName:Jason Pierre-Paul<br>Position:RE<br>Role:Pass Rush",
            "nflId:38588.0<br>displayName:Lavonte David<br>Position:LLB<br>Role:Coverage",
            "nflId:41338.0<br>displayName:Ross Cockrell<br>Position:SCBoL<br>Role:Coverage",
            "nflId:41915.0<br>displayName:Shaquil Barrett<br>Position:LOLB<br>Role:Pass Rush",
            "nflId:46132.0<br>displayName:Carlton Davis<br>Position:RCB<br>Role:Coverage",
            "nflId:47788.0<br>displayName:Devin White<br>Position:RLB<br>Role:Coverage",
            "nflId:47877.0<br>displayName:Jamel Dean<br>Position:LCB<br>Role:Coverage",
            "nflId:47882.0<br>displayName:Mike Edwards<br>Position:FSL<br>Role:Coverage",
            "nflId:52453.0<br>displayName:Antoine Winfield<br>Position:FSR<br>Role:Coverage",
            "nflId:53461.0<br>displayName:Joe Tryon<br>Position:ROLB<br>Role:Pass Rush"
           ],
           "marker": {
            "color": "#D50A0A"
           },
           "mode": "markers",
           "name": "TB",
           "type": "scatter",
           "x": [
            68.56,
            68.48,
            71.87,
            70.51,
            68.83,
            69.06,
            72.16,
            69.67,
            80,
            82.88,
            68.83
           ],
           "y": [
            30.38,
            32.06,
            25.51,
            17.16,
            24.13,
            44.21,
            32.46,
            8.99,
            22.28,
            35.05,
            34.54
           ]
          },
          {
           "hoverinfo": "text",
           "hovertext": [
            "nflId:37082.0<br>displayName:Tyron Smith<br>Position:LT<br>Role:Pass Block",
            "nflId:42347.0<br>displayName:Amari Cooper<br>Position:RWR<br>Role:Pass Route",
            "nflId:42654.0<br>displayName:La'el Collins<br>Position:RT<br>Role:Pass Block",
            "nflId:43293.0<br>displayName:Ezekiel Elliott<br>Position:HB-L<br>Role:Pass Route",
            "nflId:43424.0<br>displayName:Dak Prescott<br>Position:QB<br>Role:Pass",
            "nflId:46119.0<br>displayName:Connor Williams<br>Position:LG<br>Role:Pass Block",
            "nflId:46150.0<br>displayName:Michael Gallup<br>Position:LWR<br>Role:Pass Route",
            "nflId:46206.0<br>displayName:Dalton Schultz<br>Position:SRiWR<br>Role:Pass Route",
            "nflId:47873.0<br>displayName:Connor McGovern<br>Position:RG<br>Role:Pass Block",
            "nflId:52425.0<br>displayName:CeeDee Lamb<br>Position:SRoWR<br>Role:Pass Route",
            "nflId:52554.0<br>displayName:Tyler Biadasz<br>Position:C<br>Role:Pass Block"
           ],
           "marker": {
            "color": "#003594"
           },
           "mode": "markers",
           "name": "DAL",
           "type": "scatter",
           "x": [
            66.37,
            65.35,
            66.46,
            63.34,
            63.62,
            66.9,
            66.66,
            66.68,
            66.62,
            66.24,
            67.21
           ],
           "y": [
            32.3,
            9.91,
            26.27,
            31.41,
            29.16,
            30.73,
            44.19,
            22.19,
            27.86,
            17.16,
            29.44
           ]
          },
          {
           "hoverinfo": "none",
           "marker": {
            "color": "#CBB67C"
           },
           "mode": "markers",
           "name": "football",
           "type": "scatter",
           "x": [
            68.14
           ],
           "y": [
            29.32
           ]
          }
         ],
         "name": "3"
        },
        {
         "data": [
          {
           "hoverinfo": "none",
           "mode": "text",
           "showlegend": false,
           "text": [
            "10",
            "20",
            "30",
            "40",
            "50",
            "40",
            "30",
            "20",
            "10"
           ],
           "textfont": {
            "color": "#ffffff",
            "family": "Courier New, monospace",
            "size": 30
           },
           "type": "scatter",
           "x": [
            20,
            30,
            40,
            50,
            60,
            70,
            80,
            90,
            100
           ],
           "y": [
            5,
            5,
            5,
            5,
            5,
            5,
            5,
            5,
            5
           ]
          },
          {
           "hoverinfo": "none",
           "mode": "text",
           "showlegend": false,
           "text": [
            "10",
            "20",
            "30",
            "40",
            "50",
            "40",
            "30",
            "20",
            "10"
           ],
           "textfont": {
            "color": "#ffffff",
            "family": "Courier New, monospace",
            "size": 30
           },
           "type": "scatter",
           "x": [
            20,
            30,
            40,
            50,
            60,
            70,
            80,
            90,
            100
           ],
           "y": [
            48.5,
            48.5,
            48.5,
            48.5,
            48.5,
            48.5,
            48.5,
            48.5,
            48.5
           ]
          },
          {
           "hoverinfo": "none",
           "line": {
            "color": "blue",
            "dash": "dash"
           },
           "showlegend": false,
           "type": "scatter",
           "x": [
            68,
            68
           ],
           "y": [
            0,
            53.5
           ]
          },
          {
           "hoverinfo": "none",
           "line": {
            "color": "yellow",
            "dash": "dash"
           },
           "showlegend": false,
           "type": "scatter",
           "x": [
            78,
            78
           ],
           "y": [
            0,
            53.5
           ]
          },
          {
           "hoverinfo": "text",
           "hovertext": [
            "nflId:35441.0<br>displayName:Ndamukong Suh<br>Position:DRT<br>Role:Pass Rush",
            "nflId:35454.0<br>displayName:Jason Pierre-Paul<br>Position:RE<br>Role:Pass Rush",
            "nflId:38588.0<br>displayName:Lavonte David<br>Position:LLB<br>Role:Coverage",
            "nflId:41338.0<br>displayName:Ross Cockrell<br>Position:SCBoL<br>Role:Coverage",
            "nflId:41915.0<br>displayName:Shaquil Barrett<br>Position:LOLB<br>Role:Pass Rush",
            "nflId:46132.0<br>displayName:Carlton Davis<br>Position:RCB<br>Role:Coverage",
            "nflId:47788.0<br>displayName:Devin White<br>Position:RLB<br>Role:Coverage",
            "nflId:47877.0<br>displayName:Jamel Dean<br>Position:LCB<br>Role:Coverage",
            "nflId:47882.0<br>displayName:Mike Edwards<br>Position:FSL<br>Role:Coverage",
            "nflId:52453.0<br>displayName:Antoine Winfield<br>Position:FSR<br>Role:Coverage",
            "nflId:53461.0<br>displayName:Joe Tryon<br>Position:ROLB<br>Role:Pass Rush"
           ],
           "marker": {
            "color": "#D50A0A"
           },
           "mode": "markers",
           "name": "TB",
           "type": "scatter",
           "x": [
            68.54,
            68.45,
            71.87,
            70.55,
            68.82,
            69.06,
            72.17,
            69.72,
            80.11,
            82.95,
            68.73
           ],
           "y": [
            30.38,
            32.06,
            25.51,
            17.16,
            24.13,
            44.21,
            32.43,
            9,
            22.26,
            35.03,
            34.59
           ]
          },
          {
           "hoverinfo": "text",
           "hovertext": [
            "nflId:37082.0<br>displayName:Tyron Smith<br>Position:LT<br>Role:Pass Block",
            "nflId:42347.0<br>displayName:Amari Cooper<br>Position:RWR<br>Role:Pass Route",
            "nflId:42654.0<br>displayName:La'el Collins<br>Position:RT<br>Role:Pass Block",
            "nflId:43293.0<br>displayName:Ezekiel Elliott<br>Position:HB-L<br>Role:Pass Route",
            "nflId:43424.0<br>displayName:Dak Prescott<br>Position:QB<br>Role:Pass",
            "nflId:46119.0<br>displayName:Connor Williams<br>Position:LG<br>Role:Pass Block",
            "nflId:46150.0<br>displayName:Michael Gallup<br>Position:LWR<br>Role:Pass Route",
            "nflId:46206.0<br>displayName:Dalton Schultz<br>Position:SRiWR<br>Role:Pass Route",
            "nflId:47873.0<br>displayName:Connor McGovern<br>Position:RG<br>Role:Pass Block",
            "nflId:52425.0<br>displayName:CeeDee Lamb<br>Position:SRoWR<br>Role:Pass Route",
            "nflId:52554.0<br>displayName:Tyler Biadasz<br>Position:C<br>Role:Pass Block"
           ],
           "marker": {
            "color": "#003594"
           },
           "mode": "markers",
           "name": "DAL",
           "type": "scatter",
           "x": [
            66.36,
            65.35,
            66.46,
            63.34,
            63.61,
            66.89,
            66.66,
            66.68,
            66.62,
            66.24,
            67.21
           ],
           "y": [
            32.3,
            9.91,
            26.27,
            31.41,
            29.15,
            30.74,
            44.19,
            22.19,
            27.87,
            17.16,
            29.44
           ]
          },
          {
           "hoverinfo": "none",
           "marker": {
            "color": "#CBB67C"
           },
           "mode": "markers",
           "name": "football",
           "type": "scatter",
           "x": [
            68.14
           ],
           "y": [
            29.32
           ]
          }
         ],
         "name": "4"
        },
        {
         "data": [
          {
           "hoverinfo": "none",
           "mode": "text",
           "showlegend": false,
           "text": [
            "10",
            "20",
            "30",
            "40",
            "50",
            "40",
            "30",
            "20",
            "10"
           ],
           "textfont": {
            "color": "#ffffff",
            "family": "Courier New, monospace",
            "size": 30
           },
           "type": "scatter",
           "x": [
            20,
            30,
            40,
            50,
            60,
            70,
            80,
            90,
            100
           ],
           "y": [
            5,
            5,
            5,
            5,
            5,
            5,
            5,
            5,
            5
           ]
          },
          {
           "hoverinfo": "none",
           "mode": "text",
           "showlegend": false,
           "text": [
            "10",
            "20",
            "30",
            "40",
            "50",
            "40",
            "30",
            "20",
            "10"
           ],
           "textfont": {
            "color": "#ffffff",
            "family": "Courier New, monospace",
            "size": 30
           },
           "type": "scatter",
           "x": [
            20,
            30,
            40,
            50,
            60,
            70,
            80,
            90,
            100
           ],
           "y": [
            48.5,
            48.5,
            48.5,
            48.5,
            48.5,
            48.5,
            48.5,
            48.5,
            48.5
           ]
          },
          {
           "hoverinfo": "none",
           "line": {
            "color": "blue",
            "dash": "dash"
           },
           "showlegend": false,
           "type": "scatter",
           "x": [
            68,
            68
           ],
           "y": [
            0,
            53.5
           ]
          },
          {
           "hoverinfo": "none",
           "line": {
            "color": "yellow",
            "dash": "dash"
           },
           "showlegend": false,
           "type": "scatter",
           "x": [
            78,
            78
           ],
           "y": [
            0,
            53.5
           ]
          },
          {
           "hoverinfo": "text",
           "hovertext": [
            "nflId:35441.0<br>displayName:Ndamukong Suh<br>Position:DRT<br>Role:Pass Rush",
            "nflId:35454.0<br>displayName:Jason Pierre-Paul<br>Position:RE<br>Role:Pass Rush",
            "nflId:38588.0<br>displayName:Lavonte David<br>Position:LLB<br>Role:Coverage",
            "nflId:41338.0<br>displayName:Ross Cockrell<br>Position:SCBoL<br>Role:Coverage",
            "nflId:41915.0<br>displayName:Shaquil Barrett<br>Position:LOLB<br>Role:Pass Rush",
            "nflId:46132.0<br>displayName:Carlton Davis<br>Position:RCB<br>Role:Coverage",
            "nflId:47788.0<br>displayName:Devin White<br>Position:RLB<br>Role:Coverage",
            "nflId:47877.0<br>displayName:Jamel Dean<br>Position:LCB<br>Role:Coverage",
            "nflId:47882.0<br>displayName:Mike Edwards<br>Position:FSL<br>Role:Coverage",
            "nflId:52453.0<br>displayName:Antoine Winfield<br>Position:FSR<br>Role:Coverage",
            "nflId:53461.0<br>displayName:Joe Tryon<br>Position:ROLB<br>Role:Pass Rush"
           ],
           "marker": {
            "color": "#D50A0A"
           },
           "mode": "markers",
           "name": "TB",
           "type": "scatter",
           "x": [
            68.51,
            68.43,
            71.88,
            70.6,
            68.82,
            69.07,
            72.16,
            69.71,
            80.22,
            83.02,
            68.61
           ],
           "y": [
            30.38,
            32.07,
            25.51,
            17.16,
            24.14,
            44.22,
            32.41,
            9.03,
            22.2,
            35.02,
            34.65
           ]
          },
          {
           "hoverinfo": "text",
           "hovertext": [
            "nflId:37082.0<br>displayName:Tyron Smith<br>Position:LT<br>Role:Pass Block",
            "nflId:42347.0<br>displayName:Amari Cooper<br>Position:RWR<br>Role:Pass Route",
            "nflId:42654.0<br>displayName:La'el Collins<br>Position:RT<br>Role:Pass Block",
            "nflId:43293.0<br>displayName:Ezekiel Elliott<br>Position:HB-L<br>Role:Pass Route",
            "nflId:43424.0<br>displayName:Dak Prescott<br>Position:QB<br>Role:Pass",
            "nflId:46119.0<br>displayName:Connor Williams<br>Position:LG<br>Role:Pass Block",
            "nflId:46150.0<br>displayName:Michael Gallup<br>Position:LWR<br>Role:Pass Route",
            "nflId:46206.0<br>displayName:Dalton Schultz<br>Position:SRiWR<br>Role:Pass Route",
            "nflId:47873.0<br>displayName:Connor McGovern<br>Position:RG<br>Role:Pass Block",
            "nflId:52425.0<br>displayName:CeeDee Lamb<br>Position:SRoWR<br>Role:Pass Route",
            "nflId:52554.0<br>displayName:Tyler Biadasz<br>Position:C<br>Role:Pass Block"
           ],
           "marker": {
            "color": "#003594"
           },
           "mode": "markers",
           "name": "DAL",
           "type": "scatter",
           "x": [
            66.35,
            65.35,
            66.45,
            63.35,
            63.57,
            66.84,
            66.66,
            66.69,
            66.62,
            66.24,
            67.21
           ],
           "y": [
            32.3,
            9.92,
            26.26,
            31.46,
            29.16,
            30.75,
            44.19,
            22.19,
            27.87,
            17.16,
            29.44
           ]
          },
          {
           "hoverinfo": "none",
           "marker": {
            "color": "#CBB67C"
           },
           "mode": "markers",
           "name": "football",
           "type": "scatter",
           "x": [
            68.14
           ],
           "y": [
            29.32
           ]
          }
         ],
         "name": "5"
        },
        {
         "data": [
          {
           "hoverinfo": "none",
           "mode": "text",
           "showlegend": false,
           "text": [
            "10",
            "20",
            "30",
            "40",
            "50",
            "40",
            "30",
            "20",
            "10"
           ],
           "textfont": {
            "color": "#ffffff",
            "family": "Courier New, monospace",
            "size": 30
           },
           "type": "scatter",
           "x": [
            20,
            30,
            40,
            50,
            60,
            70,
            80,
            90,
            100
           ],
           "y": [
            5,
            5,
            5,
            5,
            5,
            5,
            5,
            5,
            5
           ]
          },
          {
           "hoverinfo": "none",
           "mode": "text",
           "showlegend": false,
           "text": [
            "10",
            "20",
            "30",
            "40",
            "50",
            "40",
            "30",
            "20",
            "10"
           ],
           "textfont": {
            "color": "#ffffff",
            "family": "Courier New, monospace",
            "size": 30
           },
           "type": "scatter",
           "x": [
            20,
            30,
            40,
            50,
            60,
            70,
            80,
            90,
            100
           ],
           "y": [
            48.5,
            48.5,
            48.5,
            48.5,
            48.5,
            48.5,
            48.5,
            48.5,
            48.5
           ]
          },
          {
           "hoverinfo": "none",
           "line": {
            "color": "blue",
            "dash": "dash"
           },
           "showlegend": false,
           "type": "scatter",
           "x": [
            68,
            68
           ],
           "y": [
            0,
            53.5
           ]
          },
          {
           "hoverinfo": "none",
           "line": {
            "color": "yellow",
            "dash": "dash"
           },
           "showlegend": false,
           "type": "scatter",
           "x": [
            78,
            78
           ],
           "y": [
            0,
            53.5
           ]
          },
          {
           "hoverinfo": "text",
           "hovertext": [
            "nflId:35441.0<br>displayName:Ndamukong Suh<br>Position:DRT<br>Role:Pass Rush",
            "nflId:35454.0<br>displayName:Jason Pierre-Paul<br>Position:RE<br>Role:Pass Rush",
            "nflId:38588.0<br>displayName:Lavonte David<br>Position:LLB<br>Role:Coverage",
            "nflId:41338.0<br>displayName:Ross Cockrell<br>Position:SCBoL<br>Role:Coverage",
            "nflId:41915.0<br>displayName:Shaquil Barrett<br>Position:LOLB<br>Role:Pass Rush",
            "nflId:46132.0<br>displayName:Carlton Davis<br>Position:RCB<br>Role:Coverage",
            "nflId:47788.0<br>displayName:Devin White<br>Position:RLB<br>Role:Coverage",
            "nflId:47877.0<br>displayName:Jamel Dean<br>Position:LCB<br>Role:Coverage",
            "nflId:47882.0<br>displayName:Mike Edwards<br>Position:FSL<br>Role:Coverage",
            "nflId:52453.0<br>displayName:Antoine Winfield<br>Position:FSR<br>Role:Coverage",
            "nflId:53461.0<br>displayName:Joe Tryon<br>Position:ROLB<br>Role:Pass Rush"
           ],
           "marker": {
            "color": "#D50A0A"
           },
           "mode": "markers",
           "name": "TB",
           "type": "scatter",
           "x": [
            68.45,
            68.4,
            71.88,
            70.64,
            68.81,
            69.06,
            72.14,
            69.71,
            80.35,
            83.09,
            68.49
           ],
           "y": [
            30.38,
            32.08,
            25.51,
            17.16,
            24.14,
            44.22,
            32.36,
            9.05,
            22.12,
            35.01,
            34.72
           ]
          },
          {
           "hoverinfo": "text",
           "hovertext": [
            "nflId:37082.0<br>displayName:Tyron Smith<br>Position:LT<br>Role:Pass Block",
            "nflId:42347.0<br>displayName:Amari Cooper<br>Position:RWR<br>Role:Pass Route",
            "nflId:42654.0<br>displayName:La'el Collins<br>Position:RT<br>Role:Pass Block",
            "nflId:43293.0<br>displayName:Ezekiel Elliott<br>Position:HB-L<br>Role:Pass Route",
            "nflId:43424.0<br>displayName:Dak Prescott<br>Position:QB<br>Role:Pass",
            "nflId:46119.0<br>displayName:Connor Williams<br>Position:LG<br>Role:Pass Block",
            "nflId:46150.0<br>displayName:Michael Gallup<br>Position:LWR<br>Role:Pass Route",
            "nflId:46206.0<br>displayName:Dalton Schultz<br>Position:SRiWR<br>Role:Pass Route",
            "nflId:47873.0<br>displayName:Connor McGovern<br>Position:RG<br>Role:Pass Block",
            "nflId:52425.0<br>displayName:CeeDee Lamb<br>Position:SRoWR<br>Role:Pass Route",
            "nflId:52554.0<br>displayName:Tyler Biadasz<br>Position:C<br>Role:Pass Block"
           ],
           "marker": {
            "color": "#003594"
           },
           "mode": "markers",
           "name": "DAL",
           "type": "scatter",
           "x": [
            66.33,
            65.36,
            66.43,
            63.34,
            63.53,
            66.79,
            66.66,
            66.7,
            66.6,
            66.25,
            67.19
           ],
           "y": [
            32.29,
            9.92,
            26.25,
            31.5,
            29.16,
            30.76,
            44.18,
            22.2,
            27.85,
            17.16,
            29.44
           ]
          },
          {
           "hoverinfo": "none",
           "marker": {
            "color": "#CBB67C"
           },
           "mode": "markers",
           "name": "football",
           "type": "scatter",
           "x": [
            68.14
           ],
           "y": [
            29.32
           ]
          }
         ],
         "name": "6"
        },
        {
         "data": [
          {
           "hoverinfo": "none",
           "mode": "text",
           "showlegend": false,
           "text": [
            "10",
            "20",
            "30",
            "40",
            "50",
            "40",
            "30",
            "20",
            "10"
           ],
           "textfont": {
            "color": "#ffffff",
            "family": "Courier New, monospace",
            "size": 30
           },
           "type": "scatter",
           "x": [
            20,
            30,
            40,
            50,
            60,
            70,
            80,
            90,
            100
           ],
           "y": [
            5,
            5,
            5,
            5,
            5,
            5,
            5,
            5,
            5
           ]
          },
          {
           "hoverinfo": "none",
           "mode": "text",
           "showlegend": false,
           "text": [
            "10",
            "20",
            "30",
            "40",
            "50",
            "40",
            "30",
            "20",
            "10"
           ],
           "textfont": {
            "color": "#ffffff",
            "family": "Courier New, monospace",
            "size": 30
           },
           "type": "scatter",
           "x": [
            20,
            30,
            40,
            50,
            60,
            70,
            80,
            90,
            100
           ],
           "y": [
            48.5,
            48.5,
            48.5,
            48.5,
            48.5,
            48.5,
            48.5,
            48.5,
            48.5
           ]
          },
          {
           "hoverinfo": "none",
           "line": {
            "color": "blue",
            "dash": "dash"
           },
           "showlegend": false,
           "type": "scatter",
           "x": [
            68,
            68
           ],
           "y": [
            0,
            53.5
           ]
          },
          {
           "hoverinfo": "none",
           "line": {
            "color": "yellow",
            "dash": "dash"
           },
           "showlegend": false,
           "type": "scatter",
           "x": [
            78,
            78
           ],
           "y": [
            0,
            53.5
           ]
          },
          {
           "hoverinfo": "text",
           "hovertext": [
            "nflId:35441.0<br>displayName:Ndamukong Suh<br>Position:DRT<br>Role:Pass Rush",
            "nflId:35454.0<br>displayName:Jason Pierre-Paul<br>Position:RE<br>Role:Pass Rush",
            "nflId:38588.0<br>displayName:Lavonte David<br>Position:LLB<br>Role:Coverage",
            "nflId:41338.0<br>displayName:Ross Cockrell<br>Position:SCBoL<br>Role:Coverage",
            "nflId:41915.0<br>displayName:Shaquil Barrett<br>Position:LOLB<br>Role:Pass Rush",
            "nflId:46132.0<br>displayName:Carlton Davis<br>Position:RCB<br>Role:Coverage",
            "nflId:47788.0<br>displayName:Devin White<br>Position:RLB<br>Role:Coverage",
            "nflId:47877.0<br>displayName:Jamel Dean<br>Position:LCB<br>Role:Coverage",
            "nflId:47882.0<br>displayName:Mike Edwards<br>Position:FSL<br>Role:Coverage",
            "nflId:52453.0<br>displayName:Antoine Winfield<br>Position:FSR<br>Role:Coverage",
            "nflId:53461.0<br>displayName:Joe Tryon<br>Position:ROLB<br>Role:Pass Rush"
           ],
           "marker": {
            "color": "#D50A0A"
           },
           "mode": "markers",
           "name": "TB",
           "type": "scatter",
           "x": [
            68.33,
            68.32,
            71.89,
            70.7,
            68.76,
            69.04,
            72.12,
            69.74,
            80.49,
            83.15,
            68.39
           ],
           "y": [
            30.36,
            32.08,
            25.51,
            17.17,
            24.14,
            44.2,
            32.33,
            9.04,
            22.01,
            35,
            34.75
           ]
          },
          {
           "hoverinfo": "text",
           "hovertext": [
            "nflId:37082.0<br>displayName:Tyron Smith<br>Position:LT<br>Role:Pass Block",
            "nflId:42347.0<br>displayName:Amari Cooper<br>Position:RWR<br>Role:Pass Route",
            "nflId:42654.0<br>displayName:La'el Collins<br>Position:RT<br>Role:Pass Block",
            "nflId:43293.0<br>displayName:Ezekiel Elliott<br>Position:HB-L<br>Role:Pass Route",
            "nflId:43424.0<br>displayName:Dak Prescott<br>Position:QB<br>Role:Pass",
            "nflId:46119.0<br>displayName:Connor Williams<br>Position:LG<br>Role:Pass Block",
            "nflId:46150.0<br>displayName:Michael Gallup<br>Position:LWR<br>Role:Pass Route",
            "nflId:46206.0<br>displayName:Dalton Schultz<br>Position:SRiWR<br>Role:Pass Route",
            "nflId:47873.0<br>displayName:Connor McGovern<br>Position:RG<br>Role:Pass Block",
            "nflId:52425.0<br>displayName:CeeDee Lamb<br>Position:SRoWR<br>Role:Pass Route",
            "nflId:52554.0<br>displayName:Tyler Biadasz<br>Position:C<br>Role:Pass Block"
           ],
           "marker": {
            "color": "#003594"
           },
           "mode": "markers",
           "name": "DAL",
           "type": "scatter",
           "x": [
            66.28,
            65.38,
            66.39,
            63.31,
            63.49,
            66.68,
            66.67,
            66.74,
            66.58,
            66.26,
            67.18
           ],
           "y": [
            32.29,
            9.93,
            26.22,
            31.55,
            29.17,
            30.79,
            44.18,
            22.2,
            27.84,
            17.15,
            29.44
           ]
          },
          {
           "hoverinfo": "none",
           "marker": {
            "color": "#CBB67C"
           },
           "mode": "markers",
           "name": "football",
           "type": "scatter",
           "x": [
            66.62
           ],
           "y": [
            29.18
           ]
          }
         ],
         "name": "7"
        },
        {
         "data": [
          {
           "hoverinfo": "none",
           "mode": "text",
           "showlegend": false,
           "text": [
            "10",
            "20",
            "30",
            "40",
            "50",
            "40",
            "30",
            "20",
            "10"
           ],
           "textfont": {
            "color": "#ffffff",
            "family": "Courier New, monospace",
            "size": 30
           },
           "type": "scatter",
           "x": [
            20,
            30,
            40,
            50,
            60,
            70,
            80,
            90,
            100
           ],
           "y": [
            5,
            5,
            5,
            5,
            5,
            5,
            5,
            5,
            5
           ]
          },
          {
           "hoverinfo": "none",
           "mode": "text",
           "showlegend": false,
           "text": [
            "10",
            "20",
            "30",
            "40",
            "50",
            "40",
            "30",
            "20",
            "10"
           ],
           "textfont": {
            "color": "#ffffff",
            "family": "Courier New, monospace",
            "size": 30
           },
           "type": "scatter",
           "x": [
            20,
            30,
            40,
            50,
            60,
            70,
            80,
            90,
            100
           ],
           "y": [
            48.5,
            48.5,
            48.5,
            48.5,
            48.5,
            48.5,
            48.5,
            48.5,
            48.5
           ]
          },
          {
           "hoverinfo": "none",
           "line": {
            "color": "blue",
            "dash": "dash"
           },
           "showlegend": false,
           "type": "scatter",
           "x": [
            68,
            68
           ],
           "y": [
            0,
            53.5
           ]
          },
          {
           "hoverinfo": "none",
           "line": {
            "color": "yellow",
            "dash": "dash"
           },
           "showlegend": false,
           "type": "scatter",
           "x": [
            78,
            78
           ],
           "y": [
            0,
            53.5
           ]
          },
          {
           "hoverinfo": "text",
           "hovertext": [
            "nflId:35441.0<br>displayName:Ndamukong Suh<br>Position:DRT<br>Role:Pass Rush",
            "nflId:35454.0<br>displayName:Jason Pierre-Paul<br>Position:RE<br>Role:Pass Rush",
            "nflId:38588.0<br>displayName:Lavonte David<br>Position:LLB<br>Role:Coverage",
            "nflId:41338.0<br>displayName:Ross Cockrell<br>Position:SCBoL<br>Role:Coverage",
            "nflId:41915.0<br>displayName:Shaquil Barrett<br>Position:LOLB<br>Role:Pass Rush",
            "nflId:46132.0<br>displayName:Carlton Davis<br>Position:RCB<br>Role:Coverage",
            "nflId:47788.0<br>displayName:Devin White<br>Position:RLB<br>Role:Coverage",
            "nflId:47877.0<br>displayName:Jamel Dean<br>Position:LCB<br>Role:Coverage",
            "nflId:47882.0<br>displayName:Mike Edwards<br>Position:FSL<br>Role:Coverage",
            "nflId:52453.0<br>displayName:Antoine Winfield<br>Position:FSR<br>Role:Coverage",
            "nflId:53461.0<br>displayName:Joe Tryon<br>Position:ROLB<br>Role:Pass Rush"
           ],
           "marker": {
            "color": "#D50A0A"
           },
           "mode": "markers",
           "name": "TB",
           "type": "scatter",
           "x": [
            68.19,
            68.21,
            71.89,
            70.78,
            68.67,
            69.03,
            72.09,
            69.75,
            80.65,
            83.21,
            68.29
           ],
           "y": [
            30.35,
            32.08,
            25.51,
            17.19,
            24.14,
            44.19,
            32.32,
            9.01,
            21.87,
            35.01,
            34.75
           ]
          },
          {
           "hoverinfo": "text",
           "hovertext": [
            "nflId:37082.0<br>displayName:Tyron Smith<br>Position:LT<br>Role:Pass Block",
            "nflId:42347.0<br>displayName:Amari Cooper<br>Position:RWR<br>Role:Pass Route",
            "nflId:42654.0<br>displayName:La'el Collins<br>Position:RT<br>Role:Pass Block",
            "nflId:43293.0<br>displayName:Ezekiel Elliott<br>Position:HB-L<br>Role:Pass Route",
            "nflId:43424.0<br>displayName:Dak Prescott<br>Position:QB<br>Role:Pass",
            "nflId:46119.0<br>displayName:Connor Williams<br>Position:LG<br>Role:Pass Block",
            "nflId:46150.0<br>displayName:Michael Gallup<br>Position:LWR<br>Role:Pass Route",
            "nflId:46206.0<br>displayName:Dalton Schultz<br>Position:SRiWR<br>Role:Pass Route",
            "nflId:47873.0<br>displayName:Connor McGovern<br>Position:RG<br>Role:Pass Block",
            "nflId:52425.0<br>displayName:CeeDee Lamb<br>Position:SRoWR<br>Role:Pass Route",
            "nflId:52554.0<br>displayName:Tyler Biadasz<br>Position:C<br>Role:Pass Block"
           ],
           "marker": {
            "color": "#003594"
           },
           "mode": "markers",
           "name": "DAL",
           "type": "scatter",
           "x": [
            66.2,
            65.43,
            66.31,
            63.29,
            63.41,
            66.56,
            66.67,
            66.82,
            66.55,
            66.28,
            67.15
           ],
           "y": [
            32.3,
            9.92,
            26.17,
            31.64,
            29.17,
            30.8,
            44.18,
            22.21,
            27.82,
            17.15,
            29.45
           ]
          },
          {
           "hoverinfo": "none",
           "marker": {
            "color": "#CBB67C"
           },
           "mode": "markers",
           "name": "football",
           "type": "scatter",
           "x": [
            65.74
           ],
           "y": [
            29.17
           ]
          }
         ],
         "name": "8"
        },
        {
         "data": [
          {
           "hoverinfo": "none",
           "mode": "text",
           "showlegend": false,
           "text": [
            "10",
            "20",
            "30",
            "40",
            "50",
            "40",
            "30",
            "20",
            "10"
           ],
           "textfont": {
            "color": "#ffffff",
            "family": "Courier New, monospace",
            "size": 30
           },
           "type": "scatter",
           "x": [
            20,
            30,
            40,
            50,
            60,
            70,
            80,
            90,
            100
           ],
           "y": [
            5,
            5,
            5,
            5,
            5,
            5,
            5,
            5,
            5
           ]
          },
          {
           "hoverinfo": "none",
           "mode": "text",
           "showlegend": false,
           "text": [
            "10",
            "20",
            "30",
            "40",
            "50",
            "40",
            "30",
            "20",
            "10"
           ],
           "textfont": {
            "color": "#ffffff",
            "family": "Courier New, monospace",
            "size": 30
           },
           "type": "scatter",
           "x": [
            20,
            30,
            40,
            50,
            60,
            70,
            80,
            90,
            100
           ],
           "y": [
            48.5,
            48.5,
            48.5,
            48.5,
            48.5,
            48.5,
            48.5,
            48.5,
            48.5
           ]
          },
          {
           "hoverinfo": "none",
           "line": {
            "color": "blue",
            "dash": "dash"
           },
           "showlegend": false,
           "type": "scatter",
           "x": [
            68,
            68
           ],
           "y": [
            0,
            53.5
           ]
          },
          {
           "hoverinfo": "none",
           "line": {
            "color": "yellow",
            "dash": "dash"
           },
           "showlegend": false,
           "type": "scatter",
           "x": [
            78,
            78
           ],
           "y": [
            0,
            53.5
           ]
          },
          {
           "hoverinfo": "text",
           "hovertext": [
            "nflId:35441.0<br>displayName:Ndamukong Suh<br>Position:DRT<br>Role:Pass Rush",
            "nflId:35454.0<br>displayName:Jason Pierre-Paul<br>Position:RE<br>Role:Pass Rush",
            "nflId:38588.0<br>displayName:Lavonte David<br>Position:LLB<br>Role:Coverage",
            "nflId:41338.0<br>displayName:Ross Cockrell<br>Position:SCBoL<br>Role:Coverage",
            "nflId:41915.0<br>displayName:Shaquil Barrett<br>Position:LOLB<br>Role:Pass Rush",
            "nflId:46132.0<br>displayName:Carlton Davis<br>Position:RCB<br>Role:Coverage",
            "nflId:47788.0<br>displayName:Devin White<br>Position:RLB<br>Role:Coverage",
            "nflId:47877.0<br>displayName:Jamel Dean<br>Position:LCB<br>Role:Coverage",
            "nflId:47882.0<br>displayName:Mike Edwards<br>Position:FSL<br>Role:Coverage",
            "nflId:52453.0<br>displayName:Antoine Winfield<br>Position:FSR<br>Role:Coverage",
            "nflId:53461.0<br>displayName:Joe Tryon<br>Position:ROLB<br>Role:Pass Rush"
           ],
           "marker": {
            "color": "#D50A0A"
           },
           "mode": "markers",
           "name": "TB",
           "type": "scatter",
           "x": [
            67.99,
            68.06,
            71.9,
            70.86,
            68.51,
            69.05,
            72.04,
            69.76,
            80.82,
            83.27,
            68.11
           ],
           "y": [
            30.35,
            32.07,
            25.52,
            17.2,
            24.14,
            44.16,
            32.32,
            8.97,
            21.69,
            35.02,
            34.76
           ]
          },
          {
           "hoverinfo": "text",
           "hovertext": [
            "nflId:37082.0<br>displayName:Tyron Smith<br>Position:LT<br>Role:Pass Block",
            "nflId:42347.0<br>displayName:Amari Cooper<br>Position:RWR<br>Role:Pass Route",
            "nflId:42654.0<br>displayName:La'el Collins<br>Position:RT<br>Role:Pass Block",
            "nflId:43293.0<br>displayName:Ezekiel Elliott<br>Position:HB-L<br>Role:Pass Route",
            "nflId:43424.0<br>displayName:Dak Prescott<br>Position:QB<br>Role:Pass",
            "nflId:46119.0<br>displayName:Connor Williams<br>Position:LG<br>Role:Pass Block",
            "nflId:46150.0<br>displayName:Michael Gallup<br>Position:LWR<br>Role:Pass Route",
            "nflId:46206.0<br>displayName:Dalton Schultz<br>Position:SRiWR<br>Role:Pass Route",
            "nflId:47873.0<br>displayName:Connor McGovern<br>Position:RG<br>Role:Pass Block",
            "nflId:52425.0<br>displayName:CeeDee Lamb<br>Position:SRoWR<br>Role:Pass Route",
            "nflId:52554.0<br>displayName:Tyler Biadasz<br>Position:C<br>Role:Pass Block"
           ],
           "marker": {
            "color": "#003594"
           },
           "mode": "markers",
           "name": "DAL",
           "type": "scatter",
           "x": [
            66.07,
            65.51,
            66.2,
            63.28,
            63.36,
            66.37,
            66.7,
            66.96,
            66.53,
            66.31,
            67.09
           ],
           "y": [
            32.3,
            9.9,
            26.11,
            31.67,
            29.17,
            30.79,
            44.17,
            22.21,
            27.81,
            17.13,
            29.47
           ]
          },
          {
           "hoverinfo": "none",
           "marker": {
            "color": "#CBB67C"
           },
           "mode": "markers",
           "name": "football",
           "type": "scatter",
           "x": [
            64.77
           ],
           "y": [
            29.16
           ]
          }
         ],
         "name": "9"
        },
        {
         "data": [
          {
           "hoverinfo": "none",
           "mode": "text",
           "showlegend": false,
           "text": [
            "10",
            "20",
            "30",
            "40",
            "50",
            "40",
            "30",
            "20",
            "10"
           ],
           "textfont": {
            "color": "#ffffff",
            "family": "Courier New, monospace",
            "size": 30
           },
           "type": "scatter",
           "x": [
            20,
            30,
            40,
            50,
            60,
            70,
            80,
            90,
            100
           ],
           "y": [
            5,
            5,
            5,
            5,
            5,
            5,
            5,
            5,
            5
           ]
          },
          {
           "hoverinfo": "none",
           "mode": "text",
           "showlegend": false,
           "text": [
            "10",
            "20",
            "30",
            "40",
            "50",
            "40",
            "30",
            "20",
            "10"
           ],
           "textfont": {
            "color": "#ffffff",
            "family": "Courier New, monospace",
            "size": 30
           },
           "type": "scatter",
           "x": [
            20,
            30,
            40,
            50,
            60,
            70,
            80,
            90,
            100
           ],
           "y": [
            48.5,
            48.5,
            48.5,
            48.5,
            48.5,
            48.5,
            48.5,
            48.5,
            48.5
           ]
          },
          {
           "hoverinfo": "none",
           "line": {
            "color": "blue",
            "dash": "dash"
           },
           "showlegend": false,
           "type": "scatter",
           "x": [
            68,
            68
           ],
           "y": [
            0,
            53.5
           ]
          },
          {
           "hoverinfo": "none",
           "line": {
            "color": "yellow",
            "dash": "dash"
           },
           "showlegend": false,
           "type": "scatter",
           "x": [
            78,
            78
           ],
           "y": [
            0,
            53.5
           ]
          },
          {
           "hoverinfo": "text",
           "hovertext": [
            "nflId:35441.0<br>displayName:Ndamukong Suh<br>Position:DRT<br>Role:Pass Rush",
            "nflId:35454.0<br>displayName:Jason Pierre-Paul<br>Position:RE<br>Role:Pass Rush",
            "nflId:38588.0<br>displayName:Lavonte David<br>Position:LLB<br>Role:Coverage",
            "nflId:41338.0<br>displayName:Ross Cockrell<br>Position:SCBoL<br>Role:Coverage",
            "nflId:41915.0<br>displayName:Shaquil Barrett<br>Position:LOLB<br>Role:Pass Rush",
            "nflId:46132.0<br>displayName:Carlton Davis<br>Position:RCB<br>Role:Coverage",
            "nflId:47788.0<br>displayName:Devin White<br>Position:RLB<br>Role:Coverage",
            "nflId:47877.0<br>displayName:Jamel Dean<br>Position:LCB<br>Role:Coverage",
            "nflId:47882.0<br>displayName:Mike Edwards<br>Position:FSL<br>Role:Coverage",
            "nflId:52453.0<br>displayName:Antoine Winfield<br>Position:FSR<br>Role:Coverage",
            "nflId:53461.0<br>displayName:Joe Tryon<br>Position:ROLB<br>Role:Pass Rush"
           ],
           "marker": {
            "color": "#D50A0A"
           },
           "mode": "markers",
           "name": "TB",
           "type": "scatter",
           "x": [
            67.77,
            67.88,
            71.94,
            70.94,
            68.31,
            69.1,
            72.02,
            69.77,
            81.02,
            83.34,
            67.84
           ],
           "y": [
            30.35,
            32.05,
            25.52,
            17.23,
            24.13,
            44.13,
            32.31,
            8.95,
            21.48,
            35.04,
            34.76
           ]
          },
          {
           "hoverinfo": "text",
           "hovertext": [
            "nflId:37082.0<br>displayName:Tyron Smith<br>Position:LT<br>Role:Pass Block",
            "nflId:42347.0<br>displayName:Amari Cooper<br>Position:RWR<br>Role:Pass Route",
            "nflId:42654.0<br>displayName:La'el Collins<br>Position:RT<br>Role:Pass Block",
            "nflId:43293.0<br>displayName:Ezekiel Elliott<br>Position:HB-L<br>Role:Pass Route",
            "nflId:43424.0<br>displayName:Dak Prescott<br>Position:QB<br>Role:Pass",
            "nflId:46119.0<br>displayName:Connor Williams<br>Position:LG<br>Role:Pass Block",
            "nflId:46150.0<br>displayName:Michael Gallup<br>Position:LWR<br>Role:Pass Route",
            "nflId:46206.0<br>displayName:Dalton Schultz<br>Position:SRiWR<br>Role:Pass Route",
            "nflId:47873.0<br>displayName:Connor McGovern<br>Position:RG<br>Role:Pass Block",
            "nflId:52425.0<br>displayName:CeeDee Lamb<br>Position:SRoWR<br>Role:Pass Route",
            "nflId:52554.0<br>displayName:Tyler Biadasz<br>Position:C<br>Role:Pass Block"
           ],
           "marker": {
            "color": "#003594"
           },
           "mode": "markers",
           "name": "DAL",
           "type": "scatter",
           "x": [
            65.9,
            65.63,
            66.06,
            63.25,
            63.3,
            66.18,
            66.75,
            67.16,
            66.46,
            66.36,
            66.99
           ],
           "y": [
            32.32,
            9.86,
            26.02,
            31.76,
            29.17,
            30.79,
            44.18,
            22.23,
            27.77,
            17.1,
            29.49
           ]
          },
          {
           "hoverinfo": "none",
           "marker": {
            "color": "#CBB67C"
           },
           "mode": "markers",
           "name": "football",
           "type": "scatter",
           "x": [
            63.89
           ],
           "y": [
            29.16
           ]
          }
         ],
         "name": "10"
        },
        {
         "data": [
          {
           "hoverinfo": "none",
           "mode": "text",
           "showlegend": false,
           "text": [
            "10",
            "20",
            "30",
            "40",
            "50",
            "40",
            "30",
            "20",
            "10"
           ],
           "textfont": {
            "color": "#ffffff",
            "family": "Courier New, monospace",
            "size": 30
           },
           "type": "scatter",
           "x": [
            20,
            30,
            40,
            50,
            60,
            70,
            80,
            90,
            100
           ],
           "y": [
            5,
            5,
            5,
            5,
            5,
            5,
            5,
            5,
            5
           ]
          },
          {
           "hoverinfo": "none",
           "mode": "text",
           "showlegend": false,
           "text": [
            "10",
            "20",
            "30",
            "40",
            "50",
            "40",
            "30",
            "20",
            "10"
           ],
           "textfont": {
            "color": "#ffffff",
            "family": "Courier New, monospace",
            "size": 30
           },
           "type": "scatter",
           "x": [
            20,
            30,
            40,
            50,
            60,
            70,
            80,
            90,
            100
           ],
           "y": [
            48.5,
            48.5,
            48.5,
            48.5,
            48.5,
            48.5,
            48.5,
            48.5,
            48.5
           ]
          },
          {
           "hoverinfo": "none",
           "line": {
            "color": "blue",
            "dash": "dash"
           },
           "showlegend": false,
           "type": "scatter",
           "x": [
            68,
            68
           ],
           "y": [
            0,
            53.5
           ]
          },
          {
           "hoverinfo": "none",
           "line": {
            "color": "yellow",
            "dash": "dash"
           },
           "showlegend": false,
           "type": "scatter",
           "x": [
            78,
            78
           ],
           "y": [
            0,
            53.5
           ]
          },
          {
           "hoverinfo": "text",
           "hovertext": [
            "nflId:35441.0<br>displayName:Ndamukong Suh<br>Position:DRT<br>Role:Pass Rush",
            "nflId:35454.0<br>displayName:Jason Pierre-Paul<br>Position:RE<br>Role:Pass Rush",
            "nflId:38588.0<br>displayName:Lavonte David<br>Position:LLB<br>Role:Coverage",
            "nflId:41338.0<br>displayName:Ross Cockrell<br>Position:SCBoL<br>Role:Coverage",
            "nflId:41915.0<br>displayName:Shaquil Barrett<br>Position:LOLB<br>Role:Pass Rush",
            "nflId:46132.0<br>displayName:Carlton Davis<br>Position:RCB<br>Role:Coverage",
            "nflId:47788.0<br>displayName:Devin White<br>Position:RLB<br>Role:Coverage",
            "nflId:47877.0<br>displayName:Jamel Dean<br>Position:LCB<br>Role:Coverage",
            "nflId:47882.0<br>displayName:Mike Edwards<br>Position:FSL<br>Role:Coverage",
            "nflId:52453.0<br>displayName:Antoine Winfield<br>Position:FSR<br>Role:Coverage",
            "nflId:53461.0<br>displayName:Joe Tryon<br>Position:ROLB<br>Role:Pass Rush"
           ],
           "marker": {
            "color": "#D50A0A"
           },
           "mode": "markers",
           "name": "TB",
           "type": "scatter",
           "x": [
            67.51,
            67.66,
            72.01,
            71.04,
            68.07,
            69.13,
            71.99,
            69.79,
            81.23,
            83.41,
            67.52
           ],
           "y": [
            30.36,
            31.99,
            25.52,
            17.25,
            24.13,
            44.12,
            32.32,
            8.93,
            21.24,
            35.06,
            34.74
           ]
          },
          {
           "hoverinfo": "text",
           "hovertext": [
            "nflId:37082.0<br>displayName:Tyron Smith<br>Position:LT<br>Role:Pass Block",
            "nflId:42347.0<br>displayName:Amari Cooper<br>Position:RWR<br>Role:Pass Route",
            "nflId:42654.0<br>displayName:La'el Collins<br>Position:RT<br>Role:Pass Block",
            "nflId:43293.0<br>displayName:Ezekiel Elliott<br>Position:HB-L<br>Role:Pass Route",
            "nflId:43424.0<br>displayName:Dak Prescott<br>Position:QB<br>Role:Pass",
            "nflId:46119.0<br>displayName:Connor Williams<br>Position:LG<br>Role:Pass Block",
            "nflId:46150.0<br>displayName:Michael Gallup<br>Position:LWR<br>Role:Pass Route",
            "nflId:46206.0<br>displayName:Dalton Schultz<br>Position:SRiWR<br>Role:Pass Route",
            "nflId:47873.0<br>displayName:Connor McGovern<br>Position:RG<br>Role:Pass Block",
            "nflId:52425.0<br>displayName:CeeDee Lamb<br>Position:SRoWR<br>Role:Pass Route",
            "nflId:52554.0<br>displayName:Tyler Biadasz<br>Position:C<br>Role:Pass Block"
           ],
           "marker": {
            "color": "#003594"
           },
           "mode": "markers",
           "name": "DAL",
           "type": "scatter",
           "x": [
            65.72,
            65.77,
            65.89,
            63.22,
            63.21,
            65.96,
            66.86,
            67.41,
            66.34,
            66.46,
            66.81
           ],
           "y": [
            32.34,
            9.79,
            25.91,
            31.83,
            29.18,
            30.79,
            44.22,
            22.24,
            27.72,
            17.03,
            29.55
           ]
          },
          {
           "hoverinfo": "none",
           "marker": {
            "color": "#CBB67C"
           },
           "mode": "markers",
           "name": "football",
           "type": "scatter",
           "x": [
            63.08
           ],
           "y": [
            29.14
           ]
          }
         ],
         "name": "11"
        },
        {
         "data": [
          {
           "hoverinfo": "none",
           "mode": "text",
           "showlegend": false,
           "text": [
            "10",
            "20",
            "30",
            "40",
            "50",
            "40",
            "30",
            "20",
            "10"
           ],
           "textfont": {
            "color": "#ffffff",
            "family": "Courier New, monospace",
            "size": 30
           },
           "type": "scatter",
           "x": [
            20,
            30,
            40,
            50,
            60,
            70,
            80,
            90,
            100
           ],
           "y": [
            5,
            5,
            5,
            5,
            5,
            5,
            5,
            5,
            5
           ]
          },
          {
           "hoverinfo": "none",
           "mode": "text",
           "showlegend": false,
           "text": [
            "10",
            "20",
            "30",
            "40",
            "50",
            "40",
            "30",
            "20",
            "10"
           ],
           "textfont": {
            "color": "#ffffff",
            "family": "Courier New, monospace",
            "size": 30
           },
           "type": "scatter",
           "x": [
            20,
            30,
            40,
            50,
            60,
            70,
            80,
            90,
            100
           ],
           "y": [
            48.5,
            48.5,
            48.5,
            48.5,
            48.5,
            48.5,
            48.5,
            48.5,
            48.5
           ]
          },
          {
           "hoverinfo": "none",
           "line": {
            "color": "blue",
            "dash": "dash"
           },
           "showlegend": false,
           "type": "scatter",
           "x": [
            68,
            68
           ],
           "y": [
            0,
            53.5
           ]
          },
          {
           "hoverinfo": "none",
           "line": {
            "color": "yellow",
            "dash": "dash"
           },
           "showlegend": false,
           "type": "scatter",
           "x": [
            78,
            78
           ],
           "y": [
            0,
            53.5
           ]
          },
          {
           "hoverinfo": "text",
           "hovertext": [
            "nflId:35441.0<br>displayName:Ndamukong Suh<br>Position:DRT<br>Role:Pass Rush",
            "nflId:35454.0<br>displayName:Jason Pierre-Paul<br>Position:RE<br>Role:Pass Rush",
            "nflId:38588.0<br>displayName:Lavonte David<br>Position:LLB<br>Role:Coverage",
            "nflId:41338.0<br>displayName:Ross Cockrell<br>Position:SCBoL<br>Role:Coverage",
            "nflId:41915.0<br>displayName:Shaquil Barrett<br>Position:LOLB<br>Role:Pass Rush",
            "nflId:46132.0<br>displayName:Carlton Davis<br>Position:RCB<br>Role:Coverage",
            "nflId:47788.0<br>displayName:Devin White<br>Position:RLB<br>Role:Coverage",
            "nflId:47877.0<br>displayName:Jamel Dean<br>Position:LCB<br>Role:Coverage",
            "nflId:47882.0<br>displayName:Mike Edwards<br>Position:FSL<br>Role:Coverage",
            "nflId:52453.0<br>displayName:Antoine Winfield<br>Position:FSR<br>Role:Coverage",
            "nflId:53461.0<br>displayName:Joe Tryon<br>Position:ROLB<br>Role:Pass Rush"
           ],
           "marker": {
            "color": "#D50A0A"
           },
           "mode": "markers",
           "name": "TB",
           "type": "scatter",
           "x": [
            67.25,
            67.45,
            72.11,
            71.16,
            67.77,
            69.22,
            71.94,
            69.81,
            81.47,
            83.5,
            67.17
           ],
           "y": [
            30.36,
            31.88,
            25.52,
            17.3,
            24.12,
            44.16,
            32.34,
            8.87,
            20.98,
            35.09,
            34.68
           ]
          },
          {
           "hoverinfo": "text",
           "hovertext": [
            "nflId:37082.0<br>displayName:Tyron Smith<br>Position:LT<br>Role:Pass Block",
            "nflId:42347.0<br>displayName:Amari Cooper<br>Position:RWR<br>Role:Pass Route",
            "nflId:42654.0<br>displayName:La'el Collins<br>Position:RT<br>Role:Pass Block",
            "nflId:43293.0<br>displayName:Ezekiel Elliott<br>Position:HB-L<br>Role:Pass Route",
            "nflId:43424.0<br>displayName:Dak Prescott<br>Position:QB<br>Role:Pass",
            "nflId:46119.0<br>displayName:Connor Williams<br>Position:LG<br>Role:Pass Block",
            "nflId:46150.0<br>displayName:Michael Gallup<br>Position:LWR<br>Role:Pass Route",
            "nflId:46206.0<br>displayName:Dalton Schultz<br>Position:SRiWR<br>Role:Pass Route",
            "nflId:47873.0<br>displayName:Connor McGovern<br>Position:RG<br>Role:Pass Block",
            "nflId:52425.0<br>displayName:CeeDee Lamb<br>Position:SRoWR<br>Role:Pass Route",
            "nflId:52554.0<br>displayName:Tyler Biadasz<br>Position:C<br>Role:Pass Block"
           ],
           "marker": {
            "color": "#003594"
           },
           "mode": "markers",
           "name": "DAL",
           "type": "scatter",
           "x": [
            65.51,
            65.94,
            65.69,
            63.18,
            63.08,
            65.74,
            67,
            67.71,
            66.18,
            66.6,
            66.62
           ],
           "y": [
            32.37,
            9.7,
            25.8,
            31.94,
            29.19,
            30.78,
            44.29,
            22.25,
            27.64,
            16.94,
            29.61
           ]
          },
          {
           "hoverinfo": "none",
           "marker": {
            "color": "#CBB67C"
           },
           "mode": "markers",
           "name": "football",
           "type": "scatter",
           "x": [
            62.52
           ],
           "y": [
            29.13
           ]
          }
         ],
         "name": "12"
        },
        {
         "data": [
          {
           "hoverinfo": "none",
           "mode": "text",
           "showlegend": false,
           "text": [
            "10",
            "20",
            "30",
            "40",
            "50",
            "40",
            "30",
            "20",
            "10"
           ],
           "textfont": {
            "color": "#ffffff",
            "family": "Courier New, monospace",
            "size": 30
           },
           "type": "scatter",
           "x": [
            20,
            30,
            40,
            50,
            60,
            70,
            80,
            90,
            100
           ],
           "y": [
            5,
            5,
            5,
            5,
            5,
            5,
            5,
            5,
            5
           ]
          },
          {
           "hoverinfo": "none",
           "mode": "text",
           "showlegend": false,
           "text": [
            "10",
            "20",
            "30",
            "40",
            "50",
            "40",
            "30",
            "20",
            "10"
           ],
           "textfont": {
            "color": "#ffffff",
            "family": "Courier New, monospace",
            "size": 30
           },
           "type": "scatter",
           "x": [
            20,
            30,
            40,
            50,
            60,
            70,
            80,
            90,
            100
           ],
           "y": [
            48.5,
            48.5,
            48.5,
            48.5,
            48.5,
            48.5,
            48.5,
            48.5,
            48.5
           ]
          },
          {
           "hoverinfo": "none",
           "line": {
            "color": "blue",
            "dash": "dash"
           },
           "showlegend": false,
           "type": "scatter",
           "x": [
            68,
            68
           ],
           "y": [
            0,
            53.5
           ]
          },
          {
           "hoverinfo": "none",
           "line": {
            "color": "yellow",
            "dash": "dash"
           },
           "showlegend": false,
           "type": "scatter",
           "x": [
            78,
            78
           ],
           "y": [
            0,
            53.5
           ]
          },
          {
           "hoverinfo": "text",
           "hovertext": [
            "nflId:35441.0<br>displayName:Ndamukong Suh<br>Position:DRT<br>Role:Pass Rush",
            "nflId:35454.0<br>displayName:Jason Pierre-Paul<br>Position:RE<br>Role:Pass Rush",
            "nflId:38588.0<br>displayName:Lavonte David<br>Position:LLB<br>Role:Coverage",
            "nflId:41338.0<br>displayName:Ross Cockrell<br>Position:SCBoL<br>Role:Coverage",
            "nflId:41915.0<br>displayName:Shaquil Barrett<br>Position:LOLB<br>Role:Pass Rush",
            "nflId:46132.0<br>displayName:Carlton Davis<br>Position:RCB<br>Role:Coverage",
            "nflId:47788.0<br>displayName:Devin White<br>Position:RLB<br>Role:Coverage",
            "nflId:47877.0<br>displayName:Jamel Dean<br>Position:LCB<br>Role:Coverage",
            "nflId:47882.0<br>displayName:Mike Edwards<br>Position:FSL<br>Role:Coverage",
            "nflId:52453.0<br>displayName:Antoine Winfield<br>Position:FSR<br>Role:Coverage",
            "nflId:53461.0<br>displayName:Joe Tryon<br>Position:ROLB<br>Role:Pass Rush"
           ],
           "marker": {
            "color": "#D50A0A"
           },
           "mode": "markers",
           "name": "TB",
           "type": "scatter",
           "x": [
            66.97,
            67.22,
            72.24,
            71.29,
            67.42,
            69.34,
            71.87,
            69.85,
            81.72,
            83.59,
            66.79
           ],
           "y": [
            30.37,
            31.75,
            25.51,
            17.34,
            24.09,
            44.22,
            32.36,
            8.77,
            20.68,
            35.12,
            34.6
           ]
          },
          {
           "hoverinfo": "text",
           "hovertext": [
            "nflId:37082.0<br>displayName:Tyron Smith<br>Position:LT<br>Role:Pass Block",
            "nflId:42347.0<br>displayName:Amari Cooper<br>Position:RWR<br>Role:Pass Route",
            "nflId:42654.0<br>displayName:La'el Collins<br>Position:RT<br>Role:Pass Block",
            "nflId:43293.0<br>displayName:Ezekiel Elliott<br>Position:HB-L<br>Role:Pass Route",
            "nflId:43424.0<br>displayName:Dak Prescott<br>Position:QB<br>Role:Pass",
            "nflId:46119.0<br>displayName:Connor Williams<br>Position:LG<br>Role:Pass Block",
            "nflId:46150.0<br>displayName:Michael Gallup<br>Position:LWR<br>Role:Pass Route",
            "nflId:46206.0<br>displayName:Dalton Schultz<br>Position:SRiWR<br>Role:Pass Route",
            "nflId:47873.0<br>displayName:Connor McGovern<br>Position:RG<br>Role:Pass Block",
            "nflId:52425.0<br>displayName:CeeDee Lamb<br>Position:SRoWR<br>Role:Pass Route",
            "nflId:52554.0<br>displayName:Tyler Biadasz<br>Position:C<br>Role:Pass Block"
           ],
           "marker": {
            "color": "#003594"
           },
           "mode": "markers",
           "name": "DAL",
           "type": "scatter",
           "x": [
            65.25,
            66.14,
            65.47,
            63.13,
            62.93,
            65.53,
            67.16,
            68.08,
            65.98,
            66.8,
            66.38
           ],
           "y": [
            32.42,
            9.57,
            25.69,
            32.09,
            29.19,
            30.71,
            44.37,
            22.26,
            27.56,
            16.82,
            29.72
           ]
          },
          {
           "hoverinfo": "none",
           "marker": {
            "color": "#CBB67C"
           },
           "mode": "markers",
           "name": "football",
           "type": "scatter",
           "x": [
            61.95
           ],
           "y": [
            29.11
           ]
          }
         ],
         "name": "13"
        },
        {
         "data": [
          {
           "hoverinfo": "none",
           "mode": "text",
           "showlegend": false,
           "text": [
            "10",
            "20",
            "30",
            "40",
            "50",
            "40",
            "30",
            "20",
            "10"
           ],
           "textfont": {
            "color": "#ffffff",
            "family": "Courier New, monospace",
            "size": 30
           },
           "type": "scatter",
           "x": [
            20,
            30,
            40,
            50,
            60,
            70,
            80,
            90,
            100
           ],
           "y": [
            5,
            5,
            5,
            5,
            5,
            5,
            5,
            5,
            5
           ]
          },
          {
           "hoverinfo": "none",
           "mode": "text",
           "showlegend": false,
           "text": [
            "10",
            "20",
            "30",
            "40",
            "50",
            "40",
            "30",
            "20",
            "10"
           ],
           "textfont": {
            "color": "#ffffff",
            "family": "Courier New, monospace",
            "size": 30
           },
           "type": "scatter",
           "x": [
            20,
            30,
            40,
            50,
            60,
            70,
            80,
            90,
            100
           ],
           "y": [
            48.5,
            48.5,
            48.5,
            48.5,
            48.5,
            48.5,
            48.5,
            48.5,
            48.5
           ]
          },
          {
           "hoverinfo": "none",
           "line": {
            "color": "blue",
            "dash": "dash"
           },
           "showlegend": false,
           "type": "scatter",
           "x": [
            68,
            68
           ],
           "y": [
            0,
            53.5
           ]
          },
          {
           "hoverinfo": "none",
           "line": {
            "color": "yellow",
            "dash": "dash"
           },
           "showlegend": false,
           "type": "scatter",
           "x": [
            78,
            78
           ],
           "y": [
            0,
            53.5
           ]
          },
          {
           "hoverinfo": "text",
           "hovertext": [
            "nflId:35441.0<br>displayName:Ndamukong Suh<br>Position:DRT<br>Role:Pass Rush",
            "nflId:35454.0<br>displayName:Jason Pierre-Paul<br>Position:RE<br>Role:Pass Rush",
            "nflId:38588.0<br>displayName:Lavonte David<br>Position:LLB<br>Role:Coverage",
            "nflId:41338.0<br>displayName:Ross Cockrell<br>Position:SCBoL<br>Role:Coverage",
            "nflId:41915.0<br>displayName:Shaquil Barrett<br>Position:LOLB<br>Role:Pass Rush",
            "nflId:46132.0<br>displayName:Carlton Davis<br>Position:RCB<br>Role:Coverage",
            "nflId:47788.0<br>displayName:Devin White<br>Position:RLB<br>Role:Coverage",
            "nflId:47877.0<br>displayName:Jamel Dean<br>Position:LCB<br>Role:Coverage",
            "nflId:47882.0<br>displayName:Mike Edwards<br>Position:FSL<br>Role:Coverage",
            "nflId:52453.0<br>displayName:Antoine Winfield<br>Position:FSR<br>Role:Coverage",
            "nflId:53461.0<br>displayName:Joe Tryon<br>Position:ROLB<br>Role:Pass Rush"
           ],
           "marker": {
            "color": "#D50A0A"
           },
           "mode": "markers",
           "name": "TB",
           "type": "scatter",
           "x": [
            66.68,
            66.99,
            72.4,
            71.45,
            67.03,
            69.42,
            71.77,
            69.91,
            81.99,
            83.71,
            66.38
           ],
           "y": [
            30.4,
            31.59,
            25.49,
            17.4,
            24.07,
            44.25,
            32.41,
            8.64,
            20.37,
            35.14,
            34.51
           ]
          },
          {
           "hoverinfo": "text",
           "hovertext": [
            "nflId:37082.0<br>displayName:Tyron Smith<br>Position:LT<br>Role:Pass Block",
            "nflId:42347.0<br>displayName:Amari Cooper<br>Position:RWR<br>Role:Pass Route",
            "nflId:42654.0<br>displayName:La'el Collins<br>Position:RT<br>Role:Pass Block",
            "nflId:43293.0<br>displayName:Ezekiel Elliott<br>Position:HB-L<br>Role:Pass Route",
            "nflId:43424.0<br>displayName:Dak Prescott<br>Position:QB<br>Role:Pass",
            "nflId:46119.0<br>displayName:Connor Williams<br>Position:LG<br>Role:Pass Block",
            "nflId:46150.0<br>displayName:Michael Gallup<br>Position:LWR<br>Role:Pass Route",
            "nflId:46206.0<br>displayName:Dalton Schultz<br>Position:SRiWR<br>Role:Pass Route",
            "nflId:47873.0<br>displayName:Connor McGovern<br>Position:RG<br>Role:Pass Block",
            "nflId:52425.0<br>displayName:CeeDee Lamb<br>Position:SRoWR<br>Role:Pass Route",
            "nflId:52554.0<br>displayName:Tyler Biadasz<br>Position:C<br>Role:Pass Block"
           ],
           "marker": {
            "color": "#003594"
           },
           "mode": "markers",
           "name": "DAL",
           "type": "scatter",
           "x": [
            64.99,
            66.39,
            65.25,
            63.08,
            62.75,
            65.3,
            67.38,
            68.48,
            65.74,
            67.06,
            66.16
           ],
           "y": [
            32.47,
            9.4,
            25.57,
            32.28,
            29.2,
            30.67,
            44.51,
            22.26,
            27.5,
            16.65,
            29.81
           ]
          },
          {
           "hoverinfo": "none",
           "marker": {
            "color": "#CBB67C"
           },
           "mode": "markers",
           "name": "football",
           "type": "scatter",
           "x": [
            61.68
           ],
           "y": [
            29.13
           ]
          }
         ],
         "name": "14"
        },
        {
         "data": [
          {
           "hoverinfo": "none",
           "mode": "text",
           "showlegend": false,
           "text": [
            "10",
            "20",
            "30",
            "40",
            "50",
            "40",
            "30",
            "20",
            "10"
           ],
           "textfont": {
            "color": "#ffffff",
            "family": "Courier New, monospace",
            "size": 30
           },
           "type": "scatter",
           "x": [
            20,
            30,
            40,
            50,
            60,
            70,
            80,
            90,
            100
           ],
           "y": [
            5,
            5,
            5,
            5,
            5,
            5,
            5,
            5,
            5
           ]
          },
          {
           "hoverinfo": "none",
           "mode": "text",
           "showlegend": false,
           "text": [
            "10",
            "20",
            "30",
            "40",
            "50",
            "40",
            "30",
            "20",
            "10"
           ],
           "textfont": {
            "color": "#ffffff",
            "family": "Courier New, monospace",
            "size": 30
           },
           "type": "scatter",
           "x": [
            20,
            30,
            40,
            50,
            60,
            70,
            80,
            90,
            100
           ],
           "y": [
            48.5,
            48.5,
            48.5,
            48.5,
            48.5,
            48.5,
            48.5,
            48.5,
            48.5
           ]
          },
          {
           "hoverinfo": "none",
           "line": {
            "color": "blue",
            "dash": "dash"
           },
           "showlegend": false,
           "type": "scatter",
           "x": [
            68,
            68
           ],
           "y": [
            0,
            53.5
           ]
          },
          {
           "hoverinfo": "none",
           "line": {
            "color": "yellow",
            "dash": "dash"
           },
           "showlegend": false,
           "type": "scatter",
           "x": [
            78,
            78
           ],
           "y": [
            0,
            53.5
           ]
          },
          {
           "hoverinfo": "text",
           "hovertext": [
            "nflId:35441.0<br>displayName:Ndamukong Suh<br>Position:DRT<br>Role:Pass Rush",
            "nflId:35454.0<br>displayName:Jason Pierre-Paul<br>Position:RE<br>Role:Pass Rush",
            "nflId:38588.0<br>displayName:Lavonte David<br>Position:LLB<br>Role:Coverage",
            "nflId:41338.0<br>displayName:Ross Cockrell<br>Position:SCBoL<br>Role:Coverage",
            "nflId:41915.0<br>displayName:Shaquil Barrett<br>Position:LOLB<br>Role:Pass Rush",
            "nflId:46132.0<br>displayName:Carlton Davis<br>Position:RCB<br>Role:Coverage",
            "nflId:47788.0<br>displayName:Devin White<br>Position:RLB<br>Role:Coverage",
            "nflId:47877.0<br>displayName:Jamel Dean<br>Position:LCB<br>Role:Coverage",
            "nflId:47882.0<br>displayName:Mike Edwards<br>Position:FSL<br>Role:Coverage",
            "nflId:52453.0<br>displayName:Antoine Winfield<br>Position:FSR<br>Role:Coverage",
            "nflId:53461.0<br>displayName:Joe Tryon<br>Position:ROLB<br>Role:Pass Rush"
           ],
           "marker": {
            "color": "#D50A0A"
           },
           "mode": "markers",
           "name": "TB",
           "type": "scatter",
           "x": [
            66.38,
            66.73,
            72.6,
            71.66,
            66.62,
            69.51,
            71.65,
            69.97,
            82.27,
            83.83,
            65.94
           ],
           "y": [
            30.46,
            31.36,
            25.46,
            17.47,
            24.04,
            44.29,
            32.48,
            8.47,
            20.06,
            35.15,
            34.4
           ]
          },
          {
           "hoverinfo": "text",
           "hovertext": [
            "nflId:37082.0<br>displayName:Tyron Smith<br>Position:LT<br>Role:Pass Block",
            "nflId:42347.0<br>displayName:Amari Cooper<br>Position:RWR<br>Role:Pass Route",
            "nflId:42654.0<br>displayName:La'el Collins<br>Position:RT<br>Role:Pass Block",
            "nflId:43293.0<br>displayName:Ezekiel Elliott<br>Position:HB-L<br>Role:Pass Route",
            "nflId:43424.0<br>displayName:Dak Prescott<br>Position:QB<br>Role:Pass",
            "nflId:46119.0<br>displayName:Connor Williams<br>Position:LG<br>Role:Pass Block",
            "nflId:46150.0<br>displayName:Michael Gallup<br>Position:LWR<br>Role:Pass Route",
            "nflId:46206.0<br>displayName:Dalton Schultz<br>Position:SRiWR<br>Role:Pass Route",
            "nflId:47873.0<br>displayName:Connor McGovern<br>Position:RG<br>Role:Pass Block",
            "nflId:52425.0<br>displayName:CeeDee Lamb<br>Position:SRoWR<br>Role:Pass Route",
            "nflId:52554.0<br>displayName:Tyler Biadasz<br>Position:C<br>Role:Pass Block"
           ],
           "marker": {
            "color": "#003594"
           },
           "mode": "markers",
           "name": "DAL",
           "type": "scatter",
           "x": [
            64.73,
            66.66,
            64.99,
            63.01,
            62.56,
            65.06,
            67.64,
            68.92,
            65.5,
            67.36,
            65.91
           ],
           "y": [
            32.51,
            9.2,
            25.45,
            32.52,
            29.2,
            30.62,
            44.7,
            22.27,
            27.46,
            16.46,
            29.87
           ]
          },
          {
           "hoverinfo": "none",
           "marker": {
            "color": "#CBB67C"
           },
           "mode": "markers",
           "name": "football",
           "type": "scatter",
           "x": [
            61.42
           ],
           "y": [
            29.16
           ]
          }
         ],
         "name": "15"
        },
        {
         "data": [
          {
           "hoverinfo": "none",
           "mode": "text",
           "showlegend": false,
           "text": [
            "10",
            "20",
            "30",
            "40",
            "50",
            "40",
            "30",
            "20",
            "10"
           ],
           "textfont": {
            "color": "#ffffff",
            "family": "Courier New, monospace",
            "size": 30
           },
           "type": "scatter",
           "x": [
            20,
            30,
            40,
            50,
            60,
            70,
            80,
            90,
            100
           ],
           "y": [
            5,
            5,
            5,
            5,
            5,
            5,
            5,
            5,
            5
           ]
          },
          {
           "hoverinfo": "none",
           "mode": "text",
           "showlegend": false,
           "text": [
            "10",
            "20",
            "30",
            "40",
            "50",
            "40",
            "30",
            "20",
            "10"
           ],
           "textfont": {
            "color": "#ffffff",
            "family": "Courier New, monospace",
            "size": 30
           },
           "type": "scatter",
           "x": [
            20,
            30,
            40,
            50,
            60,
            70,
            80,
            90,
            100
           ],
           "y": [
            48.5,
            48.5,
            48.5,
            48.5,
            48.5,
            48.5,
            48.5,
            48.5,
            48.5
           ]
          },
          {
           "hoverinfo": "none",
           "line": {
            "color": "blue",
            "dash": "dash"
           },
           "showlegend": false,
           "type": "scatter",
           "x": [
            68,
            68
           ],
           "y": [
            0,
            53.5
           ]
          },
          {
           "hoverinfo": "none",
           "line": {
            "color": "yellow",
            "dash": "dash"
           },
           "showlegend": false,
           "type": "scatter",
           "x": [
            78,
            78
           ],
           "y": [
            0,
            53.5
           ]
          },
          {
           "hoverinfo": "text",
           "hovertext": [
            "nflId:35441.0<br>displayName:Ndamukong Suh<br>Position:DRT<br>Role:Pass Rush",
            "nflId:35454.0<br>displayName:Jason Pierre-Paul<br>Position:RE<br>Role:Pass Rush",
            "nflId:38588.0<br>displayName:Lavonte David<br>Position:LLB<br>Role:Coverage",
            "nflId:41338.0<br>displayName:Ross Cockrell<br>Position:SCBoL<br>Role:Coverage",
            "nflId:41915.0<br>displayName:Shaquil Barrett<br>Position:LOLB<br>Role:Pass Rush",
            "nflId:46132.0<br>displayName:Carlton Davis<br>Position:RCB<br>Role:Coverage",
            "nflId:47788.0<br>displayName:Devin White<br>Position:RLB<br>Role:Coverage",
            "nflId:47877.0<br>displayName:Jamel Dean<br>Position:LCB<br>Role:Coverage",
            "nflId:47882.0<br>displayName:Mike Edwards<br>Position:FSL<br>Role:Coverage",
            "nflId:52453.0<br>displayName:Antoine Winfield<br>Position:FSR<br>Role:Coverage",
            "nflId:53461.0<br>displayName:Joe Tryon<br>Position:ROLB<br>Role:Pass Rush"
           ],
           "marker": {
            "color": "#D50A0A"
           },
           "mode": "markers",
           "name": "TB",
           "type": "scatter",
           "x": [
            66.1,
            66.47,
            72.8,
            71.88,
            66.17,
            69.64,
            71.51,
            70.05,
            82.57,
            83.97,
            65.49
           ],
           "y": [
            30.52,
            31.13,
            25.42,
            17.55,
            24.03,
            44.36,
            32.58,
            8.26,
            19.74,
            35.16,
            34.28
           ]
          },
          {
           "hoverinfo": "text",
           "hovertext": [
            "nflId:37082.0<br>displayName:Tyron Smith<br>Position:LT<br>Role:Pass Block",
            "nflId:42347.0<br>displayName:Amari Cooper<br>Position:RWR<br>Role:Pass Route",
            "nflId:42654.0<br>displayName:La'el Collins<br>Position:RT<br>Role:Pass Block",
            "nflId:43293.0<br>displayName:Ezekiel Elliott<br>Position:HB-L<br>Role:Pass Route",
            "nflId:43424.0<br>displayName:Dak Prescott<br>Position:QB<br>Role:Pass",
            "nflId:46119.0<br>displayName:Connor Williams<br>Position:LG<br>Role:Pass Block",
            "nflId:46150.0<br>displayName:Michael Gallup<br>Position:LWR<br>Role:Pass Route",
            "nflId:46206.0<br>displayName:Dalton Schultz<br>Position:SRiWR<br>Role:Pass Route",
            "nflId:47873.0<br>displayName:Connor McGovern<br>Position:RG<br>Role:Pass Block",
            "nflId:52425.0<br>displayName:CeeDee Lamb<br>Position:SRoWR<br>Role:Pass Route",
            "nflId:52554.0<br>displayName:Tyler Biadasz<br>Position:C<br>Role:Pass Block"
           ],
           "marker": {
            "color": "#003594"
           },
           "mode": "markers",
           "name": "DAL",
           "type": "scatter",
           "x": [
            64.45,
            66.98,
            64.71,
            62.96,
            62.36,
            64.83,
            67.94,
            69.38,
            65.26,
            67.68,
            65.67
           ],
           "y": [
            32.56,
            8.96,
            25.32,
            32.79,
            29.2,
            30.58,
            44.89,
            22.28,
            27.41,
            16.25,
            29.94
           ]
          },
          {
           "hoverinfo": "none",
           "marker": {
            "color": "#CBB67C"
           },
           "mode": "markers",
           "name": "football",
           "type": "scatter",
           "x": [
            61.21
           ],
           "y": [
            29.17
           ]
          }
         ],
         "name": "16"
        },
        {
         "data": [
          {
           "hoverinfo": "none",
           "mode": "text",
           "showlegend": false,
           "text": [
            "10",
            "20",
            "30",
            "40",
            "50",
            "40",
            "30",
            "20",
            "10"
           ],
           "textfont": {
            "color": "#ffffff",
            "family": "Courier New, monospace",
            "size": 30
           },
           "type": "scatter",
           "x": [
            20,
            30,
            40,
            50,
            60,
            70,
            80,
            90,
            100
           ],
           "y": [
            5,
            5,
            5,
            5,
            5,
            5,
            5,
            5,
            5
           ]
          },
          {
           "hoverinfo": "none",
           "mode": "text",
           "showlegend": false,
           "text": [
            "10",
            "20",
            "30",
            "40",
            "50",
            "40",
            "30",
            "20",
            "10"
           ],
           "textfont": {
            "color": "#ffffff",
            "family": "Courier New, monospace",
            "size": 30
           },
           "type": "scatter",
           "x": [
            20,
            30,
            40,
            50,
            60,
            70,
            80,
            90,
            100
           ],
           "y": [
            48.5,
            48.5,
            48.5,
            48.5,
            48.5,
            48.5,
            48.5,
            48.5,
            48.5
           ]
          },
          {
           "hoverinfo": "none",
           "line": {
            "color": "blue",
            "dash": "dash"
           },
           "showlegend": false,
           "type": "scatter",
           "x": [
            68,
            68
           ],
           "y": [
            0,
            53.5
           ]
          },
          {
           "hoverinfo": "none",
           "line": {
            "color": "yellow",
            "dash": "dash"
           },
           "showlegend": false,
           "type": "scatter",
           "x": [
            78,
            78
           ],
           "y": [
            0,
            53.5
           ]
          },
          {
           "hoverinfo": "text",
           "hovertext": [
            "nflId:35441.0<br>displayName:Ndamukong Suh<br>Position:DRT<br>Role:Pass Rush",
            "nflId:35454.0<br>displayName:Jason Pierre-Paul<br>Position:RE<br>Role:Pass Rush",
            "nflId:38588.0<br>displayName:Lavonte David<br>Position:LLB<br>Role:Coverage",
            "nflId:41338.0<br>displayName:Ross Cockrell<br>Position:SCBoL<br>Role:Coverage",
            "nflId:41915.0<br>displayName:Shaquil Barrett<br>Position:LOLB<br>Role:Pass Rush",
            "nflId:46132.0<br>displayName:Carlton Davis<br>Position:RCB<br>Role:Coverage",
            "nflId:47788.0<br>displayName:Devin White<br>Position:RLB<br>Role:Coverage",
            "nflId:47877.0<br>displayName:Jamel Dean<br>Position:LCB<br>Role:Coverage",
            "nflId:47882.0<br>displayName:Mike Edwards<br>Position:FSL<br>Role:Coverage",
            "nflId:52453.0<br>displayName:Antoine Winfield<br>Position:FSR<br>Role:Coverage",
            "nflId:53461.0<br>displayName:Joe Tryon<br>Position:ROLB<br>Role:Pass Rush"
           ],
           "marker": {
            "color": "#D50A0A"
           },
           "mode": "markers",
           "name": "TB",
           "type": "scatter",
           "x": [
            65.81,
            66.18,
            73.02,
            72.13,
            65.69,
            69.82,
            71.37,
            70.15,
            82.88,
            84.13,
            65.02
           ],
           "y": [
            30.58,
            30.84,
            25.36,
            17.63,
            24.02,
            44.46,
            32.71,
            8.05,
            19.43,
            35.13,
            34.15
           ]
          },
          {
           "hoverinfo": "text",
           "hovertext": [
            "nflId:37082.0<br>displayName:Tyron Smith<br>Position:LT<br>Role:Pass Block",
            "nflId:42347.0<br>displayName:Amari Cooper<br>Position:RWR<br>Role:Pass Route",
            "nflId:42654.0<br>displayName:La'el Collins<br>Position:RT<br>Role:Pass Block",
            "nflId:43293.0<br>displayName:Ezekiel Elliott<br>Position:HB-L<br>Role:Pass Route",
            "nflId:43424.0<br>displayName:Dak Prescott<br>Position:QB<br>Role:Pass",
            "nflId:46119.0<br>displayName:Connor Williams<br>Position:LG<br>Role:Pass Block",
            "nflId:46150.0<br>displayName:Michael Gallup<br>Position:LWR<br>Role:Pass Route",
            "nflId:46206.0<br>displayName:Dalton Schultz<br>Position:SRiWR<br>Role:Pass Route",
            "nflId:47873.0<br>displayName:Connor McGovern<br>Position:RG<br>Role:Pass Block",
            "nflId:52425.0<br>displayName:CeeDee Lamb<br>Position:SRoWR<br>Role:Pass Route",
            "nflId:52554.0<br>displayName:Tyler Biadasz<br>Position:C<br>Role:Pass Block"
           ],
           "marker": {
            "color": "#003594"
           },
           "mode": "markers",
           "name": "DAL",
           "type": "scatter",
           "x": [
            64.15,
            67.33,
            64.43,
            62.94,
            62.15,
            64.61,
            68.29,
            69.85,
            65.01,
            68.04,
            65.43
           ],
           "y": [
            32.6,
            8.7,
            25.21,
            33.11,
            29.19,
            30.53,
            45.13,
            22.28,
            27.34,
            16.02,
            30.01
           ]
          },
          {
           "hoverinfo": "none",
           "marker": {
            "color": "#CBB67C"
           },
           "mode": "markers",
           "name": "football",
           "type": "scatter",
           "x": [
            61.08
           ],
           "y": [
            29.17
           ]
          }
         ],
         "name": "17"
        },
        {
         "data": [
          {
           "hoverinfo": "none",
           "mode": "text",
           "showlegend": false,
           "text": [
            "10",
            "20",
            "30",
            "40",
            "50",
            "40",
            "30",
            "20",
            "10"
           ],
           "textfont": {
            "color": "#ffffff",
            "family": "Courier New, monospace",
            "size": 30
           },
           "type": "scatter",
           "x": [
            20,
            30,
            40,
            50,
            60,
            70,
            80,
            90,
            100
           ],
           "y": [
            5,
            5,
            5,
            5,
            5,
            5,
            5,
            5,
            5
           ]
          },
          {
           "hoverinfo": "none",
           "mode": "text",
           "showlegend": false,
           "text": [
            "10",
            "20",
            "30",
            "40",
            "50",
            "40",
            "30",
            "20",
            "10"
           ],
           "textfont": {
            "color": "#ffffff",
            "family": "Courier New, monospace",
            "size": 30
           },
           "type": "scatter",
           "x": [
            20,
            30,
            40,
            50,
            60,
            70,
            80,
            90,
            100
           ],
           "y": [
            48.5,
            48.5,
            48.5,
            48.5,
            48.5,
            48.5,
            48.5,
            48.5,
            48.5
           ]
          },
          {
           "hoverinfo": "none",
           "line": {
            "color": "blue",
            "dash": "dash"
           },
           "showlegend": false,
           "type": "scatter",
           "x": [
            68,
            68
           ],
           "y": [
            0,
            53.5
           ]
          },
          {
           "hoverinfo": "none",
           "line": {
            "color": "yellow",
            "dash": "dash"
           },
           "showlegend": false,
           "type": "scatter",
           "x": [
            78,
            78
           ],
           "y": [
            0,
            53.5
           ]
          },
          {
           "hoverinfo": "text",
           "hovertext": [
            "nflId:35441.0<br>displayName:Ndamukong Suh<br>Position:DRT<br>Role:Pass Rush",
            "nflId:35454.0<br>displayName:Jason Pierre-Paul<br>Position:RE<br>Role:Pass Rush",
            "nflId:38588.0<br>displayName:Lavonte David<br>Position:LLB<br>Role:Coverage",
            "nflId:41338.0<br>displayName:Ross Cockrell<br>Position:SCBoL<br>Role:Coverage",
            "nflId:41915.0<br>displayName:Shaquil Barrett<br>Position:LOLB<br>Role:Pass Rush",
            "nflId:46132.0<br>displayName:Carlton Davis<br>Position:RCB<br>Role:Coverage",
            "nflId:47788.0<br>displayName:Devin White<br>Position:RLB<br>Role:Coverage",
            "nflId:47877.0<br>displayName:Jamel Dean<br>Position:LCB<br>Role:Coverage",
            "nflId:47882.0<br>displayName:Mike Edwards<br>Position:FSL<br>Role:Coverage",
            "nflId:52453.0<br>displayName:Antoine Winfield<br>Position:FSR<br>Role:Coverage",
            "nflId:53461.0<br>displayName:Joe Tryon<br>Position:ROLB<br>Role:Pass Rush"
           ],
           "marker": {
            "color": "#D50A0A"
           },
           "mode": "markers",
           "name": "TB",
           "type": "scatter",
           "x": [
            65.55,
            65.87,
            73.24,
            72.41,
            65.2,
            70.06,
            71.23,
            70.26,
            83.2,
            84.31,
            64.56
           ],
           "y": [
            30.66,
            30.54,
            25.3,
            17.73,
            24.02,
            44.6,
            32.86,
            7.81,
            19.12,
            35.08,
            34.02
           ]
          },
          {
           "hoverinfo": "text",
           "hovertext": [
            "nflId:37082.0<br>displayName:Tyron Smith<br>Position:LT<br>Role:Pass Block",
            "nflId:42347.0<br>displayName:Amari Cooper<br>Position:RWR<br>Role:Pass Route",
            "nflId:42654.0<br>displayName:La'el Collins<br>Position:RT<br>Role:Pass Block",
            "nflId:43293.0<br>displayName:Ezekiel Elliott<br>Position:HB-L<br>Role:Pass Route",
            "nflId:43424.0<br>displayName:Dak Prescott<br>Position:QB<br>Role:Pass",
            "nflId:46119.0<br>displayName:Connor Williams<br>Position:LG<br>Role:Pass Block",
            "nflId:46150.0<br>displayName:Michael Gallup<br>Position:LWR<br>Role:Pass Route",
            "nflId:46206.0<br>displayName:Dalton Schultz<br>Position:SRiWR<br>Role:Pass Route",
            "nflId:47873.0<br>displayName:Connor McGovern<br>Position:RG<br>Role:Pass Block",
            "nflId:52425.0<br>displayName:CeeDee Lamb<br>Position:SRoWR<br>Role:Pass Route",
            "nflId:52554.0<br>displayName:Tyler Biadasz<br>Position:C<br>Role:Pass Block"
           ],
           "marker": {
            "color": "#003594"
           },
           "mode": "markers",
           "name": "DAL",
           "type": "scatter",
           "x": [
            63.85,
            67.71,
            64.15,
            62.94,
            61.98,
            64.41,
            68.68,
            70.32,
            64.76,
            68.4,
            65.19
           ],
           "y": [
            32.64,
            8.43,
            25.09,
            33.44,
            29.17,
            30.51,
            45.4,
            22.29,
            27.32,
            15.77,
            30.06
           ]
          },
          {
           "hoverinfo": "none",
           "marker": {
            "color": "#CBB67C"
           },
           "mode": "markers",
           "name": "football",
           "type": "scatter",
           "x": [
            60.97
           ],
           "y": [
            29.16
           ]
          }
         ],
         "name": "18"
        },
        {
         "data": [
          {
           "hoverinfo": "none",
           "mode": "text",
           "showlegend": false,
           "text": [
            "10",
            "20",
            "30",
            "40",
            "50",
            "40",
            "30",
            "20",
            "10"
           ],
           "textfont": {
            "color": "#ffffff",
            "family": "Courier New, monospace",
            "size": 30
           },
           "type": "scatter",
           "x": [
            20,
            30,
            40,
            50,
            60,
            70,
            80,
            90,
            100
           ],
           "y": [
            5,
            5,
            5,
            5,
            5,
            5,
            5,
            5,
            5
           ]
          },
          {
           "hoverinfo": "none",
           "mode": "text",
           "showlegend": false,
           "text": [
            "10",
            "20",
            "30",
            "40",
            "50",
            "40",
            "30",
            "20",
            "10"
           ],
           "textfont": {
            "color": "#ffffff",
            "family": "Courier New, monospace",
            "size": 30
           },
           "type": "scatter",
           "x": [
            20,
            30,
            40,
            50,
            60,
            70,
            80,
            90,
            100
           ],
           "y": [
            48.5,
            48.5,
            48.5,
            48.5,
            48.5,
            48.5,
            48.5,
            48.5,
            48.5
           ]
          },
          {
           "hoverinfo": "none",
           "line": {
            "color": "blue",
            "dash": "dash"
           },
           "showlegend": false,
           "type": "scatter",
           "x": [
            68,
            68
           ],
           "y": [
            0,
            53.5
           ]
          },
          {
           "hoverinfo": "none",
           "line": {
            "color": "yellow",
            "dash": "dash"
           },
           "showlegend": false,
           "type": "scatter",
           "x": [
            78,
            78
           ],
           "y": [
            0,
            53.5
           ]
          },
          {
           "hoverinfo": "text",
           "hovertext": [
            "nflId:35441.0<br>displayName:Ndamukong Suh<br>Position:DRT<br>Role:Pass Rush",
            "nflId:35454.0<br>displayName:Jason Pierre-Paul<br>Position:RE<br>Role:Pass Rush",
            "nflId:38588.0<br>displayName:Lavonte David<br>Position:LLB<br>Role:Coverage",
            "nflId:41338.0<br>displayName:Ross Cockrell<br>Position:SCBoL<br>Role:Coverage",
            "nflId:41915.0<br>displayName:Shaquil Barrett<br>Position:LOLB<br>Role:Pass Rush",
            "nflId:46132.0<br>displayName:Carlton Davis<br>Position:RCB<br>Role:Coverage",
            "nflId:47788.0<br>displayName:Devin White<br>Position:RLB<br>Role:Coverage",
            "nflId:47877.0<br>displayName:Jamel Dean<br>Position:LCB<br>Role:Coverage",
            "nflId:47882.0<br>displayName:Mike Edwards<br>Position:FSL<br>Role:Coverage",
            "nflId:52453.0<br>displayName:Antoine Winfield<br>Position:FSR<br>Role:Coverage",
            "nflId:53461.0<br>displayName:Joe Tryon<br>Position:ROLB<br>Role:Pass Rush"
           ],
           "marker": {
            "color": "#D50A0A"
           },
           "mode": "markers",
           "name": "TB",
           "type": "scatter",
           "x": [
            65.28,
            65.53,
            73.44,
            72.69,
            64.7,
            70.36,
            71.09,
            70.38,
            83.54,
            84.5,
            64.08
           ],
           "y": [
            30.78,
            30.23,
            25.22,
            17.83,
            24.01,
            44.77,
            33.05,
            7.57,
            18.82,
            34.99,
            33.87
           ]
          },
          {
           "hoverinfo": "text",
           "hovertext": [
            "nflId:37082.0<br>displayName:Tyron Smith<br>Position:LT<br>Role:Pass Block",
            "nflId:42347.0<br>displayName:Amari Cooper<br>Position:RWR<br>Role:Pass Route",
            "nflId:42654.0<br>displayName:La'el Collins<br>Position:RT<br>Role:Pass Block",
            "nflId:43293.0<br>displayName:Ezekiel Elliott<br>Position:HB-L<br>Role:Pass Route",
            "nflId:43424.0<br>displayName:Dak Prescott<br>Position:QB<br>Role:Pass",
            "nflId:46119.0<br>displayName:Connor Williams<br>Position:LG<br>Role:Pass Block",
            "nflId:46150.0<br>displayName:Michael Gallup<br>Position:LWR<br>Role:Pass Route",
            "nflId:46206.0<br>displayName:Dalton Schultz<br>Position:SRiWR<br>Role:Pass Route",
            "nflId:47873.0<br>displayName:Connor McGovern<br>Position:RG<br>Role:Pass Block",
            "nflId:52425.0<br>displayName:CeeDee Lamb<br>Position:SRoWR<br>Role:Pass Route",
            "nflId:52554.0<br>displayName:Tyler Biadasz<br>Position:C<br>Role:Pass Block"
           ],
           "marker": {
            "color": "#003594"
           },
           "mode": "markers",
           "name": "DAL",
           "type": "scatter",
           "x": [
            63.56,
            68.1,
            63.85,
            62.98,
            61.82,
            64.24,
            69.13,
            70.79,
            64.51,
            68.79,
            64.96
           ],
           "y": [
            32.66,
            8.14,
            24.97,
            33.79,
            29.14,
            30.5,
            45.69,
            22.29,
            27.34,
            15.51,
            30.06
           ]
          },
          {
           "hoverinfo": "none",
           "marker": {
            "color": "#CBB67C"
           },
           "mode": "markers",
           "name": "football",
           "type": "scatter",
           "x": [
            60.9
           ],
           "y": [
            29.15
           ]
          }
         ],
         "name": "19"
        },
        {
         "data": [
          {
           "hoverinfo": "none",
           "mode": "text",
           "showlegend": false,
           "text": [
            "10",
            "20",
            "30",
            "40",
            "50",
            "40",
            "30",
            "20",
            "10"
           ],
           "textfont": {
            "color": "#ffffff",
            "family": "Courier New, monospace",
            "size": 30
           },
           "type": "scatter",
           "x": [
            20,
            30,
            40,
            50,
            60,
            70,
            80,
            90,
            100
           ],
           "y": [
            5,
            5,
            5,
            5,
            5,
            5,
            5,
            5,
            5
           ]
          },
          {
           "hoverinfo": "none",
           "mode": "text",
           "showlegend": false,
           "text": [
            "10",
            "20",
            "30",
            "40",
            "50",
            "40",
            "30",
            "20",
            "10"
           ],
           "textfont": {
            "color": "#ffffff",
            "family": "Courier New, monospace",
            "size": 30
           },
           "type": "scatter",
           "x": [
            20,
            30,
            40,
            50,
            60,
            70,
            80,
            90,
            100
           ],
           "y": [
            48.5,
            48.5,
            48.5,
            48.5,
            48.5,
            48.5,
            48.5,
            48.5,
            48.5
           ]
          },
          {
           "hoverinfo": "none",
           "line": {
            "color": "blue",
            "dash": "dash"
           },
           "showlegend": false,
           "type": "scatter",
           "x": [
            68,
            68
           ],
           "y": [
            0,
            53.5
           ]
          },
          {
           "hoverinfo": "none",
           "line": {
            "color": "yellow",
            "dash": "dash"
           },
           "showlegend": false,
           "type": "scatter",
           "x": [
            78,
            78
           ],
           "y": [
            0,
            53.5
           ]
          },
          {
           "hoverinfo": "text",
           "hovertext": [
            "nflId:35441.0<br>displayName:Ndamukong Suh<br>Position:DRT<br>Role:Pass Rush",
            "nflId:35454.0<br>displayName:Jason Pierre-Paul<br>Position:RE<br>Role:Pass Rush",
            "nflId:38588.0<br>displayName:Lavonte David<br>Position:LLB<br>Role:Coverage",
            "nflId:41338.0<br>displayName:Ross Cockrell<br>Position:SCBoL<br>Role:Coverage",
            "nflId:41915.0<br>displayName:Shaquil Barrett<br>Position:LOLB<br>Role:Pass Rush",
            "nflId:46132.0<br>displayName:Carlton Davis<br>Position:RCB<br>Role:Coverage",
            "nflId:47788.0<br>displayName:Devin White<br>Position:RLB<br>Role:Coverage",
            "nflId:47877.0<br>displayName:Jamel Dean<br>Position:LCB<br>Role:Coverage",
            "nflId:47882.0<br>displayName:Mike Edwards<br>Position:FSL<br>Role:Coverage",
            "nflId:52453.0<br>displayName:Antoine Winfield<br>Position:FSR<br>Role:Coverage",
            "nflId:53461.0<br>displayName:Joe Tryon<br>Position:ROLB<br>Role:Pass Rush"
           ],
           "marker": {
            "color": "#D50A0A"
           },
           "mode": "markers",
           "name": "TB",
           "type": "scatter",
           "x": [
            65.03,
            65.19,
            73.63,
            72.96,
            64.19,
            70.71,
            70.96,
            70.52,
            83.88,
            84.7,
            63.6
           ],
           "y": [
            30.88,
            29.93,
            25.12,
            17.92,
            23.99,
            44.98,
            33.25,
            7.32,
            18.54,
            34.88,
            33.75
           ]
          },
          {
           "hoverinfo": "text",
           "hovertext": [
            "nflId:37082.0<br>displayName:Tyron Smith<br>Position:LT<br>Role:Pass Block",
            "nflId:42347.0<br>displayName:Amari Cooper<br>Position:RWR<br>Role:Pass Route",
            "nflId:42654.0<br>displayName:La'el Collins<br>Position:RT<br>Role:Pass Block",
            "nflId:43293.0<br>displayName:Ezekiel Elliott<br>Position:HB-L<br>Role:Pass Route",
            "nflId:43424.0<br>displayName:Dak Prescott<br>Position:QB<br>Role:Pass",
            "nflId:46119.0<br>displayName:Connor Williams<br>Position:LG<br>Role:Pass Block",
            "nflId:46150.0<br>displayName:Michael Gallup<br>Position:LWR<br>Role:Pass Route",
            "nflId:46206.0<br>displayName:Dalton Schultz<br>Position:SRiWR<br>Role:Pass Route",
            "nflId:47873.0<br>displayName:Connor McGovern<br>Position:RG<br>Role:Pass Block",
            "nflId:52425.0<br>displayName:CeeDee Lamb<br>Position:SRoWR<br>Role:Pass Route",
            "nflId:52554.0<br>displayName:Tyler Biadasz<br>Position:C<br>Role:Pass Block"
           ],
           "marker": {
            "color": "#003594"
           },
           "mode": "markers",
           "name": "DAL",
           "type": "scatter",
           "x": [
            63.25,
            68.52,
            63.57,
            63.08,
            61.67,
            64.1,
            69.63,
            71.24,
            64.27,
            69.18,
            64.75
           ],
           "y": [
            32.66,
            7.86,
            24.85,
            34.16,
            29.09,
            30.53,
            45.99,
            22.31,
            27.37,
            15.24,
            30.01
           ]
          },
          {
           "hoverinfo": "none",
           "marker": {
            "color": "#CBB67C"
           },
           "mode": "markers",
           "name": "football",
           "type": "scatter",
           "x": [
            60.85
           ],
           "y": [
            29.16
           ]
          }
         ],
         "name": "20"
        },
        {
         "data": [
          {
           "hoverinfo": "none",
           "mode": "text",
           "showlegend": false,
           "text": [
            "10",
            "20",
            "30",
            "40",
            "50",
            "40",
            "30",
            "20",
            "10"
           ],
           "textfont": {
            "color": "#ffffff",
            "family": "Courier New, monospace",
            "size": 30
           },
           "type": "scatter",
           "x": [
            20,
            30,
            40,
            50,
            60,
            70,
            80,
            90,
            100
           ],
           "y": [
            5,
            5,
            5,
            5,
            5,
            5,
            5,
            5,
            5
           ]
          },
          {
           "hoverinfo": "none",
           "mode": "text",
           "showlegend": false,
           "text": [
            "10",
            "20",
            "30",
            "40",
            "50",
            "40",
            "30",
            "20",
            "10"
           ],
           "textfont": {
            "color": "#ffffff",
            "family": "Courier New, monospace",
            "size": 30
           },
           "type": "scatter",
           "x": [
            20,
            30,
            40,
            50,
            60,
            70,
            80,
            90,
            100
           ],
           "y": [
            48.5,
            48.5,
            48.5,
            48.5,
            48.5,
            48.5,
            48.5,
            48.5,
            48.5
           ]
          },
          {
           "hoverinfo": "none",
           "line": {
            "color": "blue",
            "dash": "dash"
           },
           "showlegend": false,
           "type": "scatter",
           "x": [
            68,
            68
           ],
           "y": [
            0,
            53.5
           ]
          },
          {
           "hoverinfo": "none",
           "line": {
            "color": "yellow",
            "dash": "dash"
           },
           "showlegend": false,
           "type": "scatter",
           "x": [
            78,
            78
           ],
           "y": [
            0,
            53.5
           ]
          },
          {
           "hoverinfo": "text",
           "hovertext": [
            "nflId:35441.0<br>displayName:Ndamukong Suh<br>Position:DRT<br>Role:Pass Rush",
            "nflId:35454.0<br>displayName:Jason Pierre-Paul<br>Position:RE<br>Role:Pass Rush",
            "nflId:38588.0<br>displayName:Lavonte David<br>Position:LLB<br>Role:Coverage",
            "nflId:41338.0<br>displayName:Ross Cockrell<br>Position:SCBoL<br>Role:Coverage",
            "nflId:41915.0<br>displayName:Shaquil Barrett<br>Position:LOLB<br>Role:Pass Rush",
            "nflId:46132.0<br>displayName:Carlton Davis<br>Position:RCB<br>Role:Coverage",
            "nflId:47788.0<br>displayName:Devin White<br>Position:RLB<br>Role:Coverage",
            "nflId:47877.0<br>displayName:Jamel Dean<br>Position:LCB<br>Role:Coverage",
            "nflId:47882.0<br>displayName:Mike Edwards<br>Position:FSL<br>Role:Coverage",
            "nflId:52453.0<br>displayName:Antoine Winfield<br>Position:FSR<br>Role:Coverage",
            "nflId:53461.0<br>displayName:Joe Tryon<br>Position:ROLB<br>Role:Pass Rush"
           ],
           "marker": {
            "color": "#D50A0A"
           },
           "mode": "markers",
           "name": "TB",
           "type": "scatter",
           "x": [
            64.82,
            64.85,
            73.79,
            73.23,
            63.69,
            71.14,
            70.86,
            70.68,
            84.24,
            84.95,
            63.15
           ],
           "y": [
            31,
            29.63,
            25,
            18.02,
            23.98,
            45.23,
            33.48,
            7.08,
            18.28,
            34.69,
            33.63
           ]
          },
          {
           "hoverinfo": "text",
           "hovertext": [
            "nflId:37082.0<br>displayName:Tyron Smith<br>Position:LT<br>Role:Pass Block",
            "nflId:42347.0<br>displayName:Amari Cooper<br>Position:RWR<br>Role:Pass Route",
            "nflId:42654.0<br>displayName:La'el Collins<br>Position:RT<br>Role:Pass Block",
            "nflId:43293.0<br>displayName:Ezekiel Elliott<br>Position:HB-L<br>Role:Pass Route",
            "nflId:43424.0<br>displayName:Dak Prescott<br>Position:QB<br>Role:Pass",
            "nflId:46119.0<br>displayName:Connor Williams<br>Position:LG<br>Role:Pass Block",
            "nflId:46150.0<br>displayName:Michael Gallup<br>Position:LWR<br>Role:Pass Route",
            "nflId:46206.0<br>displayName:Dalton Schultz<br>Position:SRiWR<br>Role:Pass Route",
            "nflId:47873.0<br>displayName:Connor McGovern<br>Position:RG<br>Role:Pass Block",
            "nflId:52425.0<br>displayName:CeeDee Lamb<br>Position:SRoWR<br>Role:Pass Route",
            "nflId:52554.0<br>displayName:Tyler Biadasz<br>Position:C<br>Role:Pass Block"
           ],
           "marker": {
            "color": "#003594"
           },
           "mode": "markers",
           "name": "DAL",
           "type": "scatter",
           "x": [
            62.93,
            68.96,
            63.26,
            63.22,
            61.55,
            63.97,
            70.16,
            71.6,
            64.02,
            69.56,
            64.56
           ],
           "y": [
            32.65,
            7.61,
            24.74,
            34.54,
            29.04,
            30.58,
            46.3,
            22.3,
            27.45,
            14.96,
            29.92
           ]
          },
          {
           "hoverinfo": "none",
           "marker": {
            "color": "#CBB67C"
           },
           "mode": "markers",
           "name": "football",
           "type": "scatter",
           "x": [
            60.86
           ],
           "y": [
            29.09
           ]
          }
         ],
         "name": "21"
        },
        {
         "data": [
          {
           "hoverinfo": "none",
           "mode": "text",
           "showlegend": false,
           "text": [
            "10",
            "20",
            "30",
            "40",
            "50",
            "40",
            "30",
            "20",
            "10"
           ],
           "textfont": {
            "color": "#ffffff",
            "family": "Courier New, monospace",
            "size": 30
           },
           "type": "scatter",
           "x": [
            20,
            30,
            40,
            50,
            60,
            70,
            80,
            90,
            100
           ],
           "y": [
            5,
            5,
            5,
            5,
            5,
            5,
            5,
            5,
            5
           ]
          },
          {
           "hoverinfo": "none",
           "mode": "text",
           "showlegend": false,
           "text": [
            "10",
            "20",
            "30",
            "40",
            "50",
            "40",
            "30",
            "20",
            "10"
           ],
           "textfont": {
            "color": "#ffffff",
            "family": "Courier New, monospace",
            "size": 30
           },
           "type": "scatter",
           "x": [
            20,
            30,
            40,
            50,
            60,
            70,
            80,
            90,
            100
           ],
           "y": [
            48.5,
            48.5,
            48.5,
            48.5,
            48.5,
            48.5,
            48.5,
            48.5,
            48.5
           ]
          },
          {
           "hoverinfo": "none",
           "line": {
            "color": "blue",
            "dash": "dash"
           },
           "showlegend": false,
           "type": "scatter",
           "x": [
            68,
            68
           ],
           "y": [
            0,
            53.5
           ]
          },
          {
           "hoverinfo": "none",
           "line": {
            "color": "yellow",
            "dash": "dash"
           },
           "showlegend": false,
           "type": "scatter",
           "x": [
            78,
            78
           ],
           "y": [
            0,
            53.5
           ]
          },
          {
           "hoverinfo": "text",
           "hovertext": [
            "nflId:35441.0<br>displayName:Ndamukong Suh<br>Position:DRT<br>Role:Pass Rush",
            "nflId:35454.0<br>displayName:Jason Pierre-Paul<br>Position:RE<br>Role:Pass Rush",
            "nflId:38588.0<br>displayName:Lavonte David<br>Position:LLB<br>Role:Coverage",
            "nflId:41338.0<br>displayName:Ross Cockrell<br>Position:SCBoL<br>Role:Coverage",
            "nflId:41915.0<br>displayName:Shaquil Barrett<br>Position:LOLB<br>Role:Pass Rush",
            "nflId:46132.0<br>displayName:Carlton Davis<br>Position:RCB<br>Role:Coverage",
            "nflId:47788.0<br>displayName:Devin White<br>Position:RLB<br>Role:Coverage",
            "nflId:47877.0<br>displayName:Jamel Dean<br>Position:LCB<br>Role:Coverage",
            "nflId:47882.0<br>displayName:Mike Edwards<br>Position:FSL<br>Role:Coverage",
            "nflId:52453.0<br>displayName:Antoine Winfield<br>Position:FSR<br>Role:Coverage",
            "nflId:53461.0<br>displayName:Joe Tryon<br>Position:ROLB<br>Role:Pass Rush"
           ],
           "marker": {
            "color": "#D50A0A"
           },
           "mode": "markers",
           "name": "TB",
           "type": "scatter",
           "x": [
            64.64,
            64.49,
            73.92,
            73.47,
            63.19,
            71.6,
            70.78,
            70.86,
            84.59,
            85.17,
            62.73
           ],
           "y": [
            31.14,
            29.38,
            24.87,
            18.11,
            23.97,
            45.51,
            33.73,
            6.87,
            18.04,
            34.48,
            33.54
           ]
          },
          {
           "hoverinfo": "text",
           "hovertext": [
            "nflId:37082.0<br>displayName:Tyron Smith<br>Position:LT<br>Role:Pass Block",
            "nflId:42347.0<br>displayName:Amari Cooper<br>Position:RWR<br>Role:Pass Route",
            "nflId:42654.0<br>displayName:La'el Collins<br>Position:RT<br>Role:Pass Block",
            "nflId:43293.0<br>displayName:Ezekiel Elliott<br>Position:HB-L<br>Role:Pass Route",
            "nflId:43424.0<br>displayName:Dak Prescott<br>Position:QB<br>Role:Pass",
            "nflId:46119.0<br>displayName:Connor Williams<br>Position:LG<br>Role:Pass Block",
            "nflId:46150.0<br>displayName:Michael Gallup<br>Position:LWR<br>Role:Pass Route",
            "nflId:46206.0<br>displayName:Dalton Schultz<br>Position:SRiWR<br>Role:Pass Route",
            "nflId:47873.0<br>displayName:Connor McGovern<br>Position:RG<br>Role:Pass Block",
            "nflId:52425.0<br>displayName:CeeDee Lamb<br>Position:SRoWR<br>Role:Pass Route",
            "nflId:52554.0<br>displayName:Tyler Biadasz<br>Position:C<br>Role:Pass Block"
           ],
           "marker": {
            "color": "#003594"
           },
           "mode": "markers",
           "name": "DAL",
           "type": "scatter",
           "x": [
            62.6,
            69.41,
            62.95,
            63.4,
            61.47,
            63.87,
            70.73,
            71.91,
            63.77,
            69.92,
            64.36
           ],
           "y": [
            32.62,
            7.36,
            24.66,
            34.92,
            28.99,
            30.68,
            46.62,
            22.29,
            27.55,
            14.69,
            29.74
           ]
          },
          {
           "hoverinfo": "none",
           "marker": {
            "color": "#CBB67C"
           },
           "mode": "markers",
           "name": "football",
           "type": "scatter",
           "x": [
            60.9
           ],
           "y": [
            28.99
           ]
          }
         ],
         "name": "22"
        },
        {
         "data": [
          {
           "hoverinfo": "none",
           "mode": "text",
           "showlegend": false,
           "text": [
            "10",
            "20",
            "30",
            "40",
            "50",
            "40",
            "30",
            "20",
            "10"
           ],
           "textfont": {
            "color": "#ffffff",
            "family": "Courier New, monospace",
            "size": 30
           },
           "type": "scatter",
           "x": [
            20,
            30,
            40,
            50,
            60,
            70,
            80,
            90,
            100
           ],
           "y": [
            5,
            5,
            5,
            5,
            5,
            5,
            5,
            5,
            5
           ]
          },
          {
           "hoverinfo": "none",
           "mode": "text",
           "showlegend": false,
           "text": [
            "10",
            "20",
            "30",
            "40",
            "50",
            "40",
            "30",
            "20",
            "10"
           ],
           "textfont": {
            "color": "#ffffff",
            "family": "Courier New, monospace",
            "size": 30
           },
           "type": "scatter",
           "x": [
            20,
            30,
            40,
            50,
            60,
            70,
            80,
            90,
            100
           ],
           "y": [
            48.5,
            48.5,
            48.5,
            48.5,
            48.5,
            48.5,
            48.5,
            48.5,
            48.5
           ]
          },
          {
           "hoverinfo": "none",
           "line": {
            "color": "blue",
            "dash": "dash"
           },
           "showlegend": false,
           "type": "scatter",
           "x": [
            68,
            68
           ],
           "y": [
            0,
            53.5
           ]
          },
          {
           "hoverinfo": "none",
           "line": {
            "color": "yellow",
            "dash": "dash"
           },
           "showlegend": false,
           "type": "scatter",
           "x": [
            78,
            78
           ],
           "y": [
            0,
            53.5
           ]
          },
          {
           "hoverinfo": "text",
           "hovertext": [
            "nflId:35441.0<br>displayName:Ndamukong Suh<br>Position:DRT<br>Role:Pass Rush",
            "nflId:35454.0<br>displayName:Jason Pierre-Paul<br>Position:RE<br>Role:Pass Rush",
            "nflId:38588.0<br>displayName:Lavonte David<br>Position:LLB<br>Role:Coverage",
            "nflId:41338.0<br>displayName:Ross Cockrell<br>Position:SCBoL<br>Role:Coverage",
            "nflId:41915.0<br>displayName:Shaquil Barrett<br>Position:LOLB<br>Role:Pass Rush",
            "nflId:46132.0<br>displayName:Carlton Davis<br>Position:RCB<br>Role:Coverage",
            "nflId:47788.0<br>displayName:Devin White<br>Position:RLB<br>Role:Coverage",
            "nflId:47877.0<br>displayName:Jamel Dean<br>Position:LCB<br>Role:Coverage",
            "nflId:47882.0<br>displayName:Mike Edwards<br>Position:FSL<br>Role:Coverage",
            "nflId:52453.0<br>displayName:Antoine Winfield<br>Position:FSR<br>Role:Coverage",
            "nflId:53461.0<br>displayName:Joe Tryon<br>Position:ROLB<br>Role:Pass Rush"
           ],
           "marker": {
            "color": "#D50A0A"
           },
           "mode": "markers",
           "name": "TB",
           "type": "scatter",
           "x": [
            64.52,
            64.12,
            74.02,
            73.68,
            62.71,
            72.12,
            70.73,
            71.06,
            84.94,
            85.39,
            62.34
           ],
           "y": [
            31.21,
            29.15,
            24.69,
            18.19,
            23.95,
            45.81,
            34,
            6.66,
            17.81,
            34.24,
            33.45
           ]
          },
          {
           "hoverinfo": "text",
           "hovertext": [
            "nflId:37082.0<br>displayName:Tyron Smith<br>Position:LT<br>Role:Pass Block",
            "nflId:42347.0<br>displayName:Amari Cooper<br>Position:RWR<br>Role:Pass Route",
            "nflId:42654.0<br>displayName:La'el Collins<br>Position:RT<br>Role:Pass Block",
            "nflId:43293.0<br>displayName:Ezekiel Elliott<br>Position:HB-L<br>Role:Pass Route",
            "nflId:43424.0<br>displayName:Dak Prescott<br>Position:QB<br>Role:Pass",
            "nflId:46119.0<br>displayName:Connor Williams<br>Position:LG<br>Role:Pass Block",
            "nflId:46150.0<br>displayName:Michael Gallup<br>Position:LWR<br>Role:Pass Route",
            "nflId:46206.0<br>displayName:Dalton Schultz<br>Position:SRiWR<br>Role:Pass Route",
            "nflId:47873.0<br>displayName:Connor McGovern<br>Position:RG<br>Role:Pass Block",
            "nflId:52425.0<br>displayName:CeeDee Lamb<br>Position:SRoWR<br>Role:Pass Route",
            "nflId:52554.0<br>displayName:Tyler Biadasz<br>Position:C<br>Role:Pass Block"
           ],
           "marker": {
            "color": "#003594"
           },
           "mode": "markers",
           "name": "DAL",
           "type": "scatter",
           "x": [
            62.28,
            69.85,
            62.65,
            63.65,
            61.41,
            63.78,
            71.33,
            72.19,
            63.53,
            70.26,
            64.18
           ],
           "y": [
            32.58,
            7.13,
            24.57,
            35.29,
            28.92,
            30.78,
            46.95,
            22.27,
            27.63,
            14.43,
            29.56
           ]
          },
          {
           "hoverinfo": "none",
           "marker": {
            "color": "#CBB67C"
           },
           "mode": "markers",
           "name": "football",
           "type": "scatter",
           "x": [
            60.97
           ],
           "y": [
            28.84
           ]
          }
         ],
         "name": "23"
        },
        {
         "data": [
          {
           "hoverinfo": "none",
           "mode": "text",
           "showlegend": false,
           "text": [
            "10",
            "20",
            "30",
            "40",
            "50",
            "40",
            "30",
            "20",
            "10"
           ],
           "textfont": {
            "color": "#ffffff",
            "family": "Courier New, monospace",
            "size": 30
           },
           "type": "scatter",
           "x": [
            20,
            30,
            40,
            50,
            60,
            70,
            80,
            90,
            100
           ],
           "y": [
            5,
            5,
            5,
            5,
            5,
            5,
            5,
            5,
            5
           ]
          },
          {
           "hoverinfo": "none",
           "mode": "text",
           "showlegend": false,
           "text": [
            "10",
            "20",
            "30",
            "40",
            "50",
            "40",
            "30",
            "20",
            "10"
           ],
           "textfont": {
            "color": "#ffffff",
            "family": "Courier New, monospace",
            "size": 30
           },
           "type": "scatter",
           "x": [
            20,
            30,
            40,
            50,
            60,
            70,
            80,
            90,
            100
           ],
           "y": [
            48.5,
            48.5,
            48.5,
            48.5,
            48.5,
            48.5,
            48.5,
            48.5,
            48.5
           ]
          },
          {
           "hoverinfo": "none",
           "line": {
            "color": "blue",
            "dash": "dash"
           },
           "showlegend": false,
           "type": "scatter",
           "x": [
            68,
            68
           ],
           "y": [
            0,
            53.5
           ]
          },
          {
           "hoverinfo": "none",
           "line": {
            "color": "yellow",
            "dash": "dash"
           },
           "showlegend": false,
           "type": "scatter",
           "x": [
            78,
            78
           ],
           "y": [
            0,
            53.5
           ]
          },
          {
           "hoverinfo": "text",
           "hovertext": [
            "nflId:35441.0<br>displayName:Ndamukong Suh<br>Position:DRT<br>Role:Pass Rush",
            "nflId:35454.0<br>displayName:Jason Pierre-Paul<br>Position:RE<br>Role:Pass Rush",
            "nflId:38588.0<br>displayName:Lavonte David<br>Position:LLB<br>Role:Coverage",
            "nflId:41338.0<br>displayName:Ross Cockrell<br>Position:SCBoL<br>Role:Coverage",
            "nflId:41915.0<br>displayName:Shaquil Barrett<br>Position:LOLB<br>Role:Pass Rush",
            "nflId:46132.0<br>displayName:Carlton Davis<br>Position:RCB<br>Role:Coverage",
            "nflId:47788.0<br>displayName:Devin White<br>Position:RLB<br>Role:Coverage",
            "nflId:47877.0<br>displayName:Jamel Dean<br>Position:LCB<br>Role:Coverage",
            "nflId:47882.0<br>displayName:Mike Edwards<br>Position:FSL<br>Role:Coverage",
            "nflId:52453.0<br>displayName:Antoine Winfield<br>Position:FSR<br>Role:Coverage",
            "nflId:53461.0<br>displayName:Joe Tryon<br>Position:ROLB<br>Role:Pass Rush"
           ],
           "marker": {
            "color": "#D50A0A"
           },
           "mode": "markers",
           "name": "TB",
           "type": "scatter",
           "x": [
            64.42,
            63.77,
            74.05,
            73.84,
            62.25,
            72.68,
            70.71,
            71.29,
            85.28,
            85.6,
            61.95
           ],
           "y": [
            31.31,
            28.95,
            24.5,
            18.24,
            23.92,
            46.12,
            34.28,
            6.52,
            17.59,
            33.96,
            33.37
           ]
          },
          {
           "hoverinfo": "text",
           "hovertext": [
            "nflId:37082.0<br>displayName:Tyron Smith<br>Position:LT<br>Role:Pass Block",
            "nflId:42347.0<br>displayName:Amari Cooper<br>Position:RWR<br>Role:Pass Route",
            "nflId:42654.0<br>displayName:La'el Collins<br>Position:RT<br>Role:Pass Block",
            "nflId:43293.0<br>displayName:Ezekiel Elliott<br>Position:HB-L<br>Role:Pass Route",
            "nflId:43424.0<br>displayName:Dak Prescott<br>Position:QB<br>Role:Pass",
            "nflId:46119.0<br>displayName:Connor Williams<br>Position:LG<br>Role:Pass Block",
            "nflId:46150.0<br>displayName:Michael Gallup<br>Position:LWR<br>Role:Pass Route",
            "nflId:46206.0<br>displayName:Dalton Schultz<br>Position:SRiWR<br>Role:Pass Route",
            "nflId:47873.0<br>displayName:Connor McGovern<br>Position:RG<br>Role:Pass Block",
            "nflId:52425.0<br>displayName:CeeDee Lamb<br>Position:SRoWR<br>Role:Pass Route",
            "nflId:52554.0<br>displayName:Tyler Biadasz<br>Position:C<br>Role:Pass Block"
           ],
           "marker": {
            "color": "#003594"
           },
           "mode": "markers",
           "name": "DAL",
           "type": "scatter",
           "x": [
            61.95,
            70.29,
            62.31,
            63.95,
            61.36,
            63.71,
            71.96,
            72.38,
            63.28,
            70.58,
            64
           ],
           "y": [
            32.54,
            6.91,
            24.5,
            35.65,
            28.85,
            30.91,
            47.27,
            22.23,
            27.73,
            14.18,
            29.36
           ]
          },
          {
           "hoverinfo": "none",
           "marker": {
            "color": "#CBB67C"
           },
           "mode": "markers",
           "name": "football",
           "type": "scatter",
           "x": [
            61.06
           ],
           "y": [
            28.66
           ]
          }
         ],
         "name": "24"
        },
        {
         "data": [
          {
           "hoverinfo": "none",
           "mode": "text",
           "showlegend": false,
           "text": [
            "10",
            "20",
            "30",
            "40",
            "50",
            "40",
            "30",
            "20",
            "10"
           ],
           "textfont": {
            "color": "#ffffff",
            "family": "Courier New, monospace",
            "size": 30
           },
           "type": "scatter",
           "x": [
            20,
            30,
            40,
            50,
            60,
            70,
            80,
            90,
            100
           ],
           "y": [
            5,
            5,
            5,
            5,
            5,
            5,
            5,
            5,
            5
           ]
          },
          {
           "hoverinfo": "none",
           "mode": "text",
           "showlegend": false,
           "text": [
            "10",
            "20",
            "30",
            "40",
            "50",
            "40",
            "30",
            "20",
            "10"
           ],
           "textfont": {
            "color": "#ffffff",
            "family": "Courier New, monospace",
            "size": 30
           },
           "type": "scatter",
           "x": [
            20,
            30,
            40,
            50,
            60,
            70,
            80,
            90,
            100
           ],
           "y": [
            48.5,
            48.5,
            48.5,
            48.5,
            48.5,
            48.5,
            48.5,
            48.5,
            48.5
           ]
          },
          {
           "hoverinfo": "none",
           "line": {
            "color": "blue",
            "dash": "dash"
           },
           "showlegend": false,
           "type": "scatter",
           "x": [
            68,
            68
           ],
           "y": [
            0,
            53.5
           ]
          },
          {
           "hoverinfo": "none",
           "line": {
            "color": "yellow",
            "dash": "dash"
           },
           "showlegend": false,
           "type": "scatter",
           "x": [
            78,
            78
           ],
           "y": [
            0,
            53.5
           ]
          },
          {
           "hoverinfo": "text",
           "hovertext": [
            "nflId:35441.0<br>displayName:Ndamukong Suh<br>Position:DRT<br>Role:Pass Rush",
            "nflId:35454.0<br>displayName:Jason Pierre-Paul<br>Position:RE<br>Role:Pass Rush",
            "nflId:38588.0<br>displayName:Lavonte David<br>Position:LLB<br>Role:Coverage",
            "nflId:41338.0<br>displayName:Ross Cockrell<br>Position:SCBoL<br>Role:Coverage",
            "nflId:41915.0<br>displayName:Shaquil Barrett<br>Position:LOLB<br>Role:Pass Rush",
            "nflId:46132.0<br>displayName:Carlton Davis<br>Position:RCB<br>Role:Coverage",
            "nflId:47788.0<br>displayName:Devin White<br>Position:RLB<br>Role:Coverage",
            "nflId:47877.0<br>displayName:Jamel Dean<br>Position:LCB<br>Role:Coverage",
            "nflId:47882.0<br>displayName:Mike Edwards<br>Position:FSL<br>Role:Coverage",
            "nflId:52453.0<br>displayName:Antoine Winfield<br>Position:FSR<br>Role:Coverage",
            "nflId:53461.0<br>displayName:Joe Tryon<br>Position:ROLB<br>Role:Pass Rush"
           ],
           "marker": {
            "color": "#D50A0A"
           },
           "mode": "markers",
           "name": "TB",
           "type": "scatter",
           "x": [
            64.39,
            63.42,
            74.06,
            73.95,
            61.83,
            73.28,
            70.72,
            71.54,
            85.58,
            85.81,
            61.58
           ],
           "y": [
            31.42,
            28.8,
            24.29,
            18.27,
            23.89,
            46.42,
            34.56,
            6.42,
            17.35,
            33.64,
            33.29
           ]
          },
          {
           "hoverinfo": "text",
           "hovertext": [
            "nflId:37082.0<br>displayName:Tyron Smith<br>Position:LT<br>Role:Pass Block",
            "nflId:42347.0<br>displayName:Amari Cooper<br>Position:RWR<br>Role:Pass Route",
            "nflId:42654.0<br>displayName:La'el Collins<br>Position:RT<br>Role:Pass Block",
            "nflId:43293.0<br>displayName:Ezekiel Elliott<br>Position:HB-L<br>Role:Pass Route",
            "nflId:43424.0<br>displayName:Dak Prescott<br>Position:QB<br>Role:Pass",
            "nflId:46119.0<br>displayName:Connor Williams<br>Position:LG<br>Role:Pass Block",
            "nflId:46150.0<br>displayName:Michael Gallup<br>Position:LWR<br>Role:Pass Route",
            "nflId:46206.0<br>displayName:Dalton Schultz<br>Position:SRiWR<br>Role:Pass Route",
            "nflId:47873.0<br>displayName:Connor McGovern<br>Position:RG<br>Role:Pass Block",
            "nflId:52425.0<br>displayName:CeeDee Lamb<br>Position:SRoWR<br>Role:Pass Route",
            "nflId:52554.0<br>displayName:Tyler Biadasz<br>Position:C<br>Role:Pass Block"
           ],
           "marker": {
            "color": "#003594"
           },
           "mode": "markers",
           "name": "DAL",
           "type": "scatter",
           "x": [
            61.63,
            70.71,
            61.97,
            64.3,
            61.31,
            63.67,
            72.64,
            72.51,
            63.05,
            70.83,
            63.84
           ],
           "y": [
            32.49,
            6.71,
            24.44,
            36,
            28.8,
            31.05,
            47.55,
            22.18,
            27.82,
            13.94,
            29.15
           ]
          },
          {
           "hoverinfo": "none",
           "marker": {
            "color": "#CBB67C"
           },
           "mode": "markers",
           "name": "football",
           "type": "scatter",
           "x": [
            61.17
           ],
           "y": [
            28.46
           ]
          }
         ],
         "name": "25"
        },
        {
         "data": [
          {
           "hoverinfo": "none",
           "mode": "text",
           "showlegend": false,
           "text": [
            "10",
            "20",
            "30",
            "40",
            "50",
            "40",
            "30",
            "20",
            "10"
           ],
           "textfont": {
            "color": "#ffffff",
            "family": "Courier New, monospace",
            "size": 30
           },
           "type": "scatter",
           "x": [
            20,
            30,
            40,
            50,
            60,
            70,
            80,
            90,
            100
           ],
           "y": [
            5,
            5,
            5,
            5,
            5,
            5,
            5,
            5,
            5
           ]
          },
          {
           "hoverinfo": "none",
           "mode": "text",
           "showlegend": false,
           "text": [
            "10",
            "20",
            "30",
            "40",
            "50",
            "40",
            "30",
            "20",
            "10"
           ],
           "textfont": {
            "color": "#ffffff",
            "family": "Courier New, monospace",
            "size": 30
           },
           "type": "scatter",
           "x": [
            20,
            30,
            40,
            50,
            60,
            70,
            80,
            90,
            100
           ],
           "y": [
            48.5,
            48.5,
            48.5,
            48.5,
            48.5,
            48.5,
            48.5,
            48.5,
            48.5
           ]
          },
          {
           "hoverinfo": "none",
           "line": {
            "color": "blue",
            "dash": "dash"
           },
           "showlegend": false,
           "type": "scatter",
           "x": [
            68,
            68
           ],
           "y": [
            0,
            53.5
           ]
          },
          {
           "hoverinfo": "none",
           "line": {
            "color": "yellow",
            "dash": "dash"
           },
           "showlegend": false,
           "type": "scatter",
           "x": [
            78,
            78
           ],
           "y": [
            0,
            53.5
           ]
          },
          {
           "hoverinfo": "text",
           "hovertext": [
            "nflId:35441.0<br>displayName:Ndamukong Suh<br>Position:DRT<br>Role:Pass Rush",
            "nflId:35454.0<br>displayName:Jason Pierre-Paul<br>Position:RE<br>Role:Pass Rush",
            "nflId:38588.0<br>displayName:Lavonte David<br>Position:LLB<br>Role:Coverage",
            "nflId:41338.0<br>displayName:Ross Cockrell<br>Position:SCBoL<br>Role:Coverage",
            "nflId:41915.0<br>displayName:Shaquil Barrett<br>Position:LOLB<br>Role:Pass Rush",
            "nflId:46132.0<br>displayName:Carlton Davis<br>Position:RCB<br>Role:Coverage",
            "nflId:47788.0<br>displayName:Devin White<br>Position:RLB<br>Role:Coverage",
            "nflId:47877.0<br>displayName:Jamel Dean<br>Position:LCB<br>Role:Coverage",
            "nflId:47882.0<br>displayName:Mike Edwards<br>Position:FSL<br>Role:Coverage",
            "nflId:52453.0<br>displayName:Antoine Winfield<br>Position:FSR<br>Role:Coverage",
            "nflId:53461.0<br>displayName:Joe Tryon<br>Position:ROLB<br>Role:Pass Rush"
           ],
           "marker": {
            "color": "#D50A0A"
           },
           "mode": "markers",
           "name": "TB",
           "type": "scatter",
           "x": [
            64.4,
            63.09,
            74.04,
            74.01,
            61.44,
            73.91,
            70.76,
            71.8,
            85.82,
            85.98,
            61.26
           ],
           "y": [
            31.5,
            28.7,
            24.05,
            18.23,
            23.85,
            46.74,
            34.83,
            6.36,
            17.14,
            33.3,
            33.25
           ]
          },
          {
           "hoverinfo": "text",
           "hovertext": [
            "nflId:37082.0<br>displayName:Tyron Smith<br>Position:LT<br>Role:Pass Block",
            "nflId:42347.0<br>displayName:Amari Cooper<br>Position:RWR<br>Role:Pass Route",
            "nflId:42654.0<br>displayName:La'el Collins<br>Position:RT<br>Role:Pass Block",
            "nflId:43293.0<br>displayName:Ezekiel Elliott<br>Position:HB-L<br>Role:Pass Route",
            "nflId:43424.0<br>displayName:Dak Prescott<br>Position:QB<br>Role:Pass",
            "nflId:46119.0<br>displayName:Connor Williams<br>Position:LG<br>Role:Pass Block",
            "nflId:46150.0<br>displayName:Michael Gallup<br>Position:LWR<br>Role:Pass Route",
            "nflId:46206.0<br>displayName:Dalton Schultz<br>Position:SRiWR<br>Role:Pass Route",
            "nflId:47873.0<br>displayName:Connor McGovern<br>Position:RG<br>Role:Pass Block",
            "nflId:52425.0<br>displayName:CeeDee Lamb<br>Position:SRoWR<br>Role:Pass Route",
            "nflId:52554.0<br>displayName:Tyler Biadasz<br>Position:C<br>Role:Pass Block"
           ],
           "marker": {
            "color": "#003594"
           },
           "mode": "markers",
           "name": "DAL",
           "type": "scatter",
           "x": [
            61.33,
            71.12,
            61.64,
            64.68,
            61.25,
            63.64,
            73.35,
            72.56,
            62.83,
            71.02,
            63.68
           ],
           "y": [
            32.44,
            6.53,
            24.4,
            36.36,
            28.76,
            31.2,
            47.83,
            22.11,
            27.92,
            13.73,
            28.94
           ]
          },
          {
           "hoverinfo": "none",
           "marker": {
            "color": "#CBB67C"
           },
           "mode": "markers",
           "name": "football",
           "type": "scatter",
           "x": [
            63.25
           ],
           "y": [
            25.3
           ]
          }
         ],
         "name": "26"
        },
        {
         "data": [
          {
           "hoverinfo": "none",
           "mode": "text",
           "showlegend": false,
           "text": [
            "10",
            "20",
            "30",
            "40",
            "50",
            "40",
            "30",
            "20",
            "10"
           ],
           "textfont": {
            "color": "#ffffff",
            "family": "Courier New, monospace",
            "size": 30
           },
           "type": "scatter",
           "x": [
            20,
            30,
            40,
            50,
            60,
            70,
            80,
            90,
            100
           ],
           "y": [
            5,
            5,
            5,
            5,
            5,
            5,
            5,
            5,
            5
           ]
          },
          {
           "hoverinfo": "none",
           "mode": "text",
           "showlegend": false,
           "text": [
            "10",
            "20",
            "30",
            "40",
            "50",
            "40",
            "30",
            "20",
            "10"
           ],
           "textfont": {
            "color": "#ffffff",
            "family": "Courier New, monospace",
            "size": 30
           },
           "type": "scatter",
           "x": [
            20,
            30,
            40,
            50,
            60,
            70,
            80,
            90,
            100
           ],
           "y": [
            48.5,
            48.5,
            48.5,
            48.5,
            48.5,
            48.5,
            48.5,
            48.5,
            48.5
           ]
          },
          {
           "hoverinfo": "none",
           "line": {
            "color": "blue",
            "dash": "dash"
           },
           "showlegend": false,
           "type": "scatter",
           "x": [
            68,
            68
           ],
           "y": [
            0,
            53.5
           ]
          },
          {
           "hoverinfo": "none",
           "line": {
            "color": "yellow",
            "dash": "dash"
           },
           "showlegend": false,
           "type": "scatter",
           "x": [
            78,
            78
           ],
           "y": [
            0,
            53.5
           ]
          },
          {
           "hoverinfo": "text",
           "hovertext": [
            "nflId:35441.0<br>displayName:Ndamukong Suh<br>Position:DRT<br>Role:Pass Rush",
            "nflId:35454.0<br>displayName:Jason Pierre-Paul<br>Position:RE<br>Role:Pass Rush",
            "nflId:38588.0<br>displayName:Lavonte David<br>Position:LLB<br>Role:Coverage",
            "nflId:41338.0<br>displayName:Ross Cockrell<br>Position:SCBoL<br>Role:Coverage",
            "nflId:41915.0<br>displayName:Shaquil Barrett<br>Position:LOLB<br>Role:Pass Rush",
            "nflId:46132.0<br>displayName:Carlton Davis<br>Position:RCB<br>Role:Coverage",
            "nflId:47788.0<br>displayName:Devin White<br>Position:RLB<br>Role:Coverage",
            "nflId:47877.0<br>displayName:Jamel Dean<br>Position:LCB<br>Role:Coverage",
            "nflId:47882.0<br>displayName:Mike Edwards<br>Position:FSL<br>Role:Coverage",
            "nflId:52453.0<br>displayName:Antoine Winfield<br>Position:FSR<br>Role:Coverage",
            "nflId:53461.0<br>displayName:Joe Tryon<br>Position:ROLB<br>Role:Pass Rush"
           ],
           "marker": {
            "color": "#D50A0A"
           },
           "mode": "markers",
           "name": "TB",
           "type": "scatter",
           "x": [
            64.45,
            62.8,
            73.99,
            74.02,
            61.07,
            74.57,
            70.81,
            72.08,
            86.01,
            86.12,
            60.99
           ],
           "y": [
            31.58,
            28.62,
            23.77,
            18.17,
            23.81,
            47.05,
            35.1,
            6.34,
            16.92,
            32.93,
            33.22
           ]
          },
          {
           "hoverinfo": "text",
           "hovertext": [
            "nflId:37082.0<br>displayName:Tyron Smith<br>Position:LT<br>Role:Pass Block",
            "nflId:42347.0<br>displayName:Amari Cooper<br>Position:RWR<br>Role:Pass Route",
            "nflId:42654.0<br>displayName:La'el Collins<br>Position:RT<br>Role:Pass Block",
            "nflId:43293.0<br>displayName:Ezekiel Elliott<br>Position:HB-L<br>Role:Pass Route",
            "nflId:43424.0<br>displayName:Dak Prescott<br>Position:QB<br>Role:Pass",
            "nflId:46119.0<br>displayName:Connor Williams<br>Position:LG<br>Role:Pass Block",
            "nflId:46150.0<br>displayName:Michael Gallup<br>Position:LWR<br>Role:Pass Route",
            "nflId:46206.0<br>displayName:Dalton Schultz<br>Position:SRiWR<br>Role:Pass Route",
            "nflId:47873.0<br>displayName:Connor McGovern<br>Position:RG<br>Role:Pass Block",
            "nflId:52425.0<br>displayName:CeeDee Lamb<br>Position:SRoWR<br>Role:Pass Route",
            "nflId:52554.0<br>displayName:Tyler Biadasz<br>Position:C<br>Role:Pass Block"
           ],
           "marker": {
            "color": "#003594"
           },
           "mode": "markers",
           "name": "DAL",
           "type": "scatter",
           "x": [
            61.03,
            71.51,
            61.32,
            65.09,
            61.21,
            63.62,
            74.08,
            72.54,
            62.61,
            71.15,
            63.49
           ],
           "y": [
            32.41,
            6.39,
            24.35,
            36.72,
            28.72,
            31.32,
            48.08,
            22.04,
            28.02,
            13.53,
            28.77
           ]
          },
          {
           "hoverinfo": "none",
           "marker": {
            "color": "#CBB67C"
           },
           "mode": "markers",
           "name": "football",
           "type": "scatter",
           "x": [
            64.55
           ],
           "y": [
            23.27
           ]
          }
         ],
         "name": "27"
        },
        {
         "data": [
          {
           "hoverinfo": "none",
           "mode": "text",
           "showlegend": false,
           "text": [
            "10",
            "20",
            "30",
            "40",
            "50",
            "40",
            "30",
            "20",
            "10"
           ],
           "textfont": {
            "color": "#ffffff",
            "family": "Courier New, monospace",
            "size": 30
           },
           "type": "scatter",
           "x": [
            20,
            30,
            40,
            50,
            60,
            70,
            80,
            90,
            100
           ],
           "y": [
            5,
            5,
            5,
            5,
            5,
            5,
            5,
            5,
            5
           ]
          },
          {
           "hoverinfo": "none",
           "mode": "text",
           "showlegend": false,
           "text": [
            "10",
            "20",
            "30",
            "40",
            "50",
            "40",
            "30",
            "20",
            "10"
           ],
           "textfont": {
            "color": "#ffffff",
            "family": "Courier New, monospace",
            "size": 30
           },
           "type": "scatter",
           "x": [
            20,
            30,
            40,
            50,
            60,
            70,
            80,
            90,
            100
           ],
           "y": [
            48.5,
            48.5,
            48.5,
            48.5,
            48.5,
            48.5,
            48.5,
            48.5,
            48.5
           ]
          },
          {
           "hoverinfo": "none",
           "line": {
            "color": "blue",
            "dash": "dash"
           },
           "showlegend": false,
           "type": "scatter",
           "x": [
            68,
            68
           ],
           "y": [
            0,
            53.5
           ]
          },
          {
           "hoverinfo": "none",
           "line": {
            "color": "yellow",
            "dash": "dash"
           },
           "showlegend": false,
           "type": "scatter",
           "x": [
            78,
            78
           ],
           "y": [
            0,
            53.5
           ]
          },
          {
           "hoverinfo": "text",
           "hovertext": [
            "nflId:35441.0<br>displayName:Ndamukong Suh<br>Position:DRT<br>Role:Pass Rush",
            "nflId:35454.0<br>displayName:Jason Pierre-Paul<br>Position:RE<br>Role:Pass Rush",
            "nflId:38588.0<br>displayName:Lavonte David<br>Position:LLB<br>Role:Coverage",
            "nflId:41338.0<br>displayName:Ross Cockrell<br>Position:SCBoL<br>Role:Coverage",
            "nflId:41915.0<br>displayName:Shaquil Barrett<br>Position:LOLB<br>Role:Pass Rush",
            "nflId:46132.0<br>displayName:Carlton Davis<br>Position:RCB<br>Role:Coverage",
            "nflId:47788.0<br>displayName:Devin White<br>Position:RLB<br>Role:Coverage",
            "nflId:47877.0<br>displayName:Jamel Dean<br>Position:LCB<br>Role:Coverage",
            "nflId:47882.0<br>displayName:Mike Edwards<br>Position:FSL<br>Role:Coverage",
            "nflId:52453.0<br>displayName:Antoine Winfield<br>Position:FSR<br>Role:Coverage",
            "nflId:53461.0<br>displayName:Joe Tryon<br>Position:ROLB<br>Role:Pass Rush"
           ],
           "marker": {
            "color": "#D50A0A"
           },
           "mode": "markers",
           "name": "TB",
           "type": "scatter",
           "x": [
            64.55,
            62.53,
            73.92,
            73.99,
            60.74,
            75.25,
            70.87,
            72.36,
            86.12,
            86.24,
            60.76
           ],
           "y": [
            31.65,
            28.56,
            23.46,
            18.07,
            23.75,
            47.34,
            35.36,
            6.35,
            16.69,
            32.52,
            33.2
           ]
          },
          {
           "hoverinfo": "text",
           "hovertext": [
            "nflId:37082.0<br>displayName:Tyron Smith<br>Position:LT<br>Role:Pass Block",
            "nflId:42347.0<br>displayName:Amari Cooper<br>Position:RWR<br>Role:Pass Route",
            "nflId:42654.0<br>displayName:La'el Collins<br>Position:RT<br>Role:Pass Block",
            "nflId:43293.0<br>displayName:Ezekiel Elliott<br>Position:HB-L<br>Role:Pass Route",
            "nflId:43424.0<br>displayName:Dak Prescott<br>Position:QB<br>Role:Pass",
            "nflId:46119.0<br>displayName:Connor Williams<br>Position:LG<br>Role:Pass Block",
            "nflId:46150.0<br>displayName:Michael Gallup<br>Position:LWR<br>Role:Pass Route",
            "nflId:46206.0<br>displayName:Dalton Schultz<br>Position:SRiWR<br>Role:Pass Route",
            "nflId:47873.0<br>displayName:Connor McGovern<br>Position:RG<br>Role:Pass Block",
            "nflId:52425.0<br>displayName:CeeDee Lamb<br>Position:SRoWR<br>Role:Pass Route",
            "nflId:52554.0<br>displayName:Tyler Biadasz<br>Position:C<br>Role:Pass Block"
           ],
           "marker": {
            "color": "#003594"
           },
           "mode": "markers",
           "name": "DAL",
           "type": "scatter",
           "x": [
            60.77,
            71.86,
            60.99,
            65.5,
            61.12,
            63.64,
            74.83,
            72.47,
            62.42,
            71.24,
            63.33
           ],
           "y": [
            32.38,
            6.26,
            24.33,
            37.1,
            28.71,
            31.42,
            48.32,
            21.94,
            28.12,
            13.37,
            28.59
           ]
          },
          {
           "hoverinfo": "none",
           "marker": {
            "color": "#CBB67C"
           },
           "mode": "markers",
           "name": "football",
           "type": "scatter",
           "x": [
            65.85
           ],
           "y": [
            21.26
           ]
          }
         ],
         "name": "28"
        },
        {
         "data": [
          {
           "hoverinfo": "none",
           "mode": "text",
           "showlegend": false,
           "text": [
            "10",
            "20",
            "30",
            "40",
            "50",
            "40",
            "30",
            "20",
            "10"
           ],
           "textfont": {
            "color": "#ffffff",
            "family": "Courier New, monospace",
            "size": 30
           },
           "type": "scatter",
           "x": [
            20,
            30,
            40,
            50,
            60,
            70,
            80,
            90,
            100
           ],
           "y": [
            5,
            5,
            5,
            5,
            5,
            5,
            5,
            5,
            5
           ]
          },
          {
           "hoverinfo": "none",
           "mode": "text",
           "showlegend": false,
           "text": [
            "10",
            "20",
            "30",
            "40",
            "50",
            "40",
            "30",
            "20",
            "10"
           ],
           "textfont": {
            "color": "#ffffff",
            "family": "Courier New, monospace",
            "size": 30
           },
           "type": "scatter",
           "x": [
            20,
            30,
            40,
            50,
            60,
            70,
            80,
            90,
            100
           ],
           "y": [
            48.5,
            48.5,
            48.5,
            48.5,
            48.5,
            48.5,
            48.5,
            48.5,
            48.5
           ]
          },
          {
           "hoverinfo": "none",
           "line": {
            "color": "blue",
            "dash": "dash"
           },
           "showlegend": false,
           "type": "scatter",
           "x": [
            68,
            68
           ],
           "y": [
            0,
            53.5
           ]
          },
          {
           "hoverinfo": "none",
           "line": {
            "color": "yellow",
            "dash": "dash"
           },
           "showlegend": false,
           "type": "scatter",
           "x": [
            78,
            78
           ],
           "y": [
            0,
            53.5
           ]
          },
          {
           "hoverinfo": "text",
           "hovertext": [
            "nflId:35441.0<br>displayName:Ndamukong Suh<br>Position:DRT<br>Role:Pass Rush",
            "nflId:35454.0<br>displayName:Jason Pierre-Paul<br>Position:RE<br>Role:Pass Rush",
            "nflId:38588.0<br>displayName:Lavonte David<br>Position:LLB<br>Role:Coverage",
            "nflId:41338.0<br>displayName:Ross Cockrell<br>Position:SCBoL<br>Role:Coverage",
            "nflId:41915.0<br>displayName:Shaquil Barrett<br>Position:LOLB<br>Role:Pass Rush",
            "nflId:46132.0<br>displayName:Carlton Davis<br>Position:RCB<br>Role:Coverage",
            "nflId:47788.0<br>displayName:Devin White<br>Position:RLB<br>Role:Coverage",
            "nflId:47877.0<br>displayName:Jamel Dean<br>Position:LCB<br>Role:Coverage",
            "nflId:47882.0<br>displayName:Mike Edwards<br>Position:FSL<br>Role:Coverage",
            "nflId:52453.0<br>displayName:Antoine Winfield<br>Position:FSR<br>Role:Coverage",
            "nflId:53461.0<br>displayName:Joe Tryon<br>Position:ROLB<br>Role:Pass Rush"
           ],
           "marker": {
            "color": "#D50A0A"
           },
           "mode": "markers",
           "name": "TB",
           "type": "scatter",
           "x": [
            64.69,
            62.3,
            73.84,
            73.92,
            60.44,
            75.96,
            70.96,
            72.65,
            86.18,
            86.29,
            60.56
           ],
           "y": [
            31.71,
            28.53,
            23.12,
            17.91,
            23.69,
            47.63,
            35.59,
            6.4,
            16.46,
            32.09,
            33.18
           ]
          },
          {
           "hoverinfo": "text",
           "hovertext": [
            "nflId:37082.0<br>displayName:Tyron Smith<br>Position:LT<br>Role:Pass Block",
            "nflId:42347.0<br>displayName:Amari Cooper<br>Position:RWR<br>Role:Pass Route",
            "nflId:42654.0<br>displayName:La'el Collins<br>Position:RT<br>Role:Pass Block",
            "nflId:43293.0<br>displayName:Ezekiel Elliott<br>Position:HB-L<br>Role:Pass Route",
            "nflId:43424.0<br>displayName:Dak Prescott<br>Position:QB<br>Role:Pass",
            "nflId:46119.0<br>displayName:Connor Williams<br>Position:LG<br>Role:Pass Block",
            "nflId:46150.0<br>displayName:Michael Gallup<br>Position:LWR<br>Role:Pass Route",
            "nflId:46206.0<br>displayName:Dalton Schultz<br>Position:SRiWR<br>Role:Pass Route",
            "nflId:47873.0<br>displayName:Connor McGovern<br>Position:RG<br>Role:Pass Block",
            "nflId:52425.0<br>displayName:CeeDee Lamb<br>Position:SRoWR<br>Role:Pass Route",
            "nflId:52554.0<br>displayName:Tyler Biadasz<br>Position:C<br>Role:Pass Block"
           ],
           "marker": {
            "color": "#003594"
           },
           "mode": "markers",
           "name": "DAL",
           "type": "scatter",
           "x": [
            60.53,
            72.19,
            60.69,
            65.9,
            61.01,
            63.69,
            75.6,
            72.37,
            62.18,
            71.29,
            63.18
           ],
           "y": [
            32.34,
            6.15,
            24.32,
            37.5,
            28.72,
            31.5,
            48.55,
            21.85,
            28.23,
            13.24,
            28.42
           ]
          },
          {
           "hoverinfo": "none",
           "marker": {
            "color": "#CBB67C"
           },
           "mode": "markers",
           "name": "football",
           "type": "scatter",
           "x": [
            67.13
           ],
           "y": [
            19.27
           ]
          }
         ],
         "name": "29"
        }
       ],
       "layout": {
        "annotations": [
         {
          "align": "center",
          "bgcolor": "#ff7f0e",
          "bordercolor": "black",
          "borderpad": 4,
          "borderwidth": 2,
          "font": {
           "color": "black",
           "family": "Courier New, monospace",
           "size": 16
          },
          "opacity": 1,
          "showarrow": false,
          "text": "2",
          "x": 78,
          "y": 0
         },
         {
          "align": "center",
          "bgcolor": "#ff7f0e",
          "bordercolor": "black",
          "borderpad": 4,
          "borderwidth": 2,
          "font": {
           "color": "black",
           "family": "Courier New, monospace",
           "size": 16
          },
          "opacity": 1,
          "showarrow": false,
          "text": "2",
          "x": 78,
          "y": 53
         }
        ],
        "autosize": false,
        "height": 600,
        "plot_bgcolor": "#00B140",
        "sliders": [
         {
          "active": 0,
          "currentvalue": {
           "font": {
            "size": 20
           },
           "prefix": "Frame:",
           "visible": true,
           "xanchor": "right"
          },
          "len": 0.9,
          "pad": {
           "b": 10,
           "t": 50
          },
          "steps": [
           {
            "args": [
             [
              1
             ],
             {
              "frame": {
               "duration": 100,
               "redraw": false
              },
              "mode": "immediate",
              "transition": {
               "duration": 0
              }
             }
            ],
            "label": "1",
            "method": "animate"
           },
           {
            "args": [
             [
              2
             ],
             {
              "frame": {
               "duration": 100,
               "redraw": false
              },
              "mode": "immediate",
              "transition": {
               "duration": 0
              }
             }
            ],
            "label": "2",
            "method": "animate"
           },
           {
            "args": [
             [
              3
             ],
             {
              "frame": {
               "duration": 100,
               "redraw": false
              },
              "mode": "immediate",
              "transition": {
               "duration": 0
              }
             }
            ],
            "label": "3",
            "method": "animate"
           },
           {
            "args": [
             [
              4
             ],
             {
              "frame": {
               "duration": 100,
               "redraw": false
              },
              "mode": "immediate",
              "transition": {
               "duration": 0
              }
             }
            ],
            "label": "4",
            "method": "animate"
           },
           {
            "args": [
             [
              5
             ],
             {
              "frame": {
               "duration": 100,
               "redraw": false
              },
              "mode": "immediate",
              "transition": {
               "duration": 0
              }
             }
            ],
            "label": "5",
            "method": "animate"
           },
           {
            "args": [
             [
              6
             ],
             {
              "frame": {
               "duration": 100,
               "redraw": false
              },
              "mode": "immediate",
              "transition": {
               "duration": 0
              }
             }
            ],
            "label": "6",
            "method": "animate"
           },
           {
            "args": [
             [
              7
             ],
             {
              "frame": {
               "duration": 100,
               "redraw": false
              },
              "mode": "immediate",
              "transition": {
               "duration": 0
              }
             }
            ],
            "label": "7",
            "method": "animate"
           },
           {
            "args": [
             [
              8
             ],
             {
              "frame": {
               "duration": 100,
               "redraw": false
              },
              "mode": "immediate",
              "transition": {
               "duration": 0
              }
             }
            ],
            "label": "8",
            "method": "animate"
           },
           {
            "args": [
             [
              9
             ],
             {
              "frame": {
               "duration": 100,
               "redraw": false
              },
              "mode": "immediate",
              "transition": {
               "duration": 0
              }
             }
            ],
            "label": "9",
            "method": "animate"
           },
           {
            "args": [
             [
              10
             ],
             {
              "frame": {
               "duration": 100,
               "redraw": false
              },
              "mode": "immediate",
              "transition": {
               "duration": 0
              }
             }
            ],
            "label": "10",
            "method": "animate"
           },
           {
            "args": [
             [
              11
             ],
             {
              "frame": {
               "duration": 100,
               "redraw": false
              },
              "mode": "immediate",
              "transition": {
               "duration": 0
              }
             }
            ],
            "label": "11",
            "method": "animate"
           },
           {
            "args": [
             [
              12
             ],
             {
              "frame": {
               "duration": 100,
               "redraw": false
              },
              "mode": "immediate",
              "transition": {
               "duration": 0
              }
             }
            ],
            "label": "12",
            "method": "animate"
           },
           {
            "args": [
             [
              13
             ],
             {
              "frame": {
               "duration": 100,
               "redraw": false
              },
              "mode": "immediate",
              "transition": {
               "duration": 0
              }
             }
            ],
            "label": "13",
            "method": "animate"
           },
           {
            "args": [
             [
              14
             ],
             {
              "frame": {
               "duration": 100,
               "redraw": false
              },
              "mode": "immediate",
              "transition": {
               "duration": 0
              }
             }
            ],
            "label": "14",
            "method": "animate"
           },
           {
            "args": [
             [
              15
             ],
             {
              "frame": {
               "duration": 100,
               "redraw": false
              },
              "mode": "immediate",
              "transition": {
               "duration": 0
              }
             }
            ],
            "label": "15",
            "method": "animate"
           },
           {
            "args": [
             [
              16
             ],
             {
              "frame": {
               "duration": 100,
               "redraw": false
              },
              "mode": "immediate",
              "transition": {
               "duration": 0
              }
             }
            ],
            "label": "16",
            "method": "animate"
           },
           {
            "args": [
             [
              17
             ],
             {
              "frame": {
               "duration": 100,
               "redraw": false
              },
              "mode": "immediate",
              "transition": {
               "duration": 0
              }
             }
            ],
            "label": "17",
            "method": "animate"
           },
           {
            "args": [
             [
              18
             ],
             {
              "frame": {
               "duration": 100,
               "redraw": false
              },
              "mode": "immediate",
              "transition": {
               "duration": 0
              }
             }
            ],
            "label": "18",
            "method": "animate"
           },
           {
            "args": [
             [
              19
             ],
             {
              "frame": {
               "duration": 100,
               "redraw": false
              },
              "mode": "immediate",
              "transition": {
               "duration": 0
              }
             }
            ],
            "label": "19",
            "method": "animate"
           },
           {
            "args": [
             [
              20
             ],
             {
              "frame": {
               "duration": 100,
               "redraw": false
              },
              "mode": "immediate",
              "transition": {
               "duration": 0
              }
             }
            ],
            "label": "20",
            "method": "animate"
           },
           {
            "args": [
             [
              21
             ],
             {
              "frame": {
               "duration": 100,
               "redraw": false
              },
              "mode": "immediate",
              "transition": {
               "duration": 0
              }
             }
            ],
            "label": "21",
            "method": "animate"
           },
           {
            "args": [
             [
              22
             ],
             {
              "frame": {
               "duration": 100,
               "redraw": false
              },
              "mode": "immediate",
              "transition": {
               "duration": 0
              }
             }
            ],
            "label": "22",
            "method": "animate"
           },
           {
            "args": [
             [
              23
             ],
             {
              "frame": {
               "duration": 100,
               "redraw": false
              },
              "mode": "immediate",
              "transition": {
               "duration": 0
              }
             }
            ],
            "label": "23",
            "method": "animate"
           },
           {
            "args": [
             [
              24
             ],
             {
              "frame": {
               "duration": 100,
               "redraw": false
              },
              "mode": "immediate",
              "transition": {
               "duration": 0
              }
             }
            ],
            "label": "24",
            "method": "animate"
           },
           {
            "args": [
             [
              25
             ],
             {
              "frame": {
               "duration": 100,
               "redraw": false
              },
              "mode": "immediate",
              "transition": {
               "duration": 0
              }
             }
            ],
            "label": "25",
            "method": "animate"
           },
           {
            "args": [
             [
              26
             ],
             {
              "frame": {
               "duration": 100,
               "redraw": false
              },
              "mode": "immediate",
              "transition": {
               "duration": 0
              }
             }
            ],
            "label": "26",
            "method": "animate"
           },
           {
            "args": [
             [
              27
             ],
             {
              "frame": {
               "duration": 100,
               "redraw": false
              },
              "mode": "immediate",
              "transition": {
               "duration": 0
              }
             }
            ],
            "label": "27",
            "method": "animate"
           },
           {
            "args": [
             [
              28
             ],
             {
              "frame": {
               "duration": 100,
               "redraw": false
              },
              "mode": "immediate",
              "transition": {
               "duration": 0
              }
             }
            ],
            "label": "28",
            "method": "animate"
           },
           {
            "args": [
             [
              29
             ],
             {
              "frame": {
               "duration": 100,
               "redraw": false
              },
              "mode": "immediate",
              "transition": {
               "duration": 0
              }
             }
            ],
            "label": "29",
            "method": "animate"
           }
          ],
          "transition": {
           "duration": 300,
           "easing": "cubic-in-out"
          },
          "x": 0.1,
          "xanchor": "left",
          "y": 0,
          "yanchor": "top"
         }
        ],
        "template": {
         "data": {
          "bar": [
           {
            "error_x": {
             "color": "#2a3f5f"
            },
            "error_y": {
             "color": "#2a3f5f"
            },
            "marker": {
             "line": {
              "color": "#E5ECF6",
              "width": 0.5
             },
             "pattern": {
              "fillmode": "overlay",
              "size": 10,
              "solidity": 0.2
             }
            },
            "type": "bar"
           }
          ],
          "barpolar": [
           {
            "marker": {
             "line": {
              "color": "#E5ECF6",
              "width": 0.5
             },
             "pattern": {
              "fillmode": "overlay",
              "size": 10,
              "solidity": 0.2
             }
            },
            "type": "barpolar"
           }
          ],
          "carpet": [
           {
            "aaxis": {
             "endlinecolor": "#2a3f5f",
             "gridcolor": "white",
             "linecolor": "white",
             "minorgridcolor": "white",
             "startlinecolor": "#2a3f5f"
            },
            "baxis": {
             "endlinecolor": "#2a3f5f",
             "gridcolor": "white",
             "linecolor": "white",
             "minorgridcolor": "white",
             "startlinecolor": "#2a3f5f"
            },
            "type": "carpet"
           }
          ],
          "choropleth": [
           {
            "colorbar": {
             "outlinewidth": 0,
             "ticks": ""
            },
            "type": "choropleth"
           }
          ],
          "contour": [
           {
            "colorbar": {
             "outlinewidth": 0,
             "ticks": ""
            },
            "colorscale": [
             [
              0,
              "#0d0887"
             ],
             [
              0.1111111111111111,
              "#46039f"
             ],
             [
              0.2222222222222222,
              "#7201a8"
             ],
             [
              0.3333333333333333,
              "#9c179e"
             ],
             [
              0.4444444444444444,
              "#bd3786"
             ],
             [
              0.5555555555555556,
              "#d8576b"
             ],
             [
              0.6666666666666666,
              "#ed7953"
             ],
             [
              0.7777777777777778,
              "#fb9f3a"
             ],
             [
              0.8888888888888888,
              "#fdca26"
             ],
             [
              1,
              "#f0f921"
             ]
            ],
            "type": "contour"
           }
          ],
          "contourcarpet": [
           {
            "colorbar": {
             "outlinewidth": 0,
             "ticks": ""
            },
            "type": "contourcarpet"
           }
          ],
          "heatmap": [
           {
            "colorbar": {
             "outlinewidth": 0,
             "ticks": ""
            },
            "colorscale": [
             [
              0,
              "#0d0887"
             ],
             [
              0.1111111111111111,
              "#46039f"
             ],
             [
              0.2222222222222222,
              "#7201a8"
             ],
             [
              0.3333333333333333,
              "#9c179e"
             ],
             [
              0.4444444444444444,
              "#bd3786"
             ],
             [
              0.5555555555555556,
              "#d8576b"
             ],
             [
              0.6666666666666666,
              "#ed7953"
             ],
             [
              0.7777777777777778,
              "#fb9f3a"
             ],
             [
              0.8888888888888888,
              "#fdca26"
             ],
             [
              1,
              "#f0f921"
             ]
            ],
            "type": "heatmap"
           }
          ],
          "heatmapgl": [
           {
            "colorbar": {
             "outlinewidth": 0,
             "ticks": ""
            },
            "colorscale": [
             [
              0,
              "#0d0887"
             ],
             [
              0.1111111111111111,
              "#46039f"
             ],
             [
              0.2222222222222222,
              "#7201a8"
             ],
             [
              0.3333333333333333,
              "#9c179e"
             ],
             [
              0.4444444444444444,
              "#bd3786"
             ],
             [
              0.5555555555555556,
              "#d8576b"
             ],
             [
              0.6666666666666666,
              "#ed7953"
             ],
             [
              0.7777777777777778,
              "#fb9f3a"
             ],
             [
              0.8888888888888888,
              "#fdca26"
             ],
             [
              1,
              "#f0f921"
             ]
            ],
            "type": "heatmapgl"
           }
          ],
          "histogram": [
           {
            "marker": {
             "pattern": {
              "fillmode": "overlay",
              "size": 10,
              "solidity": 0.2
             }
            },
            "type": "histogram"
           }
          ],
          "histogram2d": [
           {
            "colorbar": {
             "outlinewidth": 0,
             "ticks": ""
            },
            "colorscale": [
             [
              0,
              "#0d0887"
             ],
             [
              0.1111111111111111,
              "#46039f"
             ],
             [
              0.2222222222222222,
              "#7201a8"
             ],
             [
              0.3333333333333333,
              "#9c179e"
             ],
             [
              0.4444444444444444,
              "#bd3786"
             ],
             [
              0.5555555555555556,
              "#d8576b"
             ],
             [
              0.6666666666666666,
              "#ed7953"
             ],
             [
              0.7777777777777778,
              "#fb9f3a"
             ],
             [
              0.8888888888888888,
              "#fdca26"
             ],
             [
              1,
              "#f0f921"
             ]
            ],
            "type": "histogram2d"
           }
          ],
          "histogram2dcontour": [
           {
            "colorbar": {
             "outlinewidth": 0,
             "ticks": ""
            },
            "colorscale": [
             [
              0,
              "#0d0887"
             ],
             [
              0.1111111111111111,
              "#46039f"
             ],
             [
              0.2222222222222222,
              "#7201a8"
             ],
             [
              0.3333333333333333,
              "#9c179e"
             ],
             [
              0.4444444444444444,
              "#bd3786"
             ],
             [
              0.5555555555555556,
              "#d8576b"
             ],
             [
              0.6666666666666666,
              "#ed7953"
             ],
             [
              0.7777777777777778,
              "#fb9f3a"
             ],
             [
              0.8888888888888888,
              "#fdca26"
             ],
             [
              1,
              "#f0f921"
             ]
            ],
            "type": "histogram2dcontour"
           }
          ],
          "mesh3d": [
           {
            "colorbar": {
             "outlinewidth": 0,
             "ticks": ""
            },
            "type": "mesh3d"
           }
          ],
          "parcoords": [
           {
            "line": {
             "colorbar": {
              "outlinewidth": 0,
              "ticks": ""
             }
            },
            "type": "parcoords"
           }
          ],
          "pie": [
           {
            "automargin": true,
            "type": "pie"
           }
          ],
          "scatter": [
           {
            "fillpattern": {
             "fillmode": "overlay",
             "size": 10,
             "solidity": 0.2
            },
            "type": "scatter"
           }
          ],
          "scatter3d": [
           {
            "line": {
             "colorbar": {
              "outlinewidth": 0,
              "ticks": ""
             }
            },
            "marker": {
             "colorbar": {
              "outlinewidth": 0,
              "ticks": ""
             }
            },
            "type": "scatter3d"
           }
          ],
          "scattercarpet": [
           {
            "marker": {
             "colorbar": {
              "outlinewidth": 0,
              "ticks": ""
             }
            },
            "type": "scattercarpet"
           }
          ],
          "scattergeo": [
           {
            "marker": {
             "colorbar": {
              "outlinewidth": 0,
              "ticks": ""
             }
            },
            "type": "scattergeo"
           }
          ],
          "scattergl": [
           {
            "marker": {
             "colorbar": {
              "outlinewidth": 0,
              "ticks": ""
             }
            },
            "type": "scattergl"
           }
          ],
          "scattermapbox": [
           {
            "marker": {
             "colorbar": {
              "outlinewidth": 0,
              "ticks": ""
             }
            },
            "type": "scattermapbox"
           }
          ],
          "scatterpolar": [
           {
            "marker": {
             "colorbar": {
              "outlinewidth": 0,
              "ticks": ""
             }
            },
            "type": "scatterpolar"
           }
          ],
          "scatterpolargl": [
           {
            "marker": {
             "colorbar": {
              "outlinewidth": 0,
              "ticks": ""
             }
            },
            "type": "scatterpolargl"
           }
          ],
          "scatterternary": [
           {
            "marker": {
             "colorbar": {
              "outlinewidth": 0,
              "ticks": ""
             }
            },
            "type": "scatterternary"
           }
          ],
          "surface": [
           {
            "colorbar": {
             "outlinewidth": 0,
             "ticks": ""
            },
            "colorscale": [
             [
              0,
              "#0d0887"
             ],
             [
              0.1111111111111111,
              "#46039f"
             ],
             [
              0.2222222222222222,
              "#7201a8"
             ],
             [
              0.3333333333333333,
              "#9c179e"
             ],
             [
              0.4444444444444444,
              "#bd3786"
             ],
             [
              0.5555555555555556,
              "#d8576b"
             ],
             [
              0.6666666666666666,
              "#ed7953"
             ],
             [
              0.7777777777777778,
              "#fb9f3a"
             ],
             [
              0.8888888888888888,
              "#fdca26"
             ],
             [
              1,
              "#f0f921"
             ]
            ],
            "type": "surface"
           }
          ],
          "table": [
           {
            "cells": {
             "fill": {
              "color": "#EBF0F8"
             },
             "line": {
              "color": "white"
             }
            },
            "header": {
             "fill": {
              "color": "#C8D4E3"
             },
             "line": {
              "color": "white"
             }
            },
            "type": "table"
           }
          ]
         },
         "layout": {
          "annotationdefaults": {
           "arrowcolor": "#2a3f5f",
           "arrowhead": 0,
           "arrowwidth": 1
          },
          "autotypenumbers": "strict",
          "coloraxis": {
           "colorbar": {
            "outlinewidth": 0,
            "ticks": ""
           }
          },
          "colorscale": {
           "diverging": [
            [
             0,
             "#8e0152"
            ],
            [
             0.1,
             "#c51b7d"
            ],
            [
             0.2,
             "#de77ae"
            ],
            [
             0.3,
             "#f1b6da"
            ],
            [
             0.4,
             "#fde0ef"
            ],
            [
             0.5,
             "#f7f7f7"
            ],
            [
             0.6,
             "#e6f5d0"
            ],
            [
             0.7,
             "#b8e186"
            ],
            [
             0.8,
             "#7fbc41"
            ],
            [
             0.9,
             "#4d9221"
            ],
            [
             1,
             "#276419"
            ]
           ],
           "sequential": [
            [
             0,
             "#0d0887"
            ],
            [
             0.1111111111111111,
             "#46039f"
            ],
            [
             0.2222222222222222,
             "#7201a8"
            ],
            [
             0.3333333333333333,
             "#9c179e"
            ],
            [
             0.4444444444444444,
             "#bd3786"
            ],
            [
             0.5555555555555556,
             "#d8576b"
            ],
            [
             0.6666666666666666,
             "#ed7953"
            ],
            [
             0.7777777777777778,
             "#fb9f3a"
            ],
            [
             0.8888888888888888,
             "#fdca26"
            ],
            [
             1,
             "#f0f921"
            ]
           ],
           "sequentialminus": [
            [
             0,
             "#0d0887"
            ],
            [
             0.1111111111111111,
             "#46039f"
            ],
            [
             0.2222222222222222,
             "#7201a8"
            ],
            [
             0.3333333333333333,
             "#9c179e"
            ],
            [
             0.4444444444444444,
             "#bd3786"
            ],
            [
             0.5555555555555556,
             "#d8576b"
            ],
            [
             0.6666666666666666,
             "#ed7953"
            ],
            [
             0.7777777777777778,
             "#fb9f3a"
            ],
            [
             0.8888888888888888,
             "#fdca26"
            ],
            [
             1,
             "#f0f921"
            ]
           ]
          },
          "colorway": [
           "#636efa",
           "#EF553B",
           "#00cc96",
           "#ab63fa",
           "#FFA15A",
           "#19d3f3",
           "#FF6692",
           "#B6E880",
           "#FF97FF",
           "#FECB52"
          ],
          "font": {
           "color": "#2a3f5f"
          },
          "geo": {
           "bgcolor": "white",
           "lakecolor": "white",
           "landcolor": "#E5ECF6",
           "showlakes": true,
           "showland": true,
           "subunitcolor": "white"
          },
          "hoverlabel": {
           "align": "left"
          },
          "hovermode": "closest",
          "mapbox": {
           "style": "light"
          },
          "paper_bgcolor": "white",
          "plot_bgcolor": "#E5ECF6",
          "polar": {
           "angularaxis": {
            "gridcolor": "white",
            "linecolor": "white",
            "ticks": ""
           },
           "bgcolor": "#E5ECF6",
           "radialaxis": {
            "gridcolor": "white",
            "linecolor": "white",
            "ticks": ""
           }
          },
          "scene": {
           "xaxis": {
            "backgroundcolor": "#E5ECF6",
            "gridcolor": "white",
            "gridwidth": 2,
            "linecolor": "white",
            "showbackground": true,
            "ticks": "",
            "zerolinecolor": "white"
           },
           "yaxis": {
            "backgroundcolor": "#E5ECF6",
            "gridcolor": "white",
            "gridwidth": 2,
            "linecolor": "white",
            "showbackground": true,
            "ticks": "",
            "zerolinecolor": "white"
           },
           "zaxis": {
            "backgroundcolor": "#E5ECF6",
            "gridcolor": "white",
            "gridwidth": 2,
            "linecolor": "white",
            "showbackground": true,
            "ticks": "",
            "zerolinecolor": "white"
           }
          },
          "shapedefaults": {
           "line": {
            "color": "#2a3f5f"
           }
          },
          "ternary": {
           "aaxis": {
            "gridcolor": "white",
            "linecolor": "white",
            "ticks": ""
           },
           "baxis": {
            "gridcolor": "white",
            "linecolor": "white",
            "ticks": ""
           },
           "bgcolor": "#E5ECF6",
           "caxis": {
            "gridcolor": "white",
            "linecolor": "white",
            "ticks": ""
           }
          },
          "title": {
           "x": 0.05
          },
          "xaxis": {
           "automargin": true,
           "gridcolor": "white",
           "linecolor": "white",
           "ticks": "",
           "title": {
            "standoff": 15
           },
           "zerolinecolor": "white",
           "zerolinewidth": 2
          },
          "yaxis": {
           "automargin": true,
           "gridcolor": "white",
           "linecolor": "white",
           "ticks": "",
           "title": {
            "standoff": 15
           },
           "zerolinecolor": "white",
           "zerolinewidth": 2
          }
         }
        },
        "title": {
         "text": "GameId: 2021090900, PlayId: 3306<br>03:26 3Q<br><br><br><br><br><br><br><br><br><br><br><br><br><br><br><br><br><br><br>(3:26) (Shotgun) D.Prescott pass short right to C.Lamb to TB 33 for 9 yards (R.Cockrell)."
        },
        "updatemenus": [
         {
          "buttons": [
           {
            "args": [
             null,
             {
              "frame": {
               "duration": 100,
               "redraw": false
              },
              "fromcurrent": true,
              "transition": {
               "duration": 0
              }
             }
            ],
            "label": "Play",
            "method": "animate"
           },
           {
            "args": [
             [
              null
             ],
             {
              "frame": {
               "duration": 0,
               "redraw": false
              },
              "mode": "immediate",
              "transition": {
               "duration": 0
              }
             }
            ],
            "label": "Pause",
            "method": "animate"
           }
          ],
          "direction": "left",
          "pad": {
           "r": 10,
           "t": 87
          },
          "showactive": false,
          "type": "buttons",
          "x": 0.1,
          "xanchor": "right",
          "y": 0,
          "yanchor": "top"
         }
        ],
        "width": 1200,
        "xaxis": {
         "autorange": false,
         "range": [
          0,
          120
         ],
         "showticklabels": false,
         "tickmode": "array",
         "tickvals": [
          10,
          15,
          20,
          25,
          30,
          35,
          40,
          45,
          50,
          55,
          60,
          65,
          70,
          75,
          80,
          85,
          90,
          95,
          100,
          105,
          110
         ]
        },
        "yaxis": {
         "autorange": false,
         "range": [
          0,
          53.3
         ],
         "showgrid": false,
         "showticklabels": false
        }
       }
      }
     },
     "metadata": {},
     "output_type": "display_data"
    }
   ],
   "source": [
    "playId_num = 3306\n",
    "gameId = 2021090900\n",
    "animate_play(week1, plays, players, pffScoutingData, gameId, playId_num).show()"
   ]
  },
  {
   "cell_type": "markdown",
   "metadata": {},
   "source": [
    " ### Write to Excel"
   ]
  },
  {
   "cell_type": "code",
   "execution_count": 112,
   "metadata": {},
   "outputs": [],
   "source": [
    "full_df.to_excel(r\".\\output\\full_df.xlsx\", sheet_name='grades')\n",
    "full_all_player_df.to_excel(r\".\\output\\full_all_player_df.xlsx\", sheet_name='indy_scores')"
   ]
  },
  {
   "cell_type": "code",
   "execution_count": 76,
   "metadata": {},
   "outputs": [
    {
     "data": {
      "text/plain": [
       "Index(['gameId', 'playId', 'nflId', 'pff_role', 'pff_positionLinedUp',\n",
       "       'pff_hit', 'pff_hurry', 'pff_sack', 'pff_beatenByDefender',\n",
       "       'pff_hitAllowed', 'pff_hurryAllowed', 'pff_sackAllowed',\n",
       "       'pff_nflIdBlockedPlayer', 'pff_blockType', 'pff_backFieldBlock'],\n",
       "      dtype='object')"
      ]
     },
     "execution_count": 76,
     "metadata": {},
     "output_type": "execute_result"
    }
   ],
   "source": [
    "pffScoutingData.columns"
   ]
  },
  {
   "cell_type": "code",
   "execution_count": 77,
   "metadata": {},
   "outputs": [
    {
     "name": "stdout",
     "output_type": "stream",
     "text": [
      "(188254, 15)\n"
     ]
    },
    {
     "data": {
      "text/html": [
       "<div>\n",
       "<style scoped>\n",
       "    .dataframe tbody tr th:only-of-type {\n",
       "        vertical-align: middle;\n",
       "    }\n",
       "\n",
       "    .dataframe tbody tr th {\n",
       "        vertical-align: top;\n",
       "    }\n",
       "\n",
       "    .dataframe thead th {\n",
       "        text-align: right;\n",
       "    }\n",
       "</style>\n",
       "<table border=\"1\" class=\"dataframe\">\n",
       "  <thead>\n",
       "    <tr style=\"text-align: right;\">\n",
       "      <th></th>\n",
       "      <th>gameId</th>\n",
       "      <th>playId</th>\n",
       "      <th>nflId_def</th>\n",
       "      <th>pff_hit</th>\n",
       "      <th>pff_hurry</th>\n",
       "      <th>pff_sack</th>\n",
       "    </tr>\n",
       "  </thead>\n",
       "  <tbody>\n",
       "    <tr>\n",
       "      <th>0</th>\n",
       "      <td>2021090900</td>\n",
       "      <td>97</td>\n",
       "      <td>41263</td>\n",
       "      <td>0.0</td>\n",
       "      <td>1.0</td>\n",
       "      <td>0.0</td>\n",
       "    </tr>\n",
       "    <tr>\n",
       "      <th>1</th>\n",
       "      <td>2021090900</td>\n",
       "      <td>97</td>\n",
       "      <td>42403</td>\n",
       "      <td>0.0</td>\n",
       "      <td>1.0</td>\n",
       "      <td>0.0</td>\n",
       "    </tr>\n",
       "    <tr>\n",
       "      <th>2</th>\n",
       "      <td>2021090900</td>\n",
       "      <td>97</td>\n",
       "      <td>53441</td>\n",
       "      <td>0.0</td>\n",
       "      <td>1.0</td>\n",
       "      <td>0.0</td>\n",
       "    </tr>\n",
       "    <tr>\n",
       "      <th>3</th>\n",
       "      <td>2021090900</td>\n",
       "      <td>97</td>\n",
       "      <td>53504</td>\n",
       "      <td>0.0</td>\n",
       "      <td>1.0</td>\n",
       "      <td>0.0</td>\n",
       "    </tr>\n",
       "    <tr>\n",
       "      <th>4</th>\n",
       "      <td>2021090900</td>\n",
       "      <td>349</td>\n",
       "      <td>38588</td>\n",
       "      <td>1.0</td>\n",
       "      <td>0.0</td>\n",
       "      <td>0.0</td>\n",
       "    </tr>\n",
       "  </tbody>\n",
       "</table>\n",
       "</div>"
      ],
      "text/plain": [
       "       gameId  playId  nflId_def  pff_hit  pff_hurry  pff_sack\n",
       "0  2021090900      97      41263      0.0        1.0       0.0\n",
       "1  2021090900      97      42403      0.0        1.0       0.0\n",
       "2  2021090900      97      53441      0.0        1.0       0.0\n",
       "3  2021090900      97      53504      0.0        1.0       0.0\n",
       "4  2021090900     349      38588      1.0        0.0       0.0"
      ]
     },
     "execution_count": 77,
     "metadata": {},
     "output_type": "execute_result"
    }
   ],
   "source": [
    "# pffScoutingData.columns\n",
    "pffScoutingData_vip_cols = ['pff_beatenByDefender', 'pff_hitAllowed', 'pff_hurryAllowed', 'pff_sackAllowed']\n",
    "pffScoutingData_vip_cols = ['pff_hit', 'pff_hurry', 'pff_sack']\n",
    "\n",
    "pff_sub = pffScoutingData.loc[pffScoutingData[pffScoutingData_vip_cols].gt(0).any(1)]\n",
    "print(pffScoutingData.shape)\n",
    "\n",
    "pff_needed_cols = [\"gameId\", \"playId\", \"nflId\"] + pffScoutingData_vip_cols\n",
    "pff_sub = pff_sub[pff_needed_cols]\n",
    "pff_sub = pff_sub[pff_sub.gameId == 2021090900].reset_index(drop=True)\n",
    "\n",
    "# pff_sub.rename(columns={\"nflId\": \"nflId_off\"}, inplace = True)\n",
    "pff_sub.rename(columns={\"nflId\": \"nflId_def\"}, inplace = True)\n",
    "\n",
    "pff_sub.head()"
   ]
  },
  {
   "cell_type": "code",
   "execution_count": 78,
   "metadata": {},
   "outputs": [
    {
     "data": {
      "text/html": [
       "<div>\n",
       "<style scoped>\n",
       "    .dataframe tbody tr th:only-of-type {\n",
       "        vertical-align: middle;\n",
       "    }\n",
       "\n",
       "    .dataframe tbody tr th {\n",
       "        vertical-align: top;\n",
       "    }\n",
       "\n",
       "    .dataframe thead th {\n",
       "        text-align: right;\n",
       "    }\n",
       "</style>\n",
       "<table border=\"1\" class=\"dataframe\">\n",
       "  <thead>\n",
       "    <tr style=\"text-align: right;\">\n",
       "      <th></th>\n",
       "      <th>nflId</th>\n",
       "      <th>playId</th>\n",
       "      <th>x</th>\n",
       "      <th>y</th>\n",
       "      <th>frameId</th>\n",
       "      <th>displayName</th>\n",
       "      <th>nflId_off</th>\n",
       "      <th>pff_blockType</th>\n",
       "      <th>pff_nflIdBlockedPlayer</th>\n",
       "      <th>x_off</th>\n",
       "      <th>...</th>\n",
       "      <th>x_def</th>\n",
       "      <th>y_def</th>\n",
       "      <th>displayName_def</th>\n",
       "      <th>off_qb_dist</th>\n",
       "      <th>def_qb_dist</th>\n",
       "      <th>line_diff</th>\n",
       "      <th>gameId</th>\n",
       "      <th>pff_hit</th>\n",
       "      <th>pff_hurry</th>\n",
       "      <th>pff_sack</th>\n",
       "    </tr>\n",
       "  </thead>\n",
       "  <tbody>\n",
       "    <tr>\n",
       "      <th>0</th>\n",
       "      <td>25511.0</td>\n",
       "      <td>97</td>\n",
       "      <td>33.77</td>\n",
       "      <td>23.43</td>\n",
       "      <td>30</td>\n",
       "      <td>Tom Brady</td>\n",
       "      <td>46163.0</td>\n",
       "      <td>SW</td>\n",
       "      <td>53441.0</td>\n",
       "      <td>37.38</td>\n",
       "      <td>...</td>\n",
       "      <td>37.09</td>\n",
       "      <td>22.84</td>\n",
       "      <td>Micah Parsons</td>\n",
       "      <td>3.633208</td>\n",
       "      <td>3.372017</td>\n",
       "      <td>0.261191</td>\n",
       "      <td>2.021091e+09</td>\n",
       "      <td>0.0</td>\n",
       "      <td>1.0</td>\n",
       "      <td>0.0</td>\n",
       "    </tr>\n",
       "    <tr>\n",
       "      <th>1</th>\n",
       "      <td>25511.0</td>\n",
       "      <td>97</td>\n",
       "      <td>33.77</td>\n",
       "      <td>23.43</td>\n",
       "      <td>30</td>\n",
       "      <td>Tom Brady</td>\n",
       "      <td>52421.0</td>\n",
       "      <td>PP</td>\n",
       "      <td>53441.0</td>\n",
       "      <td>37.20</td>\n",
       "      <td>...</td>\n",
       "      <td>36.98</td>\n",
       "      <td>24.29</td>\n",
       "      <td>Demarcus Lawrence</td>\n",
       "      <td>3.650671</td>\n",
       "      <td>3.323206</td>\n",
       "      <td>0.327465</td>\n",
       "      <td>2.021091e+09</td>\n",
       "      <td>0.0</td>\n",
       "      <td>1.0</td>\n",
       "      <td>0.0</td>\n",
       "    </tr>\n",
       "    <tr>\n",
       "      <th>2</th>\n",
       "      <td>43424.0</td>\n",
       "      <td>349</td>\n",
       "      <td>63.49</td>\n",
       "      <td>28.76</td>\n",
       "      <td>30</td>\n",
       "      <td>Dak Prescott</td>\n",
       "      <td>43293.0</td>\n",
       "      <td>PU</td>\n",
       "      <td>38588.0</td>\n",
       "      <td>61.39</td>\n",
       "      <td>...</td>\n",
       "      <td>62.57</td>\n",
       "      <td>30.13</td>\n",
       "      <td>Lavonte David</td>\n",
       "      <td>3.034156</td>\n",
       "      <td>1.650242</td>\n",
       "      <td>1.383913</td>\n",
       "      <td>2.021091e+09</td>\n",
       "      <td>1.0</td>\n",
       "      <td>0.0</td>\n",
       "      <td>0.0</td>\n",
       "    </tr>\n",
       "    <tr>\n",
       "      <th>3</th>\n",
       "      <td>43424.0</td>\n",
       "      <td>349</td>\n",
       "      <td>63.49</td>\n",
       "      <td>28.76</td>\n",
       "      <td>30</td>\n",
       "      <td>Dak Prescott</td>\n",
       "      <td>46206.0</td>\n",
       "      <td>CH</td>\n",
       "      <td>41915.0</td>\n",
       "      <td>52.19</td>\n",
       "      <td>...</td>\n",
       "      <td>62.00</td>\n",
       "      <td>33.59</td>\n",
       "      <td>Ndamukong Suh</td>\n",
       "      <td>13.436625</td>\n",
       "      <td>5.054602</td>\n",
       "      <td>8.382023</td>\n",
       "      <td>NaN</td>\n",
       "      <td>NaN</td>\n",
       "      <td>NaN</td>\n",
       "      <td>NaN</td>\n",
       "    </tr>\n",
       "    <tr>\n",
       "      <th>4</th>\n",
       "      <td>25511.0</td>\n",
       "      <td>434</td>\n",
       "      <td>23.62</td>\n",
       "      <td>27.81</td>\n",
       "      <td>27</td>\n",
       "      <td>Tom Brady</td>\n",
       "      <td>46163.0</td>\n",
       "      <td>PP</td>\n",
       "      <td>44955.0</td>\n",
       "      <td>26.27</td>\n",
       "      <td>...</td>\n",
       "      <td>23.37</td>\n",
       "      <td>23.24</td>\n",
       "      <td>Demarcus Lawrence</td>\n",
       "      <td>5.033975</td>\n",
       "      <td>4.576833</td>\n",
       "      <td>0.457142</td>\n",
       "      <td>NaN</td>\n",
       "      <td>NaN</td>\n",
       "      <td>NaN</td>\n",
       "      <td>NaN</td>\n",
       "    </tr>\n",
       "    <tr>\n",
       "      <th>5</th>\n",
       "      <td>25511.0</td>\n",
       "      <td>559</td>\n",
       "      <td>88.94</td>\n",
       "      <td>28.88</td>\n",
       "      <td>27</td>\n",
       "      <td>Tom Brady</td>\n",
       "      <td>42404.0</td>\n",
       "      <td>PP</td>\n",
       "      <td>53504.0</td>\n",
       "      <td>94.14</td>\n",
       "      <td>...</td>\n",
       "      <td>93.53</td>\n",
       "      <td>28.02</td>\n",
       "      <td>Osa Odighizuwa</td>\n",
       "      <td>5.221197</td>\n",
       "      <td>4.669872</td>\n",
       "      <td>0.551326</td>\n",
       "      <td>NaN</td>\n",
       "      <td>NaN</td>\n",
       "      <td>NaN</td>\n",
       "      <td>NaN</td>\n",
       "    </tr>\n",
       "    <tr>\n",
       "      <th>6</th>\n",
       "      <td>25511.0</td>\n",
       "      <td>583</td>\n",
       "      <td>99.97</td>\n",
       "      <td>23.80</td>\n",
       "      <td>27</td>\n",
       "      <td>Tom Brady</td>\n",
       "      <td>35481.0</td>\n",
       "      <td>PA</td>\n",
       "      <td>41263.0</td>\n",
       "      <td>101.97</td>\n",
       "      <td>...</td>\n",
       "      <td>100.00</td>\n",
       "      <td>19.90</td>\n",
       "      <td>Demarcus Lawrence</td>\n",
       "      <td>4.232363</td>\n",
       "      <td>3.900115</td>\n",
       "      <td>0.332248</td>\n",
       "      <td>NaN</td>\n",
       "      <td>NaN</td>\n",
       "      <td>NaN</td>\n",
       "      <td>NaN</td>\n",
       "    </tr>\n",
       "    <tr>\n",
       "      <th>7</th>\n",
       "      <td>43424.0</td>\n",
       "      <td>764</td>\n",
       "      <td>46.35</td>\n",
       "      <td>28.71</td>\n",
       "      <td>27</td>\n",
       "      <td>Dak Prescott</td>\n",
       "      <td>37082.0</td>\n",
       "      <td>PA</td>\n",
       "      <td>35454.0</td>\n",
       "      <td>42.86</td>\n",
       "      <td>...</td>\n",
       "      <td>43.78</td>\n",
       "      <td>22.38</td>\n",
       "      <td>Jason Pierre-Paul</td>\n",
       "      <td>7.272173</td>\n",
       "      <td>6.831823</td>\n",
       "      <td>0.440350</td>\n",
       "      <td>NaN</td>\n",
       "      <td>NaN</td>\n",
       "      <td>NaN</td>\n",
       "      <td>NaN</td>\n",
       "    </tr>\n",
       "    <tr>\n",
       "      <th>8</th>\n",
       "      <td>43424.0</td>\n",
       "      <td>764</td>\n",
       "      <td>46.35</td>\n",
       "      <td>28.71</td>\n",
       "      <td>27</td>\n",
       "      <td>Dak Prescott</td>\n",
       "      <td>45532.0</td>\n",
       "      <td>SR</td>\n",
       "      <td>53461.0</td>\n",
       "      <td>39.27</td>\n",
       "      <td>...</td>\n",
       "      <td>40.63</td>\n",
       "      <td>31.15</td>\n",
       "      <td>Joe Tryon</td>\n",
       "      <td>9.083089</td>\n",
       "      <td>6.218682</td>\n",
       "      <td>2.864407</td>\n",
       "      <td>NaN</td>\n",
       "      <td>NaN</td>\n",
       "      <td>NaN</td>\n",
       "      <td>NaN</td>\n",
       "    </tr>\n",
       "    <tr>\n",
       "      <th>9</th>\n",
       "      <td>25511.0</td>\n",
       "      <td>1312</td>\n",
       "      <td>19.66</td>\n",
       "      <td>31.15</td>\n",
       "      <td>24</td>\n",
       "      <td>Tom Brady</td>\n",
       "      <td>52421.0</td>\n",
       "      <td>PA</td>\n",
       "      <td>41363.0</td>\n",
       "      <td>14.76</td>\n",
       "      <td>...</td>\n",
       "      <td>14.91</td>\n",
       "      <td>30.68</td>\n",
       "      <td>Brent Urban</td>\n",
       "      <td>5.026370</td>\n",
       "      <td>4.773196</td>\n",
       "      <td>0.253174</td>\n",
       "      <td>NaN</td>\n",
       "      <td>NaN</td>\n",
       "      <td>NaN</td>\n",
       "      <td>NaN</td>\n",
       "    </tr>\n",
       "  </tbody>\n",
       "</table>\n",
       "<p>10 rows × 24 columns</p>\n",
       "</div>"
      ],
      "text/plain": [
       "     nflId  playId      x      y  frameId   displayName  nflId_off  \\\n",
       "0  25511.0      97  33.77  23.43       30     Tom Brady    46163.0   \n",
       "1  25511.0      97  33.77  23.43       30     Tom Brady    52421.0   \n",
       "2  43424.0     349  63.49  28.76       30  Dak Prescott    43293.0   \n",
       "3  43424.0     349  63.49  28.76       30  Dak Prescott    46206.0   \n",
       "4  25511.0     434  23.62  27.81       27     Tom Brady    46163.0   \n",
       "5  25511.0     559  88.94  28.88       27     Tom Brady    42404.0   \n",
       "6  25511.0     583  99.97  23.80       27     Tom Brady    35481.0   \n",
       "7  43424.0     764  46.35  28.71       27  Dak Prescott    37082.0   \n",
       "8  43424.0     764  46.35  28.71       27  Dak Prescott    45532.0   \n",
       "9  25511.0    1312  19.66  31.15       24     Tom Brady    52421.0   \n",
       "\n",
       "  pff_blockType  pff_nflIdBlockedPlayer   x_off  ...   x_def  y_def  \\\n",
       "0            SW                 53441.0   37.38  ...   37.09  22.84   \n",
       "1            PP                 53441.0   37.20  ...   36.98  24.29   \n",
       "2            PU                 38588.0   61.39  ...   62.57  30.13   \n",
       "3            CH                 41915.0   52.19  ...   62.00  33.59   \n",
       "4            PP                 44955.0   26.27  ...   23.37  23.24   \n",
       "5            PP                 53504.0   94.14  ...   93.53  28.02   \n",
       "6            PA                 41263.0  101.97  ...  100.00  19.90   \n",
       "7            PA                 35454.0   42.86  ...   43.78  22.38   \n",
       "8            SR                 53461.0   39.27  ...   40.63  31.15   \n",
       "9            PA                 41363.0   14.76  ...   14.91  30.68   \n",
       "\n",
       "     displayName_def  off_qb_dist  def_qb_dist  line_diff        gameId  \\\n",
       "0      Micah Parsons     3.633208     3.372017   0.261191  2.021091e+09   \n",
       "1  Demarcus Lawrence     3.650671     3.323206   0.327465  2.021091e+09   \n",
       "2      Lavonte David     3.034156     1.650242   1.383913  2.021091e+09   \n",
       "3      Ndamukong Suh    13.436625     5.054602   8.382023           NaN   \n",
       "4  Demarcus Lawrence     5.033975     4.576833   0.457142           NaN   \n",
       "5     Osa Odighizuwa     5.221197     4.669872   0.551326           NaN   \n",
       "6  Demarcus Lawrence     4.232363     3.900115   0.332248           NaN   \n",
       "7  Jason Pierre-Paul     7.272173     6.831823   0.440350           NaN   \n",
       "8          Joe Tryon     9.083089     6.218682   2.864407           NaN   \n",
       "9        Brent Urban     5.026370     4.773196   0.253174           NaN   \n",
       "\n",
       "   pff_hit  pff_hurry  pff_sack  \n",
       "0      0.0        1.0       0.0  \n",
       "1      0.0        1.0       0.0  \n",
       "2      1.0        0.0       0.0  \n",
       "3      NaN        NaN       NaN  \n",
       "4      NaN        NaN       NaN  \n",
       "5      NaN        NaN       NaN  \n",
       "6      NaN        NaN       NaN  \n",
       "7      NaN        NaN       NaN  \n",
       "8      NaN        NaN       NaN  \n",
       "9      NaN        NaN       NaN  \n",
       "\n",
       "[10 rows x 24 columns]"
      ]
     },
     "execution_count": 78,
     "metadata": {},
     "output_type": "execute_result"
    }
   ],
   "source": [
    "# joined_all = pd.merge(full_df, pff_sub, how=\"left\", on = [\"nflId_off\",\"playId\"])\n",
    "joined_all = pd.merge(full_df, pff_sub, how=\"left\", on = [\"nflId_def\",\"playId\"])\n",
    "joined_all.head(10)"
   ]
  },
  {
   "cell_type": "code",
   "execution_count": 79,
   "metadata": {},
   "outputs": [
    {
     "data": {
      "text/html": [
       "<div>\n",
       "<style scoped>\n",
       "    .dataframe tbody tr th:only-of-type {\n",
       "        vertical-align: middle;\n",
       "    }\n",
       "\n",
       "    .dataframe tbody tr th {\n",
       "        vertical-align: top;\n",
       "    }\n",
       "\n",
       "    .dataframe thead th {\n",
       "        text-align: right;\n",
       "    }\n",
       "</style>\n",
       "<table border=\"1\" class=\"dataframe\">\n",
       "  <thead>\n",
       "    <tr style=\"text-align: right;\">\n",
       "      <th></th>\n",
       "      <th>nflId</th>\n",
       "      <th>playId</th>\n",
       "      <th>x</th>\n",
       "      <th>y</th>\n",
       "      <th>frameId</th>\n",
       "      <th>displayName</th>\n",
       "      <th>nflId_off</th>\n",
       "      <th>pff_blockType</th>\n",
       "      <th>pff_nflIdBlockedPlayer</th>\n",
       "      <th>x_off</th>\n",
       "      <th>y_off</th>\n",
       "      <th>displayName_off</th>\n",
       "      <th>adj_BlockedPlayer</th>\n",
       "      <th>nflId_def</th>\n",
       "      <th>x_def</th>\n",
       "      <th>y_def</th>\n",
       "      <th>displayName_def</th>\n",
       "      <th>off_qb_dist</th>\n",
       "      <th>def_qb_dist</th>\n",
       "      <th>line_diff</th>\n",
       "    </tr>\n",
       "  </thead>\n",
       "  <tbody>\n",
       "    <tr>\n",
       "      <th>1</th>\n",
       "      <td>43424.0</td>\n",
       "      <td>2233</td>\n",
       "      <td>70.49</td>\n",
       "      <td>29.84</td>\n",
       "      <td>24</td>\n",
       "      <td>Dak Prescott</td>\n",
       "      <td>42654.0</td>\n",
       "      <td>PP</td>\n",
       "      <td>41915.0</td>\n",
       "      <td>74.73</td>\n",
       "      <td>25.02</td>\n",
       "      <td>La'el Collins</td>\n",
       "      <td>41915.0</td>\n",
       "      <td>41915.0</td>\n",
       "      <td>73.6</td>\n",
       "      <td>24.46</td>\n",
       "      <td>Shaquil Barrett</td>\n",
       "      <td>6.419502</td>\n",
       "      <td>6.214218</td>\n",
       "      <td>0.205284</td>\n",
       "    </tr>\n",
       "  </tbody>\n",
       "</table>\n",
       "</div>"
      ],
      "text/plain": [
       "     nflId  playId      x      y  frameId   displayName  nflId_off  \\\n",
       "1  43424.0    2233  70.49  29.84       24  Dak Prescott    42654.0   \n",
       "\n",
       "  pff_blockType  pff_nflIdBlockedPlayer  x_off  y_off displayName_off  \\\n",
       "1            PP                 41915.0  74.73  25.02   La'el Collins   \n",
       "\n",
       "   adj_BlockedPlayer  nflId_def  x_def  y_def  displayName_def  off_qb_dist  \\\n",
       "1            41915.0    41915.0   73.6  24.46  Shaquil Barrett     6.419502   \n",
       "\n",
       "   def_qb_dist  line_diff  \n",
       "1     6.214218   0.205284  "
      ]
     },
     "execution_count": 79,
     "metadata": {},
     "output_type": "execute_result"
    }
   ],
   "source": [
    "list_num = 41\n",
    "all_df_list[list_num][all_df_list[list_num].line_diff > -.05]"
   ]
  },
  {
   "cell_type": "code",
   "execution_count": 80,
   "metadata": {},
   "outputs": [
    {
     "data": {
      "text/plain": [
       "None                         1028537\n",
       "ball_snap                      26956\n",
       "pass_forward                   24127\n",
       "autoevent_ballsnap             13455\n",
       "autoevent_passforward          12627\n",
       "play_action                     5382\n",
       "qb_sack                         1334\n",
       "run                             1219\n",
       "pass_arrived                    1150\n",
       "autoevent_passinterrupted        690\n",
       "man_in_motion                    598\n",
       "line_set                         552\n",
       "shift                            437\n",
       "pass_tipped                      299\n",
       "first_contact                    230\n",
       "qb_strip_sack                    184\n",
       "pass_outcome_incomplete          138\n",
       "pass_outcome_caught               69\n",
       "fumble                            46\n",
       "fumble_offense_recovered          23\n",
       "huddle_break_offense              23\n",
       "lateral                           23\n",
       "handoff                           23\n",
       "Name: event, dtype: int64"
      ]
     },
     "execution_count": 80,
     "metadata": {},
     "output_type": "execute_result"
    }
   ],
   "source": [
    "week1.event.value_counts()"
   ]
  },
  {
   "cell_type": "code",
   "execution_count": 81,
   "metadata": {},
   "outputs": [],
   "source": [
    "# week1[week1.event == 'first_contact'].iloc[:, :4].drop_duplicates(subset=['playId'])"
   ]
  },
  {
   "cell_type": "code",
   "execution_count": 83,
   "metadata": {},
   "outputs": [
    {
     "data": {
      "application/vnd.plotly.v1+json": {
       "config": {
        "plotlyServerURL": "https://plot.ly"
       },
       "data": [
        {
         "hoverinfo": "none",
         "mode": "text",
         "showlegend": false,
         "text": [
          "10",
          "20",
          "30",
          "40",
          "50",
          "40",
          "30",
          "20",
          "10"
         ],
         "textfont": {
          "color": "#ffffff",
          "family": "Courier New, monospace",
          "size": 30
         },
         "type": "scatter",
         "x": [
          20,
          30,
          40,
          50,
          60,
          70,
          80,
          90,
          100
         ],
         "y": [
          5,
          5,
          5,
          5,
          5,
          5,
          5,
          5,
          5
         ]
        },
        {
         "hoverinfo": "none",
         "mode": "text",
         "showlegend": false,
         "text": [
          "10",
          "20",
          "30",
          "40",
          "50",
          "40",
          "30",
          "20",
          "10"
         ],
         "textfont": {
          "color": "#ffffff",
          "family": "Courier New, monospace",
          "size": 30
         },
         "type": "scatter",
         "x": [
          20,
          30,
          40,
          50,
          60,
          70,
          80,
          90,
          100
         ],
         "y": [
          48.5,
          48.5,
          48.5,
          48.5,
          48.5,
          48.5,
          48.5,
          48.5,
          48.5
         ]
        },
        {
         "hoverinfo": "none",
         "line": {
          "color": "blue",
          "dash": "dash"
         },
         "showlegend": false,
         "type": "scatter",
         "x": [
          60,
          60
         ],
         "y": [
          0,
          53.5
         ]
        },
        {
         "hoverinfo": "none",
         "line": {
          "color": "yellow",
          "dash": "dash"
         },
         "showlegend": false,
         "type": "scatter",
         "x": [
          70,
          70
         ],
         "y": [
          0,
          53.5
         ]
        },
        {
         "hoverinfo": "text",
         "hovertext": [
          "nflId:25511.0<br>displayName:Tom Brady<br>Position:QB<br>Role:Pass",
          "nflId:35634.0<br>displayName:Antonio Brown<br>Position:SLWR<br>Role:Pass Route",
          "nflId:39985.0<br>displayName:Giovani Bernard<br>Position:HB-R<br>Role:Pass Route",
          "nflId:40151.0<br>displayName:Ryan Jensen<br>Position:C<br>Role:Pass Block",
          "nflId:41233.0<br>displayName:Mike Evans<br>Position:SRWR<br>Role:Pass Route",
          "nflId:42377.0<br>displayName:Donovan Smith<br>Position:LT<br>Role:Pass Block",
          "nflId:42404.0<br>displayName:Ali Marpet<br>Position:LG<br>Role:Pass Block",
          "nflId:44896.0<br>displayName:Chris Godwin<br>Position:LWR<br>Role:Pass Route",
          "nflId:46163.0<br>displayName:Alex Cappa<br>Position:RG<br>Role:Pass Block",
          "nflId:52421.0<br>displayName:Tristan Wirfs<br>Position:RT<br>Role:Pass Block",
          "nflId:52569.0<br>displayName:Tyler Johnson<br>Position:RWR<br>Role:Pass Route"
         ],
         "marker": {
          "color": "#D50A0A"
         },
         "mode": "markers",
         "name": "TB",
         "type": "scatter",
         "x": [
          65.41,
          60.48,
          65.49,
          60.75,
          60.99,
          61.69,
          61.51,
          61.99,
          61.48,
          61.83,
          62.09
         ],
         "y": [
          29.81,
          14.34,
          32.37,
          29.89,
          41.28,
          26.74,
          28.36,
          12.19,
          31.23,
          32.57,
          42.73
         ]
        },
        {
         "hoverinfo": "text",
         "hovertext": [
          "nflId:41263.0<br>displayName:Demarcus Lawrence<br>Position:NLT<br>Role:Pass Rush",
          "nflId:42403.0<br>displayName:Randy Gregory<br>Position:ROLB<br>Role:Pass Rush",
          "nflId:43306.0<br>displayName:Keanu Neal<br>Position:LLB<br>Role:Coverage",
          "nflId:43478.0<br>displayName:Anthony Brown<br>Position:RCB<br>Role:Coverage",
          "nflId:43498.0<br>displayName:Maurice Canady<br>Position:SCBL<br>Role:Coverage",
          "nflId:43533.0<br>displayName:Jayron Kearse<br>Position:FS<br>Role:Coverage",
          "nflId:44904.0<br>displayName:Jourdan Lewis<br>Position:SCBR<br>Role:Coverage",
          "nflId:44962.0<br>displayName:Damontae Kazee<br>Position:FSL<br>Role:Coverage",
          "nflId:47996.0<br>displayName:Donovan Wilson<br>Position:FSR<br>Role:Coverage",
          "nflId:52459.0<br>displayName:Trevon Diggs<br>Position:LCB<br>Role:Coverage",
          "nflId:53441.0<br>displayName:Micah Parsons<br>Position:LOLB<br>Role:Pass Rush"
         ],
         "marker": {
          "color": "#003594"
         },
         "mode": "markers",
         "name": "DAL",
         "type": "scatter",
         "x": [
          59.2,
          59.45,
          55.35,
          58.16,
          56.67,
          29.3,
          58.71,
          35.24,
          36.08,
          56.41,
          59.84
         ],
         "y": [
          30.09,
          23.1,
          33.98,
          10.95,
          41.41,
          29.34,
          13.57,
          44.98,
          12.56,
          43.93,
          35.1
         ]
        },
        {
         "hoverinfo": "none",
         "marker": {
          "color": "#CBB67C"
         },
         "mode": "markers",
         "name": "football",
         "type": "scatter",
         "x": [
          60.22
         ],
         "y": [
          29.94
         ]
        }
       ],
       "frames": [
        {
         "data": [
          {
           "hoverinfo": "none",
           "mode": "text",
           "showlegend": false,
           "text": [
            "10",
            "20",
            "30",
            "40",
            "50",
            "40",
            "30",
            "20",
            "10"
           ],
           "textfont": {
            "color": "#ffffff",
            "family": "Courier New, monospace",
            "size": 30
           },
           "type": "scatter",
           "x": [
            20,
            30,
            40,
            50,
            60,
            70,
            80,
            90,
            100
           ],
           "y": [
            5,
            5,
            5,
            5,
            5,
            5,
            5,
            5,
            5
           ]
          },
          {
           "hoverinfo": "none",
           "mode": "text",
           "showlegend": false,
           "text": [
            "10",
            "20",
            "30",
            "40",
            "50",
            "40",
            "30",
            "20",
            "10"
           ],
           "textfont": {
            "color": "#ffffff",
            "family": "Courier New, monospace",
            "size": 30
           },
           "type": "scatter",
           "x": [
            20,
            30,
            40,
            50,
            60,
            70,
            80,
            90,
            100
           ],
           "y": [
            48.5,
            48.5,
            48.5,
            48.5,
            48.5,
            48.5,
            48.5,
            48.5,
            48.5
           ]
          },
          {
           "hoverinfo": "none",
           "line": {
            "color": "blue",
            "dash": "dash"
           },
           "showlegend": false,
           "type": "scatter",
           "x": [
            60,
            60
           ],
           "y": [
            0,
            53.5
           ]
          },
          {
           "hoverinfo": "none",
           "line": {
            "color": "yellow",
            "dash": "dash"
           },
           "showlegend": false,
           "type": "scatter",
           "x": [
            70,
            70
           ],
           "y": [
            0,
            53.5
           ]
          },
          {
           "hoverinfo": "text",
           "hovertext": [
            "nflId:25511.0<br>displayName:Tom Brady<br>Position:QB<br>Role:Pass",
            "nflId:35634.0<br>displayName:Antonio Brown<br>Position:SLWR<br>Role:Pass Route",
            "nflId:39985.0<br>displayName:Giovani Bernard<br>Position:HB-R<br>Role:Pass Route",
            "nflId:40151.0<br>displayName:Ryan Jensen<br>Position:C<br>Role:Pass Block",
            "nflId:41233.0<br>displayName:Mike Evans<br>Position:SRWR<br>Role:Pass Route",
            "nflId:42377.0<br>displayName:Donovan Smith<br>Position:LT<br>Role:Pass Block",
            "nflId:42404.0<br>displayName:Ali Marpet<br>Position:LG<br>Role:Pass Block",
            "nflId:44896.0<br>displayName:Chris Godwin<br>Position:LWR<br>Role:Pass Route",
            "nflId:46163.0<br>displayName:Alex Cappa<br>Position:RG<br>Role:Pass Block",
            "nflId:52421.0<br>displayName:Tristan Wirfs<br>Position:RT<br>Role:Pass Block",
            "nflId:52569.0<br>displayName:Tyler Johnson<br>Position:RWR<br>Role:Pass Route"
           ],
           "marker": {
            "color": "#D50A0A"
           },
           "mode": "markers",
           "name": "TB",
           "type": "scatter",
           "x": [
            65.39,
            60.48,
            65.49,
            60.75,
            60.99,
            61.7,
            61.51,
            62.02,
            61.48,
            61.84,
            62.09
           ],
           "y": [
            29.8,
            14.34,
            32.37,
            29.89,
            41.28,
            26.74,
            28.37,
            12.22,
            31.23,
            32.58,
            42.74
           ]
          },
          {
           "hoverinfo": "text",
           "hovertext": [
            "nflId:41263.0<br>displayName:Demarcus Lawrence<br>Position:NLT<br>Role:Pass Rush",
            "nflId:42403.0<br>displayName:Randy Gregory<br>Position:ROLB<br>Role:Pass Rush",
            "nflId:43306.0<br>displayName:Keanu Neal<br>Position:LLB<br>Role:Coverage",
            "nflId:43478.0<br>displayName:Anthony Brown<br>Position:RCB<br>Role:Coverage",
            "nflId:43498.0<br>displayName:Maurice Canady<br>Position:SCBL<br>Role:Coverage",
            "nflId:43533.0<br>displayName:Jayron Kearse<br>Position:FS<br>Role:Coverage",
            "nflId:44904.0<br>displayName:Jourdan Lewis<br>Position:SCBR<br>Role:Coverage",
            "nflId:44962.0<br>displayName:Damontae Kazee<br>Position:FSL<br>Role:Coverage",
            "nflId:47996.0<br>displayName:Donovan Wilson<br>Position:FSR<br>Role:Coverage",
            "nflId:52459.0<br>displayName:Trevon Diggs<br>Position:LCB<br>Role:Coverage",
            "nflId:53441.0<br>displayName:Micah Parsons<br>Position:LOLB<br>Role:Pass Rush"
           ],
           "marker": {
            "color": "#003594"
           },
           "mode": "markers",
           "name": "DAL",
           "type": "scatter",
           "x": [
            59.24,
            59.45,
            55.36,
            58.14,
            56.65,
            29.21,
            58.69,
            35.26,
            36.14,
            56.41,
            59.84
           ],
           "y": [
            30.1,
            23.1,
            33.99,
            10.93,
            41.44,
            29.32,
            13.63,
            45.01,
            12.54,
            43.95,
            35.06
           ]
          },
          {
           "hoverinfo": "none",
           "marker": {
            "color": "#CBB67C"
           },
           "mode": "markers",
           "name": "football",
           "type": "scatter",
           "x": [
            60.22
           ],
           "y": [
            29.94
           ]
          }
         ],
         "name": "2"
        },
        {
         "data": [
          {
           "hoverinfo": "none",
           "mode": "text",
           "showlegend": false,
           "text": [
            "10",
            "20",
            "30",
            "40",
            "50",
            "40",
            "30",
            "20",
            "10"
           ],
           "textfont": {
            "color": "#ffffff",
            "family": "Courier New, monospace",
            "size": 30
           },
           "type": "scatter",
           "x": [
            20,
            30,
            40,
            50,
            60,
            70,
            80,
            90,
            100
           ],
           "y": [
            5,
            5,
            5,
            5,
            5,
            5,
            5,
            5,
            5
           ]
          },
          {
           "hoverinfo": "none",
           "mode": "text",
           "showlegend": false,
           "text": [
            "10",
            "20",
            "30",
            "40",
            "50",
            "40",
            "30",
            "20",
            "10"
           ],
           "textfont": {
            "color": "#ffffff",
            "family": "Courier New, monospace",
            "size": 30
           },
           "type": "scatter",
           "x": [
            20,
            30,
            40,
            50,
            60,
            70,
            80,
            90,
            100
           ],
           "y": [
            48.5,
            48.5,
            48.5,
            48.5,
            48.5,
            48.5,
            48.5,
            48.5,
            48.5
           ]
          },
          {
           "hoverinfo": "none",
           "line": {
            "color": "blue",
            "dash": "dash"
           },
           "showlegend": false,
           "type": "scatter",
           "x": [
            60,
            60
           ],
           "y": [
            0,
            53.5
           ]
          },
          {
           "hoverinfo": "none",
           "line": {
            "color": "yellow",
            "dash": "dash"
           },
           "showlegend": false,
           "type": "scatter",
           "x": [
            70,
            70
           ],
           "y": [
            0,
            53.5
           ]
          },
          {
           "hoverinfo": "text",
           "hovertext": [
            "nflId:25511.0<br>displayName:Tom Brady<br>Position:QB<br>Role:Pass",
            "nflId:35634.0<br>displayName:Antonio Brown<br>Position:SLWR<br>Role:Pass Route",
            "nflId:39985.0<br>displayName:Giovani Bernard<br>Position:HB-R<br>Role:Pass Route",
            "nflId:40151.0<br>displayName:Ryan Jensen<br>Position:C<br>Role:Pass Block",
            "nflId:41233.0<br>displayName:Mike Evans<br>Position:SRWR<br>Role:Pass Route",
            "nflId:42377.0<br>displayName:Donovan Smith<br>Position:LT<br>Role:Pass Block",
            "nflId:42404.0<br>displayName:Ali Marpet<br>Position:LG<br>Role:Pass Block",
            "nflId:44896.0<br>displayName:Chris Godwin<br>Position:LWR<br>Role:Pass Route",
            "nflId:46163.0<br>displayName:Alex Cappa<br>Position:RG<br>Role:Pass Block",
            "nflId:52421.0<br>displayName:Tristan Wirfs<br>Position:RT<br>Role:Pass Block",
            "nflId:52569.0<br>displayName:Tyler Johnson<br>Position:RWR<br>Role:Pass Route"
           ],
           "marker": {
            "color": "#D50A0A"
           },
           "mode": "markers",
           "name": "TB",
           "type": "scatter",
           "x": [
            65.39,
            60.47,
            65.49,
            60.76,
            60.99,
            61.7,
            61.51,
            62.03,
            61.48,
            61.84,
            62.09
           ],
           "y": [
            29.8,
            14.33,
            32.37,
            29.89,
            41.29,
            26.74,
            28.37,
            12.25,
            31.23,
            32.58,
            42.74
           ]
          },
          {
           "hoverinfo": "text",
           "hovertext": [
            "nflId:41263.0<br>displayName:Demarcus Lawrence<br>Position:NLT<br>Role:Pass Rush",
            "nflId:42403.0<br>displayName:Randy Gregory<br>Position:ROLB<br>Role:Pass Rush",
            "nflId:43306.0<br>displayName:Keanu Neal<br>Position:LLB<br>Role:Coverage",
            "nflId:43478.0<br>displayName:Anthony Brown<br>Position:RCB<br>Role:Coverage",
            "nflId:43498.0<br>displayName:Maurice Canady<br>Position:SCBL<br>Role:Coverage",
            "nflId:43533.0<br>displayName:Jayron Kearse<br>Position:FS<br>Role:Coverage",
            "nflId:44904.0<br>displayName:Jourdan Lewis<br>Position:SCBR<br>Role:Coverage",
            "nflId:44962.0<br>displayName:Damontae Kazee<br>Position:FSL<br>Role:Coverage",
            "nflId:47996.0<br>displayName:Donovan Wilson<br>Position:FSR<br>Role:Coverage",
            "nflId:52459.0<br>displayName:Trevon Diggs<br>Position:LCB<br>Role:Coverage",
            "nflId:53441.0<br>displayName:Micah Parsons<br>Position:LOLB<br>Role:Pass Rush"
           ],
           "marker": {
            "color": "#003594"
           },
           "mode": "markers",
           "name": "DAL",
           "type": "scatter",
           "x": [
            59.27,
            59.48,
            55.37,
            58.12,
            56.63,
            29.12,
            58.65,
            35.29,
            36.19,
            56.41,
            59.86
           ],
           "y": [
            30.1,
            23.11,
            34.01,
            10.88,
            41.46,
            29.3,
            13.69,
            45.05,
            12.54,
            43.96,
            35.06
           ]
          },
          {
           "hoverinfo": "none",
           "marker": {
            "color": "#CBB67C"
           },
           "mode": "markers",
           "name": "football",
           "type": "scatter",
           "x": [
            60.22
           ],
           "y": [
            29.94
           ]
          }
         ],
         "name": "3"
        },
        {
         "data": [
          {
           "hoverinfo": "none",
           "mode": "text",
           "showlegend": false,
           "text": [
            "10",
            "20",
            "30",
            "40",
            "50",
            "40",
            "30",
            "20",
            "10"
           ],
           "textfont": {
            "color": "#ffffff",
            "family": "Courier New, monospace",
            "size": 30
           },
           "type": "scatter",
           "x": [
            20,
            30,
            40,
            50,
            60,
            70,
            80,
            90,
            100
           ],
           "y": [
            5,
            5,
            5,
            5,
            5,
            5,
            5,
            5,
            5
           ]
          },
          {
           "hoverinfo": "none",
           "mode": "text",
           "showlegend": false,
           "text": [
            "10",
            "20",
            "30",
            "40",
            "50",
            "40",
            "30",
            "20",
            "10"
           ],
           "textfont": {
            "color": "#ffffff",
            "family": "Courier New, monospace",
            "size": 30
           },
           "type": "scatter",
           "x": [
            20,
            30,
            40,
            50,
            60,
            70,
            80,
            90,
            100
           ],
           "y": [
            48.5,
            48.5,
            48.5,
            48.5,
            48.5,
            48.5,
            48.5,
            48.5,
            48.5
           ]
          },
          {
           "hoverinfo": "none",
           "line": {
            "color": "blue",
            "dash": "dash"
           },
           "showlegend": false,
           "type": "scatter",
           "x": [
            60,
            60
           ],
           "y": [
            0,
            53.5
           ]
          },
          {
           "hoverinfo": "none",
           "line": {
            "color": "yellow",
            "dash": "dash"
           },
           "showlegend": false,
           "type": "scatter",
           "x": [
            70,
            70
           ],
           "y": [
            0,
            53.5
           ]
          },
          {
           "hoverinfo": "text",
           "hovertext": [
            "nflId:25511.0<br>displayName:Tom Brady<br>Position:QB<br>Role:Pass",
            "nflId:35634.0<br>displayName:Antonio Brown<br>Position:SLWR<br>Role:Pass Route",
            "nflId:39985.0<br>displayName:Giovani Bernard<br>Position:HB-R<br>Role:Pass Route",
            "nflId:40151.0<br>displayName:Ryan Jensen<br>Position:C<br>Role:Pass Block",
            "nflId:41233.0<br>displayName:Mike Evans<br>Position:SRWR<br>Role:Pass Route",
            "nflId:42377.0<br>displayName:Donovan Smith<br>Position:LT<br>Role:Pass Block",
            "nflId:42404.0<br>displayName:Ali Marpet<br>Position:LG<br>Role:Pass Block",
            "nflId:44896.0<br>displayName:Chris Godwin<br>Position:LWR<br>Role:Pass Route",
            "nflId:46163.0<br>displayName:Alex Cappa<br>Position:RG<br>Role:Pass Block",
            "nflId:52421.0<br>displayName:Tristan Wirfs<br>Position:RT<br>Role:Pass Block",
            "nflId:52569.0<br>displayName:Tyler Johnson<br>Position:RWR<br>Role:Pass Route"
           ],
           "marker": {
            "color": "#D50A0A"
           },
           "mode": "markers",
           "name": "TB",
           "type": "scatter",
           "x": [
            65.38,
            60.46,
            65.49,
            60.76,
            60.99,
            61.71,
            61.51,
            62,
            61.48,
            61.85,
            62.08
           ],
           "y": [
            29.79,
            14.33,
            32.37,
            29.89,
            41.29,
            26.74,
            28.37,
            12.27,
            31.23,
            32.58,
            42.73
           ]
          },
          {
           "hoverinfo": "text",
           "hovertext": [
            "nflId:41263.0<br>displayName:Demarcus Lawrence<br>Position:NLT<br>Role:Pass Rush",
            "nflId:42403.0<br>displayName:Randy Gregory<br>Position:ROLB<br>Role:Pass Rush",
            "nflId:43306.0<br>displayName:Keanu Neal<br>Position:LLB<br>Role:Coverage",
            "nflId:43478.0<br>displayName:Anthony Brown<br>Position:RCB<br>Role:Coverage",
            "nflId:43498.0<br>displayName:Maurice Canady<br>Position:SCBL<br>Role:Coverage",
            "nflId:43533.0<br>displayName:Jayron Kearse<br>Position:FS<br>Role:Coverage",
            "nflId:44904.0<br>displayName:Jourdan Lewis<br>Position:SCBR<br>Role:Coverage",
            "nflId:44962.0<br>displayName:Damontae Kazee<br>Position:FSL<br>Role:Coverage",
            "nflId:47996.0<br>displayName:Donovan Wilson<br>Position:FSR<br>Role:Coverage",
            "nflId:52459.0<br>displayName:Trevon Diggs<br>Position:LCB<br>Role:Coverage",
            "nflId:53441.0<br>displayName:Micah Parsons<br>Position:LOLB<br>Role:Pass Rush"
           ],
           "marker": {
            "color": "#003594"
           },
           "mode": "markers",
           "name": "DAL",
           "type": "scatter",
           "x": [
            59.32,
            59.49,
            55.38,
            58.1,
            56.61,
            29.04,
            58.6,
            35.32,
            36.24,
            56.4,
            59.88
           ],
           "y": [
            30.1,
            23.11,
            34.02,
            10.84,
            41.49,
            29.29,
            13.7,
            45.1,
            12.54,
            43.97,
            35.05
           ]
          },
          {
           "hoverinfo": "none",
           "marker": {
            "color": "#CBB67C"
           },
           "mode": "markers",
           "name": "football",
           "type": "scatter",
           "x": [
            60.22
           ],
           "y": [
            29.94
           ]
          }
         ],
         "name": "4"
        },
        {
         "data": [
          {
           "hoverinfo": "none",
           "mode": "text",
           "showlegend": false,
           "text": [
            "10",
            "20",
            "30",
            "40",
            "50",
            "40",
            "30",
            "20",
            "10"
           ],
           "textfont": {
            "color": "#ffffff",
            "family": "Courier New, monospace",
            "size": 30
           },
           "type": "scatter",
           "x": [
            20,
            30,
            40,
            50,
            60,
            70,
            80,
            90,
            100
           ],
           "y": [
            5,
            5,
            5,
            5,
            5,
            5,
            5,
            5,
            5
           ]
          },
          {
           "hoverinfo": "none",
           "mode": "text",
           "showlegend": false,
           "text": [
            "10",
            "20",
            "30",
            "40",
            "50",
            "40",
            "30",
            "20",
            "10"
           ],
           "textfont": {
            "color": "#ffffff",
            "family": "Courier New, monospace",
            "size": 30
           },
           "type": "scatter",
           "x": [
            20,
            30,
            40,
            50,
            60,
            70,
            80,
            90,
            100
           ],
           "y": [
            48.5,
            48.5,
            48.5,
            48.5,
            48.5,
            48.5,
            48.5,
            48.5,
            48.5
           ]
          },
          {
           "hoverinfo": "none",
           "line": {
            "color": "blue",
            "dash": "dash"
           },
           "showlegend": false,
           "type": "scatter",
           "x": [
            60,
            60
           ],
           "y": [
            0,
            53.5
           ]
          },
          {
           "hoverinfo": "none",
           "line": {
            "color": "yellow",
            "dash": "dash"
           },
           "showlegend": false,
           "type": "scatter",
           "x": [
            70,
            70
           ],
           "y": [
            0,
            53.5
           ]
          },
          {
           "hoverinfo": "text",
           "hovertext": [
            "nflId:25511.0<br>displayName:Tom Brady<br>Position:QB<br>Role:Pass",
            "nflId:35634.0<br>displayName:Antonio Brown<br>Position:SLWR<br>Role:Pass Route",
            "nflId:39985.0<br>displayName:Giovani Bernard<br>Position:HB-R<br>Role:Pass Route",
            "nflId:40151.0<br>displayName:Ryan Jensen<br>Position:C<br>Role:Pass Block",
            "nflId:41233.0<br>displayName:Mike Evans<br>Position:SRWR<br>Role:Pass Route",
            "nflId:42377.0<br>displayName:Donovan Smith<br>Position:LT<br>Role:Pass Block",
            "nflId:42404.0<br>displayName:Ali Marpet<br>Position:LG<br>Role:Pass Block",
            "nflId:44896.0<br>displayName:Chris Godwin<br>Position:LWR<br>Role:Pass Route",
            "nflId:46163.0<br>displayName:Alex Cappa<br>Position:RG<br>Role:Pass Block",
            "nflId:52421.0<br>displayName:Tristan Wirfs<br>Position:RT<br>Role:Pass Block",
            "nflId:52569.0<br>displayName:Tyler Johnson<br>Position:RWR<br>Role:Pass Route"
           ],
           "marker": {
            "color": "#D50A0A"
           },
           "mode": "markers",
           "name": "TB",
           "type": "scatter",
           "x": [
            65.36,
            60.45,
            65.49,
            60.78,
            60.98,
            61.73,
            61.51,
            61.99,
            61.48,
            61.87,
            62.08
           ],
           "y": [
            29.78,
            14.32,
            32.37,
            29.88,
            41.29,
            26.74,
            28.38,
            12.26,
            31.23,
            32.6,
            42.73
           ]
          },
          {
           "hoverinfo": "text",
           "hovertext": [
            "nflId:41263.0<br>displayName:Demarcus Lawrence<br>Position:NLT<br>Role:Pass Rush",
            "nflId:42403.0<br>displayName:Randy Gregory<br>Position:ROLB<br>Role:Pass Rush",
            "nflId:43306.0<br>displayName:Keanu Neal<br>Position:LLB<br>Role:Coverage",
            "nflId:43478.0<br>displayName:Anthony Brown<br>Position:RCB<br>Role:Coverage",
            "nflId:43498.0<br>displayName:Maurice Canady<br>Position:SCBL<br>Role:Coverage",
            "nflId:43533.0<br>displayName:Jayron Kearse<br>Position:FS<br>Role:Coverage",
            "nflId:44904.0<br>displayName:Jourdan Lewis<br>Position:SCBR<br>Role:Coverage",
            "nflId:44962.0<br>displayName:Damontae Kazee<br>Position:FSL<br>Role:Coverage",
            "nflId:47996.0<br>displayName:Donovan Wilson<br>Position:FSR<br>Role:Coverage",
            "nflId:52459.0<br>displayName:Trevon Diggs<br>Position:LCB<br>Role:Coverage",
            "nflId:53441.0<br>displayName:Micah Parsons<br>Position:LOLB<br>Role:Pass Rush"
           ],
           "marker": {
            "color": "#003594"
           },
           "mode": "markers",
           "name": "DAL",
           "type": "scatter",
           "x": [
            59.39,
            59.51,
            55.39,
            58.08,
            56.6,
            28.96,
            58.57,
            35.36,
            36.29,
            56.4,
            59.9
           ],
           "y": [
            30.11,
            23.12,
            34.03,
            10.8,
            41.53,
            29.28,
            13.74,
            45.15,
            12.56,
            43.99,
            35.04
           ]
          },
          {
           "hoverinfo": "none",
           "marker": {
            "color": "#CBB67C"
           },
           "mode": "markers",
           "name": "football",
           "type": "scatter",
           "x": [
            60.22
           ],
           "y": [
            29.94
           ]
          }
         ],
         "name": "5"
        },
        {
         "data": [
          {
           "hoverinfo": "none",
           "mode": "text",
           "showlegend": false,
           "text": [
            "10",
            "20",
            "30",
            "40",
            "50",
            "40",
            "30",
            "20",
            "10"
           ],
           "textfont": {
            "color": "#ffffff",
            "family": "Courier New, monospace",
            "size": 30
           },
           "type": "scatter",
           "x": [
            20,
            30,
            40,
            50,
            60,
            70,
            80,
            90,
            100
           ],
           "y": [
            5,
            5,
            5,
            5,
            5,
            5,
            5,
            5,
            5
           ]
          },
          {
           "hoverinfo": "none",
           "mode": "text",
           "showlegend": false,
           "text": [
            "10",
            "20",
            "30",
            "40",
            "50",
            "40",
            "30",
            "20",
            "10"
           ],
           "textfont": {
            "color": "#ffffff",
            "family": "Courier New, monospace",
            "size": 30
           },
           "type": "scatter",
           "x": [
            20,
            30,
            40,
            50,
            60,
            70,
            80,
            90,
            100
           ],
           "y": [
            48.5,
            48.5,
            48.5,
            48.5,
            48.5,
            48.5,
            48.5,
            48.5,
            48.5
           ]
          },
          {
           "hoverinfo": "none",
           "line": {
            "color": "blue",
            "dash": "dash"
           },
           "showlegend": false,
           "type": "scatter",
           "x": [
            60,
            60
           ],
           "y": [
            0,
            53.5
           ]
          },
          {
           "hoverinfo": "none",
           "line": {
            "color": "yellow",
            "dash": "dash"
           },
           "showlegend": false,
           "type": "scatter",
           "x": [
            70,
            70
           ],
           "y": [
            0,
            53.5
           ]
          },
          {
           "hoverinfo": "text",
           "hovertext": [
            "nflId:25511.0<br>displayName:Tom Brady<br>Position:QB<br>Role:Pass",
            "nflId:35634.0<br>displayName:Antonio Brown<br>Position:SLWR<br>Role:Pass Route",
            "nflId:39985.0<br>displayName:Giovani Bernard<br>Position:HB-R<br>Role:Pass Route",
            "nflId:40151.0<br>displayName:Ryan Jensen<br>Position:C<br>Role:Pass Block",
            "nflId:41233.0<br>displayName:Mike Evans<br>Position:SRWR<br>Role:Pass Route",
            "nflId:42377.0<br>displayName:Donovan Smith<br>Position:LT<br>Role:Pass Block",
            "nflId:42404.0<br>displayName:Ali Marpet<br>Position:LG<br>Role:Pass Block",
            "nflId:44896.0<br>displayName:Chris Godwin<br>Position:LWR<br>Role:Pass Route",
            "nflId:46163.0<br>displayName:Alex Cappa<br>Position:RG<br>Role:Pass Block",
            "nflId:52421.0<br>displayName:Tristan Wirfs<br>Position:RT<br>Role:Pass Block",
            "nflId:52569.0<br>displayName:Tyler Johnson<br>Position:RWR<br>Role:Pass Route"
           ],
           "marker": {
            "color": "#D50A0A"
           },
           "mode": "markers",
           "name": "TB",
           "type": "scatter",
           "x": [
            65.36,
            60.43,
            65.49,
            60.84,
            60.97,
            61.77,
            61.52,
            61.95,
            61.5,
            61.93,
            62.07
           ],
           "y": [
            29.77,
            14.31,
            32.37,
            29.88,
            41.29,
            26.74,
            28.38,
            12.26,
            31.24,
            32.63,
            42.73
           ]
          },
          {
           "hoverinfo": "text",
           "hovertext": [
            "nflId:41263.0<br>displayName:Demarcus Lawrence<br>Position:NLT<br>Role:Pass Rush",
            "nflId:42403.0<br>displayName:Randy Gregory<br>Position:ROLB<br>Role:Pass Rush",
            "nflId:43306.0<br>displayName:Keanu Neal<br>Position:LLB<br>Role:Coverage",
            "nflId:43478.0<br>displayName:Anthony Brown<br>Position:RCB<br>Role:Coverage",
            "nflId:43498.0<br>displayName:Maurice Canady<br>Position:SCBL<br>Role:Coverage",
            "nflId:43533.0<br>displayName:Jayron Kearse<br>Position:FS<br>Role:Coverage",
            "nflId:44904.0<br>displayName:Jourdan Lewis<br>Position:SCBR<br>Role:Coverage",
            "nflId:44962.0<br>displayName:Damontae Kazee<br>Position:FSL<br>Role:Coverage",
            "nflId:47996.0<br>displayName:Donovan Wilson<br>Position:FSR<br>Role:Coverage",
            "nflId:52459.0<br>displayName:Trevon Diggs<br>Position:LCB<br>Role:Coverage",
            "nflId:53441.0<br>displayName:Micah Parsons<br>Position:LOLB<br>Role:Pass Rush"
           ],
           "marker": {
            "color": "#003594"
           },
           "mode": "markers",
           "name": "DAL",
           "type": "scatter",
           "x": [
            59.47,
            59.58,
            55.39,
            58.05,
            56.58,
            28.87,
            58.53,
            35.41,
            36.33,
            56.39,
            59.95
           ],
           "y": [
            30.11,
            23.16,
            34.04,
            10.77,
            41.56,
            29.28,
            13.77,
            45.2,
            12.58,
            44.01,
            35.04
           ]
          },
          {
           "hoverinfo": "none",
           "marker": {
            "color": "#CBB67C"
           },
           "mode": "markers",
           "name": "football",
           "type": "scatter",
           "x": [
            60.22
           ],
           "y": [
            29.94
           ]
          }
         ],
         "name": "6"
        },
        {
         "data": [
          {
           "hoverinfo": "none",
           "mode": "text",
           "showlegend": false,
           "text": [
            "10",
            "20",
            "30",
            "40",
            "50",
            "40",
            "30",
            "20",
            "10"
           ],
           "textfont": {
            "color": "#ffffff",
            "family": "Courier New, monospace",
            "size": 30
           },
           "type": "scatter",
           "x": [
            20,
            30,
            40,
            50,
            60,
            70,
            80,
            90,
            100
           ],
           "y": [
            5,
            5,
            5,
            5,
            5,
            5,
            5,
            5,
            5
           ]
          },
          {
           "hoverinfo": "none",
           "mode": "text",
           "showlegend": false,
           "text": [
            "10",
            "20",
            "30",
            "40",
            "50",
            "40",
            "30",
            "20",
            "10"
           ],
           "textfont": {
            "color": "#ffffff",
            "family": "Courier New, monospace",
            "size": 30
           },
           "type": "scatter",
           "x": [
            20,
            30,
            40,
            50,
            60,
            70,
            80,
            90,
            100
           ],
           "y": [
            48.5,
            48.5,
            48.5,
            48.5,
            48.5,
            48.5,
            48.5,
            48.5,
            48.5
           ]
          },
          {
           "hoverinfo": "none",
           "line": {
            "color": "blue",
            "dash": "dash"
           },
           "showlegend": false,
           "type": "scatter",
           "x": [
            60,
            60
           ],
           "y": [
            0,
            53.5
           ]
          },
          {
           "hoverinfo": "none",
           "line": {
            "color": "yellow",
            "dash": "dash"
           },
           "showlegend": false,
           "type": "scatter",
           "x": [
            70,
            70
           ],
           "y": [
            0,
            53.5
           ]
          },
          {
           "hoverinfo": "text",
           "hovertext": [
            "nflId:25511.0<br>displayName:Tom Brady<br>Position:QB<br>Role:Pass",
            "nflId:35634.0<br>displayName:Antonio Brown<br>Position:SLWR<br>Role:Pass Route",
            "nflId:39985.0<br>displayName:Giovani Bernard<br>Position:HB-R<br>Role:Pass Route",
            "nflId:40151.0<br>displayName:Ryan Jensen<br>Position:C<br>Role:Pass Block",
            "nflId:41233.0<br>displayName:Mike Evans<br>Position:SRWR<br>Role:Pass Route",
            "nflId:42377.0<br>displayName:Donovan Smith<br>Position:LT<br>Role:Pass Block",
            "nflId:42404.0<br>displayName:Ali Marpet<br>Position:LG<br>Role:Pass Block",
            "nflId:44896.0<br>displayName:Chris Godwin<br>Position:LWR<br>Role:Pass Route",
            "nflId:46163.0<br>displayName:Alex Cappa<br>Position:RG<br>Role:Pass Block",
            "nflId:52421.0<br>displayName:Tristan Wirfs<br>Position:RT<br>Role:Pass Block",
            "nflId:52569.0<br>displayName:Tyler Johnson<br>Position:RWR<br>Role:Pass Route"
           ],
           "marker": {
            "color": "#D50A0A"
           },
           "mode": "markers",
           "name": "TB",
           "type": "scatter",
           "x": [
            65.38,
            60.39,
            65.49,
            60.91,
            60.96,
            61.86,
            61.52,
            61.89,
            61.53,
            62.01,
            62.07
           ],
           "y": [
            29.76,
            14.32,
            32.38,
            29.89,
            41.29,
            26.73,
            28.38,
            12.26,
            31.25,
            32.67,
            42.73
           ]
          },
          {
           "hoverinfo": "text",
           "hovertext": [
            "nflId:41263.0<br>displayName:Demarcus Lawrence<br>Position:NLT<br>Role:Pass Rush",
            "nflId:42403.0<br>displayName:Randy Gregory<br>Position:ROLB<br>Role:Pass Rush",
            "nflId:43306.0<br>displayName:Keanu Neal<br>Position:LLB<br>Role:Coverage",
            "nflId:43478.0<br>displayName:Anthony Brown<br>Position:RCB<br>Role:Coverage",
            "nflId:43498.0<br>displayName:Maurice Canady<br>Position:SCBL<br>Role:Coverage",
            "nflId:43533.0<br>displayName:Jayron Kearse<br>Position:FS<br>Role:Coverage",
            "nflId:44904.0<br>displayName:Jourdan Lewis<br>Position:SCBR<br>Role:Coverage",
            "nflId:44962.0<br>displayName:Damontae Kazee<br>Position:FSL<br>Role:Coverage",
            "nflId:47996.0<br>displayName:Donovan Wilson<br>Position:FSR<br>Role:Coverage",
            "nflId:52459.0<br>displayName:Trevon Diggs<br>Position:LCB<br>Role:Coverage",
            "nflId:53441.0<br>displayName:Micah Parsons<br>Position:LOLB<br>Role:Pass Rush"
           ],
           "marker": {
            "color": "#003594"
           },
           "mode": "markers",
           "name": "DAL",
           "type": "scatter",
           "x": [
            59.57,
            59.69,
            55.39,
            58.01,
            56.55,
            28.78,
            58.48,
            35.47,
            36.35,
            56.36,
            60.02
           ],
           "y": [
            30.13,
            23.22,
            34.04,
            10.74,
            41.59,
            29.26,
            13.81,
            45.23,
            12.6,
            44.04,
            35.02
           ]
          },
          {
           "hoverinfo": "none",
           "marker": {
            "color": "#CBB67C"
           },
           "mode": "markers",
           "name": "football",
           "type": "scatter",
           "x": [
            60.22
           ],
           "y": [
            29.94
           ]
          }
         ],
         "name": "7"
        },
        {
         "data": [
          {
           "hoverinfo": "none",
           "mode": "text",
           "showlegend": false,
           "text": [
            "10",
            "20",
            "30",
            "40",
            "50",
            "40",
            "30",
            "20",
            "10"
           ],
           "textfont": {
            "color": "#ffffff",
            "family": "Courier New, monospace",
            "size": 30
           },
           "type": "scatter",
           "x": [
            20,
            30,
            40,
            50,
            60,
            70,
            80,
            90,
            100
           ],
           "y": [
            5,
            5,
            5,
            5,
            5,
            5,
            5,
            5,
            5
           ]
          },
          {
           "hoverinfo": "none",
           "mode": "text",
           "showlegend": false,
           "text": [
            "10",
            "20",
            "30",
            "40",
            "50",
            "40",
            "30",
            "20",
            "10"
           ],
           "textfont": {
            "color": "#ffffff",
            "family": "Courier New, monospace",
            "size": 30
           },
           "type": "scatter",
           "x": [
            20,
            30,
            40,
            50,
            60,
            70,
            80,
            90,
            100
           ],
           "y": [
            48.5,
            48.5,
            48.5,
            48.5,
            48.5,
            48.5,
            48.5,
            48.5,
            48.5
           ]
          },
          {
           "hoverinfo": "none",
           "line": {
            "color": "blue",
            "dash": "dash"
           },
           "showlegend": false,
           "type": "scatter",
           "x": [
            60,
            60
           ],
           "y": [
            0,
            53.5
           ]
          },
          {
           "hoverinfo": "none",
           "line": {
            "color": "yellow",
            "dash": "dash"
           },
           "showlegend": false,
           "type": "scatter",
           "x": [
            70,
            70
           ],
           "y": [
            0,
            53.5
           ]
          },
          {
           "hoverinfo": "text",
           "hovertext": [
            "nflId:25511.0<br>displayName:Tom Brady<br>Position:QB<br>Role:Pass",
            "nflId:35634.0<br>displayName:Antonio Brown<br>Position:SLWR<br>Role:Pass Route",
            "nflId:39985.0<br>displayName:Giovani Bernard<br>Position:HB-R<br>Role:Pass Route",
            "nflId:40151.0<br>displayName:Ryan Jensen<br>Position:C<br>Role:Pass Block",
            "nflId:41233.0<br>displayName:Mike Evans<br>Position:SRWR<br>Role:Pass Route",
            "nflId:42377.0<br>displayName:Donovan Smith<br>Position:LT<br>Role:Pass Block",
            "nflId:42404.0<br>displayName:Ali Marpet<br>Position:LG<br>Role:Pass Block",
            "nflId:44896.0<br>displayName:Chris Godwin<br>Position:LWR<br>Role:Pass Route",
            "nflId:46163.0<br>displayName:Alex Cappa<br>Position:RG<br>Role:Pass Block",
            "nflId:52421.0<br>displayName:Tristan Wirfs<br>Position:RT<br>Role:Pass Block",
            "nflId:52569.0<br>displayName:Tyler Johnson<br>Position:RWR<br>Role:Pass Route"
           ],
           "marker": {
            "color": "#D50A0A"
           },
           "mode": "markers",
           "name": "TB",
           "type": "scatter",
           "x": [
            65.4,
            60.33,
            65.49,
            61.01,
            60.93,
            61.99,
            61.54,
            61.84,
            61.58,
            62.11,
            62.05
           ],
           "y": [
            29.75,
            14.33,
            32.38,
            29.91,
            41.29,
            26.7,
            28.38,
            12.25,
            31.26,
            32.73,
            42.73
           ]
          },
          {
           "hoverinfo": "text",
           "hovertext": [
            "nflId:41263.0<br>displayName:Demarcus Lawrence<br>Position:NLT<br>Role:Pass Rush",
            "nflId:42403.0<br>displayName:Randy Gregory<br>Position:ROLB<br>Role:Pass Rush",
            "nflId:43306.0<br>displayName:Keanu Neal<br>Position:LLB<br>Role:Coverage",
            "nflId:43478.0<br>displayName:Anthony Brown<br>Position:RCB<br>Role:Coverage",
            "nflId:43498.0<br>displayName:Maurice Canady<br>Position:SCBL<br>Role:Coverage",
            "nflId:43533.0<br>displayName:Jayron Kearse<br>Position:FS<br>Role:Coverage",
            "nflId:44904.0<br>displayName:Jourdan Lewis<br>Position:SCBR<br>Role:Coverage",
            "nflId:44962.0<br>displayName:Damontae Kazee<br>Position:FSL<br>Role:Coverage",
            "nflId:47996.0<br>displayName:Donovan Wilson<br>Position:FSR<br>Role:Coverage",
            "nflId:52459.0<br>displayName:Trevon Diggs<br>Position:LCB<br>Role:Coverage",
            "nflId:53441.0<br>displayName:Micah Parsons<br>Position:LOLB<br>Role:Pass Rush"
           ],
           "marker": {
            "color": "#003594"
           },
           "mode": "markers",
           "name": "DAL",
           "type": "scatter",
           "x": [
            59.71,
            59.85,
            55.39,
            57.97,
            56.51,
            28.68,
            58.44,
            35.53,
            36.33,
            56.32,
            60.14
           ],
           "y": [
            30.14,
            23.29,
            34.06,
            10.72,
            41.62,
            29.26,
            13.85,
            45.25,
            12.65,
            44.07,
            34.99
           ]
          },
          {
           "hoverinfo": "none",
           "marker": {
            "color": "#CBB67C"
           },
           "mode": "markers",
           "name": "football",
           "type": "scatter",
           "x": [
            62.46
           ],
           "y": [
            30.21
           ]
          }
         ],
         "name": "8"
        },
        {
         "data": [
          {
           "hoverinfo": "none",
           "mode": "text",
           "showlegend": false,
           "text": [
            "10",
            "20",
            "30",
            "40",
            "50",
            "40",
            "30",
            "20",
            "10"
           ],
           "textfont": {
            "color": "#ffffff",
            "family": "Courier New, monospace",
            "size": 30
           },
           "type": "scatter",
           "x": [
            20,
            30,
            40,
            50,
            60,
            70,
            80,
            90,
            100
           ],
           "y": [
            5,
            5,
            5,
            5,
            5,
            5,
            5,
            5,
            5
           ]
          },
          {
           "hoverinfo": "none",
           "mode": "text",
           "showlegend": false,
           "text": [
            "10",
            "20",
            "30",
            "40",
            "50",
            "40",
            "30",
            "20",
            "10"
           ],
           "textfont": {
            "color": "#ffffff",
            "family": "Courier New, monospace",
            "size": 30
           },
           "type": "scatter",
           "x": [
            20,
            30,
            40,
            50,
            60,
            70,
            80,
            90,
            100
           ],
           "y": [
            48.5,
            48.5,
            48.5,
            48.5,
            48.5,
            48.5,
            48.5,
            48.5,
            48.5
           ]
          },
          {
           "hoverinfo": "none",
           "line": {
            "color": "blue",
            "dash": "dash"
           },
           "showlegend": false,
           "type": "scatter",
           "x": [
            60,
            60
           ],
           "y": [
            0,
            53.5
           ]
          },
          {
           "hoverinfo": "none",
           "line": {
            "color": "yellow",
            "dash": "dash"
           },
           "showlegend": false,
           "type": "scatter",
           "x": [
            70,
            70
           ],
           "y": [
            0,
            53.5
           ]
          },
          {
           "hoverinfo": "text",
           "hovertext": [
            "nflId:25511.0<br>displayName:Tom Brady<br>Position:QB<br>Role:Pass",
            "nflId:35634.0<br>displayName:Antonio Brown<br>Position:SLWR<br>Role:Pass Route",
            "nflId:39985.0<br>displayName:Giovani Bernard<br>Position:HB-R<br>Role:Pass Route",
            "nflId:40151.0<br>displayName:Ryan Jensen<br>Position:C<br>Role:Pass Block",
            "nflId:41233.0<br>displayName:Mike Evans<br>Position:SRWR<br>Role:Pass Route",
            "nflId:42377.0<br>displayName:Donovan Smith<br>Position:LT<br>Role:Pass Block",
            "nflId:42404.0<br>displayName:Ali Marpet<br>Position:LG<br>Role:Pass Block",
            "nflId:44896.0<br>displayName:Chris Godwin<br>Position:LWR<br>Role:Pass Route",
            "nflId:46163.0<br>displayName:Alex Cappa<br>Position:RG<br>Role:Pass Block",
            "nflId:52421.0<br>displayName:Tristan Wirfs<br>Position:RT<br>Role:Pass Block",
            "nflId:52569.0<br>displayName:Tyler Johnson<br>Position:RWR<br>Role:Pass Route"
           ],
           "marker": {
            "color": "#D50A0A"
           },
           "mode": "markers",
           "name": "TB",
           "type": "scatter",
           "x": [
            65.47,
            60.21,
            65.49,
            61.13,
            60.82,
            62.16,
            61.55,
            61.8,
            61.66,
            62.25,
            62.02
           ],
           "y": [
            29.74,
            14.34,
            32.39,
            29.93,
            41.3,
            26.68,
            28.38,
            12.24,
            31.28,
            32.81,
            42.74
           ]
          },
          {
           "hoverinfo": "text",
           "hovertext": [
            "nflId:41263.0<br>displayName:Demarcus Lawrence<br>Position:NLT<br>Role:Pass Rush",
            "nflId:42403.0<br>displayName:Randy Gregory<br>Position:ROLB<br>Role:Pass Rush",
            "nflId:43306.0<br>displayName:Keanu Neal<br>Position:LLB<br>Role:Coverage",
            "nflId:43478.0<br>displayName:Anthony Brown<br>Position:RCB<br>Role:Coverage",
            "nflId:43498.0<br>displayName:Maurice Canady<br>Position:SCBL<br>Role:Coverage",
            "nflId:43533.0<br>displayName:Jayron Kearse<br>Position:FS<br>Role:Coverage",
            "nflId:44904.0<br>displayName:Jourdan Lewis<br>Position:SCBR<br>Role:Coverage",
            "nflId:44962.0<br>displayName:Damontae Kazee<br>Position:FSL<br>Role:Coverage",
            "nflId:47996.0<br>displayName:Donovan Wilson<br>Position:FSR<br>Role:Coverage",
            "nflId:52459.0<br>displayName:Trevon Diggs<br>Position:LCB<br>Role:Coverage",
            "nflId:53441.0<br>displayName:Micah Parsons<br>Position:LOLB<br>Role:Pass Rush"
           ],
           "marker": {
            "color": "#003594"
           },
           "mode": "markers",
           "name": "DAL",
           "type": "scatter",
           "x": [
            59.88,
            60.03,
            55.39,
            57.94,
            56.46,
            28.59,
            58.39,
            35.6,
            36.28,
            56.29,
            60.31
           ],
           "y": [
            30.18,
            23.39,
            34.1,
            10.71,
            41.67,
            29.25,
            13.9,
            45.27,
            12.71,
            44.1,
            34.96
           ]
          },
          {
           "hoverinfo": "none",
           "marker": {
            "color": "#CBB67C"
           },
           "mode": "markers",
           "name": "football",
           "type": "scatter",
           "x": [
            63.23
           ],
           "y": [
            30.22
           ]
          }
         ],
         "name": "9"
        },
        {
         "data": [
          {
           "hoverinfo": "none",
           "mode": "text",
           "showlegend": false,
           "text": [
            "10",
            "20",
            "30",
            "40",
            "50",
            "40",
            "30",
            "20",
            "10"
           ],
           "textfont": {
            "color": "#ffffff",
            "family": "Courier New, monospace",
            "size": 30
           },
           "type": "scatter",
           "x": [
            20,
            30,
            40,
            50,
            60,
            70,
            80,
            90,
            100
           ],
           "y": [
            5,
            5,
            5,
            5,
            5,
            5,
            5,
            5,
            5
           ]
          },
          {
           "hoverinfo": "none",
           "mode": "text",
           "showlegend": false,
           "text": [
            "10",
            "20",
            "30",
            "40",
            "50",
            "40",
            "30",
            "20",
            "10"
           ],
           "textfont": {
            "color": "#ffffff",
            "family": "Courier New, monospace",
            "size": 30
           },
           "type": "scatter",
           "x": [
            20,
            30,
            40,
            50,
            60,
            70,
            80,
            90,
            100
           ],
           "y": [
            48.5,
            48.5,
            48.5,
            48.5,
            48.5,
            48.5,
            48.5,
            48.5,
            48.5
           ]
          },
          {
           "hoverinfo": "none",
           "line": {
            "color": "blue",
            "dash": "dash"
           },
           "showlegend": false,
           "type": "scatter",
           "x": [
            60,
            60
           ],
           "y": [
            0,
            53.5
           ]
          },
          {
           "hoverinfo": "none",
           "line": {
            "color": "yellow",
            "dash": "dash"
           },
           "showlegend": false,
           "type": "scatter",
           "x": [
            70,
            70
           ],
           "y": [
            0,
            53.5
           ]
          },
          {
           "hoverinfo": "text",
           "hovertext": [
            "nflId:25511.0<br>displayName:Tom Brady<br>Position:QB<br>Role:Pass",
            "nflId:35634.0<br>displayName:Antonio Brown<br>Position:SLWR<br>Role:Pass Route",
            "nflId:39985.0<br>displayName:Giovani Bernard<br>Position:HB-R<br>Role:Pass Route",
            "nflId:40151.0<br>displayName:Ryan Jensen<br>Position:C<br>Role:Pass Block",
            "nflId:41233.0<br>displayName:Mike Evans<br>Position:SRWR<br>Role:Pass Route",
            "nflId:42377.0<br>displayName:Donovan Smith<br>Position:LT<br>Role:Pass Block",
            "nflId:42404.0<br>displayName:Ali Marpet<br>Position:LG<br>Role:Pass Block",
            "nflId:44896.0<br>displayName:Chris Godwin<br>Position:LWR<br>Role:Pass Route",
            "nflId:46163.0<br>displayName:Alex Cappa<br>Position:RG<br>Role:Pass Block",
            "nflId:52421.0<br>displayName:Tristan Wirfs<br>Position:RT<br>Role:Pass Block",
            "nflId:52569.0<br>displayName:Tyler Johnson<br>Position:RWR<br>Role:Pass Route"
           ],
           "marker": {
            "color": "#D50A0A"
           },
           "mode": "markers",
           "name": "TB",
           "type": "scatter",
           "x": [
            65.57,
            60.04,
            65.49,
            61.28,
            60.67,
            62.35,
            61.58,
            61.7,
            61.77,
            62.42,
            61.93
           ],
           "y": [
            29.76,
            14.34,
            32.4,
            29.96,
            41.32,
            26.66,
            28.38,
            12.22,
            31.3,
            32.89,
            42.75
           ]
          },
          {
           "hoverinfo": "text",
           "hovertext": [
            "nflId:41263.0<br>displayName:Demarcus Lawrence<br>Position:NLT<br>Role:Pass Rush",
            "nflId:42403.0<br>displayName:Randy Gregory<br>Position:ROLB<br>Role:Pass Rush",
            "nflId:43306.0<br>displayName:Keanu Neal<br>Position:LLB<br>Role:Coverage",
            "nflId:43478.0<br>displayName:Anthony Brown<br>Position:RCB<br>Role:Coverage",
            "nflId:43498.0<br>displayName:Maurice Canady<br>Position:SCBL<br>Role:Coverage",
            "nflId:43533.0<br>displayName:Jayron Kearse<br>Position:FS<br>Role:Coverage",
            "nflId:44904.0<br>displayName:Jourdan Lewis<br>Position:SCBR<br>Role:Coverage",
            "nflId:44962.0<br>displayName:Damontae Kazee<br>Position:FSL<br>Role:Coverage",
            "nflId:47996.0<br>displayName:Donovan Wilson<br>Position:FSR<br>Role:Coverage",
            "nflId:52459.0<br>displayName:Trevon Diggs<br>Position:LCB<br>Role:Coverage",
            "nflId:53441.0<br>displayName:Micah Parsons<br>Position:LOLB<br>Role:Pass Rush"
           ],
           "marker": {
            "color": "#003594"
           },
           "mode": "markers",
           "name": "DAL",
           "type": "scatter",
           "x": [
            60.08,
            60.26,
            55.38,
            57.91,
            56.37,
            28.49,
            58.34,
            35.67,
            36.2,
            56.23,
            60.56
           ],
           "y": [
            30.22,
            23.53,
            34.15,
            10.67,
            41.72,
            29.25,
            13.96,
            45.28,
            12.77,
            44.13,
            34.91
           ]
          },
          {
           "hoverinfo": "none",
           "marker": {
            "color": "#CBB67C"
           },
           "mode": "markers",
           "name": "football",
           "type": "scatter",
           "x": [
            64.19
           ],
           "y": [
            30.22
           ]
          }
         ],
         "name": "10"
        },
        {
         "data": [
          {
           "hoverinfo": "none",
           "mode": "text",
           "showlegend": false,
           "text": [
            "10",
            "20",
            "30",
            "40",
            "50",
            "40",
            "30",
            "20",
            "10"
           ],
           "textfont": {
            "color": "#ffffff",
            "family": "Courier New, monospace",
            "size": 30
           },
           "type": "scatter",
           "x": [
            20,
            30,
            40,
            50,
            60,
            70,
            80,
            90,
            100
           ],
           "y": [
            5,
            5,
            5,
            5,
            5,
            5,
            5,
            5,
            5
           ]
          },
          {
           "hoverinfo": "none",
           "mode": "text",
           "showlegend": false,
           "text": [
            "10",
            "20",
            "30",
            "40",
            "50",
            "40",
            "30",
            "20",
            "10"
           ],
           "textfont": {
            "color": "#ffffff",
            "family": "Courier New, monospace",
            "size": 30
           },
           "type": "scatter",
           "x": [
            20,
            30,
            40,
            50,
            60,
            70,
            80,
            90,
            100
           ],
           "y": [
            48.5,
            48.5,
            48.5,
            48.5,
            48.5,
            48.5,
            48.5,
            48.5,
            48.5
           ]
          },
          {
           "hoverinfo": "none",
           "line": {
            "color": "blue",
            "dash": "dash"
           },
           "showlegend": false,
           "type": "scatter",
           "x": [
            60,
            60
           ],
           "y": [
            0,
            53.5
           ]
          },
          {
           "hoverinfo": "none",
           "line": {
            "color": "yellow",
            "dash": "dash"
           },
           "showlegend": false,
           "type": "scatter",
           "x": [
            70,
            70
           ],
           "y": [
            0,
            53.5
           ]
          },
          {
           "hoverinfo": "text",
           "hovertext": [
            "nflId:25511.0<br>displayName:Tom Brady<br>Position:QB<br>Role:Pass",
            "nflId:35634.0<br>displayName:Antonio Brown<br>Position:SLWR<br>Role:Pass Route",
            "nflId:39985.0<br>displayName:Giovani Bernard<br>Position:HB-R<br>Role:Pass Route",
            "nflId:40151.0<br>displayName:Ryan Jensen<br>Position:C<br>Role:Pass Block",
            "nflId:41233.0<br>displayName:Mike Evans<br>Position:SRWR<br>Role:Pass Route",
            "nflId:42377.0<br>displayName:Donovan Smith<br>Position:LT<br>Role:Pass Block",
            "nflId:42404.0<br>displayName:Ali Marpet<br>Position:LG<br>Role:Pass Block",
            "nflId:44896.0<br>displayName:Chris Godwin<br>Position:LWR<br>Role:Pass Route",
            "nflId:46163.0<br>displayName:Alex Cappa<br>Position:RG<br>Role:Pass Block",
            "nflId:52421.0<br>displayName:Tristan Wirfs<br>Position:RT<br>Role:Pass Block",
            "nflId:52569.0<br>displayName:Tyler Johnson<br>Position:RWR<br>Role:Pass Route"
           ],
           "marker": {
            "color": "#D50A0A"
           },
           "mode": "markers",
           "name": "TB",
           "type": "scatter",
           "x": [
            65.68,
            59.86,
            65.5,
            61.44,
            60.42,
            62.57,
            61.66,
            61.56,
            61.89,
            62.6,
            61.8
           ],
           "y": [
            29.78,
            14.34,
            32.44,
            29.99,
            41.34,
            26.63,
            28.37,
            12.19,
            31.32,
            32.98,
            42.77
           ]
          },
          {
           "hoverinfo": "text",
           "hovertext": [
            "nflId:41263.0<br>displayName:Demarcus Lawrence<br>Position:NLT<br>Role:Pass Rush",
            "nflId:42403.0<br>displayName:Randy Gregory<br>Position:ROLB<br>Role:Pass Rush",
            "nflId:43306.0<br>displayName:Keanu Neal<br>Position:LLB<br>Role:Coverage",
            "nflId:43478.0<br>displayName:Anthony Brown<br>Position:RCB<br>Role:Coverage",
            "nflId:43498.0<br>displayName:Maurice Canady<br>Position:SCBL<br>Role:Coverage",
            "nflId:43533.0<br>displayName:Jayron Kearse<br>Position:FS<br>Role:Coverage",
            "nflId:44904.0<br>displayName:Jourdan Lewis<br>Position:SCBR<br>Role:Coverage",
            "nflId:44962.0<br>displayName:Damontae Kazee<br>Position:FSL<br>Role:Coverage",
            "nflId:47996.0<br>displayName:Donovan Wilson<br>Position:FSR<br>Role:Coverage",
            "nflId:52459.0<br>displayName:Trevon Diggs<br>Position:LCB<br>Role:Coverage",
            "nflId:53441.0<br>displayName:Micah Parsons<br>Position:LOLB<br>Role:Pass Rush"
           ],
           "marker": {
            "color": "#003594"
           },
           "mode": "markers",
           "name": "DAL",
           "type": "scatter",
           "x": [
            60.29,
            60.54,
            55.37,
            57.87,
            56.28,
            28.39,
            58.27,
            35.75,
            36.1,
            56.14,
            60.85
           ],
           "y": [
            30.26,
            23.69,
            34.23,
            10.63,
            41.77,
            29.25,
            14.02,
            45.29,
            12.82,
            44.16,
            34.85
           ]
          },
          {
           "hoverinfo": "none",
           "marker": {
            "color": "#CBB67C"
           },
           "mode": "markers",
           "name": "football",
           "type": "scatter",
           "x": [
            65.04
           ],
           "y": [
            30.22
           ]
          }
         ],
         "name": "11"
        },
        {
         "data": [
          {
           "hoverinfo": "none",
           "mode": "text",
           "showlegend": false,
           "text": [
            "10",
            "20",
            "30",
            "40",
            "50",
            "40",
            "30",
            "20",
            "10"
           ],
           "textfont": {
            "color": "#ffffff",
            "family": "Courier New, monospace",
            "size": 30
           },
           "type": "scatter",
           "x": [
            20,
            30,
            40,
            50,
            60,
            70,
            80,
            90,
            100
           ],
           "y": [
            5,
            5,
            5,
            5,
            5,
            5,
            5,
            5,
            5
           ]
          },
          {
           "hoverinfo": "none",
           "mode": "text",
           "showlegend": false,
           "text": [
            "10",
            "20",
            "30",
            "40",
            "50",
            "40",
            "30",
            "20",
            "10"
           ],
           "textfont": {
            "color": "#ffffff",
            "family": "Courier New, monospace",
            "size": 30
           },
           "type": "scatter",
           "x": [
            20,
            30,
            40,
            50,
            60,
            70,
            80,
            90,
            100
           ],
           "y": [
            48.5,
            48.5,
            48.5,
            48.5,
            48.5,
            48.5,
            48.5,
            48.5,
            48.5
           ]
          },
          {
           "hoverinfo": "none",
           "line": {
            "color": "blue",
            "dash": "dash"
           },
           "showlegend": false,
           "type": "scatter",
           "x": [
            60,
            60
           ],
           "y": [
            0,
            53.5
           ]
          },
          {
           "hoverinfo": "none",
           "line": {
            "color": "yellow",
            "dash": "dash"
           },
           "showlegend": false,
           "type": "scatter",
           "x": [
            70,
            70
           ],
           "y": [
            0,
            53.5
           ]
          },
          {
           "hoverinfo": "text",
           "hovertext": [
            "nflId:25511.0<br>displayName:Tom Brady<br>Position:QB<br>Role:Pass",
            "nflId:35634.0<br>displayName:Antonio Brown<br>Position:SLWR<br>Role:Pass Route",
            "nflId:39985.0<br>displayName:Giovani Bernard<br>Position:HB-R<br>Role:Pass Route",
            "nflId:40151.0<br>displayName:Ryan Jensen<br>Position:C<br>Role:Pass Block",
            "nflId:41233.0<br>displayName:Mike Evans<br>Position:SRWR<br>Role:Pass Route",
            "nflId:42377.0<br>displayName:Donovan Smith<br>Position:LT<br>Role:Pass Block",
            "nflId:42404.0<br>displayName:Ali Marpet<br>Position:LG<br>Role:Pass Block",
            "nflId:44896.0<br>displayName:Chris Godwin<br>Position:LWR<br>Role:Pass Route",
            "nflId:46163.0<br>displayName:Alex Cappa<br>Position:RG<br>Role:Pass Block",
            "nflId:52421.0<br>displayName:Tristan Wirfs<br>Position:RT<br>Role:Pass Block",
            "nflId:52569.0<br>displayName:Tyler Johnson<br>Position:RWR<br>Role:Pass Route"
           ],
           "marker": {
            "color": "#D50A0A"
           },
           "mode": "markers",
           "name": "TB",
           "type": "scatter",
           "x": [
            65.84,
            59.64,
            65.51,
            61.62,
            60.13,
            62.83,
            61.79,
            61.34,
            62.04,
            62.81,
            61.6
           ],
           "y": [
            29.8,
            14.35,
            32.52,
            30.03,
            41.38,
            26.63,
            28.36,
            12.12,
            31.35,
            33.07,
            42.81
           ]
          },
          {
           "hoverinfo": "text",
           "hovertext": [
            "nflId:41263.0<br>displayName:Demarcus Lawrence<br>Position:NLT<br>Role:Pass Rush",
            "nflId:42403.0<br>displayName:Randy Gregory<br>Position:ROLB<br>Role:Pass Rush",
            "nflId:43306.0<br>displayName:Keanu Neal<br>Position:LLB<br>Role:Coverage",
            "nflId:43478.0<br>displayName:Anthony Brown<br>Position:RCB<br>Role:Coverage",
            "nflId:43498.0<br>displayName:Maurice Canady<br>Position:SCBL<br>Role:Coverage",
            "nflId:43533.0<br>displayName:Jayron Kearse<br>Position:FS<br>Role:Coverage",
            "nflId:44904.0<br>displayName:Jourdan Lewis<br>Position:SCBR<br>Role:Coverage",
            "nflId:44962.0<br>displayName:Damontae Kazee<br>Position:FSL<br>Role:Coverage",
            "nflId:47996.0<br>displayName:Donovan Wilson<br>Position:FSR<br>Role:Coverage",
            "nflId:52459.0<br>displayName:Trevon Diggs<br>Position:LCB<br>Role:Coverage",
            "nflId:53441.0<br>displayName:Micah Parsons<br>Position:LOLB<br>Role:Pass Rush"
           ],
           "marker": {
            "color": "#003594"
           },
           "mode": "markers",
           "name": "DAL",
           "type": "scatter",
           "x": [
            60.51,
            60.85,
            55.35,
            57.8,
            56.15,
            28.29,
            58.19,
            35.82,
            35.98,
            56.03,
            61.2
           ],
           "y": [
            30.3,
            23.88,
            34.31,
            10.57,
            41.83,
            29.24,
            14.1,
            45.31,
            12.87,
            44.2,
            34.78
           ]
          },
          {
           "hoverinfo": "none",
           "marker": {
            "color": "#CBB67C"
           },
           "mode": "markers",
           "name": "football",
           "type": "scatter",
           "x": [
            65.94
           ],
           "y": [
            30.22
           ]
          }
         ],
         "name": "12"
        },
        {
         "data": [
          {
           "hoverinfo": "none",
           "mode": "text",
           "showlegend": false,
           "text": [
            "10",
            "20",
            "30",
            "40",
            "50",
            "40",
            "30",
            "20",
            "10"
           ],
           "textfont": {
            "color": "#ffffff",
            "family": "Courier New, monospace",
            "size": 30
           },
           "type": "scatter",
           "x": [
            20,
            30,
            40,
            50,
            60,
            70,
            80,
            90,
            100
           ],
           "y": [
            5,
            5,
            5,
            5,
            5,
            5,
            5,
            5,
            5
           ]
          },
          {
           "hoverinfo": "none",
           "mode": "text",
           "showlegend": false,
           "text": [
            "10",
            "20",
            "30",
            "40",
            "50",
            "40",
            "30",
            "20",
            "10"
           ],
           "textfont": {
            "color": "#ffffff",
            "family": "Courier New, monospace",
            "size": 30
           },
           "type": "scatter",
           "x": [
            20,
            30,
            40,
            50,
            60,
            70,
            80,
            90,
            100
           ],
           "y": [
            48.5,
            48.5,
            48.5,
            48.5,
            48.5,
            48.5,
            48.5,
            48.5,
            48.5
           ]
          },
          {
           "hoverinfo": "none",
           "line": {
            "color": "blue",
            "dash": "dash"
           },
           "showlegend": false,
           "type": "scatter",
           "x": [
            60,
            60
           ],
           "y": [
            0,
            53.5
           ]
          },
          {
           "hoverinfo": "none",
           "line": {
            "color": "yellow",
            "dash": "dash"
           },
           "showlegend": false,
           "type": "scatter",
           "x": [
            70,
            70
           ],
           "y": [
            0,
            53.5
           ]
          },
          {
           "hoverinfo": "text",
           "hovertext": [
            "nflId:25511.0<br>displayName:Tom Brady<br>Position:QB<br>Role:Pass",
            "nflId:35634.0<br>displayName:Antonio Brown<br>Position:SLWR<br>Role:Pass Route",
            "nflId:39985.0<br>displayName:Giovani Bernard<br>Position:HB-R<br>Role:Pass Route",
            "nflId:40151.0<br>displayName:Ryan Jensen<br>Position:C<br>Role:Pass Block",
            "nflId:41233.0<br>displayName:Mike Evans<br>Position:SRWR<br>Role:Pass Route",
            "nflId:42377.0<br>displayName:Donovan Smith<br>Position:LT<br>Role:Pass Block",
            "nflId:42404.0<br>displayName:Ali Marpet<br>Position:LG<br>Role:Pass Block",
            "nflId:44896.0<br>displayName:Chris Godwin<br>Position:LWR<br>Role:Pass Route",
            "nflId:46163.0<br>displayName:Alex Cappa<br>Position:RG<br>Role:Pass Block",
            "nflId:52421.0<br>displayName:Tristan Wirfs<br>Position:RT<br>Role:Pass Block",
            "nflId:52569.0<br>displayName:Tyler Johnson<br>Position:RWR<br>Role:Pass Route"
           ],
           "marker": {
            "color": "#D50A0A"
           },
           "mode": "markers",
           "name": "TB",
           "type": "scatter",
           "x": [
            66.01,
            59.41,
            65.52,
            61.82,
            59.77,
            63.08,
            61.97,
            61.07,
            62.21,
            63.05,
            61.36
           ],
           "y": [
            29.83,
            14.34,
            32.65,
            30.06,
            41.42,
            26.63,
            28.34,
            12.03,
            31.37,
            33.17,
            42.86
           ]
          },
          {
           "hoverinfo": "text",
           "hovertext": [
            "nflId:41263.0<br>displayName:Demarcus Lawrence<br>Position:NLT<br>Role:Pass Rush",
            "nflId:42403.0<br>displayName:Randy Gregory<br>Position:ROLB<br>Role:Pass Rush",
            "nflId:43306.0<br>displayName:Keanu Neal<br>Position:LLB<br>Role:Coverage",
            "nflId:43478.0<br>displayName:Anthony Brown<br>Position:RCB<br>Role:Coverage",
            "nflId:43498.0<br>displayName:Maurice Canady<br>Position:SCBL<br>Role:Coverage",
            "nflId:43533.0<br>displayName:Jayron Kearse<br>Position:FS<br>Role:Coverage",
            "nflId:44904.0<br>displayName:Jourdan Lewis<br>Position:SCBR<br>Role:Coverage",
            "nflId:44962.0<br>displayName:Damontae Kazee<br>Position:FSL<br>Role:Coverage",
            "nflId:47996.0<br>displayName:Donovan Wilson<br>Position:FSR<br>Role:Coverage",
            "nflId:52459.0<br>displayName:Trevon Diggs<br>Position:LCB<br>Role:Coverage",
            "nflId:53441.0<br>displayName:Micah Parsons<br>Position:LOLB<br>Role:Pass Rush"
           ],
           "marker": {
            "color": "#003594"
           },
           "mode": "markers",
           "name": "DAL",
           "type": "scatter",
           "x": [
            60.73,
            61.2,
            55.33,
            57.73,
            56.01,
            28.18,
            58.07,
            35.89,
            35.83,
            55.86,
            61.59
           ],
           "y": [
            30.34,
            24.08,
            34.39,
            10.52,
            41.88,
            29.24,
            14.19,
            45.32,
            12.92,
            44.25,
            34.69
           ]
          },
          {
           "hoverinfo": "none",
           "marker": {
            "color": "#CBB67C"
           },
           "mode": "markers",
           "name": "football",
           "type": "scatter",
           "x": [
            66.6
           ],
           "y": [
            30.23
           ]
          }
         ],
         "name": "13"
        },
        {
         "data": [
          {
           "hoverinfo": "none",
           "mode": "text",
           "showlegend": false,
           "text": [
            "10",
            "20",
            "30",
            "40",
            "50",
            "40",
            "30",
            "20",
            "10"
           ],
           "textfont": {
            "color": "#ffffff",
            "family": "Courier New, monospace",
            "size": 30
           },
           "type": "scatter",
           "x": [
            20,
            30,
            40,
            50,
            60,
            70,
            80,
            90,
            100
           ],
           "y": [
            5,
            5,
            5,
            5,
            5,
            5,
            5,
            5,
            5
           ]
          },
          {
           "hoverinfo": "none",
           "mode": "text",
           "showlegend": false,
           "text": [
            "10",
            "20",
            "30",
            "40",
            "50",
            "40",
            "30",
            "20",
            "10"
           ],
           "textfont": {
            "color": "#ffffff",
            "family": "Courier New, monospace",
            "size": 30
           },
           "type": "scatter",
           "x": [
            20,
            30,
            40,
            50,
            60,
            70,
            80,
            90,
            100
           ],
           "y": [
            48.5,
            48.5,
            48.5,
            48.5,
            48.5,
            48.5,
            48.5,
            48.5,
            48.5
           ]
          },
          {
           "hoverinfo": "none",
           "line": {
            "color": "blue",
            "dash": "dash"
           },
           "showlegend": false,
           "type": "scatter",
           "x": [
            60,
            60
           ],
           "y": [
            0,
            53.5
           ]
          },
          {
           "hoverinfo": "none",
           "line": {
            "color": "yellow",
            "dash": "dash"
           },
           "showlegend": false,
           "type": "scatter",
           "x": [
            70,
            70
           ],
           "y": [
            0,
            53.5
           ]
          },
          {
           "hoverinfo": "text",
           "hovertext": [
            "nflId:25511.0<br>displayName:Tom Brady<br>Position:QB<br>Role:Pass",
            "nflId:35634.0<br>displayName:Antonio Brown<br>Position:SLWR<br>Role:Pass Route",
            "nflId:39985.0<br>displayName:Giovani Bernard<br>Position:HB-R<br>Role:Pass Route",
            "nflId:40151.0<br>displayName:Ryan Jensen<br>Position:C<br>Role:Pass Block",
            "nflId:41233.0<br>displayName:Mike Evans<br>Position:SRWR<br>Role:Pass Route",
            "nflId:42377.0<br>displayName:Donovan Smith<br>Position:LT<br>Role:Pass Block",
            "nflId:42404.0<br>displayName:Ali Marpet<br>Position:LG<br>Role:Pass Block",
            "nflId:44896.0<br>displayName:Chris Godwin<br>Position:LWR<br>Role:Pass Route",
            "nflId:46163.0<br>displayName:Alex Cappa<br>Position:RG<br>Role:Pass Block",
            "nflId:52421.0<br>displayName:Tristan Wirfs<br>Position:RT<br>Role:Pass Block",
            "nflId:52569.0<br>displayName:Tyler Johnson<br>Position:RWR<br>Role:Pass Route"
           ],
           "marker": {
            "color": "#D50A0A"
           },
           "mode": "markers",
           "name": "TB",
           "type": "scatter",
           "x": [
            66.19,
            59.15,
            65.53,
            62.05,
            59.35,
            63.34,
            62.22,
            60.72,
            62.41,
            63.31,
            61.05
           ],
           "y": [
            29.87,
            14.32,
            32.81,
            30.1,
            41.48,
            26.62,
            28.3,
            11.91,
            31.39,
            33.25,
            42.92
           ]
          },
          {
           "hoverinfo": "text",
           "hovertext": [
            "nflId:41263.0<br>displayName:Demarcus Lawrence<br>Position:NLT<br>Role:Pass Rush",
            "nflId:42403.0<br>displayName:Randy Gregory<br>Position:ROLB<br>Role:Pass Rush",
            "nflId:43306.0<br>displayName:Keanu Neal<br>Position:LLB<br>Role:Coverage",
            "nflId:43478.0<br>displayName:Anthony Brown<br>Position:RCB<br>Role:Coverage",
            "nflId:43498.0<br>displayName:Maurice Canady<br>Position:SCBL<br>Role:Coverage",
            "nflId:43533.0<br>displayName:Jayron Kearse<br>Position:FS<br>Role:Coverage",
            "nflId:44904.0<br>displayName:Jourdan Lewis<br>Position:SCBR<br>Role:Coverage",
            "nflId:44962.0<br>displayName:Damontae Kazee<br>Position:FSL<br>Role:Coverage",
            "nflId:47996.0<br>displayName:Donovan Wilson<br>Position:FSR<br>Role:Coverage",
            "nflId:52459.0<br>displayName:Trevon Diggs<br>Position:LCB<br>Role:Coverage",
            "nflId:53441.0<br>displayName:Micah Parsons<br>Position:LOLB<br>Role:Pass Rush"
           ],
           "marker": {
            "color": "#003594"
           },
           "mode": "markers",
           "name": "DAL",
           "type": "scatter",
           "x": [
            60.96,
            61.61,
            55.3,
            57.67,
            55.84,
            28.07,
            57.94,
            35.96,
            35.68,
            55.65,
            62.01
           ],
           "y": [
            30.37,
            24.32,
            34.48,
            10.48,
            41.95,
            29.24,
            14.28,
            45.33,
            12.96,
            44.3,
            34.61
           ]
          },
          {
           "hoverinfo": "none",
           "marker": {
            "color": "#CBB67C"
           },
           "mode": "markers",
           "name": "football",
           "type": "scatter",
           "x": [
            67.29
           ],
           "y": [
            30.23
           ]
          }
         ],
         "name": "14"
        },
        {
         "data": [
          {
           "hoverinfo": "none",
           "mode": "text",
           "showlegend": false,
           "text": [
            "10",
            "20",
            "30",
            "40",
            "50",
            "40",
            "30",
            "20",
            "10"
           ],
           "textfont": {
            "color": "#ffffff",
            "family": "Courier New, monospace",
            "size": 30
           },
           "type": "scatter",
           "x": [
            20,
            30,
            40,
            50,
            60,
            70,
            80,
            90,
            100
           ],
           "y": [
            5,
            5,
            5,
            5,
            5,
            5,
            5,
            5,
            5
           ]
          },
          {
           "hoverinfo": "none",
           "mode": "text",
           "showlegend": false,
           "text": [
            "10",
            "20",
            "30",
            "40",
            "50",
            "40",
            "30",
            "20",
            "10"
           ],
           "textfont": {
            "color": "#ffffff",
            "family": "Courier New, monospace",
            "size": 30
           },
           "type": "scatter",
           "x": [
            20,
            30,
            40,
            50,
            60,
            70,
            80,
            90,
            100
           ],
           "y": [
            48.5,
            48.5,
            48.5,
            48.5,
            48.5,
            48.5,
            48.5,
            48.5,
            48.5
           ]
          },
          {
           "hoverinfo": "none",
           "line": {
            "color": "blue",
            "dash": "dash"
           },
           "showlegend": false,
           "type": "scatter",
           "x": [
            60,
            60
           ],
           "y": [
            0,
            53.5
           ]
          },
          {
           "hoverinfo": "none",
           "line": {
            "color": "yellow",
            "dash": "dash"
           },
           "showlegend": false,
           "type": "scatter",
           "x": [
            70,
            70
           ],
           "y": [
            0,
            53.5
           ]
          },
          {
           "hoverinfo": "text",
           "hovertext": [
            "nflId:25511.0<br>displayName:Tom Brady<br>Position:QB<br>Role:Pass",
            "nflId:35634.0<br>displayName:Antonio Brown<br>Position:SLWR<br>Role:Pass Route",
            "nflId:39985.0<br>displayName:Giovani Bernard<br>Position:HB-R<br>Role:Pass Route",
            "nflId:40151.0<br>displayName:Ryan Jensen<br>Position:C<br>Role:Pass Block",
            "nflId:41233.0<br>displayName:Mike Evans<br>Position:SRWR<br>Role:Pass Route",
            "nflId:42377.0<br>displayName:Donovan Smith<br>Position:LT<br>Role:Pass Block",
            "nflId:42404.0<br>displayName:Ali Marpet<br>Position:LG<br>Role:Pass Block",
            "nflId:44896.0<br>displayName:Chris Godwin<br>Position:LWR<br>Role:Pass Route",
            "nflId:46163.0<br>displayName:Alex Cappa<br>Position:RG<br>Role:Pass Block",
            "nflId:52421.0<br>displayName:Tristan Wirfs<br>Position:RT<br>Role:Pass Block",
            "nflId:52569.0<br>displayName:Tyler Johnson<br>Position:RWR<br>Role:Pass Route"
           ],
           "marker": {
            "color": "#D50A0A"
           },
           "mode": "markers",
           "name": "TB",
           "type": "scatter",
           "x": [
            66.4,
            58.89,
            65.53,
            62.28,
            58.87,
            63.61,
            62.49,
            60.33,
            62.6,
            63.59,
            60.67
           ],
           "y": [
            29.9,
            14.29,
            33,
            30.14,
            41.55,
            26.63,
            28.28,
            11.77,
            31.43,
            33.33,
            43.04
           ]
          },
          {
           "hoverinfo": "text",
           "hovertext": [
            "nflId:41263.0<br>displayName:Demarcus Lawrence<br>Position:NLT<br>Role:Pass Rush",
            "nflId:42403.0<br>displayName:Randy Gregory<br>Position:ROLB<br>Role:Pass Rush",
            "nflId:43306.0<br>displayName:Keanu Neal<br>Position:LLB<br>Role:Coverage",
            "nflId:43478.0<br>displayName:Anthony Brown<br>Position:RCB<br>Role:Coverage",
            "nflId:43498.0<br>displayName:Maurice Canady<br>Position:SCBL<br>Role:Coverage",
            "nflId:43533.0<br>displayName:Jayron Kearse<br>Position:FS<br>Role:Coverage",
            "nflId:44904.0<br>displayName:Jourdan Lewis<br>Position:SCBR<br>Role:Coverage",
            "nflId:44962.0<br>displayName:Damontae Kazee<br>Position:FSL<br>Role:Coverage",
            "nflId:47996.0<br>displayName:Donovan Wilson<br>Position:FSR<br>Role:Coverage",
            "nflId:52459.0<br>displayName:Trevon Diggs<br>Position:LCB<br>Role:Coverage",
            "nflId:53441.0<br>displayName:Micah Parsons<br>Position:LOLB<br>Role:Pass Rush"
           ],
           "marker": {
            "color": "#003594"
           },
           "mode": "markers",
           "name": "DAL",
           "type": "scatter",
           "x": [
            61.21,
            62.03,
            55.28,
            57.57,
            55.63,
            27.95,
            57.79,
            36.02,
            35.5,
            55.37,
            62.45
           ],
           "y": [
            30.36,
            24.56,
            34.58,
            10.41,
            42.03,
            29.23,
            14.36,
            45.35,
            12.99,
            44.36,
            34.51
           ]
          },
          {
           "hoverinfo": "none",
           "marker": {
            "color": "#CBB67C"
           },
           "mode": "markers",
           "name": "football",
           "type": "scatter",
           "x": [
            67.64
           ],
           "y": [
            30.23
           ]
          }
         ],
         "name": "15"
        },
        {
         "data": [
          {
           "hoverinfo": "none",
           "mode": "text",
           "showlegend": false,
           "text": [
            "10",
            "20",
            "30",
            "40",
            "50",
            "40",
            "30",
            "20",
            "10"
           ],
           "textfont": {
            "color": "#ffffff",
            "family": "Courier New, monospace",
            "size": 30
           },
           "type": "scatter",
           "x": [
            20,
            30,
            40,
            50,
            60,
            70,
            80,
            90,
            100
           ],
           "y": [
            5,
            5,
            5,
            5,
            5,
            5,
            5,
            5,
            5
           ]
          },
          {
           "hoverinfo": "none",
           "mode": "text",
           "showlegend": false,
           "text": [
            "10",
            "20",
            "30",
            "40",
            "50",
            "40",
            "30",
            "20",
            "10"
           ],
           "textfont": {
            "color": "#ffffff",
            "family": "Courier New, monospace",
            "size": 30
           },
           "type": "scatter",
           "x": [
            20,
            30,
            40,
            50,
            60,
            70,
            80,
            90,
            100
           ],
           "y": [
            48.5,
            48.5,
            48.5,
            48.5,
            48.5,
            48.5,
            48.5,
            48.5,
            48.5
           ]
          },
          {
           "hoverinfo": "none",
           "line": {
            "color": "blue",
            "dash": "dash"
           },
           "showlegend": false,
           "type": "scatter",
           "x": [
            60,
            60
           ],
           "y": [
            0,
            53.5
           ]
          },
          {
           "hoverinfo": "none",
           "line": {
            "color": "yellow",
            "dash": "dash"
           },
           "showlegend": false,
           "type": "scatter",
           "x": [
            70,
            70
           ],
           "y": [
            0,
            53.5
           ]
          },
          {
           "hoverinfo": "text",
           "hovertext": [
            "nflId:25511.0<br>displayName:Tom Brady<br>Position:QB<br>Role:Pass",
            "nflId:35634.0<br>displayName:Antonio Brown<br>Position:SLWR<br>Role:Pass Route",
            "nflId:39985.0<br>displayName:Giovani Bernard<br>Position:HB-R<br>Role:Pass Route",
            "nflId:40151.0<br>displayName:Ryan Jensen<br>Position:C<br>Role:Pass Block",
            "nflId:41233.0<br>displayName:Mike Evans<br>Position:SRWR<br>Role:Pass Route",
            "nflId:42377.0<br>displayName:Donovan Smith<br>Position:LT<br>Role:Pass Block",
            "nflId:42404.0<br>displayName:Ali Marpet<br>Position:LG<br>Role:Pass Block",
            "nflId:44896.0<br>displayName:Chris Godwin<br>Position:LWR<br>Role:Pass Route",
            "nflId:46163.0<br>displayName:Alex Cappa<br>Position:RG<br>Role:Pass Block",
            "nflId:52421.0<br>displayName:Tristan Wirfs<br>Position:RT<br>Role:Pass Block",
            "nflId:52569.0<br>displayName:Tyler Johnson<br>Position:RWR<br>Role:Pass Route"
           ],
           "marker": {
            "color": "#D50A0A"
           },
           "mode": "markers",
           "name": "TB",
           "type": "scatter",
           "x": [
            66.61,
            58.6,
            65.49,
            62.51,
            58.36,
            63.9,
            62.78,
            59.88,
            62.79,
            63.88,
            60.26
           ],
           "y": [
            29.94,
            14.23,
            33.19,
            30.17,
            41.62,
            26.67,
            28.24,
            11.61,
            31.47,
            33.4,
            43.17
           ]
          },
          {
           "hoverinfo": "text",
           "hovertext": [
            "nflId:41263.0<br>displayName:Demarcus Lawrence<br>Position:NLT<br>Role:Pass Rush",
            "nflId:42403.0<br>displayName:Randy Gregory<br>Position:ROLB<br>Role:Pass Rush",
            "nflId:43306.0<br>displayName:Keanu Neal<br>Position:LLB<br>Role:Coverage",
            "nflId:43478.0<br>displayName:Anthony Brown<br>Position:RCB<br>Role:Coverage",
            "nflId:43498.0<br>displayName:Maurice Canady<br>Position:SCBL<br>Role:Coverage",
            "nflId:43533.0<br>displayName:Jayron Kearse<br>Position:FS<br>Role:Coverage",
            "nflId:44904.0<br>displayName:Jourdan Lewis<br>Position:SCBR<br>Role:Coverage",
            "nflId:44962.0<br>displayName:Damontae Kazee<br>Position:FSL<br>Role:Coverage",
            "nflId:47996.0<br>displayName:Donovan Wilson<br>Position:FSR<br>Role:Coverage",
            "nflId:52459.0<br>displayName:Trevon Diggs<br>Position:LCB<br>Role:Coverage",
            "nflId:53441.0<br>displayName:Micah Parsons<br>Position:LOLB<br>Role:Pass Rush"
           ],
           "marker": {
            "color": "#003594"
           },
           "mode": "markers",
           "name": "DAL",
           "type": "scatter",
           "x": [
            61.45,
            62.47,
            55.25,
            57.44,
            55.4,
            27.84,
            57.61,
            36.06,
            35.32,
            55.04,
            62.9
           ],
           "y": [
            30.32,
            24.81,
            34.69,
            10.33,
            42.11,
            29.23,
            14.43,
            45.38,
            13.01,
            44.43,
            34.39
           ]
          },
          {
           "hoverinfo": "none",
           "marker": {
            "color": "#CBB67C"
           },
           "mode": "markers",
           "name": "football",
           "type": "scatter",
           "x": [
            67.89
           ],
           "y": [
            30.24
           ]
          }
         ],
         "name": "16"
        },
        {
         "data": [
          {
           "hoverinfo": "none",
           "mode": "text",
           "showlegend": false,
           "text": [
            "10",
            "20",
            "30",
            "40",
            "50",
            "40",
            "30",
            "20",
            "10"
           ],
           "textfont": {
            "color": "#ffffff",
            "family": "Courier New, monospace",
            "size": 30
           },
           "type": "scatter",
           "x": [
            20,
            30,
            40,
            50,
            60,
            70,
            80,
            90,
            100
           ],
           "y": [
            5,
            5,
            5,
            5,
            5,
            5,
            5,
            5,
            5
           ]
          },
          {
           "hoverinfo": "none",
           "mode": "text",
           "showlegend": false,
           "text": [
            "10",
            "20",
            "30",
            "40",
            "50",
            "40",
            "30",
            "20",
            "10"
           ],
           "textfont": {
            "color": "#ffffff",
            "family": "Courier New, monospace",
            "size": 30
           },
           "type": "scatter",
           "x": [
            20,
            30,
            40,
            50,
            60,
            70,
            80,
            90,
            100
           ],
           "y": [
            48.5,
            48.5,
            48.5,
            48.5,
            48.5,
            48.5,
            48.5,
            48.5,
            48.5
           ]
          },
          {
           "hoverinfo": "none",
           "line": {
            "color": "blue",
            "dash": "dash"
           },
           "showlegend": false,
           "type": "scatter",
           "x": [
            60,
            60
           ],
           "y": [
            0,
            53.5
           ]
          },
          {
           "hoverinfo": "none",
           "line": {
            "color": "yellow",
            "dash": "dash"
           },
           "showlegend": false,
           "type": "scatter",
           "x": [
            70,
            70
           ],
           "y": [
            0,
            53.5
           ]
          },
          {
           "hoverinfo": "text",
           "hovertext": [
            "nflId:25511.0<br>displayName:Tom Brady<br>Position:QB<br>Role:Pass",
            "nflId:35634.0<br>displayName:Antonio Brown<br>Position:SLWR<br>Role:Pass Route",
            "nflId:39985.0<br>displayName:Giovani Bernard<br>Position:HB-R<br>Role:Pass Route",
            "nflId:40151.0<br>displayName:Ryan Jensen<br>Position:C<br>Role:Pass Block",
            "nflId:41233.0<br>displayName:Mike Evans<br>Position:SRWR<br>Role:Pass Route",
            "nflId:42377.0<br>displayName:Donovan Smith<br>Position:LT<br>Role:Pass Block",
            "nflId:42404.0<br>displayName:Ali Marpet<br>Position:LG<br>Role:Pass Block",
            "nflId:44896.0<br>displayName:Chris Godwin<br>Position:LWR<br>Role:Pass Route",
            "nflId:46163.0<br>displayName:Alex Cappa<br>Position:RG<br>Role:Pass Block",
            "nflId:52421.0<br>displayName:Tristan Wirfs<br>Position:RT<br>Role:Pass Block",
            "nflId:52569.0<br>displayName:Tyler Johnson<br>Position:RWR<br>Role:Pass Route"
           ],
           "marker": {
            "color": "#D50A0A"
           },
           "mode": "markers",
           "name": "TB",
           "type": "scatter",
           "x": [
            66.8,
            58.31,
            65.45,
            62.73,
            57.83,
            64.18,
            63.06,
            59.4,
            62.99,
            64.19,
            59.8
           ],
           "y": [
            29.99,
            14.14,
            33.39,
            30.21,
            41.74,
            26.71,
            28.21,
            11.44,
            31.5,
            33.43,
            43.32
           ]
          },
          {
           "hoverinfo": "text",
           "hovertext": [
            "nflId:41263.0<br>displayName:Demarcus Lawrence<br>Position:NLT<br>Role:Pass Rush",
            "nflId:42403.0<br>displayName:Randy Gregory<br>Position:ROLB<br>Role:Pass Rush",
            "nflId:43306.0<br>displayName:Keanu Neal<br>Position:LLB<br>Role:Coverage",
            "nflId:43478.0<br>displayName:Anthony Brown<br>Position:RCB<br>Role:Coverage",
            "nflId:43498.0<br>displayName:Maurice Canady<br>Position:SCBL<br>Role:Coverage",
            "nflId:43533.0<br>displayName:Jayron Kearse<br>Position:FS<br>Role:Coverage",
            "nflId:44904.0<br>displayName:Jourdan Lewis<br>Position:SCBR<br>Role:Coverage",
            "nflId:44962.0<br>displayName:Damontae Kazee<br>Position:FSL<br>Role:Coverage",
            "nflId:47996.0<br>displayName:Donovan Wilson<br>Position:FSR<br>Role:Coverage",
            "nflId:52459.0<br>displayName:Trevon Diggs<br>Position:LCB<br>Role:Coverage",
            "nflId:53441.0<br>displayName:Micah Parsons<br>Position:LOLB<br>Role:Pass Rush"
           ],
           "marker": {
            "color": "#003594"
           },
           "mode": "markers",
           "name": "DAL",
           "type": "scatter",
           "x": [
            61.69,
            62.95,
            55.22,
            57.27,
            55.15,
            27.71,
            57.42,
            36.1,
            35.14,
            54.66,
            63.33
           ],
           "y": [
            30.28,
            25.05,
            34.8,
            10.23,
            42.2,
            29.24,
            14.48,
            45.4,
            13.02,
            44.5,
            34.25
           ]
          },
          {
           "hoverinfo": "none",
           "marker": {
            "color": "#CBB67C"
           },
           "mode": "markers",
           "name": "football",
           "type": "scatter",
           "x": [
            68.23
           ],
           "y": [
            30.25
           ]
          }
         ],
         "name": "17"
        },
        {
         "data": [
          {
           "hoverinfo": "none",
           "mode": "text",
           "showlegend": false,
           "text": [
            "10",
            "20",
            "30",
            "40",
            "50",
            "40",
            "30",
            "20",
            "10"
           ],
           "textfont": {
            "color": "#ffffff",
            "family": "Courier New, monospace",
            "size": 30
           },
           "type": "scatter",
           "x": [
            20,
            30,
            40,
            50,
            60,
            70,
            80,
            90,
            100
           ],
           "y": [
            5,
            5,
            5,
            5,
            5,
            5,
            5,
            5,
            5
           ]
          },
          {
           "hoverinfo": "none",
           "mode": "text",
           "showlegend": false,
           "text": [
            "10",
            "20",
            "30",
            "40",
            "50",
            "40",
            "30",
            "20",
            "10"
           ],
           "textfont": {
            "color": "#ffffff",
            "family": "Courier New, monospace",
            "size": 30
           },
           "type": "scatter",
           "x": [
            20,
            30,
            40,
            50,
            60,
            70,
            80,
            90,
            100
           ],
           "y": [
            48.5,
            48.5,
            48.5,
            48.5,
            48.5,
            48.5,
            48.5,
            48.5,
            48.5
           ]
          },
          {
           "hoverinfo": "none",
           "line": {
            "color": "blue",
            "dash": "dash"
           },
           "showlegend": false,
           "type": "scatter",
           "x": [
            60,
            60
           ],
           "y": [
            0,
            53.5
           ]
          },
          {
           "hoverinfo": "none",
           "line": {
            "color": "yellow",
            "dash": "dash"
           },
           "showlegend": false,
           "type": "scatter",
           "x": [
            70,
            70
           ],
           "y": [
            0,
            53.5
           ]
          },
          {
           "hoverinfo": "text",
           "hovertext": [
            "nflId:25511.0<br>displayName:Tom Brady<br>Position:QB<br>Role:Pass",
            "nflId:35634.0<br>displayName:Antonio Brown<br>Position:SLWR<br>Role:Pass Route",
            "nflId:39985.0<br>displayName:Giovani Bernard<br>Position:HB-R<br>Role:Pass Route",
            "nflId:40151.0<br>displayName:Ryan Jensen<br>Position:C<br>Role:Pass Block",
            "nflId:41233.0<br>displayName:Mike Evans<br>Position:SRWR<br>Role:Pass Route",
            "nflId:42377.0<br>displayName:Donovan Smith<br>Position:LT<br>Role:Pass Block",
            "nflId:42404.0<br>displayName:Ali Marpet<br>Position:LG<br>Role:Pass Block",
            "nflId:44896.0<br>displayName:Chris Godwin<br>Position:LWR<br>Role:Pass Route",
            "nflId:46163.0<br>displayName:Alex Cappa<br>Position:RG<br>Role:Pass Block",
            "nflId:52421.0<br>displayName:Tristan Wirfs<br>Position:RT<br>Role:Pass Block",
            "nflId:52569.0<br>displayName:Tyler Johnson<br>Position:RWR<br>Role:Pass Route"
           ],
           "marker": {
            "color": "#D50A0A"
           },
           "mode": "markers",
           "name": "TB",
           "type": "scatter",
           "x": [
            66.99,
            57.99,
            65.37,
            62.95,
            57.28,
            64.46,
            63.38,
            58.89,
            63.2,
            64.51,
            59.31
           ],
           "y": [
            30.04,
            14.03,
            33.6,
            30.22,
            41.88,
            26.77,
            28.16,
            11.23,
            31.53,
            33.43,
            43.49
           ]
          },
          {
           "hoverinfo": "text",
           "hovertext": [
            "nflId:41263.0<br>displayName:Demarcus Lawrence<br>Position:NLT<br>Role:Pass Rush",
            "nflId:42403.0<br>displayName:Randy Gregory<br>Position:ROLB<br>Role:Pass Rush",
            "nflId:43306.0<br>displayName:Keanu Neal<br>Position:LLB<br>Role:Coverage",
            "nflId:43478.0<br>displayName:Anthony Brown<br>Position:RCB<br>Role:Coverage",
            "nflId:43498.0<br>displayName:Maurice Canady<br>Position:SCBL<br>Role:Coverage",
            "nflId:43533.0<br>displayName:Jayron Kearse<br>Position:FS<br>Role:Coverage",
            "nflId:44904.0<br>displayName:Jourdan Lewis<br>Position:SCBR<br>Role:Coverage",
            "nflId:44962.0<br>displayName:Damontae Kazee<br>Position:FSL<br>Role:Coverage",
            "nflId:47996.0<br>displayName:Donovan Wilson<br>Position:FSR<br>Role:Coverage",
            "nflId:52459.0<br>displayName:Trevon Diggs<br>Position:LCB<br>Role:Coverage",
            "nflId:53441.0<br>displayName:Micah Parsons<br>Position:LOLB<br>Role:Pass Rush"
           ],
           "marker": {
            "color": "#003594"
           },
           "mode": "markers",
           "name": "DAL",
           "type": "scatter",
           "x": [
            61.93,
            63.45,
            55.18,
            57.03,
            54.88,
            27.59,
            57.2,
            36.12,
            34.94,
            54.25,
            63.76
           ],
           "y": [
            30.2,
            25.29,
            34.93,
            10.1,
            42.29,
            29.26,
            14.48,
            45.44,
            13.01,
            44.58,
            34.1
           ]
          },
          {
           "hoverinfo": "none",
           "marker": {
            "color": "#CBB67C"
           },
           "mode": "markers",
           "name": "football",
           "type": "scatter",
           "x": [
            68.2
           ],
           "y": [
            30.27
           ]
          }
         ],
         "name": "18"
        },
        {
         "data": [
          {
           "hoverinfo": "none",
           "mode": "text",
           "showlegend": false,
           "text": [
            "10",
            "20",
            "30",
            "40",
            "50",
            "40",
            "30",
            "20",
            "10"
           ],
           "textfont": {
            "color": "#ffffff",
            "family": "Courier New, monospace",
            "size": 30
           },
           "type": "scatter",
           "x": [
            20,
            30,
            40,
            50,
            60,
            70,
            80,
            90,
            100
           ],
           "y": [
            5,
            5,
            5,
            5,
            5,
            5,
            5,
            5,
            5
           ]
          },
          {
           "hoverinfo": "none",
           "mode": "text",
           "showlegend": false,
           "text": [
            "10",
            "20",
            "30",
            "40",
            "50",
            "40",
            "30",
            "20",
            "10"
           ],
           "textfont": {
            "color": "#ffffff",
            "family": "Courier New, monospace",
            "size": 30
           },
           "type": "scatter",
           "x": [
            20,
            30,
            40,
            50,
            60,
            70,
            80,
            90,
            100
           ],
           "y": [
            48.5,
            48.5,
            48.5,
            48.5,
            48.5,
            48.5,
            48.5,
            48.5,
            48.5
           ]
          },
          {
           "hoverinfo": "none",
           "line": {
            "color": "blue",
            "dash": "dash"
           },
           "showlegend": false,
           "type": "scatter",
           "x": [
            60,
            60
           ],
           "y": [
            0,
            53.5
           ]
          },
          {
           "hoverinfo": "none",
           "line": {
            "color": "yellow",
            "dash": "dash"
           },
           "showlegend": false,
           "type": "scatter",
           "x": [
            70,
            70
           ],
           "y": [
            0,
            53.5
           ]
          },
          {
           "hoverinfo": "text",
           "hovertext": [
            "nflId:25511.0<br>displayName:Tom Brady<br>Position:QB<br>Role:Pass",
            "nflId:35634.0<br>displayName:Antonio Brown<br>Position:SLWR<br>Role:Pass Route",
            "nflId:39985.0<br>displayName:Giovani Bernard<br>Position:HB-R<br>Role:Pass Route",
            "nflId:40151.0<br>displayName:Ryan Jensen<br>Position:C<br>Role:Pass Block",
            "nflId:41233.0<br>displayName:Mike Evans<br>Position:SRWR<br>Role:Pass Route",
            "nflId:42377.0<br>displayName:Donovan Smith<br>Position:LT<br>Role:Pass Block",
            "nflId:42404.0<br>displayName:Ali Marpet<br>Position:LG<br>Role:Pass Block",
            "nflId:44896.0<br>displayName:Chris Godwin<br>Position:LWR<br>Role:Pass Route",
            "nflId:46163.0<br>displayName:Alex Cappa<br>Position:RG<br>Role:Pass Block",
            "nflId:52421.0<br>displayName:Tristan Wirfs<br>Position:RT<br>Role:Pass Block",
            "nflId:52569.0<br>displayName:Tyler Johnson<br>Position:RWR<br>Role:Pass Route"
           ],
           "marker": {
            "color": "#D50A0A"
           },
           "mode": "markers",
           "name": "TB",
           "type": "scatter",
           "x": [
            67.14,
            57.67,
            65.25,
            63.15,
            56.71,
            64.76,
            63.7,
            58.35,
            63.4,
            64.8,
            58.79
           ],
           "y": [
            30.09,
            13.87,
            33.79,
            30.18,
            42.04,
            26.86,
            28.1,
            11,
            31.57,
            33.42,
            43.67
           ]
          },
          {
           "hoverinfo": "text",
           "hovertext": [
            "nflId:41263.0<br>displayName:Demarcus Lawrence<br>Position:NLT<br>Role:Pass Rush",
            "nflId:42403.0<br>displayName:Randy Gregory<br>Position:ROLB<br>Role:Pass Rush",
            "nflId:43306.0<br>displayName:Keanu Neal<br>Position:LLB<br>Role:Coverage",
            "nflId:43478.0<br>displayName:Anthony Brown<br>Position:RCB<br>Role:Coverage",
            "nflId:43498.0<br>displayName:Maurice Canady<br>Position:SCBL<br>Role:Coverage",
            "nflId:43533.0<br>displayName:Jayron Kearse<br>Position:FS<br>Role:Coverage",
            "nflId:44904.0<br>displayName:Jourdan Lewis<br>Position:SCBR<br>Role:Coverage",
            "nflId:44962.0<br>displayName:Damontae Kazee<br>Position:FSL<br>Role:Coverage",
            "nflId:47996.0<br>displayName:Donovan Wilson<br>Position:FSR<br>Role:Coverage",
            "nflId:52459.0<br>displayName:Trevon Diggs<br>Position:LCB<br>Role:Coverage",
            "nflId:53441.0<br>displayName:Micah Parsons<br>Position:LOLB<br>Role:Pass Rush"
           ],
           "marker": {
            "color": "#003594"
           },
           "mode": "markers",
           "name": "DAL",
           "type": "scatter",
           "x": [
            62.19,
            63.93,
            55.15,
            56.72,
            54.58,
            27.47,
            56.95,
            36.13,
            34.73,
            53.8,
            64.16
           ],
           "y": [
            30.09,
            25.54,
            35.07,
            9.96,
            42.38,
            29.29,
            14.45,
            45.49,
            12.99,
            44.67,
            33.94
           ]
          },
          {
           "hoverinfo": "none",
           "marker": {
            "color": "#CBB67C"
           },
           "mode": "markers",
           "name": "football",
           "type": "scatter",
           "x": [
            68.31
           ],
           "y": [
            30.22
           ]
          }
         ],
         "name": "19"
        },
        {
         "data": [
          {
           "hoverinfo": "none",
           "mode": "text",
           "showlegend": false,
           "text": [
            "10",
            "20",
            "30",
            "40",
            "50",
            "40",
            "30",
            "20",
            "10"
           ],
           "textfont": {
            "color": "#ffffff",
            "family": "Courier New, monospace",
            "size": 30
           },
           "type": "scatter",
           "x": [
            20,
            30,
            40,
            50,
            60,
            70,
            80,
            90,
            100
           ],
           "y": [
            5,
            5,
            5,
            5,
            5,
            5,
            5,
            5,
            5
           ]
          },
          {
           "hoverinfo": "none",
           "mode": "text",
           "showlegend": false,
           "text": [
            "10",
            "20",
            "30",
            "40",
            "50",
            "40",
            "30",
            "20",
            "10"
           ],
           "textfont": {
            "color": "#ffffff",
            "family": "Courier New, monospace",
            "size": 30
           },
           "type": "scatter",
           "x": [
            20,
            30,
            40,
            50,
            60,
            70,
            80,
            90,
            100
           ],
           "y": [
            48.5,
            48.5,
            48.5,
            48.5,
            48.5,
            48.5,
            48.5,
            48.5,
            48.5
           ]
          },
          {
           "hoverinfo": "none",
           "line": {
            "color": "blue",
            "dash": "dash"
           },
           "showlegend": false,
           "type": "scatter",
           "x": [
            60,
            60
           ],
           "y": [
            0,
            53.5
           ]
          },
          {
           "hoverinfo": "none",
           "line": {
            "color": "yellow",
            "dash": "dash"
           },
           "showlegend": false,
           "type": "scatter",
           "x": [
            70,
            70
           ],
           "y": [
            0,
            53.5
           ]
          },
          {
           "hoverinfo": "text",
           "hovertext": [
            "nflId:25511.0<br>displayName:Tom Brady<br>Position:QB<br>Role:Pass",
            "nflId:35634.0<br>displayName:Antonio Brown<br>Position:SLWR<br>Role:Pass Route",
            "nflId:39985.0<br>displayName:Giovani Bernard<br>Position:HB-R<br>Role:Pass Route",
            "nflId:40151.0<br>displayName:Ryan Jensen<br>Position:C<br>Role:Pass Block",
            "nflId:41233.0<br>displayName:Mike Evans<br>Position:SRWR<br>Role:Pass Route",
            "nflId:42377.0<br>displayName:Donovan Smith<br>Position:LT<br>Role:Pass Block",
            "nflId:42404.0<br>displayName:Ali Marpet<br>Position:LG<br>Role:Pass Block",
            "nflId:44896.0<br>displayName:Chris Godwin<br>Position:LWR<br>Role:Pass Route",
            "nflId:46163.0<br>displayName:Alex Cappa<br>Position:RG<br>Role:Pass Block",
            "nflId:52421.0<br>displayName:Tristan Wirfs<br>Position:RT<br>Role:Pass Block",
            "nflId:52569.0<br>displayName:Tyler Johnson<br>Position:RWR<br>Role:Pass Route"
           ],
           "marker": {
            "color": "#D50A0A"
           },
           "mode": "markers",
           "name": "TB",
           "type": "scatter",
           "x": [
            67.27,
            57.33,
            65.1,
            63.34,
            56.13,
            65.05,
            64.04,
            57.8,
            63.61,
            65.09,
            58.24
           ],
           "y": [
            30.16,
            13.69,
            33.97,
            30.15,
            42.24,
            26.97,
            28.03,
            10.76,
            31.61,
            33.37,
            43.87
           ]
          },
          {
           "hoverinfo": "text",
           "hovertext": [
            "nflId:41263.0<br>displayName:Demarcus Lawrence<br>Position:NLT<br>Role:Pass Rush",
            "nflId:42403.0<br>displayName:Randy Gregory<br>Position:ROLB<br>Role:Pass Rush",
            "nflId:43306.0<br>displayName:Keanu Neal<br>Position:LLB<br>Role:Coverage",
            "nflId:43478.0<br>displayName:Anthony Brown<br>Position:RCB<br>Role:Coverage",
            "nflId:43498.0<br>displayName:Maurice Canady<br>Position:SCBL<br>Role:Coverage",
            "nflId:43533.0<br>displayName:Jayron Kearse<br>Position:FS<br>Role:Coverage",
            "nflId:44904.0<br>displayName:Jourdan Lewis<br>Position:SCBR<br>Role:Coverage",
            "nflId:44962.0<br>displayName:Damontae Kazee<br>Position:FSL<br>Role:Coverage",
            "nflId:47996.0<br>displayName:Donovan Wilson<br>Position:FSR<br>Role:Coverage",
            "nflId:52459.0<br>displayName:Trevon Diggs<br>Position:LCB<br>Role:Coverage",
            "nflId:53441.0<br>displayName:Micah Parsons<br>Position:LOLB<br>Role:Pass Rush"
           ],
           "marker": {
            "color": "#003594"
           },
           "mode": "markers",
           "name": "DAL",
           "type": "scatter",
           "x": [
            62.44,
            64.38,
            55.13,
            56.37,
            54.25,
            27.35,
            56.68,
            36.13,
            34.52,
            53.33,
            64.52
           ],
           "y": [
            29.97,
            25.79,
            35.23,
            9.78,
            42.46,
            29.34,
            14.4,
            45.54,
            12.95,
            44.77,
            33.76
           ]
          },
          {
           "hoverinfo": "none",
           "marker": {
            "color": "#CBB67C"
           },
           "mode": "markers",
           "name": "football",
           "type": "scatter",
           "x": [
            68.35
           ],
           "y": [
            30.32
           ]
          }
         ],
         "name": "20"
        },
        {
         "data": [
          {
           "hoverinfo": "none",
           "mode": "text",
           "showlegend": false,
           "text": [
            "10",
            "20",
            "30",
            "40",
            "50",
            "40",
            "30",
            "20",
            "10"
           ],
           "textfont": {
            "color": "#ffffff",
            "family": "Courier New, monospace",
            "size": 30
           },
           "type": "scatter",
           "x": [
            20,
            30,
            40,
            50,
            60,
            70,
            80,
            90,
            100
           ],
           "y": [
            5,
            5,
            5,
            5,
            5,
            5,
            5,
            5,
            5
           ]
          },
          {
           "hoverinfo": "none",
           "mode": "text",
           "showlegend": false,
           "text": [
            "10",
            "20",
            "30",
            "40",
            "50",
            "40",
            "30",
            "20",
            "10"
           ],
           "textfont": {
            "color": "#ffffff",
            "family": "Courier New, monospace",
            "size": 30
           },
           "type": "scatter",
           "x": [
            20,
            30,
            40,
            50,
            60,
            70,
            80,
            90,
            100
           ],
           "y": [
            48.5,
            48.5,
            48.5,
            48.5,
            48.5,
            48.5,
            48.5,
            48.5,
            48.5
           ]
          },
          {
           "hoverinfo": "none",
           "line": {
            "color": "blue",
            "dash": "dash"
           },
           "showlegend": false,
           "type": "scatter",
           "x": [
            60,
            60
           ],
           "y": [
            0,
            53.5
           ]
          },
          {
           "hoverinfo": "none",
           "line": {
            "color": "yellow",
            "dash": "dash"
           },
           "showlegend": false,
           "type": "scatter",
           "x": [
            70,
            70
           ],
           "y": [
            0,
            53.5
           ]
          },
          {
           "hoverinfo": "text",
           "hovertext": [
            "nflId:25511.0<br>displayName:Tom Brady<br>Position:QB<br>Role:Pass",
            "nflId:35634.0<br>displayName:Antonio Brown<br>Position:SLWR<br>Role:Pass Route",
            "nflId:39985.0<br>displayName:Giovani Bernard<br>Position:HB-R<br>Role:Pass Route",
            "nflId:40151.0<br>displayName:Ryan Jensen<br>Position:C<br>Role:Pass Block",
            "nflId:41233.0<br>displayName:Mike Evans<br>Position:SRWR<br>Role:Pass Route",
            "nflId:42377.0<br>displayName:Donovan Smith<br>Position:LT<br>Role:Pass Block",
            "nflId:42404.0<br>displayName:Ali Marpet<br>Position:LG<br>Role:Pass Block",
            "nflId:44896.0<br>displayName:Chris Godwin<br>Position:LWR<br>Role:Pass Route",
            "nflId:46163.0<br>displayName:Alex Cappa<br>Position:RG<br>Role:Pass Block",
            "nflId:52421.0<br>displayName:Tristan Wirfs<br>Position:RT<br>Role:Pass Block",
            "nflId:52569.0<br>displayName:Tyler Johnson<br>Position:RWR<br>Role:Pass Route"
           ],
           "marker": {
            "color": "#D50A0A"
           },
           "mode": "markers",
           "name": "TB",
           "type": "scatter",
           "x": [
            67.37,
            56.97,
            64.92,
            63.53,
            55.54,
            65.34,
            64.37,
            57.24,
            63.84,
            65.37,
            57.65
           ],
           "y": [
            30.23,
            13.48,
            34.14,
            30.1,
            42.46,
            27.07,
            27.97,
            10.49,
            31.65,
            33.31,
            44.09
           ]
          },
          {
           "hoverinfo": "text",
           "hovertext": [
            "nflId:41263.0<br>displayName:Demarcus Lawrence<br>Position:NLT<br>Role:Pass Rush",
            "nflId:42403.0<br>displayName:Randy Gregory<br>Position:ROLB<br>Role:Pass Rush",
            "nflId:43306.0<br>displayName:Keanu Neal<br>Position:LLB<br>Role:Coverage",
            "nflId:43478.0<br>displayName:Anthony Brown<br>Position:RCB<br>Role:Coverage",
            "nflId:43498.0<br>displayName:Maurice Canady<br>Position:SCBL<br>Role:Coverage",
            "nflId:43533.0<br>displayName:Jayron Kearse<br>Position:FS<br>Role:Coverage",
            "nflId:44904.0<br>displayName:Jourdan Lewis<br>Position:SCBR<br>Role:Coverage",
            "nflId:44962.0<br>displayName:Damontae Kazee<br>Position:FSL<br>Role:Coverage",
            "nflId:47996.0<br>displayName:Donovan Wilson<br>Position:FSR<br>Role:Coverage",
            "nflId:52459.0<br>displayName:Trevon Diggs<br>Position:LCB<br>Role:Coverage",
            "nflId:53441.0<br>displayName:Micah Parsons<br>Position:LOLB<br>Role:Pass Rush"
           ],
           "marker": {
            "color": "#003594"
           },
           "mode": "markers",
           "name": "DAL",
           "type": "scatter",
           "x": [
            62.7,
            64.83,
            55.1,
            55.98,
            53.9,
            27.23,
            56.37,
            36.12,
            34.3,
            52.84,
            64.85
           ],
           "y": [
            29.83,
            26.01,
            35.4,
            9.59,
            42.53,
            29.41,
            14.29,
            45.6,
            12.9,
            44.88,
            33.55
           ]
          },
          {
           "hoverinfo": "none",
           "marker": {
            "color": "#CBB67C"
           },
           "mode": "markers",
           "name": "football",
           "type": "scatter",
           "x": [
            68.42
           ],
           "y": [
            30.34
           ]
          }
         ],
         "name": "21"
        },
        {
         "data": [
          {
           "hoverinfo": "none",
           "mode": "text",
           "showlegend": false,
           "text": [
            "10",
            "20",
            "30",
            "40",
            "50",
            "40",
            "30",
            "20",
            "10"
           ],
           "textfont": {
            "color": "#ffffff",
            "family": "Courier New, monospace",
            "size": 30
           },
           "type": "scatter",
           "x": [
            20,
            30,
            40,
            50,
            60,
            70,
            80,
            90,
            100
           ],
           "y": [
            5,
            5,
            5,
            5,
            5,
            5,
            5,
            5,
            5
           ]
          },
          {
           "hoverinfo": "none",
           "mode": "text",
           "showlegend": false,
           "text": [
            "10",
            "20",
            "30",
            "40",
            "50",
            "40",
            "30",
            "20",
            "10"
           ],
           "textfont": {
            "color": "#ffffff",
            "family": "Courier New, monospace",
            "size": 30
           },
           "type": "scatter",
           "x": [
            20,
            30,
            40,
            50,
            60,
            70,
            80,
            90,
            100
           ],
           "y": [
            48.5,
            48.5,
            48.5,
            48.5,
            48.5,
            48.5,
            48.5,
            48.5,
            48.5
           ]
          },
          {
           "hoverinfo": "none",
           "line": {
            "color": "blue",
            "dash": "dash"
           },
           "showlegend": false,
           "type": "scatter",
           "x": [
            60,
            60
           ],
           "y": [
            0,
            53.5
           ]
          },
          {
           "hoverinfo": "none",
           "line": {
            "color": "yellow",
            "dash": "dash"
           },
           "showlegend": false,
           "type": "scatter",
           "x": [
            70,
            70
           ],
           "y": [
            0,
            53.5
           ]
          },
          {
           "hoverinfo": "text",
           "hovertext": [
            "nflId:25511.0<br>displayName:Tom Brady<br>Position:QB<br>Role:Pass",
            "nflId:35634.0<br>displayName:Antonio Brown<br>Position:SLWR<br>Role:Pass Route",
            "nflId:39985.0<br>displayName:Giovani Bernard<br>Position:HB-R<br>Role:Pass Route",
            "nflId:40151.0<br>displayName:Ryan Jensen<br>Position:C<br>Role:Pass Block",
            "nflId:41233.0<br>displayName:Mike Evans<br>Position:SRWR<br>Role:Pass Route",
            "nflId:42377.0<br>displayName:Donovan Smith<br>Position:LT<br>Role:Pass Block",
            "nflId:42404.0<br>displayName:Ali Marpet<br>Position:LG<br>Role:Pass Block",
            "nflId:44896.0<br>displayName:Chris Godwin<br>Position:LWR<br>Role:Pass Route",
            "nflId:46163.0<br>displayName:Alex Cappa<br>Position:RG<br>Role:Pass Block",
            "nflId:52421.0<br>displayName:Tristan Wirfs<br>Position:RT<br>Role:Pass Block",
            "nflId:52569.0<br>displayName:Tyler Johnson<br>Position:RWR<br>Role:Pass Route"
           ],
           "marker": {
            "color": "#D50A0A"
           },
           "mode": "markers",
           "name": "TB",
           "type": "scatter",
           "x": [
            67.44,
            56.59,
            64.69,
            63.71,
            54.96,
            65.63,
            64.68,
            56.68,
            64.1,
            65.64,
            57.04
           ],
           "y": [
            30.29,
            13.26,
            34.27,
            30.05,
            42.7,
            27.19,
            27.9,
            10.21,
            31.71,
            33.24,
            44.32
           ]
          },
          {
           "hoverinfo": "text",
           "hovertext": [
            "nflId:41263.0<br>displayName:Demarcus Lawrence<br>Position:NLT<br>Role:Pass Rush",
            "nflId:42403.0<br>displayName:Randy Gregory<br>Position:ROLB<br>Role:Pass Rush",
            "nflId:43306.0<br>displayName:Keanu Neal<br>Position:LLB<br>Role:Coverage",
            "nflId:43478.0<br>displayName:Anthony Brown<br>Position:RCB<br>Role:Coverage",
            "nflId:43498.0<br>displayName:Maurice Canady<br>Position:SCBL<br>Role:Coverage",
            "nflId:43533.0<br>displayName:Jayron Kearse<br>Position:FS<br>Role:Coverage",
            "nflId:44904.0<br>displayName:Jourdan Lewis<br>Position:SCBR<br>Role:Coverage",
            "nflId:44962.0<br>displayName:Damontae Kazee<br>Position:FSL<br>Role:Coverage",
            "nflId:47996.0<br>displayName:Donovan Wilson<br>Position:FSR<br>Role:Coverage",
            "nflId:52459.0<br>displayName:Trevon Diggs<br>Position:LCB<br>Role:Coverage",
            "nflId:53441.0<br>displayName:Micah Parsons<br>Position:LOLB<br>Role:Pass Rush"
           ],
           "marker": {
            "color": "#003594"
           },
           "mode": "markers",
           "name": "DAL",
           "type": "scatter",
           "x": [
            62.99,
            65.28,
            55.09,
            55.55,
            53.53,
            27.1,
            56.04,
            36.11,
            34.09,
            52.35,
            65.15
           ],
           "y": [
            29.69,
            26.23,
            35.59,
            9.38,
            42.6,
            29.49,
            14.15,
            45.66,
            12.84,
            45,
            33.33
           ]
          },
          {
           "hoverinfo": "none",
           "marker": {
            "color": "#CBB67C"
           },
           "mode": "markers",
           "name": "football",
           "type": "scatter",
           "x": [
            68.44
           ],
           "y": [
            30.36
           ]
          }
         ],
         "name": "22"
        },
        {
         "data": [
          {
           "hoverinfo": "none",
           "mode": "text",
           "showlegend": false,
           "text": [
            "10",
            "20",
            "30",
            "40",
            "50",
            "40",
            "30",
            "20",
            "10"
           ],
           "textfont": {
            "color": "#ffffff",
            "family": "Courier New, monospace",
            "size": 30
           },
           "type": "scatter",
           "x": [
            20,
            30,
            40,
            50,
            60,
            70,
            80,
            90,
            100
           ],
           "y": [
            5,
            5,
            5,
            5,
            5,
            5,
            5,
            5,
            5
           ]
          },
          {
           "hoverinfo": "none",
           "mode": "text",
           "showlegend": false,
           "text": [
            "10",
            "20",
            "30",
            "40",
            "50",
            "40",
            "30",
            "20",
            "10"
           ],
           "textfont": {
            "color": "#ffffff",
            "family": "Courier New, monospace",
            "size": 30
           },
           "type": "scatter",
           "x": [
            20,
            30,
            40,
            50,
            60,
            70,
            80,
            90,
            100
           ],
           "y": [
            48.5,
            48.5,
            48.5,
            48.5,
            48.5,
            48.5,
            48.5,
            48.5,
            48.5
           ]
          },
          {
           "hoverinfo": "none",
           "line": {
            "color": "blue",
            "dash": "dash"
           },
           "showlegend": false,
           "type": "scatter",
           "x": [
            60,
            60
           ],
           "y": [
            0,
            53.5
           ]
          },
          {
           "hoverinfo": "none",
           "line": {
            "color": "yellow",
            "dash": "dash"
           },
           "showlegend": false,
           "type": "scatter",
           "x": [
            70,
            70
           ],
           "y": [
            0,
            53.5
           ]
          },
          {
           "hoverinfo": "text",
           "hovertext": [
            "nflId:25511.0<br>displayName:Tom Brady<br>Position:QB<br>Role:Pass",
            "nflId:35634.0<br>displayName:Antonio Brown<br>Position:SLWR<br>Role:Pass Route",
            "nflId:39985.0<br>displayName:Giovani Bernard<br>Position:HB-R<br>Role:Pass Route",
            "nflId:40151.0<br>displayName:Ryan Jensen<br>Position:C<br>Role:Pass Block",
            "nflId:41233.0<br>displayName:Mike Evans<br>Position:SRWR<br>Role:Pass Route",
            "nflId:42377.0<br>displayName:Donovan Smith<br>Position:LT<br>Role:Pass Block",
            "nflId:42404.0<br>displayName:Ali Marpet<br>Position:LG<br>Role:Pass Block",
            "nflId:44896.0<br>displayName:Chris Godwin<br>Position:LWR<br>Role:Pass Route",
            "nflId:46163.0<br>displayName:Alex Cappa<br>Position:RG<br>Role:Pass Block",
            "nflId:52421.0<br>displayName:Tristan Wirfs<br>Position:RT<br>Role:Pass Block",
            "nflId:52569.0<br>displayName:Tyler Johnson<br>Position:RWR<br>Role:Pass Route"
           ],
           "marker": {
            "color": "#D50A0A"
           },
           "mode": "markers",
           "name": "TB",
           "type": "scatter",
           "x": [
            67.5,
            56.16,
            64.43,
            63.87,
            54.37,
            65.92,
            65.01,
            56.11,
            64.37,
            65.92,
            56.41
           ],
           "y": [
            30.34,
            13.02,
            34.37,
            29.91,
            42.97,
            27.32,
            27.83,
            9.92,
            31.78,
            33.12,
            44.56
           ]
          },
          {
           "hoverinfo": "text",
           "hovertext": [
            "nflId:41263.0<br>displayName:Demarcus Lawrence<br>Position:NLT<br>Role:Pass Rush",
            "nflId:42403.0<br>displayName:Randy Gregory<br>Position:ROLB<br>Role:Pass Rush",
            "nflId:43306.0<br>displayName:Keanu Neal<br>Position:LLB<br>Role:Coverage",
            "nflId:43478.0<br>displayName:Anthony Brown<br>Position:RCB<br>Role:Coverage",
            "nflId:43498.0<br>displayName:Maurice Canady<br>Position:SCBL<br>Role:Coverage",
            "nflId:43533.0<br>displayName:Jayron Kearse<br>Position:FS<br>Role:Coverage",
            "nflId:44904.0<br>displayName:Jourdan Lewis<br>Position:SCBR<br>Role:Coverage",
            "nflId:44962.0<br>displayName:Damontae Kazee<br>Position:FSL<br>Role:Coverage",
            "nflId:47996.0<br>displayName:Donovan Wilson<br>Position:FSR<br>Role:Coverage",
            "nflId:52459.0<br>displayName:Trevon Diggs<br>Position:LCB<br>Role:Coverage",
            "nflId:53441.0<br>displayName:Micah Parsons<br>Position:LOLB<br>Role:Pass Rush"
           ],
           "marker": {
            "color": "#003594"
           },
           "mode": "markers",
           "name": "DAL",
           "type": "scatter",
           "x": [
            63.28,
            65.69,
            55.07,
            55.09,
            53.16,
            26.99,
            55.68,
            36.09,
            33.87,
            51.85,
            65.43
           ],
           "y": [
            29.53,
            26.44,
            35.78,
            9.16,
            42.68,
            29.59,
            13.98,
            45.75,
            12.77,
            45.13,
            33.1
           ]
          },
          {
           "hoverinfo": "none",
           "marker": {
            "color": "#CBB67C"
           },
           "mode": "markers",
           "name": "football",
           "type": "scatter",
           "x": [
            68.4
           ],
           "y": [
            30.41
           ]
          }
         ],
         "name": "23"
        },
        {
         "data": [
          {
           "hoverinfo": "none",
           "mode": "text",
           "showlegend": false,
           "text": [
            "10",
            "20",
            "30",
            "40",
            "50",
            "40",
            "30",
            "20",
            "10"
           ],
           "textfont": {
            "color": "#ffffff",
            "family": "Courier New, monospace",
            "size": 30
           },
           "type": "scatter",
           "x": [
            20,
            30,
            40,
            50,
            60,
            70,
            80,
            90,
            100
           ],
           "y": [
            5,
            5,
            5,
            5,
            5,
            5,
            5,
            5,
            5
           ]
          },
          {
           "hoverinfo": "none",
           "mode": "text",
           "showlegend": false,
           "text": [
            "10",
            "20",
            "30",
            "40",
            "50",
            "40",
            "30",
            "20",
            "10"
           ],
           "textfont": {
            "color": "#ffffff",
            "family": "Courier New, monospace",
            "size": 30
           },
           "type": "scatter",
           "x": [
            20,
            30,
            40,
            50,
            60,
            70,
            80,
            90,
            100
           ],
           "y": [
            48.5,
            48.5,
            48.5,
            48.5,
            48.5,
            48.5,
            48.5,
            48.5,
            48.5
           ]
          },
          {
           "hoverinfo": "none",
           "line": {
            "color": "blue",
            "dash": "dash"
           },
           "showlegend": false,
           "type": "scatter",
           "x": [
            60,
            60
           ],
           "y": [
            0,
            53.5
           ]
          },
          {
           "hoverinfo": "none",
           "line": {
            "color": "yellow",
            "dash": "dash"
           },
           "showlegend": false,
           "type": "scatter",
           "x": [
            70,
            70
           ],
           "y": [
            0,
            53.5
           ]
          },
          {
           "hoverinfo": "text",
           "hovertext": [
            "nflId:25511.0<br>displayName:Tom Brady<br>Position:QB<br>Role:Pass",
            "nflId:35634.0<br>displayName:Antonio Brown<br>Position:SLWR<br>Role:Pass Route",
            "nflId:39985.0<br>displayName:Giovani Bernard<br>Position:HB-R<br>Role:Pass Route",
            "nflId:40151.0<br>displayName:Ryan Jensen<br>Position:C<br>Role:Pass Block",
            "nflId:41233.0<br>displayName:Mike Evans<br>Position:SRWR<br>Role:Pass Route",
            "nflId:42377.0<br>displayName:Donovan Smith<br>Position:LT<br>Role:Pass Block",
            "nflId:42404.0<br>displayName:Ali Marpet<br>Position:LG<br>Role:Pass Block",
            "nflId:44896.0<br>displayName:Chris Godwin<br>Position:LWR<br>Role:Pass Route",
            "nflId:46163.0<br>displayName:Alex Cappa<br>Position:RG<br>Role:Pass Block",
            "nflId:52421.0<br>displayName:Tristan Wirfs<br>Position:RT<br>Role:Pass Block",
            "nflId:52569.0<br>displayName:Tyler Johnson<br>Position:RWR<br>Role:Pass Route"
           ],
           "marker": {
            "color": "#D50A0A"
           },
           "mode": "markers",
           "name": "TB",
           "type": "scatter",
           "x": [
            67.55,
            55.7,
            64.15,
            64.02,
            53.78,
            66.2,
            65.37,
            55.55,
            64.65,
            66.17,
            55.76
           ],
           "y": [
            30.4,
            12.79,
            34.44,
            29.79,
            43.24,
            27.46,
            27.75,
            9.62,
            31.85,
            32.98,
            44.82
           ]
          },
          {
           "hoverinfo": "text",
           "hovertext": [
            "nflId:41263.0<br>displayName:Demarcus Lawrence<br>Position:NLT<br>Role:Pass Rush",
            "nflId:42403.0<br>displayName:Randy Gregory<br>Position:ROLB<br>Role:Pass Rush",
            "nflId:43306.0<br>displayName:Keanu Neal<br>Position:LLB<br>Role:Coverage",
            "nflId:43478.0<br>displayName:Anthony Brown<br>Position:RCB<br>Role:Coverage",
            "nflId:43498.0<br>displayName:Maurice Canady<br>Position:SCBL<br>Role:Coverage",
            "nflId:43533.0<br>displayName:Jayron Kearse<br>Position:FS<br>Role:Coverage",
            "nflId:44904.0<br>displayName:Jourdan Lewis<br>Position:SCBR<br>Role:Coverage",
            "nflId:44962.0<br>displayName:Damontae Kazee<br>Position:FSL<br>Role:Coverage",
            "nflId:47996.0<br>displayName:Donovan Wilson<br>Position:FSR<br>Role:Coverage",
            "nflId:52459.0<br>displayName:Trevon Diggs<br>Position:LCB<br>Role:Coverage",
            "nflId:53441.0<br>displayName:Micah Parsons<br>Position:LOLB<br>Role:Pass Rush"
           ],
           "marker": {
            "color": "#003594"
           },
           "mode": "markers",
           "name": "DAL",
           "type": "scatter",
           "x": [
            63.62,
            66.09,
            55.06,
            54.59,
            52.76,
            26.88,
            55.28,
            36.07,
            33.68,
            51.36,
            65.69
           ],
           "y": [
            29.34,
            26.66,
            35.99,
            8.92,
            42.73,
            29.7,
            13.76,
            45.85,
            12.73,
            45.3,
            32.86
           ]
          },
          {
           "hoverinfo": "none",
           "marker": {
            "color": "#CBB67C"
           },
           "mode": "markers",
           "name": "football",
           "type": "scatter",
           "x": [
            68.32
           ],
           "y": [
            30.48
           ]
          }
         ],
         "name": "24"
        },
        {
         "data": [
          {
           "hoverinfo": "none",
           "mode": "text",
           "showlegend": false,
           "text": [
            "10",
            "20",
            "30",
            "40",
            "50",
            "40",
            "30",
            "20",
            "10"
           ],
           "textfont": {
            "color": "#ffffff",
            "family": "Courier New, monospace",
            "size": 30
           },
           "type": "scatter",
           "x": [
            20,
            30,
            40,
            50,
            60,
            70,
            80,
            90,
            100
           ],
           "y": [
            5,
            5,
            5,
            5,
            5,
            5,
            5,
            5,
            5
           ]
          },
          {
           "hoverinfo": "none",
           "mode": "text",
           "showlegend": false,
           "text": [
            "10",
            "20",
            "30",
            "40",
            "50",
            "40",
            "30",
            "20",
            "10"
           ],
           "textfont": {
            "color": "#ffffff",
            "family": "Courier New, monospace",
            "size": 30
           },
           "type": "scatter",
           "x": [
            20,
            30,
            40,
            50,
            60,
            70,
            80,
            90,
            100
           ],
           "y": [
            48.5,
            48.5,
            48.5,
            48.5,
            48.5,
            48.5,
            48.5,
            48.5,
            48.5
           ]
          },
          {
           "hoverinfo": "none",
           "line": {
            "color": "blue",
            "dash": "dash"
           },
           "showlegend": false,
           "type": "scatter",
           "x": [
            60,
            60
           ],
           "y": [
            0,
            53.5
           ]
          },
          {
           "hoverinfo": "none",
           "line": {
            "color": "yellow",
            "dash": "dash"
           },
           "showlegend": false,
           "type": "scatter",
           "x": [
            70,
            70
           ],
           "y": [
            0,
            53.5
           ]
          },
          {
           "hoverinfo": "text",
           "hovertext": [
            "nflId:25511.0<br>displayName:Tom Brady<br>Position:QB<br>Role:Pass",
            "nflId:35634.0<br>displayName:Antonio Brown<br>Position:SLWR<br>Role:Pass Route",
            "nflId:39985.0<br>displayName:Giovani Bernard<br>Position:HB-R<br>Role:Pass Route",
            "nflId:40151.0<br>displayName:Ryan Jensen<br>Position:C<br>Role:Pass Block",
            "nflId:41233.0<br>displayName:Mike Evans<br>Position:SRWR<br>Role:Pass Route",
            "nflId:42377.0<br>displayName:Donovan Smith<br>Position:LT<br>Role:Pass Block",
            "nflId:42404.0<br>displayName:Ali Marpet<br>Position:LG<br>Role:Pass Block",
            "nflId:44896.0<br>displayName:Chris Godwin<br>Position:LWR<br>Role:Pass Route",
            "nflId:46163.0<br>displayName:Alex Cappa<br>Position:RG<br>Role:Pass Block",
            "nflId:52421.0<br>displayName:Tristan Wirfs<br>Position:RT<br>Role:Pass Block",
            "nflId:52569.0<br>displayName:Tyler Johnson<br>Position:RWR<br>Role:Pass Route"
           ],
           "marker": {
            "color": "#D50A0A"
           },
           "mode": "markers",
           "name": "TB",
           "type": "scatter",
           "x": [
            67.58,
            55.21,
            63.84,
            64.16,
            53.18,
            66.48,
            65.7,
            54.98,
            64.93,
            66.42,
            55.1
           ],
           "y": [
            30.46,
            12.54,
            34.49,
            29.64,
            43.53,
            27.6,
            27.68,
            9.32,
            31.9,
            32.82,
            45.11
           ]
          },
          {
           "hoverinfo": "text",
           "hovertext": [
            "nflId:41263.0<br>displayName:Demarcus Lawrence<br>Position:NLT<br>Role:Pass Rush",
            "nflId:42403.0<br>displayName:Randy Gregory<br>Position:ROLB<br>Role:Pass Rush",
            "nflId:43306.0<br>displayName:Keanu Neal<br>Position:LLB<br>Role:Coverage",
            "nflId:43478.0<br>displayName:Anthony Brown<br>Position:RCB<br>Role:Coverage",
            "nflId:43498.0<br>displayName:Maurice Canady<br>Position:SCBL<br>Role:Coverage",
            "nflId:43533.0<br>displayName:Jayron Kearse<br>Position:FS<br>Role:Coverage",
            "nflId:44904.0<br>displayName:Jourdan Lewis<br>Position:SCBR<br>Role:Coverage",
            "nflId:44962.0<br>displayName:Damontae Kazee<br>Position:FSL<br>Role:Coverage",
            "nflId:47996.0<br>displayName:Donovan Wilson<br>Position:FSR<br>Role:Coverage",
            "nflId:52459.0<br>displayName:Trevon Diggs<br>Position:LCB<br>Role:Coverage",
            "nflId:53441.0<br>displayName:Micah Parsons<br>Position:LOLB<br>Role:Pass Rush"
           ],
           "marker": {
            "color": "#003594"
           },
           "mode": "markers",
           "name": "DAL",
           "type": "scatter",
           "x": [
            63.96,
            66.46,
            55.05,
            54.07,
            52.34,
            26.78,
            54.86,
            36.04,
            33.48,
            50.89,
            65.96
           ],
           "y": [
            29.16,
            26.85,
            36.21,
            8.66,
            42.79,
            29.82,
            13.51,
            45.96,
            12.71,
            45.5,
            32.6
           ]
          },
          {
           "hoverinfo": "none",
           "marker": {
            "color": "#CBB67C"
           },
           "mode": "markers",
           "name": "football",
           "type": "scatter",
           "x": [
            68.21
           ],
           "y": [
            30.55
           ]
          }
         ],
         "name": "25"
        },
        {
         "data": [
          {
           "hoverinfo": "none",
           "mode": "text",
           "showlegend": false,
           "text": [
            "10",
            "20",
            "30",
            "40",
            "50",
            "40",
            "30",
            "20",
            "10"
           ],
           "textfont": {
            "color": "#ffffff",
            "family": "Courier New, monospace",
            "size": 30
           },
           "type": "scatter",
           "x": [
            20,
            30,
            40,
            50,
            60,
            70,
            80,
            90,
            100
           ],
           "y": [
            5,
            5,
            5,
            5,
            5,
            5,
            5,
            5,
            5
           ]
          },
          {
           "hoverinfo": "none",
           "mode": "text",
           "showlegend": false,
           "text": [
            "10",
            "20",
            "30",
            "40",
            "50",
            "40",
            "30",
            "20",
            "10"
           ],
           "textfont": {
            "color": "#ffffff",
            "family": "Courier New, monospace",
            "size": 30
           },
           "type": "scatter",
           "x": [
            20,
            30,
            40,
            50,
            60,
            70,
            80,
            90,
            100
           ],
           "y": [
            48.5,
            48.5,
            48.5,
            48.5,
            48.5,
            48.5,
            48.5,
            48.5,
            48.5
           ]
          },
          {
           "hoverinfo": "none",
           "line": {
            "color": "blue",
            "dash": "dash"
           },
           "showlegend": false,
           "type": "scatter",
           "x": [
            60,
            60
           ],
           "y": [
            0,
            53.5
           ]
          },
          {
           "hoverinfo": "none",
           "line": {
            "color": "yellow",
            "dash": "dash"
           },
           "showlegend": false,
           "type": "scatter",
           "x": [
            70,
            70
           ],
           "y": [
            0,
            53.5
           ]
          },
          {
           "hoverinfo": "text",
           "hovertext": [
            "nflId:25511.0<br>displayName:Tom Brady<br>Position:QB<br>Role:Pass",
            "nflId:35634.0<br>displayName:Antonio Brown<br>Position:SLWR<br>Role:Pass Route",
            "nflId:39985.0<br>displayName:Giovani Bernard<br>Position:HB-R<br>Role:Pass Route",
            "nflId:40151.0<br>displayName:Ryan Jensen<br>Position:C<br>Role:Pass Block",
            "nflId:41233.0<br>displayName:Mike Evans<br>Position:SRWR<br>Role:Pass Route",
            "nflId:42377.0<br>displayName:Donovan Smith<br>Position:LT<br>Role:Pass Block",
            "nflId:42404.0<br>displayName:Ali Marpet<br>Position:LG<br>Role:Pass Block",
            "nflId:44896.0<br>displayName:Chris Godwin<br>Position:LWR<br>Role:Pass Route",
            "nflId:46163.0<br>displayName:Alex Cappa<br>Position:RG<br>Role:Pass Block",
            "nflId:52421.0<br>displayName:Tristan Wirfs<br>Position:RT<br>Role:Pass Block",
            "nflId:52569.0<br>displayName:Tyler Johnson<br>Position:RWR<br>Role:Pass Route"
           ],
           "marker": {
            "color": "#D50A0A"
           },
           "mode": "markers",
           "name": "TB",
           "type": "scatter",
           "x": [
            67.59,
            54.69,
            63.52,
            64.28,
            52.57,
            66.75,
            66.02,
            54.4,
            65.21,
            66.64,
            54.43
           ],
           "y": [
            30.52,
            12.29,
            34.51,
            29.47,
            43.82,
            27.74,
            27.61,
            9.01,
            31.96,
            32.66,
            45.41
           ]
          },
          {
           "hoverinfo": "text",
           "hovertext": [
            "nflId:41263.0<br>displayName:Demarcus Lawrence<br>Position:NLT<br>Role:Pass Rush",
            "nflId:42403.0<br>displayName:Randy Gregory<br>Position:ROLB<br>Role:Pass Rush",
            "nflId:43306.0<br>displayName:Keanu Neal<br>Position:LLB<br>Role:Coverage",
            "nflId:43478.0<br>displayName:Anthony Brown<br>Position:RCB<br>Role:Coverage",
            "nflId:43498.0<br>displayName:Maurice Canady<br>Position:SCBL<br>Role:Coverage",
            "nflId:43533.0<br>displayName:Jayron Kearse<br>Position:FS<br>Role:Coverage",
            "nflId:44904.0<br>displayName:Jourdan Lewis<br>Position:SCBR<br>Role:Coverage",
            "nflId:44962.0<br>displayName:Damontae Kazee<br>Position:FSL<br>Role:Coverage",
            "nflId:47996.0<br>displayName:Donovan Wilson<br>Position:FSR<br>Role:Coverage",
            "nflId:52459.0<br>displayName:Trevon Diggs<br>Position:LCB<br>Role:Coverage",
            "nflId:53441.0<br>displayName:Micah Parsons<br>Position:LOLB<br>Role:Pass Rush"
           ],
           "marker": {
            "color": "#003594"
           },
           "mode": "markers",
           "name": "DAL",
           "type": "scatter",
           "x": [
            64.31,
            66.83,
            55.04,
            53.53,
            51.89,
            26.68,
            54.41,
            36.01,
            33.31,
            50.47,
            66.21
           ],
           "y": [
            28.97,
            27.03,
            36.44,
            8.4,
            42.85,
            29.94,
            13.24,
            46.1,
            12.73,
            45.73,
            32.34
           ]
          },
          {
           "hoverinfo": "none",
           "marker": {
            "color": "#CBB67C"
           },
           "mode": "markers",
           "name": "football",
           "type": "scatter",
           "x": [
            67.95
           ],
           "y": [
            30.84
           ]
          }
         ],
         "name": "26"
        },
        {
         "data": [
          {
           "hoverinfo": "none",
           "mode": "text",
           "showlegend": false,
           "text": [
            "10",
            "20",
            "30",
            "40",
            "50",
            "40",
            "30",
            "20",
            "10"
           ],
           "textfont": {
            "color": "#ffffff",
            "family": "Courier New, monospace",
            "size": 30
           },
           "type": "scatter",
           "x": [
            20,
            30,
            40,
            50,
            60,
            70,
            80,
            90,
            100
           ],
           "y": [
            5,
            5,
            5,
            5,
            5,
            5,
            5,
            5,
            5
           ]
          },
          {
           "hoverinfo": "none",
           "mode": "text",
           "showlegend": false,
           "text": [
            "10",
            "20",
            "30",
            "40",
            "50",
            "40",
            "30",
            "20",
            "10"
           ],
           "textfont": {
            "color": "#ffffff",
            "family": "Courier New, monospace",
            "size": 30
           },
           "type": "scatter",
           "x": [
            20,
            30,
            40,
            50,
            60,
            70,
            80,
            90,
            100
           ],
           "y": [
            48.5,
            48.5,
            48.5,
            48.5,
            48.5,
            48.5,
            48.5,
            48.5,
            48.5
           ]
          },
          {
           "hoverinfo": "none",
           "line": {
            "color": "blue",
            "dash": "dash"
           },
           "showlegend": false,
           "type": "scatter",
           "x": [
            60,
            60
           ],
           "y": [
            0,
            53.5
           ]
          },
          {
           "hoverinfo": "none",
           "line": {
            "color": "yellow",
            "dash": "dash"
           },
           "showlegend": false,
           "type": "scatter",
           "x": [
            70,
            70
           ],
           "y": [
            0,
            53.5
           ]
          },
          {
           "hoverinfo": "text",
           "hovertext": [
            "nflId:25511.0<br>displayName:Tom Brady<br>Position:QB<br>Role:Pass",
            "nflId:35634.0<br>displayName:Antonio Brown<br>Position:SLWR<br>Role:Pass Route",
            "nflId:39985.0<br>displayName:Giovani Bernard<br>Position:HB-R<br>Role:Pass Route",
            "nflId:40151.0<br>displayName:Ryan Jensen<br>Position:C<br>Role:Pass Block",
            "nflId:41233.0<br>displayName:Mike Evans<br>Position:SRWR<br>Role:Pass Route",
            "nflId:42377.0<br>displayName:Donovan Smith<br>Position:LT<br>Role:Pass Block",
            "nflId:42404.0<br>displayName:Ali Marpet<br>Position:LG<br>Role:Pass Block",
            "nflId:44896.0<br>displayName:Chris Godwin<br>Position:LWR<br>Role:Pass Route",
            "nflId:46163.0<br>displayName:Alex Cappa<br>Position:RG<br>Role:Pass Block",
            "nflId:52421.0<br>displayName:Tristan Wirfs<br>Position:RT<br>Role:Pass Block",
            "nflId:52569.0<br>displayName:Tyler Johnson<br>Position:RWR<br>Role:Pass Route"
           ],
           "marker": {
            "color": "#D50A0A"
           },
           "mode": "markers",
           "name": "TB",
           "type": "scatter",
           "x": [
            67.61,
            54.13,
            63.18,
            64.39,
            51.95,
            67.02,
            66.37,
            53.82,
            65.51,
            66.87,
            53.77
           ],
           "y": [
            30.56,
            12.05,
            34.51,
            29.28,
            44.12,
            27.86,
            27.57,
            8.69,
            32.03,
            32.45,
            45.74
           ]
          },
          {
           "hoverinfo": "text",
           "hovertext": [
            "nflId:41263.0<br>displayName:Demarcus Lawrence<br>Position:NLT<br>Role:Pass Rush",
            "nflId:42403.0<br>displayName:Randy Gregory<br>Position:ROLB<br>Role:Pass Rush",
            "nflId:43306.0<br>displayName:Keanu Neal<br>Position:LLB<br>Role:Coverage",
            "nflId:43478.0<br>displayName:Anthony Brown<br>Position:RCB<br>Role:Coverage",
            "nflId:43498.0<br>displayName:Maurice Canady<br>Position:SCBL<br>Role:Coverage",
            "nflId:43533.0<br>displayName:Jayron Kearse<br>Position:FS<br>Role:Coverage",
            "nflId:44904.0<br>displayName:Jourdan Lewis<br>Position:SCBR<br>Role:Coverage",
            "nflId:44962.0<br>displayName:Damontae Kazee<br>Position:FSL<br>Role:Coverage",
            "nflId:47996.0<br>displayName:Donovan Wilson<br>Position:FSR<br>Role:Coverage",
            "nflId:52459.0<br>displayName:Trevon Diggs<br>Position:LCB<br>Role:Coverage",
            "nflId:53441.0<br>displayName:Micah Parsons<br>Position:LOLB<br>Role:Pass Rush"
           ],
           "marker": {
            "color": "#003594"
           },
           "mode": "markers",
           "name": "DAL",
           "type": "scatter",
           "x": [
            64.69,
            67.2,
            55.02,
            52.96,
            51.42,
            26.61,
            53.93,
            35.98,
            33.15,
            50.09,
            66.44
           ],
           "y": [
            28.79,
            27.18,
            36.67,
            8.14,
            42.91,
            30.08,
            12.95,
            46.26,
            12.78,
            45.98,
            32.07
           ]
          },
          {
           "hoverinfo": "none",
           "marker": {
            "color": "#CBB67C"
           },
           "mode": "markers",
           "name": "football",
           "type": "scatter",
           "x": [
            65.46
           ],
           "y": [
            34.74
           ]
          }
         ],
         "name": "27"
        },
        {
         "data": [
          {
           "hoverinfo": "none",
           "mode": "text",
           "showlegend": false,
           "text": [
            "10",
            "20",
            "30",
            "40",
            "50",
            "40",
            "30",
            "20",
            "10"
           ],
           "textfont": {
            "color": "#ffffff",
            "family": "Courier New, monospace",
            "size": 30
           },
           "type": "scatter",
           "x": [
            20,
            30,
            40,
            50,
            60,
            70,
            80,
            90,
            100
           ],
           "y": [
            5,
            5,
            5,
            5,
            5,
            5,
            5,
            5,
            5
           ]
          },
          {
           "hoverinfo": "none",
           "mode": "text",
           "showlegend": false,
           "text": [
            "10",
            "20",
            "30",
            "40",
            "50",
            "40",
            "30",
            "20",
            "10"
           ],
           "textfont": {
            "color": "#ffffff",
            "family": "Courier New, monospace",
            "size": 30
           },
           "type": "scatter",
           "x": [
            20,
            30,
            40,
            50,
            60,
            70,
            80,
            90,
            100
           ],
           "y": [
            48.5,
            48.5,
            48.5,
            48.5,
            48.5,
            48.5,
            48.5,
            48.5,
            48.5
           ]
          },
          {
           "hoverinfo": "none",
           "line": {
            "color": "blue",
            "dash": "dash"
           },
           "showlegend": false,
           "type": "scatter",
           "x": [
            60,
            60
           ],
           "y": [
            0,
            53.5
           ]
          },
          {
           "hoverinfo": "none",
           "line": {
            "color": "yellow",
            "dash": "dash"
           },
           "showlegend": false,
           "type": "scatter",
           "x": [
            70,
            70
           ],
           "y": [
            0,
            53.5
           ]
          },
          {
           "hoverinfo": "text",
           "hovertext": [
            "nflId:25511.0<br>displayName:Tom Brady<br>Position:QB<br>Role:Pass",
            "nflId:35634.0<br>displayName:Antonio Brown<br>Position:SLWR<br>Role:Pass Route",
            "nflId:39985.0<br>displayName:Giovani Bernard<br>Position:HB-R<br>Role:Pass Route",
            "nflId:40151.0<br>displayName:Ryan Jensen<br>Position:C<br>Role:Pass Block",
            "nflId:41233.0<br>displayName:Mike Evans<br>Position:SRWR<br>Role:Pass Route",
            "nflId:42377.0<br>displayName:Donovan Smith<br>Position:LT<br>Role:Pass Block",
            "nflId:42404.0<br>displayName:Ali Marpet<br>Position:LG<br>Role:Pass Block",
            "nflId:44896.0<br>displayName:Chris Godwin<br>Position:LWR<br>Role:Pass Route",
            "nflId:46163.0<br>displayName:Alex Cappa<br>Position:RG<br>Role:Pass Block",
            "nflId:52421.0<br>displayName:Tristan Wirfs<br>Position:RT<br>Role:Pass Block",
            "nflId:52569.0<br>displayName:Tyler Johnson<br>Position:RWR<br>Role:Pass Route"
           ],
           "marker": {
            "color": "#D50A0A"
           },
           "mode": "markers",
           "name": "TB",
           "type": "scatter",
           "x": [
            67.63,
            53.54,
            62.84,
            64.47,
            51.32,
            67.27,
            66.73,
            53.27,
            65.81,
            67.09,
            53.12
           ],
           "y": [
            30.56,
            11.83,
            34.5,
            29.09,
            44.41,
            27.93,
            27.5,
            8.36,
            32.07,
            32.24,
            46.1
           ]
          },
          {
           "hoverinfo": "text",
           "hovertext": [
            "nflId:41263.0<br>displayName:Demarcus Lawrence<br>Position:NLT<br>Role:Pass Rush",
            "nflId:42403.0<br>displayName:Randy Gregory<br>Position:ROLB<br>Role:Pass Rush",
            "nflId:43306.0<br>displayName:Keanu Neal<br>Position:LLB<br>Role:Coverage",
            "nflId:43478.0<br>displayName:Anthony Brown<br>Position:RCB<br>Role:Coverage",
            "nflId:43498.0<br>displayName:Maurice Canady<br>Position:SCBL<br>Role:Coverage",
            "nflId:43533.0<br>displayName:Jayron Kearse<br>Position:FS<br>Role:Coverage",
            "nflId:44904.0<br>displayName:Jourdan Lewis<br>Position:SCBR<br>Role:Coverage",
            "nflId:44962.0<br>displayName:Damontae Kazee<br>Position:FSL<br>Role:Coverage",
            "nflId:47996.0<br>displayName:Donovan Wilson<br>Position:FSR<br>Role:Coverage",
            "nflId:52459.0<br>displayName:Trevon Diggs<br>Position:LCB<br>Role:Coverage",
            "nflId:53441.0<br>displayName:Micah Parsons<br>Position:LOLB<br>Role:Pass Rush"
           ],
           "marker": {
            "color": "#003594"
           },
           "mode": "markers",
           "name": "DAL",
           "type": "scatter",
           "x": [
            65.09,
            67.57,
            55.01,
            52.39,
            50.93,
            26.55,
            53.43,
            35.95,
            33.01,
            49.75,
            66.65
           ],
           "y": [
            28.67,
            27.32,
            36.92,
            7.88,
            42.98,
            30.23,
            12.64,
            46.45,
            12.87,
            46.28,
            31.8
           ]
          },
          {
           "hoverinfo": "none",
           "marker": {
            "color": "#CBB67C"
           },
           "mode": "markers",
           "name": "football",
           "type": "scatter",
           "x": [
            64.05
           ],
           "y": [
            36.76
           ]
          }
         ],
         "name": "28"
        },
        {
         "data": [
          {
           "hoverinfo": "none",
           "mode": "text",
           "showlegend": false,
           "text": [
            "10",
            "20",
            "30",
            "40",
            "50",
            "40",
            "30",
            "20",
            "10"
           ],
           "textfont": {
            "color": "#ffffff",
            "family": "Courier New, monospace",
            "size": 30
           },
           "type": "scatter",
           "x": [
            20,
            30,
            40,
            50,
            60,
            70,
            80,
            90,
            100
           ],
           "y": [
            5,
            5,
            5,
            5,
            5,
            5,
            5,
            5,
            5
           ]
          },
          {
           "hoverinfo": "none",
           "mode": "text",
           "showlegend": false,
           "text": [
            "10",
            "20",
            "30",
            "40",
            "50",
            "40",
            "30",
            "20",
            "10"
           ],
           "textfont": {
            "color": "#ffffff",
            "family": "Courier New, monospace",
            "size": 30
           },
           "type": "scatter",
           "x": [
            20,
            30,
            40,
            50,
            60,
            70,
            80,
            90,
            100
           ],
           "y": [
            48.5,
            48.5,
            48.5,
            48.5,
            48.5,
            48.5,
            48.5,
            48.5,
            48.5
           ]
          },
          {
           "hoverinfo": "none",
           "line": {
            "color": "blue",
            "dash": "dash"
           },
           "showlegend": false,
           "type": "scatter",
           "x": [
            60,
            60
           ],
           "y": [
            0,
            53.5
           ]
          },
          {
           "hoverinfo": "none",
           "line": {
            "color": "yellow",
            "dash": "dash"
           },
           "showlegend": false,
           "type": "scatter",
           "x": [
            70,
            70
           ],
           "y": [
            0,
            53.5
           ]
          },
          {
           "hoverinfo": "text",
           "hovertext": [
            "nflId:25511.0<br>displayName:Tom Brady<br>Position:QB<br>Role:Pass",
            "nflId:35634.0<br>displayName:Antonio Brown<br>Position:SLWR<br>Role:Pass Route",
            "nflId:39985.0<br>displayName:Giovani Bernard<br>Position:HB-R<br>Role:Pass Route",
            "nflId:40151.0<br>displayName:Ryan Jensen<br>Position:C<br>Role:Pass Block",
            "nflId:41233.0<br>displayName:Mike Evans<br>Position:SRWR<br>Role:Pass Route",
            "nflId:42377.0<br>displayName:Donovan Smith<br>Position:LT<br>Role:Pass Block",
            "nflId:42404.0<br>displayName:Ali Marpet<br>Position:LG<br>Role:Pass Block",
            "nflId:44896.0<br>displayName:Chris Godwin<br>Position:LWR<br>Role:Pass Route",
            "nflId:46163.0<br>displayName:Alex Cappa<br>Position:RG<br>Role:Pass Block",
            "nflId:52421.0<br>displayName:Tristan Wirfs<br>Position:RT<br>Role:Pass Block",
            "nflId:52569.0<br>displayName:Tyler Johnson<br>Position:RWR<br>Role:Pass Route"
           ],
           "marker": {
            "color": "#D50A0A"
           },
           "mode": "markers",
           "name": "TB",
           "type": "scatter",
           "x": [
            67.66,
            52.92,
            62.48,
            64.54,
            50.69,
            67.52,
            67.07,
            52.73,
            66.1,
            67.31,
            52.49
           ],
           "y": [
            30.54,
            11.63,
            34.51,
            28.89,
            44.71,
            28,
            27.46,
            8.04,
            32.11,
            32.01,
            46.49
           ]
          },
          {
           "hoverinfo": "text",
           "hovertext": [
            "nflId:41263.0<br>displayName:Demarcus Lawrence<br>Position:NLT<br>Role:Pass Rush",
            "nflId:42403.0<br>displayName:Randy Gregory<br>Position:ROLB<br>Role:Pass Rush",
            "nflId:43306.0<br>displayName:Keanu Neal<br>Position:LLB<br>Role:Coverage",
            "nflId:43478.0<br>displayName:Anthony Brown<br>Position:RCB<br>Role:Coverage",
            "nflId:43498.0<br>displayName:Maurice Canady<br>Position:SCBL<br>Role:Coverage",
            "nflId:43533.0<br>displayName:Jayron Kearse<br>Position:FS<br>Role:Coverage",
            "nflId:44904.0<br>displayName:Jourdan Lewis<br>Position:SCBR<br>Role:Coverage",
            "nflId:44962.0<br>displayName:Damontae Kazee<br>Position:FSL<br>Role:Coverage",
            "nflId:47996.0<br>displayName:Donovan Wilson<br>Position:FSR<br>Role:Coverage",
            "nflId:52459.0<br>displayName:Trevon Diggs<br>Position:LCB<br>Role:Coverage",
            "nflId:53441.0<br>displayName:Micah Parsons<br>Position:LOLB<br>Role:Pass Rush"
           ],
           "marker": {
            "color": "#003594"
           },
           "mode": "markers",
           "name": "DAL",
           "type": "scatter",
           "x": [
            65.47,
            67.93,
            55,
            51.81,
            50.42,
            26.5,
            52.92,
            35.93,
            32.88,
            49.46,
            66.87
           ],
           "y": [
            28.55,
            27.46,
            37.19,
            7.62,
            43.08,
            30.39,
            12.32,
            46.65,
            13.01,
            46.61,
            31.53
           ]
          },
          {
           "hoverinfo": "none",
           "marker": {
            "color": "#CBB67C"
           },
           "mode": "markers",
           "name": "football",
           "type": "scatter",
           "x": [
            62.68
           ],
           "y": [
            38.73
           ]
          }
         ],
         "name": "29"
        },
        {
         "data": [
          {
           "hoverinfo": "none",
           "mode": "text",
           "showlegend": false,
           "text": [
            "10",
            "20",
            "30",
            "40",
            "50",
            "40",
            "30",
            "20",
            "10"
           ],
           "textfont": {
            "color": "#ffffff",
            "family": "Courier New, monospace",
            "size": 30
           },
           "type": "scatter",
           "x": [
            20,
            30,
            40,
            50,
            60,
            70,
            80,
            90,
            100
           ],
           "y": [
            5,
            5,
            5,
            5,
            5,
            5,
            5,
            5,
            5
           ]
          },
          {
           "hoverinfo": "none",
           "mode": "text",
           "showlegend": false,
           "text": [
            "10",
            "20",
            "30",
            "40",
            "50",
            "40",
            "30",
            "20",
            "10"
           ],
           "textfont": {
            "color": "#ffffff",
            "family": "Courier New, monospace",
            "size": 30
           },
           "type": "scatter",
           "x": [
            20,
            30,
            40,
            50,
            60,
            70,
            80,
            90,
            100
           ],
           "y": [
            48.5,
            48.5,
            48.5,
            48.5,
            48.5,
            48.5,
            48.5,
            48.5,
            48.5
           ]
          },
          {
           "hoverinfo": "none",
           "line": {
            "color": "blue",
            "dash": "dash"
           },
           "showlegend": false,
           "type": "scatter",
           "x": [
            60,
            60
           ],
           "y": [
            0,
            53.5
           ]
          },
          {
           "hoverinfo": "none",
           "line": {
            "color": "yellow",
            "dash": "dash"
           },
           "showlegend": false,
           "type": "scatter",
           "x": [
            70,
            70
           ],
           "y": [
            0,
            53.5
           ]
          },
          {
           "hoverinfo": "text",
           "hovertext": [
            "nflId:25511.0<br>displayName:Tom Brady<br>Position:QB<br>Role:Pass",
            "nflId:35634.0<br>displayName:Antonio Brown<br>Position:SLWR<br>Role:Pass Route",
            "nflId:39985.0<br>displayName:Giovani Bernard<br>Position:HB-R<br>Role:Pass Route",
            "nflId:40151.0<br>displayName:Ryan Jensen<br>Position:C<br>Role:Pass Block",
            "nflId:41233.0<br>displayName:Mike Evans<br>Position:SRWR<br>Role:Pass Route",
            "nflId:42377.0<br>displayName:Donovan Smith<br>Position:LT<br>Role:Pass Block",
            "nflId:42404.0<br>displayName:Ali Marpet<br>Position:LG<br>Role:Pass Block",
            "nflId:44896.0<br>displayName:Chris Godwin<br>Position:LWR<br>Role:Pass Route",
            "nflId:46163.0<br>displayName:Alex Cappa<br>Position:RG<br>Role:Pass Block",
            "nflId:52421.0<br>displayName:Tristan Wirfs<br>Position:RT<br>Role:Pass Block",
            "nflId:52569.0<br>displayName:Tyler Johnson<br>Position:RWR<br>Role:Pass Route"
           ],
           "marker": {
            "color": "#D50A0A"
           },
           "mode": "markers",
           "name": "TB",
           "type": "scatter",
           "x": [
            67.71,
            52.26,
            62.13,
            64.59,
            50.06,
            67.76,
            67.41,
            52.22,
            66.4,
            67.51,
            51.9
           ],
           "y": [
            30.47,
            11.46,
            34.51,
            28.71,
            45,
            28.05,
            27.41,
            7.71,
            32.14,
            31.79,
            46.92
           ]
          },
          {
           "hoverinfo": "text",
           "hovertext": [
            "nflId:41263.0<br>displayName:Demarcus Lawrence<br>Position:NLT<br>Role:Pass Rush",
            "nflId:42403.0<br>displayName:Randy Gregory<br>Position:ROLB<br>Role:Pass Rush",
            "nflId:43306.0<br>displayName:Keanu Neal<br>Position:LLB<br>Role:Coverage",
            "nflId:43478.0<br>displayName:Anthony Brown<br>Position:RCB<br>Role:Coverage",
            "nflId:43498.0<br>displayName:Maurice Canady<br>Position:SCBL<br>Role:Coverage",
            "nflId:43533.0<br>displayName:Jayron Kearse<br>Position:FS<br>Role:Coverage",
            "nflId:44904.0<br>displayName:Jourdan Lewis<br>Position:SCBR<br>Role:Coverage",
            "nflId:44962.0<br>displayName:Damontae Kazee<br>Position:FSL<br>Role:Coverage",
            "nflId:47996.0<br>displayName:Donovan Wilson<br>Position:FSR<br>Role:Coverage",
            "nflId:52459.0<br>displayName:Trevon Diggs<br>Position:LCB<br>Role:Coverage",
            "nflId:53441.0<br>displayName:Micah Parsons<br>Position:LOLB<br>Role:Pass Rush"
           ],
           "marker": {
            "color": "#003594"
           },
           "mode": "markers",
           "name": "DAL",
           "type": "scatter",
           "x": [
            65.85,
            68.26,
            54.99,
            51.21,
            49.87,
            26.49,
            52.4,
            35.91,
            32.76,
            49.22,
            67.08
           ],
           "y": [
            28.46,
            27.58,
            37.47,
            7.36,
            43.19,
            30.57,
            11.99,
            46.87,
            13.2,
            46.99,
            31.28
           ]
          },
          {
           "hoverinfo": "none",
           "marker": {
            "color": "#CBB67C"
           },
           "mode": "markers",
           "name": "football",
           "type": "scatter",
           "x": [
            61.31
           ],
           "y": [
            40.69
           ]
          }
         ],
         "name": "30"
        }
       ],
       "layout": {
        "annotations": [
         {
          "align": "center",
          "bgcolor": "#ff7f0e",
          "bordercolor": "black",
          "borderpad": 4,
          "borderwidth": 2,
          "font": {
           "color": "black",
           "family": "Courier New, monospace",
           "size": 16
          },
          "opacity": 1,
          "showarrow": false,
          "text": "2",
          "x": 70,
          "y": 0
         },
         {
          "align": "center",
          "bgcolor": "#ff7f0e",
          "bordercolor": "black",
          "borderpad": 4,
          "borderwidth": 2,
          "font": {
           "color": "black",
           "family": "Courier New, monospace",
           "size": 16
          },
          "opacity": 1,
          "showarrow": false,
          "text": "2",
          "x": 70,
          "y": 53
         }
        ],
        "autosize": false,
        "height": 600,
        "plot_bgcolor": "#00B140",
        "sliders": [
         {
          "active": 0,
          "currentvalue": {
           "font": {
            "size": 20
           },
           "prefix": "Frame:",
           "visible": true,
           "xanchor": "right"
          },
          "len": 0.9,
          "pad": {
           "b": 10,
           "t": 50
          },
          "steps": [
           {
            "args": [
             [
              1
             ],
             {
              "frame": {
               "duration": 100,
               "redraw": false
              },
              "mode": "immediate",
              "transition": {
               "duration": 0
              }
             }
            ],
            "label": "1",
            "method": "animate"
           },
           {
            "args": [
             [
              2
             ],
             {
              "frame": {
               "duration": 100,
               "redraw": false
              },
              "mode": "immediate",
              "transition": {
               "duration": 0
              }
             }
            ],
            "label": "2",
            "method": "animate"
           },
           {
            "args": [
             [
              3
             ],
             {
              "frame": {
               "duration": 100,
               "redraw": false
              },
              "mode": "immediate",
              "transition": {
               "duration": 0
              }
             }
            ],
            "label": "3",
            "method": "animate"
           },
           {
            "args": [
             [
              4
             ],
             {
              "frame": {
               "duration": 100,
               "redraw": false
              },
              "mode": "immediate",
              "transition": {
               "duration": 0
              }
             }
            ],
            "label": "4",
            "method": "animate"
           },
           {
            "args": [
             [
              5
             ],
             {
              "frame": {
               "duration": 100,
               "redraw": false
              },
              "mode": "immediate",
              "transition": {
               "duration": 0
              }
             }
            ],
            "label": "5",
            "method": "animate"
           },
           {
            "args": [
             [
              6
             ],
             {
              "frame": {
               "duration": 100,
               "redraw": false
              },
              "mode": "immediate",
              "transition": {
               "duration": 0
              }
             }
            ],
            "label": "6",
            "method": "animate"
           },
           {
            "args": [
             [
              7
             ],
             {
              "frame": {
               "duration": 100,
               "redraw": false
              },
              "mode": "immediate",
              "transition": {
               "duration": 0
              }
             }
            ],
            "label": "7",
            "method": "animate"
           },
           {
            "args": [
             [
              8
             ],
             {
              "frame": {
               "duration": 100,
               "redraw": false
              },
              "mode": "immediate",
              "transition": {
               "duration": 0
              }
             }
            ],
            "label": "8",
            "method": "animate"
           },
           {
            "args": [
             [
              9
             ],
             {
              "frame": {
               "duration": 100,
               "redraw": false
              },
              "mode": "immediate",
              "transition": {
               "duration": 0
              }
             }
            ],
            "label": "9",
            "method": "animate"
           },
           {
            "args": [
             [
              10
             ],
             {
              "frame": {
               "duration": 100,
               "redraw": false
              },
              "mode": "immediate",
              "transition": {
               "duration": 0
              }
             }
            ],
            "label": "10",
            "method": "animate"
           },
           {
            "args": [
             [
              11
             ],
             {
              "frame": {
               "duration": 100,
               "redraw": false
              },
              "mode": "immediate",
              "transition": {
               "duration": 0
              }
             }
            ],
            "label": "11",
            "method": "animate"
           },
           {
            "args": [
             [
              12
             ],
             {
              "frame": {
               "duration": 100,
               "redraw": false
              },
              "mode": "immediate",
              "transition": {
               "duration": 0
              }
             }
            ],
            "label": "12",
            "method": "animate"
           },
           {
            "args": [
             [
              13
             ],
             {
              "frame": {
               "duration": 100,
               "redraw": false
              },
              "mode": "immediate",
              "transition": {
               "duration": 0
              }
             }
            ],
            "label": "13",
            "method": "animate"
           },
           {
            "args": [
             [
              14
             ],
             {
              "frame": {
               "duration": 100,
               "redraw": false
              },
              "mode": "immediate",
              "transition": {
               "duration": 0
              }
             }
            ],
            "label": "14",
            "method": "animate"
           },
           {
            "args": [
             [
              15
             ],
             {
              "frame": {
               "duration": 100,
               "redraw": false
              },
              "mode": "immediate",
              "transition": {
               "duration": 0
              }
             }
            ],
            "label": "15",
            "method": "animate"
           },
           {
            "args": [
             [
              16
             ],
             {
              "frame": {
               "duration": 100,
               "redraw": false
              },
              "mode": "immediate",
              "transition": {
               "duration": 0
              }
             }
            ],
            "label": "16",
            "method": "animate"
           },
           {
            "args": [
             [
              17
             ],
             {
              "frame": {
               "duration": 100,
               "redraw": false
              },
              "mode": "immediate",
              "transition": {
               "duration": 0
              }
             }
            ],
            "label": "17",
            "method": "animate"
           },
           {
            "args": [
             [
              18
             ],
             {
              "frame": {
               "duration": 100,
               "redraw": false
              },
              "mode": "immediate",
              "transition": {
               "duration": 0
              }
             }
            ],
            "label": "18",
            "method": "animate"
           },
           {
            "args": [
             [
              19
             ],
             {
              "frame": {
               "duration": 100,
               "redraw": false
              },
              "mode": "immediate",
              "transition": {
               "duration": 0
              }
             }
            ],
            "label": "19",
            "method": "animate"
           },
           {
            "args": [
             [
              20
             ],
             {
              "frame": {
               "duration": 100,
               "redraw": false
              },
              "mode": "immediate",
              "transition": {
               "duration": 0
              }
             }
            ],
            "label": "20",
            "method": "animate"
           },
           {
            "args": [
             [
              21
             ],
             {
              "frame": {
               "duration": 100,
               "redraw": false
              },
              "mode": "immediate",
              "transition": {
               "duration": 0
              }
             }
            ],
            "label": "21",
            "method": "animate"
           },
           {
            "args": [
             [
              22
             ],
             {
              "frame": {
               "duration": 100,
               "redraw": false
              },
              "mode": "immediate",
              "transition": {
               "duration": 0
              }
             }
            ],
            "label": "22",
            "method": "animate"
           },
           {
            "args": [
             [
              23
             ],
             {
              "frame": {
               "duration": 100,
               "redraw": false
              },
              "mode": "immediate",
              "transition": {
               "duration": 0
              }
             }
            ],
            "label": "23",
            "method": "animate"
           },
           {
            "args": [
             [
              24
             ],
             {
              "frame": {
               "duration": 100,
               "redraw": false
              },
              "mode": "immediate",
              "transition": {
               "duration": 0
              }
             }
            ],
            "label": "24",
            "method": "animate"
           },
           {
            "args": [
             [
              25
             ],
             {
              "frame": {
               "duration": 100,
               "redraw": false
              },
              "mode": "immediate",
              "transition": {
               "duration": 0
              }
             }
            ],
            "label": "25",
            "method": "animate"
           },
           {
            "args": [
             [
              26
             ],
             {
              "frame": {
               "duration": 100,
               "redraw": false
              },
              "mode": "immediate",
              "transition": {
               "duration": 0
              }
             }
            ],
            "label": "26",
            "method": "animate"
           },
           {
            "args": [
             [
              27
             ],
             {
              "frame": {
               "duration": 100,
               "redraw": false
              },
              "mode": "immediate",
              "transition": {
               "duration": 0
              }
             }
            ],
            "label": "27",
            "method": "animate"
           },
           {
            "args": [
             [
              28
             ],
             {
              "frame": {
               "duration": 100,
               "redraw": false
              },
              "mode": "immediate",
              "transition": {
               "duration": 0
              }
             }
            ],
            "label": "28",
            "method": "animate"
           },
           {
            "args": [
             [
              29
             ],
             {
              "frame": {
               "duration": 100,
               "redraw": false
              },
              "mode": "immediate",
              "transition": {
               "duration": 0
              }
             }
            ],
            "label": "29",
            "method": "animate"
           },
           {
            "args": [
             [
              30
             ],
             {
              "frame": {
               "duration": 100,
               "redraw": false
              },
              "mode": "immediate",
              "transition": {
               "duration": 0
              }
             }
            ],
            "label": "30",
            "method": "animate"
           }
          ],
          "transition": {
           "duration": 300,
           "easing": "cubic-in-out"
          },
          "x": 0.1,
          "xanchor": "left",
          "y": 0,
          "yanchor": "top"
         }
        ],
        "template": {
         "data": {
          "bar": [
           {
            "error_x": {
             "color": "#2a3f5f"
            },
            "error_y": {
             "color": "#2a3f5f"
            },
            "marker": {
             "line": {
              "color": "#E5ECF6",
              "width": 0.5
             },
             "pattern": {
              "fillmode": "overlay",
              "size": 10,
              "solidity": 0.2
             }
            },
            "type": "bar"
           }
          ],
          "barpolar": [
           {
            "marker": {
             "line": {
              "color": "#E5ECF6",
              "width": 0.5
             },
             "pattern": {
              "fillmode": "overlay",
              "size": 10,
              "solidity": 0.2
             }
            },
            "type": "barpolar"
           }
          ],
          "carpet": [
           {
            "aaxis": {
             "endlinecolor": "#2a3f5f",
             "gridcolor": "white",
             "linecolor": "white",
             "minorgridcolor": "white",
             "startlinecolor": "#2a3f5f"
            },
            "baxis": {
             "endlinecolor": "#2a3f5f",
             "gridcolor": "white",
             "linecolor": "white",
             "minorgridcolor": "white",
             "startlinecolor": "#2a3f5f"
            },
            "type": "carpet"
           }
          ],
          "choropleth": [
           {
            "colorbar": {
             "outlinewidth": 0,
             "ticks": ""
            },
            "type": "choropleth"
           }
          ],
          "contour": [
           {
            "colorbar": {
             "outlinewidth": 0,
             "ticks": ""
            },
            "colorscale": [
             [
              0,
              "#0d0887"
             ],
             [
              0.1111111111111111,
              "#46039f"
             ],
             [
              0.2222222222222222,
              "#7201a8"
             ],
             [
              0.3333333333333333,
              "#9c179e"
             ],
             [
              0.4444444444444444,
              "#bd3786"
             ],
             [
              0.5555555555555556,
              "#d8576b"
             ],
             [
              0.6666666666666666,
              "#ed7953"
             ],
             [
              0.7777777777777778,
              "#fb9f3a"
             ],
             [
              0.8888888888888888,
              "#fdca26"
             ],
             [
              1,
              "#f0f921"
             ]
            ],
            "type": "contour"
           }
          ],
          "contourcarpet": [
           {
            "colorbar": {
             "outlinewidth": 0,
             "ticks": ""
            },
            "type": "contourcarpet"
           }
          ],
          "heatmap": [
           {
            "colorbar": {
             "outlinewidth": 0,
             "ticks": ""
            },
            "colorscale": [
             [
              0,
              "#0d0887"
             ],
             [
              0.1111111111111111,
              "#46039f"
             ],
             [
              0.2222222222222222,
              "#7201a8"
             ],
             [
              0.3333333333333333,
              "#9c179e"
             ],
             [
              0.4444444444444444,
              "#bd3786"
             ],
             [
              0.5555555555555556,
              "#d8576b"
             ],
             [
              0.6666666666666666,
              "#ed7953"
             ],
             [
              0.7777777777777778,
              "#fb9f3a"
             ],
             [
              0.8888888888888888,
              "#fdca26"
             ],
             [
              1,
              "#f0f921"
             ]
            ],
            "type": "heatmap"
           }
          ],
          "heatmapgl": [
           {
            "colorbar": {
             "outlinewidth": 0,
             "ticks": ""
            },
            "colorscale": [
             [
              0,
              "#0d0887"
             ],
             [
              0.1111111111111111,
              "#46039f"
             ],
             [
              0.2222222222222222,
              "#7201a8"
             ],
             [
              0.3333333333333333,
              "#9c179e"
             ],
             [
              0.4444444444444444,
              "#bd3786"
             ],
             [
              0.5555555555555556,
              "#d8576b"
             ],
             [
              0.6666666666666666,
              "#ed7953"
             ],
             [
              0.7777777777777778,
              "#fb9f3a"
             ],
             [
              0.8888888888888888,
              "#fdca26"
             ],
             [
              1,
              "#f0f921"
             ]
            ],
            "type": "heatmapgl"
           }
          ],
          "histogram": [
           {
            "marker": {
             "pattern": {
              "fillmode": "overlay",
              "size": 10,
              "solidity": 0.2
             }
            },
            "type": "histogram"
           }
          ],
          "histogram2d": [
           {
            "colorbar": {
             "outlinewidth": 0,
             "ticks": ""
            },
            "colorscale": [
             [
              0,
              "#0d0887"
             ],
             [
              0.1111111111111111,
              "#46039f"
             ],
             [
              0.2222222222222222,
              "#7201a8"
             ],
             [
              0.3333333333333333,
              "#9c179e"
             ],
             [
              0.4444444444444444,
              "#bd3786"
             ],
             [
              0.5555555555555556,
              "#d8576b"
             ],
             [
              0.6666666666666666,
              "#ed7953"
             ],
             [
              0.7777777777777778,
              "#fb9f3a"
             ],
             [
              0.8888888888888888,
              "#fdca26"
             ],
             [
              1,
              "#f0f921"
             ]
            ],
            "type": "histogram2d"
           }
          ],
          "histogram2dcontour": [
           {
            "colorbar": {
             "outlinewidth": 0,
             "ticks": ""
            },
            "colorscale": [
             [
              0,
              "#0d0887"
             ],
             [
              0.1111111111111111,
              "#46039f"
             ],
             [
              0.2222222222222222,
              "#7201a8"
             ],
             [
              0.3333333333333333,
              "#9c179e"
             ],
             [
              0.4444444444444444,
              "#bd3786"
             ],
             [
              0.5555555555555556,
              "#d8576b"
             ],
             [
              0.6666666666666666,
              "#ed7953"
             ],
             [
              0.7777777777777778,
              "#fb9f3a"
             ],
             [
              0.8888888888888888,
              "#fdca26"
             ],
             [
              1,
              "#f0f921"
             ]
            ],
            "type": "histogram2dcontour"
           }
          ],
          "mesh3d": [
           {
            "colorbar": {
             "outlinewidth": 0,
             "ticks": ""
            },
            "type": "mesh3d"
           }
          ],
          "parcoords": [
           {
            "line": {
             "colorbar": {
              "outlinewidth": 0,
              "ticks": ""
             }
            },
            "type": "parcoords"
           }
          ],
          "pie": [
           {
            "automargin": true,
            "type": "pie"
           }
          ],
          "scatter": [
           {
            "fillpattern": {
             "fillmode": "overlay",
             "size": 10,
             "solidity": 0.2
            },
            "type": "scatter"
           }
          ],
          "scatter3d": [
           {
            "line": {
             "colorbar": {
              "outlinewidth": 0,
              "ticks": ""
             }
            },
            "marker": {
             "colorbar": {
              "outlinewidth": 0,
              "ticks": ""
             }
            },
            "type": "scatter3d"
           }
          ],
          "scattercarpet": [
           {
            "marker": {
             "colorbar": {
              "outlinewidth": 0,
              "ticks": ""
             }
            },
            "type": "scattercarpet"
           }
          ],
          "scattergeo": [
           {
            "marker": {
             "colorbar": {
              "outlinewidth": 0,
              "ticks": ""
             }
            },
            "type": "scattergeo"
           }
          ],
          "scattergl": [
           {
            "marker": {
             "colorbar": {
              "outlinewidth": 0,
              "ticks": ""
             }
            },
            "type": "scattergl"
           }
          ],
          "scattermapbox": [
           {
            "marker": {
             "colorbar": {
              "outlinewidth": 0,
              "ticks": ""
             }
            },
            "type": "scattermapbox"
           }
          ],
          "scatterpolar": [
           {
            "marker": {
             "colorbar": {
              "outlinewidth": 0,
              "ticks": ""
             }
            },
            "type": "scatterpolar"
           }
          ],
          "scatterpolargl": [
           {
            "marker": {
             "colorbar": {
              "outlinewidth": 0,
              "ticks": ""
             }
            },
            "type": "scatterpolargl"
           }
          ],
          "scatterternary": [
           {
            "marker": {
             "colorbar": {
              "outlinewidth": 0,
              "ticks": ""
             }
            },
            "type": "scatterternary"
           }
          ],
          "surface": [
           {
            "colorbar": {
             "outlinewidth": 0,
             "ticks": ""
            },
            "colorscale": [
             [
              0,
              "#0d0887"
             ],
             [
              0.1111111111111111,
              "#46039f"
             ],
             [
              0.2222222222222222,
              "#7201a8"
             ],
             [
              0.3333333333333333,
              "#9c179e"
             ],
             [
              0.4444444444444444,
              "#bd3786"
             ],
             [
              0.5555555555555556,
              "#d8576b"
             ],
             [
              0.6666666666666666,
              "#ed7953"
             ],
             [
              0.7777777777777778,
              "#fb9f3a"
             ],
             [
              0.8888888888888888,
              "#fdca26"
             ],
             [
              1,
              "#f0f921"
             ]
            ],
            "type": "surface"
           }
          ],
          "table": [
           {
            "cells": {
             "fill": {
              "color": "#EBF0F8"
             },
             "line": {
              "color": "white"
             }
            },
            "header": {
             "fill": {
              "color": "#C8D4E3"
             },
             "line": {
              "color": "white"
             }
            },
            "type": "table"
           }
          ]
         },
         "layout": {
          "annotationdefaults": {
           "arrowcolor": "#2a3f5f",
           "arrowhead": 0,
           "arrowwidth": 1
          },
          "autotypenumbers": "strict",
          "coloraxis": {
           "colorbar": {
            "outlinewidth": 0,
            "ticks": ""
           }
          },
          "colorscale": {
           "diverging": [
            [
             0,
             "#8e0152"
            ],
            [
             0.1,
             "#c51b7d"
            ],
            [
             0.2,
             "#de77ae"
            ],
            [
             0.3,
             "#f1b6da"
            ],
            [
             0.4,
             "#fde0ef"
            ],
            [
             0.5,
             "#f7f7f7"
            ],
            [
             0.6,
             "#e6f5d0"
            ],
            [
             0.7,
             "#b8e186"
            ],
            [
             0.8,
             "#7fbc41"
            ],
            [
             0.9,
             "#4d9221"
            ],
            [
             1,
             "#276419"
            ]
           ],
           "sequential": [
            [
             0,
             "#0d0887"
            ],
            [
             0.1111111111111111,
             "#46039f"
            ],
            [
             0.2222222222222222,
             "#7201a8"
            ],
            [
             0.3333333333333333,
             "#9c179e"
            ],
            [
             0.4444444444444444,
             "#bd3786"
            ],
            [
             0.5555555555555556,
             "#d8576b"
            ],
            [
             0.6666666666666666,
             "#ed7953"
            ],
            [
             0.7777777777777778,
             "#fb9f3a"
            ],
            [
             0.8888888888888888,
             "#fdca26"
            ],
            [
             1,
             "#f0f921"
            ]
           ],
           "sequentialminus": [
            [
             0,
             "#0d0887"
            ],
            [
             0.1111111111111111,
             "#46039f"
            ],
            [
             0.2222222222222222,
             "#7201a8"
            ],
            [
             0.3333333333333333,
             "#9c179e"
            ],
            [
             0.4444444444444444,
             "#bd3786"
            ],
            [
             0.5555555555555556,
             "#d8576b"
            ],
            [
             0.6666666666666666,
             "#ed7953"
            ],
            [
             0.7777777777777778,
             "#fb9f3a"
            ],
            [
             0.8888888888888888,
             "#fdca26"
            ],
            [
             1,
             "#f0f921"
            ]
           ]
          },
          "colorway": [
           "#636efa",
           "#EF553B",
           "#00cc96",
           "#ab63fa",
           "#FFA15A",
           "#19d3f3",
           "#FF6692",
           "#B6E880",
           "#FF97FF",
           "#FECB52"
          ],
          "font": {
           "color": "#2a3f5f"
          },
          "geo": {
           "bgcolor": "white",
           "lakecolor": "white",
           "landcolor": "#E5ECF6",
           "showlakes": true,
           "showland": true,
           "subunitcolor": "white"
          },
          "hoverlabel": {
           "align": "left"
          },
          "hovermode": "closest",
          "mapbox": {
           "style": "light"
          },
          "paper_bgcolor": "white",
          "plot_bgcolor": "#E5ECF6",
          "polar": {
           "angularaxis": {
            "gridcolor": "white",
            "linecolor": "white",
            "ticks": ""
           },
           "bgcolor": "#E5ECF6",
           "radialaxis": {
            "gridcolor": "white",
            "linecolor": "white",
            "ticks": ""
           }
          },
          "scene": {
           "xaxis": {
            "backgroundcolor": "#E5ECF6",
            "gridcolor": "white",
            "gridwidth": 2,
            "linecolor": "white",
            "showbackground": true,
            "ticks": "",
            "zerolinecolor": "white"
           },
           "yaxis": {
            "backgroundcolor": "#E5ECF6",
            "gridcolor": "white",
            "gridwidth": 2,
            "linecolor": "white",
            "showbackground": true,
            "ticks": "",
            "zerolinecolor": "white"
           },
           "zaxis": {
            "backgroundcolor": "#E5ECF6",
            "gridcolor": "white",
            "gridwidth": 2,
            "linecolor": "white",
            "showbackground": true,
            "ticks": "",
            "zerolinecolor": "white"
           }
          },
          "shapedefaults": {
           "line": {
            "color": "#2a3f5f"
           }
          },
          "ternary": {
           "aaxis": {
            "gridcolor": "white",
            "linecolor": "white",
            "ticks": ""
           },
           "baxis": {
            "gridcolor": "white",
            "linecolor": "white",
            "ticks": ""
           },
           "bgcolor": "#E5ECF6",
           "caxis": {
            "gridcolor": "white",
            "linecolor": "white",
            "ticks": ""
           }
          },
          "title": {
           "x": 0.05
          },
          "xaxis": {
           "automargin": true,
           "gridcolor": "white",
           "linecolor": "white",
           "ticks": "",
           "title": {
            "standoff": 15
           },
           "zerolinecolor": "white",
           "zerolinewidth": 2
          },
          "yaxis": {
           "automargin": true,
           "gridcolor": "white",
           "linecolor": "white",
           "ticks": "",
           "title": {
            "standoff": 15
           },
           "zerolinecolor": "white",
           "zerolinewidth": 2
          }
         }
        },
        "title": {
         "text": "GameId: 2021090900, PlayId: 2419<br>00:09 2Q<br><br><br><br><br><br><br><br><br><br><br><br><br><br><br><br><br><br><br>(:09) (Shotgun) T.Brady pass incomplete short right to T.Johnson [M.Parsons]."
        },
        "updatemenus": [
         {
          "buttons": [
           {
            "args": [
             null,
             {
              "frame": {
               "duration": 100,
               "redraw": false
              },
              "fromcurrent": true,
              "transition": {
               "duration": 0
              }
             }
            ],
            "label": "Play",
            "method": "animate"
           },
           {
            "args": [
             [
              null
             ],
             {
              "frame": {
               "duration": 0,
               "redraw": false
              },
              "mode": "immediate",
              "transition": {
               "duration": 0
              }
             }
            ],
            "label": "Pause",
            "method": "animate"
           }
          ],
          "direction": "left",
          "pad": {
           "r": 10,
           "t": 87
          },
          "showactive": false,
          "type": "buttons",
          "x": 0.1,
          "xanchor": "right",
          "y": 0,
          "yanchor": "top"
         }
        ],
        "width": 1200,
        "xaxis": {
         "autorange": false,
         "range": [
          0,
          120
         ],
         "showticklabels": false,
         "tickmode": "array",
         "tickvals": [
          10,
          15,
          20,
          25,
          30,
          35,
          40,
          45,
          50,
          55,
          60,
          65,
          70,
          75,
          80,
          85,
          90,
          95,
          100,
          105,
          110
         ]
        },
        "yaxis": {
         "autorange": false,
         "range": [
          0,
          53.3
         ],
         "showgrid": false,
         "showticklabels": false
        }
       }
      }
     },
     "metadata": {},
     "output_type": "display_data"
    }
   ],
   "source": [
    "playId_num = 2419\n",
    "gameId = 2021090900\n",
    "animate_play(week1, plays, players, pffScoutingData, gameId, playId_num).show()"
   ]
  }
 ],
 "metadata": {
  "kernelspec": {
   "display_name": "Python 3.10.0 64-bit",
   "language": "python",
   "name": "python3"
  },
  "language_info": {
   "codemirror_mode": {
    "name": "ipython",
    "version": 3
   },
   "file_extension": ".py",
   "mimetype": "text/x-python",
   "name": "python",
   "nbconvert_exporter": "python",
   "pygments_lexer": "ipython3",
   "version": "3.10.0"
  },
  "orig_nbformat": 4,
  "vscode": {
   "interpreter": {
    "hash": "369f2c481f4da34e4445cda3fffd2e751bd1c4d706f27375911949ba6bb62e1c"
   }
  }
 },
 "nbformat": 4,
 "nbformat_minor": 2
}

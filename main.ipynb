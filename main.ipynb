{
 "cells": [
  {
   "cell_type": "markdown",
   "metadata": {},
   "source": [
    "# Imports:"
   ]
  },
  {
   "cell_type": "markdown",
   "metadata": {},
   "source": [
    "# Animation stuff"
   ]
  },
  {
   "cell_type": "code",
   "execution_count": 2,
   "metadata": {},
   "outputs": [],
   "source": [
    "colors = {\n",
    "    'ARI':\"#97233F\", \n",
    "    'ATL':\"#A71930\", \n",
    "    'BAL':'#241773', \n",
    "    'BUF':\"#00338D\", \n",
    "    'CAR':\"#0085CA\", \n",
    "    'CHI':\"#C83803\", \n",
    "    'CIN':\"#FB4F14\", \n",
    "    'CLE':\"#311D00\", \n",
    "    'DAL':'#003594',\n",
    "    'DEN':\"#FB4F14\", \n",
    "    'DET':\"#0076B6\", \n",
    "    'GB':\"#203731\", \n",
    "    'HOU':\"#03202F\", \n",
    "    'IND':\"#002C5F\", \n",
    "    'JAX':\"#9F792C\", \n",
    "    'KC':\"#E31837\", \n",
    "    'LA':\"#003594\", \n",
    "    'LAC':\"#0080C6\", \n",
    "    'LV':\"#000000\",\n",
    "    'MIA':\"#008E97\", \n",
    "    'MIN':\"#4F2683\", \n",
    "    'NE':\"#002244\", \n",
    "    'NO':\"#D3BC8D\", \n",
    "    'NYG':\"#0B2265\", \n",
    "    'NYJ':\"#125740\", \n",
    "    'PHI':\"#004C54\", \n",
    "    'PIT':\"#FFB612\", \n",
    "    'SEA':\"#69BE28\", \n",
    "    'SF':\"#AA0000\",\n",
    "    'TB':'#D50A0A', \n",
    "    'TEN':\"#4B92DB\", \n",
    "    'WAS':\"#5A1414\", \n",
    "    'football':'#CBB67C'\n",
    "}"
   ]
  },
  {
   "cell_type": "code",
   "execution_count": 3,
   "metadata": {},
   "outputs": [],
   "source": [
    "#TODO:\n",
    "# Add Useful Player Labels\n",
    "# Add ability to keep or remove the extra stuff (line markers etc)\n",
    "# Add Team Colors to dict\n",
    "# Turn into Function \n",
    "\n",
    "def animate_play(tracking_df, play_df,players,pffScoutingData, gameId,playId):\n",
    "    selected_play_df = play_df[(play_df.playId==playId)&(play_df.gameId==gameId)].copy()\n",
    "    # selected_play_df = tracking_df\n",
    "    \n",
    "    # tracking_players_df = tracking_df\n",
    "    tracking_players_df = pd.merge(tracking_df,players,how=\"left\",on = \"nflId\")\n",
    "    tracking_players_df = pd.merge(tracking_players_df,pffScoutingData,how=\"left\",on = [\"nflId\",\"playId\",\"gameId\"])\n",
    "    selected_tracking_df = tracking_players_df[(tracking_players_df.playId==playId)&(tracking_players_df.gameId==gameId)].copy()\n",
    "\n",
    "    # selected_tracking_df = tracking_df\n",
    "    sorted_frame_list = selected_tracking_df.frameId.unique()\n",
    "    sorted_frame_list.sort()\n",
    "\n",
    "    # get play General information \n",
    "    line_of_scrimmage = selected_play_df.absoluteYardlineNumber.values[0]\n",
    "    first_down_marker = line_of_scrimmage + selected_play_df.yardsToGo.values[0]\n",
    "    down = selected_play_df.down.values[0]\n",
    "    quarter = selected_play_df.quarter.values[0]\n",
    "    gameClock = selected_play_df.gameClock.values[0]\n",
    "    playDescription = selected_play_df.playDescription.values[0]\n",
    "    # Handle case where we have a really long Play Description and want to split it into two lines\n",
    "    if len(playDescription.split(\" \"))>15 and len(playDescription)>115:\n",
    "        playDescription = \" \".join(playDescription.split(\" \")[0:16]) + \"<br>\" + \" \".join(playDescription.split(\" \")[16:])\n",
    "\n",
    "    # initialize plotly start and stop buttons for animation\n",
    "    updatemenus_dict = [\n",
    "        {\n",
    "            \"buttons\": [\n",
    "                {\n",
    "                    \"args\": [None, {\"frame\": {\"duration\": 100, \"redraw\": False},\n",
    "                                \"fromcurrent\": True, \"transition\": {\"duration\": 0}}],\n",
    "                    \"label\": \"Play\",\n",
    "                    \"method\": \"animate\"\n",
    "                },\n",
    "                {\n",
    "                    \"args\": [[None], {\"frame\": {\"duration\": 0, \"redraw\": False},\n",
    "                                      \"mode\": \"immediate\",\n",
    "                                      \"transition\": {\"duration\": 0}}],\n",
    "                    \"label\": \"Pause\",\n",
    "                    \"method\": \"animate\"\n",
    "                }\n",
    "            ],\n",
    "            \"direction\": \"left\",\n",
    "            \"pad\": {\"r\": 10, \"t\": 87},\n",
    "            \"showactive\": False,\n",
    "            \"type\": \"buttons\",\n",
    "            \"x\": 0.1,\n",
    "            \"xanchor\": \"right\",\n",
    "            \"y\": 0,\n",
    "            \"yanchor\": \"top\"\n",
    "        }\n",
    "    ]\n",
    "    # initialize plotly slider to show frame position in animation\n",
    "    sliders_dict = {\n",
    "        \"active\": 0,\n",
    "        \"yanchor\": \"top\",\n",
    "        \"xanchor\": \"left\",\n",
    "        \"currentvalue\": {\n",
    "            \"font\": {\"size\": 20},\n",
    "            \"prefix\": \"Frame:\",\n",
    "            \"visible\": True,\n",
    "            \"xanchor\": \"right\"\n",
    "        },\n",
    "        \"transition\": {\"duration\": 300, \"easing\": \"cubic-in-out\"},\n",
    "        \"pad\": {\"b\": 10, \"t\": 50},\n",
    "        \"len\": 0.9,\n",
    "        \"x\": 0.1,\n",
    "        \"y\": 0,\n",
    "        \"steps\": []\n",
    "    }\n",
    "\n",
    "\n",
    "    frames = []\n",
    "    for frameId in sorted_frame_list:\n",
    "        data = []\n",
    "        # Add Numbers to Field \n",
    "        data.append(\n",
    "            go.Scatter(\n",
    "                x=np.arange(20,110,10), \n",
    "                y=[5]*len(np.arange(20,110,10)),\n",
    "                mode='text',\n",
    "                text=list(map(str,list(np.arange(20, 61, 10)-10)+list(np.arange(40, 9, -10)))),\n",
    "                textfont_size = 30,\n",
    "                textfont_family = \"Courier New, monospace\",\n",
    "                textfont_color = \"#ffffff\",\n",
    "                showlegend=False,\n",
    "                hoverinfo='none'\n",
    "            )\n",
    "        )\n",
    "        data.append(\n",
    "            go.Scatter(\n",
    "                x=np.arange(20,110,10), \n",
    "                y=[53.5-5]*len(np.arange(20,110,10)),\n",
    "                mode='text',\n",
    "                text=list(map(str,list(np.arange(20, 61, 10)-10)+list(np.arange(40, 9, -10)))),\n",
    "                textfont_size = 30,\n",
    "                textfont_family = \"Courier New, monospace\",\n",
    "                textfont_color = \"#ffffff\",\n",
    "                showlegend=False,\n",
    "                hoverinfo='none'\n",
    "            )\n",
    "        )\n",
    "        # Add line of scrimage \n",
    "        data.append(\n",
    "            go.Scatter(\n",
    "                x=[line_of_scrimmage,line_of_scrimmage], \n",
    "                y=[0,53.5],\n",
    "                line_dash='dash',\n",
    "                line_color='blue',\n",
    "                showlegend=False,\n",
    "                hoverinfo='none'\n",
    "            )\n",
    "        )\n",
    "        # Add First down line \n",
    "        data.append(\n",
    "            go.Scatter(\n",
    "                x=[first_down_marker,first_down_marker], \n",
    "                y=[0,53.5],\n",
    "                line_dash='dash',\n",
    "                line_color='yellow',\n",
    "                showlegend=False,\n",
    "                hoverinfo='none'\n",
    "            )\n",
    "        )\n",
    "        # Plot Players\n",
    "        for team in selected_tracking_df.team.unique():\n",
    "            plot_df = selected_tracking_df[(selected_tracking_df.team==team)&(selected_tracking_df.frameId==frameId)].copy()\n",
    "            if team != \"football\":\n",
    "                hover_text_array=[]\n",
    "                for nflId in plot_df.nflId:\n",
    "                    selected_player_df = plot_df[plot_df.nflId==nflId]\n",
    "                    hover_text_array.append(\"nflId:{}<br>displayName:{}<br>Position:{}<br>Role:{}\".format(selected_player_df[\"nflId\"].values[0],\n",
    "                                                                                      selected_player_df[\"displayName\"].values[0],\n",
    "                                                                                      selected_player_df[\"pff_positionLinedUp\"].values[0],\n",
    "                                                                                      selected_player_df[\"pff_role\"].values[0],\n",
    "                                                                                      selected_player_df[\"pff_blockType\"].values[0]))\n",
    "                data.append(go.Scatter(x=plot_df[\"x\"], y=plot_df[\"y\"],mode = 'markers',marker_color=colors[team],name=team,hovertext=hover_text_array,hoverinfo=\"text\"))\n",
    "            else:\n",
    "                data.append(go.Scatter(x=plot_df[\"x\"], y=plot_df[\"y\"],mode = 'markers',marker_color=colors[team],name=team,hoverinfo='none'))\n",
    "        # add frame to slider\n",
    "        slider_step = {\"args\": [\n",
    "            [frameId],\n",
    "            {\"frame\": {\"duration\": 100, \"redraw\": False},\n",
    "             \"mode\": \"immediate\",\n",
    "             \"transition\": {\"duration\": 0}}\n",
    "        ],\n",
    "            \"label\": str(frameId),\n",
    "            \"method\": \"animate\"}\n",
    "        sliders_dict[\"steps\"].append(slider_step)\n",
    "        frames.append(go.Frame(data=data, name=str(frameId)))\n",
    "\n",
    "    scale=10\n",
    "    layout = go.Layout(\n",
    "        autosize=False,\n",
    "        width=120*scale,\n",
    "        height=60*scale,\n",
    "        xaxis=dict(range=[0, 120], autorange=False, tickmode='array',tickvals=np.arange(10, 111, 5).tolist(),showticklabels=False),\n",
    "        yaxis=dict(range=[0, 53.3], autorange=False,showgrid=False,showticklabels=False),\n",
    "\n",
    "        plot_bgcolor='#00B140',\n",
    "        # Create title and add play description at the bottom of the chart for better visual appeal\n",
    "        title=f\"GameId: {gameId}, PlayId: {playId}<br>{gameClock} {quarter}Q\"+\"<br>\"*19+f\"{playDescription}\",\n",
    "        updatemenus=updatemenus_dict,\n",
    "        sliders = [sliders_dict]\n",
    "    )\n",
    "\n",
    "    fig = go.Figure(\n",
    "        data=frames[0][\"data\"],\n",
    "        layout= layout,\n",
    "        frames=frames[1:]\n",
    "    )\n",
    "    # Create First Down Markers \n",
    "    for y_val in [0,53]:\n",
    "        fig.add_annotation(\n",
    "                x=first_down_marker,\n",
    "                y=y_val,\n",
    "                text=str(down),\n",
    "                showarrow=False,\n",
    "                font=dict(\n",
    "                    family=\"Courier New, monospace\",\n",
    "                    size=16,\n",
    "                    color=\"black\"\n",
    "                    ),\n",
    "                align=\"center\",\n",
    "                bordercolor=\"black\",\n",
    "                borderwidth=2,\n",
    "                borderpad=4,\n",
    "                bgcolor=\"#ff7f0e\",\n",
    "                opacity=1\n",
    "                )\n",
    "\n",
    "    return fig"
   ]
  },
  {
   "cell_type": "markdown",
   "metadata": {},
   "source": [
    "# All data"
   ]
  },
  {
   "cell_type": "markdown",
   "metadata": {},
   "source": [
    "### Imports"
   ]
  },
  {
   "cell_type": "code",
   "execution_count": 4,
   "metadata": {},
   "outputs": [],
   "source": [
    "import pandas as pd\n",
    "import matplotlib as mpl\n",
    "import matplotlib.pyplot as plt\n",
    "import numpy as np\n",
    "import datetime\n",
    "import missingno as msno\n",
    "import seaborn as sns\n",
    "import plotly.graph_objects as go"
   ]
  },
  {
   "cell_type": "markdown",
   "metadata": {},
   "source": [
    "### Read In csv's"
   ]
  },
  {
   "cell_type": "code",
   "execution_count": 5,
   "metadata": {},
   "outputs": [],
   "source": [
    "# Read In csvs\n",
    "games = pd.read_csv(\"nfl-big-data-bowl-2023/games.csv\")\n",
    "plays = pd.read_csv(\"nfl-big-data-bowl-2023/plays.csv\")\n",
    "players = pd.read_csv(\"nfl-big-data-bowl-2023/players.csv\")\n",
    "week1 = pd.read_csv(\"nfl-big-data-bowl-2023/week1.csv\")\n",
    "pffScoutingData = pd.read_csv(\"nfl-big-data-bowl-2023/pffScoutingData.csv\")"
   ]
  },
  {
   "cell_type": "code",
   "execution_count": 6,
   "metadata": {},
   "outputs": [
    {
     "data": {
      "text/plain": [
       "Index(['gameId', 'playId', 'nflId', 'frameId', 'time', 'jerseyNumber', 'team',\n",
       "       'playDirection', 'x', 'y', 's', 'a', 'dis', 'o', 'dir', 'event'],\n",
       "      dtype='object')"
      ]
     },
     "execution_count": 6,
     "metadata": {},
     "output_type": "execute_result"
    }
   ],
   "source": [
    "week1.columns"
   ]
  },
  {
   "cell_type": "markdown",
   "metadata": {},
   "source": [
    "### Join all data"
   ]
  },
  {
   "cell_type": "code",
   "execution_count": 7,
   "metadata": {},
   "outputs": [],
   "source": [
    "joined_all = pd.merge(games,plays,how=\"inner\",on = \"gameId\")\n",
    "joined_all = pd.merge(joined_all,week1,how=\"inner\",on=[\"gameId\",\"playId\"])\n",
    "# left join on players to keep football records\n",
    "joined_all = pd.merge(joined_all,players,how=\"left\",on = \"nflId\")\n",
    "joined_all = pd.merge(joined_all, pffScoutingData, how=\"left\",on = [\"nflId\",\"playId\",\"gameId\"])"
   ]
  },
  {
   "cell_type": "markdown",
   "metadata": {},
   "source": [
    "### Focused df"
   ]
  },
  {
   "cell_type": "code",
   "execution_count": 8,
   "metadata": {},
   "outputs": [
    {
     "data": {
      "text/html": [
       "<div>\n",
       "<style scoped>\n",
       "    .dataframe tbody tr th:only-of-type {\n",
       "        vertical-align: middle;\n",
       "    }\n",
       "\n",
       "    .dataframe tbody tr th {\n",
       "        vertical-align: top;\n",
       "    }\n",
       "\n",
       "    .dataframe thead th {\n",
       "        text-align: right;\n",
       "    }\n",
       "</style>\n",
       "<table border=\"1\" class=\"dataframe\">\n",
       "  <thead>\n",
       "    <tr style=\"text-align: right;\">\n",
       "      <th></th>\n",
       "      <th>gameId</th>\n",
       "      <th>season</th>\n",
       "      <th>week</th>\n",
       "      <th>gameDate</th>\n",
       "      <th>gameTimeEastern</th>\n",
       "      <th>homeTeamAbbr</th>\n",
       "      <th>visitorTeamAbbr</th>\n",
       "      <th>playId</th>\n",
       "      <th>playDescription</th>\n",
       "      <th>quarter</th>\n",
       "      <th>...</th>\n",
       "      <th>pff_hit</th>\n",
       "      <th>pff_hurry</th>\n",
       "      <th>pff_sack</th>\n",
       "      <th>pff_beatenByDefender</th>\n",
       "      <th>pff_hitAllowed</th>\n",
       "      <th>pff_hurryAllowed</th>\n",
       "      <th>pff_sackAllowed</th>\n",
       "      <th>pff_nflIdBlockedPlayer</th>\n",
       "      <th>pff_blockType</th>\n",
       "      <th>pff_backFieldBlock</th>\n",
       "    </tr>\n",
       "  </thead>\n",
       "  <tbody>\n",
       "    <tr>\n",
       "      <th>0</th>\n",
       "      <td>2021090900</td>\n",
       "      <td>2021</td>\n",
       "      <td>1</td>\n",
       "      <td>09/09/2021</td>\n",
       "      <td>20:20:00</td>\n",
       "      <td>TB</td>\n",
       "      <td>DAL</td>\n",
       "      <td>97</td>\n",
       "      <td>(13:33) (Shotgun) T.Brady pass incomplete deep...</td>\n",
       "      <td>1</td>\n",
       "      <td>...</td>\n",
       "      <td>NaN</td>\n",
       "      <td>NaN</td>\n",
       "      <td>NaN</td>\n",
       "      <td>NaN</td>\n",
       "      <td>NaN</td>\n",
       "      <td>NaN</td>\n",
       "      <td>NaN</td>\n",
       "      <td>NaN</td>\n",
       "      <td>NaN</td>\n",
       "      <td>NaN</td>\n",
       "    </tr>\n",
       "    <tr>\n",
       "      <th>1</th>\n",
       "      <td>2021090900</td>\n",
       "      <td>2021</td>\n",
       "      <td>1</td>\n",
       "      <td>09/09/2021</td>\n",
       "      <td>20:20:00</td>\n",
       "      <td>TB</td>\n",
       "      <td>DAL</td>\n",
       "      <td>97</td>\n",
       "      <td>(13:33) (Shotgun) T.Brady pass incomplete deep...</td>\n",
       "      <td>1</td>\n",
       "      <td>...</td>\n",
       "      <td>NaN</td>\n",
       "      <td>NaN</td>\n",
       "      <td>NaN</td>\n",
       "      <td>NaN</td>\n",
       "      <td>NaN</td>\n",
       "      <td>NaN</td>\n",
       "      <td>NaN</td>\n",
       "      <td>NaN</td>\n",
       "      <td>NaN</td>\n",
       "      <td>NaN</td>\n",
       "    </tr>\n",
       "    <tr>\n",
       "      <th>2</th>\n",
       "      <td>2021090900</td>\n",
       "      <td>2021</td>\n",
       "      <td>1</td>\n",
       "      <td>09/09/2021</td>\n",
       "      <td>20:20:00</td>\n",
       "      <td>TB</td>\n",
       "      <td>DAL</td>\n",
       "      <td>97</td>\n",
       "      <td>(13:33) (Shotgun) T.Brady pass incomplete deep...</td>\n",
       "      <td>1</td>\n",
       "      <td>...</td>\n",
       "      <td>NaN</td>\n",
       "      <td>NaN</td>\n",
       "      <td>NaN</td>\n",
       "      <td>NaN</td>\n",
       "      <td>NaN</td>\n",
       "      <td>NaN</td>\n",
       "      <td>NaN</td>\n",
       "      <td>NaN</td>\n",
       "      <td>NaN</td>\n",
       "      <td>NaN</td>\n",
       "    </tr>\n",
       "    <tr>\n",
       "      <th>3</th>\n",
       "      <td>2021090900</td>\n",
       "      <td>2021</td>\n",
       "      <td>1</td>\n",
       "      <td>09/09/2021</td>\n",
       "      <td>20:20:00</td>\n",
       "      <td>TB</td>\n",
       "      <td>DAL</td>\n",
       "      <td>97</td>\n",
       "      <td>(13:33) (Shotgun) T.Brady pass incomplete deep...</td>\n",
       "      <td>1</td>\n",
       "      <td>...</td>\n",
       "      <td>NaN</td>\n",
       "      <td>NaN</td>\n",
       "      <td>NaN</td>\n",
       "      <td>NaN</td>\n",
       "      <td>NaN</td>\n",
       "      <td>NaN</td>\n",
       "      <td>NaN</td>\n",
       "      <td>NaN</td>\n",
       "      <td>NaN</td>\n",
       "      <td>NaN</td>\n",
       "    </tr>\n",
       "    <tr>\n",
       "      <th>4</th>\n",
       "      <td>2021090900</td>\n",
       "      <td>2021</td>\n",
       "      <td>1</td>\n",
       "      <td>09/09/2021</td>\n",
       "      <td>20:20:00</td>\n",
       "      <td>TB</td>\n",
       "      <td>DAL</td>\n",
       "      <td>97</td>\n",
       "      <td>(13:33) (Shotgun) T.Brady pass incomplete deep...</td>\n",
       "      <td>1</td>\n",
       "      <td>...</td>\n",
       "      <td>NaN</td>\n",
       "      <td>NaN</td>\n",
       "      <td>NaN</td>\n",
       "      <td>NaN</td>\n",
       "      <td>NaN</td>\n",
       "      <td>NaN</td>\n",
       "      <td>NaN</td>\n",
       "      <td>NaN</td>\n",
       "      <td>NaN</td>\n",
       "      <td>NaN</td>\n",
       "    </tr>\n",
       "  </tbody>\n",
       "</table>\n",
       "<p>5 rows × 70 columns</p>\n",
       "</div>"
      ],
      "text/plain": [
       "       gameId  season  week    gameDate gameTimeEastern homeTeamAbbr  \\\n",
       "0  2021090900    2021     1  09/09/2021        20:20:00           TB   \n",
       "1  2021090900    2021     1  09/09/2021        20:20:00           TB   \n",
       "2  2021090900    2021     1  09/09/2021        20:20:00           TB   \n",
       "3  2021090900    2021     1  09/09/2021        20:20:00           TB   \n",
       "4  2021090900    2021     1  09/09/2021        20:20:00           TB   \n",
       "\n",
       "  visitorTeamAbbr  playId                                    playDescription  \\\n",
       "0             DAL      97  (13:33) (Shotgun) T.Brady pass incomplete deep...   \n",
       "1             DAL      97  (13:33) (Shotgun) T.Brady pass incomplete deep...   \n",
       "2             DAL      97  (13:33) (Shotgun) T.Brady pass incomplete deep...   \n",
       "3             DAL      97  (13:33) (Shotgun) T.Brady pass incomplete deep...   \n",
       "4             DAL      97  (13:33) (Shotgun) T.Brady pass incomplete deep...   \n",
       "\n",
       "   quarter  ...  pff_hit  pff_hurry pff_sack pff_beatenByDefender  \\\n",
       "0        1  ...      NaN        NaN      NaN                  NaN   \n",
       "1        1  ...      NaN        NaN      NaN                  NaN   \n",
       "2        1  ...      NaN        NaN      NaN                  NaN   \n",
       "3        1  ...      NaN        NaN      NaN                  NaN   \n",
       "4        1  ...      NaN        NaN      NaN                  NaN   \n",
       "\n",
       "  pff_hitAllowed  pff_hurryAllowed pff_sackAllowed  pff_nflIdBlockedPlayer  \\\n",
       "0            NaN               NaN             NaN                     NaN   \n",
       "1            NaN               NaN             NaN                     NaN   \n",
       "2            NaN               NaN             NaN                     NaN   \n",
       "3            NaN               NaN             NaN                     NaN   \n",
       "4            NaN               NaN             NaN                     NaN   \n",
       "\n",
       "   pff_blockType pff_backFieldBlock  \n",
       "0            NaN                NaN  \n",
       "1            NaN                NaN  \n",
       "2            NaN                NaN  \n",
       "3            NaN                NaN  \n",
       "4            NaN                NaN  \n",
       "\n",
       "[5 rows x 70 columns]"
      ]
     },
     "execution_count": 8,
     "metadata": {},
     "output_type": "execute_result"
    }
   ],
   "source": [
    "id = 2021090900\n",
    "eda_df = joined_all[(joined_all.gameId==id)]\n",
    "\n",
    "eda_df.head()"
   ]
  },
  {
   "cell_type": "code",
   "execution_count": 9,
   "metadata": {},
   "outputs": [
    {
     "data": {
      "text/plain": [
       "PP    0.542224\n",
       "SW    0.110139\n",
       "PA    0.102903\n",
       "CL    0.077258\n",
       "PT    0.073182\n",
       "PU    0.025005\n",
       "NB    0.022806\n",
       "CH    0.016853\n",
       "SR    0.013464\n",
       "BH    0.008884\n",
       "UP    0.007282\n",
       "Name: pff_blockType, dtype: float64"
      ]
     },
     "execution_count": 9,
     "metadata": {},
     "output_type": "execute_result"
    }
   ],
   "source": [
    "eda_df.pff_blockType.value_counts()/eda_df.pff_blockType.value_counts().sum()"
   ]
  },
  {
   "cell_type": "code",
   "execution_count": 10,
   "metadata": {},
   "outputs": [
    {
     "name": "stderr",
     "output_type": "stream",
     "text": [
      "c:\\Python310\\lib\\site-packages\\seaborn\\_decorators.py:36: FutureWarning: Pass the following variables as keyword args: x, y. From version 0.12, the only valid positional argument will be `data`, and passing other arguments without an explicit keyword will result in an error or misinterpretation.\n",
      "  warnings.warn(\n"
     ]
    },
    {
     "data": {
      "text/plain": [
       "<AxesSubplot:ylabel='pff_blockType'>"
      ]
     },
     "execution_count": 10,
     "metadata": {},
     "output_type": "execute_result"
    },
    {
     "data": {
      "image/png": "[encoded data removed]",
      "text/plain": [
       "<Figure size 432x288 with 1 Axes>"
      ]
     },
     "metadata": {
      "needs_background": "light"
     },
     "output_type": "display_data"
    }
   ],
   "source": [
    "sns.barplot(eda_df.pff_blockType.value_counts().index, eda_df.pff_blockType.value_counts())"
   ]
  },
  {
   "cell_type": "markdown",
   "metadata": {},
   "source": [
    "## Beginning"
   ]
  },
  {
   "cell_type": "markdown",
   "metadata": {},
   "source": [
    "### Configs"
   ]
  },
  {
   "cell_type": "code",
   "execution_count": 11,
   "metadata": {},
   "outputs": [],
   "source": [
    "gameId_num = 2021090900\n",
    "playId_num = 187\n",
    "matchup_framId_num = 20\n",
    "indc_framId_num = 30"
   ]
  },
  {
   "cell_type": "markdown",
   "metadata": {},
   "source": [
    "### Focused df"
   ]
  },
  {
   "cell_type": "code",
   "execution_count": 12,
   "metadata": {},
   "outputs": [],
   "source": [
    "def get_focused_df(joined_all, gameId_num):\n",
    "    focused_df = joined_all[(joined_all.gameId==gameId_num)].copy()\n",
    "    # focused_df = joined_all.copy()\n",
    "    # focused_df.head()\n",
    "    return focused_df"
   ]
  },
  {
   "cell_type": "markdown",
   "metadata": {},
   "source": [
    "### Get o & d line frames"
   ]
  },
  {
   "cell_type": "code",
   "execution_count": 13,
   "metadata": {},
   "outputs": [],
   "source": [
    "def get_od_line_df(focused_df):\n",
    "    o_line_df = focused_df[~(focused_df.pff_blockType.isna())][['nflId', 'playId', 'pff_blockType', 'pff_nflIdBlockedPlayer', 'x', 'y', 'frameId', 'displayName']]\n",
    "    d_line_df = focused_df[focused_df.pff_role == 'Pass Rush'][['nflId', 'playId', 'x', 'y', 'frameId', 'displayName']]\n",
    "    return o_line_df, d_line_df"
   ]
  },
  {
   "cell_type": "markdown",
   "metadata": {},
   "source": [
    "### Delta % - Blockers vs Rushers"
   ]
  },
  {
   "cell_type": "code",
   "execution_count": 14,
   "metadata": {},
   "outputs": [],
   "source": [
    "# o_num_blockers =  o_line_df.groupby(['playId'])['nflId'].nunique()\n",
    "# d_num_rushers = d_line_df.groupby(['playId'])['nflId'].nunique()\n",
    "\n",
    "# blockers_vs_rushers = pd.concat([o_num_blockers, d_num_rushers], axis=1)\n",
    "\n",
    "# blockers_vs_rushers.columns = ['nflId_off', 'nflId_def']\n",
    "# blockers_vs_rushers['delta_off_def'] = blockers_vs_rushers['nflId_off'] - blockers_vs_rushers['nflId_def']\n",
    "\n",
    "# blockers_vs_rushers.sort_values(by='delta_off_def',inplace=True)\n",
    "# blockers_vs_rushers.reset_index(inplace=True)\n",
    "# blockers_vs_rushers\n",
    "\n",
    "# bvr_stats = blockers_vs_rushers.delta_off_def.value_counts()\n",
    "# bvr_stats['delta%'] = blockers_vs_rushers.delta_off_def.value_counts()/blockers_vs_rushers.delta_off_def.sum()\n",
    "\n",
    "# blockers_vs_rushers.delta_off_def.value_counts()/blockers_vs_rushers.delta_off_def.sum()"
   ]
  },
  {
   "cell_type": "markdown",
   "metadata": {},
   "source": [
    "### Blockers vs Rushers"
   ]
  },
  {
   "cell_type": "code",
   "execution_count": 15,
   "metadata": {},
   "outputs": [],
   "source": [
    "def get_blockers_vs_rushers(o_line_df, d_line_df):\n",
    "    \n",
    "    o_num_blockers =  o_line_df.groupby(['playId'])['nflId'].nunique()\n",
    "    d_num_rushers = d_line_df.groupby(['playId'])['nflId'].nunique()\n",
    "\n",
    "    blockers_vs_rushers = pd.concat([o_num_blockers, d_num_rushers], axis=1)\n",
    "\n",
    "    blockers_vs_rushers.columns = ['nflId_off', 'nflId_def']\n",
    "    blockers_vs_rushers['delta_off_def'] = blockers_vs_rushers['nflId_off'] - blockers_vs_rushers['nflId_def']\n",
    "\n",
    "    blockers_vs_rushers.sort_values(by='delta_off_def',inplace=True)\n",
    "    blockers_vs_rushers.reset_index(inplace=True)\n",
    "\n",
    "    # print('\\nblockers_vs_rushers: \\n',blockers_vs_rushers.head())\n",
    "\n",
    "    return blockers_vs_rushers"
   ]
  },
  {
   "cell_type": "markdown",
   "metadata": {},
   "source": [
    "### Num blockers and rushers"
   ]
  },
  {
   "cell_type": "code",
   "execution_count": 16,
   "metadata": {},
   "outputs": [],
   "source": [
    "def get_num_blockers_rushers(o_line_df, d_line_df, playId_num):\n",
    "\n",
    "    blockers_vs_rushers = get_blockers_vs_rushers(o_line_df, d_line_df)\n",
    "    num_blockers = blockers_vs_rushers[blockers_vs_rushers.playId == playId_num].nflId_off.values[0]\n",
    "    num_rushers = blockers_vs_rushers[blockers_vs_rushers.playId == playId_num].nflId_def.values[0]\n",
    "\n",
    "    return (num_blockers, num_rushers)"
   ]
  },
  {
   "cell_type": "markdown",
   "metadata": {},
   "source": [
    "### Animation"
   ]
  },
  {
   "cell_type": "code",
   "execution_count": 17,
   "metadata": {},
   "outputs": [
    {
     "data": {
      "application/vnd.plotly.v1+json": {
       "config": {
        "plotlyServerURL": "https://plot.ly"
       },
       "data": [
        {
         "hoverinfo": "none",
         "mode": "text",
         "showlegend": false,
         "text": [
          "10",
          "20",
          "30",
          "40",
          "50",
          "40",
          "30",
          "20",
          "10"
         ],
         "textfont": {
          "color": "#ffffff",
          "family": "Courier New, monospace",
          "size": 30
         },
         "type": "scatter",
         "x": [
          20,
          30,
          40,
          50,
          60,
          70,
          80,
          90,
          100
         ],
         "y": [
          5,
          5,
          5,
          5,
          5,
          5,
          5,
          5,
          5
         ]
        },
        {
         "hoverinfo": "none",
         "mode": "text",
         "showlegend": false,
         "text": [
          "10",
          "20",
          "30",
          "40",
          "50",
          "40",
          "30",
          "20",
          "10"
         ],
         "textfont": {
          "color": "#ffffff",
          "family": "Courier New, monospace",
          "size": 30
         },
         "type": "scatter",
         "x": [
          20,
          30,
          40,
          50,
          60,
          70,
          80,
          90,
          100
         ],
         "y": [
          48.5,
          48.5,
          48.5,
          48.5,
          48.5,
          48.5,
          48.5,
          48.5,
          48.5
         ]
        },
        {
         "hoverinfo": "none",
         "line": {
          "color": "blue",
          "dash": "dash"
         },
         "showlegend": false,
         "type": "scatter",
         "x": [
          76,
          76
         ],
         "y": [
          0,
          53.5
         ]
        },
        {
         "hoverinfo": "none",
         "line": {
          "color": "yellow",
          "dash": "dash"
         },
         "showlegend": false,
         "type": "scatter",
         "x": [
          82,
          82
         ],
         "y": [
          0,
          53.5
         ]
        },
        {
         "hoverinfo": "text",
         "hovertext": [
          "nflId:35441.0<br>displayName:Ndamukong Suh<br>Position:LILB<br>Role:Pass Rush",
          "nflId:35454.0<br>displayName:Jason Pierre-Paul<br>Position:REO<br>Role:Pass Rush",
          "nflId:38588.0<br>displayName:Lavonte David<br>Position:RILB<br>Role:Pass Rush",
          "nflId:41915.0<br>displayName:Shaquil Barrett<br>Position:SCBiL<br>Role:Coverage",
          "nflId:46081.0<br>displayName:Vita Vea<br>Position:DRT<br>Role:Pass Rush",
          "nflId:46132.0<br>displayName:Carlton Davis<br>Position:LCB<br>Role:Coverage",
          "nflId:47788.0<br>displayName:Devin White<br>Position:LILB<br>Role:Coverage",
          "nflId:47822.0<br>displayName:Sean Murphy-Bunting<br>Position:SCBiL<br>Role:Coverage",
          "nflId:47877.0<br>displayName:Jamel Dean<br>Position:RCB<br>Role:Coverage",
          "nflId:47882.0<br>displayName:Mike Edwards<br>Position:SSR<br>Role:Coverage",
          "nflId:52453.0<br>displayName:Antoine Winfield<br>Position:FS<br>Role:Coverage"
         ],
         "marker": {
          "color": "#D50A0A"
         },
         "mode": "markers",
         "name": "TB",
         "type": "scatter",
         "x": [
          75.23,
          76.12,
          72.73,
          75.15,
          75.27,
          69.96,
          72.2,
          71.51,
          70.63,
          68.28,
          66.92
         ],
         "y": [
          28.6,
          21.19,
          25.14,
          31.82,
          25.61,
          36.95,
          27.64,
          31.42,
          14.12,
          22.09,
          26.46
         ]
        },
        {
         "hoverinfo": "text",
         "hovertext": [
          "nflId:37082.0<br>displayName:Tyron Smith<br>Position:LT<br>Role:Pass Block",
          "nflId:42347.0<br>displayName:Amari Cooper<br>Position:RWR<br>Role:Pass Route",
          "nflId:42654.0<br>displayName:La'el Collins<br>Position:RT<br>Role:Pass Block",
          "nflId:43424.0<br>displayName:Dak Prescott<br>Position:QB<br>Role:Pass",
          "nflId:45532.0<br>displayName:Blake Jarwin<br>Position:SRoWR<br>Role:Pass Route",
          "nflId:46119.0<br>displayName:Connor Williams<br>Position:LG<br>Role:Pass Block",
          "nflId:46150.0<br>displayName:Michael Gallup<br>Position:LWR<br>Role:Pass Route",
          "nflId:46206.0<br>displayName:Dalton Schultz<br>Position:SRiWR<br>Role:Pass Route",
          "nflId:47873.0<br>displayName:Connor McGovern<br>Position:RG<br>Role:Pass Block",
          "nflId:52425.0<br>displayName:CeeDee Lamb<br>Position:HB-R<br>Role:Pass Route",
          "nflId:52554.0<br>displayName:Tyler Biadasz<br>Position:C<br>Role:Pass Block"
         ],
         "marker": {
          "color": "#003594"
         },
         "mode": "markers",
         "name": "DAL",
         "type": "scatter",
         "x": [
          78.14,
          78.8,
          78.14,
          81.15,
          78.21,
          77.93,
          77.32,
          77.59,
          77.72,
          81.12,
          77.55
         ],
         "y": [
          23.29,
          37.55,
          29.2,
          26.45,
          34.21,
          24.79,
          9.81,
          31.25,
          27.9,
          29.21,
          26.54
         ]
        },
        {
         "hoverinfo": "none",
         "marker": {
          "color": "#CBB67C"
         },
         "mode": "markers",
         "name": "football",
         "type": "scatter",
         "x": [
          76.47
         ],
         "y": [
          26.46
         ]
        }
       ],
       "frames": [
        {
         "data": [
          {
           "hoverinfo": "none",
           "mode": "text",
           "showlegend": false,
           "text": [
            "10",
            "20",
            "30",
            "40",
            "50",
            "40",
            "30",
            "20",
            "10"
           ],
           "textfont": {
            "color": "#ffffff",
            "family": "Courier New, monospace",
            "size": 30
           },
           "type": "scatter",
           "x": [
            20,
            30,
            40,
            50,
            60,
            70,
            80,
            90,
            100
           ],
           "y": [
            5,
            5,
            5,
            5,
            5,
            5,
            5,
            5,
            5
           ]
          },
          {
           "hoverinfo": "none",
           "mode": "text",
           "showlegend": false,
           "text": [
            "10",
            "20",
            "30",
            "40",
            "50",
            "40",
            "30",
            "20",
            "10"
           ],
           "textfont": {
            "color": "#ffffff",
            "family": "Courier New, monospace",
            "size": 30
           },
           "type": "scatter",
           "x": [
            20,
            30,
            40,
            50,
            60,
            70,
            80,
            90,
            100
           ],
           "y": [
            48.5,
            48.5,
            48.5,
            48.5,
            48.5,
            48.5,
            48.5,
            48.5,
            48.5
           ]
          },
          {
           "hoverinfo": "none",
           "line": {
            "color": "blue",
            "dash": "dash"
           },
           "showlegend": false,
           "type": "scatter",
           "x": [
            76,
            76
           ],
           "y": [
            0,
            53.5
           ]
          },
          {
           "hoverinfo": "none",
           "line": {
            "color": "yellow",
            "dash": "dash"
           },
           "showlegend": false,
           "type": "scatter",
           "x": [
            82,
            82
           ],
           "y": [
            0,
            53.5
           ]
          },
          {
           "hoverinfo": "text",
           "hovertext": [
            "nflId:35441.0<br>displayName:Ndamukong Suh<br>Position:LILB<br>Role:Pass Rush",
            "nflId:35454.0<br>displayName:Jason Pierre-Paul<br>Position:REO<br>Role:Pass Rush",
            "nflId:38588.0<br>displayName:Lavonte David<br>Position:RILB<br>Role:Pass Rush",
            "nflId:41915.0<br>displayName:Shaquil Barrett<br>Position:SCBiL<br>Role:Coverage",
            "nflId:46081.0<br>displayName:Vita Vea<br>Position:DRT<br>Role:Pass Rush",
            "nflId:46132.0<br>displayName:Carlton Davis<br>Position:LCB<br>Role:Coverage",
            "nflId:47788.0<br>displayName:Devin White<br>Position:LILB<br>Role:Coverage",
            "nflId:47822.0<br>displayName:Sean Murphy-Bunting<br>Position:SCBiL<br>Role:Coverage",
            "nflId:47877.0<br>displayName:Jamel Dean<br>Position:RCB<br>Role:Coverage",
            "nflId:47882.0<br>displayName:Mike Edwards<br>Position:SSR<br>Role:Coverage",
            "nflId:52453.0<br>displayName:Antoine Winfield<br>Position:FS<br>Role:Coverage"
           ],
           "marker": {
            "color": "#D50A0A"
           },
           "mode": "markers",
           "name": "TB",
           "type": "scatter",
           "x": [
            75.24,
            76.09,
            72.7,
            75.22,
            75.28,
            69.88,
            72.23,
            71.37,
            70.58,
            68.25,
            66.81
           ],
           "y": [
            28.61,
            21.26,
            25.15,
            31.87,
            25.6,
            37.24,
            27.7,
            31.65,
            13.87,
            21.92,
            26.48
           ]
          },
          {
           "hoverinfo": "text",
           "hovertext": [
            "nflId:37082.0<br>displayName:Tyron Smith<br>Position:LT<br>Role:Pass Block",
            "nflId:42347.0<br>displayName:Amari Cooper<br>Position:RWR<br>Role:Pass Route",
            "nflId:42654.0<br>displayName:La'el Collins<br>Position:RT<br>Role:Pass Block",
            "nflId:43424.0<br>displayName:Dak Prescott<br>Position:QB<br>Role:Pass",
            "nflId:45532.0<br>displayName:Blake Jarwin<br>Position:SRoWR<br>Role:Pass Route",
            "nflId:46119.0<br>displayName:Connor Williams<br>Position:LG<br>Role:Pass Block",
            "nflId:46150.0<br>displayName:Michael Gallup<br>Position:LWR<br>Role:Pass Route",
            "nflId:46206.0<br>displayName:Dalton Schultz<br>Position:SRiWR<br>Role:Pass Route",
            "nflId:47873.0<br>displayName:Connor McGovern<br>Position:RG<br>Role:Pass Block",
            "nflId:52425.0<br>displayName:CeeDee Lamb<br>Position:HB-R<br>Role:Pass Route",
            "nflId:52554.0<br>displayName:Tyler Biadasz<br>Position:C<br>Role:Pass Block"
           ],
           "marker": {
            "color": "#003594"
           },
           "mode": "markers",
           "name": "DAL",
           "type": "scatter",
           "x": [
            78.15,
            78.8,
            78.15,
            81.15,
            78.2,
            77.94,
            77.33,
            77.58,
            77.73,
            81.11,
            77.56
           ],
           "y": [
            23.27,
            37.51,
            29.2,
            26.46,
            34.17,
            24.8,
            9.82,
            31.25,
            27.88,
            29.2,
            26.52
           ]
          },
          {
           "hoverinfo": "none",
           "marker": {
            "color": "#CBB67C"
           },
           "mode": "markers",
           "name": "football",
           "type": "scatter",
           "x": [
            76.54
           ],
           "y": [
            26.39
           ]
          }
         ],
         "name": "2"
        },
        {
         "data": [
          {
           "hoverinfo": "none",
           "mode": "text",
           "showlegend": false,
           "text": [
            "10",
            "20",
            "30",
            "40",
            "50",
            "40",
            "30",
            "20",
            "10"
           ],
           "textfont": {
            "color": "#ffffff",
            "family": "Courier New, monospace",
            "size": 30
           },
           "type": "scatter",
           "x": [
            20,
            30,
            40,
            50,
            60,
            70,
            80,
            90,
            100
           ],
           "y": [
            5,
            5,
            5,
            5,
            5,
            5,
            5,
            5,
            5
           ]
          },
          {
           "hoverinfo": "none",
           "mode": "text",
           "showlegend": false,
           "text": [
            "10",
            "20",
            "30",
            "40",
            "50",
            "40",
            "30",
            "20",
            "10"
           ],
           "textfont": {
            "color": "#ffffff",
            "family": "Courier New, monospace",
            "size": 30
           },
           "type": "scatter",
           "x": [
            20,
            30,
            40,
            50,
            60,
            70,
            80,
            90,
            100
           ],
           "y": [
            48.5,
            48.5,
            48.5,
            48.5,
            48.5,
            48.5,
            48.5,
            48.5,
            48.5
           ]
          },
          {
           "hoverinfo": "none",
           "line": {
            "color": "blue",
            "dash": "dash"
           },
           "showlegend": false,
           "type": "scatter",
           "x": [
            76,
            76
           ],
           "y": [
            0,
            53.5
           ]
          },
          {
           "hoverinfo": "none",
           "line": {
            "color": "yellow",
            "dash": "dash"
           },
           "showlegend": false,
           "type": "scatter",
           "x": [
            82,
            82
           ],
           "y": [
            0,
            53.5
           ]
          },
          {
           "hoverinfo": "text",
           "hovertext": [
            "nflId:35441.0<br>displayName:Ndamukong Suh<br>Position:LILB<br>Role:Pass Rush",
            "nflId:35454.0<br>displayName:Jason Pierre-Paul<br>Position:REO<br>Role:Pass Rush",
            "nflId:38588.0<br>displayName:Lavonte David<br>Position:RILB<br>Role:Pass Rush",
            "nflId:41915.0<br>displayName:Shaquil Barrett<br>Position:SCBiL<br>Role:Coverage",
            "nflId:46081.0<br>displayName:Vita Vea<br>Position:DRT<br>Role:Pass Rush",
            "nflId:46132.0<br>displayName:Carlton Davis<br>Position:LCB<br>Role:Coverage",
            "nflId:47788.0<br>displayName:Devin White<br>Position:LILB<br>Role:Coverage",
            "nflId:47822.0<br>displayName:Sean Murphy-Bunting<br>Position:SCBiL<br>Role:Coverage",
            "nflId:47877.0<br>displayName:Jamel Dean<br>Position:RCB<br>Role:Coverage",
            "nflId:47882.0<br>displayName:Mike Edwards<br>Position:SSR<br>Role:Coverage",
            "nflId:52453.0<br>displayName:Antoine Winfield<br>Position:FS<br>Role:Coverage"
           ],
           "marker": {
            "color": "#D50A0A"
           },
           "mode": "markers",
           "name": "TB",
           "type": "scatter",
           "x": [
            75.24,
            76.09,
            72.68,
            75.29,
            75.29,
            69.8,
            72.27,
            71.22,
            70.54,
            68.25,
            66.71
           ],
           "y": [
            28.62,
            21.3,
            25.16,
            31.91,
            25.6,
            37.51,
            27.75,
            31.87,
            13.62,
            21.75,
            26.5
           ]
          },
          {
           "hoverinfo": "text",
           "hovertext": [
            "nflId:37082.0<br>displayName:Tyron Smith<br>Position:LT<br>Role:Pass Block",
            "nflId:42347.0<br>displayName:Amari Cooper<br>Position:RWR<br>Role:Pass Route",
            "nflId:42654.0<br>displayName:La'el Collins<br>Position:RT<br>Role:Pass Block",
            "nflId:43424.0<br>displayName:Dak Prescott<br>Position:QB<br>Role:Pass",
            "nflId:45532.0<br>displayName:Blake Jarwin<br>Position:SRoWR<br>Role:Pass Route",
            "nflId:46119.0<br>displayName:Connor Williams<br>Position:LG<br>Role:Pass Block",
            "nflId:46150.0<br>displayName:Michael Gallup<br>Position:LWR<br>Role:Pass Route",
            "nflId:46206.0<br>displayName:Dalton Schultz<br>Position:SRiWR<br>Role:Pass Route",
            "nflId:47873.0<br>displayName:Connor McGovern<br>Position:RG<br>Role:Pass Block",
            "nflId:52425.0<br>displayName:CeeDee Lamb<br>Position:HB-R<br>Role:Pass Route",
            "nflId:52554.0<br>displayName:Tyler Biadasz<br>Position:C<br>Role:Pass Block"
           ],
           "marker": {
            "color": "#003594"
           },
           "mode": "markers",
           "name": "DAL",
           "type": "scatter",
           "x": [
            78.18,
            78.79,
            78.17,
            81.16,
            78.2,
            77.95,
            77.34,
            77.57,
            77.76,
            81.09,
            77.57
           ],
           "y": [
            23.25,
            37.47,
            29.2,
            26.46,
            34.15,
            24.82,
            9.83,
            31.25,
            27.91,
            29.2,
            26.53
           ]
          },
          {
           "hoverinfo": "none",
           "marker": {
            "color": "#CBB67C"
           },
           "mode": "markers",
           "name": "football",
           "type": "scatter",
           "x": [
            77.03
           ],
           "y": [
            26.39
           ]
          }
         ],
         "name": "3"
        },
        {
         "data": [
          {
           "hoverinfo": "none",
           "mode": "text",
           "showlegend": false,
           "text": [
            "10",
            "20",
            "30",
            "40",
            "50",
            "40",
            "30",
            "20",
            "10"
           ],
           "textfont": {
            "color": "#ffffff",
            "family": "Courier New, monospace",
            "size": 30
           },
           "type": "scatter",
           "x": [
            20,
            30,
            40,
            50,
            60,
            70,
            80,
            90,
            100
           ],
           "y": [
            5,
            5,
            5,
            5,
            5,
            5,
            5,
            5,
            5
           ]
          },
          {
           "hoverinfo": "none",
           "mode": "text",
           "showlegend": false,
           "text": [
            "10",
            "20",
            "30",
            "40",
            "50",
            "40",
            "30",
            "20",
            "10"
           ],
           "textfont": {
            "color": "#ffffff",
            "family": "Courier New, monospace",
            "size": 30
           },
           "type": "scatter",
           "x": [
            20,
            30,
            40,
            50,
            60,
            70,
            80,
            90,
            100
           ],
           "y": [
            48.5,
            48.5,
            48.5,
            48.5,
            48.5,
            48.5,
            48.5,
            48.5,
            48.5
           ]
          },
          {
           "hoverinfo": "none",
           "line": {
            "color": "blue",
            "dash": "dash"
           },
           "showlegend": false,
           "type": "scatter",
           "x": [
            76,
            76
           ],
           "y": [
            0,
            53.5
           ]
          },
          {
           "hoverinfo": "none",
           "line": {
            "color": "yellow",
            "dash": "dash"
           },
           "showlegend": false,
           "type": "scatter",
           "x": [
            82,
            82
           ],
           "y": [
            0,
            53.5
           ]
          },
          {
           "hoverinfo": "text",
           "hovertext": [
            "nflId:35441.0<br>displayName:Ndamukong Suh<br>Position:LILB<br>Role:Pass Rush",
            "nflId:35454.0<br>displayName:Jason Pierre-Paul<br>Position:REO<br>Role:Pass Rush",
            "nflId:38588.0<br>displayName:Lavonte David<br>Position:RILB<br>Role:Pass Rush",
            "nflId:41915.0<br>displayName:Shaquil Barrett<br>Position:SCBiL<br>Role:Coverage",
            "nflId:46081.0<br>displayName:Vita Vea<br>Position:DRT<br>Role:Pass Rush",
            "nflId:46132.0<br>displayName:Carlton Davis<br>Position:LCB<br>Role:Coverage",
            "nflId:47788.0<br>displayName:Devin White<br>Position:LILB<br>Role:Coverage",
            "nflId:47822.0<br>displayName:Sean Murphy-Bunting<br>Position:SCBiL<br>Role:Coverage",
            "nflId:47877.0<br>displayName:Jamel Dean<br>Position:RCB<br>Role:Coverage",
            "nflId:47882.0<br>displayName:Mike Edwards<br>Position:SSR<br>Role:Coverage",
            "nflId:52453.0<br>displayName:Antoine Winfield<br>Position:FS<br>Role:Coverage"
           ],
           "marker": {
            "color": "#D50A0A"
           },
           "mode": "markers",
           "name": "TB",
           "type": "scatter",
           "x": [
            75.25,
            76.13,
            72.68,
            75.34,
            75.31,
            69.72,
            72.29,
            71.08,
            70.5,
            68.28,
            66.6
           ],
           "y": [
            28.63,
            21.34,
            25.16,
            31.94,
            25.6,
            37.78,
            27.78,
            32.08,
            13.39,
            21.59,
            26.52
           ]
          },
          {
           "hoverinfo": "text",
           "hovertext": [
            "nflId:37082.0<br>displayName:Tyron Smith<br>Position:LT<br>Role:Pass Block",
            "nflId:42347.0<br>displayName:Amari Cooper<br>Position:RWR<br>Role:Pass Route",
            "nflId:42654.0<br>displayName:La'el Collins<br>Position:RT<br>Role:Pass Block",
            "nflId:43424.0<br>displayName:Dak Prescott<br>Position:QB<br>Role:Pass",
            "nflId:45532.0<br>displayName:Blake Jarwin<br>Position:SRoWR<br>Role:Pass Route",
            "nflId:46119.0<br>displayName:Connor Williams<br>Position:LG<br>Role:Pass Block",
            "nflId:46150.0<br>displayName:Michael Gallup<br>Position:LWR<br>Role:Pass Route",
            "nflId:46206.0<br>displayName:Dalton Schultz<br>Position:SRiWR<br>Role:Pass Route",
            "nflId:47873.0<br>displayName:Connor McGovern<br>Position:RG<br>Role:Pass Block",
            "nflId:52425.0<br>displayName:CeeDee Lamb<br>Position:HB-R<br>Role:Pass Route",
            "nflId:52554.0<br>displayName:Tyler Biadasz<br>Position:C<br>Role:Pass Block"
           ],
           "marker": {
            "color": "#003594"
           },
           "mode": "markers",
           "name": "DAL",
           "type": "scatter",
           "x": [
            78.2,
            78.79,
            78.2,
            81.17,
            78.2,
            77.97,
            77.35,
            77.55,
            77.79,
            81.07,
            77.58
           ],
           "y": [
            23.23,
            37.44,
            29.21,
            26.46,
            34.12,
            24.85,
            9.83,
            31.25,
            27.91,
            29.24,
            26.51
           ]
          },
          {
           "hoverinfo": "none",
           "marker": {
            "color": "#CBB67C"
           },
           "mode": "markers",
           "name": "football",
           "type": "scatter",
           "x": [
            77.35
           ],
           "y": [
            26.4
           ]
          }
         ],
         "name": "4"
        },
        {
         "data": [
          {
           "hoverinfo": "none",
           "mode": "text",
           "showlegend": false,
           "text": [
            "10",
            "20",
            "30",
            "40",
            "50",
            "40",
            "30",
            "20",
            "10"
           ],
           "textfont": {
            "color": "#ffffff",
            "family": "Courier New, monospace",
            "size": 30
           },
           "type": "scatter",
           "x": [
            20,
            30,
            40,
            50,
            60,
            70,
            80,
            90,
            100
           ],
           "y": [
            5,
            5,
            5,
            5,
            5,
            5,
            5,
            5,
            5
           ]
          },
          {
           "hoverinfo": "none",
           "mode": "text",
           "showlegend": false,
           "text": [
            "10",
            "20",
            "30",
            "40",
            "50",
            "40",
            "30",
            "20",
            "10"
           ],
           "textfont": {
            "color": "#ffffff",
            "family": "Courier New, monospace",
            "size": 30
           },
           "type": "scatter",
           "x": [
            20,
            30,
            40,
            50,
            60,
            70,
            80,
            90,
            100
           ],
           "y": [
            48.5,
            48.5,
            48.5,
            48.5,
            48.5,
            48.5,
            48.5,
            48.5,
            48.5
           ]
          },
          {
           "hoverinfo": "none",
           "line": {
            "color": "blue",
            "dash": "dash"
           },
           "showlegend": false,
           "type": "scatter",
           "x": [
            76,
            76
           ],
           "y": [
            0,
            53.5
           ]
          },
          {
           "hoverinfo": "none",
           "line": {
            "color": "yellow",
            "dash": "dash"
           },
           "showlegend": false,
           "type": "scatter",
           "x": [
            82,
            82
           ],
           "y": [
            0,
            53.5
           ]
          },
          {
           "hoverinfo": "text",
           "hovertext": [
            "nflId:35441.0<br>displayName:Ndamukong Suh<br>Position:LILB<br>Role:Pass Rush",
            "nflId:35454.0<br>displayName:Jason Pierre-Paul<br>Position:REO<br>Role:Pass Rush",
            "nflId:38588.0<br>displayName:Lavonte David<br>Position:RILB<br>Role:Pass Rush",
            "nflId:41915.0<br>displayName:Shaquil Barrett<br>Position:SCBiL<br>Role:Coverage",
            "nflId:46081.0<br>displayName:Vita Vea<br>Position:DRT<br>Role:Pass Rush",
            "nflId:46132.0<br>displayName:Carlton Davis<br>Position:LCB<br>Role:Coverage",
            "nflId:47788.0<br>displayName:Devin White<br>Position:LILB<br>Role:Coverage",
            "nflId:47822.0<br>displayName:Sean Murphy-Bunting<br>Position:SCBiL<br>Role:Coverage",
            "nflId:47877.0<br>displayName:Jamel Dean<br>Position:RCB<br>Role:Coverage",
            "nflId:47882.0<br>displayName:Mike Edwards<br>Position:SSR<br>Role:Coverage",
            "nflId:52453.0<br>displayName:Antoine Winfield<br>Position:FS<br>Role:Coverage"
           ],
           "marker": {
            "color": "#D50A0A"
           },
           "mode": "markers",
           "name": "TB",
           "type": "scatter",
           "x": [
            75.27,
            76.2,
            72.68,
            75.38,
            75.34,
            69.62,
            72.32,
            70.94,
            70.46,
            68.33,
            66.49
           ],
           "y": [
            28.65,
            21.35,
            25.14,
            31.98,
            25.6,
            38.03,
            27.78,
            32.28,
            13.16,
            21.44,
            26.53
           ]
          },
          {
           "hoverinfo": "text",
           "hovertext": [
            "nflId:37082.0<br>displayName:Tyron Smith<br>Position:LT<br>Role:Pass Block",
            "nflId:42347.0<br>displayName:Amari Cooper<br>Position:RWR<br>Role:Pass Route",
            "nflId:42654.0<br>displayName:La'el Collins<br>Position:RT<br>Role:Pass Block",
            "nflId:43424.0<br>displayName:Dak Prescott<br>Position:QB<br>Role:Pass",
            "nflId:45532.0<br>displayName:Blake Jarwin<br>Position:SRoWR<br>Role:Pass Route",
            "nflId:46119.0<br>displayName:Connor Williams<br>Position:LG<br>Role:Pass Block",
            "nflId:46150.0<br>displayName:Michael Gallup<br>Position:LWR<br>Role:Pass Route",
            "nflId:46206.0<br>displayName:Dalton Schultz<br>Position:SRiWR<br>Role:Pass Route",
            "nflId:47873.0<br>displayName:Connor McGovern<br>Position:RG<br>Role:Pass Block",
            "nflId:52425.0<br>displayName:CeeDee Lamb<br>Position:HB-R<br>Role:Pass Route",
            "nflId:52554.0<br>displayName:Tyler Biadasz<br>Position:C<br>Role:Pass Block"
           ],
           "marker": {
            "color": "#003594"
           },
           "mode": "markers",
           "name": "DAL",
           "type": "scatter",
           "x": [
            78.23,
            78.77,
            78.24,
            81.2,
            78.2,
            78,
            77.36,
            77.51,
            77.83,
            81.04,
            77.62
           ],
           "y": [
            23.21,
            37.42,
            29.2,
            26.47,
            34.09,
            24.89,
            9.82,
            31.24,
            27.92,
            29.29,
            26.49
           ]
          },
          {
           "hoverinfo": "none",
           "marker": {
            "color": "#CBB67C"
           },
           "mode": "markers",
           "name": "football",
           "type": "scatter",
           "x": [
            77.74
           ],
           "y": [
            26.4
           ]
          }
         ],
         "name": "5"
        },
        {
         "data": [
          {
           "hoverinfo": "none",
           "mode": "text",
           "showlegend": false,
           "text": [
            "10",
            "20",
            "30",
            "40",
            "50",
            "40",
            "30",
            "20",
            "10"
           ],
           "textfont": {
            "color": "#ffffff",
            "family": "Courier New, monospace",
            "size": 30
           },
           "type": "scatter",
           "x": [
            20,
            30,
            40,
            50,
            60,
            70,
            80,
            90,
            100
           ],
           "y": [
            5,
            5,
            5,
            5,
            5,
            5,
            5,
            5,
            5
           ]
          },
          {
           "hoverinfo": "none",
           "mode": "text",
           "showlegend": false,
           "text": [
            "10",
            "20",
            "30",
            "40",
            "50",
            "40",
            "30",
            "20",
            "10"
           ],
           "textfont": {
            "color": "#ffffff",
            "family": "Courier New, monospace",
            "size": 30
           },
           "type": "scatter",
           "x": [
            20,
            30,
            40,
            50,
            60,
            70,
            80,
            90,
            100
           ],
           "y": [
            48.5,
            48.5,
            48.5,
            48.5,
            48.5,
            48.5,
            48.5,
            48.5,
            48.5
           ]
          },
          {
           "hoverinfo": "none",
           "line": {
            "color": "blue",
            "dash": "dash"
           },
           "showlegend": false,
           "type": "scatter",
           "x": [
            76,
            76
           ],
           "y": [
            0,
            53.5
           ]
          },
          {
           "hoverinfo": "none",
           "line": {
            "color": "yellow",
            "dash": "dash"
           },
           "showlegend": false,
           "type": "scatter",
           "x": [
            82,
            82
           ],
           "y": [
            0,
            53.5
           ]
          },
          {
           "hoverinfo": "text",
           "hovertext": [
            "nflId:35441.0<br>displayName:Ndamukong Suh<br>Position:LILB<br>Role:Pass Rush",
            "nflId:35454.0<br>displayName:Jason Pierre-Paul<br>Position:REO<br>Role:Pass Rush",
            "nflId:38588.0<br>displayName:Lavonte David<br>Position:RILB<br>Role:Pass Rush",
            "nflId:41915.0<br>displayName:Shaquil Barrett<br>Position:SCBiL<br>Role:Coverage",
            "nflId:46081.0<br>displayName:Vita Vea<br>Position:DRT<br>Role:Pass Rush",
            "nflId:46132.0<br>displayName:Carlton Davis<br>Position:LCB<br>Role:Coverage",
            "nflId:47788.0<br>displayName:Devin White<br>Position:LILB<br>Role:Coverage",
            "nflId:47822.0<br>displayName:Sean Murphy-Bunting<br>Position:SCBiL<br>Role:Coverage",
            "nflId:47877.0<br>displayName:Jamel Dean<br>Position:RCB<br>Role:Coverage",
            "nflId:47882.0<br>displayName:Mike Edwards<br>Position:SSR<br>Role:Coverage",
            "nflId:52453.0<br>displayName:Antoine Winfield<br>Position:FS<br>Role:Coverage"
           ],
           "marker": {
            "color": "#D50A0A"
           },
           "mode": "markers",
           "name": "TB",
           "type": "scatter",
           "x": [
            75.32,
            76.29,
            72.69,
            75.4,
            75.37,
            69.51,
            72.33,
            70.8,
            70.42,
            68.41,
            66.37
           ],
           "y": [
            28.68,
            21.36,
            25.11,
            32,
            25.6,
            38.27,
            27.75,
            32.48,
            12.94,
            21.32,
            26.54
           ]
          },
          {
           "hoverinfo": "text",
           "hovertext": [
            "nflId:37082.0<br>displayName:Tyron Smith<br>Position:LT<br>Role:Pass Block",
            "nflId:42347.0<br>displayName:Amari Cooper<br>Position:RWR<br>Role:Pass Route",
            "nflId:42654.0<br>displayName:La'el Collins<br>Position:RT<br>Role:Pass Block",
            "nflId:43424.0<br>displayName:Dak Prescott<br>Position:QB<br>Role:Pass",
            "nflId:45532.0<br>displayName:Blake Jarwin<br>Position:SRoWR<br>Role:Pass Route",
            "nflId:46119.0<br>displayName:Connor Williams<br>Position:LG<br>Role:Pass Block",
            "nflId:46150.0<br>displayName:Michael Gallup<br>Position:LWR<br>Role:Pass Route",
            "nflId:46206.0<br>displayName:Dalton Schultz<br>Position:SRiWR<br>Role:Pass Route",
            "nflId:47873.0<br>displayName:Connor McGovern<br>Position:RG<br>Role:Pass Block",
            "nflId:52425.0<br>displayName:CeeDee Lamb<br>Position:HB-R<br>Role:Pass Route",
            "nflId:52554.0<br>displayName:Tyler Biadasz<br>Position:C<br>Role:Pass Block"
           ],
           "marker": {
            "color": "#003594"
           },
           "mode": "markers",
           "name": "DAL",
           "type": "scatter",
           "x": [
            78.27,
            78.72,
            78.27,
            81.26,
            78.18,
            78.04,
            77.36,
            77.43,
            77.89,
            81,
            77.67
           ],
           "y": [
            23.17,
            37.43,
            29.21,
            26.46,
            34.07,
            24.93,
            9.82,
            31.24,
            27.93,
            29.38,
            26.46
           ]
          },
          {
           "hoverinfo": "none",
           "marker": {
            "color": "#CBB67C"
           },
           "mode": "markers",
           "name": "football",
           "type": "scatter",
           "x": [
            78.21
           ],
           "y": [
            26.39
           ]
          }
         ],
         "name": "6"
        },
        {
         "data": [
          {
           "hoverinfo": "none",
           "mode": "text",
           "showlegend": false,
           "text": [
            "10",
            "20",
            "30",
            "40",
            "50",
            "40",
            "30",
            "20",
            "10"
           ],
           "textfont": {
            "color": "#ffffff",
            "family": "Courier New, monospace",
            "size": 30
           },
           "type": "scatter",
           "x": [
            20,
            30,
            40,
            50,
            60,
            70,
            80,
            90,
            100
           ],
           "y": [
            5,
            5,
            5,
            5,
            5,
            5,
            5,
            5,
            5
           ]
          },
          {
           "hoverinfo": "none",
           "mode": "text",
           "showlegend": false,
           "text": [
            "10",
            "20",
            "30",
            "40",
            "50",
            "40",
            "30",
            "20",
            "10"
           ],
           "textfont": {
            "color": "#ffffff",
            "family": "Courier New, monospace",
            "size": 30
           },
           "type": "scatter",
           "x": [
            20,
            30,
            40,
            50,
            60,
            70,
            80,
            90,
            100
           ],
           "y": [
            48.5,
            48.5,
            48.5,
            48.5,
            48.5,
            48.5,
            48.5,
            48.5,
            48.5
           ]
          },
          {
           "hoverinfo": "none",
           "line": {
            "color": "blue",
            "dash": "dash"
           },
           "showlegend": false,
           "type": "scatter",
           "x": [
            76,
            76
           ],
           "y": [
            0,
            53.5
           ]
          },
          {
           "hoverinfo": "none",
           "line": {
            "color": "yellow",
            "dash": "dash"
           },
           "showlegend": false,
           "type": "scatter",
           "x": [
            82,
            82
           ],
           "y": [
            0,
            53.5
           ]
          },
          {
           "hoverinfo": "text",
           "hovertext": [
            "nflId:35441.0<br>displayName:Ndamukong Suh<br>Position:LILB<br>Role:Pass Rush",
            "nflId:35454.0<br>displayName:Jason Pierre-Paul<br>Position:REO<br>Role:Pass Rush",
            "nflId:38588.0<br>displayName:Lavonte David<br>Position:RILB<br>Role:Pass Rush",
            "nflId:41915.0<br>displayName:Shaquil Barrett<br>Position:SCBiL<br>Role:Coverage",
            "nflId:46081.0<br>displayName:Vita Vea<br>Position:DRT<br>Role:Pass Rush",
            "nflId:46132.0<br>displayName:Carlton Davis<br>Position:LCB<br>Role:Coverage",
            "nflId:47788.0<br>displayName:Devin White<br>Position:LILB<br>Role:Coverage",
            "nflId:47822.0<br>displayName:Sean Murphy-Bunting<br>Position:SCBiL<br>Role:Coverage",
            "nflId:47877.0<br>displayName:Jamel Dean<br>Position:RCB<br>Role:Coverage",
            "nflId:47882.0<br>displayName:Mike Edwards<br>Position:SSR<br>Role:Coverage",
            "nflId:52453.0<br>displayName:Antoine Winfield<br>Position:FS<br>Role:Coverage"
           ],
           "marker": {
            "color": "#D50A0A"
           },
           "mode": "markers",
           "name": "TB",
           "type": "scatter",
           "x": [
            75.38,
            76.39,
            72.7,
            75.41,
            75.42,
            69.38,
            72.33,
            70.66,
            70.39,
            68.51,
            66.25
           ],
           "y": [
            28.69,
            21.37,
            25.09,
            32.03,
            25.59,
            38.48,
            27.71,
            32.68,
            12.72,
            21.21,
            26.54
           ]
          },
          {
           "hoverinfo": "text",
           "hovertext": [
            "nflId:37082.0<br>displayName:Tyron Smith<br>Position:LT<br>Role:Pass Block",
            "nflId:42347.0<br>displayName:Amari Cooper<br>Position:RWR<br>Role:Pass Route",
            "nflId:42654.0<br>displayName:La'el Collins<br>Position:RT<br>Role:Pass Block",
            "nflId:43424.0<br>displayName:Dak Prescott<br>Position:QB<br>Role:Pass",
            "nflId:45532.0<br>displayName:Blake Jarwin<br>Position:SRoWR<br>Role:Pass Route",
            "nflId:46119.0<br>displayName:Connor Williams<br>Position:LG<br>Role:Pass Block",
            "nflId:46150.0<br>displayName:Michael Gallup<br>Position:LWR<br>Role:Pass Route",
            "nflId:46206.0<br>displayName:Dalton Schultz<br>Position:SRiWR<br>Role:Pass Route",
            "nflId:47873.0<br>displayName:Connor McGovern<br>Position:RG<br>Role:Pass Block",
            "nflId:52425.0<br>displayName:CeeDee Lamb<br>Position:HB-R<br>Role:Pass Route",
            "nflId:52554.0<br>displayName:Tyler Biadasz<br>Position:C<br>Role:Pass Block"
           ],
           "marker": {
            "color": "#003594"
           },
           "mode": "markers",
           "name": "DAL",
           "type": "scatter",
           "x": [
            78.3,
            78.65,
            78.32,
            81.35,
            78.13,
            78.1,
            77.34,
            77.31,
            77.96,
            80.96,
            77.74
           ],
           "y": [
            23.15,
            37.45,
            29.25,
            26.47,
            34.04,
            24.98,
            9.82,
            31.21,
            27.96,
            29.5,
            26.44
           ]
          },
          {
           "hoverinfo": "none",
           "marker": {
            "color": "#CBB67C"
           },
           "mode": "markers",
           "name": "football",
           "type": "scatter",
           "x": [
            78.73
           ],
           "y": [
            26.4
           ]
          }
         ],
         "name": "7"
        },
        {
         "data": [
          {
           "hoverinfo": "none",
           "mode": "text",
           "showlegend": false,
           "text": [
            "10",
            "20",
            "30",
            "40",
            "50",
            "40",
            "30",
            "20",
            "10"
           ],
           "textfont": {
            "color": "#ffffff",
            "family": "Courier New, monospace",
            "size": 30
           },
           "type": "scatter",
           "x": [
            20,
            30,
            40,
            50,
            60,
            70,
            80,
            90,
            100
           ],
           "y": [
            5,
            5,
            5,
            5,
            5,
            5,
            5,
            5,
            5
           ]
          },
          {
           "hoverinfo": "none",
           "mode": "text",
           "showlegend": false,
           "text": [
            "10",
            "20",
            "30",
            "40",
            "50",
            "40",
            "30",
            "20",
            "10"
           ],
           "textfont": {
            "color": "#ffffff",
            "family": "Courier New, monospace",
            "size": 30
           },
           "type": "scatter",
           "x": [
            20,
            30,
            40,
            50,
            60,
            70,
            80,
            90,
            100
           ],
           "y": [
            48.5,
            48.5,
            48.5,
            48.5,
            48.5,
            48.5,
            48.5,
            48.5,
            48.5
           ]
          },
          {
           "hoverinfo": "none",
           "line": {
            "color": "blue",
            "dash": "dash"
           },
           "showlegend": false,
           "type": "scatter",
           "x": [
            76,
            76
           ],
           "y": [
            0,
            53.5
           ]
          },
          {
           "hoverinfo": "none",
           "line": {
            "color": "yellow",
            "dash": "dash"
           },
           "showlegend": false,
           "type": "scatter",
           "x": [
            82,
            82
           ],
           "y": [
            0,
            53.5
           ]
          },
          {
           "hoverinfo": "text",
           "hovertext": [
            "nflId:35441.0<br>displayName:Ndamukong Suh<br>Position:LILB<br>Role:Pass Rush",
            "nflId:35454.0<br>displayName:Jason Pierre-Paul<br>Position:REO<br>Role:Pass Rush",
            "nflId:38588.0<br>displayName:Lavonte David<br>Position:RILB<br>Role:Pass Rush",
            "nflId:41915.0<br>displayName:Shaquil Barrett<br>Position:SCBiL<br>Role:Coverage",
            "nflId:46081.0<br>displayName:Vita Vea<br>Position:DRT<br>Role:Pass Rush",
            "nflId:46132.0<br>displayName:Carlton Davis<br>Position:LCB<br>Role:Coverage",
            "nflId:47788.0<br>displayName:Devin White<br>Position:LILB<br>Role:Coverage",
            "nflId:47822.0<br>displayName:Sean Murphy-Bunting<br>Position:SCBiL<br>Role:Coverage",
            "nflId:47877.0<br>displayName:Jamel Dean<br>Position:RCB<br>Role:Coverage",
            "nflId:47882.0<br>displayName:Mike Edwards<br>Position:SSR<br>Role:Coverage",
            "nflId:52453.0<br>displayName:Antoine Winfield<br>Position:FS<br>Role:Coverage"
           ],
           "marker": {
            "color": "#D50A0A"
           },
           "mode": "markers",
           "name": "TB",
           "type": "scatter",
           "x": [
            75.5,
            76.53,
            72.74,
            75.4,
            75.48,
            69.26,
            72.33,
            70.52,
            70.36,
            68.62,
            66.13
           ],
           "y": [
            28.71,
            21.36,
            25.08,
            32.07,
            25.59,
            38.69,
            27.66,
            32.89,
            12.51,
            21.11,
            26.53
           ]
          },
          {
           "hoverinfo": "text",
           "hovertext": [
            "nflId:37082.0<br>displayName:Tyron Smith<br>Position:LT<br>Role:Pass Block",
            "nflId:42347.0<br>displayName:Amari Cooper<br>Position:RWR<br>Role:Pass Route",
            "nflId:42654.0<br>displayName:La'el Collins<br>Position:RT<br>Role:Pass Block",
            "nflId:43424.0<br>displayName:Dak Prescott<br>Position:QB<br>Role:Pass",
            "nflId:45532.0<br>displayName:Blake Jarwin<br>Position:SRoWR<br>Role:Pass Route",
            "nflId:46119.0<br>displayName:Connor Williams<br>Position:LG<br>Role:Pass Block",
            "nflId:46150.0<br>displayName:Michael Gallup<br>Position:LWR<br>Role:Pass Route",
            "nflId:46206.0<br>displayName:Dalton Schultz<br>Position:SRiWR<br>Role:Pass Route",
            "nflId:47873.0<br>displayName:Connor McGovern<br>Position:RG<br>Role:Pass Block",
            "nflId:52425.0<br>displayName:CeeDee Lamb<br>Position:HB-R<br>Role:Pass Route",
            "nflId:52554.0<br>displayName:Tyler Biadasz<br>Position:C<br>Role:Pass Block"
           ],
           "marker": {
            "color": "#003594"
           },
           "mode": "markers",
           "name": "DAL",
           "type": "scatter",
           "x": [
            78.33,
            78.54,
            78.35,
            81.44,
            78.03,
            78.17,
            77.25,
            77.16,
            78.05,
            80.89,
            77.82
           ],
           "y": [
            23.12,
            37.48,
            29.27,
            26.49,
            34.05,
            25.04,
            9.8,
            31.19,
            27.98,
            29.68,
            26.42
           ]
          },
          {
           "hoverinfo": "none",
           "marker": {
            "color": "#CBB67C"
           },
           "mode": "markers",
           "name": "football",
           "type": "scatter",
           "x": [
            79.29
           ],
           "y": [
            26.41
           ]
          }
         ],
         "name": "8"
        },
        {
         "data": [
          {
           "hoverinfo": "none",
           "mode": "text",
           "showlegend": false,
           "text": [
            "10",
            "20",
            "30",
            "40",
            "50",
            "40",
            "30",
            "20",
            "10"
           ],
           "textfont": {
            "color": "#ffffff",
            "family": "Courier New, monospace",
            "size": 30
           },
           "type": "scatter",
           "x": [
            20,
            30,
            40,
            50,
            60,
            70,
            80,
            90,
            100
           ],
           "y": [
            5,
            5,
            5,
            5,
            5,
            5,
            5,
            5,
            5
           ]
          },
          {
           "hoverinfo": "none",
           "mode": "text",
           "showlegend": false,
           "text": [
            "10",
            "20",
            "30",
            "40",
            "50",
            "40",
            "30",
            "20",
            "10"
           ],
           "textfont": {
            "color": "#ffffff",
            "family": "Courier New, monospace",
            "size": 30
           },
           "type": "scatter",
           "x": [
            20,
            30,
            40,
            50,
            60,
            70,
            80,
            90,
            100
           ],
           "y": [
            48.5,
            48.5,
            48.5,
            48.5,
            48.5,
            48.5,
            48.5,
            48.5,
            48.5
           ]
          },
          {
           "hoverinfo": "none",
           "line": {
            "color": "blue",
            "dash": "dash"
           },
           "showlegend": false,
           "type": "scatter",
           "x": [
            76,
            76
           ],
           "y": [
            0,
            53.5
           ]
          },
          {
           "hoverinfo": "none",
           "line": {
            "color": "yellow",
            "dash": "dash"
           },
           "showlegend": false,
           "type": "scatter",
           "x": [
            82,
            82
           ],
           "y": [
            0,
            53.5
           ]
          },
          {
           "hoverinfo": "text",
           "hovertext": [
            "nflId:35441.0<br>displayName:Ndamukong Suh<br>Position:LILB<br>Role:Pass Rush",
            "nflId:35454.0<br>displayName:Jason Pierre-Paul<br>Position:REO<br>Role:Pass Rush",
            "nflId:38588.0<br>displayName:Lavonte David<br>Position:RILB<br>Role:Pass Rush",
            "nflId:41915.0<br>displayName:Shaquil Barrett<br>Position:SCBiL<br>Role:Coverage",
            "nflId:46081.0<br>displayName:Vita Vea<br>Position:DRT<br>Role:Pass Rush",
            "nflId:46132.0<br>displayName:Carlton Davis<br>Position:LCB<br>Role:Coverage",
            "nflId:47788.0<br>displayName:Devin White<br>Position:LILB<br>Role:Coverage",
            "nflId:47822.0<br>displayName:Sean Murphy-Bunting<br>Position:SCBiL<br>Role:Coverage",
            "nflId:47877.0<br>displayName:Jamel Dean<br>Position:RCB<br>Role:Coverage",
            "nflId:47882.0<br>displayName:Mike Edwards<br>Position:SSR<br>Role:Coverage",
            "nflId:52453.0<br>displayName:Antoine Winfield<br>Position:FS<br>Role:Coverage"
           ],
           "marker": {
            "color": "#D50A0A"
           },
           "mode": "markers",
           "name": "TB",
           "type": "scatter",
           "x": [
            75.64,
            76.69,
            72.81,
            75.38,
            75.58,
            69.11,
            72.3,
            70.38,
            70.32,
            68.75,
            66
           ],
           "y": [
            28.75,
            21.34,
            25.08,
            32.11,
            25.59,
            38.88,
            27.64,
            33.1,
            12.31,
            21,
            26.52
           ]
          },
          {
           "hoverinfo": "text",
           "hovertext": [
            "nflId:37082.0<br>displayName:Tyron Smith<br>Position:LT<br>Role:Pass Block",
            "nflId:42347.0<br>displayName:Amari Cooper<br>Position:RWR<br>Role:Pass Route",
            "nflId:42654.0<br>displayName:La'el Collins<br>Position:RT<br>Role:Pass Block",
            "nflId:43424.0<br>displayName:Dak Prescott<br>Position:QB<br>Role:Pass",
            "nflId:45532.0<br>displayName:Blake Jarwin<br>Position:SRoWR<br>Role:Pass Route",
            "nflId:46119.0<br>displayName:Connor Williams<br>Position:LG<br>Role:Pass Block",
            "nflId:46150.0<br>displayName:Michael Gallup<br>Position:LWR<br>Role:Pass Route",
            "nflId:46206.0<br>displayName:Dalton Schultz<br>Position:SRiWR<br>Role:Pass Route",
            "nflId:47873.0<br>displayName:Connor McGovern<br>Position:RG<br>Role:Pass Block",
            "nflId:52425.0<br>displayName:CeeDee Lamb<br>Position:HB-R<br>Role:Pass Route",
            "nflId:52554.0<br>displayName:Tyler Biadasz<br>Position:C<br>Role:Pass Block"
           ],
           "marker": {
            "color": "#003594"
           },
           "mode": "markers",
           "name": "DAL",
           "type": "scatter",
           "x": [
            78.4,
            78.4,
            78.39,
            81.55,
            77.9,
            78.25,
            77.13,
            76.97,
            78.16,
            80.8,
            77.95
           ],
           "y": [
            23.07,
            37.52,
            29.29,
            26.49,
            34.05,
            25.11,
            9.79,
            31.15,
            28.03,
            29.92,
            26.43
           ]
          },
          {
           "hoverinfo": "none",
           "marker": {
            "color": "#CBB67C"
           },
           "mode": "markers",
           "name": "football",
           "type": "scatter",
           "x": [
            79.87
           ],
           "y": [
            26.42
           ]
          }
         ],
         "name": "9"
        },
        {
         "data": [
          {
           "hoverinfo": "none",
           "mode": "text",
           "showlegend": false,
           "text": [
            "10",
            "20",
            "30",
            "40",
            "50",
            "40",
            "30",
            "20",
            "10"
           ],
           "textfont": {
            "color": "#ffffff",
            "family": "Courier New, monospace",
            "size": 30
           },
           "type": "scatter",
           "x": [
            20,
            30,
            40,
            50,
            60,
            70,
            80,
            90,
            100
           ],
           "y": [
            5,
            5,
            5,
            5,
            5,
            5,
            5,
            5,
            5
           ]
          },
          {
           "hoverinfo": "none",
           "mode": "text",
           "showlegend": false,
           "text": [
            "10",
            "20",
            "30",
            "40",
            "50",
            "40",
            "30",
            "20",
            "10"
           ],
           "textfont": {
            "color": "#ffffff",
            "family": "Courier New, monospace",
            "size": 30
           },
           "type": "scatter",
           "x": [
            20,
            30,
            40,
            50,
            60,
            70,
            80,
            90,
            100
           ],
           "y": [
            48.5,
            48.5,
            48.5,
            48.5,
            48.5,
            48.5,
            48.5,
            48.5,
            48.5
           ]
          },
          {
           "hoverinfo": "none",
           "line": {
            "color": "blue",
            "dash": "dash"
           },
           "showlegend": false,
           "type": "scatter",
           "x": [
            76,
            76
           ],
           "y": [
            0,
            53.5
           ]
          },
          {
           "hoverinfo": "none",
           "line": {
            "color": "yellow",
            "dash": "dash"
           },
           "showlegend": false,
           "type": "scatter",
           "x": [
            82,
            82
           ],
           "y": [
            0,
            53.5
           ]
          },
          {
           "hoverinfo": "text",
           "hovertext": [
            "nflId:35441.0<br>displayName:Ndamukong Suh<br>Position:LILB<br>Role:Pass Rush",
            "nflId:35454.0<br>displayName:Jason Pierre-Paul<br>Position:REO<br>Role:Pass Rush",
            "nflId:38588.0<br>displayName:Lavonte David<br>Position:RILB<br>Role:Pass Rush",
            "nflId:41915.0<br>displayName:Shaquil Barrett<br>Position:SCBiL<br>Role:Coverage",
            "nflId:46081.0<br>displayName:Vita Vea<br>Position:DRT<br>Role:Pass Rush",
            "nflId:46132.0<br>displayName:Carlton Davis<br>Position:LCB<br>Role:Coverage",
            "nflId:47788.0<br>displayName:Devin White<br>Position:LILB<br>Role:Coverage",
            "nflId:47822.0<br>displayName:Sean Murphy-Bunting<br>Position:SCBiL<br>Role:Coverage",
            "nflId:47877.0<br>displayName:Jamel Dean<br>Position:RCB<br>Role:Coverage",
            "nflId:47882.0<br>displayName:Mike Edwards<br>Position:SSR<br>Role:Coverage",
            "nflId:52453.0<br>displayName:Antoine Winfield<br>Position:FS<br>Role:Coverage"
           ],
           "marker": {
            "color": "#D50A0A"
           },
           "mode": "markers",
           "name": "TB",
           "type": "scatter",
           "x": [
            75.83,
            76.89,
            72.9,
            75.35,
            75.71,
            68.95,
            72.27,
            70.23,
            70.27,
            68.89,
            65.86
           ],
           "y": [
            28.8,
            21.33,
            25.09,
            32.16,
            25.59,
            39.07,
            27.63,
            33.33,
            12.13,
            20.91,
            26.5
           ]
          },
          {
           "hoverinfo": "text",
           "hovertext": [
            "nflId:37082.0<br>displayName:Tyron Smith<br>Position:LT<br>Role:Pass Block",
            "nflId:42347.0<br>displayName:Amari Cooper<br>Position:RWR<br>Role:Pass Route",
            "nflId:42654.0<br>displayName:La'el Collins<br>Position:RT<br>Role:Pass Block",
            "nflId:43424.0<br>displayName:Dak Prescott<br>Position:QB<br>Role:Pass",
            "nflId:45532.0<br>displayName:Blake Jarwin<br>Position:SRoWR<br>Role:Pass Route",
            "nflId:46119.0<br>displayName:Connor Williams<br>Position:LG<br>Role:Pass Block",
            "nflId:46150.0<br>displayName:Michael Gallup<br>Position:LWR<br>Role:Pass Route",
            "nflId:46206.0<br>displayName:Dalton Schultz<br>Position:SRiWR<br>Role:Pass Route",
            "nflId:47873.0<br>displayName:Connor McGovern<br>Position:RG<br>Role:Pass Block",
            "nflId:52425.0<br>displayName:CeeDee Lamb<br>Position:HB-R<br>Role:Pass Route",
            "nflId:52554.0<br>displayName:Tyler Biadasz<br>Position:C<br>Role:Pass Block"
           ],
           "marker": {
            "color": "#003594"
           },
           "mode": "markers",
           "name": "DAL",
           "type": "scatter",
           "x": [
            78.48,
            78.21,
            78.45,
            81.68,
            77.73,
            78.34,
            76.97,
            76.74,
            78.28,
            80.67,
            78.1
           ],
           "y": [
            23.01,
            37.57,
            29.32,
            26.48,
            34.07,
            25.18,
            9.78,
            31.1,
            28.08,
            30.22,
            26.44
           ]
          },
          {
           "hoverinfo": "none",
           "marker": {
            "color": "#CBB67C"
           },
           "mode": "markers",
           "name": "football",
           "type": "scatter",
           "x": [
            80.41
           ],
           "y": [
            26.43
           ]
          }
         ],
         "name": "10"
        },
        {
         "data": [
          {
           "hoverinfo": "none",
           "mode": "text",
           "showlegend": false,
           "text": [
            "10",
            "20",
            "30",
            "40",
            "50",
            "40",
            "30",
            "20",
            "10"
           ],
           "textfont": {
            "color": "#ffffff",
            "family": "Courier New, monospace",
            "size": 30
           },
           "type": "scatter",
           "x": [
            20,
            30,
            40,
            50,
            60,
            70,
            80,
            90,
            100
           ],
           "y": [
            5,
            5,
            5,
            5,
            5,
            5,
            5,
            5,
            5
           ]
          },
          {
           "hoverinfo": "none",
           "mode": "text",
           "showlegend": false,
           "text": [
            "10",
            "20",
            "30",
            "40",
            "50",
            "40",
            "30",
            "20",
            "10"
           ],
           "textfont": {
            "color": "#ffffff",
            "family": "Courier New, monospace",
            "size": 30
           },
           "type": "scatter",
           "x": [
            20,
            30,
            40,
            50,
            60,
            70,
            80,
            90,
            100
           ],
           "y": [
            48.5,
            48.5,
            48.5,
            48.5,
            48.5,
            48.5,
            48.5,
            48.5,
            48.5
           ]
          },
          {
           "hoverinfo": "none",
           "line": {
            "color": "blue",
            "dash": "dash"
           },
           "showlegend": false,
           "type": "scatter",
           "x": [
            76,
            76
           ],
           "y": [
            0,
            53.5
           ]
          },
          {
           "hoverinfo": "none",
           "line": {
            "color": "yellow",
            "dash": "dash"
           },
           "showlegend": false,
           "type": "scatter",
           "x": [
            82,
            82
           ],
           "y": [
            0,
            53.5
           ]
          },
          {
           "hoverinfo": "text",
           "hovertext": [
            "nflId:35441.0<br>displayName:Ndamukong Suh<br>Position:LILB<br>Role:Pass Rush",
            "nflId:35454.0<br>displayName:Jason Pierre-Paul<br>Position:REO<br>Role:Pass Rush",
            "nflId:38588.0<br>displayName:Lavonte David<br>Position:RILB<br>Role:Pass Rush",
            "nflId:41915.0<br>displayName:Shaquil Barrett<br>Position:SCBiL<br>Role:Coverage",
            "nflId:46081.0<br>displayName:Vita Vea<br>Position:DRT<br>Role:Pass Rush",
            "nflId:46132.0<br>displayName:Carlton Davis<br>Position:LCB<br>Role:Coverage",
            "nflId:47788.0<br>displayName:Devin White<br>Position:LILB<br>Role:Coverage",
            "nflId:47822.0<br>displayName:Sean Murphy-Bunting<br>Position:SCBiL<br>Role:Coverage",
            "nflId:47877.0<br>displayName:Jamel Dean<br>Position:RCB<br>Role:Coverage",
            "nflId:47882.0<br>displayName:Mike Edwards<br>Position:SSR<br>Role:Coverage",
            "nflId:52453.0<br>displayName:Antoine Winfield<br>Position:FS<br>Role:Coverage"
           ],
           "marker": {
            "color": "#D50A0A"
           },
           "mode": "markers",
           "name": "TB",
           "type": "scatter",
           "x": [
            76.08,
            77.11,
            73.03,
            75.3,
            75.88,
            68.77,
            72.24,
            70.06,
            70.19,
            69.04,
            65.72
           ],
           "y": [
            28.85,
            21.33,
            25.11,
            32.24,
            25.61,
            39.26,
            27.65,
            33.57,
            11.96,
            20.81,
            26.48
           ]
          },
          {
           "hoverinfo": "text",
           "hovertext": [
            "nflId:37082.0<br>displayName:Tyron Smith<br>Position:LT<br>Role:Pass Block",
            "nflId:42347.0<br>displayName:Amari Cooper<br>Position:RWR<br>Role:Pass Route",
            "nflId:42654.0<br>displayName:La'el Collins<br>Position:RT<br>Role:Pass Block",
            "nflId:43424.0<br>displayName:Dak Prescott<br>Position:QB<br>Role:Pass",
            "nflId:45532.0<br>displayName:Blake Jarwin<br>Position:SRoWR<br>Role:Pass Route",
            "nflId:46119.0<br>displayName:Connor Williams<br>Position:LG<br>Role:Pass Block",
            "nflId:46150.0<br>displayName:Michael Gallup<br>Position:LWR<br>Role:Pass Route",
            "nflId:46206.0<br>displayName:Dalton Schultz<br>Position:SRiWR<br>Role:Pass Route",
            "nflId:47873.0<br>displayName:Connor McGovern<br>Position:RG<br>Role:Pass Block",
            "nflId:52425.0<br>displayName:CeeDee Lamb<br>Position:HB-R<br>Role:Pass Route",
            "nflId:52554.0<br>displayName:Tyler Biadasz<br>Position:C<br>Role:Pass Block"
           ],
           "marker": {
            "color": "#003594"
           },
           "mode": "markers",
           "name": "DAL",
           "type": "scatter",
           "x": [
            78.56,
            77.99,
            78.51,
            81.79,
            77.53,
            78.43,
            76.77,
            76.47,
            78.41,
            80.51,
            78.27
           ],
           "y": [
            22.95,
            37.62,
            29.34,
            26.48,
            34.12,
            25.25,
            9.76,
            31.03,
            28.14,
            30.56,
            26.46
           ]
          },
          {
           "hoverinfo": "none",
           "marker": {
            "color": "#CBB67C"
           },
           "mode": "markers",
           "name": "football",
           "type": "scatter",
           "x": [
            80.92
           ],
           "y": [
            26.44
           ]
          }
         ],
         "name": "11"
        },
        {
         "data": [
          {
           "hoverinfo": "none",
           "mode": "text",
           "showlegend": false,
           "text": [
            "10",
            "20",
            "30",
            "40",
            "50",
            "40",
            "30",
            "20",
            "10"
           ],
           "textfont": {
            "color": "#ffffff",
            "family": "Courier New, monospace",
            "size": 30
           },
           "type": "scatter",
           "x": [
            20,
            30,
            40,
            50,
            60,
            70,
            80,
            90,
            100
           ],
           "y": [
            5,
            5,
            5,
            5,
            5,
            5,
            5,
            5,
            5
           ]
          },
          {
           "hoverinfo": "none",
           "mode": "text",
           "showlegend": false,
           "text": [
            "10",
            "20",
            "30",
            "40",
            "50",
            "40",
            "30",
            "20",
            "10"
           ],
           "textfont": {
            "color": "#ffffff",
            "family": "Courier New, monospace",
            "size": 30
           },
           "type": "scatter",
           "x": [
            20,
            30,
            40,
            50,
            60,
            70,
            80,
            90,
            100
           ],
           "y": [
            48.5,
            48.5,
            48.5,
            48.5,
            48.5,
            48.5,
            48.5,
            48.5,
            48.5
           ]
          },
          {
           "hoverinfo": "none",
           "line": {
            "color": "blue",
            "dash": "dash"
           },
           "showlegend": false,
           "type": "scatter",
           "x": [
            76,
            76
           ],
           "y": [
            0,
            53.5
           ]
          },
          {
           "hoverinfo": "none",
           "line": {
            "color": "yellow",
            "dash": "dash"
           },
           "showlegend": false,
           "type": "scatter",
           "x": [
            82,
            82
           ],
           "y": [
            0,
            53.5
           ]
          },
          {
           "hoverinfo": "text",
           "hovertext": [
            "nflId:35441.0<br>displayName:Ndamukong Suh<br>Position:LILB<br>Role:Pass Rush",
            "nflId:35454.0<br>displayName:Jason Pierre-Paul<br>Position:REO<br>Role:Pass Rush",
            "nflId:38588.0<br>displayName:Lavonte David<br>Position:RILB<br>Role:Pass Rush",
            "nflId:41915.0<br>displayName:Shaquil Barrett<br>Position:SCBiL<br>Role:Coverage",
            "nflId:46081.0<br>displayName:Vita Vea<br>Position:DRT<br>Role:Pass Rush",
            "nflId:46132.0<br>displayName:Carlton Davis<br>Position:LCB<br>Role:Coverage",
            "nflId:47788.0<br>displayName:Devin White<br>Position:LILB<br>Role:Coverage",
            "nflId:47822.0<br>displayName:Sean Murphy-Bunting<br>Position:SCBiL<br>Role:Coverage",
            "nflId:47877.0<br>displayName:Jamel Dean<br>Position:RCB<br>Role:Coverage",
            "nflId:47882.0<br>displayName:Mike Edwards<br>Position:SSR<br>Role:Coverage",
            "nflId:52453.0<br>displayName:Antoine Winfield<br>Position:FS<br>Role:Coverage"
           ],
           "marker": {
            "color": "#D50A0A"
           },
           "mode": "markers",
           "name": "TB",
           "type": "scatter",
           "x": [
            76.35,
            77.36,
            73.2,
            75.25,
            76.1,
            68.57,
            72.21,
            69.89,
            70.09,
            69.2,
            65.56
           ],
           "y": [
            28.9,
            21.36,
            25.13,
            32.32,
            25.62,
            39.44,
            27.68,
            33.82,
            11.8,
            20.71,
            26.47
           ]
          },
          {
           "hoverinfo": "text",
           "hovertext": [
            "nflId:37082.0<br>displayName:Tyron Smith<br>Position:LT<br>Role:Pass Block",
            "nflId:42347.0<br>displayName:Amari Cooper<br>Position:RWR<br>Role:Pass Route",
            "nflId:42654.0<br>displayName:La'el Collins<br>Position:RT<br>Role:Pass Block",
            "nflId:43424.0<br>displayName:Dak Prescott<br>Position:QB<br>Role:Pass",
            "nflId:45532.0<br>displayName:Blake Jarwin<br>Position:SRoWR<br>Role:Pass Route",
            "nflId:46119.0<br>displayName:Connor Williams<br>Position:LG<br>Role:Pass Block",
            "nflId:46150.0<br>displayName:Michael Gallup<br>Position:LWR<br>Role:Pass Route",
            "nflId:46206.0<br>displayName:Dalton Schultz<br>Position:SRiWR<br>Role:Pass Route",
            "nflId:47873.0<br>displayName:Connor McGovern<br>Position:RG<br>Role:Pass Block",
            "nflId:52425.0<br>displayName:CeeDee Lamb<br>Position:HB-R<br>Role:Pass Route",
            "nflId:52554.0<br>displayName:Tyler Biadasz<br>Position:C<br>Role:Pass Block"
           ],
           "marker": {
            "color": "#003594"
           },
           "mode": "markers",
           "name": "DAL",
           "type": "scatter",
           "x": [
            78.67,
            77.71,
            78.61,
            81.92,
            77.28,
            78.54,
            76.5,
            76.15,
            78.54,
            80.32,
            78.46
           ],
           "y": [
            22.87,
            37.66,
            29.39,
            26.49,
            34.22,
            25.31,
            9.74,
            30.95,
            28.2,
            30.93,
            26.53
           ]
          },
          {
           "hoverinfo": "none",
           "marker": {
            "color": "#CBB67C"
           },
           "mode": "markers",
           "name": "football",
           "type": "scatter",
           "x": [
            81.4
           ],
           "y": [
            26.45
           ]
          }
         ],
         "name": "12"
        },
        {
         "data": [
          {
           "hoverinfo": "none",
           "mode": "text",
           "showlegend": false,
           "text": [
            "10",
            "20",
            "30",
            "40",
            "50",
            "40",
            "30",
            "20",
            "10"
           ],
           "textfont": {
            "color": "#ffffff",
            "family": "Courier New, monospace",
            "size": 30
           },
           "type": "scatter",
           "x": [
            20,
            30,
            40,
            50,
            60,
            70,
            80,
            90,
            100
           ],
           "y": [
            5,
            5,
            5,
            5,
            5,
            5,
            5,
            5,
            5
           ]
          },
          {
           "hoverinfo": "none",
           "mode": "text",
           "showlegend": false,
           "text": [
            "10",
            "20",
            "30",
            "40",
            "50",
            "40",
            "30",
            "20",
            "10"
           ],
           "textfont": {
            "color": "#ffffff",
            "family": "Courier New, monospace",
            "size": 30
           },
           "type": "scatter",
           "x": [
            20,
            30,
            40,
            50,
            60,
            70,
            80,
            90,
            100
           ],
           "y": [
            48.5,
            48.5,
            48.5,
            48.5,
            48.5,
            48.5,
            48.5,
            48.5,
            48.5
           ]
          },
          {
           "hoverinfo": "none",
           "line": {
            "color": "blue",
            "dash": "dash"
           },
           "showlegend": false,
           "type": "scatter",
           "x": [
            76,
            76
           ],
           "y": [
            0,
            53.5
           ]
          },
          {
           "hoverinfo": "none",
           "line": {
            "color": "yellow",
            "dash": "dash"
           },
           "showlegend": false,
           "type": "scatter",
           "x": [
            82,
            82
           ],
           "y": [
            0,
            53.5
           ]
          },
          {
           "hoverinfo": "text",
           "hovertext": [
            "nflId:35441.0<br>displayName:Ndamukong Suh<br>Position:LILB<br>Role:Pass Rush",
            "nflId:35454.0<br>displayName:Jason Pierre-Paul<br>Position:REO<br>Role:Pass Rush",
            "nflId:38588.0<br>displayName:Lavonte David<br>Position:RILB<br>Role:Pass Rush",
            "nflId:41915.0<br>displayName:Shaquil Barrett<br>Position:SCBiL<br>Role:Coverage",
            "nflId:46081.0<br>displayName:Vita Vea<br>Position:DRT<br>Role:Pass Rush",
            "nflId:46132.0<br>displayName:Carlton Davis<br>Position:LCB<br>Role:Coverage",
            "nflId:47788.0<br>displayName:Devin White<br>Position:LILB<br>Role:Coverage",
            "nflId:47822.0<br>displayName:Sean Murphy-Bunting<br>Position:SCBiL<br>Role:Coverage",
            "nflId:47877.0<br>displayName:Jamel Dean<br>Position:RCB<br>Role:Coverage",
            "nflId:47882.0<br>displayName:Mike Edwards<br>Position:SSR<br>Role:Coverage",
            "nflId:52453.0<br>displayName:Antoine Winfield<br>Position:FS<br>Role:Coverage"
           ],
           "marker": {
            "color": "#D50A0A"
           },
           "mode": "markers",
           "name": "TB",
           "type": "scatter",
           "x": [
            76.65,
            77.61,
            73.42,
            75.2,
            76.36,
            68.35,
            72.18,
            69.67,
            69.97,
            69.36,
            65.39
           ],
           "y": [
            28.96,
            21.43,
            25.18,
            32.44,
            25.64,
            39.62,
            27.74,
            34.08,
            11.65,
            20.6,
            26.47
           ]
          },
          {
           "hoverinfo": "text",
           "hovertext": [
            "nflId:37082.0<br>displayName:Tyron Smith<br>Position:LT<br>Role:Pass Block",
            "nflId:42347.0<br>displayName:Amari Cooper<br>Position:RWR<br>Role:Pass Route",
            "nflId:42654.0<br>displayName:La'el Collins<br>Position:RT<br>Role:Pass Block",
            "nflId:43424.0<br>displayName:Dak Prescott<br>Position:QB<br>Role:Pass",
            "nflId:45532.0<br>displayName:Blake Jarwin<br>Position:SRoWR<br>Role:Pass Route",
            "nflId:46119.0<br>displayName:Connor Williams<br>Position:LG<br>Role:Pass Block",
            "nflId:46150.0<br>displayName:Michael Gallup<br>Position:LWR<br>Role:Pass Route",
            "nflId:46206.0<br>displayName:Dalton Schultz<br>Position:SRiWR<br>Role:Pass Route",
            "nflId:47873.0<br>displayName:Connor McGovern<br>Position:RG<br>Role:Pass Block",
            "nflId:52425.0<br>displayName:CeeDee Lamb<br>Position:HB-R<br>Role:Pass Route",
            "nflId:52554.0<br>displayName:Tyler Biadasz<br>Position:C<br>Role:Pass Block"
           ],
           "marker": {
            "color": "#003594"
           },
           "mode": "markers",
           "name": "DAL",
           "type": "scatter",
           "x": [
            78.8,
            77.36,
            78.73,
            82.05,
            77.01,
            78.66,
            76.2,
            75.79,
            78.7,
            80.1,
            78.66
           ],
           "y": [
            22.79,
            37.7,
            29.44,
            26.48,
            34.33,
            25.37,
            9.72,
            30.86,
            28.26,
            31.35,
            26.59
           ]
          },
          {
           "hoverinfo": "none",
           "marker": {
            "color": "#CBB67C"
           },
           "mode": "markers",
           "name": "football",
           "type": "scatter",
           "x": [
            81.83
           ],
           "y": [
            26.45
           ]
          }
         ],
         "name": "13"
        },
        {
         "data": [
          {
           "hoverinfo": "none",
           "mode": "text",
           "showlegend": false,
           "text": [
            "10",
            "20",
            "30",
            "40",
            "50",
            "40",
            "30",
            "20",
            "10"
           ],
           "textfont": {
            "color": "#ffffff",
            "family": "Courier New, monospace",
            "size": 30
           },
           "type": "scatter",
           "x": [
            20,
            30,
            40,
            50,
            60,
            70,
            80,
            90,
            100
           ],
           "y": [
            5,
            5,
            5,
            5,
            5,
            5,
            5,
            5,
            5
           ]
          },
          {
           "hoverinfo": "none",
           "mode": "text",
           "showlegend": false,
           "text": [
            "10",
            "20",
            "30",
            "40",
            "50",
            "40",
            "30",
            "20",
            "10"
           ],
           "textfont": {
            "color": "#ffffff",
            "family": "Courier New, monospace",
            "size": 30
           },
           "type": "scatter",
           "x": [
            20,
            30,
            40,
            50,
            60,
            70,
            80,
            90,
            100
           ],
           "y": [
            48.5,
            48.5,
            48.5,
            48.5,
            48.5,
            48.5,
            48.5,
            48.5,
            48.5
           ]
          },
          {
           "hoverinfo": "none",
           "line": {
            "color": "blue",
            "dash": "dash"
           },
           "showlegend": false,
           "type": "scatter",
           "x": [
            76,
            76
           ],
           "y": [
            0,
            53.5
           ]
          },
          {
           "hoverinfo": "none",
           "line": {
            "color": "yellow",
            "dash": "dash"
           },
           "showlegend": false,
           "type": "scatter",
           "x": [
            82,
            82
           ],
           "y": [
            0,
            53.5
           ]
          },
          {
           "hoverinfo": "text",
           "hovertext": [
            "nflId:35441.0<br>displayName:Ndamukong Suh<br>Position:LILB<br>Role:Pass Rush",
            "nflId:35454.0<br>displayName:Jason Pierre-Paul<br>Position:REO<br>Role:Pass Rush",
            "nflId:38588.0<br>displayName:Lavonte David<br>Position:RILB<br>Role:Pass Rush",
            "nflId:41915.0<br>displayName:Shaquil Barrett<br>Position:SCBiL<br>Role:Coverage",
            "nflId:46081.0<br>displayName:Vita Vea<br>Position:DRT<br>Role:Pass Rush",
            "nflId:46132.0<br>displayName:Carlton Davis<br>Position:LCB<br>Role:Coverage",
            "nflId:47788.0<br>displayName:Devin White<br>Position:LILB<br>Role:Coverage",
            "nflId:47822.0<br>displayName:Sean Murphy-Bunting<br>Position:SCBiL<br>Role:Coverage",
            "nflId:47877.0<br>displayName:Jamel Dean<br>Position:RCB<br>Role:Coverage",
            "nflId:47882.0<br>displayName:Mike Edwards<br>Position:SSR<br>Role:Coverage",
            "nflId:52453.0<br>displayName:Antoine Winfield<br>Position:FS<br>Role:Coverage"
           ],
           "marker": {
            "color": "#D50A0A"
           },
           "mode": "markers",
           "name": "TB",
           "type": "scatter",
           "x": [
            77,
            77.86,
            73.69,
            75.15,
            76.66,
            68.11,
            72.15,
            69.43,
            69.83,
            69.51,
            65.2
           ],
           "y": [
            29.03,
            21.51,
            25.23,
            32.59,
            25.68,
            39.79,
            27.81,
            34.34,
            11.52,
            20.44,
            26.48
           ]
          },
          {
           "hoverinfo": "text",
           "hovertext": [
            "nflId:37082.0<br>displayName:Tyron Smith<br>Position:LT<br>Role:Pass Block",
            "nflId:42347.0<br>displayName:Amari Cooper<br>Position:RWR<br>Role:Pass Route",
            "nflId:42654.0<br>displayName:La'el Collins<br>Position:RT<br>Role:Pass Block",
            "nflId:43424.0<br>displayName:Dak Prescott<br>Position:QB<br>Role:Pass",
            "nflId:45532.0<br>displayName:Blake Jarwin<br>Position:SRoWR<br>Role:Pass Route",
            "nflId:46119.0<br>displayName:Connor Williams<br>Position:LG<br>Role:Pass Block",
            "nflId:46150.0<br>displayName:Michael Gallup<br>Position:LWR<br>Role:Pass Route",
            "nflId:46206.0<br>displayName:Dalton Schultz<br>Position:SRiWR<br>Role:Pass Route",
            "nflId:47873.0<br>displayName:Connor McGovern<br>Position:RG<br>Role:Pass Block",
            "nflId:52425.0<br>displayName:CeeDee Lamb<br>Position:HB-R<br>Role:Pass Route",
            "nflId:52554.0<br>displayName:Tyler Biadasz<br>Position:C<br>Role:Pass Block"
           ],
           "marker": {
            "color": "#003594"
           },
           "mode": "markers",
           "name": "DAL",
           "type": "scatter",
           "x": [
            78.95,
            76.97,
            78.87,
            82.22,
            76.68,
            78.76,
            75.83,
            75.39,
            78.86,
            79.87,
            78.88
           ],
           "y": [
            22.72,
            37.73,
            29.51,
            26.48,
            34.48,
            25.44,
            9.7,
            30.75,
            28.33,
            31.82,
            26.67
           ]
          },
          {
           "hoverinfo": "none",
           "marker": {
            "color": "#CBB67C"
           },
           "mode": "markers",
           "name": "football",
           "type": "scatter",
           "x": [
            82.21
           ],
           "y": [
            26.45
           ]
          }
         ],
         "name": "14"
        },
        {
         "data": [
          {
           "hoverinfo": "none",
           "mode": "text",
           "showlegend": false,
           "text": [
            "10",
            "20",
            "30",
            "40",
            "50",
            "40",
            "30",
            "20",
            "10"
           ],
           "textfont": {
            "color": "#ffffff",
            "family": "Courier New, monospace",
            "size": 30
           },
           "type": "scatter",
           "x": [
            20,
            30,
            40,
            50,
            60,
            70,
            80,
            90,
            100
           ],
           "y": [
            5,
            5,
            5,
            5,
            5,
            5,
            5,
            5,
            5
           ]
          },
          {
           "hoverinfo": "none",
           "mode": "text",
           "showlegend": false,
           "text": [
            "10",
            "20",
            "30",
            "40",
            "50",
            "40",
            "30",
            "20",
            "10"
           ],
           "textfont": {
            "color": "#ffffff",
            "family": "Courier New, monospace",
            "size": 30
           },
           "type": "scatter",
           "x": [
            20,
            30,
            40,
            50,
            60,
            70,
            80,
            90,
            100
           ],
           "y": [
            48.5,
            48.5,
            48.5,
            48.5,
            48.5,
            48.5,
            48.5,
            48.5,
            48.5
           ]
          },
          {
           "hoverinfo": "none",
           "line": {
            "color": "blue",
            "dash": "dash"
           },
           "showlegend": false,
           "type": "scatter",
           "x": [
            76,
            76
           ],
           "y": [
            0,
            53.5
           ]
          },
          {
           "hoverinfo": "none",
           "line": {
            "color": "yellow",
            "dash": "dash"
           },
           "showlegend": false,
           "type": "scatter",
           "x": [
            82,
            82
           ],
           "y": [
            0,
            53.5
           ]
          },
          {
           "hoverinfo": "text",
           "hovertext": [
            "nflId:35441.0<br>displayName:Ndamukong Suh<br>Position:LILB<br>Role:Pass Rush",
            "nflId:35454.0<br>displayName:Jason Pierre-Paul<br>Position:REO<br>Role:Pass Rush",
            "nflId:38588.0<br>displayName:Lavonte David<br>Position:RILB<br>Role:Pass Rush",
            "nflId:41915.0<br>displayName:Shaquil Barrett<br>Position:SCBiL<br>Role:Coverage",
            "nflId:46081.0<br>displayName:Vita Vea<br>Position:DRT<br>Role:Pass Rush",
            "nflId:46132.0<br>displayName:Carlton Davis<br>Position:LCB<br>Role:Coverage",
            "nflId:47788.0<br>displayName:Devin White<br>Position:LILB<br>Role:Coverage",
            "nflId:47822.0<br>displayName:Sean Murphy-Bunting<br>Position:SCBiL<br>Role:Coverage",
            "nflId:47877.0<br>displayName:Jamel Dean<br>Position:RCB<br>Role:Coverage",
            "nflId:47882.0<br>displayName:Mike Edwards<br>Position:SSR<br>Role:Coverage",
            "nflId:52453.0<br>displayName:Antoine Winfield<br>Position:FS<br>Role:Coverage"
           ],
           "marker": {
            "color": "#D50A0A"
           },
           "mode": "markers",
           "name": "TB",
           "type": "scatter",
           "x": [
            77.36,
            78.1,
            74.02,
            75.11,
            76.98,
            67.85,
            72.11,
            69.18,
            69.64,
            69.66,
            65.01
           ],
           "y": [
            29.09,
            21.64,
            25.3,
            32.77,
            25.72,
            39.96,
            27.87,
            34.61,
            11.39,
            20.27,
            26.51
           ]
          },
          {
           "hoverinfo": "text",
           "hovertext": [
            "nflId:37082.0<br>displayName:Tyron Smith<br>Position:LT<br>Role:Pass Block",
            "nflId:42347.0<br>displayName:Amari Cooper<br>Position:RWR<br>Role:Pass Route",
            "nflId:42654.0<br>displayName:La'el Collins<br>Position:RT<br>Role:Pass Block",
            "nflId:43424.0<br>displayName:Dak Prescott<br>Position:QB<br>Role:Pass",
            "nflId:45532.0<br>displayName:Blake Jarwin<br>Position:SRoWR<br>Role:Pass Route",
            "nflId:46119.0<br>displayName:Connor Williams<br>Position:LG<br>Role:Pass Block",
            "nflId:46150.0<br>displayName:Michael Gallup<br>Position:LWR<br>Role:Pass Route",
            "nflId:46206.0<br>displayName:Dalton Schultz<br>Position:SRiWR<br>Role:Pass Route",
            "nflId:47873.0<br>displayName:Connor McGovern<br>Position:RG<br>Role:Pass Block",
            "nflId:52425.0<br>displayName:CeeDee Lamb<br>Position:HB-R<br>Role:Pass Route",
            "nflId:52554.0<br>displayName:Tyler Biadasz<br>Position:C<br>Role:Pass Block"
           ],
           "marker": {
            "color": "#003594"
           },
           "mode": "markers",
           "name": "DAL",
           "type": "scatter",
           "x": [
            79.1,
            76.53,
            79.02,
            82.4,
            76.31,
            78.88,
            75.42,
            74.96,
            79.06,
            79.62,
            79.09
           ],
           "y": [
            22.67,
            37.76,
            29.57,
            26.48,
            34.65,
            25.52,
            9.69,
            30.6,
            28.43,
            32.32,
            26.76
           ]
          },
          {
           "hoverinfo": "none",
           "marker": {
            "color": "#CBB67C"
           },
           "mode": "markers",
           "name": "football",
           "type": "scatter",
           "x": [
            82.55
           ],
           "y": [
            26.45
           ]
          }
         ],
         "name": "15"
        },
        {
         "data": [
          {
           "hoverinfo": "none",
           "mode": "text",
           "showlegend": false,
           "text": [
            "10",
            "20",
            "30",
            "40",
            "50",
            "40",
            "30",
            "20",
            "10"
           ],
           "textfont": {
            "color": "#ffffff",
            "family": "Courier New, monospace",
            "size": 30
           },
           "type": "scatter",
           "x": [
            20,
            30,
            40,
            50,
            60,
            70,
            80,
            90,
            100
           ],
           "y": [
            5,
            5,
            5,
            5,
            5,
            5,
            5,
            5,
            5
           ]
          },
          {
           "hoverinfo": "none",
           "mode": "text",
           "showlegend": false,
           "text": [
            "10",
            "20",
            "30",
            "40",
            "50",
            "40",
            "30",
            "20",
            "10"
           ],
           "textfont": {
            "color": "#ffffff",
            "family": "Courier New, monospace",
            "size": 30
           },
           "type": "scatter",
           "x": [
            20,
            30,
            40,
            50,
            60,
            70,
            80,
            90,
            100
           ],
           "y": [
            48.5,
            48.5,
            48.5,
            48.5,
            48.5,
            48.5,
            48.5,
            48.5,
            48.5
           ]
          },
          {
           "hoverinfo": "none",
           "line": {
            "color": "blue",
            "dash": "dash"
           },
           "showlegend": false,
           "type": "scatter",
           "x": [
            76,
            76
           ],
           "y": [
            0,
            53.5
           ]
          },
          {
           "hoverinfo": "none",
           "line": {
            "color": "yellow",
            "dash": "dash"
           },
           "showlegend": false,
           "type": "scatter",
           "x": [
            82,
            82
           ],
           "y": [
            0,
            53.5
           ]
          },
          {
           "hoverinfo": "text",
           "hovertext": [
            "nflId:35441.0<br>displayName:Ndamukong Suh<br>Position:LILB<br>Role:Pass Rush",
            "nflId:35454.0<br>displayName:Jason Pierre-Paul<br>Position:REO<br>Role:Pass Rush",
            "nflId:38588.0<br>displayName:Lavonte David<br>Position:RILB<br>Role:Pass Rush",
            "nflId:41915.0<br>displayName:Shaquil Barrett<br>Position:SCBiL<br>Role:Coverage",
            "nflId:46081.0<br>displayName:Vita Vea<br>Position:DRT<br>Role:Pass Rush",
            "nflId:46132.0<br>displayName:Carlton Davis<br>Position:LCB<br>Role:Coverage",
            "nflId:47788.0<br>displayName:Devin White<br>Position:LILB<br>Role:Coverage",
            "nflId:47822.0<br>displayName:Sean Murphy-Bunting<br>Position:SCBiL<br>Role:Coverage",
            "nflId:47877.0<br>displayName:Jamel Dean<br>Position:RCB<br>Role:Coverage",
            "nflId:47882.0<br>displayName:Mike Edwards<br>Position:SSR<br>Role:Coverage",
            "nflId:52453.0<br>displayName:Antoine Winfield<br>Position:FS<br>Role:Coverage"
           ],
           "marker": {
            "color": "#D50A0A"
           },
           "mode": "markers",
           "name": "TB",
           "type": "scatter",
           "x": [
            77.73,
            78.32,
            74.39,
            75.08,
            77.3,
            67.55,
            72.07,
            68.86,
            69.43,
            69.79,
            64.8
           ],
           "y": [
            29.13,
            21.82,
            25.37,
            32.99,
            25.77,
            40.13,
            27.92,
            34.86,
            11.27,
            20.07,
            26.55
           ]
          },
          {
           "hoverinfo": "text",
           "hovertext": [
            "nflId:37082.0<br>displayName:Tyron Smith<br>Position:LT<br>Role:Pass Block",
            "nflId:42347.0<br>displayName:Amari Cooper<br>Position:RWR<br>Role:Pass Route",
            "nflId:42654.0<br>displayName:La'el Collins<br>Position:RT<br>Role:Pass Block",
            "nflId:43424.0<br>displayName:Dak Prescott<br>Position:QB<br>Role:Pass",
            "nflId:45532.0<br>displayName:Blake Jarwin<br>Position:SRoWR<br>Role:Pass Route",
            "nflId:46119.0<br>displayName:Connor Williams<br>Position:LG<br>Role:Pass Block",
            "nflId:46150.0<br>displayName:Michael Gallup<br>Position:LWR<br>Role:Pass Route",
            "nflId:46206.0<br>displayName:Dalton Schultz<br>Position:SRiWR<br>Role:Pass Route",
            "nflId:47873.0<br>displayName:Connor McGovern<br>Position:RG<br>Role:Pass Block",
            "nflId:52425.0<br>displayName:CeeDee Lamb<br>Position:HB-R<br>Role:Pass Route",
            "nflId:52554.0<br>displayName:Tyler Biadasz<br>Position:C<br>Role:Pass Block"
           ],
           "marker": {
            "color": "#003594"
           },
           "mode": "markers",
           "name": "DAL",
           "type": "scatter",
           "x": [
            79.26,
            76.06,
            79.18,
            82.59,
            75.92,
            78.99,
            74.94,
            74.52,
            79.27,
            79.36,
            79.3
           ],
           "y": [
            22.63,
            37.78,
            29.61,
            26.48,
            34.84,
            25.59,
            9.7,
            30.45,
            28.5,
            32.86,
            26.83
           ]
          },
          {
           "hoverinfo": "none",
           "marker": {
            "color": "#CBB67C"
           },
           "mode": "markers",
           "name": "football",
           "type": "scatter",
           "x": [
            82.82
           ],
           "y": [
            26.47
           ]
          }
         ],
         "name": "16"
        },
        {
         "data": [
          {
           "hoverinfo": "none",
           "mode": "text",
           "showlegend": false,
           "text": [
            "10",
            "20",
            "30",
            "40",
            "50",
            "40",
            "30",
            "20",
            "10"
           ],
           "textfont": {
            "color": "#ffffff",
            "family": "Courier New, monospace",
            "size": 30
           },
           "type": "scatter",
           "x": [
            20,
            30,
            40,
            50,
            60,
            70,
            80,
            90,
            100
           ],
           "y": [
            5,
            5,
            5,
            5,
            5,
            5,
            5,
            5,
            5
           ]
          },
          {
           "hoverinfo": "none",
           "mode": "text",
           "showlegend": false,
           "text": [
            "10",
            "20",
            "30",
            "40",
            "50",
            "40",
            "30",
            "20",
            "10"
           ],
           "textfont": {
            "color": "#ffffff",
            "family": "Courier New, monospace",
            "size": 30
           },
           "type": "scatter",
           "x": [
            20,
            30,
            40,
            50,
            60,
            70,
            80,
            90,
            100
           ],
           "y": [
            48.5,
            48.5,
            48.5,
            48.5,
            48.5,
            48.5,
            48.5,
            48.5,
            48.5
           ]
          },
          {
           "hoverinfo": "none",
           "line": {
            "color": "blue",
            "dash": "dash"
           },
           "showlegend": false,
           "type": "scatter",
           "x": [
            76,
            76
           ],
           "y": [
            0,
            53.5
           ]
          },
          {
           "hoverinfo": "none",
           "line": {
            "color": "yellow",
            "dash": "dash"
           },
           "showlegend": false,
           "type": "scatter",
           "x": [
            82,
            82
           ],
           "y": [
            0,
            53.5
           ]
          },
          {
           "hoverinfo": "text",
           "hovertext": [
            "nflId:35441.0<br>displayName:Ndamukong Suh<br>Position:LILB<br>Role:Pass Rush",
            "nflId:35454.0<br>displayName:Jason Pierre-Paul<br>Position:REO<br>Role:Pass Rush",
            "nflId:38588.0<br>displayName:Lavonte David<br>Position:RILB<br>Role:Pass Rush",
            "nflId:41915.0<br>displayName:Shaquil Barrett<br>Position:SCBiL<br>Role:Coverage",
            "nflId:46081.0<br>displayName:Vita Vea<br>Position:DRT<br>Role:Pass Rush",
            "nflId:46132.0<br>displayName:Carlton Davis<br>Position:LCB<br>Role:Coverage",
            "nflId:47788.0<br>displayName:Devin White<br>Position:LILB<br>Role:Coverage",
            "nflId:47822.0<br>displayName:Sean Murphy-Bunting<br>Position:SCBiL<br>Role:Coverage",
            "nflId:47877.0<br>displayName:Jamel Dean<br>Position:RCB<br>Role:Coverage",
            "nflId:47882.0<br>displayName:Mike Edwards<br>Position:SSR<br>Role:Coverage",
            "nflId:52453.0<br>displayName:Antoine Winfield<br>Position:FS<br>Role:Coverage"
           ],
           "marker": {
            "color": "#D50A0A"
           },
           "mode": "markers",
           "name": "TB",
           "type": "scatter",
           "x": [
            78.07,
            78.51,
            74.82,
            75.06,
            77.62,
            67.24,
            72.02,
            68.49,
            69.19,
            69.91,
            64.58
           ],
           "y": [
            29.15,
            22.06,
            25.45,
            33.24,
            25.84,
            40.29,
            27.92,
            35.11,
            11.15,
            19.84,
            26.6
           ]
          },
          {
           "hoverinfo": "text",
           "hovertext": [
            "nflId:37082.0<br>displayName:Tyron Smith<br>Position:LT<br>Role:Pass Block",
            "nflId:42347.0<br>displayName:Amari Cooper<br>Position:RWR<br>Role:Pass Route",
            "nflId:42654.0<br>displayName:La'el Collins<br>Position:RT<br>Role:Pass Block",
            "nflId:43424.0<br>displayName:Dak Prescott<br>Position:QB<br>Role:Pass",
            "nflId:45532.0<br>displayName:Blake Jarwin<br>Position:SRoWR<br>Role:Pass Route",
            "nflId:46119.0<br>displayName:Connor Williams<br>Position:LG<br>Role:Pass Block",
            "nflId:46150.0<br>displayName:Michael Gallup<br>Position:LWR<br>Role:Pass Route",
            "nflId:46206.0<br>displayName:Dalton Schultz<br>Position:SRiWR<br>Role:Pass Route",
            "nflId:47873.0<br>displayName:Connor McGovern<br>Position:RG<br>Role:Pass Block",
            "nflId:52425.0<br>displayName:CeeDee Lamb<br>Position:HB-R<br>Role:Pass Route",
            "nflId:52554.0<br>displayName:Tyler Biadasz<br>Position:C<br>Role:Pass Block"
           ],
           "marker": {
            "color": "#003594"
           },
           "mode": "markers",
           "name": "DAL",
           "type": "scatter",
           "x": [
            79.41,
            75.55,
            79.33,
            82.79,
            75.48,
            79.11,
            74.43,
            74.07,
            79.47,
            79.1,
            79.52
           ],
           "y": [
            22.63,
            37.8,
            29.66,
            26.48,
            35.05,
            25.67,
            9.74,
            30.28,
            28.55,
            33.43,
            26.92
           ]
          },
          {
           "hoverinfo": "none",
           "marker": {
            "color": "#CBB67C"
           },
           "mode": "markers",
           "name": "football",
           "type": "scatter",
           "x": [
            83.05
           ],
           "y": [
            26.47
           ]
          }
         ],
         "name": "17"
        },
        {
         "data": [
          {
           "hoverinfo": "none",
           "mode": "text",
           "showlegend": false,
           "text": [
            "10",
            "20",
            "30",
            "40",
            "50",
            "40",
            "30",
            "20",
            "10"
           ],
           "textfont": {
            "color": "#ffffff",
            "family": "Courier New, monospace",
            "size": 30
           },
           "type": "scatter",
           "x": [
            20,
            30,
            40,
            50,
            60,
            70,
            80,
            90,
            100
           ],
           "y": [
            5,
            5,
            5,
            5,
            5,
            5,
            5,
            5,
            5
           ]
          },
          {
           "hoverinfo": "none",
           "mode": "text",
           "showlegend": false,
           "text": [
            "10",
            "20",
            "30",
            "40",
            "50",
            "40",
            "30",
            "20",
            "10"
           ],
           "textfont": {
            "color": "#ffffff",
            "family": "Courier New, monospace",
            "size": 30
           },
           "type": "scatter",
           "x": [
            20,
            30,
            40,
            50,
            60,
            70,
            80,
            90,
            100
           ],
           "y": [
            48.5,
            48.5,
            48.5,
            48.5,
            48.5,
            48.5,
            48.5,
            48.5,
            48.5
           ]
          },
          {
           "hoverinfo": "none",
           "line": {
            "color": "blue",
            "dash": "dash"
           },
           "showlegend": false,
           "type": "scatter",
           "x": [
            76,
            76
           ],
           "y": [
            0,
            53.5
           ]
          },
          {
           "hoverinfo": "none",
           "line": {
            "color": "yellow",
            "dash": "dash"
           },
           "showlegend": false,
           "type": "scatter",
           "x": [
            82,
            82
           ],
           "y": [
            0,
            53.5
           ]
          },
          {
           "hoverinfo": "text",
           "hovertext": [
            "nflId:35441.0<br>displayName:Ndamukong Suh<br>Position:LILB<br>Role:Pass Rush",
            "nflId:35454.0<br>displayName:Jason Pierre-Paul<br>Position:REO<br>Role:Pass Rush",
            "nflId:38588.0<br>displayName:Lavonte David<br>Position:RILB<br>Role:Pass Rush",
            "nflId:41915.0<br>displayName:Shaquil Barrett<br>Position:SCBiL<br>Role:Coverage",
            "nflId:46081.0<br>displayName:Vita Vea<br>Position:DRT<br>Role:Pass Rush",
            "nflId:46132.0<br>displayName:Carlton Davis<br>Position:LCB<br>Role:Coverage",
            "nflId:47788.0<br>displayName:Devin White<br>Position:LILB<br>Role:Coverage",
            "nflId:47822.0<br>displayName:Sean Murphy-Bunting<br>Position:SCBiL<br>Role:Coverage",
            "nflId:47877.0<br>displayName:Jamel Dean<br>Position:RCB<br>Role:Coverage",
            "nflId:47882.0<br>displayName:Mike Edwards<br>Position:SSR<br>Role:Coverage",
            "nflId:52453.0<br>displayName:Antoine Winfield<br>Position:FS<br>Role:Coverage"
           ],
           "marker": {
            "color": "#D50A0A"
           },
           "mode": "markers",
           "name": "TB",
           "type": "scatter",
           "x": [
            78.41,
            78.69,
            75.29,
            75.06,
            77.89,
            66.92,
            71.97,
            68.11,
            68.94,
            69.99,
            64.34
           ],
           "y": [
            29.17,
            22.29,
            25.51,
            33.54,
            25.89,
            40.43,
            27.89,
            35.36,
            11.03,
            19.57,
            26.65
           ]
          },
          {
           "hoverinfo": "text",
           "hovertext": [
            "nflId:37082.0<br>displayName:Tyron Smith<br>Position:LT<br>Role:Pass Block",
            "nflId:42347.0<br>displayName:Amari Cooper<br>Position:RWR<br>Role:Pass Route",
            "nflId:42654.0<br>displayName:La'el Collins<br>Position:RT<br>Role:Pass Block",
            "nflId:43424.0<br>displayName:Dak Prescott<br>Position:QB<br>Role:Pass",
            "nflId:45532.0<br>displayName:Blake Jarwin<br>Position:SRoWR<br>Role:Pass Route",
            "nflId:46119.0<br>displayName:Connor Williams<br>Position:LG<br>Role:Pass Block",
            "nflId:46150.0<br>displayName:Michael Gallup<br>Position:LWR<br>Role:Pass Route",
            "nflId:46206.0<br>displayName:Dalton Schultz<br>Position:SRiWR<br>Role:Pass Route",
            "nflId:47873.0<br>displayName:Connor McGovern<br>Position:RG<br>Role:Pass Block",
            "nflId:52425.0<br>displayName:CeeDee Lamb<br>Position:HB-R<br>Role:Pass Route",
            "nflId:52554.0<br>displayName:Tyler Biadasz<br>Position:C<br>Role:Pass Block"
           ],
           "marker": {
            "color": "#003594"
           },
           "mode": "markers",
           "name": "DAL",
           "type": "scatter",
           "x": [
            79.54,
            75,
            79.46,
            83,
            75,
            79.23,
            73.88,
            73.63,
            79.67,
            78.84,
            79.72
           ],
           "y": [
            22.66,
            37.81,
            29.66,
            26.48,
            35.28,
            25.74,
            9.8,
            30.09,
            28.61,
            34.04,
            27.01
           ]
          },
          {
           "hoverinfo": "none",
           "marker": {
            "color": "#CBB67C"
           },
           "mode": "markers",
           "name": "football",
           "type": "scatter",
           "x": [
            83.22
           ],
           "y": [
            26.53
           ]
          }
         ],
         "name": "18"
        },
        {
         "data": [
          {
           "hoverinfo": "none",
           "mode": "text",
           "showlegend": false,
           "text": [
            "10",
            "20",
            "30",
            "40",
            "50",
            "40",
            "30",
            "20",
            "10"
           ],
           "textfont": {
            "color": "#ffffff",
            "family": "Courier New, monospace",
            "size": 30
           },
           "type": "scatter",
           "x": [
            20,
            30,
            40,
            50,
            60,
            70,
            80,
            90,
            100
           ],
           "y": [
            5,
            5,
            5,
            5,
            5,
            5,
            5,
            5,
            5
           ]
          },
          {
           "hoverinfo": "none",
           "mode": "text",
           "showlegend": false,
           "text": [
            "10",
            "20",
            "30",
            "40",
            "50",
            "40",
            "30",
            "20",
            "10"
           ],
           "textfont": {
            "color": "#ffffff",
            "family": "Courier New, monospace",
            "size": 30
           },
           "type": "scatter",
           "x": [
            20,
            30,
            40,
            50,
            60,
            70,
            80,
            90,
            100
           ],
           "y": [
            48.5,
            48.5,
            48.5,
            48.5,
            48.5,
            48.5,
            48.5,
            48.5,
            48.5
           ]
          },
          {
           "hoverinfo": "none",
           "line": {
            "color": "blue",
            "dash": "dash"
           },
           "showlegend": false,
           "type": "scatter",
           "x": [
            76,
            76
           ],
           "y": [
            0,
            53.5
           ]
          },
          {
           "hoverinfo": "none",
           "line": {
            "color": "yellow",
            "dash": "dash"
           },
           "showlegend": false,
           "type": "scatter",
           "x": [
            82,
            82
           ],
           "y": [
            0,
            53.5
           ]
          },
          {
           "hoverinfo": "text",
           "hovertext": [
            "nflId:35441.0<br>displayName:Ndamukong Suh<br>Position:LILB<br>Role:Pass Rush",
            "nflId:35454.0<br>displayName:Jason Pierre-Paul<br>Position:REO<br>Role:Pass Rush",
            "nflId:38588.0<br>displayName:Lavonte David<br>Position:RILB<br>Role:Pass Rush",
            "nflId:41915.0<br>displayName:Shaquil Barrett<br>Position:SCBiL<br>Role:Coverage",
            "nflId:46081.0<br>displayName:Vita Vea<br>Position:DRT<br>Role:Pass Rush",
            "nflId:46132.0<br>displayName:Carlton Davis<br>Position:LCB<br>Role:Coverage",
            "nflId:47788.0<br>displayName:Devin White<br>Position:LILB<br>Role:Coverage",
            "nflId:47822.0<br>displayName:Sean Murphy-Bunting<br>Position:SCBiL<br>Role:Coverage",
            "nflId:47877.0<br>displayName:Jamel Dean<br>Position:RCB<br>Role:Coverage",
            "nflId:47882.0<br>displayName:Mike Edwards<br>Position:SSR<br>Role:Coverage",
            "nflId:52453.0<br>displayName:Antoine Winfield<br>Position:FS<br>Role:Coverage"
           ],
           "marker": {
            "color": "#D50A0A"
           },
           "mode": "markers",
           "name": "TB",
           "type": "scatter",
           "x": [
            78.7,
            78.84,
            75.78,
            75.06,
            78.16,
            66.56,
            71.9,
            67.67,
            68.67,
            70.06,
            64.09
           ],
           "y": [
            29.16,
            22.56,
            25.57,
            33.88,
            25.93,
            40.56,
            27.84,
            35.59,
            10.92,
            19.28,
            26.71
           ]
          },
          {
           "hoverinfo": "text",
           "hovertext": [
            "nflId:37082.0<br>displayName:Tyron Smith<br>Position:LT<br>Role:Pass Block",
            "nflId:42347.0<br>displayName:Amari Cooper<br>Position:RWR<br>Role:Pass Route",
            "nflId:42654.0<br>displayName:La'el Collins<br>Position:RT<br>Role:Pass Block",
            "nflId:43424.0<br>displayName:Dak Prescott<br>Position:QB<br>Role:Pass",
            "nflId:45532.0<br>displayName:Blake Jarwin<br>Position:SRoWR<br>Role:Pass Route",
            "nflId:46119.0<br>displayName:Connor Williams<br>Position:LG<br>Role:Pass Block",
            "nflId:46150.0<br>displayName:Michael Gallup<br>Position:LWR<br>Role:Pass Route",
            "nflId:46206.0<br>displayName:Dalton Schultz<br>Position:SRiWR<br>Role:Pass Route",
            "nflId:47873.0<br>displayName:Connor McGovern<br>Position:RG<br>Role:Pass Block",
            "nflId:52425.0<br>displayName:CeeDee Lamb<br>Position:HB-R<br>Role:Pass Route",
            "nflId:52554.0<br>displayName:Tyler Biadasz<br>Position:C<br>Role:Pass Block"
           ],
           "marker": {
            "color": "#003594"
           },
           "mode": "markers",
           "name": "DAL",
           "type": "scatter",
           "x": [
            79.67,
            74.41,
            79.6,
            83.22,
            74.51,
            79.36,
            73.31,
            73.19,
            79.86,
            78.58,
            79.92
           ],
           "y": [
            22.74,
            37.82,
            29.67,
            26.47,
            35.5,
            25.81,
            9.94,
            29.88,
            28.67,
            34.67,
            27.08
           ]
          },
          {
           "hoverinfo": "none",
           "marker": {
            "color": "#CBB67C"
           },
           "mode": "markers",
           "name": "football",
           "type": "scatter",
           "x": [
            83.36
           ],
           "y": [
            26.56
           ]
          }
         ],
         "name": "19"
        },
        {
         "data": [
          {
           "hoverinfo": "none",
           "mode": "text",
           "showlegend": false,
           "text": [
            "10",
            "20",
            "30",
            "40",
            "50",
            "40",
            "30",
            "20",
            "10"
           ],
           "textfont": {
            "color": "#ffffff",
            "family": "Courier New, monospace",
            "size": 30
           },
           "type": "scatter",
           "x": [
            20,
            30,
            40,
            50,
            60,
            70,
            80,
            90,
            100
           ],
           "y": [
            5,
            5,
            5,
            5,
            5,
            5,
            5,
            5,
            5
           ]
          },
          {
           "hoverinfo": "none",
           "mode": "text",
           "showlegend": false,
           "text": [
            "10",
            "20",
            "30",
            "40",
            "50",
            "40",
            "30",
            "20",
            "10"
           ],
           "textfont": {
            "color": "#ffffff",
            "family": "Courier New, monospace",
            "size": 30
           },
           "type": "scatter",
           "x": [
            20,
            30,
            40,
            50,
            60,
            70,
            80,
            90,
            100
           ],
           "y": [
            48.5,
            48.5,
            48.5,
            48.5,
            48.5,
            48.5,
            48.5,
            48.5,
            48.5
           ]
          },
          {
           "hoverinfo": "none",
           "line": {
            "color": "blue",
            "dash": "dash"
           },
           "showlegend": false,
           "type": "scatter",
           "x": [
            76,
            76
           ],
           "y": [
            0,
            53.5
           ]
          },
          {
           "hoverinfo": "none",
           "line": {
            "color": "yellow",
            "dash": "dash"
           },
           "showlegend": false,
           "type": "scatter",
           "x": [
            82,
            82
           ],
           "y": [
            0,
            53.5
           ]
          },
          {
           "hoverinfo": "text",
           "hovertext": [
            "nflId:35441.0<br>displayName:Ndamukong Suh<br>Position:LILB<br>Role:Pass Rush",
            "nflId:35454.0<br>displayName:Jason Pierre-Paul<br>Position:REO<br>Role:Pass Rush",
            "nflId:38588.0<br>displayName:Lavonte David<br>Position:RILB<br>Role:Pass Rush",
            "nflId:41915.0<br>displayName:Shaquil Barrett<br>Position:SCBiL<br>Role:Coverage",
            "nflId:46081.0<br>displayName:Vita Vea<br>Position:DRT<br>Role:Pass Rush",
            "nflId:46132.0<br>displayName:Carlton Davis<br>Position:LCB<br>Role:Coverage",
            "nflId:47788.0<br>displayName:Devin White<br>Position:LILB<br>Role:Coverage",
            "nflId:47822.0<br>displayName:Sean Murphy-Bunting<br>Position:SCBiL<br>Role:Coverage",
            "nflId:47877.0<br>displayName:Jamel Dean<br>Position:RCB<br>Role:Coverage",
            "nflId:47882.0<br>displayName:Mike Edwards<br>Position:SSR<br>Role:Coverage",
            "nflId:52453.0<br>displayName:Antoine Winfield<br>Position:FS<br>Role:Coverage"
           ],
           "marker": {
            "color": "#D50A0A"
           },
           "mode": "markers",
           "name": "TB",
           "type": "scatter",
           "x": [
            78.94,
            78.98,
            76.3,
            75.07,
            78.39,
            66.18,
            71.82,
            67.2,
            68.38,
            70.1,
            63.82
           ],
           "y": [
            29.12,
            22.84,
            25.62,
            34.26,
            25.97,
            40.69,
            27.74,
            35.81,
            10.84,
            18.98,
            26.77
           ]
          },
          {
           "hoverinfo": "text",
           "hovertext": [
            "nflId:37082.0<br>displayName:Tyron Smith<br>Position:LT<br>Role:Pass Block",
            "nflId:42347.0<br>displayName:Amari Cooper<br>Position:RWR<br>Role:Pass Route",
            "nflId:42654.0<br>displayName:La'el Collins<br>Position:RT<br>Role:Pass Block",
            "nflId:43424.0<br>displayName:Dak Prescott<br>Position:QB<br>Role:Pass",
            "nflId:45532.0<br>displayName:Blake Jarwin<br>Position:SRoWR<br>Role:Pass Route",
            "nflId:46119.0<br>displayName:Connor Williams<br>Position:LG<br>Role:Pass Block",
            "nflId:46150.0<br>displayName:Michael Gallup<br>Position:LWR<br>Role:Pass Route",
            "nflId:46206.0<br>displayName:Dalton Schultz<br>Position:SRiWR<br>Role:Pass Route",
            "nflId:47873.0<br>displayName:Connor McGovern<br>Position:RG<br>Role:Pass Block",
            "nflId:52425.0<br>displayName:CeeDee Lamb<br>Position:HB-R<br>Role:Pass Route",
            "nflId:52554.0<br>displayName:Tyler Biadasz<br>Position:C<br>Role:Pass Block"
           ],
           "marker": {
            "color": "#003594"
           },
           "mode": "markers",
           "name": "DAL",
           "type": "scatter",
           "x": [
            79.79,
            73.78,
            79.71,
            83.42,
            73.99,
            79.5,
            72.75,
            72.78,
            80.02,
            78.32,
            80.11
           ],
           "y": [
            22.84,
            37.82,
            29.67,
            26.46,
            35.71,
            25.87,
            10.1,
            29.66,
            28.7,
            35.33,
            27.16
           ]
          },
          {
           "hoverinfo": "none",
           "marker": {
            "color": "#CBB67C"
           },
           "mode": "markers",
           "name": "football",
           "type": "scatter",
           "x": [
            83.57
           ],
           "y": [
            26.61
           ]
          }
         ],
         "name": "20"
        },
        {
         "data": [
          {
           "hoverinfo": "none",
           "mode": "text",
           "showlegend": false,
           "text": [
            "10",
            "20",
            "30",
            "40",
            "50",
            "40",
            "30",
            "20",
            "10"
           ],
           "textfont": {
            "color": "#ffffff",
            "family": "Courier New, monospace",
            "size": 30
           },
           "type": "scatter",
           "x": [
            20,
            30,
            40,
            50,
            60,
            70,
            80,
            90,
            100
           ],
           "y": [
            5,
            5,
            5,
            5,
            5,
            5,
            5,
            5,
            5
           ]
          },
          {
           "hoverinfo": "none",
           "mode": "text",
           "showlegend": false,
           "text": [
            "10",
            "20",
            "30",
            "40",
            "50",
            "40",
            "30",
            "20",
            "10"
           ],
           "textfont": {
            "color": "#ffffff",
            "family": "Courier New, monospace",
            "size": 30
           },
           "type": "scatter",
           "x": [
            20,
            30,
            40,
            50,
            60,
            70,
            80,
            90,
            100
           ],
           "y": [
            48.5,
            48.5,
            48.5,
            48.5,
            48.5,
            48.5,
            48.5,
            48.5,
            48.5
           ]
          },
          {
           "hoverinfo": "none",
           "line": {
            "color": "blue",
            "dash": "dash"
           },
           "showlegend": false,
           "type": "scatter",
           "x": [
            76,
            76
           ],
           "y": [
            0,
            53.5
           ]
          },
          {
           "hoverinfo": "none",
           "line": {
            "color": "yellow",
            "dash": "dash"
           },
           "showlegend": false,
           "type": "scatter",
           "x": [
            82,
            82
           ],
           "y": [
            0,
            53.5
           ]
          },
          {
           "hoverinfo": "text",
           "hovertext": [
            "nflId:35441.0<br>displayName:Ndamukong Suh<br>Position:LILB<br>Role:Pass Rush",
            "nflId:35454.0<br>displayName:Jason Pierre-Paul<br>Position:REO<br>Role:Pass Rush",
            "nflId:38588.0<br>displayName:Lavonte David<br>Position:RILB<br>Role:Pass Rush",
            "nflId:41915.0<br>displayName:Shaquil Barrett<br>Position:SCBiL<br>Role:Coverage",
            "nflId:46081.0<br>displayName:Vita Vea<br>Position:DRT<br>Role:Pass Rush",
            "nflId:46132.0<br>displayName:Carlton Davis<br>Position:LCB<br>Role:Coverage",
            "nflId:47788.0<br>displayName:Devin White<br>Position:LILB<br>Role:Coverage",
            "nflId:47822.0<br>displayName:Sean Murphy-Bunting<br>Position:SCBiL<br>Role:Coverage",
            "nflId:47877.0<br>displayName:Jamel Dean<br>Position:RCB<br>Role:Coverage",
            "nflId:47882.0<br>displayName:Mike Edwards<br>Position:SSR<br>Role:Coverage",
            "nflId:52453.0<br>displayName:Antoine Winfield<br>Position:FS<br>Role:Coverage"
           ],
           "marker": {
            "color": "#D50A0A"
           },
           "mode": "markers",
           "name": "TB",
           "type": "scatter",
           "x": [
            79.1,
            79.1,
            76.83,
            75.09,
            78.6,
            65.76,
            71.72,
            66.7,
            68.1,
            70.11,
            63.54
           ],
           "y": [
            29.04,
            23.14,
            25.63,
            34.68,
            25.99,
            40.8,
            27.61,
            36,
            10.8,
            18.67,
            26.82
           ]
          },
          {
           "hoverinfo": "text",
           "hovertext": [
            "nflId:37082.0<br>displayName:Tyron Smith<br>Position:LT<br>Role:Pass Block",
            "nflId:42347.0<br>displayName:Amari Cooper<br>Position:RWR<br>Role:Pass Route",
            "nflId:42654.0<br>displayName:La'el Collins<br>Position:RT<br>Role:Pass Block",
            "nflId:43424.0<br>displayName:Dak Prescott<br>Position:QB<br>Role:Pass",
            "nflId:45532.0<br>displayName:Blake Jarwin<br>Position:SRoWR<br>Role:Pass Route",
            "nflId:46119.0<br>displayName:Connor Williams<br>Position:LG<br>Role:Pass Block",
            "nflId:46150.0<br>displayName:Michael Gallup<br>Position:LWR<br>Role:Pass Route",
            "nflId:46206.0<br>displayName:Dalton Schultz<br>Position:SRiWR<br>Role:Pass Route",
            "nflId:47873.0<br>displayName:Connor McGovern<br>Position:RG<br>Role:Pass Block",
            "nflId:52425.0<br>displayName:CeeDee Lamb<br>Position:HB-R<br>Role:Pass Route",
            "nflId:52554.0<br>displayName:Tyler Biadasz<br>Position:C<br>Role:Pass Block"
           ],
           "marker": {
            "color": "#003594"
           },
           "mode": "markers",
           "name": "DAL",
           "type": "scatter",
           "x": [
            79.89,
            73.14,
            79.82,
            83.61,
            73.5,
            79.64,
            72.17,
            72.39,
            80.15,
            78.08,
            80.3
           ],
           "y": [
            22.97,
            37.83,
            29.64,
            26.45,
            35.89,
            25.92,
            10.29,
            29.46,
            28.68,
            36.01,
            27.23
           ]
          },
          {
           "hoverinfo": "none",
           "marker": {
            "color": "#CBB67C"
           },
           "mode": "markers",
           "name": "football",
           "type": "scatter",
           "x": [
            83.71
           ],
           "y": [
            26.64
           ]
          }
         ],
         "name": "21"
        },
        {
         "data": [
          {
           "hoverinfo": "none",
           "mode": "text",
           "showlegend": false,
           "text": [
            "10",
            "20",
            "30",
            "40",
            "50",
            "40",
            "30",
            "20",
            "10"
           ],
           "textfont": {
            "color": "#ffffff",
            "family": "Courier New, monospace",
            "size": 30
           },
           "type": "scatter",
           "x": [
            20,
            30,
            40,
            50,
            60,
            70,
            80,
            90,
            100
           ],
           "y": [
            5,
            5,
            5,
            5,
            5,
            5,
            5,
            5,
            5
           ]
          },
          {
           "hoverinfo": "none",
           "mode": "text",
           "showlegend": false,
           "text": [
            "10",
            "20",
            "30",
            "40",
            "50",
            "40",
            "30",
            "20",
            "10"
           ],
           "textfont": {
            "color": "#ffffff",
            "family": "Courier New, monospace",
            "size": 30
           },
           "type": "scatter",
           "x": [
            20,
            30,
            40,
            50,
            60,
            70,
            80,
            90,
            100
           ],
           "y": [
            48.5,
            48.5,
            48.5,
            48.5,
            48.5,
            48.5,
            48.5,
            48.5,
            48.5
           ]
          },
          {
           "hoverinfo": "none",
           "line": {
            "color": "blue",
            "dash": "dash"
           },
           "showlegend": false,
           "type": "scatter",
           "x": [
            76,
            76
           ],
           "y": [
            0,
            53.5
           ]
          },
          {
           "hoverinfo": "none",
           "line": {
            "color": "yellow",
            "dash": "dash"
           },
           "showlegend": false,
           "type": "scatter",
           "x": [
            82,
            82
           ],
           "y": [
            0,
            53.5
           ]
          },
          {
           "hoverinfo": "text",
           "hovertext": [
            "nflId:35441.0<br>displayName:Ndamukong Suh<br>Position:LILB<br>Role:Pass Rush",
            "nflId:35454.0<br>displayName:Jason Pierre-Paul<br>Position:REO<br>Role:Pass Rush",
            "nflId:38588.0<br>displayName:Lavonte David<br>Position:RILB<br>Role:Pass Rush",
            "nflId:41915.0<br>displayName:Shaquil Barrett<br>Position:SCBiL<br>Role:Coverage",
            "nflId:46081.0<br>displayName:Vita Vea<br>Position:DRT<br>Role:Pass Rush",
            "nflId:46132.0<br>displayName:Carlton Davis<br>Position:LCB<br>Role:Coverage",
            "nflId:47788.0<br>displayName:Devin White<br>Position:LILB<br>Role:Coverage",
            "nflId:47822.0<br>displayName:Sean Murphy-Bunting<br>Position:SCBiL<br>Role:Coverage",
            "nflId:47877.0<br>displayName:Jamel Dean<br>Position:RCB<br>Role:Coverage",
            "nflId:47882.0<br>displayName:Mike Edwards<br>Position:SSR<br>Role:Coverage",
            "nflId:52453.0<br>displayName:Antoine Winfield<br>Position:FS<br>Role:Coverage"
           ],
           "marker": {
            "color": "#D50A0A"
           },
           "mode": "markers",
           "name": "TB",
           "type": "scatter",
           "x": [
            79.27,
            79.22,
            77.36,
            75.11,
            78.8,
            65.34,
            71.61,
            66.17,
            67.81,
            70.08,
            63.24
           ],
           "y": [
            28.97,
            23.44,
            25.61,
            35.14,
            26,
            40.9,
            27.46,
            36.18,
            10.78,
            18.36,
            26.88
           ]
          },
          {
           "hoverinfo": "text",
           "hovertext": [
            "nflId:37082.0<br>displayName:Tyron Smith<br>Position:LT<br>Role:Pass Block",
            "nflId:42347.0<br>displayName:Amari Cooper<br>Position:RWR<br>Role:Pass Route",
            "nflId:42654.0<br>displayName:La'el Collins<br>Position:RT<br>Role:Pass Block",
            "nflId:43424.0<br>displayName:Dak Prescott<br>Position:QB<br>Role:Pass",
            "nflId:45532.0<br>displayName:Blake Jarwin<br>Position:SRoWR<br>Role:Pass Route",
            "nflId:46119.0<br>displayName:Connor Williams<br>Position:LG<br>Role:Pass Block",
            "nflId:46150.0<br>displayName:Michael Gallup<br>Position:LWR<br>Role:Pass Route",
            "nflId:46206.0<br>displayName:Dalton Schultz<br>Position:SRiWR<br>Role:Pass Route",
            "nflId:47873.0<br>displayName:Connor McGovern<br>Position:RG<br>Role:Pass Block",
            "nflId:52425.0<br>displayName:CeeDee Lamb<br>Position:HB-R<br>Role:Pass Route",
            "nflId:52554.0<br>displayName:Tyler Biadasz<br>Position:C<br>Role:Pass Block"
           ],
           "marker": {
            "color": "#003594"
           },
           "mode": "markers",
           "name": "DAL",
           "type": "scatter",
           "x": [
            79.99,
            72.47,
            79.93,
            83.76,
            73.03,
            79.8,
            71.59,
            72.04,
            80.27,
            77.85,
            80.47
           ],
           "y": [
            23.12,
            37.82,
            29.62,
            26.44,
            36.02,
            25.95,
            10.54,
            29.27,
            28.65,
            36.7,
            27.3
           ]
          },
          {
           "hoverinfo": "none",
           "marker": {
            "color": "#CBB67C"
           },
           "mode": "markers",
           "name": "football",
           "type": "scatter",
           "x": [
            83.81
           ],
           "y": [
            26.68
           ]
          }
         ],
         "name": "22"
        },
        {
         "data": [
          {
           "hoverinfo": "none",
           "mode": "text",
           "showlegend": false,
           "text": [
            "10",
            "20",
            "30",
            "40",
            "50",
            "40",
            "30",
            "20",
            "10"
           ],
           "textfont": {
            "color": "#ffffff",
            "family": "Courier New, monospace",
            "size": 30
           },
           "type": "scatter",
           "x": [
            20,
            30,
            40,
            50,
            60,
            70,
            80,
            90,
            100
           ],
           "y": [
            5,
            5,
            5,
            5,
            5,
            5,
            5,
            5,
            5
           ]
          },
          {
           "hoverinfo": "none",
           "mode": "text",
           "showlegend": false,
           "text": [
            "10",
            "20",
            "30",
            "40",
            "50",
            "40",
            "30",
            "20",
            "10"
           ],
           "textfont": {
            "color": "#ffffff",
            "family": "Courier New, monospace",
            "size": 30
           },
           "type": "scatter",
           "x": [
            20,
            30,
            40,
            50,
            60,
            70,
            80,
            90,
            100
           ],
           "y": [
            48.5,
            48.5,
            48.5,
            48.5,
            48.5,
            48.5,
            48.5,
            48.5,
            48.5
           ]
          },
          {
           "hoverinfo": "none",
           "line": {
            "color": "blue",
            "dash": "dash"
           },
           "showlegend": false,
           "type": "scatter",
           "x": [
            76,
            76
           ],
           "y": [
            0,
            53.5
           ]
          },
          {
           "hoverinfo": "none",
           "line": {
            "color": "yellow",
            "dash": "dash"
           },
           "showlegend": false,
           "type": "scatter",
           "x": [
            82,
            82
           ],
           "y": [
            0,
            53.5
           ]
          },
          {
           "hoverinfo": "text",
           "hovertext": [
            "nflId:35441.0<br>displayName:Ndamukong Suh<br>Position:LILB<br>Role:Pass Rush",
            "nflId:35454.0<br>displayName:Jason Pierre-Paul<br>Position:REO<br>Role:Pass Rush",
            "nflId:38588.0<br>displayName:Lavonte David<br>Position:RILB<br>Role:Pass Rush",
            "nflId:41915.0<br>displayName:Shaquil Barrett<br>Position:SCBiL<br>Role:Coverage",
            "nflId:46081.0<br>displayName:Vita Vea<br>Position:DRT<br>Role:Pass Rush",
            "nflId:46132.0<br>displayName:Carlton Davis<br>Position:LCB<br>Role:Coverage",
            "nflId:47788.0<br>displayName:Devin White<br>Position:LILB<br>Role:Coverage",
            "nflId:47822.0<br>displayName:Sean Murphy-Bunting<br>Position:SCBiL<br>Role:Coverage",
            "nflId:47877.0<br>displayName:Jamel Dean<br>Position:RCB<br>Role:Coverage",
            "nflId:47882.0<br>displayName:Mike Edwards<br>Position:SSR<br>Role:Coverage",
            "nflId:52453.0<br>displayName:Antoine Winfield<br>Position:FS<br>Role:Coverage"
           ],
           "marker": {
            "color": "#D50A0A"
           },
           "mode": "markers",
           "name": "TB",
           "type": "scatter",
           "x": [
            79.37,
            79.33,
            77.86,
            75.13,
            78.97,
            64.92,
            71.5,
            65.6,
            67.52,
            70.01,
            62.93
           ],
           "y": [
            28.87,
            23.75,
            25.58,
            35.63,
            26.01,
            41.01,
            27.33,
            36.32,
            10.81,
            18.06,
            26.92
           ]
          },
          {
           "hoverinfo": "text",
           "hovertext": [
            "nflId:37082.0<br>displayName:Tyron Smith<br>Position:LT<br>Role:Pass Block",
            "nflId:42347.0<br>displayName:Amari Cooper<br>Position:RWR<br>Role:Pass Route",
            "nflId:42654.0<br>displayName:La'el Collins<br>Position:RT<br>Role:Pass Block",
            "nflId:43424.0<br>displayName:Dak Prescott<br>Position:QB<br>Role:Pass",
            "nflId:45532.0<br>displayName:Blake Jarwin<br>Position:SRoWR<br>Role:Pass Route",
            "nflId:46119.0<br>displayName:Connor Williams<br>Position:LG<br>Role:Pass Block",
            "nflId:46150.0<br>displayName:Michael Gallup<br>Position:LWR<br>Role:Pass Route",
            "nflId:46206.0<br>displayName:Dalton Schultz<br>Position:SRiWR<br>Role:Pass Route",
            "nflId:47873.0<br>displayName:Connor McGovern<br>Position:RG<br>Role:Pass Block",
            "nflId:52425.0<br>displayName:CeeDee Lamb<br>Position:HB-R<br>Role:Pass Route",
            "nflId:52554.0<br>displayName:Tyler Biadasz<br>Position:C<br>Role:Pass Block"
           ],
           "marker": {
            "color": "#003594"
           },
           "mode": "markers",
           "name": "DAL",
           "type": "scatter",
           "x": [
            80.07,
            71.79,
            80.03,
            83.87,
            72.56,
            79.96,
            71.03,
            71.74,
            80.37,
            77.63,
            80.6
           ],
           "y": [
            23.3,
            37.79,
            29.59,
            26.42,
            36.14,
            25.96,
            10.81,
            29.12,
            28.59,
            37.39,
            27.35
           ]
          },
          {
           "hoverinfo": "none",
           "marker": {
            "color": "#CBB67C"
           },
           "mode": "markers",
           "name": "football",
           "type": "scatter",
           "x": [
            83.9
           ],
           "y": [
            26.72
           ]
          }
         ],
         "name": "23"
        },
        {
         "data": [
          {
           "hoverinfo": "none",
           "mode": "text",
           "showlegend": false,
           "text": [
            "10",
            "20",
            "30",
            "40",
            "50",
            "40",
            "30",
            "20",
            "10"
           ],
           "textfont": {
            "color": "#ffffff",
            "family": "Courier New, monospace",
            "size": 30
           },
           "type": "scatter",
           "x": [
            20,
            30,
            40,
            50,
            60,
            70,
            80,
            90,
            100
           ],
           "y": [
            5,
            5,
            5,
            5,
            5,
            5,
            5,
            5,
            5
           ]
          },
          {
           "hoverinfo": "none",
           "mode": "text",
           "showlegend": false,
           "text": [
            "10",
            "20",
            "30",
            "40",
            "50",
            "40",
            "30",
            "20",
            "10"
           ],
           "textfont": {
            "color": "#ffffff",
            "family": "Courier New, monospace",
            "size": 30
           },
           "type": "scatter",
           "x": [
            20,
            30,
            40,
            50,
            60,
            70,
            80,
            90,
            100
           ],
           "y": [
            48.5,
            48.5,
            48.5,
            48.5,
            48.5,
            48.5,
            48.5,
            48.5,
            48.5
           ]
          },
          {
           "hoverinfo": "none",
           "line": {
            "color": "blue",
            "dash": "dash"
           },
           "showlegend": false,
           "type": "scatter",
           "x": [
            76,
            76
           ],
           "y": [
            0,
            53.5
           ]
          },
          {
           "hoverinfo": "none",
           "line": {
            "color": "yellow",
            "dash": "dash"
           },
           "showlegend": false,
           "type": "scatter",
           "x": [
            82,
            82
           ],
           "y": [
            0,
            53.5
           ]
          },
          {
           "hoverinfo": "text",
           "hovertext": [
            "nflId:35441.0<br>displayName:Ndamukong Suh<br>Position:LILB<br>Role:Pass Rush",
            "nflId:35454.0<br>displayName:Jason Pierre-Paul<br>Position:REO<br>Role:Pass Rush",
            "nflId:38588.0<br>displayName:Lavonte David<br>Position:RILB<br>Role:Pass Rush",
            "nflId:41915.0<br>displayName:Shaquil Barrett<br>Position:SCBiL<br>Role:Coverage",
            "nflId:46081.0<br>displayName:Vita Vea<br>Position:DRT<br>Role:Pass Rush",
            "nflId:46132.0<br>displayName:Carlton Davis<br>Position:LCB<br>Role:Coverage",
            "nflId:47788.0<br>displayName:Devin White<br>Position:LILB<br>Role:Coverage",
            "nflId:47822.0<br>displayName:Sean Murphy-Bunting<br>Position:SCBiL<br>Role:Coverage",
            "nflId:47877.0<br>displayName:Jamel Dean<br>Position:RCB<br>Role:Coverage",
            "nflId:47882.0<br>displayName:Mike Edwards<br>Position:SSR<br>Role:Coverage",
            "nflId:52453.0<br>displayName:Antoine Winfield<br>Position:FS<br>Role:Coverage"
           ],
           "marker": {
            "color": "#D50A0A"
           },
           "mode": "markers",
           "name": "TB",
           "type": "scatter",
           "x": [
            79.45,
            79.45,
            78.31,
            75.14,
            79.12,
            64.48,
            71.38,
            65,
            67.24,
            69.9,
            62.62
           ],
           "y": [
            28.76,
            24.04,
            25.55,
            36.16,
            26.01,
            41.11,
            27.2,
            36.43,
            10.88,
            17.77,
            26.98
           ]
          },
          {
           "hoverinfo": "text",
           "hovertext": [
            "nflId:37082.0<br>displayName:Tyron Smith<br>Position:LT<br>Role:Pass Block",
            "nflId:42347.0<br>displayName:Amari Cooper<br>Position:RWR<br>Role:Pass Route",
            "nflId:42654.0<br>displayName:La'el Collins<br>Position:RT<br>Role:Pass Block",
            "nflId:43424.0<br>displayName:Dak Prescott<br>Position:QB<br>Role:Pass",
            "nflId:45532.0<br>displayName:Blake Jarwin<br>Position:SRoWR<br>Role:Pass Route",
            "nflId:46119.0<br>displayName:Connor Williams<br>Position:LG<br>Role:Pass Block",
            "nflId:46150.0<br>displayName:Michael Gallup<br>Position:LWR<br>Role:Pass Route",
            "nflId:46206.0<br>displayName:Dalton Schultz<br>Position:SRiWR<br>Role:Pass Route",
            "nflId:47873.0<br>displayName:Connor McGovern<br>Position:RG<br>Role:Pass Block",
            "nflId:52425.0<br>displayName:CeeDee Lamb<br>Position:HB-R<br>Role:Pass Route",
            "nflId:52554.0<br>displayName:Tyler Biadasz<br>Position:C<br>Role:Pass Block"
           ],
           "marker": {
            "color": "#003594"
           },
           "mode": "markers",
           "name": "DAL",
           "type": "scatter",
           "x": [
            80.15,
            71.1,
            80.13,
            83.96,
            72.13,
            80.12,
            70.49,
            71.48,
            80.44,
            77.43,
            80.73
           ],
           "y": [
            23.48,
            37.76,
            29.57,
            26.41,
            36.23,
            25.96,
            11.13,
            28.98,
            28.52,
            38.09,
            27.4
           ]
          },
          {
           "hoverinfo": "none",
           "marker": {
            "color": "#CBB67C"
           },
           "mode": "markers",
           "name": "football",
           "type": "scatter",
           "x": [
            83.99
           ],
           "y": [
            26.76
           ]
          }
         ],
         "name": "24"
        },
        {
         "data": [
          {
           "hoverinfo": "none",
           "mode": "text",
           "showlegend": false,
           "text": [
            "10",
            "20",
            "30",
            "40",
            "50",
            "40",
            "30",
            "20",
            "10"
           ],
           "textfont": {
            "color": "#ffffff",
            "family": "Courier New, monospace",
            "size": 30
           },
           "type": "scatter",
           "x": [
            20,
            30,
            40,
            50,
            60,
            70,
            80,
            90,
            100
           ],
           "y": [
            5,
            5,
            5,
            5,
            5,
            5,
            5,
            5,
            5
           ]
          },
          {
           "hoverinfo": "none",
           "mode": "text",
           "showlegend": false,
           "text": [
            "10",
            "20",
            "30",
            "40",
            "50",
            "40",
            "30",
            "20",
            "10"
           ],
           "textfont": {
            "color": "#ffffff",
            "family": "Courier New, monospace",
            "size": 30
           },
           "type": "scatter",
           "x": [
            20,
            30,
            40,
            50,
            60,
            70,
            80,
            90,
            100
           ],
           "y": [
            48.5,
            48.5,
            48.5,
            48.5,
            48.5,
            48.5,
            48.5,
            48.5,
            48.5
           ]
          },
          {
           "hoverinfo": "none",
           "line": {
            "color": "blue",
            "dash": "dash"
           },
           "showlegend": false,
           "type": "scatter",
           "x": [
            76,
            76
           ],
           "y": [
            0,
            53.5
           ]
          },
          {
           "hoverinfo": "none",
           "line": {
            "color": "yellow",
            "dash": "dash"
           },
           "showlegend": false,
           "type": "scatter",
           "x": [
            82,
            82
           ],
           "y": [
            0,
            53.5
           ]
          },
          {
           "hoverinfo": "text",
           "hovertext": [
            "nflId:35441.0<br>displayName:Ndamukong Suh<br>Position:LILB<br>Role:Pass Rush",
            "nflId:35454.0<br>displayName:Jason Pierre-Paul<br>Position:REO<br>Role:Pass Rush",
            "nflId:38588.0<br>displayName:Lavonte David<br>Position:RILB<br>Role:Pass Rush",
            "nflId:41915.0<br>displayName:Shaquil Barrett<br>Position:SCBiL<br>Role:Coverage",
            "nflId:46081.0<br>displayName:Vita Vea<br>Position:DRT<br>Role:Pass Rush",
            "nflId:46132.0<br>displayName:Carlton Davis<br>Position:LCB<br>Role:Coverage",
            "nflId:47788.0<br>displayName:Devin White<br>Position:LILB<br>Role:Coverage",
            "nflId:47822.0<br>displayName:Sean Murphy-Bunting<br>Position:SCBiL<br>Role:Coverage",
            "nflId:47877.0<br>displayName:Jamel Dean<br>Position:RCB<br>Role:Coverage",
            "nflId:47882.0<br>displayName:Mike Edwards<br>Position:SSR<br>Role:Coverage",
            "nflId:52453.0<br>displayName:Antoine Winfield<br>Position:FS<br>Role:Coverage"
           ],
           "marker": {
            "color": "#D50A0A"
           },
           "mode": "markers",
           "name": "TB",
           "type": "scatter",
           "x": [
            79.48,
            79.57,
            78.73,
            75.14,
            79.29,
            64.04,
            71.25,
            64.38,
            66.93,
            69.75,
            62.3
           ],
           "y": [
            28.65,
            24.32,
            25.5,
            36.71,
            25.99,
            41.22,
            27.09,
            36.51,
            11.07,
            17.5,
            27.05
           ]
          },
          {
           "hoverinfo": "text",
           "hovertext": [
            "nflId:37082.0<br>displayName:Tyron Smith<br>Position:LT<br>Role:Pass Block",
            "nflId:42347.0<br>displayName:Amari Cooper<br>Position:RWR<br>Role:Pass Route",
            "nflId:42654.0<br>displayName:La'el Collins<br>Position:RT<br>Role:Pass Block",
            "nflId:43424.0<br>displayName:Dak Prescott<br>Position:QB<br>Role:Pass",
            "nflId:45532.0<br>displayName:Blake Jarwin<br>Position:SRoWR<br>Role:Pass Route",
            "nflId:46119.0<br>displayName:Connor Williams<br>Position:LG<br>Role:Pass Block",
            "nflId:46150.0<br>displayName:Michael Gallup<br>Position:LWR<br>Role:Pass Route",
            "nflId:46206.0<br>displayName:Dalton Schultz<br>Position:SRiWR<br>Role:Pass Route",
            "nflId:47873.0<br>displayName:Connor McGovern<br>Position:RG<br>Role:Pass Block",
            "nflId:52425.0<br>displayName:CeeDee Lamb<br>Position:HB-R<br>Role:Pass Route",
            "nflId:52554.0<br>displayName:Tyler Biadasz<br>Position:C<br>Role:Pass Block"
           ],
           "marker": {
            "color": "#003594"
           },
           "mode": "markers",
           "name": "DAL",
           "type": "scatter",
           "x": [
            80.24,
            70.42,
            80.24,
            84,
            71.72,
            80.29,
            69.98,
            71.26,
            80.5,
            77.25,
            80.83
           ],
           "y": [
            23.68,
            37.72,
            29.55,
            26.42,
            36.28,
            25.95,
            11.5,
            28.9,
            28.42,
            38.79,
            27.4
           ]
          },
          {
           "hoverinfo": "none",
           "marker": {
            "color": "#CBB67C"
           },
           "mode": "markers",
           "name": "football",
           "type": "scatter",
           "x": [
            84.06
           ],
           "y": [
            26.8
           ]
          }
         ],
         "name": "25"
        },
        {
         "data": [
          {
           "hoverinfo": "none",
           "mode": "text",
           "showlegend": false,
           "text": [
            "10",
            "20",
            "30",
            "40",
            "50",
            "40",
            "30",
            "20",
            "10"
           ],
           "textfont": {
            "color": "#ffffff",
            "family": "Courier New, monospace",
            "size": 30
           },
           "type": "scatter",
           "x": [
            20,
            30,
            40,
            50,
            60,
            70,
            80,
            90,
            100
           ],
           "y": [
            5,
            5,
            5,
            5,
            5,
            5,
            5,
            5,
            5
           ]
          },
          {
           "hoverinfo": "none",
           "mode": "text",
           "showlegend": false,
           "text": [
            "10",
            "20",
            "30",
            "40",
            "50",
            "40",
            "30",
            "20",
            "10"
           ],
           "textfont": {
            "color": "#ffffff",
            "family": "Courier New, monospace",
            "size": 30
           },
           "type": "scatter",
           "x": [
            20,
            30,
            40,
            50,
            60,
            70,
            80,
            90,
            100
           ],
           "y": [
            48.5,
            48.5,
            48.5,
            48.5,
            48.5,
            48.5,
            48.5,
            48.5,
            48.5
           ]
          },
          {
           "hoverinfo": "none",
           "line": {
            "color": "blue",
            "dash": "dash"
           },
           "showlegend": false,
           "type": "scatter",
           "x": [
            76,
            76
           ],
           "y": [
            0,
            53.5
           ]
          },
          {
           "hoverinfo": "none",
           "line": {
            "color": "yellow",
            "dash": "dash"
           },
           "showlegend": false,
           "type": "scatter",
           "x": [
            82,
            82
           ],
           "y": [
            0,
            53.5
           ]
          },
          {
           "hoverinfo": "text",
           "hovertext": [
            "nflId:35441.0<br>displayName:Ndamukong Suh<br>Position:LILB<br>Role:Pass Rush",
            "nflId:35454.0<br>displayName:Jason Pierre-Paul<br>Position:REO<br>Role:Pass Rush",
            "nflId:38588.0<br>displayName:Lavonte David<br>Position:RILB<br>Role:Pass Rush",
            "nflId:41915.0<br>displayName:Shaquil Barrett<br>Position:SCBiL<br>Role:Coverage",
            "nflId:46081.0<br>displayName:Vita Vea<br>Position:DRT<br>Role:Pass Rush",
            "nflId:46132.0<br>displayName:Carlton Davis<br>Position:LCB<br>Role:Coverage",
            "nflId:47788.0<br>displayName:Devin White<br>Position:LILB<br>Role:Coverage",
            "nflId:47822.0<br>displayName:Sean Murphy-Bunting<br>Position:SCBiL<br>Role:Coverage",
            "nflId:47877.0<br>displayName:Jamel Dean<br>Position:RCB<br>Role:Coverage",
            "nflId:47882.0<br>displayName:Mike Edwards<br>Position:SSR<br>Role:Coverage",
            "nflId:52453.0<br>displayName:Antoine Winfield<br>Position:FS<br>Role:Coverage"
           ],
           "marker": {
            "color": "#D50A0A"
           },
           "mode": "markers",
           "name": "TB",
           "type": "scatter",
           "x": [
            79.48,
            79.71,
            79.08,
            75.12,
            79.44,
            63.6,
            71.14,
            63.75,
            66.62,
            69.56,
            62
           ],
           "y": [
            28.54,
            24.54,
            25.46,
            37.28,
            26.01,
            41.31,
            27.07,
            36.57,
            11.29,
            17.27,
            27.11
           ]
          },
          {
           "hoverinfo": "text",
           "hovertext": [
            "nflId:37082.0<br>displayName:Tyron Smith<br>Position:LT<br>Role:Pass Block",
            "nflId:42347.0<br>displayName:Amari Cooper<br>Position:RWR<br>Role:Pass Route",
            "nflId:42654.0<br>displayName:La'el Collins<br>Position:RT<br>Role:Pass Block",
            "nflId:43424.0<br>displayName:Dak Prescott<br>Position:QB<br>Role:Pass",
            "nflId:45532.0<br>displayName:Blake Jarwin<br>Position:SRoWR<br>Role:Pass Route",
            "nflId:46119.0<br>displayName:Connor Williams<br>Position:LG<br>Role:Pass Block",
            "nflId:46150.0<br>displayName:Michael Gallup<br>Position:LWR<br>Role:Pass Route",
            "nflId:46206.0<br>displayName:Dalton Schultz<br>Position:SRiWR<br>Role:Pass Route",
            "nflId:47873.0<br>displayName:Connor McGovern<br>Position:RG<br>Role:Pass Block",
            "nflId:52425.0<br>displayName:CeeDee Lamb<br>Position:HB-R<br>Role:Pass Route",
            "nflId:52554.0<br>displayName:Tyler Biadasz<br>Position:C<br>Role:Pass Block"
           ],
           "marker": {
            "color": "#003594"
           },
           "mode": "markers",
           "name": "DAL",
           "type": "scatter",
           "x": [
            80.33,
            69.76,
            80.36,
            84.02,
            71.36,
            80.45,
            69.47,
            71.1,
            80.53,
            77.07,
            80.89
           ],
           "y": [
            23.87,
            37.64,
            29.54,
            26.42,
            36.28,
            25.91,
            11.91,
            28.87,
            28.33,
            39.5,
            27.41
           ]
          },
          {
           "hoverinfo": "none",
           "marker": {
            "color": "#CBB67C"
           },
           "mode": "markers",
           "name": "football",
           "type": "scatter",
           "x": [
            84.12
           ],
           "y": [
            26.83
           ]
          }
         ],
         "name": "26"
        },
        {
         "data": [
          {
           "hoverinfo": "none",
           "mode": "text",
           "showlegend": false,
           "text": [
            "10",
            "20",
            "30",
            "40",
            "50",
            "40",
            "30",
            "20",
            "10"
           ],
           "textfont": {
            "color": "#ffffff",
            "family": "Courier New, monospace",
            "size": 30
           },
           "type": "scatter",
           "x": [
            20,
            30,
            40,
            50,
            60,
            70,
            80,
            90,
            100
           ],
           "y": [
            5,
            5,
            5,
            5,
            5,
            5,
            5,
            5,
            5
           ]
          },
          {
           "hoverinfo": "none",
           "mode": "text",
           "showlegend": false,
           "text": [
            "10",
            "20",
            "30",
            "40",
            "50",
            "40",
            "30",
            "20",
            "10"
           ],
           "textfont": {
            "color": "#ffffff",
            "family": "Courier New, monospace",
            "size": 30
           },
           "type": "scatter",
           "x": [
            20,
            30,
            40,
            50,
            60,
            70,
            80,
            90,
            100
           ],
           "y": [
            48.5,
            48.5,
            48.5,
            48.5,
            48.5,
            48.5,
            48.5,
            48.5,
            48.5
           ]
          },
          {
           "hoverinfo": "none",
           "line": {
            "color": "blue",
            "dash": "dash"
           },
           "showlegend": false,
           "type": "scatter",
           "x": [
            76,
            76
           ],
           "y": [
            0,
            53.5
           ]
          },
          {
           "hoverinfo": "none",
           "line": {
            "color": "yellow",
            "dash": "dash"
           },
           "showlegend": false,
           "type": "scatter",
           "x": [
            82,
            82
           ],
           "y": [
            0,
            53.5
           ]
          },
          {
           "hoverinfo": "text",
           "hovertext": [
            "nflId:35441.0<br>displayName:Ndamukong Suh<br>Position:LILB<br>Role:Pass Rush",
            "nflId:35454.0<br>displayName:Jason Pierre-Paul<br>Position:REO<br>Role:Pass Rush",
            "nflId:38588.0<br>displayName:Lavonte David<br>Position:RILB<br>Role:Pass Rush",
            "nflId:41915.0<br>displayName:Shaquil Barrett<br>Position:SCBiL<br>Role:Coverage",
            "nflId:46081.0<br>displayName:Vita Vea<br>Position:DRT<br>Role:Pass Rush",
            "nflId:46132.0<br>displayName:Carlton Davis<br>Position:LCB<br>Role:Coverage",
            "nflId:47788.0<br>displayName:Devin White<br>Position:LILB<br>Role:Coverage",
            "nflId:47822.0<br>displayName:Sean Murphy-Bunting<br>Position:SCBiL<br>Role:Coverage",
            "nflId:47877.0<br>displayName:Jamel Dean<br>Position:RCB<br>Role:Coverage",
            "nflId:47882.0<br>displayName:Mike Edwards<br>Position:SSR<br>Role:Coverage",
            "nflId:52453.0<br>displayName:Antoine Winfield<br>Position:FS<br>Role:Coverage"
           ],
           "marker": {
            "color": "#D50A0A"
           },
           "mode": "markers",
           "name": "TB",
           "type": "scatter",
           "x": [
            79.44,
            79.83,
            79.38,
            75.08,
            79.56,
            63.16,
            71.04,
            63.11,
            66.3,
            69.34,
            61.7
           ],
           "y": [
            28.42,
            24.76,
            25.41,
            37.84,
            26.04,
            41.4,
            27.09,
            36.6,
            11.56,
            17.11,
            27.17
           ]
          },
          {
           "hoverinfo": "text",
           "hovertext": [
            "nflId:37082.0<br>displayName:Tyron Smith<br>Position:LT<br>Role:Pass Block",
            "nflId:42347.0<br>displayName:Amari Cooper<br>Position:RWR<br>Role:Pass Route",
            "nflId:42654.0<br>displayName:La'el Collins<br>Position:RT<br>Role:Pass Block",
            "nflId:43424.0<br>displayName:Dak Prescott<br>Position:QB<br>Role:Pass",
            "nflId:45532.0<br>displayName:Blake Jarwin<br>Position:SRoWR<br>Role:Pass Route",
            "nflId:46119.0<br>displayName:Connor Williams<br>Position:LG<br>Role:Pass Block",
            "nflId:46150.0<br>displayName:Michael Gallup<br>Position:LWR<br>Role:Pass Route",
            "nflId:46206.0<br>displayName:Dalton Schultz<br>Position:SRiWR<br>Role:Pass Route",
            "nflId:47873.0<br>displayName:Connor McGovern<br>Position:RG<br>Role:Pass Block",
            "nflId:52425.0<br>displayName:CeeDee Lamb<br>Position:HB-R<br>Role:Pass Route",
            "nflId:52554.0<br>displayName:Tyler Biadasz<br>Position:C<br>Role:Pass Block"
           ],
           "marker": {
            "color": "#003594"
           },
           "mode": "markers",
           "name": "DAL",
           "type": "scatter",
           "x": [
            80.43,
            69.1,
            80.49,
            84.02,
            71.05,
            80.59,
            68.99,
            71,
            80.55,
            76.91,
            80.96
           ],
           "y": [
            24.04,
            37.54,
            29.52,
            26.43,
            36.27,
            25.9,
            12.35,
            28.88,
            28.23,
            40.2,
            27.39
           ]
          },
          {
           "hoverinfo": "none",
           "marker": {
            "color": "#CBB67C"
           },
           "mode": "markers",
           "name": "football",
           "type": "scatter",
           "x": [
            84.17
           ],
           "y": [
            26.86
           ]
          }
         ],
         "name": "27"
        },
        {
         "data": [
          {
           "hoverinfo": "none",
           "mode": "text",
           "showlegend": false,
           "text": [
            "10",
            "20",
            "30",
            "40",
            "50",
            "40",
            "30",
            "20",
            "10"
           ],
           "textfont": {
            "color": "#ffffff",
            "family": "Courier New, monospace",
            "size": 30
           },
           "type": "scatter",
           "x": [
            20,
            30,
            40,
            50,
            60,
            70,
            80,
            90,
            100
           ],
           "y": [
            5,
            5,
            5,
            5,
            5,
            5,
            5,
            5,
            5
           ]
          },
          {
           "hoverinfo": "none",
           "mode": "text",
           "showlegend": false,
           "text": [
            "10",
            "20",
            "30",
            "40",
            "50",
            "40",
            "30",
            "20",
            "10"
           ],
           "textfont": {
            "color": "#ffffff",
            "family": "Courier New, monospace",
            "size": 30
           },
           "type": "scatter",
           "x": [
            20,
            30,
            40,
            50,
            60,
            70,
            80,
            90,
            100
           ],
           "y": [
            48.5,
            48.5,
            48.5,
            48.5,
            48.5,
            48.5,
            48.5,
            48.5,
            48.5
           ]
          },
          {
           "hoverinfo": "none",
           "line": {
            "color": "blue",
            "dash": "dash"
           },
           "showlegend": false,
           "type": "scatter",
           "x": [
            76,
            76
           ],
           "y": [
            0,
            53.5
           ]
          },
          {
           "hoverinfo": "none",
           "line": {
            "color": "yellow",
            "dash": "dash"
           },
           "showlegend": false,
           "type": "scatter",
           "x": [
            82,
            82
           ],
           "y": [
            0,
            53.5
           ]
          },
          {
           "hoverinfo": "text",
           "hovertext": [
            "nflId:35441.0<br>displayName:Ndamukong Suh<br>Position:LILB<br>Role:Pass Rush",
            "nflId:35454.0<br>displayName:Jason Pierre-Paul<br>Position:REO<br>Role:Pass Rush",
            "nflId:38588.0<br>displayName:Lavonte David<br>Position:RILB<br>Role:Pass Rush",
            "nflId:41915.0<br>displayName:Shaquil Barrett<br>Position:SCBiL<br>Role:Coverage",
            "nflId:46081.0<br>displayName:Vita Vea<br>Position:DRT<br>Role:Pass Rush",
            "nflId:46132.0<br>displayName:Carlton Davis<br>Position:LCB<br>Role:Coverage",
            "nflId:47788.0<br>displayName:Devin White<br>Position:LILB<br>Role:Coverage",
            "nflId:47822.0<br>displayName:Sean Murphy-Bunting<br>Position:SCBiL<br>Role:Coverage",
            "nflId:47877.0<br>displayName:Jamel Dean<br>Position:RCB<br>Role:Coverage",
            "nflId:47882.0<br>displayName:Mike Edwards<br>Position:SSR<br>Role:Coverage",
            "nflId:52453.0<br>displayName:Antoine Winfield<br>Position:FS<br>Role:Coverage"
           ],
           "marker": {
            "color": "#D50A0A"
           },
           "mode": "markers",
           "name": "TB",
           "type": "scatter",
           "x": [
            79.35,
            79.98,
            79.62,
            75.02,
            79.7,
            62.76,
            70.95,
            62.49,
            65.99,
            69.1,
            61.42
           ],
           "y": [
            28.33,
            24.94,
            25.38,
            38.41,
            26.09,
            41.48,
            27.16,
            36.61,
            11.86,
            17,
            27.21
           ]
          },
          {
           "hoverinfo": "text",
           "hovertext": [
            "nflId:37082.0<br>displayName:Tyron Smith<br>Position:LT<br>Role:Pass Block",
            "nflId:42347.0<br>displayName:Amari Cooper<br>Position:RWR<br>Role:Pass Route",
            "nflId:42654.0<br>displayName:La'el Collins<br>Position:RT<br>Role:Pass Block",
            "nflId:43424.0<br>displayName:Dak Prescott<br>Position:QB<br>Role:Pass",
            "nflId:45532.0<br>displayName:Blake Jarwin<br>Position:SRoWR<br>Role:Pass Route",
            "nflId:46119.0<br>displayName:Connor Williams<br>Position:LG<br>Role:Pass Block",
            "nflId:46150.0<br>displayName:Michael Gallup<br>Position:LWR<br>Role:Pass Route",
            "nflId:46206.0<br>displayName:Dalton Schultz<br>Position:SRiWR<br>Role:Pass Route",
            "nflId:47873.0<br>displayName:Connor McGovern<br>Position:RG<br>Role:Pass Block",
            "nflId:52425.0<br>displayName:CeeDee Lamb<br>Position:HB-R<br>Role:Pass Route",
            "nflId:52554.0<br>displayName:Tyler Biadasz<br>Position:C<br>Role:Pass Block"
           ],
           "marker": {
            "color": "#003594"
           },
           "mode": "markers",
           "name": "DAL",
           "type": "scatter",
           "x": [
            80.55,
            68.48,
            80.61,
            84,
            70.77,
            80.72,
            68.53,
            70.94,
            80.55,
            76.77,
            80.99
           ],
           "y": [
            24.2,
            37.4,
            29.52,
            26.44,
            36.23,
            25.9,
            12.81,
            28.94,
            28.15,
            40.9,
            27.36
           ]
          },
          {
           "hoverinfo": "none",
           "marker": {
            "color": "#CBB67C"
           },
           "mode": "markers",
           "name": "football",
           "type": "scatter",
           "x": [
            82.06
           ],
           "y": [
            27.28
           ]
          }
         ],
         "name": "28"
        },
        {
         "data": [
          {
           "hoverinfo": "none",
           "mode": "text",
           "showlegend": false,
           "text": [
            "10",
            "20",
            "30",
            "40",
            "50",
            "40",
            "30",
            "20",
            "10"
           ],
           "textfont": {
            "color": "#ffffff",
            "family": "Courier New, monospace",
            "size": 30
           },
           "type": "scatter",
           "x": [
            20,
            30,
            40,
            50,
            60,
            70,
            80,
            90,
            100
           ],
           "y": [
            5,
            5,
            5,
            5,
            5,
            5,
            5,
            5,
            5
           ]
          },
          {
           "hoverinfo": "none",
           "mode": "text",
           "showlegend": false,
           "text": [
            "10",
            "20",
            "30",
            "40",
            "50",
            "40",
            "30",
            "20",
            "10"
           ],
           "textfont": {
            "color": "#ffffff",
            "family": "Courier New, monospace",
            "size": 30
           },
           "type": "scatter",
           "x": [
            20,
            30,
            40,
            50,
            60,
            70,
            80,
            90,
            100
           ],
           "y": [
            48.5,
            48.5,
            48.5,
            48.5,
            48.5,
            48.5,
            48.5,
            48.5,
            48.5
           ]
          },
          {
           "hoverinfo": "none",
           "line": {
            "color": "blue",
            "dash": "dash"
           },
           "showlegend": false,
           "type": "scatter",
           "x": [
            76,
            76
           ],
           "y": [
            0,
            53.5
           ]
          },
          {
           "hoverinfo": "none",
           "line": {
            "color": "yellow",
            "dash": "dash"
           },
           "showlegend": false,
           "type": "scatter",
           "x": [
            82,
            82
           ],
           "y": [
            0,
            53.5
           ]
          },
          {
           "hoverinfo": "text",
           "hovertext": [
            "nflId:35441.0<br>displayName:Ndamukong Suh<br>Position:LILB<br>Role:Pass Rush",
            "nflId:35454.0<br>displayName:Jason Pierre-Paul<br>Position:REO<br>Role:Pass Rush",
            "nflId:38588.0<br>displayName:Lavonte David<br>Position:RILB<br>Role:Pass Rush",
            "nflId:41915.0<br>displayName:Shaquil Barrett<br>Position:SCBiL<br>Role:Coverage",
            "nflId:46081.0<br>displayName:Vita Vea<br>Position:DRT<br>Role:Pass Rush",
            "nflId:46132.0<br>displayName:Carlton Davis<br>Position:LCB<br>Role:Coverage",
            "nflId:47788.0<br>displayName:Devin White<br>Position:LILB<br>Role:Coverage",
            "nflId:47822.0<br>displayName:Sean Murphy-Bunting<br>Position:SCBiL<br>Role:Coverage",
            "nflId:47877.0<br>displayName:Jamel Dean<br>Position:RCB<br>Role:Coverage",
            "nflId:47882.0<br>displayName:Mike Edwards<br>Position:SSR<br>Role:Coverage",
            "nflId:52453.0<br>displayName:Antoine Winfield<br>Position:FS<br>Role:Coverage"
           ],
           "marker": {
            "color": "#D50A0A"
           },
           "mode": "markers",
           "name": "TB",
           "type": "scatter",
           "x": [
            79.25,
            80.13,
            79.81,
            74.92,
            79.84,
            62.37,
            70.86,
            61.89,
            65.68,
            68.84,
            61.17
           ],
           "y": [
            28.23,
            25.07,
            25.35,
            38.97,
            26.13,
            41.55,
            27.27,
            36.61,
            12.2,
            16.95,
            27.26
           ]
          },
          {
           "hoverinfo": "text",
           "hovertext": [
            "nflId:37082.0<br>displayName:Tyron Smith<br>Position:LT<br>Role:Pass Block",
            "nflId:42347.0<br>displayName:Amari Cooper<br>Position:RWR<br>Role:Pass Route",
            "nflId:42654.0<br>displayName:La'el Collins<br>Position:RT<br>Role:Pass Block",
            "nflId:43424.0<br>displayName:Dak Prescott<br>Position:QB<br>Role:Pass",
            "nflId:45532.0<br>displayName:Blake Jarwin<br>Position:SRoWR<br>Role:Pass Route",
            "nflId:46119.0<br>displayName:Connor Williams<br>Position:LG<br>Role:Pass Block",
            "nflId:46150.0<br>displayName:Michael Gallup<br>Position:LWR<br>Role:Pass Route",
            "nflId:46206.0<br>displayName:Dalton Schultz<br>Position:SRiWR<br>Role:Pass Route",
            "nflId:47873.0<br>displayName:Connor McGovern<br>Position:RG<br>Role:Pass Block",
            "nflId:52425.0<br>displayName:CeeDee Lamb<br>Position:HB-R<br>Role:Pass Route",
            "nflId:52554.0<br>displayName:Tyler Biadasz<br>Position:C<br>Role:Pass Block"
           ],
           "marker": {
            "color": "#003594"
           },
           "mode": "markers",
           "name": "DAL",
           "type": "scatter",
           "x": [
            80.67,
            67.88,
            80.75,
            83.98,
            70.58,
            80.84,
            68.09,
            70.93,
            80.52,
            76.62,
            81.02
           ],
           "y": [
            24.35,
            37.23,
            29.55,
            26.45,
            36.16,
            25.91,
            13.3,
            29.05,
            28.07,
            41.57,
            27.33
           ]
          },
          {
           "hoverinfo": "none",
           "marker": {
            "color": "#CBB67C"
           },
           "mode": "markers",
           "name": "football",
           "type": "scatter",
           "x": [
            79.72
           ],
           "y": [
            27.92
           ]
          }
         ],
         "name": "29"
        },
        {
         "data": [
          {
           "hoverinfo": "none",
           "mode": "text",
           "showlegend": false,
           "text": [
            "10",
            "20",
            "30",
            "40",
            "50",
            "40",
            "30",
            "20",
            "10"
           ],
           "textfont": {
            "color": "#ffffff",
            "family": "Courier New, monospace",
            "size": 30
           },
           "type": "scatter",
           "x": [
            20,
            30,
            40,
            50,
            60,
            70,
            80,
            90,
            100
           ],
           "y": [
            5,
            5,
            5,
            5,
            5,
            5,
            5,
            5,
            5
           ]
          },
          {
           "hoverinfo": "none",
           "mode": "text",
           "showlegend": false,
           "text": [
            "10",
            "20",
            "30",
            "40",
            "50",
            "40",
            "30",
            "20",
            "10"
           ],
           "textfont": {
            "color": "#ffffff",
            "family": "Courier New, monospace",
            "size": 30
           },
           "type": "scatter",
           "x": [
            20,
            30,
            40,
            50,
            60,
            70,
            80,
            90,
            100
           ],
           "y": [
            48.5,
            48.5,
            48.5,
            48.5,
            48.5,
            48.5,
            48.5,
            48.5,
            48.5
           ]
          },
          {
           "hoverinfo": "none",
           "line": {
            "color": "blue",
            "dash": "dash"
           },
           "showlegend": false,
           "type": "scatter",
           "x": [
            76,
            76
           ],
           "y": [
            0,
            53.5
           ]
          },
          {
           "hoverinfo": "none",
           "line": {
            "color": "yellow",
            "dash": "dash"
           },
           "showlegend": false,
           "type": "scatter",
           "x": [
            82,
            82
           ],
           "y": [
            0,
            53.5
           ]
          },
          {
           "hoverinfo": "text",
           "hovertext": [
            "nflId:35441.0<br>displayName:Ndamukong Suh<br>Position:LILB<br>Role:Pass Rush",
            "nflId:35454.0<br>displayName:Jason Pierre-Paul<br>Position:REO<br>Role:Pass Rush",
            "nflId:38588.0<br>displayName:Lavonte David<br>Position:RILB<br>Role:Pass Rush",
            "nflId:41915.0<br>displayName:Shaquil Barrett<br>Position:SCBiL<br>Role:Coverage",
            "nflId:46081.0<br>displayName:Vita Vea<br>Position:DRT<br>Role:Pass Rush",
            "nflId:46132.0<br>displayName:Carlton Davis<br>Position:LCB<br>Role:Coverage",
            "nflId:47788.0<br>displayName:Devin White<br>Position:LILB<br>Role:Coverage",
            "nflId:47822.0<br>displayName:Sean Murphy-Bunting<br>Position:SCBiL<br>Role:Coverage",
            "nflId:47877.0<br>displayName:Jamel Dean<br>Position:RCB<br>Role:Coverage",
            "nflId:47882.0<br>displayName:Mike Edwards<br>Position:SSR<br>Role:Coverage",
            "nflId:52453.0<br>displayName:Antoine Winfield<br>Position:FS<br>Role:Coverage"
           ],
           "marker": {
            "color": "#D50A0A"
           },
           "mode": "markers",
           "name": "TB",
           "type": "scatter",
           "x": [
            79.12,
            80.23,
            79.95,
            74.81,
            79.96,
            62,
            70.8,
            61.31,
            65.37,
            68.56,
            60.95
           ],
           "y": [
            28.14,
            25.12,
            25.33,
            39.51,
            26.19,
            41.6,
            27.43,
            36.59,
            12.57,
            16.97,
            27.3
           ]
          },
          {
           "hoverinfo": "text",
           "hovertext": [
            "nflId:37082.0<br>displayName:Tyron Smith<br>Position:LT<br>Role:Pass Block",
            "nflId:42347.0<br>displayName:Amari Cooper<br>Position:RWR<br>Role:Pass Route",
            "nflId:42654.0<br>displayName:La'el Collins<br>Position:RT<br>Role:Pass Block",
            "nflId:43424.0<br>displayName:Dak Prescott<br>Position:QB<br>Role:Pass",
            "nflId:45532.0<br>displayName:Blake Jarwin<br>Position:SRoWR<br>Role:Pass Route",
            "nflId:46119.0<br>displayName:Connor Williams<br>Position:LG<br>Role:Pass Block",
            "nflId:46150.0<br>displayName:Michael Gallup<br>Position:LWR<br>Role:Pass Route",
            "nflId:46206.0<br>displayName:Dalton Schultz<br>Position:SRiWR<br>Role:Pass Route",
            "nflId:47873.0<br>displayName:Connor McGovern<br>Position:RG<br>Role:Pass Block",
            "nflId:52425.0<br>displayName:CeeDee Lamb<br>Position:HB-R<br>Role:Pass Route",
            "nflId:52554.0<br>displayName:Tyler Biadasz<br>Position:C<br>Role:Pass Block"
           ],
           "marker": {
            "color": "#003594"
           },
           "mode": "markers",
           "name": "DAL",
           "type": "scatter",
           "x": [
            80.8,
            67.31,
            80.88,
            83.95,
            70.42,
            80.95,
            67.68,
            70.96,
            80.46,
            76.49,
            81.05
           ],
           "y": [
            24.51,
            37.01,
            29.6,
            26.48,
            36.07,
            25.92,
            13.79,
            29.2,
            28.01,
            42.22,
            27.29
           ]
          },
          {
           "hoverinfo": "none",
           "marker": {
            "color": "#CBB67C"
           },
           "mode": "markers",
           "name": "football",
           "type": "scatter",
           "x": [
            77.4
           ],
           "y": [
            28.56
           ]
          }
         ],
         "name": "30"
        },
        {
         "data": [
          {
           "hoverinfo": "none",
           "mode": "text",
           "showlegend": false,
           "text": [
            "10",
            "20",
            "30",
            "40",
            "50",
            "40",
            "30",
            "20",
            "10"
           ],
           "textfont": {
            "color": "#ffffff",
            "family": "Courier New, monospace",
            "size": 30
           },
           "type": "scatter",
           "x": [
            20,
            30,
            40,
            50,
            60,
            70,
            80,
            90,
            100
           ],
           "y": [
            5,
            5,
            5,
            5,
            5,
            5,
            5,
            5,
            5
           ]
          },
          {
           "hoverinfo": "none",
           "mode": "text",
           "showlegend": false,
           "text": [
            "10",
            "20",
            "30",
            "40",
            "50",
            "40",
            "30",
            "20",
            "10"
           ],
           "textfont": {
            "color": "#ffffff",
            "family": "Courier New, monospace",
            "size": 30
           },
           "type": "scatter",
           "x": [
            20,
            30,
            40,
            50,
            60,
            70,
            80,
            90,
            100
           ],
           "y": [
            48.5,
            48.5,
            48.5,
            48.5,
            48.5,
            48.5,
            48.5,
            48.5,
            48.5
           ]
          },
          {
           "hoverinfo": "none",
           "line": {
            "color": "blue",
            "dash": "dash"
           },
           "showlegend": false,
           "type": "scatter",
           "x": [
            76,
            76
           ],
           "y": [
            0,
            53.5
           ]
          },
          {
           "hoverinfo": "none",
           "line": {
            "color": "yellow",
            "dash": "dash"
           },
           "showlegend": false,
           "type": "scatter",
           "x": [
            82,
            82
           ],
           "y": [
            0,
            53.5
           ]
          },
          {
           "hoverinfo": "text",
           "hovertext": [
            "nflId:35441.0<br>displayName:Ndamukong Suh<br>Position:LILB<br>Role:Pass Rush",
            "nflId:35454.0<br>displayName:Jason Pierre-Paul<br>Position:REO<br>Role:Pass Rush",
            "nflId:38588.0<br>displayName:Lavonte David<br>Position:RILB<br>Role:Pass Rush",
            "nflId:41915.0<br>displayName:Shaquil Barrett<br>Position:SCBiL<br>Role:Coverage",
            "nflId:46081.0<br>displayName:Vita Vea<br>Position:DRT<br>Role:Pass Rush",
            "nflId:46132.0<br>displayName:Carlton Davis<br>Position:LCB<br>Role:Coverage",
            "nflId:47788.0<br>displayName:Devin White<br>Position:LILB<br>Role:Coverage",
            "nflId:47822.0<br>displayName:Sean Murphy-Bunting<br>Position:SCBiL<br>Role:Coverage",
            "nflId:47877.0<br>displayName:Jamel Dean<br>Position:RCB<br>Role:Coverage",
            "nflId:47882.0<br>displayName:Mike Edwards<br>Position:SSR<br>Role:Coverage",
            "nflId:52453.0<br>displayName:Antoine Winfield<br>Position:FS<br>Role:Coverage"
           ],
           "marker": {
            "color": "#D50A0A"
           },
           "mode": "markers",
           "name": "TB",
           "type": "scatter",
           "x": [
            78.98,
            80.34,
            80.05,
            74.68,
            80.1,
            61.65,
            70.74,
            60.77,
            65.07,
            68.28,
            60.76
           ],
           "y": [
            28.07,
            25.14,
            25.3,
            40.03,
            26.25,
            41.65,
            27.66,
            36.55,
            12.97,
            17.06,
            27.34
           ]
          },
          {
           "hoverinfo": "text",
           "hovertext": [
            "nflId:37082.0<br>displayName:Tyron Smith<br>Position:LT<br>Role:Pass Block",
            "nflId:42347.0<br>displayName:Amari Cooper<br>Position:RWR<br>Role:Pass Route",
            "nflId:42654.0<br>displayName:La'el Collins<br>Position:RT<br>Role:Pass Block",
            "nflId:43424.0<br>displayName:Dak Prescott<br>Position:QB<br>Role:Pass",
            "nflId:45532.0<br>displayName:Blake Jarwin<br>Position:SRoWR<br>Role:Pass Route",
            "nflId:46119.0<br>displayName:Connor Williams<br>Position:LG<br>Role:Pass Block",
            "nflId:46150.0<br>displayName:Michael Gallup<br>Position:LWR<br>Role:Pass Route",
            "nflId:46206.0<br>displayName:Dalton Schultz<br>Position:SRiWR<br>Role:Pass Route",
            "nflId:47873.0<br>displayName:Connor McGovern<br>Position:RG<br>Role:Pass Block",
            "nflId:52425.0<br>displayName:CeeDee Lamb<br>Position:HB-R<br>Role:Pass Route",
            "nflId:52554.0<br>displayName:Tyler Biadasz<br>Position:C<br>Role:Pass Block"
           ],
           "marker": {
            "color": "#003594"
           },
           "mode": "markers",
           "name": "DAL",
           "type": "scatter",
           "x": [
            80.92,
            66.8,
            81.01,
            83.93,
            70.28,
            81.05,
            67.28,
            71.02,
            80.4,
            76.35,
            81.07
           ],
           "y": [
            24.63,
            36.75,
            29.66,
            26.51,
            35.96,
            25.94,
            14.3,
            29.41,
            27.97,
            42.85,
            27.26
           ]
          },
          {
           "hoverinfo": "none",
           "marker": {
            "color": "#CBB67C"
           },
           "mode": "markers",
           "name": "football",
           "type": "scatter",
           "x": [
            75.11
           ],
           "y": [
            29.19
           ]
          }
         ],
         "name": "31"
        }
       ],
       "layout": {
        "annotations": [
         {
          "align": "center",
          "bgcolor": "#ff7f0e",
          "bordercolor": "black",
          "borderpad": 4,
          "borderwidth": 2,
          "font": {
           "color": "black",
           "family": "Courier New, monospace",
           "size": 16
          },
          "opacity": 1,
          "showarrow": false,
          "text": "2",
          "x": 82,
          "y": 0
         },
         {
          "align": "center",
          "bgcolor": "#ff7f0e",
          "bordercolor": "black",
          "borderpad": 4,
          "borderwidth": 2,
          "font": {
           "color": "black",
           "family": "Courier New, monospace",
           "size": 16
          },
          "opacity": 1,
          "showarrow": false,
          "text": "2",
          "x": 82,
          "y": 53
         }
        ],
        "autosize": false,
        "height": 600,
        "plot_bgcolor": "#00B140",
        "sliders": [
         {
          "active": 0,
          "currentvalue": {
           "font": {
            "size": 20
           },
           "prefix": "Frame:",
           "visible": true,
           "xanchor": "right"
          },
          "len": 0.9,
          "pad": {
           "b": 10,
           "t": 50
          },
          "steps": [
           {
            "args": [
             [
              1
             ],
             {
              "frame": {
               "duration": 100,
               "redraw": false
              },
              "mode": "immediate",
              "transition": {
               "duration": 0
              }
             }
            ],
            "label": "1",
            "method": "animate"
           },
           {
            "args": [
             [
              2
             ],
             {
              "frame": {
               "duration": 100,
               "redraw": false
              },
              "mode": "immediate",
              "transition": {
               "duration": 0
              }
             }
            ],
            "label": "2",
            "method": "animate"
           },
           {
            "args": [
             [
              3
             ],
             {
              "frame": {
               "duration": 100,
               "redraw": false
              },
              "mode": "immediate",
              "transition": {
               "duration": 0
              }
             }
            ],
            "label": "3",
            "method": "animate"
           },
           {
            "args": [
             [
              4
             ],
             {
              "frame": {
               "duration": 100,
               "redraw": false
              },
              "mode": "immediate",
              "transition": {
               "duration": 0
              }
             }
            ],
            "label": "4",
            "method": "animate"
           },
           {
            "args": [
             [
              5
             ],
             {
              "frame": {
               "duration": 100,
               "redraw": false
              },
              "mode": "immediate",
              "transition": {
               "duration": 0
              }
             }
            ],
            "label": "5",
            "method": "animate"
           },
           {
            "args": [
             [
              6
             ],
             {
              "frame": {
               "duration": 100,
               "redraw": false
              },
              "mode": "immediate",
              "transition": {
               "duration": 0
              }
             }
            ],
            "label": "6",
            "method": "animate"
           },
           {
            "args": [
             [
              7
             ],
             {
              "frame": {
               "duration": 100,
               "redraw": false
              },
              "mode": "immediate",
              "transition": {
               "duration": 0
              }
             }
            ],
            "label": "7",
            "method": "animate"
           },
           {
            "args": [
             [
              8
             ],
             {
              "frame": {
               "duration": 100,
               "redraw": false
              },
              "mode": "immediate",
              "transition": {
               "duration": 0
              }
             }
            ],
            "label": "8",
            "method": "animate"
           },
           {
            "args": [
             [
              9
             ],
             {
              "frame": {
               "duration": 100,
               "redraw": false
              },
              "mode": "immediate",
              "transition": {
               "duration": 0
              }
             }
            ],
            "label": "9",
            "method": "animate"
           },
           {
            "args": [
             [
              10
             ],
             {
              "frame": {
               "duration": 100,
               "redraw": false
              },
              "mode": "immediate",
              "transition": {
               "duration": 0
              }
             }
            ],
            "label": "10",
            "method": "animate"
           },
           {
            "args": [
             [
              11
             ],
             {
              "frame": {
               "duration": 100,
               "redraw": false
              },
              "mode": "immediate",
              "transition": {
               "duration": 0
              }
             }
            ],
            "label": "11",
            "method": "animate"
           },
           {
            "args": [
             [
              12
             ],
             {
              "frame": {
               "duration": 100,
               "redraw": false
              },
              "mode": "immediate",
              "transition": {
               "duration": 0
              }
             }
            ],
            "label": "12",
            "method": "animate"
           },
           {
            "args": [
             [
              13
             ],
             {
              "frame": {
               "duration": 100,
               "redraw": false
              },
              "mode": "immediate",
              "transition": {
               "duration": 0
              }
             }
            ],
            "label": "13",
            "method": "animate"
           },
           {
            "args": [
             [
              14
             ],
             {
              "frame": {
               "duration": 100,
               "redraw": false
              },
              "mode": "immediate",
              "transition": {
               "duration": 0
              }
             }
            ],
            "label": "14",
            "method": "animate"
           },
           {
            "args": [
             [
              15
             ],
             {
              "frame": {
               "duration": 100,
               "redraw": false
              },
              "mode": "immediate",
              "transition": {
               "duration": 0
              }
             }
            ],
            "label": "15",
            "method": "animate"
           },
           {
            "args": [
             [
              16
             ],
             {
              "frame": {
               "duration": 100,
               "redraw": false
              },
              "mode": "immediate",
              "transition": {
               "duration": 0
              }
             }
            ],
            "label": "16",
            "method": "animate"
           },
           {
            "args": [
             [
              17
             ],
             {
              "frame": {
               "duration": 100,
               "redraw": false
              },
              "mode": "immediate",
              "transition": {
               "duration": 0
              }
             }
            ],
            "label": "17",
            "method": "animate"
           },
           {
            "args": [
             [
              18
             ],
             {
              "frame": {
               "duration": 100,
               "redraw": false
              },
              "mode": "immediate",
              "transition": {
               "duration": 0
              }
             }
            ],
            "label": "18",
            "method": "animate"
           },
           {
            "args": [
             [
              19
             ],
             {
              "frame": {
               "duration": 100,
               "redraw": false
              },
              "mode": "immediate",
              "transition": {
               "duration": 0
              }
             }
            ],
            "label": "19",
            "method": "animate"
           },
           {
            "args": [
             [
              20
             ],
             {
              "frame": {
               "duration": 100,
               "redraw": false
              },
              "mode": "immediate",
              "transition": {
               "duration": 0
              }
             }
            ],
            "label": "20",
            "method": "animate"
           },
           {
            "args": [
             [
              21
             ],
             {
              "frame": {
               "duration": 100,
               "redraw": false
              },
              "mode": "immediate",
              "transition": {
               "duration": 0
              }
             }
            ],
            "label": "21",
            "method": "animate"
           },
           {
            "args": [
             [
              22
             ],
             {
              "frame": {
               "duration": 100,
               "redraw": false
              },
              "mode": "immediate",
              "transition": {
               "duration": 0
              }
             }
            ],
            "label": "22",
            "method": "animate"
           },
           {
            "args": [
             [
              23
             ],
             {
              "frame": {
               "duration": 100,
               "redraw": false
              },
              "mode": "immediate",
              "transition": {
               "duration": 0
              }
             }
            ],
            "label": "23",
            "method": "animate"
           },
           {
            "args": [
             [
              24
             ],
             {
              "frame": {
               "duration": 100,
               "redraw": false
              },
              "mode": "immediate",
              "transition": {
               "duration": 0
              }
             }
            ],
            "label": "24",
            "method": "animate"
           },
           {
            "args": [
             [
              25
             ],
             {
              "frame": {
               "duration": 100,
               "redraw": false
              },
              "mode": "immediate",
              "transition": {
               "duration": 0
              }
             }
            ],
            "label": "25",
            "method": "animate"
           },
           {
            "args": [
             [
              26
             ],
             {
              "frame": {
               "duration": 100,
               "redraw": false
              },
              "mode": "immediate",
              "transition": {
               "duration": 0
              }
             }
            ],
            "label": "26",
            "method": "animate"
           },
           {
            "args": [
             [
              27
             ],
             {
              "frame": {
               "duration": 100,
               "redraw": false
              },
              "mode": "immediate",
              "transition": {
               "duration": 0
              }
             }
            ],
            "label": "27",
            "method": "animate"
           },
           {
            "args": [
             [
              28
             ],
             {
              "frame": {
               "duration": 100,
               "redraw": false
              },
              "mode": "immediate",
              "transition": {
               "duration": 0
              }
             }
            ],
            "label": "28",
            "method": "animate"
           },
           {
            "args": [
             [
              29
             ],
             {
              "frame": {
               "duration": 100,
               "redraw": false
              },
              "mode": "immediate",
              "transition": {
               "duration": 0
              }
             }
            ],
            "label": "29",
            "method": "animate"
           },
           {
            "args": [
             [
              30
             ],
             {
              "frame": {
               "duration": 100,
               "redraw": false
              },
              "mode": "immediate",
              "transition": {
               "duration": 0
              }
             }
            ],
            "label": "30",
            "method": "animate"
           },
           {
            "args": [
             [
              31
             ],
             {
              "frame": {
               "duration": 100,
               "redraw": false
              },
              "mode": "immediate",
              "transition": {
               "duration": 0
              }
             }
            ],
            "label": "31",
            "method": "animate"
           }
          ],
          "transition": {
           "duration": 300,
           "easing": "cubic-in-out"
          },
          "x": 0.1,
          "xanchor": "left",
          "y": 0,
          "yanchor": "top"
         }
        ],
        "template": {
         "data": {
          "bar": [
           {
            "error_x": {
             "color": "#2a3f5f"
            },
            "error_y": {
             "color": "#2a3f5f"
            },
            "marker": {
             "line": {
              "color": "#E5ECF6",
              "width": 0.5
             },
             "pattern": {
              "fillmode": "overlay",
              "size": 10,
              "solidity": 0.2
             }
            },
            "type": "bar"
           }
          ],
          "barpolar": [
           {
            "marker": {
             "line": {
              "color": "#E5ECF6",
              "width": 0.5
             },
             "pattern": {
              "fillmode": "overlay",
              "size": 10,
              "solidity": 0.2
             }
            },
            "type": "barpolar"
           }
          ],
          "carpet": [
           {
            "aaxis": {
             "endlinecolor": "#2a3f5f",
             "gridcolor": "white",
             "linecolor": "white",
             "minorgridcolor": "white",
             "startlinecolor": "#2a3f5f"
            },
            "baxis": {
             "endlinecolor": "#2a3f5f",
             "gridcolor": "white",
             "linecolor": "white",
             "minorgridcolor": "white",
             "startlinecolor": "#2a3f5f"
            },
            "type": "carpet"
           }
          ],
          "choropleth": [
           {
            "colorbar": {
             "outlinewidth": 0,
             "ticks": ""
            },
            "type": "choropleth"
           }
          ],
          "contour": [
           {
            "colorbar": {
             "outlinewidth": 0,
             "ticks": ""
            },
            "colorscale": [
             [
              0,
              "#0d0887"
             ],
             [
              0.1111111111111111,
              "#46039f"
             ],
             [
              0.2222222222222222,
              "#7201a8"
             ],
             [
              0.3333333333333333,
              "#9c179e"
             ],
             [
              0.4444444444444444,
              "#bd3786"
             ],
             [
              0.5555555555555556,
              "#d8576b"
             ],
             [
              0.6666666666666666,
              "#ed7953"
             ],
             [
              0.7777777777777778,
              "#fb9f3a"
             ],
             [
              0.8888888888888888,
              "#fdca26"
             ],
             [
              1,
              "#f0f921"
             ]
            ],
            "type": "contour"
           }
          ],
          "contourcarpet": [
           {
            "colorbar": {
             "outlinewidth": 0,
             "ticks": ""
            },
            "type": "contourcarpet"
           }
          ],
          "heatmap": [
           {
            "colorbar": {
             "outlinewidth": 0,
             "ticks": ""
            },
            "colorscale": [
             [
              0,
              "#0d0887"
             ],
             [
              0.1111111111111111,
              "#46039f"
             ],
             [
              0.2222222222222222,
              "#7201a8"
             ],
             [
              0.3333333333333333,
              "#9c179e"
             ],
             [
              0.4444444444444444,
              "#bd3786"
             ],
             [
              0.5555555555555556,
              "#d8576b"
             ],
             [
              0.6666666666666666,
              "#ed7953"
             ],
             [
              0.7777777777777778,
              "#fb9f3a"
             ],
             [
              0.8888888888888888,
              "#fdca26"
             ],
             [
              1,
              "#f0f921"
             ]
            ],
            "type": "heatmap"
           }
          ],
          "heatmapgl": [
           {
            "colorbar": {
             "outlinewidth": 0,
             "ticks": ""
            },
            "colorscale": [
             [
              0,
              "#0d0887"
             ],
             [
              0.1111111111111111,
              "#46039f"
             ],
             [
              0.2222222222222222,
              "#7201a8"
             ],
             [
              0.3333333333333333,
              "#9c179e"
             ],
             [
              0.4444444444444444,
              "#bd3786"
             ],
             [
              0.5555555555555556,
              "#d8576b"
             ],
             [
              0.6666666666666666,
              "#ed7953"
             ],
             [
              0.7777777777777778,
              "#fb9f3a"
             ],
             [
              0.8888888888888888,
              "#fdca26"
             ],
             [
              1,
              "#f0f921"
             ]
            ],
            "type": "heatmapgl"
           }
          ],
          "histogram": [
           {
            "marker": {
             "pattern": {
              "fillmode": "overlay",
              "size": 10,
              "solidity": 0.2
             }
            },
            "type": "histogram"
           }
          ],
          "histogram2d": [
           {
            "colorbar": {
             "outlinewidth": 0,
             "ticks": ""
            },
            "colorscale": [
             [
              0,
              "#0d0887"
             ],
             [
              0.1111111111111111,
              "#46039f"
             ],
             [
              0.2222222222222222,
              "#7201a8"
             ],
             [
              0.3333333333333333,
              "#9c179e"
             ],
             [
              0.4444444444444444,
              "#bd3786"
             ],
             [
              0.5555555555555556,
              "#d8576b"
             ],
             [
              0.6666666666666666,
              "#ed7953"
             ],
             [
              0.7777777777777778,
              "#fb9f3a"
             ],
             [
              0.8888888888888888,
              "#fdca26"
             ],
             [
              1,
              "#f0f921"
             ]
            ],
            "type": "histogram2d"
           }
          ],
          "histogram2dcontour": [
           {
            "colorbar": {
             "outlinewidth": 0,
             "ticks": ""
            },
            "colorscale": [
             [
              0,
              "#0d0887"
             ],
             [
              0.1111111111111111,
              "#46039f"
             ],
             [
              0.2222222222222222,
              "#7201a8"
             ],
             [
              0.3333333333333333,
              "#9c179e"
             ],
             [
              0.4444444444444444,
              "#bd3786"
             ],
             [
              0.5555555555555556,
              "#d8576b"
             ],
             [
              0.6666666666666666,
              "#ed7953"
             ],
             [
              0.7777777777777778,
              "#fb9f3a"
             ],
             [
              0.8888888888888888,
              "#fdca26"
             ],
             [
              1,
              "#f0f921"
             ]
            ],
            "type": "histogram2dcontour"
           }
          ],
          "mesh3d": [
           {
            "colorbar": {
             "outlinewidth": 0,
             "ticks": ""
            },
            "type": "mesh3d"
           }
          ],
          "parcoords": [
           {
            "line": {
             "colorbar": {
              "outlinewidth": 0,
              "ticks": ""
             }
            },
            "type": "parcoords"
           }
          ],
          "pie": [
           {
            "automargin": true,
            "type": "pie"
           }
          ],
          "scatter": [
           {
            "fillpattern": {
             "fillmode": "overlay",
             "size": 10,
             "solidity": 0.2
            },
            "type": "scatter"
           }
          ],
          "scatter3d": [
           {
            "line": {
             "colorbar": {
              "outlinewidth": 0,
              "ticks": ""
             }
            },
            "marker": {
             "colorbar": {
              "outlinewidth": 0,
              "ticks": ""
             }
            },
            "type": "scatter3d"
           }
          ],
          "scattercarpet": [
           {
            "marker": {
             "colorbar": {
              "outlinewidth": 0,
              "ticks": ""
             }
            },
            "type": "scattercarpet"
           }
          ],
          "scattergeo": [
           {
            "marker": {
             "colorbar": {
              "outlinewidth": 0,
              "ticks": ""
             }
            },
            "type": "scattergeo"
           }
          ],
          "scattergl": [
           {
            "marker": {
             "colorbar": {
              "outlinewidth": 0,
              "ticks": ""
             }
            },
            "type": "scattergl"
           }
          ],
          "scattermapbox": [
           {
            "marker": {
             "colorbar": {
              "outlinewidth": 0,
              "ticks": ""
             }
            },
            "type": "scattermapbox"
           }
          ],
          "scatterpolar": [
           {
            "marker": {
             "colorbar": {
              "outlinewidth": 0,
              "ticks": ""
             }
            },
            "type": "scatterpolar"
           }
          ],
          "scatterpolargl": [
           {
            "marker": {
             "colorbar": {
              "outlinewidth": 0,
              "ticks": ""
             }
            },
            "type": "scatterpolargl"
           }
          ],
          "scatterternary": [
           {
            "marker": {
             "colorbar": {
              "outlinewidth": 0,
              "ticks": ""
             }
            },
            "type": "scatterternary"
           }
          ],
          "surface": [
           {
            "colorbar": {
             "outlinewidth": 0,
             "ticks": ""
            },
            "colorscale": [
             [
              0,
              "#0d0887"
             ],
             [
              0.1111111111111111,
              "#46039f"
             ],
             [
              0.2222222222222222,
              "#7201a8"
             ],
             [
              0.3333333333333333,
              "#9c179e"
             ],
             [
              0.4444444444444444,
              "#bd3786"
             ],
             [
              0.5555555555555556,
              "#d8576b"
             ],
             [
              0.6666666666666666,
              "#ed7953"
             ],
             [
              0.7777777777777778,
              "#fb9f3a"
             ],
             [
              0.8888888888888888,
              "#fdca26"
             ],
             [
              1,
              "#f0f921"
             ]
            ],
            "type": "surface"
           }
          ],
          "table": [
           {
            "cells": {
             "fill": {
              "color": "#EBF0F8"
             },
             "line": {
              "color": "white"
             }
            },
            "header": {
             "fill": {
              "color": "#C8D4E3"
             },
             "line": {
              "color": "white"
             }
            },
            "type": "table"
           }
          ]
         },
         "layout": {
          "annotationdefaults": {
           "arrowcolor": "#2a3f5f",
           "arrowhead": 0,
           "arrowwidth": 1
          },
          "autotypenumbers": "strict",
          "coloraxis": {
           "colorbar": {
            "outlinewidth": 0,
            "ticks": ""
           }
          },
          "colorscale": {
           "diverging": [
            [
             0,
             "#8e0152"
            ],
            [
             0.1,
             "#c51b7d"
            ],
            [
             0.2,
             "#de77ae"
            ],
            [
             0.3,
             "#f1b6da"
            ],
            [
             0.4,
             "#fde0ef"
            ],
            [
             0.5,
             "#f7f7f7"
            ],
            [
             0.6,
             "#e6f5d0"
            ],
            [
             0.7,
             "#b8e186"
            ],
            [
             0.8,
             "#7fbc41"
            ],
            [
             0.9,
             "#4d9221"
            ],
            [
             1,
             "#276419"
            ]
           ],
           "sequential": [
            [
             0,
             "#0d0887"
            ],
            [
             0.1111111111111111,
             "#46039f"
            ],
            [
             0.2222222222222222,
             "#7201a8"
            ],
            [
             0.3333333333333333,
             "#9c179e"
            ],
            [
             0.4444444444444444,
             "#bd3786"
            ],
            [
             0.5555555555555556,
             "#d8576b"
            ],
            [
             0.6666666666666666,
             "#ed7953"
            ],
            [
             0.7777777777777778,
             "#fb9f3a"
            ],
            [
             0.8888888888888888,
             "#fdca26"
            ],
            [
             1,
             "#f0f921"
            ]
           ],
           "sequentialminus": [
            [
             0,
             "#0d0887"
            ],
            [
             0.1111111111111111,
             "#46039f"
            ],
            [
             0.2222222222222222,
             "#7201a8"
            ],
            [
             0.3333333333333333,
             "#9c179e"
            ],
            [
             0.4444444444444444,
             "#bd3786"
            ],
            [
             0.5555555555555556,
             "#d8576b"
            ],
            [
             0.6666666666666666,
             "#ed7953"
            ],
            [
             0.7777777777777778,
             "#fb9f3a"
            ],
            [
             0.8888888888888888,
             "#fdca26"
            ],
            [
             1,
             "#f0f921"
            ]
           ]
          },
          "colorway": [
           "#636efa",
           "#EF553B",
           "#00cc96",
           "#ab63fa",
           "#FFA15A",
           "#19d3f3",
           "#FF6692",
           "#B6E880",
           "#FF97FF",
           "#FECB52"
          ],
          "font": {
           "color": "#2a3f5f"
          },
          "geo": {
           "bgcolor": "white",
           "lakecolor": "white",
           "landcolor": "#E5ECF6",
           "showlakes": true,
           "showland": true,
           "subunitcolor": "white"
          },
          "hoverlabel": {
           "align": "left"
          },
          "hovermode": "closest",
          "mapbox": {
           "style": "light"
          },
          "paper_bgcolor": "white",
          "plot_bgcolor": "#E5ECF6",
          "polar": {
           "angularaxis": {
            "gridcolor": "white",
            "linecolor": "white",
            "ticks": ""
           },
           "bgcolor": "#E5ECF6",
           "radialaxis": {
            "gridcolor": "white",
            "linecolor": "white",
            "ticks": ""
           }
          },
          "scene": {
           "xaxis": {
            "backgroundcolor": "#E5ECF6",
            "gridcolor": "white",
            "gridwidth": 2,
            "linecolor": "white",
            "showbackground": true,
            "ticks": "",
            "zerolinecolor": "white"
           },
           "yaxis": {
            "backgroundcolor": "#E5ECF6",
            "gridcolor": "white",
            "gridwidth": 2,
            "linecolor": "white",
            "showbackground": true,
            "ticks": "",
            "zerolinecolor": "white"
           },
           "zaxis": {
            "backgroundcolor": "#E5ECF6",
            "gridcolor": "white",
            "gridwidth": 2,
            "linecolor": "white",
            "showbackground": true,
            "ticks": "",
            "zerolinecolor": "white"
           }
          },
          "shapedefaults": {
           "line": {
            "color": "#2a3f5f"
           }
          },
          "ternary": {
           "aaxis": {
            "gridcolor": "white",
            "linecolor": "white",
            "ticks": ""
           },
           "baxis": {
            "gridcolor": "white",
            "linecolor": "white",
            "ticks": ""
           },
           "bgcolor": "#E5ECF6",
           "caxis": {
            "gridcolor": "white",
            "linecolor": "white",
            "ticks": ""
           }
          },
          "title": {
           "x": 0.05
          },
          "xaxis": {
           "automargin": true,
           "gridcolor": "white",
           "linecolor": "white",
           "ticks": "",
           "title": {
            "standoff": 15
           },
           "zerolinecolor": "white",
           "zerolinewidth": 2
          },
          "yaxis": {
           "automargin": true,
           "gridcolor": "white",
           "linecolor": "white",
           "ticks": "",
           "title": {
            "standoff": 15
           },
           "zerolinecolor": "white",
           "zerolinewidth": 2
          }
         }
        },
        "title": {
         "text": "GameId: 2021090900, PlayId: 187<br>12:23 1Q<br><br><br><br><br><br><br><br><br><br><br><br><br><br><br><br><br><br><br>(12:23) (Shotgun) D.Prescott pass short middle to D.Schultz to DAL 39 for 5 yards (D.White)."
        },
        "updatemenus": [
         {
          "buttons": [
           {
            "args": [
             null,
             {
              "frame": {
               "duration": 100,
               "redraw": false
              },
              "fromcurrent": true,
              "transition": {
               "duration": 0
              }
             }
            ],
            "label": "Play",
            "method": "animate"
           },
           {
            "args": [
             [
              null
             ],
             {
              "frame": {
               "duration": 0,
               "redraw": false
              },
              "mode": "immediate",
              "transition": {
               "duration": 0
              }
             }
            ],
            "label": "Pause",
            "method": "animate"
           }
          ],
          "direction": "left",
          "pad": {
           "r": 10,
           "t": 87
          },
          "showactive": false,
          "type": "buttons",
          "x": 0.1,
          "xanchor": "right",
          "y": 0,
          "yanchor": "top"
         }
        ],
        "width": 1200,
        "xaxis": {
         "autorange": false,
         "range": [
          0,
          120
         ],
         "showticklabels": false,
         "tickmode": "array",
         "tickvals": [
          10,
          15,
          20,
          25,
          30,
          35,
          40,
          45,
          50,
          55,
          60,
          65,
          70,
          75,
          80,
          85,
          90,
          95,
          100,
          105,
          110
         ]
        },
        "yaxis": {
         "autorange": false,
         "range": [
          0,
          53.3
         ],
         "showgrid": false,
         "showticklabels": false
        }
       }
      }
     },
     "metadata": {},
     "output_type": "display_data"
    }
   ],
   "source": [
    "animate_play(week1, plays, players, pffScoutingData, 2021090900,playId_num).show()"
   ]
  },
  {
   "cell_type": "markdown",
   "metadata": {},
   "source": [
    "### Matchup Adjustments"
   ]
  },
  {
   "cell_type": "markdown",
   "metadata": {},
   "source": [
    "#### Function - when blockers and passers are equal"
   ]
  },
  {
   "cell_type": "code",
   "execution_count": 18,
   "metadata": {},
   "outputs": [],
   "source": [
    "def equal_blockers_passers(o_line_df, d_line_df, matchup_framId_num, playId_num):\n",
    "    \n",
    "    o_line_frame_20_df = o_line_df[(o_line_df['frameId'] == matchup_framId_num)&(o_line_df['playId'] == playId_num)]\n",
    "    d_line_frame_20_df = d_line_df[(d_line_df['frameId'] == matchup_framId_num)&(d_line_df['playId'] == playId_num)]\n",
    "\n",
    "    o_line_frame_20_df = o_line_frame_20_df.sort_values(by=['playId', 'y']).reset_index(drop=True)\n",
    "    d_line_frame_20_df = d_line_frame_20_df.sort_values(by=['playId', 'y']).reset_index(drop=True)\n",
    "\n",
    "    matchup_adj = pd.concat([o_line_frame_20_df, d_line_frame_20_df], axis=1)\n",
    "    matchup_adj['adj_BlockedPlayer'] = matchup_adj.iloc[:,8]\n",
    "\n",
    "    return matchup_adj"
   ]
  },
  {
   "cell_type": "markdown",
   "metadata": {},
   "source": [
    "#### Function - when more blockers than rushers are equal"
   ]
  },
  {
   "cell_type": "code",
   "execution_count": 19,
   "metadata": {},
   "outputs": [],
   "source": [
    "def more_blockers_passers(o_line_df, d_line_df, matchup_framId_num, playId_num):\n",
    "    \n",
    "    o_line_frame_20_df = o_line_df[(o_line_df['frameId'] == matchup_framId_num)&(o_line_df['playId'] == playId_num)]\n",
    "    d_line_frame_20_df = d_line_df[(d_line_df['frameId'] == matchup_framId_num)&(d_line_df['playId'] == playId_num)]\n",
    "\n",
    "    o_line_frame_20_df = o_line_frame_20_df.sort_values(by=['playId', 'y']).reset_index(drop=True)\n",
    "    d_line_frame_20_df = d_line_frame_20_df.sort_values(by=['playId', 'y']).reset_index(drop=True)\n",
    "\n",
    "    matchup_adj = pd.concat([o_line_frame_20_df, d_line_frame_20_df], axis=1)\n",
    "    matchup_adj = o_line_frame_20_df.merge(d_line_frame_20_df, how='cross', suffixes=['_off', '_def'])\n",
    "    matchup_adj['delta'] = abs(matchup_adj['y_off'] - matchup_adj['y_def'])\n",
    "\n",
    "    matchup_adj = matchup_adj.sort_values(by=['displayName_off', 'delta'], inplace=False)\n",
    "    matchup_adj.sort_values(by=['delta'], inplace=True)\n",
    "    matchup_adj['adj_BlockedPlayer'] = matchup_adj.iloc[:,8]\n",
    "\n",
    "    matchup_adj.reset_index(drop=True, inplace=True)\n",
    "    matchup_adj = match_rushers_blockers(matchup_adj, num_blockers, num_rushers)\n",
    "    \n",
    "    return matchup_adj"
   ]
  },
  {
   "cell_type": "markdown",
   "metadata": {},
   "source": [
    "##### Function - uses df returned from the function above to match rushers to blockers"
   ]
  },
  {
   "cell_type": "code",
   "execution_count": 20,
   "metadata": {},
   "outputs": [],
   "source": [
    "def match_rushers_blockers(matchup_adj, num_blockers, num_rushers):\n",
    "\n",
    "    idx_list = []\n",
    "    o_list = []\n",
    "    d_list = []\n",
    "\n",
    "    if num_blockers > num_rushers:\n",
    "        num = num_rushers\n",
    "    else:\n",
    "        num = num_blockers\n",
    "\n",
    "    for i, row in matchup_adj.iterrows():\n",
    "\n",
    "        if i == 0:\n",
    "            idx_list.append(i)\n",
    "            o_list.append(row.displayName_off)\n",
    "            d_list.append(row.displayName_def)\n",
    "\n",
    "        elif not (row.displayName_off in (o_list) or row.displayName_def in (d_list)):\n",
    "            idx_list.append(i)\n",
    "            o_list.append(row.displayName_off)\n",
    "            d_list.append(row.displayName_def)\n",
    "\n",
    "        if len(o_list) == num:\n",
    "            # print(o_list)\n",
    "            # print(d_list)\n",
    "            # print(idx_list)\n",
    "            break\n",
    "    \n",
    "    # Use idx_list from above to select appropraite match up rows\n",
    "    matchup_adj = matchup_adj.iloc[idx_list]\n",
    "\n",
    "    # Map blockers to rushers\n",
    "    matchup_adj = matchup_adj.iloc[:,[0,-1]]\n",
    "\n",
    "\n",
    "    return matchup_adj"
   ]
  },
  {
   "cell_type": "markdown",
   "metadata": {},
   "source": [
    "### Merge matchup_adj with o-line, d-line & qb data"
   ]
  },
  {
   "cell_type": "markdown",
   "metadata": {},
   "source": [
    "#### Get o_frame_indc"
   ]
  },
  {
   "cell_type": "markdown",
   "metadata": {},
   "source": [
    "##### Function - when blockers equal rushers"
   ]
  },
  {
   "cell_type": "code",
   "execution_count": 21,
   "metadata": {},
   "outputs": [],
   "source": [
    "def check_frameId_max(o_line_df, playId_num, indc_framId_num):\n",
    "    frameId_max = o_line_df[o_line_df['playId'] == playId_num]['frameId'].max()\n",
    "\n",
    "    if frameId_max < indc_framId_num:\n",
    "        indc_framId_num = frameId_max\n",
    "        \n",
    "    return indc_framId_num"
   ]
  },
  {
   "cell_type": "code",
   "execution_count": 22,
   "metadata": {},
   "outputs": [],
   "source": [
    "def o_frame_30_equal(o_line_df, indc_framId_num, playId_num, matchup_adj):\n",
    "\n",
    "    o_frame_30_df = o_line_df[(o_line_df['frameId'] == indc_framId_num)&(o_line_df['playId'] == playId_num)]\n",
    "    # print(o_frame_30_df.columns)\n",
    "    # print('\\n\\n\\n')\n",
    "    \n",
    "    matchup_adj = matchup_adj.iloc[:,[0,-1]]\n",
    "    # print(matchup_adj.head)\n",
    "    o_frame_30_df = o_frame_30_df.merge(matchup_adj, on='nflId', how='left')\n",
    "    return o_frame_30_df"
   ]
  },
  {
   "cell_type": "markdown",
   "metadata": {},
   "source": [
    "##### Function - when blockers > rushers"
   ]
  },
  {
   "cell_type": "code",
   "execution_count": 23,
   "metadata": {},
   "outputs": [],
   "source": [
    "def o_frame_30_more(o_line_df, indc_framId_num, playId_num, matchup_adj):\n",
    "    o_frame_30_df = o_line_df[(o_line_df['frameId'] == indc_framId_num)&(o_line_df['playId'] == playId_num)]\n",
    "    o_frame_30_df = o_frame_30_df.merge(matchup_adj, left_on='nflId', right_on='nflId_off', how='left')\n",
    "    # print(matchup_adj.head)\n",
    "    return o_frame_30_df"
   ]
  },
  {
   "cell_type": "markdown",
   "metadata": {},
   "source": [
    "### Check num blockers vs num rushers"
   ]
  },
  {
   "cell_type": "code",
   "execution_count": 24,
   "metadata": {},
   "outputs": [],
   "source": [
    "def get_o_frame_30(num_blockers, num_rushers, o_line_df, d_line_df, playId_num, matchup_framId_num, indc_framId_num):\n",
    "\n",
    "    if num_blockers == num_rushers:\n",
    "        matchup_adj = equal_blockers_passers(o_line_df, d_line_df, matchup_framId_num, playId_num)\n",
    "        o_frame_30_df = o_frame_30_equal(o_line_df, indc_framId_num, playId_num, matchup_adj)\n",
    "\n",
    "    else:\n",
    "        matchup_adj = more_blockers_passers(o_line_df, d_line_df, matchup_framId_num, playId_num)\n",
    "        o_frame_30_df = o_frame_30_more(o_line_df, indc_framId_num, playId_num, matchup_adj)\n",
    "\n",
    "    return o_frame_30_df"
   ]
  },
  {
   "cell_type": "markdown",
   "metadata": {},
   "source": [
    "#### Get d_frame_indc"
   ]
  },
  {
   "cell_type": "code",
   "execution_count": 25,
   "metadata": {},
   "outputs": [],
   "source": [
    "def get_d_frame_30(d_line_df, playId_num, indc_framId_num):\n",
    "    d_frame_30_df = d_line_df[(d_line_df['frameId'] == indc_framId_num)&(d_line_df['playId'] == playId_num)]\n",
    "    return d_frame_30_df"
   ]
  },
  {
   "cell_type": "markdown",
   "metadata": {},
   "source": [
    "#### Merge o & d line"
   ]
  },
  {
   "cell_type": "code",
   "execution_count": 26,
   "metadata": {},
   "outputs": [],
   "source": [
    "def get_o_d_line_df(o_frame_30_df, d_frame_30_df):\n",
    "    o_d_line_df = o_frame_30_df.merge(d_frame_30_df, how='outer', left_on=['adj_BlockedPlayer', 'playId', 'frameId'], right_on=['nflId', 'playId', 'frameId'], suffixes=['_off', '_def'])\n",
    "    return o_d_line_df"
   ]
  },
  {
   "cell_type": "markdown",
   "metadata": {},
   "source": [
    "#### Get QB data"
   ]
  },
  {
   "cell_type": "code",
   "execution_count": 27,
   "metadata": {},
   "outputs": [],
   "source": [
    "def get_qb_coords(focused_df):\n",
    "    qb_coords = focused_df[focused_df.officialPosition == \"QB\"][['nflId', 'playId', 'x', 'y', 'frameId', 'displayName']]\n",
    "    return qb_coords"
   ]
  },
  {
   "cell_type": "markdown",
   "metadata": {},
   "source": [
    "#### Merge qb data with o & d line"
   ]
  },
  {
   "cell_type": "code",
   "execution_count": 28,
   "metadata": {},
   "outputs": [],
   "source": [
    "def merge_qb_od_data(qb_coords, o_d_line_df):\n",
    "    all_df = qb_coords.merge(o_d_line_df, on=['playId', 'frameId'], how='inner', suffixes=['_qb',''])\n",
    "    return all_df"
   ]
  },
  {
   "cell_type": "markdown",
   "metadata": {},
   "source": [
    "### Get Euclidean Dist."
   ]
  },
  {
   "cell_type": "code",
   "execution_count": 29,
   "metadata": {},
   "outputs": [],
   "source": [
    "def Euclidean_Dist(df, cols=['x', 'y']):\n",
    "\n",
    "    off_array = np.linalg.norm(df[['x', 'y']].values - df[['x_off', 'y_off']].values, axis=1)\n",
    "    def_array = np.linalg.norm(df[['x', 'y']].values - df[['x_def', 'y_def']].values, axis=1)\n",
    "    df[\"off_qb_dist\"] = off_array\n",
    "    df[\"def_qb_dist\"] = def_array\n",
    "\n",
    "    return df"
   ]
  },
  {
   "cell_type": "markdown",
   "metadata": {},
   "source": [
    "### Get blocker - rusher deltas"
   ]
  },
  {
   "cell_type": "code",
   "execution_count": 30,
   "metadata": {},
   "outputs": [],
   "source": [
    "def get_blocker_rusher_deltas(all_df):\n",
    "    all_df['line_diff'] = all_df.off_qb_dist - all_df.def_qb_dist\n",
    "    return all_df"
   ]
  },
  {
   "cell_type": "markdown",
   "metadata": {},
   "source": [
    "### Beat %"
   ]
  },
  {
   "cell_type": "code",
   "execution_count": 31,
   "metadata": {},
   "outputs": [],
   "source": [
    "def get_beat_perc(full_df, full_beat_df):\n",
    "    full_df_gb = full_df.groupby(['gameId', 'displayName_off', 'nflId_off']).size().reset_index(name='counts').sort_values(by='counts', ascending=False)\n",
    "    full_df_beat_gb = full_beat_df.groupby(['displayName_off', 'nflId_off']).size().reset_index(name='counts')\n",
    "\n",
    "    beat_perc_df = full_df_beat_gb.merge(full_df_gb, how='inner', on=['displayName_off', 'nflId_off'])\n",
    "    beat_perc_df['%'] = beat_perc_df.counts_x / beat_perc_df.counts_y *100\n",
    "\n",
    "    return beat_perc_df\n",
    "\n",
    "# print(beat_perc_df)"
   ]
  },
  {
   "cell_type": "markdown",
   "metadata": {},
   "source": [
    "### Score O players"
   ]
  },
  {
   "cell_type": "code",
   "execution_count": 32,
   "metadata": {},
   "outputs": [],
   "source": [
    "def score_o_player(full_df_merge, full_df_beat):    \n",
    "    score_df_list = []\n",
    "    o_player_list = list(full_df_merge.displayName_off.values)\n",
    "\n",
    "    for player in o_player_list:\n",
    "        player_df = full_df_beat[full_df_beat.displayName_off == player].copy()\n",
    "        player_df['x_delta'] = abs(player_df.x - player_df.x_off) - abs(player_df.x - player_df.x_def)\n",
    "        player_df['y_delta'] = abs(player_df.y - player_df.y_off) - abs(player_df.y - player_df.y_def)\n",
    "\n",
    "        player_df['dir'] = \"outside\"\n",
    "        player_df['dir'] = np.where(player_df['x_delta'] < 0, \"inside\", player_df['dir'])\n",
    "\n",
    "        player_df['blockers_delta'] = player_df['num_blockers'] - player_df['num_rushers']\n",
    "        player_df['score'] = player_df['blockers_delta']\n",
    "        player_df['score'] = np.where(player_df['dir'] == 'inside', player_df['score'] + 1, player_df['score'])\n",
    "\n",
    "        player_grade_df = player_df.groupby(['displayName_off'])['score'].sum().reset_index()\n",
    "\n",
    "        # player_df\n",
    "        score_df_list.append(player_grade_df)\n",
    "\n",
    "        score_df = pd.concat(score_df_list, axis=0, ignore_index=True)\n",
    "\n",
    "    return score_df\n",
    "\n",
    "# player_df.head()"
   ]
  },
  {
   "cell_type": "markdown",
   "metadata": {},
   "source": [
    "### Grade O players for the game"
   ]
  },
  {
   "cell_type": "code",
   "execution_count": 33,
   "metadata": {},
   "outputs": [],
   "source": [
    "def grade_o_game(full_df_merge, score_df):\n",
    "    o_grade_book = full_df_merge.merge(score_df, how='inner', on='displayName_off')\n",
    "    o_grade_book[\"grade\"] = 100 - o_grade_book[\"%\"] - (o_grade_book[\"%\"] * (o_grade_book[\"score\"] * 2 / 100))\n",
    "    return o_grade_book"
   ]
  },
  {
   "cell_type": "markdown",
   "metadata": {},
   "source": [
    "### Concat all_df's"
   ]
  },
  {
   "cell_type": "code",
   "execution_count": 34,
   "metadata": {},
   "outputs": [
    {
     "name": "stdout",
     "output_type": "stream",
     "text": [
      "2021090900\n",
      "2021091200\n"
     ]
    }
   ],
   "source": [
    "# gameId_num = 2021090900\n",
    "# playId_num = 187\n",
    "\n",
    "matchup_framId_num = 20\n",
    "indc_framId_num = 30\n",
    "\n",
    "game_df_list = []\n",
    "game_df_beat_list = []\n",
    "o_grade_book_list = []\n",
    "\n",
    "# List of gameIds\n",
    "gameId_list = list(joined_all.gameId.unique())\n",
    "\n",
    "# Iterate through each game, then each play\n",
    "for gameId_num in gameId_list[0:2]:\n",
    "    print(gameId_num)\n",
    "    focused_df = get_focused_df(joined_all, gameId_num)\n",
    "    # print(focused_df.head())\n",
    "\n",
    "    o_line_df, d_line_df = get_od_line_df(focused_df)\n",
    "    # print(d_line_df)\n",
    "\n",
    "    # List of playId\n",
    "    palyId_list = list(o_line_df.playId.unique())\n",
    "\n",
    "    all_df_list = []\n",
    "    for playId_num in palyId_list:\n",
    "        num_blockers, num_rushers = get_num_blockers_rushers(o_line_df, d_line_df, playId_num)\n",
    "\n",
    "        indc_framId_num = check_frameId_max(o_line_df, playId_num, indc_framId_num)\n",
    "\n",
    "        o_frame_30_df = get_o_frame_30(num_blockers, num_rushers, o_line_df, d_line_df, playId_num, matchup_framId_num, indc_framId_num)      \n",
    "        #remove nflId_off\n",
    "        o_frame_30_df.drop(['nflId_off'], axis=1, errors='ignore', inplace=True)\n",
    "\n",
    "        d_frame_30_df = get_d_frame_30(d_line_df, playId_num, indc_framId_num)\n",
    "        o_d_line_df = get_o_d_line_df(o_frame_30_df, d_frame_30_df)\n",
    "\n",
    "        qb_coords = get_qb_coords(focused_df)\n",
    "        all_df = merge_qb_od_data(qb_coords, o_d_line_df)\n",
    "\n",
    "        all_df = Euclidean_Dist(all_df)\n",
    "        all_df = get_blocker_rusher_deltas(all_df)\n",
    "\n",
    "        # add num blockers and rushers\n",
    "        all_df['num_blockers'] = num_blockers\n",
    "        all_df['num_rushers'] = num_rushers\n",
    "\n",
    "        all_df.reset_index(drop=True, inplace=True)\n",
    "        all_df_list.append(all_df)\n",
    "    \n",
    "    game_df = pd.concat(all_df_list, axis=0, ignore_index=True)\n",
    "    game_df[\"gameId\"] = gameId_num\n",
    "    # print(game_df.head())\n",
    "\n",
    "\n",
    "    game_df_beat = game_df[game_df.line_diff > .1].reset_index(drop=True)\n",
    "\n",
    "    beat_perc_df = get_beat_perc(game_df, game_df_beat)\n",
    "    # print(beat_perc_df.head(10))\n",
    "\n",
    "    score_df = score_o_player(beat_perc_df, game_df_beat)\n",
    "    # print(score_df.head(10))\n",
    "\n",
    "    o_grade_book = grade_o_game(beat_perc_df, score_df)\n",
    "\n",
    "    # game_df_list.append(game_df)\n",
    "    # game_df_beat_list.append(game_df_beat)\n",
    "    \n",
    "    o_grade_book_list.append(o_grade_book)\n",
    "\n",
    "    "
   ]
  },
  {
   "cell_type": "code",
   "execution_count": 36,
   "metadata": {},
   "outputs": [
    {
     "data": {
      "text/plain": [
       "Index(['gameId', 'playId', 'nflId', 'frameId', 'time', 'jerseyNumber', 'team',\n",
       "       'playDirection', 'x', 'y', 's', 'a', 'dis', 'o', 'dir', 'event'],\n",
       "      dtype='object')"
      ]
     },
     "execution_count": 36,
     "metadata": {},
     "output_type": "execute_result"
    }
   ],
   "source": [
    "week1.columns"
   ]
  },
  {
   "cell_type": "code",
   "execution_count": 35,
   "metadata": {},
   "outputs": [
    {
     "data": {
      "text/html": [
       "<div>\n",
       "<style scoped>\n",
       "    .dataframe tbody tr th:only-of-type {\n",
       "        vertical-align: middle;\n",
       "    }\n",
       "\n",
       "    .dataframe tbody tr th {\n",
       "        vertical-align: top;\n",
       "    }\n",
       "\n",
       "    .dataframe thead th {\n",
       "        text-align: right;\n",
       "    }\n",
       "</style>\n",
       "<table border=\"1\" class=\"dataframe\">\n",
       "  <thead>\n",
       "    <tr style=\"text-align: right;\">\n",
       "      <th></th>\n",
       "      <th>displayName_off</th>\n",
       "      <th>nflId_off</th>\n",
       "      <th>counts_x</th>\n",
       "      <th>gameId</th>\n",
       "      <th>counts_y</th>\n",
       "      <th>%</th>\n",
       "      <th>score</th>\n",
       "      <th>grade</th>\n",
       "      <th>team</th>\n",
       "      <th>week</th>\n",
       "    </tr>\n",
       "  </thead>\n",
       "  <tbody>\n",
       "    <tr>\n",
       "      <th>15</th>\n",
       "      <td>Hayden Hurst</td>\n",
       "      <td>46094.0</td>\n",
       "      <td>4</td>\n",
       "      <td>2021091200</td>\n",
       "      <td>7</td>\n",
       "      <td>57.142857</td>\n",
       "      <td>11</td>\n",
       "      <td>30.285714</td>\n",
       "      <td>ATL</td>\n",
       "      <td>week1</td>\n",
       "    </tr>\n",
       "    <tr>\n",
       "      <th>9</th>\n",
       "      <td>Rob Gronkowski</td>\n",
       "      <td>35481.0</td>\n",
       "      <td>4</td>\n",
       "      <td>2021090900</td>\n",
       "      <td>8</td>\n",
       "      <td>50.000000</td>\n",
       "      <td>9</td>\n",
       "      <td>41.000000</td>\n",
       "      <td>TB</td>\n",
       "      <td>week1</td>\n",
       "    </tr>\n",
       "    <tr>\n",
       "      <th>7</th>\n",
       "      <td>Giovani Bernard</td>\n",
       "      <td>39985.0</td>\n",
       "      <td>2</td>\n",
       "      <td>2021090900</td>\n",
       "      <td>4</td>\n",
       "      <td>50.000000</td>\n",
       "      <td>7</td>\n",
       "      <td>43.000000</td>\n",
       "      <td>TB</td>\n",
       "      <td>week1</td>\n",
       "    </tr>\n",
       "    <tr>\n",
       "      <th>2</th>\n",
       "      <td>Blake Jarwin</td>\n",
       "      <td>45532.0</td>\n",
       "      <td>2</td>\n",
       "      <td>2021090900</td>\n",
       "      <td>5</td>\n",
       "      <td>40.000000</td>\n",
       "      <td>4</td>\n",
       "      <td>56.800000</td>\n",
       "      <td>DAL</td>\n",
       "      <td>week1</td>\n",
       "    </tr>\n",
       "    <tr>\n",
       "      <th>4</th>\n",
       "      <td>Dalton Schultz</td>\n",
       "      <td>46206.0</td>\n",
       "      <td>2</td>\n",
       "      <td>2021090900</td>\n",
       "      <td>5</td>\n",
       "      <td>40.000000</td>\n",
       "      <td>3</td>\n",
       "      <td>57.600000</td>\n",
       "      <td>DAL</td>\n",
       "      <td>week1</td>\n",
       "    </tr>\n",
       "    <tr>\n",
       "      <th>24</th>\n",
       "      <td>Mike Davis</td>\n",
       "      <td>42469.0</td>\n",
       "      <td>2</td>\n",
       "      <td>2021091200</td>\n",
       "      <td>6</td>\n",
       "      <td>33.333333</td>\n",
       "      <td>5</td>\n",
       "      <td>63.333333</td>\n",
       "      <td>ATL</td>\n",
       "      <td>week1</td>\n",
       "    </tr>\n",
       "    <tr>\n",
       "      <th>22</th>\n",
       "      <td>Lee Smith</td>\n",
       "      <td>37234.0</td>\n",
       "      <td>1</td>\n",
       "      <td>2021091200</td>\n",
       "      <td>4</td>\n",
       "      <td>25.000000</td>\n",
       "      <td>4</td>\n",
       "      <td>73.000000</td>\n",
       "      <td>ATL</td>\n",
       "      <td>week1</td>\n",
       "    </tr>\n",
       "    <tr>\n",
       "      <th>6</th>\n",
       "      <td>Ezekiel Elliott</td>\n",
       "      <td>43293.0</td>\n",
       "      <td>2</td>\n",
       "      <td>2021090900</td>\n",
       "      <td>8</td>\n",
       "      <td>25.000000</td>\n",
       "      <td>3</td>\n",
       "      <td>73.500000</td>\n",
       "      <td>DAL</td>\n",
       "      <td>week1</td>\n",
       "    </tr>\n",
       "    <tr>\n",
       "      <th>21</th>\n",
       "      <td>Kaleb McGary</td>\n",
       "      <td>47814.0</td>\n",
       "      <td>6</td>\n",
       "      <td>2021091200</td>\n",
       "      <td>44</td>\n",
       "      <td>13.636364</td>\n",
       "      <td>9</td>\n",
       "      <td>83.909091</td>\n",
       "      <td>ATL</td>\n",
       "      <td>week1</td>\n",
       "    </tr>\n",
       "    <tr>\n",
       "      <th>8</th>\n",
       "      <td>La'el Collins</td>\n",
       "      <td>42654.0</td>\n",
       "      <td>7</td>\n",
       "      <td>2021090900</td>\n",
       "      <td>53</td>\n",
       "      <td>13.207547</td>\n",
       "      <td>6</td>\n",
       "      <td>85.207547</td>\n",
       "      <td>DAL</td>\n",
       "      <td>week1</td>\n",
       "    </tr>\n",
       "    <tr>\n",
       "      <th>19</th>\n",
       "      <td>Jason Kelce</td>\n",
       "      <td>37266.0</td>\n",
       "      <td>3</td>\n",
       "      <td>2021091200</td>\n",
       "      <td>29</td>\n",
       "      <td>10.344828</td>\n",
       "      <td>3</td>\n",
       "      <td>89.034483</td>\n",
       "      <td>PHI</td>\n",
       "      <td>week1</td>\n",
       "    </tr>\n",
       "    <tr>\n",
       "      <th>18</th>\n",
       "      <td>Jalen Mayfield</td>\n",
       "      <td>53497.0</td>\n",
       "      <td>4</td>\n",
       "      <td>2021091200</td>\n",
       "      <td>41</td>\n",
       "      <td>9.756098</td>\n",
       "      <td>4</td>\n",
       "      <td>89.463415</td>\n",
       "      <td>ATL</td>\n",
       "      <td>week1</td>\n",
       "    </tr>\n",
       "    <tr>\n",
       "      <th>13</th>\n",
       "      <td>Tyron Smith</td>\n",
       "      <td>37082.0</td>\n",
       "      <td>5</td>\n",
       "      <td>2021090900</td>\n",
       "      <td>53</td>\n",
       "      <td>9.433962</td>\n",
       "      <td>4</td>\n",
       "      <td>89.811321</td>\n",
       "      <td>DAL</td>\n",
       "      <td>week1</td>\n",
       "    </tr>\n",
       "    <tr>\n",
       "      <th>0</th>\n",
       "      <td>Alex Cappa</td>\n",
       "      <td>46163.0</td>\n",
       "      <td>4</td>\n",
       "      <td>2021090900</td>\n",
       "      <td>44</td>\n",
       "      <td>9.090909</td>\n",
       "      <td>3</td>\n",
       "      <td>90.363636</td>\n",
       "      <td>TB</td>\n",
       "      <td>week1</td>\n",
       "    </tr>\n",
       "    <tr>\n",
       "      <th>17</th>\n",
       "      <td>Jake Matthews</td>\n",
       "      <td>41232.0</td>\n",
       "      <td>3</td>\n",
       "      <td>2021091200</td>\n",
       "      <td>44</td>\n",
       "      <td>6.818182</td>\n",
       "      <td>7</td>\n",
       "      <td>92.227273</td>\n",
       "      <td>ATL</td>\n",
       "      <td>week1</td>\n",
       "    </tr>\n",
       "    <tr>\n",
       "      <th>11</th>\n",
       "      <td>Tristan Wirfs</td>\n",
       "      <td>52421.0</td>\n",
       "      <td>3</td>\n",
       "      <td>2021090900</td>\n",
       "      <td>44</td>\n",
       "      <td>6.818182</td>\n",
       "      <td>4</td>\n",
       "      <td>92.636364</td>\n",
       "      <td>TB</td>\n",
       "      <td>week1</td>\n",
       "    </tr>\n",
       "    <tr>\n",
       "      <th>14</th>\n",
       "      <td>Chris Lindstrom</td>\n",
       "      <td>47797.0</td>\n",
       "      <td>3</td>\n",
       "      <td>2021091200</td>\n",
       "      <td>44</td>\n",
       "      <td>6.818182</td>\n",
       "      <td>2</td>\n",
       "      <td>92.909091</td>\n",
       "      <td>ATL</td>\n",
       "      <td>week1</td>\n",
       "    </tr>\n",
       "    <tr>\n",
       "      <th>1</th>\n",
       "      <td>Ali Marpet</td>\n",
       "      <td>42404.0</td>\n",
       "      <td>3</td>\n",
       "      <td>2021090900</td>\n",
       "      <td>44</td>\n",
       "      <td>6.818182</td>\n",
       "      <td>2</td>\n",
       "      <td>92.909091</td>\n",
       "      <td>TB</td>\n",
       "      <td>week1</td>\n",
       "    </tr>\n",
       "    <tr>\n",
       "      <th>3</th>\n",
       "      <td>Connor McGovern</td>\n",
       "      <td>47873.0</td>\n",
       "      <td>3</td>\n",
       "      <td>2021090900</td>\n",
       "      <td>53</td>\n",
       "      <td>5.660377</td>\n",
       "      <td>3</td>\n",
       "      <td>94.000000</td>\n",
       "      <td>DAL</td>\n",
       "      <td>week1</td>\n",
       "    </tr>\n",
       "    <tr>\n",
       "      <th>23</th>\n",
       "      <td>Matt Hennessy</td>\n",
       "      <td>52486.0</td>\n",
       "      <td>2</td>\n",
       "      <td>2021091200</td>\n",
       "      <td>44</td>\n",
       "      <td>4.545455</td>\n",
       "      <td>3</td>\n",
       "      <td>95.181818</td>\n",
       "      <td>ATL</td>\n",
       "      <td>week1</td>\n",
       "    </tr>\n",
       "    <tr>\n",
       "      <th>16</th>\n",
       "      <td>Isaac Seumalo</td>\n",
       "      <td>43368.0</td>\n",
       "      <td>1</td>\n",
       "      <td>2021091200</td>\n",
       "      <td>29</td>\n",
       "      <td>3.448276</td>\n",
       "      <td>1</td>\n",
       "      <td>96.482759</td>\n",
       "      <td>PHI</td>\n",
       "      <td>week1</td>\n",
       "    </tr>\n",
       "    <tr>\n",
       "      <th>20</th>\n",
       "      <td>Jordan Mailata</td>\n",
       "      <td>46302.0</td>\n",
       "      <td>1</td>\n",
       "      <td>2021091200</td>\n",
       "      <td>29</td>\n",
       "      <td>3.448276</td>\n",
       "      <td>1</td>\n",
       "      <td>96.482759</td>\n",
       "      <td>PHI</td>\n",
       "      <td>week1</td>\n",
       "    </tr>\n",
       "    <tr>\n",
       "      <th>5</th>\n",
       "      <td>Donovan Smith</td>\n",
       "      <td>42377.0</td>\n",
       "      <td>1</td>\n",
       "      <td>2021090900</td>\n",
       "      <td>44</td>\n",
       "      <td>2.272727</td>\n",
       "      <td>4</td>\n",
       "      <td>97.545455</td>\n",
       "      <td>TB</td>\n",
       "      <td>week1</td>\n",
       "    </tr>\n",
       "    <tr>\n",
       "      <th>10</th>\n",
       "      <td>Ryan Jensen</td>\n",
       "      <td>40151.0</td>\n",
       "      <td>1</td>\n",
       "      <td>2021090900</td>\n",
       "      <td>44</td>\n",
       "      <td>2.272727</td>\n",
       "      <td>0</td>\n",
       "      <td>97.727273</td>\n",
       "      <td>TB</td>\n",
       "      <td>week1</td>\n",
       "    </tr>\n",
       "    <tr>\n",
       "      <th>12</th>\n",
       "      <td>Tyler Biadasz</td>\n",
       "      <td>52554.0</td>\n",
       "      <td>1</td>\n",
       "      <td>2021090900</td>\n",
       "      <td>53</td>\n",
       "      <td>1.886792</td>\n",
       "      <td>1</td>\n",
       "      <td>98.075472</td>\n",
       "      <td>DAL</td>\n",
       "      <td>week1</td>\n",
       "    </tr>\n",
       "  </tbody>\n",
       "</table>\n",
       "</div>"
      ],
      "text/plain": [
       "    displayName_off  nflId_off  counts_x      gameId  counts_y          %  \\\n",
       "15     Hayden Hurst    46094.0         4  2021091200         7  57.142857   \n",
       "9    Rob Gronkowski    35481.0         4  2021090900         8  50.000000   \n",
       "7   Giovani Bernard    39985.0         2  2021090900         4  50.000000   \n",
       "2      Blake Jarwin    45532.0         2  2021090900         5  40.000000   \n",
       "4    Dalton Schultz    46206.0         2  2021090900         5  40.000000   \n",
       "24       Mike Davis    42469.0         2  2021091200         6  33.333333   \n",
       "22        Lee Smith    37234.0         1  2021091200         4  25.000000   \n",
       "6   Ezekiel Elliott    43293.0         2  2021090900         8  25.000000   \n",
       "21     Kaleb McGary    47814.0         6  2021091200        44  13.636364   \n",
       "8     La'el Collins    42654.0         7  2021090900        53  13.207547   \n",
       "19      Jason Kelce    37266.0         3  2021091200        29  10.344828   \n",
       "18   Jalen Mayfield    53497.0         4  2021091200        41   9.756098   \n",
       "13      Tyron Smith    37082.0         5  2021090900        53   9.433962   \n",
       "0        Alex Cappa    46163.0         4  2021090900        44   9.090909   \n",
       "17    Jake Matthews    41232.0         3  2021091200        44   6.818182   \n",
       "11    Tristan Wirfs    52421.0         3  2021090900        44   6.818182   \n",
       "14  Chris Lindstrom    47797.0         3  2021091200        44   6.818182   \n",
       "1        Ali Marpet    42404.0         3  2021090900        44   6.818182   \n",
       "3   Connor McGovern    47873.0         3  2021090900        53   5.660377   \n",
       "23    Matt Hennessy    52486.0         2  2021091200        44   4.545455   \n",
       "16    Isaac Seumalo    43368.0         1  2021091200        29   3.448276   \n",
       "20   Jordan Mailata    46302.0         1  2021091200        29   3.448276   \n",
       "5     Donovan Smith    42377.0         1  2021090900        44   2.272727   \n",
       "10      Ryan Jensen    40151.0         1  2021090900        44   2.272727   \n",
       "12    Tyler Biadasz    52554.0         1  2021090900        53   1.886792   \n",
       "\n",
       "    score      grade team   week  \n",
       "15     11  30.285714  ATL  week1  \n",
       "9       9  41.000000   TB  week1  \n",
       "7       7  43.000000   TB  week1  \n",
       "2       4  56.800000  DAL  week1  \n",
       "4       3  57.600000  DAL  week1  \n",
       "24      5  63.333333  ATL  week1  \n",
       "22      4  73.000000  ATL  week1  \n",
       "6       3  73.500000  DAL  week1  \n",
       "21      9  83.909091  ATL  week1  \n",
       "8       6  85.207547  DAL  week1  \n",
       "19      3  89.034483  PHI  week1  \n",
       "18      4  89.463415  ATL  week1  \n",
       "13      4  89.811321  DAL  week1  \n",
       "0       3  90.363636   TB  week1  \n",
       "17      7  92.227273  ATL  week1  \n",
       "11      4  92.636364   TB  week1  \n",
       "14      2  92.909091  ATL  week1  \n",
       "1       2  92.909091   TB  week1  \n",
       "3       3  94.000000  DAL  week1  \n",
       "23      3  95.181818  ATL  week1  \n",
       "16      1  96.482759  PHI  week1  \n",
       "20      1  96.482759  PHI  week1  \n",
       "5       4  97.545455   TB  week1  \n",
       "10      0  97.727273   TB  week1  \n",
       "12      1  98.075472  DAL  week1  "
      ]
     },
     "execution_count": 35,
     "metadata": {},
     "output_type": "execute_result"
    }
   ],
   "source": [
    "full_df = pd.concat(o_grade_book_list, axis=0, ignore_index=True)\n",
    "\n",
    "full_df['team'] = full_df['nflId_off'].map(week1.drop_duplicates('nflId').set_index('nflId')['team'])\n",
    "full_df['week'] = 'week1'\n",
    "full_df.sort_values(by='grade', inplace=True)\n",
    "\n",
    "full_df"
   ]
  },
  {
   "cell_type": "code",
   "execution_count": 121,
   "metadata": {},
   "outputs": [
    {
     "data": {
      "application/vnd.plotly.v1+json": {
       "config": {
        "plotlyServerURL": "https://plot.ly"
       },
       "data": [
        {
         "hoverinfo": "none",
         "mode": "text",
         "showlegend": false,
         "text": [
          "10",
          "20",
          "30",
          "40",
          "50",
          "40",
          "30",
          "20",
          "10"
         ],
         "textfont": {
          "color": "#ffffff",
          "family": "Courier New, monospace",
          "size": 30
         },
         "type": "scatter",
         "x": [
          20,
          30,
          40,
          50,
          60,
          70,
          80,
          90,
          100
         ],
         "y": [
          5,
          5,
          5,
          5,
          5,
          5,
          5,
          5,
          5
         ]
        },
        {
         "hoverinfo": "none",
         "mode": "text",
         "showlegend": false,
         "text": [
          "10",
          "20",
          "30",
          "40",
          "50",
          "40",
          "30",
          "20",
          "10"
         ],
         "textfont": {
          "color": "#ffffff",
          "family": "Courier New, monospace",
          "size": 30
         },
         "type": "scatter",
         "x": [
          20,
          30,
          40,
          50,
          60,
          70,
          80,
          90,
          100
         ],
         "y": [
          48.5,
          48.5,
          48.5,
          48.5,
          48.5,
          48.5,
          48.5,
          48.5,
          48.5
         ]
        },
        {
         "hoverinfo": "none",
         "line": {
          "color": "blue",
          "dash": "dash"
         },
         "showlegend": false,
         "type": "scatter",
         "x": [
          97,
          97
         ],
         "y": [
          0,
          53.5
         ]
        },
        {
         "hoverinfo": "none",
         "line": {
          "color": "yellow",
          "dash": "dash"
         },
         "showlegend": false,
         "type": "scatter",
         "x": [
          100,
          100
         ],
         "y": [
          0,
          53.5
         ]
        },
        {
         "hoverinfo": "text",
         "hovertext": [
          "nflId:35441.0<br>displayName:Ndamukong Suh<br>Position:DLT<br>Role:Pass Rush",
          "nflId:35454.0<br>displayName:Jason Pierre-Paul<br>Position:RE<br>Role:Pass Rush",
          "nflId:38588.0<br>displayName:Lavonte David<br>Position:ROLB<br>Role:Pass Rush",
          "nflId:41338.0<br>displayName:Ross Cockrell<br>Position:SCBoR<br>Role:Coverage",
          "nflId:41915.0<br>displayName:Shaquil Barrett<br>Position:LOLB<br>Role:Pass Rush",
          "nflId:46081.0<br>displayName:Vita Vea<br>Position:NT<br>Role:Pass Rush",
          "nflId:46132.0<br>displayName:Carlton Davis<br>Position:SCBiR<br>Role:Coverage",
          "nflId:47788.0<br>displayName:Devin White<br>Position:RILB<br>Role:Pass Rush",
          "nflId:47877.0<br>displayName:Jamel Dean<br>Position:RCB<br>Role:Coverage",
          "nflId:47882.0<br>displayName:Mike Edwards<br>Position:LCB<br>Role:Coverage",
          "nflId:52453.0<br>displayName:Antoine Winfield<br>Position:FS<br>Role:Coverage"
         ],
         "marker": {
          "color": "#D50A0A"
         },
         "mode": "markers",
         "name": "TB",
         "type": "scatter",
         "x": [
          97.24,
          97.71,
          97.79,
          98.35,
          97.61,
          97.6,
          98.22,
          98.28,
          98.47,
          98.9,
          108.16
         ],
         "y": [
          21.6,
          26.31,
          28.87,
          36.86,
          18.34,
          23.67,
          31.38,
          24.84,
          43.45,
          16.34,
          26.43
         ]
        },
        {
         "hoverinfo": "text",
         "hovertext": [
          "nflId:37082.0<br>displayName:Tyron Smith<br>Position:LT<br>Role:Pass Block",
          "nflId:42347.0<br>displayName:Amari Cooper<br>Position:SLoWR<br>Role:Pass Route",
          "nflId:42654.0<br>displayName:La'el Collins<br>Position:RT<br>Role:Pass Block",
          "nflId:43293.0<br>displayName:Ezekiel Elliott<br>Position:HB-R<br>Role:Pass Block",
          "nflId:43424.0<br>displayName:Dak Prescott<br>Position:QB<br>Role:Pass",
          "nflId:46119.0<br>displayName:Connor Williams<br>Position:LG<br>Role:Pass Block",
          "nflId:46150.0<br>displayName:Michael Gallup<br>Position:LWR<br>Role:Pass Route",
          "nflId:46206.0<br>displayName:Dalton Schultz<br>Position:RWR<br>Role:Pass Route",
          "nflId:47873.0<br>displayName:Connor McGovern<br>Position:RG<br>Role:Pass Block",
          "nflId:52425.0<br>displayName:CeeDee Lamb<br>Position:SLiWR<br>Role:Pass Route",
          "nflId:52554.0<br>displayName:Tyler Biadasz<br>Position:C<br>Role:Pass Block"
         ],
         "marker": {
          "color": "#003594"
         },
         "mode": "markers",
         "name": "DAL",
         "type": "scatter",
         "x": [
          95.28,
          95.34,
          95.18,
          92.79,
          92.54,
          95.35,
          95.33,
          95.76,
          95.5,
          96.26,
          96.13
         ],
         "y": [
          26.73,
          36.74,
          20.63,
          22.18,
          23.55,
          25.23,
          43.94,
          16.32,
          22.39,
          31.44,
          23.78
         ]
        },
        {
         "hoverinfo": "none",
         "marker": {
          "color": "#CBB67C"
         },
         "mode": "markers",
         "name": "football",
         "type": "scatter",
         "x": [
          97.18
         ],
         "y": [
          23.72
         ]
        }
       ],
       "frames": [
        {
         "data": [
          {
           "hoverinfo": "none",
           "mode": "text",
           "showlegend": false,
           "text": [
            "10",
            "20",
            "30",
            "40",
            "50",
            "40",
            "30",
            "20",
            "10"
           ],
           "textfont": {
            "color": "#ffffff",
            "family": "Courier New, monospace",
            "size": 30
           },
           "type": "scatter",
           "x": [
            20,
            30,
            40,
            50,
            60,
            70,
            80,
            90,
            100
           ],
           "y": [
            5,
            5,
            5,
            5,
            5,
            5,
            5,
            5,
            5
           ]
          },
          {
           "hoverinfo": "none",
           "mode": "text",
           "showlegend": false,
           "text": [
            "10",
            "20",
            "30",
            "40",
            "50",
            "40",
            "30",
            "20",
            "10"
           ],
           "textfont": {
            "color": "#ffffff",
            "family": "Courier New, monospace",
            "size": 30
           },
           "type": "scatter",
           "x": [
            20,
            30,
            40,
            50,
            60,
            70,
            80,
            90,
            100
           ],
           "y": [
            48.5,
            48.5,
            48.5,
            48.5,
            48.5,
            48.5,
            48.5,
            48.5,
            48.5
           ]
          },
          {
           "hoverinfo": "none",
           "line": {
            "color": "blue",
            "dash": "dash"
           },
           "showlegend": false,
           "type": "scatter",
           "x": [
            97,
            97
           ],
           "y": [
            0,
            53.5
           ]
          },
          {
           "hoverinfo": "none",
           "line": {
            "color": "yellow",
            "dash": "dash"
           },
           "showlegend": false,
           "type": "scatter",
           "x": [
            100,
            100
           ],
           "y": [
            0,
            53.5
           ]
          },
          {
           "hoverinfo": "text",
           "hovertext": [
            "nflId:35441.0<br>displayName:Ndamukong Suh<br>Position:DLT<br>Role:Pass Rush",
            "nflId:35454.0<br>displayName:Jason Pierre-Paul<br>Position:RE<br>Role:Pass Rush",
            "nflId:38588.0<br>displayName:Lavonte David<br>Position:ROLB<br>Role:Pass Rush",
            "nflId:41338.0<br>displayName:Ross Cockrell<br>Position:SCBoR<br>Role:Coverage",
            "nflId:41915.0<br>displayName:Shaquil Barrett<br>Position:LOLB<br>Role:Pass Rush",
            "nflId:46081.0<br>displayName:Vita Vea<br>Position:NT<br>Role:Pass Rush",
            "nflId:46132.0<br>displayName:Carlton Davis<br>Position:SCBiR<br>Role:Coverage",
            "nflId:47788.0<br>displayName:Devin White<br>Position:RILB<br>Role:Pass Rush",
            "nflId:47877.0<br>displayName:Jamel Dean<br>Position:RCB<br>Role:Coverage",
            "nflId:47882.0<br>displayName:Mike Edwards<br>Position:LCB<br>Role:Coverage",
            "nflId:52453.0<br>displayName:Antoine Winfield<br>Position:FS<br>Role:Coverage"
           ],
           "marker": {
            "color": "#D50A0A"
           },
           "mode": "markers",
           "name": "TB",
           "type": "scatter",
           "x": [
            97.25,
            97.71,
            97.79,
            98.34,
            97.59,
            97.6,
            98.22,
            98.11,
            98.48,
            98.88,
            108.18
           ],
           "y": [
            21.6,
            26.31,
            28.87,
            36.87,
            18.33,
            23.67,
            31.39,
            24.96,
            43.45,
            16.33,
            26.47
           ]
          },
          {
           "hoverinfo": "text",
           "hovertext": [
            "nflId:37082.0<br>displayName:Tyron Smith<br>Position:LT<br>Role:Pass Block",
            "nflId:42347.0<br>displayName:Amari Cooper<br>Position:SLoWR<br>Role:Pass Route",
            "nflId:42654.0<br>displayName:La'el Collins<br>Position:RT<br>Role:Pass Block",
            "nflId:43293.0<br>displayName:Ezekiel Elliott<br>Position:HB-R<br>Role:Pass Block",
            "nflId:43424.0<br>displayName:Dak Prescott<br>Position:QB<br>Role:Pass",
            "nflId:46119.0<br>displayName:Connor Williams<br>Position:LG<br>Role:Pass Block",
            "nflId:46150.0<br>displayName:Michael Gallup<br>Position:LWR<br>Role:Pass Route",
            "nflId:46206.0<br>displayName:Dalton Schultz<br>Position:RWR<br>Role:Pass Route",
            "nflId:47873.0<br>displayName:Connor McGovern<br>Position:RG<br>Role:Pass Block",
            "nflId:52425.0<br>displayName:CeeDee Lamb<br>Position:SLiWR<br>Role:Pass Route",
            "nflId:52554.0<br>displayName:Tyler Biadasz<br>Position:C<br>Role:Pass Block"
           ],
           "marker": {
            "color": "#003594"
           },
           "mode": "markers",
           "name": "DAL",
           "type": "scatter",
           "x": [
            95.28,
            95.35,
            95.18,
            92.8,
            92.54,
            95.35,
            95.33,
            95.76,
            95.5,
            96.26,
            96.12
           ],
           "y": [
            26.73,
            36.73,
            20.63,
            22.17,
            23.56,
            25.23,
            43.94,
            16.32,
            22.39,
            31.44,
            23.78
           ]
          },
          {
           "hoverinfo": "none",
           "marker": {
            "color": "#CBB67C"
           },
           "mode": "markers",
           "name": "football",
           "type": "scatter",
           "x": [
            97.08
           ],
           "y": [
            23.72
           ]
          }
         ],
         "name": "2"
        },
        {
         "data": [
          {
           "hoverinfo": "none",
           "mode": "text",
           "showlegend": false,
           "text": [
            "10",
            "20",
            "30",
            "40",
            "50",
            "40",
            "30",
            "20",
            "10"
           ],
           "textfont": {
            "color": "#ffffff",
            "family": "Courier New, monospace",
            "size": 30
           },
           "type": "scatter",
           "x": [
            20,
            30,
            40,
            50,
            60,
            70,
            80,
            90,
            100
           ],
           "y": [
            5,
            5,
            5,
            5,
            5,
            5,
            5,
            5,
            5
           ]
          },
          {
           "hoverinfo": "none",
           "mode": "text",
           "showlegend": false,
           "text": [
            "10",
            "20",
            "30",
            "40",
            "50",
            "40",
            "30",
            "20",
            "10"
           ],
           "textfont": {
            "color": "#ffffff",
            "family": "Courier New, monospace",
            "size": 30
           },
           "type": "scatter",
           "x": [
            20,
            30,
            40,
            50,
            60,
            70,
            80,
            90,
            100
           ],
           "y": [
            48.5,
            48.5,
            48.5,
            48.5,
            48.5,
            48.5,
            48.5,
            48.5,
            48.5
           ]
          },
          {
           "hoverinfo": "none",
           "line": {
            "color": "blue",
            "dash": "dash"
           },
           "showlegend": false,
           "type": "scatter",
           "x": [
            97,
            97
           ],
           "y": [
            0,
            53.5
           ]
          },
          {
           "hoverinfo": "none",
           "line": {
            "color": "yellow",
            "dash": "dash"
           },
           "showlegend": false,
           "type": "scatter",
           "x": [
            100,
            100
           ],
           "y": [
            0,
            53.5
           ]
          },
          {
           "hoverinfo": "text",
           "hovertext": [
            "nflId:35441.0<br>displayName:Ndamukong Suh<br>Position:DLT<br>Role:Pass Rush",
            "nflId:35454.0<br>displayName:Jason Pierre-Paul<br>Position:RE<br>Role:Pass Rush",
            "nflId:38588.0<br>displayName:Lavonte David<br>Position:ROLB<br>Role:Pass Rush",
            "nflId:41338.0<br>displayName:Ross Cockrell<br>Position:SCBoR<br>Role:Coverage",
            "nflId:41915.0<br>displayName:Shaquil Barrett<br>Position:LOLB<br>Role:Pass Rush",
            "nflId:46081.0<br>displayName:Vita Vea<br>Position:NT<br>Role:Pass Rush",
            "nflId:46132.0<br>displayName:Carlton Davis<br>Position:SCBiR<br>Role:Coverage",
            "nflId:47788.0<br>displayName:Devin White<br>Position:RILB<br>Role:Pass Rush",
            "nflId:47877.0<br>displayName:Jamel Dean<br>Position:RCB<br>Role:Coverage",
            "nflId:47882.0<br>displayName:Mike Edwards<br>Position:LCB<br>Role:Coverage",
            "nflId:52453.0<br>displayName:Antoine Winfield<br>Position:FS<br>Role:Coverage"
           ],
           "marker": {
            "color": "#D50A0A"
           },
           "mode": "markers",
           "name": "TB",
           "type": "scatter",
           "x": [
            97.26,
            97.71,
            97.79,
            98.34,
            97.56,
            97.6,
            98.22,
            97.94,
            98.48,
            98.84,
            108.19
           ],
           "y": [
            21.6,
            26.31,
            28.89,
            36.86,
            18.31,
            23.68,
            31.41,
            25.06,
            43.45,
            16.33,
            26.49
           ]
          },
          {
           "hoverinfo": "text",
           "hovertext": [
            "nflId:37082.0<br>displayName:Tyron Smith<br>Position:LT<br>Role:Pass Block",
            "nflId:42347.0<br>displayName:Amari Cooper<br>Position:SLoWR<br>Role:Pass Route",
            "nflId:42654.0<br>displayName:La'el Collins<br>Position:RT<br>Role:Pass Block",
            "nflId:43293.0<br>displayName:Ezekiel Elliott<br>Position:HB-R<br>Role:Pass Block",
            "nflId:43424.0<br>displayName:Dak Prescott<br>Position:QB<br>Role:Pass",
            "nflId:46119.0<br>displayName:Connor Williams<br>Position:LG<br>Role:Pass Block",
            "nflId:46150.0<br>displayName:Michael Gallup<br>Position:LWR<br>Role:Pass Route",
            "nflId:46206.0<br>displayName:Dalton Schultz<br>Position:RWR<br>Role:Pass Route",
            "nflId:47873.0<br>displayName:Connor McGovern<br>Position:RG<br>Role:Pass Block",
            "nflId:52425.0<br>displayName:CeeDee Lamb<br>Position:SLiWR<br>Role:Pass Route",
            "nflId:52554.0<br>displayName:Tyler Biadasz<br>Position:C<br>Role:Pass Block"
           ],
           "marker": {
            "color": "#003594"
           },
           "mode": "markers",
           "name": "DAL",
           "type": "scatter",
           "x": [
            95.27,
            95.34,
            95.18,
            92.79,
            92.53,
            95.34,
            95.33,
            95.76,
            95.5,
            96.26,
            96.11
           ],
           "y": [
            26.73,
            36.74,
            20.62,
            22.14,
            23.56,
            25.23,
            43.94,
            16.32,
            22.39,
            31.44,
            23.78
           ]
          },
          {
           "hoverinfo": "none",
           "marker": {
            "color": "#CBB67C"
           },
           "mode": "markers",
           "name": "football",
           "type": "scatter",
           "x": [
            97
           ],
           "y": [
            23.71
           ]
          }
         ],
         "name": "3"
        },
        {
         "data": [
          {
           "hoverinfo": "none",
           "mode": "text",
           "showlegend": false,
           "text": [
            "10",
            "20",
            "30",
            "40",
            "50",
            "40",
            "30",
            "20",
            "10"
           ],
           "textfont": {
            "color": "#ffffff",
            "family": "Courier New, monospace",
            "size": 30
           },
           "type": "scatter",
           "x": [
            20,
            30,
            40,
            50,
            60,
            70,
            80,
            90,
            100
           ],
           "y": [
            5,
            5,
            5,
            5,
            5,
            5,
            5,
            5,
            5
           ]
          },
          {
           "hoverinfo": "none",
           "mode": "text",
           "showlegend": false,
           "text": [
            "10",
            "20",
            "30",
            "40",
            "50",
            "40",
            "30",
            "20",
            "10"
           ],
           "textfont": {
            "color": "#ffffff",
            "family": "Courier New, monospace",
            "size": 30
           },
           "type": "scatter",
           "x": [
            20,
            30,
            40,
            50,
            60,
            70,
            80,
            90,
            100
           ],
           "y": [
            48.5,
            48.5,
            48.5,
            48.5,
            48.5,
            48.5,
            48.5,
            48.5,
            48.5
           ]
          },
          {
           "hoverinfo": "none",
           "line": {
            "color": "blue",
            "dash": "dash"
           },
           "showlegend": false,
           "type": "scatter",
           "x": [
            97,
            97
           ],
           "y": [
            0,
            53.5
           ]
          },
          {
           "hoverinfo": "none",
           "line": {
            "color": "yellow",
            "dash": "dash"
           },
           "showlegend": false,
           "type": "scatter",
           "x": [
            100,
            100
           ],
           "y": [
            0,
            53.5
           ]
          },
          {
           "hoverinfo": "text",
           "hovertext": [
            "nflId:35441.0<br>displayName:Ndamukong Suh<br>Position:DLT<br>Role:Pass Rush",
            "nflId:35454.0<br>displayName:Jason Pierre-Paul<br>Position:RE<br>Role:Pass Rush",
            "nflId:38588.0<br>displayName:Lavonte David<br>Position:ROLB<br>Role:Pass Rush",
            "nflId:41338.0<br>displayName:Ross Cockrell<br>Position:SCBoR<br>Role:Coverage",
            "nflId:41915.0<br>displayName:Shaquil Barrett<br>Position:LOLB<br>Role:Pass Rush",
            "nflId:46081.0<br>displayName:Vita Vea<br>Position:NT<br>Role:Pass Rush",
            "nflId:46132.0<br>displayName:Carlton Davis<br>Position:SCBiR<br>Role:Coverage",
            "nflId:47788.0<br>displayName:Devin White<br>Position:RILB<br>Role:Pass Rush",
            "nflId:47877.0<br>displayName:Jamel Dean<br>Position:RCB<br>Role:Coverage",
            "nflId:47882.0<br>displayName:Mike Edwards<br>Position:LCB<br>Role:Coverage",
            "nflId:52453.0<br>displayName:Antoine Winfield<br>Position:FS<br>Role:Coverage"
           ],
           "marker": {
            "color": "#D50A0A"
           },
           "mode": "markers",
           "name": "TB",
           "type": "scatter",
           "x": [
            97.25,
            97.7,
            97.79,
            98.35,
            97.53,
            97.58,
            98.22,
            97.8,
            98.48,
            98.84,
            108.2
           ],
           "y": [
            21.59,
            26.31,
            28.89,
            36.85,
            18.31,
            23.67,
            31.45,
            25.12,
            43.45,
            16.33,
            26.52
           ]
          },
          {
           "hoverinfo": "text",
           "hovertext": [
            "nflId:37082.0<br>displayName:Tyron Smith<br>Position:LT<br>Role:Pass Block",
            "nflId:42347.0<br>displayName:Amari Cooper<br>Position:SLoWR<br>Role:Pass Route",
            "nflId:42654.0<br>displayName:La'el Collins<br>Position:RT<br>Role:Pass Block",
            "nflId:43293.0<br>displayName:Ezekiel Elliott<br>Position:HB-R<br>Role:Pass Block",
            "nflId:43424.0<br>displayName:Dak Prescott<br>Position:QB<br>Role:Pass",
            "nflId:46119.0<br>displayName:Connor Williams<br>Position:LG<br>Role:Pass Block",
            "nflId:46150.0<br>displayName:Michael Gallup<br>Position:LWR<br>Role:Pass Route",
            "nflId:46206.0<br>displayName:Dalton Schultz<br>Position:RWR<br>Role:Pass Route",
            "nflId:47873.0<br>displayName:Connor McGovern<br>Position:RG<br>Role:Pass Block",
            "nflId:52425.0<br>displayName:CeeDee Lamb<br>Position:SLiWR<br>Role:Pass Route",
            "nflId:52554.0<br>displayName:Tyler Biadasz<br>Position:C<br>Role:Pass Block"
           ],
           "marker": {
            "color": "#003594"
           },
           "mode": "markers",
           "name": "DAL",
           "type": "scatter",
           "x": [
            95.27,
            95.34,
            95.18,
            92.77,
            92.52,
            95.34,
            95.34,
            95.76,
            95.5,
            96.26,
            96.11
           ],
           "y": [
            26.73,
            36.73,
            20.62,
            22.15,
            23.55,
            25.23,
            43.94,
            16.32,
            22.39,
            31.44,
            23.78
           ]
          },
          {
           "hoverinfo": "none",
           "marker": {
            "color": "#CBB67C"
           },
           "mode": "markers",
           "name": "football",
           "type": "scatter",
           "x": [
            96.93
           ],
           "y": [
            23.71
           ]
          }
         ],
         "name": "4"
        },
        {
         "data": [
          {
           "hoverinfo": "none",
           "mode": "text",
           "showlegend": false,
           "text": [
            "10",
            "20",
            "30",
            "40",
            "50",
            "40",
            "30",
            "20",
            "10"
           ],
           "textfont": {
            "color": "#ffffff",
            "family": "Courier New, monospace",
            "size": 30
           },
           "type": "scatter",
           "x": [
            20,
            30,
            40,
            50,
            60,
            70,
            80,
            90,
            100
           ],
           "y": [
            5,
            5,
            5,
            5,
            5,
            5,
            5,
            5,
            5
           ]
          },
          {
           "hoverinfo": "none",
           "mode": "text",
           "showlegend": false,
           "text": [
            "10",
            "20",
            "30",
            "40",
            "50",
            "40",
            "30",
            "20",
            "10"
           ],
           "textfont": {
            "color": "#ffffff",
            "family": "Courier New, monospace",
            "size": 30
           },
           "type": "scatter",
           "x": [
            20,
            30,
            40,
            50,
            60,
            70,
            80,
            90,
            100
           ],
           "y": [
            48.5,
            48.5,
            48.5,
            48.5,
            48.5,
            48.5,
            48.5,
            48.5,
            48.5
           ]
          },
          {
           "hoverinfo": "none",
           "line": {
            "color": "blue",
            "dash": "dash"
           },
           "showlegend": false,
           "type": "scatter",
           "x": [
            97,
            97
           ],
           "y": [
            0,
            53.5
           ]
          },
          {
           "hoverinfo": "none",
           "line": {
            "color": "yellow",
            "dash": "dash"
           },
           "showlegend": false,
           "type": "scatter",
           "x": [
            100,
            100
           ],
           "y": [
            0,
            53.5
           ]
          },
          {
           "hoverinfo": "text",
           "hovertext": [
            "nflId:35441.0<br>displayName:Ndamukong Suh<br>Position:DLT<br>Role:Pass Rush",
            "nflId:35454.0<br>displayName:Jason Pierre-Paul<br>Position:RE<br>Role:Pass Rush",
            "nflId:38588.0<br>displayName:Lavonte David<br>Position:ROLB<br>Role:Pass Rush",
            "nflId:41338.0<br>displayName:Ross Cockrell<br>Position:SCBoR<br>Role:Coverage",
            "nflId:41915.0<br>displayName:Shaquil Barrett<br>Position:LOLB<br>Role:Pass Rush",
            "nflId:46081.0<br>displayName:Vita Vea<br>Position:NT<br>Role:Pass Rush",
            "nflId:46132.0<br>displayName:Carlton Davis<br>Position:SCBiR<br>Role:Coverage",
            "nflId:47788.0<br>displayName:Devin White<br>Position:RILB<br>Role:Pass Rush",
            "nflId:47877.0<br>displayName:Jamel Dean<br>Position:RCB<br>Role:Coverage",
            "nflId:47882.0<br>displayName:Mike Edwards<br>Position:LCB<br>Role:Coverage",
            "nflId:52453.0<br>displayName:Antoine Winfield<br>Position:FS<br>Role:Coverage"
           ],
           "marker": {
            "color": "#D50A0A"
           },
           "mode": "markers",
           "name": "TB",
           "type": "scatter",
           "x": [
            97.2,
            97.7,
            97.78,
            98.35,
            97.51,
            97.59,
            98.22,
            97.66,
            98.48,
            98.81,
            108.2
           ],
           "y": [
            21.6,
            26.31,
            28.89,
            36.85,
            18.32,
            23.66,
            31.45,
            25.16,
            43.45,
            16.32,
            26.54
           ]
          },
          {
           "hoverinfo": "text",
           "hovertext": [
            "nflId:37082.0<br>displayName:Tyron Smith<br>Position:LT<br>Role:Pass Block",
            "nflId:42347.0<br>displayName:Amari Cooper<br>Position:SLoWR<br>Role:Pass Route",
            "nflId:42654.0<br>displayName:La'el Collins<br>Position:RT<br>Role:Pass Block",
            "nflId:43293.0<br>displayName:Ezekiel Elliott<br>Position:HB-R<br>Role:Pass Block",
            "nflId:43424.0<br>displayName:Dak Prescott<br>Position:QB<br>Role:Pass",
            "nflId:46119.0<br>displayName:Connor Williams<br>Position:LG<br>Role:Pass Block",
            "nflId:46150.0<br>displayName:Michael Gallup<br>Position:LWR<br>Role:Pass Route",
            "nflId:46206.0<br>displayName:Dalton Schultz<br>Position:RWR<br>Role:Pass Route",
            "nflId:47873.0<br>displayName:Connor McGovern<br>Position:RG<br>Role:Pass Block",
            "nflId:52425.0<br>displayName:CeeDee Lamb<br>Position:SLiWR<br>Role:Pass Route",
            "nflId:52554.0<br>displayName:Tyler Biadasz<br>Position:C<br>Role:Pass Block"
           ],
           "marker": {
            "color": "#003594"
           },
           "mode": "markers",
           "name": "DAL",
           "type": "scatter",
           "x": [
            95.27,
            95.34,
            95.18,
            92.76,
            92.5,
            95.33,
            95.34,
            95.76,
            95.5,
            96.27,
            96.09
           ],
           "y": [
            26.73,
            36.74,
            20.62,
            22.17,
            23.54,
            25.23,
            43.94,
            16.32,
            22.39,
            31.44,
            23.78
           ]
          },
          {
           "hoverinfo": "none",
           "marker": {
            "color": "#CBB67C"
           },
           "mode": "markers",
           "name": "football",
           "type": "scatter",
           "x": [
            96.89
           ],
           "y": [
            23.71
           ]
          }
         ],
         "name": "5"
        },
        {
         "data": [
          {
           "hoverinfo": "none",
           "mode": "text",
           "showlegend": false,
           "text": [
            "10",
            "20",
            "30",
            "40",
            "50",
            "40",
            "30",
            "20",
            "10"
           ],
           "textfont": {
            "color": "#ffffff",
            "family": "Courier New, monospace",
            "size": 30
           },
           "type": "scatter",
           "x": [
            20,
            30,
            40,
            50,
            60,
            70,
            80,
            90,
            100
           ],
           "y": [
            5,
            5,
            5,
            5,
            5,
            5,
            5,
            5,
            5
           ]
          },
          {
           "hoverinfo": "none",
           "mode": "text",
           "showlegend": false,
           "text": [
            "10",
            "20",
            "30",
            "40",
            "50",
            "40",
            "30",
            "20",
            "10"
           ],
           "textfont": {
            "color": "#ffffff",
            "family": "Courier New, monospace",
            "size": 30
           },
           "type": "scatter",
           "x": [
            20,
            30,
            40,
            50,
            60,
            70,
            80,
            90,
            100
           ],
           "y": [
            48.5,
            48.5,
            48.5,
            48.5,
            48.5,
            48.5,
            48.5,
            48.5,
            48.5
           ]
          },
          {
           "hoverinfo": "none",
           "line": {
            "color": "blue",
            "dash": "dash"
           },
           "showlegend": false,
           "type": "scatter",
           "x": [
            97,
            97
           ],
           "y": [
            0,
            53.5
           ]
          },
          {
           "hoverinfo": "none",
           "line": {
            "color": "yellow",
            "dash": "dash"
           },
           "showlegend": false,
           "type": "scatter",
           "x": [
            100,
            100
           ],
           "y": [
            0,
            53.5
           ]
          },
          {
           "hoverinfo": "text",
           "hovertext": [
            "nflId:35441.0<br>displayName:Ndamukong Suh<br>Position:DLT<br>Role:Pass Rush",
            "nflId:35454.0<br>displayName:Jason Pierre-Paul<br>Position:RE<br>Role:Pass Rush",
            "nflId:38588.0<br>displayName:Lavonte David<br>Position:ROLB<br>Role:Pass Rush",
            "nflId:41338.0<br>displayName:Ross Cockrell<br>Position:SCBoR<br>Role:Coverage",
            "nflId:41915.0<br>displayName:Shaquil Barrett<br>Position:LOLB<br>Role:Pass Rush",
            "nflId:46081.0<br>displayName:Vita Vea<br>Position:NT<br>Role:Pass Rush",
            "nflId:46132.0<br>displayName:Carlton Davis<br>Position:SCBiR<br>Role:Coverage",
            "nflId:47788.0<br>displayName:Devin White<br>Position:RILB<br>Role:Pass Rush",
            "nflId:47877.0<br>displayName:Jamel Dean<br>Position:RCB<br>Role:Coverage",
            "nflId:47882.0<br>displayName:Mike Edwards<br>Position:LCB<br>Role:Coverage",
            "nflId:52453.0<br>displayName:Antoine Winfield<br>Position:FS<br>Role:Coverage"
           ],
           "marker": {
            "color": "#D50A0A"
           },
           "mode": "markers",
           "name": "TB",
           "type": "scatter",
           "x": [
            97.17,
            97.68,
            97.76,
            98.35,
            97.47,
            97.56,
            98.22,
            97.52,
            98.48,
            98.78,
            108.2
           ],
           "y": [
            21.59,
            26.31,
            28.89,
            36.84,
            18.32,
            23.64,
            31.46,
            25.18,
            43.45,
            16.32,
            26.57
           ]
          },
          {
           "hoverinfo": "text",
           "hovertext": [
            "nflId:37082.0<br>displayName:Tyron Smith<br>Position:LT<br>Role:Pass Block",
            "nflId:42347.0<br>displayName:Amari Cooper<br>Position:SLoWR<br>Role:Pass Route",
            "nflId:42654.0<br>displayName:La'el Collins<br>Position:RT<br>Role:Pass Block",
            "nflId:43293.0<br>displayName:Ezekiel Elliott<br>Position:HB-R<br>Role:Pass Block",
            "nflId:43424.0<br>displayName:Dak Prescott<br>Position:QB<br>Role:Pass",
            "nflId:46119.0<br>displayName:Connor Williams<br>Position:LG<br>Role:Pass Block",
            "nflId:46150.0<br>displayName:Michael Gallup<br>Position:LWR<br>Role:Pass Route",
            "nflId:46206.0<br>displayName:Dalton Schultz<br>Position:RWR<br>Role:Pass Route",
            "nflId:47873.0<br>displayName:Connor McGovern<br>Position:RG<br>Role:Pass Block",
            "nflId:52425.0<br>displayName:CeeDee Lamb<br>Position:SLiWR<br>Role:Pass Route",
            "nflId:52554.0<br>displayName:Tyler Biadasz<br>Position:C<br>Role:Pass Block"
           ],
           "marker": {
            "color": "#003594"
           },
           "mode": "markers",
           "name": "DAL",
           "type": "scatter",
           "x": [
            95.26,
            95.36,
            95.17,
            92.74,
            92.45,
            95.33,
            95.34,
            95.76,
            95.5,
            96.27,
            96.05
           ],
           "y": [
            26.73,
            36.74,
            20.61,
            22.22,
            23.55,
            25.23,
            43.94,
            16.32,
            22.38,
            31.44,
            23.77
           ]
          },
          {
           "hoverinfo": "none",
           "marker": {
            "color": "#CBB67C"
           },
           "mode": "markers",
           "name": "football",
           "type": "scatter",
           "x": [
            96.78
           ],
           "y": [
            23.7
           ]
          }
         ],
         "name": "6"
        },
        {
         "data": [
          {
           "hoverinfo": "none",
           "mode": "text",
           "showlegend": false,
           "text": [
            "10",
            "20",
            "30",
            "40",
            "50",
            "40",
            "30",
            "20",
            "10"
           ],
           "textfont": {
            "color": "#ffffff",
            "family": "Courier New, monospace",
            "size": 30
           },
           "type": "scatter",
           "x": [
            20,
            30,
            40,
            50,
            60,
            70,
            80,
            90,
            100
           ],
           "y": [
            5,
            5,
            5,
            5,
            5,
            5,
            5,
            5,
            5
           ]
          },
          {
           "hoverinfo": "none",
           "mode": "text",
           "showlegend": false,
           "text": [
            "10",
            "20",
            "30",
            "40",
            "50",
            "40",
            "30",
            "20",
            "10"
           ],
           "textfont": {
            "color": "#ffffff",
            "family": "Courier New, monospace",
            "size": 30
           },
           "type": "scatter",
           "x": [
            20,
            30,
            40,
            50,
            60,
            70,
            80,
            90,
            100
           ],
           "y": [
            48.5,
            48.5,
            48.5,
            48.5,
            48.5,
            48.5,
            48.5,
            48.5,
            48.5
           ]
          },
          {
           "hoverinfo": "none",
           "line": {
            "color": "blue",
            "dash": "dash"
           },
           "showlegend": false,
           "type": "scatter",
           "x": [
            97,
            97
           ],
           "y": [
            0,
            53.5
           ]
          },
          {
           "hoverinfo": "none",
           "line": {
            "color": "yellow",
            "dash": "dash"
           },
           "showlegend": false,
           "type": "scatter",
           "x": [
            100,
            100
           ],
           "y": [
            0,
            53.5
           ]
          },
          {
           "hoverinfo": "text",
           "hovertext": [
            "nflId:35441.0<br>displayName:Ndamukong Suh<br>Position:DLT<br>Role:Pass Rush",
            "nflId:35454.0<br>displayName:Jason Pierre-Paul<br>Position:RE<br>Role:Pass Rush",
            "nflId:38588.0<br>displayName:Lavonte David<br>Position:ROLB<br>Role:Pass Rush",
            "nflId:41338.0<br>displayName:Ross Cockrell<br>Position:SCBoR<br>Role:Coverage",
            "nflId:41915.0<br>displayName:Shaquil Barrett<br>Position:LOLB<br>Role:Pass Rush",
            "nflId:46081.0<br>displayName:Vita Vea<br>Position:NT<br>Role:Pass Rush",
            "nflId:46132.0<br>displayName:Carlton Davis<br>Position:SCBiR<br>Role:Coverage",
            "nflId:47788.0<br>displayName:Devin White<br>Position:RILB<br>Role:Pass Rush",
            "nflId:47877.0<br>displayName:Jamel Dean<br>Position:RCB<br>Role:Coverage",
            "nflId:47882.0<br>displayName:Mike Edwards<br>Position:LCB<br>Role:Coverage",
            "nflId:52453.0<br>displayName:Antoine Winfield<br>Position:FS<br>Role:Coverage"
           ],
           "marker": {
            "color": "#D50A0A"
           },
           "mode": "markers",
           "name": "TB",
           "type": "scatter",
           "x": [
            97.09,
            97.62,
            97.74,
            98.36,
            97.38,
            97.53,
            98.22,
            97.38,
            98.49,
            98.78,
            108.2
           ],
           "y": [
            21.61,
            26.32,
            28.88,
            36.84,
            18.32,
            23.63,
            31.47,
            25.16,
            43.45,
            16.35,
            26.6
           ]
          },
          {
           "hoverinfo": "text",
           "hovertext": [
            "nflId:37082.0<br>displayName:Tyron Smith<br>Position:LT<br>Role:Pass Block",
            "nflId:42347.0<br>displayName:Amari Cooper<br>Position:SLoWR<br>Role:Pass Route",
            "nflId:42654.0<br>displayName:La'el Collins<br>Position:RT<br>Role:Pass Block",
            "nflId:43293.0<br>displayName:Ezekiel Elliott<br>Position:HB-R<br>Role:Pass Block",
            "nflId:43424.0<br>displayName:Dak Prescott<br>Position:QB<br>Role:Pass",
            "nflId:46119.0<br>displayName:Connor Williams<br>Position:LG<br>Role:Pass Block",
            "nflId:46150.0<br>displayName:Michael Gallup<br>Position:LWR<br>Role:Pass Route",
            "nflId:46206.0<br>displayName:Dalton Schultz<br>Position:RWR<br>Role:Pass Route",
            "nflId:47873.0<br>displayName:Connor McGovern<br>Position:RG<br>Role:Pass Block",
            "nflId:52425.0<br>displayName:CeeDee Lamb<br>Position:SLiWR<br>Role:Pass Route",
            "nflId:52554.0<br>displayName:Tyler Biadasz<br>Position:C<br>Role:Pass Block"
           ],
           "marker": {
            "color": "#003594"
           },
           "mode": "markers",
           "name": "DAL",
           "type": "scatter",
           "x": [
            95.26,
            95.37,
            95.17,
            92.72,
            92.43,
            95.31,
            95.34,
            95.77,
            95.5,
            96.28,
            95.97
           ],
           "y": [
            26.73,
            36.74,
            20.61,
            22.28,
            23.55,
            25.25,
            43.93,
            16.32,
            22.38,
            31.43,
            23.76
           ]
          },
          {
           "hoverinfo": "none",
           "marker": {
            "color": "#CBB67C"
           },
           "mode": "markers",
           "name": "football",
           "type": "scatter",
           "x": [
            96.71
           ],
           "y": [
            23.7
           ]
          }
         ],
         "name": "7"
        },
        {
         "data": [
          {
           "hoverinfo": "none",
           "mode": "text",
           "showlegend": false,
           "text": [
            "10",
            "20",
            "30",
            "40",
            "50",
            "40",
            "30",
            "20",
            "10"
           ],
           "textfont": {
            "color": "#ffffff",
            "family": "Courier New, monospace",
            "size": 30
           },
           "type": "scatter",
           "x": [
            20,
            30,
            40,
            50,
            60,
            70,
            80,
            90,
            100
           ],
           "y": [
            5,
            5,
            5,
            5,
            5,
            5,
            5,
            5,
            5
           ]
          },
          {
           "hoverinfo": "none",
           "mode": "text",
           "showlegend": false,
           "text": [
            "10",
            "20",
            "30",
            "40",
            "50",
            "40",
            "30",
            "20",
            "10"
           ],
           "textfont": {
            "color": "#ffffff",
            "family": "Courier New, monospace",
            "size": 30
           },
           "type": "scatter",
           "x": [
            20,
            30,
            40,
            50,
            60,
            70,
            80,
            90,
            100
           ],
           "y": [
            48.5,
            48.5,
            48.5,
            48.5,
            48.5,
            48.5,
            48.5,
            48.5,
            48.5
           ]
          },
          {
           "hoverinfo": "none",
           "line": {
            "color": "blue",
            "dash": "dash"
           },
           "showlegend": false,
           "type": "scatter",
           "x": [
            97,
            97
           ],
           "y": [
            0,
            53.5
           ]
          },
          {
           "hoverinfo": "none",
           "line": {
            "color": "yellow",
            "dash": "dash"
           },
           "showlegend": false,
           "type": "scatter",
           "x": [
            100,
            100
           ],
           "y": [
            0,
            53.5
           ]
          },
          {
           "hoverinfo": "text",
           "hovertext": [
            "nflId:35441.0<br>displayName:Ndamukong Suh<br>Position:DLT<br>Role:Pass Rush",
            "nflId:35454.0<br>displayName:Jason Pierre-Paul<br>Position:RE<br>Role:Pass Rush",
            "nflId:38588.0<br>displayName:Lavonte David<br>Position:ROLB<br>Role:Pass Rush",
            "nflId:41338.0<br>displayName:Ross Cockrell<br>Position:SCBoR<br>Role:Coverage",
            "nflId:41915.0<br>displayName:Shaquil Barrett<br>Position:LOLB<br>Role:Pass Rush",
            "nflId:46081.0<br>displayName:Vita Vea<br>Position:NT<br>Role:Pass Rush",
            "nflId:46132.0<br>displayName:Carlton Davis<br>Position:SCBiR<br>Role:Coverage",
            "nflId:47788.0<br>displayName:Devin White<br>Position:RILB<br>Role:Pass Rush",
            "nflId:47877.0<br>displayName:Jamel Dean<br>Position:RCB<br>Role:Coverage",
            "nflId:47882.0<br>displayName:Mike Edwards<br>Position:LCB<br>Role:Coverage",
            "nflId:52453.0<br>displayName:Antoine Winfield<br>Position:FS<br>Role:Coverage"
           ],
           "marker": {
            "color": "#D50A0A"
           },
           "mode": "markers",
           "name": "TB",
           "type": "scatter",
           "x": [
            96.95,
            97.53,
            97.7,
            98.38,
            97.25,
            97.48,
            98.23,
            97.23,
            98.48,
            98.82,
            108.21
           ],
           "y": [
            21.64,
            26.33,
            28.88,
            36.83,
            18.32,
            23.61,
            31.48,
            25.13,
            43.46,
            16.42,
            26.63
           ]
          },
          {
           "hoverinfo": "text",
           "hovertext": [
            "nflId:37082.0<br>displayName:Tyron Smith<br>Position:LT<br>Role:Pass Block",
            "nflId:42347.0<br>displayName:Amari Cooper<br>Position:SLoWR<br>Role:Pass Route",
            "nflId:42654.0<br>displayName:La'el Collins<br>Position:RT<br>Role:Pass Block",
            "nflId:43293.0<br>displayName:Ezekiel Elliott<br>Position:HB-R<br>Role:Pass Block",
            "nflId:43424.0<br>displayName:Dak Prescott<br>Position:QB<br>Role:Pass",
            "nflId:46119.0<br>displayName:Connor Williams<br>Position:LG<br>Role:Pass Block",
            "nflId:46150.0<br>displayName:Michael Gallup<br>Position:LWR<br>Role:Pass Route",
            "nflId:46206.0<br>displayName:Dalton Schultz<br>Position:RWR<br>Role:Pass Route",
            "nflId:47873.0<br>displayName:Connor McGovern<br>Position:RG<br>Role:Pass Block",
            "nflId:52425.0<br>displayName:CeeDee Lamb<br>Position:SLiWR<br>Role:Pass Route",
            "nflId:52554.0<br>displayName:Tyler Biadasz<br>Position:C<br>Role:Pass Block"
           ],
           "marker": {
            "color": "#003594"
           },
           "mode": "markers",
           "name": "DAL",
           "type": "scatter",
           "x": [
            95.23,
            95.38,
            95.15,
            92.72,
            92.42,
            95.3,
            95.34,
            95.81,
            95.49,
            96.31,
            95.87
           ],
           "y": [
            26.74,
            36.74,
            20.59,
            22.34,
            23.55,
            25.25,
            43.94,
            16.32,
            22.38,
            31.42,
            23.76
           ]
          },
          {
           "hoverinfo": "none",
           "marker": {
            "color": "#CBB67C"
           },
           "mode": "markers",
           "name": "football",
           "type": "scatter",
           "x": [
            96.68
           ],
           "y": [
            23.7
           ]
          }
         ],
         "name": "8"
        },
        {
         "data": [
          {
           "hoverinfo": "none",
           "mode": "text",
           "showlegend": false,
           "text": [
            "10",
            "20",
            "30",
            "40",
            "50",
            "40",
            "30",
            "20",
            "10"
           ],
           "textfont": {
            "color": "#ffffff",
            "family": "Courier New, monospace",
            "size": 30
           },
           "type": "scatter",
           "x": [
            20,
            30,
            40,
            50,
            60,
            70,
            80,
            90,
            100
           ],
           "y": [
            5,
            5,
            5,
            5,
            5,
            5,
            5,
            5,
            5
           ]
          },
          {
           "hoverinfo": "none",
           "mode": "text",
           "showlegend": false,
           "text": [
            "10",
            "20",
            "30",
            "40",
            "50",
            "40",
            "30",
            "20",
            "10"
           ],
           "textfont": {
            "color": "#ffffff",
            "family": "Courier New, monospace",
            "size": 30
           },
           "type": "scatter",
           "x": [
            20,
            30,
            40,
            50,
            60,
            70,
            80,
            90,
            100
           ],
           "y": [
            48.5,
            48.5,
            48.5,
            48.5,
            48.5,
            48.5,
            48.5,
            48.5,
            48.5
           ]
          },
          {
           "hoverinfo": "none",
           "line": {
            "color": "blue",
            "dash": "dash"
           },
           "showlegend": false,
           "type": "scatter",
           "x": [
            97,
            97
           ],
           "y": [
            0,
            53.5
           ]
          },
          {
           "hoverinfo": "none",
           "line": {
            "color": "yellow",
            "dash": "dash"
           },
           "showlegend": false,
           "type": "scatter",
           "x": [
            100,
            100
           ],
           "y": [
            0,
            53.5
           ]
          },
          {
           "hoverinfo": "text",
           "hovertext": [
            "nflId:35441.0<br>displayName:Ndamukong Suh<br>Position:DLT<br>Role:Pass Rush",
            "nflId:35454.0<br>displayName:Jason Pierre-Paul<br>Position:RE<br>Role:Pass Rush",
            "nflId:38588.0<br>displayName:Lavonte David<br>Position:ROLB<br>Role:Pass Rush",
            "nflId:41338.0<br>displayName:Ross Cockrell<br>Position:SCBoR<br>Role:Coverage",
            "nflId:41915.0<br>displayName:Shaquil Barrett<br>Position:LOLB<br>Role:Pass Rush",
            "nflId:46081.0<br>displayName:Vita Vea<br>Position:NT<br>Role:Pass Rush",
            "nflId:46132.0<br>displayName:Carlton Davis<br>Position:SCBiR<br>Role:Coverage",
            "nflId:47788.0<br>displayName:Devin White<br>Position:RILB<br>Role:Pass Rush",
            "nflId:47877.0<br>displayName:Jamel Dean<br>Position:RCB<br>Role:Coverage",
            "nflId:47882.0<br>displayName:Mike Edwards<br>Position:LCB<br>Role:Coverage",
            "nflId:52453.0<br>displayName:Antoine Winfield<br>Position:FS<br>Role:Coverage"
           ],
           "marker": {
            "color": "#D50A0A"
           },
           "mode": "markers",
           "name": "TB",
           "type": "scatter",
           "x": [
            96.82,
            97.38,
            97.62,
            98.39,
            97.05,
            97.41,
            98.24,
            97.06,
            98.48,
            98.85,
            108.21
           ],
           "y": [
            21.68,
            26.33,
            28.86,
            36.82,
            18.32,
            23.58,
            31.48,
            25.08,
            43.46,
            16.48,
            26.66
           ]
          },
          {
           "hoverinfo": "text",
           "hovertext": [
            "nflId:37082.0<br>displayName:Tyron Smith<br>Position:LT<br>Role:Pass Block",
            "nflId:42347.0<br>displayName:Amari Cooper<br>Position:SLoWR<br>Role:Pass Route",
            "nflId:42654.0<br>displayName:La'el Collins<br>Position:RT<br>Role:Pass Block",
            "nflId:43293.0<br>displayName:Ezekiel Elliott<br>Position:HB-R<br>Role:Pass Block",
            "nflId:43424.0<br>displayName:Dak Prescott<br>Position:QB<br>Role:Pass",
            "nflId:46119.0<br>displayName:Connor Williams<br>Position:LG<br>Role:Pass Block",
            "nflId:46150.0<br>displayName:Michael Gallup<br>Position:LWR<br>Role:Pass Route",
            "nflId:46206.0<br>displayName:Dalton Schultz<br>Position:RWR<br>Role:Pass Route",
            "nflId:47873.0<br>displayName:Connor McGovern<br>Position:RG<br>Role:Pass Block",
            "nflId:52425.0<br>displayName:CeeDee Lamb<br>Position:SLiWR<br>Role:Pass Route",
            "nflId:52554.0<br>displayName:Tyler Biadasz<br>Position:C<br>Role:Pass Block"
           ],
           "marker": {
            "color": "#003594"
           },
           "mode": "markers",
           "name": "DAL",
           "type": "scatter",
           "x": [
            95.16,
            95.4,
            95.1,
            92.72,
            92.39,
            95.27,
            95.35,
            95.87,
            95.47,
            96.36,
            95.75
           ],
           "y": [
            26.75,
            36.73,
            20.55,
            22.39,
            23.55,
            25.26,
            43.94,
            16.31,
            22.37,
            31.42,
            23.74
           ]
          },
          {
           "hoverinfo": "none",
           "marker": {
            "color": "#CBB67C"
           },
           "mode": "markers",
           "name": "football",
           "type": "scatter",
           "x": [
            96.57
           ],
           "y": [
            23.7
           ]
          }
         ],
         "name": "9"
        },
        {
         "data": [
          {
           "hoverinfo": "none",
           "mode": "text",
           "showlegend": false,
           "text": [
            "10",
            "20",
            "30",
            "40",
            "50",
            "40",
            "30",
            "20",
            "10"
           ],
           "textfont": {
            "color": "#ffffff",
            "family": "Courier New, monospace",
            "size": 30
           },
           "type": "scatter",
           "x": [
            20,
            30,
            40,
            50,
            60,
            70,
            80,
            90,
            100
           ],
           "y": [
            5,
            5,
            5,
            5,
            5,
            5,
            5,
            5,
            5
           ]
          },
          {
           "hoverinfo": "none",
           "mode": "text",
           "showlegend": false,
           "text": [
            "10",
            "20",
            "30",
            "40",
            "50",
            "40",
            "30",
            "20",
            "10"
           ],
           "textfont": {
            "color": "#ffffff",
            "family": "Courier New, monospace",
            "size": 30
           },
           "type": "scatter",
           "x": [
            20,
            30,
            40,
            50,
            60,
            70,
            80,
            90,
            100
           ],
           "y": [
            48.5,
            48.5,
            48.5,
            48.5,
            48.5,
            48.5,
            48.5,
            48.5,
            48.5
           ]
          },
          {
           "hoverinfo": "none",
           "line": {
            "color": "blue",
            "dash": "dash"
           },
           "showlegend": false,
           "type": "scatter",
           "x": [
            97,
            97
           ],
           "y": [
            0,
            53.5
           ]
          },
          {
           "hoverinfo": "none",
           "line": {
            "color": "yellow",
            "dash": "dash"
           },
           "showlegend": false,
           "type": "scatter",
           "x": [
            100,
            100
           ],
           "y": [
            0,
            53.5
           ]
          },
          {
           "hoverinfo": "text",
           "hovertext": [
            "nflId:35441.0<br>displayName:Ndamukong Suh<br>Position:DLT<br>Role:Pass Rush",
            "nflId:35454.0<br>displayName:Jason Pierre-Paul<br>Position:RE<br>Role:Pass Rush",
            "nflId:38588.0<br>displayName:Lavonte David<br>Position:ROLB<br>Role:Pass Rush",
            "nflId:41338.0<br>displayName:Ross Cockrell<br>Position:SCBoR<br>Role:Coverage",
            "nflId:41915.0<br>displayName:Shaquil Barrett<br>Position:LOLB<br>Role:Pass Rush",
            "nflId:46081.0<br>displayName:Vita Vea<br>Position:NT<br>Role:Pass Rush",
            "nflId:46132.0<br>displayName:Carlton Davis<br>Position:SCBiR<br>Role:Coverage",
            "nflId:47788.0<br>displayName:Devin White<br>Position:RILB<br>Role:Pass Rush",
            "nflId:47877.0<br>displayName:Jamel Dean<br>Position:RCB<br>Role:Coverage",
            "nflId:47882.0<br>displayName:Mike Edwards<br>Position:LCB<br>Role:Coverage",
            "nflId:52453.0<br>displayName:Antoine Winfield<br>Position:FS<br>Role:Coverage"
           ],
           "marker": {
            "color": "#D50A0A"
           },
           "mode": "markers",
           "name": "TB",
           "type": "scatter",
           "x": [
            96.66,
            97.19,
            97.46,
            98.4,
            96.79,
            97.31,
            98.26,
            96.86,
            98.48,
            98.86,
            108.21
           ],
           "y": [
            21.72,
            26.32,
            28.83,
            36.82,
            18.33,
            23.53,
            31.49,
            25.03,
            43.46,
            16.5,
            26.68
           ]
          },
          {
           "hoverinfo": "text",
           "hovertext": [
            "nflId:37082.0<br>displayName:Tyron Smith<br>Position:LT<br>Role:Pass Block",
            "nflId:42347.0<br>displayName:Amari Cooper<br>Position:SLoWR<br>Role:Pass Route",
            "nflId:42654.0<br>displayName:La'el Collins<br>Position:RT<br>Role:Pass Block",
            "nflId:43293.0<br>displayName:Ezekiel Elliott<br>Position:HB-R<br>Role:Pass Block",
            "nflId:43424.0<br>displayName:Dak Prescott<br>Position:QB<br>Role:Pass",
            "nflId:46119.0<br>displayName:Connor Williams<br>Position:LG<br>Role:Pass Block",
            "nflId:46150.0<br>displayName:Michael Gallup<br>Position:LWR<br>Role:Pass Route",
            "nflId:46206.0<br>displayName:Dalton Schultz<br>Position:RWR<br>Role:Pass Route",
            "nflId:47873.0<br>displayName:Connor McGovern<br>Position:RG<br>Role:Pass Block",
            "nflId:52425.0<br>displayName:CeeDee Lamb<br>Position:SLiWR<br>Role:Pass Route",
            "nflId:52554.0<br>displayName:Tyler Biadasz<br>Position:C<br>Role:Pass Block"
           ],
           "marker": {
            "color": "#003594"
           },
           "mode": "markers",
           "name": "DAL",
           "type": "scatter",
           "x": [
            95.07,
            95.46,
            95.02,
            92.72,
            92.33,
            95.2,
            95.38,
            96.01,
            95.44,
            96.43,
            95.62
           ],
           "y": [
            26.78,
            36.71,
            20.48,
            22.46,
            23.56,
            25.28,
            43.91,
            16.28,
            22.37,
            31.44,
            23.73
           ]
          },
          {
           "hoverinfo": "none",
           "marker": {
            "color": "#CBB67C"
           },
           "mode": "markers",
           "name": "football",
           "type": "scatter",
           "x": [
            96.28
           ],
           "y": [
            23.7
           ]
          }
         ],
         "name": "10"
        },
        {
         "data": [
          {
           "hoverinfo": "none",
           "mode": "text",
           "showlegend": false,
           "text": [
            "10",
            "20",
            "30",
            "40",
            "50",
            "40",
            "30",
            "20",
            "10"
           ],
           "textfont": {
            "color": "#ffffff",
            "family": "Courier New, monospace",
            "size": 30
           },
           "type": "scatter",
           "x": [
            20,
            30,
            40,
            50,
            60,
            70,
            80,
            90,
            100
           ],
           "y": [
            5,
            5,
            5,
            5,
            5,
            5,
            5,
            5,
            5
           ]
          },
          {
           "hoverinfo": "none",
           "mode": "text",
           "showlegend": false,
           "text": [
            "10",
            "20",
            "30",
            "40",
            "50",
            "40",
            "30",
            "20",
            "10"
           ],
           "textfont": {
            "color": "#ffffff",
            "family": "Courier New, monospace",
            "size": 30
           },
           "type": "scatter",
           "x": [
            20,
            30,
            40,
            50,
            60,
            70,
            80,
            90,
            100
           ],
           "y": [
            48.5,
            48.5,
            48.5,
            48.5,
            48.5,
            48.5,
            48.5,
            48.5,
            48.5
           ]
          },
          {
           "hoverinfo": "none",
           "line": {
            "color": "blue",
            "dash": "dash"
           },
           "showlegend": false,
           "type": "scatter",
           "x": [
            97,
            97
           ],
           "y": [
            0,
            53.5
           ]
          },
          {
           "hoverinfo": "none",
           "line": {
            "color": "yellow",
            "dash": "dash"
           },
           "showlegend": false,
           "type": "scatter",
           "x": [
            100,
            100
           ],
           "y": [
            0,
            53.5
           ]
          },
          {
           "hoverinfo": "text",
           "hovertext": [
            "nflId:35441.0<br>displayName:Ndamukong Suh<br>Position:DLT<br>Role:Pass Rush",
            "nflId:35454.0<br>displayName:Jason Pierre-Paul<br>Position:RE<br>Role:Pass Rush",
            "nflId:38588.0<br>displayName:Lavonte David<br>Position:ROLB<br>Role:Pass Rush",
            "nflId:41338.0<br>displayName:Ross Cockrell<br>Position:SCBoR<br>Role:Coverage",
            "nflId:41915.0<br>displayName:Shaquil Barrett<br>Position:LOLB<br>Role:Pass Rush",
            "nflId:46081.0<br>displayName:Vita Vea<br>Position:NT<br>Role:Pass Rush",
            "nflId:46132.0<br>displayName:Carlton Davis<br>Position:SCBiR<br>Role:Coverage",
            "nflId:47788.0<br>displayName:Devin White<br>Position:RILB<br>Role:Pass Rush",
            "nflId:47877.0<br>displayName:Jamel Dean<br>Position:RCB<br>Role:Coverage",
            "nflId:47882.0<br>displayName:Mike Edwards<br>Position:LCB<br>Role:Coverage",
            "nflId:52453.0<br>displayName:Antoine Winfield<br>Position:FS<br>Role:Coverage"
           ],
           "marker": {
            "color": "#D50A0A"
           },
           "mode": "markers",
           "name": "TB",
           "type": "scatter",
           "x": [
            96.45,
            96.98,
            97.24,
            98.43,
            96.48,
            97.18,
            98.3,
            96.63,
            98.48,
            98.9,
            108.22
           ],
           "y": [
            21.78,
            26.32,
            28.79,
            36.83,
            18.34,
            23.47,
            31.54,
            24.95,
            43.45,
            16.48,
            26.69
           ]
          },
          {
           "hoverinfo": "text",
           "hovertext": [
            "nflId:37082.0<br>displayName:Tyron Smith<br>Position:LT<br>Role:Pass Block",
            "nflId:42347.0<br>displayName:Amari Cooper<br>Position:SLoWR<br>Role:Pass Route",
            "nflId:42654.0<br>displayName:La'el Collins<br>Position:RT<br>Role:Pass Block",
            "nflId:43293.0<br>displayName:Ezekiel Elliott<br>Position:HB-R<br>Role:Pass Block",
            "nflId:43424.0<br>displayName:Dak Prescott<br>Position:QB<br>Role:Pass",
            "nflId:46119.0<br>displayName:Connor Williams<br>Position:LG<br>Role:Pass Block",
            "nflId:46150.0<br>displayName:Michael Gallup<br>Position:LWR<br>Role:Pass Route",
            "nflId:46206.0<br>displayName:Dalton Schultz<br>Position:RWR<br>Role:Pass Route",
            "nflId:47873.0<br>displayName:Connor McGovern<br>Position:RG<br>Role:Pass Block",
            "nflId:52425.0<br>displayName:CeeDee Lamb<br>Position:SLiWR<br>Role:Pass Route",
            "nflId:52554.0<br>displayName:Tyler Biadasz<br>Position:C<br>Role:Pass Block"
           ],
           "marker": {
            "color": "#003594"
           },
           "mode": "markers",
           "name": "DAL",
           "type": "scatter",
           "x": [
            94.94,
            95.54,
            94.88,
            92.72,
            92.22,
            95.08,
            95.43,
            96.19,
            95.37,
            96.55,
            95.48
           ],
           "y": [
            26.81,
            36.69,
            20.36,
            22.54,
            23.58,
            25.31,
            43.87,
            16.24,
            22.38,
            31.48,
            23.71
           ]
          },
          {
           "hoverinfo": "none",
           "marker": {
            "color": "#CBB67C"
           },
           "mode": "markers",
           "name": "football",
           "type": "scatter",
           "x": [
            95.81
           ],
           "y": [
            23.7
           ]
          }
         ],
         "name": "11"
        },
        {
         "data": [
          {
           "hoverinfo": "none",
           "mode": "text",
           "showlegend": false,
           "text": [
            "10",
            "20",
            "30",
            "40",
            "50",
            "40",
            "30",
            "20",
            "10"
           ],
           "textfont": {
            "color": "#ffffff",
            "family": "Courier New, monospace",
            "size": 30
           },
           "type": "scatter",
           "x": [
            20,
            30,
            40,
            50,
            60,
            70,
            80,
            90,
            100
           ],
           "y": [
            5,
            5,
            5,
            5,
            5,
            5,
            5,
            5,
            5
           ]
          },
          {
           "hoverinfo": "none",
           "mode": "text",
           "showlegend": false,
           "text": [
            "10",
            "20",
            "30",
            "40",
            "50",
            "40",
            "30",
            "20",
            "10"
           ],
           "textfont": {
            "color": "#ffffff",
            "family": "Courier New, monospace",
            "size": 30
           },
           "type": "scatter",
           "x": [
            20,
            30,
            40,
            50,
            60,
            70,
            80,
            90,
            100
           ],
           "y": [
            48.5,
            48.5,
            48.5,
            48.5,
            48.5,
            48.5,
            48.5,
            48.5,
            48.5
           ]
          },
          {
           "hoverinfo": "none",
           "line": {
            "color": "blue",
            "dash": "dash"
           },
           "showlegend": false,
           "type": "scatter",
           "x": [
            97,
            97
           ],
           "y": [
            0,
            53.5
           ]
          },
          {
           "hoverinfo": "none",
           "line": {
            "color": "yellow",
            "dash": "dash"
           },
           "showlegend": false,
           "type": "scatter",
           "x": [
            100,
            100
           ],
           "y": [
            0,
            53.5
           ]
          },
          {
           "hoverinfo": "text",
           "hovertext": [
            "nflId:35441.0<br>displayName:Ndamukong Suh<br>Position:DLT<br>Role:Pass Rush",
            "nflId:35454.0<br>displayName:Jason Pierre-Paul<br>Position:RE<br>Role:Pass Rush",
            "nflId:38588.0<br>displayName:Lavonte David<br>Position:ROLB<br>Role:Pass Rush",
            "nflId:41338.0<br>displayName:Ross Cockrell<br>Position:SCBoR<br>Role:Coverage",
            "nflId:41915.0<br>displayName:Shaquil Barrett<br>Position:LOLB<br>Role:Pass Rush",
            "nflId:46081.0<br>displayName:Vita Vea<br>Position:NT<br>Role:Pass Rush",
            "nflId:46132.0<br>displayName:Carlton Davis<br>Position:SCBiR<br>Role:Coverage",
            "nflId:47788.0<br>displayName:Devin White<br>Position:RILB<br>Role:Pass Rush",
            "nflId:47877.0<br>displayName:Jamel Dean<br>Position:RCB<br>Role:Coverage",
            "nflId:47882.0<br>displayName:Mike Edwards<br>Position:LCB<br>Role:Coverage",
            "nflId:52453.0<br>displayName:Antoine Winfield<br>Position:FS<br>Role:Coverage"
           ],
           "marker": {
            "color": "#D50A0A"
           },
           "mode": "markers",
           "name": "TB",
           "type": "scatter",
           "x": [
            96.25,
            96.73,
            96.94,
            98.45,
            96.16,
            97.03,
            98.35,
            96.36,
            98.49,
            98.95,
            108.23
           ],
           "y": [
            21.88,
            26.32,
            28.74,
            36.82,
            18.37,
            23.38,
            31.6,
            24.87,
            43.44,
            16.46,
            26.68
           ]
          },
          {
           "hoverinfo": "text",
           "hovertext": [
            "nflId:37082.0<br>displayName:Tyron Smith<br>Position:LT<br>Role:Pass Block",
            "nflId:42347.0<br>displayName:Amari Cooper<br>Position:SLoWR<br>Role:Pass Route",
            "nflId:42654.0<br>displayName:La'el Collins<br>Position:RT<br>Role:Pass Block",
            "nflId:43293.0<br>displayName:Ezekiel Elliott<br>Position:HB-R<br>Role:Pass Block",
            "nflId:43424.0<br>displayName:Dak Prescott<br>Position:QB<br>Role:Pass",
            "nflId:46119.0<br>displayName:Connor Williams<br>Position:LG<br>Role:Pass Block",
            "nflId:46150.0<br>displayName:Michael Gallup<br>Position:LWR<br>Role:Pass Route",
            "nflId:46206.0<br>displayName:Dalton Schultz<br>Position:RWR<br>Role:Pass Route",
            "nflId:47873.0<br>displayName:Connor McGovern<br>Position:RG<br>Role:Pass Block",
            "nflId:52425.0<br>displayName:CeeDee Lamb<br>Position:SLiWR<br>Role:Pass Route",
            "nflId:52554.0<br>displayName:Tyler Biadasz<br>Position:C<br>Role:Pass Block"
           ],
           "marker": {
            "color": "#003594"
           },
           "mode": "markers",
           "name": "DAL",
           "type": "scatter",
           "x": [
            94.78,
            95.67,
            94.7,
            92.73,
            92.07,
            94.91,
            95.52,
            96.43,
            95.29,
            96.7,
            95.36
           ],
           "y": [
            26.85,
            36.66,
            20.21,
            22.65,
            23.6,
            25.36,
            43.79,
            16.17,
            22.38,
            31.55,
            23.69
           ]
          },
          {
           "hoverinfo": "none",
           "marker": {
            "color": "#CBB67C"
           },
           "mode": "markers",
           "name": "football",
           "type": "scatter",
           "x": [
            95.19
           ],
           "y": [
            23.7
           ]
          }
         ],
         "name": "12"
        },
        {
         "data": [
          {
           "hoverinfo": "none",
           "mode": "text",
           "showlegend": false,
           "text": [
            "10",
            "20",
            "30",
            "40",
            "50",
            "40",
            "30",
            "20",
            "10"
           ],
           "textfont": {
            "color": "#ffffff",
            "family": "Courier New, monospace",
            "size": 30
           },
           "type": "scatter",
           "x": [
            20,
            30,
            40,
            50,
            60,
            70,
            80,
            90,
            100
           ],
           "y": [
            5,
            5,
            5,
            5,
            5,
            5,
            5,
            5,
            5
           ]
          },
          {
           "hoverinfo": "none",
           "mode": "text",
           "showlegend": false,
           "text": [
            "10",
            "20",
            "30",
            "40",
            "50",
            "40",
            "30",
            "20",
            "10"
           ],
           "textfont": {
            "color": "#ffffff",
            "family": "Courier New, monospace",
            "size": 30
           },
           "type": "scatter",
           "x": [
            20,
            30,
            40,
            50,
            60,
            70,
            80,
            90,
            100
           ],
           "y": [
            48.5,
            48.5,
            48.5,
            48.5,
            48.5,
            48.5,
            48.5,
            48.5,
            48.5
           ]
          },
          {
           "hoverinfo": "none",
           "line": {
            "color": "blue",
            "dash": "dash"
           },
           "showlegend": false,
           "type": "scatter",
           "x": [
            97,
            97
           ],
           "y": [
            0,
            53.5
           ]
          },
          {
           "hoverinfo": "none",
           "line": {
            "color": "yellow",
            "dash": "dash"
           },
           "showlegend": false,
           "type": "scatter",
           "x": [
            100,
            100
           ],
           "y": [
            0,
            53.5
           ]
          },
          {
           "hoverinfo": "text",
           "hovertext": [
            "nflId:35441.0<br>displayName:Ndamukong Suh<br>Position:DLT<br>Role:Pass Rush",
            "nflId:35454.0<br>displayName:Jason Pierre-Paul<br>Position:RE<br>Role:Pass Rush",
            "nflId:38588.0<br>displayName:Lavonte David<br>Position:ROLB<br>Role:Pass Rush",
            "nflId:41338.0<br>displayName:Ross Cockrell<br>Position:SCBoR<br>Role:Coverage",
            "nflId:41915.0<br>displayName:Shaquil Barrett<br>Position:LOLB<br>Role:Pass Rush",
            "nflId:46081.0<br>displayName:Vita Vea<br>Position:NT<br>Role:Pass Rush",
            "nflId:46132.0<br>displayName:Carlton Davis<br>Position:SCBiR<br>Role:Coverage",
            "nflId:47788.0<br>displayName:Devin White<br>Position:RILB<br>Role:Pass Rush",
            "nflId:47877.0<br>displayName:Jamel Dean<br>Position:RCB<br>Role:Coverage",
            "nflId:47882.0<br>displayName:Mike Edwards<br>Position:LCB<br>Role:Coverage",
            "nflId:52453.0<br>displayName:Antoine Winfield<br>Position:FS<br>Role:Coverage"
           ],
           "marker": {
            "color": "#D50A0A"
           },
           "mode": "markers",
           "name": "TB",
           "type": "scatter",
           "x": [
            96.04,
            96.42,
            96.59,
            98.49,
            95.81,
            96.85,
            98.42,
            96.07,
            98.49,
            99.01,
            108.25
           ],
           "y": [
            21.98,
            26.33,
            28.69,
            36.82,
            18.42,
            23.27,
            31.67,
            24.79,
            43.43,
            16.43,
            26.66
           ]
          },
          {
           "hoverinfo": "text",
           "hovertext": [
            "nflId:37082.0<br>displayName:Tyron Smith<br>Position:LT<br>Role:Pass Block",
            "nflId:42347.0<br>displayName:Amari Cooper<br>Position:SLoWR<br>Role:Pass Route",
            "nflId:42654.0<br>displayName:La'el Collins<br>Position:RT<br>Role:Pass Block",
            "nflId:43293.0<br>displayName:Ezekiel Elliott<br>Position:HB-R<br>Role:Pass Block",
            "nflId:43424.0<br>displayName:Dak Prescott<br>Position:QB<br>Role:Pass",
            "nflId:46119.0<br>displayName:Connor Williams<br>Position:LG<br>Role:Pass Block",
            "nflId:46150.0<br>displayName:Michael Gallup<br>Position:LWR<br>Role:Pass Route",
            "nflId:46206.0<br>displayName:Dalton Schultz<br>Position:RWR<br>Role:Pass Route",
            "nflId:47873.0<br>displayName:Connor McGovern<br>Position:RG<br>Role:Pass Block",
            "nflId:52425.0<br>displayName:CeeDee Lamb<br>Position:SLiWR<br>Role:Pass Route",
            "nflId:52554.0<br>displayName:Tyler Biadasz<br>Position:C<br>Role:Pass Block"
           ],
           "marker": {
            "color": "#003594"
           },
           "mode": "markers",
           "name": "DAL",
           "type": "scatter",
           "x": [
            94.59,
            95.85,
            94.49,
            92.75,
            91.87,
            94.7,
            95.62,
            96.72,
            95.2,
            96.89,
            95.21
           ],
           "y": [
            26.9,
            36.63,
            20.04,
            22.79,
            23.63,
            25.42,
            43.69,
            16.06,
            22.39,
            31.72,
            23.67
           ]
          },
          {
           "hoverinfo": "none",
           "marker": {
            "color": "#CBB67C"
           },
           "mode": "markers",
           "name": "football",
           "type": "scatter",
           "x": [
            94.45
           ],
           "y": [
            23.71
           ]
          }
         ],
         "name": "13"
        },
        {
         "data": [
          {
           "hoverinfo": "none",
           "mode": "text",
           "showlegend": false,
           "text": [
            "10",
            "20",
            "30",
            "40",
            "50",
            "40",
            "30",
            "20",
            "10"
           ],
           "textfont": {
            "color": "#ffffff",
            "family": "Courier New, monospace",
            "size": 30
           },
           "type": "scatter",
           "x": [
            20,
            30,
            40,
            50,
            60,
            70,
            80,
            90,
            100
           ],
           "y": [
            5,
            5,
            5,
            5,
            5,
            5,
            5,
            5,
            5
           ]
          },
          {
           "hoverinfo": "none",
           "mode": "text",
           "showlegend": false,
           "text": [
            "10",
            "20",
            "30",
            "40",
            "50",
            "40",
            "30",
            "20",
            "10"
           ],
           "textfont": {
            "color": "#ffffff",
            "family": "Courier New, monospace",
            "size": 30
           },
           "type": "scatter",
           "x": [
            20,
            30,
            40,
            50,
            60,
            70,
            80,
            90,
            100
           ],
           "y": [
            48.5,
            48.5,
            48.5,
            48.5,
            48.5,
            48.5,
            48.5,
            48.5,
            48.5
           ]
          },
          {
           "hoverinfo": "none",
           "line": {
            "color": "blue",
            "dash": "dash"
           },
           "showlegend": false,
           "type": "scatter",
           "x": [
            97,
            97
           ],
           "y": [
            0,
            53.5
           ]
          },
          {
           "hoverinfo": "none",
           "line": {
            "color": "yellow",
            "dash": "dash"
           },
           "showlegend": false,
           "type": "scatter",
           "x": [
            100,
            100
           ],
           "y": [
            0,
            53.5
           ]
          },
          {
           "hoverinfo": "text",
           "hovertext": [
            "nflId:35441.0<br>displayName:Ndamukong Suh<br>Position:DLT<br>Role:Pass Rush",
            "nflId:35454.0<br>displayName:Jason Pierre-Paul<br>Position:RE<br>Role:Pass Rush",
            "nflId:38588.0<br>displayName:Lavonte David<br>Position:ROLB<br>Role:Pass Rush",
            "nflId:41338.0<br>displayName:Ross Cockrell<br>Position:SCBoR<br>Role:Coverage",
            "nflId:41915.0<br>displayName:Shaquil Barrett<br>Position:LOLB<br>Role:Pass Rush",
            "nflId:46081.0<br>displayName:Vita Vea<br>Position:NT<br>Role:Pass Rush",
            "nflId:46132.0<br>displayName:Carlton Davis<br>Position:SCBiR<br>Role:Coverage",
            "nflId:47788.0<br>displayName:Devin White<br>Position:RILB<br>Role:Pass Rush",
            "nflId:47877.0<br>displayName:Jamel Dean<br>Position:RCB<br>Role:Coverage",
            "nflId:47882.0<br>displayName:Mike Edwards<br>Position:LCB<br>Role:Coverage",
            "nflId:52453.0<br>displayName:Antoine Winfield<br>Position:FS<br>Role:Coverage"
           ],
           "marker": {
            "color": "#D50A0A"
           },
           "mode": "markers",
           "name": "TB",
           "type": "scatter",
           "x": [
            95.82,
            96.1,
            96.17,
            98.53,
            95.45,
            96.65,
            98.49,
            95.74,
            98.5,
            99.05,
            108.29
           ],
           "y": [
            22.09,
            26.35,
            28.64,
            36.82,
            18.47,
            23.11,
            31.77,
            24.69,
            43.4,
            16.4,
            26.65
           ]
          },
          {
           "hoverinfo": "text",
           "hovertext": [
            "nflId:37082.0<br>displayName:Tyron Smith<br>Position:LT<br>Role:Pass Block",
            "nflId:42347.0<br>displayName:Amari Cooper<br>Position:SLoWR<br>Role:Pass Route",
            "nflId:42654.0<br>displayName:La'el Collins<br>Position:RT<br>Role:Pass Block",
            "nflId:43293.0<br>displayName:Ezekiel Elliott<br>Position:HB-R<br>Role:Pass Block",
            "nflId:43424.0<br>displayName:Dak Prescott<br>Position:QB<br>Role:Pass",
            "nflId:46119.0<br>displayName:Connor Williams<br>Position:LG<br>Role:Pass Block",
            "nflId:46150.0<br>displayName:Michael Gallup<br>Position:LWR<br>Role:Pass Route",
            "nflId:46206.0<br>displayName:Dalton Schultz<br>Position:RWR<br>Role:Pass Route",
            "nflId:47873.0<br>displayName:Connor McGovern<br>Position:RG<br>Role:Pass Block",
            "nflId:52425.0<br>displayName:CeeDee Lamb<br>Position:SLiWR<br>Role:Pass Route",
            "nflId:52554.0<br>displayName:Tyler Biadasz<br>Position:C<br>Role:Pass Block"
           ],
           "marker": {
            "color": "#003594"
           },
           "mode": "markers",
           "name": "DAL",
           "type": "scatter",
           "x": [
            94.35,
            96.06,
            94.23,
            92.78,
            91.63,
            94.48,
            95.76,
            97.05,
            95.09,
            97.1,
            95.08
           ],
           "y": [
            26.96,
            36.59,
            19.87,
            22.95,
            23.67,
            25.48,
            43.53,
            15.92,
            22.39,
            31.89,
            23.65
           ]
          },
          {
           "hoverinfo": "none",
           "marker": {
            "color": "#CBB67C"
           },
           "mode": "markers",
           "name": "football",
           "type": "scatter",
           "x": [
            93.74
           ],
           "y": [
            23.73
           ]
          }
         ],
         "name": "14"
        },
        {
         "data": [
          {
           "hoverinfo": "none",
           "mode": "text",
           "showlegend": false,
           "text": [
            "10",
            "20",
            "30",
            "40",
            "50",
            "40",
            "30",
            "20",
            "10"
           ],
           "textfont": {
            "color": "#ffffff",
            "family": "Courier New, monospace",
            "size": 30
           },
           "type": "scatter",
           "x": [
            20,
            30,
            40,
            50,
            60,
            70,
            80,
            90,
            100
           ],
           "y": [
            5,
            5,
            5,
            5,
            5,
            5,
            5,
            5,
            5
           ]
          },
          {
           "hoverinfo": "none",
           "mode": "text",
           "showlegend": false,
           "text": [
            "10",
            "20",
            "30",
            "40",
            "50",
            "40",
            "30",
            "20",
            "10"
           ],
           "textfont": {
            "color": "#ffffff",
            "family": "Courier New, monospace",
            "size": 30
           },
           "type": "scatter",
           "x": [
            20,
            30,
            40,
            50,
            60,
            70,
            80,
            90,
            100
           ],
           "y": [
            48.5,
            48.5,
            48.5,
            48.5,
            48.5,
            48.5,
            48.5,
            48.5,
            48.5
           ]
          },
          {
           "hoverinfo": "none",
           "line": {
            "color": "blue",
            "dash": "dash"
           },
           "showlegend": false,
           "type": "scatter",
           "x": [
            97,
            97
           ],
           "y": [
            0,
            53.5
           ]
          },
          {
           "hoverinfo": "none",
           "line": {
            "color": "yellow",
            "dash": "dash"
           },
           "showlegend": false,
           "type": "scatter",
           "x": [
            100,
            100
           ],
           "y": [
            0,
            53.5
           ]
          },
          {
           "hoverinfo": "text",
           "hovertext": [
            "nflId:35441.0<br>displayName:Ndamukong Suh<br>Position:DLT<br>Role:Pass Rush",
            "nflId:35454.0<br>displayName:Jason Pierre-Paul<br>Position:RE<br>Role:Pass Rush",
            "nflId:38588.0<br>displayName:Lavonte David<br>Position:ROLB<br>Role:Pass Rush",
            "nflId:41338.0<br>displayName:Ross Cockrell<br>Position:SCBoR<br>Role:Coverage",
            "nflId:41915.0<br>displayName:Shaquil Barrett<br>Position:LOLB<br>Role:Pass Rush",
            "nflId:46081.0<br>displayName:Vita Vea<br>Position:NT<br>Role:Pass Rush",
            "nflId:46132.0<br>displayName:Carlton Davis<br>Position:SCBiR<br>Role:Coverage",
            "nflId:47788.0<br>displayName:Devin White<br>Position:RILB<br>Role:Pass Rush",
            "nflId:47877.0<br>displayName:Jamel Dean<br>Position:RCB<br>Role:Coverage",
            "nflId:47882.0<br>displayName:Mike Edwards<br>Position:LCB<br>Role:Coverage",
            "nflId:52453.0<br>displayName:Antoine Winfield<br>Position:FS<br>Role:Coverage"
           ],
           "marker": {
            "color": "#D50A0A"
           },
           "mode": "markers",
           "name": "TB",
           "type": "scatter",
           "x": [
            95.61,
            95.73,
            95.7,
            98.61,
            95.08,
            96.41,
            98.58,
            95.4,
            98.52,
            99.12,
            108.32
           ],
           "y": [
            22.21,
            26.4,
            28.58,
            36.82,
            18.56,
            22.92,
            31.9,
            24.6,
            43.33,
            16.35,
            26.65
           ]
          },
          {
           "hoverinfo": "text",
           "hovertext": [
            "nflId:37082.0<br>displayName:Tyron Smith<br>Position:LT<br>Role:Pass Block",
            "nflId:42347.0<br>displayName:Amari Cooper<br>Position:SLoWR<br>Role:Pass Route",
            "nflId:42654.0<br>displayName:La'el Collins<br>Position:RT<br>Role:Pass Block",
            "nflId:43293.0<br>displayName:Ezekiel Elliott<br>Position:HB-R<br>Role:Pass Block",
            "nflId:43424.0<br>displayName:Dak Prescott<br>Position:QB<br>Role:Pass",
            "nflId:46119.0<br>displayName:Connor Williams<br>Position:LG<br>Role:Pass Block",
            "nflId:46150.0<br>displayName:Michael Gallup<br>Position:LWR<br>Role:Pass Route",
            "nflId:46206.0<br>displayName:Dalton Schultz<br>Position:RWR<br>Role:Pass Route",
            "nflId:47873.0<br>displayName:Connor McGovern<br>Position:RG<br>Role:Pass Block",
            "nflId:52425.0<br>displayName:CeeDee Lamb<br>Position:SLiWR<br>Role:Pass Route",
            "nflId:52554.0<br>displayName:Tyler Biadasz<br>Position:C<br>Role:Pass Block"
           ],
           "marker": {
            "color": "#003594"
           },
           "mode": "markers",
           "name": "DAL",
           "type": "scatter",
           "x": [
            94.11,
            96.3,
            93.94,
            92.82,
            91.36,
            94.24,
            95.93,
            97.43,
            94.93,
            97.32,
            94.94
           ],
           "y": [
            27.02,
            36.55,
            19.7,
            23.09,
            23.71,
            25.57,
            43.36,
            15.76,
            22.41,
            32.08,
            23.62
           ]
          },
          {
           "hoverinfo": "none",
           "marker": {
            "color": "#CBB67C"
           },
           "mode": "markers",
           "name": "football",
           "type": "scatter",
           "x": [
            92.94
           ],
           "y": [
            23.75
           ]
          }
         ],
         "name": "15"
        },
        {
         "data": [
          {
           "hoverinfo": "none",
           "mode": "text",
           "showlegend": false,
           "text": [
            "10",
            "20",
            "30",
            "40",
            "50",
            "40",
            "30",
            "20",
            "10"
           ],
           "textfont": {
            "color": "#ffffff",
            "family": "Courier New, monospace",
            "size": 30
           },
           "type": "scatter",
           "x": [
            20,
            30,
            40,
            50,
            60,
            70,
            80,
            90,
            100
           ],
           "y": [
            5,
            5,
            5,
            5,
            5,
            5,
            5,
            5,
            5
           ]
          },
          {
           "hoverinfo": "none",
           "mode": "text",
           "showlegend": false,
           "text": [
            "10",
            "20",
            "30",
            "40",
            "50",
            "40",
            "30",
            "20",
            "10"
           ],
           "textfont": {
            "color": "#ffffff",
            "family": "Courier New, monospace",
            "size": 30
           },
           "type": "scatter",
           "x": [
            20,
            30,
            40,
            50,
            60,
            70,
            80,
            90,
            100
           ],
           "y": [
            48.5,
            48.5,
            48.5,
            48.5,
            48.5,
            48.5,
            48.5,
            48.5,
            48.5
           ]
          },
          {
           "hoverinfo": "none",
           "line": {
            "color": "blue",
            "dash": "dash"
           },
           "showlegend": false,
           "type": "scatter",
           "x": [
            97,
            97
           ],
           "y": [
            0,
            53.5
           ]
          },
          {
           "hoverinfo": "none",
           "line": {
            "color": "yellow",
            "dash": "dash"
           },
           "showlegend": false,
           "type": "scatter",
           "x": [
            100,
            100
           ],
           "y": [
            0,
            53.5
           ]
          },
          {
           "hoverinfo": "text",
           "hovertext": [
            "nflId:35441.0<br>displayName:Ndamukong Suh<br>Position:DLT<br>Role:Pass Rush",
            "nflId:35454.0<br>displayName:Jason Pierre-Paul<br>Position:RE<br>Role:Pass Rush",
            "nflId:38588.0<br>displayName:Lavonte David<br>Position:ROLB<br>Role:Pass Rush",
            "nflId:41338.0<br>displayName:Ross Cockrell<br>Position:SCBoR<br>Role:Coverage",
            "nflId:41915.0<br>displayName:Shaquil Barrett<br>Position:LOLB<br>Role:Pass Rush",
            "nflId:46081.0<br>displayName:Vita Vea<br>Position:NT<br>Role:Pass Rush",
            "nflId:46132.0<br>displayName:Carlton Davis<br>Position:SCBiR<br>Role:Coverage",
            "nflId:47788.0<br>displayName:Devin White<br>Position:RILB<br>Role:Pass Rush",
            "nflId:47877.0<br>displayName:Jamel Dean<br>Position:RCB<br>Role:Coverage",
            "nflId:47882.0<br>displayName:Mike Edwards<br>Position:LCB<br>Role:Coverage",
            "nflId:52453.0<br>displayName:Antoine Winfield<br>Position:FS<br>Role:Coverage"
           ],
           "marker": {
            "color": "#D50A0A"
           },
           "mode": "markers",
           "name": "TB",
           "type": "scatter",
           "x": [
            95.39,
            95.38,
            95.19,
            98.71,
            94.72,
            96.15,
            98.69,
            95.03,
            98.55,
            99.26,
            108.37
           ],
           "y": [
            22.3,
            26.42,
            28.54,
            36.81,
            18.67,
            22.7,
            32.04,
            24.48,
            43.19,
            16.26,
            26.66
           ]
          },
          {
           "hoverinfo": "text",
           "hovertext": [
            "nflId:37082.0<br>displayName:Tyron Smith<br>Position:LT<br>Role:Pass Block",
            "nflId:42347.0<br>displayName:Amari Cooper<br>Position:SLoWR<br>Role:Pass Route",
            "nflId:42654.0<br>displayName:La'el Collins<br>Position:RT<br>Role:Pass Block",
            "nflId:43293.0<br>displayName:Ezekiel Elliott<br>Position:HB-R<br>Role:Pass Block",
            "nflId:43424.0<br>displayName:Dak Prescott<br>Position:QB<br>Role:Pass",
            "nflId:46119.0<br>displayName:Connor Williams<br>Position:LG<br>Role:Pass Block",
            "nflId:46150.0<br>displayName:Michael Gallup<br>Position:LWR<br>Role:Pass Route",
            "nflId:46206.0<br>displayName:Dalton Schultz<br>Position:RWR<br>Role:Pass Route",
            "nflId:47873.0<br>displayName:Connor McGovern<br>Position:RG<br>Role:Pass Block",
            "nflId:52425.0<br>displayName:CeeDee Lamb<br>Position:SLiWR<br>Role:Pass Route",
            "nflId:52554.0<br>displayName:Tyler Biadasz<br>Position:C<br>Role:Pass Block"
           ],
           "marker": {
            "color": "#003594"
           },
           "mode": "markers",
           "name": "DAL",
           "type": "scatter",
           "x": [
            93.87,
            96.57,
            93.64,
            92.84,
            91.06,
            93.98,
            96.11,
            97.86,
            94.77,
            97.56,
            94.81
           ],
           "y": [
            27.09,
            36.52,
            19.56,
            23.24,
            23.75,
            25.65,
            43.13,
            15.55,
            22.4,
            32.31,
            23.6
           ]
          },
          {
           "hoverinfo": "none",
           "marker": {
            "color": "#CBB67C"
           },
           "mode": "markers",
           "name": "football",
           "type": "scatter",
           "x": [
            92.15
           ],
           "y": [
            23.78
           ]
          }
         ],
         "name": "16"
        },
        {
         "data": [
          {
           "hoverinfo": "none",
           "mode": "text",
           "showlegend": false,
           "text": [
            "10",
            "20",
            "30",
            "40",
            "50",
            "40",
            "30",
            "20",
            "10"
           ],
           "textfont": {
            "color": "#ffffff",
            "family": "Courier New, monospace",
            "size": 30
           },
           "type": "scatter",
           "x": [
            20,
            30,
            40,
            50,
            60,
            70,
            80,
            90,
            100
           ],
           "y": [
            5,
            5,
            5,
            5,
            5,
            5,
            5,
            5,
            5
           ]
          },
          {
           "hoverinfo": "none",
           "mode": "text",
           "showlegend": false,
           "text": [
            "10",
            "20",
            "30",
            "40",
            "50",
            "40",
            "30",
            "20",
            "10"
           ],
           "textfont": {
            "color": "#ffffff",
            "family": "Courier New, monospace",
            "size": 30
           },
           "type": "scatter",
           "x": [
            20,
            30,
            40,
            50,
            60,
            70,
            80,
            90,
            100
           ],
           "y": [
            48.5,
            48.5,
            48.5,
            48.5,
            48.5,
            48.5,
            48.5,
            48.5,
            48.5
           ]
          },
          {
           "hoverinfo": "none",
           "line": {
            "color": "blue",
            "dash": "dash"
           },
           "showlegend": false,
           "type": "scatter",
           "x": [
            97,
            97
           ],
           "y": [
            0,
            53.5
           ]
          },
          {
           "hoverinfo": "none",
           "line": {
            "color": "yellow",
            "dash": "dash"
           },
           "showlegend": false,
           "type": "scatter",
           "x": [
            100,
            100
           ],
           "y": [
            0,
            53.5
           ]
          },
          {
           "hoverinfo": "text",
           "hovertext": [
            "nflId:35441.0<br>displayName:Ndamukong Suh<br>Position:DLT<br>Role:Pass Rush",
            "nflId:35454.0<br>displayName:Jason Pierre-Paul<br>Position:RE<br>Role:Pass Rush",
            "nflId:38588.0<br>displayName:Lavonte David<br>Position:ROLB<br>Role:Pass Rush",
            "nflId:41338.0<br>displayName:Ross Cockrell<br>Position:SCBoR<br>Role:Coverage",
            "nflId:41915.0<br>displayName:Shaquil Barrett<br>Position:LOLB<br>Role:Pass Rush",
            "nflId:46081.0<br>displayName:Vita Vea<br>Position:NT<br>Role:Pass Rush",
            "nflId:46132.0<br>displayName:Carlton Davis<br>Position:SCBiR<br>Role:Coverage",
            "nflId:47788.0<br>displayName:Devin White<br>Position:RILB<br>Role:Pass Rush",
            "nflId:47877.0<br>displayName:Jamel Dean<br>Position:RCB<br>Role:Coverage",
            "nflId:47882.0<br>displayName:Mike Edwards<br>Position:LCB<br>Role:Coverage",
            "nflId:52453.0<br>displayName:Antoine Winfield<br>Position:FS<br>Role:Coverage"
           ],
           "marker": {
            "color": "#D50A0A"
           },
           "mode": "markers",
           "name": "TB",
           "type": "scatter",
           "x": [
            95.17,
            94.98,
            94.64,
            98.86,
            94.35,
            95.85,
            98.81,
            94.66,
            98.59,
            99.44,
            108.41
           ],
           "y": [
            22.38,
            26.47,
            28.49,
            36.8,
            18.82,
            22.47,
            32.22,
            24.36,
            42.98,
            16.15,
            26.67
           ]
          },
          {
           "hoverinfo": "text",
           "hovertext": [
            "nflId:37082.0<br>displayName:Tyron Smith<br>Position:LT<br>Role:Pass Block",
            "nflId:42347.0<br>displayName:Amari Cooper<br>Position:SLoWR<br>Role:Pass Route",
            "nflId:42654.0<br>displayName:La'el Collins<br>Position:RT<br>Role:Pass Block",
            "nflId:43293.0<br>displayName:Ezekiel Elliott<br>Position:HB-R<br>Role:Pass Block",
            "nflId:43424.0<br>displayName:Dak Prescott<br>Position:QB<br>Role:Pass",
            "nflId:46119.0<br>displayName:Connor Williams<br>Position:LG<br>Role:Pass Block",
            "nflId:46150.0<br>displayName:Michael Gallup<br>Position:LWR<br>Role:Pass Route",
            "nflId:46206.0<br>displayName:Dalton Schultz<br>Position:RWR<br>Role:Pass Route",
            "nflId:47873.0<br>displayName:Connor McGovern<br>Position:RG<br>Role:Pass Block",
            "nflId:52425.0<br>displayName:CeeDee Lamb<br>Position:SLiWR<br>Role:Pass Route",
            "nflId:52554.0<br>displayName:Tyler Biadasz<br>Position:C<br>Role:Pass Block"
           ],
           "marker": {
            "color": "#003594"
           },
           "mode": "markers",
           "name": "DAL",
           "type": "scatter",
           "x": [
            93.61,
            96.86,
            93.32,
            92.82,
            90.75,
            93.72,
            96.32,
            98.31,
            94.6,
            97.82,
            94.67
           ],
           "y": [
            27.16,
            36.54,
            19.48,
            23.35,
            23.8,
            25.73,
            42.82,
            15.32,
            22.38,
            32.59,
            23.55
           ]
          },
          {
           "hoverinfo": "none",
           "marker": {
            "color": "#CBB67C"
           },
           "mode": "markers",
           "name": "football",
           "type": "scatter",
           "x": [
            91.38
           ],
           "y": [
            23.82
           ]
          }
         ],
         "name": "17"
        },
        {
         "data": [
          {
           "hoverinfo": "none",
           "mode": "text",
           "showlegend": false,
           "text": [
            "10",
            "20",
            "30",
            "40",
            "50",
            "40",
            "30",
            "20",
            "10"
           ],
           "textfont": {
            "color": "#ffffff",
            "family": "Courier New, monospace",
            "size": 30
           },
           "type": "scatter",
           "x": [
            20,
            30,
            40,
            50,
            60,
            70,
            80,
            90,
            100
           ],
           "y": [
            5,
            5,
            5,
            5,
            5,
            5,
            5,
            5,
            5
           ]
          },
          {
           "hoverinfo": "none",
           "mode": "text",
           "showlegend": false,
           "text": [
            "10",
            "20",
            "30",
            "40",
            "50",
            "40",
            "30",
            "20",
            "10"
           ],
           "textfont": {
            "color": "#ffffff",
            "family": "Courier New, monospace",
            "size": 30
           },
           "type": "scatter",
           "x": [
            20,
            30,
            40,
            50,
            60,
            70,
            80,
            90,
            100
           ],
           "y": [
            48.5,
            48.5,
            48.5,
            48.5,
            48.5,
            48.5,
            48.5,
            48.5,
            48.5
           ]
          },
          {
           "hoverinfo": "none",
           "line": {
            "color": "blue",
            "dash": "dash"
           },
           "showlegend": false,
           "type": "scatter",
           "x": [
            97,
            97
           ],
           "y": [
            0,
            53.5
           ]
          },
          {
           "hoverinfo": "none",
           "line": {
            "color": "yellow",
            "dash": "dash"
           },
           "showlegend": false,
           "type": "scatter",
           "x": [
            100,
            100
           ],
           "y": [
            0,
            53.5
           ]
          },
          {
           "hoverinfo": "text",
           "hovertext": [
            "nflId:35441.0<br>displayName:Ndamukong Suh<br>Position:DLT<br>Role:Pass Rush",
            "nflId:35454.0<br>displayName:Jason Pierre-Paul<br>Position:RE<br>Role:Pass Rush",
            "nflId:38588.0<br>displayName:Lavonte David<br>Position:ROLB<br>Role:Pass Rush",
            "nflId:41338.0<br>displayName:Ross Cockrell<br>Position:SCBoR<br>Role:Coverage",
            "nflId:41915.0<br>displayName:Shaquil Barrett<br>Position:LOLB<br>Role:Pass Rush",
            "nflId:46081.0<br>displayName:Vita Vea<br>Position:NT<br>Role:Pass Rush",
            "nflId:46132.0<br>displayName:Carlton Davis<br>Position:SCBiR<br>Role:Coverage",
            "nflId:47788.0<br>displayName:Devin White<br>Position:RILB<br>Role:Pass Rush",
            "nflId:47877.0<br>displayName:Jamel Dean<br>Position:RCB<br>Role:Coverage",
            "nflId:47882.0<br>displayName:Mike Edwards<br>Position:LCB<br>Role:Coverage",
            "nflId:52453.0<br>displayName:Antoine Winfield<br>Position:FS<br>Role:Coverage"
           ],
           "marker": {
            "color": "#D50A0A"
           },
           "mode": "markers",
           "name": "TB",
           "type": "scatter",
           "x": [
            94.98,
            94.61,
            94.06,
            99.05,
            93.99,
            95.52,
            98.96,
            94.3,
            98.63,
            99.7,
            108.5
           ],
           "y": [
            22.43,
            26.53,
            28.45,
            36.8,
            18.99,
            22.24,
            32.45,
            24.24,
            42.74,
            15.99,
            26.71
           ]
          },
          {
           "hoverinfo": "text",
           "hovertext": [
            "nflId:37082.0<br>displayName:Tyron Smith<br>Position:LT<br>Role:Pass Block",
            "nflId:42347.0<br>displayName:Amari Cooper<br>Position:SLoWR<br>Role:Pass Route",
            "nflId:42654.0<br>displayName:La'el Collins<br>Position:RT<br>Role:Pass Block",
            "nflId:43293.0<br>displayName:Ezekiel Elliott<br>Position:HB-R<br>Role:Pass Block",
            "nflId:43424.0<br>displayName:Dak Prescott<br>Position:QB<br>Role:Pass",
            "nflId:46119.0<br>displayName:Connor Williams<br>Position:LG<br>Role:Pass Block",
            "nflId:46150.0<br>displayName:Michael Gallup<br>Position:LWR<br>Role:Pass Route",
            "nflId:46206.0<br>displayName:Dalton Schultz<br>Position:RWR<br>Role:Pass Route",
            "nflId:47873.0<br>displayName:Connor McGovern<br>Position:RG<br>Role:Pass Block",
            "nflId:52425.0<br>displayName:CeeDee Lamb<br>Position:SLiWR<br>Role:Pass Route",
            "nflId:52554.0<br>displayName:Tyler Biadasz<br>Position:C<br>Role:Pass Block"
           ],
           "marker": {
            "color": "#003594"
           },
           "mode": "markers",
           "name": "DAL",
           "type": "scatter",
           "x": [
            93.27,
            97.18,
            93.02,
            92.78,
            90.43,
            93.44,
            96.54,
            98.79,
            94.41,
            98.1,
            94.52
           ],
           "y": [
            27.21,
            36.58,
            19.43,
            23.43,
            23.84,
            25.84,
            42.47,
            15.07,
            22.34,
            32.92,
            23.5
           ]
          },
          {
           "hoverinfo": "none",
           "marker": {
            "color": "#CBB67C"
           },
           "mode": "markers",
           "name": "football",
           "type": "scatter",
           "x": [
            90.67
           ],
           "y": [
            23.86
           ]
          }
         ],
         "name": "18"
        },
        {
         "data": [
          {
           "hoverinfo": "none",
           "mode": "text",
           "showlegend": false,
           "text": [
            "10",
            "20",
            "30",
            "40",
            "50",
            "40",
            "30",
            "20",
            "10"
           ],
           "textfont": {
            "color": "#ffffff",
            "family": "Courier New, monospace",
            "size": 30
           },
           "type": "scatter",
           "x": [
            20,
            30,
            40,
            50,
            60,
            70,
            80,
            90,
            100
           ],
           "y": [
            5,
            5,
            5,
            5,
            5,
            5,
            5,
            5,
            5
           ]
          },
          {
           "hoverinfo": "none",
           "mode": "text",
           "showlegend": false,
           "text": [
            "10",
            "20",
            "30",
            "40",
            "50",
            "40",
            "30",
            "20",
            "10"
           ],
           "textfont": {
            "color": "#ffffff",
            "family": "Courier New, monospace",
            "size": 30
           },
           "type": "scatter",
           "x": [
            20,
            30,
            40,
            50,
            60,
            70,
            80,
            90,
            100
           ],
           "y": [
            48.5,
            48.5,
            48.5,
            48.5,
            48.5,
            48.5,
            48.5,
            48.5,
            48.5
           ]
          },
          {
           "hoverinfo": "none",
           "line": {
            "color": "blue",
            "dash": "dash"
           },
           "showlegend": false,
           "type": "scatter",
           "x": [
            97,
            97
           ],
           "y": [
            0,
            53.5
           ]
          },
          {
           "hoverinfo": "none",
           "line": {
            "color": "yellow",
            "dash": "dash"
           },
           "showlegend": false,
           "type": "scatter",
           "x": [
            100,
            100
           ],
           "y": [
            0,
            53.5
           ]
          },
          {
           "hoverinfo": "text",
           "hovertext": [
            "nflId:35441.0<br>displayName:Ndamukong Suh<br>Position:DLT<br>Role:Pass Rush",
            "nflId:35454.0<br>displayName:Jason Pierre-Paul<br>Position:RE<br>Role:Pass Rush",
            "nflId:38588.0<br>displayName:Lavonte David<br>Position:ROLB<br>Role:Pass Rush",
            "nflId:41338.0<br>displayName:Ross Cockrell<br>Position:SCBoR<br>Role:Coverage",
            "nflId:41915.0<br>displayName:Shaquil Barrett<br>Position:LOLB<br>Role:Pass Rush",
            "nflId:46081.0<br>displayName:Vita Vea<br>Position:NT<br>Role:Pass Rush",
            "nflId:46132.0<br>displayName:Carlton Davis<br>Position:SCBiR<br>Role:Coverage",
            "nflId:47788.0<br>displayName:Devin White<br>Position:RILB<br>Role:Pass Rush",
            "nflId:47877.0<br>displayName:Jamel Dean<br>Position:RCB<br>Role:Coverage",
            "nflId:47882.0<br>displayName:Mike Edwards<br>Position:LCB<br>Role:Coverage",
            "nflId:52453.0<br>displayName:Antoine Winfield<br>Position:FS<br>Role:Coverage"
           ],
           "marker": {
            "color": "#D50A0A"
           },
           "mode": "markers",
           "name": "TB",
           "type": "scatter",
           "x": [
            94.78,
            94.23,
            93.46,
            99.26,
            93.64,
            95.18,
            99.13,
            93.95,
            98.67,
            100.01,
            108.6
           ],
           "y": [
            22.46,
            26.59,
            28.42,
            36.82,
            19.2,
            22,
            32.69,
            24.13,
            42.42,
            15.78,
            26.77
           ]
          },
          {
           "hoverinfo": "text",
           "hovertext": [
            "nflId:37082.0<br>displayName:Tyron Smith<br>Position:LT<br>Role:Pass Block",
            "nflId:42347.0<br>displayName:Amari Cooper<br>Position:SLoWR<br>Role:Pass Route",
            "nflId:42654.0<br>displayName:La'el Collins<br>Position:RT<br>Role:Pass Block",
            "nflId:43293.0<br>displayName:Ezekiel Elliott<br>Position:HB-R<br>Role:Pass Block",
            "nflId:43424.0<br>displayName:Dak Prescott<br>Position:QB<br>Role:Pass",
            "nflId:46119.0<br>displayName:Connor Williams<br>Position:LG<br>Role:Pass Block",
            "nflId:46150.0<br>displayName:Michael Gallup<br>Position:LWR<br>Role:Pass Route",
            "nflId:46206.0<br>displayName:Dalton Schultz<br>Position:RWR<br>Role:Pass Route",
            "nflId:47873.0<br>displayName:Connor McGovern<br>Position:RG<br>Role:Pass Block",
            "nflId:52425.0<br>displayName:CeeDee Lamb<br>Position:SLiWR<br>Role:Pass Route",
            "nflId:52554.0<br>displayName:Tyler Biadasz<br>Position:C<br>Role:Pass Block"
           ],
           "marker": {
            "color": "#003594"
           },
           "mode": "markers",
           "name": "DAL",
           "type": "scatter",
           "x": [
            92.94,
            97.5,
            92.72,
            92.7,
            90.11,
            93.16,
            96.78,
            99.3,
            94.19,
            98.41,
            94.38
           ],
           "y": [
            27.27,
            36.64,
            19.41,
            23.46,
            23.89,
            25.94,
            42.09,
            14.8,
            22.27,
            33.3,
            23.44
           ]
          },
          {
           "hoverinfo": "none",
           "marker": {
            "color": "#CBB67C"
           },
           "mode": "markers",
           "name": "football",
           "type": "scatter",
           "x": [
            90.02
           ],
           "y": [
            23.9
           ]
          }
         ],
         "name": "19"
        },
        {
         "data": [
          {
           "hoverinfo": "none",
           "mode": "text",
           "showlegend": false,
           "text": [
            "10",
            "20",
            "30",
            "40",
            "50",
            "40",
            "30",
            "20",
            "10"
           ],
           "textfont": {
            "color": "#ffffff",
            "family": "Courier New, monospace",
            "size": 30
           },
           "type": "scatter",
           "x": [
            20,
            30,
            40,
            50,
            60,
            70,
            80,
            90,
            100
           ],
           "y": [
            5,
            5,
            5,
            5,
            5,
            5,
            5,
            5,
            5
           ]
          },
          {
           "hoverinfo": "none",
           "mode": "text",
           "showlegend": false,
           "text": [
            "10",
            "20",
            "30",
            "40",
            "50",
            "40",
            "30",
            "20",
            "10"
           ],
           "textfont": {
            "color": "#ffffff",
            "family": "Courier New, monospace",
            "size": 30
           },
           "type": "scatter",
           "x": [
            20,
            30,
            40,
            50,
            60,
            70,
            80,
            90,
            100
           ],
           "y": [
            48.5,
            48.5,
            48.5,
            48.5,
            48.5,
            48.5,
            48.5,
            48.5,
            48.5
           ]
          },
          {
           "hoverinfo": "none",
           "line": {
            "color": "blue",
            "dash": "dash"
           },
           "showlegend": false,
           "type": "scatter",
           "x": [
            97,
            97
           ],
           "y": [
            0,
            53.5
           ]
          },
          {
           "hoverinfo": "none",
           "line": {
            "color": "yellow",
            "dash": "dash"
           },
           "showlegend": false,
           "type": "scatter",
           "x": [
            100,
            100
           ],
           "y": [
            0,
            53.5
           ]
          },
          {
           "hoverinfo": "text",
           "hovertext": [
            "nflId:35441.0<br>displayName:Ndamukong Suh<br>Position:DLT<br>Role:Pass Rush",
            "nflId:35454.0<br>displayName:Jason Pierre-Paul<br>Position:RE<br>Role:Pass Rush",
            "nflId:38588.0<br>displayName:Lavonte David<br>Position:ROLB<br>Role:Pass Rush",
            "nflId:41338.0<br>displayName:Ross Cockrell<br>Position:SCBoR<br>Role:Coverage",
            "nflId:41915.0<br>displayName:Shaquil Barrett<br>Position:LOLB<br>Role:Pass Rush",
            "nflId:46081.0<br>displayName:Vita Vea<br>Position:NT<br>Role:Pass Rush",
            "nflId:46132.0<br>displayName:Carlton Davis<br>Position:SCBiR<br>Role:Coverage",
            "nflId:47788.0<br>displayName:Devin White<br>Position:RILB<br>Role:Pass Rush",
            "nflId:47877.0<br>displayName:Jamel Dean<br>Position:RCB<br>Role:Coverage",
            "nflId:47882.0<br>displayName:Mike Edwards<br>Position:LCB<br>Role:Coverage",
            "nflId:52453.0<br>displayName:Antoine Winfield<br>Position:FS<br>Role:Coverage"
           ],
           "marker": {
            "color": "#D50A0A"
           },
           "mode": "markers",
           "name": "TB",
           "type": "scatter",
           "x": [
            94.61,
            93.86,
            92.85,
            99.5,
            93.3,
            94.82,
            99.34,
            93.59,
            98.72,
            100.37,
            108.71
           ],
           "y": [
            22.47,
            26.66,
            28.39,
            36.86,
            19.45,
            21.76,
            32.97,
            24.01,
            42.04,
            15.53,
            26.85
           ]
          },
          {
           "hoverinfo": "text",
           "hovertext": [
            "nflId:37082.0<br>displayName:Tyron Smith<br>Position:LT<br>Role:Pass Block",
            "nflId:42347.0<br>displayName:Amari Cooper<br>Position:SLoWR<br>Role:Pass Route",
            "nflId:42654.0<br>displayName:La'el Collins<br>Position:RT<br>Role:Pass Block",
            "nflId:43293.0<br>displayName:Ezekiel Elliott<br>Position:HB-R<br>Role:Pass Block",
            "nflId:43424.0<br>displayName:Dak Prescott<br>Position:QB<br>Role:Pass",
            "nflId:46119.0<br>displayName:Connor Williams<br>Position:LG<br>Role:Pass Block",
            "nflId:46150.0<br>displayName:Michael Gallup<br>Position:LWR<br>Role:Pass Route",
            "nflId:46206.0<br>displayName:Dalton Schultz<br>Position:RWR<br>Role:Pass Route",
            "nflId:47873.0<br>displayName:Connor McGovern<br>Position:RG<br>Role:Pass Block",
            "nflId:52425.0<br>displayName:CeeDee Lamb<br>Position:SLiWR<br>Role:Pass Route",
            "nflId:52554.0<br>displayName:Tyler Biadasz<br>Position:C<br>Role:Pass Block"
           ],
           "marker": {
            "color": "#003594"
           },
           "mode": "markers",
           "name": "DAL",
           "type": "scatter",
           "x": [
            92.58,
            97.84,
            92.42,
            92.61,
            89.79,
            92.9,
            97.02,
            99.82,
            93.98,
            98.74,
            94.26
           ],
           "y": [
            27.34,
            36.75,
            19.46,
            23.47,
            23.94,
            26.05,
            41.66,
            14.52,
            22.21,
            33.7,
            23.37
           ]
          },
          {
           "hoverinfo": "none",
           "marker": {
            "color": "#CBB67C"
           },
           "mode": "markers",
           "name": "football",
           "type": "scatter",
           "x": [
            89.54
           ],
           "y": [
            23.94
           ]
          }
         ],
         "name": "20"
        },
        {
         "data": [
          {
           "hoverinfo": "none",
           "mode": "text",
           "showlegend": false,
           "text": [
            "10",
            "20",
            "30",
            "40",
            "50",
            "40",
            "30",
            "20",
            "10"
           ],
           "textfont": {
            "color": "#ffffff",
            "family": "Courier New, monospace",
            "size": 30
           },
           "type": "scatter",
           "x": [
            20,
            30,
            40,
            50,
            60,
            70,
            80,
            90,
            100
           ],
           "y": [
            5,
            5,
            5,
            5,
            5,
            5,
            5,
            5,
            5
           ]
          },
          {
           "hoverinfo": "none",
           "mode": "text",
           "showlegend": false,
           "text": [
            "10",
            "20",
            "30",
            "40",
            "50",
            "40",
            "30",
            "20",
            "10"
           ],
           "textfont": {
            "color": "#ffffff",
            "family": "Courier New, monospace",
            "size": 30
           },
           "type": "scatter",
           "x": [
            20,
            30,
            40,
            50,
            60,
            70,
            80,
            90,
            100
           ],
           "y": [
            48.5,
            48.5,
            48.5,
            48.5,
            48.5,
            48.5,
            48.5,
            48.5,
            48.5
           ]
          },
          {
           "hoverinfo": "none",
           "line": {
            "color": "blue",
            "dash": "dash"
           },
           "showlegend": false,
           "type": "scatter",
           "x": [
            97,
            97
           ],
           "y": [
            0,
            53.5
           ]
          },
          {
           "hoverinfo": "none",
           "line": {
            "color": "yellow",
            "dash": "dash"
           },
           "showlegend": false,
           "type": "scatter",
           "x": [
            100,
            100
           ],
           "y": [
            0,
            53.5
           ]
          },
          {
           "hoverinfo": "text",
           "hovertext": [
            "nflId:35441.0<br>displayName:Ndamukong Suh<br>Position:DLT<br>Role:Pass Rush",
            "nflId:35454.0<br>displayName:Jason Pierre-Paul<br>Position:RE<br>Role:Pass Rush",
            "nflId:38588.0<br>displayName:Lavonte David<br>Position:ROLB<br>Role:Pass Rush",
            "nflId:41338.0<br>displayName:Ross Cockrell<br>Position:SCBoR<br>Role:Coverage",
            "nflId:41915.0<br>displayName:Shaquil Barrett<br>Position:LOLB<br>Role:Pass Rush",
            "nflId:46081.0<br>displayName:Vita Vea<br>Position:NT<br>Role:Pass Rush",
            "nflId:46132.0<br>displayName:Carlton Davis<br>Position:SCBiR<br>Role:Coverage",
            "nflId:47788.0<br>displayName:Devin White<br>Position:RILB<br>Role:Pass Rush",
            "nflId:47877.0<br>displayName:Jamel Dean<br>Position:RCB<br>Role:Coverage",
            "nflId:47882.0<br>displayName:Mike Edwards<br>Position:LCB<br>Role:Coverage",
            "nflId:52453.0<br>displayName:Antoine Winfield<br>Position:FS<br>Role:Coverage"
           ],
           "marker": {
            "color": "#D50A0A"
           },
           "mode": "markers",
           "name": "TB",
           "type": "scatter",
           "x": [
            94.44,
            93.51,
            92.22,
            99.76,
            92.95,
            94.46,
            99.58,
            93.28,
            98.76,
            100.78,
            108.82
           ],
           "y": [
            22.43,
            26.76,
            28.35,
            36.92,
            19.72,
            21.55,
            33.28,
            23.92,
            41.61,
            15.25,
            26.94
           ]
          },
          {
           "hoverinfo": "text",
           "hovertext": [
            "nflId:37082.0<br>displayName:Tyron Smith<br>Position:LT<br>Role:Pass Block",
            "nflId:42347.0<br>displayName:Amari Cooper<br>Position:SLoWR<br>Role:Pass Route",
            "nflId:42654.0<br>displayName:La'el Collins<br>Position:RT<br>Role:Pass Block",
            "nflId:43293.0<br>displayName:Ezekiel Elliott<br>Position:HB-R<br>Role:Pass Block",
            "nflId:43424.0<br>displayName:Dak Prescott<br>Position:QB<br>Role:Pass",
            "nflId:46119.0<br>displayName:Connor Williams<br>Position:LG<br>Role:Pass Block",
            "nflId:46150.0<br>displayName:Michael Gallup<br>Position:LWR<br>Role:Pass Route",
            "nflId:46206.0<br>displayName:Dalton Schultz<br>Position:RWR<br>Role:Pass Route",
            "nflId:47873.0<br>displayName:Connor McGovern<br>Position:RG<br>Role:Pass Block",
            "nflId:52425.0<br>displayName:CeeDee Lamb<br>Position:SLiWR<br>Role:Pass Route",
            "nflId:52554.0<br>displayName:Tyler Biadasz<br>Position:C<br>Role:Pass Block"
           ],
           "marker": {
            "color": "#003594"
           },
           "mode": "markers",
           "name": "DAL",
           "type": "scatter",
           "x": [
            92.21,
            98.18,
            92.14,
            92.47,
            89.48,
            92.62,
            97.27,
            100.36,
            93.74,
            99.1,
            94.12
           ],
           "y": [
            27.42,
            36.9,
            19.56,
            23.47,
            23.99,
            26.15,
            41.19,
            14.23,
            22.11,
            34.12,
            23.29
           ]
          },
          {
           "hoverinfo": "none",
           "marker": {
            "color": "#CBB67C"
           },
           "mode": "markers",
           "name": "football",
           "type": "scatter",
           "x": [
            89.15
           ],
           "y": [
            23.99
           ]
          }
         ],
         "name": "21"
        },
        {
         "data": [
          {
           "hoverinfo": "none",
           "mode": "text",
           "showlegend": false,
           "text": [
            "10",
            "20",
            "30",
            "40",
            "50",
            "40",
            "30",
            "20",
            "10"
           ],
           "textfont": {
            "color": "#ffffff",
            "family": "Courier New, monospace",
            "size": 30
           },
           "type": "scatter",
           "x": [
            20,
            30,
            40,
            50,
            60,
            70,
            80,
            90,
            100
           ],
           "y": [
            5,
            5,
            5,
            5,
            5,
            5,
            5,
            5,
            5
           ]
          },
          {
           "hoverinfo": "none",
           "mode": "text",
           "showlegend": false,
           "text": [
            "10",
            "20",
            "30",
            "40",
            "50",
            "40",
            "30",
            "20",
            "10"
           ],
           "textfont": {
            "color": "#ffffff",
            "family": "Courier New, monospace",
            "size": 30
           },
           "type": "scatter",
           "x": [
            20,
            30,
            40,
            50,
            60,
            70,
            80,
            90,
            100
           ],
           "y": [
            48.5,
            48.5,
            48.5,
            48.5,
            48.5,
            48.5,
            48.5,
            48.5,
            48.5
           ]
          },
          {
           "hoverinfo": "none",
           "line": {
            "color": "blue",
            "dash": "dash"
           },
           "showlegend": false,
           "type": "scatter",
           "x": [
            97,
            97
           ],
           "y": [
            0,
            53.5
           ]
          },
          {
           "hoverinfo": "none",
           "line": {
            "color": "yellow",
            "dash": "dash"
           },
           "showlegend": false,
           "type": "scatter",
           "x": [
            100,
            100
           ],
           "y": [
            0,
            53.5
           ]
          },
          {
           "hoverinfo": "text",
           "hovertext": [
            "nflId:35441.0<br>displayName:Ndamukong Suh<br>Position:DLT<br>Role:Pass Rush",
            "nflId:35454.0<br>displayName:Jason Pierre-Paul<br>Position:RE<br>Role:Pass Rush",
            "nflId:38588.0<br>displayName:Lavonte David<br>Position:ROLB<br>Role:Pass Rush",
            "nflId:41338.0<br>displayName:Ross Cockrell<br>Position:SCBoR<br>Role:Coverage",
            "nflId:41915.0<br>displayName:Shaquil Barrett<br>Position:LOLB<br>Role:Pass Rush",
            "nflId:46081.0<br>displayName:Vita Vea<br>Position:NT<br>Role:Pass Rush",
            "nflId:46132.0<br>displayName:Carlton Davis<br>Position:SCBiR<br>Role:Coverage",
            "nflId:47788.0<br>displayName:Devin White<br>Position:RILB<br>Role:Pass Rush",
            "nflId:47877.0<br>displayName:Jamel Dean<br>Position:RCB<br>Role:Coverage",
            "nflId:47882.0<br>displayName:Mike Edwards<br>Position:LCB<br>Role:Coverage",
            "nflId:52453.0<br>displayName:Antoine Winfield<br>Position:FS<br>Role:Coverage"
           ],
           "marker": {
            "color": "#D50A0A"
           },
           "mode": "markers",
           "name": "TB",
           "type": "scatter",
           "x": [
            94.3,
            93.18,
            91.58,
            100.01,
            92.6,
            94.09,
            99.87,
            92.88,
            98.79,
            101.23,
            108.94
           ],
           "y": [
            22.38,
            26.86,
            28.3,
            37.05,
            20.01,
            21.36,
            33.6,
            23.82,
            41.13,
            14.94,
            27.06
           ]
          },
          {
           "hoverinfo": "text",
           "hovertext": [
            "nflId:37082.0<br>displayName:Tyron Smith<br>Position:LT<br>Role:Pass Block",
            "nflId:42347.0<br>displayName:Amari Cooper<br>Position:SLoWR<br>Role:Pass Route",
            "nflId:42654.0<br>displayName:La'el Collins<br>Position:RT<br>Role:Pass Block",
            "nflId:43293.0<br>displayName:Ezekiel Elliott<br>Position:HB-R<br>Role:Pass Block",
            "nflId:43424.0<br>displayName:Dak Prescott<br>Position:QB<br>Role:Pass",
            "nflId:46119.0<br>displayName:Connor Williams<br>Position:LG<br>Role:Pass Block",
            "nflId:46150.0<br>displayName:Michael Gallup<br>Position:LWR<br>Role:Pass Route",
            "nflId:46206.0<br>displayName:Dalton Schultz<br>Position:RWR<br>Role:Pass Route",
            "nflId:47873.0<br>displayName:Connor McGovern<br>Position:RG<br>Role:Pass Block",
            "nflId:52425.0<br>displayName:CeeDee Lamb<br>Position:SLiWR<br>Role:Pass Route",
            "nflId:52554.0<br>displayName:Tyler Biadasz<br>Position:C<br>Role:Pass Block"
           ],
           "marker": {
            "color": "#003594"
           },
           "mode": "markers",
           "name": "DAL",
           "type": "scatter",
           "x": [
            91.83,
            98.51,
            91.86,
            92.31,
            89.19,
            92.36,
            97.52,
            100.91,
            93.47,
            99.48,
            93.98
           ],
           "y": [
            27.47,
            37.09,
            19.69,
            23.43,
            24.05,
            26.23,
            40.69,
            13.91,
            22.01,
            34.55,
            23.2
           ]
          },
          {
           "hoverinfo": "none",
           "marker": {
            "color": "#CBB67C"
           },
           "mode": "markers",
           "name": "football",
           "type": "scatter",
           "x": [
            88.79
           ],
           "y": [
            24.04
           ]
          }
         ],
         "name": "22"
        },
        {
         "data": [
          {
           "hoverinfo": "none",
           "mode": "text",
           "showlegend": false,
           "text": [
            "10",
            "20",
            "30",
            "40",
            "50",
            "40",
            "30",
            "20",
            "10"
           ],
           "textfont": {
            "color": "#ffffff",
            "family": "Courier New, monospace",
            "size": 30
           },
           "type": "scatter",
           "x": [
            20,
            30,
            40,
            50,
            60,
            70,
            80,
            90,
            100
           ],
           "y": [
            5,
            5,
            5,
            5,
            5,
            5,
            5,
            5,
            5
           ]
          },
          {
           "hoverinfo": "none",
           "mode": "text",
           "showlegend": false,
           "text": [
            "10",
            "20",
            "30",
            "40",
            "50",
            "40",
            "30",
            "20",
            "10"
           ],
           "textfont": {
            "color": "#ffffff",
            "family": "Courier New, monospace",
            "size": 30
           },
           "type": "scatter",
           "x": [
            20,
            30,
            40,
            50,
            60,
            70,
            80,
            90,
            100
           ],
           "y": [
            48.5,
            48.5,
            48.5,
            48.5,
            48.5,
            48.5,
            48.5,
            48.5,
            48.5
           ]
          },
          {
           "hoverinfo": "none",
           "line": {
            "color": "blue",
            "dash": "dash"
           },
           "showlegend": false,
           "type": "scatter",
           "x": [
            97,
            97
           ],
           "y": [
            0,
            53.5
           ]
          },
          {
           "hoverinfo": "none",
           "line": {
            "color": "yellow",
            "dash": "dash"
           },
           "showlegend": false,
           "type": "scatter",
           "x": [
            100,
            100
           ],
           "y": [
            0,
            53.5
           ]
          },
          {
           "hoverinfo": "text",
           "hovertext": [
            "nflId:35441.0<br>displayName:Ndamukong Suh<br>Position:DLT<br>Role:Pass Rush",
            "nflId:35454.0<br>displayName:Jason Pierre-Paul<br>Position:RE<br>Role:Pass Rush",
            "nflId:38588.0<br>displayName:Lavonte David<br>Position:ROLB<br>Role:Pass Rush",
            "nflId:41338.0<br>displayName:Ross Cockrell<br>Position:SCBoR<br>Role:Coverage",
            "nflId:41915.0<br>displayName:Shaquil Barrett<br>Position:LOLB<br>Role:Pass Rush",
            "nflId:46081.0<br>displayName:Vita Vea<br>Position:NT<br>Role:Pass Rush",
            "nflId:46132.0<br>displayName:Carlton Davis<br>Position:SCBiR<br>Role:Coverage",
            "nflId:47788.0<br>displayName:Devin White<br>Position:RILB<br>Role:Pass Rush",
            "nflId:47877.0<br>displayName:Jamel Dean<br>Position:RCB<br>Role:Coverage",
            "nflId:47882.0<br>displayName:Mike Edwards<br>Position:LCB<br>Role:Coverage",
            "nflId:52453.0<br>displayName:Antoine Winfield<br>Position:FS<br>Role:Coverage"
           ],
           "marker": {
            "color": "#D50A0A"
           },
           "mode": "markers",
           "name": "TB",
           "type": "scatter",
           "x": [
            94.17,
            92.85,
            90.95,
            100.26,
            92.24,
            93.73,
            100.21,
            92.56,
            98.82,
            101.72,
            109.05
           ],
           "y": [
            22.32,
            26.97,
            28.23,
            37.19,
            20.31,
            21.2,
            33.94,
            23.77,
            40.61,
            14.61,
            27.2
           ]
          },
          {
           "hoverinfo": "text",
           "hovertext": [
            "nflId:37082.0<br>displayName:Tyron Smith<br>Position:LT<br>Role:Pass Block",
            "nflId:42347.0<br>displayName:Amari Cooper<br>Position:SLoWR<br>Role:Pass Route",
            "nflId:42654.0<br>displayName:La'el Collins<br>Position:RT<br>Role:Pass Block",
            "nflId:43293.0<br>displayName:Ezekiel Elliott<br>Position:HB-R<br>Role:Pass Block",
            "nflId:43424.0<br>displayName:Dak Prescott<br>Position:QB<br>Role:Pass",
            "nflId:46119.0<br>displayName:Connor Williams<br>Position:LG<br>Role:Pass Block",
            "nflId:46150.0<br>displayName:Michael Gallup<br>Position:LWR<br>Role:Pass Route",
            "nflId:46206.0<br>displayName:Dalton Schultz<br>Position:RWR<br>Role:Pass Route",
            "nflId:47873.0<br>displayName:Connor McGovern<br>Position:RG<br>Role:Pass Block",
            "nflId:52425.0<br>displayName:CeeDee Lamb<br>Position:SLiWR<br>Role:Pass Route",
            "nflId:52554.0<br>displayName:Tyler Biadasz<br>Position:C<br>Role:Pass Block"
           ],
           "marker": {
            "color": "#003594"
           },
           "mode": "markers",
           "name": "DAL",
           "type": "scatter",
           "x": [
            91.42,
            98.84,
            91.61,
            92.11,
            88.9,
            92.11,
            97.76,
            101.45,
            93.21,
            99.89,
            93.85
           ],
           "y": [
            27.51,
            37.31,
            19.85,
            23.39,
            24.1,
            26.31,
            40.14,
            13.6,
            21.91,
            34.99,
            23.11
           ]
          },
          {
           "hoverinfo": "none",
           "marker": {
            "color": "#CBB67C"
           },
           "mode": "markers",
           "name": "football",
           "type": "scatter",
           "x": [
            88.49
           ],
           "y": [
            24.11
           ]
          }
         ],
         "name": "23"
        },
        {
         "data": [
          {
           "hoverinfo": "none",
           "mode": "text",
           "showlegend": false,
           "text": [
            "10",
            "20",
            "30",
            "40",
            "50",
            "40",
            "30",
            "20",
            "10"
           ],
           "textfont": {
            "color": "#ffffff",
            "family": "Courier New, monospace",
            "size": 30
           },
           "type": "scatter",
           "x": [
            20,
            30,
            40,
            50,
            60,
            70,
            80,
            90,
            100
           ],
           "y": [
            5,
            5,
            5,
            5,
            5,
            5,
            5,
            5,
            5
           ]
          },
          {
           "hoverinfo": "none",
           "mode": "text",
           "showlegend": false,
           "text": [
            "10",
            "20",
            "30",
            "40",
            "50",
            "40",
            "30",
            "20",
            "10"
           ],
           "textfont": {
            "color": "#ffffff",
            "family": "Courier New, monospace",
            "size": 30
           },
           "type": "scatter",
           "x": [
            20,
            30,
            40,
            50,
            60,
            70,
            80,
            90,
            100
           ],
           "y": [
            48.5,
            48.5,
            48.5,
            48.5,
            48.5,
            48.5,
            48.5,
            48.5,
            48.5
           ]
          },
          {
           "hoverinfo": "none",
           "line": {
            "color": "blue",
            "dash": "dash"
           },
           "showlegend": false,
           "type": "scatter",
           "x": [
            97,
            97
           ],
           "y": [
            0,
            53.5
           ]
          },
          {
           "hoverinfo": "none",
           "line": {
            "color": "yellow",
            "dash": "dash"
           },
           "showlegend": false,
           "type": "scatter",
           "x": [
            100,
            100
           ],
           "y": [
            0,
            53.5
           ]
          },
          {
           "hoverinfo": "text",
           "hovertext": [
            "nflId:35441.0<br>displayName:Ndamukong Suh<br>Position:DLT<br>Role:Pass Rush",
            "nflId:35454.0<br>displayName:Jason Pierre-Paul<br>Position:RE<br>Role:Pass Rush",
            "nflId:38588.0<br>displayName:Lavonte David<br>Position:ROLB<br>Role:Pass Rush",
            "nflId:41338.0<br>displayName:Ross Cockrell<br>Position:SCBoR<br>Role:Coverage",
            "nflId:41915.0<br>displayName:Shaquil Barrett<br>Position:LOLB<br>Role:Pass Rush",
            "nflId:46081.0<br>displayName:Vita Vea<br>Position:NT<br>Role:Pass Rush",
            "nflId:46132.0<br>displayName:Carlton Davis<br>Position:SCBiR<br>Role:Coverage",
            "nflId:47788.0<br>displayName:Devin White<br>Position:RILB<br>Role:Pass Rush",
            "nflId:47877.0<br>displayName:Jamel Dean<br>Position:RCB<br>Role:Coverage",
            "nflId:47882.0<br>displayName:Mike Edwards<br>Position:LCB<br>Role:Coverage",
            "nflId:52453.0<br>displayName:Antoine Winfield<br>Position:FS<br>Role:Coverage"
           ],
           "marker": {
            "color": "#D50A0A"
           },
           "mode": "markers",
           "name": "TB",
           "type": "scatter",
           "x": [
            94.07,
            92.56,
            90.34,
            100.5,
            91.88,
            93.38,
            100.57,
            92.19,
            98.85,
            102.23,
            109.15
           ],
           "y": [
            22.25,
            27.06,
            28.15,
            37.36,
            20.6,
            21.06,
            34.29,
            23.73,
            40.04,
            14.25,
            27.33
           ]
          },
          {
           "hoverinfo": "text",
           "hovertext": [
            "nflId:37082.0<br>displayName:Tyron Smith<br>Position:LT<br>Role:Pass Block",
            "nflId:42347.0<br>displayName:Amari Cooper<br>Position:SLoWR<br>Role:Pass Route",
            "nflId:42654.0<br>displayName:La'el Collins<br>Position:RT<br>Role:Pass Block",
            "nflId:43293.0<br>displayName:Ezekiel Elliott<br>Position:HB-R<br>Role:Pass Block",
            "nflId:43424.0<br>displayName:Dak Prescott<br>Position:QB<br>Role:Pass",
            "nflId:46119.0<br>displayName:Connor Williams<br>Position:LG<br>Role:Pass Block",
            "nflId:46150.0<br>displayName:Michael Gallup<br>Position:LWR<br>Role:Pass Route",
            "nflId:46206.0<br>displayName:Dalton Schultz<br>Position:RWR<br>Role:Pass Route",
            "nflId:47873.0<br>displayName:Connor McGovern<br>Position:RG<br>Role:Pass Block",
            "nflId:52425.0<br>displayName:CeeDee Lamb<br>Position:SLiWR<br>Role:Pass Route",
            "nflId:52554.0<br>displayName:Tyler Biadasz<br>Position:C<br>Role:Pass Block"
           ],
           "marker": {
            "color": "#003594"
           },
           "mode": "markers",
           "name": "DAL",
           "type": "scatter",
           "x": [
            91,
            99.16,
            91.36,
            91.85,
            88.63,
            91.88,
            97.99,
            101.97,
            92.95,
            100.35,
            93.73
           ],
           "y": [
            27.51,
            37.55,
            20.05,
            23.38,
            24.15,
            26.39,
            39.55,
            13.3,
            21.8,
            35.43,
            23.01
           ]
          },
          {
           "hoverinfo": "none",
           "marker": {
            "color": "#CBB67C"
           },
           "mode": "markers",
           "name": "football",
           "type": "scatter",
           "x": [
            88.22
           ],
           "y": [
            24.14
           ]
          }
         ],
         "name": "24"
        },
        {
         "data": [
          {
           "hoverinfo": "none",
           "mode": "text",
           "showlegend": false,
           "text": [
            "10",
            "20",
            "30",
            "40",
            "50",
            "40",
            "30",
            "20",
            "10"
           ],
           "textfont": {
            "color": "#ffffff",
            "family": "Courier New, monospace",
            "size": 30
           },
           "type": "scatter",
           "x": [
            20,
            30,
            40,
            50,
            60,
            70,
            80,
            90,
            100
           ],
           "y": [
            5,
            5,
            5,
            5,
            5,
            5,
            5,
            5,
            5
           ]
          },
          {
           "hoverinfo": "none",
           "mode": "text",
           "showlegend": false,
           "text": [
            "10",
            "20",
            "30",
            "40",
            "50",
            "40",
            "30",
            "20",
            "10"
           ],
           "textfont": {
            "color": "#ffffff",
            "family": "Courier New, monospace",
            "size": 30
           },
           "type": "scatter",
           "x": [
            20,
            30,
            40,
            50,
            60,
            70,
            80,
            90,
            100
           ],
           "y": [
            48.5,
            48.5,
            48.5,
            48.5,
            48.5,
            48.5,
            48.5,
            48.5,
            48.5
           ]
          },
          {
           "hoverinfo": "none",
           "line": {
            "color": "blue",
            "dash": "dash"
           },
           "showlegend": false,
           "type": "scatter",
           "x": [
            97,
            97
           ],
           "y": [
            0,
            53.5
           ]
          },
          {
           "hoverinfo": "none",
           "line": {
            "color": "yellow",
            "dash": "dash"
           },
           "showlegend": false,
           "type": "scatter",
           "x": [
            100,
            100
           ],
           "y": [
            0,
            53.5
           ]
          },
          {
           "hoverinfo": "text",
           "hovertext": [
            "nflId:35441.0<br>displayName:Ndamukong Suh<br>Position:DLT<br>Role:Pass Rush",
            "nflId:35454.0<br>displayName:Jason Pierre-Paul<br>Position:RE<br>Role:Pass Rush",
            "nflId:38588.0<br>displayName:Lavonte David<br>Position:ROLB<br>Role:Pass Rush",
            "nflId:41338.0<br>displayName:Ross Cockrell<br>Position:SCBoR<br>Role:Coverage",
            "nflId:41915.0<br>displayName:Shaquil Barrett<br>Position:LOLB<br>Role:Pass Rush",
            "nflId:46081.0<br>displayName:Vita Vea<br>Position:NT<br>Role:Pass Rush",
            "nflId:46132.0<br>displayName:Carlton Davis<br>Position:SCBiR<br>Role:Coverage",
            "nflId:47788.0<br>displayName:Devin White<br>Position:RILB<br>Role:Pass Rush",
            "nflId:47877.0<br>displayName:Jamel Dean<br>Position:RCB<br>Role:Coverage",
            "nflId:47882.0<br>displayName:Mike Edwards<br>Position:LCB<br>Role:Coverage",
            "nflId:52453.0<br>displayName:Antoine Winfield<br>Position:FS<br>Role:Coverage"
           ],
           "marker": {
            "color": "#D50A0A"
           },
           "mode": "markers",
           "name": "TB",
           "type": "scatter",
           "x": [
            93.96,
            92.29,
            89.75,
            100.73,
            91.51,
            93.04,
            100.99,
            91.87,
            98.88,
            102.77,
            109.22
           ],
           "y": [
            22.16,
            27.14,
            28.06,
            37.59,
            20.89,
            20.94,
            34.66,
            23.69,
            39.44,
            13.89,
            27.46
           ]
          },
          {
           "hoverinfo": "text",
           "hovertext": [
            "nflId:37082.0<br>displayName:Tyron Smith<br>Position:LT<br>Role:Pass Block",
            "nflId:42347.0<br>displayName:Amari Cooper<br>Position:SLoWR<br>Role:Pass Route",
            "nflId:42654.0<br>displayName:La'el Collins<br>Position:RT<br>Role:Pass Block",
            "nflId:43293.0<br>displayName:Ezekiel Elliott<br>Position:HB-R<br>Role:Pass Block",
            "nflId:43424.0<br>displayName:Dak Prescott<br>Position:QB<br>Role:Pass",
            "nflId:46119.0<br>displayName:Connor Williams<br>Position:LG<br>Role:Pass Block",
            "nflId:46150.0<br>displayName:Michael Gallup<br>Position:LWR<br>Role:Pass Route",
            "nflId:46206.0<br>displayName:Dalton Schultz<br>Position:RWR<br>Role:Pass Route",
            "nflId:47873.0<br>displayName:Connor McGovern<br>Position:RG<br>Role:Pass Block",
            "nflId:52425.0<br>displayName:CeeDee Lamb<br>Position:SLiWR<br>Role:Pass Route",
            "nflId:52554.0<br>displayName:Tyler Biadasz<br>Position:C<br>Role:Pass Block"
           ],
           "marker": {
            "color": "#003594"
           },
           "mode": "markers",
           "name": "DAL",
           "type": "scatter",
           "x": [
            90.59,
            99.45,
            91.11,
            91.57,
            88.37,
            91.66,
            98.22,
            102.49,
            92.69,
            100.83,
            93.6
           ],
           "y": [
            27.5,
            37.81,
            20.27,
            23.38,
            24.2,
            26.47,
            38.93,
            13.01,
            21.7,
            35.86,
            22.89
           ]
          },
          {
           "hoverinfo": "none",
           "marker": {
            "color": "#CBB67C"
           },
           "mode": "markers",
           "name": "football",
           "type": "scatter",
           "x": [
            88.01
           ],
           "y": [
            24.09
           ]
          }
         ],
         "name": "25"
        },
        {
         "data": [
          {
           "hoverinfo": "none",
           "mode": "text",
           "showlegend": false,
           "text": [
            "10",
            "20",
            "30",
            "40",
            "50",
            "40",
            "30",
            "20",
            "10"
           ],
           "textfont": {
            "color": "#ffffff",
            "family": "Courier New, monospace",
            "size": 30
           },
           "type": "scatter",
           "x": [
            20,
            30,
            40,
            50,
            60,
            70,
            80,
            90,
            100
           ],
           "y": [
            5,
            5,
            5,
            5,
            5,
            5,
            5,
            5,
            5
           ]
          },
          {
           "hoverinfo": "none",
           "mode": "text",
           "showlegend": false,
           "text": [
            "10",
            "20",
            "30",
            "40",
            "50",
            "40",
            "30",
            "20",
            "10"
           ],
           "textfont": {
            "color": "#ffffff",
            "family": "Courier New, monospace",
            "size": 30
           },
           "type": "scatter",
           "x": [
            20,
            30,
            40,
            50,
            60,
            70,
            80,
            90,
            100
           ],
           "y": [
            48.5,
            48.5,
            48.5,
            48.5,
            48.5,
            48.5,
            48.5,
            48.5,
            48.5
           ]
          },
          {
           "hoverinfo": "none",
           "line": {
            "color": "blue",
            "dash": "dash"
           },
           "showlegend": false,
           "type": "scatter",
           "x": [
            97,
            97
           ],
           "y": [
            0,
            53.5
           ]
          },
          {
           "hoverinfo": "none",
           "line": {
            "color": "yellow",
            "dash": "dash"
           },
           "showlegend": false,
           "type": "scatter",
           "x": [
            100,
            100
           ],
           "y": [
            0,
            53.5
           ]
          },
          {
           "hoverinfo": "text",
           "hovertext": [
            "nflId:35441.0<br>displayName:Ndamukong Suh<br>Position:DLT<br>Role:Pass Rush",
            "nflId:35454.0<br>displayName:Jason Pierre-Paul<br>Position:RE<br>Role:Pass Rush",
            "nflId:38588.0<br>displayName:Lavonte David<br>Position:ROLB<br>Role:Pass Rush",
            "nflId:41338.0<br>displayName:Ross Cockrell<br>Position:SCBoR<br>Role:Coverage",
            "nflId:41915.0<br>displayName:Shaquil Barrett<br>Position:LOLB<br>Role:Pass Rush",
            "nflId:46081.0<br>displayName:Vita Vea<br>Position:NT<br>Role:Pass Rush",
            "nflId:46132.0<br>displayName:Carlton Davis<br>Position:SCBiR<br>Role:Coverage",
            "nflId:47788.0<br>displayName:Devin White<br>Position:RILB<br>Role:Pass Rush",
            "nflId:47877.0<br>displayName:Jamel Dean<br>Position:RCB<br>Role:Coverage",
            "nflId:47882.0<br>displayName:Mike Edwards<br>Position:LCB<br>Role:Coverage",
            "nflId:52453.0<br>displayName:Antoine Winfield<br>Position:FS<br>Role:Coverage"
           ],
           "marker": {
            "color": "#D50A0A"
           },
           "mode": "markers",
           "name": "TB",
           "type": "scatter",
           "x": [
            93.87,
            92.05,
            89.18,
            100.96,
            91.15,
            92.69,
            101.43,
            91.52,
            98.91,
            103.32,
            109.23
           ],
           "y": [
            22.06,
            27.22,
            27.96,
            37.87,
            21.18,
            20.85,
            35.04,
            23.69,
            38.81,
            13.53,
            27.55
           ]
          },
          {
           "hoverinfo": "text",
           "hovertext": [
            "nflId:37082.0<br>displayName:Tyron Smith<br>Position:LT<br>Role:Pass Block",
            "nflId:42347.0<br>displayName:Amari Cooper<br>Position:SLoWR<br>Role:Pass Route",
            "nflId:42654.0<br>displayName:La'el Collins<br>Position:RT<br>Role:Pass Block",
            "nflId:43293.0<br>displayName:Ezekiel Elliott<br>Position:HB-R<br>Role:Pass Block",
            "nflId:43424.0<br>displayName:Dak Prescott<br>Position:QB<br>Role:Pass",
            "nflId:46119.0<br>displayName:Connor Williams<br>Position:LG<br>Role:Pass Block",
            "nflId:46150.0<br>displayName:Michael Gallup<br>Position:LWR<br>Role:Pass Route",
            "nflId:46206.0<br>displayName:Dalton Schultz<br>Position:RWR<br>Role:Pass Route",
            "nflId:47873.0<br>displayName:Connor McGovern<br>Position:RG<br>Role:Pass Block",
            "nflId:52425.0<br>displayName:CeeDee Lamb<br>Position:SLiWR<br>Role:Pass Route",
            "nflId:52554.0<br>displayName:Tyler Biadasz<br>Position:C<br>Role:Pass Block"
           ],
           "marker": {
            "color": "#003594"
           },
           "mode": "markers",
           "name": "DAL",
           "type": "scatter",
           "x": [
            90.17,
            99.73,
            90.87,
            91.25,
            88.14,
            91.44,
            98.44,
            103,
            92.45,
            101.34,
            93.46
           ],
           "y": [
            27.45,
            38.07,
            20.5,
            23.41,
            24.28,
            26.54,
            38.29,
            12.75,
            21.59,
            36.28,
            22.78
           ]
          },
          {
           "hoverinfo": "none",
           "marker": {
            "color": "#CBB67C"
           },
           "mode": "markers",
           "name": "football",
           "type": "scatter",
           "x": [
            87.91
           ],
           "y": [
            24.15
           ]
          }
         ],
         "name": "26"
        },
        {
         "data": [
          {
           "hoverinfo": "none",
           "mode": "text",
           "showlegend": false,
           "text": [
            "10",
            "20",
            "30",
            "40",
            "50",
            "40",
            "30",
            "20",
            "10"
           ],
           "textfont": {
            "color": "#ffffff",
            "family": "Courier New, monospace",
            "size": 30
           },
           "type": "scatter",
           "x": [
            20,
            30,
            40,
            50,
            60,
            70,
            80,
            90,
            100
           ],
           "y": [
            5,
            5,
            5,
            5,
            5,
            5,
            5,
            5,
            5
           ]
          },
          {
           "hoverinfo": "none",
           "mode": "text",
           "showlegend": false,
           "text": [
            "10",
            "20",
            "30",
            "40",
            "50",
            "40",
            "30",
            "20",
            "10"
           ],
           "textfont": {
            "color": "#ffffff",
            "family": "Courier New, monospace",
            "size": 30
           },
           "type": "scatter",
           "x": [
            20,
            30,
            40,
            50,
            60,
            70,
            80,
            90,
            100
           ],
           "y": [
            48.5,
            48.5,
            48.5,
            48.5,
            48.5,
            48.5,
            48.5,
            48.5,
            48.5
           ]
          },
          {
           "hoverinfo": "none",
           "line": {
            "color": "blue",
            "dash": "dash"
           },
           "showlegend": false,
           "type": "scatter",
           "x": [
            97,
            97
           ],
           "y": [
            0,
            53.5
           ]
          },
          {
           "hoverinfo": "none",
           "line": {
            "color": "yellow",
            "dash": "dash"
           },
           "showlegend": false,
           "type": "scatter",
           "x": [
            100,
            100
           ],
           "y": [
            0,
            53.5
           ]
          },
          {
           "hoverinfo": "text",
           "hovertext": [
            "nflId:35441.0<br>displayName:Ndamukong Suh<br>Position:DLT<br>Role:Pass Rush",
            "nflId:35454.0<br>displayName:Jason Pierre-Paul<br>Position:RE<br>Role:Pass Rush",
            "nflId:38588.0<br>displayName:Lavonte David<br>Position:ROLB<br>Role:Pass Rush",
            "nflId:41338.0<br>displayName:Ross Cockrell<br>Position:SCBoR<br>Role:Coverage",
            "nflId:41915.0<br>displayName:Shaquil Barrett<br>Position:LOLB<br>Role:Pass Rush",
            "nflId:46081.0<br>displayName:Vita Vea<br>Position:NT<br>Role:Pass Rush",
            "nflId:46132.0<br>displayName:Carlton Davis<br>Position:SCBiR<br>Role:Coverage",
            "nflId:47788.0<br>displayName:Devin White<br>Position:RILB<br>Role:Pass Rush",
            "nflId:47877.0<br>displayName:Jamel Dean<br>Position:RCB<br>Role:Coverage",
            "nflId:47882.0<br>displayName:Mike Edwards<br>Position:LCB<br>Role:Coverage",
            "nflId:52453.0<br>displayName:Antoine Winfield<br>Position:FS<br>Role:Coverage"
           ],
           "marker": {
            "color": "#D50A0A"
           },
           "mode": "markers",
           "name": "TB",
           "type": "scatter",
           "x": [
            93.79,
            91.84,
            88.65,
            101.17,
            90.79,
            92.35,
            101.91,
            91.17,
            98.96,
            103.87,
            109.22
           ],
           "y": [
            21.96,
            27.28,
            27.83,
            38.17,
            21.46,
            20.8,
            35.43,
            23.75,
            38.14,
            13.18,
            27.63
           ]
          },
          {
           "hoverinfo": "text",
           "hovertext": [
            "nflId:37082.0<br>displayName:Tyron Smith<br>Position:LT<br>Role:Pass Block",
            "nflId:42347.0<br>displayName:Amari Cooper<br>Position:SLoWR<br>Role:Pass Route",
            "nflId:42654.0<br>displayName:La'el Collins<br>Position:RT<br>Role:Pass Block",
            "nflId:43293.0<br>displayName:Ezekiel Elliott<br>Position:HB-R<br>Role:Pass Block",
            "nflId:43424.0<br>displayName:Dak Prescott<br>Position:QB<br>Role:Pass",
            "nflId:46119.0<br>displayName:Connor Williams<br>Position:LG<br>Role:Pass Block",
            "nflId:46150.0<br>displayName:Michael Gallup<br>Position:LWR<br>Role:Pass Route",
            "nflId:46206.0<br>displayName:Dalton Schultz<br>Position:RWR<br>Role:Pass Route",
            "nflId:47873.0<br>displayName:Connor McGovern<br>Position:RG<br>Role:Pass Block",
            "nflId:52425.0<br>displayName:CeeDee Lamb<br>Position:SLiWR<br>Role:Pass Route",
            "nflId:52554.0<br>displayName:Tyler Biadasz<br>Position:C<br>Role:Pass Block"
           ],
           "marker": {
            "color": "#003594"
           },
           "mode": "markers",
           "name": "DAL",
           "type": "scatter",
           "x": [
            89.73,
            99.97,
            90.64,
            90.92,
            87.93,
            91.25,
            98.66,
            103.5,
            92.21,
            101.87,
            93.35
           ],
           "y": [
            27.35,
            38.31,
            20.75,
            23.46,
            24.36,
            26.6,
            37.63,
            12.5,
            21.48,
            36.69,
            22.67
           ]
          },
          {
           "hoverinfo": "none",
           "marker": {
            "color": "#CBB67C"
           },
           "mode": "markers",
           "name": "football",
           "type": "scatter",
           "x": [
            87.8
           ],
           "y": [
            24.18
           ]
          }
         ],
         "name": "27"
        },
        {
         "data": [
          {
           "hoverinfo": "none",
           "mode": "text",
           "showlegend": false,
           "text": [
            "10",
            "20",
            "30",
            "40",
            "50",
            "40",
            "30",
            "20",
            "10"
           ],
           "textfont": {
            "color": "#ffffff",
            "family": "Courier New, monospace",
            "size": 30
           },
           "type": "scatter",
           "x": [
            20,
            30,
            40,
            50,
            60,
            70,
            80,
            90,
            100
           ],
           "y": [
            5,
            5,
            5,
            5,
            5,
            5,
            5,
            5,
            5
           ]
          },
          {
           "hoverinfo": "none",
           "mode": "text",
           "showlegend": false,
           "text": [
            "10",
            "20",
            "30",
            "40",
            "50",
            "40",
            "30",
            "20",
            "10"
           ],
           "textfont": {
            "color": "#ffffff",
            "family": "Courier New, monospace",
            "size": 30
           },
           "type": "scatter",
           "x": [
            20,
            30,
            40,
            50,
            60,
            70,
            80,
            90,
            100
           ],
           "y": [
            48.5,
            48.5,
            48.5,
            48.5,
            48.5,
            48.5,
            48.5,
            48.5,
            48.5
           ]
          },
          {
           "hoverinfo": "none",
           "line": {
            "color": "blue",
            "dash": "dash"
           },
           "showlegend": false,
           "type": "scatter",
           "x": [
            97,
            97
           ],
           "y": [
            0,
            53.5
           ]
          },
          {
           "hoverinfo": "none",
           "line": {
            "color": "yellow",
            "dash": "dash"
           },
           "showlegend": false,
           "type": "scatter",
           "x": [
            100,
            100
           ],
           "y": [
            0,
            53.5
           ]
          },
          {
           "hoverinfo": "text",
           "hovertext": [
            "nflId:35441.0<br>displayName:Ndamukong Suh<br>Position:DLT<br>Role:Pass Rush",
            "nflId:35454.0<br>displayName:Jason Pierre-Paul<br>Position:RE<br>Role:Pass Rush",
            "nflId:38588.0<br>displayName:Lavonte David<br>Position:ROLB<br>Role:Pass Rush",
            "nflId:41338.0<br>displayName:Ross Cockrell<br>Position:SCBoR<br>Role:Coverage",
            "nflId:41915.0<br>displayName:Shaquil Barrett<br>Position:LOLB<br>Role:Pass Rush",
            "nflId:46081.0<br>displayName:Vita Vea<br>Position:NT<br>Role:Pass Rush",
            "nflId:46132.0<br>displayName:Carlton Davis<br>Position:SCBiR<br>Role:Coverage",
            "nflId:47788.0<br>displayName:Devin White<br>Position:RILB<br>Role:Pass Rush",
            "nflId:47877.0<br>displayName:Jamel Dean<br>Position:RCB<br>Role:Coverage",
            "nflId:47882.0<br>displayName:Mike Edwards<br>Position:LCB<br>Role:Coverage",
            "nflId:52453.0<br>displayName:Antoine Winfield<br>Position:FS<br>Role:Coverage"
           ],
           "marker": {
            "color": "#D50A0A"
           },
           "mode": "markers",
           "name": "TB",
           "type": "scatter",
           "x": [
            93.72,
            91.67,
            88.15,
            101.37,
            90.42,
            92.02,
            102.44,
            90.8,
            99.02,
            104.41,
            109.13
           ],
           "y": [
            21.86,
            27.31,
            27.69,
            38.48,
            21.73,
            20.76,
            35.84,
            23.85,
            37.45,
            12.84,
            27.68
           ]
          },
          {
           "hoverinfo": "text",
           "hovertext": [
            "nflId:37082.0<br>displayName:Tyron Smith<br>Position:LT<br>Role:Pass Block",
            "nflId:42347.0<br>displayName:Amari Cooper<br>Position:SLoWR<br>Role:Pass Route",
            "nflId:42654.0<br>displayName:La'el Collins<br>Position:RT<br>Role:Pass Block",
            "nflId:43293.0<br>displayName:Ezekiel Elliott<br>Position:HB-R<br>Role:Pass Block",
            "nflId:43424.0<br>displayName:Dak Prescott<br>Position:QB<br>Role:Pass",
            "nflId:46119.0<br>displayName:Connor Williams<br>Position:LG<br>Role:Pass Block",
            "nflId:46150.0<br>displayName:Michael Gallup<br>Position:LWR<br>Role:Pass Route",
            "nflId:46206.0<br>displayName:Dalton Schultz<br>Position:RWR<br>Role:Pass Route",
            "nflId:47873.0<br>displayName:Connor McGovern<br>Position:RG<br>Role:Pass Block",
            "nflId:52425.0<br>displayName:CeeDee Lamb<br>Position:SLiWR<br>Role:Pass Route",
            "nflId:52554.0<br>displayName:Tyler Biadasz<br>Position:C<br>Role:Pass Block"
           ],
           "marker": {
            "color": "#003594"
           },
           "mode": "markers",
           "name": "DAL",
           "type": "scatter",
           "x": [
            89.31,
            100.19,
            90.42,
            90.56,
            87.75,
            91.06,
            98.87,
            103.98,
            91.97,
            102.42,
            93.25
           ],
           "y": [
            27.22,
            38.54,
            20.99,
            23.53,
            24.43,
            26.66,
            36.95,
            12.29,
            21.36,
            37.1,
            22.58
           ]
          },
          {
           "hoverinfo": "none",
           "marker": {
            "color": "#CBB67C"
           },
           "mode": "markers",
           "name": "football",
           "type": "scatter",
           "x": [
            87.73
           ],
           "y": [
            24.2
           ]
          }
         ],
         "name": "28"
        },
        {
         "data": [
          {
           "hoverinfo": "none",
           "mode": "text",
           "showlegend": false,
           "text": [
            "10",
            "20",
            "30",
            "40",
            "50",
            "40",
            "30",
            "20",
            "10"
           ],
           "textfont": {
            "color": "#ffffff",
            "family": "Courier New, monospace",
            "size": 30
           },
           "type": "scatter",
           "x": [
            20,
            30,
            40,
            50,
            60,
            70,
            80,
            90,
            100
           ],
           "y": [
            5,
            5,
            5,
            5,
            5,
            5,
            5,
            5,
            5
           ]
          },
          {
           "hoverinfo": "none",
           "mode": "text",
           "showlegend": false,
           "text": [
            "10",
            "20",
            "30",
            "40",
            "50",
            "40",
            "30",
            "20",
            "10"
           ],
           "textfont": {
            "color": "#ffffff",
            "family": "Courier New, monospace",
            "size": 30
           },
           "type": "scatter",
           "x": [
            20,
            30,
            40,
            50,
            60,
            70,
            80,
            90,
            100
           ],
           "y": [
            48.5,
            48.5,
            48.5,
            48.5,
            48.5,
            48.5,
            48.5,
            48.5,
            48.5
           ]
          },
          {
           "hoverinfo": "none",
           "line": {
            "color": "blue",
            "dash": "dash"
           },
           "showlegend": false,
           "type": "scatter",
           "x": [
            97,
            97
           ],
           "y": [
            0,
            53.5
           ]
          },
          {
           "hoverinfo": "none",
           "line": {
            "color": "yellow",
            "dash": "dash"
           },
           "showlegend": false,
           "type": "scatter",
           "x": [
            100,
            100
           ],
           "y": [
            0,
            53.5
           ]
          },
          {
           "hoverinfo": "text",
           "hovertext": [
            "nflId:35441.0<br>displayName:Ndamukong Suh<br>Position:DLT<br>Role:Pass Rush",
            "nflId:35454.0<br>displayName:Jason Pierre-Paul<br>Position:RE<br>Role:Pass Rush",
            "nflId:38588.0<br>displayName:Lavonte David<br>Position:ROLB<br>Role:Pass Rush",
            "nflId:41338.0<br>displayName:Ross Cockrell<br>Position:SCBoR<br>Role:Coverage",
            "nflId:41915.0<br>displayName:Shaquil Barrett<br>Position:LOLB<br>Role:Pass Rush",
            "nflId:46081.0<br>displayName:Vita Vea<br>Position:NT<br>Role:Pass Rush",
            "nflId:46132.0<br>displayName:Carlton Davis<br>Position:SCBiR<br>Role:Coverage",
            "nflId:47788.0<br>displayName:Devin White<br>Position:RILB<br>Role:Pass Rush",
            "nflId:47877.0<br>displayName:Jamel Dean<br>Position:RCB<br>Role:Coverage",
            "nflId:47882.0<br>displayName:Mike Edwards<br>Position:LCB<br>Role:Coverage",
            "nflId:52453.0<br>displayName:Antoine Winfield<br>Position:FS<br>Role:Coverage"
           ],
           "marker": {
            "color": "#D50A0A"
           },
           "mode": "markers",
           "name": "TB",
           "type": "scatter",
           "x": [
            93.67,
            91.5,
            87.69,
            101.56,
            90.05,
            91.68,
            102.99,
            90.43,
            99.08,
            104.93,
            108.96
           ],
           "y": [
            21.78,
            27.36,
            27.53,
            38.82,
            21.96,
            20.75,
            36.26,
            23.99,
            36.74,
            12.52,
            27.68
           ]
          },
          {
           "hoverinfo": "text",
           "hovertext": [
            "nflId:37082.0<br>displayName:Tyron Smith<br>Position:LT<br>Role:Pass Block",
            "nflId:42347.0<br>displayName:Amari Cooper<br>Position:SLoWR<br>Role:Pass Route",
            "nflId:42654.0<br>displayName:La'el Collins<br>Position:RT<br>Role:Pass Block",
            "nflId:43293.0<br>displayName:Ezekiel Elliott<br>Position:HB-R<br>Role:Pass Block",
            "nflId:43424.0<br>displayName:Dak Prescott<br>Position:QB<br>Role:Pass",
            "nflId:46119.0<br>displayName:Connor Williams<br>Position:LG<br>Role:Pass Block",
            "nflId:46150.0<br>displayName:Michael Gallup<br>Position:LWR<br>Role:Pass Route",
            "nflId:46206.0<br>displayName:Dalton Schultz<br>Position:RWR<br>Role:Pass Route",
            "nflId:47873.0<br>displayName:Connor McGovern<br>Position:RG<br>Role:Pass Block",
            "nflId:52425.0<br>displayName:CeeDee Lamb<br>Position:SLiWR<br>Role:Pass Route",
            "nflId:52554.0<br>displayName:Tyler Biadasz<br>Position:C<br>Role:Pass Block"
           ],
           "marker": {
            "color": "#003594"
           },
           "mode": "markers",
           "name": "DAL",
           "type": "scatter",
           "x": [
            88.89,
            100.39,
            90.17,
            90.19,
            87.58,
            90.89,
            99.09,
            104.46,
            91.73,
            102.99,
            93.17
           ],
           "y": [
            27.05,
            38.72,
            21.22,
            23.62,
            24.52,
            26.72,
            36.27,
            12.11,
            21.25,
            37.52,
            22.49
           ]
          },
          {
           "hoverinfo": "none",
           "marker": {
            "color": "#CBB67C"
           },
           "mode": "markers",
           "name": "football",
           "type": "scatter",
           "x": [
            87.68
           ],
           "y": [
            24.22
           ]
          }
         ],
         "name": "29"
        },
        {
         "data": [
          {
           "hoverinfo": "none",
           "mode": "text",
           "showlegend": false,
           "text": [
            "10",
            "20",
            "30",
            "40",
            "50",
            "40",
            "30",
            "20",
            "10"
           ],
           "textfont": {
            "color": "#ffffff",
            "family": "Courier New, monospace",
            "size": 30
           },
           "type": "scatter",
           "x": [
            20,
            30,
            40,
            50,
            60,
            70,
            80,
            90,
            100
           ],
           "y": [
            5,
            5,
            5,
            5,
            5,
            5,
            5,
            5,
            5
           ]
          },
          {
           "hoverinfo": "none",
           "mode": "text",
           "showlegend": false,
           "text": [
            "10",
            "20",
            "30",
            "40",
            "50",
            "40",
            "30",
            "20",
            "10"
           ],
           "textfont": {
            "color": "#ffffff",
            "family": "Courier New, monospace",
            "size": 30
           },
           "type": "scatter",
           "x": [
            20,
            30,
            40,
            50,
            60,
            70,
            80,
            90,
            100
           ],
           "y": [
            48.5,
            48.5,
            48.5,
            48.5,
            48.5,
            48.5,
            48.5,
            48.5,
            48.5
           ]
          },
          {
           "hoverinfo": "none",
           "line": {
            "color": "blue",
            "dash": "dash"
           },
           "showlegend": false,
           "type": "scatter",
           "x": [
            97,
            97
           ],
           "y": [
            0,
            53.5
           ]
          },
          {
           "hoverinfo": "none",
           "line": {
            "color": "yellow",
            "dash": "dash"
           },
           "showlegend": false,
           "type": "scatter",
           "x": [
            100,
            100
           ],
           "y": [
            0,
            53.5
           ]
          },
          {
           "hoverinfo": "text",
           "hovertext": [
            "nflId:35441.0<br>displayName:Ndamukong Suh<br>Position:DLT<br>Role:Pass Rush",
            "nflId:35454.0<br>displayName:Jason Pierre-Paul<br>Position:RE<br>Role:Pass Rush",
            "nflId:38588.0<br>displayName:Lavonte David<br>Position:ROLB<br>Role:Pass Rush",
            "nflId:41338.0<br>displayName:Ross Cockrell<br>Position:SCBoR<br>Role:Coverage",
            "nflId:41915.0<br>displayName:Shaquil Barrett<br>Position:LOLB<br>Role:Pass Rush",
            "nflId:46081.0<br>displayName:Vita Vea<br>Position:NT<br>Role:Pass Rush",
            "nflId:46132.0<br>displayName:Carlton Davis<br>Position:SCBiR<br>Role:Coverage",
            "nflId:47788.0<br>displayName:Devin White<br>Position:RILB<br>Role:Pass Rush",
            "nflId:47877.0<br>displayName:Jamel Dean<br>Position:RCB<br>Role:Coverage",
            "nflId:47882.0<br>displayName:Mike Edwards<br>Position:LCB<br>Role:Coverage",
            "nflId:52453.0<br>displayName:Antoine Winfield<br>Position:FS<br>Role:Coverage"
           ],
           "marker": {
            "color": "#D50A0A"
           },
           "mode": "markers",
           "name": "TB",
           "type": "scatter",
           "x": [
            93.65,
            91.36,
            87.28,
            101.72,
            89.68,
            91.34,
            103.57,
            90.05,
            99.16,
            105.43,
            108.75
           ],
           "y": [
            21.75,
            27.42,
            27.37,
            39.15,
            22.15,
            20.74,
            36.7,
            24.17,
            36.02,
            12.24,
            27.65
           ]
          },
          {
           "hoverinfo": "text",
           "hovertext": [
            "nflId:37082.0<br>displayName:Tyron Smith<br>Position:LT<br>Role:Pass Block",
            "nflId:42347.0<br>displayName:Amari Cooper<br>Position:SLoWR<br>Role:Pass Route",
            "nflId:42654.0<br>displayName:La'el Collins<br>Position:RT<br>Role:Pass Block",
            "nflId:43293.0<br>displayName:Ezekiel Elliott<br>Position:HB-R<br>Role:Pass Block",
            "nflId:43424.0<br>displayName:Dak Prescott<br>Position:QB<br>Role:Pass",
            "nflId:46119.0<br>displayName:Connor Williams<br>Position:LG<br>Role:Pass Block",
            "nflId:46150.0<br>displayName:Michael Gallup<br>Position:LWR<br>Role:Pass Route",
            "nflId:46206.0<br>displayName:Dalton Schultz<br>Position:RWR<br>Role:Pass Route",
            "nflId:47873.0<br>displayName:Connor McGovern<br>Position:RG<br>Role:Pass Block",
            "nflId:52425.0<br>displayName:CeeDee Lamb<br>Position:SLiWR<br>Role:Pass Route",
            "nflId:52554.0<br>displayName:Tyler Biadasz<br>Position:C<br>Role:Pass Block"
           ],
           "marker": {
            "color": "#003594"
           },
           "mode": "markers",
           "name": "DAL",
           "type": "scatter",
           "x": [
            88.49,
            100.55,
            89.95,
            89.82,
            87.44,
            90.73,
            99.33,
            104.94,
            91.5,
            103.58,
            93.1
           ],
           "y": [
            26.86,
            38.87,
            21.45,
            23.73,
            24.6,
            26.77,
            35.58,
            11.97,
            21.14,
            37.94,
            22.41
           ]
          },
          {
           "hoverinfo": "none",
           "marker": {
            "color": "#CBB67C"
           },
           "mode": "markers",
           "name": "football",
           "type": "scatter",
           "x": [
            87.65
           ],
           "y": [
            24.23
           ]
          }
         ],
         "name": "30"
        },
        {
         "data": [
          {
           "hoverinfo": "none",
           "mode": "text",
           "showlegend": false,
           "text": [
            "10",
            "20",
            "30",
            "40",
            "50",
            "40",
            "30",
            "20",
            "10"
           ],
           "textfont": {
            "color": "#ffffff",
            "family": "Courier New, monospace",
            "size": 30
           },
           "type": "scatter",
           "x": [
            20,
            30,
            40,
            50,
            60,
            70,
            80,
            90,
            100
           ],
           "y": [
            5,
            5,
            5,
            5,
            5,
            5,
            5,
            5,
            5
           ]
          },
          {
           "hoverinfo": "none",
           "mode": "text",
           "showlegend": false,
           "text": [
            "10",
            "20",
            "30",
            "40",
            "50",
            "40",
            "30",
            "20",
            "10"
           ],
           "textfont": {
            "color": "#ffffff",
            "family": "Courier New, monospace",
            "size": 30
           },
           "type": "scatter",
           "x": [
            20,
            30,
            40,
            50,
            60,
            70,
            80,
            90,
            100
           ],
           "y": [
            48.5,
            48.5,
            48.5,
            48.5,
            48.5,
            48.5,
            48.5,
            48.5,
            48.5
           ]
          },
          {
           "hoverinfo": "none",
           "line": {
            "color": "blue",
            "dash": "dash"
           },
           "showlegend": false,
           "type": "scatter",
           "x": [
            97,
            97
           ],
           "y": [
            0,
            53.5
           ]
          },
          {
           "hoverinfo": "none",
           "line": {
            "color": "yellow",
            "dash": "dash"
           },
           "showlegend": false,
           "type": "scatter",
           "x": [
            100,
            100
           ],
           "y": [
            0,
            53.5
           ]
          },
          {
           "hoverinfo": "text",
           "hovertext": [
            "nflId:35441.0<br>displayName:Ndamukong Suh<br>Position:DLT<br>Role:Pass Rush",
            "nflId:35454.0<br>displayName:Jason Pierre-Paul<br>Position:RE<br>Role:Pass Rush",
            "nflId:38588.0<br>displayName:Lavonte David<br>Position:ROLB<br>Role:Pass Rush",
            "nflId:41338.0<br>displayName:Ross Cockrell<br>Position:SCBoR<br>Role:Coverage",
            "nflId:41915.0<br>displayName:Shaquil Barrett<br>Position:LOLB<br>Role:Pass Rush",
            "nflId:46081.0<br>displayName:Vita Vea<br>Position:NT<br>Role:Pass Rush",
            "nflId:46132.0<br>displayName:Carlton Davis<br>Position:SCBiR<br>Role:Coverage",
            "nflId:47788.0<br>displayName:Devin White<br>Position:RILB<br>Role:Pass Rush",
            "nflId:47877.0<br>displayName:Jamel Dean<br>Position:RCB<br>Role:Coverage",
            "nflId:47882.0<br>displayName:Mike Edwards<br>Position:LCB<br>Role:Coverage",
            "nflId:52453.0<br>displayName:Antoine Winfield<br>Position:FS<br>Role:Coverage"
           ],
           "marker": {
            "color": "#D50A0A"
           },
           "mode": "markers",
           "name": "TB",
           "type": "scatter",
           "x": [
            93.62,
            91.22,
            86.91,
            101.87,
            89.31,
            90.99,
            104.17,
            89.67,
            99.24,
            105.91,
            108.51
           ],
           "y": [
            21.72,
            27.49,
            27.19,
            39.47,
            22.32,
            20.74,
            37.17,
            24.37,
            35.28,
            12,
            27.59
           ]
          },
          {
           "hoverinfo": "text",
           "hovertext": [
            "nflId:37082.0<br>displayName:Tyron Smith<br>Position:LT<br>Role:Pass Block",
            "nflId:42347.0<br>displayName:Amari Cooper<br>Position:SLoWR<br>Role:Pass Route",
            "nflId:42654.0<br>displayName:La'el Collins<br>Position:RT<br>Role:Pass Block",
            "nflId:43293.0<br>displayName:Ezekiel Elliott<br>Position:HB-R<br>Role:Pass Block",
            "nflId:43424.0<br>displayName:Dak Prescott<br>Position:QB<br>Role:Pass",
            "nflId:46119.0<br>displayName:Connor Williams<br>Position:LG<br>Role:Pass Block",
            "nflId:46150.0<br>displayName:Michael Gallup<br>Position:LWR<br>Role:Pass Route",
            "nflId:46206.0<br>displayName:Dalton Schultz<br>Position:RWR<br>Role:Pass Route",
            "nflId:47873.0<br>displayName:Connor McGovern<br>Position:RG<br>Role:Pass Block",
            "nflId:52425.0<br>displayName:CeeDee Lamb<br>Position:SLiWR<br>Role:Pass Route",
            "nflId:52554.0<br>displayName:Tyler Biadasz<br>Position:C<br>Role:Pass Block"
           ],
           "marker": {
            "color": "#003594"
           },
           "mode": "markers",
           "name": "DAL",
           "type": "scatter",
           "x": [
            88.1,
            100.68,
            89.75,
            89.45,
            87.3,
            90.57,
            99.58,
            105.41,
            91.27,
            104.18,
            93.06
           ],
           "y": [
            26.65,
            38.98,
            21.68,
            23.88,
            24.69,
            26.84,
            34.91,
            11.89,
            21.05,
            38.37,
            22.37
           ]
          },
          {
           "hoverinfo": "none",
           "marker": {
            "color": "#CBB67C"
           },
           "mode": "markers",
           "name": "football",
           "type": "scatter",
           "x": [
            87.65
           ],
           "y": [
            24.25
           ]
          }
         ],
         "name": "31"
        },
        {
         "data": [
          {
           "hoverinfo": "none",
           "mode": "text",
           "showlegend": false,
           "text": [
            "10",
            "20",
            "30",
            "40",
            "50",
            "40",
            "30",
            "20",
            "10"
           ],
           "textfont": {
            "color": "#ffffff",
            "family": "Courier New, monospace",
            "size": 30
           },
           "type": "scatter",
           "x": [
            20,
            30,
            40,
            50,
            60,
            70,
            80,
            90,
            100
           ],
           "y": [
            5,
            5,
            5,
            5,
            5,
            5,
            5,
            5,
            5
           ]
          },
          {
           "hoverinfo": "none",
           "mode": "text",
           "showlegend": false,
           "text": [
            "10",
            "20",
            "30",
            "40",
            "50",
            "40",
            "30",
            "20",
            "10"
           ],
           "textfont": {
            "color": "#ffffff",
            "family": "Courier New, monospace",
            "size": 30
           },
           "type": "scatter",
           "x": [
            20,
            30,
            40,
            50,
            60,
            70,
            80,
            90,
            100
           ],
           "y": [
            48.5,
            48.5,
            48.5,
            48.5,
            48.5,
            48.5,
            48.5,
            48.5,
            48.5
           ]
          },
          {
           "hoverinfo": "none",
           "line": {
            "color": "blue",
            "dash": "dash"
           },
           "showlegend": false,
           "type": "scatter",
           "x": [
            97,
            97
           ],
           "y": [
            0,
            53.5
           ]
          },
          {
           "hoverinfo": "none",
           "line": {
            "color": "yellow",
            "dash": "dash"
           },
           "showlegend": false,
           "type": "scatter",
           "x": [
            100,
            100
           ],
           "y": [
            0,
            53.5
           ]
          },
          {
           "hoverinfo": "text",
           "hovertext": [
            "nflId:35441.0<br>displayName:Ndamukong Suh<br>Position:DLT<br>Role:Pass Rush",
            "nflId:35454.0<br>displayName:Jason Pierre-Paul<br>Position:RE<br>Role:Pass Rush",
            "nflId:38588.0<br>displayName:Lavonte David<br>Position:ROLB<br>Role:Pass Rush",
            "nflId:41338.0<br>displayName:Ross Cockrell<br>Position:SCBoR<br>Role:Coverage",
            "nflId:41915.0<br>displayName:Shaquil Barrett<br>Position:LOLB<br>Role:Pass Rush",
            "nflId:46081.0<br>displayName:Vita Vea<br>Position:NT<br>Role:Pass Rush",
            "nflId:46132.0<br>displayName:Carlton Davis<br>Position:SCBiR<br>Role:Coverage",
            "nflId:47788.0<br>displayName:Devin White<br>Position:RILB<br>Role:Pass Rush",
            "nflId:47877.0<br>displayName:Jamel Dean<br>Position:RCB<br>Role:Coverage",
            "nflId:47882.0<br>displayName:Mike Edwards<br>Position:LCB<br>Role:Coverage",
            "nflId:52453.0<br>displayName:Antoine Winfield<br>Position:FS<br>Role:Coverage"
           ],
           "marker": {
            "color": "#D50A0A"
           },
           "mode": "markers",
           "name": "TB",
           "type": "scatter",
           "x": [
            93.63,
            91.11,
            86.58,
            102,
            88.94,
            90.64,
            104.78,
            89.3,
            99.33,
            106.35,
            108.22
           ],
           "y": [
            21.67,
            27.56,
            27.01,
            39.76,
            22.46,
            20.75,
            37.65,
            24.58,
            34.52,
            11.82,
            27.5
           ]
          },
          {
           "hoverinfo": "text",
           "hovertext": [
            "nflId:37082.0<br>displayName:Tyron Smith<br>Position:LT<br>Role:Pass Block",
            "nflId:42347.0<br>displayName:Amari Cooper<br>Position:SLoWR<br>Role:Pass Route",
            "nflId:42654.0<br>displayName:La'el Collins<br>Position:RT<br>Role:Pass Block",
            "nflId:43293.0<br>displayName:Ezekiel Elliott<br>Position:HB-R<br>Role:Pass Block",
            "nflId:43424.0<br>displayName:Dak Prescott<br>Position:QB<br>Role:Pass",
            "nflId:46119.0<br>displayName:Connor Williams<br>Position:LG<br>Role:Pass Block",
            "nflId:46150.0<br>displayName:Michael Gallup<br>Position:LWR<br>Role:Pass Route",
            "nflId:46206.0<br>displayName:Dalton Schultz<br>Position:RWR<br>Role:Pass Route",
            "nflId:47873.0<br>displayName:Connor McGovern<br>Position:RG<br>Role:Pass Block",
            "nflId:52425.0<br>displayName:CeeDee Lamb<br>Position:SLiWR<br>Role:Pass Route",
            "nflId:52554.0<br>displayName:Tyler Biadasz<br>Position:C<br>Role:Pass Block"
           ],
           "marker": {
            "color": "#003594"
           },
           "mode": "markers",
           "name": "DAL",
           "type": "scatter",
           "x": [
            87.71,
            100.78,
            89.55,
            89.08,
            87.17,
            90.42,
            99.84,
            105.87,
            91.02,
            104.78,
            93.05
           ],
           "y": [
            26.42,
            39.04,
            21.9,
            24.03,
            24.77,
            26.9,
            34.24,
            11.84,
            20.95,
            38.82,
            22.35
           ]
          },
          {
           "hoverinfo": "none",
           "marker": {
            "color": "#CBB67C"
           },
           "mode": "markers",
           "name": "football",
           "type": "scatter",
           "x": [
            87.71
           ],
           "y": [
            24.3
           ]
          }
         ],
         "name": "32"
        },
        {
         "data": [
          {
           "hoverinfo": "none",
           "mode": "text",
           "showlegend": false,
           "text": [
            "10",
            "20",
            "30",
            "40",
            "50",
            "40",
            "30",
            "20",
            "10"
           ],
           "textfont": {
            "color": "#ffffff",
            "family": "Courier New, monospace",
            "size": 30
           },
           "type": "scatter",
           "x": [
            20,
            30,
            40,
            50,
            60,
            70,
            80,
            90,
            100
           ],
           "y": [
            5,
            5,
            5,
            5,
            5,
            5,
            5,
            5,
            5
           ]
          },
          {
           "hoverinfo": "none",
           "mode": "text",
           "showlegend": false,
           "text": [
            "10",
            "20",
            "30",
            "40",
            "50",
            "40",
            "30",
            "20",
            "10"
           ],
           "textfont": {
            "color": "#ffffff",
            "family": "Courier New, monospace",
            "size": 30
           },
           "type": "scatter",
           "x": [
            20,
            30,
            40,
            50,
            60,
            70,
            80,
            90,
            100
           ],
           "y": [
            48.5,
            48.5,
            48.5,
            48.5,
            48.5,
            48.5,
            48.5,
            48.5,
            48.5
           ]
          },
          {
           "hoverinfo": "none",
           "line": {
            "color": "blue",
            "dash": "dash"
           },
           "showlegend": false,
           "type": "scatter",
           "x": [
            97,
            97
           ],
           "y": [
            0,
            53.5
           ]
          },
          {
           "hoverinfo": "none",
           "line": {
            "color": "yellow",
            "dash": "dash"
           },
           "showlegend": false,
           "type": "scatter",
           "x": [
            100,
            100
           ],
           "y": [
            0,
            53.5
           ]
          },
          {
           "hoverinfo": "text",
           "hovertext": [
            "nflId:35441.0<br>displayName:Ndamukong Suh<br>Position:DLT<br>Role:Pass Rush",
            "nflId:35454.0<br>displayName:Jason Pierre-Paul<br>Position:RE<br>Role:Pass Rush",
            "nflId:38588.0<br>displayName:Lavonte David<br>Position:ROLB<br>Role:Pass Rush",
            "nflId:41338.0<br>displayName:Ross Cockrell<br>Position:SCBoR<br>Role:Coverage",
            "nflId:41915.0<br>displayName:Shaquil Barrett<br>Position:LOLB<br>Role:Pass Rush",
            "nflId:46081.0<br>displayName:Vita Vea<br>Position:NT<br>Role:Pass Rush",
            "nflId:46132.0<br>displayName:Carlton Davis<br>Position:SCBiR<br>Role:Coverage",
            "nflId:47788.0<br>displayName:Devin White<br>Position:RILB<br>Role:Pass Rush",
            "nflId:47877.0<br>displayName:Jamel Dean<br>Position:RCB<br>Role:Coverage",
            "nflId:47882.0<br>displayName:Mike Edwards<br>Position:LCB<br>Role:Coverage",
            "nflId:52453.0<br>displayName:Antoine Winfield<br>Position:FS<br>Role:Coverage"
           ],
           "marker": {
            "color": "#D50A0A"
           },
           "mode": "markers",
           "name": "TB",
           "type": "scatter",
           "x": [
            93.68,
            91.02,
            86.28,
            102.09,
            88.57,
            90.3,
            105.39,
            88.92,
            99.44,
            106.78,
            107.91
           ],
           "y": [
            21.7,
            27.62,
            26.83,
            40,
            22.57,
            20.77,
            38.16,
            24.81,
            33.77,
            11.69,
            27.4
           ]
          },
          {
           "hoverinfo": "text",
           "hovertext": [
            "nflId:37082.0<br>displayName:Tyron Smith<br>Position:LT<br>Role:Pass Block",
            "nflId:42347.0<br>displayName:Amari Cooper<br>Position:SLoWR<br>Role:Pass Route",
            "nflId:42654.0<br>displayName:La'el Collins<br>Position:RT<br>Role:Pass Block",
            "nflId:43293.0<br>displayName:Ezekiel Elliott<br>Position:HB-R<br>Role:Pass Block",
            "nflId:43424.0<br>displayName:Dak Prescott<br>Position:QB<br>Role:Pass",
            "nflId:46119.0<br>displayName:Connor Williams<br>Position:LG<br>Role:Pass Block",
            "nflId:46150.0<br>displayName:Michael Gallup<br>Position:LWR<br>Role:Pass Route",
            "nflId:46206.0<br>displayName:Dalton Schultz<br>Position:RWR<br>Role:Pass Route",
            "nflId:47873.0<br>displayName:Connor McGovern<br>Position:RG<br>Role:Pass Block",
            "nflId:52425.0<br>displayName:CeeDee Lamb<br>Position:SLiWR<br>Role:Pass Route",
            "nflId:52554.0<br>displayName:Tyler Biadasz<br>Position:C<br>Role:Pass Block"
           ],
           "marker": {
            "color": "#003594"
           },
           "mode": "markers",
           "name": "DAL",
           "type": "scatter",
           "x": [
            87.34,
            100.84,
            89.38,
            88.73,
            87.06,
            90.3,
            100.12,
            106.32,
            90.77,
            105.37,
            93.07
           ],
           "y": [
            26.17,
            39.05,
            22.13,
            24.18,
            24.86,
            26.96,
            33.61,
            11.87,
            20.85,
            39.28,
            22.37
           ]
          },
          {
           "hoverinfo": "none",
           "marker": {
            "color": "#CBB67C"
           },
           "mode": "markers",
           "name": "football",
           "type": "scatter",
           "x": [
            91.05
           ],
           "y": [
            27.49
           ]
          }
         ],
         "name": "33"
        },
        {
         "data": [
          {
           "hoverinfo": "none",
           "mode": "text",
           "showlegend": false,
           "text": [
            "10",
            "20",
            "30",
            "40",
            "50",
            "40",
            "30",
            "20",
            "10"
           ],
           "textfont": {
            "color": "#ffffff",
            "family": "Courier New, monospace",
            "size": 30
           },
           "type": "scatter",
           "x": [
            20,
            30,
            40,
            50,
            60,
            70,
            80,
            90,
            100
           ],
           "y": [
            5,
            5,
            5,
            5,
            5,
            5,
            5,
            5,
            5
           ]
          },
          {
           "hoverinfo": "none",
           "mode": "text",
           "showlegend": false,
           "text": [
            "10",
            "20",
            "30",
            "40",
            "50",
            "40",
            "30",
            "20",
            "10"
           ],
           "textfont": {
            "color": "#ffffff",
            "family": "Courier New, monospace",
            "size": 30
           },
           "type": "scatter",
           "x": [
            20,
            30,
            40,
            50,
            60,
            70,
            80,
            90,
            100
           ],
           "y": [
            48.5,
            48.5,
            48.5,
            48.5,
            48.5,
            48.5,
            48.5,
            48.5,
            48.5
           ]
          },
          {
           "hoverinfo": "none",
           "line": {
            "color": "blue",
            "dash": "dash"
           },
           "showlegend": false,
           "type": "scatter",
           "x": [
            97,
            97
           ],
           "y": [
            0,
            53.5
           ]
          },
          {
           "hoverinfo": "none",
           "line": {
            "color": "yellow",
            "dash": "dash"
           },
           "showlegend": false,
           "type": "scatter",
           "x": [
            100,
            100
           ],
           "y": [
            0,
            53.5
           ]
          },
          {
           "hoverinfo": "text",
           "hovertext": [
            "nflId:35441.0<br>displayName:Ndamukong Suh<br>Position:DLT<br>Role:Pass Rush",
            "nflId:35454.0<br>displayName:Jason Pierre-Paul<br>Position:RE<br>Role:Pass Rush",
            "nflId:38588.0<br>displayName:Lavonte David<br>Position:ROLB<br>Role:Pass Rush",
            "nflId:41338.0<br>displayName:Ross Cockrell<br>Position:SCBoR<br>Role:Coverage",
            "nflId:41915.0<br>displayName:Shaquil Barrett<br>Position:LOLB<br>Role:Pass Rush",
            "nflId:46081.0<br>displayName:Vita Vea<br>Position:NT<br>Role:Pass Rush",
            "nflId:46132.0<br>displayName:Carlton Davis<br>Position:SCBiR<br>Role:Coverage",
            "nflId:47788.0<br>displayName:Devin White<br>Position:RILB<br>Role:Pass Rush",
            "nflId:47877.0<br>displayName:Jamel Dean<br>Position:RCB<br>Role:Coverage",
            "nflId:47882.0<br>displayName:Mike Edwards<br>Position:LCB<br>Role:Coverage",
            "nflId:52453.0<br>displayName:Antoine Winfield<br>Position:FS<br>Role:Coverage"
           ],
           "marker": {
            "color": "#D50A0A"
           },
           "mode": "markers",
           "name": "TB",
           "type": "scatter",
           "x": [
            93.74,
            90.93,
            86.02,
            102.19,
            88.22,
            89.96,
            106,
            88.66,
            99.55,
            107.2,
            107.57
           ],
           "y": [
            21.72,
            27.68,
            26.66,
            40.2,
            22.65,
            20.8,
            38.69,
            25.03,
            33.02,
            11.62,
            27.28
           ]
          },
          {
           "hoverinfo": "text",
           "hovertext": [
            "nflId:37082.0<br>displayName:Tyron Smith<br>Position:LT<br>Role:Pass Block",
            "nflId:42347.0<br>displayName:Amari Cooper<br>Position:SLoWR<br>Role:Pass Route",
            "nflId:42654.0<br>displayName:La'el Collins<br>Position:RT<br>Role:Pass Block",
            "nflId:43293.0<br>displayName:Ezekiel Elliott<br>Position:HB-R<br>Role:Pass Block",
            "nflId:43424.0<br>displayName:Dak Prescott<br>Position:QB<br>Role:Pass",
            "nflId:46119.0<br>displayName:Connor Williams<br>Position:LG<br>Role:Pass Block",
            "nflId:46150.0<br>displayName:Michael Gallup<br>Position:LWR<br>Role:Pass Route",
            "nflId:46206.0<br>displayName:Dalton Schultz<br>Position:RWR<br>Role:Pass Route",
            "nflId:47873.0<br>displayName:Connor McGovern<br>Position:RG<br>Role:Pass Block",
            "nflId:52425.0<br>displayName:CeeDee Lamb<br>Position:SLiWR<br>Role:Pass Route",
            "nflId:52554.0<br>displayName:Tyler Biadasz<br>Position:C<br>Role:Pass Block"
           ],
           "marker": {
            "color": "#003594"
           },
           "mode": "markers",
           "name": "DAL",
           "type": "scatter",
           "x": [
            86.99,
            100.87,
            89.21,
            88.39,
            86.96,
            90.18,
            100.41,
            106.78,
            90.52,
            105.94,
            93.09
           ],
           "y": [
            25.92,
            38.99,
            22.35,
            24.35,
            24.94,
            27.04,
            32.99,
            11.96,
            20.77,
            39.77,
            22.4
           ]
          },
          {
           "hoverinfo": "none",
           "marker": {
            "color": "#CBB67C"
           },
           "mode": "markers",
           "name": "football",
           "type": "scatter",
           "x": [
            92.44
           ],
           "y": [
            28.83
           ]
          }
         ],
         "name": "34"
        },
        {
         "data": [
          {
           "hoverinfo": "none",
           "mode": "text",
           "showlegend": false,
           "text": [
            "10",
            "20",
            "30",
            "40",
            "50",
            "40",
            "30",
            "20",
            "10"
           ],
           "textfont": {
            "color": "#ffffff",
            "family": "Courier New, monospace",
            "size": 30
           },
           "type": "scatter",
           "x": [
            20,
            30,
            40,
            50,
            60,
            70,
            80,
            90,
            100
           ],
           "y": [
            5,
            5,
            5,
            5,
            5,
            5,
            5,
            5,
            5
           ]
          },
          {
           "hoverinfo": "none",
           "mode": "text",
           "showlegend": false,
           "text": [
            "10",
            "20",
            "30",
            "40",
            "50",
            "40",
            "30",
            "20",
            "10"
           ],
           "textfont": {
            "color": "#ffffff",
            "family": "Courier New, monospace",
            "size": 30
           },
           "type": "scatter",
           "x": [
            20,
            30,
            40,
            50,
            60,
            70,
            80,
            90,
            100
           ],
           "y": [
            48.5,
            48.5,
            48.5,
            48.5,
            48.5,
            48.5,
            48.5,
            48.5,
            48.5
           ]
          },
          {
           "hoverinfo": "none",
           "line": {
            "color": "blue",
            "dash": "dash"
           },
           "showlegend": false,
           "type": "scatter",
           "x": [
            97,
            97
           ],
           "y": [
            0,
            53.5
           ]
          },
          {
           "hoverinfo": "none",
           "line": {
            "color": "yellow",
            "dash": "dash"
           },
           "showlegend": false,
           "type": "scatter",
           "x": [
            100,
            100
           ],
           "y": [
            0,
            53.5
           ]
          },
          {
           "hoverinfo": "text",
           "hovertext": [
            "nflId:35441.0<br>displayName:Ndamukong Suh<br>Position:DLT<br>Role:Pass Rush",
            "nflId:35454.0<br>displayName:Jason Pierre-Paul<br>Position:RE<br>Role:Pass Rush",
            "nflId:38588.0<br>displayName:Lavonte David<br>Position:ROLB<br>Role:Pass Rush",
            "nflId:41338.0<br>displayName:Ross Cockrell<br>Position:SCBoR<br>Role:Coverage",
            "nflId:41915.0<br>displayName:Shaquil Barrett<br>Position:LOLB<br>Role:Pass Rush",
            "nflId:46081.0<br>displayName:Vita Vea<br>Position:NT<br>Role:Pass Rush",
            "nflId:46132.0<br>displayName:Carlton Davis<br>Position:SCBiR<br>Role:Coverage",
            "nflId:47788.0<br>displayName:Devin White<br>Position:RILB<br>Role:Pass Rush",
            "nflId:47877.0<br>displayName:Jamel Dean<br>Position:RCB<br>Role:Coverage",
            "nflId:47882.0<br>displayName:Mike Edwards<br>Position:LCB<br>Role:Coverage",
            "nflId:52453.0<br>displayName:Antoine Winfield<br>Position:FS<br>Role:Coverage"
           ],
           "marker": {
            "color": "#D50A0A"
           },
           "mode": "markers",
           "name": "TB",
           "type": "scatter",
           "x": [
            93.83,
            90.85,
            85.79,
            102.28,
            87.87,
            89.64,
            106.59,
            88.34,
            99.68,
            107.6,
            107.23
           ],
           "y": [
            21.76,
            27.74,
            26.51,
            40.34,
            22.72,
            20.85,
            39.24,
            25.1,
            32.28,
            11.6,
            27.15
           ]
          },
          {
           "hoverinfo": "text",
           "hovertext": [
            "nflId:37082.0<br>displayName:Tyron Smith<br>Position:LT<br>Role:Pass Block",
            "nflId:42347.0<br>displayName:Amari Cooper<br>Position:SLoWR<br>Role:Pass Route",
            "nflId:42654.0<br>displayName:La'el Collins<br>Position:RT<br>Role:Pass Block",
            "nflId:43293.0<br>displayName:Ezekiel Elliott<br>Position:HB-R<br>Role:Pass Block",
            "nflId:43424.0<br>displayName:Dak Prescott<br>Position:QB<br>Role:Pass",
            "nflId:46119.0<br>displayName:Connor Williams<br>Position:LG<br>Role:Pass Block",
            "nflId:46150.0<br>displayName:Michael Gallup<br>Position:LWR<br>Role:Pass Route",
            "nflId:46206.0<br>displayName:Dalton Schultz<br>Position:RWR<br>Role:Pass Route",
            "nflId:47873.0<br>displayName:Connor McGovern<br>Position:RG<br>Role:Pass Block",
            "nflId:52425.0<br>displayName:CeeDee Lamb<br>Position:SLiWR<br>Role:Pass Route",
            "nflId:52554.0<br>displayName:Tyler Biadasz<br>Position:C<br>Role:Pass Block"
           ],
           "marker": {
            "color": "#003594"
           },
           "mode": "markers",
           "name": "DAL",
           "type": "scatter",
           "x": [
            86.66,
            100.89,
            89.06,
            88.06,
            86.84,
            90.08,
            100.71,
            107.23,
            90.26,
            106.49,
            93.13
           ],
           "y": [
            25.68,
            38.89,
            22.56,
            24.51,
            25.01,
            27.14,
            32.39,
            12.12,
            20.71,
            40.3,
            22.47
           ]
          },
          {
           "hoverinfo": "none",
           "marker": {
            "color": "#CBB67C"
           },
           "mode": "markers",
           "name": "football",
           "type": "scatter",
           "x": [
            93.81
           ],
           "y": [
            30.15
           ]
          }
         ],
         "name": "35"
        },
        {
         "data": [
          {
           "hoverinfo": "none",
           "mode": "text",
           "showlegend": false,
           "text": [
            "10",
            "20",
            "30",
            "40",
            "50",
            "40",
            "30",
            "20",
            "10"
           ],
           "textfont": {
            "color": "#ffffff",
            "family": "Courier New, monospace",
            "size": 30
           },
           "type": "scatter",
           "x": [
            20,
            30,
            40,
            50,
            60,
            70,
            80,
            90,
            100
           ],
           "y": [
            5,
            5,
            5,
            5,
            5,
            5,
            5,
            5,
            5
           ]
          },
          {
           "hoverinfo": "none",
           "mode": "text",
           "showlegend": false,
           "text": [
            "10",
            "20",
            "30",
            "40",
            "50",
            "40",
            "30",
            "20",
            "10"
           ],
           "textfont": {
            "color": "#ffffff",
            "family": "Courier New, monospace",
            "size": 30
           },
           "type": "scatter",
           "x": [
            20,
            30,
            40,
            50,
            60,
            70,
            80,
            90,
            100
           ],
           "y": [
            48.5,
            48.5,
            48.5,
            48.5,
            48.5,
            48.5,
            48.5,
            48.5,
            48.5
           ]
          },
          {
           "hoverinfo": "none",
           "line": {
            "color": "blue",
            "dash": "dash"
           },
           "showlegend": false,
           "type": "scatter",
           "x": [
            97,
            97
           ],
           "y": [
            0,
            53.5
           ]
          },
          {
           "hoverinfo": "none",
           "line": {
            "color": "yellow",
            "dash": "dash"
           },
           "showlegend": false,
           "type": "scatter",
           "x": [
            100,
            100
           ],
           "y": [
            0,
            53.5
           ]
          },
          {
           "hoverinfo": "text",
           "hovertext": [
            "nflId:35441.0<br>displayName:Ndamukong Suh<br>Position:DLT<br>Role:Pass Rush",
            "nflId:35454.0<br>displayName:Jason Pierre-Paul<br>Position:RE<br>Role:Pass Rush",
            "nflId:38588.0<br>displayName:Lavonte David<br>Position:ROLB<br>Role:Pass Rush",
            "nflId:41338.0<br>displayName:Ross Cockrell<br>Position:SCBoR<br>Role:Coverage",
            "nflId:41915.0<br>displayName:Shaquil Barrett<br>Position:LOLB<br>Role:Pass Rush",
            "nflId:46081.0<br>displayName:Vita Vea<br>Position:NT<br>Role:Pass Rush",
            "nflId:46132.0<br>displayName:Carlton Davis<br>Position:SCBiR<br>Role:Coverage",
            "nflId:47788.0<br>displayName:Devin White<br>Position:RILB<br>Role:Pass Rush",
            "nflId:47877.0<br>displayName:Jamel Dean<br>Position:RCB<br>Role:Coverage",
            "nflId:47882.0<br>displayName:Mike Edwards<br>Position:LCB<br>Role:Coverage",
            "nflId:52453.0<br>displayName:Antoine Winfield<br>Position:FS<br>Role:Coverage"
           ],
           "marker": {
            "color": "#D50A0A"
           },
           "mode": "markers",
           "name": "TB",
           "type": "scatter",
           "x": [
            93.9,
            90.79,
            85.59,
            102.37,
            87.56,
            89.33,
            107.17,
            88.03,
            99.82,
            107.97,
            106.89
           ],
           "y": [
            21.8,
            27.77,
            26.38,
            40.43,
            22.77,
            20.9,
            39.81,
            25.18,
            31.56,
            11.63,
            27.03
           ]
          },
          {
           "hoverinfo": "text",
           "hovertext": [
            "nflId:37082.0<br>displayName:Tyron Smith<br>Position:LT<br>Role:Pass Block",
            "nflId:42347.0<br>displayName:Amari Cooper<br>Position:SLoWR<br>Role:Pass Route",
            "nflId:42654.0<br>displayName:La'el Collins<br>Position:RT<br>Role:Pass Block",
            "nflId:43293.0<br>displayName:Ezekiel Elliott<br>Position:HB-R<br>Role:Pass Block",
            "nflId:43424.0<br>displayName:Dak Prescott<br>Position:QB<br>Role:Pass",
            "nflId:46119.0<br>displayName:Connor Williams<br>Position:LG<br>Role:Pass Block",
            "nflId:46150.0<br>displayName:Michael Gallup<br>Position:LWR<br>Role:Pass Route",
            "nflId:46206.0<br>displayName:Dalton Schultz<br>Position:RWR<br>Role:Pass Route",
            "nflId:47873.0<br>displayName:Connor McGovern<br>Position:RG<br>Role:Pass Block",
            "nflId:52425.0<br>displayName:CeeDee Lamb<br>Position:SLiWR<br>Role:Pass Route",
            "nflId:52554.0<br>displayName:Tyler Biadasz<br>Position:C<br>Role:Pass Block"
           ],
           "marker": {
            "color": "#003594"
           },
           "mode": "markers",
           "name": "DAL",
           "type": "scatter",
           "x": [
            86.34,
            100.89,
            88.92,
            87.86,
            86.71,
            89.98,
            101.02,
            107.65,
            89.98,
            107.02,
            93.18
           ],
           "y": [
            25.43,
            38.77,
            22.77,
            24.65,
            25.08,
            27.25,
            31.82,
            12.32,
            20.65,
            40.86,
            22.56
           ]
          },
          {
           "hoverinfo": "none",
           "marker": {
            "color": "#CBB67C"
           },
           "mode": "markers",
           "name": "football",
           "type": "scatter",
           "x": [
            95.18
           ],
           "y": [
            31.47
           ]
          }
         ],
         "name": "36"
        }
       ],
       "layout": {
        "annotations": [
         {
          "align": "center",
          "bgcolor": "#ff7f0e",
          "bordercolor": "black",
          "borderpad": 4,
          "borderwidth": 2,
          "font": {
           "color": "black",
           "family": "Courier New, monospace",
           "size": 16
          },
          "opacity": 1,
          "showarrow": false,
          "text": "3",
          "x": 100,
          "y": 0
         },
         {
          "align": "center",
          "bgcolor": "#ff7f0e",
          "bordercolor": "black",
          "borderpad": 4,
          "borderwidth": 2,
          "font": {
           "color": "black",
           "family": "Courier New, monospace",
           "size": 16
          },
          "opacity": 1,
          "showarrow": false,
          "text": "3",
          "x": 100,
          "y": 53
         }
        ],
        "autosize": false,
        "height": 600,
        "plot_bgcolor": "#00B140",
        "sliders": [
         {
          "active": 0,
          "currentvalue": {
           "font": {
            "size": 20
           },
           "prefix": "Frame:",
           "visible": true,
           "xanchor": "right"
          },
          "len": 0.9,
          "pad": {
           "b": 10,
           "t": 50
          },
          "steps": [
           {
            "args": [
             [
              1
             ],
             {
              "frame": {
               "duration": 100,
               "redraw": false
              },
              "mode": "immediate",
              "transition": {
               "duration": 0
              }
             }
            ],
            "label": "1",
            "method": "animate"
           },
           {
            "args": [
             [
              2
             ],
             {
              "frame": {
               "duration": 100,
               "redraw": false
              },
              "mode": "immediate",
              "transition": {
               "duration": 0
              }
             }
            ],
            "label": "2",
            "method": "animate"
           },
           {
            "args": [
             [
              3
             ],
             {
              "frame": {
               "duration": 100,
               "redraw": false
              },
              "mode": "immediate",
              "transition": {
               "duration": 0
              }
             }
            ],
            "label": "3",
            "method": "animate"
           },
           {
            "args": [
             [
              4
             ],
             {
              "frame": {
               "duration": 100,
               "redraw": false
              },
              "mode": "immediate",
              "transition": {
               "duration": 0
              }
             }
            ],
            "label": "4",
            "method": "animate"
           },
           {
            "args": [
             [
              5
             ],
             {
              "frame": {
               "duration": 100,
               "redraw": false
              },
              "mode": "immediate",
              "transition": {
               "duration": 0
              }
             }
            ],
            "label": "5",
            "method": "animate"
           },
           {
            "args": [
             [
              6
             ],
             {
              "frame": {
               "duration": 100,
               "redraw": false
              },
              "mode": "immediate",
              "transition": {
               "duration": 0
              }
             }
            ],
            "label": "6",
            "method": "animate"
           },
           {
            "args": [
             [
              7
             ],
             {
              "frame": {
               "duration": 100,
               "redraw": false
              },
              "mode": "immediate",
              "transition": {
               "duration": 0
              }
             }
            ],
            "label": "7",
            "method": "animate"
           },
           {
            "args": [
             [
              8
             ],
             {
              "frame": {
               "duration": 100,
               "redraw": false
              },
              "mode": "immediate",
              "transition": {
               "duration": 0
              }
             }
            ],
            "label": "8",
            "method": "animate"
           },
           {
            "args": [
             [
              9
             ],
             {
              "frame": {
               "duration": 100,
               "redraw": false
              },
              "mode": "immediate",
              "transition": {
               "duration": 0
              }
             }
            ],
            "label": "9",
            "method": "animate"
           },
           {
            "args": [
             [
              10
             ],
             {
              "frame": {
               "duration": 100,
               "redraw": false
              },
              "mode": "immediate",
              "transition": {
               "duration": 0
              }
             }
            ],
            "label": "10",
            "method": "animate"
           },
           {
            "args": [
             [
              11
             ],
             {
              "frame": {
               "duration": 100,
               "redraw": false
              },
              "mode": "immediate",
              "transition": {
               "duration": 0
              }
             }
            ],
            "label": "11",
            "method": "animate"
           },
           {
            "args": [
             [
              12
             ],
             {
              "frame": {
               "duration": 100,
               "redraw": false
              },
              "mode": "immediate",
              "transition": {
               "duration": 0
              }
             }
            ],
            "label": "12",
            "method": "animate"
           },
           {
            "args": [
             [
              13
             ],
             {
              "frame": {
               "duration": 100,
               "redraw": false
              },
              "mode": "immediate",
              "transition": {
               "duration": 0
              }
             }
            ],
            "label": "13",
            "method": "animate"
           },
           {
            "args": [
             [
              14
             ],
             {
              "frame": {
               "duration": 100,
               "redraw": false
              },
              "mode": "immediate",
              "transition": {
               "duration": 0
              }
             }
            ],
            "label": "14",
            "method": "animate"
           },
           {
            "args": [
             [
              15
             ],
             {
              "frame": {
               "duration": 100,
               "redraw": false
              },
              "mode": "immediate",
              "transition": {
               "duration": 0
              }
             }
            ],
            "label": "15",
            "method": "animate"
           },
           {
            "args": [
             [
              16
             ],
             {
              "frame": {
               "duration": 100,
               "redraw": false
              },
              "mode": "immediate",
              "transition": {
               "duration": 0
              }
             }
            ],
            "label": "16",
            "method": "animate"
           },
           {
            "args": [
             [
              17
             ],
             {
              "frame": {
               "duration": 100,
               "redraw": false
              },
              "mode": "immediate",
              "transition": {
               "duration": 0
              }
             }
            ],
            "label": "17",
            "method": "animate"
           },
           {
            "args": [
             [
              18
             ],
             {
              "frame": {
               "duration": 100,
               "redraw": false
              },
              "mode": "immediate",
              "transition": {
               "duration": 0
              }
             }
            ],
            "label": "18",
            "method": "animate"
           },
           {
            "args": [
             [
              19
             ],
             {
              "frame": {
               "duration": 100,
               "redraw": false
              },
              "mode": "immediate",
              "transition": {
               "duration": 0
              }
             }
            ],
            "label": "19",
            "method": "animate"
           },
           {
            "args": [
             [
              20
             ],
             {
              "frame": {
               "duration": 100,
               "redraw": false
              },
              "mode": "immediate",
              "transition": {
               "duration": 0
              }
             }
            ],
            "label": "20",
            "method": "animate"
           },
           {
            "args": [
             [
              21
             ],
             {
              "frame": {
               "duration": 100,
               "redraw": false
              },
              "mode": "immediate",
              "transition": {
               "duration": 0
              }
             }
            ],
            "label": "21",
            "method": "animate"
           },
           {
            "args": [
             [
              22
             ],
             {
              "frame": {
               "duration": 100,
               "redraw": false
              },
              "mode": "immediate",
              "transition": {
               "duration": 0
              }
             }
            ],
            "label": "22",
            "method": "animate"
           },
           {
            "args": [
             [
              23
             ],
             {
              "frame": {
               "duration": 100,
               "redraw": false
              },
              "mode": "immediate",
              "transition": {
               "duration": 0
              }
             }
            ],
            "label": "23",
            "method": "animate"
           },
           {
            "args": [
             [
              24
             ],
             {
              "frame": {
               "duration": 100,
               "redraw": false
              },
              "mode": "immediate",
              "transition": {
               "duration": 0
              }
             }
            ],
            "label": "24",
            "method": "animate"
           },
           {
            "args": [
             [
              25
             ],
             {
              "frame": {
               "duration": 100,
               "redraw": false
              },
              "mode": "immediate",
              "transition": {
               "duration": 0
              }
             }
            ],
            "label": "25",
            "method": "animate"
           },
           {
            "args": [
             [
              26
             ],
             {
              "frame": {
               "duration": 100,
               "redraw": false
              },
              "mode": "immediate",
              "transition": {
               "duration": 0
              }
             }
            ],
            "label": "26",
            "method": "animate"
           },
           {
            "args": [
             [
              27
             ],
             {
              "frame": {
               "duration": 100,
               "redraw": false
              },
              "mode": "immediate",
              "transition": {
               "duration": 0
              }
             }
            ],
            "label": "27",
            "method": "animate"
           },
           {
            "args": [
             [
              28
             ],
             {
              "frame": {
               "duration": 100,
               "redraw": false
              },
              "mode": "immediate",
              "transition": {
               "duration": 0
              }
             }
            ],
            "label": "28",
            "method": "animate"
           },
           {
            "args": [
             [
              29
             ],
             {
              "frame": {
               "duration": 100,
               "redraw": false
              },
              "mode": "immediate",
              "transition": {
               "duration": 0
              }
             }
            ],
            "label": "29",
            "method": "animate"
           },
           {
            "args": [
             [
              30
             ],
             {
              "frame": {
               "duration": 100,
               "redraw": false
              },
              "mode": "immediate",
              "transition": {
               "duration": 0
              }
             }
            ],
            "label": "30",
            "method": "animate"
           },
           {
            "args": [
             [
              31
             ],
             {
              "frame": {
               "duration": 100,
               "redraw": false
              },
              "mode": "immediate",
              "transition": {
               "duration": 0
              }
             }
            ],
            "label": "31",
            "method": "animate"
           },
           {
            "args": [
             [
              32
             ],
             {
              "frame": {
               "duration": 100,
               "redraw": false
              },
              "mode": "immediate",
              "transition": {
               "duration": 0
              }
             }
            ],
            "label": "32",
            "method": "animate"
           },
           {
            "args": [
             [
              33
             ],
             {
              "frame": {
               "duration": 100,
               "redraw": false
              },
              "mode": "immediate",
              "transition": {
               "duration": 0
              }
             }
            ],
            "label": "33",
            "method": "animate"
           },
           {
            "args": [
             [
              34
             ],
             {
              "frame": {
               "duration": 100,
               "redraw": false
              },
              "mode": "immediate",
              "transition": {
               "duration": 0
              }
             }
            ],
            "label": "34",
            "method": "animate"
           },
           {
            "args": [
             [
              35
             ],
             {
              "frame": {
               "duration": 100,
               "redraw": false
              },
              "mode": "immediate",
              "transition": {
               "duration": 0
              }
             }
            ],
            "label": "35",
            "method": "animate"
           },
           {
            "args": [
             [
              36
             ],
             {
              "frame": {
               "duration": 100,
               "redraw": false
              },
              "mode": "immediate",
              "transition": {
               "duration": 0
              }
             }
            ],
            "label": "36",
            "method": "animate"
           }
          ],
          "transition": {
           "duration": 300,
           "easing": "cubic-in-out"
          },
          "x": 0.1,
          "xanchor": "left",
          "y": 0,
          "yanchor": "top"
         }
        ],
        "template": {
         "data": {
          "bar": [
           {
            "error_x": {
             "color": "#2a3f5f"
            },
            "error_y": {
             "color": "#2a3f5f"
            },
            "marker": {
             "line": {
              "color": "#E5ECF6",
              "width": 0.5
             },
             "pattern": {
              "fillmode": "overlay",
              "size": 10,
              "solidity": 0.2
             }
            },
            "type": "bar"
           }
          ],
          "barpolar": [
           {
            "marker": {
             "line": {
              "color": "#E5ECF6",
              "width": 0.5
             },
             "pattern": {
              "fillmode": "overlay",
              "size": 10,
              "solidity": 0.2
             }
            },
            "type": "barpolar"
           }
          ],
          "carpet": [
           {
            "aaxis": {
             "endlinecolor": "#2a3f5f",
             "gridcolor": "white",
             "linecolor": "white",
             "minorgridcolor": "white",
             "startlinecolor": "#2a3f5f"
            },
            "baxis": {
             "endlinecolor": "#2a3f5f",
             "gridcolor": "white",
             "linecolor": "white",
             "minorgridcolor": "white",
             "startlinecolor": "#2a3f5f"
            },
            "type": "carpet"
           }
          ],
          "choropleth": [
           {
            "colorbar": {
             "outlinewidth": 0,
             "ticks": ""
            },
            "type": "choropleth"
           }
          ],
          "contour": [
           {
            "colorbar": {
             "outlinewidth": 0,
             "ticks": ""
            },
            "colorscale": [
             [
              0,
              "#0d0887"
             ],
             [
              0.1111111111111111,
              "#46039f"
             ],
             [
              0.2222222222222222,
              "#7201a8"
             ],
             [
              0.3333333333333333,
              "#9c179e"
             ],
             [
              0.4444444444444444,
              "#bd3786"
             ],
             [
              0.5555555555555556,
              "#d8576b"
             ],
             [
              0.6666666666666666,
              "#ed7953"
             ],
             [
              0.7777777777777778,
              "#fb9f3a"
             ],
             [
              0.8888888888888888,
              "#fdca26"
             ],
             [
              1,
              "#f0f921"
             ]
            ],
            "type": "contour"
           }
          ],
          "contourcarpet": [
           {
            "colorbar": {
             "outlinewidth": 0,
             "ticks": ""
            },
            "type": "contourcarpet"
           }
          ],
          "heatmap": [
           {
            "colorbar": {
             "outlinewidth": 0,
             "ticks": ""
            },
            "colorscale": [
             [
              0,
              "#0d0887"
             ],
             [
              0.1111111111111111,
              "#46039f"
             ],
             [
              0.2222222222222222,
              "#7201a8"
             ],
             [
              0.3333333333333333,
              "#9c179e"
             ],
             [
              0.4444444444444444,
              "#bd3786"
             ],
             [
              0.5555555555555556,
              "#d8576b"
             ],
             [
              0.6666666666666666,
              "#ed7953"
             ],
             [
              0.7777777777777778,
              "#fb9f3a"
             ],
             [
              0.8888888888888888,
              "#fdca26"
             ],
             [
              1,
              "#f0f921"
             ]
            ],
            "type": "heatmap"
           }
          ],
          "heatmapgl": [
           {
            "colorbar": {
             "outlinewidth": 0,
             "ticks": ""
            },
            "colorscale": [
             [
              0,
              "#0d0887"
             ],
             [
              0.1111111111111111,
              "#46039f"
             ],
             [
              0.2222222222222222,
              "#7201a8"
             ],
             [
              0.3333333333333333,
              "#9c179e"
             ],
             [
              0.4444444444444444,
              "#bd3786"
             ],
             [
              0.5555555555555556,
              "#d8576b"
             ],
             [
              0.6666666666666666,
              "#ed7953"
             ],
             [
              0.7777777777777778,
              "#fb9f3a"
             ],
             [
              0.8888888888888888,
              "#fdca26"
             ],
             [
              1,
              "#f0f921"
             ]
            ],
            "type": "heatmapgl"
           }
          ],
          "histogram": [
           {
            "marker": {
             "pattern": {
              "fillmode": "overlay",
              "size": 10,
              "solidity": 0.2
             }
            },
            "type": "histogram"
           }
          ],
          "histogram2d": [
           {
            "colorbar": {
             "outlinewidth": 0,
             "ticks": ""
            },
            "colorscale": [
             [
              0,
              "#0d0887"
             ],
             [
              0.1111111111111111,
              "#46039f"
             ],
             [
              0.2222222222222222,
              "#7201a8"
             ],
             [
              0.3333333333333333,
              "#9c179e"
             ],
             [
              0.4444444444444444,
              "#bd3786"
             ],
             [
              0.5555555555555556,
              "#d8576b"
             ],
             [
              0.6666666666666666,
              "#ed7953"
             ],
             [
              0.7777777777777778,
              "#fb9f3a"
             ],
             [
              0.8888888888888888,
              "#fdca26"
             ],
             [
              1,
              "#f0f921"
             ]
            ],
            "type": "histogram2d"
           }
          ],
          "histogram2dcontour": [
           {
            "colorbar": {
             "outlinewidth": 0,
             "ticks": ""
            },
            "colorscale": [
             [
              0,
              "#0d0887"
             ],
             [
              0.1111111111111111,
              "#46039f"
             ],
             [
              0.2222222222222222,
              "#7201a8"
             ],
             [
              0.3333333333333333,
              "#9c179e"
             ],
             [
              0.4444444444444444,
              "#bd3786"
             ],
             [
              0.5555555555555556,
              "#d8576b"
             ],
             [
              0.6666666666666666,
              "#ed7953"
             ],
             [
              0.7777777777777778,
              "#fb9f3a"
             ],
             [
              0.8888888888888888,
              "#fdca26"
             ],
             [
              1,
              "#f0f921"
             ]
            ],
            "type": "histogram2dcontour"
           }
          ],
          "mesh3d": [
           {
            "colorbar": {
             "outlinewidth": 0,
             "ticks": ""
            },
            "type": "mesh3d"
           }
          ],
          "parcoords": [
           {
            "line": {
             "colorbar": {
              "outlinewidth": 0,
              "ticks": ""
             }
            },
            "type": "parcoords"
           }
          ],
          "pie": [
           {
            "automargin": true,
            "type": "pie"
           }
          ],
          "scatter": [
           {
            "fillpattern": {
             "fillmode": "overlay",
             "size": 10,
             "solidity": 0.2
            },
            "type": "scatter"
           }
          ],
          "scatter3d": [
           {
            "line": {
             "colorbar": {
              "outlinewidth": 0,
              "ticks": ""
             }
            },
            "marker": {
             "colorbar": {
              "outlinewidth": 0,
              "ticks": ""
             }
            },
            "type": "scatter3d"
           }
          ],
          "scattercarpet": [
           {
            "marker": {
             "colorbar": {
              "outlinewidth": 0,
              "ticks": ""
             }
            },
            "type": "scattercarpet"
           }
          ],
          "scattergeo": [
           {
            "marker": {
             "colorbar": {
              "outlinewidth": 0,
              "ticks": ""
             }
            },
            "type": "scattergeo"
           }
          ],
          "scattergl": [
           {
            "marker": {
             "colorbar": {
              "outlinewidth": 0,
              "ticks": ""
             }
            },
            "type": "scattergl"
           }
          ],
          "scattermapbox": [
           {
            "marker": {
             "colorbar": {
              "outlinewidth": 0,
              "ticks": ""
             }
            },
            "type": "scattermapbox"
           }
          ],
          "scatterpolar": [
           {
            "marker": {
             "colorbar": {
              "outlinewidth": 0,
              "ticks": ""
             }
            },
            "type": "scatterpolar"
           }
          ],
          "scatterpolargl": [
           {
            "marker": {
             "colorbar": {
              "outlinewidth": 0,
              "ticks": ""
             }
            },
            "type": "scatterpolargl"
           }
          ],
          "scatterternary": [
           {
            "marker": {
             "colorbar": {
              "outlinewidth": 0,
              "ticks": ""
             }
            },
            "type": "scatterternary"
           }
          ],
          "surface": [
           {
            "colorbar": {
             "outlinewidth": 0,
             "ticks": ""
            },
            "colorscale": [
             [
              0,
              "#0d0887"
             ],
             [
              0.1111111111111111,
              "#46039f"
             ],
             [
              0.2222222222222222,
              "#7201a8"
             ],
             [
              0.3333333333333333,
              "#9c179e"
             ],
             [
              0.4444444444444444,
              "#bd3786"
             ],
             [
              0.5555555555555556,
              "#d8576b"
             ],
             [
              0.6666666666666666,
              "#ed7953"
             ],
             [
              0.7777777777777778,
              "#fb9f3a"
             ],
             [
              0.8888888888888888,
              "#fdca26"
             ],
             [
              1,
              "#f0f921"
             ]
            ],
            "type": "surface"
           }
          ],
          "table": [
           {
            "cells": {
             "fill": {
              "color": "#EBF0F8"
             },
             "line": {
              "color": "white"
             }
            },
            "header": {
             "fill": {
              "color": "#C8D4E3"
             },
             "line": {
              "color": "white"
             }
            },
            "type": "table"
           }
          ]
         },
         "layout": {
          "annotationdefaults": {
           "arrowcolor": "#2a3f5f",
           "arrowhead": 0,
           "arrowwidth": 1
          },
          "autotypenumbers": "strict",
          "coloraxis": {
           "colorbar": {
            "outlinewidth": 0,
            "ticks": ""
           }
          },
          "colorscale": {
           "diverging": [
            [
             0,
             "#8e0152"
            ],
            [
             0.1,
             "#c51b7d"
            ],
            [
             0.2,
             "#de77ae"
            ],
            [
             0.3,
             "#f1b6da"
            ],
            [
             0.4,
             "#fde0ef"
            ],
            [
             0.5,
             "#f7f7f7"
            ],
            [
             0.6,
             "#e6f5d0"
            ],
            [
             0.7,
             "#b8e186"
            ],
            [
             0.8,
             "#7fbc41"
            ],
            [
             0.9,
             "#4d9221"
            ],
            [
             1,
             "#276419"
            ]
           ],
           "sequential": [
            [
             0,
             "#0d0887"
            ],
            [
             0.1111111111111111,
             "#46039f"
            ],
            [
             0.2222222222222222,
             "#7201a8"
            ],
            [
             0.3333333333333333,
             "#9c179e"
            ],
            [
             0.4444444444444444,
             "#bd3786"
            ],
            [
             0.5555555555555556,
             "#d8576b"
            ],
            [
             0.6666666666666666,
             "#ed7953"
            ],
            [
             0.7777777777777778,
             "#fb9f3a"
            ],
            [
             0.8888888888888888,
             "#fdca26"
            ],
            [
             1,
             "#f0f921"
            ]
           ],
           "sequentialminus": [
            [
             0,
             "#0d0887"
            ],
            [
             0.1111111111111111,
             "#46039f"
            ],
            [
             0.2222222222222222,
             "#7201a8"
            ],
            [
             0.3333333333333333,
             "#9c179e"
            ],
            [
             0.4444444444444444,
             "#bd3786"
            ],
            [
             0.5555555555555556,
             "#d8576b"
            ],
            [
             0.6666666666666666,
             "#ed7953"
            ],
            [
             0.7777777777777778,
             "#fb9f3a"
            ],
            [
             0.8888888888888888,
             "#fdca26"
            ],
            [
             1,
             "#f0f921"
            ]
           ]
          },
          "colorway": [
           "#636efa",
           "#EF553B",
           "#00cc96",
           "#ab63fa",
           "#FFA15A",
           "#19d3f3",
           "#FF6692",
           "#B6E880",
           "#FF97FF",
           "#FECB52"
          ],
          "font": {
           "color": "#2a3f5f"
          },
          "geo": {
           "bgcolor": "white",
           "lakecolor": "white",
           "landcolor": "#E5ECF6",
           "showlakes": true,
           "showland": true,
           "subunitcolor": "white"
          },
          "hoverlabel": {
           "align": "left"
          },
          "hovermode": "closest",
          "mapbox": {
           "style": "light"
          },
          "paper_bgcolor": "white",
          "plot_bgcolor": "#E5ECF6",
          "polar": {
           "angularaxis": {
            "gridcolor": "white",
            "linecolor": "white",
            "ticks": ""
           },
           "bgcolor": "#E5ECF6",
           "radialaxis": {
            "gridcolor": "white",
            "linecolor": "white",
            "ticks": ""
           }
          },
          "scene": {
           "xaxis": {
            "backgroundcolor": "#E5ECF6",
            "gridcolor": "white",
            "gridwidth": 2,
            "linecolor": "white",
            "showbackground": true,
            "ticks": "",
            "zerolinecolor": "white"
           },
           "yaxis": {
            "backgroundcolor": "#E5ECF6",
            "gridcolor": "white",
            "gridwidth": 2,
            "linecolor": "white",
            "showbackground": true,
            "ticks": "",
            "zerolinecolor": "white"
           },
           "zaxis": {
            "backgroundcolor": "#E5ECF6",
            "gridcolor": "white",
            "gridwidth": 2,
            "linecolor": "white",
            "showbackground": true,
            "ticks": "",
            "zerolinecolor": "white"
           }
          },
          "shapedefaults": {
           "line": {
            "color": "#2a3f5f"
           }
          },
          "ternary": {
           "aaxis": {
            "gridcolor": "white",
            "linecolor": "white",
            "ticks": ""
           },
           "baxis": {
            "gridcolor": "white",
            "linecolor": "white",
            "ticks": ""
           },
           "bgcolor": "#E5ECF6",
           "caxis": {
            "gridcolor": "white",
            "linecolor": "white",
            "ticks": ""
           }
          },
          "title": {
           "x": 0.05
          },
          "xaxis": {
           "automargin": true,
           "gridcolor": "white",
           "linecolor": "white",
           "ticks": "",
           "title": {
            "standoff": 15
           },
           "zerolinecolor": "white",
           "zerolinewidth": 2
          },
          "yaxis": {
           "automargin": true,
           "gridcolor": "white",
           "linecolor": "white",
           "ticks": "",
           "title": {
            "standoff": 15
           },
           "zerolinecolor": "white",
           "zerolinewidth": 2
          }
         }
        },
        "title": {
         "text": "GameId: 2021090900, PlayId: 1587<br>06:46 2Q<br><br><br><br><br><br><br><br><br><br><br><br><br><br><br><br><br><br><br>(6:46) (Shotgun) D.Prescott pass incomplete short left to C.Lamb."
        },
        "updatemenus": [
         {
          "buttons": [
           {
            "args": [
             null,
             {
              "frame": {
               "duration": 100,
               "redraw": false
              },
              "fromcurrent": true,
              "transition": {
               "duration": 0
              }
             }
            ],
            "label": "Play",
            "method": "animate"
           },
           {
            "args": [
             [
              null
             ],
             {
              "frame": {
               "duration": 0,
               "redraw": false
              },
              "mode": "immediate",
              "transition": {
               "duration": 0
              }
             }
            ],
            "label": "Pause",
            "method": "animate"
           }
          ],
          "direction": "left",
          "pad": {
           "r": 10,
           "t": 87
          },
          "showactive": false,
          "type": "buttons",
          "x": 0.1,
          "xanchor": "right",
          "y": 0,
          "yanchor": "top"
         }
        ],
        "width": 1200,
        "xaxis": {
         "autorange": false,
         "range": [
          0,
          120
         ],
         "showticklabels": false,
         "tickmode": "array",
         "tickvals": [
          10,
          15,
          20,
          25,
          30,
          35,
          40,
          45,
          50,
          55,
          60,
          65,
          70,
          75,
          80,
          85,
          90,
          95,
          100,
          105,
          110
         ]
        },
        "yaxis": {
         "autorange": false,
         "range": [
          0,
          53.3
         ],
         "showgrid": false,
         "showticklabels": false
        }
       }
      }
     },
     "metadata": {},
     "output_type": "display_data"
    }
   ],
   "source": [
    "playId_num = 1587\n",
    "gameId = 2021090900\n",
    "animate_play(week1, plays, players, pffScoutingData, gameId, playId_num).show()"
   ]
  },
  {
   "cell_type": "code",
   "execution_count": 76,
   "metadata": {},
   "outputs": [
    {
     "data": {
      "text/plain": [
       "Index(['gameId', 'playId', 'nflId', 'pff_role', 'pff_positionLinedUp',\n",
       "       'pff_hit', 'pff_hurry', 'pff_sack', 'pff_beatenByDefender',\n",
       "       'pff_hitAllowed', 'pff_hurryAllowed', 'pff_sackAllowed',\n",
       "       'pff_nflIdBlockedPlayer', 'pff_blockType', 'pff_backFieldBlock'],\n",
       "      dtype='object')"
      ]
     },
     "execution_count": 76,
     "metadata": {},
     "output_type": "execute_result"
    }
   ],
   "source": [
    "pffScoutingData.columns"
   ]
  },
  {
   "cell_type": "code",
   "execution_count": 77,
   "metadata": {},
   "outputs": [
    {
     "name": "stdout",
     "output_type": "stream",
     "text": [
      "(188254, 15)\n"
     ]
    },
    {
     "data": {
      "text/html": [
       "<div>\n",
       "<style scoped>\n",
       "    .dataframe tbody tr th:only-of-type {\n",
       "        vertical-align: middle;\n",
       "    }\n",
       "\n",
       "    .dataframe tbody tr th {\n",
       "        vertical-align: top;\n",
       "    }\n",
       "\n",
       "    .dataframe thead th {\n",
       "        text-align: right;\n",
       "    }\n",
       "</style>\n",
       "<table border=\"1\" class=\"dataframe\">\n",
       "  <thead>\n",
       "    <tr style=\"text-align: right;\">\n",
       "      <th></th>\n",
       "      <th>gameId</th>\n",
       "      <th>playId</th>\n",
       "      <th>nflId_def</th>\n",
       "      <th>pff_hit</th>\n",
       "      <th>pff_hurry</th>\n",
       "      <th>pff_sack</th>\n",
       "    </tr>\n",
       "  </thead>\n",
       "  <tbody>\n",
       "    <tr>\n",
       "      <th>0</th>\n",
       "      <td>2021090900</td>\n",
       "      <td>97</td>\n",
       "      <td>41263</td>\n",
       "      <td>0.0</td>\n",
       "      <td>1.0</td>\n",
       "      <td>0.0</td>\n",
       "    </tr>\n",
       "    <tr>\n",
       "      <th>1</th>\n",
       "      <td>2021090900</td>\n",
       "      <td>97</td>\n",
       "      <td>42403</td>\n",
       "      <td>0.0</td>\n",
       "      <td>1.0</td>\n",
       "      <td>0.0</td>\n",
       "    </tr>\n",
       "    <tr>\n",
       "      <th>2</th>\n",
       "      <td>2021090900</td>\n",
       "      <td>97</td>\n",
       "      <td>53441</td>\n",
       "      <td>0.0</td>\n",
       "      <td>1.0</td>\n",
       "      <td>0.0</td>\n",
       "    </tr>\n",
       "    <tr>\n",
       "      <th>3</th>\n",
       "      <td>2021090900</td>\n",
       "      <td>97</td>\n",
       "      <td>53504</td>\n",
       "      <td>0.0</td>\n",
       "      <td>1.0</td>\n",
       "      <td>0.0</td>\n",
       "    </tr>\n",
       "    <tr>\n",
       "      <th>4</th>\n",
       "      <td>2021090900</td>\n",
       "      <td>349</td>\n",
       "      <td>38588</td>\n",
       "      <td>1.0</td>\n",
       "      <td>0.0</td>\n",
       "      <td>0.0</td>\n",
       "    </tr>\n",
       "  </tbody>\n",
       "</table>\n",
       "</div>"
      ],
      "text/plain": [
       "       gameId  playId  nflId_def  pff_hit  pff_hurry  pff_sack\n",
       "0  2021090900      97      41263      0.0        1.0       0.0\n",
       "1  2021090900      97      42403      0.0        1.0       0.0\n",
       "2  2021090900      97      53441      0.0        1.0       0.0\n",
       "3  2021090900      97      53504      0.0        1.0       0.0\n",
       "4  2021090900     349      38588      1.0        0.0       0.0"
      ]
     },
     "execution_count": 77,
     "metadata": {},
     "output_type": "execute_result"
    }
   ],
   "source": [
    "# pffScoutingData.columns\n",
    "pffScoutingData_vip_cols = ['pff_beatenByDefender', 'pff_hitAllowed', 'pff_hurryAllowed', 'pff_sackAllowed']\n",
    "pffScoutingData_vip_cols = ['pff_hit', 'pff_hurry', 'pff_sack']\n",
    "\n",
    "pff_sub = pffScoutingData.loc[pffScoutingData[pffScoutingData_vip_cols].gt(0).any(1)]\n",
    "print(pffScoutingData.shape)\n",
    "\n",
    "pff_needed_cols = [\"gameId\", \"playId\", \"nflId\"] + pffScoutingData_vip_cols\n",
    "pff_sub = pff_sub[pff_needed_cols]\n",
    "pff_sub = pff_sub[pff_sub.gameId == 2021090900].reset_index(drop=True)\n",
    "\n",
    "# pff_sub.rename(columns={\"nflId\": \"nflId_off\"}, inplace = True)\n",
    "pff_sub.rename(columns={\"nflId\": \"nflId_def\"}, inplace = True)\n",
    "\n",
    "pff_sub.head()"
   ]
  },
  {
   "cell_type": "code",
   "execution_count": 78,
   "metadata": {},
   "outputs": [
    {
     "data": {
      "text/html": [
       "<div>\n",
       "<style scoped>\n",
       "    .dataframe tbody tr th:only-of-type {\n",
       "        vertical-align: middle;\n",
       "    }\n",
       "\n",
       "    .dataframe tbody tr th {\n",
       "        vertical-align: top;\n",
       "    }\n",
       "\n",
       "    .dataframe thead th {\n",
       "        text-align: right;\n",
       "    }\n",
       "</style>\n",
       "<table border=\"1\" class=\"dataframe\">\n",
       "  <thead>\n",
       "    <tr style=\"text-align: right;\">\n",
       "      <th></th>\n",
       "      <th>nflId</th>\n",
       "      <th>playId</th>\n",
       "      <th>x</th>\n",
       "      <th>y</th>\n",
       "      <th>frameId</th>\n",
       "      <th>displayName</th>\n",
       "      <th>nflId_off</th>\n",
       "      <th>pff_blockType</th>\n",
       "      <th>pff_nflIdBlockedPlayer</th>\n",
       "      <th>x_off</th>\n",
       "      <th>...</th>\n",
       "      <th>x_def</th>\n",
       "      <th>y_def</th>\n",
       "      <th>displayName_def</th>\n",
       "      <th>off_qb_dist</th>\n",
       "      <th>def_qb_dist</th>\n",
       "      <th>line_diff</th>\n",
       "      <th>gameId</th>\n",
       "      <th>pff_hit</th>\n",
       "      <th>pff_hurry</th>\n",
       "      <th>pff_sack</th>\n",
       "    </tr>\n",
       "  </thead>\n",
       "  <tbody>\n",
       "    <tr>\n",
       "      <th>0</th>\n",
       "      <td>25511.0</td>\n",
       "      <td>97</td>\n",
       "      <td>33.77</td>\n",
       "      <td>23.43</td>\n",
       "      <td>30</td>\n",
       "      <td>Tom Brady</td>\n",
       "      <td>46163.0</td>\n",
       "      <td>SW</td>\n",
       "      <td>53441.0</td>\n",
       "      <td>37.38</td>\n",
       "      <td>...</td>\n",
       "      <td>37.09</td>\n",
       "      <td>22.84</td>\n",
       "      <td>Micah Parsons</td>\n",
       "      <td>3.633208</td>\n",
       "      <td>3.372017</td>\n",
       "      <td>0.261191</td>\n",
       "      <td>2.021091e+09</td>\n",
       "      <td>0.0</td>\n",
       "      <td>1.0</td>\n",
       "      <td>0.0</td>\n",
       "    </tr>\n",
       "    <tr>\n",
       "      <th>1</th>\n",
       "      <td>25511.0</td>\n",
       "      <td>97</td>\n",
       "      <td>33.77</td>\n",
       "      <td>23.43</td>\n",
       "      <td>30</td>\n",
       "      <td>Tom Brady</td>\n",
       "      <td>52421.0</td>\n",
       "      <td>PP</td>\n",
       "      <td>53441.0</td>\n",
       "      <td>37.20</td>\n",
       "      <td>...</td>\n",
       "      <td>36.98</td>\n",
       "      <td>24.29</td>\n",
       "      <td>Demarcus Lawrence</td>\n",
       "      <td>3.650671</td>\n",
       "      <td>3.323206</td>\n",
       "      <td>0.327465</td>\n",
       "      <td>2.021091e+09</td>\n",
       "      <td>0.0</td>\n",
       "      <td>1.0</td>\n",
       "      <td>0.0</td>\n",
       "    </tr>\n",
       "    <tr>\n",
       "      <th>2</th>\n",
       "      <td>43424.0</td>\n",
       "      <td>349</td>\n",
       "      <td>63.49</td>\n",
       "      <td>28.76</td>\n",
       "      <td>30</td>\n",
       "      <td>Dak Prescott</td>\n",
       "      <td>43293.0</td>\n",
       "      <td>PU</td>\n",
       "      <td>38588.0</td>\n",
       "      <td>61.39</td>\n",
       "      <td>...</td>\n",
       "      <td>62.57</td>\n",
       "      <td>30.13</td>\n",
       "      <td>Lavonte David</td>\n",
       "      <td>3.034156</td>\n",
       "      <td>1.650242</td>\n",
       "      <td>1.383913</td>\n",
       "      <td>2.021091e+09</td>\n",
       "      <td>1.0</td>\n",
       "      <td>0.0</td>\n",
       "      <td>0.0</td>\n",
       "    </tr>\n",
       "    <tr>\n",
       "      <th>3</th>\n",
       "      <td>43424.0</td>\n",
       "      <td>349</td>\n",
       "      <td>63.49</td>\n",
       "      <td>28.76</td>\n",
       "      <td>30</td>\n",
       "      <td>Dak Prescott</td>\n",
       "      <td>46206.0</td>\n",
       "      <td>CH</td>\n",
       "      <td>41915.0</td>\n",
       "      <td>52.19</td>\n",
       "      <td>...</td>\n",
       "      <td>62.00</td>\n",
       "      <td>33.59</td>\n",
       "      <td>Ndamukong Suh</td>\n",
       "      <td>13.436625</td>\n",
       "      <td>5.054602</td>\n",
       "      <td>8.382023</td>\n",
       "      <td>NaN</td>\n",
       "      <td>NaN</td>\n",
       "      <td>NaN</td>\n",
       "      <td>NaN</td>\n",
       "    </tr>\n",
       "    <tr>\n",
       "      <th>4</th>\n",
       "      <td>25511.0</td>\n",
       "      <td>434</td>\n",
       "      <td>23.62</td>\n",
       "      <td>27.81</td>\n",
       "      <td>27</td>\n",
       "      <td>Tom Brady</td>\n",
       "      <td>46163.0</td>\n",
       "      <td>PP</td>\n",
       "      <td>44955.0</td>\n",
       "      <td>26.27</td>\n",
       "      <td>...</td>\n",
       "      <td>23.37</td>\n",
       "      <td>23.24</td>\n",
       "      <td>Demarcus Lawrence</td>\n",
       "      <td>5.033975</td>\n",
       "      <td>4.576833</td>\n",
       "      <td>0.457142</td>\n",
       "      <td>NaN</td>\n",
       "      <td>NaN</td>\n",
       "      <td>NaN</td>\n",
       "      <td>NaN</td>\n",
       "    </tr>\n",
       "    <tr>\n",
       "      <th>5</th>\n",
       "      <td>25511.0</td>\n",
       "      <td>559</td>\n",
       "      <td>88.94</td>\n",
       "      <td>28.88</td>\n",
       "      <td>27</td>\n",
       "      <td>Tom Brady</td>\n",
       "      <td>42404.0</td>\n",
       "      <td>PP</td>\n",
       "      <td>53504.0</td>\n",
       "      <td>94.14</td>\n",
       "      <td>...</td>\n",
       "      <td>93.53</td>\n",
       "      <td>28.02</td>\n",
       "      <td>Osa Odighizuwa</td>\n",
       "      <td>5.221197</td>\n",
       "      <td>4.669872</td>\n",
       "      <td>0.551326</td>\n",
       "      <td>NaN</td>\n",
       "      <td>NaN</td>\n",
       "      <td>NaN</td>\n",
       "      <td>NaN</td>\n",
       "    </tr>\n",
       "    <tr>\n",
       "      <th>6</th>\n",
       "      <td>25511.0</td>\n",
       "      <td>583</td>\n",
       "      <td>99.97</td>\n",
       "      <td>23.80</td>\n",
       "      <td>27</td>\n",
       "      <td>Tom Brady</td>\n",
       "      <td>35481.0</td>\n",
       "      <td>PA</td>\n",
       "      <td>41263.0</td>\n",
       "      <td>101.97</td>\n",
       "      <td>...</td>\n",
       "      <td>100.00</td>\n",
       "      <td>19.90</td>\n",
       "      <td>Demarcus Lawrence</td>\n",
       "      <td>4.232363</td>\n",
       "      <td>3.900115</td>\n",
       "      <td>0.332248</td>\n",
       "      <td>NaN</td>\n",
       "      <td>NaN</td>\n",
       "      <td>NaN</td>\n",
       "      <td>NaN</td>\n",
       "    </tr>\n",
       "    <tr>\n",
       "      <th>7</th>\n",
       "      <td>43424.0</td>\n",
       "      <td>764</td>\n",
       "      <td>46.35</td>\n",
       "      <td>28.71</td>\n",
       "      <td>27</td>\n",
       "      <td>Dak Prescott</td>\n",
       "      <td>37082.0</td>\n",
       "      <td>PA</td>\n",
       "      <td>35454.0</td>\n",
       "      <td>42.86</td>\n",
       "      <td>...</td>\n",
       "      <td>43.78</td>\n",
       "      <td>22.38</td>\n",
       "      <td>Jason Pierre-Paul</td>\n",
       "      <td>7.272173</td>\n",
       "      <td>6.831823</td>\n",
       "      <td>0.440350</td>\n",
       "      <td>NaN</td>\n",
       "      <td>NaN</td>\n",
       "      <td>NaN</td>\n",
       "      <td>NaN</td>\n",
       "    </tr>\n",
       "    <tr>\n",
       "      <th>8</th>\n",
       "      <td>43424.0</td>\n",
       "      <td>764</td>\n",
       "      <td>46.35</td>\n",
       "      <td>28.71</td>\n",
       "      <td>27</td>\n",
       "      <td>Dak Prescott</td>\n",
       "      <td>45532.0</td>\n",
       "      <td>SR</td>\n",
       "      <td>53461.0</td>\n",
       "      <td>39.27</td>\n",
       "      <td>...</td>\n",
       "      <td>40.63</td>\n",
       "      <td>31.15</td>\n",
       "      <td>Joe Tryon</td>\n",
       "      <td>9.083089</td>\n",
       "      <td>6.218682</td>\n",
       "      <td>2.864407</td>\n",
       "      <td>NaN</td>\n",
       "      <td>NaN</td>\n",
       "      <td>NaN</td>\n",
       "      <td>NaN</td>\n",
       "    </tr>\n",
       "    <tr>\n",
       "      <th>9</th>\n",
       "      <td>25511.0</td>\n",
       "      <td>1312</td>\n",
       "      <td>19.66</td>\n",
       "      <td>31.15</td>\n",
       "      <td>24</td>\n",
       "      <td>Tom Brady</td>\n",
       "      <td>52421.0</td>\n",
       "      <td>PA</td>\n",
       "      <td>41363.0</td>\n",
       "      <td>14.76</td>\n",
       "      <td>...</td>\n",
       "      <td>14.91</td>\n",
       "      <td>30.68</td>\n",
       "      <td>Brent Urban</td>\n",
       "      <td>5.026370</td>\n",
       "      <td>4.773196</td>\n",
       "      <td>0.253174</td>\n",
       "      <td>NaN</td>\n",
       "      <td>NaN</td>\n",
       "      <td>NaN</td>\n",
       "      <td>NaN</td>\n",
       "    </tr>\n",
       "  </tbody>\n",
       "</table>\n",
       "<p>10 rows × 24 columns</p>\n",
       "</div>"
      ],
      "text/plain": [
       "     nflId  playId      x      y  frameId   displayName  nflId_off  \\\n",
       "0  25511.0      97  33.77  23.43       30     Tom Brady    46163.0   \n",
       "1  25511.0      97  33.77  23.43       30     Tom Brady    52421.0   \n",
       "2  43424.0     349  63.49  28.76       30  Dak Prescott    43293.0   \n",
       "3  43424.0     349  63.49  28.76       30  Dak Prescott    46206.0   \n",
       "4  25511.0     434  23.62  27.81       27     Tom Brady    46163.0   \n",
       "5  25511.0     559  88.94  28.88       27     Tom Brady    42404.0   \n",
       "6  25511.0     583  99.97  23.80       27     Tom Brady    35481.0   \n",
       "7  43424.0     764  46.35  28.71       27  Dak Prescott    37082.0   \n",
       "8  43424.0     764  46.35  28.71       27  Dak Prescott    45532.0   \n",
       "9  25511.0    1312  19.66  31.15       24     Tom Brady    52421.0   \n",
       "\n",
       "  pff_blockType  pff_nflIdBlockedPlayer   x_off  ...   x_def  y_def  \\\n",
       "0            SW                 53441.0   37.38  ...   37.09  22.84   \n",
       "1            PP                 53441.0   37.20  ...   36.98  24.29   \n",
       "2            PU                 38588.0   61.39  ...   62.57  30.13   \n",
       "3            CH                 41915.0   52.19  ...   62.00  33.59   \n",
       "4            PP                 44955.0   26.27  ...   23.37  23.24   \n",
       "5            PP                 53504.0   94.14  ...   93.53  28.02   \n",
       "6            PA                 41263.0  101.97  ...  100.00  19.90   \n",
       "7            PA                 35454.0   42.86  ...   43.78  22.38   \n",
       "8            SR                 53461.0   39.27  ...   40.63  31.15   \n",
       "9            PA                 41363.0   14.76  ...   14.91  30.68   \n",
       "\n",
       "     displayName_def  off_qb_dist  def_qb_dist  line_diff        gameId  \\\n",
       "0      Micah Parsons     3.633208     3.372017   0.261191  2.021091e+09   \n",
       "1  Demarcus Lawrence     3.650671     3.323206   0.327465  2.021091e+09   \n",
       "2      Lavonte David     3.034156     1.650242   1.383913  2.021091e+09   \n",
       "3      Ndamukong Suh    13.436625     5.054602   8.382023           NaN   \n",
       "4  Demarcus Lawrence     5.033975     4.576833   0.457142           NaN   \n",
       "5     Osa Odighizuwa     5.221197     4.669872   0.551326           NaN   \n",
       "6  Demarcus Lawrence     4.232363     3.900115   0.332248           NaN   \n",
       "7  Jason Pierre-Paul     7.272173     6.831823   0.440350           NaN   \n",
       "8          Joe Tryon     9.083089     6.218682   2.864407           NaN   \n",
       "9        Brent Urban     5.026370     4.773196   0.253174           NaN   \n",
       "\n",
       "   pff_hit  pff_hurry  pff_sack  \n",
       "0      0.0        1.0       0.0  \n",
       "1      0.0        1.0       0.0  \n",
       "2      1.0        0.0       0.0  \n",
       "3      NaN        NaN       NaN  \n",
       "4      NaN        NaN       NaN  \n",
       "5      NaN        NaN       NaN  \n",
       "6      NaN        NaN       NaN  \n",
       "7      NaN        NaN       NaN  \n",
       "8      NaN        NaN       NaN  \n",
       "9      NaN        NaN       NaN  \n",
       "\n",
       "[10 rows x 24 columns]"
      ]
     },
     "execution_count": 78,
     "metadata": {},
     "output_type": "execute_result"
    }
   ],
   "source": [
    "# joined_all = pd.merge(full_df, pff_sub, how=\"left\", on = [\"nflId_off\",\"playId\"])\n",
    "joined_all = pd.merge(full_df, pff_sub, how=\"left\", on = [\"nflId_def\",\"playId\"])\n",
    "joined_all.head(10)"
   ]
  },
  {
   "cell_type": "code",
   "execution_count": 79,
   "metadata": {},
   "outputs": [
    {
     "data": {
      "text/html": [
       "<div>\n",
       "<style scoped>\n",
       "    .dataframe tbody tr th:only-of-type {\n",
       "        vertical-align: middle;\n",
       "    }\n",
       "\n",
       "    .dataframe tbody tr th {\n",
       "        vertical-align: top;\n",
       "    }\n",
       "\n",
       "    .dataframe thead th {\n",
       "        text-align: right;\n",
       "    }\n",
       "</style>\n",
       "<table border=\"1\" class=\"dataframe\">\n",
       "  <thead>\n",
       "    <tr style=\"text-align: right;\">\n",
       "      <th></th>\n",
       "      <th>nflId</th>\n",
       "      <th>playId</th>\n",
       "      <th>x</th>\n",
       "      <th>y</th>\n",
       "      <th>frameId</th>\n",
       "      <th>displayName</th>\n",
       "      <th>nflId_off</th>\n",
       "      <th>pff_blockType</th>\n",
       "      <th>pff_nflIdBlockedPlayer</th>\n",
       "      <th>x_off</th>\n",
       "      <th>y_off</th>\n",
       "      <th>displayName_off</th>\n",
       "      <th>adj_BlockedPlayer</th>\n",
       "      <th>nflId_def</th>\n",
       "      <th>x_def</th>\n",
       "      <th>y_def</th>\n",
       "      <th>displayName_def</th>\n",
       "      <th>off_qb_dist</th>\n",
       "      <th>def_qb_dist</th>\n",
       "      <th>line_diff</th>\n",
       "    </tr>\n",
       "  </thead>\n",
       "  <tbody>\n",
       "    <tr>\n",
       "      <th>1</th>\n",
       "      <td>43424.0</td>\n",
       "      <td>2233</td>\n",
       "      <td>70.49</td>\n",
       "      <td>29.84</td>\n",
       "      <td>24</td>\n",
       "      <td>Dak Prescott</td>\n",
       "      <td>42654.0</td>\n",
       "      <td>PP</td>\n",
       "      <td>41915.0</td>\n",
       "      <td>74.73</td>\n",
       "      <td>25.02</td>\n",
       "      <td>La'el Collins</td>\n",
       "      <td>41915.0</td>\n",
       "      <td>41915.0</td>\n",
       "      <td>73.6</td>\n",
       "      <td>24.46</td>\n",
       "      <td>Shaquil Barrett</td>\n",
       "      <td>6.419502</td>\n",
       "      <td>6.214218</td>\n",
       "      <td>0.205284</td>\n",
       "    </tr>\n",
       "  </tbody>\n",
       "</table>\n",
       "</div>"
      ],
      "text/plain": [
       "     nflId  playId      x      y  frameId   displayName  nflId_off  \\\n",
       "1  43424.0    2233  70.49  29.84       24  Dak Prescott    42654.0   \n",
       "\n",
       "  pff_blockType  pff_nflIdBlockedPlayer  x_off  y_off displayName_off  \\\n",
       "1            PP                 41915.0  74.73  25.02   La'el Collins   \n",
       "\n",
       "   adj_BlockedPlayer  nflId_def  x_def  y_def  displayName_def  off_qb_dist  \\\n",
       "1            41915.0    41915.0   73.6  24.46  Shaquil Barrett     6.419502   \n",
       "\n",
       "   def_qb_dist  line_diff  \n",
       "1     6.214218   0.205284  "
      ]
     },
     "execution_count": 79,
     "metadata": {},
     "output_type": "execute_result"
    }
   ],
   "source": [
    "list_num = 41\n",
    "all_df_list[list_num][all_df_list[list_num].line_diff > -.05]"
   ]
  },
  {
   "cell_type": "code",
   "execution_count": 80,
   "metadata": {},
   "outputs": [
    {
     "data": {
      "text/plain": [
       "None                         1028537\n",
       "ball_snap                      26956\n",
       "pass_forward                   24127\n",
       "autoevent_ballsnap             13455\n",
       "autoevent_passforward          12627\n",
       "play_action                     5382\n",
       "qb_sack                         1334\n",
       "run                             1219\n",
       "pass_arrived                    1150\n",
       "autoevent_passinterrupted        690\n",
       "man_in_motion                    598\n",
       "line_set                         552\n",
       "shift                            437\n",
       "pass_tipped                      299\n",
       "first_contact                    230\n",
       "qb_strip_sack                    184\n",
       "pass_outcome_incomplete          138\n",
       "pass_outcome_caught               69\n",
       "fumble                            46\n",
       "fumble_offense_recovered          23\n",
       "huddle_break_offense              23\n",
       "lateral                           23\n",
       "handoff                           23\n",
       "Name: event, dtype: int64"
      ]
     },
     "execution_count": 80,
     "metadata": {},
     "output_type": "execute_result"
    }
   ],
   "source": [
    "week1.event.value_counts()"
   ]
  },
  {
   "cell_type": "code",
   "execution_count": 81,
   "metadata": {},
   "outputs": [],
   "source": [
    "# week1[week1.event == 'first_contact'].iloc[:, :4].drop_duplicates(subset=['playId'])"
   ]
  },
  {
   "cell_type": "code",
   "execution_count": 83,
   "metadata": {},
   "outputs": [
    {
     "data": {
      "application/vnd.plotly.v1+json": {
       "config": {
        "plotlyServerURL": "https://plot.ly"
       },
       "data": [
        {
         "hoverinfo": "none",
         "mode": "text",
         "showlegend": false,
         "text": [
          "10",
          "20",
          "30",
          "40",
          "50",
          "40",
          "30",
          "20",
          "10"
         ],
         "textfont": {
          "color": "#ffffff",
          "family": "Courier New, monospace",
          "size": 30
         },
         "type": "scatter",
         "x": [
          20,
          30,
          40,
          50,
          60,
          70,
          80,
          90,
          100
         ],
         "y": [
          5,
          5,
          5,
          5,
          5,
          5,
          5,
          5,
          5
         ]
        },
        {
         "hoverinfo": "none",
         "mode": "text",
         "showlegend": false,
         "text": [
          "10",
          "20",
          "30",
          "40",
          "50",
          "40",
          "30",
          "20",
          "10"
         ],
         "textfont": {
          "color": "#ffffff",
          "family": "Courier New, monospace",
          "size": 30
         },
         "type": "scatter",
         "x": [
          20,
          30,
          40,
          50,
          60,
          70,
          80,
          90,
          100
         ],
         "y": [
          48.5,
          48.5,
          48.5,
          48.5,
          48.5,
          48.5,
          48.5,
          48.5,
          48.5
         ]
        },
        {
         "hoverinfo": "none",
         "line": {
          "color": "blue",
          "dash": "dash"
         },
         "showlegend": false,
         "type": "scatter",
         "x": [
          60,
          60
         ],
         "y": [
          0,
          53.5
         ]
        },
        {
         "hoverinfo": "none",
         "line": {
          "color": "yellow",
          "dash": "dash"
         },
         "showlegend": false,
         "type": "scatter",
         "x": [
          70,
          70
         ],
         "y": [
          0,
          53.5
         ]
        },
        {
         "hoverinfo": "text",
         "hovertext": [
          "nflId:25511.0<br>displayName:Tom Brady<br>Position:QB<br>Role:Pass",
          "nflId:35634.0<br>displayName:Antonio Brown<br>Position:SLWR<br>Role:Pass Route",
          "nflId:39985.0<br>displayName:Giovani Bernard<br>Position:HB-R<br>Role:Pass Route",
          "nflId:40151.0<br>displayName:Ryan Jensen<br>Position:C<br>Role:Pass Block",
          "nflId:41233.0<br>displayName:Mike Evans<br>Position:SRWR<br>Role:Pass Route",
          "nflId:42377.0<br>displayName:Donovan Smith<br>Position:LT<br>Role:Pass Block",
          "nflId:42404.0<br>displayName:Ali Marpet<br>Position:LG<br>Role:Pass Block",
          "nflId:44896.0<br>displayName:Chris Godwin<br>Position:LWR<br>Role:Pass Route",
          "nflId:46163.0<br>displayName:Alex Cappa<br>Position:RG<br>Role:Pass Block",
          "nflId:52421.0<br>displayName:Tristan Wirfs<br>Position:RT<br>Role:Pass Block",
          "nflId:52569.0<br>displayName:Tyler Johnson<br>Position:RWR<br>Role:Pass Route"
         ],
         "marker": {
          "color": "#D50A0A"
         },
         "mode": "markers",
         "name": "TB",
         "type": "scatter",
         "x": [
          65.41,
          60.48,
          65.49,
          60.75,
          60.99,
          61.69,
          61.51,
          61.99,
          61.48,
          61.83,
          62.09
         ],
         "y": [
          29.81,
          14.34,
          32.37,
          29.89,
          41.28,
          26.74,
          28.36,
          12.19,
          31.23,
          32.57,
          42.73
         ]
        },
        {
         "hoverinfo": "text",
         "hovertext": [
          "nflId:41263.0<br>displayName:Demarcus Lawrence<br>Position:NLT<br>Role:Pass Rush",
          "nflId:42403.0<br>displayName:Randy Gregory<br>Position:ROLB<br>Role:Pass Rush",
          "nflId:43306.0<br>displayName:Keanu Neal<br>Position:LLB<br>Role:Coverage",
          "nflId:43478.0<br>displayName:Anthony Brown<br>Position:RCB<br>Role:Coverage",
          "nflId:43498.0<br>displayName:Maurice Canady<br>Position:SCBL<br>Role:Coverage",
          "nflId:43533.0<br>displayName:Jayron Kearse<br>Position:FS<br>Role:Coverage",
          "nflId:44904.0<br>displayName:Jourdan Lewis<br>Position:SCBR<br>Role:Coverage",
          "nflId:44962.0<br>displayName:Damontae Kazee<br>Position:FSL<br>Role:Coverage",
          "nflId:47996.0<br>displayName:Donovan Wilson<br>Position:FSR<br>Role:Coverage",
          "nflId:52459.0<br>displayName:Trevon Diggs<br>Position:LCB<br>Role:Coverage",
          "nflId:53441.0<br>displayName:Micah Parsons<br>Position:LOLB<br>Role:Pass Rush"
         ],
         "marker": {
          "color": "#003594"
         },
         "mode": "markers",
         "name": "DAL",
         "type": "scatter",
         "x": [
          59.2,
          59.45,
          55.35,
          58.16,
          56.67,
          29.3,
          58.71,
          35.24,
          36.08,
          56.41,
          59.84
         ],
         "y": [
          30.09,
          23.1,
          33.98,
          10.95,
          41.41,
          29.34,
          13.57,
          44.98,
          12.56,
          43.93,
          35.1
         ]
        },
        {
         "hoverinfo": "none",
         "marker": {
          "color": "#CBB67C"
         },
         "mode": "markers",
         "name": "football",
         "type": "scatter",
         "x": [
          60.22
         ],
         "y": [
          29.94
         ]
        }
       ],
       "frames": [
        {
         "data": [
          {
           "hoverinfo": "none",
           "mode": "text",
           "showlegend": false,
           "text": [
            "10",
            "20",
            "30",
            "40",
            "50",
            "40",
            "30",
            "20",
            "10"
           ],
           "textfont": {
            "color": "#ffffff",
            "family": "Courier New, monospace",
            "size": 30
           },
           "type": "scatter",
           "x": [
            20,
            30,
            40,
            50,
            60,
            70,
            80,
            90,
            100
           ],
           "y": [
            5,
            5,
            5,
            5,
            5,
            5,
            5,
            5,
            5
           ]
          },
          {
           "hoverinfo": "none",
           "mode": "text",
           "showlegend": false,
           "text": [
            "10",
            "20",
            "30",
            "40",
            "50",
            "40",
            "30",
            "20",
            "10"
           ],
           "textfont": {
            "color": "#ffffff",
            "family": "Courier New, monospace",
            "size": 30
           },
           "type": "scatter",
           "x": [
            20,
            30,
            40,
            50,
            60,
            70,
            80,
            90,
            100
           ],
           "y": [
            48.5,
            48.5,
            48.5,
            48.5,
            48.5,
            48.5,
            48.5,
            48.5,
            48.5
           ]
          },
          {
           "hoverinfo": "none",
           "line": {
            "color": "blue",
            "dash": "dash"
           },
           "showlegend": false,
           "type": "scatter",
           "x": [
            60,
            60
           ],
           "y": [
            0,
            53.5
           ]
          },
          {
           "hoverinfo": "none",
           "line": {
            "color": "yellow",
            "dash": "dash"
           },
           "showlegend": false,
           "type": "scatter",
           "x": [
            70,
            70
           ],
           "y": [
            0,
            53.5
           ]
          },
          {
           "hoverinfo": "text",
           "hovertext": [
            "nflId:25511.0<br>displayName:Tom Brady<br>Position:QB<br>Role:Pass",
            "nflId:35634.0<br>displayName:Antonio Brown<br>Position:SLWR<br>Role:Pass Route",
            "nflId:39985.0<br>displayName:Giovani Bernard<br>Position:HB-R<br>Role:Pass Route",
            "nflId:40151.0<br>displayName:Ryan Jensen<br>Position:C<br>Role:Pass Block",
            "nflId:41233.0<br>displayName:Mike Evans<br>Position:SRWR<br>Role:Pass Route",
            "nflId:42377.0<br>displayName:Donovan Smith<br>Position:LT<br>Role:Pass Block",
            "nflId:42404.0<br>displayName:Ali Marpet<br>Position:LG<br>Role:Pass Block",
            "nflId:44896.0<br>displayName:Chris Godwin<br>Position:LWR<br>Role:Pass Route",
            "nflId:46163.0<br>displayName:Alex Cappa<br>Position:RG<br>Role:Pass Block",
            "nflId:52421.0<br>displayName:Tristan Wirfs<br>Position:RT<br>Role:Pass Block",
            "nflId:52569.0<br>displayName:Tyler Johnson<br>Position:RWR<br>Role:Pass Route"
           ],
           "marker": {
            "color": "#D50A0A"
           },
           "mode": "markers",
           "name": "TB",
           "type": "scatter",
           "x": [
            65.39,
            60.48,
            65.49,
            60.75,
            60.99,
            61.7,
            61.51,
            62.02,
            61.48,
            61.84,
            62.09
           ],
           "y": [
            29.8,
            14.34,
            32.37,
            29.89,
            41.28,
            26.74,
            28.37,
            12.22,
            31.23,
            32.58,
            42.74
           ]
          },
          {
           "hoverinfo": "text",
           "hovertext": [
            "nflId:41263.0<br>displayName:Demarcus Lawrence<br>Position:NLT<br>Role:Pass Rush",
            "nflId:42403.0<br>displayName:Randy Gregory<br>Position:ROLB<br>Role:Pass Rush",
            "nflId:43306.0<br>displayName:Keanu Neal<br>Position:LLB<br>Role:Coverage",
            "nflId:43478.0<br>displayName:Anthony Brown<br>Position:RCB<br>Role:Coverage",
            "nflId:43498.0<br>displayName:Maurice Canady<br>Position:SCBL<br>Role:Coverage",
            "nflId:43533.0<br>displayName:Jayron Kearse<br>Position:FS<br>Role:Coverage",
            "nflId:44904.0<br>displayName:Jourdan Lewis<br>Position:SCBR<br>Role:Coverage",
            "nflId:44962.0<br>displayName:Damontae Kazee<br>Position:FSL<br>Role:Coverage",
            "nflId:47996.0<br>displayName:Donovan Wilson<br>Position:FSR<br>Role:Coverage",
            "nflId:52459.0<br>displayName:Trevon Diggs<br>Position:LCB<br>Role:Coverage",
            "nflId:53441.0<br>displayName:Micah Parsons<br>Position:LOLB<br>Role:Pass Rush"
           ],
           "marker": {
            "color": "#003594"
           },
           "mode": "markers",
           "name": "DAL",
           "type": "scatter",
           "x": [
            59.24,
            59.45,
            55.36,
            58.14,
            56.65,
            29.21,
            58.69,
            35.26,
            36.14,
            56.41,
            59.84
           ],
           "y": [
            30.1,
            23.1,
            33.99,
            10.93,
            41.44,
            29.32,
            13.63,
            45.01,
            12.54,
            43.95,
            35.06
           ]
          },
          {
           "hoverinfo": "none",
           "marker": {
            "color": "#CBB67C"
           },
           "mode": "markers",
           "name": "football",
           "type": "scatter",
           "x": [
            60.22
           ],
           "y": [
            29.94
           ]
          }
         ],
         "name": "2"
        },
        {
         "data": [
          {
           "hoverinfo": "none",
           "mode": "text",
           "showlegend": false,
           "text": [
            "10",
            "20",
            "30",
            "40",
            "50",
            "40",
            "30",
            "20",
            "10"
           ],
           "textfont": {
            "color": "#ffffff",
            "family": "Courier New, monospace",
            "size": 30
           },
           "type": "scatter",
           "x": [
            20,
            30,
            40,
            50,
            60,
            70,
            80,
            90,
            100
           ],
           "y": [
            5,
            5,
            5,
            5,
            5,
            5,
            5,
            5,
            5
           ]
          },
          {
           "hoverinfo": "none",
           "mode": "text",
           "showlegend": false,
           "text": [
            "10",
            "20",
            "30",
            "40",
            "50",
            "40",
            "30",
            "20",
            "10"
           ],
           "textfont": {
            "color": "#ffffff",
            "family": "Courier New, monospace",
            "size": 30
           },
           "type": "scatter",
           "x": [
            20,
            30,
            40,
            50,
            60,
            70,
            80,
            90,
            100
           ],
           "y": [
            48.5,
            48.5,
            48.5,
            48.5,
            48.5,
            48.5,
            48.5,
            48.5,
            48.5
           ]
          },
          {
           "hoverinfo": "none",
           "line": {
            "color": "blue",
            "dash": "dash"
           },
           "showlegend": false,
           "type": "scatter",
           "x": [
            60,
            60
           ],
           "y": [
            0,
            53.5
           ]
          },
          {
           "hoverinfo": "none",
           "line": {
            "color": "yellow",
            "dash": "dash"
           },
           "showlegend": false,
           "type": "scatter",
           "x": [
            70,
            70
           ],
           "y": [
            0,
            53.5
           ]
          },
          {
           "hoverinfo": "text",
           "hovertext": [
            "nflId:25511.0<br>displayName:Tom Brady<br>Position:QB<br>Role:Pass",
            "nflId:35634.0<br>displayName:Antonio Brown<br>Position:SLWR<br>Role:Pass Route",
            "nflId:39985.0<br>displayName:Giovani Bernard<br>Position:HB-R<br>Role:Pass Route",
            "nflId:40151.0<br>displayName:Ryan Jensen<br>Position:C<br>Role:Pass Block",
            "nflId:41233.0<br>displayName:Mike Evans<br>Position:SRWR<br>Role:Pass Route",
            "nflId:42377.0<br>displayName:Donovan Smith<br>Position:LT<br>Role:Pass Block",
            "nflId:42404.0<br>displayName:Ali Marpet<br>Position:LG<br>Role:Pass Block",
            "nflId:44896.0<br>displayName:Chris Godwin<br>Position:LWR<br>Role:Pass Route",
            "nflId:46163.0<br>displayName:Alex Cappa<br>Position:RG<br>Role:Pass Block",
            "nflId:52421.0<br>displayName:Tristan Wirfs<br>Position:RT<br>Role:Pass Block",
            "nflId:52569.0<br>displayName:Tyler Johnson<br>Position:RWR<br>Role:Pass Route"
           ],
           "marker": {
            "color": "#D50A0A"
           },
           "mode": "markers",
           "name": "TB",
           "type": "scatter",
           "x": [
            65.39,
            60.47,
            65.49,
            60.76,
            60.99,
            61.7,
            61.51,
            62.03,
            61.48,
            61.84,
            62.09
           ],
           "y": [
            29.8,
            14.33,
            32.37,
            29.89,
            41.29,
            26.74,
            28.37,
            12.25,
            31.23,
            32.58,
            42.74
           ]
          },
          {
           "hoverinfo": "text",
           "hovertext": [
            "nflId:41263.0<br>displayName:Demarcus Lawrence<br>Position:NLT<br>Role:Pass Rush",
            "nflId:42403.0<br>displayName:Randy Gregory<br>Position:ROLB<br>Role:Pass Rush",
            "nflId:43306.0<br>displayName:Keanu Neal<br>Position:LLB<br>Role:Coverage",
            "nflId:43478.0<br>displayName:Anthony Brown<br>Position:RCB<br>Role:Coverage",
            "nflId:43498.0<br>displayName:Maurice Canady<br>Position:SCBL<br>Role:Coverage",
            "nflId:43533.0<br>displayName:Jayron Kearse<br>Position:FS<br>Role:Coverage",
            "nflId:44904.0<br>displayName:Jourdan Lewis<br>Position:SCBR<br>Role:Coverage",
            "nflId:44962.0<br>displayName:Damontae Kazee<br>Position:FSL<br>Role:Coverage",
            "nflId:47996.0<br>displayName:Donovan Wilson<br>Position:FSR<br>Role:Coverage",
            "nflId:52459.0<br>displayName:Trevon Diggs<br>Position:LCB<br>Role:Coverage",
            "nflId:53441.0<br>displayName:Micah Parsons<br>Position:LOLB<br>Role:Pass Rush"
           ],
           "marker": {
            "color": "#003594"
           },
           "mode": "markers",
           "name": "DAL",
           "type": "scatter",
           "x": [
            59.27,
            59.48,
            55.37,
            58.12,
            56.63,
            29.12,
            58.65,
            35.29,
            36.19,
            56.41,
            59.86
           ],
           "y": [
            30.1,
            23.11,
            34.01,
            10.88,
            41.46,
            29.3,
            13.69,
            45.05,
            12.54,
            43.96,
            35.06
           ]
          },
          {
           "hoverinfo": "none",
           "marker": {
            "color": "#CBB67C"
           },
           "mode": "markers",
           "name": "football",
           "type": "scatter",
           "x": [
            60.22
           ],
           "y": [
            29.94
           ]
          }
         ],
         "name": "3"
        },
        {
         "data": [
          {
           "hoverinfo": "none",
           "mode": "text",
           "showlegend": false,
           "text": [
            "10",
            "20",
            "30",
            "40",
            "50",
            "40",
            "30",
            "20",
            "10"
           ],
           "textfont": {
            "color": "#ffffff",
            "family": "Courier New, monospace",
            "size": 30
           },
           "type": "scatter",
           "x": [
            20,
            30,
            40,
            50,
            60,
            70,
            80,
            90,
            100
           ],
           "y": [
            5,
            5,
            5,
            5,
            5,
            5,
            5,
            5,
            5
           ]
          },
          {
           "hoverinfo": "none",
           "mode": "text",
           "showlegend": false,
           "text": [
            "10",
            "20",
            "30",
            "40",
            "50",
            "40",
            "30",
            "20",
            "10"
           ],
           "textfont": {
            "color": "#ffffff",
            "family": "Courier New, monospace",
            "size": 30
           },
           "type": "scatter",
           "x": [
            20,
            30,
            40,
            50,
            60,
            70,
            80,
            90,
            100
           ],
           "y": [
            48.5,
            48.5,
            48.5,
            48.5,
            48.5,
            48.5,
            48.5,
            48.5,
            48.5
           ]
          },
          {
           "hoverinfo": "none",
           "line": {
            "color": "blue",
            "dash": "dash"
           },
           "showlegend": false,
           "type": "scatter",
           "x": [
            60,
            60
           ],
           "y": [
            0,
            53.5
           ]
          },
          {
           "hoverinfo": "none",
           "line": {
            "color": "yellow",
            "dash": "dash"
           },
           "showlegend": false,
           "type": "scatter",
           "x": [
            70,
            70
           ],
           "y": [
            0,
            53.5
           ]
          },
          {
           "hoverinfo": "text",
           "hovertext": [
            "nflId:25511.0<br>displayName:Tom Brady<br>Position:QB<br>Role:Pass",
            "nflId:35634.0<br>displayName:Antonio Brown<br>Position:SLWR<br>Role:Pass Route",
            "nflId:39985.0<br>displayName:Giovani Bernard<br>Position:HB-R<br>Role:Pass Route",
            "nflId:40151.0<br>displayName:Ryan Jensen<br>Position:C<br>Role:Pass Block",
            "nflId:41233.0<br>displayName:Mike Evans<br>Position:SRWR<br>Role:Pass Route",
            "nflId:42377.0<br>displayName:Donovan Smith<br>Position:LT<br>Role:Pass Block",
            "nflId:42404.0<br>displayName:Ali Marpet<br>Position:LG<br>Role:Pass Block",
            "nflId:44896.0<br>displayName:Chris Godwin<br>Position:LWR<br>Role:Pass Route",
            "nflId:46163.0<br>displayName:Alex Cappa<br>Position:RG<br>Role:Pass Block",
            "nflId:52421.0<br>displayName:Tristan Wirfs<br>Position:RT<br>Role:Pass Block",
            "nflId:52569.0<br>displayName:Tyler Johnson<br>Position:RWR<br>Role:Pass Route"
           ],
           "marker": {
            "color": "#D50A0A"
           },
           "mode": "markers",
           "name": "TB",
           "type": "scatter",
           "x": [
            65.38,
            60.46,
            65.49,
            60.76,
            60.99,
            61.71,
            61.51,
            62,
            61.48,
            61.85,
            62.08
           ],
           "y": [
            29.79,
            14.33,
            32.37,
            29.89,
            41.29,
            26.74,
            28.37,
            12.27,
            31.23,
            32.58,
            42.73
           ]
          },
          {
           "hoverinfo": "text",
           "hovertext": [
            "nflId:41263.0<br>displayName:Demarcus Lawrence<br>Position:NLT<br>Role:Pass Rush",
            "nflId:42403.0<br>displayName:Randy Gregory<br>Position:ROLB<br>Role:Pass Rush",
            "nflId:43306.0<br>displayName:Keanu Neal<br>Position:LLB<br>Role:Coverage",
            "nflId:43478.0<br>displayName:Anthony Brown<br>Position:RCB<br>Role:Coverage",
            "nflId:43498.0<br>displayName:Maurice Canady<br>Position:SCBL<br>Role:Coverage",
            "nflId:43533.0<br>displayName:Jayron Kearse<br>Position:FS<br>Role:Coverage",
            "nflId:44904.0<br>displayName:Jourdan Lewis<br>Position:SCBR<br>Role:Coverage",
            "nflId:44962.0<br>displayName:Damontae Kazee<br>Position:FSL<br>Role:Coverage",
            "nflId:47996.0<br>displayName:Donovan Wilson<br>Position:FSR<br>Role:Coverage",
            "nflId:52459.0<br>displayName:Trevon Diggs<br>Position:LCB<br>Role:Coverage",
            "nflId:53441.0<br>displayName:Micah Parsons<br>Position:LOLB<br>Role:Pass Rush"
           ],
           "marker": {
            "color": "#003594"
           },
           "mode": "markers",
           "name": "DAL",
           "type": "scatter",
           "x": [
            59.32,
            59.49,
            55.38,
            58.1,
            56.61,
            29.04,
            58.6,
            35.32,
            36.24,
            56.4,
            59.88
           ],
           "y": [
            30.1,
            23.11,
            34.02,
            10.84,
            41.49,
            29.29,
            13.7,
            45.1,
            12.54,
            43.97,
            35.05
           ]
          },
          {
           "hoverinfo": "none",
           "marker": {
            "color": "#CBB67C"
           },
           "mode": "markers",
           "name": "football",
           "type": "scatter",
           "x": [
            60.22
           ],
           "y": [
            29.94
           ]
          }
         ],
         "name": "4"
        },
        {
         "data": [
          {
           "hoverinfo": "none",
           "mode": "text",
           "showlegend": false,
           "text": [
            "10",
            "20",
            "30",
            "40",
            "50",
            "40",
            "30",
            "20",
            "10"
           ],
           "textfont": {
            "color": "#ffffff",
            "family": "Courier New, monospace",
            "size": 30
           },
           "type": "scatter",
           "x": [
            20,
            30,
            40,
            50,
            60,
            70,
            80,
            90,
            100
           ],
           "y": [
            5,
            5,
            5,
            5,
            5,
            5,
            5,
            5,
            5
           ]
          },
          {
           "hoverinfo": "none",
           "mode": "text",
           "showlegend": false,
           "text": [
            "10",
            "20",
            "30",
            "40",
            "50",
            "40",
            "30",
            "20",
            "10"
           ],
           "textfont": {
            "color": "#ffffff",
            "family": "Courier New, monospace",
            "size": 30
           },
           "type": "scatter",
           "x": [
            20,
            30,
            40,
            50,
            60,
            70,
            80,
            90,
            100
           ],
           "y": [
            48.5,
            48.5,
            48.5,
            48.5,
            48.5,
            48.5,
            48.5,
            48.5,
            48.5
           ]
          },
          {
           "hoverinfo": "none",
           "line": {
            "color": "blue",
            "dash": "dash"
           },
           "showlegend": false,
           "type": "scatter",
           "x": [
            60,
            60
           ],
           "y": [
            0,
            53.5
           ]
          },
          {
           "hoverinfo": "none",
           "line": {
            "color": "yellow",
            "dash": "dash"
           },
           "showlegend": false,
           "type": "scatter",
           "x": [
            70,
            70
           ],
           "y": [
            0,
            53.5
           ]
          },
          {
           "hoverinfo": "text",
           "hovertext": [
            "nflId:25511.0<br>displayName:Tom Brady<br>Position:QB<br>Role:Pass",
            "nflId:35634.0<br>displayName:Antonio Brown<br>Position:SLWR<br>Role:Pass Route",
            "nflId:39985.0<br>displayName:Giovani Bernard<br>Position:HB-R<br>Role:Pass Route",
            "nflId:40151.0<br>displayName:Ryan Jensen<br>Position:C<br>Role:Pass Block",
            "nflId:41233.0<br>displayName:Mike Evans<br>Position:SRWR<br>Role:Pass Route",
            "nflId:42377.0<br>displayName:Donovan Smith<br>Position:LT<br>Role:Pass Block",
            "nflId:42404.0<br>displayName:Ali Marpet<br>Position:LG<br>Role:Pass Block",
            "nflId:44896.0<br>displayName:Chris Godwin<br>Position:LWR<br>Role:Pass Route",
            "nflId:46163.0<br>displayName:Alex Cappa<br>Position:RG<br>Role:Pass Block",
            "nflId:52421.0<br>displayName:Tristan Wirfs<br>Position:RT<br>Role:Pass Block",
            "nflId:52569.0<br>displayName:Tyler Johnson<br>Position:RWR<br>Role:Pass Route"
           ],
           "marker": {
            "color": "#D50A0A"
           },
           "mode": "markers",
           "name": "TB",
           "type": "scatter",
           "x": [
            65.36,
            60.45,
            65.49,
            60.78,
            60.98,
            61.73,
            61.51,
            61.99,
            61.48,
            61.87,
            62.08
           ],
           "y": [
            29.78,
            14.32,
            32.37,
            29.88,
            41.29,
            26.74,
            28.38,
            12.26,
            31.23,
            32.6,
            42.73
           ]
          },
          {
           "hoverinfo": "text",
           "hovertext": [
            "nflId:41263.0<br>displayName:Demarcus Lawrence<br>Position:NLT<br>Role:Pass Rush",
            "nflId:42403.0<br>displayName:Randy Gregory<br>Position:ROLB<br>Role:Pass Rush",
            "nflId:43306.0<br>displayName:Keanu Neal<br>Position:LLB<br>Role:Coverage",
            "nflId:43478.0<br>displayName:Anthony Brown<br>Position:RCB<br>Role:Coverage",
            "nflId:43498.0<br>displayName:Maurice Canady<br>Position:SCBL<br>Role:Coverage",
            "nflId:43533.0<br>displayName:Jayron Kearse<br>Position:FS<br>Role:Coverage",
            "nflId:44904.0<br>displayName:Jourdan Lewis<br>Position:SCBR<br>Role:Coverage",
            "nflId:44962.0<br>displayName:Damontae Kazee<br>Position:FSL<br>Role:Coverage",
            "nflId:47996.0<br>displayName:Donovan Wilson<br>Position:FSR<br>Role:Coverage",
            "nflId:52459.0<br>displayName:Trevon Diggs<br>Position:LCB<br>Role:Coverage",
            "nflId:53441.0<br>displayName:Micah Parsons<br>Position:LOLB<br>Role:Pass Rush"
           ],
           "marker": {
            "color": "#003594"
           },
           "mode": "markers",
           "name": "DAL",
           "type": "scatter",
           "x": [
            59.39,
            59.51,
            55.39,
            58.08,
            56.6,
            28.96,
            58.57,
            35.36,
            36.29,
            56.4,
            59.9
           ],
           "y": [
            30.11,
            23.12,
            34.03,
            10.8,
            41.53,
            29.28,
            13.74,
            45.15,
            12.56,
            43.99,
            35.04
           ]
          },
          {
           "hoverinfo": "none",
           "marker": {
            "color": "#CBB67C"
           },
           "mode": "markers",
           "name": "football",
           "type": "scatter",
           "x": [
            60.22
           ],
           "y": [
            29.94
           ]
          }
         ],
         "name": "5"
        },
        {
         "data": [
          {
           "hoverinfo": "none",
           "mode": "text",
           "showlegend": false,
           "text": [
            "10",
            "20",
            "30",
            "40",
            "50",
            "40",
            "30",
            "20",
            "10"
           ],
           "textfont": {
            "color": "#ffffff",
            "family": "Courier New, monospace",
            "size": 30
           },
           "type": "scatter",
           "x": [
            20,
            30,
            40,
            50,
            60,
            70,
            80,
            90,
            100
           ],
           "y": [
            5,
            5,
            5,
            5,
            5,
            5,
            5,
            5,
            5
           ]
          },
          {
           "hoverinfo": "none",
           "mode": "text",
           "showlegend": false,
           "text": [
            "10",
            "20",
            "30",
            "40",
            "50",
            "40",
            "30",
            "20",
            "10"
           ],
           "textfont": {
            "color": "#ffffff",
            "family": "Courier New, monospace",
            "size": 30
           },
           "type": "scatter",
           "x": [
            20,
            30,
            40,
            50,
            60,
            70,
            80,
            90,
            100
           ],
           "y": [
            48.5,
            48.5,
            48.5,
            48.5,
            48.5,
            48.5,
            48.5,
            48.5,
            48.5
           ]
          },
          {
           "hoverinfo": "none",
           "line": {
            "color": "blue",
            "dash": "dash"
           },
           "showlegend": false,
           "type": "scatter",
           "x": [
            60,
            60
           ],
           "y": [
            0,
            53.5
           ]
          },
          {
           "hoverinfo": "none",
           "line": {
            "color": "yellow",
            "dash": "dash"
           },
           "showlegend": false,
           "type": "scatter",
           "x": [
            70,
            70
           ],
           "y": [
            0,
            53.5
           ]
          },
          {
           "hoverinfo": "text",
           "hovertext": [
            "nflId:25511.0<br>displayName:Tom Brady<br>Position:QB<br>Role:Pass",
            "nflId:35634.0<br>displayName:Antonio Brown<br>Position:SLWR<br>Role:Pass Route",
            "nflId:39985.0<br>displayName:Giovani Bernard<br>Position:HB-R<br>Role:Pass Route",
            "nflId:40151.0<br>displayName:Ryan Jensen<br>Position:C<br>Role:Pass Block",
            "nflId:41233.0<br>displayName:Mike Evans<br>Position:SRWR<br>Role:Pass Route",
            "nflId:42377.0<br>displayName:Donovan Smith<br>Position:LT<br>Role:Pass Block",
            "nflId:42404.0<br>displayName:Ali Marpet<br>Position:LG<br>Role:Pass Block",
            "nflId:44896.0<br>displayName:Chris Godwin<br>Position:LWR<br>Role:Pass Route",
            "nflId:46163.0<br>displayName:Alex Cappa<br>Position:RG<br>Role:Pass Block",
            "nflId:52421.0<br>displayName:Tristan Wirfs<br>Position:RT<br>Role:Pass Block",
            "nflId:52569.0<br>displayName:Tyler Johnson<br>Position:RWR<br>Role:Pass Route"
           ],
           "marker": {
            "color": "#D50A0A"
           },
           "mode": "markers",
           "name": "TB",
           "type": "scatter",
           "x": [
            65.36,
            60.43,
            65.49,
            60.84,
            60.97,
            61.77,
            61.52,
            61.95,
            61.5,
            61.93,
            62.07
           ],
           "y": [
            29.77,
            14.31,
            32.37,
            29.88,
            41.29,
            26.74,
            28.38,
            12.26,
            31.24,
            32.63,
            42.73
           ]
          },
          {
           "hoverinfo": "text",
           "hovertext": [
            "nflId:41263.0<br>displayName:Demarcus Lawrence<br>Position:NLT<br>Role:Pass Rush",
            "nflId:42403.0<br>displayName:Randy Gregory<br>Position:ROLB<br>Role:Pass Rush",
            "nflId:43306.0<br>displayName:Keanu Neal<br>Position:LLB<br>Role:Coverage",
            "nflId:43478.0<br>displayName:Anthony Brown<br>Position:RCB<br>Role:Coverage",
            "nflId:43498.0<br>displayName:Maurice Canady<br>Position:SCBL<br>Role:Coverage",
            "nflId:43533.0<br>displayName:Jayron Kearse<br>Position:FS<br>Role:Coverage",
            "nflId:44904.0<br>displayName:Jourdan Lewis<br>Position:SCBR<br>Role:Coverage",
            "nflId:44962.0<br>displayName:Damontae Kazee<br>Position:FSL<br>Role:Coverage",
            "nflId:47996.0<br>displayName:Donovan Wilson<br>Position:FSR<br>Role:Coverage",
            "nflId:52459.0<br>displayName:Trevon Diggs<br>Position:LCB<br>Role:Coverage",
            "nflId:53441.0<br>displayName:Micah Parsons<br>Position:LOLB<br>Role:Pass Rush"
           ],
           "marker": {
            "color": "#003594"
           },
           "mode": "markers",
           "name": "DAL",
           "type": "scatter",
           "x": [
            59.47,
            59.58,
            55.39,
            58.05,
            56.58,
            28.87,
            58.53,
            35.41,
            36.33,
            56.39,
            59.95
           ],
           "y": [
            30.11,
            23.16,
            34.04,
            10.77,
            41.56,
            29.28,
            13.77,
            45.2,
            12.58,
            44.01,
            35.04
           ]
          },
          {
           "hoverinfo": "none",
           "marker": {
            "color": "#CBB67C"
           },
           "mode": "markers",
           "name": "football",
           "type": "scatter",
           "x": [
            60.22
           ],
           "y": [
            29.94
           ]
          }
         ],
         "name": "6"
        },
        {
         "data": [
          {
           "hoverinfo": "none",
           "mode": "text",
           "showlegend": false,
           "text": [
            "10",
            "20",
            "30",
            "40",
            "50",
            "40",
            "30",
            "20",
            "10"
           ],
           "textfont": {
            "color": "#ffffff",
            "family": "Courier New, monospace",
            "size": 30
           },
           "type": "scatter",
           "x": [
            20,
            30,
            40,
            50,
            60,
            70,
            80,
            90,
            100
           ],
           "y": [
            5,
            5,
            5,
            5,
            5,
            5,
            5,
            5,
            5
           ]
          },
          {
           "hoverinfo": "none",
           "mode": "text",
           "showlegend": false,
           "text": [
            "10",
            "20",
            "30",
            "40",
            "50",
            "40",
            "30",
            "20",
            "10"
           ],
           "textfont": {
            "color": "#ffffff",
            "family": "Courier New, monospace",
            "size": 30
           },
           "type": "scatter",
           "x": [
            20,
            30,
            40,
            50,
            60,
            70,
            80,
            90,
            100
           ],
           "y": [
            48.5,
            48.5,
            48.5,
            48.5,
            48.5,
            48.5,
            48.5,
            48.5,
            48.5
           ]
          },
          {
           "hoverinfo": "none",
           "line": {
            "color": "blue",
            "dash": "dash"
           },
           "showlegend": false,
           "type": "scatter",
           "x": [
            60,
            60
           ],
           "y": [
            0,
            53.5
           ]
          },
          {
           "hoverinfo": "none",
           "line": {
            "color": "yellow",
            "dash": "dash"
           },
           "showlegend": false,
           "type": "scatter",
           "x": [
            70,
            70
           ],
           "y": [
            0,
            53.5
           ]
          },
          {
           "hoverinfo": "text",
           "hovertext": [
            "nflId:25511.0<br>displayName:Tom Brady<br>Position:QB<br>Role:Pass",
            "nflId:35634.0<br>displayName:Antonio Brown<br>Position:SLWR<br>Role:Pass Route",
            "nflId:39985.0<br>displayName:Giovani Bernard<br>Position:HB-R<br>Role:Pass Route",
            "nflId:40151.0<br>displayName:Ryan Jensen<br>Position:C<br>Role:Pass Block",
            "nflId:41233.0<br>displayName:Mike Evans<br>Position:SRWR<br>Role:Pass Route",
            "nflId:42377.0<br>displayName:Donovan Smith<br>Position:LT<br>Role:Pass Block",
            "nflId:42404.0<br>displayName:Ali Marpet<br>Position:LG<br>Role:Pass Block",
            "nflId:44896.0<br>displayName:Chris Godwin<br>Position:LWR<br>Role:Pass Route",
            "nflId:46163.0<br>displayName:Alex Cappa<br>Position:RG<br>Role:Pass Block",
            "nflId:52421.0<br>displayName:Tristan Wirfs<br>Position:RT<br>Role:Pass Block",
            "nflId:52569.0<br>displayName:Tyler Johnson<br>Position:RWR<br>Role:Pass Route"
           ],
           "marker": {
            "color": "#D50A0A"
           },
           "mode": "markers",
           "name": "TB",
           "type": "scatter",
           "x": [
            65.38,
            60.39,
            65.49,
            60.91,
            60.96,
            61.86,
            61.52,
            61.89,
            61.53,
            62.01,
            62.07
           ],
           "y": [
            29.76,
            14.32,
            32.38,
            29.89,
            41.29,
            26.73,
            28.38,
            12.26,
            31.25,
            32.67,
            42.73
           ]
          },
          {
           "hoverinfo": "text",
           "hovertext": [
            "nflId:41263.0<br>displayName:Demarcus Lawrence<br>Position:NLT<br>Role:Pass Rush",
            "nflId:42403.0<br>displayName:Randy Gregory<br>Position:ROLB<br>Role:Pass Rush",
            "nflId:43306.0<br>displayName:Keanu Neal<br>Position:LLB<br>Role:Coverage",
            "nflId:43478.0<br>displayName:Anthony Brown<br>Position:RCB<br>Role:Coverage",
            "nflId:43498.0<br>displayName:Maurice Canady<br>Position:SCBL<br>Role:Coverage",
            "nflId:43533.0<br>displayName:Jayron Kearse<br>Position:FS<br>Role:Coverage",
            "nflId:44904.0<br>displayName:Jourdan Lewis<br>Position:SCBR<br>Role:Coverage",
            "nflId:44962.0<br>displayName:Damontae Kazee<br>Position:FSL<br>Role:Coverage",
            "nflId:47996.0<br>displayName:Donovan Wilson<br>Position:FSR<br>Role:Coverage",
            "nflId:52459.0<br>displayName:Trevon Diggs<br>Position:LCB<br>Role:Coverage",
            "nflId:53441.0<br>displayName:Micah Parsons<br>Position:LOLB<br>Role:Pass Rush"
           ],
           "marker": {
            "color": "#003594"
           },
           "mode": "markers",
           "name": "DAL",
           "type": "scatter",
           "x": [
            59.57,
            59.69,
            55.39,
            58.01,
            56.55,
            28.78,
            58.48,
            35.47,
            36.35,
            56.36,
            60.02
           ],
           "y": [
            30.13,
            23.22,
            34.04,
            10.74,
            41.59,
            29.26,
            13.81,
            45.23,
            12.6,
            44.04,
            35.02
           ]
          },
          {
           "hoverinfo": "none",
           "marker": {
            "color": "#CBB67C"
           },
           "mode": "markers",
           "name": "football",
           "type": "scatter",
           "x": [
            60.22
           ],
           "y": [
            29.94
           ]
          }
         ],
         "name": "7"
        },
        {
         "data": [
          {
           "hoverinfo": "none",
           "mode": "text",
           "showlegend": false,
           "text": [
            "10",
            "20",
            "30",
            "40",
            "50",
            "40",
            "30",
            "20",
            "10"
           ],
           "textfont": {
            "color": "#ffffff",
            "family": "Courier New, monospace",
            "size": 30
           },
           "type": "scatter",
           "x": [
            20,
            30,
            40,
            50,
            60,
            70,
            80,
            90,
            100
           ],
           "y": [
            5,
            5,
            5,
            5,
            5,
            5,
            5,
            5,
            5
           ]
          },
          {
           "hoverinfo": "none",
           "mode": "text",
           "showlegend": false,
           "text": [
            "10",
            "20",
            "30",
            "40",
            "50",
            "40",
            "30",
            "20",
            "10"
           ],
           "textfont": {
            "color": "#ffffff",
            "family": "Courier New, monospace",
            "size": 30
           },
           "type": "scatter",
           "x": [
            20,
            30,
            40,
            50,
            60,
            70,
            80,
            90,
            100
           ],
           "y": [
            48.5,
            48.5,
            48.5,
            48.5,
            48.5,
            48.5,
            48.5,
            48.5,
            48.5
           ]
          },
          {
           "hoverinfo": "none",
           "line": {
            "color": "blue",
            "dash": "dash"
           },
           "showlegend": false,
           "type": "scatter",
           "x": [
            60,
            60
           ],
           "y": [
            0,
            53.5
           ]
          },
          {
           "hoverinfo": "none",
           "line": {
            "color": "yellow",
            "dash": "dash"
           },
           "showlegend": false,
           "type": "scatter",
           "x": [
            70,
            70
           ],
           "y": [
            0,
            53.5
           ]
          },
          {
           "hoverinfo": "text",
           "hovertext": [
            "nflId:25511.0<br>displayName:Tom Brady<br>Position:QB<br>Role:Pass",
            "nflId:35634.0<br>displayName:Antonio Brown<br>Position:SLWR<br>Role:Pass Route",
            "nflId:39985.0<br>displayName:Giovani Bernard<br>Position:HB-R<br>Role:Pass Route",
            "nflId:40151.0<br>displayName:Ryan Jensen<br>Position:C<br>Role:Pass Block",
            "nflId:41233.0<br>displayName:Mike Evans<br>Position:SRWR<br>Role:Pass Route",
            "nflId:42377.0<br>displayName:Donovan Smith<br>Position:LT<br>Role:Pass Block",
            "nflId:42404.0<br>displayName:Ali Marpet<br>Position:LG<br>Role:Pass Block",
            "nflId:44896.0<br>displayName:Chris Godwin<br>Position:LWR<br>Role:Pass Route",
            "nflId:46163.0<br>displayName:Alex Cappa<br>Position:RG<br>Role:Pass Block",
            "nflId:52421.0<br>displayName:Tristan Wirfs<br>Position:RT<br>Role:Pass Block",
            "nflId:52569.0<br>displayName:Tyler Johnson<br>Position:RWR<br>Role:Pass Route"
           ],
           "marker": {
            "color": "#D50A0A"
           },
           "mode": "markers",
           "name": "TB",
           "type": "scatter",
           "x": [
            65.4,
            60.33,
            65.49,
            61.01,
            60.93,
            61.99,
            61.54,
            61.84,
            61.58,
            62.11,
            62.05
           ],
           "y": [
            29.75,
            14.33,
            32.38,
            29.91,
            41.29,
            26.7,
            28.38,
            12.25,
            31.26,
            32.73,
            42.73
           ]
          },
          {
           "hoverinfo": "text",
           "hovertext": [
            "nflId:41263.0<br>displayName:Demarcus Lawrence<br>Position:NLT<br>Role:Pass Rush",
            "nflId:42403.0<br>displayName:Randy Gregory<br>Position:ROLB<br>Role:Pass Rush",
            "nflId:43306.0<br>displayName:Keanu Neal<br>Position:LLB<br>Role:Coverage",
            "nflId:43478.0<br>displayName:Anthony Brown<br>Position:RCB<br>Role:Coverage",
            "nflId:43498.0<br>displayName:Maurice Canady<br>Position:SCBL<br>Role:Coverage",
            "nflId:43533.0<br>displayName:Jayron Kearse<br>Position:FS<br>Role:Coverage",
            "nflId:44904.0<br>displayName:Jourdan Lewis<br>Position:SCBR<br>Role:Coverage",
            "nflId:44962.0<br>displayName:Damontae Kazee<br>Position:FSL<br>Role:Coverage",
            "nflId:47996.0<br>displayName:Donovan Wilson<br>Position:FSR<br>Role:Coverage",
            "nflId:52459.0<br>displayName:Trevon Diggs<br>Position:LCB<br>Role:Coverage",
            "nflId:53441.0<br>displayName:Micah Parsons<br>Position:LOLB<br>Role:Pass Rush"
           ],
           "marker": {
            "color": "#003594"
           },
           "mode": "markers",
           "name": "DAL",
           "type": "scatter",
           "x": [
            59.71,
            59.85,
            55.39,
            57.97,
            56.51,
            28.68,
            58.44,
            35.53,
            36.33,
            56.32,
            60.14
           ],
           "y": [
            30.14,
            23.29,
            34.06,
            10.72,
            41.62,
            29.26,
            13.85,
            45.25,
            12.65,
            44.07,
            34.99
           ]
          },
          {
           "hoverinfo": "none",
           "marker": {
            "color": "#CBB67C"
           },
           "mode": "markers",
           "name": "football",
           "type": "scatter",
           "x": [
            62.46
           ],
           "y": [
            30.21
           ]
          }
         ],
         "name": "8"
        },
        {
         "data": [
          {
           "hoverinfo": "none",
           "mode": "text",
           "showlegend": false,
           "text": [
            "10",
            "20",
            "30",
            "40",
            "50",
            "40",
            "30",
            "20",
            "10"
           ],
           "textfont": {
            "color": "#ffffff",
            "family": "Courier New, monospace",
            "size": 30
           },
           "type": "scatter",
           "x": [
            20,
            30,
            40,
            50,
            60,
            70,
            80,
            90,
            100
           ],
           "y": [
            5,
            5,
            5,
            5,
            5,
            5,
            5,
            5,
            5
           ]
          },
          {
           "hoverinfo": "none",
           "mode": "text",
           "showlegend": false,
           "text": [
            "10",
            "20",
            "30",
            "40",
            "50",
            "40",
            "30",
            "20",
            "10"
           ],
           "textfont": {
            "color": "#ffffff",
            "family": "Courier New, monospace",
            "size": 30
           },
           "type": "scatter",
           "x": [
            20,
            30,
            40,
            50,
            60,
            70,
            80,
            90,
            100
           ],
           "y": [
            48.5,
            48.5,
            48.5,
            48.5,
            48.5,
            48.5,
            48.5,
            48.5,
            48.5
           ]
          },
          {
           "hoverinfo": "none",
           "line": {
            "color": "blue",
            "dash": "dash"
           },
           "showlegend": false,
           "type": "scatter",
           "x": [
            60,
            60
           ],
           "y": [
            0,
            53.5
           ]
          },
          {
           "hoverinfo": "none",
           "line": {
            "color": "yellow",
            "dash": "dash"
           },
           "showlegend": false,
           "type": "scatter",
           "x": [
            70,
            70
           ],
           "y": [
            0,
            53.5
           ]
          },
          {
           "hoverinfo": "text",
           "hovertext": [
            "nflId:25511.0<br>displayName:Tom Brady<br>Position:QB<br>Role:Pass",
            "nflId:35634.0<br>displayName:Antonio Brown<br>Position:SLWR<br>Role:Pass Route",
            "nflId:39985.0<br>displayName:Giovani Bernard<br>Position:HB-R<br>Role:Pass Route",
            "nflId:40151.0<br>displayName:Ryan Jensen<br>Position:C<br>Role:Pass Block",
            "nflId:41233.0<br>displayName:Mike Evans<br>Position:SRWR<br>Role:Pass Route",
            "nflId:42377.0<br>displayName:Donovan Smith<br>Position:LT<br>Role:Pass Block",
            "nflId:42404.0<br>displayName:Ali Marpet<br>Position:LG<br>Role:Pass Block",
            "nflId:44896.0<br>displayName:Chris Godwin<br>Position:LWR<br>Role:Pass Route",
            "nflId:46163.0<br>displayName:Alex Cappa<br>Position:RG<br>Role:Pass Block",
            "nflId:52421.0<br>displayName:Tristan Wirfs<br>Position:RT<br>Role:Pass Block",
            "nflId:52569.0<br>displayName:Tyler Johnson<br>Position:RWR<br>Role:Pass Route"
           ],
           "marker": {
            "color": "#D50A0A"
           },
           "mode": "markers",
           "name": "TB",
           "type": "scatter",
           "x": [
            65.47,
            60.21,
            65.49,
            61.13,
            60.82,
            62.16,
            61.55,
            61.8,
            61.66,
            62.25,
            62.02
           ],
           "y": [
            29.74,
            14.34,
            32.39,
            29.93,
            41.3,
            26.68,
            28.38,
            12.24,
            31.28,
            32.81,
            42.74
           ]
          },
          {
           "hoverinfo": "text",
           "hovertext": [
            "nflId:41263.0<br>displayName:Demarcus Lawrence<br>Position:NLT<br>Role:Pass Rush",
            "nflId:42403.0<br>displayName:Randy Gregory<br>Position:ROLB<br>Role:Pass Rush",
            "nflId:43306.0<br>displayName:Keanu Neal<br>Position:LLB<br>Role:Coverage",
            "nflId:43478.0<br>displayName:Anthony Brown<br>Position:RCB<br>Role:Coverage",
            "nflId:43498.0<br>displayName:Maurice Canady<br>Position:SCBL<br>Role:Coverage",
            "nflId:43533.0<br>displayName:Jayron Kearse<br>Position:FS<br>Role:Coverage",
            "nflId:44904.0<br>displayName:Jourdan Lewis<br>Position:SCBR<br>Role:Coverage",
            "nflId:44962.0<br>displayName:Damontae Kazee<br>Position:FSL<br>Role:Coverage",
            "nflId:47996.0<br>displayName:Donovan Wilson<br>Position:FSR<br>Role:Coverage",
            "nflId:52459.0<br>displayName:Trevon Diggs<br>Position:LCB<br>Role:Coverage",
            "nflId:53441.0<br>displayName:Micah Parsons<br>Position:LOLB<br>Role:Pass Rush"
           ],
           "marker": {
            "color": "#003594"
           },
           "mode": "markers",
           "name": "DAL",
           "type": "scatter",
           "x": [
            59.88,
            60.03,
            55.39,
            57.94,
            56.46,
            28.59,
            58.39,
            35.6,
            36.28,
            56.29,
            60.31
           ],
           "y": [
            30.18,
            23.39,
            34.1,
            10.71,
            41.67,
            29.25,
            13.9,
            45.27,
            12.71,
            44.1,
            34.96
           ]
          },
          {
           "hoverinfo": "none",
           "marker": {
            "color": "#CBB67C"
           },
           "mode": "markers",
           "name": "football",
           "type": "scatter",
           "x": [
            63.23
           ],
           "y": [
            30.22
           ]
          }
         ],
         "name": "9"
        },
        {
         "data": [
          {
           "hoverinfo": "none",
           "mode": "text",
           "showlegend": false,
           "text": [
            "10",
            "20",
            "30",
            "40",
            "50",
            "40",
            "30",
            "20",
            "10"
           ],
           "textfont": {
            "color": "#ffffff",
            "family": "Courier New, monospace",
            "size": 30
           },
           "type": "scatter",
           "x": [
            20,
            30,
            40,
            50,
            60,
            70,
            80,
            90,
            100
           ],
           "y": [
            5,
            5,
            5,
            5,
            5,
            5,
            5,
            5,
            5
           ]
          },
          {
           "hoverinfo": "none",
           "mode": "text",
           "showlegend": false,
           "text": [
            "10",
            "20",
            "30",
            "40",
            "50",
            "40",
            "30",
            "20",
            "10"
           ],
           "textfont": {
            "color": "#ffffff",
            "family": "Courier New, monospace",
            "size": 30
           },
           "type": "scatter",
           "x": [
            20,
            30,
            40,
            50,
            60,
            70,
            80,
            90,
            100
           ],
           "y": [
            48.5,
            48.5,
            48.5,
            48.5,
            48.5,
            48.5,
            48.5,
            48.5,
            48.5
           ]
          },
          {
           "hoverinfo": "none",
           "line": {
            "color": "blue",
            "dash": "dash"
           },
           "showlegend": false,
           "type": "scatter",
           "x": [
            60,
            60
           ],
           "y": [
            0,
            53.5
           ]
          },
          {
           "hoverinfo": "none",
           "line": {
            "color": "yellow",
            "dash": "dash"
           },
           "showlegend": false,
           "type": "scatter",
           "x": [
            70,
            70
           ],
           "y": [
            0,
            53.5
           ]
          },
          {
           "hoverinfo": "text",
           "hovertext": [
            "nflId:25511.0<br>displayName:Tom Brady<br>Position:QB<br>Role:Pass",
            "nflId:35634.0<br>displayName:Antonio Brown<br>Position:SLWR<br>Role:Pass Route",
            "nflId:39985.0<br>displayName:Giovani Bernard<br>Position:HB-R<br>Role:Pass Route",
            "nflId:40151.0<br>displayName:Ryan Jensen<br>Position:C<br>Role:Pass Block",
            "nflId:41233.0<br>displayName:Mike Evans<br>Position:SRWR<br>Role:Pass Route",
            "nflId:42377.0<br>displayName:Donovan Smith<br>Position:LT<br>Role:Pass Block",
            "nflId:42404.0<br>displayName:Ali Marpet<br>Position:LG<br>Role:Pass Block",
            "nflId:44896.0<br>displayName:Chris Godwin<br>Position:LWR<br>Role:Pass Route",
            "nflId:46163.0<br>displayName:Alex Cappa<br>Position:RG<br>Role:Pass Block",
            "nflId:52421.0<br>displayName:Tristan Wirfs<br>Position:RT<br>Role:Pass Block",
            "nflId:52569.0<br>displayName:Tyler Johnson<br>Position:RWR<br>Role:Pass Route"
           ],
           "marker": {
            "color": "#D50A0A"
           },
           "mode": "markers",
           "name": "TB",
           "type": "scatter",
           "x": [
            65.57,
            60.04,
            65.49,
            61.28,
            60.67,
            62.35,
            61.58,
            61.7,
            61.77,
            62.42,
            61.93
           ],
           "y": [
            29.76,
            14.34,
            32.4,
            29.96,
            41.32,
            26.66,
            28.38,
            12.22,
            31.3,
            32.89,
            42.75
           ]
          },
          {
           "hoverinfo": "text",
           "hovertext": [
            "nflId:41263.0<br>displayName:Demarcus Lawrence<br>Position:NLT<br>Role:Pass Rush",
            "nflId:42403.0<br>displayName:Randy Gregory<br>Position:ROLB<br>Role:Pass Rush",
            "nflId:43306.0<br>displayName:Keanu Neal<br>Position:LLB<br>Role:Coverage",
            "nflId:43478.0<br>displayName:Anthony Brown<br>Position:RCB<br>Role:Coverage",
            "nflId:43498.0<br>displayName:Maurice Canady<br>Position:SCBL<br>Role:Coverage",
            "nflId:43533.0<br>displayName:Jayron Kearse<br>Position:FS<br>Role:Coverage",
            "nflId:44904.0<br>displayName:Jourdan Lewis<br>Position:SCBR<br>Role:Coverage",
            "nflId:44962.0<br>displayName:Damontae Kazee<br>Position:FSL<br>Role:Coverage",
            "nflId:47996.0<br>displayName:Donovan Wilson<br>Position:FSR<br>Role:Coverage",
            "nflId:52459.0<br>displayName:Trevon Diggs<br>Position:LCB<br>Role:Coverage",
            "nflId:53441.0<br>displayName:Micah Parsons<br>Position:LOLB<br>Role:Pass Rush"
           ],
           "marker": {
            "color": "#003594"
           },
           "mode": "markers",
           "name": "DAL",
           "type": "scatter",
           "x": [
            60.08,
            60.26,
            55.38,
            57.91,
            56.37,
            28.49,
            58.34,
            35.67,
            36.2,
            56.23,
            60.56
           ],
           "y": [
            30.22,
            23.53,
            34.15,
            10.67,
            41.72,
            29.25,
            13.96,
            45.28,
            12.77,
            44.13,
            34.91
           ]
          },
          {
           "hoverinfo": "none",
           "marker": {
            "color": "#CBB67C"
           },
           "mode": "markers",
           "name": "football",
           "type": "scatter",
           "x": [
            64.19
           ],
           "y": [
            30.22
           ]
          }
         ],
         "name": "10"
        },
        {
         "data": [
          {
           "hoverinfo": "none",
           "mode": "text",
           "showlegend": false,
           "text": [
            "10",
            "20",
            "30",
            "40",
            "50",
            "40",
            "30",
            "20",
            "10"
           ],
           "textfont": {
            "color": "#ffffff",
            "family": "Courier New, monospace",
            "size": 30
           },
           "type": "scatter",
           "x": [
            20,
            30,
            40,
            50,
            60,
            70,
            80,
            90,
            100
           ],
           "y": [
            5,
            5,
            5,
            5,
            5,
            5,
            5,
            5,
            5
           ]
          },
          {
           "hoverinfo": "none",
           "mode": "text",
           "showlegend": false,
           "text": [
            "10",
            "20",
            "30",
            "40",
            "50",
            "40",
            "30",
            "20",
            "10"
           ],
           "textfont": {
            "color": "#ffffff",
            "family": "Courier New, monospace",
            "size": 30
           },
           "type": "scatter",
           "x": [
            20,
            30,
            40,
            50,
            60,
            70,
            80,
            90,
            100
           ],
           "y": [
            48.5,
            48.5,
            48.5,
            48.5,
            48.5,
            48.5,
            48.5,
            48.5,
            48.5
           ]
          },
          {
           "hoverinfo": "none",
           "line": {
            "color": "blue",
            "dash": "dash"
           },
           "showlegend": false,
           "type": "scatter",
           "x": [
            60,
            60
           ],
           "y": [
            0,
            53.5
           ]
          },
          {
           "hoverinfo": "none",
           "line": {
            "color": "yellow",
            "dash": "dash"
           },
           "showlegend": false,
           "type": "scatter",
           "x": [
            70,
            70
           ],
           "y": [
            0,
            53.5
           ]
          },
          {
           "hoverinfo": "text",
           "hovertext": [
            "nflId:25511.0<br>displayName:Tom Brady<br>Position:QB<br>Role:Pass",
            "nflId:35634.0<br>displayName:Antonio Brown<br>Position:SLWR<br>Role:Pass Route",
            "nflId:39985.0<br>displayName:Giovani Bernard<br>Position:HB-R<br>Role:Pass Route",
            "nflId:40151.0<br>displayName:Ryan Jensen<br>Position:C<br>Role:Pass Block",
            "nflId:41233.0<br>displayName:Mike Evans<br>Position:SRWR<br>Role:Pass Route",
            "nflId:42377.0<br>displayName:Donovan Smith<br>Position:LT<br>Role:Pass Block",
            "nflId:42404.0<br>displayName:Ali Marpet<br>Position:LG<br>Role:Pass Block",
            "nflId:44896.0<br>displayName:Chris Godwin<br>Position:LWR<br>Role:Pass Route",
            "nflId:46163.0<br>displayName:Alex Cappa<br>Position:RG<br>Role:Pass Block",
            "nflId:52421.0<br>displayName:Tristan Wirfs<br>Position:RT<br>Role:Pass Block",
            "nflId:52569.0<br>displayName:Tyler Johnson<br>Position:RWR<br>Role:Pass Route"
           ],
           "marker": {
            "color": "#D50A0A"
           },
           "mode": "markers",
           "name": "TB",
           "type": "scatter",
           "x": [
            65.68,
            59.86,
            65.5,
            61.44,
            60.42,
            62.57,
            61.66,
            61.56,
            61.89,
            62.6,
            61.8
           ],
           "y": [
            29.78,
            14.34,
            32.44,
            29.99,
            41.34,
            26.63,
            28.37,
            12.19,
            31.32,
            32.98,
            42.77
           ]
          },
          {
           "hoverinfo": "text",
           "hovertext": [
            "nflId:41263.0<br>displayName:Demarcus Lawrence<br>Position:NLT<br>Role:Pass Rush",
            "nflId:42403.0<br>displayName:Randy Gregory<br>Position:ROLB<br>Role:Pass Rush",
            "nflId:43306.0<br>displayName:Keanu Neal<br>Position:LLB<br>Role:Coverage",
            "nflId:43478.0<br>displayName:Anthony Brown<br>Position:RCB<br>Role:Coverage",
            "nflId:43498.0<br>displayName:Maurice Canady<br>Position:SCBL<br>Role:Coverage",
            "nflId:43533.0<br>displayName:Jayron Kearse<br>Position:FS<br>Role:Coverage",
            "nflId:44904.0<br>displayName:Jourdan Lewis<br>Position:SCBR<br>Role:Coverage",
            "nflId:44962.0<br>displayName:Damontae Kazee<br>Position:FSL<br>Role:Coverage",
            "nflId:47996.0<br>displayName:Donovan Wilson<br>Position:FSR<br>Role:Coverage",
            "nflId:52459.0<br>displayName:Trevon Diggs<br>Position:LCB<br>Role:Coverage",
            "nflId:53441.0<br>displayName:Micah Parsons<br>Position:LOLB<br>Role:Pass Rush"
           ],
           "marker": {
            "color": "#003594"
           },
           "mode": "markers",
           "name": "DAL",
           "type": "scatter",
           "x": [
            60.29,
            60.54,
            55.37,
            57.87,
            56.28,
            28.39,
            58.27,
            35.75,
            36.1,
            56.14,
            60.85
           ],
           "y": [
            30.26,
            23.69,
            34.23,
            10.63,
            41.77,
            29.25,
            14.02,
            45.29,
            12.82,
            44.16,
            34.85
           ]
          },
          {
           "hoverinfo": "none",
           "marker": {
            "color": "#CBB67C"
           },
           "mode": "markers",
           "name": "football",
           "type": "scatter",
           "x": [
            65.04
           ],
           "y": [
            30.22
           ]
          }
         ],
         "name": "11"
        },
        {
         "data": [
          {
           "hoverinfo": "none",
           "mode": "text",
           "showlegend": false,
           "text": [
            "10",
            "20",
            "30",
            "40",
            "50",
            "40",
            "30",
            "20",
            "10"
           ],
           "textfont": {
            "color": "#ffffff",
            "family": "Courier New, monospace",
            "size": 30
           },
           "type": "scatter",
           "x": [
            20,
            30,
            40,
            50,
            60,
            70,
            80,
            90,
            100
           ],
           "y": [
            5,
            5,
            5,
            5,
            5,
            5,
            5,
            5,
            5
           ]
          },
          {
           "hoverinfo": "none",
           "mode": "text",
           "showlegend": false,
           "text": [
            "10",
            "20",
            "30",
            "40",
            "50",
            "40",
            "30",
            "20",
            "10"
           ],
           "textfont": {
            "color": "#ffffff",
            "family": "Courier New, monospace",
            "size": 30
           },
           "type": "scatter",
           "x": [
            20,
            30,
            40,
            50,
            60,
            70,
            80,
            90,
            100
           ],
           "y": [
            48.5,
            48.5,
            48.5,
            48.5,
            48.5,
            48.5,
            48.5,
            48.5,
            48.5
           ]
          },
          {
           "hoverinfo": "none",
           "line": {
            "color": "blue",
            "dash": "dash"
           },
           "showlegend": false,
           "type": "scatter",
           "x": [
            60,
            60
           ],
           "y": [
            0,
            53.5
           ]
          },
          {
           "hoverinfo": "none",
           "line": {
            "color": "yellow",
            "dash": "dash"
           },
           "showlegend": false,
           "type": "scatter",
           "x": [
            70,
            70
           ],
           "y": [
            0,
            53.5
           ]
          },
          {
           "hoverinfo": "text",
           "hovertext": [
            "nflId:25511.0<br>displayName:Tom Brady<br>Position:QB<br>Role:Pass",
            "nflId:35634.0<br>displayName:Antonio Brown<br>Position:SLWR<br>Role:Pass Route",
            "nflId:39985.0<br>displayName:Giovani Bernard<br>Position:HB-R<br>Role:Pass Route",
            "nflId:40151.0<br>displayName:Ryan Jensen<br>Position:C<br>Role:Pass Block",
            "nflId:41233.0<br>displayName:Mike Evans<br>Position:SRWR<br>Role:Pass Route",
            "nflId:42377.0<br>displayName:Donovan Smith<br>Position:LT<br>Role:Pass Block",
            "nflId:42404.0<br>displayName:Ali Marpet<br>Position:LG<br>Role:Pass Block",
            "nflId:44896.0<br>displayName:Chris Godwin<br>Position:LWR<br>Role:Pass Route",
            "nflId:46163.0<br>displayName:Alex Cappa<br>Position:RG<br>Role:Pass Block",
            "nflId:52421.0<br>displayName:Tristan Wirfs<br>Position:RT<br>Role:Pass Block",
            "nflId:52569.0<br>displayName:Tyler Johnson<br>Position:RWR<br>Role:Pass Route"
           ],
           "marker": {
            "color": "#D50A0A"
           },
           "mode": "markers",
           "name": "TB",
           "type": "scatter",
           "x": [
            65.84,
            59.64,
            65.51,
            61.62,
            60.13,
            62.83,
            61.79,
            61.34,
            62.04,
            62.81,
            61.6
           ],
           "y": [
            29.8,
            14.35,
            32.52,
            30.03,
            41.38,
            26.63,
            28.36,
            12.12,
            31.35,
            33.07,
            42.81
           ]
          },
          {
           "hoverinfo": "text",
           "hovertext": [
            "nflId:41263.0<br>displayName:Demarcus Lawrence<br>Position:NLT<br>Role:Pass Rush",
            "nflId:42403.0<br>displayName:Randy Gregory<br>Position:ROLB<br>Role:Pass Rush",
            "nflId:43306.0<br>displayName:Keanu Neal<br>Position:LLB<br>Role:Coverage",
            "nflId:43478.0<br>displayName:Anthony Brown<br>Position:RCB<br>Role:Coverage",
            "nflId:43498.0<br>displayName:Maurice Canady<br>Position:SCBL<br>Role:Coverage",
            "nflId:43533.0<br>displayName:Jayron Kearse<br>Position:FS<br>Role:Coverage",
            "nflId:44904.0<br>displayName:Jourdan Lewis<br>Position:SCBR<br>Role:Coverage",
            "nflId:44962.0<br>displayName:Damontae Kazee<br>Position:FSL<br>Role:Coverage",
            "nflId:47996.0<br>displayName:Donovan Wilson<br>Position:FSR<br>Role:Coverage",
            "nflId:52459.0<br>displayName:Trevon Diggs<br>Position:LCB<br>Role:Coverage",
            "nflId:53441.0<br>displayName:Micah Parsons<br>Position:LOLB<br>Role:Pass Rush"
           ],
           "marker": {
            "color": "#003594"
           },
           "mode": "markers",
           "name": "DAL",
           "type": "scatter",
           "x": [
            60.51,
            60.85,
            55.35,
            57.8,
            56.15,
            28.29,
            58.19,
            35.82,
            35.98,
            56.03,
            61.2
           ],
           "y": [
            30.3,
            23.88,
            34.31,
            10.57,
            41.83,
            29.24,
            14.1,
            45.31,
            12.87,
            44.2,
            34.78
           ]
          },
          {
           "hoverinfo": "none",
           "marker": {
            "color": "#CBB67C"
           },
           "mode": "markers",
           "name": "football",
           "type": "scatter",
           "x": [
            65.94
           ],
           "y": [
            30.22
           ]
          }
         ],
         "name": "12"
        },
        {
         "data": [
          {
           "hoverinfo": "none",
           "mode": "text",
           "showlegend": false,
           "text": [
            "10",
            "20",
            "30",
            "40",
            "50",
            "40",
            "30",
            "20",
            "10"
           ],
           "textfont": {
            "color": "#ffffff",
            "family": "Courier New, monospace",
            "size": 30
           },
           "type": "scatter",
           "x": [
            20,
            30,
            40,
            50,
            60,
            70,
            80,
            90,
            100
           ],
           "y": [
            5,
            5,
            5,
            5,
            5,
            5,
            5,
            5,
            5
           ]
          },
          {
           "hoverinfo": "none",
           "mode": "text",
           "showlegend": false,
           "text": [
            "10",
            "20",
            "30",
            "40",
            "50",
            "40",
            "30",
            "20",
            "10"
           ],
           "textfont": {
            "color": "#ffffff",
            "family": "Courier New, monospace",
            "size": 30
           },
           "type": "scatter",
           "x": [
            20,
            30,
            40,
            50,
            60,
            70,
            80,
            90,
            100
           ],
           "y": [
            48.5,
            48.5,
            48.5,
            48.5,
            48.5,
            48.5,
            48.5,
            48.5,
            48.5
           ]
          },
          {
           "hoverinfo": "none",
           "line": {
            "color": "blue",
            "dash": "dash"
           },
           "showlegend": false,
           "type": "scatter",
           "x": [
            60,
            60
           ],
           "y": [
            0,
            53.5
           ]
          },
          {
           "hoverinfo": "none",
           "line": {
            "color": "yellow",
            "dash": "dash"
           },
           "showlegend": false,
           "type": "scatter",
           "x": [
            70,
            70
           ],
           "y": [
            0,
            53.5
           ]
          },
          {
           "hoverinfo": "text",
           "hovertext": [
            "nflId:25511.0<br>displayName:Tom Brady<br>Position:QB<br>Role:Pass",
            "nflId:35634.0<br>displayName:Antonio Brown<br>Position:SLWR<br>Role:Pass Route",
            "nflId:39985.0<br>displayName:Giovani Bernard<br>Position:HB-R<br>Role:Pass Route",
            "nflId:40151.0<br>displayName:Ryan Jensen<br>Position:C<br>Role:Pass Block",
            "nflId:41233.0<br>displayName:Mike Evans<br>Position:SRWR<br>Role:Pass Route",
            "nflId:42377.0<br>displayName:Donovan Smith<br>Position:LT<br>Role:Pass Block",
            "nflId:42404.0<br>displayName:Ali Marpet<br>Position:LG<br>Role:Pass Block",
            "nflId:44896.0<br>displayName:Chris Godwin<br>Position:LWR<br>Role:Pass Route",
            "nflId:46163.0<br>displayName:Alex Cappa<br>Position:RG<br>Role:Pass Block",
            "nflId:52421.0<br>displayName:Tristan Wirfs<br>Position:RT<br>Role:Pass Block",
            "nflId:52569.0<br>displayName:Tyler Johnson<br>Position:RWR<br>Role:Pass Route"
           ],
           "marker": {
            "color": "#D50A0A"
           },
           "mode": "markers",
           "name": "TB",
           "type": "scatter",
           "x": [
            66.01,
            59.41,
            65.52,
            61.82,
            59.77,
            63.08,
            61.97,
            61.07,
            62.21,
            63.05,
            61.36
           ],
           "y": [
            29.83,
            14.34,
            32.65,
            30.06,
            41.42,
            26.63,
            28.34,
            12.03,
            31.37,
            33.17,
            42.86
           ]
          },
          {
           "hoverinfo": "text",
           "hovertext": [
            "nflId:41263.0<br>displayName:Demarcus Lawrence<br>Position:NLT<br>Role:Pass Rush",
            "nflId:42403.0<br>displayName:Randy Gregory<br>Position:ROLB<br>Role:Pass Rush",
            "nflId:43306.0<br>displayName:Keanu Neal<br>Position:LLB<br>Role:Coverage",
            "nflId:43478.0<br>displayName:Anthony Brown<br>Position:RCB<br>Role:Coverage",
            "nflId:43498.0<br>displayName:Maurice Canady<br>Position:SCBL<br>Role:Coverage",
            "nflId:43533.0<br>displayName:Jayron Kearse<br>Position:FS<br>Role:Coverage",
            "nflId:44904.0<br>displayName:Jourdan Lewis<br>Position:SCBR<br>Role:Coverage",
            "nflId:44962.0<br>displayName:Damontae Kazee<br>Position:FSL<br>Role:Coverage",
            "nflId:47996.0<br>displayName:Donovan Wilson<br>Position:FSR<br>Role:Coverage",
            "nflId:52459.0<br>displayName:Trevon Diggs<br>Position:LCB<br>Role:Coverage",
            "nflId:53441.0<br>displayName:Micah Parsons<br>Position:LOLB<br>Role:Pass Rush"
           ],
           "marker": {
            "color": "#003594"
           },
           "mode": "markers",
           "name": "DAL",
           "type": "scatter",
           "x": [
            60.73,
            61.2,
            55.33,
            57.73,
            56.01,
            28.18,
            58.07,
            35.89,
            35.83,
            55.86,
            61.59
           ],
           "y": [
            30.34,
            24.08,
            34.39,
            10.52,
            41.88,
            29.24,
            14.19,
            45.32,
            12.92,
            44.25,
            34.69
           ]
          },
          {
           "hoverinfo": "none",
           "marker": {
            "color": "#CBB67C"
           },
           "mode": "markers",
           "name": "football",
           "type": "scatter",
           "x": [
            66.6
           ],
           "y": [
            30.23
           ]
          }
         ],
         "name": "13"
        },
        {
         "data": [
          {
           "hoverinfo": "none",
           "mode": "text",
           "showlegend": false,
           "text": [
            "10",
            "20",
            "30",
            "40",
            "50",
            "40",
            "30",
            "20",
            "10"
           ],
           "textfont": {
            "color": "#ffffff",
            "family": "Courier New, monospace",
            "size": 30
           },
           "type": "scatter",
           "x": [
            20,
            30,
            40,
            50,
            60,
            70,
            80,
            90,
            100
           ],
           "y": [
            5,
            5,
            5,
            5,
            5,
            5,
            5,
            5,
            5
           ]
          },
          {
           "hoverinfo": "none",
           "mode": "text",
           "showlegend": false,
           "text": [
            "10",
            "20",
            "30",
            "40",
            "50",
            "40",
            "30",
            "20",
            "10"
           ],
           "textfont": {
            "color": "#ffffff",
            "family": "Courier New, monospace",
            "size": 30
           },
           "type": "scatter",
           "x": [
            20,
            30,
            40,
            50,
            60,
            70,
            80,
            90,
            100
           ],
           "y": [
            48.5,
            48.5,
            48.5,
            48.5,
            48.5,
            48.5,
            48.5,
            48.5,
            48.5
           ]
          },
          {
           "hoverinfo": "none",
           "line": {
            "color": "blue",
            "dash": "dash"
           },
           "showlegend": false,
           "type": "scatter",
           "x": [
            60,
            60
           ],
           "y": [
            0,
            53.5
           ]
          },
          {
           "hoverinfo": "none",
           "line": {
            "color": "yellow",
            "dash": "dash"
           },
           "showlegend": false,
           "type": "scatter",
           "x": [
            70,
            70
           ],
           "y": [
            0,
            53.5
           ]
          },
          {
           "hoverinfo": "text",
           "hovertext": [
            "nflId:25511.0<br>displayName:Tom Brady<br>Position:QB<br>Role:Pass",
            "nflId:35634.0<br>displayName:Antonio Brown<br>Position:SLWR<br>Role:Pass Route",
            "nflId:39985.0<br>displayName:Giovani Bernard<br>Position:HB-R<br>Role:Pass Route",
            "nflId:40151.0<br>displayName:Ryan Jensen<br>Position:C<br>Role:Pass Block",
            "nflId:41233.0<br>displayName:Mike Evans<br>Position:SRWR<br>Role:Pass Route",
            "nflId:42377.0<br>displayName:Donovan Smith<br>Position:LT<br>Role:Pass Block",
            "nflId:42404.0<br>displayName:Ali Marpet<br>Position:LG<br>Role:Pass Block",
            "nflId:44896.0<br>displayName:Chris Godwin<br>Position:LWR<br>Role:Pass Route",
            "nflId:46163.0<br>displayName:Alex Cappa<br>Position:RG<br>Role:Pass Block",
            "nflId:52421.0<br>displayName:Tristan Wirfs<br>Position:RT<br>Role:Pass Block",
            "nflId:52569.0<br>displayName:Tyler Johnson<br>Position:RWR<br>Role:Pass Route"
           ],
           "marker": {
            "color": "#D50A0A"
           },
           "mode": "markers",
           "name": "TB",
           "type": "scatter",
           "x": [
            66.19,
            59.15,
            65.53,
            62.05,
            59.35,
            63.34,
            62.22,
            60.72,
            62.41,
            63.31,
            61.05
           ],
           "y": [
            29.87,
            14.32,
            32.81,
            30.1,
            41.48,
            26.62,
            28.3,
            11.91,
            31.39,
            33.25,
            42.92
           ]
          },
          {
           "hoverinfo": "text",
           "hovertext": [
            "nflId:41263.0<br>displayName:Demarcus Lawrence<br>Position:NLT<br>Role:Pass Rush",
            "nflId:42403.0<br>displayName:Randy Gregory<br>Position:ROLB<br>Role:Pass Rush",
            "nflId:43306.0<br>displayName:Keanu Neal<br>Position:LLB<br>Role:Coverage",
            "nflId:43478.0<br>displayName:Anthony Brown<br>Position:RCB<br>Role:Coverage",
            "nflId:43498.0<br>displayName:Maurice Canady<br>Position:SCBL<br>Role:Coverage",
            "nflId:43533.0<br>displayName:Jayron Kearse<br>Position:FS<br>Role:Coverage",
            "nflId:44904.0<br>displayName:Jourdan Lewis<br>Position:SCBR<br>Role:Coverage",
            "nflId:44962.0<br>displayName:Damontae Kazee<br>Position:FSL<br>Role:Coverage",
            "nflId:47996.0<br>displayName:Donovan Wilson<br>Position:FSR<br>Role:Coverage",
            "nflId:52459.0<br>displayName:Trevon Diggs<br>Position:LCB<br>Role:Coverage",
            "nflId:53441.0<br>displayName:Micah Parsons<br>Position:LOLB<br>Role:Pass Rush"
           ],
           "marker": {
            "color": "#003594"
           },
           "mode": "markers",
           "name": "DAL",
           "type": "scatter",
           "x": [
            60.96,
            61.61,
            55.3,
            57.67,
            55.84,
            28.07,
            57.94,
            35.96,
            35.68,
            55.65,
            62.01
           ],
           "y": [
            30.37,
            24.32,
            34.48,
            10.48,
            41.95,
            29.24,
            14.28,
            45.33,
            12.96,
            44.3,
            34.61
           ]
          },
          {
           "hoverinfo": "none",
           "marker": {
            "color": "#CBB67C"
           },
           "mode": "markers",
           "name": "football",
           "type": "scatter",
           "x": [
            67.29
           ],
           "y": [
            30.23
           ]
          }
         ],
         "name": "14"
        },
        {
         "data": [
          {
           "hoverinfo": "none",
           "mode": "text",
           "showlegend": false,
           "text": [
            "10",
            "20",
            "30",
            "40",
            "50",
            "40",
            "30",
            "20",
            "10"
           ],
           "textfont": {
            "color": "#ffffff",
            "family": "Courier New, monospace",
            "size": 30
           },
           "type": "scatter",
           "x": [
            20,
            30,
            40,
            50,
            60,
            70,
            80,
            90,
            100
           ],
           "y": [
            5,
            5,
            5,
            5,
            5,
            5,
            5,
            5,
            5
           ]
          },
          {
           "hoverinfo": "none",
           "mode": "text",
           "showlegend": false,
           "text": [
            "10",
            "20",
            "30",
            "40",
            "50",
            "40",
            "30",
            "20",
            "10"
           ],
           "textfont": {
            "color": "#ffffff",
            "family": "Courier New, monospace",
            "size": 30
           },
           "type": "scatter",
           "x": [
            20,
            30,
            40,
            50,
            60,
            70,
            80,
            90,
            100
           ],
           "y": [
            48.5,
            48.5,
            48.5,
            48.5,
            48.5,
            48.5,
            48.5,
            48.5,
            48.5
           ]
          },
          {
           "hoverinfo": "none",
           "line": {
            "color": "blue",
            "dash": "dash"
           },
           "showlegend": false,
           "type": "scatter",
           "x": [
            60,
            60
           ],
           "y": [
            0,
            53.5
           ]
          },
          {
           "hoverinfo": "none",
           "line": {
            "color": "yellow",
            "dash": "dash"
           },
           "showlegend": false,
           "type": "scatter",
           "x": [
            70,
            70
           ],
           "y": [
            0,
            53.5
           ]
          },
          {
           "hoverinfo": "text",
           "hovertext": [
            "nflId:25511.0<br>displayName:Tom Brady<br>Position:QB<br>Role:Pass",
            "nflId:35634.0<br>displayName:Antonio Brown<br>Position:SLWR<br>Role:Pass Route",
            "nflId:39985.0<br>displayName:Giovani Bernard<br>Position:HB-R<br>Role:Pass Route",
            "nflId:40151.0<br>displayName:Ryan Jensen<br>Position:C<br>Role:Pass Block",
            "nflId:41233.0<br>displayName:Mike Evans<br>Position:SRWR<br>Role:Pass Route",
            "nflId:42377.0<br>displayName:Donovan Smith<br>Position:LT<br>Role:Pass Block",
            "nflId:42404.0<br>displayName:Ali Marpet<br>Position:LG<br>Role:Pass Block",
            "nflId:44896.0<br>displayName:Chris Godwin<br>Position:LWR<br>Role:Pass Route",
            "nflId:46163.0<br>displayName:Alex Cappa<br>Position:RG<br>Role:Pass Block",
            "nflId:52421.0<br>displayName:Tristan Wirfs<br>Position:RT<br>Role:Pass Block",
            "nflId:52569.0<br>displayName:Tyler Johnson<br>Position:RWR<br>Role:Pass Route"
           ],
           "marker": {
            "color": "#D50A0A"
           },
           "mode": "markers",
           "name": "TB",
           "type": "scatter",
           "x": [
            66.4,
            58.89,
            65.53,
            62.28,
            58.87,
            63.61,
            62.49,
            60.33,
            62.6,
            63.59,
            60.67
           ],
           "y": [
            29.9,
            14.29,
            33,
            30.14,
            41.55,
            26.63,
            28.28,
            11.77,
            31.43,
            33.33,
            43.04
           ]
          },
          {
           "hoverinfo": "text",
           "hovertext": [
            "nflId:41263.0<br>displayName:Demarcus Lawrence<br>Position:NLT<br>Role:Pass Rush",
            "nflId:42403.0<br>displayName:Randy Gregory<br>Position:ROLB<br>Role:Pass Rush",
            "nflId:43306.0<br>displayName:Keanu Neal<br>Position:LLB<br>Role:Coverage",
            "nflId:43478.0<br>displayName:Anthony Brown<br>Position:RCB<br>Role:Coverage",
            "nflId:43498.0<br>displayName:Maurice Canady<br>Position:SCBL<br>Role:Coverage",
            "nflId:43533.0<br>displayName:Jayron Kearse<br>Position:FS<br>Role:Coverage",
            "nflId:44904.0<br>displayName:Jourdan Lewis<br>Position:SCBR<br>Role:Coverage",
            "nflId:44962.0<br>displayName:Damontae Kazee<br>Position:FSL<br>Role:Coverage",
            "nflId:47996.0<br>displayName:Donovan Wilson<br>Position:FSR<br>Role:Coverage",
            "nflId:52459.0<br>displayName:Trevon Diggs<br>Position:LCB<br>Role:Coverage",
            "nflId:53441.0<br>displayName:Micah Parsons<br>Position:LOLB<br>Role:Pass Rush"
           ],
           "marker": {
            "color": "#003594"
           },
           "mode": "markers",
           "name": "DAL",
           "type": "scatter",
           "x": [
            61.21,
            62.03,
            55.28,
            57.57,
            55.63,
            27.95,
            57.79,
            36.02,
            35.5,
            55.37,
            62.45
           ],
           "y": [
            30.36,
            24.56,
            34.58,
            10.41,
            42.03,
            29.23,
            14.36,
            45.35,
            12.99,
            44.36,
            34.51
           ]
          },
          {
           "hoverinfo": "none",
           "marker": {
            "color": "#CBB67C"
           },
           "mode": "markers",
           "name": "football",
           "type": "scatter",
           "x": [
            67.64
           ],
           "y": [
            30.23
           ]
          }
         ],
         "name": "15"
        },
        {
         "data": [
          {
           "hoverinfo": "none",
           "mode": "text",
           "showlegend": false,
           "text": [
            "10",
            "20",
            "30",
            "40",
            "50",
            "40",
            "30",
            "20",
            "10"
           ],
           "textfont": {
            "color": "#ffffff",
            "family": "Courier New, monospace",
            "size": 30
           },
           "type": "scatter",
           "x": [
            20,
            30,
            40,
            50,
            60,
            70,
            80,
            90,
            100
           ],
           "y": [
            5,
            5,
            5,
            5,
            5,
            5,
            5,
            5,
            5
           ]
          },
          {
           "hoverinfo": "none",
           "mode": "text",
           "showlegend": false,
           "text": [
            "10",
            "20",
            "30",
            "40",
            "50",
            "40",
            "30",
            "20",
            "10"
           ],
           "textfont": {
            "color": "#ffffff",
            "family": "Courier New, monospace",
            "size": 30
           },
           "type": "scatter",
           "x": [
            20,
            30,
            40,
            50,
            60,
            70,
            80,
            90,
            100
           ],
           "y": [
            48.5,
            48.5,
            48.5,
            48.5,
            48.5,
            48.5,
            48.5,
            48.5,
            48.5
           ]
          },
          {
           "hoverinfo": "none",
           "line": {
            "color": "blue",
            "dash": "dash"
           },
           "showlegend": false,
           "type": "scatter",
           "x": [
            60,
            60
           ],
           "y": [
            0,
            53.5
           ]
          },
          {
           "hoverinfo": "none",
           "line": {
            "color": "yellow",
            "dash": "dash"
           },
           "showlegend": false,
           "type": "scatter",
           "x": [
            70,
            70
           ],
           "y": [
            0,
            53.5
           ]
          },
          {
           "hoverinfo": "text",
           "hovertext": [
            "nflId:25511.0<br>displayName:Tom Brady<br>Position:QB<br>Role:Pass",
            "nflId:35634.0<br>displayName:Antonio Brown<br>Position:SLWR<br>Role:Pass Route",
            "nflId:39985.0<br>displayName:Giovani Bernard<br>Position:HB-R<br>Role:Pass Route",
            "nflId:40151.0<br>displayName:Ryan Jensen<br>Position:C<br>Role:Pass Block",
            "nflId:41233.0<br>displayName:Mike Evans<br>Position:SRWR<br>Role:Pass Route",
            "nflId:42377.0<br>displayName:Donovan Smith<br>Position:LT<br>Role:Pass Block",
            "nflId:42404.0<br>displayName:Ali Marpet<br>Position:LG<br>Role:Pass Block",
            "nflId:44896.0<br>displayName:Chris Godwin<br>Position:LWR<br>Role:Pass Route",
            "nflId:46163.0<br>displayName:Alex Cappa<br>Position:RG<br>Role:Pass Block",
            "nflId:52421.0<br>displayName:Tristan Wirfs<br>Position:RT<br>Role:Pass Block",
            "nflId:52569.0<br>displayName:Tyler Johnson<br>Position:RWR<br>Role:Pass Route"
           ],
           "marker": {
            "color": "#D50A0A"
           },
           "mode": "markers",
           "name": "TB",
           "type": "scatter",
           "x": [
            66.61,
            58.6,
            65.49,
            62.51,
            58.36,
            63.9,
            62.78,
            59.88,
            62.79,
            63.88,
            60.26
           ],
           "y": [
            29.94,
            14.23,
            33.19,
            30.17,
            41.62,
            26.67,
            28.24,
            11.61,
            31.47,
            33.4,
            43.17
           ]
          },
          {
           "hoverinfo": "text",
           "hovertext": [
            "nflId:41263.0<br>displayName:Demarcus Lawrence<br>Position:NLT<br>Role:Pass Rush",
            "nflId:42403.0<br>displayName:Randy Gregory<br>Position:ROLB<br>Role:Pass Rush",
            "nflId:43306.0<br>displayName:Keanu Neal<br>Position:LLB<br>Role:Coverage",
            "nflId:43478.0<br>displayName:Anthony Brown<br>Position:RCB<br>Role:Coverage",
            "nflId:43498.0<br>displayName:Maurice Canady<br>Position:SCBL<br>Role:Coverage",
            "nflId:43533.0<br>displayName:Jayron Kearse<br>Position:FS<br>Role:Coverage",
            "nflId:44904.0<br>displayName:Jourdan Lewis<br>Position:SCBR<br>Role:Coverage",
            "nflId:44962.0<br>displayName:Damontae Kazee<br>Position:FSL<br>Role:Coverage",
            "nflId:47996.0<br>displayName:Donovan Wilson<br>Position:FSR<br>Role:Coverage",
            "nflId:52459.0<br>displayName:Trevon Diggs<br>Position:LCB<br>Role:Coverage",
            "nflId:53441.0<br>displayName:Micah Parsons<br>Position:LOLB<br>Role:Pass Rush"
           ],
           "marker": {
            "color": "#003594"
           },
           "mode": "markers",
           "name": "DAL",
           "type": "scatter",
           "x": [
            61.45,
            62.47,
            55.25,
            57.44,
            55.4,
            27.84,
            57.61,
            36.06,
            35.32,
            55.04,
            62.9
           ],
           "y": [
            30.32,
            24.81,
            34.69,
            10.33,
            42.11,
            29.23,
            14.43,
            45.38,
            13.01,
            44.43,
            34.39
           ]
          },
          {
           "hoverinfo": "none",
           "marker": {
            "color": "#CBB67C"
           },
           "mode": "markers",
           "name": "football",
           "type": "scatter",
           "x": [
            67.89
           ],
           "y": [
            30.24
           ]
          }
         ],
         "name": "16"
        },
        {
         "data": [
          {
           "hoverinfo": "none",
           "mode": "text",
           "showlegend": false,
           "text": [
            "10",
            "20",
            "30",
            "40",
            "50",
            "40",
            "30",
            "20",
            "10"
           ],
           "textfont": {
            "color": "#ffffff",
            "family": "Courier New, monospace",
            "size": 30
           },
           "type": "scatter",
           "x": [
            20,
            30,
            40,
            50,
            60,
            70,
            80,
            90,
            100
           ],
           "y": [
            5,
            5,
            5,
            5,
            5,
            5,
            5,
            5,
            5
           ]
          },
          {
           "hoverinfo": "none",
           "mode": "text",
           "showlegend": false,
           "text": [
            "10",
            "20",
            "30",
            "40",
            "50",
            "40",
            "30",
            "20",
            "10"
           ],
           "textfont": {
            "color": "#ffffff",
            "family": "Courier New, monospace",
            "size": 30
           },
           "type": "scatter",
           "x": [
            20,
            30,
            40,
            50,
            60,
            70,
            80,
            90,
            100
           ],
           "y": [
            48.5,
            48.5,
            48.5,
            48.5,
            48.5,
            48.5,
            48.5,
            48.5,
            48.5
           ]
          },
          {
           "hoverinfo": "none",
           "line": {
            "color": "blue",
            "dash": "dash"
           },
           "showlegend": false,
           "type": "scatter",
           "x": [
            60,
            60
           ],
           "y": [
            0,
            53.5
           ]
          },
          {
           "hoverinfo": "none",
           "line": {
            "color": "yellow",
            "dash": "dash"
           },
           "showlegend": false,
           "type": "scatter",
           "x": [
            70,
            70
           ],
           "y": [
            0,
            53.5
           ]
          },
          {
           "hoverinfo": "text",
           "hovertext": [
            "nflId:25511.0<br>displayName:Tom Brady<br>Position:QB<br>Role:Pass",
            "nflId:35634.0<br>displayName:Antonio Brown<br>Position:SLWR<br>Role:Pass Route",
            "nflId:39985.0<br>displayName:Giovani Bernard<br>Position:HB-R<br>Role:Pass Route",
            "nflId:40151.0<br>displayName:Ryan Jensen<br>Position:C<br>Role:Pass Block",
            "nflId:41233.0<br>displayName:Mike Evans<br>Position:SRWR<br>Role:Pass Route",
            "nflId:42377.0<br>displayName:Donovan Smith<br>Position:LT<br>Role:Pass Block",
            "nflId:42404.0<br>displayName:Ali Marpet<br>Position:LG<br>Role:Pass Block",
            "nflId:44896.0<br>displayName:Chris Godwin<br>Position:LWR<br>Role:Pass Route",
            "nflId:46163.0<br>displayName:Alex Cappa<br>Position:RG<br>Role:Pass Block",
            "nflId:52421.0<br>displayName:Tristan Wirfs<br>Position:RT<br>Role:Pass Block",
            "nflId:52569.0<br>displayName:Tyler Johnson<br>Position:RWR<br>Role:Pass Route"
           ],
           "marker": {
            "color": "#D50A0A"
           },
           "mode": "markers",
           "name": "TB",
           "type": "scatter",
           "x": [
            66.8,
            58.31,
            65.45,
            62.73,
            57.83,
            64.18,
            63.06,
            59.4,
            62.99,
            64.19,
            59.8
           ],
           "y": [
            29.99,
            14.14,
            33.39,
            30.21,
            41.74,
            26.71,
            28.21,
            11.44,
            31.5,
            33.43,
            43.32
           ]
          },
          {
           "hoverinfo": "text",
           "hovertext": [
            "nflId:41263.0<br>displayName:Demarcus Lawrence<br>Position:NLT<br>Role:Pass Rush",
            "nflId:42403.0<br>displayName:Randy Gregory<br>Position:ROLB<br>Role:Pass Rush",
            "nflId:43306.0<br>displayName:Keanu Neal<br>Position:LLB<br>Role:Coverage",
            "nflId:43478.0<br>displayName:Anthony Brown<br>Position:RCB<br>Role:Coverage",
            "nflId:43498.0<br>displayName:Maurice Canady<br>Position:SCBL<br>Role:Coverage",
            "nflId:43533.0<br>displayName:Jayron Kearse<br>Position:FS<br>Role:Coverage",
            "nflId:44904.0<br>displayName:Jourdan Lewis<br>Position:SCBR<br>Role:Coverage",
            "nflId:44962.0<br>displayName:Damontae Kazee<br>Position:FSL<br>Role:Coverage",
            "nflId:47996.0<br>displayName:Donovan Wilson<br>Position:FSR<br>Role:Coverage",
            "nflId:52459.0<br>displayName:Trevon Diggs<br>Position:LCB<br>Role:Coverage",
            "nflId:53441.0<br>displayName:Micah Parsons<br>Position:LOLB<br>Role:Pass Rush"
           ],
           "marker": {
            "color": "#003594"
           },
           "mode": "markers",
           "name": "DAL",
           "type": "scatter",
           "x": [
            61.69,
            62.95,
            55.22,
            57.27,
            55.15,
            27.71,
            57.42,
            36.1,
            35.14,
            54.66,
            63.33
           ],
           "y": [
            30.28,
            25.05,
            34.8,
            10.23,
            42.2,
            29.24,
            14.48,
            45.4,
            13.02,
            44.5,
            34.25
           ]
          },
          {
           "hoverinfo": "none",
           "marker": {
            "color": "#CBB67C"
           },
           "mode": "markers",
           "name": "football",
           "type": "scatter",
           "x": [
            68.23
           ],
           "y": [
            30.25
           ]
          }
         ],
         "name": "17"
        },
        {
         "data": [
          {
           "hoverinfo": "none",
           "mode": "text",
           "showlegend": false,
           "text": [
            "10",
            "20",
            "30",
            "40",
            "50",
            "40",
            "30",
            "20",
            "10"
           ],
           "textfont": {
            "color": "#ffffff",
            "family": "Courier New, monospace",
            "size": 30
           },
           "type": "scatter",
           "x": [
            20,
            30,
            40,
            50,
            60,
            70,
            80,
            90,
            100
           ],
           "y": [
            5,
            5,
            5,
            5,
            5,
            5,
            5,
            5,
            5
           ]
          },
          {
           "hoverinfo": "none",
           "mode": "text",
           "showlegend": false,
           "text": [
            "10",
            "20",
            "30",
            "40",
            "50",
            "40",
            "30",
            "20",
            "10"
           ],
           "textfont": {
            "color": "#ffffff",
            "family": "Courier New, monospace",
            "size": 30
           },
           "type": "scatter",
           "x": [
            20,
            30,
            40,
            50,
            60,
            70,
            80,
            90,
            100
           ],
           "y": [
            48.5,
            48.5,
            48.5,
            48.5,
            48.5,
            48.5,
            48.5,
            48.5,
            48.5
           ]
          },
          {
           "hoverinfo": "none",
           "line": {
            "color": "blue",
            "dash": "dash"
           },
           "showlegend": false,
           "type": "scatter",
           "x": [
            60,
            60
           ],
           "y": [
            0,
            53.5
           ]
          },
          {
           "hoverinfo": "none",
           "line": {
            "color": "yellow",
            "dash": "dash"
           },
           "showlegend": false,
           "type": "scatter",
           "x": [
            70,
            70
           ],
           "y": [
            0,
            53.5
           ]
          },
          {
           "hoverinfo": "text",
           "hovertext": [
            "nflId:25511.0<br>displayName:Tom Brady<br>Position:QB<br>Role:Pass",
            "nflId:35634.0<br>displayName:Antonio Brown<br>Position:SLWR<br>Role:Pass Route",
            "nflId:39985.0<br>displayName:Giovani Bernard<br>Position:HB-R<br>Role:Pass Route",
            "nflId:40151.0<br>displayName:Ryan Jensen<br>Position:C<br>Role:Pass Block",
            "nflId:41233.0<br>displayName:Mike Evans<br>Position:SRWR<br>Role:Pass Route",
            "nflId:42377.0<br>displayName:Donovan Smith<br>Position:LT<br>Role:Pass Block",
            "nflId:42404.0<br>displayName:Ali Marpet<br>Position:LG<br>Role:Pass Block",
            "nflId:44896.0<br>displayName:Chris Godwin<br>Position:LWR<br>Role:Pass Route",
            "nflId:46163.0<br>displayName:Alex Cappa<br>Position:RG<br>Role:Pass Block",
            "nflId:52421.0<br>displayName:Tristan Wirfs<br>Position:RT<br>Role:Pass Block",
            "nflId:52569.0<br>displayName:Tyler Johnson<br>Position:RWR<br>Role:Pass Route"
           ],
           "marker": {
            "color": "#D50A0A"
           },
           "mode": "markers",
           "name": "TB",
           "type": "scatter",
           "x": [
            66.99,
            57.99,
            65.37,
            62.95,
            57.28,
            64.46,
            63.38,
            58.89,
            63.2,
            64.51,
            59.31
           ],
           "y": [
            30.04,
            14.03,
            33.6,
            30.22,
            41.88,
            26.77,
            28.16,
            11.23,
            31.53,
            33.43,
            43.49
           ]
          },
          {
           "hoverinfo": "text",
           "hovertext": [
            "nflId:41263.0<br>displayName:Demarcus Lawrence<br>Position:NLT<br>Role:Pass Rush",
            "nflId:42403.0<br>displayName:Randy Gregory<br>Position:ROLB<br>Role:Pass Rush",
            "nflId:43306.0<br>displayName:Keanu Neal<br>Position:LLB<br>Role:Coverage",
            "nflId:43478.0<br>displayName:Anthony Brown<br>Position:RCB<br>Role:Coverage",
            "nflId:43498.0<br>displayName:Maurice Canady<br>Position:SCBL<br>Role:Coverage",
            "nflId:43533.0<br>displayName:Jayron Kearse<br>Position:FS<br>Role:Coverage",
            "nflId:44904.0<br>displayName:Jourdan Lewis<br>Position:SCBR<br>Role:Coverage",
            "nflId:44962.0<br>displayName:Damontae Kazee<br>Position:FSL<br>Role:Coverage",
            "nflId:47996.0<br>displayName:Donovan Wilson<br>Position:FSR<br>Role:Coverage",
            "nflId:52459.0<br>displayName:Trevon Diggs<br>Position:LCB<br>Role:Coverage",
            "nflId:53441.0<br>displayName:Micah Parsons<br>Position:LOLB<br>Role:Pass Rush"
           ],
           "marker": {
            "color": "#003594"
           },
           "mode": "markers",
           "name": "DAL",
           "type": "scatter",
           "x": [
            61.93,
            63.45,
            55.18,
            57.03,
            54.88,
            27.59,
            57.2,
            36.12,
            34.94,
            54.25,
            63.76
           ],
           "y": [
            30.2,
            25.29,
            34.93,
            10.1,
            42.29,
            29.26,
            14.48,
            45.44,
            13.01,
            44.58,
            34.1
           ]
          },
          {
           "hoverinfo": "none",
           "marker": {
            "color": "#CBB67C"
           },
           "mode": "markers",
           "name": "football",
           "type": "scatter",
           "x": [
            68.2
           ],
           "y": [
            30.27
           ]
          }
         ],
         "name": "18"
        },
        {
         "data": [
          {
           "hoverinfo": "none",
           "mode": "text",
           "showlegend": false,
           "text": [
            "10",
            "20",
            "30",
            "40",
            "50",
            "40",
            "30",
            "20",
            "10"
           ],
           "textfont": {
            "color": "#ffffff",
            "family": "Courier New, monospace",
            "size": 30
           },
           "type": "scatter",
           "x": [
            20,
            30,
            40,
            50,
            60,
            70,
            80,
            90,
            100
           ],
           "y": [
            5,
            5,
            5,
            5,
            5,
            5,
            5,
            5,
            5
           ]
          },
          {
           "hoverinfo": "none",
           "mode": "text",
           "showlegend": false,
           "text": [
            "10",
            "20",
            "30",
            "40",
            "50",
            "40",
            "30",
            "20",
            "10"
           ],
           "textfont": {
            "color": "#ffffff",
            "family": "Courier New, monospace",
            "size": 30
           },
           "type": "scatter",
           "x": [
            20,
            30,
            40,
            50,
            60,
            70,
            80,
            90,
            100
           ],
           "y": [
            48.5,
            48.5,
            48.5,
            48.5,
            48.5,
            48.5,
            48.5,
            48.5,
            48.5
           ]
          },
          {
           "hoverinfo": "none",
           "line": {
            "color": "blue",
            "dash": "dash"
           },
           "showlegend": false,
           "type": "scatter",
           "x": [
            60,
            60
           ],
           "y": [
            0,
            53.5
           ]
          },
          {
           "hoverinfo": "none",
           "line": {
            "color": "yellow",
            "dash": "dash"
           },
           "showlegend": false,
           "type": "scatter",
           "x": [
            70,
            70
           ],
           "y": [
            0,
            53.5
           ]
          },
          {
           "hoverinfo": "text",
           "hovertext": [
            "nflId:25511.0<br>displayName:Tom Brady<br>Position:QB<br>Role:Pass",
            "nflId:35634.0<br>displayName:Antonio Brown<br>Position:SLWR<br>Role:Pass Route",
            "nflId:39985.0<br>displayName:Giovani Bernard<br>Position:HB-R<br>Role:Pass Route",
            "nflId:40151.0<br>displayName:Ryan Jensen<br>Position:C<br>Role:Pass Block",
            "nflId:41233.0<br>displayName:Mike Evans<br>Position:SRWR<br>Role:Pass Route",
            "nflId:42377.0<br>displayName:Donovan Smith<br>Position:LT<br>Role:Pass Block",
            "nflId:42404.0<br>displayName:Ali Marpet<br>Position:LG<br>Role:Pass Block",
            "nflId:44896.0<br>displayName:Chris Godwin<br>Position:LWR<br>Role:Pass Route",
            "nflId:46163.0<br>displayName:Alex Cappa<br>Position:RG<br>Role:Pass Block",
            "nflId:52421.0<br>displayName:Tristan Wirfs<br>Position:RT<br>Role:Pass Block",
            "nflId:52569.0<br>displayName:Tyler Johnson<br>Position:RWR<br>Role:Pass Route"
           ],
           "marker": {
            "color": "#D50A0A"
           },
           "mode": "markers",
           "name": "TB",
           "type": "scatter",
           "x": [
            67.14,
            57.67,
            65.25,
            63.15,
            56.71,
            64.76,
            63.7,
            58.35,
            63.4,
            64.8,
            58.79
           ],
           "y": [
            30.09,
            13.87,
            33.79,
            30.18,
            42.04,
            26.86,
            28.1,
            11,
            31.57,
            33.42,
            43.67
           ]
          },
          {
           "hoverinfo": "text",
           "hovertext": [
            "nflId:41263.0<br>displayName:Demarcus Lawrence<br>Position:NLT<br>Role:Pass Rush",
            "nflId:42403.0<br>displayName:Randy Gregory<br>Position:ROLB<br>Role:Pass Rush",
            "nflId:43306.0<br>displayName:Keanu Neal<br>Position:LLB<br>Role:Coverage",
            "nflId:43478.0<br>displayName:Anthony Brown<br>Position:RCB<br>Role:Coverage",
            "nflId:43498.0<br>displayName:Maurice Canady<br>Position:SCBL<br>Role:Coverage",
            "nflId:43533.0<br>displayName:Jayron Kearse<br>Position:FS<br>Role:Coverage",
            "nflId:44904.0<br>displayName:Jourdan Lewis<br>Position:SCBR<br>Role:Coverage",
            "nflId:44962.0<br>displayName:Damontae Kazee<br>Position:FSL<br>Role:Coverage",
            "nflId:47996.0<br>displayName:Donovan Wilson<br>Position:FSR<br>Role:Coverage",
            "nflId:52459.0<br>displayName:Trevon Diggs<br>Position:LCB<br>Role:Coverage",
            "nflId:53441.0<br>displayName:Micah Parsons<br>Position:LOLB<br>Role:Pass Rush"
           ],
           "marker": {
            "color": "#003594"
           },
           "mode": "markers",
           "name": "DAL",
           "type": "scatter",
           "x": [
            62.19,
            63.93,
            55.15,
            56.72,
            54.58,
            27.47,
            56.95,
            36.13,
            34.73,
            53.8,
            64.16
           ],
           "y": [
            30.09,
            25.54,
            35.07,
            9.96,
            42.38,
            29.29,
            14.45,
            45.49,
            12.99,
            44.67,
            33.94
           ]
          },
          {
           "hoverinfo": "none",
           "marker": {
            "color": "#CBB67C"
           },
           "mode": "markers",
           "name": "football",
           "type": "scatter",
           "x": [
            68.31
           ],
           "y": [
            30.22
           ]
          }
         ],
         "name": "19"
        },
        {
         "data": [
          {
           "hoverinfo": "none",
           "mode": "text",
           "showlegend": false,
           "text": [
            "10",
            "20",
            "30",
            "40",
            "50",
            "40",
            "30",
            "20",
            "10"
           ],
           "textfont": {
            "color": "#ffffff",
            "family": "Courier New, monospace",
            "size": 30
           },
           "type": "scatter",
           "x": [
            20,
            30,
            40,
            50,
            60,
            70,
            80,
            90,
            100
           ],
           "y": [
            5,
            5,
            5,
            5,
            5,
            5,
            5,
            5,
            5
           ]
          },
          {
           "hoverinfo": "none",
           "mode": "text",
           "showlegend": false,
           "text": [
            "10",
            "20",
            "30",
            "40",
            "50",
            "40",
            "30",
            "20",
            "10"
           ],
           "textfont": {
            "color": "#ffffff",
            "family": "Courier New, monospace",
            "size": 30
           },
           "type": "scatter",
           "x": [
            20,
            30,
            40,
            50,
            60,
            70,
            80,
            90,
            100
           ],
           "y": [
            48.5,
            48.5,
            48.5,
            48.5,
            48.5,
            48.5,
            48.5,
            48.5,
            48.5
           ]
          },
          {
           "hoverinfo": "none",
           "line": {
            "color": "blue",
            "dash": "dash"
           },
           "showlegend": false,
           "type": "scatter",
           "x": [
            60,
            60
           ],
           "y": [
            0,
            53.5
           ]
          },
          {
           "hoverinfo": "none",
           "line": {
            "color": "yellow",
            "dash": "dash"
           },
           "showlegend": false,
           "type": "scatter",
           "x": [
            70,
            70
           ],
           "y": [
            0,
            53.5
           ]
          },
          {
           "hoverinfo": "text",
           "hovertext": [
            "nflId:25511.0<br>displayName:Tom Brady<br>Position:QB<br>Role:Pass",
            "nflId:35634.0<br>displayName:Antonio Brown<br>Position:SLWR<br>Role:Pass Route",
            "nflId:39985.0<br>displayName:Giovani Bernard<br>Position:HB-R<br>Role:Pass Route",
            "nflId:40151.0<br>displayName:Ryan Jensen<br>Position:C<br>Role:Pass Block",
            "nflId:41233.0<br>displayName:Mike Evans<br>Position:SRWR<br>Role:Pass Route",
            "nflId:42377.0<br>displayName:Donovan Smith<br>Position:LT<br>Role:Pass Block",
            "nflId:42404.0<br>displayName:Ali Marpet<br>Position:LG<br>Role:Pass Block",
            "nflId:44896.0<br>displayName:Chris Godwin<br>Position:LWR<br>Role:Pass Route",
            "nflId:46163.0<br>displayName:Alex Cappa<br>Position:RG<br>Role:Pass Block",
            "nflId:52421.0<br>displayName:Tristan Wirfs<br>Position:RT<br>Role:Pass Block",
            "nflId:52569.0<br>displayName:Tyler Johnson<br>Position:RWR<br>Role:Pass Route"
           ],
           "marker": {
            "color": "#D50A0A"
           },
           "mode": "markers",
           "name": "TB",
           "type": "scatter",
           "x": [
            67.27,
            57.33,
            65.1,
            63.34,
            56.13,
            65.05,
            64.04,
            57.8,
            63.61,
            65.09,
            58.24
           ],
           "y": [
            30.16,
            13.69,
            33.97,
            30.15,
            42.24,
            26.97,
            28.03,
            10.76,
            31.61,
            33.37,
            43.87
           ]
          },
          {
           "hoverinfo": "text",
           "hovertext": [
            "nflId:41263.0<br>displayName:Demarcus Lawrence<br>Position:NLT<br>Role:Pass Rush",
            "nflId:42403.0<br>displayName:Randy Gregory<br>Position:ROLB<br>Role:Pass Rush",
            "nflId:43306.0<br>displayName:Keanu Neal<br>Position:LLB<br>Role:Coverage",
            "nflId:43478.0<br>displayName:Anthony Brown<br>Position:RCB<br>Role:Coverage",
            "nflId:43498.0<br>displayName:Maurice Canady<br>Position:SCBL<br>Role:Coverage",
            "nflId:43533.0<br>displayName:Jayron Kearse<br>Position:FS<br>Role:Coverage",
            "nflId:44904.0<br>displayName:Jourdan Lewis<br>Position:SCBR<br>Role:Coverage",
            "nflId:44962.0<br>displayName:Damontae Kazee<br>Position:FSL<br>Role:Coverage",
            "nflId:47996.0<br>displayName:Donovan Wilson<br>Position:FSR<br>Role:Coverage",
            "nflId:52459.0<br>displayName:Trevon Diggs<br>Position:LCB<br>Role:Coverage",
            "nflId:53441.0<br>displayName:Micah Parsons<br>Position:LOLB<br>Role:Pass Rush"
           ],
           "marker": {
            "color": "#003594"
           },
           "mode": "markers",
           "name": "DAL",
           "type": "scatter",
           "x": [
            62.44,
            64.38,
            55.13,
            56.37,
            54.25,
            27.35,
            56.68,
            36.13,
            34.52,
            53.33,
            64.52
           ],
           "y": [
            29.97,
            25.79,
            35.23,
            9.78,
            42.46,
            29.34,
            14.4,
            45.54,
            12.95,
            44.77,
            33.76
           ]
          },
          {
           "hoverinfo": "none",
           "marker": {
            "color": "#CBB67C"
           },
           "mode": "markers",
           "name": "football",
           "type": "scatter",
           "x": [
            68.35
           ],
           "y": [
            30.32
           ]
          }
         ],
         "name": "20"
        },
        {
         "data": [
          {
           "hoverinfo": "none",
           "mode": "text",
           "showlegend": false,
           "text": [
            "10",
            "20",
            "30",
            "40",
            "50",
            "40",
            "30",
            "20",
            "10"
           ],
           "textfont": {
            "color": "#ffffff",
            "family": "Courier New, monospace",
            "size": 30
           },
           "type": "scatter",
           "x": [
            20,
            30,
            40,
            50,
            60,
            70,
            80,
            90,
            100
           ],
           "y": [
            5,
            5,
            5,
            5,
            5,
            5,
            5,
            5,
            5
           ]
          },
          {
           "hoverinfo": "none",
           "mode": "text",
           "showlegend": false,
           "text": [
            "10",
            "20",
            "30",
            "40",
            "50",
            "40",
            "30",
            "20",
            "10"
           ],
           "textfont": {
            "color": "#ffffff",
            "family": "Courier New, monospace",
            "size": 30
           },
           "type": "scatter",
           "x": [
            20,
            30,
            40,
            50,
            60,
            70,
            80,
            90,
            100
           ],
           "y": [
            48.5,
            48.5,
            48.5,
            48.5,
            48.5,
            48.5,
            48.5,
            48.5,
            48.5
           ]
          },
          {
           "hoverinfo": "none",
           "line": {
            "color": "blue",
            "dash": "dash"
           },
           "showlegend": false,
           "type": "scatter",
           "x": [
            60,
            60
           ],
           "y": [
            0,
            53.5
           ]
          },
          {
           "hoverinfo": "none",
           "line": {
            "color": "yellow",
            "dash": "dash"
           },
           "showlegend": false,
           "type": "scatter",
           "x": [
            70,
            70
           ],
           "y": [
            0,
            53.5
           ]
          },
          {
           "hoverinfo": "text",
           "hovertext": [
            "nflId:25511.0<br>displayName:Tom Brady<br>Position:QB<br>Role:Pass",
            "nflId:35634.0<br>displayName:Antonio Brown<br>Position:SLWR<br>Role:Pass Route",
            "nflId:39985.0<br>displayName:Giovani Bernard<br>Position:HB-R<br>Role:Pass Route",
            "nflId:40151.0<br>displayName:Ryan Jensen<br>Position:C<br>Role:Pass Block",
            "nflId:41233.0<br>displayName:Mike Evans<br>Position:SRWR<br>Role:Pass Route",
            "nflId:42377.0<br>displayName:Donovan Smith<br>Position:LT<br>Role:Pass Block",
            "nflId:42404.0<br>displayName:Ali Marpet<br>Position:LG<br>Role:Pass Block",
            "nflId:44896.0<br>displayName:Chris Godwin<br>Position:LWR<br>Role:Pass Route",
            "nflId:46163.0<br>displayName:Alex Cappa<br>Position:RG<br>Role:Pass Block",
            "nflId:52421.0<br>displayName:Tristan Wirfs<br>Position:RT<br>Role:Pass Block",
            "nflId:52569.0<br>displayName:Tyler Johnson<br>Position:RWR<br>Role:Pass Route"
           ],
           "marker": {
            "color": "#D50A0A"
           },
           "mode": "markers",
           "name": "TB",
           "type": "scatter",
           "x": [
            67.37,
            56.97,
            64.92,
            63.53,
            55.54,
            65.34,
            64.37,
            57.24,
            63.84,
            65.37,
            57.65
           ],
           "y": [
            30.23,
            13.48,
            34.14,
            30.1,
            42.46,
            27.07,
            27.97,
            10.49,
            31.65,
            33.31,
            44.09
           ]
          },
          {
           "hoverinfo": "text",
           "hovertext": [
            "nflId:41263.0<br>displayName:Demarcus Lawrence<br>Position:NLT<br>Role:Pass Rush",
            "nflId:42403.0<br>displayName:Randy Gregory<br>Position:ROLB<br>Role:Pass Rush",
            "nflId:43306.0<br>displayName:Keanu Neal<br>Position:LLB<br>Role:Coverage",
            "nflId:43478.0<br>displayName:Anthony Brown<br>Position:RCB<br>Role:Coverage",
            "nflId:43498.0<br>displayName:Maurice Canady<br>Position:SCBL<br>Role:Coverage",
            "nflId:43533.0<br>displayName:Jayron Kearse<br>Position:FS<br>Role:Coverage",
            "nflId:44904.0<br>displayName:Jourdan Lewis<br>Position:SCBR<br>Role:Coverage",
            "nflId:44962.0<br>displayName:Damontae Kazee<br>Position:FSL<br>Role:Coverage",
            "nflId:47996.0<br>displayName:Donovan Wilson<br>Position:FSR<br>Role:Coverage",
            "nflId:52459.0<br>displayName:Trevon Diggs<br>Position:LCB<br>Role:Coverage",
            "nflId:53441.0<br>displayName:Micah Parsons<br>Position:LOLB<br>Role:Pass Rush"
           ],
           "marker": {
            "color": "#003594"
           },
           "mode": "markers",
           "name": "DAL",
           "type": "scatter",
           "x": [
            62.7,
            64.83,
            55.1,
            55.98,
            53.9,
            27.23,
            56.37,
            36.12,
            34.3,
            52.84,
            64.85
           ],
           "y": [
            29.83,
            26.01,
            35.4,
            9.59,
            42.53,
            29.41,
            14.29,
            45.6,
            12.9,
            44.88,
            33.55
           ]
          },
          {
           "hoverinfo": "none",
           "marker": {
            "color": "#CBB67C"
           },
           "mode": "markers",
           "name": "football",
           "type": "scatter",
           "x": [
            68.42
           ],
           "y": [
            30.34
           ]
          }
         ],
         "name": "21"
        },
        {
         "data": [
          {
           "hoverinfo": "none",
           "mode": "text",
           "showlegend": false,
           "text": [
            "10",
            "20",
            "30",
            "40",
            "50",
            "40",
            "30",
            "20",
            "10"
           ],
           "textfont": {
            "color": "#ffffff",
            "family": "Courier New, monospace",
            "size": 30
           },
           "type": "scatter",
           "x": [
            20,
            30,
            40,
            50,
            60,
            70,
            80,
            90,
            100
           ],
           "y": [
            5,
            5,
            5,
            5,
            5,
            5,
            5,
            5,
            5
           ]
          },
          {
           "hoverinfo": "none",
           "mode": "text",
           "showlegend": false,
           "text": [
            "10",
            "20",
            "30",
            "40",
            "50",
            "40",
            "30",
            "20",
            "10"
           ],
           "textfont": {
            "color": "#ffffff",
            "family": "Courier New, monospace",
            "size": 30
           },
           "type": "scatter",
           "x": [
            20,
            30,
            40,
            50,
            60,
            70,
            80,
            90,
            100
           ],
           "y": [
            48.5,
            48.5,
            48.5,
            48.5,
            48.5,
            48.5,
            48.5,
            48.5,
            48.5
           ]
          },
          {
           "hoverinfo": "none",
           "line": {
            "color": "blue",
            "dash": "dash"
           },
           "showlegend": false,
           "type": "scatter",
           "x": [
            60,
            60
           ],
           "y": [
            0,
            53.5
           ]
          },
          {
           "hoverinfo": "none",
           "line": {
            "color": "yellow",
            "dash": "dash"
           },
           "showlegend": false,
           "type": "scatter",
           "x": [
            70,
            70
           ],
           "y": [
            0,
            53.5
           ]
          },
          {
           "hoverinfo": "text",
           "hovertext": [
            "nflId:25511.0<br>displayName:Tom Brady<br>Position:QB<br>Role:Pass",
            "nflId:35634.0<br>displayName:Antonio Brown<br>Position:SLWR<br>Role:Pass Route",
            "nflId:39985.0<br>displayName:Giovani Bernard<br>Position:HB-R<br>Role:Pass Route",
            "nflId:40151.0<br>displayName:Ryan Jensen<br>Position:C<br>Role:Pass Block",
            "nflId:41233.0<br>displayName:Mike Evans<br>Position:SRWR<br>Role:Pass Route",
            "nflId:42377.0<br>displayName:Donovan Smith<br>Position:LT<br>Role:Pass Block",
            "nflId:42404.0<br>displayName:Ali Marpet<br>Position:LG<br>Role:Pass Block",
            "nflId:44896.0<br>displayName:Chris Godwin<br>Position:LWR<br>Role:Pass Route",
            "nflId:46163.0<br>displayName:Alex Cappa<br>Position:RG<br>Role:Pass Block",
            "nflId:52421.0<br>displayName:Tristan Wirfs<br>Position:RT<br>Role:Pass Block",
            "nflId:52569.0<br>displayName:Tyler Johnson<br>Position:RWR<br>Role:Pass Route"
           ],
           "marker": {
            "color": "#D50A0A"
           },
           "mode": "markers",
           "name": "TB",
           "type": "scatter",
           "x": [
            67.44,
            56.59,
            64.69,
            63.71,
            54.96,
            65.63,
            64.68,
            56.68,
            64.1,
            65.64,
            57.04
           ],
           "y": [
            30.29,
            13.26,
            34.27,
            30.05,
            42.7,
            27.19,
            27.9,
            10.21,
            31.71,
            33.24,
            44.32
           ]
          },
          {
           "hoverinfo": "text",
           "hovertext": [
            "nflId:41263.0<br>displayName:Demarcus Lawrence<br>Position:NLT<br>Role:Pass Rush",
            "nflId:42403.0<br>displayName:Randy Gregory<br>Position:ROLB<br>Role:Pass Rush",
            "nflId:43306.0<br>displayName:Keanu Neal<br>Position:LLB<br>Role:Coverage",
            "nflId:43478.0<br>displayName:Anthony Brown<br>Position:RCB<br>Role:Coverage",
            "nflId:43498.0<br>displayName:Maurice Canady<br>Position:SCBL<br>Role:Coverage",
            "nflId:43533.0<br>displayName:Jayron Kearse<br>Position:FS<br>Role:Coverage",
            "nflId:44904.0<br>displayName:Jourdan Lewis<br>Position:SCBR<br>Role:Coverage",
            "nflId:44962.0<br>displayName:Damontae Kazee<br>Position:FSL<br>Role:Coverage",
            "nflId:47996.0<br>displayName:Donovan Wilson<br>Position:FSR<br>Role:Coverage",
            "nflId:52459.0<br>displayName:Trevon Diggs<br>Position:LCB<br>Role:Coverage",
            "nflId:53441.0<br>displayName:Micah Parsons<br>Position:LOLB<br>Role:Pass Rush"
           ],
           "marker": {
            "color": "#003594"
           },
           "mode": "markers",
           "name": "DAL",
           "type": "scatter",
           "x": [
            62.99,
            65.28,
            55.09,
            55.55,
            53.53,
            27.1,
            56.04,
            36.11,
            34.09,
            52.35,
            65.15
           ],
           "y": [
            29.69,
            26.23,
            35.59,
            9.38,
            42.6,
            29.49,
            14.15,
            45.66,
            12.84,
            45,
            33.33
           ]
          },
          {
           "hoverinfo": "none",
           "marker": {
            "color": "#CBB67C"
           },
           "mode": "markers",
           "name": "football",
           "type": "scatter",
           "x": [
            68.44
           ],
           "y": [
            30.36
           ]
          }
         ],
         "name": "22"
        },
        {
         "data": [
          {
           "hoverinfo": "none",
           "mode": "text",
           "showlegend": false,
           "text": [
            "10",
            "20",
            "30",
            "40",
            "50",
            "40",
            "30",
            "20",
            "10"
           ],
           "textfont": {
            "color": "#ffffff",
            "family": "Courier New, monospace",
            "size": 30
           },
           "type": "scatter",
           "x": [
            20,
            30,
            40,
            50,
            60,
            70,
            80,
            90,
            100
           ],
           "y": [
            5,
            5,
            5,
            5,
            5,
            5,
            5,
            5,
            5
           ]
          },
          {
           "hoverinfo": "none",
           "mode": "text",
           "showlegend": false,
           "text": [
            "10",
            "20",
            "30",
            "40",
            "50",
            "40",
            "30",
            "20",
            "10"
           ],
           "textfont": {
            "color": "#ffffff",
            "family": "Courier New, monospace",
            "size": 30
           },
           "type": "scatter",
           "x": [
            20,
            30,
            40,
            50,
            60,
            70,
            80,
            90,
            100
           ],
           "y": [
            48.5,
            48.5,
            48.5,
            48.5,
            48.5,
            48.5,
            48.5,
            48.5,
            48.5
           ]
          },
          {
           "hoverinfo": "none",
           "line": {
            "color": "blue",
            "dash": "dash"
           },
           "showlegend": false,
           "type": "scatter",
           "x": [
            60,
            60
           ],
           "y": [
            0,
            53.5
           ]
          },
          {
           "hoverinfo": "none",
           "line": {
            "color": "yellow",
            "dash": "dash"
           },
           "showlegend": false,
           "type": "scatter",
           "x": [
            70,
            70
           ],
           "y": [
            0,
            53.5
           ]
          },
          {
           "hoverinfo": "text",
           "hovertext": [
            "nflId:25511.0<br>displayName:Tom Brady<br>Position:QB<br>Role:Pass",
            "nflId:35634.0<br>displayName:Antonio Brown<br>Position:SLWR<br>Role:Pass Route",
            "nflId:39985.0<br>displayName:Giovani Bernard<br>Position:HB-R<br>Role:Pass Route",
            "nflId:40151.0<br>displayName:Ryan Jensen<br>Position:C<br>Role:Pass Block",
            "nflId:41233.0<br>displayName:Mike Evans<br>Position:SRWR<br>Role:Pass Route",
            "nflId:42377.0<br>displayName:Donovan Smith<br>Position:LT<br>Role:Pass Block",
            "nflId:42404.0<br>displayName:Ali Marpet<br>Position:LG<br>Role:Pass Block",
            "nflId:44896.0<br>displayName:Chris Godwin<br>Position:LWR<br>Role:Pass Route",
            "nflId:46163.0<br>displayName:Alex Cappa<br>Position:RG<br>Role:Pass Block",
            "nflId:52421.0<br>displayName:Tristan Wirfs<br>Position:RT<br>Role:Pass Block",
            "nflId:52569.0<br>displayName:Tyler Johnson<br>Position:RWR<br>Role:Pass Route"
           ],
           "marker": {
            "color": "#D50A0A"
           },
           "mode": "markers",
           "name": "TB",
           "type": "scatter",
           "x": [
            67.5,
            56.16,
            64.43,
            63.87,
            54.37,
            65.92,
            65.01,
            56.11,
            64.37,
            65.92,
            56.41
           ],
           "y": [
            30.34,
            13.02,
            34.37,
            29.91,
            42.97,
            27.32,
            27.83,
            9.92,
            31.78,
            33.12,
            44.56
           ]
          },
          {
           "hoverinfo": "text",
           "hovertext": [
            "nflId:41263.0<br>displayName:Demarcus Lawrence<br>Position:NLT<br>Role:Pass Rush",
            "nflId:42403.0<br>displayName:Randy Gregory<br>Position:ROLB<br>Role:Pass Rush",
            "nflId:43306.0<br>displayName:Keanu Neal<br>Position:LLB<br>Role:Coverage",
            "nflId:43478.0<br>displayName:Anthony Brown<br>Position:RCB<br>Role:Coverage",
            "nflId:43498.0<br>displayName:Maurice Canady<br>Position:SCBL<br>Role:Coverage",
            "nflId:43533.0<br>displayName:Jayron Kearse<br>Position:FS<br>Role:Coverage",
            "nflId:44904.0<br>displayName:Jourdan Lewis<br>Position:SCBR<br>Role:Coverage",
            "nflId:44962.0<br>displayName:Damontae Kazee<br>Position:FSL<br>Role:Coverage",
            "nflId:47996.0<br>displayName:Donovan Wilson<br>Position:FSR<br>Role:Coverage",
            "nflId:52459.0<br>displayName:Trevon Diggs<br>Position:LCB<br>Role:Coverage",
            "nflId:53441.0<br>displayName:Micah Parsons<br>Position:LOLB<br>Role:Pass Rush"
           ],
           "marker": {
            "color": "#003594"
           },
           "mode": "markers",
           "name": "DAL",
           "type": "scatter",
           "x": [
            63.28,
            65.69,
            55.07,
            55.09,
            53.16,
            26.99,
            55.68,
            36.09,
            33.87,
            51.85,
            65.43
           ],
           "y": [
            29.53,
            26.44,
            35.78,
            9.16,
            42.68,
            29.59,
            13.98,
            45.75,
            12.77,
            45.13,
            33.1
           ]
          },
          {
           "hoverinfo": "none",
           "marker": {
            "color": "#CBB67C"
           },
           "mode": "markers",
           "name": "football",
           "type": "scatter",
           "x": [
            68.4
           ],
           "y": [
            30.41
           ]
          }
         ],
         "name": "23"
        },
        {
         "data": [
          {
           "hoverinfo": "none",
           "mode": "text",
           "showlegend": false,
           "text": [
            "10",
            "20",
            "30",
            "40",
            "50",
            "40",
            "30",
            "20",
            "10"
           ],
           "textfont": {
            "color": "#ffffff",
            "family": "Courier New, monospace",
            "size": 30
           },
           "type": "scatter",
           "x": [
            20,
            30,
            40,
            50,
            60,
            70,
            80,
            90,
            100
           ],
           "y": [
            5,
            5,
            5,
            5,
            5,
            5,
            5,
            5,
            5
           ]
          },
          {
           "hoverinfo": "none",
           "mode": "text",
           "showlegend": false,
           "text": [
            "10",
            "20",
            "30",
            "40",
            "50",
            "40",
            "30",
            "20",
            "10"
           ],
           "textfont": {
            "color": "#ffffff",
            "family": "Courier New, monospace",
            "size": 30
           },
           "type": "scatter",
           "x": [
            20,
            30,
            40,
            50,
            60,
            70,
            80,
            90,
            100
           ],
           "y": [
            48.5,
            48.5,
            48.5,
            48.5,
            48.5,
            48.5,
            48.5,
            48.5,
            48.5
           ]
          },
          {
           "hoverinfo": "none",
           "line": {
            "color": "blue",
            "dash": "dash"
           },
           "showlegend": false,
           "type": "scatter",
           "x": [
            60,
            60
           ],
           "y": [
            0,
            53.5
           ]
          },
          {
           "hoverinfo": "none",
           "line": {
            "color": "yellow",
            "dash": "dash"
           },
           "showlegend": false,
           "type": "scatter",
           "x": [
            70,
            70
           ],
           "y": [
            0,
            53.5
           ]
          },
          {
           "hoverinfo": "text",
           "hovertext": [
            "nflId:25511.0<br>displayName:Tom Brady<br>Position:QB<br>Role:Pass",
            "nflId:35634.0<br>displayName:Antonio Brown<br>Position:SLWR<br>Role:Pass Route",
            "nflId:39985.0<br>displayName:Giovani Bernard<br>Position:HB-R<br>Role:Pass Route",
            "nflId:40151.0<br>displayName:Ryan Jensen<br>Position:C<br>Role:Pass Block",
            "nflId:41233.0<br>displayName:Mike Evans<br>Position:SRWR<br>Role:Pass Route",
            "nflId:42377.0<br>displayName:Donovan Smith<br>Position:LT<br>Role:Pass Block",
            "nflId:42404.0<br>displayName:Ali Marpet<br>Position:LG<br>Role:Pass Block",
            "nflId:44896.0<br>displayName:Chris Godwin<br>Position:LWR<br>Role:Pass Route",
            "nflId:46163.0<br>displayName:Alex Cappa<br>Position:RG<br>Role:Pass Block",
            "nflId:52421.0<br>displayName:Tristan Wirfs<br>Position:RT<br>Role:Pass Block",
            "nflId:52569.0<br>displayName:Tyler Johnson<br>Position:RWR<br>Role:Pass Route"
           ],
           "marker": {
            "color": "#D50A0A"
           },
           "mode": "markers",
           "name": "TB",
           "type": "scatter",
           "x": [
            67.55,
            55.7,
            64.15,
            64.02,
            53.78,
            66.2,
            65.37,
            55.55,
            64.65,
            66.17,
            55.76
           ],
           "y": [
            30.4,
            12.79,
            34.44,
            29.79,
            43.24,
            27.46,
            27.75,
            9.62,
            31.85,
            32.98,
            44.82
           ]
          },
          {
           "hoverinfo": "text",
           "hovertext": [
            "nflId:41263.0<br>displayName:Demarcus Lawrence<br>Position:NLT<br>Role:Pass Rush",
            "nflId:42403.0<br>displayName:Randy Gregory<br>Position:ROLB<br>Role:Pass Rush",
            "nflId:43306.0<br>displayName:Keanu Neal<br>Position:LLB<br>Role:Coverage",
            "nflId:43478.0<br>displayName:Anthony Brown<br>Position:RCB<br>Role:Coverage",
            "nflId:43498.0<br>displayName:Maurice Canady<br>Position:SCBL<br>Role:Coverage",
            "nflId:43533.0<br>displayName:Jayron Kearse<br>Position:FS<br>Role:Coverage",
            "nflId:44904.0<br>displayName:Jourdan Lewis<br>Position:SCBR<br>Role:Coverage",
            "nflId:44962.0<br>displayName:Damontae Kazee<br>Position:FSL<br>Role:Coverage",
            "nflId:47996.0<br>displayName:Donovan Wilson<br>Position:FSR<br>Role:Coverage",
            "nflId:52459.0<br>displayName:Trevon Diggs<br>Position:LCB<br>Role:Coverage",
            "nflId:53441.0<br>displayName:Micah Parsons<br>Position:LOLB<br>Role:Pass Rush"
           ],
           "marker": {
            "color": "#003594"
           },
           "mode": "markers",
           "name": "DAL",
           "type": "scatter",
           "x": [
            63.62,
            66.09,
            55.06,
            54.59,
            52.76,
            26.88,
            55.28,
            36.07,
            33.68,
            51.36,
            65.69
           ],
           "y": [
            29.34,
            26.66,
            35.99,
            8.92,
            42.73,
            29.7,
            13.76,
            45.85,
            12.73,
            45.3,
            32.86
           ]
          },
          {
           "hoverinfo": "none",
           "marker": {
            "color": "#CBB67C"
           },
           "mode": "markers",
           "name": "football",
           "type": "scatter",
           "x": [
            68.32
           ],
           "y": [
            30.48
           ]
          }
         ],
         "name": "24"
        },
        {
         "data": [
          {
           "hoverinfo": "none",
           "mode": "text",
           "showlegend": false,
           "text": [
            "10",
            "20",
            "30",
            "40",
            "50",
            "40",
            "30",
            "20",
            "10"
           ],
           "textfont": {
            "color": "#ffffff",
            "family": "Courier New, monospace",
            "size": 30
           },
           "type": "scatter",
           "x": [
            20,
            30,
            40,
            50,
            60,
            70,
            80,
            90,
            100
           ],
           "y": [
            5,
            5,
            5,
            5,
            5,
            5,
            5,
            5,
            5
           ]
          },
          {
           "hoverinfo": "none",
           "mode": "text",
           "showlegend": false,
           "text": [
            "10",
            "20",
            "30",
            "40",
            "50",
            "40",
            "30",
            "20",
            "10"
           ],
           "textfont": {
            "color": "#ffffff",
            "family": "Courier New, monospace",
            "size": 30
           },
           "type": "scatter",
           "x": [
            20,
            30,
            40,
            50,
            60,
            70,
            80,
            90,
            100
           ],
           "y": [
            48.5,
            48.5,
            48.5,
            48.5,
            48.5,
            48.5,
            48.5,
            48.5,
            48.5
           ]
          },
          {
           "hoverinfo": "none",
           "line": {
            "color": "blue",
            "dash": "dash"
           },
           "showlegend": false,
           "type": "scatter",
           "x": [
            60,
            60
           ],
           "y": [
            0,
            53.5
           ]
          },
          {
           "hoverinfo": "none",
           "line": {
            "color": "yellow",
            "dash": "dash"
           },
           "showlegend": false,
           "type": "scatter",
           "x": [
            70,
            70
           ],
           "y": [
            0,
            53.5
           ]
          },
          {
           "hoverinfo": "text",
           "hovertext": [
            "nflId:25511.0<br>displayName:Tom Brady<br>Position:QB<br>Role:Pass",
            "nflId:35634.0<br>displayName:Antonio Brown<br>Position:SLWR<br>Role:Pass Route",
            "nflId:39985.0<br>displayName:Giovani Bernard<br>Position:HB-R<br>Role:Pass Route",
            "nflId:40151.0<br>displayName:Ryan Jensen<br>Position:C<br>Role:Pass Block",
            "nflId:41233.0<br>displayName:Mike Evans<br>Position:SRWR<br>Role:Pass Route",
            "nflId:42377.0<br>displayName:Donovan Smith<br>Position:LT<br>Role:Pass Block",
            "nflId:42404.0<br>displayName:Ali Marpet<br>Position:LG<br>Role:Pass Block",
            "nflId:44896.0<br>displayName:Chris Godwin<br>Position:LWR<br>Role:Pass Route",
            "nflId:46163.0<br>displayName:Alex Cappa<br>Position:RG<br>Role:Pass Block",
            "nflId:52421.0<br>displayName:Tristan Wirfs<br>Position:RT<br>Role:Pass Block",
            "nflId:52569.0<br>displayName:Tyler Johnson<br>Position:RWR<br>Role:Pass Route"
           ],
           "marker": {
            "color": "#D50A0A"
           },
           "mode": "markers",
           "name": "TB",
           "type": "scatter",
           "x": [
            67.58,
            55.21,
            63.84,
            64.16,
            53.18,
            66.48,
            65.7,
            54.98,
            64.93,
            66.42,
            55.1
           ],
           "y": [
            30.46,
            12.54,
            34.49,
            29.64,
            43.53,
            27.6,
            27.68,
            9.32,
            31.9,
            32.82,
            45.11
           ]
          },
          {
           "hoverinfo": "text",
           "hovertext": [
            "nflId:41263.0<br>displayName:Demarcus Lawrence<br>Position:NLT<br>Role:Pass Rush",
            "nflId:42403.0<br>displayName:Randy Gregory<br>Position:ROLB<br>Role:Pass Rush",
            "nflId:43306.0<br>displayName:Keanu Neal<br>Position:LLB<br>Role:Coverage",
            "nflId:43478.0<br>displayName:Anthony Brown<br>Position:RCB<br>Role:Coverage",
            "nflId:43498.0<br>displayName:Maurice Canady<br>Position:SCBL<br>Role:Coverage",
            "nflId:43533.0<br>displayName:Jayron Kearse<br>Position:FS<br>Role:Coverage",
            "nflId:44904.0<br>displayName:Jourdan Lewis<br>Position:SCBR<br>Role:Coverage",
            "nflId:44962.0<br>displayName:Damontae Kazee<br>Position:FSL<br>Role:Coverage",
            "nflId:47996.0<br>displayName:Donovan Wilson<br>Position:FSR<br>Role:Coverage",
            "nflId:52459.0<br>displayName:Trevon Diggs<br>Position:LCB<br>Role:Coverage",
            "nflId:53441.0<br>displayName:Micah Parsons<br>Position:LOLB<br>Role:Pass Rush"
           ],
           "marker": {
            "color": "#003594"
           },
           "mode": "markers",
           "name": "DAL",
           "type": "scatter",
           "x": [
            63.96,
            66.46,
            55.05,
            54.07,
            52.34,
            26.78,
            54.86,
            36.04,
            33.48,
            50.89,
            65.96
           ],
           "y": [
            29.16,
            26.85,
            36.21,
            8.66,
            42.79,
            29.82,
            13.51,
            45.96,
            12.71,
            45.5,
            32.6
           ]
          },
          {
           "hoverinfo": "none",
           "marker": {
            "color": "#CBB67C"
           },
           "mode": "markers",
           "name": "football",
           "type": "scatter",
           "x": [
            68.21
           ],
           "y": [
            30.55
           ]
          }
         ],
         "name": "25"
        },
        {
         "data": [
          {
           "hoverinfo": "none",
           "mode": "text",
           "showlegend": false,
           "text": [
            "10",
            "20",
            "30",
            "40",
            "50",
            "40",
            "30",
            "20",
            "10"
           ],
           "textfont": {
            "color": "#ffffff",
            "family": "Courier New, monospace",
            "size": 30
           },
           "type": "scatter",
           "x": [
            20,
            30,
            40,
            50,
            60,
            70,
            80,
            90,
            100
           ],
           "y": [
            5,
            5,
            5,
            5,
            5,
            5,
            5,
            5,
            5
           ]
          },
          {
           "hoverinfo": "none",
           "mode": "text",
           "showlegend": false,
           "text": [
            "10",
            "20",
            "30",
            "40",
            "50",
            "40",
            "30",
            "20",
            "10"
           ],
           "textfont": {
            "color": "#ffffff",
            "family": "Courier New, monospace",
            "size": 30
           },
           "type": "scatter",
           "x": [
            20,
            30,
            40,
            50,
            60,
            70,
            80,
            90,
            100
           ],
           "y": [
            48.5,
            48.5,
            48.5,
            48.5,
            48.5,
            48.5,
            48.5,
            48.5,
            48.5
           ]
          },
          {
           "hoverinfo": "none",
           "line": {
            "color": "blue",
            "dash": "dash"
           },
           "showlegend": false,
           "type": "scatter",
           "x": [
            60,
            60
           ],
           "y": [
            0,
            53.5
           ]
          },
          {
           "hoverinfo": "none",
           "line": {
            "color": "yellow",
            "dash": "dash"
           },
           "showlegend": false,
           "type": "scatter",
           "x": [
            70,
            70
           ],
           "y": [
            0,
            53.5
           ]
          },
          {
           "hoverinfo": "text",
           "hovertext": [
            "nflId:25511.0<br>displayName:Tom Brady<br>Position:QB<br>Role:Pass",
            "nflId:35634.0<br>displayName:Antonio Brown<br>Position:SLWR<br>Role:Pass Route",
            "nflId:39985.0<br>displayName:Giovani Bernard<br>Position:HB-R<br>Role:Pass Route",
            "nflId:40151.0<br>displayName:Ryan Jensen<br>Position:C<br>Role:Pass Block",
            "nflId:41233.0<br>displayName:Mike Evans<br>Position:SRWR<br>Role:Pass Route",
            "nflId:42377.0<br>displayName:Donovan Smith<br>Position:LT<br>Role:Pass Block",
            "nflId:42404.0<br>displayName:Ali Marpet<br>Position:LG<br>Role:Pass Block",
            "nflId:44896.0<br>displayName:Chris Godwin<br>Position:LWR<br>Role:Pass Route",
            "nflId:46163.0<br>displayName:Alex Cappa<br>Position:RG<br>Role:Pass Block",
            "nflId:52421.0<br>displayName:Tristan Wirfs<br>Position:RT<br>Role:Pass Block",
            "nflId:52569.0<br>displayName:Tyler Johnson<br>Position:RWR<br>Role:Pass Route"
           ],
           "marker": {
            "color": "#D50A0A"
           },
           "mode": "markers",
           "name": "TB",
           "type": "scatter",
           "x": [
            67.59,
            54.69,
            63.52,
            64.28,
            52.57,
            66.75,
            66.02,
            54.4,
            65.21,
            66.64,
            54.43
           ],
           "y": [
            30.52,
            12.29,
            34.51,
            29.47,
            43.82,
            27.74,
            27.61,
            9.01,
            31.96,
            32.66,
            45.41
           ]
          },
          {
           "hoverinfo": "text",
           "hovertext": [
            "nflId:41263.0<br>displayName:Demarcus Lawrence<br>Position:NLT<br>Role:Pass Rush",
            "nflId:42403.0<br>displayName:Randy Gregory<br>Position:ROLB<br>Role:Pass Rush",
            "nflId:43306.0<br>displayName:Keanu Neal<br>Position:LLB<br>Role:Coverage",
            "nflId:43478.0<br>displayName:Anthony Brown<br>Position:RCB<br>Role:Coverage",
            "nflId:43498.0<br>displayName:Maurice Canady<br>Position:SCBL<br>Role:Coverage",
            "nflId:43533.0<br>displayName:Jayron Kearse<br>Position:FS<br>Role:Coverage",
            "nflId:44904.0<br>displayName:Jourdan Lewis<br>Position:SCBR<br>Role:Coverage",
            "nflId:44962.0<br>displayName:Damontae Kazee<br>Position:FSL<br>Role:Coverage",
            "nflId:47996.0<br>displayName:Donovan Wilson<br>Position:FSR<br>Role:Coverage",
            "nflId:52459.0<br>displayName:Trevon Diggs<br>Position:LCB<br>Role:Coverage",
            "nflId:53441.0<br>displayName:Micah Parsons<br>Position:LOLB<br>Role:Pass Rush"
           ],
           "marker": {
            "color": "#003594"
           },
           "mode": "markers",
           "name": "DAL",
           "type": "scatter",
           "x": [
            64.31,
            66.83,
            55.04,
            53.53,
            51.89,
            26.68,
            54.41,
            36.01,
            33.31,
            50.47,
            66.21
           ],
           "y": [
            28.97,
            27.03,
            36.44,
            8.4,
            42.85,
            29.94,
            13.24,
            46.1,
            12.73,
            45.73,
            32.34
           ]
          },
          {
           "hoverinfo": "none",
           "marker": {
            "color": "#CBB67C"
           },
           "mode": "markers",
           "name": "football",
           "type": "scatter",
           "x": [
            67.95
           ],
           "y": [
            30.84
           ]
          }
         ],
         "name": "26"
        },
        {
         "data": [
          {
           "hoverinfo": "none",
           "mode": "text",
           "showlegend": false,
           "text": [
            "10",
            "20",
            "30",
            "40",
            "50",
            "40",
            "30",
            "20",
            "10"
           ],
           "textfont": {
            "color": "#ffffff",
            "family": "Courier New, monospace",
            "size": 30
           },
           "type": "scatter",
           "x": [
            20,
            30,
            40,
            50,
            60,
            70,
            80,
            90,
            100
           ],
           "y": [
            5,
            5,
            5,
            5,
            5,
            5,
            5,
            5,
            5
           ]
          },
          {
           "hoverinfo": "none",
           "mode": "text",
           "showlegend": false,
           "text": [
            "10",
            "20",
            "30",
            "40",
            "50",
            "40",
            "30",
            "20",
            "10"
           ],
           "textfont": {
            "color": "#ffffff",
            "family": "Courier New, monospace",
            "size": 30
           },
           "type": "scatter",
           "x": [
            20,
            30,
            40,
            50,
            60,
            70,
            80,
            90,
            100
           ],
           "y": [
            48.5,
            48.5,
            48.5,
            48.5,
            48.5,
            48.5,
            48.5,
            48.5,
            48.5
           ]
          },
          {
           "hoverinfo": "none",
           "line": {
            "color": "blue",
            "dash": "dash"
           },
           "showlegend": false,
           "type": "scatter",
           "x": [
            60,
            60
           ],
           "y": [
            0,
            53.5
           ]
          },
          {
           "hoverinfo": "none",
           "line": {
            "color": "yellow",
            "dash": "dash"
           },
           "showlegend": false,
           "type": "scatter",
           "x": [
            70,
            70
           ],
           "y": [
            0,
            53.5
           ]
          },
          {
           "hoverinfo": "text",
           "hovertext": [
            "nflId:25511.0<br>displayName:Tom Brady<br>Position:QB<br>Role:Pass",
            "nflId:35634.0<br>displayName:Antonio Brown<br>Position:SLWR<br>Role:Pass Route",
            "nflId:39985.0<br>displayName:Giovani Bernard<br>Position:HB-R<br>Role:Pass Route",
            "nflId:40151.0<br>displayName:Ryan Jensen<br>Position:C<br>Role:Pass Block",
            "nflId:41233.0<br>displayName:Mike Evans<br>Position:SRWR<br>Role:Pass Route",
            "nflId:42377.0<br>displayName:Donovan Smith<br>Position:LT<br>Role:Pass Block",
            "nflId:42404.0<br>displayName:Ali Marpet<br>Position:LG<br>Role:Pass Block",
            "nflId:44896.0<br>displayName:Chris Godwin<br>Position:LWR<br>Role:Pass Route",
            "nflId:46163.0<br>displayName:Alex Cappa<br>Position:RG<br>Role:Pass Block",
            "nflId:52421.0<br>displayName:Tristan Wirfs<br>Position:RT<br>Role:Pass Block",
            "nflId:52569.0<br>displayName:Tyler Johnson<br>Position:RWR<br>Role:Pass Route"
           ],
           "marker": {
            "color": "#D50A0A"
           },
           "mode": "markers",
           "name": "TB",
           "type": "scatter",
           "x": [
            67.61,
            54.13,
            63.18,
            64.39,
            51.95,
            67.02,
            66.37,
            53.82,
            65.51,
            66.87,
            53.77
           ],
           "y": [
            30.56,
            12.05,
            34.51,
            29.28,
            44.12,
            27.86,
            27.57,
            8.69,
            32.03,
            32.45,
            45.74
           ]
          },
          {
           "hoverinfo": "text",
           "hovertext": [
            "nflId:41263.0<br>displayName:Demarcus Lawrence<br>Position:NLT<br>Role:Pass Rush",
            "nflId:42403.0<br>displayName:Randy Gregory<br>Position:ROLB<br>Role:Pass Rush",
            "nflId:43306.0<br>displayName:Keanu Neal<br>Position:LLB<br>Role:Coverage",
            "nflId:43478.0<br>displayName:Anthony Brown<br>Position:RCB<br>Role:Coverage",
            "nflId:43498.0<br>displayName:Maurice Canady<br>Position:SCBL<br>Role:Coverage",
            "nflId:43533.0<br>displayName:Jayron Kearse<br>Position:FS<br>Role:Coverage",
            "nflId:44904.0<br>displayName:Jourdan Lewis<br>Position:SCBR<br>Role:Coverage",
            "nflId:44962.0<br>displayName:Damontae Kazee<br>Position:FSL<br>Role:Coverage",
            "nflId:47996.0<br>displayName:Donovan Wilson<br>Position:FSR<br>Role:Coverage",
            "nflId:52459.0<br>displayName:Trevon Diggs<br>Position:LCB<br>Role:Coverage",
            "nflId:53441.0<br>displayName:Micah Parsons<br>Position:LOLB<br>Role:Pass Rush"
           ],
           "marker": {
            "color": "#003594"
           },
           "mode": "markers",
           "name": "DAL",
           "type": "scatter",
           "x": [
            64.69,
            67.2,
            55.02,
            52.96,
            51.42,
            26.61,
            53.93,
            35.98,
            33.15,
            50.09,
            66.44
           ],
           "y": [
            28.79,
            27.18,
            36.67,
            8.14,
            42.91,
            30.08,
            12.95,
            46.26,
            12.78,
            45.98,
            32.07
           ]
          },
          {
           "hoverinfo": "none",
           "marker": {
            "color": "#CBB67C"
           },
           "mode": "markers",
           "name": "football",
           "type": "scatter",
           "x": [
            65.46
           ],
           "y": [
            34.74
           ]
          }
         ],
         "name": "27"
        },
        {
         "data": [
          {
           "hoverinfo": "none",
           "mode": "text",
           "showlegend": false,
           "text": [
            "10",
            "20",
            "30",
            "40",
            "50",
            "40",
            "30",
            "20",
            "10"
           ],
           "textfont": {
            "color": "#ffffff",
            "family": "Courier New, monospace",
            "size": 30
           },
           "type": "scatter",
           "x": [
            20,
            30,
            40,
            50,
            60,
            70,
            80,
            90,
            100
           ],
           "y": [
            5,
            5,
            5,
            5,
            5,
            5,
            5,
            5,
            5
           ]
          },
          {
           "hoverinfo": "none",
           "mode": "text",
           "showlegend": false,
           "text": [
            "10",
            "20",
            "30",
            "40",
            "50",
            "40",
            "30",
            "20",
            "10"
           ],
           "textfont": {
            "color": "#ffffff",
            "family": "Courier New, monospace",
            "size": 30
           },
           "type": "scatter",
           "x": [
            20,
            30,
            40,
            50,
            60,
            70,
            80,
            90,
            100
           ],
           "y": [
            48.5,
            48.5,
            48.5,
            48.5,
            48.5,
            48.5,
            48.5,
            48.5,
            48.5
           ]
          },
          {
           "hoverinfo": "none",
           "line": {
            "color": "blue",
            "dash": "dash"
           },
           "showlegend": false,
           "type": "scatter",
           "x": [
            60,
            60
           ],
           "y": [
            0,
            53.5
           ]
          },
          {
           "hoverinfo": "none",
           "line": {
            "color": "yellow",
            "dash": "dash"
           },
           "showlegend": false,
           "type": "scatter",
           "x": [
            70,
            70
           ],
           "y": [
            0,
            53.5
           ]
          },
          {
           "hoverinfo": "text",
           "hovertext": [
            "nflId:25511.0<br>displayName:Tom Brady<br>Position:QB<br>Role:Pass",
            "nflId:35634.0<br>displayName:Antonio Brown<br>Position:SLWR<br>Role:Pass Route",
            "nflId:39985.0<br>displayName:Giovani Bernard<br>Position:HB-R<br>Role:Pass Route",
            "nflId:40151.0<br>displayName:Ryan Jensen<br>Position:C<br>Role:Pass Block",
            "nflId:41233.0<br>displayName:Mike Evans<br>Position:SRWR<br>Role:Pass Route",
            "nflId:42377.0<br>displayName:Donovan Smith<br>Position:LT<br>Role:Pass Block",
            "nflId:42404.0<br>displayName:Ali Marpet<br>Position:LG<br>Role:Pass Block",
            "nflId:44896.0<br>displayName:Chris Godwin<br>Position:LWR<br>Role:Pass Route",
            "nflId:46163.0<br>displayName:Alex Cappa<br>Position:RG<br>Role:Pass Block",
            "nflId:52421.0<br>displayName:Tristan Wirfs<br>Position:RT<br>Role:Pass Block",
            "nflId:52569.0<br>displayName:Tyler Johnson<br>Position:RWR<br>Role:Pass Route"
           ],
           "marker": {
            "color": "#D50A0A"
           },
           "mode": "markers",
           "name": "TB",
           "type": "scatter",
           "x": [
            67.63,
            53.54,
            62.84,
            64.47,
            51.32,
            67.27,
            66.73,
            53.27,
            65.81,
            67.09,
            53.12
           ],
           "y": [
            30.56,
            11.83,
            34.5,
            29.09,
            44.41,
            27.93,
            27.5,
            8.36,
            32.07,
            32.24,
            46.1
           ]
          },
          {
           "hoverinfo": "text",
           "hovertext": [
            "nflId:41263.0<br>displayName:Demarcus Lawrence<br>Position:NLT<br>Role:Pass Rush",
            "nflId:42403.0<br>displayName:Randy Gregory<br>Position:ROLB<br>Role:Pass Rush",
            "nflId:43306.0<br>displayName:Keanu Neal<br>Position:LLB<br>Role:Coverage",
            "nflId:43478.0<br>displayName:Anthony Brown<br>Position:RCB<br>Role:Coverage",
            "nflId:43498.0<br>displayName:Maurice Canady<br>Position:SCBL<br>Role:Coverage",
            "nflId:43533.0<br>displayName:Jayron Kearse<br>Position:FS<br>Role:Coverage",
            "nflId:44904.0<br>displayName:Jourdan Lewis<br>Position:SCBR<br>Role:Coverage",
            "nflId:44962.0<br>displayName:Damontae Kazee<br>Position:FSL<br>Role:Coverage",
            "nflId:47996.0<br>displayName:Donovan Wilson<br>Position:FSR<br>Role:Coverage",
            "nflId:52459.0<br>displayName:Trevon Diggs<br>Position:LCB<br>Role:Coverage",
            "nflId:53441.0<br>displayName:Micah Parsons<br>Position:LOLB<br>Role:Pass Rush"
           ],
           "marker": {
            "color": "#003594"
           },
           "mode": "markers",
           "name": "DAL",
           "type": "scatter",
           "x": [
            65.09,
            67.57,
            55.01,
            52.39,
            50.93,
            26.55,
            53.43,
            35.95,
            33.01,
            49.75,
            66.65
           ],
           "y": [
            28.67,
            27.32,
            36.92,
            7.88,
            42.98,
            30.23,
            12.64,
            46.45,
            12.87,
            46.28,
            31.8
           ]
          },
          {
           "hoverinfo": "none",
           "marker": {
            "color": "#CBB67C"
           },
           "mode": "markers",
           "name": "football",
           "type": "scatter",
           "x": [
            64.05
           ],
           "y": [
            36.76
           ]
          }
         ],
         "name": "28"
        },
        {
         "data": [
          {
           "hoverinfo": "none",
           "mode": "text",
           "showlegend": false,
           "text": [
            "10",
            "20",
            "30",
            "40",
            "50",
            "40",
            "30",
            "20",
            "10"
           ],
           "textfont": {
            "color": "#ffffff",
            "family": "Courier New, monospace",
            "size": 30
           },
           "type": "scatter",
           "x": [
            20,
            30,
            40,
            50,
            60,
            70,
            80,
            90,
            100
           ],
           "y": [
            5,
            5,
            5,
            5,
            5,
            5,
            5,
            5,
            5
           ]
          },
          {
           "hoverinfo": "none",
           "mode": "text",
           "showlegend": false,
           "text": [
            "10",
            "20",
            "30",
            "40",
            "50",
            "40",
            "30",
            "20",
            "10"
           ],
           "textfont": {
            "color": "#ffffff",
            "family": "Courier New, monospace",
            "size": 30
           },
           "type": "scatter",
           "x": [
            20,
            30,
            40,
            50,
            60,
            70,
            80,
            90,
            100
           ],
           "y": [
            48.5,
            48.5,
            48.5,
            48.5,
            48.5,
            48.5,
            48.5,
            48.5,
            48.5
           ]
          },
          {
           "hoverinfo": "none",
           "line": {
            "color": "blue",
            "dash": "dash"
           },
           "showlegend": false,
           "type": "scatter",
           "x": [
            60,
            60
           ],
           "y": [
            0,
            53.5
           ]
          },
          {
           "hoverinfo": "none",
           "line": {
            "color": "yellow",
            "dash": "dash"
           },
           "showlegend": false,
           "type": "scatter",
           "x": [
            70,
            70
           ],
           "y": [
            0,
            53.5
           ]
          },
          {
           "hoverinfo": "text",
           "hovertext": [
            "nflId:25511.0<br>displayName:Tom Brady<br>Position:QB<br>Role:Pass",
            "nflId:35634.0<br>displayName:Antonio Brown<br>Position:SLWR<br>Role:Pass Route",
            "nflId:39985.0<br>displayName:Giovani Bernard<br>Position:HB-R<br>Role:Pass Route",
            "nflId:40151.0<br>displayName:Ryan Jensen<br>Position:C<br>Role:Pass Block",
            "nflId:41233.0<br>displayName:Mike Evans<br>Position:SRWR<br>Role:Pass Route",
            "nflId:42377.0<br>displayName:Donovan Smith<br>Position:LT<br>Role:Pass Block",
            "nflId:42404.0<br>displayName:Ali Marpet<br>Position:LG<br>Role:Pass Block",
            "nflId:44896.0<br>displayName:Chris Godwin<br>Position:LWR<br>Role:Pass Route",
            "nflId:46163.0<br>displayName:Alex Cappa<br>Position:RG<br>Role:Pass Block",
            "nflId:52421.0<br>displayName:Tristan Wirfs<br>Position:RT<br>Role:Pass Block",
            "nflId:52569.0<br>displayName:Tyler Johnson<br>Position:RWR<br>Role:Pass Route"
           ],
           "marker": {
            "color": "#D50A0A"
           },
           "mode": "markers",
           "name": "TB",
           "type": "scatter",
           "x": [
            67.66,
            52.92,
            62.48,
            64.54,
            50.69,
            67.52,
            67.07,
            52.73,
            66.1,
            67.31,
            52.49
           ],
           "y": [
            30.54,
            11.63,
            34.51,
            28.89,
            44.71,
            28,
            27.46,
            8.04,
            32.11,
            32.01,
            46.49
           ]
          },
          {
           "hoverinfo": "text",
           "hovertext": [
            "nflId:41263.0<br>displayName:Demarcus Lawrence<br>Position:NLT<br>Role:Pass Rush",
            "nflId:42403.0<br>displayName:Randy Gregory<br>Position:ROLB<br>Role:Pass Rush",
            "nflId:43306.0<br>displayName:Keanu Neal<br>Position:LLB<br>Role:Coverage",
            "nflId:43478.0<br>displayName:Anthony Brown<br>Position:RCB<br>Role:Coverage",
            "nflId:43498.0<br>displayName:Maurice Canady<br>Position:SCBL<br>Role:Coverage",
            "nflId:43533.0<br>displayName:Jayron Kearse<br>Position:FS<br>Role:Coverage",
            "nflId:44904.0<br>displayName:Jourdan Lewis<br>Position:SCBR<br>Role:Coverage",
            "nflId:44962.0<br>displayName:Damontae Kazee<br>Position:FSL<br>Role:Coverage",
            "nflId:47996.0<br>displayName:Donovan Wilson<br>Position:FSR<br>Role:Coverage",
            "nflId:52459.0<br>displayName:Trevon Diggs<br>Position:LCB<br>Role:Coverage",
            "nflId:53441.0<br>displayName:Micah Parsons<br>Position:LOLB<br>Role:Pass Rush"
           ],
           "marker": {
            "color": "#003594"
           },
           "mode": "markers",
           "name": "DAL",
           "type": "scatter",
           "x": [
            65.47,
            67.93,
            55,
            51.81,
            50.42,
            26.5,
            52.92,
            35.93,
            32.88,
            49.46,
            66.87
           ],
           "y": [
            28.55,
            27.46,
            37.19,
            7.62,
            43.08,
            30.39,
            12.32,
            46.65,
            13.01,
            46.61,
            31.53
           ]
          },
          {
           "hoverinfo": "none",
           "marker": {
            "color": "#CBB67C"
           },
           "mode": "markers",
           "name": "football",
           "type": "scatter",
           "x": [
            62.68
           ],
           "y": [
            38.73
           ]
          }
         ],
         "name": "29"
        },
        {
         "data": [
          {
           "hoverinfo": "none",
           "mode": "text",
           "showlegend": false,
           "text": [
            "10",
            "20",
            "30",
            "40",
            "50",
            "40",
            "30",
            "20",
            "10"
           ],
           "textfont": {
            "color": "#ffffff",
            "family": "Courier New, monospace",
            "size": 30
           },
           "type": "scatter",
           "x": [
            20,
            30,
            40,
            50,
            60,
            70,
            80,
            90,
            100
           ],
           "y": [
            5,
            5,
            5,
            5,
            5,
            5,
            5,
            5,
            5
           ]
          },
          {
           "hoverinfo": "none",
           "mode": "text",
           "showlegend": false,
           "text": [
            "10",
            "20",
            "30",
            "40",
            "50",
            "40",
            "30",
            "20",
            "10"
           ],
           "textfont": {
            "color": "#ffffff",
            "family": "Courier New, monospace",
            "size": 30
           },
           "type": "scatter",
           "x": [
            20,
            30,
            40,
            50,
            60,
            70,
            80,
            90,
            100
           ],
           "y": [
            48.5,
            48.5,
            48.5,
            48.5,
            48.5,
            48.5,
            48.5,
            48.5,
            48.5
           ]
          },
          {
           "hoverinfo": "none",
           "line": {
            "color": "blue",
            "dash": "dash"
           },
           "showlegend": false,
           "type": "scatter",
           "x": [
            60,
            60
           ],
           "y": [
            0,
            53.5
           ]
          },
          {
           "hoverinfo": "none",
           "line": {
            "color": "yellow",
            "dash": "dash"
           },
           "showlegend": false,
           "type": "scatter",
           "x": [
            70,
            70
           ],
           "y": [
            0,
            53.5
           ]
          },
          {
           "hoverinfo": "text",
           "hovertext": [
            "nflId:25511.0<br>displayName:Tom Brady<br>Position:QB<br>Role:Pass",
            "nflId:35634.0<br>displayName:Antonio Brown<br>Position:SLWR<br>Role:Pass Route",
            "nflId:39985.0<br>displayName:Giovani Bernard<br>Position:HB-R<br>Role:Pass Route",
            "nflId:40151.0<br>displayName:Ryan Jensen<br>Position:C<br>Role:Pass Block",
            "nflId:41233.0<br>displayName:Mike Evans<br>Position:SRWR<br>Role:Pass Route",
            "nflId:42377.0<br>displayName:Donovan Smith<br>Position:LT<br>Role:Pass Block",
            "nflId:42404.0<br>displayName:Ali Marpet<br>Position:LG<br>Role:Pass Block",
            "nflId:44896.0<br>displayName:Chris Godwin<br>Position:LWR<br>Role:Pass Route",
            "nflId:46163.0<br>displayName:Alex Cappa<br>Position:RG<br>Role:Pass Block",
            "nflId:52421.0<br>displayName:Tristan Wirfs<br>Position:RT<br>Role:Pass Block",
            "nflId:52569.0<br>displayName:Tyler Johnson<br>Position:RWR<br>Role:Pass Route"
           ],
           "marker": {
            "color": "#D50A0A"
           },
           "mode": "markers",
           "name": "TB",
           "type": "scatter",
           "x": [
            67.71,
            52.26,
            62.13,
            64.59,
            50.06,
            67.76,
            67.41,
            52.22,
            66.4,
            67.51,
            51.9
           ],
           "y": [
            30.47,
            11.46,
            34.51,
            28.71,
            45,
            28.05,
            27.41,
            7.71,
            32.14,
            31.79,
            46.92
           ]
          },
          {
           "hoverinfo": "text",
           "hovertext": [
            "nflId:41263.0<br>displayName:Demarcus Lawrence<br>Position:NLT<br>Role:Pass Rush",
            "nflId:42403.0<br>displayName:Randy Gregory<br>Position:ROLB<br>Role:Pass Rush",
            "nflId:43306.0<br>displayName:Keanu Neal<br>Position:LLB<br>Role:Coverage",
            "nflId:43478.0<br>displayName:Anthony Brown<br>Position:RCB<br>Role:Coverage",
            "nflId:43498.0<br>displayName:Maurice Canady<br>Position:SCBL<br>Role:Coverage",
            "nflId:43533.0<br>displayName:Jayron Kearse<br>Position:FS<br>Role:Coverage",
            "nflId:44904.0<br>displayName:Jourdan Lewis<br>Position:SCBR<br>Role:Coverage",
            "nflId:44962.0<br>displayName:Damontae Kazee<br>Position:FSL<br>Role:Coverage",
            "nflId:47996.0<br>displayName:Donovan Wilson<br>Position:FSR<br>Role:Coverage",
            "nflId:52459.0<br>displayName:Trevon Diggs<br>Position:LCB<br>Role:Coverage",
            "nflId:53441.0<br>displayName:Micah Parsons<br>Position:LOLB<br>Role:Pass Rush"
           ],
           "marker": {
            "color": "#003594"
           },
           "mode": "markers",
           "name": "DAL",
           "type": "scatter",
           "x": [
            65.85,
            68.26,
            54.99,
            51.21,
            49.87,
            26.49,
            52.4,
            35.91,
            32.76,
            49.22,
            67.08
           ],
           "y": [
            28.46,
            27.58,
            37.47,
            7.36,
            43.19,
            30.57,
            11.99,
            46.87,
            13.2,
            46.99,
            31.28
           ]
          },
          {
           "hoverinfo": "none",
           "marker": {
            "color": "#CBB67C"
           },
           "mode": "markers",
           "name": "football",
           "type": "scatter",
           "x": [
            61.31
           ],
           "y": [
            40.69
           ]
          }
         ],
         "name": "30"
        }
       ],
       "layout": {
        "annotations": [
         {
          "align": "center",
          "bgcolor": "#ff7f0e",
          "bordercolor": "black",
          "borderpad": 4,
          "borderwidth": 2,
          "font": {
           "color": "black",
           "family": "Courier New, monospace",
           "size": 16
          },
          "opacity": 1,
          "showarrow": false,
          "text": "2",
          "x": 70,
          "y": 0
         },
         {
          "align": "center",
          "bgcolor": "#ff7f0e",
          "bordercolor": "black",
          "borderpad": 4,
          "borderwidth": 2,
          "font": {
           "color": "black",
           "family": "Courier New, monospace",
           "size": 16
          },
          "opacity": 1,
          "showarrow": false,
          "text": "2",
          "x": 70,
          "y": 53
         }
        ],
        "autosize": false,
        "height": 600,
        "plot_bgcolor": "#00B140",
        "sliders": [
         {
          "active": 0,
          "currentvalue": {
           "font": {
            "size": 20
           },
           "prefix": "Frame:",
           "visible": true,
           "xanchor": "right"
          },
          "len": 0.9,
          "pad": {
           "b": 10,
           "t": 50
          },
          "steps": [
           {
            "args": [
             [
              1
             ],
             {
              "frame": {
               "duration": 100,
               "redraw": false
              },
              "mode": "immediate",
              "transition": {
               "duration": 0
              }
             }
            ],
            "label": "1",
            "method": "animate"
           },
           {
            "args": [
             [
              2
             ],
             {
              "frame": {
               "duration": 100,
               "redraw": false
              },
              "mode": "immediate",
              "transition": {
               "duration": 0
              }
             }
            ],
            "label": "2",
            "method": "animate"
           },
           {
            "args": [
             [
              3
             ],
             {
              "frame": {
               "duration": 100,
               "redraw": false
              },
              "mode": "immediate",
              "transition": {
               "duration": 0
              }
             }
            ],
            "label": "3",
            "method": "animate"
           },
           {
            "args": [
             [
              4
             ],
             {
              "frame": {
               "duration": 100,
               "redraw": false
              },
              "mode": "immediate",
              "transition": {
               "duration": 0
              }
             }
            ],
            "label": "4",
            "method": "animate"
           },
           {
            "args": [
             [
              5
             ],
             {
              "frame": {
               "duration": 100,
               "redraw": false
              },
              "mode": "immediate",
              "transition": {
               "duration": 0
              }
             }
            ],
            "label": "5",
            "method": "animate"
           },
           {
            "args": [
             [
              6
             ],
             {
              "frame": {
               "duration": 100,
               "redraw": false
              },
              "mode": "immediate",
              "transition": {
               "duration": 0
              }
             }
            ],
            "label": "6",
            "method": "animate"
           },
           {
            "args": [
             [
              7
             ],
             {
              "frame": {
               "duration": 100,
               "redraw": false
              },
              "mode": "immediate",
              "transition": {
               "duration": 0
              }
             }
            ],
            "label": "7",
            "method": "animate"
           },
           {
            "args": [
             [
              8
             ],
             {
              "frame": {
               "duration": 100,
               "redraw": false
              },
              "mode": "immediate",
              "transition": {
               "duration": 0
              }
             }
            ],
            "label": "8",
            "method": "animate"
           },
           {
            "args": [
             [
              9
             ],
             {
              "frame": {
               "duration": 100,
               "redraw": false
              },
              "mode": "immediate",
              "transition": {
               "duration": 0
              }
             }
            ],
            "label": "9",
            "method": "animate"
           },
           {
            "args": [
             [
              10
             ],
             {
              "frame": {
               "duration": 100,
               "redraw": false
              },
              "mode": "immediate",
              "transition": {
               "duration": 0
              }
             }
            ],
            "label": "10",
            "method": "animate"
           },
           {
            "args": [
             [
              11
             ],
             {
              "frame": {
               "duration": 100,
               "redraw": false
              },
              "mode": "immediate",
              "transition": {
               "duration": 0
              }
             }
            ],
            "label": "11",
            "method": "animate"
           },
           {
            "args": [
             [
              12
             ],
             {
              "frame": {
               "duration": 100,
               "redraw": false
              },
              "mode": "immediate",
              "transition": {
               "duration": 0
              }
             }
            ],
            "label": "12",
            "method": "animate"
           },
           {
            "args": [
             [
              13
             ],
             {
              "frame": {
               "duration": 100,
               "redraw": false
              },
              "mode": "immediate",
              "transition": {
               "duration": 0
              }
             }
            ],
            "label": "13",
            "method": "animate"
           },
           {
            "args": [
             [
              14
             ],
             {
              "frame": {
               "duration": 100,
               "redraw": false
              },
              "mode": "immediate",
              "transition": {
               "duration": 0
              }
             }
            ],
            "label": "14",
            "method": "animate"
           },
           {
            "args": [
             [
              15
             ],
             {
              "frame": {
               "duration": 100,
               "redraw": false
              },
              "mode": "immediate",
              "transition": {
               "duration": 0
              }
             }
            ],
            "label": "15",
            "method": "animate"
           },
           {
            "args": [
             [
              16
             ],
             {
              "frame": {
               "duration": 100,
               "redraw": false
              },
              "mode": "immediate",
              "transition": {
               "duration": 0
              }
             }
            ],
            "label": "16",
            "method": "animate"
           },
           {
            "args": [
             [
              17
             ],
             {
              "frame": {
               "duration": 100,
               "redraw": false
              },
              "mode": "immediate",
              "transition": {
               "duration": 0
              }
             }
            ],
            "label": "17",
            "method": "animate"
           },
           {
            "args": [
             [
              18
             ],
             {
              "frame": {
               "duration": 100,
               "redraw": false
              },
              "mode": "immediate",
              "transition": {
               "duration": 0
              }
             }
            ],
            "label": "18",
            "method": "animate"
           },
           {
            "args": [
             [
              19
             ],
             {
              "frame": {
               "duration": 100,
               "redraw": false
              },
              "mode": "immediate",
              "transition": {
               "duration": 0
              }
             }
            ],
            "label": "19",
            "method": "animate"
           },
           {
            "args": [
             [
              20
             ],
             {
              "frame": {
               "duration": 100,
               "redraw": false
              },
              "mode": "immediate",
              "transition": {
               "duration": 0
              }
             }
            ],
            "label": "20",
            "method": "animate"
           },
           {
            "args": [
             [
              21
             ],
             {
              "frame": {
               "duration": 100,
               "redraw": false
              },
              "mode": "immediate",
              "transition": {
               "duration": 0
              }
             }
            ],
            "label": "21",
            "method": "animate"
           },
           {
            "args": [
             [
              22
             ],
             {
              "frame": {
               "duration": 100,
               "redraw": false
              },
              "mode": "immediate",
              "transition": {
               "duration": 0
              }
             }
            ],
            "label": "22",
            "method": "animate"
           },
           {
            "args": [
             [
              23
             ],
             {
              "frame": {
               "duration": 100,
               "redraw": false
              },
              "mode": "immediate",
              "transition": {
               "duration": 0
              }
             }
            ],
            "label": "23",
            "method": "animate"
           },
           {
            "args": [
             [
              24
             ],
             {
              "frame": {
               "duration": 100,
               "redraw": false
              },
              "mode": "immediate",
              "transition": {
               "duration": 0
              }
             }
            ],
            "label": "24",
            "method": "animate"
           },
           {
            "args": [
             [
              25
             ],
             {
              "frame": {
               "duration": 100,
               "redraw": false
              },
              "mode": "immediate",
              "transition": {
               "duration": 0
              }
             }
            ],
            "label": "25",
            "method": "animate"
           },
           {
            "args": [
             [
              26
             ],
             {
              "frame": {
               "duration": 100,
               "redraw": false
              },
              "mode": "immediate",
              "transition": {
               "duration": 0
              }
             }
            ],
            "label": "26",
            "method": "animate"
           },
           {
            "args": [
             [
              27
             ],
             {
              "frame": {
               "duration": 100,
               "redraw": false
              },
              "mode": "immediate",
              "transition": {
               "duration": 0
              }
             }
            ],
            "label": "27",
            "method": "animate"
           },
           {
            "args": [
             [
              28
             ],
             {
              "frame": {
               "duration": 100,
               "redraw": false
              },
              "mode": "immediate",
              "transition": {
               "duration": 0
              }
             }
            ],
            "label": "28",
            "method": "animate"
           },
           {
            "args": [
             [
              29
             ],
             {
              "frame": {
               "duration": 100,
               "redraw": false
              },
              "mode": "immediate",
              "transition": {
               "duration": 0
              }
             }
            ],
            "label": "29",
            "method": "animate"
           },
           {
            "args": [
             [
              30
             ],
             {
              "frame": {
               "duration": 100,
               "redraw": false
              },
              "mode": "immediate",
              "transition": {
               "duration": 0
              }
             }
            ],
            "label": "30",
            "method": "animate"
           }
          ],
          "transition": {
           "duration": 300,
           "easing": "cubic-in-out"
          },
          "x": 0.1,
          "xanchor": "left",
          "y": 0,
          "yanchor": "top"
         }
        ],
        "template": {
         "data": {
          "bar": [
           {
            "error_x": {
             "color": "#2a3f5f"
            },
            "error_y": {
             "color": "#2a3f5f"
            },
            "marker": {
             "line": {
              "color": "#E5ECF6",
              "width": 0.5
             },
             "pattern": {
              "fillmode": "overlay",
              "size": 10,
              "solidity": 0.2
             }
            },
            "type": "bar"
           }
          ],
          "barpolar": [
           {
            "marker": {
             "line": {
              "color": "#E5ECF6",
              "width": 0.5
             },
             "pattern": {
              "fillmode": "overlay",
              "size": 10,
              "solidity": 0.2
             }
            },
            "type": "barpolar"
           }
          ],
          "carpet": [
           {
            "aaxis": {
             "endlinecolor": "#2a3f5f",
             "gridcolor": "white",
             "linecolor": "white",
             "minorgridcolor": "white",
             "startlinecolor": "#2a3f5f"
            },
            "baxis": {
             "endlinecolor": "#2a3f5f",
             "gridcolor": "white",
             "linecolor": "white",
             "minorgridcolor": "white",
             "startlinecolor": "#2a3f5f"
            },
            "type": "carpet"
           }
          ],
          "choropleth": [
           {
            "colorbar": {
             "outlinewidth": 0,
             "ticks": ""
            },
            "type": "choropleth"
           }
          ],
          "contour": [
           {
            "colorbar": {
             "outlinewidth": 0,
             "ticks": ""
            },
            "colorscale": [
             [
              0,
              "#0d0887"
             ],
             [
              0.1111111111111111,
              "#46039f"
             ],
             [
              0.2222222222222222,
              "#7201a8"
             ],
             [
              0.3333333333333333,
              "#9c179e"
             ],
             [
              0.4444444444444444,
              "#bd3786"
             ],
             [
              0.5555555555555556,
              "#d8576b"
             ],
             [
              0.6666666666666666,
              "#ed7953"
             ],
             [
              0.7777777777777778,
              "#fb9f3a"
             ],
             [
              0.8888888888888888,
              "#fdca26"
             ],
             [
              1,
              "#f0f921"
             ]
            ],
            "type": "contour"
           }
          ],
          "contourcarpet": [
           {
            "colorbar": {
             "outlinewidth": 0,
             "ticks": ""
            },
            "type": "contourcarpet"
           }
          ],
          "heatmap": [
           {
            "colorbar": {
             "outlinewidth": 0,
             "ticks": ""
            },
            "colorscale": [
             [
              0,
              "#0d0887"
             ],
             [
              0.1111111111111111,
              "#46039f"
             ],
             [
              0.2222222222222222,
              "#7201a8"
             ],
             [
              0.3333333333333333,
              "#9c179e"
             ],
             [
              0.4444444444444444,
              "#bd3786"
             ],
             [
              0.5555555555555556,
              "#d8576b"
             ],
             [
              0.6666666666666666,
              "#ed7953"
             ],
             [
              0.7777777777777778,
              "#fb9f3a"
             ],
             [
              0.8888888888888888,
              "#fdca26"
             ],
             [
              1,
              "#f0f921"
             ]
            ],
            "type": "heatmap"
           }
          ],
          "heatmapgl": [
           {
            "colorbar": {
             "outlinewidth": 0,
             "ticks": ""
            },
            "colorscale": [
             [
              0,
              "#0d0887"
             ],
             [
              0.1111111111111111,
              "#46039f"
             ],
             [
              0.2222222222222222,
              "#7201a8"
             ],
             [
              0.3333333333333333,
              "#9c179e"
             ],
             [
              0.4444444444444444,
              "#bd3786"
             ],
             [
              0.5555555555555556,
              "#d8576b"
             ],
             [
              0.6666666666666666,
              "#ed7953"
             ],
             [
              0.7777777777777778,
              "#fb9f3a"
             ],
             [
              0.8888888888888888,
              "#fdca26"
             ],
             [
              1,
              "#f0f921"
             ]
            ],
            "type": "heatmapgl"
           }
          ],
          "histogram": [
           {
            "marker": {
             "pattern": {
              "fillmode": "overlay",
              "size": 10,
              "solidity": 0.2
             }
            },
            "type": "histogram"
           }
          ],
          "histogram2d": [
           {
            "colorbar": {
             "outlinewidth": 0,
             "ticks": ""
            },
            "colorscale": [
             [
              0,
              "#0d0887"
             ],
             [
              0.1111111111111111,
              "#46039f"
             ],
             [
              0.2222222222222222,
              "#7201a8"
             ],
             [
              0.3333333333333333,
              "#9c179e"
             ],
             [
              0.4444444444444444,
              "#bd3786"
             ],
             [
              0.5555555555555556,
              "#d8576b"
             ],
             [
              0.6666666666666666,
              "#ed7953"
             ],
             [
              0.7777777777777778,
              "#fb9f3a"
             ],
             [
              0.8888888888888888,
              "#fdca26"
             ],
             [
              1,
              "#f0f921"
             ]
            ],
            "type": "histogram2d"
           }
          ],
          "histogram2dcontour": [
           {
            "colorbar": {
             "outlinewidth": 0,
             "ticks": ""
            },
            "colorscale": [
             [
              0,
              "#0d0887"
             ],
             [
              0.1111111111111111,
              "#46039f"
             ],
             [
              0.2222222222222222,
              "#7201a8"
             ],
             [
              0.3333333333333333,
              "#9c179e"
             ],
             [
              0.4444444444444444,
              "#bd3786"
             ],
             [
              0.5555555555555556,
              "#d8576b"
             ],
             [
              0.6666666666666666,
              "#ed7953"
             ],
             [
              0.7777777777777778,
              "#fb9f3a"
             ],
             [
              0.8888888888888888,
              "#fdca26"
             ],
             [
              1,
              "#f0f921"
             ]
            ],
            "type": "histogram2dcontour"
           }
          ],
          "mesh3d": [
           {
            "colorbar": {
             "outlinewidth": 0,
             "ticks": ""
            },
            "type": "mesh3d"
           }
          ],
          "parcoords": [
           {
            "line": {
             "colorbar": {
              "outlinewidth": 0,
              "ticks": ""
             }
            },
            "type": "parcoords"
           }
          ],
          "pie": [
           {
            "automargin": true,
            "type": "pie"
           }
          ],
          "scatter": [
           {
            "fillpattern": {
             "fillmode": "overlay",
             "size": 10,
             "solidity": 0.2
            },
            "type": "scatter"
           }
          ],
          "scatter3d": [
           {
            "line": {
             "colorbar": {
              "outlinewidth": 0,
              "ticks": ""
             }
            },
            "marker": {
             "colorbar": {
              "outlinewidth": 0,
              "ticks": ""
             }
            },
            "type": "scatter3d"
           }
          ],
          "scattercarpet": [
           {
            "marker": {
             "colorbar": {
              "outlinewidth": 0,
              "ticks": ""
             }
            },
            "type": "scattercarpet"
           }
          ],
          "scattergeo": [
           {
            "marker": {
             "colorbar": {
              "outlinewidth": 0,
              "ticks": ""
             }
            },
            "type": "scattergeo"
           }
          ],
          "scattergl": [
           {
            "marker": {
             "colorbar": {
              "outlinewidth": 0,
              "ticks": ""
             }
            },
            "type": "scattergl"
           }
          ],
          "scattermapbox": [
           {
            "marker": {
             "colorbar": {
              "outlinewidth": 0,
              "ticks": ""
             }
            },
            "type": "scattermapbox"
           }
          ],
          "scatterpolar": [
           {
            "marker": {
             "colorbar": {
              "outlinewidth": 0,
              "ticks": ""
             }
            },
            "type": "scatterpolar"
           }
          ],
          "scatterpolargl": [
           {
            "marker": {
             "colorbar": {
              "outlinewidth": 0,
              "ticks": ""
             }
            },
            "type": "scatterpolargl"
           }
          ],
          "scatterternary": [
           {
            "marker": {
             "colorbar": {
              "outlinewidth": 0,
              "ticks": ""
             }
            },
            "type": "scatterternary"
           }
          ],
          "surface": [
           {
            "colorbar": {
             "outlinewidth": 0,
             "ticks": ""
            },
            "colorscale": [
             [
              0,
              "#0d0887"
             ],
             [
              0.1111111111111111,
              "#46039f"
             ],
             [
              0.2222222222222222,
              "#7201a8"
             ],
             [
              0.3333333333333333,
              "#9c179e"
             ],
             [
              0.4444444444444444,
              "#bd3786"
             ],
             [
              0.5555555555555556,
              "#d8576b"
             ],
             [
              0.6666666666666666,
              "#ed7953"
             ],
             [
              0.7777777777777778,
              "#fb9f3a"
             ],
             [
              0.8888888888888888,
              "#fdca26"
             ],
             [
              1,
              "#f0f921"
             ]
            ],
            "type": "surface"
           }
          ],
          "table": [
           {
            "cells": {
             "fill": {
              "color": "#EBF0F8"
             },
             "line": {
              "color": "white"
             }
            },
            "header": {
             "fill": {
              "color": "#C8D4E3"
             },
             "line": {
              "color": "white"
             }
            },
            "type": "table"
           }
          ]
         },
         "layout": {
          "annotationdefaults": {
           "arrowcolor": "#2a3f5f",
           "arrowhead": 0,
           "arrowwidth": 1
          },
          "autotypenumbers": "strict",
          "coloraxis": {
           "colorbar": {
            "outlinewidth": 0,
            "ticks": ""
           }
          },
          "colorscale": {
           "diverging": [
            [
             0,
             "#8e0152"
            ],
            [
             0.1,
             "#c51b7d"
            ],
            [
             0.2,
             "#de77ae"
            ],
            [
             0.3,
             "#f1b6da"
            ],
            [
             0.4,
             "#fde0ef"
            ],
            [
             0.5,
             "#f7f7f7"
            ],
            [
             0.6,
             "#e6f5d0"
            ],
            [
             0.7,
             "#b8e186"
            ],
            [
             0.8,
             "#7fbc41"
            ],
            [
             0.9,
             "#4d9221"
            ],
            [
             1,
             "#276419"
            ]
           ],
           "sequential": [
            [
             0,
             "#0d0887"
            ],
            [
             0.1111111111111111,
             "#46039f"
            ],
            [
             0.2222222222222222,
             "#7201a8"
            ],
            [
             0.3333333333333333,
             "#9c179e"
            ],
            [
             0.4444444444444444,
             "#bd3786"
            ],
            [
             0.5555555555555556,
             "#d8576b"
            ],
            [
             0.6666666666666666,
             "#ed7953"
            ],
            [
             0.7777777777777778,
             "#fb9f3a"
            ],
            [
             0.8888888888888888,
             "#fdca26"
            ],
            [
             1,
             "#f0f921"
            ]
           ],
           "sequentialminus": [
            [
             0,
             "#0d0887"
            ],
            [
             0.1111111111111111,
             "#46039f"
            ],
            [
             0.2222222222222222,
             "#7201a8"
            ],
            [
             0.3333333333333333,
             "#9c179e"
            ],
            [
             0.4444444444444444,
             "#bd3786"
            ],
            [
             0.5555555555555556,
             "#d8576b"
            ],
            [
             0.6666666666666666,
             "#ed7953"
            ],
            [
             0.7777777777777778,
             "#fb9f3a"
            ],
            [
             0.8888888888888888,
             "#fdca26"
            ],
            [
             1,
             "#f0f921"
            ]
           ]
          },
          "colorway": [
           "#636efa",
           "#EF553B",
           "#00cc96",
           "#ab63fa",
           "#FFA15A",
           "#19d3f3",
           "#FF6692",
           "#B6E880",
           "#FF97FF",
           "#FECB52"
          ],
          "font": {
           "color": "#2a3f5f"
          },
          "geo": {
           "bgcolor": "white",
           "lakecolor": "white",
           "landcolor": "#E5ECF6",
           "showlakes": true,
           "showland": true,
           "subunitcolor": "white"
          },
          "hoverlabel": {
           "align": "left"
          },
          "hovermode": "closest",
          "mapbox": {
           "style": "light"
          },
          "paper_bgcolor": "white",
          "plot_bgcolor": "#E5ECF6",
          "polar": {
           "angularaxis": {
            "gridcolor": "white",
            "linecolor": "white",
            "ticks": ""
           },
           "bgcolor": "#E5ECF6",
           "radialaxis": {
            "gridcolor": "white",
            "linecolor": "white",
            "ticks": ""
           }
          },
          "scene": {
           "xaxis": {
            "backgroundcolor": "#E5ECF6",
            "gridcolor": "white",
            "gridwidth": 2,
            "linecolor": "white",
            "showbackground": true,
            "ticks": "",
            "zerolinecolor": "white"
           },
           "yaxis": {
            "backgroundcolor": "#E5ECF6",
            "gridcolor": "white",
            "gridwidth": 2,
            "linecolor": "white",
            "showbackground": true,
            "ticks": "",
            "zerolinecolor": "white"
           },
           "zaxis": {
            "backgroundcolor": "#E5ECF6",
            "gridcolor": "white",
            "gridwidth": 2,
            "linecolor": "white",
            "showbackground": true,
            "ticks": "",
            "zerolinecolor": "white"
           }
          },
          "shapedefaults": {
           "line": {
            "color": "#2a3f5f"
           }
          },
          "ternary": {
           "aaxis": {
            "gridcolor": "white",
            "linecolor": "white",
            "ticks": ""
           },
           "baxis": {
            "gridcolor": "white",
            "linecolor": "white",
            "ticks": ""
           },
           "bgcolor": "#E5ECF6",
           "caxis": {
            "gridcolor": "white",
            "linecolor": "white",
            "ticks": ""
           }
          },
          "title": {
           "x": 0.05
          },
          "xaxis": {
           "automargin": true,
           "gridcolor": "white",
           "linecolor": "white",
           "ticks": "",
           "title": {
            "standoff": 15
           },
           "zerolinecolor": "white",
           "zerolinewidth": 2
          },
          "yaxis": {
           "automargin": true,
           "gridcolor": "white",
           "linecolor": "white",
           "ticks": "",
           "title": {
            "standoff": 15
           },
           "zerolinecolor": "white",
           "zerolinewidth": 2
          }
         }
        },
        "title": {
         "text": "GameId: 2021090900, PlayId: 2419<br>00:09 2Q<br><br><br><br><br><br><br><br><br><br><br><br><br><br><br><br><br><br><br>(:09) (Shotgun) T.Brady pass incomplete short right to T.Johnson [M.Parsons]."
        },
        "updatemenus": [
         {
          "buttons": [
           {
            "args": [
             null,
             {
              "frame": {
               "duration": 100,
               "redraw": false
              },
              "fromcurrent": true,
              "transition": {
               "duration": 0
              }
             }
            ],
            "label": "Play",
            "method": "animate"
           },
           {
            "args": [
             [
              null
             ],
             {
              "frame": {
               "duration": 0,
               "redraw": false
              },
              "mode": "immediate",
              "transition": {
               "duration": 0
              }
             }
            ],
            "label": "Pause",
            "method": "animate"
           }
          ],
          "direction": "left",
          "pad": {
           "r": 10,
           "t": 87
          },
          "showactive": false,
          "type": "buttons",
          "x": 0.1,
          "xanchor": "right",
          "y": 0,
          "yanchor": "top"
         }
        ],
        "width": 1200,
        "xaxis": {
         "autorange": false,
         "range": [
          0,
          120
         ],
         "showticklabels": false,
         "tickmode": "array",
         "tickvals": [
          10,
          15,
          20,
          25,
          30,
          35,
          40,
          45,
          50,
          55,
          60,
          65,
          70,
          75,
          80,
          85,
          90,
          95,
          100,
          105,
          110
         ]
        },
        "yaxis": {
         "autorange": false,
         "range": [
          0,
          53.3
         ],
         "showgrid": false,
         "showticklabels": false
        }
       }
      }
     },
     "metadata": {},
     "output_type": "display_data"
    }
   ],
   "source": [
    "playId_num = 2419\n",
    "gameId = 2021090900\n",
    "animate_play(week1, plays, players, pffScoutingData, gameId, playId_num).show()"
   ]
  }
 ],
 "metadata": {
  "kernelspec": {
   "display_name": "Python 3.10.0 64-bit",
   "language": "python",
   "name": "python3"
  },
  "language_info": {
   "codemirror_mode": {
    "name": "ipython",
    "version": 3
   },
   "file_extension": ".py",
   "mimetype": "text/x-python",
   "name": "python",
   "nbconvert_exporter": "python",
   "pygments_lexer": "ipython3",
   "version": "3.10.0"
  },
  "orig_nbformat": 4,
  "vscode": {
   "interpreter": {
    "hash": "369f2c481f4da34e4445cda3fffd2e751bd1c4d706f27375911949ba6bb62e1c"
   }
  }
 },
 "nbformat": 4,
 "nbformat_minor": 2
}

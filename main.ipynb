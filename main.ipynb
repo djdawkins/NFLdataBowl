{
 "cells": [
  {
   "cell_type": "markdown",
   "metadata": {},
   "source": [
    "# Animation stuff"
   ]
  },
  {
   "cell_type": "code",
   "execution_count": 80,
   "metadata": {},
   "outputs": [],
   "source": [
    "colors = {\n",
    "    'ARI':\"#97233F\", \n",
    "    'ATL':\"#A71930\", \n",
    "    'BAL':'#241773', \n",
    "    'BUF':\"#00338D\", \n",
    "    'CAR':\"#0085CA\", \n",
    "    'CHI':\"#C83803\", \n",
    "    'CIN':\"#FB4F14\", \n",
    "    'CLE':\"#311D00\", \n",
    "    'DAL':'#003594',\n",
    "    'DEN':\"#FB4F14\", \n",
    "    'DET':\"#0076B6\", \n",
    "    'GB':\"#203731\", \n",
    "    'HOU':\"#03202F\", \n",
    "    'IND':\"#002C5F\", \n",
    "    'JAX':\"#9F792C\", \n",
    "    'KC':\"#E31837\", \n",
    "    'LA':\"#003594\", \n",
    "    'LAC':\"#0080C6\", \n",
    "    'LV':\"#000000\",\n",
    "    'MIA':\"#008E97\", \n",
    "    'MIN':\"#4F2683\", \n",
    "    'NE':\"#002244\", \n",
    "    'NO':\"#D3BC8D\", \n",
    "    'NYG':\"#0B2265\", \n",
    "    'NYJ':\"#125740\", \n",
    "    'PHI':\"#004C54\", \n",
    "    'PIT':\"#FFB612\", \n",
    "    'SEA':\"#69BE28\", \n",
    "    'SF':\"#AA0000\",\n",
    "    'TB':'#D50A0A', \n",
    "    'TEN':\"#4B92DB\", \n",
    "    'WAS':\"#5A1414\", \n",
    "    'football':'#CBB67C'\n",
    "}"
   ]
  },
  {
   "cell_type": "code",
   "execution_count": 81,
   "metadata": {},
   "outputs": [],
   "source": [
    "#TODO:\n",
    "# Add Useful Player Labels\n",
    "# Add ability to keep or remove the extra stuff (line markers etc)\n",
    "# Add Team Colors to dict\n",
    "# Turn into Function \n",
    "\n",
    "def animate_play(tracking_df, play_df,players,pffScoutingData, gameId,playId):\n",
    "    selected_play_df = play_df[(play_df.playId==playId)&(play_df.gameId==gameId)].copy()\n",
    "    # selected_play_df = tracking_df\n",
    "    \n",
    "    # tracking_players_df = tracking_df\n",
    "    tracking_players_df = pd.merge(tracking_df,players,how=\"left\",on = \"nflId\")\n",
    "    tracking_players_df = pd.merge(tracking_players_df,pffScoutingData,how=\"left\",on = [\"nflId\",\"playId\",\"gameId\"])\n",
    "    selected_tracking_df = tracking_players_df[(tracking_players_df.playId==playId)&(tracking_players_df.gameId==gameId)].copy()\n",
    "\n",
    "    # selected_tracking_df = tracking_df\n",
    "    sorted_frame_list = selected_tracking_df.frameId.unique()\n",
    "    sorted_frame_list.sort()\n",
    "\n",
    "    # get play General information \n",
    "    line_of_scrimmage = selected_play_df.absoluteYardlineNumber.values[0]\n",
    "    first_down_marker = line_of_scrimmage + selected_play_df.yardsToGo.values[0]\n",
    "    down = selected_play_df.down.values[0]\n",
    "    quarter = selected_play_df.quarter.values[0]\n",
    "    gameClock = selected_play_df.gameClock.values[0]\n",
    "    playDescription = selected_play_df.playDescription.values[0]\n",
    "    # Handle case where we have a really long Play Description and want to split it into two lines\n",
    "    if len(playDescription.split(\" \"))>15 and len(playDescription)>115:\n",
    "        playDescription = \" \".join(playDescription.split(\" \")[0:16]) + \"<br>\" + \" \".join(playDescription.split(\" \")[16:])\n",
    "\n",
    "    # initialize plotly start and stop buttons for animation\n",
    "    updatemenus_dict = [\n",
    "        {\n",
    "            \"buttons\": [\n",
    "                {\n",
    "                    \"args\": [None, {\"frame\": {\"duration\": 100, \"redraw\": False},\n",
    "                                \"fromcurrent\": True, \"transition\": {\"duration\": 0}}],\n",
    "                    \"label\": \"Play\",\n",
    "                    \"method\": \"animate\"\n",
    "                },\n",
    "                {\n",
    "                    \"args\": [[None], {\"frame\": {\"duration\": 0, \"redraw\": False},\n",
    "                                      \"mode\": \"immediate\",\n",
    "                                      \"transition\": {\"duration\": 0}}],\n",
    "                    \"label\": \"Pause\",\n",
    "                    \"method\": \"animate\"\n",
    "                }\n",
    "            ],\n",
    "            \"direction\": \"left\",\n",
    "            \"pad\": {\"r\": 10, \"t\": 87},\n",
    "            \"showactive\": False,\n",
    "            \"type\": \"buttons\",\n",
    "            \"x\": 0.1,\n",
    "            \"xanchor\": \"right\",\n",
    "            \"y\": 0,\n",
    "            \"yanchor\": \"top\"\n",
    "        }\n",
    "    ]\n",
    "    # initialize plotly slider to show frame position in animation\n",
    "    sliders_dict = {\n",
    "        \"active\": 0,\n",
    "        \"yanchor\": \"top\",\n",
    "        \"xanchor\": \"left\",\n",
    "        \"currentvalue\": {\n",
    "            \"font\": {\"size\": 20},\n",
    "            \"prefix\": \"Frame:\",\n",
    "            \"visible\": True,\n",
    "            \"xanchor\": \"right\"\n",
    "        },\n",
    "        \"transition\": {\"duration\": 300, \"easing\": \"cubic-in-out\"},\n",
    "        \"pad\": {\"b\": 10, \"t\": 50},\n",
    "        \"len\": 0.9,\n",
    "        \"x\": 0.1,\n",
    "        \"y\": 0,\n",
    "        \"steps\": []\n",
    "    }\n",
    "\n",
    "\n",
    "    frames = []\n",
    "    for frameId in sorted_frame_list:\n",
    "        data = []\n",
    "        # Add Numbers to Field \n",
    "        data.append(\n",
    "            go.Scatter(\n",
    "                x=np.arange(20,110,10), \n",
    "                y=[5]*len(np.arange(20,110,10)),\n",
    "                mode='text',\n",
    "                text=list(map(str,list(np.arange(20, 61, 10)-10)+list(np.arange(40, 9, -10)))),\n",
    "                textfont_size = 30,\n",
    "                textfont_family = \"Courier New, monospace\",\n",
    "                textfont_color = \"#ffffff\",\n",
    "                showlegend=False,\n",
    "                hoverinfo='none'\n",
    "            )\n",
    "        )\n",
    "        data.append(\n",
    "            go.Scatter(\n",
    "                x=np.arange(20,110,10), \n",
    "                y=[53.5-5]*len(np.arange(20,110,10)),\n",
    "                mode='text',\n",
    "                text=list(map(str,list(np.arange(20, 61, 10)-10)+list(np.arange(40, 9, -10)))),\n",
    "                textfont_size = 30,\n",
    "                textfont_family = \"Courier New, monospace\",\n",
    "                textfont_color = \"#ffffff\",\n",
    "                showlegend=False,\n",
    "                hoverinfo='none'\n",
    "            )\n",
    "        )\n",
    "        # Add line of scrimage \n",
    "        data.append(\n",
    "            go.Scatter(\n",
    "                x=[line_of_scrimmage,line_of_scrimmage], \n",
    "                y=[0,53.5],\n",
    "                line_dash='dash',\n",
    "                line_color='blue',\n",
    "                showlegend=False,\n",
    "                hoverinfo='none'\n",
    "            )\n",
    "        )\n",
    "        # Add First down line \n",
    "        data.append(\n",
    "            go.Scatter(\n",
    "                x=[first_down_marker,first_down_marker], \n",
    "                y=[0,53.5],\n",
    "                line_dash='dash',\n",
    "                line_color='yellow',\n",
    "                showlegend=False,\n",
    "                hoverinfo='none'\n",
    "            )\n",
    "        )\n",
    "        # Plot Players\n",
    "        for team in selected_tracking_df.team.unique():\n",
    "            plot_df = selected_tracking_df[(selected_tracking_df.team==team)&(selected_tracking_df.frameId==frameId)].copy()\n",
    "            if team != \"football\":\n",
    "                hover_text_array=[]\n",
    "                for nflId in plot_df.nflId:\n",
    "                    selected_player_df = plot_df[plot_df.nflId==nflId]\n",
    "                    hover_text_array.append(\"nflId:{}<br>displayName:{}<br>Position:{}<br>Role:{}\".format(selected_player_df[\"nflId\"].values[0],\n",
    "                                                                                      selected_player_df[\"displayName\"].values[0],\n",
    "                                                                                      selected_player_df[\"pff_positionLinedUp\"].values[0],\n",
    "                                                                                      selected_player_df[\"pff_role\"].values[0],\n",
    "                                                                                      selected_player_df[\"pff_blockType\"].values[0]))\n",
    "                data.append(go.Scatter(x=plot_df[\"x\"], y=plot_df[\"y\"],mode = 'markers',marker_color=colors[team],name=team,hovertext=hover_text_array,hoverinfo=\"text\"))\n",
    "            else:\n",
    "                data.append(go.Scatter(x=plot_df[\"x\"], y=plot_df[\"y\"],mode = 'markers',marker_color=colors[team],name=team,hoverinfo='none'))\n",
    "        # add frame to slider\n",
    "        slider_step = {\"args\": [\n",
    "            [frameId],\n",
    "            {\"frame\": {\"duration\": 100, \"redraw\": False},\n",
    "             \"mode\": \"immediate\",\n",
    "             \"transition\": {\"duration\": 0}}\n",
    "        ],\n",
    "            \"label\": str(frameId),\n",
    "            \"method\": \"animate\"}\n",
    "        sliders_dict[\"steps\"].append(slider_step)\n",
    "        frames.append(go.Frame(data=data, name=str(frameId)))\n",
    "\n",
    "    scale=10\n",
    "    layout = go.Layout(\n",
    "        autosize=False,\n",
    "        width=120*scale,\n",
    "        height=60*scale,\n",
    "        xaxis=dict(range=[0, 120], autorange=False, tickmode='array',tickvals=np.arange(10, 111, 5).tolist(),showticklabels=False),\n",
    "        yaxis=dict(range=[0, 53.3], autorange=False,showgrid=False,showticklabels=False),\n",
    "\n",
    "        plot_bgcolor='#00B140',\n",
    "        # Create title and add play description at the bottom of the chart for better visual appeal\n",
    "        title=f\"GameId: {gameId}, PlayId: {playId}<br>{gameClock} {quarter}Q\"+\"<br>\"*19+f\"{playDescription}\",\n",
    "        updatemenus=updatemenus_dict,\n",
    "        sliders = [sliders_dict]\n",
    "    )\n",
    "\n",
    "    fig = go.Figure(\n",
    "        data=frames[0][\"data\"],\n",
    "        layout= layout,\n",
    "        frames=frames[1:]\n",
    "    )\n",
    "    # Create First Down Markers \n",
    "    for y_val in [0,53]:\n",
    "        fig.add_annotation(\n",
    "                x=first_down_marker,\n",
    "                y=y_val,\n",
    "                text=str(down),\n",
    "                showarrow=False,\n",
    "                font=dict(\n",
    "                    family=\"Courier New, monospace\",\n",
    "                    size=16,\n",
    "                    color=\"black\"\n",
    "                    ),\n",
    "                align=\"center\",\n",
    "                bordercolor=\"black\",\n",
    "                borderwidth=2,\n",
    "                borderpad=4,\n",
    "                bgcolor=\"#ff7f0e\",\n",
    "                opacity=1\n",
    "                )\n",
    "\n",
    "    return fig"
   ]
  },
  {
   "cell_type": "markdown",
   "metadata": {},
   "source": [
    "# All data"
   ]
  },
  {
   "cell_type": "markdown",
   "metadata": {},
   "source": [
    "### Imports"
   ]
  },
  {
   "cell_type": "code",
   "execution_count": 82,
   "metadata": {},
   "outputs": [],
   "source": [
    "import pandas as pd\n",
    "import matplotlib as mpl\n",
    "import matplotlib.pyplot as plt\n",
    "import numpy as np\n",
    "import datetime\n",
    "import missingno as msno\n",
    "import seaborn as sns\n",
    "import plotly.graph_objects as go"
   ]
  },
  {
   "cell_type": "markdown",
   "metadata": {},
   "source": [
    "### Read In csv's"
   ]
  },
  {
   "cell_type": "code",
   "execution_count": 83,
   "metadata": {},
   "outputs": [],
   "source": [
    "# Read In csvs\n",
    "games = pd.read_csv(\"./data/games.csv\")\n",
    "plays = pd.read_csv(\"./data/plays.csv\")\n",
    "players = pd.read_csv(\"./data/players.csv\")\n",
    "week1 = pd.read_csv(\"./data/week1.csv\")\n",
    "# week1_copy = pd.read_csv(\"./data/week1 copy.csv\")\n",
    "pffScoutingData = pd.read_csv(\"./data/pffScoutingData.csv\")\n",
    "# pffScoutingData = pd.read_csv(\"./data/pffScoutingData copy.csv\")"
   ]
  },
  {
   "cell_type": "code",
   "execution_count": 84,
   "metadata": {},
   "outputs": [],
   "source": [
    "# pffScoutingData['unit'] = np.where(pffScoutingData.pff_role.isin(['Coverage', 'Pass Rush']), \"def\", np.where(pffScoutingData.pff_role.isin(['Pass']), \"qb\", \"off\"))\n",
    "# pffScoutingData.to_csv('./data/pffScoutingData.csv', index=False)\n",
    "# pffScoutingData.head(9)"
   ]
  },
  {
   "cell_type": "code",
   "execution_count": 85,
   "metadata": {},
   "outputs": [],
   "source": [
    "# print(week1_copy.shape)\n",
    "# week1 = modify_week_file(week1_copy)\n",
    "# week1.to_csv('./data/week1.csv', index=False)\n",
    "\n",
    "# print(week1.shape)\n",
    "# print(week1.nflId.unique())\n",
    "# len(week1.nflId.unique())\n",
    "# print(week1.gameId.unique())"
   ]
  },
  {
   "cell_type": "markdown",
   "metadata": {},
   "source": [
    "### Join all data"
   ]
  },
  {
   "cell_type": "code",
   "execution_count": 86,
   "metadata": {},
   "outputs": [],
   "source": [
    "joined_all = pd.merge(games,plays,how=\"inner\",on = \"gameId\")\n",
    "joined_all = pd.merge(joined_all,week1,how=\"inner\",on=[\"gameId\",\"playId\"])\n",
    "# left join on players to keep football records\n",
    "joined_all = pd.merge(joined_all,players,how=\"left\",on = \"nflId\")\n",
    "joined_all = pd.merge(joined_all, pffScoutingData, how=\"left\",on = [\"nflId\",\"playId\",\"gameId\"])"
   ]
  },
  {
   "attachments": {},
   "cell_type": "markdown",
   "metadata": {},
   "source": [
    "### EDA"
   ]
  },
  {
   "cell_type": "code",
   "execution_count": 87,
   "metadata": {},
   "outputs": [
    {
     "data": {
      "text/html": [
       "<div>\n",
       "<style scoped>\n",
       "    .dataframe tbody tr th:only-of-type {\n",
       "        vertical-align: middle;\n",
       "    }\n",
       "\n",
       "    .dataframe tbody tr th {\n",
       "        vertical-align: top;\n",
       "    }\n",
       "\n",
       "    .dataframe thead th {\n",
       "        text-align: right;\n",
       "    }\n",
       "</style>\n",
       "<table border=\"1\" class=\"dataframe\">\n",
       "  <thead>\n",
       "    <tr style=\"text-align: right;\">\n",
       "      <th></th>\n",
       "      <th>gameId</th>\n",
       "      <th>season</th>\n",
       "      <th>week</th>\n",
       "      <th>gameDate</th>\n",
       "      <th>gameTimeEastern</th>\n",
       "      <th>homeTeamAbbr</th>\n",
       "      <th>visitorTeamAbbr</th>\n",
       "      <th>playId</th>\n",
       "      <th>playDescription</th>\n",
       "      <th>quarter</th>\n",
       "      <th>...</th>\n",
       "      <th>pff_hurry</th>\n",
       "      <th>pff_sack</th>\n",
       "      <th>pff_beatenByDefender</th>\n",
       "      <th>pff_hitAllowed</th>\n",
       "      <th>pff_hurryAllowed</th>\n",
       "      <th>pff_sackAllowed</th>\n",
       "      <th>pff_nflIdBlockedPlayer</th>\n",
       "      <th>pff_blockType</th>\n",
       "      <th>pff_backFieldBlock</th>\n",
       "      <th>unit</th>\n",
       "    </tr>\n",
       "  </thead>\n",
       "  <tbody>\n",
       "    <tr>\n",
       "      <th>0</th>\n",
       "      <td>2021090900</td>\n",
       "      <td>2021</td>\n",
       "      <td>1</td>\n",
       "      <td>09/09/2021</td>\n",
       "      <td>20:20:00</td>\n",
       "      <td>TB</td>\n",
       "      <td>DAL</td>\n",
       "      <td>97</td>\n",
       "      <td>(13:33) (Shotgun) T.Brady pass incomplete deep...</td>\n",
       "      <td>1</td>\n",
       "      <td>...</td>\n",
       "      <td>NaN</td>\n",
       "      <td>NaN</td>\n",
       "      <td>NaN</td>\n",
       "      <td>NaN</td>\n",
       "      <td>NaN</td>\n",
       "      <td>NaN</td>\n",
       "      <td>NaN</td>\n",
       "      <td>NaN</td>\n",
       "      <td>NaN</td>\n",
       "      <td>qb</td>\n",
       "    </tr>\n",
       "    <tr>\n",
       "      <th>1</th>\n",
       "      <td>2021090900</td>\n",
       "      <td>2021</td>\n",
       "      <td>1</td>\n",
       "      <td>09/09/2021</td>\n",
       "      <td>20:20:00</td>\n",
       "      <td>TB</td>\n",
       "      <td>DAL</td>\n",
       "      <td>97</td>\n",
       "      <td>(13:33) (Shotgun) T.Brady pass incomplete deep...</td>\n",
       "      <td>1</td>\n",
       "      <td>...</td>\n",
       "      <td>NaN</td>\n",
       "      <td>NaN</td>\n",
       "      <td>NaN</td>\n",
       "      <td>NaN</td>\n",
       "      <td>NaN</td>\n",
       "      <td>NaN</td>\n",
       "      <td>NaN</td>\n",
       "      <td>NaN</td>\n",
       "      <td>NaN</td>\n",
       "      <td>qb</td>\n",
       "    </tr>\n",
       "    <tr>\n",
       "      <th>2</th>\n",
       "      <td>2021090900</td>\n",
       "      <td>2021</td>\n",
       "      <td>1</td>\n",
       "      <td>09/09/2021</td>\n",
       "      <td>20:20:00</td>\n",
       "      <td>TB</td>\n",
       "      <td>DAL</td>\n",
       "      <td>97</td>\n",
       "      <td>(13:33) (Shotgun) T.Brady pass incomplete deep...</td>\n",
       "      <td>1</td>\n",
       "      <td>...</td>\n",
       "      <td>NaN</td>\n",
       "      <td>NaN</td>\n",
       "      <td>NaN</td>\n",
       "      <td>NaN</td>\n",
       "      <td>NaN</td>\n",
       "      <td>NaN</td>\n",
       "      <td>NaN</td>\n",
       "      <td>NaN</td>\n",
       "      <td>NaN</td>\n",
       "      <td>qb</td>\n",
       "    </tr>\n",
       "    <tr>\n",
       "      <th>3</th>\n",
       "      <td>2021090900</td>\n",
       "      <td>2021</td>\n",
       "      <td>1</td>\n",
       "      <td>09/09/2021</td>\n",
       "      <td>20:20:00</td>\n",
       "      <td>TB</td>\n",
       "      <td>DAL</td>\n",
       "      <td>97</td>\n",
       "      <td>(13:33) (Shotgun) T.Brady pass incomplete deep...</td>\n",
       "      <td>1</td>\n",
       "      <td>...</td>\n",
       "      <td>NaN</td>\n",
       "      <td>NaN</td>\n",
       "      <td>NaN</td>\n",
       "      <td>NaN</td>\n",
       "      <td>NaN</td>\n",
       "      <td>NaN</td>\n",
       "      <td>NaN</td>\n",
       "      <td>NaN</td>\n",
       "      <td>NaN</td>\n",
       "      <td>qb</td>\n",
       "    </tr>\n",
       "    <tr>\n",
       "      <th>4</th>\n",
       "      <td>2021090900</td>\n",
       "      <td>2021</td>\n",
       "      <td>1</td>\n",
       "      <td>09/09/2021</td>\n",
       "      <td>20:20:00</td>\n",
       "      <td>TB</td>\n",
       "      <td>DAL</td>\n",
       "      <td>97</td>\n",
       "      <td>(13:33) (Shotgun) T.Brady pass incomplete deep...</td>\n",
       "      <td>1</td>\n",
       "      <td>...</td>\n",
       "      <td>NaN</td>\n",
       "      <td>NaN</td>\n",
       "      <td>NaN</td>\n",
       "      <td>NaN</td>\n",
       "      <td>NaN</td>\n",
       "      <td>NaN</td>\n",
       "      <td>NaN</td>\n",
       "      <td>NaN</td>\n",
       "      <td>NaN</td>\n",
       "      <td>qb</td>\n",
       "    </tr>\n",
       "  </tbody>\n",
       "</table>\n",
       "<p>5 rows × 75 columns</p>\n",
       "</div>"
      ],
      "text/plain": [
       "       gameId  season  week    gameDate gameTimeEastern homeTeamAbbr  \\\n",
       "0  2021090900    2021     1  09/09/2021        20:20:00           TB   \n",
       "1  2021090900    2021     1  09/09/2021        20:20:00           TB   \n",
       "2  2021090900    2021     1  09/09/2021        20:20:00           TB   \n",
       "3  2021090900    2021     1  09/09/2021        20:20:00           TB   \n",
       "4  2021090900    2021     1  09/09/2021        20:20:00           TB   \n",
       "\n",
       "  visitorTeamAbbr  playId                                    playDescription  \\\n",
       "0             DAL      97  (13:33) (Shotgun) T.Brady pass incomplete deep...   \n",
       "1             DAL      97  (13:33) (Shotgun) T.Brady pass incomplete deep...   \n",
       "2             DAL      97  (13:33) (Shotgun) T.Brady pass incomplete deep...   \n",
       "3             DAL      97  (13:33) (Shotgun) T.Brady pass incomplete deep...   \n",
       "4             DAL      97  (13:33) (Shotgun) T.Brady pass incomplete deep...   \n",
       "\n",
       "   quarter  ...  pff_hurry  pff_sack pff_beatenByDefender pff_hitAllowed  \\\n",
       "0        1  ...        NaN       NaN                  NaN            NaN   \n",
       "1        1  ...        NaN       NaN                  NaN            NaN   \n",
       "2        1  ...        NaN       NaN                  NaN            NaN   \n",
       "3        1  ...        NaN       NaN                  NaN            NaN   \n",
       "4        1  ...        NaN       NaN                  NaN            NaN   \n",
       "\n",
       "  pff_hurryAllowed  pff_sackAllowed pff_nflIdBlockedPlayer  pff_blockType  \\\n",
       "0              NaN              NaN                    NaN            NaN   \n",
       "1              NaN              NaN                    NaN            NaN   \n",
       "2              NaN              NaN                    NaN            NaN   \n",
       "3              NaN              NaN                    NaN            NaN   \n",
       "4              NaN              NaN                    NaN            NaN   \n",
       "\n",
       "   pff_backFieldBlock unit  \n",
       "0                 NaN   qb  \n",
       "1                 NaN   qb  \n",
       "2                 NaN   qb  \n",
       "3                 NaN   qb  \n",
       "4                 NaN   qb  \n",
       "\n",
       "[5 rows x 75 columns]"
      ]
     },
     "execution_count": 87,
     "metadata": {},
     "output_type": "execute_result"
    }
   ],
   "source": [
    "id = 2021090900\n",
    "eda_df = joined_all[(joined_all.gameId==id)]\n",
    "\n",
    "eda_df.head()"
   ]
  },
  {
   "cell_type": "code",
   "execution_count": 88,
   "metadata": {},
   "outputs": [
    {
     "data": {
      "text/plain": [
       "PP    0.542224\n",
       "SW    0.110139\n",
       "PA    0.102903\n",
       "CL    0.077258\n",
       "PT    0.073182\n",
       "PU    0.025005\n",
       "NB    0.022806\n",
       "CH    0.016853\n",
       "SR    0.013464\n",
       "BH    0.008884\n",
       "UP    0.007282\n",
       "Name: pff_blockType, dtype: float64"
      ]
     },
     "execution_count": 88,
     "metadata": {},
     "output_type": "execute_result"
    }
   ],
   "source": [
    "eda_df.pff_blockType.value_counts()/eda_df.pff_blockType.value_counts().sum()"
   ]
  },
  {
   "cell_type": "code",
   "execution_count": 89,
   "metadata": {},
   "outputs": [
    {
     "name": "stderr",
     "output_type": "stream",
     "text": [
      "c:\\Python310\\lib\\site-packages\\seaborn\\_decorators.py:36: FutureWarning:\n",
      "\n",
      "Pass the following variables as keyword args: x, y. From version 0.12, the only valid positional argument will be `data`, and passing other arguments without an explicit keyword will result in an error or misinterpretation.\n",
      "\n"
     ]
    },
    {
     "data": {
      "text/plain": [
       "<AxesSubplot:ylabel='pff_blockType'>"
      ]
     },
     "execution_count": 89,
     "metadata": {},
     "output_type": "execute_result"
    },
    {
     "data": {
      "image/png": "[encoded data removed]",
      "text/plain": [
       "<Figure size 432x288 with 1 Axes>"
      ]
     },
     "metadata": {
      "needs_background": "light"
     },
     "output_type": "display_data"
    }
   ],
   "source": [
    "sns.barplot(eda_df.pff_blockType.value_counts().index, eda_df.pff_blockType.value_counts())"
   ]
  },
  {
   "cell_type": "markdown",
   "metadata": {},
   "source": [
    "## Beginning"
   ]
  },
  {
   "cell_type": "markdown",
   "metadata": {},
   "source": [
    "### Focused df"
   ]
  },
  {
   "cell_type": "code",
   "execution_count": 90,
   "metadata": {},
   "outputs": [],
   "source": [
    "def get_focused_df(joined_all, gameId_num):\n",
    "    focused_df = joined_all[(joined_all.gameId==gameId_num)].copy()\n",
    "    # focused_df = joined_all.copy()\n",
    "    # focused_df.head()\n",
    "    return focused_df"
   ]
  },
  {
   "cell_type": "markdown",
   "metadata": {},
   "source": [
    "### Get o & d line frames"
   ]
  },
  {
   "cell_type": "code",
   "execution_count": 91,
   "metadata": {},
   "outputs": [],
   "source": [
    "def get_od_line_df(focused_df):\n",
    "    o_line_df = focused_df[~(focused_df.pff_blockType.isna())][['nflId', 'playId', 'pff_blockType', 'pff_nflIdBlockedPlayer', 'x', 'y', 'frameId', 'displayName']]\n",
    "    o_line_df = o_line_df[o_line_df.pff_blockType != 'CH'][['nflId', 'playId', 'pff_blockType', 'pff_nflIdBlockedPlayer', 'x', 'y', 'frameId', 'displayName']]\n",
    "    # o_line_df = focused_df[~(focused_df.pff_blockType.isna())][['nflId', 'playId', 'pff_blockType', 'pff_nflIdBlockedPlayer', 'x', 'y', 'frameId', 'displayName']]\n",
    "    d_line_df = focused_df[focused_df.pff_role == 'Pass Rush'][['nflId', 'playId', 'x', 'y', 'frameId', 'displayName', 'officialPosition', 'unit']]\n",
    "    return o_line_df, d_line_df"
   ]
  },
  {
   "cell_type": "markdown",
   "metadata": {},
   "source": [
    "### Delta % - Blockers vs Rushers"
   ]
  },
  {
   "cell_type": "code",
   "execution_count": 92,
   "metadata": {},
   "outputs": [],
   "source": [
    "# o_num_blockers =  o_line_df.groupby(['playId'])['nflId'].nunique()\n",
    "# d_num_rushers = d_line_df.groupby(['playId'])['nflId'].nunique()\n",
    "\n",
    "# blockers_vs_rushers = pd.concat([o_num_blockers, d_num_rushers], axis=1)\n",
    "\n",
    "# blockers_vs_rushers.columns = ['nflId_off', 'nflId_def']\n",
    "# blockers_vs_rushers['delta_off_def'] = blockers_vs_rushers['nflId_off'] - blockers_vs_rushers['nflId_def']\n",
    "\n",
    "# blockers_vs_rushers.sort_values(by='delta_off_def',inplace=True)\n",
    "# blockers_vs_rushers.reset_index(inplace=True)\n",
    "# blockers_vs_rushers\n",
    "\n",
    "# bvr_stats = blockers_vs_rushers.delta_off_def.value_counts()\n",
    "# bvr_stats['delta%'] = blockers_vs_rushers.delta_off_def.value_counts()/blockers_vs_rushers.delta_off_def.sum()\n",
    "\n",
    "# blockers_vs_rushers.delta_off_def.value_counts()/blockers_vs_rushers.delta_off_def.sum()"
   ]
  },
  {
   "cell_type": "markdown",
   "metadata": {},
   "source": [
    "### Blockers vs Rushers"
   ]
  },
  {
   "cell_type": "code",
   "execution_count": 93,
   "metadata": {},
   "outputs": [],
   "source": [
    "def get_blockers_vs_rushers(o_line_df, d_line_df):\n",
    "    \n",
    "    o_num_blockers =  o_line_df.groupby(['playId'])['nflId'].nunique()\n",
    "    d_num_rushers = d_line_df.groupby(['playId'])['nflId'].nunique()\n",
    "\n",
    "    blockers_vs_rushers = pd.concat([o_num_blockers, d_num_rushers], axis=1)\n",
    "\n",
    "    blockers_vs_rushers.columns = ['nflId_off', 'nflId_def']\n",
    "    blockers_vs_rushers['delta_off_def'] = blockers_vs_rushers['nflId_off'] - blockers_vs_rushers['nflId_def']\n",
    "\n",
    "    blockers_vs_rushers.sort_values(by='delta_off_def',inplace=True)\n",
    "    blockers_vs_rushers.reset_index(inplace=True)\n",
    "\n",
    "    # print('\\nblockers_vs_rushers: \\n',blockers_vs_rushers.head())\n",
    "\n",
    "    return blockers_vs_rushers"
   ]
  },
  {
   "cell_type": "markdown",
   "metadata": {},
   "source": [
    "### Num blockers and rushers"
   ]
  },
  {
   "cell_type": "code",
   "execution_count": 94,
   "metadata": {},
   "outputs": [],
   "source": [
    "def get_num_blockers_rushers(o_line_df, d_line_df, playId_num):\n",
    "\n",
    "    blockers_vs_rushers = get_blockers_vs_rushers(o_line_df, d_line_df)\n",
    "    num_blockers = blockers_vs_rushers[blockers_vs_rushers.playId == playId_num].nflId_off.values[0]\n",
    "    num_rushers = blockers_vs_rushers[blockers_vs_rushers.playId == playId_num].nflId_def.values[0]\n",
    "\n",
    "    return (num_blockers, num_rushers)"
   ]
  },
  {
   "cell_type": "markdown",
   "metadata": {},
   "source": [
    "### Matchup Adjustments"
   ]
  },
  {
   "cell_type": "markdown",
   "metadata": {},
   "source": [
    "#### Function - when blockers and passers are equal"
   ]
  },
  {
   "cell_type": "code",
   "execution_count": 95,
   "metadata": {},
   "outputs": [],
   "source": [
    "def equal_blockers_passers(o_line_df, d_line_df, matchup_framId_num, playId_num):\n",
    "    \n",
    "    o_line_frame_20_df = o_line_df[(o_line_df['frameId'] == matchup_framId_num)&(o_line_df['playId'] == playId_num)]\n",
    "    d_line_frame_20_df = d_line_df[(d_line_df['frameId'] == matchup_framId_num)&(d_line_df['playId'] == playId_num)]\n",
    "\n",
    "    o_line_frame_20_df = o_line_frame_20_df.sort_values(by=['playId', 'y']).reset_index(drop=True)\n",
    "    d_line_frame_20_df = d_line_frame_20_df.sort_values(by=['playId', 'y']).reset_index(drop=True)\n",
    "\n",
    "    matchup_adj = pd.concat([o_line_frame_20_df, d_line_frame_20_df], axis=1)\n",
    "    matchup_adj['adj_BlockedPlayer'] = matchup_adj.iloc[:,8]\n",
    "\n",
    "    return matchup_adj"
   ]
  },
  {
   "cell_type": "markdown",
   "metadata": {},
   "source": [
    "##### Function - uses df returned from the function below to match rushers to blockers"
   ]
  },
  {
   "cell_type": "code",
   "execution_count": 96,
   "metadata": {},
   "outputs": [],
   "source": [
    "def match_rushers_blockers(matchup_adj, num_blockers, num_rushers):\n",
    "\n",
    "    idx_list = []\n",
    "    o_list = []\n",
    "    d_list = []\n",
    "\n",
    "    if num_blockers > num_rushers:\n",
    "        num = num_rushers\n",
    "    else:\n",
    "        num = num_blockers\n",
    "\n",
    "    for i, row in matchup_adj.iterrows():\n",
    "\n",
    "        if i == 0:\n",
    "            idx_list.append(i)\n",
    "            o_list.append(row.displayName_off)\n",
    "            d_list.append(row.displayName_def)\n",
    "\n",
    "        elif not (row.displayName_off in (o_list) or row.displayName_def in (d_list)):\n",
    "            idx_list.append(i)\n",
    "            o_list.append(row.displayName_off)\n",
    "            d_list.append(row.displayName_def)\n",
    "\n",
    "        if len(o_list) == num:\n",
    "            # print(o_list)\n",
    "            # print(d_list)\n",
    "            # print(idx_list)\n",
    "            break\n",
    "    \n",
    "    # Use idx_list from above to select appropraite match up rows\n",
    "    matchup_adj = matchup_adj.iloc[idx_list]\n",
    "\n",
    "    # Map blockers to rushers\n",
    "    matchup_adj = matchup_adj.iloc[:,[0,-1]]\n",
    "\n",
    "\n",
    "    return matchup_adj"
   ]
  },
  {
   "cell_type": "markdown",
   "metadata": {},
   "source": [
    "#### Function - when more blockers than rushers are equal"
   ]
  },
  {
   "cell_type": "code",
   "execution_count": 97,
   "metadata": {},
   "outputs": [],
   "source": [
    "def more_blockers_passers(o_line_df, d_line_df, matchup_framId_num, playId_num, num_blockers, num_rushers):\n",
    "    # matchup_framId_num = 25\n",
    "    o_line_frame_20_df = o_line_df[(o_line_df['frameId'] == matchup_framId_num)&(o_line_df['playId'] == playId_num)]\n",
    "    d_line_frame_20_df = d_line_df[(d_line_df['frameId'] == matchup_framId_num)&(d_line_df['playId'] == playId_num)]\n",
    "\n",
    "    o_line_frame_20_df = o_line_frame_20_df.sort_values(by=['playId', 'y']).reset_index(drop=True)\n",
    "    d_line_frame_20_df = d_line_frame_20_df.sort_values(by=['playId', 'y']).reset_index(drop=True)\n",
    "\n",
    "    matchup_adj = pd.concat([o_line_frame_20_df, d_line_frame_20_df], axis=1)\n",
    "    matchup_adj = o_line_frame_20_df.merge(d_line_frame_20_df, how='cross', suffixes=['_off', '_def'])\n",
    "    matchup_adj['delta'] = abs(matchup_adj['y_off'] - matchup_adj['y_def'])\n",
    "\n",
    "    matchup_adj = matchup_adj.sort_values(by=['displayName_off', 'delta'], inplace=False)\n",
    "    matchup_adj.sort_values(by=['delta'], inplace=True)\n",
    "    matchup_adj['adj_BlockedPlayer'] = matchup_adj.iloc[:,8]\n",
    "\n",
    "    matchup_adj.reset_index(drop=True, inplace=True)\n",
    "    matchup_adj = match_rushers_blockers(matchup_adj, num_blockers, num_rushers)\n",
    "    \n",
    "    return matchup_adj"
   ]
  },
  {
   "cell_type": "markdown",
   "metadata": {},
   "source": [
    "### Merge matchup_adj with o-line, d-line & qb data"
   ]
  },
  {
   "cell_type": "markdown",
   "metadata": {},
   "source": [
    "#### Get o_frame_indc"
   ]
  },
  {
   "cell_type": "markdown",
   "metadata": {},
   "source": [
    "##### Function - when blockers equal rushers"
   ]
  },
  {
   "cell_type": "code",
   "execution_count": 98,
   "metadata": {},
   "outputs": [],
   "source": [
    "def check_frameId_max(o_line_df, playId_num, indc_framId_num):\n",
    "    frameId_max = o_line_df[o_line_df['playId'] == playId_num]['frameId'].max()\n",
    "\n",
    "    if frameId_max < indc_framId_num:\n",
    "        indc_framId_num = frameId_max\n",
    "        \n",
    "    return indc_framId_num"
   ]
  },
  {
   "cell_type": "code",
   "execution_count": 99,
   "metadata": {},
   "outputs": [],
   "source": [
    "def o_frame_30_equal(o_line_df, indc_framId_num, playId_num, matchup_adj):\n",
    "    o_frame_30_df = o_line_df[(o_line_df['frameId'] == indc_framId_num)&(o_line_df['playId'] == playId_num)]\n",
    "    matchup_adj = matchup_adj.iloc[:,[0,-1]] # what is this line doing\n",
    "    o_frame_30_df = o_frame_30_df.merge(matchup_adj, on='nflId', how='left')\n",
    "    # print(matchup_adj.head)\n",
    "    return o_frame_30_df"
   ]
  },
  {
   "cell_type": "markdown",
   "metadata": {},
   "source": [
    "##### Function - when blockers > rushers"
   ]
  },
  {
   "cell_type": "code",
   "execution_count": 100,
   "metadata": {},
   "outputs": [],
   "source": [
    "def o_frame_30_more(o_line_df, indc_framId_num, playId_num, matchup_adj):\n",
    "    o_frame_30_df = o_line_df[(o_line_df['frameId'] == indc_framId_num)&(o_line_df['playId'] == playId_num)]\n",
    "    o_frame_30_df = o_frame_30_df.merge(matchup_adj, left_on='nflId', right_on='nflId_off', how='left')\n",
    "    # print(matchup_adj.head)\n",
    "    return o_frame_30_df"
   ]
  },
  {
   "cell_type": "markdown",
   "metadata": {},
   "source": [
    "### Check num blockers vs num rushers"
   ]
  },
  {
   "cell_type": "code",
   "execution_count": 101,
   "metadata": {},
   "outputs": [],
   "source": [
    "def get_o_frame_30(num_blockers, num_rushers, o_line_df, d_line_df, playId_num, matchup_framId_num, indc_framId_num):\n",
    "\n",
    "    if num_blockers == num_rushers:\n",
    "        matchup_adj = equal_blockers_passers(o_line_df, d_line_df, matchup_framId_num, playId_num)\n",
    "        o_frame_30_df = o_frame_30_equal(o_line_df, indc_framId_num, playId_num, matchup_adj)\n",
    "\n",
    "    else:\n",
    "        matchup_adj = more_blockers_passers(o_line_df, d_line_df, matchup_framId_num, playId_num, num_blockers, num_rushers)\n",
    "        o_frame_30_df = o_frame_30_more(o_line_df, indc_framId_num, playId_num, matchup_adj)\n",
    "\n",
    "    return o_frame_30_df"
   ]
  },
  {
   "cell_type": "markdown",
   "metadata": {},
   "source": [
    "#### Get d_frame_indc"
   ]
  },
  {
   "cell_type": "code",
   "execution_count": 102,
   "metadata": {},
   "outputs": [],
   "source": [
    "def get_d_frame_30(d_line_df, playId_num, indc_framId_num):\n",
    "    d_frame_30_df = d_line_df[(d_line_df['frameId'] == indc_framId_num)&(d_line_df['playId'] == playId_num)]\n",
    "    return d_frame_30_df"
   ]
  },
  {
   "cell_type": "markdown",
   "metadata": {},
   "source": [
    "#### Merge o & d line"
   ]
  },
  {
   "cell_type": "code",
   "execution_count": 103,
   "metadata": {},
   "outputs": [],
   "source": [
    "def get_o_d_line_df(o_frame_30_df, d_frame_30_df):\n",
    "    o_d_line_df = o_frame_30_df.merge(d_frame_30_df, how='outer', left_on=['adj_BlockedPlayer', 'playId', 'frameId'], right_on=['nflId', 'playId', 'frameId'], suffixes=['_off', '_def'])\n",
    "    return o_d_line_df"
   ]
  },
  {
   "cell_type": "markdown",
   "metadata": {},
   "source": [
    "#### Get QB data"
   ]
  },
  {
   "cell_type": "code",
   "execution_count": 104,
   "metadata": {},
   "outputs": [],
   "source": [
    "def get_qb_coords(focused_df):\n",
    "    qb_coords = focused_df[focused_df.officialPosition == \"QB\"][['nflId', 'playId', 'x', 'y', 'frameId', 'displayName']]\n",
    "    return qb_coords"
   ]
  },
  {
   "cell_type": "markdown",
   "metadata": {},
   "source": [
    "#### Merge qb data with o & d line"
   ]
  },
  {
   "cell_type": "code",
   "execution_count": 105,
   "metadata": {},
   "outputs": [],
   "source": [
    "def merge_qb_od_data(qb_coords, o_d_line_df):\n",
    "    all_df = qb_coords.merge(o_d_line_df, on=['playId', 'frameId'], how='inner', suffixes=['_qb',''])\n",
    "    return all_df"
   ]
  },
  {
   "cell_type": "markdown",
   "metadata": {},
   "source": [
    "### Get Euclidean Dist."
   ]
  },
  {
   "cell_type": "code",
   "execution_count": 106,
   "metadata": {},
   "outputs": [],
   "source": [
    "def Euclidean_Dist(df, cols=['x', 'y']):\n",
    "\n",
    "    off_array = np.linalg.norm(df[['x', 'y']].values - df[['x_off', 'y_off']].values, axis=1)\n",
    "    def_array = np.linalg.norm(df[['x', 'y']].values - df[['x_def', 'y_def']].values, axis=1)\n",
    "    df[\"off_qb_dist\"] = off_array\n",
    "    df[\"def_qb_dist\"] = def_array\n",
    "\n",
    "    return df"
   ]
  },
  {
   "cell_type": "markdown",
   "metadata": {},
   "source": [
    "### Get blocker - rusher deltas"
   ]
  },
  {
   "cell_type": "code",
   "execution_count": 107,
   "metadata": {},
   "outputs": [],
   "source": [
    "def get_blocker_rusher_deltas(all_df):\n",
    "    all_df['line_diff'] = all_df.off_qb_dist - all_df.def_qb_dist\n",
    "    return all_df"
   ]
  },
  {
   "cell_type": "markdown",
   "metadata": {},
   "source": [
    "### Beat %"
   ]
  },
  {
   "cell_type": "code",
   "execution_count": 108,
   "metadata": {},
   "outputs": [],
   "source": [
    "def get_beat_perc(full_df, full_beat_df):\n",
    "    full_df_gb = full_df.groupby(['gameId', 'displayName_off', 'nflId_off']).size().reset_index(name='counts').sort_values(by='counts', ascending=False)\n",
    "    full_df_beat_gb = full_beat_df.groupby(['displayName_off', 'nflId_off']).size().reset_index(name='counts')\n",
    "\n",
    "    beat_perc_df = full_df_beat_gb.merge(full_df_gb, how='inner', on=['displayName_off', 'nflId_off'])\n",
    "    beat_perc_df['%'] = beat_perc_df.counts_x / beat_perc_df.counts_y *100\n",
    "\n",
    "    return beat_perc_df\n",
    "\n",
    "# print(beat_perc_df)"
   ]
  },
  {
   "cell_type": "markdown",
   "metadata": {},
   "source": [
    "### Score O players"
   ]
  },
  {
   "cell_type": "code",
   "execution_count": 109,
   "metadata": {},
   "outputs": [],
   "source": [
    "def score_o_player(full_df_merge, full_df_beat):    \n",
    "    score_df_list = []\n",
    "    player_df_list = []\n",
    "    o_player_list = list(full_df_merge.displayName_off.values)\n",
    "\n",
    "    for player in o_player_list:\n",
    "        player_df = full_df_beat[full_df_beat.displayName_off == player].copy()\n",
    "        player_df['x_delta'] = abs(player_df.x - player_df.x_off) - abs(player_df.x - player_df.x_def)\n",
    "        player_df['y_delta'] = abs(player_df.y - player_df.y_off) - abs(player_df.y - player_df.y_def)\n",
    "\n",
    "        player_df['dir'] = \"outside\"\n",
    "        player_df['dir'] = np.where(player_df['x_delta'] < 0, \"inside\", player_df['dir'])\n",
    "\n",
    "        player_df['blockers_delta'] = player_df['num_blockers'] - player_df['num_rushers']\n",
    "        player_df['score'] = player_df['blockers_delta']\n",
    "        player_df['score'] = np.where(player_df['dir'] == 'inside', player_df['score'] + 1, player_df['score'])\n",
    "\n",
    "        player_grade_df = player_df.groupby(['displayName_off'])['score'].sum().reset_index()\n",
    "\n",
    "        # player_df\n",
    "        score_df_list.append(player_grade_df)\n",
    "        player_df_list.append(player_df)\n",
    "\n",
    "        score_df = pd.concat(score_df_list, axis=0, ignore_index=True)\n",
    "        all_player_df = pd.concat(player_df_list, axis=0, ignore_index=True)\n",
    "\n",
    "    return score_df, all_player_df\n",
    "\n",
    "# player_df.head()"
   ]
  },
  {
   "cell_type": "markdown",
   "metadata": {},
   "source": [
    "### Grade O players for the game"
   ]
  },
  {
   "cell_type": "code",
   "execution_count": 110,
   "metadata": {},
   "outputs": [],
   "source": [
    "def grade_o_game(full_df_merge, score_df):\n",
    "    o_grade_book = full_df_merge.merge(score_df, how='inner', on='displayName_off')\n",
    "    o_grade_book[\"grade\"] = 100 - o_grade_book[\"%\"] - (o_grade_book[\"%\"] * (o_grade_book[\"score\"] * 2 / 100))\n",
    "    return o_grade_book"
   ]
  },
  {
   "cell_type": "markdown",
   "metadata": {},
   "source": [
    "### Concat all_df's"
   ]
  },
  {
   "cell_type": "code",
   "execution_count": 111,
   "metadata": {},
   "outputs": [
    {
     "name": "stdout",
     "output_type": "stream",
     "text": [
      "2021090900\n",
      "2021091200\n",
      "2021091201\n",
      "2021091202\n",
      "2021091203\n",
      "2021091204\n",
      "2021091205\n",
      "2021091206\n",
      "2021091207\n",
      "2021091208\n",
      "2021091209\n",
      "2021091210\n",
      "2021091211\n",
      "2021091212\n",
      "2021091213\n",
      "2021091300\n"
     ]
    }
   ],
   "source": [
    "# gameId_num = 2021090900\n",
    "# playId_num = 187\n",
    "\n",
    "matchup_framId_num = 25\n",
    "indc_framId_num = 30\n",
    "\n",
    "game_df_list = []\n",
    "game_df_beat_list = []\n",
    "o_grade_book_list = []\n",
    "full_all_player_df_list = []\n",
    "personnelD_list = []\n",
    "# List of gameIds\n",
    "gameId_list = list(joined_all.gameId.unique())\n",
    "\n",
    "# Iterate through each game, then each play\n",
    "for gameId_num in gameId_list:\n",
    "    print(gameId_num)\n",
    "    \n",
    "    # Filters the joined_all df by the gameId_num\n",
    "    focused_df = get_focused_df(joined_all, gameId_num)\n",
    "    # print(focused_df.head())\n",
    "\n",
    "    o_line_df, d_line_df = get_od_line_df(focused_df)\n",
    "    # print(d_line_df)\n",
    "\n",
    "    # List of playId\n",
    "    palyId_list = list(o_line_df.playId.unique())\n",
    "\n",
    "    all_df_list = []\n",
    "    for playId_num in palyId_list:\n",
    "\n",
    "        num_blockers, num_rushers = get_num_blockers_rushers(o_line_df, d_line_df, playId_num)\n",
    "\n",
    "        indc_framId_num = check_frameId_max(o_line_df, playId_num, indc_framId_num)\n",
    "\n",
    "        o_frame_30_df = get_o_frame_30(num_blockers, num_rushers, o_line_df, d_line_df, playId_num, matchup_framId_num, indc_framId_num)      \n",
    "        #remove nflId_off\n",
    "        o_frame_30_df.drop(['nflId_off'], axis=1, errors='ignore', inplace=True)\n",
    "\n",
    "        d_frame_30_df = get_d_frame_30(d_line_df, playId_num, indc_framId_num)\n",
    "        \n",
    "        o_d_line_df = get_o_d_line_df(o_frame_30_df, d_frame_30_df)\n",
    "\n",
    "        qb_coords = get_qb_coords(focused_df)\n",
    "        all_df = merge_qb_od_data(qb_coords, o_d_line_df)\n",
    "\n",
    "        all_df = Euclidean_Dist(all_df)\n",
    "        all_df = get_blocker_rusher_deltas(all_df)\n",
    "\n",
    "        # add num blockers and rushers\n",
    "        all_df['num_blockers'] = num_blockers\n",
    "        all_df['num_rushers'] = num_rushers\n",
    "\n",
    "        all_df.reset_index(drop=True, inplace=True)\n",
    "        all_df_list.append(all_df)\n",
    "    \n",
    "    game_df = pd.concat(all_df_list, axis=0, ignore_index=True)\n",
    "    game_df[\"gameId\"] = gameId_num\n",
    "    # print(game_df.head())\n",
    "\n",
    "\n",
    "    game_df_beat = game_df[game_df.line_diff > .1].reset_index(drop=True)\n",
    "\n",
    "    beat_perc_df = get_beat_perc(game_df, game_df_beat)\n",
    "    # print(beat_perc_df.head(10))\n",
    "\n",
    "    score_df, all_player_df = score_o_player(beat_perc_df, game_df_beat)\n",
    "    # print(score_df.head(10))\n",
    "\n",
    "    o_grade_book = grade_o_game(beat_perc_df, score_df)\n",
    "\n",
    "    # game_df_list.append(game_df)\n",
    "    # game_df_beat_list.append(game_df_beat)\n",
    "    \n",
    "    o_grade_book_list.append(o_grade_book)\n",
    "    full_all_player_df_list.append(all_player_df)\n",
    "\n",
    "    "
   ]
  },
  {
   "cell_type": "code",
   "execution_count": 112,
   "metadata": {},
   "outputs": [
    {
     "data": {
      "text/html": [
       "<div>\n",
       "<style scoped>\n",
       "    .dataframe tbody tr th:only-of-type {\n",
       "        vertical-align: middle;\n",
       "    }\n",
       "\n",
       "    .dataframe tbody tr th {\n",
       "        vertical-align: top;\n",
       "    }\n",
       "\n",
       "    .dataframe thead th {\n",
       "        text-align: right;\n",
       "    }\n",
       "</style>\n",
       "<table border=\"1\" class=\"dataframe\">\n",
       "  <thead>\n",
       "    <tr style=\"text-align: right;\">\n",
       "      <th></th>\n",
       "      <th>nflId</th>\n",
       "      <th>playId</th>\n",
       "      <th>x</th>\n",
       "      <th>y</th>\n",
       "      <th>frameId</th>\n",
       "      <th>displayName</th>\n",
       "      <th>nflId_off</th>\n",
       "      <th>pff_blockType</th>\n",
       "      <th>pff_nflIdBlockedPlayer</th>\n",
       "      <th>x_off</th>\n",
       "      <th>...</th>\n",
       "      <th>num_blockers</th>\n",
       "      <th>num_rushers</th>\n",
       "      <th>gameId</th>\n",
       "      <th>x_delta</th>\n",
       "      <th>y_delta</th>\n",
       "      <th>dir</th>\n",
       "      <th>blockers_delta</th>\n",
       "      <th>score</th>\n",
       "      <th>team</th>\n",
       "      <th>week</th>\n",
       "    </tr>\n",
       "  </thead>\n",
       "  <tbody>\n",
       "    <tr>\n",
       "      <th>0</th>\n",
       "      <td>25511.0</td>\n",
       "      <td>97</td>\n",
       "      <td>33.77</td>\n",
       "      <td>23.43</td>\n",
       "      <td>30</td>\n",
       "      <td>Tom Brady</td>\n",
       "      <td>46163.0</td>\n",
       "      <td>SW</td>\n",
       "      <td>53441.0</td>\n",
       "      <td>37.38</td>\n",
       "      <td>...</td>\n",
       "      <td>5</td>\n",
       "      <td>5</td>\n",
       "      <td>2021090900</td>\n",
       "      <td>0.40</td>\n",
       "      <td>-0.45</td>\n",
       "      <td>outside</td>\n",
       "      <td>0</td>\n",
       "      <td>0</td>\n",
       "      <td>TB</td>\n",
       "      <td>week1</td>\n",
       "    </tr>\n",
       "    <tr>\n",
       "      <th>1</th>\n",
       "      <td>25511.0</td>\n",
       "      <td>434</td>\n",
       "      <td>23.62</td>\n",
       "      <td>27.81</td>\n",
       "      <td>27</td>\n",
       "      <td>Tom Brady</td>\n",
       "      <td>46163.0</td>\n",
       "      <td>PP</td>\n",
       "      <td>44955.0</td>\n",
       "      <td>26.27</td>\n",
       "      <td>...</td>\n",
       "      <td>6</td>\n",
       "      <td>5</td>\n",
       "      <td>2021090900</td>\n",
       "      <td>2.40</td>\n",
       "      <td>-0.29</td>\n",
       "      <td>outside</td>\n",
       "      <td>1</td>\n",
       "      <td>1</td>\n",
       "      <td>TB</td>\n",
       "      <td>week1</td>\n",
       "    </tr>\n",
       "    <tr>\n",
       "      <th>2</th>\n",
       "      <td>25511.0</td>\n",
       "      <td>509</td>\n",
       "      <td>70.38</td>\n",
       "      <td>24.19</td>\n",
       "      <td>27</td>\n",
       "      <td>Tom Brady</td>\n",
       "      <td>46163.0</td>\n",
       "      <td>PP</td>\n",
       "      <td>41363.0</td>\n",
       "      <td>73.93</td>\n",
       "      <td>...</td>\n",
       "      <td>5</td>\n",
       "      <td>4</td>\n",
       "      <td>2021090900</td>\n",
       "      <td>2.98</td>\n",
       "      <td>-1.08</td>\n",
       "      <td>outside</td>\n",
       "      <td>1</td>\n",
       "      <td>1</td>\n",
       "      <td>TB</td>\n",
       "      <td>week1</td>\n",
       "    </tr>\n",
       "    <tr>\n",
       "      <th>3</th>\n",
       "      <td>25511.0</td>\n",
       "      <td>2032</td>\n",
       "      <td>64.53</td>\n",
       "      <td>24.06</td>\n",
       "      <td>24</td>\n",
       "      <td>Tom Brady</td>\n",
       "      <td>46163.0</td>\n",
       "      <td>PP</td>\n",
       "      <td>41363.0</td>\n",
       "      <td>61.70</td>\n",
       "      <td>...</td>\n",
       "      <td>5</td>\n",
       "      <td>4</td>\n",
       "      <td>2021090900</td>\n",
       "      <td>2.15</td>\n",
       "      <td>-0.68</td>\n",
       "      <td>outside</td>\n",
       "      <td>1</td>\n",
       "      <td>1</td>\n",
       "      <td>TB</td>\n",
       "      <td>week1</td>\n",
       "    </tr>\n",
       "    <tr>\n",
       "      <th>4</th>\n",
       "      <td>25511.0</td>\n",
       "      <td>2915</td>\n",
       "      <td>85.93</td>\n",
       "      <td>29.68</td>\n",
       "      <td>24</td>\n",
       "      <td>Tom Brady</td>\n",
       "      <td>46163.0</td>\n",
       "      <td>PP</td>\n",
       "      <td>46185.0</td>\n",
       "      <td>82.16</td>\n",
       "      <td>...</td>\n",
       "      <td>5</td>\n",
       "      <td>4</td>\n",
       "      <td>2021090900</td>\n",
       "      <td>1.63</td>\n",
       "      <td>-1.18</td>\n",
       "      <td>outside</td>\n",
       "      <td>1</td>\n",
       "      <td>1</td>\n",
       "      <td>TB</td>\n",
       "      <td>week1</td>\n",
       "    </tr>\n",
       "  </tbody>\n",
       "</table>\n",
       "<p>5 rows × 32 columns</p>\n",
       "</div>"
      ],
      "text/plain": [
       "     nflId  playId      x      y  frameId displayName  nflId_off  \\\n",
       "0  25511.0      97  33.77  23.43       30   Tom Brady    46163.0   \n",
       "1  25511.0     434  23.62  27.81       27   Tom Brady    46163.0   \n",
       "2  25511.0     509  70.38  24.19       27   Tom Brady    46163.0   \n",
       "3  25511.0    2032  64.53  24.06       24   Tom Brady    46163.0   \n",
       "4  25511.0    2915  85.93  29.68       24   Tom Brady    46163.0   \n",
       "\n",
       "  pff_blockType  pff_nflIdBlockedPlayer  x_off  ...  num_blockers num_rushers  \\\n",
       "0            SW                 53441.0  37.38  ...             5           5   \n",
       "1            PP                 44955.0  26.27  ...             6           5   \n",
       "2            PP                 41363.0  73.93  ...             5           4   \n",
       "3            PP                 41363.0  61.70  ...             5           4   \n",
       "4            PP                 46185.0  82.16  ...             5           4   \n",
       "\n",
       "       gameId  x_delta  y_delta      dir blockers_delta score team   week  \n",
       "0  2021090900     0.40    -0.45  outside              0     0   TB  week1  \n",
       "1  2021090900     2.40    -0.29  outside              1     1   TB  week1  \n",
       "2  2021090900     2.98    -1.08  outside              1     1   TB  week1  \n",
       "3  2021090900     2.15    -0.68  outside              1     1   TB  week1  \n",
       "4  2021090900     1.63    -1.18  outside              1     1   TB  week1  \n",
       "\n",
       "[5 rows x 32 columns]"
      ]
     },
     "execution_count": 112,
     "metadata": {},
     "output_type": "execute_result"
    }
   ],
   "source": [
    "full_all_player_df = pd.concat(full_all_player_df_list, axis=0, ignore_index=True)\n",
    "\n",
    "# Adding team and week column to the df\n",
    "full_all_player_df['team'] = full_all_player_df['nflId_off'].map(week1.drop_duplicates('nflId').set_index('nflId')['team'])\n",
    "full_all_player_df['week'] = 'week1'\n",
    "# full_all_player_df.sort_values(by='grade', inplace=True)\n",
    "\n",
    "# Removing PA playIds\n",
    "pa_palyId_list = list(full_all_player_df[full_all_player_df.pff_blockType == \"PA\"].playId.unique())\n",
    "full_all_player_df = full_all_player_df[~(full_all_player_df.playId.isin(pa_palyId_list))]\n",
    "\n",
    "full_all_player_df.head()"
   ]
  },
  {
   "cell_type": "code",
   "execution_count": 113,
   "metadata": {},
   "outputs": [
    {
     "data": {
      "text/html": [
       "<div>\n",
       "<style scoped>\n",
       "    .dataframe tbody tr th:only-of-type {\n",
       "        vertical-align: middle;\n",
       "    }\n",
       "\n",
       "    .dataframe tbody tr th {\n",
       "        vertical-align: top;\n",
       "    }\n",
       "\n",
       "    .dataframe thead th {\n",
       "        text-align: right;\n",
       "    }\n",
       "</style>\n",
       "<table border=\"1\" class=\"dataframe\">\n",
       "  <thead>\n",
       "    <tr style=\"text-align: right;\">\n",
       "      <th></th>\n",
       "      <th>displayName_off</th>\n",
       "      <th>nflId_off</th>\n",
       "      <th>counts_x</th>\n",
       "      <th>gameId</th>\n",
       "      <th>counts_y</th>\n",
       "      <th>%</th>\n",
       "      <th>score</th>\n",
       "      <th>grade</th>\n",
       "      <th>team</th>\n",
       "      <th>week</th>\n",
       "    </tr>\n",
       "  </thead>\n",
       "  <tbody>\n",
       "    <tr>\n",
       "      <th>0</th>\n",
       "      <td>Amon-Ra St. Brown</td>\n",
       "      <td>53541.0</td>\n",
       "      <td>1</td>\n",
       "      <td>2021091204</td>\n",
       "      <td>1</td>\n",
       "      <td>100.000000</td>\n",
       "      <td>2</td>\n",
       "      <td>-4.000000</td>\n",
       "      <td>DET</td>\n",
       "      <td>week1</td>\n",
       "    </tr>\n",
       "    <tr>\n",
       "      <th>1</th>\n",
       "      <td>Sterling Shepard</td>\n",
       "      <td>43329.0</td>\n",
       "      <td>1</td>\n",
       "      <td>2021091212</td>\n",
       "      <td>1</td>\n",
       "      <td>100.000000</td>\n",
       "      <td>2</td>\n",
       "      <td>-4.000000</td>\n",
       "      <td>NYG</td>\n",
       "      <td>week1</td>\n",
       "    </tr>\n",
       "    <tr>\n",
       "      <th>2</th>\n",
       "      <td>Trevon Wesco</td>\n",
       "      <td>47904.0</td>\n",
       "      <td>1</td>\n",
       "      <td>2021091202</td>\n",
       "      <td>1</td>\n",
       "      <td>100.000000</td>\n",
       "      <td>1</td>\n",
       "      <td>-2.000000</td>\n",
       "      <td>NYJ</td>\n",
       "      <td>week1</td>\n",
       "    </tr>\n",
       "    <tr>\n",
       "      <th>3</th>\n",
       "      <td>Anthony Firkser</td>\n",
       "      <td>45355.0</td>\n",
       "      <td>8</td>\n",
       "      <td>2021091207</td>\n",
       "      <td>11</td>\n",
       "      <td>72.727273</td>\n",
       "      <td>20</td>\n",
       "      <td>-1.818182</td>\n",
       "      <td>TEN</td>\n",
       "      <td>week1</td>\n",
       "    </tr>\n",
       "    <tr>\n",
       "      <th>4</th>\n",
       "      <td>Ross Dwelley</td>\n",
       "      <td>46331.0</td>\n",
       "      <td>1</td>\n",
       "      <td>2021091204</td>\n",
       "      <td>2</td>\n",
       "      <td>50.000000</td>\n",
       "      <td>3</td>\n",
       "      <td>47.000000</td>\n",
       "      <td>SF</td>\n",
       "      <td>week1</td>\n",
       "    </tr>\n",
       "  </tbody>\n",
       "</table>\n",
       "</div>"
      ],
      "text/plain": [
       "     displayName_off  nflId_off  counts_x      gameId  counts_y           %  \\\n",
       "0  Amon-Ra St. Brown    53541.0         1  2021091204         1  100.000000   \n",
       "1   Sterling Shepard    43329.0         1  2021091212         1  100.000000   \n",
       "2       Trevon Wesco    47904.0         1  2021091202         1  100.000000   \n",
       "3    Anthony Firkser    45355.0         8  2021091207        11   72.727273   \n",
       "4       Ross Dwelley    46331.0         1  2021091204         2   50.000000   \n",
       "\n",
       "   score      grade team   week  \n",
       "0      2  -4.000000  DET  week1  \n",
       "1      2  -4.000000  NYG  week1  \n",
       "2      1  -2.000000  NYJ  week1  \n",
       "3     20  -1.818182  TEN  week1  \n",
       "4      3  47.000000   SF  week1  "
      ]
     },
     "execution_count": 113,
     "metadata": {},
     "output_type": "execute_result"
    }
   ],
   "source": [
    "full_df = pd.concat(o_grade_book_list, axis=0, ignore_index=True)\n",
    "\n",
    "# Adding team and week column to the df\n",
    "full_df['team'] = full_df['nflId_off'].map(week1.drop_duplicates('nflId').set_index('nflId')['team'])\n",
    "full_df['week'] = 'week1'\n",
    "full_df.sort_values(by='grade', inplace=True)\n",
    "full_df.reset_index(drop=True, inplace=True)\n",
    "\n",
    "full_df.head()"
   ]
  },
  {
   "cell_type": "code",
   "execution_count": 114,
   "metadata": {},
   "outputs": [
    {
     "data": {
      "application/vnd.plotly.v1+json": {
       "config": {
        "plotlyServerURL": "https://plot.ly"
       },
       "data": [
        {
         "hoverinfo": "none",
         "mode": "text",
         "showlegend": false,
         "text": [
          "10",
          "20",
          "30",
          "40",
          "50",
          "40",
          "30",
          "20",
          "10"
         ],
         "textfont": {
          "color": "#ffffff",
          "family": "Courier New, monospace",
          "size": 30
         },
         "type": "scatter",
         "x": [
          20,
          30,
          40,
          50,
          60,
          70,
          80,
          90,
          100
         ],
         "y": [
          5,
          5,
          5,
          5,
          5,
          5,
          5,
          5,
          5
         ]
        },
        {
         "hoverinfo": "none",
         "mode": "text",
         "showlegend": false,
         "text": [
          "10",
          "20",
          "30",
          "40",
          "50",
          "40",
          "30",
          "20",
          "10"
         ],
         "textfont": {
          "color": "#ffffff",
          "family": "Courier New, monospace",
          "size": 30
         },
         "type": "scatter",
         "x": [
          20,
          30,
          40,
          50,
          60,
          70,
          80,
          90,
          100
         ],
         "y": [
          48.5,
          48.5,
          48.5,
          48.5,
          48.5,
          48.5,
          48.5,
          48.5,
          48.5
         ]
        },
        {
         "hoverinfo": "none",
         "line": {
          "color": "blue",
          "dash": "dash"
         },
         "showlegend": false,
         "type": "scatter",
         "x": [
          62,
          62
         ],
         "y": [
          0,
          53.5
         ]
        },
        {
         "hoverinfo": "none",
         "line": {
          "color": "yellow",
          "dash": "dash"
         },
         "showlegend": false,
         "type": "scatter",
         "x": [
          69,
          69
         ],
         "y": [
          0,
          53.5
         ]
        },
        {
         "hoverinfo": "text",
         "hovertext": [
          "nflId:37078.0<br>displayName:Patrick Peterson<br>Position:RCB<br>Role:Coverage",
          "nflId:38559.0<br>displayName:Harrison Smith<br>Position:RLB<br>Role:Coverage",
          "nflId:41331.0<br>displayName:Bashaud Breeland<br>Position:LCB<br>Role:Coverage",
          "nflId:42388.0<br>displayName:Eric Kendricks<br>Position:LLB<br>Role:Coverage",
          "nflId:42431.0<br>displayName:Danielle Hunter<br>Position:LEO<br>Role:Pass Rush",
          "nflId:43343.0<br>displayName:Mackensie Alexander<br>Position:LOLB<br>Role:Pass Rush",
          "nflId:43376.0<br>displayName:Nick Vigil<br>Position:RILB<br>Role:Pass Rush",
          "nflId:43694.0<br>displayName:Michael Pierce<br>Position:DRT<br>Role:Pass Rush",
          "nflId:44867.0<br>displayName:Dalvin Tomlinson<br>Position:DLT<br>Role:Pass Rush",
          "nflId:45004.0<br>displayName:Xavier Woods<br>Position:FS<br>Role:Coverage",
          "nflId:52525.0<br>displayName:D.J. Wonnum<br>Position:REO<br>Role:Coverage"
         ],
         "marker": {
          "color": "#4F2683"
         },
         "mode": "markers",
         "name": "MIN",
         "type": "scatter",
         "x": [
          60.6,
          56.83,
          60.14,
          58.9,
          61.44,
          60.44,
          57.82,
          61.12,
          61.19,
          49.14,
          61.19
         ],
         "y": [
          8.6,
          16.68,
          43.07,
          26.97,
          29.38,
          33.18,
          22.3,
          22.41,
          25.49,
          26.86,
          18.89
         ]
        },
        {
         "hoverinfo": "text",
         "hovertext": [
          "nflId:38553.0<br>displayName:Riley Reiff<br>Position:RT<br>Role:Pass Block",
          "nflId:41262.0<br>displayName:Xavier Su'a-Filo<br>Position:RG<br>Role:Pass Block",
          "nflId:41619.0<br>displayName:Trey Hopkins<br>Position:C<br>Role:Pass Block",
          "nflId:42500.0<br>displayName:C.J. Uzomah<br>Position:TE-L<br>Role:Pass Route",
          "nflId:43045.0<br>displayName:Quinton Spain<br>Position:LG<br>Role:Pass Block",
          "nflId:43344.0<br>displayName:Tyler Boyd<br>Position:SRWR<br>Role:Pass Route",
          "nflId:44860.0<br>displayName:Joe Mixon<br>Position:HB-R<br>Role:Pass Block",
          "nflId:47794.0<br>displayName:Jonah Williams<br>Position:LT<br>Role:Pass Block",
          "nflId:52409.0<br>displayName:Joe Burrow<br>Position:QB<br>Role:Pass",
          "nflId:52441.0<br>displayName:Tee Higgins<br>Position:LWR<br>Role:Pass Route",
          "nflId:53434.0<br>displayName:Ja'Marr Chase<br>Position:RWR<br>Role:Pass Route"
         ],
         "marker": {
          "color": "#FB4F14"
         },
         "mode": "markers",
         "name": "CIN",
         "type": "scatter",
         "x": [
          63.54,
          63.14,
          62.69,
          63.79,
          63.26,
          63.7,
          67.7,
          63.16,
          67.04,
          63.21,
          62.7
         ],
         "y": [
          26.91,
          25.41,
          23.68,
          18.96,
          22.34,
          33.87,
          26.03,
          20.82,
          23.7,
          8.66,
          42.85
         ]
        },
        {
         "hoverinfo": "none",
         "marker": {
          "color": "#CBB67C"
         },
         "mode": "markers",
         "name": "football",
         "type": "scatter",
         "x": [
          62.19
         ],
         "y": [
          23.76
         ]
        }
       ],
       "frames": [
        {
         "data": [
          {
           "hoverinfo": "none",
           "mode": "text",
           "showlegend": false,
           "text": [
            "10",
            "20",
            "30",
            "40",
            "50",
            "40",
            "30",
            "20",
            "10"
           ],
           "textfont": {
            "color": "#ffffff",
            "family": "Courier New, monospace",
            "size": 30
           },
           "type": "scatter",
           "x": [
            20,
            30,
            40,
            50,
            60,
            70,
            80,
            90,
            100
           ],
           "y": [
            5,
            5,
            5,
            5,
            5,
            5,
            5,
            5,
            5
           ]
          },
          {
           "hoverinfo": "none",
           "mode": "text",
           "showlegend": false,
           "text": [
            "10",
            "20",
            "30",
            "40",
            "50",
            "40",
            "30",
            "20",
            "10"
           ],
           "textfont": {
            "color": "#ffffff",
            "family": "Courier New, monospace",
            "size": 30
           },
           "type": "scatter",
           "x": [
            20,
            30,
            40,
            50,
            60,
            70,
            80,
            90,
            100
           ],
           "y": [
            48.5,
            48.5,
            48.5,
            48.5,
            48.5,
            48.5,
            48.5,
            48.5,
            48.5
           ]
          },
          {
           "hoverinfo": "none",
           "line": {
            "color": "blue",
            "dash": "dash"
           },
           "showlegend": false,
           "type": "scatter",
           "x": [
            62,
            62
           ],
           "y": [
            0,
            53.5
           ]
          },
          {
           "hoverinfo": "none",
           "line": {
            "color": "yellow",
            "dash": "dash"
           },
           "showlegend": false,
           "type": "scatter",
           "x": [
            69,
            69
           ],
           "y": [
            0,
            53.5
           ]
          },
          {
           "hoverinfo": "text",
           "hovertext": [
            "nflId:37078.0<br>displayName:Patrick Peterson<br>Position:RCB<br>Role:Coverage",
            "nflId:38559.0<br>displayName:Harrison Smith<br>Position:RLB<br>Role:Coverage",
            "nflId:41331.0<br>displayName:Bashaud Breeland<br>Position:LCB<br>Role:Coverage",
            "nflId:42388.0<br>displayName:Eric Kendricks<br>Position:LLB<br>Role:Coverage",
            "nflId:42431.0<br>displayName:Danielle Hunter<br>Position:LEO<br>Role:Pass Rush",
            "nflId:43343.0<br>displayName:Mackensie Alexander<br>Position:LOLB<br>Role:Pass Rush",
            "nflId:43376.0<br>displayName:Nick Vigil<br>Position:RILB<br>Role:Pass Rush",
            "nflId:43694.0<br>displayName:Michael Pierce<br>Position:DRT<br>Role:Pass Rush",
            "nflId:44867.0<br>displayName:Dalvin Tomlinson<br>Position:DLT<br>Role:Pass Rush",
            "nflId:45004.0<br>displayName:Xavier Woods<br>Position:FS<br>Role:Coverage",
            "nflId:52525.0<br>displayName:D.J. Wonnum<br>Position:REO<br>Role:Coverage"
           ],
           "marker": {
            "color": "#4F2683"
           },
           "mode": "markers",
           "name": "MIN",
           "type": "scatter",
           "x": [
            60.56,
            56.62,
            60,
            58.96,
            61.46,
            60.45,
            57.83,
            61.12,
            61.19,
            49.14,
            61.19
           ],
           "y": [
            8.6,
            16.7,
            43.07,
            26.96,
            29.37,
            33.12,
            22.31,
            22.41,
            25.5,
            26.89,
            18.87
           ]
          },
          {
           "hoverinfo": "text",
           "hovertext": [
            "nflId:38553.0<br>displayName:Riley Reiff<br>Position:RT<br>Role:Pass Block",
            "nflId:41262.0<br>displayName:Xavier Su'a-Filo<br>Position:RG<br>Role:Pass Block",
            "nflId:41619.0<br>displayName:Trey Hopkins<br>Position:C<br>Role:Pass Block",
            "nflId:42500.0<br>displayName:C.J. Uzomah<br>Position:TE-L<br>Role:Pass Route",
            "nflId:43045.0<br>displayName:Quinton Spain<br>Position:LG<br>Role:Pass Block",
            "nflId:43344.0<br>displayName:Tyler Boyd<br>Position:SRWR<br>Role:Pass Route",
            "nflId:44860.0<br>displayName:Joe Mixon<br>Position:HB-R<br>Role:Pass Block",
            "nflId:47794.0<br>displayName:Jonah Williams<br>Position:LT<br>Role:Pass Block",
            "nflId:52409.0<br>displayName:Joe Burrow<br>Position:QB<br>Role:Pass",
            "nflId:52441.0<br>displayName:Tee Higgins<br>Position:LWR<br>Role:Pass Route",
            "nflId:53434.0<br>displayName:Ja'Marr Chase<br>Position:RWR<br>Role:Pass Route"
           ],
           "marker": {
            "color": "#FB4F14"
           },
           "mode": "markers",
           "name": "CIN",
           "type": "scatter",
           "x": [
            63.54,
            63.14,
            62.7,
            63.79,
            63.27,
            63.7,
            67.7,
            63.16,
            67.04,
            63.21,
            62.7
           ],
           "y": [
            26.91,
            25.41,
            23.68,
            18.96,
            22.32,
            33.87,
            26.03,
            20.82,
            23.7,
            8.65,
            42.85
           ]
          },
          {
           "hoverinfo": "none",
           "marker": {
            "color": "#CBB67C"
           },
           "mode": "markers",
           "name": "football",
           "type": "scatter",
           "x": [
            62.5
           ],
           "y": [
            23.69
           ]
          }
         ],
         "name": "2"
        },
        {
         "data": [
          {
           "hoverinfo": "none",
           "mode": "text",
           "showlegend": false,
           "text": [
            "10",
            "20",
            "30",
            "40",
            "50",
            "40",
            "30",
            "20",
            "10"
           ],
           "textfont": {
            "color": "#ffffff",
            "family": "Courier New, monospace",
            "size": 30
           },
           "type": "scatter",
           "x": [
            20,
            30,
            40,
            50,
            60,
            70,
            80,
            90,
            100
           ],
           "y": [
            5,
            5,
            5,
            5,
            5,
            5,
            5,
            5,
            5
           ]
          },
          {
           "hoverinfo": "none",
           "mode": "text",
           "showlegend": false,
           "text": [
            "10",
            "20",
            "30",
            "40",
            "50",
            "40",
            "30",
            "20",
            "10"
           ],
           "textfont": {
            "color": "#ffffff",
            "family": "Courier New, monospace",
            "size": 30
           },
           "type": "scatter",
           "x": [
            20,
            30,
            40,
            50,
            60,
            70,
            80,
            90,
            100
           ],
           "y": [
            48.5,
            48.5,
            48.5,
            48.5,
            48.5,
            48.5,
            48.5,
            48.5,
            48.5
           ]
          },
          {
           "hoverinfo": "none",
           "line": {
            "color": "blue",
            "dash": "dash"
           },
           "showlegend": false,
           "type": "scatter",
           "x": [
            62,
            62
           ],
           "y": [
            0,
            53.5
           ]
          },
          {
           "hoverinfo": "none",
           "line": {
            "color": "yellow",
            "dash": "dash"
           },
           "showlegend": false,
           "type": "scatter",
           "x": [
            69,
            69
           ],
           "y": [
            0,
            53.5
           ]
          },
          {
           "hoverinfo": "text",
           "hovertext": [
            "nflId:37078.0<br>displayName:Patrick Peterson<br>Position:RCB<br>Role:Coverage",
            "nflId:38559.0<br>displayName:Harrison Smith<br>Position:RLB<br>Role:Coverage",
            "nflId:41331.0<br>displayName:Bashaud Breeland<br>Position:LCB<br>Role:Coverage",
            "nflId:42388.0<br>displayName:Eric Kendricks<br>Position:LLB<br>Role:Coverage",
            "nflId:42431.0<br>displayName:Danielle Hunter<br>Position:LEO<br>Role:Pass Rush",
            "nflId:43343.0<br>displayName:Mackensie Alexander<br>Position:LOLB<br>Role:Pass Rush",
            "nflId:43376.0<br>displayName:Nick Vigil<br>Position:RILB<br>Role:Pass Rush",
            "nflId:43694.0<br>displayName:Michael Pierce<br>Position:DRT<br>Role:Pass Rush",
            "nflId:44867.0<br>displayName:Dalvin Tomlinson<br>Position:DLT<br>Role:Pass Rush",
            "nflId:45004.0<br>displayName:Xavier Woods<br>Position:FS<br>Role:Coverage",
            "nflId:52525.0<br>displayName:D.J. Wonnum<br>Position:REO<br>Role:Coverage"
           ],
           "marker": {
            "color": "#4F2683"
           },
           "mode": "markers",
           "name": "MIN",
           "type": "scatter",
           "x": [
            60.52,
            56.39,
            59.86,
            59,
            61.46,
            60.47,
            57.85,
            61.12,
            61.2,
            49.14,
            61.19
           ],
           "y": [
            8.6,
            16.73,
            43.07,
            26.95,
            29.37,
            33.04,
            22.31,
            22.4,
            25.53,
            26.91,
            18.87
           ]
          },
          {
           "hoverinfo": "text",
           "hovertext": [
            "nflId:38553.0<br>displayName:Riley Reiff<br>Position:RT<br>Role:Pass Block",
            "nflId:41262.0<br>displayName:Xavier Su'a-Filo<br>Position:RG<br>Role:Pass Block",
            "nflId:41619.0<br>displayName:Trey Hopkins<br>Position:C<br>Role:Pass Block",
            "nflId:42500.0<br>displayName:C.J. Uzomah<br>Position:TE-L<br>Role:Pass Route",
            "nflId:43045.0<br>displayName:Quinton Spain<br>Position:LG<br>Role:Pass Block",
            "nflId:43344.0<br>displayName:Tyler Boyd<br>Position:SRWR<br>Role:Pass Route",
            "nflId:44860.0<br>displayName:Joe Mixon<br>Position:HB-R<br>Role:Pass Block",
            "nflId:47794.0<br>displayName:Jonah Williams<br>Position:LT<br>Role:Pass Block",
            "nflId:52409.0<br>displayName:Joe Burrow<br>Position:QB<br>Role:Pass",
            "nflId:52441.0<br>displayName:Tee Higgins<br>Position:LWR<br>Role:Pass Route",
            "nflId:53434.0<br>displayName:Ja'Marr Chase<br>Position:RWR<br>Role:Pass Route"
           ],
           "marker": {
            "color": "#FB4F14"
           },
           "mode": "markers",
           "name": "CIN",
           "type": "scatter",
           "x": [
            63.54,
            63.14,
            62.7,
            63.79,
            63.27,
            63.69,
            67.69,
            63.16,
            67.03,
            63.21,
            62.7
           ],
           "y": [
            26.92,
            25.41,
            23.68,
            18.96,
            22.32,
            33.87,
            26.03,
            20.82,
            23.7,
            8.65,
            42.85
           ]
          },
          {
           "hoverinfo": "none",
           "marker": {
            "color": "#CBB67C"
           },
           "mode": "markers",
           "name": "football",
           "type": "scatter",
           "x": [
            62.99
           ],
           "y": [
            23.71
           ]
          }
         ],
         "name": "3"
        },
        {
         "data": [
          {
           "hoverinfo": "none",
           "mode": "text",
           "showlegend": false,
           "text": [
            "10",
            "20",
            "30",
            "40",
            "50",
            "40",
            "30",
            "20",
            "10"
           ],
           "textfont": {
            "color": "#ffffff",
            "family": "Courier New, monospace",
            "size": 30
           },
           "type": "scatter",
           "x": [
            20,
            30,
            40,
            50,
            60,
            70,
            80,
            90,
            100
           ],
           "y": [
            5,
            5,
            5,
            5,
            5,
            5,
            5,
            5,
            5
           ]
          },
          {
           "hoverinfo": "none",
           "mode": "text",
           "showlegend": false,
           "text": [
            "10",
            "20",
            "30",
            "40",
            "50",
            "40",
            "30",
            "20",
            "10"
           ],
           "textfont": {
            "color": "#ffffff",
            "family": "Courier New, monospace",
            "size": 30
           },
           "type": "scatter",
           "x": [
            20,
            30,
            40,
            50,
            60,
            70,
            80,
            90,
            100
           ],
           "y": [
            48.5,
            48.5,
            48.5,
            48.5,
            48.5,
            48.5,
            48.5,
            48.5,
            48.5
           ]
          },
          {
           "hoverinfo": "none",
           "line": {
            "color": "blue",
            "dash": "dash"
           },
           "showlegend": false,
           "type": "scatter",
           "x": [
            62,
            62
           ],
           "y": [
            0,
            53.5
           ]
          },
          {
           "hoverinfo": "none",
           "line": {
            "color": "yellow",
            "dash": "dash"
           },
           "showlegend": false,
           "type": "scatter",
           "x": [
            69,
            69
           ],
           "y": [
            0,
            53.5
           ]
          },
          {
           "hoverinfo": "text",
           "hovertext": [
            "nflId:37078.0<br>displayName:Patrick Peterson<br>Position:RCB<br>Role:Coverage",
            "nflId:38559.0<br>displayName:Harrison Smith<br>Position:RLB<br>Role:Coverage",
            "nflId:41331.0<br>displayName:Bashaud Breeland<br>Position:LCB<br>Role:Coverage",
            "nflId:42388.0<br>displayName:Eric Kendricks<br>Position:LLB<br>Role:Coverage",
            "nflId:42431.0<br>displayName:Danielle Hunter<br>Position:LEO<br>Role:Pass Rush",
            "nflId:43343.0<br>displayName:Mackensie Alexander<br>Position:LOLB<br>Role:Pass Rush",
            "nflId:43376.0<br>displayName:Nick Vigil<br>Position:RILB<br>Role:Pass Rush",
            "nflId:43694.0<br>displayName:Michael Pierce<br>Position:DRT<br>Role:Pass Rush",
            "nflId:44867.0<br>displayName:Dalvin Tomlinson<br>Position:DLT<br>Role:Pass Rush",
            "nflId:45004.0<br>displayName:Xavier Woods<br>Position:FS<br>Role:Coverage",
            "nflId:52525.0<br>displayName:D.J. Wonnum<br>Position:REO<br>Role:Coverage"
           ],
           "marker": {
            "color": "#4F2683"
           },
           "mode": "markers",
           "name": "MIN",
           "type": "scatter",
           "x": [
            60.47,
            56.14,
            59.71,
            59.06,
            61.46,
            60.5,
            57.85,
            61.12,
            61.2,
            49.14,
            61.2
           ],
           "y": [
            8.6,
            16.77,
            43.06,
            26.95,
            29.36,
            32.94,
            22.3,
            22.4,
            25.53,
            26.95,
            18.88
           ]
          },
          {
           "hoverinfo": "text",
           "hovertext": [
            "nflId:38553.0<br>displayName:Riley Reiff<br>Position:RT<br>Role:Pass Block",
            "nflId:41262.0<br>displayName:Xavier Su'a-Filo<br>Position:RG<br>Role:Pass Block",
            "nflId:41619.0<br>displayName:Trey Hopkins<br>Position:C<br>Role:Pass Block",
            "nflId:42500.0<br>displayName:C.J. Uzomah<br>Position:TE-L<br>Role:Pass Route",
            "nflId:43045.0<br>displayName:Quinton Spain<br>Position:LG<br>Role:Pass Block",
            "nflId:43344.0<br>displayName:Tyler Boyd<br>Position:SRWR<br>Role:Pass Route",
            "nflId:44860.0<br>displayName:Joe Mixon<br>Position:HB-R<br>Role:Pass Block",
            "nflId:47794.0<br>displayName:Jonah Williams<br>Position:LT<br>Role:Pass Block",
            "nflId:52409.0<br>displayName:Joe Burrow<br>Position:QB<br>Role:Pass",
            "nflId:52441.0<br>displayName:Tee Higgins<br>Position:LWR<br>Role:Pass Route",
            "nflId:53434.0<br>displayName:Ja'Marr Chase<br>Position:RWR<br>Role:Pass Route"
           ],
           "marker": {
            "color": "#FB4F14"
           },
           "mode": "markers",
           "name": "CIN",
           "type": "scatter",
           "x": [
            63.54,
            63.15,
            62.71,
            63.79,
            63.27,
            63.69,
            67.69,
            63.16,
            67.03,
            63.2,
            62.7
           ],
           "y": [
            26.92,
            25.42,
            23.68,
            18.96,
            22.32,
            33.87,
            26.03,
            20.82,
            23.7,
            8.65,
            42.85
           ]
          },
          {
           "hoverinfo": "none",
           "marker": {
            "color": "#CBB67C"
           },
           "mode": "markers",
           "name": "football",
           "type": "scatter",
           "x": [
            63.37
           ],
           "y": [
            23.71
           ]
          }
         ],
         "name": "4"
        },
        {
         "data": [
          {
           "hoverinfo": "none",
           "mode": "text",
           "showlegend": false,
           "text": [
            "10",
            "20",
            "30",
            "40",
            "50",
            "40",
            "30",
            "20",
            "10"
           ],
           "textfont": {
            "color": "#ffffff",
            "family": "Courier New, monospace",
            "size": 30
           },
           "type": "scatter",
           "x": [
            20,
            30,
            40,
            50,
            60,
            70,
            80,
            90,
            100
           ],
           "y": [
            5,
            5,
            5,
            5,
            5,
            5,
            5,
            5,
            5
           ]
          },
          {
           "hoverinfo": "none",
           "mode": "text",
           "showlegend": false,
           "text": [
            "10",
            "20",
            "30",
            "40",
            "50",
            "40",
            "30",
            "20",
            "10"
           ],
           "textfont": {
            "color": "#ffffff",
            "family": "Courier New, monospace",
            "size": 30
           },
           "type": "scatter",
           "x": [
            20,
            30,
            40,
            50,
            60,
            70,
            80,
            90,
            100
           ],
           "y": [
            48.5,
            48.5,
            48.5,
            48.5,
            48.5,
            48.5,
            48.5,
            48.5,
            48.5
           ]
          },
          {
           "hoverinfo": "none",
           "line": {
            "color": "blue",
            "dash": "dash"
           },
           "showlegend": false,
           "type": "scatter",
           "x": [
            62,
            62
           ],
           "y": [
            0,
            53.5
           ]
          },
          {
           "hoverinfo": "none",
           "line": {
            "color": "yellow",
            "dash": "dash"
           },
           "showlegend": false,
           "type": "scatter",
           "x": [
            69,
            69
           ],
           "y": [
            0,
            53.5
           ]
          },
          {
           "hoverinfo": "text",
           "hovertext": [
            "nflId:37078.0<br>displayName:Patrick Peterson<br>Position:RCB<br>Role:Coverage",
            "nflId:38559.0<br>displayName:Harrison Smith<br>Position:RLB<br>Role:Coverage",
            "nflId:41331.0<br>displayName:Bashaud Breeland<br>Position:LCB<br>Role:Coverage",
            "nflId:42388.0<br>displayName:Eric Kendricks<br>Position:LLB<br>Role:Coverage",
            "nflId:42431.0<br>displayName:Danielle Hunter<br>Position:LEO<br>Role:Pass Rush",
            "nflId:43343.0<br>displayName:Mackensie Alexander<br>Position:LOLB<br>Role:Pass Rush",
            "nflId:43376.0<br>displayName:Nick Vigil<br>Position:RILB<br>Role:Pass Rush",
            "nflId:43694.0<br>displayName:Michael Pierce<br>Position:DRT<br>Role:Pass Rush",
            "nflId:44867.0<br>displayName:Dalvin Tomlinson<br>Position:DLT<br>Role:Pass Rush",
            "nflId:45004.0<br>displayName:Xavier Woods<br>Position:FS<br>Role:Coverage",
            "nflId:52525.0<br>displayName:D.J. Wonnum<br>Position:REO<br>Role:Coverage"
           ],
           "marker": {
            "color": "#4F2683"
           },
           "mode": "markers",
           "name": "MIN",
           "type": "scatter",
           "x": [
            60.38,
            55.86,
            59.55,
            59.1,
            61.47,
            60.53,
            57.86,
            61.12,
            61.21,
            49.15,
            61.2
           ],
           "y": [
            8.59,
            16.8,
            43.05,
            26.95,
            29.37,
            32.79,
            22.31,
            22.4,
            25.52,
            27,
            18.88
           ]
          },
          {
           "hoverinfo": "text",
           "hovertext": [
            "nflId:38553.0<br>displayName:Riley Reiff<br>Position:RT<br>Role:Pass Block",
            "nflId:41262.0<br>displayName:Xavier Su'a-Filo<br>Position:RG<br>Role:Pass Block",
            "nflId:41619.0<br>displayName:Trey Hopkins<br>Position:C<br>Role:Pass Block",
            "nflId:42500.0<br>displayName:C.J. Uzomah<br>Position:TE-L<br>Role:Pass Route",
            "nflId:43045.0<br>displayName:Quinton Spain<br>Position:LG<br>Role:Pass Block",
            "nflId:43344.0<br>displayName:Tyler Boyd<br>Position:SRWR<br>Role:Pass Route",
            "nflId:44860.0<br>displayName:Joe Mixon<br>Position:HB-R<br>Role:Pass Block",
            "nflId:47794.0<br>displayName:Jonah Williams<br>Position:LT<br>Role:Pass Block",
            "nflId:52409.0<br>displayName:Joe Burrow<br>Position:QB<br>Role:Pass",
            "nflId:52441.0<br>displayName:Tee Higgins<br>Position:LWR<br>Role:Pass Route",
            "nflId:53434.0<br>displayName:Ja'Marr Chase<br>Position:RWR<br>Role:Pass Route"
           ],
           "marker": {
            "color": "#FB4F14"
           },
           "mode": "markers",
           "name": "CIN",
           "type": "scatter",
           "x": [
            63.55,
            63.15,
            62.72,
            63.79,
            63.27,
            63.68,
            67.69,
            63.17,
            67.03,
            63.2,
            62.7
           ],
           "y": [
            26.93,
            25.42,
            23.69,
            18.95,
            22.31,
            33.87,
            26.03,
            20.82,
            23.7,
            8.65,
            42.85
           ]
          },
          {
           "hoverinfo": "none",
           "marker": {
            "color": "#CBB67C"
           },
           "mode": "markers",
           "name": "football",
           "type": "scatter",
           "x": [
            63.56
           ],
           "y": [
            23.69
           ]
          }
         ],
         "name": "5"
        },
        {
         "data": [
          {
           "hoverinfo": "none",
           "mode": "text",
           "showlegend": false,
           "text": [
            "10",
            "20",
            "30",
            "40",
            "50",
            "40",
            "30",
            "20",
            "10"
           ],
           "textfont": {
            "color": "#ffffff",
            "family": "Courier New, monospace",
            "size": 30
           },
           "type": "scatter",
           "x": [
            20,
            30,
            40,
            50,
            60,
            70,
            80,
            90,
            100
           ],
           "y": [
            5,
            5,
            5,
            5,
            5,
            5,
            5,
            5,
            5
           ]
          },
          {
           "hoverinfo": "none",
           "mode": "text",
           "showlegend": false,
           "text": [
            "10",
            "20",
            "30",
            "40",
            "50",
            "40",
            "30",
            "20",
            "10"
           ],
           "textfont": {
            "color": "#ffffff",
            "family": "Courier New, monospace",
            "size": 30
           },
           "type": "scatter",
           "x": [
            20,
            30,
            40,
            50,
            60,
            70,
            80,
            90,
            100
           ],
           "y": [
            48.5,
            48.5,
            48.5,
            48.5,
            48.5,
            48.5,
            48.5,
            48.5,
            48.5
           ]
          },
          {
           "hoverinfo": "none",
           "line": {
            "color": "blue",
            "dash": "dash"
           },
           "showlegend": false,
           "type": "scatter",
           "x": [
            62,
            62
           ],
           "y": [
            0,
            53.5
           ]
          },
          {
           "hoverinfo": "none",
           "line": {
            "color": "yellow",
            "dash": "dash"
           },
           "showlegend": false,
           "type": "scatter",
           "x": [
            69,
            69
           ],
           "y": [
            0,
            53.5
           ]
          },
          {
           "hoverinfo": "text",
           "hovertext": [
            "nflId:37078.0<br>displayName:Patrick Peterson<br>Position:RCB<br>Role:Coverage",
            "nflId:38559.0<br>displayName:Harrison Smith<br>Position:RLB<br>Role:Coverage",
            "nflId:41331.0<br>displayName:Bashaud Breeland<br>Position:LCB<br>Role:Coverage",
            "nflId:42388.0<br>displayName:Eric Kendricks<br>Position:LLB<br>Role:Coverage",
            "nflId:42431.0<br>displayName:Danielle Hunter<br>Position:LEO<br>Role:Pass Rush",
            "nflId:43343.0<br>displayName:Mackensie Alexander<br>Position:LOLB<br>Role:Pass Rush",
            "nflId:43376.0<br>displayName:Nick Vigil<br>Position:RILB<br>Role:Pass Rush",
            "nflId:43694.0<br>displayName:Michael Pierce<br>Position:DRT<br>Role:Pass Rush",
            "nflId:44867.0<br>displayName:Dalvin Tomlinson<br>Position:DLT<br>Role:Pass Rush",
            "nflId:45004.0<br>displayName:Xavier Woods<br>Position:FS<br>Role:Coverage",
            "nflId:52525.0<br>displayName:D.J. Wonnum<br>Position:REO<br>Role:Coverage"
           ],
           "marker": {
            "color": "#4F2683"
           },
           "mode": "markers",
           "name": "MIN",
           "type": "scatter",
           "x": [
            60.26,
            55.55,
            59.4,
            59.13,
            61.51,
            60.58,
            57.89,
            61.13,
            61.22,
            49.16,
            61.2
           ],
           "y": [
            8.57,
            16.84,
            43.05,
            26.94,
            29.36,
            32.6,
            22.31,
            22.39,
            25.52,
            27.07,
            18.88
           ]
          },
          {
           "hoverinfo": "text",
           "hovertext": [
            "nflId:38553.0<br>displayName:Riley Reiff<br>Position:RT<br>Role:Pass Block",
            "nflId:41262.0<br>displayName:Xavier Su'a-Filo<br>Position:RG<br>Role:Pass Block",
            "nflId:41619.0<br>displayName:Trey Hopkins<br>Position:C<br>Role:Pass Block",
            "nflId:42500.0<br>displayName:C.J. Uzomah<br>Position:TE-L<br>Role:Pass Route",
            "nflId:43045.0<br>displayName:Quinton Spain<br>Position:LG<br>Role:Pass Block",
            "nflId:43344.0<br>displayName:Tyler Boyd<br>Position:SRWR<br>Role:Pass Route",
            "nflId:44860.0<br>displayName:Joe Mixon<br>Position:HB-R<br>Role:Pass Block",
            "nflId:47794.0<br>displayName:Jonah Williams<br>Position:LT<br>Role:Pass Block",
            "nflId:52409.0<br>displayName:Joe Burrow<br>Position:QB<br>Role:Pass",
            "nflId:52441.0<br>displayName:Tee Higgins<br>Position:LWR<br>Role:Pass Route",
            "nflId:53434.0<br>displayName:Ja'Marr Chase<br>Position:RWR<br>Role:Pass Route"
           ],
           "marker": {
            "color": "#FB4F14"
           },
           "mode": "markers",
           "name": "CIN",
           "type": "scatter",
           "x": [
            63.56,
            63.16,
            62.75,
            63.79,
            63.29,
            63.65,
            67.68,
            63.18,
            67.03,
            63.19,
            62.7
           ],
           "y": [
            26.95,
            25.42,
            23.69,
            18.95,
            22.3,
            33.86,
            26.02,
            20.81,
            23.7,
            8.65,
            42.85
           ]
          },
          {
           "hoverinfo": "none",
           "marker": {
            "color": "#CBB67C"
           },
           "mode": "markers",
           "name": "football",
           "type": "scatter",
           "x": [
            63.9
           ],
           "y": [
            23.68
           ]
          }
         ],
         "name": "6"
        },
        {
         "data": [
          {
           "hoverinfo": "none",
           "mode": "text",
           "showlegend": false,
           "text": [
            "10",
            "20",
            "30",
            "40",
            "50",
            "40",
            "30",
            "20",
            "10"
           ],
           "textfont": {
            "color": "#ffffff",
            "family": "Courier New, monospace",
            "size": 30
           },
           "type": "scatter",
           "x": [
            20,
            30,
            40,
            50,
            60,
            70,
            80,
            90,
            100
           ],
           "y": [
            5,
            5,
            5,
            5,
            5,
            5,
            5,
            5,
            5
           ]
          },
          {
           "hoverinfo": "none",
           "mode": "text",
           "showlegend": false,
           "text": [
            "10",
            "20",
            "30",
            "40",
            "50",
            "40",
            "30",
            "20",
            "10"
           ],
           "textfont": {
            "color": "#ffffff",
            "family": "Courier New, monospace",
            "size": 30
           },
           "type": "scatter",
           "x": [
            20,
            30,
            40,
            50,
            60,
            70,
            80,
            90,
            100
           ],
           "y": [
            48.5,
            48.5,
            48.5,
            48.5,
            48.5,
            48.5,
            48.5,
            48.5,
            48.5
           ]
          },
          {
           "hoverinfo": "none",
           "line": {
            "color": "blue",
            "dash": "dash"
           },
           "showlegend": false,
           "type": "scatter",
           "x": [
            62,
            62
           ],
           "y": [
            0,
            53.5
           ]
          },
          {
           "hoverinfo": "none",
           "line": {
            "color": "yellow",
            "dash": "dash"
           },
           "showlegend": false,
           "type": "scatter",
           "x": [
            69,
            69
           ],
           "y": [
            0,
            53.5
           ]
          },
          {
           "hoverinfo": "text",
           "hovertext": [
            "nflId:37078.0<br>displayName:Patrick Peterson<br>Position:RCB<br>Role:Coverage",
            "nflId:38559.0<br>displayName:Harrison Smith<br>Position:RLB<br>Role:Coverage",
            "nflId:41331.0<br>displayName:Bashaud Breeland<br>Position:LCB<br>Role:Coverage",
            "nflId:42388.0<br>displayName:Eric Kendricks<br>Position:LLB<br>Role:Coverage",
            "nflId:42431.0<br>displayName:Danielle Hunter<br>Position:LEO<br>Role:Pass Rush",
            "nflId:43343.0<br>displayName:Mackensie Alexander<br>Position:LOLB<br>Role:Pass Rush",
            "nflId:43376.0<br>displayName:Nick Vigil<br>Position:RILB<br>Role:Pass Rush",
            "nflId:43694.0<br>displayName:Michael Pierce<br>Position:DRT<br>Role:Pass Rush",
            "nflId:44867.0<br>displayName:Dalvin Tomlinson<br>Position:DLT<br>Role:Pass Rush",
            "nflId:45004.0<br>displayName:Xavier Woods<br>Position:FS<br>Role:Coverage",
            "nflId:52525.0<br>displayName:D.J. Wonnum<br>Position:REO<br>Role:Coverage"
           ],
           "marker": {
            "color": "#4F2683"
           },
           "mode": "markers",
           "name": "MIN",
           "type": "scatter",
           "x": [
            60.09,
            55.22,
            59.24,
            59.17,
            61.56,
            60.64,
            57.96,
            61.14,
            61.25,
            49.18,
            61.21
           ],
           "y": [
            8.55,
            16.89,
            43.04,
            26.95,
            29.36,
            32.38,
            22.31,
            22.36,
            25.5,
            27.17,
            18.88
           ]
          },
          {
           "hoverinfo": "text",
           "hovertext": [
            "nflId:38553.0<br>displayName:Riley Reiff<br>Position:RT<br>Role:Pass Block",
            "nflId:41262.0<br>displayName:Xavier Su'a-Filo<br>Position:RG<br>Role:Pass Block",
            "nflId:41619.0<br>displayName:Trey Hopkins<br>Position:C<br>Role:Pass Block",
            "nflId:42500.0<br>displayName:C.J. Uzomah<br>Position:TE-L<br>Role:Pass Route",
            "nflId:43045.0<br>displayName:Quinton Spain<br>Position:LG<br>Role:Pass Block",
            "nflId:43344.0<br>displayName:Tyler Boyd<br>Position:SRWR<br>Role:Pass Route",
            "nflId:44860.0<br>displayName:Joe Mixon<br>Position:HB-R<br>Role:Pass Block",
            "nflId:47794.0<br>displayName:Jonah Williams<br>Position:LT<br>Role:Pass Block",
            "nflId:52409.0<br>displayName:Joe Burrow<br>Position:QB<br>Role:Pass",
            "nflId:52441.0<br>displayName:Tee Higgins<br>Position:LWR<br>Role:Pass Route",
            "nflId:53434.0<br>displayName:Ja'Marr Chase<br>Position:RWR<br>Role:Pass Route"
           ],
           "marker": {
            "color": "#FB4F14"
           },
           "mode": "markers",
           "name": "CIN",
           "type": "scatter",
           "x": [
            63.59,
            63.18,
            62.81,
            63.78,
            63.31,
            63.64,
            67.67,
            63.2,
            67.04,
            63.18,
            62.69
           ],
           "y": [
            27,
            25.43,
            23.7,
            18.95,
            22.3,
            33.86,
            26.02,
            20.78,
            23.7,
            8.65,
            42.85
           ]
          },
          {
           "hoverinfo": "none",
           "marker": {
            "color": "#CBB67C"
           },
           "mode": "markers",
           "name": "football",
           "type": "scatter",
           "x": [
            64.08
           ],
           "y": [
            23.67
           ]
          }
         ],
         "name": "7"
        },
        {
         "data": [
          {
           "hoverinfo": "none",
           "mode": "text",
           "showlegend": false,
           "text": [
            "10",
            "20",
            "30",
            "40",
            "50",
            "40",
            "30",
            "20",
            "10"
           ],
           "textfont": {
            "color": "#ffffff",
            "family": "Courier New, monospace",
            "size": 30
           },
           "type": "scatter",
           "x": [
            20,
            30,
            40,
            50,
            60,
            70,
            80,
            90,
            100
           ],
           "y": [
            5,
            5,
            5,
            5,
            5,
            5,
            5,
            5,
            5
           ]
          },
          {
           "hoverinfo": "none",
           "mode": "text",
           "showlegend": false,
           "text": [
            "10",
            "20",
            "30",
            "40",
            "50",
            "40",
            "30",
            "20",
            "10"
           ],
           "textfont": {
            "color": "#ffffff",
            "family": "Courier New, monospace",
            "size": 30
           },
           "type": "scatter",
           "x": [
            20,
            30,
            40,
            50,
            60,
            70,
            80,
            90,
            100
           ],
           "y": [
            48.5,
            48.5,
            48.5,
            48.5,
            48.5,
            48.5,
            48.5,
            48.5,
            48.5
           ]
          },
          {
           "hoverinfo": "none",
           "line": {
            "color": "blue",
            "dash": "dash"
           },
           "showlegend": false,
           "type": "scatter",
           "x": [
            62,
            62
           ],
           "y": [
            0,
            53.5
           ]
          },
          {
           "hoverinfo": "none",
           "line": {
            "color": "yellow",
            "dash": "dash"
           },
           "showlegend": false,
           "type": "scatter",
           "x": [
            69,
            69
           ],
           "y": [
            0,
            53.5
           ]
          },
          {
           "hoverinfo": "text",
           "hovertext": [
            "nflId:37078.0<br>displayName:Patrick Peterson<br>Position:RCB<br>Role:Coverage",
            "nflId:38559.0<br>displayName:Harrison Smith<br>Position:RLB<br>Role:Coverage",
            "nflId:41331.0<br>displayName:Bashaud Breeland<br>Position:LCB<br>Role:Coverage",
            "nflId:42388.0<br>displayName:Eric Kendricks<br>Position:LLB<br>Role:Coverage",
            "nflId:42431.0<br>displayName:Danielle Hunter<br>Position:LEO<br>Role:Pass Rush",
            "nflId:43343.0<br>displayName:Mackensie Alexander<br>Position:LOLB<br>Role:Pass Rush",
            "nflId:43376.0<br>displayName:Nick Vigil<br>Position:RILB<br>Role:Pass Rush",
            "nflId:43694.0<br>displayName:Michael Pierce<br>Position:DRT<br>Role:Pass Rush",
            "nflId:44867.0<br>displayName:Dalvin Tomlinson<br>Position:DLT<br>Role:Pass Rush",
            "nflId:45004.0<br>displayName:Xavier Woods<br>Position:FS<br>Role:Coverage",
            "nflId:52525.0<br>displayName:D.J. Wonnum<br>Position:REO<br>Role:Coverage"
           ],
           "marker": {
            "color": "#4F2683"
           },
           "mode": "markers",
           "name": "MIN",
           "type": "scatter",
           "x": [
            59.89,
            54.87,
            59.07,
            59.2,
            61.66,
            60.73,
            58.07,
            61.18,
            61.3,
            49.2,
            61.22
           ],
           "y": [
            8.53,
            16.95,
            43.05,
            26.98,
            29.35,
            32.12,
            22.31,
            22.32,
            25.46,
            27.28,
            18.88
           ]
          },
          {
           "hoverinfo": "text",
           "hovertext": [
            "nflId:38553.0<br>displayName:Riley Reiff<br>Position:RT<br>Role:Pass Block",
            "nflId:41262.0<br>displayName:Xavier Su'a-Filo<br>Position:RG<br>Role:Pass Block",
            "nflId:41619.0<br>displayName:Trey Hopkins<br>Position:C<br>Role:Pass Block",
            "nflId:42500.0<br>displayName:C.J. Uzomah<br>Position:TE-L<br>Role:Pass Route",
            "nflId:43045.0<br>displayName:Quinton Spain<br>Position:LG<br>Role:Pass Block",
            "nflId:43344.0<br>displayName:Tyler Boyd<br>Position:SRWR<br>Role:Pass Route",
            "nflId:44860.0<br>displayName:Joe Mixon<br>Position:HB-R<br>Role:Pass Block",
            "nflId:47794.0<br>displayName:Jonah Williams<br>Position:LT<br>Role:Pass Block",
            "nflId:52409.0<br>displayName:Joe Burrow<br>Position:QB<br>Role:Pass",
            "nflId:52441.0<br>displayName:Tee Higgins<br>Position:LWR<br>Role:Pass Route",
            "nflId:53434.0<br>displayName:Ja'Marr Chase<br>Position:RWR<br>Role:Pass Route"
           ],
           "marker": {
            "color": "#FB4F14"
           },
           "mode": "markers",
           "name": "CIN",
           "type": "scatter",
           "x": [
            63.65,
            63.2,
            62.89,
            63.78,
            63.34,
            63.6,
            67.64,
            63.22,
            67.04,
            63.16,
            62.68
           ],
           "y": [
            27.07,
            25.43,
            23.74,
            18.94,
            22.28,
            33.85,
            26.04,
            20.75,
            23.69,
            8.65,
            42.84
           ]
          },
          {
           "hoverinfo": "none",
           "marker": {
            "color": "#CBB67C"
           },
           "mode": "markers",
           "name": "football",
           "type": "scatter",
           "x": [
            64.32
           ],
           "y": [
            23.67
           ]
          }
         ],
         "name": "8"
        },
        {
         "data": [
          {
           "hoverinfo": "none",
           "mode": "text",
           "showlegend": false,
           "text": [
            "10",
            "20",
            "30",
            "40",
            "50",
            "40",
            "30",
            "20",
            "10"
           ],
           "textfont": {
            "color": "#ffffff",
            "family": "Courier New, monospace",
            "size": 30
           },
           "type": "scatter",
           "x": [
            20,
            30,
            40,
            50,
            60,
            70,
            80,
            90,
            100
           ],
           "y": [
            5,
            5,
            5,
            5,
            5,
            5,
            5,
            5,
            5
           ]
          },
          {
           "hoverinfo": "none",
           "mode": "text",
           "showlegend": false,
           "text": [
            "10",
            "20",
            "30",
            "40",
            "50",
            "40",
            "30",
            "20",
            "10"
           ],
           "textfont": {
            "color": "#ffffff",
            "family": "Courier New, monospace",
            "size": 30
           },
           "type": "scatter",
           "x": [
            20,
            30,
            40,
            50,
            60,
            70,
            80,
            90,
            100
           ],
           "y": [
            48.5,
            48.5,
            48.5,
            48.5,
            48.5,
            48.5,
            48.5,
            48.5,
            48.5
           ]
          },
          {
           "hoverinfo": "none",
           "line": {
            "color": "blue",
            "dash": "dash"
           },
           "showlegend": false,
           "type": "scatter",
           "x": [
            62,
            62
           ],
           "y": [
            0,
            53.5
           ]
          },
          {
           "hoverinfo": "none",
           "line": {
            "color": "yellow",
            "dash": "dash"
           },
           "showlegend": false,
           "type": "scatter",
           "x": [
            69,
            69
           ],
           "y": [
            0,
            53.5
           ]
          },
          {
           "hoverinfo": "text",
           "hovertext": [
            "nflId:37078.0<br>displayName:Patrick Peterson<br>Position:RCB<br>Role:Coverage",
            "nflId:38559.0<br>displayName:Harrison Smith<br>Position:RLB<br>Role:Coverage",
            "nflId:41331.0<br>displayName:Bashaud Breeland<br>Position:LCB<br>Role:Coverage",
            "nflId:42388.0<br>displayName:Eric Kendricks<br>Position:LLB<br>Role:Coverage",
            "nflId:42431.0<br>displayName:Danielle Hunter<br>Position:LEO<br>Role:Pass Rush",
            "nflId:43343.0<br>displayName:Mackensie Alexander<br>Position:LOLB<br>Role:Pass Rush",
            "nflId:43376.0<br>displayName:Nick Vigil<br>Position:RILB<br>Role:Pass Rush",
            "nflId:43694.0<br>displayName:Michael Pierce<br>Position:DRT<br>Role:Pass Rush",
            "nflId:44867.0<br>displayName:Dalvin Tomlinson<br>Position:DLT<br>Role:Pass Rush",
            "nflId:45004.0<br>displayName:Xavier Woods<br>Position:FS<br>Role:Coverage",
            "nflId:52525.0<br>displayName:D.J. Wonnum<br>Position:REO<br>Role:Coverage"
           ],
           "marker": {
            "color": "#4F2683"
           },
           "mode": "markers",
           "name": "MIN",
           "type": "scatter",
           "x": [
            59.64,
            54.49,
            58.9,
            59.22,
            61.81,
            60.83,
            58.26,
            61.24,
            61.39,
            49.22,
            61.25
           ],
           "y": [
            8.5,
            17,
            43.06,
            27.05,
            29.35,
            31.83,
            22.31,
            22.26,
            25.39,
            27.42,
            18.87
           ]
          },
          {
           "hoverinfo": "text",
           "hovertext": [
            "nflId:38553.0<br>displayName:Riley Reiff<br>Position:RT<br>Role:Pass Block",
            "nflId:41262.0<br>displayName:Xavier Su'a-Filo<br>Position:RG<br>Role:Pass Block",
            "nflId:41619.0<br>displayName:Trey Hopkins<br>Position:C<br>Role:Pass Block",
            "nflId:42500.0<br>displayName:C.J. Uzomah<br>Position:TE-L<br>Role:Pass Route",
            "nflId:43045.0<br>displayName:Quinton Spain<br>Position:LG<br>Role:Pass Block",
            "nflId:43344.0<br>displayName:Tyler Boyd<br>Position:SRWR<br>Role:Pass Route",
            "nflId:44860.0<br>displayName:Joe Mixon<br>Position:HB-R<br>Role:Pass Block",
            "nflId:47794.0<br>displayName:Jonah Williams<br>Position:LT<br>Role:Pass Block",
            "nflId:52409.0<br>displayName:Joe Burrow<br>Position:QB<br>Role:Pass",
            "nflId:52441.0<br>displayName:Tee Higgins<br>Position:LWR<br>Role:Pass Route",
            "nflId:53434.0<br>displayName:Ja'Marr Chase<br>Position:RWR<br>Role:Pass Route"
           ],
           "marker": {
            "color": "#FB4F14"
           },
           "mode": "markers",
           "name": "CIN",
           "type": "scatter",
           "x": [
            63.74,
            63.24,
            62.98,
            63.78,
            63.37,
            63.5,
            67.61,
            63.28,
            67.05,
            63.1,
            62.63
           ],
           "y": [
            27.18,
            25.43,
            23.79,
            18.94,
            22.25,
            33.84,
            26.05,
            20.7,
            23.69,
            8.64,
            42.84
           ]
          },
          {
           "hoverinfo": "none",
           "marker": {
            "color": "#CBB67C"
           },
           "mode": "markers",
           "name": "football",
           "type": "scatter",
           "x": [
            64.58
           ],
           "y": [
            23.68
           ]
          }
         ],
         "name": "9"
        },
        {
         "data": [
          {
           "hoverinfo": "none",
           "mode": "text",
           "showlegend": false,
           "text": [
            "10",
            "20",
            "30",
            "40",
            "50",
            "40",
            "30",
            "20",
            "10"
           ],
           "textfont": {
            "color": "#ffffff",
            "family": "Courier New, monospace",
            "size": 30
           },
           "type": "scatter",
           "x": [
            20,
            30,
            40,
            50,
            60,
            70,
            80,
            90,
            100
           ],
           "y": [
            5,
            5,
            5,
            5,
            5,
            5,
            5,
            5,
            5
           ]
          },
          {
           "hoverinfo": "none",
           "mode": "text",
           "showlegend": false,
           "text": [
            "10",
            "20",
            "30",
            "40",
            "50",
            "40",
            "30",
            "20",
            "10"
           ],
           "textfont": {
            "color": "#ffffff",
            "family": "Courier New, monospace",
            "size": 30
           },
           "type": "scatter",
           "x": [
            20,
            30,
            40,
            50,
            60,
            70,
            80,
            90,
            100
           ],
           "y": [
            48.5,
            48.5,
            48.5,
            48.5,
            48.5,
            48.5,
            48.5,
            48.5,
            48.5
           ]
          },
          {
           "hoverinfo": "none",
           "line": {
            "color": "blue",
            "dash": "dash"
           },
           "showlegend": false,
           "type": "scatter",
           "x": [
            62,
            62
           ],
           "y": [
            0,
            53.5
           ]
          },
          {
           "hoverinfo": "none",
           "line": {
            "color": "yellow",
            "dash": "dash"
           },
           "showlegend": false,
           "type": "scatter",
           "x": [
            69,
            69
           ],
           "y": [
            0,
            53.5
           ]
          },
          {
           "hoverinfo": "text",
           "hovertext": [
            "nflId:37078.0<br>displayName:Patrick Peterson<br>Position:RCB<br>Role:Coverage",
            "nflId:38559.0<br>displayName:Harrison Smith<br>Position:RLB<br>Role:Coverage",
            "nflId:41331.0<br>displayName:Bashaud Breeland<br>Position:LCB<br>Role:Coverage",
            "nflId:42388.0<br>displayName:Eric Kendricks<br>Position:LLB<br>Role:Coverage",
            "nflId:42431.0<br>displayName:Danielle Hunter<br>Position:LEO<br>Role:Pass Rush",
            "nflId:43343.0<br>displayName:Mackensie Alexander<br>Position:LOLB<br>Role:Pass Rush",
            "nflId:43376.0<br>displayName:Nick Vigil<br>Position:RILB<br>Role:Pass Rush",
            "nflId:43694.0<br>displayName:Michael Pierce<br>Position:DRT<br>Role:Pass Rush",
            "nflId:44867.0<br>displayName:Dalvin Tomlinson<br>Position:DLT<br>Role:Pass Rush",
            "nflId:45004.0<br>displayName:Xavier Woods<br>Position:FS<br>Role:Coverage",
            "nflId:52525.0<br>displayName:D.J. Wonnum<br>Position:REO<br>Role:Coverage"
           ],
           "marker": {
            "color": "#4F2683"
           },
           "mode": "markers",
           "name": "MIN",
           "type": "scatter",
           "x": [
            59.36,
            54.09,
            58.72,
            59.23,
            61.98,
            60.97,
            58.53,
            61.34,
            61.51,
            49.25,
            61.3
           ],
           "y": [
            8.48,
            17.05,
            43.08,
            27.15,
            29.34,
            31.51,
            22.33,
            22.17,
            25.3,
            27.59,
            18.85
           ]
          },
          {
           "hoverinfo": "text",
           "hovertext": [
            "nflId:38553.0<br>displayName:Riley Reiff<br>Position:RT<br>Role:Pass Block",
            "nflId:41262.0<br>displayName:Xavier Su'a-Filo<br>Position:RG<br>Role:Pass Block",
            "nflId:41619.0<br>displayName:Trey Hopkins<br>Position:C<br>Role:Pass Block",
            "nflId:42500.0<br>displayName:C.J. Uzomah<br>Position:TE-L<br>Role:Pass Route",
            "nflId:43045.0<br>displayName:Quinton Spain<br>Position:LG<br>Role:Pass Block",
            "nflId:43344.0<br>displayName:Tyler Boyd<br>Position:SRWR<br>Role:Pass Route",
            "nflId:44860.0<br>displayName:Joe Mixon<br>Position:HB-R<br>Role:Pass Block",
            "nflId:47794.0<br>displayName:Jonah Williams<br>Position:LT<br>Role:Pass Block",
            "nflId:52409.0<br>displayName:Joe Burrow<br>Position:QB<br>Role:Pass",
            "nflId:52441.0<br>displayName:Tee Higgins<br>Position:LWR<br>Role:Pass Route",
            "nflId:53434.0<br>displayName:Ja'Marr Chase<br>Position:RWR<br>Role:Pass Route"
           ],
           "marker": {
            "color": "#FB4F14"
           },
           "mode": "markers",
           "name": "CIN",
           "type": "scatter",
           "x": [
            63.86,
            63.3,
            63.08,
            63.77,
            63.41,
            63.32,
            67.57,
            63.35,
            67.06,
            62.98,
            62.54
           ],
           "y": [
            27.3,
            25.44,
            23.87,
            18.93,
            22.2,
            33.81,
            26.08,
            20.63,
            23.69,
            8.63,
            42.84
           ]
          },
          {
           "hoverinfo": "none",
           "marker": {
            "color": "#CBB67C"
           },
           "mode": "markers",
           "name": "football",
           "type": "scatter",
           "x": [
            64.84
           ],
           "y": [
            23.7
           ]
          }
         ],
         "name": "10"
        },
        {
         "data": [
          {
           "hoverinfo": "none",
           "mode": "text",
           "showlegend": false,
           "text": [
            "10",
            "20",
            "30",
            "40",
            "50",
            "40",
            "30",
            "20",
            "10"
           ],
           "textfont": {
            "color": "#ffffff",
            "family": "Courier New, monospace",
            "size": 30
           },
           "type": "scatter",
           "x": [
            20,
            30,
            40,
            50,
            60,
            70,
            80,
            90,
            100
           ],
           "y": [
            5,
            5,
            5,
            5,
            5,
            5,
            5,
            5,
            5
           ]
          },
          {
           "hoverinfo": "none",
           "mode": "text",
           "showlegend": false,
           "text": [
            "10",
            "20",
            "30",
            "40",
            "50",
            "40",
            "30",
            "20",
            "10"
           ],
           "textfont": {
            "color": "#ffffff",
            "family": "Courier New, monospace",
            "size": 30
           },
           "type": "scatter",
           "x": [
            20,
            30,
            40,
            50,
            60,
            70,
            80,
            90,
            100
           ],
           "y": [
            48.5,
            48.5,
            48.5,
            48.5,
            48.5,
            48.5,
            48.5,
            48.5,
            48.5
           ]
          },
          {
           "hoverinfo": "none",
           "line": {
            "color": "blue",
            "dash": "dash"
           },
           "showlegend": false,
           "type": "scatter",
           "x": [
            62,
            62
           ],
           "y": [
            0,
            53.5
           ]
          },
          {
           "hoverinfo": "none",
           "line": {
            "color": "yellow",
            "dash": "dash"
           },
           "showlegend": false,
           "type": "scatter",
           "x": [
            69,
            69
           ],
           "y": [
            0,
            53.5
           ]
          },
          {
           "hoverinfo": "text",
           "hovertext": [
            "nflId:37078.0<br>displayName:Patrick Peterson<br>Position:RCB<br>Role:Coverage",
            "nflId:38559.0<br>displayName:Harrison Smith<br>Position:RLB<br>Role:Coverage",
            "nflId:41331.0<br>displayName:Bashaud Breeland<br>Position:LCB<br>Role:Coverage",
            "nflId:42388.0<br>displayName:Eric Kendricks<br>Position:LLB<br>Role:Coverage",
            "nflId:42431.0<br>displayName:Danielle Hunter<br>Position:LEO<br>Role:Pass Rush",
            "nflId:43343.0<br>displayName:Mackensie Alexander<br>Position:LOLB<br>Role:Pass Rush",
            "nflId:43376.0<br>displayName:Nick Vigil<br>Position:RILB<br>Role:Pass Rush",
            "nflId:43694.0<br>displayName:Michael Pierce<br>Position:DRT<br>Role:Pass Rush",
            "nflId:44867.0<br>displayName:Dalvin Tomlinson<br>Position:DLT<br>Role:Pass Rush",
            "nflId:45004.0<br>displayName:Xavier Woods<br>Position:FS<br>Role:Coverage",
            "nflId:52525.0<br>displayName:D.J. Wonnum<br>Position:REO<br>Role:Coverage"
           ],
           "marker": {
            "color": "#4F2683"
           },
           "mode": "markers",
           "name": "MIN",
           "type": "scatter",
           "x": [
            59.05,
            53.69,
            58.52,
            59.24,
            62.23,
            61.13,
            58.86,
            61.49,
            61.66,
            49.27,
            61.35
           ],
           "y": [
            8.44,
            17.08,
            43.1,
            27.28,
            29.34,
            31.18,
            22.34,
            22.05,
            25.2,
            27.78,
            18.83
           ]
          },
          {
           "hoverinfo": "text",
           "hovertext": [
            "nflId:38553.0<br>displayName:Riley Reiff<br>Position:RT<br>Role:Pass Block",
            "nflId:41262.0<br>displayName:Xavier Su'a-Filo<br>Position:RG<br>Role:Pass Block",
            "nflId:41619.0<br>displayName:Trey Hopkins<br>Position:C<br>Role:Pass Block",
            "nflId:42500.0<br>displayName:C.J. Uzomah<br>Position:TE-L<br>Role:Pass Route",
            "nflId:43045.0<br>displayName:Quinton Spain<br>Position:LG<br>Role:Pass Block",
            "nflId:43344.0<br>displayName:Tyler Boyd<br>Position:SRWR<br>Role:Pass Route",
            "nflId:44860.0<br>displayName:Joe Mixon<br>Position:HB-R<br>Role:Pass Block",
            "nflId:47794.0<br>displayName:Jonah Williams<br>Position:LT<br>Role:Pass Block",
            "nflId:52409.0<br>displayName:Joe Burrow<br>Position:QB<br>Role:Pass",
            "nflId:52441.0<br>displayName:Tee Higgins<br>Position:LWR<br>Role:Pass Route",
            "nflId:53434.0<br>displayName:Ja'Marr Chase<br>Position:RWR<br>Role:Pass Route"
           ],
           "marker": {
            "color": "#FB4F14"
           },
           "mode": "markers",
           "name": "CIN",
           "type": "scatter",
           "x": [
            64.01,
            63.37,
            63.2,
            63.75,
            63.46,
            63.08,
            67.51,
            63.41,
            67.09,
            62.79,
            62.41
           ],
           "y": [
            27.44,
            25.45,
            23.95,
            18.9,
            22.14,
            33.77,
            26.12,
            20.54,
            23.68,
            8.6,
            42.83
           ]
          },
          {
           "hoverinfo": "none",
           "marker": {
            "color": "#CBB67C"
           },
           "mode": "markers",
           "name": "football",
           "type": "scatter",
           "x": [
            65.14
           ],
           "y": [
            23.71
           ]
          }
         ],
         "name": "11"
        },
        {
         "data": [
          {
           "hoverinfo": "none",
           "mode": "text",
           "showlegend": false,
           "text": [
            "10",
            "20",
            "30",
            "40",
            "50",
            "40",
            "30",
            "20",
            "10"
           ],
           "textfont": {
            "color": "#ffffff",
            "family": "Courier New, monospace",
            "size": 30
           },
           "type": "scatter",
           "x": [
            20,
            30,
            40,
            50,
            60,
            70,
            80,
            90,
            100
           ],
           "y": [
            5,
            5,
            5,
            5,
            5,
            5,
            5,
            5,
            5
           ]
          },
          {
           "hoverinfo": "none",
           "mode": "text",
           "showlegend": false,
           "text": [
            "10",
            "20",
            "30",
            "40",
            "50",
            "40",
            "30",
            "20",
            "10"
           ],
           "textfont": {
            "color": "#ffffff",
            "family": "Courier New, monospace",
            "size": 30
           },
           "type": "scatter",
           "x": [
            20,
            30,
            40,
            50,
            60,
            70,
            80,
            90,
            100
           ],
           "y": [
            48.5,
            48.5,
            48.5,
            48.5,
            48.5,
            48.5,
            48.5,
            48.5,
            48.5
           ]
          },
          {
           "hoverinfo": "none",
           "line": {
            "color": "blue",
            "dash": "dash"
           },
           "showlegend": false,
           "type": "scatter",
           "x": [
            62,
            62
           ],
           "y": [
            0,
            53.5
           ]
          },
          {
           "hoverinfo": "none",
           "line": {
            "color": "yellow",
            "dash": "dash"
           },
           "showlegend": false,
           "type": "scatter",
           "x": [
            69,
            69
           ],
           "y": [
            0,
            53.5
           ]
          },
          {
           "hoverinfo": "text",
           "hovertext": [
            "nflId:37078.0<br>displayName:Patrick Peterson<br>Position:RCB<br>Role:Coverage",
            "nflId:38559.0<br>displayName:Harrison Smith<br>Position:RLB<br>Role:Coverage",
            "nflId:41331.0<br>displayName:Bashaud Breeland<br>Position:LCB<br>Role:Coverage",
            "nflId:42388.0<br>displayName:Eric Kendricks<br>Position:LLB<br>Role:Coverage",
            "nflId:42431.0<br>displayName:Danielle Hunter<br>Position:LEO<br>Role:Pass Rush",
            "nflId:43343.0<br>displayName:Mackensie Alexander<br>Position:LOLB<br>Role:Pass Rush",
            "nflId:43376.0<br>displayName:Nick Vigil<br>Position:RILB<br>Role:Pass Rush",
            "nflId:43694.0<br>displayName:Michael Pierce<br>Position:DRT<br>Role:Pass Rush",
            "nflId:44867.0<br>displayName:Dalvin Tomlinson<br>Position:DLT<br>Role:Pass Rush",
            "nflId:45004.0<br>displayName:Xavier Woods<br>Position:FS<br>Role:Coverage",
            "nflId:52525.0<br>displayName:D.J. Wonnum<br>Position:REO<br>Role:Coverage"
           ],
           "marker": {
            "color": "#4F2683"
           },
           "mode": "markers",
           "name": "MIN",
           "type": "scatter",
           "x": [
            58.72,
            53.27,
            58.3,
            59.22,
            62.55,
            61.32,
            59.25,
            61.66,
            61.85,
            49.28,
            61.41
           ],
           "y": [
            8.4,
            17.11,
            43.12,
            27.45,
            29.34,
            30.83,
            22.35,
            21.9,
            25.1,
            27.99,
            18.8
           ]
          },
          {
           "hoverinfo": "text",
           "hovertext": [
            "nflId:38553.0<br>displayName:Riley Reiff<br>Position:RT<br>Role:Pass Block",
            "nflId:41262.0<br>displayName:Xavier Su'a-Filo<br>Position:RG<br>Role:Pass Block",
            "nflId:41619.0<br>displayName:Trey Hopkins<br>Position:C<br>Role:Pass Block",
            "nflId:42500.0<br>displayName:C.J. Uzomah<br>Position:TE-L<br>Role:Pass Route",
            "nflId:43045.0<br>displayName:Quinton Spain<br>Position:LG<br>Role:Pass Block",
            "nflId:43344.0<br>displayName:Tyler Boyd<br>Position:SRWR<br>Role:Pass Route",
            "nflId:44860.0<br>displayName:Joe Mixon<br>Position:HB-R<br>Role:Pass Block",
            "nflId:47794.0<br>displayName:Jonah Williams<br>Position:LT<br>Role:Pass Block",
            "nflId:52409.0<br>displayName:Joe Burrow<br>Position:QB<br>Role:Pass",
            "nflId:52441.0<br>displayName:Tee Higgins<br>Position:LWR<br>Role:Pass Route",
            "nflId:53434.0<br>displayName:Ja'Marr Chase<br>Position:RWR<br>Role:Pass Route"
           ],
           "marker": {
            "color": "#FB4F14"
           },
           "mode": "markers",
           "name": "CIN",
           "type": "scatter",
           "x": [
            64.17,
            63.47,
            63.32,
            63.71,
            63.53,
            62.78,
            67.44,
            63.48,
            67.12,
            62.54,
            62.18
           ],
           "y": [
            27.58,
            25.49,
            24.04,
            18.87,
            22.05,
            33.71,
            26.16,
            20.45,
            23.66,
            8.57,
            42.81
           ]
          },
          {
           "hoverinfo": "none",
           "marker": {
            "color": "#CBB67C"
           },
           "mode": "markers",
           "name": "football",
           "type": "scatter",
           "x": [
            65.47
           ],
           "y": [
            23.73
           ]
          }
         ],
         "name": "12"
        },
        {
         "data": [
          {
           "hoverinfo": "none",
           "mode": "text",
           "showlegend": false,
           "text": [
            "10",
            "20",
            "30",
            "40",
            "50",
            "40",
            "30",
            "20",
            "10"
           ],
           "textfont": {
            "color": "#ffffff",
            "family": "Courier New, monospace",
            "size": 30
           },
           "type": "scatter",
           "x": [
            20,
            30,
            40,
            50,
            60,
            70,
            80,
            90,
            100
           ],
           "y": [
            5,
            5,
            5,
            5,
            5,
            5,
            5,
            5,
            5
           ]
          },
          {
           "hoverinfo": "none",
           "mode": "text",
           "showlegend": false,
           "text": [
            "10",
            "20",
            "30",
            "40",
            "50",
            "40",
            "30",
            "20",
            "10"
           ],
           "textfont": {
            "color": "#ffffff",
            "family": "Courier New, monospace",
            "size": 30
           },
           "type": "scatter",
           "x": [
            20,
            30,
            40,
            50,
            60,
            70,
            80,
            90,
            100
           ],
           "y": [
            48.5,
            48.5,
            48.5,
            48.5,
            48.5,
            48.5,
            48.5,
            48.5,
            48.5
           ]
          },
          {
           "hoverinfo": "none",
           "line": {
            "color": "blue",
            "dash": "dash"
           },
           "showlegend": false,
           "type": "scatter",
           "x": [
            62,
            62
           ],
           "y": [
            0,
            53.5
           ]
          },
          {
           "hoverinfo": "none",
           "line": {
            "color": "yellow",
            "dash": "dash"
           },
           "showlegend": false,
           "type": "scatter",
           "x": [
            69,
            69
           ],
           "y": [
            0,
            53.5
           ]
          },
          {
           "hoverinfo": "text",
           "hovertext": [
            "nflId:37078.0<br>displayName:Patrick Peterson<br>Position:RCB<br>Role:Coverage",
            "nflId:38559.0<br>displayName:Harrison Smith<br>Position:RLB<br>Role:Coverage",
            "nflId:41331.0<br>displayName:Bashaud Breeland<br>Position:LCB<br>Role:Coverage",
            "nflId:42388.0<br>displayName:Eric Kendricks<br>Position:LLB<br>Role:Coverage",
            "nflId:42431.0<br>displayName:Danielle Hunter<br>Position:LEO<br>Role:Pass Rush",
            "nflId:43343.0<br>displayName:Mackensie Alexander<br>Position:LOLB<br>Role:Pass Rush",
            "nflId:43376.0<br>displayName:Nick Vigil<br>Position:RILB<br>Role:Pass Rush",
            "nflId:43694.0<br>displayName:Michael Pierce<br>Position:DRT<br>Role:Pass Rush",
            "nflId:44867.0<br>displayName:Dalvin Tomlinson<br>Position:DLT<br>Role:Pass Rush",
            "nflId:45004.0<br>displayName:Xavier Woods<br>Position:FS<br>Role:Coverage",
            "nflId:52525.0<br>displayName:D.J. Wonnum<br>Position:REO<br>Role:Coverage"
           ],
           "marker": {
            "color": "#4F2683"
           },
           "mode": "markers",
           "name": "MIN",
           "type": "scatter",
           "x": [
            58.36,
            52.85,
            58.08,
            59.19,
            62.93,
            61.55,
            59.68,
            61.87,
            62.05,
            49.29,
            61.49
           ],
           "y": [
            8.36,
            17.12,
            43.15,
            27.66,
            29.33,
            30.49,
            22.36,
            21.74,
            24.98,
            28.22,
            18.76
           ]
          },
          {
           "hoverinfo": "text",
           "hovertext": [
            "nflId:38553.0<br>displayName:Riley Reiff<br>Position:RT<br>Role:Pass Block",
            "nflId:41262.0<br>displayName:Xavier Su'a-Filo<br>Position:RG<br>Role:Pass Block",
            "nflId:41619.0<br>displayName:Trey Hopkins<br>Position:C<br>Role:Pass Block",
            "nflId:42500.0<br>displayName:C.J. Uzomah<br>Position:TE-L<br>Role:Pass Route",
            "nflId:43045.0<br>displayName:Quinton Spain<br>Position:LG<br>Role:Pass Block",
            "nflId:43344.0<br>displayName:Tyler Boyd<br>Position:SRWR<br>Role:Pass Route",
            "nflId:44860.0<br>displayName:Joe Mixon<br>Position:HB-R<br>Role:Pass Block",
            "nflId:47794.0<br>displayName:Jonah Williams<br>Position:LT<br>Role:Pass Block",
            "nflId:52409.0<br>displayName:Joe Burrow<br>Position:QB<br>Role:Pass",
            "nflId:52441.0<br>displayName:Tee Higgins<br>Position:LWR<br>Role:Pass Route",
            "nflId:53434.0<br>displayName:Ja'Marr Chase<br>Position:RWR<br>Role:Pass Route"
           ],
           "marker": {
            "color": "#FB4F14"
           },
           "mode": "markers",
           "name": "CIN",
           "type": "scatter",
           "x": [
            64.39,
            63.58,
            63.45,
            63.64,
            63.61,
            62.4,
            67.35,
            63.56,
            67.18,
            62.2,
            61.89
           ],
           "y": [
            27.72,
            25.51,
            24.13,
            18.85,
            21.95,
            33.64,
            26.21,
            20.36,
            23.64,
            8.53,
            42.8
           ]
          },
          {
           "hoverinfo": "none",
           "marker": {
            "color": "#CBB67C"
           },
           "mode": "markers",
           "name": "football",
           "type": "scatter",
           "x": [
            65.82
           ],
           "y": [
            23.77
           ]
          }
         ],
         "name": "13"
        },
        {
         "data": [
          {
           "hoverinfo": "none",
           "mode": "text",
           "showlegend": false,
           "text": [
            "10",
            "20",
            "30",
            "40",
            "50",
            "40",
            "30",
            "20",
            "10"
           ],
           "textfont": {
            "color": "#ffffff",
            "family": "Courier New, monospace",
            "size": 30
           },
           "type": "scatter",
           "x": [
            20,
            30,
            40,
            50,
            60,
            70,
            80,
            90,
            100
           ],
           "y": [
            5,
            5,
            5,
            5,
            5,
            5,
            5,
            5,
            5
           ]
          },
          {
           "hoverinfo": "none",
           "mode": "text",
           "showlegend": false,
           "text": [
            "10",
            "20",
            "30",
            "40",
            "50",
            "40",
            "30",
            "20",
            "10"
           ],
           "textfont": {
            "color": "#ffffff",
            "family": "Courier New, monospace",
            "size": 30
           },
           "type": "scatter",
           "x": [
            20,
            30,
            40,
            50,
            60,
            70,
            80,
            90,
            100
           ],
           "y": [
            48.5,
            48.5,
            48.5,
            48.5,
            48.5,
            48.5,
            48.5,
            48.5,
            48.5
           ]
          },
          {
           "hoverinfo": "none",
           "line": {
            "color": "blue",
            "dash": "dash"
           },
           "showlegend": false,
           "type": "scatter",
           "x": [
            62,
            62
           ],
           "y": [
            0,
            53.5
           ]
          },
          {
           "hoverinfo": "none",
           "line": {
            "color": "yellow",
            "dash": "dash"
           },
           "showlegend": false,
           "type": "scatter",
           "x": [
            69,
            69
           ],
           "y": [
            0,
            53.5
           ]
          },
          {
           "hoverinfo": "text",
           "hovertext": [
            "nflId:37078.0<br>displayName:Patrick Peterson<br>Position:RCB<br>Role:Coverage",
            "nflId:38559.0<br>displayName:Harrison Smith<br>Position:RLB<br>Role:Coverage",
            "nflId:41331.0<br>displayName:Bashaud Breeland<br>Position:LCB<br>Role:Coverage",
            "nflId:42388.0<br>displayName:Eric Kendricks<br>Position:LLB<br>Role:Coverage",
            "nflId:42431.0<br>displayName:Danielle Hunter<br>Position:LEO<br>Role:Pass Rush",
            "nflId:43343.0<br>displayName:Mackensie Alexander<br>Position:LOLB<br>Role:Pass Rush",
            "nflId:43376.0<br>displayName:Nick Vigil<br>Position:RILB<br>Role:Pass Rush",
            "nflId:43694.0<br>displayName:Michael Pierce<br>Position:DRT<br>Role:Pass Rush",
            "nflId:44867.0<br>displayName:Dalvin Tomlinson<br>Position:DLT<br>Role:Pass Rush",
            "nflId:45004.0<br>displayName:Xavier Woods<br>Position:FS<br>Role:Coverage",
            "nflId:52525.0<br>displayName:D.J. Wonnum<br>Position:REO<br>Role:Coverage"
           ],
           "marker": {
            "color": "#4F2683"
           },
           "mode": "markers",
           "name": "MIN",
           "type": "scatter",
           "x": [
            57.99,
            52.43,
            57.82,
            59.12,
            63.34,
            61.82,
            60.17,
            62.11,
            62.28,
            49.29,
            61.56
           ],
           "y": [
            8.32,
            17.11,
            43.17,
            27.91,
            29.31,
            30.14,
            22.39,
            21.56,
            24.87,
            28.47,
            18.7
           ]
          },
          {
           "hoverinfo": "text",
           "hovertext": [
            "nflId:38553.0<br>displayName:Riley Reiff<br>Position:RT<br>Role:Pass Block",
            "nflId:41262.0<br>displayName:Xavier Su'a-Filo<br>Position:RG<br>Role:Pass Block",
            "nflId:41619.0<br>displayName:Trey Hopkins<br>Position:C<br>Role:Pass Block",
            "nflId:42500.0<br>displayName:C.J. Uzomah<br>Position:TE-L<br>Role:Pass Route",
            "nflId:43045.0<br>displayName:Quinton Spain<br>Position:LG<br>Role:Pass Block",
            "nflId:43344.0<br>displayName:Tyler Boyd<br>Position:SRWR<br>Role:Pass Route",
            "nflId:44860.0<br>displayName:Joe Mixon<br>Position:HB-R<br>Role:Pass Block",
            "nflId:47794.0<br>displayName:Jonah Williams<br>Position:LT<br>Role:Pass Block",
            "nflId:52409.0<br>displayName:Joe Burrow<br>Position:QB<br>Role:Pass",
            "nflId:52441.0<br>displayName:Tee Higgins<br>Position:LWR<br>Role:Pass Route",
            "nflId:53434.0<br>displayName:Ja'Marr Chase<br>Position:RWR<br>Role:Pass Route"
           ],
           "marker": {
            "color": "#FB4F14"
           },
           "mode": "markers",
           "name": "CIN",
           "type": "scatter",
           "x": [
            64.62,
            63.72,
            63.58,
            63.56,
            63.71,
            61.97,
            67.26,
            63.65,
            67.24,
            61.82,
            61.56
           ],
           "y": [
            27.86,
            25.56,
            24.24,
            18.82,
            21.82,
            33.55,
            26.29,
            20.27,
            23.62,
            8.48,
            42.77
           ]
          },
          {
           "hoverinfo": "none",
           "marker": {
            "color": "#CBB67C"
           },
           "mode": "markers",
           "name": "football",
           "type": "scatter",
           "x": [
            66.18
           ],
           "y": [
            23.81
           ]
          }
         ],
         "name": "14"
        },
        {
         "data": [
          {
           "hoverinfo": "none",
           "mode": "text",
           "showlegend": false,
           "text": [
            "10",
            "20",
            "30",
            "40",
            "50",
            "40",
            "30",
            "20",
            "10"
           ],
           "textfont": {
            "color": "#ffffff",
            "family": "Courier New, monospace",
            "size": 30
           },
           "type": "scatter",
           "x": [
            20,
            30,
            40,
            50,
            60,
            70,
            80,
            90,
            100
           ],
           "y": [
            5,
            5,
            5,
            5,
            5,
            5,
            5,
            5,
            5
           ]
          },
          {
           "hoverinfo": "none",
           "mode": "text",
           "showlegend": false,
           "text": [
            "10",
            "20",
            "30",
            "40",
            "50",
            "40",
            "30",
            "20",
            "10"
           ],
           "textfont": {
            "color": "#ffffff",
            "family": "Courier New, monospace",
            "size": 30
           },
           "type": "scatter",
           "x": [
            20,
            30,
            40,
            50,
            60,
            70,
            80,
            90,
            100
           ],
           "y": [
            48.5,
            48.5,
            48.5,
            48.5,
            48.5,
            48.5,
            48.5,
            48.5,
            48.5
           ]
          },
          {
           "hoverinfo": "none",
           "line": {
            "color": "blue",
            "dash": "dash"
           },
           "showlegend": false,
           "type": "scatter",
           "x": [
            62,
            62
           ],
           "y": [
            0,
            53.5
           ]
          },
          {
           "hoverinfo": "none",
           "line": {
            "color": "yellow",
            "dash": "dash"
           },
           "showlegend": false,
           "type": "scatter",
           "x": [
            69,
            69
           ],
           "y": [
            0,
            53.5
           ]
          },
          {
           "hoverinfo": "text",
           "hovertext": [
            "nflId:37078.0<br>displayName:Patrick Peterson<br>Position:RCB<br>Role:Coverage",
            "nflId:38559.0<br>displayName:Harrison Smith<br>Position:RLB<br>Role:Coverage",
            "nflId:41331.0<br>displayName:Bashaud Breeland<br>Position:LCB<br>Role:Coverage",
            "nflId:42388.0<br>displayName:Eric Kendricks<br>Position:LLB<br>Role:Coverage",
            "nflId:42431.0<br>displayName:Danielle Hunter<br>Position:LEO<br>Role:Pass Rush",
            "nflId:43343.0<br>displayName:Mackensie Alexander<br>Position:LOLB<br>Role:Pass Rush",
            "nflId:43376.0<br>displayName:Nick Vigil<br>Position:RILB<br>Role:Pass Rush",
            "nflId:43694.0<br>displayName:Michael Pierce<br>Position:DRT<br>Role:Pass Rush",
            "nflId:44867.0<br>displayName:Dalvin Tomlinson<br>Position:DLT<br>Role:Pass Rush",
            "nflId:45004.0<br>displayName:Xavier Woods<br>Position:FS<br>Role:Coverage",
            "nflId:52525.0<br>displayName:D.J. Wonnum<br>Position:REO<br>Role:Coverage"
           ],
           "marker": {
            "color": "#4F2683"
           },
           "mode": "markers",
           "name": "MIN",
           "type": "scatter",
           "x": [
            57.6,
            52,
            57.56,
            59.01,
            63.79,
            62.13,
            60.7,
            62.37,
            62.52,
            49.27,
            61.63
           ],
           "y": [
            8.27,
            17.09,
            43.2,
            28.2,
            29.29,
            29.8,
            22.41,
            21.37,
            24.77,
            28.72,
            18.64
           ]
          },
          {
           "hoverinfo": "text",
           "hovertext": [
            "nflId:38553.0<br>displayName:Riley Reiff<br>Position:RT<br>Role:Pass Block",
            "nflId:41262.0<br>displayName:Xavier Su'a-Filo<br>Position:RG<br>Role:Pass Block",
            "nflId:41619.0<br>displayName:Trey Hopkins<br>Position:C<br>Role:Pass Block",
            "nflId:42500.0<br>displayName:C.J. Uzomah<br>Position:TE-L<br>Role:Pass Route",
            "nflId:43045.0<br>displayName:Quinton Spain<br>Position:LG<br>Role:Pass Block",
            "nflId:43344.0<br>displayName:Tyler Boyd<br>Position:SRWR<br>Role:Pass Route",
            "nflId:44860.0<br>displayName:Joe Mixon<br>Position:HB-R<br>Role:Pass Block",
            "nflId:47794.0<br>displayName:Jonah Williams<br>Position:LT<br>Role:Pass Block",
            "nflId:52409.0<br>displayName:Joe Burrow<br>Position:QB<br>Role:Pass",
            "nflId:52441.0<br>displayName:Tee Higgins<br>Position:LWR<br>Role:Pass Route",
            "nflId:53434.0<br>displayName:Ja'Marr Chase<br>Position:RWR<br>Role:Pass Route"
           ],
           "marker": {
            "color": "#FB4F14"
           },
           "mode": "markers",
           "name": "CIN",
           "type": "scatter",
           "x": [
            64.88,
            63.87,
            63.72,
            63.45,
            63.82,
            61.49,
            67.15,
            63.75,
            67.31,
            61.37,
            61.16
           ],
           "y": [
            27.99,
            25.62,
            24.33,
            18.83,
            21.69,
            33.45,
            26.38,
            20.19,
            23.59,
            8.44,
            42.74
           ]
          },
          {
           "hoverinfo": "none",
           "marker": {
            "color": "#CBB67C"
           },
           "mode": "markers",
           "name": "football",
           "type": "scatter",
           "x": [
            66.54
           ],
           "y": [
            23.85
           ]
          }
         ],
         "name": "15"
        },
        {
         "data": [
          {
           "hoverinfo": "none",
           "mode": "text",
           "showlegend": false,
           "text": [
            "10",
            "20",
            "30",
            "40",
            "50",
            "40",
            "30",
            "20",
            "10"
           ],
           "textfont": {
            "color": "#ffffff",
            "family": "Courier New, monospace",
            "size": 30
           },
           "type": "scatter",
           "x": [
            20,
            30,
            40,
            50,
            60,
            70,
            80,
            90,
            100
           ],
           "y": [
            5,
            5,
            5,
            5,
            5,
            5,
            5,
            5,
            5
           ]
          },
          {
           "hoverinfo": "none",
           "mode": "text",
           "showlegend": false,
           "text": [
            "10",
            "20",
            "30",
            "40",
            "50",
            "40",
            "30",
            "20",
            "10"
           ],
           "textfont": {
            "color": "#ffffff",
            "family": "Courier New, monospace",
            "size": 30
           },
           "type": "scatter",
           "x": [
            20,
            30,
            40,
            50,
            60,
            70,
            80,
            90,
            100
           ],
           "y": [
            48.5,
            48.5,
            48.5,
            48.5,
            48.5,
            48.5,
            48.5,
            48.5,
            48.5
           ]
          },
          {
           "hoverinfo": "none",
           "line": {
            "color": "blue",
            "dash": "dash"
           },
           "showlegend": false,
           "type": "scatter",
           "x": [
            62,
            62
           ],
           "y": [
            0,
            53.5
           ]
          },
          {
           "hoverinfo": "none",
           "line": {
            "color": "yellow",
            "dash": "dash"
           },
           "showlegend": false,
           "type": "scatter",
           "x": [
            69,
            69
           ],
           "y": [
            0,
            53.5
           ]
          },
          {
           "hoverinfo": "text",
           "hovertext": [
            "nflId:37078.0<br>displayName:Patrick Peterson<br>Position:RCB<br>Role:Coverage",
            "nflId:38559.0<br>displayName:Harrison Smith<br>Position:RLB<br>Role:Coverage",
            "nflId:41331.0<br>displayName:Bashaud Breeland<br>Position:LCB<br>Role:Coverage",
            "nflId:42388.0<br>displayName:Eric Kendricks<br>Position:LLB<br>Role:Coverage",
            "nflId:42431.0<br>displayName:Danielle Hunter<br>Position:LEO<br>Role:Pass Rush",
            "nflId:43343.0<br>displayName:Mackensie Alexander<br>Position:LOLB<br>Role:Pass Rush",
            "nflId:43376.0<br>displayName:Nick Vigil<br>Position:RILB<br>Role:Pass Rush",
            "nflId:43694.0<br>displayName:Michael Pierce<br>Position:DRT<br>Role:Pass Rush",
            "nflId:44867.0<br>displayName:Dalvin Tomlinson<br>Position:DLT<br>Role:Pass Rush",
            "nflId:45004.0<br>displayName:Xavier Woods<br>Position:FS<br>Role:Coverage",
            "nflId:52525.0<br>displayName:D.J. Wonnum<br>Position:REO<br>Role:Coverage"
           ],
           "marker": {
            "color": "#4F2683"
           },
           "mode": "markers",
           "name": "MIN",
           "type": "scatter",
           "x": [
            57.19,
            51.56,
            57.26,
            58.88,
            64.27,
            62.48,
            61.27,
            62.66,
            62.77,
            49.22,
            61.69
           ],
           "y": [
            8.22,
            17.05,
            43.22,
            28.51,
            29.26,
            29.47,
            22.44,
            21.18,
            24.67,
            28.97,
            18.59
           ]
          },
          {
           "hoverinfo": "text",
           "hovertext": [
            "nflId:38553.0<br>displayName:Riley Reiff<br>Position:RT<br>Role:Pass Block",
            "nflId:41262.0<br>displayName:Xavier Su'a-Filo<br>Position:RG<br>Role:Pass Block",
            "nflId:41619.0<br>displayName:Trey Hopkins<br>Position:C<br>Role:Pass Block",
            "nflId:42500.0<br>displayName:C.J. Uzomah<br>Position:TE-L<br>Role:Pass Route",
            "nflId:43045.0<br>displayName:Quinton Spain<br>Position:LG<br>Role:Pass Block",
            "nflId:43344.0<br>displayName:Tyler Boyd<br>Position:SRWR<br>Role:Pass Route",
            "nflId:44860.0<br>displayName:Joe Mixon<br>Position:HB-R<br>Role:Pass Block",
            "nflId:47794.0<br>displayName:Jonah Williams<br>Position:LT<br>Role:Pass Block",
            "nflId:52409.0<br>displayName:Joe Burrow<br>Position:QB<br>Role:Pass",
            "nflId:52441.0<br>displayName:Tee Higgins<br>Position:LWR<br>Role:Pass Route",
            "nflId:53434.0<br>displayName:Ja'Marr Chase<br>Position:RWR<br>Role:Pass Route"
           ],
           "marker": {
            "color": "#FB4F14"
           },
           "mode": "markers",
           "name": "CIN",
           "type": "scatter",
           "x": [
            65.18,
            64.04,
            63.88,
            63.33,
            63.94,
            60.96,
            67.02,
            63.87,
            67.42,
            60.88,
            60.68
           ],
           "y": [
            28.1,
            25.7,
            24.41,
            18.85,
            21.55,
            33.33,
            26.48,
            20.1,
            23.56,
            8.39,
            42.72
           ]
          },
          {
           "hoverinfo": "none",
           "marker": {
            "color": "#CBB67C"
           },
           "mode": "markers",
           "name": "football",
           "type": "scatter",
           "x": [
            66.9
           ],
           "y": [
            23.91
           ]
          }
         ],
         "name": "16"
        },
        {
         "data": [
          {
           "hoverinfo": "none",
           "mode": "text",
           "showlegend": false,
           "text": [
            "10",
            "20",
            "30",
            "40",
            "50",
            "40",
            "30",
            "20",
            "10"
           ],
           "textfont": {
            "color": "#ffffff",
            "family": "Courier New, monospace",
            "size": 30
           },
           "type": "scatter",
           "x": [
            20,
            30,
            40,
            50,
            60,
            70,
            80,
            90,
            100
           ],
           "y": [
            5,
            5,
            5,
            5,
            5,
            5,
            5,
            5,
            5
           ]
          },
          {
           "hoverinfo": "none",
           "mode": "text",
           "showlegend": false,
           "text": [
            "10",
            "20",
            "30",
            "40",
            "50",
            "40",
            "30",
            "20",
            "10"
           ],
           "textfont": {
            "color": "#ffffff",
            "family": "Courier New, monospace",
            "size": 30
           },
           "type": "scatter",
           "x": [
            20,
            30,
            40,
            50,
            60,
            70,
            80,
            90,
            100
           ],
           "y": [
            48.5,
            48.5,
            48.5,
            48.5,
            48.5,
            48.5,
            48.5,
            48.5,
            48.5
           ]
          },
          {
           "hoverinfo": "none",
           "line": {
            "color": "blue",
            "dash": "dash"
           },
           "showlegend": false,
           "type": "scatter",
           "x": [
            62,
            62
           ],
           "y": [
            0,
            53.5
           ]
          },
          {
           "hoverinfo": "none",
           "line": {
            "color": "yellow",
            "dash": "dash"
           },
           "showlegend": false,
           "type": "scatter",
           "x": [
            69,
            69
           ],
           "y": [
            0,
            53.5
           ]
          },
          {
           "hoverinfo": "text",
           "hovertext": [
            "nflId:37078.0<br>displayName:Patrick Peterson<br>Position:RCB<br>Role:Coverage",
            "nflId:38559.0<br>displayName:Harrison Smith<br>Position:RLB<br>Role:Coverage",
            "nflId:41331.0<br>displayName:Bashaud Breeland<br>Position:LCB<br>Role:Coverage",
            "nflId:42388.0<br>displayName:Eric Kendricks<br>Position:LLB<br>Role:Coverage",
            "nflId:42431.0<br>displayName:Danielle Hunter<br>Position:LEO<br>Role:Pass Rush",
            "nflId:43343.0<br>displayName:Mackensie Alexander<br>Position:LOLB<br>Role:Pass Rush",
            "nflId:43376.0<br>displayName:Nick Vigil<br>Position:RILB<br>Role:Pass Rush",
            "nflId:43694.0<br>displayName:Michael Pierce<br>Position:DRT<br>Role:Pass Rush",
            "nflId:44867.0<br>displayName:Dalvin Tomlinson<br>Position:DLT<br>Role:Pass Rush",
            "nflId:45004.0<br>displayName:Xavier Woods<br>Position:FS<br>Role:Coverage",
            "nflId:52525.0<br>displayName:D.J. Wonnum<br>Position:REO<br>Role:Coverage"
           ],
           "marker": {
            "color": "#4F2683"
           },
           "mode": "markers",
           "name": "MIN",
           "type": "scatter",
           "x": [
            56.76,
            51.12,
            56.94,
            58.71,
            64.81,
            62.87,
            61.87,
            62.99,
            63.02,
            49.15,
            61.7
           ],
           "y": [
            8.16,
            16.98,
            43.23,
            28.83,
            29.24,
            29.16,
            22.47,
            21,
            24.59,
            29.21,
            18.51
           ]
          },
          {
           "hoverinfo": "text",
           "hovertext": [
            "nflId:38553.0<br>displayName:Riley Reiff<br>Position:RT<br>Role:Pass Block",
            "nflId:41262.0<br>displayName:Xavier Su'a-Filo<br>Position:RG<br>Role:Pass Block",
            "nflId:41619.0<br>displayName:Trey Hopkins<br>Position:C<br>Role:Pass Block",
            "nflId:42500.0<br>displayName:C.J. Uzomah<br>Position:TE-L<br>Role:Pass Route",
            "nflId:43045.0<br>displayName:Quinton Spain<br>Position:LG<br>Role:Pass Block",
            "nflId:43344.0<br>displayName:Tyler Boyd<br>Position:SRWR<br>Role:Pass Route",
            "nflId:44860.0<br>displayName:Joe Mixon<br>Position:HB-R<br>Role:Pass Block",
            "nflId:47794.0<br>displayName:Jonah Williams<br>Position:LT<br>Role:Pass Block",
            "nflId:52409.0<br>displayName:Joe Burrow<br>Position:QB<br>Role:Pass",
            "nflId:52441.0<br>displayName:Tee Higgins<br>Position:LWR<br>Role:Pass Route",
            "nflId:53434.0<br>displayName:Ja'Marr Chase<br>Position:RWR<br>Role:Pass Route"
           ],
           "marker": {
            "color": "#FB4F14"
           },
           "mode": "markers",
           "name": "CIN",
           "type": "scatter",
           "x": [
            65.48,
            64.24,
            64.05,
            63.18,
            64.09,
            60.39,
            66.89,
            64,
            67.54,
            60.35,
            60.16
           ],
           "y": [
            28.2,
            25.81,
            24.47,
            18.9,
            21.41,
            33.19,
            26.6,
            20.01,
            23.52,
            8.35,
            42.68
           ]
          },
          {
           "hoverinfo": "none",
           "marker": {
            "color": "#CBB67C"
           },
           "mode": "markers",
           "name": "football",
           "type": "scatter",
           "x": [
            67.24
           ],
           "y": [
            23.93
           ]
          }
         ],
         "name": "17"
        },
        {
         "data": [
          {
           "hoverinfo": "none",
           "mode": "text",
           "showlegend": false,
           "text": [
            "10",
            "20",
            "30",
            "40",
            "50",
            "40",
            "30",
            "20",
            "10"
           ],
           "textfont": {
            "color": "#ffffff",
            "family": "Courier New, monospace",
            "size": 30
           },
           "type": "scatter",
           "x": [
            20,
            30,
            40,
            50,
            60,
            70,
            80,
            90,
            100
           ],
           "y": [
            5,
            5,
            5,
            5,
            5,
            5,
            5,
            5,
            5
           ]
          },
          {
           "hoverinfo": "none",
           "mode": "text",
           "showlegend": false,
           "text": [
            "10",
            "20",
            "30",
            "40",
            "50",
            "40",
            "30",
            "20",
            "10"
           ],
           "textfont": {
            "color": "#ffffff",
            "family": "Courier New, monospace",
            "size": 30
           },
           "type": "scatter",
           "x": [
            20,
            30,
            40,
            50,
            60,
            70,
            80,
            90,
            100
           ],
           "y": [
            48.5,
            48.5,
            48.5,
            48.5,
            48.5,
            48.5,
            48.5,
            48.5,
            48.5
           ]
          },
          {
           "hoverinfo": "none",
           "line": {
            "color": "blue",
            "dash": "dash"
           },
           "showlegend": false,
           "type": "scatter",
           "x": [
            62,
            62
           ],
           "y": [
            0,
            53.5
           ]
          },
          {
           "hoverinfo": "none",
           "line": {
            "color": "yellow",
            "dash": "dash"
           },
           "showlegend": false,
           "type": "scatter",
           "x": [
            69,
            69
           ],
           "y": [
            0,
            53.5
           ]
          },
          {
           "hoverinfo": "text",
           "hovertext": [
            "nflId:37078.0<br>displayName:Patrick Peterson<br>Position:RCB<br>Role:Coverage",
            "nflId:38559.0<br>displayName:Harrison Smith<br>Position:RLB<br>Role:Coverage",
            "nflId:41331.0<br>displayName:Bashaud Breeland<br>Position:LCB<br>Role:Coverage",
            "nflId:42388.0<br>displayName:Eric Kendricks<br>Position:LLB<br>Role:Coverage",
            "nflId:42431.0<br>displayName:Danielle Hunter<br>Position:LEO<br>Role:Pass Rush",
            "nflId:43343.0<br>displayName:Mackensie Alexander<br>Position:LOLB<br>Role:Pass Rush",
            "nflId:43376.0<br>displayName:Nick Vigil<br>Position:RILB<br>Role:Pass Rush",
            "nflId:43694.0<br>displayName:Michael Pierce<br>Position:DRT<br>Role:Pass Rush",
            "nflId:44867.0<br>displayName:Dalvin Tomlinson<br>Position:DLT<br>Role:Pass Rush",
            "nflId:45004.0<br>displayName:Xavier Woods<br>Position:FS<br>Role:Coverage",
            "nflId:52525.0<br>displayName:D.J. Wonnum<br>Position:REO<br>Role:Coverage"
           ],
           "marker": {
            "color": "#4F2683"
           },
           "mode": "markers",
           "name": "MIN",
           "type": "scatter",
           "x": [
            56.32,
            50.68,
            56.58,
            58.51,
            65.34,
            63.3,
            62.5,
            63.33,
            63.28,
            49.06,
            61.7
           ],
           "y": [
            8.11,
            16.9,
            43.23,
            29.16,
            29.2,
            28.91,
            22.51,
            20.82,
            24.52,
            29.45,
            18.45
           ]
          },
          {
           "hoverinfo": "text",
           "hovertext": [
            "nflId:38553.0<br>displayName:Riley Reiff<br>Position:RT<br>Role:Pass Block",
            "nflId:41262.0<br>displayName:Xavier Su'a-Filo<br>Position:RG<br>Role:Pass Block",
            "nflId:41619.0<br>displayName:Trey Hopkins<br>Position:C<br>Role:Pass Block",
            "nflId:42500.0<br>displayName:C.J. Uzomah<br>Position:TE-L<br>Role:Pass Route",
            "nflId:43045.0<br>displayName:Quinton Spain<br>Position:LG<br>Role:Pass Block",
            "nflId:43344.0<br>displayName:Tyler Boyd<br>Position:SRWR<br>Role:Pass Route",
            "nflId:44860.0<br>displayName:Joe Mixon<br>Position:HB-R<br>Role:Pass Block",
            "nflId:47794.0<br>displayName:Jonah Williams<br>Position:LT<br>Role:Pass Block",
            "nflId:52409.0<br>displayName:Joe Burrow<br>Position:QB<br>Role:Pass",
            "nflId:52441.0<br>displayName:Tee Higgins<br>Position:LWR<br>Role:Pass Route",
            "nflId:53434.0<br>displayName:Ja'Marr Chase<br>Position:RWR<br>Role:Pass Route"
           ],
           "marker": {
            "color": "#FB4F14"
           },
           "mode": "markers",
           "name": "CIN",
           "type": "scatter",
           "x": [
            65.78,
            64.45,
            64.23,
            62.99,
            64.27,
            59.79,
            66.75,
            64.15,
            67.68,
            59.79,
            59.59
           ],
           "y": [
            28.29,
            25.93,
            24.52,
            18.98,
            21.28,
            33.04,
            26.73,
            19.92,
            23.48,
            8.3,
            42.64
           ]
          },
          {
           "hoverinfo": "none",
           "marker": {
            "color": "#CBB67C"
           },
           "mode": "markers",
           "name": "football",
           "type": "scatter",
           "x": [
            67.61
           ],
           "y": [
            23.91
           ]
          }
         ],
         "name": "18"
        },
        {
         "data": [
          {
           "hoverinfo": "none",
           "mode": "text",
           "showlegend": false,
           "text": [
            "10",
            "20",
            "30",
            "40",
            "50",
            "40",
            "30",
            "20",
            "10"
           ],
           "textfont": {
            "color": "#ffffff",
            "family": "Courier New, monospace",
            "size": 30
           },
           "type": "scatter",
           "x": [
            20,
            30,
            40,
            50,
            60,
            70,
            80,
            90,
            100
           ],
           "y": [
            5,
            5,
            5,
            5,
            5,
            5,
            5,
            5,
            5
           ]
          },
          {
           "hoverinfo": "none",
           "mode": "text",
           "showlegend": false,
           "text": [
            "10",
            "20",
            "30",
            "40",
            "50",
            "40",
            "30",
            "20",
            "10"
           ],
           "textfont": {
            "color": "#ffffff",
            "family": "Courier New, monospace",
            "size": 30
           },
           "type": "scatter",
           "x": [
            20,
            30,
            40,
            50,
            60,
            70,
            80,
            90,
            100
           ],
           "y": [
            48.5,
            48.5,
            48.5,
            48.5,
            48.5,
            48.5,
            48.5,
            48.5,
            48.5
           ]
          },
          {
           "hoverinfo": "none",
           "line": {
            "color": "blue",
            "dash": "dash"
           },
           "showlegend": false,
           "type": "scatter",
           "x": [
            62,
            62
           ],
           "y": [
            0,
            53.5
           ]
          },
          {
           "hoverinfo": "none",
           "line": {
            "color": "yellow",
            "dash": "dash"
           },
           "showlegend": false,
           "type": "scatter",
           "x": [
            69,
            69
           ],
           "y": [
            0,
            53.5
           ]
          },
          {
           "hoverinfo": "text",
           "hovertext": [
            "nflId:37078.0<br>displayName:Patrick Peterson<br>Position:RCB<br>Role:Coverage",
            "nflId:38559.0<br>displayName:Harrison Smith<br>Position:RLB<br>Role:Coverage",
            "nflId:41331.0<br>displayName:Bashaud Breeland<br>Position:LCB<br>Role:Coverage",
            "nflId:42388.0<br>displayName:Eric Kendricks<br>Position:LLB<br>Role:Coverage",
            "nflId:42431.0<br>displayName:Danielle Hunter<br>Position:LEO<br>Role:Pass Rush",
            "nflId:43343.0<br>displayName:Mackensie Alexander<br>Position:LOLB<br>Role:Pass Rush",
            "nflId:43376.0<br>displayName:Nick Vigil<br>Position:RILB<br>Role:Pass Rush",
            "nflId:43694.0<br>displayName:Michael Pierce<br>Position:DRT<br>Role:Pass Rush",
            "nflId:44867.0<br>displayName:Dalvin Tomlinson<br>Position:DLT<br>Role:Pass Rush",
            "nflId:45004.0<br>displayName:Xavier Woods<br>Position:FS<br>Role:Coverage",
            "nflId:52525.0<br>displayName:D.J. Wonnum<br>Position:REO<br>Role:Coverage"
           ],
           "marker": {
            "color": "#4F2683"
           },
           "mode": "markers",
           "name": "MIN",
           "type": "scatter",
           "x": [
            55.87,
            50.24,
            56.2,
            58.28,
            65.89,
            63.76,
            63.16,
            63.69,
            63.53,
            48.93,
            61.69
           ],
           "y": [
            8.06,
            16.81,
            43.21,
            29.49,
            29.16,
            28.68,
            22.55,
            20.64,
            24.45,
            29.66,
            18.39
           ]
          },
          {
           "hoverinfo": "text",
           "hovertext": [
            "nflId:38553.0<br>displayName:Riley Reiff<br>Position:RT<br>Role:Pass Block",
            "nflId:41262.0<br>displayName:Xavier Su'a-Filo<br>Position:RG<br>Role:Pass Block",
            "nflId:41619.0<br>displayName:Trey Hopkins<br>Position:C<br>Role:Pass Block",
            "nflId:42500.0<br>displayName:C.J. Uzomah<br>Position:TE-L<br>Role:Pass Route",
            "nflId:43045.0<br>displayName:Quinton Spain<br>Position:LG<br>Role:Pass Block",
            "nflId:43344.0<br>displayName:Tyler Boyd<br>Position:SRWR<br>Role:Pass Route",
            "nflId:44860.0<br>displayName:Joe Mixon<br>Position:HB-R<br>Role:Pass Block",
            "nflId:47794.0<br>displayName:Jonah Williams<br>Position:LT<br>Role:Pass Block",
            "nflId:52409.0<br>displayName:Joe Burrow<br>Position:QB<br>Role:Pass",
            "nflId:52441.0<br>displayName:Tee Higgins<br>Position:LWR<br>Role:Pass Route",
            "nflId:53434.0<br>displayName:Ja'Marr Chase<br>Position:RWR<br>Role:Pass Route"
           ],
           "marker": {
            "color": "#FB4F14"
           },
           "mode": "markers",
           "name": "CIN",
           "type": "scatter",
           "x": [
            66.14,
            64.69,
            64.42,
            62.79,
            64.46,
            59.16,
            66.6,
            64.32,
            67.85,
            59.17,
            58.99
           ],
           "y": [
            28.37,
            26.06,
            24.55,
            19.1,
            21.15,
            32.87,
            26.87,
            19.83,
            23.42,
            8.26,
            42.59
           ]
          },
          {
           "hoverinfo": "none",
           "marker": {
            "color": "#CBB67C"
           },
           "mode": "markers",
           "name": "football",
           "type": "scatter",
           "x": [
            68
           ],
           "y": [
            23.82
           ]
          }
         ],
         "name": "19"
        },
        {
         "data": [
          {
           "hoverinfo": "none",
           "mode": "text",
           "showlegend": false,
           "text": [
            "10",
            "20",
            "30",
            "40",
            "50",
            "40",
            "30",
            "20",
            "10"
           ],
           "textfont": {
            "color": "#ffffff",
            "family": "Courier New, monospace",
            "size": 30
           },
           "type": "scatter",
           "x": [
            20,
            30,
            40,
            50,
            60,
            70,
            80,
            90,
            100
           ],
           "y": [
            5,
            5,
            5,
            5,
            5,
            5,
            5,
            5,
            5
           ]
          },
          {
           "hoverinfo": "none",
           "mode": "text",
           "showlegend": false,
           "text": [
            "10",
            "20",
            "30",
            "40",
            "50",
            "40",
            "30",
            "20",
            "10"
           ],
           "textfont": {
            "color": "#ffffff",
            "family": "Courier New, monospace",
            "size": 30
           },
           "type": "scatter",
           "x": [
            20,
            30,
            40,
            50,
            60,
            70,
            80,
            90,
            100
           ],
           "y": [
            48.5,
            48.5,
            48.5,
            48.5,
            48.5,
            48.5,
            48.5,
            48.5,
            48.5
           ]
          },
          {
           "hoverinfo": "none",
           "line": {
            "color": "blue",
            "dash": "dash"
           },
           "showlegend": false,
           "type": "scatter",
           "x": [
            62,
            62
           ],
           "y": [
            0,
            53.5
           ]
          },
          {
           "hoverinfo": "none",
           "line": {
            "color": "yellow",
            "dash": "dash"
           },
           "showlegend": false,
           "type": "scatter",
           "x": [
            69,
            69
           ],
           "y": [
            0,
            53.5
           ]
          },
          {
           "hoverinfo": "text",
           "hovertext": [
            "nflId:37078.0<br>displayName:Patrick Peterson<br>Position:RCB<br>Role:Coverage",
            "nflId:38559.0<br>displayName:Harrison Smith<br>Position:RLB<br>Role:Coverage",
            "nflId:41331.0<br>displayName:Bashaud Breeland<br>Position:LCB<br>Role:Coverage",
            "nflId:42388.0<br>displayName:Eric Kendricks<br>Position:LLB<br>Role:Coverage",
            "nflId:42431.0<br>displayName:Danielle Hunter<br>Position:LEO<br>Role:Pass Rush",
            "nflId:43343.0<br>displayName:Mackensie Alexander<br>Position:LOLB<br>Role:Pass Rush",
            "nflId:43376.0<br>displayName:Nick Vigil<br>Position:RILB<br>Role:Pass Rush",
            "nflId:43694.0<br>displayName:Michael Pierce<br>Position:DRT<br>Role:Pass Rush",
            "nflId:44867.0<br>displayName:Dalvin Tomlinson<br>Position:DLT<br>Role:Pass Rush",
            "nflId:45004.0<br>displayName:Xavier Woods<br>Position:FS<br>Role:Coverage",
            "nflId:52525.0<br>displayName:D.J. Wonnum<br>Position:REO<br>Role:Coverage"
           ],
           "marker": {
            "color": "#4F2683"
           },
           "mode": "markers",
           "name": "MIN",
           "type": "scatter",
           "x": [
            55.4,
            49.8,
            55.8,
            58.01,
            66.44,
            64.23,
            63.83,
            64.06,
            63.78,
            48.79,
            61.65
           ],
           "y": [
            8.01,
            16.7,
            43.19,
            29.79,
            29.11,
            28.5,
            22.59,
            20.47,
            24.4,
            29.85,
            18.34
           ]
          },
          {
           "hoverinfo": "text",
           "hovertext": [
            "nflId:38553.0<br>displayName:Riley Reiff<br>Position:RT<br>Role:Pass Block",
            "nflId:41262.0<br>displayName:Xavier Su'a-Filo<br>Position:RG<br>Role:Pass Block",
            "nflId:41619.0<br>displayName:Trey Hopkins<br>Position:C<br>Role:Pass Block",
            "nflId:42500.0<br>displayName:C.J. Uzomah<br>Position:TE-L<br>Role:Pass Route",
            "nflId:43045.0<br>displayName:Quinton Spain<br>Position:LG<br>Role:Pass Block",
            "nflId:43344.0<br>displayName:Tyler Boyd<br>Position:SRWR<br>Role:Pass Route",
            "nflId:44860.0<br>displayName:Joe Mixon<br>Position:HB-R<br>Role:Pass Block",
            "nflId:47794.0<br>displayName:Jonah Williams<br>Position:LT<br>Role:Pass Block",
            "nflId:52409.0<br>displayName:Joe Burrow<br>Position:QB<br>Role:Pass",
            "nflId:52441.0<br>displayName:Tee Higgins<br>Position:LWR<br>Role:Pass Route",
            "nflId:53434.0<br>displayName:Ja'Marr Chase<br>Position:RWR<br>Role:Pass Route"
           ],
           "marker": {
            "color": "#FB4F14"
           },
           "mode": "markers",
           "name": "CIN",
           "type": "scatter",
           "x": [
            66.51,
            64.94,
            64.61,
            62.58,
            64.68,
            58.51,
            66.45,
            64.48,
            68.05,
            58.53,
            58.36
           ],
           "y": [
            28.42,
            26.23,
            24.57,
            19.26,
            21.02,
            32.68,
            27.02,
            19.75,
            23.34,
            8.23,
            42.53
           ]
          },
          {
           "hoverinfo": "none",
           "marker": {
            "color": "#CBB67C"
           },
           "mode": "markers",
           "name": "football",
           "type": "scatter",
           "x": [
            68.37
           ],
           "y": [
            23.74
           ]
          }
         ],
         "name": "20"
        },
        {
         "data": [
          {
           "hoverinfo": "none",
           "mode": "text",
           "showlegend": false,
           "text": [
            "10",
            "20",
            "30",
            "40",
            "50",
            "40",
            "30",
            "20",
            "10"
           ],
           "textfont": {
            "color": "#ffffff",
            "family": "Courier New, monospace",
            "size": 30
           },
           "type": "scatter",
           "x": [
            20,
            30,
            40,
            50,
            60,
            70,
            80,
            90,
            100
           ],
           "y": [
            5,
            5,
            5,
            5,
            5,
            5,
            5,
            5,
            5
           ]
          },
          {
           "hoverinfo": "none",
           "mode": "text",
           "showlegend": false,
           "text": [
            "10",
            "20",
            "30",
            "40",
            "50",
            "40",
            "30",
            "20",
            "10"
           ],
           "textfont": {
            "color": "#ffffff",
            "family": "Courier New, monospace",
            "size": 30
           },
           "type": "scatter",
           "x": [
            20,
            30,
            40,
            50,
            60,
            70,
            80,
            90,
            100
           ],
           "y": [
            48.5,
            48.5,
            48.5,
            48.5,
            48.5,
            48.5,
            48.5,
            48.5,
            48.5
           ]
          },
          {
           "hoverinfo": "none",
           "line": {
            "color": "blue",
            "dash": "dash"
           },
           "showlegend": false,
           "type": "scatter",
           "x": [
            62,
            62
           ],
           "y": [
            0,
            53.5
           ]
          },
          {
           "hoverinfo": "none",
           "line": {
            "color": "yellow",
            "dash": "dash"
           },
           "showlegend": false,
           "type": "scatter",
           "x": [
            69,
            69
           ],
           "y": [
            0,
            53.5
           ]
          },
          {
           "hoverinfo": "text",
           "hovertext": [
            "nflId:37078.0<br>displayName:Patrick Peterson<br>Position:RCB<br>Role:Coverage",
            "nflId:38559.0<br>displayName:Harrison Smith<br>Position:RLB<br>Role:Coverage",
            "nflId:41331.0<br>displayName:Bashaud Breeland<br>Position:LCB<br>Role:Coverage",
            "nflId:42388.0<br>displayName:Eric Kendricks<br>Position:LLB<br>Role:Coverage",
            "nflId:42431.0<br>displayName:Danielle Hunter<br>Position:LEO<br>Role:Pass Rush",
            "nflId:43343.0<br>displayName:Mackensie Alexander<br>Position:LOLB<br>Role:Pass Rush",
            "nflId:43376.0<br>displayName:Nick Vigil<br>Position:RILB<br>Role:Pass Rush",
            "nflId:43694.0<br>displayName:Michael Pierce<br>Position:DRT<br>Role:Pass Rush",
            "nflId:44867.0<br>displayName:Dalvin Tomlinson<br>Position:DLT<br>Role:Pass Rush",
            "nflId:45004.0<br>displayName:Xavier Woods<br>Position:FS<br>Role:Coverage",
            "nflId:52525.0<br>displayName:D.J. Wonnum<br>Position:REO<br>Role:Coverage"
           ],
           "marker": {
            "color": "#4F2683"
           },
           "mode": "markers",
           "name": "MIN",
           "type": "scatter",
           "x": [
            54.92,
            49.37,
            55.38,
            57.72,
            66.98,
            64.71,
            64.53,
            64.43,
            64.02,
            48.61,
            61.57
           ],
           "y": [
            7.96,
            16.58,
            43.13,
            30.07,
            29.05,
            28.36,
            22.63,
            20.31,
            24.35,
            30.01,
            18.29
           ]
          },
          {
           "hoverinfo": "text",
           "hovertext": [
            "nflId:38553.0<br>displayName:Riley Reiff<br>Position:RT<br>Role:Pass Block",
            "nflId:41262.0<br>displayName:Xavier Su'a-Filo<br>Position:RG<br>Role:Pass Block",
            "nflId:41619.0<br>displayName:Trey Hopkins<br>Position:C<br>Role:Pass Block",
            "nflId:42500.0<br>displayName:C.J. Uzomah<br>Position:TE-L<br>Role:Pass Route",
            "nflId:43045.0<br>displayName:Quinton Spain<br>Position:LG<br>Role:Pass Block",
            "nflId:43344.0<br>displayName:Tyler Boyd<br>Position:SRWR<br>Role:Pass Route",
            "nflId:44860.0<br>displayName:Joe Mixon<br>Position:HB-R<br>Role:Pass Block",
            "nflId:47794.0<br>displayName:Jonah Williams<br>Position:LT<br>Role:Pass Block",
            "nflId:52409.0<br>displayName:Joe Burrow<br>Position:QB<br>Role:Pass",
            "nflId:52441.0<br>displayName:Tee Higgins<br>Position:LWR<br>Role:Pass Route",
            "nflId:53434.0<br>displayName:Ja'Marr Chase<br>Position:RWR<br>Role:Pass Route"
           ],
           "marker": {
            "color": "#FB4F14"
           },
           "mode": "markers",
           "name": "CIN",
           "type": "scatter",
           "x": [
            66.91,
            65.21,
            64.8,
            62.33,
            64.91,
            57.84,
            66.31,
            64.67,
            68.27,
            57.86,
            57.7
           ],
           "y": [
            28.44,
            26.44,
            24.56,
            19.47,
            20.9,
            32.46,
            27.19,
            19.65,
            23.25,
            8.19,
            42.46
           ]
          },
          {
           "hoverinfo": "none",
           "marker": {
            "color": "#CBB67C"
           },
           "mode": "markers",
           "name": "football",
           "type": "scatter",
           "x": [
            68.72
           ],
           "y": [
            23.66
           ]
          }
         ],
         "name": "21"
        },
        {
         "data": [
          {
           "hoverinfo": "none",
           "mode": "text",
           "showlegend": false,
           "text": [
            "10",
            "20",
            "30",
            "40",
            "50",
            "40",
            "30",
            "20",
            "10"
           ],
           "textfont": {
            "color": "#ffffff",
            "family": "Courier New, monospace",
            "size": 30
           },
           "type": "scatter",
           "x": [
            20,
            30,
            40,
            50,
            60,
            70,
            80,
            90,
            100
           ],
           "y": [
            5,
            5,
            5,
            5,
            5,
            5,
            5,
            5,
            5
           ]
          },
          {
           "hoverinfo": "none",
           "mode": "text",
           "showlegend": false,
           "text": [
            "10",
            "20",
            "30",
            "40",
            "50",
            "40",
            "30",
            "20",
            "10"
           ],
           "textfont": {
            "color": "#ffffff",
            "family": "Courier New, monospace",
            "size": 30
           },
           "type": "scatter",
           "x": [
            20,
            30,
            40,
            50,
            60,
            70,
            80,
            90,
            100
           ],
           "y": [
            48.5,
            48.5,
            48.5,
            48.5,
            48.5,
            48.5,
            48.5,
            48.5,
            48.5
           ]
          },
          {
           "hoverinfo": "none",
           "line": {
            "color": "blue",
            "dash": "dash"
           },
           "showlegend": false,
           "type": "scatter",
           "x": [
            62,
            62
           ],
           "y": [
            0,
            53.5
           ]
          },
          {
           "hoverinfo": "none",
           "line": {
            "color": "yellow",
            "dash": "dash"
           },
           "showlegend": false,
           "type": "scatter",
           "x": [
            69,
            69
           ],
           "y": [
            0,
            53.5
           ]
          },
          {
           "hoverinfo": "text",
           "hovertext": [
            "nflId:37078.0<br>displayName:Patrick Peterson<br>Position:RCB<br>Role:Coverage",
            "nflId:38559.0<br>displayName:Harrison Smith<br>Position:RLB<br>Role:Coverage",
            "nflId:41331.0<br>displayName:Bashaud Breeland<br>Position:LCB<br>Role:Coverage",
            "nflId:42388.0<br>displayName:Eric Kendricks<br>Position:LLB<br>Role:Coverage",
            "nflId:42431.0<br>displayName:Danielle Hunter<br>Position:LEO<br>Role:Pass Rush",
            "nflId:43343.0<br>displayName:Mackensie Alexander<br>Position:LOLB<br>Role:Pass Rush",
            "nflId:43376.0<br>displayName:Nick Vigil<br>Position:RILB<br>Role:Pass Rush",
            "nflId:43694.0<br>displayName:Michael Pierce<br>Position:DRT<br>Role:Pass Rush",
            "nflId:44867.0<br>displayName:Dalvin Tomlinson<br>Position:DLT<br>Role:Pass Rush",
            "nflId:45004.0<br>displayName:Xavier Woods<br>Position:FS<br>Role:Coverage",
            "nflId:52525.0<br>displayName:D.J. Wonnum<br>Position:REO<br>Role:Coverage"
           ],
           "marker": {
            "color": "#4F2683"
           },
           "mode": "markers",
           "name": "MIN",
           "type": "scatter",
           "x": [
            54.42,
            48.93,
            54.95,
            57.41,
            67.51,
            65.18,
            65.23,
            64.8,
            64.25,
            48.42,
            61.46
           ],
           "y": [
            7.92,
            16.47,
            43.05,
            30.33,
            28.99,
            28.26,
            22.66,
            20.15,
            24.3,
            30.13,
            18.26
           ]
          },
          {
           "hoverinfo": "text",
           "hovertext": [
            "nflId:38553.0<br>displayName:Riley Reiff<br>Position:RT<br>Role:Pass Block",
            "nflId:41262.0<br>displayName:Xavier Su'a-Filo<br>Position:RG<br>Role:Pass Block",
            "nflId:41619.0<br>displayName:Trey Hopkins<br>Position:C<br>Role:Pass Block",
            "nflId:42500.0<br>displayName:C.J. Uzomah<br>Position:TE-L<br>Role:Pass Route",
            "nflId:43045.0<br>displayName:Quinton Spain<br>Position:LG<br>Role:Pass Block",
            "nflId:43344.0<br>displayName:Tyler Boyd<br>Position:SRWR<br>Role:Pass Route",
            "nflId:44860.0<br>displayName:Joe Mixon<br>Position:HB-R<br>Role:Pass Block",
            "nflId:47794.0<br>displayName:Jonah Williams<br>Position:LT<br>Role:Pass Block",
            "nflId:52409.0<br>displayName:Joe Burrow<br>Position:QB<br>Role:Pass",
            "nflId:52441.0<br>displayName:Tee Higgins<br>Position:LWR<br>Role:Pass Route",
            "nflId:53434.0<br>displayName:Ja'Marr Chase<br>Position:RWR<br>Role:Pass Route"
           ],
           "marker": {
            "color": "#FB4F14"
           },
           "mode": "markers",
           "name": "CIN",
           "type": "scatter",
           "x": [
            67.33,
            65.48,
            65,
            62.08,
            65.16,
            57.17,
            66.18,
            64.86,
            68.51,
            57.16,
            57.01
           ],
           "y": [
            28.44,
            26.64,
            24.55,
            19.71,
            20.79,
            32.22,
            27.37,
            19.55,
            23.12,
            8.17,
            42.38
           ]
          },
          {
           "hoverinfo": "none",
           "marker": {
            "color": "#CBB67C"
           },
           "mode": "markers",
           "name": "football",
           "type": "scatter",
           "x": [
            69.07
           ],
           "y": [
            23.51
           ]
          }
         ],
         "name": "22"
        },
        {
         "data": [
          {
           "hoverinfo": "none",
           "mode": "text",
           "showlegend": false,
           "text": [
            "10",
            "20",
            "30",
            "40",
            "50",
            "40",
            "30",
            "20",
            "10"
           ],
           "textfont": {
            "color": "#ffffff",
            "family": "Courier New, monospace",
            "size": 30
           },
           "type": "scatter",
           "x": [
            20,
            30,
            40,
            50,
            60,
            70,
            80,
            90,
            100
           ],
           "y": [
            5,
            5,
            5,
            5,
            5,
            5,
            5,
            5,
            5
           ]
          },
          {
           "hoverinfo": "none",
           "mode": "text",
           "showlegend": false,
           "text": [
            "10",
            "20",
            "30",
            "40",
            "50",
            "40",
            "30",
            "20",
            "10"
           ],
           "textfont": {
            "color": "#ffffff",
            "family": "Courier New, monospace",
            "size": 30
           },
           "type": "scatter",
           "x": [
            20,
            30,
            40,
            50,
            60,
            70,
            80,
            90,
            100
           ],
           "y": [
            48.5,
            48.5,
            48.5,
            48.5,
            48.5,
            48.5,
            48.5,
            48.5,
            48.5
           ]
          },
          {
           "hoverinfo": "none",
           "line": {
            "color": "blue",
            "dash": "dash"
           },
           "showlegend": false,
           "type": "scatter",
           "x": [
            62,
            62
           ],
           "y": [
            0,
            53.5
           ]
          },
          {
           "hoverinfo": "none",
           "line": {
            "color": "yellow",
            "dash": "dash"
           },
           "showlegend": false,
           "type": "scatter",
           "x": [
            69,
            69
           ],
           "y": [
            0,
            53.5
           ]
          },
          {
           "hoverinfo": "text",
           "hovertext": [
            "nflId:37078.0<br>displayName:Patrick Peterson<br>Position:RCB<br>Role:Coverage",
            "nflId:38559.0<br>displayName:Harrison Smith<br>Position:RLB<br>Role:Coverage",
            "nflId:41331.0<br>displayName:Bashaud Breeland<br>Position:LCB<br>Role:Coverage",
            "nflId:42388.0<br>displayName:Eric Kendricks<br>Position:LLB<br>Role:Coverage",
            "nflId:42431.0<br>displayName:Danielle Hunter<br>Position:LEO<br>Role:Pass Rush",
            "nflId:43343.0<br>displayName:Mackensie Alexander<br>Position:LOLB<br>Role:Pass Rush",
            "nflId:43376.0<br>displayName:Nick Vigil<br>Position:RILB<br>Role:Pass Rush",
            "nflId:43694.0<br>displayName:Michael Pierce<br>Position:DRT<br>Role:Pass Rush",
            "nflId:44867.0<br>displayName:Dalvin Tomlinson<br>Position:DLT<br>Role:Pass Rush",
            "nflId:45004.0<br>displayName:Xavier Woods<br>Position:FS<br>Role:Coverage",
            "nflId:52525.0<br>displayName:D.J. Wonnum<br>Position:REO<br>Role:Coverage"
           ],
           "marker": {
            "color": "#4F2683"
           },
           "mode": "markers",
           "name": "MIN",
           "type": "scatter",
           "x": [
            53.9,
            48.51,
            54.51,
            57.06,
            68,
            65.65,
            65.94,
            65.16,
            64.48,
            48.19,
            61.33
           ],
           "y": [
            7.88,
            16.35,
            42.96,
            30.54,
            28.93,
            28.2,
            22.65,
            19.99,
            24.25,
            30.22,
            18.22
           ]
          },
          {
           "hoverinfo": "text",
           "hovertext": [
            "nflId:38553.0<br>displayName:Riley Reiff<br>Position:RT<br>Role:Pass Block",
            "nflId:41262.0<br>displayName:Xavier Su'a-Filo<br>Position:RG<br>Role:Pass Block",
            "nflId:41619.0<br>displayName:Trey Hopkins<br>Position:C<br>Role:Pass Block",
            "nflId:42500.0<br>displayName:C.J. Uzomah<br>Position:TE-L<br>Role:Pass Route",
            "nflId:43045.0<br>displayName:Quinton Spain<br>Position:LG<br>Role:Pass Block",
            "nflId:43344.0<br>displayName:Tyler Boyd<br>Position:SRWR<br>Role:Pass Route",
            "nflId:44860.0<br>displayName:Joe Mixon<br>Position:HB-R<br>Role:Pass Block",
            "nflId:47794.0<br>displayName:Jonah Williams<br>Position:LT<br>Role:Pass Block",
            "nflId:52409.0<br>displayName:Joe Burrow<br>Position:QB<br>Role:Pass",
            "nflId:52441.0<br>displayName:Tee Higgins<br>Position:LWR<br>Role:Pass Route",
            "nflId:53434.0<br>displayName:Ja'Marr Chase<br>Position:RWR<br>Role:Pass Route"
           ],
           "marker": {
            "color": "#FB4F14"
           },
           "mode": "markers",
           "name": "CIN",
           "type": "scatter",
           "x": [
            67.74,
            65.76,
            65.19,
            61.81,
            65.43,
            56.48,
            66.06,
            65.09,
            68.77,
            56.43,
            56.31
           ],
           "y": [
            28.42,
            26.87,
            24.53,
            19.98,
            20.67,
            31.96,
            27.54,
            19.44,
            22.96,
            8.18,
            42.29
           ]
          },
          {
           "hoverinfo": "none",
           "marker": {
            "color": "#CBB67C"
           },
           "mode": "markers",
           "name": "football",
           "type": "scatter",
           "x": [
            69.42
           ],
           "y": [
            23.31
           ]
          }
         ],
         "name": "23"
        },
        {
         "data": [
          {
           "hoverinfo": "none",
           "mode": "text",
           "showlegend": false,
           "text": [
            "10",
            "20",
            "30",
            "40",
            "50",
            "40",
            "30",
            "20",
            "10"
           ],
           "textfont": {
            "color": "#ffffff",
            "family": "Courier New, monospace",
            "size": 30
           },
           "type": "scatter",
           "x": [
            20,
            30,
            40,
            50,
            60,
            70,
            80,
            90,
            100
           ],
           "y": [
            5,
            5,
            5,
            5,
            5,
            5,
            5,
            5,
            5
           ]
          },
          {
           "hoverinfo": "none",
           "mode": "text",
           "showlegend": false,
           "text": [
            "10",
            "20",
            "30",
            "40",
            "50",
            "40",
            "30",
            "20",
            "10"
           ],
           "textfont": {
            "color": "#ffffff",
            "family": "Courier New, monospace",
            "size": 30
           },
           "type": "scatter",
           "x": [
            20,
            30,
            40,
            50,
            60,
            70,
            80,
            90,
            100
           ],
           "y": [
            48.5,
            48.5,
            48.5,
            48.5,
            48.5,
            48.5,
            48.5,
            48.5,
            48.5
           ]
          },
          {
           "hoverinfo": "none",
           "line": {
            "color": "blue",
            "dash": "dash"
           },
           "showlegend": false,
           "type": "scatter",
           "x": [
            62,
            62
           ],
           "y": [
            0,
            53.5
           ]
          },
          {
           "hoverinfo": "none",
           "line": {
            "color": "yellow",
            "dash": "dash"
           },
           "showlegend": false,
           "type": "scatter",
           "x": [
            69,
            69
           ],
           "y": [
            0,
            53.5
           ]
          },
          {
           "hoverinfo": "text",
           "hovertext": [
            "nflId:37078.0<br>displayName:Patrick Peterson<br>Position:RCB<br>Role:Coverage",
            "nflId:38559.0<br>displayName:Harrison Smith<br>Position:RLB<br>Role:Coverage",
            "nflId:41331.0<br>displayName:Bashaud Breeland<br>Position:LCB<br>Role:Coverage",
            "nflId:42388.0<br>displayName:Eric Kendricks<br>Position:LLB<br>Role:Coverage",
            "nflId:42431.0<br>displayName:Danielle Hunter<br>Position:LEO<br>Role:Pass Rush",
            "nflId:43343.0<br>displayName:Mackensie Alexander<br>Position:LOLB<br>Role:Pass Rush",
            "nflId:43376.0<br>displayName:Nick Vigil<br>Position:RILB<br>Role:Pass Rush",
            "nflId:43694.0<br>displayName:Michael Pierce<br>Position:DRT<br>Role:Pass Rush",
            "nflId:44867.0<br>displayName:Dalvin Tomlinson<br>Position:DLT<br>Role:Pass Rush",
            "nflId:45004.0<br>displayName:Xavier Woods<br>Position:FS<br>Role:Coverage",
            "nflId:52525.0<br>displayName:D.J. Wonnum<br>Position:REO<br>Role:Coverage"
           ],
           "marker": {
            "color": "#4F2683"
           },
           "mode": "markers",
           "name": "MIN",
           "type": "scatter",
           "x": [
            53.37,
            48.09,
            54.04,
            56.7,
            68.47,
            66.1,
            66.65,
            65.52,
            64.7,
            47.93,
            61.15
           ],
           "y": [
            7.86,
            16.23,
            42.85,
            30.72,
            28.85,
            28.2,
            22.61,
            19.81,
            24.2,
            30.27,
            18.2
           ]
          },
          {
           "hoverinfo": "text",
           "hovertext": [
            "nflId:38553.0<br>displayName:Riley Reiff<br>Position:RT<br>Role:Pass Block",
            "nflId:41262.0<br>displayName:Xavier Su'a-Filo<br>Position:RG<br>Role:Pass Block",
            "nflId:41619.0<br>displayName:Trey Hopkins<br>Position:C<br>Role:Pass Block",
            "nflId:42500.0<br>displayName:C.J. Uzomah<br>Position:TE-L<br>Role:Pass Route",
            "nflId:43045.0<br>displayName:Quinton Spain<br>Position:LG<br>Role:Pass Block",
            "nflId:43344.0<br>displayName:Tyler Boyd<br>Position:SRWR<br>Role:Pass Route",
            "nflId:44860.0<br>displayName:Joe Mixon<br>Position:HB-R<br>Role:Pass Block",
            "nflId:47794.0<br>displayName:Jonah Williams<br>Position:LT<br>Role:Pass Block",
            "nflId:52409.0<br>displayName:Joe Burrow<br>Position:QB<br>Role:Pass",
            "nflId:52441.0<br>displayName:Tee Higgins<br>Position:LWR<br>Role:Pass Route",
            "nflId:53434.0<br>displayName:Ja'Marr Chase<br>Position:RWR<br>Role:Pass Route"
           ],
           "marker": {
            "color": "#FB4F14"
           },
           "mode": "markers",
           "name": "CIN",
           "type": "scatter",
           "x": [
            68.14,
            66.03,
            65.38,
            61.53,
            65.7,
            55.79,
            65.96,
            65.31,
            69.04,
            55.68,
            55.6
           ],
           "y": [
            28.39,
            27.11,
            24.5,
            20.29,
            20.56,
            31.68,
            27.71,
            19.33,
            22.76,
            8.21,
            42.18
           ]
          },
          {
           "hoverinfo": "none",
           "marker": {
            "color": "#CBB67C"
           },
           "mode": "markers",
           "name": "football",
           "type": "scatter",
           "x": [
            69.75
           ],
           "y": [
            23.07
           ]
          }
         ],
         "name": "24"
        },
        {
         "data": [
          {
           "hoverinfo": "none",
           "mode": "text",
           "showlegend": false,
           "text": [
            "10",
            "20",
            "30",
            "40",
            "50",
            "40",
            "30",
            "20",
            "10"
           ],
           "textfont": {
            "color": "#ffffff",
            "family": "Courier New, monospace",
            "size": 30
           },
           "type": "scatter",
           "x": [
            20,
            30,
            40,
            50,
            60,
            70,
            80,
            90,
            100
           ],
           "y": [
            5,
            5,
            5,
            5,
            5,
            5,
            5,
            5,
            5
           ]
          },
          {
           "hoverinfo": "none",
           "mode": "text",
           "showlegend": false,
           "text": [
            "10",
            "20",
            "30",
            "40",
            "50",
            "40",
            "30",
            "20",
            "10"
           ],
           "textfont": {
            "color": "#ffffff",
            "family": "Courier New, monospace",
            "size": 30
           },
           "type": "scatter",
           "x": [
            20,
            30,
            40,
            50,
            60,
            70,
            80,
            90,
            100
           ],
           "y": [
            48.5,
            48.5,
            48.5,
            48.5,
            48.5,
            48.5,
            48.5,
            48.5,
            48.5
           ]
          },
          {
           "hoverinfo": "none",
           "line": {
            "color": "blue",
            "dash": "dash"
           },
           "showlegend": false,
           "type": "scatter",
           "x": [
            62,
            62
           ],
           "y": [
            0,
            53.5
           ]
          },
          {
           "hoverinfo": "none",
           "line": {
            "color": "yellow",
            "dash": "dash"
           },
           "showlegend": false,
           "type": "scatter",
           "x": [
            69,
            69
           ],
           "y": [
            0,
            53.5
           ]
          },
          {
           "hoverinfo": "text",
           "hovertext": [
            "nflId:37078.0<br>displayName:Patrick Peterson<br>Position:RCB<br>Role:Coverage",
            "nflId:38559.0<br>displayName:Harrison Smith<br>Position:RLB<br>Role:Coverage",
            "nflId:41331.0<br>displayName:Bashaud Breeland<br>Position:LCB<br>Role:Coverage",
            "nflId:42388.0<br>displayName:Eric Kendricks<br>Position:LLB<br>Role:Coverage",
            "nflId:42431.0<br>displayName:Danielle Hunter<br>Position:LEO<br>Role:Pass Rush",
            "nflId:43343.0<br>displayName:Mackensie Alexander<br>Position:LOLB<br>Role:Pass Rush",
            "nflId:43376.0<br>displayName:Nick Vigil<br>Position:RILB<br>Role:Pass Rush",
            "nflId:43694.0<br>displayName:Michael Pierce<br>Position:DRT<br>Role:Pass Rush",
            "nflId:44867.0<br>displayName:Dalvin Tomlinson<br>Position:DLT<br>Role:Pass Rush",
            "nflId:45004.0<br>displayName:Xavier Woods<br>Position:FS<br>Role:Coverage",
            "nflId:52525.0<br>displayName:D.J. Wonnum<br>Position:REO<br>Role:Coverage"
           ],
           "marker": {
            "color": "#4F2683"
           },
           "mode": "markers",
           "name": "MIN",
           "type": "scatter",
           "x": [
            52.81,
            47.68,
            53.57,
            56.33,
            68.91,
            66.53,
            67.36,
            65.87,
            64.91,
            47.64,
            60.96
           ],
           "y": [
            7.84,
            16.11,
            42.73,
            30.86,
            28.77,
            28.24,
            22.54,
            19.62,
            24.17,
            30.3,
            18.18
           ]
          },
          {
           "hoverinfo": "text",
           "hovertext": [
            "nflId:38553.0<br>displayName:Riley Reiff<br>Position:RT<br>Role:Pass Block",
            "nflId:41262.0<br>displayName:Xavier Su'a-Filo<br>Position:RG<br>Role:Pass Block",
            "nflId:41619.0<br>displayName:Trey Hopkins<br>Position:C<br>Role:Pass Block",
            "nflId:42500.0<br>displayName:C.J. Uzomah<br>Position:TE-L<br>Role:Pass Route",
            "nflId:43045.0<br>displayName:Quinton Spain<br>Position:LG<br>Role:Pass Block",
            "nflId:43344.0<br>displayName:Tyler Boyd<br>Position:SRWR<br>Role:Pass Route",
            "nflId:44860.0<br>displayName:Joe Mixon<br>Position:HB-R<br>Role:Pass Block",
            "nflId:47794.0<br>displayName:Jonah Williams<br>Position:LT<br>Role:Pass Block",
            "nflId:52409.0<br>displayName:Joe Burrow<br>Position:QB<br>Role:Pass",
            "nflId:52441.0<br>displayName:Tee Higgins<br>Position:LWR<br>Role:Pass Route",
            "nflId:53434.0<br>displayName:Ja'Marr Chase<br>Position:RWR<br>Role:Pass Route"
           ],
           "marker": {
            "color": "#FB4F14"
           },
           "mode": "markers",
           "name": "CIN",
           "type": "scatter",
           "x": [
            68.53,
            66.3,
            65.56,
            61.24,
            65.98,
            55.11,
            65.87,
            65.52,
            69.32,
            54.93,
            54.88
           ],
           "y": [
            28.32,
            27.36,
            24.46,
            20.65,
            20.43,
            31.36,
            27.89,
            19.22,
            22.52,
            8.25,
            42.06
           ]
          },
          {
           "hoverinfo": "none",
           "marker": {
            "color": "#CBB67C"
           },
           "mode": "markers",
           "name": "football",
           "type": "scatter",
           "x": [
            70.01
           ],
           "y": [
            22.78
           ]
          }
         ],
         "name": "25"
        },
        {
         "data": [
          {
           "hoverinfo": "none",
           "mode": "text",
           "showlegend": false,
           "text": [
            "10",
            "20",
            "30",
            "40",
            "50",
            "40",
            "30",
            "20",
            "10"
           ],
           "textfont": {
            "color": "#ffffff",
            "family": "Courier New, monospace",
            "size": 30
           },
           "type": "scatter",
           "x": [
            20,
            30,
            40,
            50,
            60,
            70,
            80,
            90,
            100
           ],
           "y": [
            5,
            5,
            5,
            5,
            5,
            5,
            5,
            5,
            5
           ]
          },
          {
           "hoverinfo": "none",
           "mode": "text",
           "showlegend": false,
           "text": [
            "10",
            "20",
            "30",
            "40",
            "50",
            "40",
            "30",
            "20",
            "10"
           ],
           "textfont": {
            "color": "#ffffff",
            "family": "Courier New, monospace",
            "size": 30
           },
           "type": "scatter",
           "x": [
            20,
            30,
            40,
            50,
            60,
            70,
            80,
            90,
            100
           ],
           "y": [
            48.5,
            48.5,
            48.5,
            48.5,
            48.5,
            48.5,
            48.5,
            48.5,
            48.5
           ]
          },
          {
           "hoverinfo": "none",
           "line": {
            "color": "blue",
            "dash": "dash"
           },
           "showlegend": false,
           "type": "scatter",
           "x": [
            62,
            62
           ],
           "y": [
            0,
            53.5
           ]
          },
          {
           "hoverinfo": "none",
           "line": {
            "color": "yellow",
            "dash": "dash"
           },
           "showlegend": false,
           "type": "scatter",
           "x": [
            69,
            69
           ],
           "y": [
            0,
            53.5
           ]
          },
          {
           "hoverinfo": "text",
           "hovertext": [
            "nflId:37078.0<br>displayName:Patrick Peterson<br>Position:RCB<br>Role:Coverage",
            "nflId:38559.0<br>displayName:Harrison Smith<br>Position:RLB<br>Role:Coverage",
            "nflId:41331.0<br>displayName:Bashaud Breeland<br>Position:LCB<br>Role:Coverage",
            "nflId:42388.0<br>displayName:Eric Kendricks<br>Position:LLB<br>Role:Coverage",
            "nflId:42431.0<br>displayName:Danielle Hunter<br>Position:LEO<br>Role:Pass Rush",
            "nflId:43343.0<br>displayName:Mackensie Alexander<br>Position:LOLB<br>Role:Pass Rush",
            "nflId:43376.0<br>displayName:Nick Vigil<br>Position:RILB<br>Role:Pass Rush",
            "nflId:43694.0<br>displayName:Michael Pierce<br>Position:DRT<br>Role:Pass Rush",
            "nflId:44867.0<br>displayName:Dalvin Tomlinson<br>Position:DLT<br>Role:Pass Rush",
            "nflId:45004.0<br>displayName:Xavier Woods<br>Position:FS<br>Role:Coverage",
            "nflId:52525.0<br>displayName:D.J. Wonnum<br>Position:REO<br>Role:Coverage"
           ],
           "marker": {
            "color": "#4F2683"
           },
           "mode": "markers",
           "name": "MIN",
           "type": "scatter",
           "x": [
            52.22,
            47.27,
            53.07,
            55.95,
            69.31,
            66.93,
            68.06,
            66.21,
            65.11,
            47.31,
            60.75
           ],
           "y": [
            7.85,
            15.99,
            42.59,
            30.94,
            28.67,
            28.33,
            22.41,
            19.41,
            24.13,
            30.29,
            18.17
           ]
          },
          {
           "hoverinfo": "text",
           "hovertext": [
            "nflId:38553.0<br>displayName:Riley Reiff<br>Position:RT<br>Role:Pass Block",
            "nflId:41262.0<br>displayName:Xavier Su'a-Filo<br>Position:RG<br>Role:Pass Block",
            "nflId:41619.0<br>displayName:Trey Hopkins<br>Position:C<br>Role:Pass Block",
            "nflId:42500.0<br>displayName:C.J. Uzomah<br>Position:TE-L<br>Role:Pass Route",
            "nflId:43045.0<br>displayName:Quinton Spain<br>Position:LG<br>Role:Pass Block",
            "nflId:43344.0<br>displayName:Tyler Boyd<br>Position:SRWR<br>Role:Pass Route",
            "nflId:44860.0<br>displayName:Joe Mixon<br>Position:HB-R<br>Role:Pass Block",
            "nflId:47794.0<br>displayName:Jonah Williams<br>Position:LT<br>Role:Pass Block",
            "nflId:52409.0<br>displayName:Joe Burrow<br>Position:QB<br>Role:Pass",
            "nflId:52441.0<br>displayName:Tee Higgins<br>Position:LWR<br>Role:Pass Route",
            "nflId:53434.0<br>displayName:Ja'Marr Chase<br>Position:RWR<br>Role:Pass Route"
           ],
           "marker": {
            "color": "#FB4F14"
           },
           "mode": "markers",
           "name": "CIN",
           "type": "scatter",
           "x": [
            68.91,
            66.57,
            65.75,
            60.94,
            66.26,
            54.44,
            65.81,
            65.73,
            69.6,
            54.17,
            54.16
           ],
           "y": [
            28.24,
            27.6,
            24.42,
            21.04,
            20.29,
            31.01,
            28.05,
            19.12,
            22.25,
            8.32,
            41.93
           ]
          },
          {
           "hoverinfo": "none",
           "marker": {
            "color": "#CBB67C"
           },
           "mode": "markers",
           "name": "football",
           "type": "scatter",
           "x": [
            70.26
           ],
           "y": [
            22.42
           ]
          }
         ],
         "name": "26"
        },
        {
         "data": [
          {
           "hoverinfo": "none",
           "mode": "text",
           "showlegend": false,
           "text": [
            "10",
            "20",
            "30",
            "40",
            "50",
            "40",
            "30",
            "20",
            "10"
           ],
           "textfont": {
            "color": "#ffffff",
            "family": "Courier New, monospace",
            "size": 30
           },
           "type": "scatter",
           "x": [
            20,
            30,
            40,
            50,
            60,
            70,
            80,
            90,
            100
           ],
           "y": [
            5,
            5,
            5,
            5,
            5,
            5,
            5,
            5,
            5
           ]
          },
          {
           "hoverinfo": "none",
           "mode": "text",
           "showlegend": false,
           "text": [
            "10",
            "20",
            "30",
            "40",
            "50",
            "40",
            "30",
            "20",
            "10"
           ],
           "textfont": {
            "color": "#ffffff",
            "family": "Courier New, monospace",
            "size": 30
           },
           "type": "scatter",
           "x": [
            20,
            30,
            40,
            50,
            60,
            70,
            80,
            90,
            100
           ],
           "y": [
            48.5,
            48.5,
            48.5,
            48.5,
            48.5,
            48.5,
            48.5,
            48.5,
            48.5
           ]
          },
          {
           "hoverinfo": "none",
           "line": {
            "color": "blue",
            "dash": "dash"
           },
           "showlegend": false,
           "type": "scatter",
           "x": [
            62,
            62
           ],
           "y": [
            0,
            53.5
           ]
          },
          {
           "hoverinfo": "none",
           "line": {
            "color": "yellow",
            "dash": "dash"
           },
           "showlegend": false,
           "type": "scatter",
           "x": [
            69,
            69
           ],
           "y": [
            0,
            53.5
           ]
          },
          {
           "hoverinfo": "text",
           "hovertext": [
            "nflId:37078.0<br>displayName:Patrick Peterson<br>Position:RCB<br>Role:Coverage",
            "nflId:38559.0<br>displayName:Harrison Smith<br>Position:RLB<br>Role:Coverage",
            "nflId:41331.0<br>displayName:Bashaud Breeland<br>Position:LCB<br>Role:Coverage",
            "nflId:42388.0<br>displayName:Eric Kendricks<br>Position:LLB<br>Role:Coverage",
            "nflId:42431.0<br>displayName:Danielle Hunter<br>Position:LEO<br>Role:Pass Rush",
            "nflId:43343.0<br>displayName:Mackensie Alexander<br>Position:LOLB<br>Role:Pass Rush",
            "nflId:43376.0<br>displayName:Nick Vigil<br>Position:RILB<br>Role:Pass Rush",
            "nflId:43694.0<br>displayName:Michael Pierce<br>Position:DRT<br>Role:Pass Rush",
            "nflId:44867.0<br>displayName:Dalvin Tomlinson<br>Position:DLT<br>Role:Pass Rush",
            "nflId:45004.0<br>displayName:Xavier Woods<br>Position:FS<br>Role:Coverage",
            "nflId:52525.0<br>displayName:D.J. Wonnum<br>Position:REO<br>Role:Coverage"
           ],
           "marker": {
            "color": "#4F2683"
           },
           "mode": "markers",
           "name": "MIN",
           "type": "scatter",
           "x": [
            51.62,
            46.87,
            52.56,
            55.56,
            69.68,
            67.3,
            68.73,
            66.54,
            65.3,
            46.95,
            60.48
           ],
           "y": [
            7.87,
            15.88,
            42.43,
            30.98,
            28.56,
            28.45,
            22.21,
            19.18,
            24.07,
            30.26,
            18.14
           ]
          },
          {
           "hoverinfo": "text",
           "hovertext": [
            "nflId:38553.0<br>displayName:Riley Reiff<br>Position:RT<br>Role:Pass Block",
            "nflId:41262.0<br>displayName:Xavier Su'a-Filo<br>Position:RG<br>Role:Pass Block",
            "nflId:41619.0<br>displayName:Trey Hopkins<br>Position:C<br>Role:Pass Block",
            "nflId:42500.0<br>displayName:C.J. Uzomah<br>Position:TE-L<br>Role:Pass Route",
            "nflId:43045.0<br>displayName:Quinton Spain<br>Position:LG<br>Role:Pass Block",
            "nflId:43344.0<br>displayName:Tyler Boyd<br>Position:SRWR<br>Role:Pass Route",
            "nflId:44860.0<br>displayName:Joe Mixon<br>Position:HB-R<br>Role:Pass Block",
            "nflId:47794.0<br>displayName:Jonah Williams<br>Position:LT<br>Role:Pass Block",
            "nflId:52409.0<br>displayName:Joe Burrow<br>Position:QB<br>Role:Pass",
            "nflId:52441.0<br>displayName:Tee Higgins<br>Position:LWR<br>Role:Pass Route",
            "nflId:53434.0<br>displayName:Ja'Marr Chase<br>Position:RWR<br>Role:Pass Route"
           ],
           "marker": {
            "color": "#FB4F14"
           },
           "mode": "markers",
           "name": "CIN",
           "type": "scatter",
           "x": [
            69.26,
            66.83,
            65.92,
            60.66,
            66.52,
            53.77,
            65.78,
            65.95,
            69.87,
            53.4,
            53.44
           ],
           "y": [
            28.13,
            27.84,
            24.37,
            21.47,
            20.13,
            30.62,
            28.2,
            19.03,
            21.94,
            8.41,
            41.79
           ]
          },
          {
           "hoverinfo": "none",
           "marker": {
            "color": "#CBB67C"
           },
           "mode": "markers",
           "name": "football",
           "type": "scatter",
           "x": [
            70.47
           ],
           "y": [
            22.03
           ]
          }
         ],
         "name": "27"
        },
        {
         "data": [
          {
           "hoverinfo": "none",
           "mode": "text",
           "showlegend": false,
           "text": [
            "10",
            "20",
            "30",
            "40",
            "50",
            "40",
            "30",
            "20",
            "10"
           ],
           "textfont": {
            "color": "#ffffff",
            "family": "Courier New, monospace",
            "size": 30
           },
           "type": "scatter",
           "x": [
            20,
            30,
            40,
            50,
            60,
            70,
            80,
            90,
            100
           ],
           "y": [
            5,
            5,
            5,
            5,
            5,
            5,
            5,
            5,
            5
           ]
          },
          {
           "hoverinfo": "none",
           "mode": "text",
           "showlegend": false,
           "text": [
            "10",
            "20",
            "30",
            "40",
            "50",
            "40",
            "30",
            "20",
            "10"
           ],
           "textfont": {
            "color": "#ffffff",
            "family": "Courier New, monospace",
            "size": 30
           },
           "type": "scatter",
           "x": [
            20,
            30,
            40,
            50,
            60,
            70,
            80,
            90,
            100
           ],
           "y": [
            48.5,
            48.5,
            48.5,
            48.5,
            48.5,
            48.5,
            48.5,
            48.5,
            48.5
           ]
          },
          {
           "hoverinfo": "none",
           "line": {
            "color": "blue",
            "dash": "dash"
           },
           "showlegend": false,
           "type": "scatter",
           "x": [
            62,
            62
           ],
           "y": [
            0,
            53.5
           ]
          },
          {
           "hoverinfo": "none",
           "line": {
            "color": "yellow",
            "dash": "dash"
           },
           "showlegend": false,
           "type": "scatter",
           "x": [
            69,
            69
           ],
           "y": [
            0,
            53.5
           ]
          },
          {
           "hoverinfo": "text",
           "hovertext": [
            "nflId:37078.0<br>displayName:Patrick Peterson<br>Position:RCB<br>Role:Coverage",
            "nflId:38559.0<br>displayName:Harrison Smith<br>Position:RLB<br>Role:Coverage",
            "nflId:41331.0<br>displayName:Bashaud Breeland<br>Position:LCB<br>Role:Coverage",
            "nflId:42388.0<br>displayName:Eric Kendricks<br>Position:LLB<br>Role:Coverage",
            "nflId:42431.0<br>displayName:Danielle Hunter<br>Position:LEO<br>Role:Pass Rush",
            "nflId:43343.0<br>displayName:Mackensie Alexander<br>Position:LOLB<br>Role:Pass Rush",
            "nflId:43376.0<br>displayName:Nick Vigil<br>Position:RILB<br>Role:Pass Rush",
            "nflId:43694.0<br>displayName:Michael Pierce<br>Position:DRT<br>Role:Pass Rush",
            "nflId:44867.0<br>displayName:Dalvin Tomlinson<br>Position:DLT<br>Role:Pass Rush",
            "nflId:45004.0<br>displayName:Xavier Woods<br>Position:FS<br>Role:Coverage",
            "nflId:52525.0<br>displayName:D.J. Wonnum<br>Position:REO<br>Role:Coverage"
           ],
           "marker": {
            "color": "#4F2683"
           },
           "mode": "markers",
           "name": "MIN",
           "type": "scatter",
           "x": [
            50.99,
            46.47,
            52.02,
            55.18,
            70.04,
            67.66,
            69.37,
            66.86,
            65.47,
            46.56,
            60.2
           ],
           "y": [
            7.9,
            15.77,
            42.26,
            30.96,
            28.44,
            28.6,
            21.93,
            18.94,
            24.03,
            30.22,
            18.12
           ]
          },
          {
           "hoverinfo": "text",
           "hovertext": [
            "nflId:38553.0<br>displayName:Riley Reiff<br>Position:RT<br>Role:Pass Block",
            "nflId:41262.0<br>displayName:Xavier Su'a-Filo<br>Position:RG<br>Role:Pass Block",
            "nflId:41619.0<br>displayName:Trey Hopkins<br>Position:C<br>Role:Pass Block",
            "nflId:42500.0<br>displayName:C.J. Uzomah<br>Position:TE-L<br>Role:Pass Route",
            "nflId:43045.0<br>displayName:Quinton Spain<br>Position:LG<br>Role:Pass Block",
            "nflId:43344.0<br>displayName:Tyler Boyd<br>Position:SRWR<br>Role:Pass Route",
            "nflId:44860.0<br>displayName:Joe Mixon<br>Position:HB-R<br>Role:Pass Block",
            "nflId:47794.0<br>displayName:Jonah Williams<br>Position:LT<br>Role:Pass Block",
            "nflId:52409.0<br>displayName:Joe Burrow<br>Position:QB<br>Role:Pass",
            "nflId:52441.0<br>displayName:Tee Higgins<br>Position:LWR<br>Role:Pass Route",
            "nflId:53434.0<br>displayName:Ja'Marr Chase<br>Position:RWR<br>Role:Pass Route"
           ],
           "marker": {
            "color": "#FB4F14"
           },
           "mode": "markers",
           "name": "CIN",
           "type": "scatter",
           "x": [
            69.61,
            67.09,
            66.08,
            60.38,
            66.78,
            53.13,
            65.78,
            66.15,
            70.13,
            52.63,
            52.72
           ],
           "y": [
            28,
            28.07,
            24.33,
            21.94,
            19.95,
            30.18,
            28.33,
            18.94,
            21.6,
            8.51,
            41.62
           ]
          },
          {
           "hoverinfo": "none",
           "marker": {
            "color": "#CBB67C"
           },
           "mode": "markers",
           "name": "football",
           "type": "scatter",
           "x": [
            70.65
           ],
           "y": [
            21.63
           ]
          }
         ],
         "name": "28"
        },
        {
         "data": [
          {
           "hoverinfo": "none",
           "mode": "text",
           "showlegend": false,
           "text": [
            "10",
            "20",
            "30",
            "40",
            "50",
            "40",
            "30",
            "20",
            "10"
           ],
           "textfont": {
            "color": "#ffffff",
            "family": "Courier New, monospace",
            "size": 30
           },
           "type": "scatter",
           "x": [
            20,
            30,
            40,
            50,
            60,
            70,
            80,
            90,
            100
           ],
           "y": [
            5,
            5,
            5,
            5,
            5,
            5,
            5,
            5,
            5
           ]
          },
          {
           "hoverinfo": "none",
           "mode": "text",
           "showlegend": false,
           "text": [
            "10",
            "20",
            "30",
            "40",
            "50",
            "40",
            "30",
            "20",
            "10"
           ],
           "textfont": {
            "color": "#ffffff",
            "family": "Courier New, monospace",
            "size": 30
           },
           "type": "scatter",
           "x": [
            20,
            30,
            40,
            50,
            60,
            70,
            80,
            90,
            100
           ],
           "y": [
            48.5,
            48.5,
            48.5,
            48.5,
            48.5,
            48.5,
            48.5,
            48.5,
            48.5
           ]
          },
          {
           "hoverinfo": "none",
           "line": {
            "color": "blue",
            "dash": "dash"
           },
           "showlegend": false,
           "type": "scatter",
           "x": [
            62,
            62
           ],
           "y": [
            0,
            53.5
           ]
          },
          {
           "hoverinfo": "none",
           "line": {
            "color": "yellow",
            "dash": "dash"
           },
           "showlegend": false,
           "type": "scatter",
           "x": [
            69,
            69
           ],
           "y": [
            0,
            53.5
           ]
          },
          {
           "hoverinfo": "text",
           "hovertext": [
            "nflId:37078.0<br>displayName:Patrick Peterson<br>Position:RCB<br>Role:Coverage",
            "nflId:38559.0<br>displayName:Harrison Smith<br>Position:RLB<br>Role:Coverage",
            "nflId:41331.0<br>displayName:Bashaud Breeland<br>Position:LCB<br>Role:Coverage",
            "nflId:42388.0<br>displayName:Eric Kendricks<br>Position:LLB<br>Role:Coverage",
            "nflId:42431.0<br>displayName:Danielle Hunter<br>Position:LEO<br>Role:Pass Rush",
            "nflId:43343.0<br>displayName:Mackensie Alexander<br>Position:LOLB<br>Role:Pass Rush",
            "nflId:43376.0<br>displayName:Nick Vigil<br>Position:RILB<br>Role:Pass Rush",
            "nflId:43694.0<br>displayName:Michael Pierce<br>Position:DRT<br>Role:Pass Rush",
            "nflId:44867.0<br>displayName:Dalvin Tomlinson<br>Position:DLT<br>Role:Pass Rush",
            "nflId:45004.0<br>displayName:Xavier Woods<br>Position:FS<br>Role:Coverage",
            "nflId:52525.0<br>displayName:D.J. Wonnum<br>Position:REO<br>Role:Coverage"
           ],
           "marker": {
            "color": "#4F2683"
           },
           "mode": "markers",
           "name": "MIN",
           "type": "scatter",
           "x": [
            50.34,
            46.07,
            51.44,
            54.8,
            70.39,
            68,
            69.97,
            67.18,
            65.63,
            46.15,
            59.92
           ],
           "y": [
            7.96,
            15.66,
            42.07,
            30.89,
            28.31,
            28.77,
            21.62,
            18.69,
            23.99,
            30.16,
            18.1
           ]
          },
          {
           "hoverinfo": "text",
           "hovertext": [
            "nflId:38553.0<br>displayName:Riley Reiff<br>Position:RT<br>Role:Pass Block",
            "nflId:41262.0<br>displayName:Xavier Su'a-Filo<br>Position:RG<br>Role:Pass Block",
            "nflId:41619.0<br>displayName:Trey Hopkins<br>Position:C<br>Role:Pass Block",
            "nflId:42500.0<br>displayName:C.J. Uzomah<br>Position:TE-L<br>Role:Pass Route",
            "nflId:43045.0<br>displayName:Quinton Spain<br>Position:LG<br>Role:Pass Block",
            "nflId:43344.0<br>displayName:Tyler Boyd<br>Position:SRWR<br>Role:Pass Route",
            "nflId:44860.0<br>displayName:Joe Mixon<br>Position:HB-R<br>Role:Pass Block",
            "nflId:47794.0<br>displayName:Jonah Williams<br>Position:LT<br>Role:Pass Block",
            "nflId:52409.0<br>displayName:Joe Burrow<br>Position:QB<br>Role:Pass",
            "nflId:52441.0<br>displayName:Tee Higgins<br>Position:LWR<br>Role:Pass Route",
            "nflId:53434.0<br>displayName:Ja'Marr Chase<br>Position:RWR<br>Role:Pass Route"
           ],
           "marker": {
            "color": "#FB4F14"
           },
           "mode": "markers",
           "name": "CIN",
           "type": "scatter",
           "x": [
            69.93,
            67.35,
            66.23,
            60.12,
            67.04,
            52.52,
            65.82,
            66.35,
            70.39,
            51.85,
            52.02
           ],
           "y": [
            27.87,
            28.28,
            24.27,
            22.44,
            19.75,
            29.72,
            28.43,
            18.87,
            21.25,
            8.63,
            41.41
           ]
          },
          {
           "hoverinfo": "none",
           "marker": {
            "color": "#CBB67C"
           },
           "mode": "markers",
           "name": "football",
           "type": "scatter",
           "x": [
            70.81
           ],
           "y": [
            21.21
           ]
          }
         ],
         "name": "29"
        },
        {
         "data": [
          {
           "hoverinfo": "none",
           "mode": "text",
           "showlegend": false,
           "text": [
            "10",
            "20",
            "30",
            "40",
            "50",
            "40",
            "30",
            "20",
            "10"
           ],
           "textfont": {
            "color": "#ffffff",
            "family": "Courier New, monospace",
            "size": 30
           },
           "type": "scatter",
           "x": [
            20,
            30,
            40,
            50,
            60,
            70,
            80,
            90,
            100
           ],
           "y": [
            5,
            5,
            5,
            5,
            5,
            5,
            5,
            5,
            5
           ]
          },
          {
           "hoverinfo": "none",
           "mode": "text",
           "showlegend": false,
           "text": [
            "10",
            "20",
            "30",
            "40",
            "50",
            "40",
            "30",
            "20",
            "10"
           ],
           "textfont": {
            "color": "#ffffff",
            "family": "Courier New, monospace",
            "size": 30
           },
           "type": "scatter",
           "x": [
            20,
            30,
            40,
            50,
            60,
            70,
            80,
            90,
            100
           ],
           "y": [
            48.5,
            48.5,
            48.5,
            48.5,
            48.5,
            48.5,
            48.5,
            48.5,
            48.5
           ]
          },
          {
           "hoverinfo": "none",
           "line": {
            "color": "blue",
            "dash": "dash"
           },
           "showlegend": false,
           "type": "scatter",
           "x": [
            62,
            62
           ],
           "y": [
            0,
            53.5
           ]
          },
          {
           "hoverinfo": "none",
           "line": {
            "color": "yellow",
            "dash": "dash"
           },
           "showlegend": false,
           "type": "scatter",
           "x": [
            69,
            69
           ],
           "y": [
            0,
            53.5
           ]
          },
          {
           "hoverinfo": "text",
           "hovertext": [
            "nflId:37078.0<br>displayName:Patrick Peterson<br>Position:RCB<br>Role:Coverage",
            "nflId:38559.0<br>displayName:Harrison Smith<br>Position:RLB<br>Role:Coverage",
            "nflId:41331.0<br>displayName:Bashaud Breeland<br>Position:LCB<br>Role:Coverage",
            "nflId:42388.0<br>displayName:Eric Kendricks<br>Position:LLB<br>Role:Coverage",
            "nflId:42431.0<br>displayName:Danielle Hunter<br>Position:LEO<br>Role:Pass Rush",
            "nflId:43343.0<br>displayName:Mackensie Alexander<br>Position:LOLB<br>Role:Pass Rush",
            "nflId:43376.0<br>displayName:Nick Vigil<br>Position:RILB<br>Role:Pass Rush",
            "nflId:43694.0<br>displayName:Michael Pierce<br>Position:DRT<br>Role:Pass Rush",
            "nflId:44867.0<br>displayName:Dalvin Tomlinson<br>Position:DLT<br>Role:Pass Rush",
            "nflId:45004.0<br>displayName:Xavier Woods<br>Position:FS<br>Role:Coverage",
            "nflId:52525.0<br>displayName:D.J. Wonnum<br>Position:REO<br>Role:Coverage"
           ],
           "marker": {
            "color": "#4F2683"
           },
           "mode": "markers",
           "name": "MIN",
           "type": "scatter",
           "x": [
            49.66,
            45.67,
            50.86,
            54.43,
            70.71,
            68.33,
            70.52,
            67.5,
            65.78,
            45.71,
            59.64
           ],
           "y": [
            8.04,
            15.55,
            41.88,
            30.77,
            28.19,
            28.94,
            21.26,
            18.41,
            23.94,
            30.09,
            18.07
           ]
          },
          {
           "hoverinfo": "text",
           "hovertext": [
            "nflId:38553.0<br>displayName:Riley Reiff<br>Position:RT<br>Role:Pass Block",
            "nflId:41262.0<br>displayName:Xavier Su'a-Filo<br>Position:RG<br>Role:Pass Block",
            "nflId:41619.0<br>displayName:Trey Hopkins<br>Position:C<br>Role:Pass Block",
            "nflId:42500.0<br>displayName:C.J. Uzomah<br>Position:TE-L<br>Role:Pass Route",
            "nflId:43045.0<br>displayName:Quinton Spain<br>Position:LG<br>Role:Pass Block",
            "nflId:43344.0<br>displayName:Tyler Boyd<br>Position:SRWR<br>Role:Pass Route",
            "nflId:44860.0<br>displayName:Joe Mixon<br>Position:HB-R<br>Role:Pass Block",
            "nflId:47794.0<br>displayName:Jonah Williams<br>Position:LT<br>Role:Pass Block",
            "nflId:52409.0<br>displayName:Joe Burrow<br>Position:QB<br>Role:Pass",
            "nflId:52441.0<br>displayName:Tee Higgins<br>Position:LWR<br>Role:Pass Route",
            "nflId:53434.0<br>displayName:Ja'Marr Chase<br>Position:RWR<br>Role:Pass Route"
           ],
           "marker": {
            "color": "#FB4F14"
           },
           "mode": "markers",
           "name": "CIN",
           "type": "scatter",
           "x": [
            70.25,
            67.61,
            66.36,
            59.89,
            67.27,
            51.93,
            65.88,
            66.55,
            70.64,
            51.05,
            51.33
           ],
           "y": [
            27.73,
            28.49,
            24.22,
            22.95,
            19.53,
            29.21,
            28.5,
            18.81,
            20.9,
            8.78,
            41.18
           ]
          },
          {
           "hoverinfo": "none",
           "marker": {
            "color": "#CBB67C"
           },
           "mode": "markers",
           "name": "football",
           "type": "scatter",
           "x": [
            70.94
           ],
           "y": [
            20.79
           ]
          }
         ],
         "name": "30"
        },
        {
         "data": [
          {
           "hoverinfo": "none",
           "mode": "text",
           "showlegend": false,
           "text": [
            "10",
            "20",
            "30",
            "40",
            "50",
            "40",
            "30",
            "20",
            "10"
           ],
           "textfont": {
            "color": "#ffffff",
            "family": "Courier New, monospace",
            "size": 30
           },
           "type": "scatter",
           "x": [
            20,
            30,
            40,
            50,
            60,
            70,
            80,
            90,
            100
           ],
           "y": [
            5,
            5,
            5,
            5,
            5,
            5,
            5,
            5,
            5
           ]
          },
          {
           "hoverinfo": "none",
           "mode": "text",
           "showlegend": false,
           "text": [
            "10",
            "20",
            "30",
            "40",
            "50",
            "40",
            "30",
            "20",
            "10"
           ],
           "textfont": {
            "color": "#ffffff",
            "family": "Courier New, monospace",
            "size": 30
           },
           "type": "scatter",
           "x": [
            20,
            30,
            40,
            50,
            60,
            70,
            80,
            90,
            100
           ],
           "y": [
            48.5,
            48.5,
            48.5,
            48.5,
            48.5,
            48.5,
            48.5,
            48.5,
            48.5
           ]
          },
          {
           "hoverinfo": "none",
           "line": {
            "color": "blue",
            "dash": "dash"
           },
           "showlegend": false,
           "type": "scatter",
           "x": [
            62,
            62
           ],
           "y": [
            0,
            53.5
           ]
          },
          {
           "hoverinfo": "none",
           "line": {
            "color": "yellow",
            "dash": "dash"
           },
           "showlegend": false,
           "type": "scatter",
           "x": [
            69,
            69
           ],
           "y": [
            0,
            53.5
           ]
          },
          {
           "hoverinfo": "text",
           "hovertext": [
            "nflId:37078.0<br>displayName:Patrick Peterson<br>Position:RCB<br>Role:Coverage",
            "nflId:38559.0<br>displayName:Harrison Smith<br>Position:RLB<br>Role:Coverage",
            "nflId:41331.0<br>displayName:Bashaud Breeland<br>Position:LCB<br>Role:Coverage",
            "nflId:42388.0<br>displayName:Eric Kendricks<br>Position:LLB<br>Role:Coverage",
            "nflId:42431.0<br>displayName:Danielle Hunter<br>Position:LEO<br>Role:Pass Rush",
            "nflId:43343.0<br>displayName:Mackensie Alexander<br>Position:LOLB<br>Role:Pass Rush",
            "nflId:43376.0<br>displayName:Nick Vigil<br>Position:RILB<br>Role:Pass Rush",
            "nflId:43694.0<br>displayName:Michael Pierce<br>Position:DRT<br>Role:Pass Rush",
            "nflId:44867.0<br>displayName:Dalvin Tomlinson<br>Position:DLT<br>Role:Pass Rush",
            "nflId:45004.0<br>displayName:Xavier Woods<br>Position:FS<br>Role:Coverage",
            "nflId:52525.0<br>displayName:D.J. Wonnum<br>Position:REO<br>Role:Coverage"
           ],
           "marker": {
            "color": "#4F2683"
           },
           "mode": "markers",
           "name": "MIN",
           "type": "scatter",
           "x": [
            48.95,
            45.26,
            50.26,
            54.07,
            71.02,
            68.67,
            71.04,
            67.82,
            65.91,
            45.24,
            59.35
           ],
           "y": [
            8.15,
            15.43,
            41.68,
            30.6,
            28.05,
            29.1,
            20.86,
            18.13,
            23.86,
            30.02,
            18.02
           ]
          },
          {
           "hoverinfo": "text",
           "hovertext": [
            "nflId:38553.0<br>displayName:Riley Reiff<br>Position:RT<br>Role:Pass Block",
            "nflId:41262.0<br>displayName:Xavier Su'a-Filo<br>Position:RG<br>Role:Pass Block",
            "nflId:41619.0<br>displayName:Trey Hopkins<br>Position:C<br>Role:Pass Block",
            "nflId:42500.0<br>displayName:C.J. Uzomah<br>Position:TE-L<br>Role:Pass Route",
            "nflId:43045.0<br>displayName:Quinton Spain<br>Position:LG<br>Role:Pass Block",
            "nflId:43344.0<br>displayName:Tyler Boyd<br>Position:SRWR<br>Role:Pass Route",
            "nflId:44860.0<br>displayName:Joe Mixon<br>Position:HB-R<br>Role:Pass Block",
            "nflId:47794.0<br>displayName:Jonah Williams<br>Position:LT<br>Role:Pass Block",
            "nflId:52409.0<br>displayName:Joe Burrow<br>Position:QB<br>Role:Pass",
            "nflId:52441.0<br>displayName:Tee Higgins<br>Position:LWR<br>Role:Pass Route",
            "nflId:53434.0<br>displayName:Ja'Marr Chase<br>Position:RWR<br>Role:Pass Route"
           ],
           "marker": {
            "color": "#FB4F14"
           },
           "mode": "markers",
           "name": "CIN",
           "type": "scatter",
           "x": [
            70.57,
            67.87,
            66.48,
            59.68,
            67.5,
            51.37,
            65.97,
            66.74,
            70.88,
            50.24,
            50.67
           ],
           "y": [
            27.6,
            28.68,
            24.15,
            23.49,
            19.3,
            28.66,
            28.53,
            18.78,
            20.55,
            8.95,
            40.94
           ]
          },
          {
           "hoverinfo": "none",
           "marker": {
            "color": "#CBB67C"
           },
           "mode": "markers",
           "name": "football",
           "type": "scatter",
           "x": [
            71.04
           ],
           "y": [
            20.38
           ]
          }
         ],
         "name": "31"
        },
        {
         "data": [
          {
           "hoverinfo": "none",
           "mode": "text",
           "showlegend": false,
           "text": [
            "10",
            "20",
            "30",
            "40",
            "50",
            "40",
            "30",
            "20",
            "10"
           ],
           "textfont": {
            "color": "#ffffff",
            "family": "Courier New, monospace",
            "size": 30
           },
           "type": "scatter",
           "x": [
            20,
            30,
            40,
            50,
            60,
            70,
            80,
            90,
            100
           ],
           "y": [
            5,
            5,
            5,
            5,
            5,
            5,
            5,
            5,
            5
           ]
          },
          {
           "hoverinfo": "none",
           "mode": "text",
           "showlegend": false,
           "text": [
            "10",
            "20",
            "30",
            "40",
            "50",
            "40",
            "30",
            "20",
            "10"
           ],
           "textfont": {
            "color": "#ffffff",
            "family": "Courier New, monospace",
            "size": 30
           },
           "type": "scatter",
           "x": [
            20,
            30,
            40,
            50,
            60,
            70,
            80,
            90,
            100
           ],
           "y": [
            48.5,
            48.5,
            48.5,
            48.5,
            48.5,
            48.5,
            48.5,
            48.5,
            48.5
           ]
          },
          {
           "hoverinfo": "none",
           "line": {
            "color": "blue",
            "dash": "dash"
           },
           "showlegend": false,
           "type": "scatter",
           "x": [
            62,
            62
           ],
           "y": [
            0,
            53.5
           ]
          },
          {
           "hoverinfo": "none",
           "line": {
            "color": "yellow",
            "dash": "dash"
           },
           "showlegend": false,
           "type": "scatter",
           "x": [
            69,
            69
           ],
           "y": [
            0,
            53.5
           ]
          },
          {
           "hoverinfo": "text",
           "hovertext": [
            "nflId:37078.0<br>displayName:Patrick Peterson<br>Position:RCB<br>Role:Coverage",
            "nflId:38559.0<br>displayName:Harrison Smith<br>Position:RLB<br>Role:Coverage",
            "nflId:41331.0<br>displayName:Bashaud Breeland<br>Position:LCB<br>Role:Coverage",
            "nflId:42388.0<br>displayName:Eric Kendricks<br>Position:LLB<br>Role:Coverage",
            "nflId:42431.0<br>displayName:Danielle Hunter<br>Position:LEO<br>Role:Pass Rush",
            "nflId:43343.0<br>displayName:Mackensie Alexander<br>Position:LOLB<br>Role:Pass Rush",
            "nflId:43376.0<br>displayName:Nick Vigil<br>Position:RILB<br>Role:Pass Rush",
            "nflId:43694.0<br>displayName:Michael Pierce<br>Position:DRT<br>Role:Pass Rush",
            "nflId:44867.0<br>displayName:Dalvin Tomlinson<br>Position:DLT<br>Role:Pass Rush",
            "nflId:45004.0<br>displayName:Xavier Woods<br>Position:FS<br>Role:Coverage",
            "nflId:52525.0<br>displayName:D.J. Wonnum<br>Position:REO<br>Role:Coverage"
           ],
           "marker": {
            "color": "#4F2683"
           },
           "mode": "markers",
           "name": "MIN",
           "type": "scatter",
           "x": [
            48.23,
            44.85,
            49.65,
            53.73,
            71.33,
            69.02,
            71.49,
            68.15,
            66.02,
            44.74,
            59.07
           ],
           "y": [
            8.28,
            15.3,
            41.48,
            30.39,
            27.91,
            29.25,
            20.42,
            17.84,
            23.76,
            29.93,
            17.95
           ]
          },
          {
           "hoverinfo": "text",
           "hovertext": [
            "nflId:38553.0<br>displayName:Riley Reiff<br>Position:RT<br>Role:Pass Block",
            "nflId:41262.0<br>displayName:Xavier Su'a-Filo<br>Position:RG<br>Role:Pass Block",
            "nflId:41619.0<br>displayName:Trey Hopkins<br>Position:C<br>Role:Pass Block",
            "nflId:42500.0<br>displayName:C.J. Uzomah<br>Position:TE-L<br>Role:Pass Route",
            "nflId:43045.0<br>displayName:Quinton Spain<br>Position:LG<br>Role:Pass Block",
            "nflId:43344.0<br>displayName:Tyler Boyd<br>Position:SRWR<br>Role:Pass Route",
            "nflId:44860.0<br>displayName:Joe Mixon<br>Position:HB-R<br>Role:Pass Block",
            "nflId:47794.0<br>displayName:Jonah Williams<br>Position:LT<br>Role:Pass Block",
            "nflId:52409.0<br>displayName:Joe Burrow<br>Position:QB<br>Role:Pass",
            "nflId:52441.0<br>displayName:Tee Higgins<br>Position:LWR<br>Role:Pass Route",
            "nflId:53434.0<br>displayName:Ja'Marr Chase<br>Position:RWR<br>Role:Pass Route"
           ],
           "marker": {
            "color": "#FB4F14"
           },
           "mode": "markers",
           "name": "CIN",
           "type": "scatter",
           "x": [
            70.87,
            68.13,
            66.58,
            59.51,
            67.73,
            50.85,
            66.08,
            66.92,
            71.14,
            49.42,
            50.04
           ],
           "y": [
            27.48,
            28.86,
            24.09,
            24.04,
            19.05,
            28.06,
            28.55,
            18.76,
            20.18,
            9.14,
            40.66
           ]
          },
          {
           "hoverinfo": "none",
           "marker": {
            "color": "#CBB67C"
           },
           "mode": "markers",
           "name": "football",
           "type": "scatter",
           "x": [
            71.19
           ],
           "y": [
            20.01
           ]
          }
         ],
         "name": "32"
        },
        {
         "data": [
          {
           "hoverinfo": "none",
           "mode": "text",
           "showlegend": false,
           "text": [
            "10",
            "20",
            "30",
            "40",
            "50",
            "40",
            "30",
            "20",
            "10"
           ],
           "textfont": {
            "color": "#ffffff",
            "family": "Courier New, monospace",
            "size": 30
           },
           "type": "scatter",
           "x": [
            20,
            30,
            40,
            50,
            60,
            70,
            80,
            90,
            100
           ],
           "y": [
            5,
            5,
            5,
            5,
            5,
            5,
            5,
            5,
            5
           ]
          },
          {
           "hoverinfo": "none",
           "mode": "text",
           "showlegend": false,
           "text": [
            "10",
            "20",
            "30",
            "40",
            "50",
            "40",
            "30",
            "20",
            "10"
           ],
           "textfont": {
            "color": "#ffffff",
            "family": "Courier New, monospace",
            "size": 30
           },
           "type": "scatter",
           "x": [
            20,
            30,
            40,
            50,
            60,
            70,
            80,
            90,
            100
           ],
           "y": [
            48.5,
            48.5,
            48.5,
            48.5,
            48.5,
            48.5,
            48.5,
            48.5,
            48.5
           ]
          },
          {
           "hoverinfo": "none",
           "line": {
            "color": "blue",
            "dash": "dash"
           },
           "showlegend": false,
           "type": "scatter",
           "x": [
            62,
            62
           ],
           "y": [
            0,
            53.5
           ]
          },
          {
           "hoverinfo": "none",
           "line": {
            "color": "yellow",
            "dash": "dash"
           },
           "showlegend": false,
           "type": "scatter",
           "x": [
            69,
            69
           ],
           "y": [
            0,
            53.5
           ]
          },
          {
           "hoverinfo": "text",
           "hovertext": [
            "nflId:37078.0<br>displayName:Patrick Peterson<br>Position:RCB<br>Role:Coverage",
            "nflId:38559.0<br>displayName:Harrison Smith<br>Position:RLB<br>Role:Coverage",
            "nflId:41331.0<br>displayName:Bashaud Breeland<br>Position:LCB<br>Role:Coverage",
            "nflId:42388.0<br>displayName:Eric Kendricks<br>Position:LLB<br>Role:Coverage",
            "nflId:42431.0<br>displayName:Danielle Hunter<br>Position:LEO<br>Role:Pass Rush",
            "nflId:43343.0<br>displayName:Mackensie Alexander<br>Position:LOLB<br>Role:Pass Rush",
            "nflId:43376.0<br>displayName:Nick Vigil<br>Position:RILB<br>Role:Pass Rush",
            "nflId:43694.0<br>displayName:Michael Pierce<br>Position:DRT<br>Role:Pass Rush",
            "nflId:44867.0<br>displayName:Dalvin Tomlinson<br>Position:DLT<br>Role:Pass Rush",
            "nflId:45004.0<br>displayName:Xavier Woods<br>Position:FS<br>Role:Coverage",
            "nflId:52525.0<br>displayName:D.J. Wonnum<br>Position:REO<br>Role:Coverage"
           ],
           "marker": {
            "color": "#4F2683"
           },
           "mode": "markers",
           "name": "MIN",
           "type": "scatter",
           "x": [
            47.49,
            44.43,
            49.04,
            53.4,
            71.63,
            69.37,
            71.89,
            68.5,
            66.11,
            44.21,
            58.81
           ],
           "y": [
            8.44,
            15.16,
            41.28,
            30.14,
            27.76,
            29.38,
            19.96,
            17.55,
            23.64,
            29.85,
            17.87
           ]
          },
          {
           "hoverinfo": "text",
           "hovertext": [
            "nflId:38553.0<br>displayName:Riley Reiff<br>Position:RT<br>Role:Pass Block",
            "nflId:41262.0<br>displayName:Xavier Su'a-Filo<br>Position:RG<br>Role:Pass Block",
            "nflId:41619.0<br>displayName:Trey Hopkins<br>Position:C<br>Role:Pass Block",
            "nflId:42500.0<br>displayName:C.J. Uzomah<br>Position:TE-L<br>Role:Pass Route",
            "nflId:43045.0<br>displayName:Quinton Spain<br>Position:LG<br>Role:Pass Block",
            "nflId:43344.0<br>displayName:Tyler Boyd<br>Position:SRWR<br>Role:Pass Route",
            "nflId:44860.0<br>displayName:Joe Mixon<br>Position:HB-R<br>Role:Pass Block",
            "nflId:47794.0<br>displayName:Jonah Williams<br>Position:LT<br>Role:Pass Block",
            "nflId:52409.0<br>displayName:Joe Burrow<br>Position:QB<br>Role:Pass",
            "nflId:52441.0<br>displayName:Tee Higgins<br>Position:LWR<br>Role:Pass Route",
            "nflId:53434.0<br>displayName:Ja'Marr Chase<br>Position:RWR<br>Role:Pass Route"
           ],
           "marker": {
            "color": "#FB4F14"
           },
           "mode": "markers",
           "name": "CIN",
           "type": "scatter",
           "x": [
            71.14,
            68.38,
            66.67,
            59.36,
            67.94,
            50.36,
            66.19,
            67.1,
            71.4,
            48.59,
            49.45
           ],
           "y": [
            27.35,
            29.02,
            24.02,
            24.6,
            18.79,
            27.44,
            28.51,
            18.76,
            19.81,
            9.35,
            40.35
           ]
          },
          {
           "hoverinfo": "none",
           "marker": {
            "color": "#CBB67C"
           },
           "mode": "markers",
           "name": "football",
           "type": "scatter",
           "x": [
            71.37
           ],
           "y": [
            19.67
           ]
          }
         ],
         "name": "33"
        },
        {
         "data": [
          {
           "hoverinfo": "none",
           "mode": "text",
           "showlegend": false,
           "text": [
            "10",
            "20",
            "30",
            "40",
            "50",
            "40",
            "30",
            "20",
            "10"
           ],
           "textfont": {
            "color": "#ffffff",
            "family": "Courier New, monospace",
            "size": 30
           },
           "type": "scatter",
           "x": [
            20,
            30,
            40,
            50,
            60,
            70,
            80,
            90,
            100
           ],
           "y": [
            5,
            5,
            5,
            5,
            5,
            5,
            5,
            5,
            5
           ]
          },
          {
           "hoverinfo": "none",
           "mode": "text",
           "showlegend": false,
           "text": [
            "10",
            "20",
            "30",
            "40",
            "50",
            "40",
            "30",
            "20",
            "10"
           ],
           "textfont": {
            "color": "#ffffff",
            "family": "Courier New, monospace",
            "size": 30
           },
           "type": "scatter",
           "x": [
            20,
            30,
            40,
            50,
            60,
            70,
            80,
            90,
            100
           ],
           "y": [
            48.5,
            48.5,
            48.5,
            48.5,
            48.5,
            48.5,
            48.5,
            48.5,
            48.5
           ]
          },
          {
           "hoverinfo": "none",
           "line": {
            "color": "blue",
            "dash": "dash"
           },
           "showlegend": false,
           "type": "scatter",
           "x": [
            62,
            62
           ],
           "y": [
            0,
            53.5
           ]
          },
          {
           "hoverinfo": "none",
           "line": {
            "color": "yellow",
            "dash": "dash"
           },
           "showlegend": false,
           "type": "scatter",
           "x": [
            69,
            69
           ],
           "y": [
            0,
            53.5
           ]
          },
          {
           "hoverinfo": "text",
           "hovertext": [
            "nflId:37078.0<br>displayName:Patrick Peterson<br>Position:RCB<br>Role:Coverage",
            "nflId:38559.0<br>displayName:Harrison Smith<br>Position:RLB<br>Role:Coverage",
            "nflId:41331.0<br>displayName:Bashaud Breeland<br>Position:LCB<br>Role:Coverage",
            "nflId:42388.0<br>displayName:Eric Kendricks<br>Position:LLB<br>Role:Coverage",
            "nflId:42431.0<br>displayName:Danielle Hunter<br>Position:LEO<br>Role:Pass Rush",
            "nflId:43343.0<br>displayName:Mackensie Alexander<br>Position:LOLB<br>Role:Pass Rush",
            "nflId:43376.0<br>displayName:Nick Vigil<br>Position:RILB<br>Role:Pass Rush",
            "nflId:43694.0<br>displayName:Michael Pierce<br>Position:DRT<br>Role:Pass Rush",
            "nflId:44867.0<br>displayName:Dalvin Tomlinson<br>Position:DLT<br>Role:Pass Rush",
            "nflId:45004.0<br>displayName:Xavier Woods<br>Position:FS<br>Role:Coverage",
            "nflId:52525.0<br>displayName:D.J. Wonnum<br>Position:REO<br>Role:Coverage"
           ],
           "marker": {
            "color": "#4F2683"
           },
           "mode": "markers",
           "name": "MIN",
           "type": "scatter",
           "x": [
            46.74,
            44.01,
            48.43,
            53.11,
            71.91,
            69.74,
            72.25,
            68.86,
            66.19,
            43.66,
            58.57
           ],
           "y": [
            8.62,
            15.02,
            41.06,
            29.86,
            27.61,
            29.47,
            19.47,
            17.28,
            23.48,
            29.76,
            17.78
           ]
          },
          {
           "hoverinfo": "text",
           "hovertext": [
            "nflId:38553.0<br>displayName:Riley Reiff<br>Position:RT<br>Role:Pass Block",
            "nflId:41262.0<br>displayName:Xavier Su'a-Filo<br>Position:RG<br>Role:Pass Block",
            "nflId:41619.0<br>displayName:Trey Hopkins<br>Position:C<br>Role:Pass Block",
            "nflId:42500.0<br>displayName:C.J. Uzomah<br>Position:TE-L<br>Role:Pass Route",
            "nflId:43045.0<br>displayName:Quinton Spain<br>Position:LG<br>Role:Pass Block",
            "nflId:43344.0<br>displayName:Tyler Boyd<br>Position:SRWR<br>Role:Pass Route",
            "nflId:44860.0<br>displayName:Joe Mixon<br>Position:HB-R<br>Role:Pass Block",
            "nflId:47794.0<br>displayName:Jonah Williams<br>Position:LT<br>Role:Pass Block",
            "nflId:52409.0<br>displayName:Joe Burrow<br>Position:QB<br>Role:Pass",
            "nflId:52441.0<br>displayName:Tee Higgins<br>Position:LWR<br>Role:Pass Route",
            "nflId:53434.0<br>displayName:Ja'Marr Chase<br>Position:RWR<br>Role:Pass Route"
           ],
           "marker": {
            "color": "#FB4F14"
           },
           "mode": "markers",
           "name": "CIN",
           "type": "scatter",
           "x": [
            71.41,
            68.62,
            66.74,
            59.25,
            68.14,
            49.91,
            66.32,
            67.28,
            71.66,
            47.76,
            48.91
           ],
           "y": [
            27.22,
            29.16,
            23.95,
            25.17,
            18.51,
            26.77,
            28.46,
            18.78,
            19.45,
            9.56,
            40.01
           ]
          },
          {
           "hoverinfo": "none",
           "marker": {
            "color": "#CBB67C"
           },
           "mode": "markers",
           "name": "football",
           "type": "scatter",
           "x": [
            71.58
           ],
           "y": [
            19.35
           ]
          }
         ],
         "name": "34"
        },
        {
         "data": [
          {
           "hoverinfo": "none",
           "mode": "text",
           "showlegend": false,
           "text": [
            "10",
            "20",
            "30",
            "40",
            "50",
            "40",
            "30",
            "20",
            "10"
           ],
           "textfont": {
            "color": "#ffffff",
            "family": "Courier New, monospace",
            "size": 30
           },
           "type": "scatter",
           "x": [
            20,
            30,
            40,
            50,
            60,
            70,
            80,
            90,
            100
           ],
           "y": [
            5,
            5,
            5,
            5,
            5,
            5,
            5,
            5,
            5
           ]
          },
          {
           "hoverinfo": "none",
           "mode": "text",
           "showlegend": false,
           "text": [
            "10",
            "20",
            "30",
            "40",
            "50",
            "40",
            "30",
            "20",
            "10"
           ],
           "textfont": {
            "color": "#ffffff",
            "family": "Courier New, monospace",
            "size": 30
           },
           "type": "scatter",
           "x": [
            20,
            30,
            40,
            50,
            60,
            70,
            80,
            90,
            100
           ],
           "y": [
            48.5,
            48.5,
            48.5,
            48.5,
            48.5,
            48.5,
            48.5,
            48.5,
            48.5
           ]
          },
          {
           "hoverinfo": "none",
           "line": {
            "color": "blue",
            "dash": "dash"
           },
           "showlegend": false,
           "type": "scatter",
           "x": [
            62,
            62
           ],
           "y": [
            0,
            53.5
           ]
          },
          {
           "hoverinfo": "none",
           "line": {
            "color": "yellow",
            "dash": "dash"
           },
           "showlegend": false,
           "type": "scatter",
           "x": [
            69,
            69
           ],
           "y": [
            0,
            53.5
           ]
          },
          {
           "hoverinfo": "text",
           "hovertext": [
            "nflId:37078.0<br>displayName:Patrick Peterson<br>Position:RCB<br>Role:Coverage",
            "nflId:38559.0<br>displayName:Harrison Smith<br>Position:RLB<br>Role:Coverage",
            "nflId:41331.0<br>displayName:Bashaud Breeland<br>Position:LCB<br>Role:Coverage",
            "nflId:42388.0<br>displayName:Eric Kendricks<br>Position:LLB<br>Role:Coverage",
            "nflId:42431.0<br>displayName:Danielle Hunter<br>Position:LEO<br>Role:Pass Rush",
            "nflId:43343.0<br>displayName:Mackensie Alexander<br>Position:LOLB<br>Role:Pass Rush",
            "nflId:43376.0<br>displayName:Nick Vigil<br>Position:RILB<br>Role:Pass Rush",
            "nflId:43694.0<br>displayName:Michael Pierce<br>Position:DRT<br>Role:Pass Rush",
            "nflId:44867.0<br>displayName:Dalvin Tomlinson<br>Position:DLT<br>Role:Pass Rush",
            "nflId:45004.0<br>displayName:Xavier Woods<br>Position:FS<br>Role:Coverage",
            "nflId:52525.0<br>displayName:D.J. Wonnum<br>Position:REO<br>Role:Coverage"
           ],
           "marker": {
            "color": "#4F2683"
           },
           "mode": "markers",
           "name": "MIN",
           "type": "scatter",
           "x": [
            45.98,
            43.58,
            47.83,
            52.85,
            72.21,
            70.12,
            72.52,
            69.25,
            66.25,
            43.1,
            58.36
           ],
           "y": [
            8.83,
            14.87,
            40.82,
            29.56,
            27.44,
            29.51,
            19.03,
            17.01,
            23.31,
            29.66,
            17.67
           ]
          },
          {
           "hoverinfo": "text",
           "hovertext": [
            "nflId:38553.0<br>displayName:Riley Reiff<br>Position:RT<br>Role:Pass Block",
            "nflId:41262.0<br>displayName:Xavier Su'a-Filo<br>Position:RG<br>Role:Pass Block",
            "nflId:41619.0<br>displayName:Trey Hopkins<br>Position:C<br>Role:Pass Block",
            "nflId:42500.0<br>displayName:C.J. Uzomah<br>Position:TE-L<br>Role:Pass Route",
            "nflId:43045.0<br>displayName:Quinton Spain<br>Position:LG<br>Role:Pass Block",
            "nflId:43344.0<br>displayName:Tyler Boyd<br>Position:SRWR<br>Role:Pass Route",
            "nflId:44860.0<br>displayName:Joe Mixon<br>Position:HB-R<br>Role:Pass Block",
            "nflId:47794.0<br>displayName:Jonah Williams<br>Position:LT<br>Role:Pass Block",
            "nflId:52409.0<br>displayName:Joe Burrow<br>Position:QB<br>Role:Pass",
            "nflId:52441.0<br>displayName:Tee Higgins<br>Position:LWR<br>Role:Pass Route",
            "nflId:53434.0<br>displayName:Ja'Marr Chase<br>Position:RWR<br>Role:Pass Route"
           ],
           "marker": {
            "color": "#FB4F14"
           },
           "mode": "markers",
           "name": "CIN",
           "type": "scatter",
           "x": [
            71.66,
            68.85,
            66.78,
            59.18,
            68.34,
            49.51,
            66.47,
            67.46,
            71.92,
            46.91,
            48.42
           ],
           "y": [
            27.09,
            29.29,
            23.86,
            25.73,
            18.22,
            26.07,
            28.38,
            18.81,
            19.08,
            9.8,
            39.63
           ]
          },
          {
           "hoverinfo": "none",
           "marker": {
            "color": "#CBB67C"
           },
           "mode": "markers",
           "name": "football",
           "type": "scatter",
           "x": [
            71.82
           ],
           "y": [
            19.03
           ]
          }
         ],
         "name": "35"
        },
        {
         "data": [
          {
           "hoverinfo": "none",
           "mode": "text",
           "showlegend": false,
           "text": [
            "10",
            "20",
            "30",
            "40",
            "50",
            "40",
            "30",
            "20",
            "10"
           ],
           "textfont": {
            "color": "#ffffff",
            "family": "Courier New, monospace",
            "size": 30
           },
           "type": "scatter",
           "x": [
            20,
            30,
            40,
            50,
            60,
            70,
            80,
            90,
            100
           ],
           "y": [
            5,
            5,
            5,
            5,
            5,
            5,
            5,
            5,
            5
           ]
          },
          {
           "hoverinfo": "none",
           "mode": "text",
           "showlegend": false,
           "text": [
            "10",
            "20",
            "30",
            "40",
            "50",
            "40",
            "30",
            "20",
            "10"
           ],
           "textfont": {
            "color": "#ffffff",
            "family": "Courier New, monospace",
            "size": 30
           },
           "type": "scatter",
           "x": [
            20,
            30,
            40,
            50,
            60,
            70,
            80,
            90,
            100
           ],
           "y": [
            48.5,
            48.5,
            48.5,
            48.5,
            48.5,
            48.5,
            48.5,
            48.5,
            48.5
           ]
          },
          {
           "hoverinfo": "none",
           "line": {
            "color": "blue",
            "dash": "dash"
           },
           "showlegend": false,
           "type": "scatter",
           "x": [
            62,
            62
           ],
           "y": [
            0,
            53.5
           ]
          },
          {
           "hoverinfo": "none",
           "line": {
            "color": "yellow",
            "dash": "dash"
           },
           "showlegend": false,
           "type": "scatter",
           "x": [
            69,
            69
           ],
           "y": [
            0,
            53.5
           ]
          },
          {
           "hoverinfo": "text",
           "hovertext": [
            "nflId:37078.0<br>displayName:Patrick Peterson<br>Position:RCB<br>Role:Coverage",
            "nflId:38559.0<br>displayName:Harrison Smith<br>Position:RLB<br>Role:Coverage",
            "nflId:41331.0<br>displayName:Bashaud Breeland<br>Position:LCB<br>Role:Coverage",
            "nflId:42388.0<br>displayName:Eric Kendricks<br>Position:LLB<br>Role:Coverage",
            "nflId:42431.0<br>displayName:Danielle Hunter<br>Position:LEO<br>Role:Pass Rush",
            "nflId:43343.0<br>displayName:Mackensie Alexander<br>Position:LOLB<br>Role:Pass Rush",
            "nflId:43376.0<br>displayName:Nick Vigil<br>Position:RILB<br>Role:Pass Rush",
            "nflId:43694.0<br>displayName:Michael Pierce<br>Position:DRT<br>Role:Pass Rush",
            "nflId:44867.0<br>displayName:Dalvin Tomlinson<br>Position:DLT<br>Role:Pass Rush",
            "nflId:45004.0<br>displayName:Xavier Woods<br>Position:FS<br>Role:Coverage",
            "nflId:52525.0<br>displayName:D.J. Wonnum<br>Position:REO<br>Role:Coverage"
           ],
           "marker": {
            "color": "#4F2683"
           },
           "mode": "markers",
           "name": "MIN",
           "type": "scatter",
           "x": [
            45.21,
            43.14,
            47.26,
            52.62,
            72.5,
            70.5,
            72.73,
            69.65,
            66.31,
            42.51,
            58.2
           ],
           "y": [
            9.05,
            14.71,
            40.56,
            29.24,
            27.25,
            29.52,
            18.65,
            16.76,
            23.12,
            29.56,
            17.54
           ]
          },
          {
           "hoverinfo": "text",
           "hovertext": [
            "nflId:38553.0<br>displayName:Riley Reiff<br>Position:RT<br>Role:Pass Block",
            "nflId:41262.0<br>displayName:Xavier Su'a-Filo<br>Position:RG<br>Role:Pass Block",
            "nflId:41619.0<br>displayName:Trey Hopkins<br>Position:C<br>Role:Pass Block",
            "nflId:42500.0<br>displayName:C.J. Uzomah<br>Position:TE-L<br>Role:Pass Route",
            "nflId:43045.0<br>displayName:Quinton Spain<br>Position:LG<br>Role:Pass Block",
            "nflId:43344.0<br>displayName:Tyler Boyd<br>Position:SRWR<br>Role:Pass Route",
            "nflId:44860.0<br>displayName:Joe Mixon<br>Position:HB-R<br>Role:Pass Block",
            "nflId:47794.0<br>displayName:Jonah Williams<br>Position:LT<br>Role:Pass Block",
            "nflId:52409.0<br>displayName:Joe Burrow<br>Position:QB<br>Role:Pass",
            "nflId:52441.0<br>displayName:Tee Higgins<br>Position:LWR<br>Role:Pass Route",
            "nflId:53434.0<br>displayName:Ja'Marr Chase<br>Position:RWR<br>Role:Pass Route"
           ],
           "marker": {
            "color": "#FB4F14"
           },
           "mode": "markers",
           "name": "CIN",
           "type": "scatter",
           "x": [
            71.89,
            69.09,
            66.82,
            59.15,
            68.54,
            49.15,
            66.62,
            67.63,
            72.18,
            46.06,
            47.97
           ],
           "y": [
            26.98,
            29.41,
            23.76,
            26.28,
            17.92,
            25.34,
            28.27,
            18.85,
            18.69,
            10.05,
            39.21
           ]
          },
          {
           "hoverinfo": "none",
           "marker": {
            "color": "#CBB67C"
           },
           "mode": "markers",
           "name": "football",
           "type": "scatter",
           "x": [
            72.08
           ],
           "y": [
            18.71
           ]
          }
         ],
         "name": "36"
        },
        {
         "data": [
          {
           "hoverinfo": "none",
           "mode": "text",
           "showlegend": false,
           "text": [
            "10",
            "20",
            "30",
            "40",
            "50",
            "40",
            "30",
            "20",
            "10"
           ],
           "textfont": {
            "color": "#ffffff",
            "family": "Courier New, monospace",
            "size": 30
           },
           "type": "scatter",
           "x": [
            20,
            30,
            40,
            50,
            60,
            70,
            80,
            90,
            100
           ],
           "y": [
            5,
            5,
            5,
            5,
            5,
            5,
            5,
            5,
            5
           ]
          },
          {
           "hoverinfo": "none",
           "mode": "text",
           "showlegend": false,
           "text": [
            "10",
            "20",
            "30",
            "40",
            "50",
            "40",
            "30",
            "20",
            "10"
           ],
           "textfont": {
            "color": "#ffffff",
            "family": "Courier New, monospace",
            "size": 30
           },
           "type": "scatter",
           "x": [
            20,
            30,
            40,
            50,
            60,
            70,
            80,
            90,
            100
           ],
           "y": [
            48.5,
            48.5,
            48.5,
            48.5,
            48.5,
            48.5,
            48.5,
            48.5,
            48.5
           ]
          },
          {
           "hoverinfo": "none",
           "line": {
            "color": "blue",
            "dash": "dash"
           },
           "showlegend": false,
           "type": "scatter",
           "x": [
            62,
            62
           ],
           "y": [
            0,
            53.5
           ]
          },
          {
           "hoverinfo": "none",
           "line": {
            "color": "yellow",
            "dash": "dash"
           },
           "showlegend": false,
           "type": "scatter",
           "x": [
            69,
            69
           ],
           "y": [
            0,
            53.5
           ]
          },
          {
           "hoverinfo": "text",
           "hovertext": [
            "nflId:37078.0<br>displayName:Patrick Peterson<br>Position:RCB<br>Role:Coverage",
            "nflId:38559.0<br>displayName:Harrison Smith<br>Position:RLB<br>Role:Coverage",
            "nflId:41331.0<br>displayName:Bashaud Breeland<br>Position:LCB<br>Role:Coverage",
            "nflId:42388.0<br>displayName:Eric Kendricks<br>Position:LLB<br>Role:Coverage",
            "nflId:42431.0<br>displayName:Danielle Hunter<br>Position:LEO<br>Role:Pass Rush",
            "nflId:43343.0<br>displayName:Mackensie Alexander<br>Position:LOLB<br>Role:Pass Rush",
            "nflId:43376.0<br>displayName:Nick Vigil<br>Position:RILB<br>Role:Pass Rush",
            "nflId:43694.0<br>displayName:Michael Pierce<br>Position:DRT<br>Role:Pass Rush",
            "nflId:44867.0<br>displayName:Dalvin Tomlinson<br>Position:DLT<br>Role:Pass Rush",
            "nflId:45004.0<br>displayName:Xavier Woods<br>Position:FS<br>Role:Coverage",
            "nflId:52525.0<br>displayName:D.J. Wonnum<br>Position:REO<br>Role:Coverage"
           ],
           "marker": {
            "color": "#4F2683"
           },
           "mode": "markers",
           "name": "MIN",
           "type": "scatter",
           "x": [
            44.44,
            42.7,
            46.71,
            52.43,
            72.76,
            70.89,
            72.91,
            70.08,
            66.35,
            41.91,
            58.07
           ],
           "y": [
            9.3,
            14.55,
            40.26,
            28.91,
            27.06,
            29.48,
            18.25,
            16.53,
            22.9,
            29.46,
            17.39
           ]
          },
          {
           "hoverinfo": "text",
           "hovertext": [
            "nflId:38553.0<br>displayName:Riley Reiff<br>Position:RT<br>Role:Pass Block",
            "nflId:41262.0<br>displayName:Xavier Su'a-Filo<br>Position:RG<br>Role:Pass Block",
            "nflId:41619.0<br>displayName:Trey Hopkins<br>Position:C<br>Role:Pass Block",
            "nflId:42500.0<br>displayName:C.J. Uzomah<br>Position:TE-L<br>Role:Pass Route",
            "nflId:43045.0<br>displayName:Quinton Spain<br>Position:LG<br>Role:Pass Block",
            "nflId:43344.0<br>displayName:Tyler Boyd<br>Position:SRWR<br>Role:Pass Route",
            "nflId:44860.0<br>displayName:Joe Mixon<br>Position:HB-R<br>Role:Pass Block",
            "nflId:47794.0<br>displayName:Jonah Williams<br>Position:LT<br>Role:Pass Block",
            "nflId:52409.0<br>displayName:Joe Burrow<br>Position:QB<br>Role:Pass",
            "nflId:52441.0<br>displayName:Tee Higgins<br>Position:LWR<br>Role:Pass Route",
            "nflId:53434.0<br>displayName:Ja'Marr Chase<br>Position:RWR<br>Role:Pass Route"
           ],
           "marker": {
            "color": "#FB4F14"
           },
           "mode": "markers",
           "name": "CIN",
           "type": "scatter",
           "x": [
            72.1,
            69.32,
            66.85,
            59.16,
            68.74,
            48.83,
            66.79,
            67.8,
            72.44,
            45.2,
            47.58
           ],
           "y": [
            26.88,
            29.52,
            23.65,
            26.82,
            17.63,
            24.59,
            28.12,
            18.9,
            18.31,
            10.3,
            38.75
           ]
          },
          {
           "hoverinfo": "none",
           "marker": {
            "color": "#CBB67C"
           },
           "mode": "markers",
           "name": "football",
           "type": "scatter",
           "x": [
            72.33
           ],
           "y": [
            18.38
           ]
          }
         ],
         "name": "37"
        },
        {
         "data": [
          {
           "hoverinfo": "none",
           "mode": "text",
           "showlegend": false,
           "text": [
            "10",
            "20",
            "30",
            "40",
            "50",
            "40",
            "30",
            "20",
            "10"
           ],
           "textfont": {
            "color": "#ffffff",
            "family": "Courier New, monospace",
            "size": 30
           },
           "type": "scatter",
           "x": [
            20,
            30,
            40,
            50,
            60,
            70,
            80,
            90,
            100
           ],
           "y": [
            5,
            5,
            5,
            5,
            5,
            5,
            5,
            5,
            5
           ]
          },
          {
           "hoverinfo": "none",
           "mode": "text",
           "showlegend": false,
           "text": [
            "10",
            "20",
            "30",
            "40",
            "50",
            "40",
            "30",
            "20",
            "10"
           ],
           "textfont": {
            "color": "#ffffff",
            "family": "Courier New, monospace",
            "size": 30
           },
           "type": "scatter",
           "x": [
            20,
            30,
            40,
            50,
            60,
            70,
            80,
            90,
            100
           ],
           "y": [
            48.5,
            48.5,
            48.5,
            48.5,
            48.5,
            48.5,
            48.5,
            48.5,
            48.5
           ]
          },
          {
           "hoverinfo": "none",
           "line": {
            "color": "blue",
            "dash": "dash"
           },
           "showlegend": false,
           "type": "scatter",
           "x": [
            62,
            62
           ],
           "y": [
            0,
            53.5
           ]
          },
          {
           "hoverinfo": "none",
           "line": {
            "color": "yellow",
            "dash": "dash"
           },
           "showlegend": false,
           "type": "scatter",
           "x": [
            69,
            69
           ],
           "y": [
            0,
            53.5
           ]
          },
          {
           "hoverinfo": "text",
           "hovertext": [
            "nflId:37078.0<br>displayName:Patrick Peterson<br>Position:RCB<br>Role:Coverage",
            "nflId:38559.0<br>displayName:Harrison Smith<br>Position:RLB<br>Role:Coverage",
            "nflId:41331.0<br>displayName:Bashaud Breeland<br>Position:LCB<br>Role:Coverage",
            "nflId:42388.0<br>displayName:Eric Kendricks<br>Position:LLB<br>Role:Coverage",
            "nflId:42431.0<br>displayName:Danielle Hunter<br>Position:LEO<br>Role:Pass Rush",
            "nflId:43343.0<br>displayName:Mackensie Alexander<br>Position:LOLB<br>Role:Pass Rush",
            "nflId:43376.0<br>displayName:Nick Vigil<br>Position:RILB<br>Role:Pass Rush",
            "nflId:43694.0<br>displayName:Michael Pierce<br>Position:DRT<br>Role:Pass Rush",
            "nflId:44867.0<br>displayName:Dalvin Tomlinson<br>Position:DLT<br>Role:Pass Rush",
            "nflId:45004.0<br>displayName:Xavier Woods<br>Position:FS<br>Role:Coverage",
            "nflId:52525.0<br>displayName:D.J. Wonnum<br>Position:REO<br>Role:Coverage"
           ],
           "marker": {
            "color": "#4F2683"
           },
           "mode": "markers",
           "name": "MIN",
           "type": "scatter",
           "x": [
            43.67,
            42.25,
            46.2,
            52.27,
            73.02,
            71.28,
            73.07,
            70.53,
            66.39,
            41.3,
            57.99
           ],
           "y": [
            9.56,
            14.39,
            39.94,
            28.58,
            26.86,
            29.37,
            17.88,
            16.32,
            22.66,
            29.35,
            17.23
           ]
          },
          {
           "hoverinfo": "text",
           "hovertext": [
            "nflId:38553.0<br>displayName:Riley Reiff<br>Position:RT<br>Role:Pass Block",
            "nflId:41262.0<br>displayName:Xavier Su'a-Filo<br>Position:RG<br>Role:Pass Block",
            "nflId:41619.0<br>displayName:Trey Hopkins<br>Position:C<br>Role:Pass Block",
            "nflId:42500.0<br>displayName:C.J. Uzomah<br>Position:TE-L<br>Role:Pass Route",
            "nflId:43045.0<br>displayName:Quinton Spain<br>Position:LG<br>Role:Pass Block",
            "nflId:43344.0<br>displayName:Tyler Boyd<br>Position:SRWR<br>Role:Pass Route",
            "nflId:44860.0<br>displayName:Joe Mixon<br>Position:HB-R<br>Role:Pass Block",
            "nflId:47794.0<br>displayName:Jonah Williams<br>Position:LT<br>Role:Pass Block",
            "nflId:52409.0<br>displayName:Joe Burrow<br>Position:QB<br>Role:Pass",
            "nflId:52441.0<br>displayName:Tee Higgins<br>Position:LWR<br>Role:Pass Route",
            "nflId:53434.0<br>displayName:Ja'Marr Chase<br>Position:RWR<br>Role:Pass Route"
           ],
           "marker": {
            "color": "#FB4F14"
           },
           "mode": "markers",
           "name": "CIN",
           "type": "scatter",
           "x": [
            72.31,
            69.53,
            66.87,
            59.21,
            68.95,
            48.57,
            66.95,
            67.98,
            72.69,
            44.34,
            47.23
           ],
           "y": [
            26.8,
            29.62,
            23.53,
            27.34,
            17.36,
            23.82,
            27.95,
            18.95,
            17.93,
            10.57,
            38.26
           ]
          },
          {
           "hoverinfo": "none",
           "marker": {
            "color": "#CBB67C"
           },
           "mode": "markers",
           "name": "football",
           "type": "scatter",
           "x": [
            72.6
           ],
           "y": [
            18.04
           ]
          }
         ],
         "name": "38"
        },
        {
         "data": [
          {
           "hoverinfo": "none",
           "mode": "text",
           "showlegend": false,
           "text": [
            "10",
            "20",
            "30",
            "40",
            "50",
            "40",
            "30",
            "20",
            "10"
           ],
           "textfont": {
            "color": "#ffffff",
            "family": "Courier New, monospace",
            "size": 30
           },
           "type": "scatter",
           "x": [
            20,
            30,
            40,
            50,
            60,
            70,
            80,
            90,
            100
           ],
           "y": [
            5,
            5,
            5,
            5,
            5,
            5,
            5,
            5,
            5
           ]
          },
          {
           "hoverinfo": "none",
           "mode": "text",
           "showlegend": false,
           "text": [
            "10",
            "20",
            "30",
            "40",
            "50",
            "40",
            "30",
            "20",
            "10"
           ],
           "textfont": {
            "color": "#ffffff",
            "family": "Courier New, monospace",
            "size": 30
           },
           "type": "scatter",
           "x": [
            20,
            30,
            40,
            50,
            60,
            70,
            80,
            90,
            100
           ],
           "y": [
            48.5,
            48.5,
            48.5,
            48.5,
            48.5,
            48.5,
            48.5,
            48.5,
            48.5
           ]
          },
          {
           "hoverinfo": "none",
           "line": {
            "color": "blue",
            "dash": "dash"
           },
           "showlegend": false,
           "type": "scatter",
           "x": [
            62,
            62
           ],
           "y": [
            0,
            53.5
           ]
          },
          {
           "hoverinfo": "none",
           "line": {
            "color": "yellow",
            "dash": "dash"
           },
           "showlegend": false,
           "type": "scatter",
           "x": [
            69,
            69
           ],
           "y": [
            0,
            53.5
           ]
          },
          {
           "hoverinfo": "text",
           "hovertext": [
            "nflId:37078.0<br>displayName:Patrick Peterson<br>Position:RCB<br>Role:Coverage",
            "nflId:38559.0<br>displayName:Harrison Smith<br>Position:RLB<br>Role:Coverage",
            "nflId:41331.0<br>displayName:Bashaud Breeland<br>Position:LCB<br>Role:Coverage",
            "nflId:42388.0<br>displayName:Eric Kendricks<br>Position:LLB<br>Role:Coverage",
            "nflId:42431.0<br>displayName:Danielle Hunter<br>Position:LEO<br>Role:Pass Rush",
            "nflId:43343.0<br>displayName:Mackensie Alexander<br>Position:LOLB<br>Role:Pass Rush",
            "nflId:43376.0<br>displayName:Nick Vigil<br>Position:RILB<br>Role:Pass Rush",
            "nflId:43694.0<br>displayName:Michael Pierce<br>Position:DRT<br>Role:Pass Rush",
            "nflId:44867.0<br>displayName:Dalvin Tomlinson<br>Position:DLT<br>Role:Pass Rush",
            "nflId:45004.0<br>displayName:Xavier Woods<br>Position:FS<br>Role:Coverage",
            "nflId:52525.0<br>displayName:D.J. Wonnum<br>Position:REO<br>Role:Coverage"
           ],
           "marker": {
            "color": "#4F2683"
           },
           "mode": "markers",
           "name": "MIN",
           "type": "scatter",
           "x": [
            42.89,
            41.81,
            45.72,
            52.15,
            73.27,
            71.66,
            73.2,
            71,
            66.42,
            40.68,
            57.96
           ],
           "y": [
            9.84,
            14.24,
            39.57,
            28.25,
            26.64,
            29.22,
            17.54,
            16.13,
            22.41,
            29.23,
            17.04
           ]
          },
          {
           "hoverinfo": "text",
           "hovertext": [
            "nflId:38553.0<br>displayName:Riley Reiff<br>Position:RT<br>Role:Pass Block",
            "nflId:41262.0<br>displayName:Xavier Su'a-Filo<br>Position:RG<br>Role:Pass Block",
            "nflId:41619.0<br>displayName:Trey Hopkins<br>Position:C<br>Role:Pass Block",
            "nflId:42500.0<br>displayName:C.J. Uzomah<br>Position:TE-L<br>Role:Pass Route",
            "nflId:43045.0<br>displayName:Quinton Spain<br>Position:LG<br>Role:Pass Block",
            "nflId:43344.0<br>displayName:Tyler Boyd<br>Position:SRWR<br>Role:Pass Route",
            "nflId:44860.0<br>displayName:Joe Mixon<br>Position:HB-R<br>Role:Pass Block",
            "nflId:47794.0<br>displayName:Jonah Williams<br>Position:LT<br>Role:Pass Block",
            "nflId:52409.0<br>displayName:Joe Burrow<br>Position:QB<br>Role:Pass",
            "nflId:52441.0<br>displayName:Tee Higgins<br>Position:LWR<br>Role:Pass Route",
            "nflId:53434.0<br>displayName:Ja'Marr Chase<br>Position:RWR<br>Role:Pass Route"
           ],
           "marker": {
            "color": "#FB4F14"
           },
           "mode": "markers",
           "name": "CIN",
           "type": "scatter",
           "x": [
            72.48,
            69.73,
            66.91,
            59.29,
            69.16,
            48.34,
            67.13,
            68.18,
            72.95,
            43.47,
            46.93
           ],
           "y": [
            26.73,
            29.68,
            23.4,
            27.84,
            17.09,
            23.03,
            27.75,
            18.99,
            17.55,
            10.85,
            37.73
           ]
          },
          {
           "hoverinfo": "none",
           "marker": {
            "color": "#CBB67C"
           },
           "mode": "markers",
           "name": "football",
           "type": "scatter",
           "x": [
            72.87
           ],
           "y": [
            17.69
           ]
          }
         ],
         "name": "39"
        },
        {
         "data": [
          {
           "hoverinfo": "none",
           "mode": "text",
           "showlegend": false,
           "text": [
            "10",
            "20",
            "30",
            "40",
            "50",
            "40",
            "30",
            "20",
            "10"
           ],
           "textfont": {
            "color": "#ffffff",
            "family": "Courier New, monospace",
            "size": 30
           },
           "type": "scatter",
           "x": [
            20,
            30,
            40,
            50,
            60,
            70,
            80,
            90,
            100
           ],
           "y": [
            5,
            5,
            5,
            5,
            5,
            5,
            5,
            5,
            5
           ]
          },
          {
           "hoverinfo": "none",
           "mode": "text",
           "showlegend": false,
           "text": [
            "10",
            "20",
            "30",
            "40",
            "50",
            "40",
            "30",
            "20",
            "10"
           ],
           "textfont": {
            "color": "#ffffff",
            "family": "Courier New, monospace",
            "size": 30
           },
           "type": "scatter",
           "x": [
            20,
            30,
            40,
            50,
            60,
            70,
            80,
            90,
            100
           ],
           "y": [
            48.5,
            48.5,
            48.5,
            48.5,
            48.5,
            48.5,
            48.5,
            48.5,
            48.5
           ]
          },
          {
           "hoverinfo": "none",
           "line": {
            "color": "blue",
            "dash": "dash"
           },
           "showlegend": false,
           "type": "scatter",
           "x": [
            62,
            62
           ],
           "y": [
            0,
            53.5
           ]
          },
          {
           "hoverinfo": "none",
           "line": {
            "color": "yellow",
            "dash": "dash"
           },
           "showlegend": false,
           "type": "scatter",
           "x": [
            69,
            69
           ],
           "y": [
            0,
            53.5
           ]
          },
          {
           "hoverinfo": "text",
           "hovertext": [
            "nflId:37078.0<br>displayName:Patrick Peterson<br>Position:RCB<br>Role:Coverage",
            "nflId:38559.0<br>displayName:Harrison Smith<br>Position:RLB<br>Role:Coverage",
            "nflId:41331.0<br>displayName:Bashaud Breeland<br>Position:LCB<br>Role:Coverage",
            "nflId:42388.0<br>displayName:Eric Kendricks<br>Position:LLB<br>Role:Coverage",
            "nflId:42431.0<br>displayName:Danielle Hunter<br>Position:LEO<br>Role:Pass Rush",
            "nflId:43343.0<br>displayName:Mackensie Alexander<br>Position:LOLB<br>Role:Pass Rush",
            "nflId:43376.0<br>displayName:Nick Vigil<br>Position:RILB<br>Role:Pass Rush",
            "nflId:43694.0<br>displayName:Michael Pierce<br>Position:DRT<br>Role:Pass Rush",
            "nflId:44867.0<br>displayName:Dalvin Tomlinson<br>Position:DLT<br>Role:Pass Rush",
            "nflId:45004.0<br>displayName:Xavier Woods<br>Position:FS<br>Role:Coverage",
            "nflId:52525.0<br>displayName:D.J. Wonnum<br>Position:REO<br>Role:Coverage"
           ],
           "marker": {
            "color": "#4F2683"
           },
           "mode": "markers",
           "name": "MIN",
           "type": "scatter",
           "x": [
            42.11,
            41.38,
            45.29,
            52.06,
            73.51,
            72.03,
            73.3,
            71.5,
            66.47,
            40.03,
            57.97
           ],
           "y": [
            10.12,
            14.08,
            39.16,
            27.93,
            26.38,
            29.02,
            17.23,
            15.97,
            22.15,
            29.1,
            16.83
           ]
          },
          {
           "hoverinfo": "text",
           "hovertext": [
            "nflId:38553.0<br>displayName:Riley Reiff<br>Position:RT<br>Role:Pass Block",
            "nflId:41262.0<br>displayName:Xavier Su'a-Filo<br>Position:RG<br>Role:Pass Block",
            "nflId:41619.0<br>displayName:Trey Hopkins<br>Position:C<br>Role:Pass Block",
            "nflId:42500.0<br>displayName:C.J. Uzomah<br>Position:TE-L<br>Role:Pass Route",
            "nflId:43045.0<br>displayName:Quinton Spain<br>Position:LG<br>Role:Pass Block",
            "nflId:43344.0<br>displayName:Tyler Boyd<br>Position:SRWR<br>Role:Pass Route",
            "nflId:44860.0<br>displayName:Joe Mixon<br>Position:HB-R<br>Role:Pass Block",
            "nflId:47794.0<br>displayName:Jonah Williams<br>Position:LT<br>Role:Pass Block",
            "nflId:52409.0<br>displayName:Joe Burrow<br>Position:QB<br>Role:Pass",
            "nflId:52441.0<br>displayName:Tee Higgins<br>Position:LWR<br>Role:Pass Route",
            "nflId:53434.0<br>displayName:Ja'Marr Chase<br>Position:RWR<br>Role:Pass Route"
           ],
           "marker": {
            "color": "#FB4F14"
           },
           "mode": "markers",
           "name": "CIN",
           "type": "scatter",
           "x": [
            72.65,
            69.92,
            66.93,
            59.4,
            69.42,
            48.15,
            67.3,
            68.4,
            73.19,
            42.6,
            46.68
           ],
           "y": [
            26.67,
            29.75,
            23.26,
            28.31,
            16.83,
            22.23,
            27.53,
            19.02,
            17.18,
            11.13,
            37.18
           ]
          },
          {
           "hoverinfo": "none",
           "marker": {
            "color": "#CBB67C"
           },
           "mode": "markers",
           "name": "football",
           "type": "scatter",
           "x": [
            73.13
           ],
           "y": [
            17.34
           ]
          }
         ],
         "name": "40"
        },
        {
         "data": [
          {
           "hoverinfo": "none",
           "mode": "text",
           "showlegend": false,
           "text": [
            "10",
            "20",
            "30",
            "40",
            "50",
            "40",
            "30",
            "20",
            "10"
           ],
           "textfont": {
            "color": "#ffffff",
            "family": "Courier New, monospace",
            "size": 30
           },
           "type": "scatter",
           "x": [
            20,
            30,
            40,
            50,
            60,
            70,
            80,
            90,
            100
           ],
           "y": [
            5,
            5,
            5,
            5,
            5,
            5,
            5,
            5,
            5
           ]
          },
          {
           "hoverinfo": "none",
           "mode": "text",
           "showlegend": false,
           "text": [
            "10",
            "20",
            "30",
            "40",
            "50",
            "40",
            "30",
            "20",
            "10"
           ],
           "textfont": {
            "color": "#ffffff",
            "family": "Courier New, monospace",
            "size": 30
           },
           "type": "scatter",
           "x": [
            20,
            30,
            40,
            50,
            60,
            70,
            80,
            90,
            100
           ],
           "y": [
            48.5,
            48.5,
            48.5,
            48.5,
            48.5,
            48.5,
            48.5,
            48.5,
            48.5
           ]
          },
          {
           "hoverinfo": "none",
           "line": {
            "color": "blue",
            "dash": "dash"
           },
           "showlegend": false,
           "type": "scatter",
           "x": [
            62,
            62
           ],
           "y": [
            0,
            53.5
           ]
          },
          {
           "hoverinfo": "none",
           "line": {
            "color": "yellow",
            "dash": "dash"
           },
           "showlegend": false,
           "type": "scatter",
           "x": [
            69,
            69
           ],
           "y": [
            0,
            53.5
           ]
          },
          {
           "hoverinfo": "text",
           "hovertext": [
            "nflId:37078.0<br>displayName:Patrick Peterson<br>Position:RCB<br>Role:Coverage",
            "nflId:38559.0<br>displayName:Harrison Smith<br>Position:RLB<br>Role:Coverage",
            "nflId:41331.0<br>displayName:Bashaud Breeland<br>Position:LCB<br>Role:Coverage",
            "nflId:42388.0<br>displayName:Eric Kendricks<br>Position:LLB<br>Role:Coverage",
            "nflId:42431.0<br>displayName:Danielle Hunter<br>Position:LEO<br>Role:Pass Rush",
            "nflId:43343.0<br>displayName:Mackensie Alexander<br>Position:LOLB<br>Role:Pass Rush",
            "nflId:43376.0<br>displayName:Nick Vigil<br>Position:RILB<br>Role:Pass Rush",
            "nflId:43694.0<br>displayName:Michael Pierce<br>Position:DRT<br>Role:Pass Rush",
            "nflId:44867.0<br>displayName:Dalvin Tomlinson<br>Position:DLT<br>Role:Pass Rush",
            "nflId:45004.0<br>displayName:Xavier Woods<br>Position:FS<br>Role:Coverage",
            "nflId:52525.0<br>displayName:D.J. Wonnum<br>Position:REO<br>Role:Coverage"
           ],
           "marker": {
            "color": "#4F2683"
           },
           "mode": "markers",
           "name": "MIN",
           "type": "scatter",
           "x": [
            41.34,
            40.96,
            44.92,
            52,
            73.73,
            72.41,
            73.4,
            72.04,
            66.51,
            39.38,
            58.04
           ],
           "y": [
            10.42,
            13.92,
            38.71,
            27.62,
            26.12,
            28.78,
            16.96,
            15.83,
            21.87,
            28.97,
            16.6
           ]
          },
          {
           "hoverinfo": "text",
           "hovertext": [
            "nflId:38553.0<br>displayName:Riley Reiff<br>Position:RT<br>Role:Pass Block",
            "nflId:41262.0<br>displayName:Xavier Su'a-Filo<br>Position:RG<br>Role:Pass Block",
            "nflId:41619.0<br>displayName:Trey Hopkins<br>Position:C<br>Role:Pass Block",
            "nflId:42500.0<br>displayName:C.J. Uzomah<br>Position:TE-L<br>Role:Pass Route",
            "nflId:43045.0<br>displayName:Quinton Spain<br>Position:LG<br>Role:Pass Block",
            "nflId:43344.0<br>displayName:Tyler Boyd<br>Position:SRWR<br>Role:Pass Route",
            "nflId:44860.0<br>displayName:Joe Mixon<br>Position:HB-R<br>Role:Pass Block",
            "nflId:47794.0<br>displayName:Jonah Williams<br>Position:LT<br>Role:Pass Block",
            "nflId:52409.0<br>displayName:Joe Burrow<br>Position:QB<br>Role:Pass",
            "nflId:52441.0<br>displayName:Tee Higgins<br>Position:LWR<br>Role:Pass Route",
            "nflId:53434.0<br>displayName:Ja'Marr Chase<br>Position:RWR<br>Role:Pass Route"
           ],
           "marker": {
            "color": "#FB4F14"
           },
           "mode": "markers",
           "name": "CIN",
           "type": "scatter",
           "x": [
            72.81,
            70.08,
            66.97,
            59.56,
            69.68,
            48,
            67.48,
            68.64,
            73.44,
            41.73,
            46.46
           ],
           "y": [
            26.64,
            29.8,
            23.11,
            28.75,
            16.58,
            21.43,
            27.26,
            19.04,
            16.81,
            11.42,
            36.59
           ]
          },
          {
           "hoverinfo": "none",
           "marker": {
            "color": "#CBB67C"
           },
           "mode": "markers",
           "name": "football",
           "type": "scatter",
           "x": [
            73.36
           ],
           "y": [
            16.99
           ]
          }
         ],
         "name": "41"
        },
        {
         "data": [
          {
           "hoverinfo": "none",
           "mode": "text",
           "showlegend": false,
           "text": [
            "10",
            "20",
            "30",
            "40",
            "50",
            "40",
            "30",
            "20",
            "10"
           ],
           "textfont": {
            "color": "#ffffff",
            "family": "Courier New, monospace",
            "size": 30
           },
           "type": "scatter",
           "x": [
            20,
            30,
            40,
            50,
            60,
            70,
            80,
            90,
            100
           ],
           "y": [
            5,
            5,
            5,
            5,
            5,
            5,
            5,
            5,
            5
           ]
          },
          {
           "hoverinfo": "none",
           "mode": "text",
           "showlegend": false,
           "text": [
            "10",
            "20",
            "30",
            "40",
            "50",
            "40",
            "30",
            "20",
            "10"
           ],
           "textfont": {
            "color": "#ffffff",
            "family": "Courier New, monospace",
            "size": 30
           },
           "type": "scatter",
           "x": [
            20,
            30,
            40,
            50,
            60,
            70,
            80,
            90,
            100
           ],
           "y": [
            48.5,
            48.5,
            48.5,
            48.5,
            48.5,
            48.5,
            48.5,
            48.5,
            48.5
           ]
          },
          {
           "hoverinfo": "none",
           "line": {
            "color": "blue",
            "dash": "dash"
           },
           "showlegend": false,
           "type": "scatter",
           "x": [
            62,
            62
           ],
           "y": [
            0,
            53.5
           ]
          },
          {
           "hoverinfo": "none",
           "line": {
            "color": "yellow",
            "dash": "dash"
           },
           "showlegend": false,
           "type": "scatter",
           "x": [
            69,
            69
           ],
           "y": [
            0,
            53.5
           ]
          },
          {
           "hoverinfo": "text",
           "hovertext": [
            "nflId:37078.0<br>displayName:Patrick Peterson<br>Position:RCB<br>Role:Coverage",
            "nflId:38559.0<br>displayName:Harrison Smith<br>Position:RLB<br>Role:Coverage",
            "nflId:41331.0<br>displayName:Bashaud Breeland<br>Position:LCB<br>Role:Coverage",
            "nflId:42388.0<br>displayName:Eric Kendricks<br>Position:LLB<br>Role:Coverage",
            "nflId:42431.0<br>displayName:Danielle Hunter<br>Position:LEO<br>Role:Pass Rush",
            "nflId:43343.0<br>displayName:Mackensie Alexander<br>Position:LOLB<br>Role:Pass Rush",
            "nflId:43376.0<br>displayName:Nick Vigil<br>Position:RILB<br>Role:Pass Rush",
            "nflId:43694.0<br>displayName:Michael Pierce<br>Position:DRT<br>Role:Pass Rush",
            "nflId:44867.0<br>displayName:Dalvin Tomlinson<br>Position:DLT<br>Role:Pass Rush",
            "nflId:45004.0<br>displayName:Xavier Woods<br>Position:FS<br>Role:Coverage",
            "nflId:52525.0<br>displayName:D.J. Wonnum<br>Position:REO<br>Role:Coverage"
           ],
           "marker": {
            "color": "#4F2683"
           },
           "mode": "markers",
           "name": "MIN",
           "type": "scatter",
           "x": [
            40.57,
            40.55,
            44.59,
            51.98,
            73.92,
            72.77,
            73.52,
            72.6,
            66.57,
            38.74,
            58.15
           ],
           "y": [
            10.73,
            13.76,
            38.21,
            27.32,
            25.82,
            28.49,
            16.73,
            15.69,
            21.59,
            28.84,
            16.36
           ]
          },
          {
           "hoverinfo": "text",
           "hovertext": [
            "nflId:38553.0<br>displayName:Riley Reiff<br>Position:RT<br>Role:Pass Block",
            "nflId:41262.0<br>displayName:Xavier Su'a-Filo<br>Position:RG<br>Role:Pass Block",
            "nflId:41619.0<br>displayName:Trey Hopkins<br>Position:C<br>Role:Pass Block",
            "nflId:42500.0<br>displayName:C.J. Uzomah<br>Position:TE-L<br>Role:Pass Route",
            "nflId:43045.0<br>displayName:Quinton Spain<br>Position:LG<br>Role:Pass Block",
            "nflId:43344.0<br>displayName:Tyler Boyd<br>Position:SRWR<br>Role:Pass Route",
            "nflId:44860.0<br>displayName:Joe Mixon<br>Position:HB-R<br>Role:Pass Block",
            "nflId:47794.0<br>displayName:Jonah Williams<br>Position:LT<br>Role:Pass Block",
            "nflId:52409.0<br>displayName:Joe Burrow<br>Position:QB<br>Role:Pass",
            "nflId:52441.0<br>displayName:Tee Higgins<br>Position:LWR<br>Role:Pass Route",
            "nflId:53434.0<br>displayName:Ja'Marr Chase<br>Position:RWR<br>Role:Pass Route"
           ],
           "marker": {
            "color": "#FB4F14"
           },
           "mode": "markers",
           "name": "CIN",
           "type": "scatter",
           "x": [
            72.94,
            70.24,
            67.01,
            59.74,
            69.96,
            47.89,
            67.65,
            68.9,
            73.68,
            40.86,
            46.28
           ],
           "y": [
            26.63,
            29.83,
            22.95,
            29.16,
            16.35,
            20.63,
            26.97,
            19.03,
            16.48,
            11.72,
            35.98
           ]
          },
          {
           "hoverinfo": "none",
           "marker": {
            "color": "#CBB67C"
           },
           "mode": "markers",
           "name": "football",
           "type": "scatter",
           "x": [
            73.57
           ],
           "y": [
            16.66
           ]
          }
         ],
         "name": "42"
        },
        {
         "data": [
          {
           "hoverinfo": "none",
           "mode": "text",
           "showlegend": false,
           "text": [
            "10",
            "20",
            "30",
            "40",
            "50",
            "40",
            "30",
            "20",
            "10"
           ],
           "textfont": {
            "color": "#ffffff",
            "family": "Courier New, monospace",
            "size": 30
           },
           "type": "scatter",
           "x": [
            20,
            30,
            40,
            50,
            60,
            70,
            80,
            90,
            100
           ],
           "y": [
            5,
            5,
            5,
            5,
            5,
            5,
            5,
            5,
            5
           ]
          },
          {
           "hoverinfo": "none",
           "mode": "text",
           "showlegend": false,
           "text": [
            "10",
            "20",
            "30",
            "40",
            "50",
            "40",
            "30",
            "20",
            "10"
           ],
           "textfont": {
            "color": "#ffffff",
            "family": "Courier New, monospace",
            "size": 30
           },
           "type": "scatter",
           "x": [
            20,
            30,
            40,
            50,
            60,
            70,
            80,
            90,
            100
           ],
           "y": [
            48.5,
            48.5,
            48.5,
            48.5,
            48.5,
            48.5,
            48.5,
            48.5,
            48.5
           ]
          },
          {
           "hoverinfo": "none",
           "line": {
            "color": "blue",
            "dash": "dash"
           },
           "showlegend": false,
           "type": "scatter",
           "x": [
            62,
            62
           ],
           "y": [
            0,
            53.5
           ]
          },
          {
           "hoverinfo": "none",
           "line": {
            "color": "yellow",
            "dash": "dash"
           },
           "showlegend": false,
           "type": "scatter",
           "x": [
            69,
            69
           ],
           "y": [
            0,
            53.5
           ]
          },
          {
           "hoverinfo": "text",
           "hovertext": [
            "nflId:37078.0<br>displayName:Patrick Peterson<br>Position:RCB<br>Role:Coverage",
            "nflId:38559.0<br>displayName:Harrison Smith<br>Position:RLB<br>Role:Coverage",
            "nflId:41331.0<br>displayName:Bashaud Breeland<br>Position:LCB<br>Role:Coverage",
            "nflId:42388.0<br>displayName:Eric Kendricks<br>Position:LLB<br>Role:Coverage",
            "nflId:42431.0<br>displayName:Danielle Hunter<br>Position:LEO<br>Role:Pass Rush",
            "nflId:43343.0<br>displayName:Mackensie Alexander<br>Position:LOLB<br>Role:Pass Rush",
            "nflId:43376.0<br>displayName:Nick Vigil<br>Position:RILB<br>Role:Pass Rush",
            "nflId:43694.0<br>displayName:Michael Pierce<br>Position:DRT<br>Role:Pass Rush",
            "nflId:44867.0<br>displayName:Dalvin Tomlinson<br>Position:DLT<br>Role:Pass Rush",
            "nflId:45004.0<br>displayName:Xavier Woods<br>Position:FS<br>Role:Coverage",
            "nflId:52525.0<br>displayName:D.J. Wonnum<br>Position:REO<br>Role:Coverage"
           ],
           "marker": {
            "color": "#4F2683"
           },
           "mode": "markers",
           "name": "MIN",
           "type": "scatter",
           "x": [
            39.8,
            40.17,
            44.32,
            51.98,
            74.08,
            73.11,
            73.65,
            73.15,
            66.64,
            38.09,
            58.29
           ],
           "y": [
            11.05,
            13.6,
            37.68,
            27.04,
            25.51,
            28.17,
            16.52,
            15.55,
            21.3,
            28.68,
            16.11
           ]
          },
          {
           "hoverinfo": "text",
           "hovertext": [
            "nflId:38553.0<br>displayName:Riley Reiff<br>Position:RT<br>Role:Pass Block",
            "nflId:41262.0<br>displayName:Xavier Su'a-Filo<br>Position:RG<br>Role:Pass Block",
            "nflId:41619.0<br>displayName:Trey Hopkins<br>Position:C<br>Role:Pass Block",
            "nflId:42500.0<br>displayName:C.J. Uzomah<br>Position:TE-L<br>Role:Pass Route",
            "nflId:43045.0<br>displayName:Quinton Spain<br>Position:LG<br>Role:Pass Block",
            "nflId:43344.0<br>displayName:Tyler Boyd<br>Position:SRWR<br>Role:Pass Route",
            "nflId:44860.0<br>displayName:Joe Mixon<br>Position:HB-R<br>Role:Pass Block",
            "nflId:47794.0<br>displayName:Jonah Williams<br>Position:LT<br>Role:Pass Block",
            "nflId:52409.0<br>displayName:Joe Burrow<br>Position:QB<br>Role:Pass",
            "nflId:52441.0<br>displayName:Tee Higgins<br>Position:LWR<br>Role:Pass Route",
            "nflId:53434.0<br>displayName:Ja'Marr Chase<br>Position:RWR<br>Role:Pass Route"
           ],
           "marker": {
            "color": "#FB4F14"
           },
           "mode": "markers",
           "name": "CIN",
           "type": "scatter",
           "x": [
            73.05,
            70.37,
            67.07,
            59.94,
            70.26,
            47.8,
            67.83,
            69.18,
            73.89,
            40,
            46.14
           ],
           "y": [
            26.65,
            29.85,
            22.79,
            29.53,
            16.14,
            19.84,
            26.67,
            19,
            16.17,
            12.02,
            35.35
           ]
          },
          {
           "hoverinfo": "none",
           "marker": {
            "color": "#CBB67C"
           },
           "mode": "markers",
           "name": "football",
           "type": "scatter",
           "x": [
            73.77
           ],
           "y": [
            16.35
           ]
          }
         ],
         "name": "43"
        },
        {
         "data": [
          {
           "hoverinfo": "none",
           "mode": "text",
           "showlegend": false,
           "text": [
            "10",
            "20",
            "30",
            "40",
            "50",
            "40",
            "30",
            "20",
            "10"
           ],
           "textfont": {
            "color": "#ffffff",
            "family": "Courier New, monospace",
            "size": 30
           },
           "type": "scatter",
           "x": [
            20,
            30,
            40,
            50,
            60,
            70,
            80,
            90,
            100
           ],
           "y": [
            5,
            5,
            5,
            5,
            5,
            5,
            5,
            5,
            5
           ]
          },
          {
           "hoverinfo": "none",
           "mode": "text",
           "showlegend": false,
           "text": [
            "10",
            "20",
            "30",
            "40",
            "50",
            "40",
            "30",
            "20",
            "10"
           ],
           "textfont": {
            "color": "#ffffff",
            "family": "Courier New, monospace",
            "size": 30
           },
           "type": "scatter",
           "x": [
            20,
            30,
            40,
            50,
            60,
            70,
            80,
            90,
            100
           ],
           "y": [
            48.5,
            48.5,
            48.5,
            48.5,
            48.5,
            48.5,
            48.5,
            48.5,
            48.5
           ]
          },
          {
           "hoverinfo": "none",
           "line": {
            "color": "blue",
            "dash": "dash"
           },
           "showlegend": false,
           "type": "scatter",
           "x": [
            62,
            62
           ],
           "y": [
            0,
            53.5
           ]
          },
          {
           "hoverinfo": "none",
           "line": {
            "color": "yellow",
            "dash": "dash"
           },
           "showlegend": false,
           "type": "scatter",
           "x": [
            69,
            69
           ],
           "y": [
            0,
            53.5
           ]
          },
          {
           "hoverinfo": "text",
           "hovertext": [
            "nflId:37078.0<br>displayName:Patrick Peterson<br>Position:RCB<br>Role:Coverage",
            "nflId:38559.0<br>displayName:Harrison Smith<br>Position:RLB<br>Role:Coverage",
            "nflId:41331.0<br>displayName:Bashaud Breeland<br>Position:LCB<br>Role:Coverage",
            "nflId:42388.0<br>displayName:Eric Kendricks<br>Position:LLB<br>Role:Coverage",
            "nflId:42431.0<br>displayName:Danielle Hunter<br>Position:LEO<br>Role:Pass Rush",
            "nflId:43343.0<br>displayName:Mackensie Alexander<br>Position:LOLB<br>Role:Pass Rush",
            "nflId:43376.0<br>displayName:Nick Vigil<br>Position:RILB<br>Role:Pass Rush",
            "nflId:43694.0<br>displayName:Michael Pierce<br>Position:DRT<br>Role:Pass Rush",
            "nflId:44867.0<br>displayName:Dalvin Tomlinson<br>Position:DLT<br>Role:Pass Rush",
            "nflId:45004.0<br>displayName:Xavier Woods<br>Position:FS<br>Role:Coverage",
            "nflId:52525.0<br>displayName:D.J. Wonnum<br>Position:REO<br>Role:Coverage"
           ],
           "marker": {
            "color": "#4F2683"
           },
           "mode": "markers",
           "name": "MIN",
           "type": "scatter",
           "x": [
            39.03,
            39.81,
            44.1,
            52,
            74.21,
            73.43,
            73.79,
            73.7,
            66.72,
            37.45,
            58.46
           ],
           "y": [
            11.38,
            13.43,
            37.11,
            26.77,
            25.16,
            27.81,
            16.33,
            15.41,
            21.01,
            28.51,
            15.86
           ]
          },
          {
           "hoverinfo": "text",
           "hovertext": [
            "nflId:38553.0<br>displayName:Riley Reiff<br>Position:RT<br>Role:Pass Block",
            "nflId:41262.0<br>displayName:Xavier Su'a-Filo<br>Position:RG<br>Role:Pass Block",
            "nflId:41619.0<br>displayName:Trey Hopkins<br>Position:C<br>Role:Pass Block",
            "nflId:42500.0<br>displayName:C.J. Uzomah<br>Position:TE-L<br>Role:Pass Route",
            "nflId:43045.0<br>displayName:Quinton Spain<br>Position:LG<br>Role:Pass Block",
            "nflId:43344.0<br>displayName:Tyler Boyd<br>Position:SRWR<br>Role:Pass Route",
            "nflId:44860.0<br>displayName:Joe Mixon<br>Position:HB-R<br>Role:Pass Block",
            "nflId:47794.0<br>displayName:Jonah Williams<br>Position:LT<br>Role:Pass Block",
            "nflId:52409.0<br>displayName:Joe Burrow<br>Position:QB<br>Role:Pass",
            "nflId:52441.0<br>displayName:Tee Higgins<br>Position:LWR<br>Role:Pass Route",
            "nflId:53434.0<br>displayName:Ja'Marr Chase<br>Position:RWR<br>Role:Pass Route"
           ],
           "marker": {
            "color": "#FB4F14"
           },
           "mode": "markers",
           "name": "CIN",
           "type": "scatter",
           "x": [
            73.13,
            70.49,
            67.14,
            60.17,
            70.56,
            47.73,
            68,
            69.46,
            74.05,
            39.15,
            46.02
           ],
           "y": [
            26.68,
            29.85,
            22.61,
            29.88,
            15.94,
            19.05,
            26.35,
            18.96,
            15.89,
            12.33,
            34.7
           ]
          },
          {
           "hoverinfo": "none",
           "marker": {
            "color": "#CBB67C"
           },
           "mode": "markers",
           "name": "football",
           "type": "scatter",
           "x": [
            73.96
           ],
           "y": [
            16.05
           ]
          }
         ],
         "name": "44"
        },
        {
         "data": [
          {
           "hoverinfo": "none",
           "mode": "text",
           "showlegend": false,
           "text": [
            "10",
            "20",
            "30",
            "40",
            "50",
            "40",
            "30",
            "20",
            "10"
           ],
           "textfont": {
            "color": "#ffffff",
            "family": "Courier New, monospace",
            "size": 30
           },
           "type": "scatter",
           "x": [
            20,
            30,
            40,
            50,
            60,
            70,
            80,
            90,
            100
           ],
           "y": [
            5,
            5,
            5,
            5,
            5,
            5,
            5,
            5,
            5
           ]
          },
          {
           "hoverinfo": "none",
           "mode": "text",
           "showlegend": false,
           "text": [
            "10",
            "20",
            "30",
            "40",
            "50",
            "40",
            "30",
            "20",
            "10"
           ],
           "textfont": {
            "color": "#ffffff",
            "family": "Courier New, monospace",
            "size": 30
           },
           "type": "scatter",
           "x": [
            20,
            30,
            40,
            50,
            60,
            70,
            80,
            90,
            100
           ],
           "y": [
            48.5,
            48.5,
            48.5,
            48.5,
            48.5,
            48.5,
            48.5,
            48.5,
            48.5
           ]
          },
          {
           "hoverinfo": "none",
           "line": {
            "color": "blue",
            "dash": "dash"
           },
           "showlegend": false,
           "type": "scatter",
           "x": [
            62,
            62
           ],
           "y": [
            0,
            53.5
           ]
          },
          {
           "hoverinfo": "none",
           "line": {
            "color": "yellow",
            "dash": "dash"
           },
           "showlegend": false,
           "type": "scatter",
           "x": [
            69,
            69
           ],
           "y": [
            0,
            53.5
           ]
          },
          {
           "hoverinfo": "text",
           "hovertext": [
            "nflId:37078.0<br>displayName:Patrick Peterson<br>Position:RCB<br>Role:Coverage",
            "nflId:38559.0<br>displayName:Harrison Smith<br>Position:RLB<br>Role:Coverage",
            "nflId:41331.0<br>displayName:Bashaud Breeland<br>Position:LCB<br>Role:Coverage",
            "nflId:42388.0<br>displayName:Eric Kendricks<br>Position:LLB<br>Role:Coverage",
            "nflId:42431.0<br>displayName:Danielle Hunter<br>Position:LEO<br>Role:Pass Rush",
            "nflId:43343.0<br>displayName:Mackensie Alexander<br>Position:LOLB<br>Role:Pass Rush",
            "nflId:43376.0<br>displayName:Nick Vigil<br>Position:RILB<br>Role:Pass Rush",
            "nflId:43694.0<br>displayName:Michael Pierce<br>Position:DRT<br>Role:Pass Rush",
            "nflId:44867.0<br>displayName:Dalvin Tomlinson<br>Position:DLT<br>Role:Pass Rush",
            "nflId:45004.0<br>displayName:Xavier Woods<br>Position:FS<br>Role:Coverage",
            "nflId:52525.0<br>displayName:D.J. Wonnum<br>Position:REO<br>Role:Coverage"
           ],
           "marker": {
            "color": "#4F2683"
           },
           "mode": "markers",
           "name": "MIN",
           "type": "scatter",
           "x": [
            38.27,
            39.5,
            43.93,
            52.05,
            74.34,
            73.73,
            73.93,
            74.2,
            66.8,
            36.82,
            58.68
           ],
           "y": [
            11.71,
            13.25,
            36.51,
            26.51,
            24.83,
            27.43,
            16.17,
            15.25,
            20.72,
            28.32,
            15.6
           ]
          },
          {
           "hoverinfo": "text",
           "hovertext": [
            "nflId:38553.0<br>displayName:Riley Reiff<br>Position:RT<br>Role:Pass Block",
            "nflId:41262.0<br>displayName:Xavier Su'a-Filo<br>Position:RG<br>Role:Pass Block",
            "nflId:41619.0<br>displayName:Trey Hopkins<br>Position:C<br>Role:Pass Block",
            "nflId:42500.0<br>displayName:C.J. Uzomah<br>Position:TE-L<br>Role:Pass Route",
            "nflId:43045.0<br>displayName:Quinton Spain<br>Position:LG<br>Role:Pass Block",
            "nflId:43344.0<br>displayName:Tyler Boyd<br>Position:SRWR<br>Role:Pass Route",
            "nflId:44860.0<br>displayName:Joe Mixon<br>Position:HB-R<br>Role:Pass Block",
            "nflId:47794.0<br>displayName:Jonah Williams<br>Position:LT<br>Role:Pass Block",
            "nflId:52409.0<br>displayName:Joe Burrow<br>Position:QB<br>Role:Pass",
            "nflId:52441.0<br>displayName:Tee Higgins<br>Position:LWR<br>Role:Pass Route",
            "nflId:53434.0<br>displayName:Ja'Marr Chase<br>Position:RWR<br>Role:Pass Route"
           ],
           "marker": {
            "color": "#FB4F14"
           },
           "mode": "markers",
           "name": "CIN",
           "type": "scatter",
           "x": [
            73.2,
            70.6,
            67.23,
            60.42,
            70.88,
            47.67,
            68.18,
            69.77,
            74.22,
            38.31,
            45.93
           ],
           "y": [
            26.72,
            29.83,
            22.43,
            30.18,
            15.77,
            18.27,
            26.01,
            18.9,
            15.61,
            12.64,
            34.05
           ]
          },
          {
           "hoverinfo": "none",
           "marker": {
            "color": "#CBB67C"
           },
           "mode": "markers",
           "name": "football",
           "type": "scatter",
           "x": [
            74.17
           ],
           "y": [
            15.8
           ]
          }
         ],
         "name": "45"
        },
        {
         "data": [
          {
           "hoverinfo": "none",
           "mode": "text",
           "showlegend": false,
           "text": [
            "10",
            "20",
            "30",
            "40",
            "50",
            "40",
            "30",
            "20",
            "10"
           ],
           "textfont": {
            "color": "#ffffff",
            "family": "Courier New, monospace",
            "size": 30
           },
           "type": "scatter",
           "x": [
            20,
            30,
            40,
            50,
            60,
            70,
            80,
            90,
            100
           ],
           "y": [
            5,
            5,
            5,
            5,
            5,
            5,
            5,
            5,
            5
           ]
          },
          {
           "hoverinfo": "none",
           "mode": "text",
           "showlegend": false,
           "text": [
            "10",
            "20",
            "30",
            "40",
            "50",
            "40",
            "30",
            "20",
            "10"
           ],
           "textfont": {
            "color": "#ffffff",
            "family": "Courier New, monospace",
            "size": 30
           },
           "type": "scatter",
           "x": [
            20,
            30,
            40,
            50,
            60,
            70,
            80,
            90,
            100
           ],
           "y": [
            48.5,
            48.5,
            48.5,
            48.5,
            48.5,
            48.5,
            48.5,
            48.5,
            48.5
           ]
          },
          {
           "hoverinfo": "none",
           "line": {
            "color": "blue",
            "dash": "dash"
           },
           "showlegend": false,
           "type": "scatter",
           "x": [
            62,
            62
           ],
           "y": [
            0,
            53.5
           ]
          },
          {
           "hoverinfo": "none",
           "line": {
            "color": "yellow",
            "dash": "dash"
           },
           "showlegend": false,
           "type": "scatter",
           "x": [
            69,
            69
           ],
           "y": [
            0,
            53.5
           ]
          },
          {
           "hoverinfo": "text",
           "hovertext": [
            "nflId:37078.0<br>displayName:Patrick Peterson<br>Position:RCB<br>Role:Coverage",
            "nflId:38559.0<br>displayName:Harrison Smith<br>Position:RLB<br>Role:Coverage",
            "nflId:41331.0<br>displayName:Bashaud Breeland<br>Position:LCB<br>Role:Coverage",
            "nflId:42388.0<br>displayName:Eric Kendricks<br>Position:LLB<br>Role:Coverage",
            "nflId:42431.0<br>displayName:Danielle Hunter<br>Position:LEO<br>Role:Pass Rush",
            "nflId:43343.0<br>displayName:Mackensie Alexander<br>Position:LOLB<br>Role:Pass Rush",
            "nflId:43376.0<br>displayName:Nick Vigil<br>Position:RILB<br>Role:Pass Rush",
            "nflId:43694.0<br>displayName:Michael Pierce<br>Position:DRT<br>Role:Pass Rush",
            "nflId:44867.0<br>displayName:Dalvin Tomlinson<br>Position:DLT<br>Role:Pass Rush",
            "nflId:45004.0<br>displayName:Xavier Woods<br>Position:FS<br>Role:Coverage",
            "nflId:52525.0<br>displayName:D.J. Wonnum<br>Position:REO<br>Role:Coverage"
           ],
           "marker": {
            "color": "#4F2683"
           },
           "mode": "markers",
           "name": "MIN",
           "type": "scatter",
           "x": [
            37.5,
            39.23,
            43.81,
            52.11,
            74.44,
            74.02,
            74.07,
            74.68,
            66.91,
            36.2,
            58.93
           ],
           "y": [
            12.04,
            13.05,
            35.89,
            26.26,
            24.47,
            27.02,
            16.04,
            15.08,
            20.42,
            28.13,
            15.34
           ]
          },
          {
           "hoverinfo": "text",
           "hovertext": [
            "nflId:38553.0<br>displayName:Riley Reiff<br>Position:RT<br>Role:Pass Block",
            "nflId:41262.0<br>displayName:Xavier Su'a-Filo<br>Position:RG<br>Role:Pass Block",
            "nflId:41619.0<br>displayName:Trey Hopkins<br>Position:C<br>Role:Pass Block",
            "nflId:42500.0<br>displayName:C.J. Uzomah<br>Position:TE-L<br>Role:Pass Route",
            "nflId:43045.0<br>displayName:Quinton Spain<br>Position:LG<br>Role:Pass Block",
            "nflId:43344.0<br>displayName:Tyler Boyd<br>Position:SRWR<br>Role:Pass Route",
            "nflId:44860.0<br>displayName:Joe Mixon<br>Position:HB-R<br>Role:Pass Block",
            "nflId:47794.0<br>displayName:Jonah Williams<br>Position:LT<br>Role:Pass Block",
            "nflId:52409.0<br>displayName:Joe Burrow<br>Position:QB<br>Role:Pass",
            "nflId:52441.0<br>displayName:Tee Higgins<br>Position:LWR<br>Role:Pass Route",
            "nflId:53434.0<br>displayName:Ja'Marr Chase<br>Position:RWR<br>Role:Pass Route"
           ],
           "marker": {
            "color": "#FB4F14"
           },
           "mode": "markers",
           "name": "CIN",
           "type": "scatter",
           "x": [
            73.26,
            70.69,
            67.34,
            60.69,
            71.2,
            47.64,
            68.35,
            70.09,
            74.35,
            37.49,
            45.87
           ],
           "y": [
            26.77,
            29.81,
            22.24,
            30.45,
            15.61,
            17.51,
            25.67,
            18.82,
            15.37,
            12.96,
            33.39
           ]
          },
          {
           "hoverinfo": "none",
           "marker": {
            "color": "#CBB67C"
           },
           "mode": "markers",
           "name": "football",
           "type": "scatter",
           "x": [
            74.37
           ],
           "y": [
            15.58
           ]
          }
         ],
         "name": "46"
        },
        {
         "data": [
          {
           "hoverinfo": "none",
           "mode": "text",
           "showlegend": false,
           "text": [
            "10",
            "20",
            "30",
            "40",
            "50",
            "40",
            "30",
            "20",
            "10"
           ],
           "textfont": {
            "color": "#ffffff",
            "family": "Courier New, monospace",
            "size": 30
           },
           "type": "scatter",
           "x": [
            20,
            30,
            40,
            50,
            60,
            70,
            80,
            90,
            100
           ],
           "y": [
            5,
            5,
            5,
            5,
            5,
            5,
            5,
            5,
            5
           ]
          },
          {
           "hoverinfo": "none",
           "mode": "text",
           "showlegend": false,
           "text": [
            "10",
            "20",
            "30",
            "40",
            "50",
            "40",
            "30",
            "20",
            "10"
           ],
           "textfont": {
            "color": "#ffffff",
            "family": "Courier New, monospace",
            "size": 30
           },
           "type": "scatter",
           "x": [
            20,
            30,
            40,
            50,
            60,
            70,
            80,
            90,
            100
           ],
           "y": [
            48.5,
            48.5,
            48.5,
            48.5,
            48.5,
            48.5,
            48.5,
            48.5,
            48.5
           ]
          },
          {
           "hoverinfo": "none",
           "line": {
            "color": "blue",
            "dash": "dash"
           },
           "showlegend": false,
           "type": "scatter",
           "x": [
            62,
            62
           ],
           "y": [
            0,
            53.5
           ]
          },
          {
           "hoverinfo": "none",
           "line": {
            "color": "yellow",
            "dash": "dash"
           },
           "showlegend": false,
           "type": "scatter",
           "x": [
            69,
            69
           ],
           "y": [
            0,
            53.5
           ]
          },
          {
           "hoverinfo": "text",
           "hovertext": [
            "nflId:37078.0<br>displayName:Patrick Peterson<br>Position:RCB<br>Role:Coverage",
            "nflId:38559.0<br>displayName:Harrison Smith<br>Position:RLB<br>Role:Coverage",
            "nflId:41331.0<br>displayName:Bashaud Breeland<br>Position:LCB<br>Role:Coverage",
            "nflId:42388.0<br>displayName:Eric Kendricks<br>Position:LLB<br>Role:Coverage",
            "nflId:42431.0<br>displayName:Danielle Hunter<br>Position:LEO<br>Role:Pass Rush",
            "nflId:43343.0<br>displayName:Mackensie Alexander<br>Position:LOLB<br>Role:Pass Rush",
            "nflId:43376.0<br>displayName:Nick Vigil<br>Position:RILB<br>Role:Pass Rush",
            "nflId:43694.0<br>displayName:Michael Pierce<br>Position:DRT<br>Role:Pass Rush",
            "nflId:44867.0<br>displayName:Dalvin Tomlinson<br>Position:DLT<br>Role:Pass Rush",
            "nflId:45004.0<br>displayName:Xavier Woods<br>Position:FS<br>Role:Coverage",
            "nflId:52525.0<br>displayName:D.J. Wonnum<br>Position:REO<br>Role:Coverage"
           ],
           "marker": {
            "color": "#4F2683"
           },
           "mode": "markers",
           "name": "MIN",
           "type": "scatter",
           "x": [
            36.74,
            39.03,
            43.74,
            52.19,
            74.51,
            74.29,
            74.21,
            75.11,
            67.03,
            35.59,
            59.18
           ],
           "y": [
            12.38,
            12.84,
            35.26,
            26.03,
            24.1,
            26.6,
            15.93,
            14.89,
            20.13,
            27.93,
            15.09
           ]
          },
          {
           "hoverinfo": "text",
           "hovertext": [
            "nflId:38553.0<br>displayName:Riley Reiff<br>Position:RT<br>Role:Pass Block",
            "nflId:41262.0<br>displayName:Xavier Su'a-Filo<br>Position:RG<br>Role:Pass Block",
            "nflId:41619.0<br>displayName:Trey Hopkins<br>Position:C<br>Role:Pass Block",
            "nflId:42500.0<br>displayName:C.J. Uzomah<br>Position:TE-L<br>Role:Pass Route",
            "nflId:43045.0<br>displayName:Quinton Spain<br>Position:LG<br>Role:Pass Block",
            "nflId:43344.0<br>displayName:Tyler Boyd<br>Position:SRWR<br>Role:Pass Route",
            "nflId:44860.0<br>displayName:Joe Mixon<br>Position:HB-R<br>Role:Pass Block",
            "nflId:47794.0<br>displayName:Jonah Williams<br>Position:LT<br>Role:Pass Block",
            "nflId:52409.0<br>displayName:Joe Burrow<br>Position:QB<br>Role:Pass",
            "nflId:52441.0<br>displayName:Tee Higgins<br>Position:LWR<br>Role:Pass Route",
            "nflId:53434.0<br>displayName:Ja'Marr Chase<br>Position:RWR<br>Role:Pass Route"
           ],
           "marker": {
            "color": "#FB4F14"
           },
           "mode": "markers",
           "name": "CIN",
           "type": "scatter",
           "x": [
            73.3,
            70.77,
            67.46,
            60.97,
            71.54,
            47.61,
            68.51,
            70.43,
            74.52,
            36.69,
            45.83
           ],
           "y": [
            26.83,
            29.76,
            22.05,
            30.68,
            15.45,
            16.76,
            25.33,
            18.71,
            15.17,
            13.28,
            32.74
           ]
          },
          {
           "hoverinfo": "none",
           "marker": {
            "color": "#CBB67C"
           },
           "mode": "markers",
           "name": "football",
           "type": "scatter",
           "x": [
            74.56
           ],
           "y": [
            15.4
           ]
          }
         ],
         "name": "47"
        },
        {
         "data": [
          {
           "hoverinfo": "none",
           "mode": "text",
           "showlegend": false,
           "text": [
            "10",
            "20",
            "30",
            "40",
            "50",
            "40",
            "30",
            "20",
            "10"
           ],
           "textfont": {
            "color": "#ffffff",
            "family": "Courier New, monospace",
            "size": 30
           },
           "type": "scatter",
           "x": [
            20,
            30,
            40,
            50,
            60,
            70,
            80,
            90,
            100
           ],
           "y": [
            5,
            5,
            5,
            5,
            5,
            5,
            5,
            5,
            5
           ]
          },
          {
           "hoverinfo": "none",
           "mode": "text",
           "showlegend": false,
           "text": [
            "10",
            "20",
            "30",
            "40",
            "50",
            "40",
            "30",
            "20",
            "10"
           ],
           "textfont": {
            "color": "#ffffff",
            "family": "Courier New, monospace",
            "size": 30
           },
           "type": "scatter",
           "x": [
            20,
            30,
            40,
            50,
            60,
            70,
            80,
            90,
            100
           ],
           "y": [
            48.5,
            48.5,
            48.5,
            48.5,
            48.5,
            48.5,
            48.5,
            48.5,
            48.5
           ]
          },
          {
           "hoverinfo": "none",
           "line": {
            "color": "blue",
            "dash": "dash"
           },
           "showlegend": false,
           "type": "scatter",
           "x": [
            62,
            62
           ],
           "y": [
            0,
            53.5
           ]
          },
          {
           "hoverinfo": "none",
           "line": {
            "color": "yellow",
            "dash": "dash"
           },
           "showlegend": false,
           "type": "scatter",
           "x": [
            69,
            69
           ],
           "y": [
            0,
            53.5
           ]
          },
          {
           "hoverinfo": "text",
           "hovertext": [
            "nflId:37078.0<br>displayName:Patrick Peterson<br>Position:RCB<br>Role:Coverage",
            "nflId:38559.0<br>displayName:Harrison Smith<br>Position:RLB<br>Role:Coverage",
            "nflId:41331.0<br>displayName:Bashaud Breeland<br>Position:LCB<br>Role:Coverage",
            "nflId:42388.0<br>displayName:Eric Kendricks<br>Position:LLB<br>Role:Coverage",
            "nflId:42431.0<br>displayName:Danielle Hunter<br>Position:LEO<br>Role:Pass Rush",
            "nflId:43343.0<br>displayName:Mackensie Alexander<br>Position:LOLB<br>Role:Pass Rush",
            "nflId:43376.0<br>displayName:Nick Vigil<br>Position:RILB<br>Role:Pass Rush",
            "nflId:43694.0<br>displayName:Michael Pierce<br>Position:DRT<br>Role:Pass Rush",
            "nflId:44867.0<br>displayName:Dalvin Tomlinson<br>Position:DLT<br>Role:Pass Rush",
            "nflId:45004.0<br>displayName:Xavier Woods<br>Position:FS<br>Role:Coverage",
            "nflId:52525.0<br>displayName:D.J. Wonnum<br>Position:REO<br>Role:Coverage"
           ],
           "marker": {
            "color": "#4F2683"
           },
           "mode": "markers",
           "name": "MIN",
           "type": "scatter",
           "x": [
            35.98,
            38.9,
            43.71,
            52.29,
            74.58,
            74.55,
            74.32,
            75.5,
            67.16,
            35,
            59.46
           ],
           "y": [
            12.72,
            12.6,
            34.62,
            25.82,
            23.72,
            26.15,
            15.86,
            14.69,
            19.85,
            27.72,
            14.83
           ]
          },
          {
           "hoverinfo": "text",
           "hovertext": [
            "nflId:38553.0<br>displayName:Riley Reiff<br>Position:RT<br>Role:Pass Block",
            "nflId:41262.0<br>displayName:Xavier Su'a-Filo<br>Position:RG<br>Role:Pass Block",
            "nflId:41619.0<br>displayName:Trey Hopkins<br>Position:C<br>Role:Pass Block",
            "nflId:42500.0<br>displayName:C.J. Uzomah<br>Position:TE-L<br>Role:Pass Route",
            "nflId:43045.0<br>displayName:Quinton Spain<br>Position:LG<br>Role:Pass Block",
            "nflId:43344.0<br>displayName:Tyler Boyd<br>Position:SRWR<br>Role:Pass Route",
            "nflId:44860.0<br>displayName:Joe Mixon<br>Position:HB-R<br>Role:Pass Block",
            "nflId:47794.0<br>displayName:Jonah Williams<br>Position:LT<br>Role:Pass Block",
            "nflId:52409.0<br>displayName:Joe Burrow<br>Position:QB<br>Role:Pass",
            "nflId:52441.0<br>displayName:Tee Higgins<br>Position:LWR<br>Role:Pass Route",
            "nflId:53434.0<br>displayName:Ja'Marr Chase<br>Position:RWR<br>Role:Pass Route"
           ],
           "marker": {
            "color": "#FB4F14"
           },
           "mode": "markers",
           "name": "CIN",
           "type": "scatter",
           "x": [
            73.32,
            70.84,
            67.6,
            61.26,
            71.86,
            47.59,
            68.67,
            70.77,
            74.68,
            35.9,
            45.81
           ],
           "y": [
            26.89,
            29.7,
            21.86,
            30.88,
            15.31,
            16.03,
            24.98,
            18.59,
            15,
            13.61,
            32.09
           ]
          },
          {
           "hoverinfo": "none",
           "marker": {
            "color": "#CBB67C"
           },
           "mode": "markers",
           "name": "football",
           "type": "scatter",
           "x": [
            74.77
           ],
           "y": [
            15.22
           ]
          }
         ],
         "name": "48"
        },
        {
         "data": [
          {
           "hoverinfo": "none",
           "mode": "text",
           "showlegend": false,
           "text": [
            "10",
            "20",
            "30",
            "40",
            "50",
            "40",
            "30",
            "20",
            "10"
           ],
           "textfont": {
            "color": "#ffffff",
            "family": "Courier New, monospace",
            "size": 30
           },
           "type": "scatter",
           "x": [
            20,
            30,
            40,
            50,
            60,
            70,
            80,
            90,
            100
           ],
           "y": [
            5,
            5,
            5,
            5,
            5,
            5,
            5,
            5,
            5
           ]
          },
          {
           "hoverinfo": "none",
           "mode": "text",
           "showlegend": false,
           "text": [
            "10",
            "20",
            "30",
            "40",
            "50",
            "40",
            "30",
            "20",
            "10"
           ],
           "textfont": {
            "color": "#ffffff",
            "family": "Courier New, monospace",
            "size": 30
           },
           "type": "scatter",
           "x": [
            20,
            30,
            40,
            50,
            60,
            70,
            80,
            90,
            100
           ],
           "y": [
            48.5,
            48.5,
            48.5,
            48.5,
            48.5,
            48.5,
            48.5,
            48.5,
            48.5
           ]
          },
          {
           "hoverinfo": "none",
           "line": {
            "color": "blue",
            "dash": "dash"
           },
           "showlegend": false,
           "type": "scatter",
           "x": [
            62,
            62
           ],
           "y": [
            0,
            53.5
           ]
          },
          {
           "hoverinfo": "none",
           "line": {
            "color": "yellow",
            "dash": "dash"
           },
           "showlegend": false,
           "type": "scatter",
           "x": [
            69,
            69
           ],
           "y": [
            0,
            53.5
           ]
          },
          {
           "hoverinfo": "text",
           "hovertext": [
            "nflId:37078.0<br>displayName:Patrick Peterson<br>Position:RCB<br>Role:Coverage",
            "nflId:38559.0<br>displayName:Harrison Smith<br>Position:RLB<br>Role:Coverage",
            "nflId:41331.0<br>displayName:Bashaud Breeland<br>Position:LCB<br>Role:Coverage",
            "nflId:42388.0<br>displayName:Eric Kendricks<br>Position:LLB<br>Role:Coverage",
            "nflId:42431.0<br>displayName:Danielle Hunter<br>Position:LEO<br>Role:Pass Rush",
            "nflId:43343.0<br>displayName:Mackensie Alexander<br>Position:LOLB<br>Role:Pass Rush",
            "nflId:43376.0<br>displayName:Nick Vigil<br>Position:RILB<br>Role:Pass Rush",
            "nflId:43694.0<br>displayName:Michael Pierce<br>Position:DRT<br>Role:Pass Rush",
            "nflId:44867.0<br>displayName:Dalvin Tomlinson<br>Position:DLT<br>Role:Pass Rush",
            "nflId:45004.0<br>displayName:Xavier Woods<br>Position:FS<br>Role:Coverage",
            "nflId:52525.0<br>displayName:D.J. Wonnum<br>Position:REO<br>Role:Coverage"
           ],
           "marker": {
            "color": "#4F2683"
           },
           "mode": "markers",
           "name": "MIN",
           "type": "scatter",
           "x": [
            35.22,
            38.83,
            43.71,
            52.39,
            74.64,
            74.8,
            74.44,
            75.83,
            67.31,
            34.43,
            59.75
           ],
           "y": [
            13.07,
            12.35,
            33.98,
            25.62,
            23.35,
            25.69,
            15.82,
            14.49,
            19.57,
            27.51,
            14.59
           ]
          },
          {
           "hoverinfo": "text",
           "hovertext": [
            "nflId:38553.0<br>displayName:Riley Reiff<br>Position:RT<br>Role:Pass Block",
            "nflId:41262.0<br>displayName:Xavier Su'a-Filo<br>Position:RG<br>Role:Pass Block",
            "nflId:41619.0<br>displayName:Trey Hopkins<br>Position:C<br>Role:Pass Block",
            "nflId:42500.0<br>displayName:C.J. Uzomah<br>Position:TE-L<br>Role:Pass Route",
            "nflId:43045.0<br>displayName:Quinton Spain<br>Position:LG<br>Role:Pass Block",
            "nflId:43344.0<br>displayName:Tyler Boyd<br>Position:SRWR<br>Role:Pass Route",
            "nflId:44860.0<br>displayName:Joe Mixon<br>Position:HB-R<br>Role:Pass Block",
            "nflId:47794.0<br>displayName:Jonah Williams<br>Position:LT<br>Role:Pass Block",
            "nflId:52409.0<br>displayName:Joe Burrow<br>Position:QB<br>Role:Pass",
            "nflId:52441.0<br>displayName:Tee Higgins<br>Position:LWR<br>Role:Pass Route",
            "nflId:53434.0<br>displayName:Ja'Marr Chase<br>Position:RWR<br>Role:Pass Route"
           ],
           "marker": {
            "color": "#FB4F14"
           },
           "mode": "markers",
           "name": "CIN",
           "type": "scatter",
           "x": [
            73.33,
            70.9,
            67.74,
            61.56,
            72.17,
            47.58,
            68.82,
            71.11,
            74.82,
            35.13,
            45.81
           ],
           "y": [
            26.95,
            29.63,
            21.67,
            31.03,
            15.17,
            15.32,
            24.63,
            18.46,
            14.86,
            13.94,
            31.45
           ]
          },
          {
           "hoverinfo": "none",
           "marker": {
            "color": "#CBB67C"
           },
           "mode": "markers",
           "name": "football",
           "type": "scatter",
           "x": [
            74.98
           ],
           "y": [
            15.08
           ]
          }
         ],
         "name": "49"
        },
        {
         "data": [
          {
           "hoverinfo": "none",
           "mode": "text",
           "showlegend": false,
           "text": [
            "10",
            "20",
            "30",
            "40",
            "50",
            "40",
            "30",
            "20",
            "10"
           ],
           "textfont": {
            "color": "#ffffff",
            "family": "Courier New, monospace",
            "size": 30
           },
           "type": "scatter",
           "x": [
            20,
            30,
            40,
            50,
            60,
            70,
            80,
            90,
            100
           ],
           "y": [
            5,
            5,
            5,
            5,
            5,
            5,
            5,
            5,
            5
           ]
          },
          {
           "hoverinfo": "none",
           "mode": "text",
           "showlegend": false,
           "text": [
            "10",
            "20",
            "30",
            "40",
            "50",
            "40",
            "30",
            "20",
            "10"
           ],
           "textfont": {
            "color": "#ffffff",
            "family": "Courier New, monospace",
            "size": 30
           },
           "type": "scatter",
           "x": [
            20,
            30,
            40,
            50,
            60,
            70,
            80,
            90,
            100
           ],
           "y": [
            48.5,
            48.5,
            48.5,
            48.5,
            48.5,
            48.5,
            48.5,
            48.5,
            48.5
           ]
          },
          {
           "hoverinfo": "none",
           "line": {
            "color": "blue",
            "dash": "dash"
           },
           "showlegend": false,
           "type": "scatter",
           "x": [
            62,
            62
           ],
           "y": [
            0,
            53.5
           ]
          },
          {
           "hoverinfo": "none",
           "line": {
            "color": "yellow",
            "dash": "dash"
           },
           "showlegend": false,
           "type": "scatter",
           "x": [
            69,
            69
           ],
           "y": [
            0,
            53.5
           ]
          },
          {
           "hoverinfo": "text",
           "hovertext": [
            "nflId:37078.0<br>displayName:Patrick Peterson<br>Position:RCB<br>Role:Coverage",
            "nflId:38559.0<br>displayName:Harrison Smith<br>Position:RLB<br>Role:Coverage",
            "nflId:41331.0<br>displayName:Bashaud Breeland<br>Position:LCB<br>Role:Coverage",
            "nflId:42388.0<br>displayName:Eric Kendricks<br>Position:LLB<br>Role:Coverage",
            "nflId:42431.0<br>displayName:Danielle Hunter<br>Position:LEO<br>Role:Pass Rush",
            "nflId:43343.0<br>displayName:Mackensie Alexander<br>Position:LOLB<br>Role:Pass Rush",
            "nflId:43376.0<br>displayName:Nick Vigil<br>Position:RILB<br>Role:Pass Rush",
            "nflId:43694.0<br>displayName:Michael Pierce<br>Position:DRT<br>Role:Pass Rush",
            "nflId:44867.0<br>displayName:Dalvin Tomlinson<br>Position:DLT<br>Role:Pass Rush",
            "nflId:45004.0<br>displayName:Xavier Woods<br>Position:FS<br>Role:Coverage",
            "nflId:52525.0<br>displayName:D.J. Wonnum<br>Position:REO<br>Role:Coverage"
           ],
           "marker": {
            "color": "#4F2683"
           },
           "mode": "markers",
           "name": "MIN",
           "type": "scatter",
           "x": [
            34.45,
            38.83,
            43.75,
            52.5,
            74.67,
            75.04,
            74.57,
            76.11,
            67.47,
            33.88,
            60.09
           ],
           "y": [
            13.41,
            12.08,
            33.34,
            25.44,
            22.98,
            25.22,
            15.82,
            14.3,
            19.3,
            27.3,
            14.37
           ]
          },
          {
           "hoverinfo": "text",
           "hovertext": [
            "nflId:38553.0<br>displayName:Riley Reiff<br>Position:RT<br>Role:Pass Block",
            "nflId:41262.0<br>displayName:Xavier Su'a-Filo<br>Position:RG<br>Role:Pass Block",
            "nflId:41619.0<br>displayName:Trey Hopkins<br>Position:C<br>Role:Pass Block",
            "nflId:42500.0<br>displayName:C.J. Uzomah<br>Position:TE-L<br>Role:Pass Route",
            "nflId:43045.0<br>displayName:Quinton Spain<br>Position:LG<br>Role:Pass Block",
            "nflId:43344.0<br>displayName:Tyler Boyd<br>Position:SRWR<br>Role:Pass Route",
            "nflId:44860.0<br>displayName:Joe Mixon<br>Position:HB-R<br>Role:Pass Block",
            "nflId:47794.0<br>displayName:Jonah Williams<br>Position:LT<br>Role:Pass Block",
            "nflId:52409.0<br>displayName:Joe Burrow<br>Position:QB<br>Role:Pass",
            "nflId:52441.0<br>displayName:Tee Higgins<br>Position:LWR<br>Role:Pass Route",
            "nflId:53434.0<br>displayName:Ja'Marr Chase<br>Position:RWR<br>Role:Pass Route"
           ],
           "marker": {
            "color": "#FB4F14"
           },
           "mode": "markers",
           "name": "CIN",
           "type": "scatter",
           "x": [
            73.35,
            70.96,
            67.9,
            61.86,
            72.47,
            47.57,
            68.97,
            71.45,
            74.97,
            34.39,
            45.81
           ],
           "y": [
            27,
            29.56,
            21.48,
            31.15,
            15.04,
            14.62,
            24.29,
            18.31,
            14.75,
            14.28,
            30.82
           ]
          },
          {
           "hoverinfo": "none",
           "marker": {
            "color": "#CBB67C"
           },
           "mode": "markers",
           "name": "football",
           "type": "scatter",
           "x": [
            75.21
           ],
           "y": [
            14.98
           ]
          }
         ],
         "name": "50"
        },
        {
         "data": [
          {
           "hoverinfo": "none",
           "mode": "text",
           "showlegend": false,
           "text": [
            "10",
            "20",
            "30",
            "40",
            "50",
            "40",
            "30",
            "20",
            "10"
           ],
           "textfont": {
            "color": "#ffffff",
            "family": "Courier New, monospace",
            "size": 30
           },
           "type": "scatter",
           "x": [
            20,
            30,
            40,
            50,
            60,
            70,
            80,
            90,
            100
           ],
           "y": [
            5,
            5,
            5,
            5,
            5,
            5,
            5,
            5,
            5
           ]
          },
          {
           "hoverinfo": "none",
           "mode": "text",
           "showlegend": false,
           "text": [
            "10",
            "20",
            "30",
            "40",
            "50",
            "40",
            "30",
            "20",
            "10"
           ],
           "textfont": {
            "color": "#ffffff",
            "family": "Courier New, monospace",
            "size": 30
           },
           "type": "scatter",
           "x": [
            20,
            30,
            40,
            50,
            60,
            70,
            80,
            90,
            100
           ],
           "y": [
            48.5,
            48.5,
            48.5,
            48.5,
            48.5,
            48.5,
            48.5,
            48.5,
            48.5
           ]
          },
          {
           "hoverinfo": "none",
           "line": {
            "color": "blue",
            "dash": "dash"
           },
           "showlegend": false,
           "type": "scatter",
           "x": [
            62,
            62
           ],
           "y": [
            0,
            53.5
           ]
          },
          {
           "hoverinfo": "none",
           "line": {
            "color": "yellow",
            "dash": "dash"
           },
           "showlegend": false,
           "type": "scatter",
           "x": [
            69,
            69
           ],
           "y": [
            0,
            53.5
           ]
          },
          {
           "hoverinfo": "text",
           "hovertext": [
            "nflId:37078.0<br>displayName:Patrick Peterson<br>Position:RCB<br>Role:Coverage",
            "nflId:38559.0<br>displayName:Harrison Smith<br>Position:RLB<br>Role:Coverage",
            "nflId:41331.0<br>displayName:Bashaud Breeland<br>Position:LCB<br>Role:Coverage",
            "nflId:42388.0<br>displayName:Eric Kendricks<br>Position:LLB<br>Role:Coverage",
            "nflId:42431.0<br>displayName:Danielle Hunter<br>Position:LEO<br>Role:Pass Rush",
            "nflId:43343.0<br>displayName:Mackensie Alexander<br>Position:LOLB<br>Role:Pass Rush",
            "nflId:43376.0<br>displayName:Nick Vigil<br>Position:RILB<br>Role:Pass Rush",
            "nflId:43694.0<br>displayName:Michael Pierce<br>Position:DRT<br>Role:Pass Rush",
            "nflId:44867.0<br>displayName:Dalvin Tomlinson<br>Position:DLT<br>Role:Pass Rush",
            "nflId:45004.0<br>displayName:Xavier Woods<br>Position:FS<br>Role:Coverage",
            "nflId:52525.0<br>displayName:D.J. Wonnum<br>Position:REO<br>Role:Coverage"
           ],
           "marker": {
            "color": "#4F2683"
           },
           "mode": "markers",
           "name": "MIN",
           "type": "scatter",
           "x": [
            33.7,
            38.9,
            43.8,
            52.61,
            74.72,
            75.26,
            74.7,
            76.36,
            67.64,
            33.35,
            60.42
           ],
           "y": [
            13.76,
            11.79,
            32.72,
            25.27,
            22.6,
            24.74,
            15.86,
            14.12,
            19.04,
            27.1,
            14.15
           ]
          },
          {
           "hoverinfo": "text",
           "hovertext": [
            "nflId:38553.0<br>displayName:Riley Reiff<br>Position:RT<br>Role:Pass Block",
            "nflId:41262.0<br>displayName:Xavier Su'a-Filo<br>Position:RG<br>Role:Pass Block",
            "nflId:41619.0<br>displayName:Trey Hopkins<br>Position:C<br>Role:Pass Block",
            "nflId:42500.0<br>displayName:C.J. Uzomah<br>Position:TE-L<br>Role:Pass Route",
            "nflId:43045.0<br>displayName:Quinton Spain<br>Position:LG<br>Role:Pass Block",
            "nflId:43344.0<br>displayName:Tyler Boyd<br>Position:SRWR<br>Role:Pass Route",
            "nflId:44860.0<br>displayName:Joe Mixon<br>Position:HB-R<br>Role:Pass Block",
            "nflId:47794.0<br>displayName:Jonah Williams<br>Position:LT<br>Role:Pass Block",
            "nflId:52409.0<br>displayName:Joe Burrow<br>Position:QB<br>Role:Pass",
            "nflId:52441.0<br>displayName:Tee Higgins<br>Position:LWR<br>Role:Pass Route",
            "nflId:53434.0<br>displayName:Ja'Marr Chase<br>Position:RWR<br>Role:Pass Route"
           ],
           "marker": {
            "color": "#FB4F14"
           },
           "mode": "markers",
           "name": "CIN",
           "type": "scatter",
           "x": [
            73.36,
            71.03,
            68.06,
            62.17,
            72.76,
            47.57,
            69.11,
            71.79,
            75.12,
            33.67,
            45.83
           ],
           "y": [
            27.04,
            29.46,
            21.31,
            31.25,
            14.92,
            13.93,
            23.96,
            18.14,
            14.68,
            14.61,
            30.21
           ]
          },
          {
           "hoverinfo": "none",
           "marker": {
            "color": "#CBB67C"
           },
           "mode": "markers",
           "name": "football",
           "type": "scatter",
           "x": [
            75.44
           ],
           "y": [
            14.91
           ]
          }
         ],
         "name": "51"
        },
        {
         "data": [
          {
           "hoverinfo": "none",
           "mode": "text",
           "showlegend": false,
           "text": [
            "10",
            "20",
            "30",
            "40",
            "50",
            "40",
            "30",
            "20",
            "10"
           ],
           "textfont": {
            "color": "#ffffff",
            "family": "Courier New, monospace",
            "size": 30
           },
           "type": "scatter",
           "x": [
            20,
            30,
            40,
            50,
            60,
            70,
            80,
            90,
            100
           ],
           "y": [
            5,
            5,
            5,
            5,
            5,
            5,
            5,
            5,
            5
           ]
          },
          {
           "hoverinfo": "none",
           "mode": "text",
           "showlegend": false,
           "text": [
            "10",
            "20",
            "30",
            "40",
            "50",
            "40",
            "30",
            "20",
            "10"
           ],
           "textfont": {
            "color": "#ffffff",
            "family": "Courier New, monospace",
            "size": 30
           },
           "type": "scatter",
           "x": [
            20,
            30,
            40,
            50,
            60,
            70,
            80,
            90,
            100
           ],
           "y": [
            48.5,
            48.5,
            48.5,
            48.5,
            48.5,
            48.5,
            48.5,
            48.5,
            48.5
           ]
          },
          {
           "hoverinfo": "none",
           "line": {
            "color": "blue",
            "dash": "dash"
           },
           "showlegend": false,
           "type": "scatter",
           "x": [
            62,
            62
           ],
           "y": [
            0,
            53.5
           ]
          },
          {
           "hoverinfo": "none",
           "line": {
            "color": "yellow",
            "dash": "dash"
           },
           "showlegend": false,
           "type": "scatter",
           "x": [
            69,
            69
           ],
           "y": [
            0,
            53.5
           ]
          },
          {
           "hoverinfo": "text",
           "hovertext": [
            "nflId:37078.0<br>displayName:Patrick Peterson<br>Position:RCB<br>Role:Coverage",
            "nflId:38559.0<br>displayName:Harrison Smith<br>Position:RLB<br>Role:Coverage",
            "nflId:41331.0<br>displayName:Bashaud Breeland<br>Position:LCB<br>Role:Coverage",
            "nflId:42388.0<br>displayName:Eric Kendricks<br>Position:LLB<br>Role:Coverage",
            "nflId:42431.0<br>displayName:Danielle Hunter<br>Position:LEO<br>Role:Pass Rush",
            "nflId:43343.0<br>displayName:Mackensie Alexander<br>Position:LOLB<br>Role:Pass Rush",
            "nflId:43376.0<br>displayName:Nick Vigil<br>Position:RILB<br>Role:Pass Rush",
            "nflId:43694.0<br>displayName:Michael Pierce<br>Position:DRT<br>Role:Pass Rush",
            "nflId:44867.0<br>displayName:Dalvin Tomlinson<br>Position:DLT<br>Role:Pass Rush",
            "nflId:45004.0<br>displayName:Xavier Woods<br>Position:FS<br>Role:Coverage",
            "nflId:52525.0<br>displayName:D.J. Wonnum<br>Position:REO<br>Role:Coverage"
           ],
           "marker": {
            "color": "#4F2683"
           },
           "mode": "markers",
           "name": "MIN",
           "type": "scatter",
           "x": [
            32.97,
            39.02,
            43.89,
            52.72,
            74.76,
            75.46,
            74.83,
            76.55,
            67.83,
            32.83,
            60.76
           ],
           "y": [
            14.1,
            11.5,
            32.12,
            25.11,
            22.23,
            24.25,
            15.92,
            13.95,
            18.79,
            26.9,
            13.94
           ]
          },
          {
           "hoverinfo": "text",
           "hovertext": [
            "nflId:38553.0<br>displayName:Riley Reiff<br>Position:RT<br>Role:Pass Block",
            "nflId:41262.0<br>displayName:Xavier Su'a-Filo<br>Position:RG<br>Role:Pass Block",
            "nflId:41619.0<br>displayName:Trey Hopkins<br>Position:C<br>Role:Pass Block",
            "nflId:42500.0<br>displayName:C.J. Uzomah<br>Position:TE-L<br>Role:Pass Route",
            "nflId:43045.0<br>displayName:Quinton Spain<br>Position:LG<br>Role:Pass Block",
            "nflId:43344.0<br>displayName:Tyler Boyd<br>Position:SRWR<br>Role:Pass Route",
            "nflId:44860.0<br>displayName:Joe Mixon<br>Position:HB-R<br>Role:Pass Block",
            "nflId:47794.0<br>displayName:Jonah Williams<br>Position:LT<br>Role:Pass Block",
            "nflId:52409.0<br>displayName:Joe Burrow<br>Position:QB<br>Role:Pass",
            "nflId:52441.0<br>displayName:Tee Higgins<br>Position:LWR<br>Role:Pass Route",
            "nflId:53434.0<br>displayName:Ja'Marr Chase<br>Position:RWR<br>Role:Pass Route"
           ],
           "marker": {
            "color": "#FB4F14"
           },
           "mode": "markers",
           "name": "CIN",
           "type": "scatter",
           "x": [
            73.37,
            71.09,
            68.24,
            62.48,
            73.03,
            47.57,
            69.26,
            72.13,
            75.28,
            32.97,
            45.86
           ],
           "y": [
            27.07,
            29.37,
            21.12,
            31.33,
            14.81,
            13.27,
            23.64,
            17.97,
            14.62,
            14.95,
            29.61
           ]
          },
          {
           "hoverinfo": "none",
           "marker": {
            "color": "#CBB67C"
           },
           "mode": "markers",
           "name": "football",
           "type": "scatter",
           "x": [
            75.67
           ],
           "y": [
            14.86
           ]
          }
         ],
         "name": "52"
        }
       ],
       "layout": {
        "annotations": [
         {
          "align": "center",
          "bgcolor": "#ff7f0e",
          "bordercolor": "black",
          "borderpad": 4,
          "borderwidth": 2,
          "font": {
           "color": "black",
           "family": "Courier New, monospace",
           "size": 16
          },
          "opacity": 1,
          "showarrow": false,
          "text": "2",
          "x": 69,
          "y": 0
         },
         {
          "align": "center",
          "bgcolor": "#ff7f0e",
          "bordercolor": "black",
          "borderpad": 4,
          "borderwidth": 2,
          "font": {
           "color": "black",
           "family": "Courier New, monospace",
           "size": 16
          },
          "opacity": 1,
          "showarrow": false,
          "text": "2",
          "x": 69,
          "y": 53
         }
        ],
        "autosize": false,
        "height": 600,
        "plot_bgcolor": "#00B140",
        "sliders": [
         {
          "active": 0,
          "currentvalue": {
           "font": {
            "size": 20
           },
           "prefix": "Frame:",
           "visible": true,
           "xanchor": "right"
          },
          "len": 0.9,
          "pad": {
           "b": 10,
           "t": 50
          },
          "steps": [
           {
            "args": [
             [
              1
             ],
             {
              "frame": {
               "duration": 100,
               "redraw": false
              },
              "mode": "immediate",
              "transition": {
               "duration": 0
              }
             }
            ],
            "label": "1",
            "method": "animate"
           },
           {
            "args": [
             [
              2
             ],
             {
              "frame": {
               "duration": 100,
               "redraw": false
              },
              "mode": "immediate",
              "transition": {
               "duration": 0
              }
             }
            ],
            "label": "2",
            "method": "animate"
           },
           {
            "args": [
             [
              3
             ],
             {
              "frame": {
               "duration": 100,
               "redraw": false
              },
              "mode": "immediate",
              "transition": {
               "duration": 0
              }
             }
            ],
            "label": "3",
            "method": "animate"
           },
           {
            "args": [
             [
              4
             ],
             {
              "frame": {
               "duration": 100,
               "redraw": false
              },
              "mode": "immediate",
              "transition": {
               "duration": 0
              }
             }
            ],
            "label": "4",
            "method": "animate"
           },
           {
            "args": [
             [
              5
             ],
             {
              "frame": {
               "duration": 100,
               "redraw": false
              },
              "mode": "immediate",
              "transition": {
               "duration": 0
              }
             }
            ],
            "label": "5",
            "method": "animate"
           },
           {
            "args": [
             [
              6
             ],
             {
              "frame": {
               "duration": 100,
               "redraw": false
              },
              "mode": "immediate",
              "transition": {
               "duration": 0
              }
             }
            ],
            "label": "6",
            "method": "animate"
           },
           {
            "args": [
             [
              7
             ],
             {
              "frame": {
               "duration": 100,
               "redraw": false
              },
              "mode": "immediate",
              "transition": {
               "duration": 0
              }
             }
            ],
            "label": "7",
            "method": "animate"
           },
           {
            "args": [
             [
              8
             ],
             {
              "frame": {
               "duration": 100,
               "redraw": false
              },
              "mode": "immediate",
              "transition": {
               "duration": 0
              }
             }
            ],
            "label": "8",
            "method": "animate"
           },
           {
            "args": [
             [
              9
             ],
             {
              "frame": {
               "duration": 100,
               "redraw": false
              },
              "mode": "immediate",
              "transition": {
               "duration": 0
              }
             }
            ],
            "label": "9",
            "method": "animate"
           },
           {
            "args": [
             [
              10
             ],
             {
              "frame": {
               "duration": 100,
               "redraw": false
              },
              "mode": "immediate",
              "transition": {
               "duration": 0
              }
             }
            ],
            "label": "10",
            "method": "animate"
           },
           {
            "args": [
             [
              11
             ],
             {
              "frame": {
               "duration": 100,
               "redraw": false
              },
              "mode": "immediate",
              "transition": {
               "duration": 0
              }
             }
            ],
            "label": "11",
            "method": "animate"
           },
           {
            "args": [
             [
              12
             ],
             {
              "frame": {
               "duration": 100,
               "redraw": false
              },
              "mode": "immediate",
              "transition": {
               "duration": 0
              }
             }
            ],
            "label": "12",
            "method": "animate"
           },
           {
            "args": [
             [
              13
             ],
             {
              "frame": {
               "duration": 100,
               "redraw": false
              },
              "mode": "immediate",
              "transition": {
               "duration": 0
              }
             }
            ],
            "label": "13",
            "method": "animate"
           },
           {
            "args": [
             [
              14
             ],
             {
              "frame": {
               "duration": 100,
               "redraw": false
              },
              "mode": "immediate",
              "transition": {
               "duration": 0
              }
             }
            ],
            "label": "14",
            "method": "animate"
           },
           {
            "args": [
             [
              15
             ],
             {
              "frame": {
               "duration": 100,
               "redraw": false
              },
              "mode": "immediate",
              "transition": {
               "duration": 0
              }
             }
            ],
            "label": "15",
            "method": "animate"
           },
           {
            "args": [
             [
              16
             ],
             {
              "frame": {
               "duration": 100,
               "redraw": false
              },
              "mode": "immediate",
              "transition": {
               "duration": 0
              }
             }
            ],
            "label": "16",
            "method": "animate"
           },
           {
            "args": [
             [
              17
             ],
             {
              "frame": {
               "duration": 100,
               "redraw": false
              },
              "mode": "immediate",
              "transition": {
               "duration": 0
              }
             }
            ],
            "label": "17",
            "method": "animate"
           },
           {
            "args": [
             [
              18
             ],
             {
              "frame": {
               "duration": 100,
               "redraw": false
              },
              "mode": "immediate",
              "transition": {
               "duration": 0
              }
             }
            ],
            "label": "18",
            "method": "animate"
           },
           {
            "args": [
             [
              19
             ],
             {
              "frame": {
               "duration": 100,
               "redraw": false
              },
              "mode": "immediate",
              "transition": {
               "duration": 0
              }
             }
            ],
            "label": "19",
            "method": "animate"
           },
           {
            "args": [
             [
              20
             ],
             {
              "frame": {
               "duration": 100,
               "redraw": false
              },
              "mode": "immediate",
              "transition": {
               "duration": 0
              }
             }
            ],
            "label": "20",
            "method": "animate"
           },
           {
            "args": [
             [
              21
             ],
             {
              "frame": {
               "duration": 100,
               "redraw": false
              },
              "mode": "immediate",
              "transition": {
               "duration": 0
              }
             }
            ],
            "label": "21",
            "method": "animate"
           },
           {
            "args": [
             [
              22
             ],
             {
              "frame": {
               "duration": 100,
               "redraw": false
              },
              "mode": "immediate",
              "transition": {
               "duration": 0
              }
             }
            ],
            "label": "22",
            "method": "animate"
           },
           {
            "args": [
             [
              23
             ],
             {
              "frame": {
               "duration": 100,
               "redraw": false
              },
              "mode": "immediate",
              "transition": {
               "duration": 0
              }
             }
            ],
            "label": "23",
            "method": "animate"
           },
           {
            "args": [
             [
              24
             ],
             {
              "frame": {
               "duration": 100,
               "redraw": false
              },
              "mode": "immediate",
              "transition": {
               "duration": 0
              }
             }
            ],
            "label": "24",
            "method": "animate"
           },
           {
            "args": [
             [
              25
             ],
             {
              "frame": {
               "duration": 100,
               "redraw": false
              },
              "mode": "immediate",
              "transition": {
               "duration": 0
              }
             }
            ],
            "label": "25",
            "method": "animate"
           },
           {
            "args": [
             [
              26
             ],
             {
              "frame": {
               "duration": 100,
               "redraw": false
              },
              "mode": "immediate",
              "transition": {
               "duration": 0
              }
             }
            ],
            "label": "26",
            "method": "animate"
           },
           {
            "args": [
             [
              27
             ],
             {
              "frame": {
               "duration": 100,
               "redraw": false
              },
              "mode": "immediate",
              "transition": {
               "duration": 0
              }
             }
            ],
            "label": "27",
            "method": "animate"
           },
           {
            "args": [
             [
              28
             ],
             {
              "frame": {
               "duration": 100,
               "redraw": false
              },
              "mode": "immediate",
              "transition": {
               "duration": 0
              }
             }
            ],
            "label": "28",
            "method": "animate"
           },
           {
            "args": [
             [
              29
             ],
             {
              "frame": {
               "duration": 100,
               "redraw": false
              },
              "mode": "immediate",
              "transition": {
               "duration": 0
              }
             }
            ],
            "label": "29",
            "method": "animate"
           },
           {
            "args": [
             [
              30
             ],
             {
              "frame": {
               "duration": 100,
               "redraw": false
              },
              "mode": "immediate",
              "transition": {
               "duration": 0
              }
             }
            ],
            "label": "30",
            "method": "animate"
           },
           {
            "args": [
             [
              31
             ],
             {
              "frame": {
               "duration": 100,
               "redraw": false
              },
              "mode": "immediate",
              "transition": {
               "duration": 0
              }
             }
            ],
            "label": "31",
            "method": "animate"
           },
           {
            "args": [
             [
              32
             ],
             {
              "frame": {
               "duration": 100,
               "redraw": false
              },
              "mode": "immediate",
              "transition": {
               "duration": 0
              }
             }
            ],
            "label": "32",
            "method": "animate"
           },
           {
            "args": [
             [
              33
             ],
             {
              "frame": {
               "duration": 100,
               "redraw": false
              },
              "mode": "immediate",
              "transition": {
               "duration": 0
              }
             }
            ],
            "label": "33",
            "method": "animate"
           },
           {
            "args": [
             [
              34
             ],
             {
              "frame": {
               "duration": 100,
               "redraw": false
              },
              "mode": "immediate",
              "transition": {
               "duration": 0
              }
             }
            ],
            "label": "34",
            "method": "animate"
           },
           {
            "args": [
             [
              35
             ],
             {
              "frame": {
               "duration": 100,
               "redraw": false
              },
              "mode": "immediate",
              "transition": {
               "duration": 0
              }
             }
            ],
            "label": "35",
            "method": "animate"
           },
           {
            "args": [
             [
              36
             ],
             {
              "frame": {
               "duration": 100,
               "redraw": false
              },
              "mode": "immediate",
              "transition": {
               "duration": 0
              }
             }
            ],
            "label": "36",
            "method": "animate"
           },
           {
            "args": [
             [
              37
             ],
             {
              "frame": {
               "duration": 100,
               "redraw": false
              },
              "mode": "immediate",
              "transition": {
               "duration": 0
              }
             }
            ],
            "label": "37",
            "method": "animate"
           },
           {
            "args": [
             [
              38
             ],
             {
              "frame": {
               "duration": 100,
               "redraw": false
              },
              "mode": "immediate",
              "transition": {
               "duration": 0
              }
             }
            ],
            "label": "38",
            "method": "animate"
           },
           {
            "args": [
             [
              39
             ],
             {
              "frame": {
               "duration": 100,
               "redraw": false
              },
              "mode": "immediate",
              "transition": {
               "duration": 0
              }
             }
            ],
            "label": "39",
            "method": "animate"
           },
           {
            "args": [
             [
              40
             ],
             {
              "frame": {
               "duration": 100,
               "redraw": false
              },
              "mode": "immediate",
              "transition": {
               "duration": 0
              }
             }
            ],
            "label": "40",
            "method": "animate"
           },
           {
            "args": [
             [
              41
             ],
             {
              "frame": {
               "duration": 100,
               "redraw": false
              },
              "mode": "immediate",
              "transition": {
               "duration": 0
              }
             }
            ],
            "label": "41",
            "method": "animate"
           },
           {
            "args": [
             [
              42
             ],
             {
              "frame": {
               "duration": 100,
               "redraw": false
              },
              "mode": "immediate",
              "transition": {
               "duration": 0
              }
             }
            ],
            "label": "42",
            "method": "animate"
           },
           {
            "args": [
             [
              43
             ],
             {
              "frame": {
               "duration": 100,
               "redraw": false
              },
              "mode": "immediate",
              "transition": {
               "duration": 0
              }
             }
            ],
            "label": "43",
            "method": "animate"
           },
           {
            "args": [
             [
              44
             ],
             {
              "frame": {
               "duration": 100,
               "redraw": false
              },
              "mode": "immediate",
              "transition": {
               "duration": 0
              }
             }
            ],
            "label": "44",
            "method": "animate"
           },
           {
            "args": [
             [
              45
             ],
             {
              "frame": {
               "duration": 100,
               "redraw": false
              },
              "mode": "immediate",
              "transition": {
               "duration": 0
              }
             }
            ],
            "label": "45",
            "method": "animate"
           },
           {
            "args": [
             [
              46
             ],
             {
              "frame": {
               "duration": 100,
               "redraw": false
              },
              "mode": "immediate",
              "transition": {
               "duration": 0
              }
             }
            ],
            "label": "46",
            "method": "animate"
           },
           {
            "args": [
             [
              47
             ],
             {
              "frame": {
               "duration": 100,
               "redraw": false
              },
              "mode": "immediate",
              "transition": {
               "duration": 0
              }
             }
            ],
            "label": "47",
            "method": "animate"
           },
           {
            "args": [
             [
              48
             ],
             {
              "frame": {
               "duration": 100,
               "redraw": false
              },
              "mode": "immediate",
              "transition": {
               "duration": 0
              }
             }
            ],
            "label": "48",
            "method": "animate"
           },
           {
            "args": [
             [
              49
             ],
             {
              "frame": {
               "duration": 100,
               "redraw": false
              },
              "mode": "immediate",
              "transition": {
               "duration": 0
              }
             }
            ],
            "label": "49",
            "method": "animate"
           },
           {
            "args": [
             [
              50
             ],
             {
              "frame": {
               "duration": 100,
               "redraw": false
              },
              "mode": "immediate",
              "transition": {
               "duration": 0
              }
             }
            ],
            "label": "50",
            "method": "animate"
           },
           {
            "args": [
             [
              51
             ],
             {
              "frame": {
               "duration": 100,
               "redraw": false
              },
              "mode": "immediate",
              "transition": {
               "duration": 0
              }
             }
            ],
            "label": "51",
            "method": "animate"
           },
           {
            "args": [
             [
              52
             ],
             {
              "frame": {
               "duration": 100,
               "redraw": false
              },
              "mode": "immediate",
              "transition": {
               "duration": 0
              }
             }
            ],
            "label": "52",
            "method": "animate"
           }
          ],
          "transition": {
           "duration": 300,
           "easing": "cubic-in-out"
          },
          "x": 0.1,
          "xanchor": "left",
          "y": 0,
          "yanchor": "top"
         }
        ],
        "template": {
         "data": {
          "bar": [
           {
            "error_x": {
             "color": "#2a3f5f"
            },
            "error_y": {
             "color": "#2a3f5f"
            },
            "marker": {
             "line": {
              "color": "#E5ECF6",
              "width": 0.5
             },
             "pattern": {
              "fillmode": "overlay",
              "size": 10,
              "solidity": 0.2
             }
            },
            "type": "bar"
           }
          ],
          "barpolar": [
           {
            "marker": {
             "line": {
              "color": "#E5ECF6",
              "width": 0.5
             },
             "pattern": {
              "fillmode": "overlay",
              "size": 10,
              "solidity": 0.2
             }
            },
            "type": "barpolar"
           }
          ],
          "carpet": [
           {
            "aaxis": {
             "endlinecolor": "#2a3f5f",
             "gridcolor": "white",
             "linecolor": "white",
             "minorgridcolor": "white",
             "startlinecolor": "#2a3f5f"
            },
            "baxis": {
             "endlinecolor": "#2a3f5f",
             "gridcolor": "white",
             "linecolor": "white",
             "minorgridcolor": "white",
             "startlinecolor": "#2a3f5f"
            },
            "type": "carpet"
           }
          ],
          "choropleth": [
           {
            "colorbar": {
             "outlinewidth": 0,
             "ticks": ""
            },
            "type": "choropleth"
           }
          ],
          "contour": [
           {
            "colorbar": {
             "outlinewidth": 0,
             "ticks": ""
            },
            "colorscale": [
             [
              0,
              "#0d0887"
             ],
             [
              0.1111111111111111,
              "#46039f"
             ],
             [
              0.2222222222222222,
              "#7201a8"
             ],
             [
              0.3333333333333333,
              "#9c179e"
             ],
             [
              0.4444444444444444,
              "#bd3786"
             ],
             [
              0.5555555555555556,
              "#d8576b"
             ],
             [
              0.6666666666666666,
              "#ed7953"
             ],
             [
              0.7777777777777778,
              "#fb9f3a"
             ],
             [
              0.8888888888888888,
              "#fdca26"
             ],
             [
              1,
              "#f0f921"
             ]
            ],
            "type": "contour"
           }
          ],
          "contourcarpet": [
           {
            "colorbar": {
             "outlinewidth": 0,
             "ticks": ""
            },
            "type": "contourcarpet"
           }
          ],
          "heatmap": [
           {
            "colorbar": {
             "outlinewidth": 0,
             "ticks": ""
            },
            "colorscale": [
             [
              0,
              "#0d0887"
             ],
             [
              0.1111111111111111,
              "#46039f"
             ],
             [
              0.2222222222222222,
              "#7201a8"
             ],
             [
              0.3333333333333333,
              "#9c179e"
             ],
             [
              0.4444444444444444,
              "#bd3786"
             ],
             [
              0.5555555555555556,
              "#d8576b"
             ],
             [
              0.6666666666666666,
              "#ed7953"
             ],
             [
              0.7777777777777778,
              "#fb9f3a"
             ],
             [
              0.8888888888888888,
              "#fdca26"
             ],
             [
              1,
              "#f0f921"
             ]
            ],
            "type": "heatmap"
           }
          ],
          "heatmapgl": [
           {
            "colorbar": {
             "outlinewidth": 0,
             "ticks": ""
            },
            "colorscale": [
             [
              0,
              "#0d0887"
             ],
             [
              0.1111111111111111,
              "#46039f"
             ],
             [
              0.2222222222222222,
              "#7201a8"
             ],
             [
              0.3333333333333333,
              "#9c179e"
             ],
             [
              0.4444444444444444,
              "#bd3786"
             ],
             [
              0.5555555555555556,
              "#d8576b"
             ],
             [
              0.6666666666666666,
              "#ed7953"
             ],
             [
              0.7777777777777778,
              "#fb9f3a"
             ],
             [
              0.8888888888888888,
              "#fdca26"
             ],
             [
              1,
              "#f0f921"
             ]
            ],
            "type": "heatmapgl"
           }
          ],
          "histogram": [
           {
            "marker": {
             "pattern": {
              "fillmode": "overlay",
              "size": 10,
              "solidity": 0.2
             }
            },
            "type": "histogram"
           }
          ],
          "histogram2d": [
           {
            "colorbar": {
             "outlinewidth": 0,
             "ticks": ""
            },
            "colorscale": [
             [
              0,
              "#0d0887"
             ],
             [
              0.1111111111111111,
              "#46039f"
             ],
             [
              0.2222222222222222,
              "#7201a8"
             ],
             [
              0.3333333333333333,
              "#9c179e"
             ],
             [
              0.4444444444444444,
              "#bd3786"
             ],
             [
              0.5555555555555556,
              "#d8576b"
             ],
             [
              0.6666666666666666,
              "#ed7953"
             ],
             [
              0.7777777777777778,
              "#fb9f3a"
             ],
             [
              0.8888888888888888,
              "#fdca26"
             ],
             [
              1,
              "#f0f921"
             ]
            ],
            "type": "histogram2d"
           }
          ],
          "histogram2dcontour": [
           {
            "colorbar": {
             "outlinewidth": 0,
             "ticks": ""
            },
            "colorscale": [
             [
              0,
              "#0d0887"
             ],
             [
              0.1111111111111111,
              "#46039f"
             ],
             [
              0.2222222222222222,
              "#7201a8"
             ],
             [
              0.3333333333333333,
              "#9c179e"
             ],
             [
              0.4444444444444444,
              "#bd3786"
             ],
             [
              0.5555555555555556,
              "#d8576b"
             ],
             [
              0.6666666666666666,
              "#ed7953"
             ],
             [
              0.7777777777777778,
              "#fb9f3a"
             ],
             [
              0.8888888888888888,
              "#fdca26"
             ],
             [
              1,
              "#f0f921"
             ]
            ],
            "type": "histogram2dcontour"
           }
          ],
          "mesh3d": [
           {
            "colorbar": {
             "outlinewidth": 0,
             "ticks": ""
            },
            "type": "mesh3d"
           }
          ],
          "parcoords": [
           {
            "line": {
             "colorbar": {
              "outlinewidth": 0,
              "ticks": ""
             }
            },
            "type": "parcoords"
           }
          ],
          "pie": [
           {
            "automargin": true,
            "type": "pie"
           }
          ],
          "scatter": [
           {
            "fillpattern": {
             "fillmode": "overlay",
             "size": 10,
             "solidity": 0.2
            },
            "type": "scatter"
           }
          ],
          "scatter3d": [
           {
            "line": {
             "colorbar": {
              "outlinewidth": 0,
              "ticks": ""
             }
            },
            "marker": {
             "colorbar": {
              "outlinewidth": 0,
              "ticks": ""
             }
            },
            "type": "scatter3d"
           }
          ],
          "scattercarpet": [
           {
            "marker": {
             "colorbar": {
              "outlinewidth": 0,
              "ticks": ""
             }
            },
            "type": "scattercarpet"
           }
          ],
          "scattergeo": [
           {
            "marker": {
             "colorbar": {
              "outlinewidth": 0,
              "ticks": ""
             }
            },
            "type": "scattergeo"
           }
          ],
          "scattergl": [
           {
            "marker": {
             "colorbar": {
              "outlinewidth": 0,
              "ticks": ""
             }
            },
            "type": "scattergl"
           }
          ],
          "scattermapbox": [
           {
            "marker": {
             "colorbar": {
              "outlinewidth": 0,
              "ticks": ""
             }
            },
            "type": "scattermapbox"
           }
          ],
          "scatterpolar": [
           {
            "marker": {
             "colorbar": {
              "outlinewidth": 0,
              "ticks": ""
             }
            },
            "type": "scatterpolar"
           }
          ],
          "scatterpolargl": [
           {
            "marker": {
             "colorbar": {
              "outlinewidth": 0,
              "ticks": ""
             }
            },
            "type": "scatterpolargl"
           }
          ],
          "scatterternary": [
           {
            "marker": {
             "colorbar": {
              "outlinewidth": 0,
              "ticks": ""
             }
            },
            "type": "scatterternary"
           }
          ],
          "surface": [
           {
            "colorbar": {
             "outlinewidth": 0,
             "ticks": ""
            },
            "colorscale": [
             [
              0,
              "#0d0887"
             ],
             [
              0.1111111111111111,
              "#46039f"
             ],
             [
              0.2222222222222222,
              "#7201a8"
             ],
             [
              0.3333333333333333,
              "#9c179e"
             ],
             [
              0.4444444444444444,
              "#bd3786"
             ],
             [
              0.5555555555555556,
              "#d8576b"
             ],
             [
              0.6666666666666666,
              "#ed7953"
             ],
             [
              0.7777777777777778,
              "#fb9f3a"
             ],
             [
              0.8888888888888888,
              "#fdca26"
             ],
             [
              1,
              "#f0f921"
             ]
            ],
            "type": "surface"
           }
          ],
          "table": [
           {
            "cells": {
             "fill": {
              "color": "#EBF0F8"
             },
             "line": {
              "color": "white"
             }
            },
            "header": {
             "fill": {
              "color": "#C8D4E3"
             },
             "line": {
              "color": "white"
             }
            },
            "type": "table"
           }
          ]
         },
         "layout": {
          "annotationdefaults": {
           "arrowcolor": "#2a3f5f",
           "arrowhead": 0,
           "arrowwidth": 1
          },
          "autotypenumbers": "strict",
          "coloraxis": {
           "colorbar": {
            "outlinewidth": 0,
            "ticks": ""
           }
          },
          "colorscale": {
           "diverging": [
            [
             0,
             "#8e0152"
            ],
            [
             0.1,
             "#c51b7d"
            ],
            [
             0.2,
             "#de77ae"
            ],
            [
             0.3,
             "#f1b6da"
            ],
            [
             0.4,
             "#fde0ef"
            ],
            [
             0.5,
             "#f7f7f7"
            ],
            [
             0.6,
             "#e6f5d0"
            ],
            [
             0.7,
             "#b8e186"
            ],
            [
             0.8,
             "#7fbc41"
            ],
            [
             0.9,
             "#4d9221"
            ],
            [
             1,
             "#276419"
            ]
           ],
           "sequential": [
            [
             0,
             "#0d0887"
            ],
            [
             0.1111111111111111,
             "#46039f"
            ],
            [
             0.2222222222222222,
             "#7201a8"
            ],
            [
             0.3333333333333333,
             "#9c179e"
            ],
            [
             0.4444444444444444,
             "#bd3786"
            ],
            [
             0.5555555555555556,
             "#d8576b"
            ],
            [
             0.6666666666666666,
             "#ed7953"
            ],
            [
             0.7777777777777778,
             "#fb9f3a"
            ],
            [
             0.8888888888888888,
             "#fdca26"
            ],
            [
             1,
             "#f0f921"
            ]
           ],
           "sequentialminus": [
            [
             0,
             "#0d0887"
            ],
            [
             0.1111111111111111,
             "#46039f"
            ],
            [
             0.2222222222222222,
             "#7201a8"
            ],
            [
             0.3333333333333333,
             "#9c179e"
            ],
            [
             0.4444444444444444,
             "#bd3786"
            ],
            [
             0.5555555555555556,
             "#d8576b"
            ],
            [
             0.6666666666666666,
             "#ed7953"
            ],
            [
             0.7777777777777778,
             "#fb9f3a"
            ],
            [
             0.8888888888888888,
             "#fdca26"
            ],
            [
             1,
             "#f0f921"
            ]
           ]
          },
          "colorway": [
           "#636efa",
           "#EF553B",
           "#00cc96",
           "#ab63fa",
           "#FFA15A",
           "#19d3f3",
           "#FF6692",
           "#B6E880",
           "#FF97FF",
           "#FECB52"
          ],
          "font": {
           "color": "#2a3f5f"
          },
          "geo": {
           "bgcolor": "white",
           "lakecolor": "white",
           "landcolor": "#E5ECF6",
           "showlakes": true,
           "showland": true,
           "subunitcolor": "white"
          },
          "hoverlabel": {
           "align": "left"
          },
          "hovermode": "closest",
          "mapbox": {
           "style": "light"
          },
          "paper_bgcolor": "white",
          "plot_bgcolor": "#E5ECF6",
          "polar": {
           "angularaxis": {
            "gridcolor": "white",
            "linecolor": "white",
            "ticks": ""
           },
           "bgcolor": "#E5ECF6",
           "radialaxis": {
            "gridcolor": "white",
            "linecolor": "white",
            "ticks": ""
           }
          },
          "scene": {
           "xaxis": {
            "backgroundcolor": "#E5ECF6",
            "gridcolor": "white",
            "gridwidth": 2,
            "linecolor": "white",
            "showbackground": true,
            "ticks": "",
            "zerolinecolor": "white"
           },
           "yaxis": {
            "backgroundcolor": "#E5ECF6",
            "gridcolor": "white",
            "gridwidth": 2,
            "linecolor": "white",
            "showbackground": true,
            "ticks": "",
            "zerolinecolor": "white"
           },
           "zaxis": {
            "backgroundcolor": "#E5ECF6",
            "gridcolor": "white",
            "gridwidth": 2,
            "linecolor": "white",
            "showbackground": true,
            "ticks": "",
            "zerolinecolor": "white"
           }
          },
          "shapedefaults": {
           "line": {
            "color": "#2a3f5f"
           }
          },
          "ternary": {
           "aaxis": {
            "gridcolor": "white",
            "linecolor": "white",
            "ticks": ""
           },
           "baxis": {
            "gridcolor": "white",
            "linecolor": "white",
            "ticks": ""
           },
           "bgcolor": "#E5ECF6",
           "caxis": {
            "gridcolor": "white",
            "linecolor": "white",
            "ticks": ""
           }
          },
          "title": {
           "x": 0.05
          },
          "xaxis": {
           "automargin": true,
           "gridcolor": "white",
           "linecolor": "white",
           "ticks": "",
           "title": {
            "standoff": 15
           },
           "zerolinecolor": "white",
           "zerolinewidth": 2
          },
          "yaxis": {
           "automargin": true,
           "gridcolor": "white",
           "linecolor": "white",
           "ticks": "",
           "title": {
            "standoff": 15
           },
           "zerolinecolor": "white",
           "zerolinewidth": 2
          }
         }
        },
        "title": {
         "text": "GameId: 2021091203, PlayId: 601<br>06:25 1Q<br><br><br><br><br><br><br><br><br><br><br><br><br><br><br><br><br><br><br>(6:25) (Shotgun) J.Burrow sacked at CIN 36 for -12 yards (N.Vigil)."
        },
        "updatemenus": [
         {
          "buttons": [
           {
            "args": [
             null,
             {
              "frame": {
               "duration": 100,
               "redraw": false
              },
              "fromcurrent": true,
              "transition": {
               "duration": 0
              }
             }
            ],
            "label": "Play",
            "method": "animate"
           },
           {
            "args": [
             [
              null
             ],
             {
              "frame": {
               "duration": 0,
               "redraw": false
              },
              "mode": "immediate",
              "transition": {
               "duration": 0
              }
             }
            ],
            "label": "Pause",
            "method": "animate"
           }
          ],
          "direction": "left",
          "pad": {
           "r": 10,
           "t": 87
          },
          "showactive": false,
          "type": "buttons",
          "x": 0.1,
          "xanchor": "right",
          "y": 0,
          "yanchor": "top"
         }
        ],
        "width": 1200,
        "xaxis": {
         "autorange": false,
         "range": [
          0,
          120
         ],
         "showticklabels": false,
         "tickmode": "array",
         "tickvals": [
          10,
          15,
          20,
          25,
          30,
          35,
          40,
          45,
          50,
          55,
          60,
          65,
          70,
          75,
          80,
          85,
          90,
          95,
          100,
          105,
          110
         ]
        },
        "yaxis": {
         "autorange": false,
         "range": [
          0,
          53.3
         ],
         "showgrid": false,
         "showticklabels": false
        }
       }
      }
     },
     "metadata": {},
     "output_type": "display_data"
    }
   ],
   "source": [
    "playId_num = 601\n",
    "gameId = 2021091203\n",
    "animate_play(week1, plays, players, pffScoutingData, gameId, playId_num).show()"
   ]
  },
  {
   "cell_type": "markdown",
   "metadata": {},
   "source": [
    " ### Write to Excel"
   ]
  },
  {
   "cell_type": "code",
   "execution_count": 115,
   "metadata": {},
   "outputs": [],
   "source": [
    "full_df.to_excel(r\".\\output\\full_df.xlsx\", sheet_name='grades')\n",
    "full_all_player_df.to_excel(r\".\\output\\full_all_player_df_25.xlsx\", sheet_name='indy_scores_25')"
   ]
  }
 ],
 "metadata": {
  "kernelspec": {
   "display_name": "Python 3",
   "language": "python",
   "name": "python3"
  },
  "language_info": {
   "codemirror_mode": {
    "name": "ipython",
    "version": 3
   },
   "file_extension": ".py",
   "mimetype": "text/x-python",
   "name": "python",
   "nbconvert_exporter": "python",
   "pygments_lexer": "ipython3",
   "version": "3.10.0"
  },
  "orig_nbformat": 4,
  "vscode": {
   "interpreter": {
    "hash": "369f2c481f4da34e4445cda3fffd2e751bd1c4d706f27375911949ba6bb62e1c"
   }
  }
 },
 "nbformat": 4,
 "nbformat_minor": 2
}
